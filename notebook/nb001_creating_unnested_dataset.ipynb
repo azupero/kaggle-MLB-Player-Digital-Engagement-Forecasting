{
 "cells": [
  {
   "cell_type": "markdown",
   "source": [
    "# Overview\n",
    "- [Creating Unnested Dataset](https://www.kaggle.com/naotaka1128/creating-unnested-dataset)\n",
    "- ネストされているデータセットをネストせずに操作できるようにする"
   ],
   "metadata": {}
  },
  {
   "cell_type": "code",
   "execution_count": 1,
   "source": [
    "import numpy as np\n",
    "import pandas as pd\n",
    "from pathlib import Path\n",
    "import os\n",
    "\n",
    "INPUT_DIR = \"../input/mlb-player-digital-engagement-forecasting\""
   ],
   "outputs": [],
   "metadata": {}
  },
  {
   "cell_type": "code",
   "execution_count": 2,
   "source": [
    "for dirname, _, filenames in os.walk(Path(INPUT_DIR)):\n",
    "    for filename in filenames:\n",
    "        print(os.path.join(dirname, filename))"
   ],
   "outputs": [
    {
     "output_type": "stream",
     "name": "stdout",
     "text": [
      "../input/mlb-player-digital-engagement-forecasting/teams.csv\n",
      "../input/mlb-player-digital-engagement-forecasting/example_sample_submission.csv\n",
      "../input/mlb-player-digital-engagement-forecasting/.gitkeep\n",
      "../input/mlb-player-digital-engagement-forecasting/players.csv\n",
      "../input/mlb-player-digital-engagement-forecasting/train_updated.csv\n",
      "../input/mlb-player-digital-engagement-forecasting/train.csv\n",
      "../input/mlb-player-digital-engagement-forecasting/example_test.csv\n",
      "../input/mlb-player-digital-engagement-forecasting/seasons.csv\n",
      "../input/mlb-player-digital-engagement-forecasting/awards.csv\n",
      "../input/mlb-player-digital-engagement-forecasting/mlb/competition.cpython-37m-x86_64-linux-gnu.so\n",
      "../input/mlb-player-digital-engagement-forecasting/mlb/__init__.py\n"
     ]
    }
   ],
   "metadata": {}
  },
  {
   "cell_type": "markdown",
   "source": [
    "## utils"
   ],
   "metadata": {}
  },
  {
   "cell_type": "code",
   "execution_count": 3,
   "source": [
    "def reduce_mem_usage(df, verbose=True):\n",
    "    numerics = ['int16', 'int32', 'int64', 'float16', 'float32', 'float64']\n",
    "    start_mem = df.memory_usage().sum() / 1024**2\n",
    "    for col in df.columns:\n",
    "        col_type = df[col].dtypes\n",
    "        if col_type in numerics:\n",
    "            c_min = df[col].min()\n",
    "            c_max = df[col].max()\n",
    "            if str(col_type)[:3] == 'int':\n",
    "                if c_min > np.iinfo(np.int8).min and c_max < np.iinfo(np.int8).max:\n",
    "                    df[col] = df[col].astype(np.int16)\n",
    "                elif c_min > np.iinfo(np.int16).min and c_max < np.iinfo(np.int16).max:\n",
    "                    df[col] = df[col].astype(np.int32)\n",
    "                elif c_min > np.iinfo(np.int32).min and c_max < np.iinfo(np.int32).max:\n",
    "                    df[col] = df[col].astype(np.int64)\n",
    "                elif c_min > np.iinfo(np.int64).min and c_max < np.iinfo(np.int64).max:\n",
    "                    df[col] = df[col].astype(np.int64)\n",
    "            else:\n",
    "                if c_min > np.finfo(np.float16).min and c_max < np.finfo(np.float16).max:\n",
    "                    df[col] = df[col].astype(np.float32)\n",
    "                elif c_min > np.finfo(np.float32).min and c_max < np.finfo(np.float32).max:\n",
    "                    df[col] = df[col].astype(np.float64)\n",
    "                else:\n",
    "                    df[col] = df[col].astype(np.float64)\n",
    "    end_mem = df.memory_usage().sum() / 1024**2\n",
    "    if verbose: print('Mem. usage decreased to {:5.2f} Mb ({:.1f}% reduction)'.format(end_mem, 100 * (start_mem - end_mem) / start_mem))\n",
    "    return df"
   ],
   "outputs": [],
   "metadata": {}
  },
  {
   "cell_type": "markdown",
   "source": [
    "## load data"
   ],
   "metadata": {}
  },
  {
   "cell_type": "code",
   "execution_count": 4,
   "source": [
    "files = [\"seasons\", \"teams\", \"players\", \"awards\", \"example_sample_submission\"]\n",
    "\n",
    "for file in files:\n",
    "    df = pd.read_csv(Path(INPUT_DIR) / f\"{file}.csv\")\n",
    "    reduce_mem_usage(df).to_pickle(Path(INPUT_DIR) / f\"{file}.pickle\", protocol=4)"
   ],
   "outputs": [
    {
     "output_type": "stream",
     "name": "stdout",
     "text": [
      "Mem. usage decreased to  0.00 Mb (3.3% reduction)\n",
      "Mem. usage decreased to  0.00 Mb (16.6% reduction)\n",
      "Mem. usage decreased to  0.17 Mb (10.4% reduction)\n",
      "Mem. usage decreased to  0.52 Mb (14.3% reduction)\n",
      "Mem. usage decreased to  0.14 Mb (50.0% reduction)\n"
     ]
    }
   ],
   "metadata": {}
  },
  {
   "cell_type": "code",
   "execution_count": 5,
   "source": [
    "for file in ['example_test', 'train_updated']:\n",
    "    # drop playerTwitterFollowers, teamTwitterFollowers from example_test\n",
    "    df = pd.read_csv(Path(INPUT_DIR) / f\"{file}.csv\").dropna(axis=1,how='all')\n",
    "    daily_data_nested_df_names = df.drop('date', axis = 1).columns.values.tolist()\n",
    "\n",
    "    for df_name in daily_data_nested_df_names:\n",
    "        date_nested_table = df[['date', df_name]]\n",
    "\n",
    "        date_nested_table = (date_nested_table[\n",
    "          ~pd.isna(date_nested_table[df_name])\n",
    "          ].\n",
    "          reset_index(drop = True)\n",
    "          )\n",
    "\n",
    "        daily_dfs_collection = []\n",
    "\n",
    "        for date_index, date_row in date_nested_table.iterrows():\n",
    "            daily_df = pd.read_json(date_row[df_name])\n",
    "\n",
    "            daily_df['date'] = date_row['date']\n",
    "\n",
    "            daily_dfs_collection = daily_dfs_collection + [daily_df]\n",
    "\n",
    "        # Concatenate all daily dfs into single df for each row\n",
    "        unnested_table = (pd.concat(daily_dfs_collection,\n",
    "          ignore_index = True).\n",
    "          # Set and reset index to move 'dailyDataDate' to front of df\n",
    "          set_index('date').\n",
    "          reset_index()\n",
    "          )\n",
    "        #print(f\"{file}_{df_name}.pickle\")\n",
    "        #display(unnested_table.head(3))\n",
    "        reduce_mem_usage(unnested_table).to_pickle(Path(INPUT_DIR) / f\"{file}_{df_name}.pickle\", protocol=4)\n",
    "        #print('\\n'*2)\n",
    "\n",
    "        # Clean up tables and collection of daily data frames for this df\n",
    "        del(date_nested_table, daily_dfs_collection, unnested_table)"
   ],
   "outputs": [
    {
     "output_type": "stream",
     "name": "stdout",
     "text": [
      "Mem. usage decreased to  0.01 Mb (30.2% reduction)\n",
      "Mem. usage decreased to  0.27 Mb (8.3% reduction)\n",
      "Mem. usage decreased to  0.65 Mb (46.5% reduction)\n",
      "Mem. usage decreased to  0.02 Mb (68.8% reduction)\n",
      "Mem. usage decreased to  0.02 Mb (7.6% reduction)\n",
      "Mem. usage decreased to  0.03 Mb (51.8% reduction)\n",
      "Mem. usage decreased to  0.00 Mb (10.0% reduction)\n",
      "Mem. usage decreased to  6.80 Mb (37.5% reduction)\n",
      "Mem. usage decreased to 101.74 Mb (28.6% reduction)\n",
      "Mem. usage decreased to  1.54 Mb (27.2% reduction)\n",
      "Mem. usage decreased to 66.78 Mb (8.3% reduction)\n",
      "Mem. usage decreased to 77.47 Mb (44.8% reduction)\n",
      "Mem. usage decreased to  1.99 Mb (69.0% reduction)\n",
      "Mem. usage decreased to  4.06 Mb (7.7% reduction)\n",
      "Mem. usage decreased to  3.10 Mb (51.9% reduction)\n",
      "Mem. usage decreased to  0.33 Mb (12.5% reduction)\n",
      "Mem. usage decreased to 804.00 Mb (37.2% reduction)\n",
      "Mem. usage decreased to  2.00 Mb (0.0% reduction)\n",
      "Mem. usage decreased to  0.05 Mb (8.3% reduction)\n"
     ]
    }
   ],
   "metadata": {}
  },
  {
   "cell_type": "code",
   "execution_count": null,
   "source": [],
   "outputs": [],
   "metadata": {}
  }
 ],
 "metadata": {
  "interpreter": {
   "hash": "49e542643694108dbc7cdf9f60531ad0f8dd36c5e7a125d96861557f43e4f65e"
  },
  "kernelspec": {
   "name": "python3",
   "display_name": "Python 3.8.8 64-bit ('.venv': poetry)"
  },
  "language_info": {
   "codemirror_mode": {
    "name": "ipython",
    "version": 3
   },
   "file_extension": ".py",
   "mimetype": "text/x-python",
   "name": "python",
   "nbconvert_exporter": "python",
   "pygments_lexer": "ipython3",
   "version": "3.8.8"
  },
  "orig_nbformat": 4
 },
 "nbformat": 4,
 "nbformat_minor": 2
}