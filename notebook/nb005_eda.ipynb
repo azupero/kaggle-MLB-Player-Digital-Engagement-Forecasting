{
 "cells": [
  {
   "cell_type": "markdown",
   "source": [
    "# Overview\n",
    "- EDA"
   ],
   "metadata": {}
  },
  {
   "cell_type": "code",
   "execution_count": null,
   "source": [
    "import numpy as np\n",
    "import pandas as pd\n",
    "from matplotlib import pyplot as plt\n",
    "import seaborn as sns\n",
    "from plotly import express as px\n",
    "from pathlib import Path\n",
    "pd.options.display.max_columns = 100\n",
    "pd.options.display.max_rows = 100"
   ],
   "outputs": [],
   "metadata": {}
  },
  {
   "cell_type": "markdown",
   "source": [
    "## Config"
   ],
   "metadata": {}
  },
  {
   "cell_type": "code",
   "execution_count": null,
   "source": [
    "class CFG:\n",
    "    INPUT_DIR = \"../input/mlb-player-digital-engagement-forecasting\"\n",
    "    # INPUT_DIR = \"../input/mlb-unnested-dataset\" # for kaggle kernel\n",
    "    OBJECT_ID = [\"playerId\", \"date\"]\n",
    "    TARGETS = [\"target1\", \"target2\", \"target3\", \"target4\"]\n",
    "\n",
    "    # training\n",
    "    ## LightGBM\n",
    "    LGB_PARAMS = {\n",
    "        \"objective\": \"regression\",\n",
    "        \"metric\": \"mae\",\n",
    "        \"boosting_type\": \"gbdt\",\n",
    "        \"learning_rate\": 0.01,\n",
    "        \"max_depth\": 6,\n",
    "        \"num_leaves\": int(64 * 0.8),\n",
    "        \"lambda_l1\": 0.001,\n",
    "        \"lambda_l2\": 0.001,\n",
    "        \"bagging_fraction\": 0.9,\n",
    "        \"bagging_freq\": 3,\n",
    "        \"feature_fraction\": 0.9,\n",
    "        \"min_data_in_leaf\": 20,\n",
    "        \"num_threads\": 8,\n",
    "        \"verbosity\": -1,\n",
    "        \"num_iterations\": 10000,\n",
    "        \"early_stopping_round\": 100,\n",
    "    }\n",
    "    SEEDS = [2434, 42]"
   ],
   "outputs": [],
   "metadata": {}
  },
  {
   "cell_type": "markdown",
   "source": [
    "## Load dataset"
   ],
   "metadata": {}
  },
  {
   "cell_type": "code",
   "execution_count": null,
   "source": [
    "class MLBDataset(object):\n",
    "    def __init__(self, input_path):\n",
    "        self.input_path = Path(input_path)\n",
    "        #################\n",
    "        # train #\n",
    "        #################\n",
    "        self.train_next = pd.read_pickle(self.input_path / \"train_nextDayPlayerEngagement.pickle\")\n",
    "        self.train_rosters = pd.read_pickle(self.input_path / \"train_rosters.pickle\")\n",
    "        self.train_ptf = pd.read_pickle(self.input_path / \"train_playerTwitterFollowers.pickle\")\n",
    "        self.train_scores = pd.read_pickle(self.input_path / \"train_playerBoxScores.pickle\")\n",
    "        self.train_games = pd.read_pickle(self.input_path / \"train_games.pickle\")\n",
    "        self.train_standings = pd.read_pickle(self.input_path / \"train_standings.pickle\")\n",
    "        self.train_tbs = pd.read_pickle(self.input_path / \"train_teamBoxScores.pickle\")\n",
    "        self.train_ttf = pd.read_pickle(self.input_path / \"train_teamTwitterFollowers.pickle\")\n",
    "        self.train_trans = pd.read_pickle(self.input_path / \"train_transactions.pickle\")\n",
    "        self.train_awards = pd.read_pickle(self.input_path / \"train_awards.pickle\")\n",
    "        self.train_events = pd.read_pickle(self.input_path / \"train_events.pickle\")\n",
    "        #################\n",
    "        # Additional #\n",
    "        #################\n",
    "        self.players = pd.read_pickle(self.input_path / \"players.pickle\")\n",
    "        self.awards = pd.read_pickle(self.input_path / \"awards.pickle\")\n",
    "        self.seasons = pd.read_pickle(self.input_path / \"seasons.pickle\")\n",
    "        self.teams = pd.read_pickle(self.input_path / \"teams.pickle\")\n",
    "        #################\n",
    "        # test #\n",
    "        #################\n",
    "        self.example_test = pd.read_csv(self.input_path / \"example_test.csv\")\n",
    "        self.sample_submission = pd.read_csv(self.input_path / \"example_sample_submission.csv\")\n",
    "\n",
    "ds = MLBDataset(CFG.INPUT_DIR)"
   ],
   "outputs": [],
   "metadata": {}
  },
  {
   "cell_type": "markdown",
   "source": [
    "## train_next"
   ],
   "metadata": {}
  },
  {
   "cell_type": "code",
   "execution_count": null,
   "source": [
    "ds.train_next.head()"
   ],
   "outputs": [],
   "metadata": {}
  },
  {
   "cell_type": "markdown",
   "source": [
    "- engagementMetricsDate - 米国太平洋時間に基づくプレーヤーエンゲージメント指標の日付（前日のゲーム、名簿、フィールド統計、トランザクション、賞などと一致します）。\n",
    "- playerId: 選手のユニークID\n",
    "- target1\n",
    "- target2\n",
    "- target3\n",
    "- target4\n",
    "- target1-target4は、0から100のスケールでの日毎のデジタルエンゲージメント"
   ],
   "metadata": {}
  },
  {
   "cell_type": "markdown",
   "source": [
    "## train_games"
   ],
   "metadata": {}
  },
  {
   "cell_type": "code",
   "execution_count": null,
   "source": [
    "ds.train_games.head()"
   ],
   "outputs": [],
   "metadata": {}
  },
  {
   "cell_type": "markdown",
   "source": [
    "- gamePk  : ゲームの一意の識別子。\n",
    "- gameType  : ゲームの種類、さまざまな種類がここにあります。\n",
    "    - [{\"id\":\"S\",\"description\":\"Spring Training\"},{\"id\":\"R\",\"description\":\"Regular Season\"},{\"id\":\"F\",\"description\":\"Wild Card Game\"},{\"id\":\"D\",\"description\":\"Division Series\"},{\"id\":\"L\",\"description\":\"League Championship Series\"},{\"id\":\"W\",\"description\":\"World Series\"},{\"id\":\"C\",\"description\":\"Championship\"},{\"id\":\"N\",\"description\":\"Nineteenth Century Series\"},{\"id\":\"P\",\"description\":\"Playoffs\"},{\"id\":\"A\",\"description\":\"All-Star Game\"},{\"id\":\"I\",\"description\":\"Intrasquad\"},{\"id\":\"E\",\"description\":\"Exhibition\"}]\n",
    "- season :\n",
    "- gameDate :\n",
    "- gameTimeUTC  : UTCでの始球式。\n",
    "- resumeDate  : タイムゲームが再開されました（放棄された場合、それ以外の場合はnull）。\n",
    "- resumedFrom  : タイムゲームは元々放棄されていました（放棄された場合、それ以外の場合はnull）。\n",
    "- codedGameState  : ゲームのステータスコード、さまざまなタイプがここにあります。\n",
    "- detailedGameState  : ゲームのステータス、さまざまな種類がここにあります。\n",
    "- isTie  : ブール値。ゲームが引き分けで終了した場合はtrue。\n",
    "- gameNumber  : ダブルヘッダーを区別するためのゲーム番号フラグ\n",
    "- doubleHeader  : YはDH、Nはシングルゲーム、Sはスプリット\n",
    "- dayNight  : スケジュールされた開始時間の昼または夜のフラグ。\n",
    "- scheduledInnings  : 予定イニング数。\n",
    "- gamesInSeries  : 現在のシリーズのゲーム数。\n",
    "- seriesDescription  : 現在のシリーズのテキスト説明。\n",
    "- homeId  : ホームチームの一意の識別子。\n",
    "- homeName  : ホームチーム名。\n",
    "- homeAbbrev  : ホームチームの略語。\n",
    "- homeWins  : ホームチームのシーズンの現在の勝利数。\n",
    "- homeLosses  : ホームチームのシーズンでの現在の損失数。\n",
    "- homeWinPct  : ホームチームの現在の勝率。\n",
    "- homeWinner  : ブール値。ホームチームが勝った場合はtrue。\n",
    "- homeScore  : ホームチームが得点するラン。\n",
    "- awayId  : アウェイチームの一意の識別子。\n",
    "- awayName  : アウェイチームの一意の識別子。\n",
    "- awayAbbrev  : アウェイチームの略。\n",
    "- awayWins  : アウェイチームのシーズンの現在の勝利数。\n",
    "- awayLosses  : アウェイチームのシーズン中の現在の敗北数。\n",
    "- awayWinPct  : アウェイチームの現在の勝率。\n",
    "- awayWinner  : ブール値。離れたチームが勝った場合はtrue。\n",
    "- awayScore  : アウェイチームが得点したラン。"
   ],
   "metadata": {}
  },
  {
   "cell_type": "markdown",
   "source": [
    "## train_rosters"
   ],
   "metadata": {}
  },
  {
   "cell_type": "code",
   "execution_count": null,
   "source": [
    "ds.train_rosters.head()"
   ],
   "outputs": [],
   "metadata": {}
  },
  {
   "cell_type": "markdown",
   "source": [
    "- playerId: プレーヤーの一意の識別子。\n",
    "- gameDate: 試合日時 \n",
    "- teamI: -そのプレーヤーがその日にいるteamId。\n",
    "- statusCode: 名簿ステータスの略語。\n",
    "- status: 説明的な名簿のステータス。"
   ],
   "metadata": {}
  },
  {
   "cell_type": "markdown",
   "source": [
    "## train_playerBoxScores"
   ],
   "metadata": {}
  },
  {
   "cell_type": "code",
   "execution_count": null,
   "source": [
    "ds.train_scores[ds.train_scores[\"playerName\"] == \"Shohei Ohtani\"].head(10).T"
   ],
   "outputs": [],
   "metadata": {}
  },
  {
   "cell_type": "markdown",
   "source": [
    "- home  : バイナリ、ホームチームの場合は1、離れている場合は0。\n",
    "- gamePk  : ゲームの一意の識別子。\n",
    "- gameDate :\n",
    "- gameTimeUTC  : UTCでの始球式。\n",
    "- teamId  : チームの一意の識別子。\n",
    "- teamName :\n",
    "- playerId  : プレーヤーの一意の識別子。\n",
    "- playerName :\n",
    "- jerseyNum : 背番号\n",
    "- positionCode  : 番号の位置コード、詳細はこちらです。\n",
    "- positionName  : テキスト位置の表示、詳細はこちらです。\n",
    "- positionType  : ポジショングループ、詳細はこちらです。\n",
    "- battingOrder  : 形式：「###」。最初の桁は打順スポットを示し、次の2桁はそのプレーヤーがその打順スポットを占めた順序を示します。例：「300」は、打順の3番目のスポットのスターターを示します。 4人目（900、901、902以降）が打順9位を占めることを示す「903」。ゲームに登場した場合にのみ入力されます。\n",
    "- gamesPlayedBatting  : プレーヤーが打者、ランナー、または野手としてゲームに参加した場合は1。\n",
    "- flyOuts  : ゲームの合計フライアウト。\n",
    "- groundOuts  : ゲームのトータルグラウンドアウト。\n",
    "- runsScored  : ゲームの合計ランが記録されました。\n",
    "- doubles  : ゲームの合計二塁打。\n",
    "- triples  : ゲームの合計三塁打。\n",
    "- homeRuns  : ゲームの総本塁打。\n",
    "- strikeOuts  : ゲームの合計三振。\n",
    "- baseOnBalls  : ゲームの合計四球数。\n",
    "- intentionalWalks  : ゲームの故意四球。\n",
    "- hits  : ゲームの総ヒット数。\n",
    "- hitByPitch  : 死球数。\n",
    "- atBats  : ゲームの打数。\n",
    "- caughtStealing  : ゲームの合計が盗塁をキャッチしました。\n",
    "- stolenBases  : ゲームの盗塁総数。\n",
    "- groundIntoDoublePlay  : ゲームの合計併殺。\n",
    "- groundIntoTriplePlay  : ゲームの合計トリプルプレイ。\n",
    "- plateAppearances  : ゲームの打席数。\n",
    "- totalBases  : ゲームのトータル塁打数。\n",
    "- rbi  : ゲームの合計打点。\n",
    "- leftOnBase  : ゲームの総残塁数。\n",
    "- sacBunts  : ゲームの合計犠牲バント。\n",
    "- sacFlies  : ゲームの総犠牲フライ。\n",
    "- catchersInterference  : ゲームのトータルキャッチャーの干渉が発生しました。\n",
    "- pickoffs  : ゲームの合計回数がベースから外れました。\n",
    "- gamesPlayedPitching : バイナリ、プレーヤーが投手としてゲームに参加した場合は 1。\n",
    "- gamesStartedPitching : バイナリ、プレーヤーがゲームの先発投手だった場合は1。\n",
    "- completeGamesPitching  : バイナリ、完投でクレジットされている場合は1。\n",
    "- shutoutsPitching  : バイナリ、完封でクレジットされている場合は1。\n",
    "- winsPitching  : バイナリ、勝利でクレジットされている場合は 1。\n",
    "- lossesPitching  : バイナリ、損失がクレジットされている場合は1。\n",
    "- flyOutsPitching  : 許可されたフライアウトのゲーム合計。\n",
    "- airOutsPitching  : エアアウト（フライアウト+ポップアウト）のゲーム合計が許可されます。\n",
    "- groundOutsPitching  : ゲームの合計グラウンドアウトが許可されます。\n",
    "- runsPitching  : ゲームの合計実行が許可されます。\n",
    "- doublesPitching  : ゲームの合計は2倍になります。\n",
    "- triplesPitching  : ゲームの合計トリプルが許可されます。\n",
    "- homeRunsPitching  : ゲームの合計ホームランが許可されます。\n",
    "- strikeOutsPitching  : ゲームの合計三振が許可されます。\n",
    "- baseOnBallsPitching  : ゲームの合計歩行が許可されます。\n",
    "- intentionalWalksPitching  : ゲームの故意四球の合計が許可されます。\n",
    "- hitsPitching  : 許可されるゲームの合計ヒット数。\n",
    "- hitByPitchPitching  : 許可されたピッチによるゲームの合計ヒット。\n",
    "- atBatsPitching  : でのゲーム合計\n",
    "- caughtStealingPitching  : ゲームの合計は、盗みをキャッチしました。\n",
    "- stolenBasesPitching  : ゲームの盗塁の合計は許可されます。\n",
    "- inningsPitched  : ゲームの総投球回。\n",
    "- saveOpportunities  : バイナリ、保存の機会がある場合は1。\n",
    "- earnedRuns  : ゲームの合計自責点は許可されています。\n",
    "- battersFaced  : 直面したゲームの総打者。\n",
    "- outsPitching  : ゲームの合計アウトが記録されました。\n",
    "- pitchesThrown  : 投げられた投球のゲーム総数。\n",
    "- balls  : 投げられたゲームの合計ボール。\n",
    "- strikes  : スローされたゲームの合計ストライク。\n",
    "- hitBatsmen  : ゲームの総死球打者。\n",
    "- balks  : ゲームの合計はボークします。\n",
    "- wildPitches  : 投げられた暴投のゲーム総数。\n",
    "- pickoffsPitching  : ゲームのピックオフの総数。\n",
    "- rbiPitching  : 打点のゲーム総数は許可されています。\n",
    "- inheritedRunners  : 継承されたランナーのゲーム合計を想定。\n",
    "- inheritedRunnersScored : 得点した継承されたランナーのゲーム合計。\n",
    "- catchersInterferencePitching  : キャッチャーの干渉のゲーム合計はバッテリーによって発生しました。\n",
    "- sacBuntsPitching  : ゲームの犠牲バントの合計が許可されます。\n",
    "- sacFliesPitching  : ゲームの犠牲フライは許可されています。\n",
    "- saves  : バイナリ、保存でクレジットされている場合は1。\n",
    "- holds  : バイナリ、保留がクレジットされている場合は1。\n",
    "- blownSaves  : バイナリ、ブローセーブでクレジットされている場合は1。\n",
    "- assists  : ゲームのアシスト総数。\n",
    "- putOuts  : ゲームの刺殺の総数。\n",
    "- errors  : ゲームのエラーの総数。\n",
    "- chances  : ゲームのトータルフィールディングチャンス。"
   ],
   "metadata": {}
  },
  {
   "cell_type": "markdown",
   "source": [
    "## train_teamBoxScores"
   ],
   "metadata": {}
  },
  {
   "cell_type": "code",
   "execution_count": null,
   "source": [
    "ds.train_tbs.head().T"
   ],
   "outputs": [],
   "metadata": {}
  },
  {
   "cell_type": "markdown",
   "source": [
    "- home  : バイナリ、ホームチームの場合は1、離れている場合は0。\n",
    "- teamId  : チームの一意の識別子。\n",
    "- gamePk  : ゲームの一意の識別子。\n",
    "- gameDate :\n",
    "- gameTimeUTC  : UTCでの始球式。\n",
    "- flyOuts  : ゲームの合計フライアウト。\n",
    "- groundOuts  : ゲームのトータルグラウンドアウト。\n",
    "- runsScored  : ゲームの合計ランが記録されました。\n",
    "- doubles  : ゲームの合計は2倍です。\n",
    "- triples  : ゲームの合計トリプル。\n",
    "- homeRuns  : ゲームの総本塁打。\n",
    "- strikeOuts  : ゲームの合計三振。\n",
    "- baseOnBalls  : ゲームの合計ウォーク。\n",
    "- intentionalWalks  : ゲームの故意四球。\n",
    "- hits  : ゲームの総ヒット数。\n",
    "- hitByPitch  : ピッチによるゲームの合計ヒット。\n",
    "- atBats  : でのゲーム合計\n",
    "- caughtStealing  : ゲームの合計が盗塁をキャッチしました。\n",
    "- stolenBases  : ゲームの盗塁総数。\n",
    "- groundIntoDoublePlay  : ゲームの合計併殺はに基づいています。\n",
    "- groundIntoTriplePlay  : ゲームの合計 3 回プレイが基礎になります。\n",
    "- plateAppearances  : ゲームの総打席。\n",
    "- totalBases  : ゲームの総拠点数。\n",
    "- rbi  : ゲームの合計打点。\n",
    "- leftOnBase  : ゲームの総ランナーはベースに残った。\n",
    "- sacBunts  : ゲームの合計犠牲バント。\n",
    "- sacFlies  : ゲームの総犠牲フライ。\n",
    "- catchersInterference  : ゲームのトータルキャッチャーの干渉が発生しました。\n",
    "- pickoffs  : ゲームの合計回数がベースから外れました。\n",
    "- airOutsPitching  : エアアウト（フライアウト+ポップアウト）のゲーム合計が許可されます。\n",
    "- groundOutsPitching  : ゲームの合計グラウンドアウトが許可されます。\n",
    "- runsPitching  : ゲームの合計実行が許可されます。\n",
    "- doublesPitching  : ゲームの合計は2倍になります。\n",
    "- triplesPitching  : ゲームの合計トリプルが許可されます。\n",
    "- homeRunsPitching  : ゲームの合計ホームランが許可されます。\n",
    "- strikeOutsPitching  : ゲームの合計三振が許可されます。\n",
    "- baseOnBallsPitching  : ゲームの合計歩行が許可されます。\n",
    "- intentionalWalksPitching  : ゲームの故意四球の合計が許可されます。\n",
    "- hitsPitching  : 許可されるゲームの合計ヒット数。\n",
    "- hitByPitchPitching  : 許可されたピッチによるゲームの合計ヒット。\n",
    "- atBatsPitching  : でのゲーム合計\n",
    "- caughtStealingPitching  : ゲームの合計は、盗みをキャッチしました。\n",
    "- stolenBasesPitching  : ゲームの盗塁の合計は許可されます。\n",
    "- inningsPitched  : ゲームの総投球回。\n",
    "- earnedRuns  : ゲームの合計自責点は許可されています。\n",
    "- battersFaced  : 直面したゲームの総打者。\n",
    "- outsPitching  : ゲームの合計アウトが記録されました。\n",
    "- hitBatsmen  : ゲームの総死球打者。\n",
    "- balks  : ゲームの合計はボークします。\n",
    "- wildPitches  : 投げられた暴投のゲーム総数。\n",
    "- pickoffsPitching  : ゲームのピックオフの総数。\n",
    "- rbiPitching  : 打点のゲーム総数は許可されています。\n",
    "- inheritedRunners  : 継承されたランナーのゲーム合計を想定。\n",
    "- inheritedRunnersScored : 得点した継承されたランナーのゲーム合計。\n",
    "- catchersInterferencePitching  : キャッチャーの干渉のゲーム合計はバッテリーによって発生しました。\n",
    "- sacBuntsPitching  : ゲームの犠牲バントの合計が許可されます。\n",
    "- sacFliesPitching  : ゲームの犠牲フライは許可されています。"
   ],
   "metadata": {}
  },
  {
   "cell_type": "markdown",
   "source": [
    "## train_transactions"
   ],
   "metadata": {}
  },
  {
   "cell_type": "code",
   "execution_count": null,
   "source": [
    "ds.train_trans.head().T"
   ],
   "outputs": [],
   "metadata": {}
  },
  {
   "cell_type": "markdown",
   "source": [
    "- transactionId  : トランザクションの一意の識別子。\n",
    "- playerId  : プレーヤーの一意の識別子。\n",
    "- playerName :\n",
    "- date :\n",
    "- fromTeamId  : プレーヤーの出身チームの一意の識別子。\n",
    "- fromTeamName :\n",
    "- toTeamId  : プレーヤーが行くチームの一意の識別子。\n",
    "- toTeamName :\n",
    "- effectiveDate :\n",
    "- resolutionDate :\n",
    "- typeCode  : トランザクションステータスの略語。\n",
    "- typeDesc  : トランザクションステータスの説明。\n",
    "- description  : トランザクションのテキスト説明。"
   ],
   "metadata": {}
  },
  {
   "cell_type": "markdown",
   "source": [
    "## train_standings"
   ],
   "metadata": {}
  },
  {
   "cell_type": "code",
   "execution_count": null,
   "source": [
    "ds.train_standings.head().T"
   ],
   "outputs": [],
   "metadata": {}
  },
  {
   "cell_type": "markdown",
   "source": [
    "- season :\n",
    "- gameDate :\n",
    "- divisionId  : このチームが所属する部門を表す一意識別子。\n",
    "- teamId  : チームの一意の識別子。\n",
    "- teamName :\n",
    "- streakCode  : チームの現在の勝ち負けの連続の略語。最初の文字は勝ち負けを示し、数字はゲームの数です。\n",
    "- divisionRank  : チームの部門における現在のランク。\n",
    "- leagueRank  : リーグでのチームの現在のランク。\n",
    "- wildCardRank  : ワイルドカードバースのチームの現在のランク。\n",
    "- leagueGamesBack  : ゲームはチームのリーグに戻ります。\n",
    "- sportGamesBack  : MLBのすべてに戻ってゲーム。\n",
    "- divisionGamesBack  : チームの部門にゲームが戻ってきました。\n",
    "- wins  : 現在の勝利。\n",
    "- losses  : 現在の損失。\n",
    "- pct  : 現在の勝率。\n",
    "- runsAllowed  : シーズン中に許可された実行。\n",
    "- runsScored  : シーズンに得点したラン。\n",
    "- divisionChamp  : チームが部門タイトルを獲得した場合はtrue。\n",
    "- divisionLeader  : チームがディビジョンレースをリードしている場合はtrue。\n",
    "- wildCardLeader  : チームがワイルドカードリーダーの場合はtrue。\n",
    "- eliminationNumber  : ディビジョンレースから排除されるまでのゲーム数（チームの敗北+対戦相手の勝利）。\n",
    "- wildCardEliminationNumber  : ワイルドカードレースから排除されるまでのゲーム数（チームの敗北+対戦相手の勝利）。\n",
    "- homeWins  : ホームはシーズンに勝ちます。\n",
    "- homeLosses  : シーズン中のホームロス。\n",
    "- awayWins  : アウェイはシーズンに勝ちます。\n",
    "- awayLosses  : シーズンのアウェイロス。\n",
    "- lastTenWins  : 過去10試合で勝ちました。\n",
    "- lastTenLosses  : 過去10試合で負けました。\n",
    "- extraInningWins  : シーズンの追加イニングで勝ちます。\n",
    "- extraInningLosses  : シーズンの追加イニングでの損失。\n",
    "- oneRunWins  : シーズン中に1ランで勝ちます。\n",
    "- oneRunLosses  : シーズン中に1ランで負けます。\n",
    "- dayWins  : デイゲームはシーズンに勝ちます。\n",
    "- dayLosses Day game losses on the season. :\n",
    "- nightWins  : ナイトゲームはシーズンに勝ちます。\n",
    "- nightLosses  : シーズン中のナイトゲームの敗北。\n",
    "- grassWins  : 芝生のフィールドがシーズンに勝ちます。\n",
    "- grassLosses  : 季節の草地の損失。\n",
    "- turfWins  : 芝フィールドはシーズンに勝ちます。\n",
    "- turfLosses  : シーズン中の芝フィールドの損失。\n",
    "- divWins  : シーズン中にディビジョンの対戦相手に勝ちます。\n",
    "- divLosses  : シーズン中のディビジョンの対戦相手に対する敗北。\n",
    "- alWins  : シーズン中にALチームに勝ちます。\n",
    "- alLosses  : シーズン中のALチームに対する敗北。\n",
    "- nlWins  : シーズン中にNLチームに勝ちます。\n",
    "- nlLosses  : シーズン中のNLチームに対する敗北。\n",
    "- xWinLossPct  : スコアリングおよび許可されたランに基づく予想勝率."
   ],
   "metadata": {}
  },
  {
   "cell_type": "markdown",
   "source": [
    "## train_awards"
   ],
   "metadata": {}
  },
  {
   "cell_type": "code",
   "execution_count": null,
   "source": [
    "ds.train_awards.head()"
   ],
   "outputs": [],
   "metadata": {}
  },
  {
   "cell_type": "markdown",
   "source": [
    "- awardId :\n",
    "- awardName :\n",
    "- awardDate  : 日付賞が与えられました。\n",
    "- awardSeason  : シーズンアワードはからでした。\n",
    "- playerId  : プレーヤーの一意の識別子。\n",
    "- playerName :\n",
    "- awardPlayerTeamId :"
   ],
   "metadata": {}
  },
  {
   "cell_type": "markdown",
   "source": [
    "## train_events"
   ],
   "metadata": {}
  },
  {
   "cell_type": "code",
   "execution_count": null,
   "source": [
    "ds.train_events[(ds.train_events[\"hitterName\"] == \"Shohei Ohtani\") & (ds.train_events[\"gamePk\"] == 529412)].sort_values(\"inning\").head(10).T"
   ],
   "outputs": [],
   "metadata": {}
  },
  {
   "cell_type": "markdown",
   "source": [
    "- gamePk  : ゲームの一意の識別子。\n",
    "- gameDate :\n",
    "- gameTimeUTC  : UTCでの始球式。\n",
    "- season :\n",
    "- gameType  : ゲームの種類、さまざまな種類がここにあります。\n",
    "- playId  : スタットキャストのプレイガイド。\n",
    "- eventId :\n",
    "- inning  : イニングABが発生しました。\n",
    "- halfInning : 「上」または「下」のイニングインジケーター。\n",
    "- homeScore  : イベント開始時のホームスコア。\n",
    "- awayScore  : イベント開始時のアウェイスコア。\n",
    "- menOnBase  : 走者がベースにいる場合に使用されるスプリット–すなわち（RISP、空）。\n",
    "- atBatIndex  : で\n",
    "- atBatDesc  : 演奏する\n",
    "- atBatEvent  : atBatのイベントタイプの結果。さまざまなタイプがここにあります。\n",
    "- hasOut  : バイナリ、ランナーが場に出ている場合は1。\n",
    "- pitcherTeamId  : ピッチングチームの一意の識別子。\n",
    "- isPitcherHome  : バイナリ、投手がホームチームの場合は1。\n",
    "- pitcherTeam  : ピッチングチームのチーム名。\n",
    "- hitterTeamId  : 打撃チームの一意の識別子。\n",
    "- hitterTeam  : 打撃チームのチーム名。\n",
    "- pitcherId :\n",
    "- pitcherName :\n",
    "- isStarter  : バイナリ、プレーヤーがゲームの先発投手だった場合は1。\n",
    "- pitcherHand  : プレーヤーが手を投げる：「L」、「R」。\n",
    "- hitterId :\n",
    "- hitterName :\n",
    "- batSide  : プレーヤーのバット側：「L」、「R」。\n",
    "- pitchNumber  : ABのピッチシーケンス番号。\n",
    "- balls  : イベント後のボール数。\n",
    "- strikes  : イベント後のストライクカウント。\n",
    "- isGB  : バイナリ、打席がグラウンドボールの場合は1。\n",
    "- isLD  : バイナリ、打席がラインドライブの場合は1。\n",
    "- isFB  : バイナリ、打席が飛球の場合は1。\n",
    "- isPU  : バイナリ、打席がポップアップの場合は1。\n",
    "- launchSpeed  : 打球の測定速度。\n",
    "- launchAngle  : ヒットが開始された地平線に対する垂直角度。\n",
    "- totalDistance  : ボールが移動した合計距離。\n",
    "- event  : で発生する可能性のあるイベント\n",
    "- description  : イベントのテキスト説明。\n",
    "- rbi  : AB中に打点を打った回数。\n",
    "- pitchType  : ピッチタイプ分類コード。さまざまなタイプがここにあります。\n",
    "- call  : 投球または投球の結果分類コード。さまざまなタイプがここにあります。\n",
    "- outs  : ABの現在/最終アウト。\n",
    "- inPlay  : ボールが場に出た場合は真/偽。\n",
    "- isPaOver  : バイナリ、このイベントがプレートの外観の終わりである場合は1。\n",
    "- startSpeed  : ホームプレートの前50フィートでのボールのMPHでの速度。\n",
    "- endSpeed  : ボールがホームプレートの前端（x軸で0,0）を横切るときのボールのMPHでの速度。\n",
    "- nastyFactor  : 各ピッチのいくつかのプロパティを評価し、ピッチの「不快感」を0からのスケールで評価します\n",
    "- breakAngle  : ピッチの平面が垂直から外れる時計回り（打者の視点）の角度。\n",
    "- breakLength  : ピッチがピッチ開始とピッチ終了の間の直線から離れる最大距離。\n",
    "- breakY  : ブレークが最大のホームプレートからの距離。\n",
    "- spinRate  : ピッチャーによってRPMでリリースされた後のボールのスピン率。\n",
    "- spinDirection  : スピンがボールの弾道にどのように影響するかを反映する角度として与えられる、リリース時のボールの回転軸。ピュアバック\n",
    "- pX  : ボールがホームプレートの前軸と交差するときのボールのフィート単位の水平位置。\n",
    "- pZ  : ボールがホームプレートの前軸と交差するときの、ボールのホームプレートからのフィート単位の垂直位置。\n",
    "- X  : z軸のボール加速度。\n",
    "- aY  : y軸のボール加速度。\n",
    "- aZ  : z 軸上のボールの加速度。\n",
    "- pfxX  : インチ単位のボールの水平方向の動き。\n",
    "- pfxZ  : インチ単位のボールの垂直方向の動き。\n",
    "- vX0  : x軸からのボールの速度。\n",
    "- vY0  : y軸からのボールの速度。 0,0,0 はバッターの後ろにあり、ボールはピッチャー マウンドから 0,0,0 に向かって移動するため、これは負です。\n",
    "- vZ0  : z軸からのボールの速度。\n",
    "- x  : ピッチがホームプレートの前を横切ったX座標。\n",
    "- y  : ピッチがホームプレートの前面と交差するY座標。\n",
    "- x0  : ピッチャーの手を離したときのボールの x 軸上の座標位置 (時間 = 0)。\n",
    "- y0  : y軸上でピッチャーの手からボールがリリースされたポイントでのボールの座標位置（時間= 0）。\n",
    "- z0  : z軸上でピッチャーの手からボールがリリースされたポイントでのボールの座標位置（時間= 0）。\n",
    "- type  : 「ピッチ」または「アクション」のいずれかのイベントのタイプ\n",
    "- zone  : ゾーンロケーション番号.下を参照"
   ],
   "metadata": {}
  },
  {
   "cell_type": "markdown",
   "source": [
    "## train_playerTwitterFollowers"
   ],
   "metadata": {}
  },
  {
   "cell_type": "code",
   "execution_count": null,
   "source": [
    "ds.train_ptf.head()"
   ],
   "outputs": [],
   "metadata": {}
  },
  {
   "cell_type": "markdown",
   "source": [
    "- date  : フォロワー数の日付。\n",
    "- playerId  : プレーヤーの一意の識別子。\n",
    "- playerName :\n",
    "- accountName  : プレイヤーのTwitterアカウントの名前。\n",
    "- twitterHandle  : プレイヤーのツイッターハンドル。\n",
    "- numberOfFollowers  : フォロワー数"
   ],
   "metadata": {}
  },
  {
   "cell_type": "markdown",
   "source": [
    "## train_teamTwitterFollowers"
   ],
   "metadata": {}
  },
  {
   "cell_type": "code",
   "execution_count": null,
   "source": [
    "ds.train_ttf.head()"
   ],
   "outputs": [],
   "metadata": {}
  },
  {
   "cell_type": "markdown",
   "source": [
    "- date  : フォロワー数の日付。\n",
    "- teamId  : チームの一意の識別子。\n",
    "- teamName :\n",
    "- accountName  : チームのTwitterアカウントの名前。\n",
    "- twitterHandle  : チームのツイッターハンドル。"
   ],
   "metadata": {}
  },
  {
   "cell_type": "markdown",
   "source": [
    "## seasons"
   ],
   "metadata": {}
  },
  {
   "cell_type": "code",
   "execution_count": null,
   "source": [
    "ds.seasons.head().T"
   ],
   "outputs": [],
   "metadata": {}
  },
  {
   "cell_type": "markdown",
   "source": [
    "- seasonId : シーズンID\n",
    "- seasonStartDate : シーズンスタート日\n",
    "- seasonEndDate : シーズン終了日\n",
    "- preSeasonStartDate : 1つ前のシーズンスタート日\n",
    "- preSeasonEndDate : 1つ前のシーズンの終わりの日\n",
    "- regularSeasonStartDate : レギュラーシーズンのスタートの日\n",
    "- regularSeasonEndDate : レギュラーシーズンの終わりの日\n",
    "- lastDate1stHalf : 1st halfの最終日\n",
    "- allStarDate : オールスター戦の日付\n",
    "- firstDate2ndHalf : 2nd halfの始まり日\n",
    "- postSeasonStartDate : 次のシーズンのスタート日\n",
    "- postSeasonEndDate : 次のシーズンの終わり日"
   ],
   "metadata": {}
  },
  {
   "cell_type": "markdown",
   "source": [
    "## teams"
   ],
   "metadata": {}
  },
  {
   "cell_type": "code",
   "execution_count": null,
   "source": [
    "ds.teams.head()"
   ],
   "outputs": [],
   "metadata": {}
  },
  {
   "cell_type": "markdown",
   "source": [
    "- id : チームID\n",
    "- name : 名前\n",
    "- teamName : チームの名前\n",
    "- teamCode : チームのコード\n",
    "- shortName : 短い名前\n",
    "- abbreviation : 略語\n",
    "- locationName : 場所の名前\n",
    "- leagueId : リーグのid\n",
    "- leagueName : リーグの名前\n",
    "- divisionId : 部門id\n",
    "- divisionName : 部門名\n",
    "- venueId : 会場id\n",
    "- venueName : 会場名"
   ],
   "metadata": {}
  },
  {
   "cell_type": "markdown",
   "source": [
    "## players"
   ],
   "metadata": {}
  },
  {
   "cell_type": "code",
   "execution_count": null,
   "source": [
    "ds.players.head()"
   ],
   "outputs": [],
   "metadata": {}
  },
  {
   "cell_type": "markdown",
   "source": [
    "- playerId - Unique identifier for a player. : プレーヤーID-プレーヤーの一意の識別子。\n",
    "- playerName : プレーヤの名前\n",
    "- DOB - Player’s date of birth. : DOB-プレーヤーの生年月日。\n",
    "- mlbDebutDate : MLBデビュー日\n",
    "- birthCity : 生まれた町\n",
    "- birthStateProvince : 出生州\n",
    "- birthCountry : 生まれた国\n",
    "- heightInches : 身長(inch)\n",
    "- weight : 体重\n",
    "- primaryPositionCode - Player’s primary position code : 主要ポジションコード\n",
    "- primaryPositionName - player’s primary position : 主要ポジション名\n",
    "- playerForTestSetAndFuturePreds - Boolean, true if player is among those for whom predictions are to be made in test data"
   ],
   "metadata": {}
  },
  {
   "cell_type": "markdown",
   "source": [
    "## awards"
   ],
   "metadata": {}
  },
  {
   "cell_type": "code",
   "execution_count": null,
   "source": [
    "ds.awards.head()"
   ],
   "outputs": [],
   "metadata": {}
  },
  {
   "cell_type": "markdown",
   "source": [
    "このファイルには、日次データの開始前（つまり、2018年以前）にトレーニングセットのプレーヤーが獲得した賞が含まれています。\n",
    "- awardDate - Date award was given. : 授与日 - 授与された日付。\n",
    "- awardSeason - Season award was from. : アワードシーズン-シーズンアワードはからでした。\n",
    "- awardId : アワードid\n",
    "- awardName : アワード名\n",
    "- playerId - Unique identifier for a player. : プレーヤーID-プレーヤーの一意の識別子。\n",
    "- playerName : プレーヤーの名前\n",
    "- awardPlayerTeamId : プレイヤーのチームID"
   ],
   "metadata": {}
  },
  {
   "cell_type": "markdown",
   "source": [
    "## Target distribution"
   ],
   "metadata": {}
  },
  {
   "cell_type": "code",
   "execution_count": null,
   "source": [
    "for col in CFG.TARGETS:\n",
    "    fig = px.histogram(ds.train_next[col], width=1250)\n",
    "    fig.show()\n",
    "    break"
   ],
   "outputs": [],
   "metadata": {}
  },
  {
   "cell_type": "code",
   "execution_count": null,
   "source": [],
   "outputs": [],
   "metadata": {}
  }
 ],
 "metadata": {
  "orig_nbformat": 4,
  "language_info": {
   "name": "python"
  }
 },
 "nbformat": 4,
 "nbformat_minor": 2
}