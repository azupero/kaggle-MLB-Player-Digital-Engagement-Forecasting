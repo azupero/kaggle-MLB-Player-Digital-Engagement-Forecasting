{
 "cells": [
  {
   "cell_type": "markdown",
   "source": [
    "# Overview\n",
    "- LightGBM"
   ],
   "metadata": {}
  },
  {
   "cell_type": "code",
   "execution_count": 1,
   "source": [
    "import numpy as np\n",
    "import pandas as pd\n",
    "from pathlib import Path\n",
    "from sklearn.metrics import mean_absolute_error\n",
    "from datetime import timedelta\n",
    "from tqdm.notebook import tqdm\n",
    "import lightgbm as lgb\n",
    "from typing import List, Union, Optional\n",
    "import time\n",
    "from contextlib import contextmanager\n",
    "import sys\n",
    "import logging\n",
    "import category_encoders as ce\n",
    "import plotly\n",
    "from plotly import express as px\n",
    "# import mlb\n",
    "\n",
    "pd.options.display.max_columns = 100"
   ],
   "outputs": [],
   "metadata": {}
  },
  {
   "cell_type": "markdown",
   "source": [
    "## Config"
   ],
   "metadata": {}
  },
  {
   "cell_type": "code",
   "execution_count": 2,
   "source": [
    "class CFG:\n",
    "    ######################\n",
    "    # global #\n",
    "    ######################\n",
    "    INPUT_DIR = \"../input/mlb-player-digital-engagement-forecasting\"\n",
    "    # INPUT_DIR = \"../input/mlb-unnested-dataset\" # for kaggle kernel\n",
    "    OBJECT_ID = [\"playerId\", \"date\"]\n",
    "    TARGETS = [\"target1\", \"target2\", \"target3\", \"target4\"]\n",
    "    ######################\n",
    "    # model #\n",
    "    ######################\n",
    "    LGB_PARAMS = {\n",
    "        \"objective\": \"mae\",\n",
    "        \"boosting_type\": \"gbdt\",\n",
    "        \"learning_rate\": 0.1,\n",
    "        \"max_depth\": 6,\n",
    "        \"num_leaves\": int(2 ** 6 * 0.8),\n",
    "        \"lambda_l1\": 0.1,\n",
    "        \"lambda_l2\": 0.1,\n",
    "        \"bagging_fraction\": 0.9,\n",
    "        \"bagging_freq\": 3,\n",
    "        \"feature_fraction\": 0.9,\n",
    "        \"min_data_in_leaf\": 20,\n",
    "        \"num_threads\": 8,\n",
    "        \"verbosity\": -1,\n",
    "        \"num_iterations\": 10000,\n",
    "        \"early_stopping_round\": 100,\n",
    "    }\n",
    "    SEEDS = [2434, 98]"
   ],
   "outputs": [],
   "metadata": {}
  },
  {
   "cell_type": "markdown",
   "source": [
    "## Utils"
   ],
   "metadata": {}
  },
  {
   "cell_type": "code",
   "execution_count": 3,
   "source": [
    "def get_logger(out_file=None):\n",
    "    logger = logging.getLogger()  # loggerの呼び出し\n",
    "    formatter = logging.Formatter(\"[%(asctime)s] [%(levelname)s] [%(message)s]\")  # ログ出力の際のフォーマットを定義\n",
    "    logger.handlers = []  # ハンドラーを追加するためのリスト\n",
    "    logger.setLevel(logging.INFO)  # ロギングのレベルを設定, 'INFO' : 想定された通りのことが起こったことの確認\n",
    "\n",
    "    handler = logging.StreamHandler(sys.stdout)  # StreamHandler(コンソールに出力するハンドラ)を追加\n",
    "    handler.setFormatter(formatter)\n",
    "    handler.setLevel(logging.INFO)\n",
    "    logger.addHandler(handler)\n",
    "\n",
    "    # ログをファイルとして出力する際のハンドラ(FileHandler)\n",
    "    if out_file is not None:\n",
    "        fh = logging.FileHandler(out_file)\n",
    "        fh.setFormatter(formatter)\n",
    "        fh.setLevel(logging.INFO)\n",
    "        logger.addHandler(fh)\n",
    "\n",
    "    logger.info(\"logger set up\")  # \"logger set up\"を表示\n",
    "    return logger\n",
    "\n",
    "\n",
    "@contextmanager\n",
    "def timer(name: str, logger: Optional[logging.Logger] = None):\n",
    "    t0 = time.time()\n",
    "    msg = f\"<{name}> start\"\n",
    "    if logger is None:\n",
    "        print(msg)\n",
    "    else:\n",
    "        logger.info(msg)\n",
    "    yield\n",
    "\n",
    "    msg = f\"<{name}> done in {time.time() - t0:.2f} s\"\n",
    "    if logger is None:\n",
    "        print(msg)\n",
    "    else:\n",
    "        logger.info(msg)\n",
    "\n",
    "\n",
    "def reduce_mem_usage(df, verbose=True):\n",
    "    numerics = ['int16', 'int32', 'int64', 'float16', 'float32', 'float64']\n",
    "    start_mem = df.memory_usage().sum() / 1024**2\n",
    "    for col in df.columns:\n",
    "        col_type = df[col].dtypes\n",
    "        if col_type in numerics:\n",
    "            c_min = df[col].min()\n",
    "            c_max = df[col].max()\n",
    "            if str(col_type)[:3] == 'int':\n",
    "                if c_min > np.iinfo(np.int8).min and c_max < np.iinfo(np.int8).max:\n",
    "                    df[col] = df[col].astype(np.int16)\n",
    "                elif c_min > np.iinfo(np.int16).min and c_max < np.iinfo(np.int16).max:\n",
    "                    df[col] = df[col].astype(np.int32)\n",
    "                elif c_min > np.iinfo(np.int32).min and c_max < np.iinfo(np.int32).max:\n",
    "                    df[col] = df[col].astype(np.int64)\n",
    "                elif c_min > np.iinfo(np.int64).min and c_max < np.iinfo(np.int64).max:\n",
    "                    df[col] = df[col].astype(np.int64)\n",
    "            else:\n",
    "                if c_min > np.finfo(np.float16).min and c_max < np.finfo(np.float16).max:\n",
    "                    df[col] = df[col].astype(np.float32)\n",
    "                elif c_min > np.finfo(np.float32).min and c_max < np.finfo(np.float32).max:\n",
    "                    df[col] = df[col].astype(np.float64)\n",
    "                else:\n",
    "                    df[col] = df[col].astype(np.float64)\n",
    "    end_mem = df.memory_usage().sum() / 1024**2\n",
    "    if verbose: print('Mem. usage decreased to {:5.2f} Mb ({:.1f}% reduction)'.format(end_mem, 100 * (start_mem - end_mem) / start_mem))\n",
    "    return df"
   ],
   "outputs": [],
   "metadata": {}
  },
  {
   "cell_type": "markdown",
   "source": [
    "## Loading dataset"
   ],
   "metadata": {}
  },
  {
   "cell_type": "code",
   "execution_count": 4,
   "source": [
    "class MLBDataset(object):\n",
    "    def __init__(self, input_path):\n",
    "        self.input_path = Path(input_path)\n",
    "        #################\n",
    "        # train #\n",
    "        #################\n",
    "        self.train_next = pd.read_pickle(self.input_path / \"train_nextDayPlayerEngagement.pickle\")\n",
    "        self.train_rosters = pd.read_pickle(self.input_path / \"train_rosters.pickle\")\n",
    "        self.train_ptf = pd.read_pickle(self.input_path / \"train_playerTwitterFollowers.pickle\")\n",
    "        self.train_scores = pd.read_pickle(self.input_path / \"train_playerBoxScores.pickle\")\n",
    "        self.train_games = pd.read_pickle(self.input_path / \"train_games.pickle\")\n",
    "        self.train_standings = pd.read_pickle(self.input_path / \"train_standings.pickle\")\n",
    "        self.train_tbs = pd.read_pickle(self.input_path / \"train_teamBoxScores.pickle\")\n",
    "        self.train_ttf = pd.read_pickle(self.input_path / \"train_teamTwitterFollowers.pickle\")\n",
    "        self.train_trans = pd.read_pickle(self.input_path / \"train_transactions.pickle\")\n",
    "        self.train_awards = pd.read_pickle(self.input_path / \"train_awards.pickle\")\n",
    "        self.train_events = pd.read_pickle(self.input_path / \"train_events.pickle\")\n",
    "        #################\n",
    "        # Additional #\n",
    "        #################\n",
    "        self.players = pd.read_pickle(self.input_path / \"players.pickle\")\n",
    "        self.awards = pd.read_pickle(self.input_path / \"awards.pickle\")\n",
    "        self.seasons = pd.read_pickle(self.input_path / \"seasons.pickle\")\n",
    "        self.teams = pd.read_pickle(self.input_path / \"teams.pickle\")\n",
    "        #################\n",
    "        # test #\n",
    "        #################\n",
    "        self.example_test = pd.read_csv(self.input_path / \"example_test.csv\")\n",
    "        self.sample_submission = pd.read_csv(self.input_path / \"example_sample_submission.csv\")\n",
    "\n",
    "mlb_train_ds = MLBDataset(CFG.INPUT_DIR)"
   ],
   "outputs": [],
   "metadata": {}
  },
  {
   "cell_type": "markdown",
   "source": [
    "## Feature blocks"
   ],
   "metadata": {}
  },
  {
   "cell_type": "code",
   "execution_count": 5,
   "source": [
    "def merge_by_key(left: Union[pd.DataFrame, pd.Series], right: pd.DataFrame, on=CFG.OBJECT_ID) -> pd.DataFrame:\n",
    "    if not isinstance(left, pd.Series):\n",
    "        left = left[on]\n",
    "    return pd.merge(left, right, on=on, how=\"left\").drop(columns=on)\n",
    "\n",
    "\n",
    "class BaseBlock(object):\n",
    "    def fit(self, input_df: pd.DataFrame, y=None) -> pd.DataFrame:\n",
    "        return self.transform(input_df)\n",
    "\n",
    "    def transform(self, input_df: pd.DataFrame) -> pd.DataFrame:\n",
    "        return NotImplementedError()\n",
    "\n",
    "\n",
    "# class LagBlock(BaseBlock):\n",
    "#     def __init__(self, column: str, periods: List[int]):\n",
    "#         self.column = column\n",
    "#         self.periods = periods\n",
    "\n",
    "#     def fit(self, input_df: pd.DataFrame, y=None):\n",
    "#         agg_list = [input_df.groupby([\"playerId\"], as_index=False)[self.column].transform(lambda x: x.shift(periods=period)).add_prefix(f\"{period}_\") for period in self.periods]\n",
    "#         self.agg_df = pd.concat(agg_list, axis=1)\n",
    "\n",
    "#         return self.transform(input_df)\n",
    "\n",
    "#     def transform(self, input_df: pd.DataFrame):\n",
    "#         return self.agg_df.add_prefix(\"Lag_\")\n",
    "\n",
    "\n",
    "def quantile25(x: pd.Series):\n",
    "    return x.quantile(q=0.25)\n",
    "\n",
    "\n",
    "def quantile75(x: pd.Series):\n",
    "    return x.quantile(q=0.75)\n",
    "\n",
    "\n",
    "class TargetAggregateBlock(BaseBlock):\n",
    "    def fit(self, input_df: pd.DataFrame, y=None):\n",
    "        dfs = [mlb_train_ds.train_next.groupby([\"playerId\"])[col].agg([\n",
    "            \"mean\", \"std\", \"max\", \"min\", \"median\", quantile25, quantile75\n",
    "            ]).add_prefix(f\"{col}_\") for col in CFG.TARGETS]\n",
    "        self.agg_df = pd.concat(dfs, axis=1).reset_index()\n",
    "\n",
    "        return self.transform(input_df)\n",
    "\n",
    "    def transform(self, input_df: pd.DataFrame):\n",
    "        return merge_by_key(input_df, self.agg_df, on=\"playerId\")\n",
    "\n",
    "\n",
    "class PlayersLabelEncodingBlock(BaseBlock):\n",
    "    def __init__(self, columns: List[str]):\n",
    "        self.columns = columns + [\"playerId\"]\n",
    "        self.labeled_df = mlb_train_ds.players[self.columns].copy()\n",
    "        self.labeled_df[\"playerid\"] = self.labeled_df[\"playerId\"]\n",
    "        self.columns = self.columns + [\"playerid\"]\n",
    "        self.encoder = None\n",
    "    \n",
    "    def fit(self, input_df: pd.DataFrame, y=None):\n",
    "        self.encoder = ce.OrdinalEncoder(handle_unknown=\"value\", handle_missing=\"values\")\n",
    "        self.encoder.fit(self.labeled_df[self.columns])\n",
    "        self.labeled_df[self.columns] = self.encoder.transform(self.labeled_df[self.columns])\n",
    "\n",
    "        return self.transform(input_df)\n",
    "\n",
    "    def transform(self, input_df: pd.DataFrame):\n",
    "        return merge_by_key(input_df, self.labeled_df, on=\"playerId\").add_prefix(\"Players_LE_\")\n",
    "\n",
    "\n",
    "class RostersLabelEncodingBlock(BaseBlock):\n",
    "    def __init__(self, columns: List[str]):\n",
    "        self.columns = columns\n",
    "        self.encoder = None\n",
    "\n",
    "    def fit(self, input_df: pd.DataFrame, y=None):\n",
    "        rosters_df = mlb_train_ds.train_rosters[self.columns]\n",
    "        self.encoder = ce.OrdinalEncoder(handle_unknown=\"value\", handle_missing=\"value\")\n",
    "        self.encoder.fit(rosters_df[self.columns])\n",
    "\n",
    "        return self.transform(input_df)\n",
    "\n",
    "    def transform(self, input_df: pd.DataFrame):\n",
    "        self.labeled_df = mlb_train_ds.train_rosters[CFG.OBJECT_ID + self.columns].copy()\n",
    "        self.labeled_df[self.columns] = self.encoder.transform(self.labeled_df[self.columns])\n",
    "\n",
    "        return merge_by_key(input_df, self.labeled_df).add_prefix(\"Rosters_LE_\")\n",
    "\n",
    "    \n",
    "class PlayerBoxScoresCountBlock(BaseBlock):\n",
    "    def __init__(self, columns: List[str]):\n",
    "        self.columns = columns\n",
    "\n",
    "    def transform(self, input_df: pd.DataFrame):\n",
    "        self.agg_df = mlb_train_ds.train_scores.groupby(CFG.OBJECT_ID)[self.columns].sum().reset_index()\n",
    "        \n",
    "        return merge_by_key(input_df, self.agg_df).add_prefix(\"PlayerBoxScoresCount_\")\n",
    "\n",
    "\n",
    "class TeamBoxScoresCountBlock(BaseBlock):\n",
    "    def __init__(self, columns: List[str]):\n",
    "        self.columns = columns\n",
    "\n",
    "    def transform(self, input_df: pd.DataFrame):\n",
    "        input_df = input_df.merge(mlb_train_ds.train_rosters[[\"date\", \"playerId\", \"teamId\"]], on=[\"playerId\", \"date\"], how=\"left\")\n",
    "        self.agg_df = mlb_train_ds.train_tbs.groupby([\"teamId\", \"date\"])[self.columns].sum().reset_index()\n",
    "\n",
    "        return merge_by_key(input_df, self.agg_df, on=[\"teamId\", \"date\"]).add_prefix(f\"TeamBoxScoresCount_\")"
   ],
   "outputs": [],
   "metadata": {}
  },
  {
   "cell_type": "code",
   "execution_count": 6,
   "source": [
    "def create_train_feature(input_df: pd.DataFrame, y: np.ndarray, update_blocks: list, non_update_blocks: list) -> pd.DataFrame:\n",
    "    feat_df = pd.DataFrame()\n",
    "    blocks = update_blocks + non_update_blocks\n",
    "\n",
    "    for block in blocks:\n",
    "        with timer(name=f\"{str(block) + '_fit'}\", logger=logger):\n",
    "            try:\n",
    "                out_feat_block = block.fit(input_df, y=y)\n",
    "            except Exception as e:\n",
    "                print(f\"Error on {block} fit.\")\n",
    "                raise e from e\n",
    "\n",
    "            assert len(out_feat_block) == len(input_df), block\n",
    "\n",
    "        feat_df = pd.concat([feat_df, out_feat_block], axis=1)\n",
    "\n",
    "    return feat_df\n",
    "\n",
    "\n",
    "def create_test_feature(input_df: pd.DataFrame, update_blocks: list, non_update_blocks: list) -> pd.DataFrame:\n",
    "    is_update = True if len(update_blocks) != 0 else False\n",
    "    update_feat_df = pd.DataFrame()\n",
    "    non_update_feat_df = pd.DataFrame()\n",
    "    \n",
    "    if is_update:\n",
    "        for block in update_blocks:\n",
    "            with timer(name=f\"{str(block) + '_update'}\", logger=logger):\n",
    "                try:\n",
    "                    out_feat_block = block.fit(input_df)\n",
    "                except Exception as e:\n",
    "                    print(f\"Error on {block} transform.\")\n",
    "                    raise e from e\n",
    "\n",
    "            update_feat_df = pd.concat([update_feat_df, out_feat_block], axis=1)\n",
    "        \n",
    "\n",
    "    for block in non_update_blocks:\n",
    "        with timer(name=f\"{str(block) + '_transform'}\", logger=logger):\n",
    "            try:\n",
    "                out_feat_block = block.transform(input_df)\n",
    "            except Exception as e:\n",
    "                print(f\"Error on {block} transform.\")\n",
    "                raise e from e\n",
    "\n",
    "            assert len(out_feat_block) == len(input_df), block\n",
    "\n",
    "        non_update_feat_df = pd.concat([non_update_feat_df, out_feat_block], axis=1)\n",
    "\n",
    "    feat_df = pd.concat([update_feat_df, non_update_feat_df], axis=1) if is_update else non_update_feat_df\n",
    "\n",
    "    return feat_df"
   ],
   "outputs": [],
   "metadata": {}
  },
  {
   "cell_type": "markdown",
   "source": [
    "## CV"
   ],
   "metadata": {}
  },
  {
   "cell_type": "code",
   "execution_count": 7,
   "source": [
    "def get_timeseries_holdout(train_df: pd.DataFrame, valid_start_date: int) -> List[tuple]:\n",
    "    fold = []\n",
    "    train_idx = np.array(train_df[train_df[\"date\"] < valid_start_date].index)\n",
    "    valid_idx = np.array(train_df[train_df[\"date\"] >= valid_start_date].index)\n",
    "    fold.append((train_idx, valid_idx))\n",
    "\n",
    "    return fold"
   ],
   "outputs": [],
   "metadata": {}
  },
  {
   "cell_type": "markdown",
   "source": [
    "## Model"
   ],
   "metadata": {}
  },
  {
   "cell_type": "code",
   "execution_count": 8,
   "source": [
    "class LightGBMTrainer:\n",
    "    def __init__(self, params: dict, seeds: List[int]):\n",
    "        self.params = params\n",
    "        self.seeds = seeds\n",
    "        self.models = []\n",
    "\n",
    "    def fit(self, X_train: np.ndarray, y_train: np.ndarray, cv: List[tuple]):\n",
    "        oof_all = []\n",
    "        for i, seed in enumerate(self.seeds):\n",
    "            self.params[\"seed\"] = seed\n",
    "\n",
    "            for train_idx, valid_idx in cv:\n",
    "                X_train_fold = X_train[train_idx]\n",
    "                X_valid_fold = X_train[valid_idx]\n",
    "\n",
    "                y_train_fold = y_train[train_idx]\n",
    "                y_valid_fold = y_train[valid_idx]\n",
    "\n",
    "                train_set = lgb.Dataset(X_train_fold, y_train_fold)\n",
    "                valid_set = lgb.Dataset(X_valid_fold, y_valid_fold, reference=train_set)\n",
    "\n",
    "                model = lgb.train(\n",
    "                    params=self.params,\n",
    "                    train_set=train_set,\n",
    "                    valid_sets=[train_set, valid_set],\n",
    "                    verbose_eval=100,\n",
    "                )\n",
    "\n",
    "                y_oof = model.predict(X_valid_fold, num_iteration=model.best_iteration)\n",
    "                oof_all.append(y_oof)\n",
    "                self.models.append(model)\n",
    "\n",
    "        oof_all = np.mean(oof_all, axis=0)\n",
    "        oof_score = mean_absolute_error(oof_all, y_valid_fold)\n",
    "\n",
    "        return oof_score, self.models\n",
    "\n",
    "    def predict(self, X_test: np.ndarray):\n",
    "        y_pred = np.mean([model.predict(X_test) for model in self.models], axis=0)\n",
    "\n",
    "        return y_pred\n",
    "\n",
    "\n",
    "def run_lgb(X_train, targets, params, seeds, fold):\n",
    "    cv_scores = []\n",
    "    models = []\n",
    "\n",
    "    for i, target in enumerate(targets):\n",
    "        print(f\"Traning for Target{i+1}\")\n",
    "        trainer = LightGBMTrainer(params, seeds)\n",
    "        oof_score_tmp, models_tmp = trainer.fit(X_train, target, fold)\n",
    "        cv_scores.append(oof_score_tmp)\n",
    "        models.append(models_tmp)\n",
    "        print(f\"Local Target{i+1} OOF-MAE : {np.mean(oof_score_tmp)}\")\n",
    "        print(\"-\"*50)\n",
    "\n",
    "    print(f\"Local MCMAE : {np.mean(cv_scores)}\")\n",
    "\n",
    "    return models"
   ],
   "outputs": [],
   "metadata": {}
  },
  {
   "cell_type": "markdown",
   "source": [
    "## Training"
   ],
   "metadata": {}
  },
  {
   "cell_type": "code",
   "execution_count": 9,
   "source": [
    "# set-up logger\n",
    "logger = get_logger()\n",
    "\n",
    "# create feature\n",
    "update_blocks = []\n",
    "non_update_blocks = [\n",
    "    TargetAggregateBlock(),\n",
    "    RostersLabelEncodingBlock(columns=[\n",
    "        \"teamId\",\n",
    "        \"status\"\n",
    "        ]\n",
    "    ),\n",
    "    PlayersLabelEncodingBlock(columns=[\n",
    "        \"birthCountry\",\n",
    "        \"primaryPositionCode\",\n",
    "    ]),\n",
    "    PlayerBoxScoresCountBlock(columns=[\n",
    "        # 'date',\n",
    "        'home',\n",
    "        # 'gamePk',\n",
    "        # 'gameDate',\n",
    "        # 'gameTimeUTC',\n",
    "        # 'teamId',\n",
    "        # 'teamName',\n",
    "        # 'playerId',\n",
    "        # 'playerName',\n",
    "        'jerseyNum',\n",
    "        # 'positionCode',\n",
    "        # 'positionName',\n",
    "        # 'positionType',\n",
    "        'battingOrder',\n",
    "        'gamesPlayedBatting',\n",
    "        'flyOuts',\n",
    "        'groundOuts',\n",
    "        'runsScored',\n",
    "        'doubles',\n",
    "        'triples',\n",
    "        'homeRuns',\n",
    "        'strikeOuts',\n",
    "        'baseOnBalls',\n",
    "        'intentionalWalks',\n",
    "        'hits',\n",
    "        'hitByPitch',\n",
    "        'atBats',\n",
    "        'caughtStealing',\n",
    "        'stolenBases',\n",
    "        'groundIntoDoublePlay',\n",
    "        'groundIntoTriplePlay',\n",
    "        'plateAppearances',\n",
    "        'totalBases',\n",
    "        'rbi',\n",
    "        'leftOnBase',\n",
    "        'sacBunts',\n",
    "        'sacFlies',\n",
    "        'catchersInterference',\n",
    "        'pickoffs',\n",
    "        'gamesPlayedPitching',\n",
    "        'gamesStartedPitching',\n",
    "        'completeGamesPitching',\n",
    "        'shutoutsPitching',\n",
    "        'winsPitching',\n",
    "        'lossesPitching',\n",
    "        'flyOutsPitching',\n",
    "        'airOutsPitching',\n",
    "        'groundOutsPitching',\n",
    "        'runsPitching',\n",
    "        'doublesPitching',\n",
    "        'triplesPitching',\n",
    "        'homeRunsPitching',\n",
    "        'strikeOutsPitching',\n",
    "        'baseOnBallsPitching',\n",
    "        'intentionalWalksPitching',\n",
    "        'hitsPitching',\n",
    "        'hitByPitchPitching',\n",
    "        'atBatsPitching',\n",
    "        'caughtStealingPitching',\n",
    "        'stolenBasesPitching',\n",
    "        'inningsPitched',\n",
    "        'saveOpportunities',\n",
    "        'earnedRuns',\n",
    "        'battersFaced',\n",
    "        'outsPitching',\n",
    "        'pitchesThrown',\n",
    "        'balls',\n",
    "        'strikes',\n",
    "        'hitBatsmen',\n",
    "        'balks',\n",
    "        'wildPitches',\n",
    "        'pickoffsPitching',\n",
    "        'rbiPitching',\n",
    "        'gamesFinishedPitching',\n",
    "        'inheritedRunners',\n",
    "        'inheritedRunnersScored',\n",
    "        'catchersInterferencePitching',\n",
    "        'sacBuntsPitching',\n",
    "        'sacFliesPitching',\n",
    "        'saves',\n",
    "        'holds',\n",
    "        'blownSaves',\n",
    "        'assists',\n",
    "        'putOuts',\n",
    "        'errors',\n",
    "        'chances'\n",
    "        ]\n",
    "    ),\n",
    "    TeamBoxScoresCountBlock(columns=[\n",
    "        # 'date',\n",
    "        # 'home',\n",
    "        # 'teamId',\n",
    "        # 'gamePk',\n",
    "        # 'gameDate',\n",
    "        # 'gameTimeUTC',\n",
    "        'flyOuts',\n",
    "        'groundOuts',\n",
    "        'runsScored',\n",
    "        'doubles',\n",
    "        'triples',\n",
    "        'homeRuns',\n",
    "        'strikeOuts',\n",
    "        'baseOnBalls',\n",
    "        'intentionalWalks',\n",
    "        'hits',\n",
    "        'hitByPitch',\n",
    "        'atBats',\n",
    "        'caughtStealing',\n",
    "        'stolenBases',\n",
    "        'groundIntoDoublePlay',\n",
    "        'groundIntoTriplePlay',\n",
    "        'plateAppearances',\n",
    "        'totalBases',\n",
    "        'rbi',\n",
    "        'leftOnBase',\n",
    "        'sacBunts',\n",
    "        'sacFlies',\n",
    "        'catchersInterference',\n",
    "        'pickoffs',\n",
    "        'airOutsPitching',\n",
    "        'groundOutsPitching',\n",
    "        'runsPitching',\n",
    "        'doublesPitching',\n",
    "        'triplesPitching',\n",
    "        'homeRunsPitching',\n",
    "        'strikeOutsPitching',\n",
    "        'baseOnBallsPitching',\n",
    "        'intentionalWalksPitching',\n",
    "        'hitsPitching',\n",
    "        'hitByPitchPitching',\n",
    "        'atBatsPitching',\n",
    "        'caughtStealingPitching',\n",
    "        'stolenBasesPitching',\n",
    "        'inningsPitched',\n",
    "        'earnedRuns',\n",
    "        'battersFaced',\n",
    "        'outsPitching',\n",
    "        'hitBatsmen',\n",
    "        'balks',\n",
    "        'wildPitches',\n",
    "        'pickoffsPitching',\n",
    "        'rbiPitching',\n",
    "        'inheritedRunners',\n",
    "        'inheritedRunnersScored',\n",
    "        'catchersInterferencePitching',\n",
    "        'sacBuntsPitching',\n",
    "        'sacFliesPitching'\n",
    "        ]\n",
    "    ),\n",
    "]\n",
    "\n",
    "y = mlb_train_ds.train_next[\"target1\"].values\n",
    "input_df = mlb_train_ds.train_next[CFG.OBJECT_ID].copy()\n",
    "train_feat_df = create_train_feature(input_df, y, update_blocks, non_update_blocks)\n",
    "X_train = train_feat_df.values\n",
    "targets = [mlb_train_ds.train_next[col].values for col in CFG.TARGETS]\n",
    "\n",
    "# split train/valid\n",
    "fold = get_timeseries_holdout(input_df, valid_start_date=20210401)\n",
    "\n",
    "# training\n",
    "models = run_lgb(X_train, targets, CFG.LGB_PARAMS, CFG.SEEDS, fold)"
   ],
   "outputs": [
    {
     "output_type": "stream",
     "name": "stdout",
     "text": [
      "[2021-07-06 22:39:41,278] [INFO] [logger set up]\n",
      "[2021-07-06 22:39:41,391] [INFO] [<<__main__.TargetAggregateBlock object at 0x146578820>_fit> start]\n",
      "[2021-07-06 22:39:50,079] [INFO] [<<__main__.TargetAggregateBlock object at 0x146578820>_fit> done in 8.69 s]\n",
      "[2021-07-06 22:39:50,151] [INFO] [<<__main__.RostersLabelEncodingBlock object at 0x1465788b0>_fit> start]\n",
      "[2021-07-06 22:39:51,570] [INFO] [<<__main__.RostersLabelEncodingBlock object at 0x1465788b0>_fit> done in 1.42 s]\n",
      "[2021-07-06 22:39:51,779] [INFO] [<<__main__.PlayersLabelEncodingBlock object at 0x12a855eb0>_fit> start]\n",
      "[2021-07-06 22:39:52,034] [INFO] [<<__main__.PlayersLabelEncodingBlock object at 0x12a855eb0>_fit> done in 0.26 s]\n",
      "[2021-07-06 22:39:52,255] [INFO] [<<__main__.PlayerBoxScoresCountBlock object at 0x10c643730>_fit> start]\n",
      "[2021-07-06 22:39:54,222] [INFO] [<<__main__.PlayerBoxScoresCountBlock object at 0x10c643730>_fit> done in 1.97 s]\n",
      "[2021-07-06 22:39:54,777] [INFO] [<<__main__.TeamBoxScoresCountBlock object at 0x1c389a340>_fit> start]\n",
      "[2021-07-06 22:39:59,143] [INFO] [<<__main__.TeamBoxScoresCountBlock object at 0x1c389a340>_fit> done in 4.37 s]\n",
      "Traning for Target1\n"
     ]
    },
    {
     "output_type": "stream",
     "name": "stderr",
     "text": [
      "/Users/azupero/data-science/kaggle/MLB-Player-Digital-Engagement-Forecasting/.venv/lib/python3.8/site-packages/lightgbm/engine.py:148: UserWarning: Found `num_iterations` in params. Will use it instead of argument\n",
      "  _log_warning(\"Found `{}` in params. Will use it instead of argument\".format(alias))\n",
      "/Users/azupero/data-science/kaggle/MLB-Player-Digital-Engagement-Forecasting/.venv/lib/python3.8/site-packages/lightgbm/engine.py:153: UserWarning: Found `early_stopping_round` in params. Will use it instead of argument\n",
      "  _log_warning(\"Found `{}` in params. Will use it instead of argument\".format(alias))\n"
     ]
    },
    {
     "output_type": "stream",
     "name": "stdout",
     "text": [
      "Training until validation scores don't improve for 100 rounds\n",
      "[100]\ttraining's l1: 0.512451\tvalid_1's l1: 0.699002\n",
      "[200]\ttraining's l1: 0.512292\tvalid_1's l1: 0.698088\n",
      "[300]\ttraining's l1: 0.512251\tvalid_1's l1: 0.697865\n",
      "Early stopping, best iteration is:\n",
      "[254]\ttraining's l1: 0.512258\tvalid_1's l1: 0.697843\n",
      "Training until validation scores don't improve for 100 rounds\n",
      "[100]\ttraining's l1: 0.513205\tvalid_1's l1: 0.700607\n",
      "[200]\ttraining's l1: 0.512847\tvalid_1's l1: 0.698994\n",
      "[300]\ttraining's l1: 0.512697\tvalid_1's l1: 0.698649\n",
      "Early stopping, best iteration is:\n",
      "[274]\ttraining's l1: 0.5127\tvalid_1's l1: 0.698646\n",
      "Local Target1 OOF-MAE : 0.697843692379345\n",
      "--------------------------------------------------\n",
      "Traning for Target2\n"
     ]
    },
    {
     "output_type": "stream",
     "name": "stderr",
     "text": [
      "/Users/azupero/data-science/kaggle/MLB-Player-Digital-Engagement-Forecasting/.venv/lib/python3.8/site-packages/lightgbm/engine.py:148: UserWarning: Found `num_iterations` in params. Will use it instead of argument\n",
      "  _log_warning(\"Found `{}` in params. Will use it instead of argument\".format(alias))\n",
      "/Users/azupero/data-science/kaggle/MLB-Player-Digital-Engagement-Forecasting/.venv/lib/python3.8/site-packages/lightgbm/engine.py:153: UserWarning: Found `early_stopping_round` in params. Will use it instead of argument\n",
      "  _log_warning(\"Found `{}` in params. Will use it instead of argument\".format(alias))\n"
     ]
    },
    {
     "output_type": "stream",
     "name": "stdout",
     "text": [
      "Training until validation scores don't improve for 100 rounds\n",
      "[100]\ttraining's l1: 1.7636\tvalid_1's l1: 1.52013\n",
      "Early stopping, best iteration is:\n",
      "[28]\ttraining's l1: 1.77919\tvalid_1's l1: 1.50638\n",
      "Training until validation scores don't improve for 100 rounds\n",
      "[100]\ttraining's l1: 1.76332\tvalid_1's l1: 1.52055\n",
      "Early stopping, best iteration is:\n",
      "[23]\ttraining's l1: 1.7873\tvalid_1's l1: 1.50528\n",
      "Local Target2 OOF-MAE : 1.5049126731794091\n",
      "--------------------------------------------------\n",
      "Traning for Target3\n"
     ]
    },
    {
     "output_type": "stream",
     "name": "stderr",
     "text": [
      "/Users/azupero/data-science/kaggle/MLB-Player-Digital-Engagement-Forecasting/.venv/lib/python3.8/site-packages/lightgbm/engine.py:148: UserWarning: Found `num_iterations` in params. Will use it instead of argument\n",
      "  _log_warning(\"Found `{}` in params. Will use it instead of argument\".format(alias))\n",
      "/Users/azupero/data-science/kaggle/MLB-Player-Digital-Engagement-Forecasting/.venv/lib/python3.8/site-packages/lightgbm/engine.py:153: UserWarning: Found `early_stopping_round` in params. Will use it instead of argument\n",
      "  _log_warning(\"Found `{}` in params. Will use it instead of argument\".format(alias))\n"
     ]
    },
    {
     "output_type": "stream",
     "name": "stdout",
     "text": [
      "Training until validation scores don't improve for 100 rounds\n",
      "[100]\ttraining's l1: 0.668663\tvalid_1's l1: 0.554125\n",
      "Early stopping, best iteration is:\n",
      "[91]\ttraining's l1: 0.66867\tvalid_1's l1: 0.554117\n",
      "Training until validation scores don't improve for 100 rounds\n",
      "[100]\ttraining's l1: 0.668633\tvalid_1's l1: 0.55391\n",
      "Early stopping, best iteration is:\n",
      "[60]\ttraining's l1: 0.668788\tvalid_1's l1: 0.55363\n",
      "Local Target3 OOF-MAE : 0.5537278777019244\n",
      "--------------------------------------------------\n",
      "Traning for Target4\n"
     ]
    },
    {
     "output_type": "stream",
     "name": "stderr",
     "text": [
      "/Users/azupero/data-science/kaggle/MLB-Player-Digital-Engagement-Forecasting/.venv/lib/python3.8/site-packages/lightgbm/engine.py:148: UserWarning: Found `num_iterations` in params. Will use it instead of argument\n",
      "  _log_warning(\"Found `{}` in params. Will use it instead of argument\".format(alias))\n",
      "/Users/azupero/data-science/kaggle/MLB-Player-Digital-Engagement-Forecasting/.venv/lib/python3.8/site-packages/lightgbm/engine.py:153: UserWarning: Found `early_stopping_round` in params. Will use it instead of argument\n",
      "  _log_warning(\"Found `{}` in params. Will use it instead of argument\".format(alias))\n"
     ]
    },
    {
     "output_type": "stream",
     "name": "stdout",
     "text": [
      "Training until validation scores don't improve for 100 rounds\n",
      "[100]\ttraining's l1: 0.795248\tvalid_1's l1: 1.13515\n",
      "[200]\ttraining's l1: 0.79456\tvalid_1's l1: 1.13515\n",
      "Early stopping, best iteration is:\n",
      "[165]\ttraining's l1: 0.794603\tvalid_1's l1: 1.1341\n",
      "Training until validation scores don't improve for 100 rounds\n",
      "[100]\ttraining's l1: 0.794675\tvalid_1's l1: 1.13511\n",
      "[200]\ttraining's l1: 0.794167\tvalid_1's l1: 1.13514\n",
      "Early stopping, best iteration is:\n",
      "[120]\ttraining's l1: 0.794541\tvalid_1's l1: 1.13467\n",
      "Local Target4 OOF-MAE : 1.1338566943407742\n",
      "--------------------------------------------------\n",
      "Local MCMAE : 0.9725852344003632\n"
     ]
    }
   ],
   "metadata": {}
  },
  {
   "cell_type": "code",
   "execution_count": 10,
   "source": [
    "def visualize_feature_importance(models, feat_train_df) -> plotly.graph_objects.Figure:\n",
    "    '''LightGBMのfeature importanceを可視化\n",
    "    '''\n",
    "    for target_i in range(len(models)):\n",
    "        feature_importance_df = pd.DataFrame()\n",
    "        for i, model in enumerate(models[target_i]):\n",
    "            _df = pd.DataFrame()\n",
    "            _df['feature_importance'] = model.feature_importance(importance_type=\"gain\")\n",
    "            _df['feature'] = feat_train_df.columns\n",
    "            _df['model_no'] = i + 1\n",
    "            feature_importance_df = pd.concat([feature_importance_df, _df], \n",
    "                                            axis=0, ignore_index=True)\n",
    "\n",
    "        order = feature_importance_df.groupby('feature')\\\n",
    "            .mean()[['feature_importance']]\\\n",
    "            .sort_values('feature_importance', ascending=False).index[:50]\n",
    "        \n",
    "        fig = px.box(\n",
    "            feature_importance_df.query(\"feature in @order\"),\n",
    "            x=\"feature_importance\",\n",
    "            y=\"feature\",\n",
    "            category_orders={\"feature\": order},\n",
    "            width=1250,\n",
    "            height=900,\n",
    "            title=f\"Target{target_i+1} Top 50 feature importance\",\n",
    "        )\n",
    "        fig.update_yaxes(showgrid=True)\n",
    "        fig.show()"
   ],
   "outputs": [],
   "metadata": {}
  },
  {
   "cell_type": "code",
   "execution_count": 11,
   "source": [
    "visualize_feature_importance(models, train_feat_df)"
   ],
   "outputs": [
    {
     "output_type": "display_data",
     "data": {
      "application/vnd.plotly.v1+json": {
       "config": {
        "plotlyServerURL": "https://plot.ly"
       },
       "data": [
        {
         "alignmentgroup": "True",
         "hovertemplate": "feature_importance=%{x}<br>feature=%{y}<extra></extra>",
         "legendgroup": "",
         "marker": {
          "color": "#636efa"
         },
         "name": "",
         "notched": false,
         "offsetgroup": "",
         "orientation": "h",
         "showlegend": false,
         "type": "box",
         "x": [
          3230275.4722805023,
          510350.9112148285,
          123656.9959115982,
          8945954.196697235,
          1390494.4539146423,
          34182024.97507858,
          182071.14252853394,
          108408.55990600586,
          46658.30361175537,
          82832.75968933105,
          1883847.9744300842,
          1374229.01480484,
          654479.6529922485,
          182547.8485069275,
          55423.71613693237,
          57175.43259429932,
          40345.425857543945,
          26197.493267059326,
          70995.40213394165,
          151431.14945030212,
          73924.72840118408,
          55023.716720581055,
          103419.9600982666,
          283231.8832998276,
          482343.8446159363,
          89496.13875961304,
          6950758.957607269,
          5110381.609369278,
          20890.020122528076,
          34297.56575012207,
          531132.5399894714,
          5041.706768035889,
          6786.360618591309,
          8374.437118530273,
          4558.276893615723,
          30118.944286346436,
          3753.5027923583984,
          8469.146221160889,
          9118.774333953857,
          8266.682458877563,
          2593.87996673584,
          4503.374984741211,
          4268.134468078613,
          6532.968063354492,
          352.1344051361084,
          4892.72717666626,
          4381.973739624023,
          8173.044322967529,
          20265.52274608612,
          7899.944692611694,
          3366665.133216858,
          449010.7960729599,
          58038.40527534485,
          12812775.969738007,
          496752.608795166,
          36277936.471681595,
          125457.68117046356,
          90858.64653491974,
          54448.032457351685,
          70030.77035522461,
          990043.0103988647,
          1192539.5839781761,
          636132.5762214661,
          110692.7504234314,
          44618.03783035278,
          43296.1310005188,
          218808.4507408142,
          33722.802879333496,
          116021.48672103882,
          162954.8826560974,
          101698.41021537781,
          40245.38790130615,
          23760.868465423584,
          216383.27841377258,
          609494.8292770386,
          109162.38913726807,
          7850680.871577024,
          4930403.317956686,
          20923.859743118286,
          48260.04180717468,
          329450.20064914227,
          5781.956623077393,
          4952.47643661499,
          11296.451049804688,
          10458.638870239258,
          31029.01187133789,
          4458.285648345947,
          8321.67151260376,
          9089.77290725708,
          6304.403379917145,
          9165.472122192383,
          5013.775809049606,
          3764.638913631439,
          4191.151415348053,
          10337.70377111435,
          3475.1398825645447,
          19322.160724163055,
          1934.428481578827,
          16648.085285186768,
          909.8532762527466
         ],
         "x0": " ",
         "xaxis": "x",
         "y": [
          "target1_mean",
          "target1_std",
          "target1_max",
          "target1_median",
          "target1_quantile25",
          "target1_quantile75",
          "target2_mean",
          "target2_std",
          "target2_max",
          "target2_min",
          "target2_median",
          "target2_quantile25",
          "target2_quantile75",
          "target3_mean",
          "target3_std",
          "target3_max",
          "target3_median",
          "target3_quantile25",
          "target3_quantile75",
          "target4_mean",
          "target4_std",
          "target4_max",
          "target4_min",
          "target4_median",
          "target4_quantile25",
          "target4_quantile75",
          "Rosters_LE_teamId",
          "Rosters_LE_status",
          "Players_LE_birthCountry",
          "Players_LE_primaryPositionCode",
          "Players_LE_playerid",
          "PlayerBoxScoresCount_battingOrder",
          "PlayerBoxScoresCount_homeRuns",
          "PlayerBoxScoresCount_plateAppearances",
          "PlayerBoxScoresCount_totalBases",
          "PlayerBoxScoresCount_rbi",
          "PlayerBoxScoresCount_strikeOutsPitching",
          "PlayerBoxScoresCount_inningsPitched",
          "PlayerBoxScoresCount_saves",
          "TeamBoxScoresCount_homeRuns",
          "TeamBoxScoresCount_hitByPitch",
          "TeamBoxScoresCount_atBats",
          "TeamBoxScoresCount_stolenBases",
          "TeamBoxScoresCount_runsPitching",
          "TeamBoxScoresCount_baseOnBallsPitching",
          "TeamBoxScoresCount_hitsPitching",
          "TeamBoxScoresCount_atBatsPitching",
          "TeamBoxScoresCount_earnedRuns",
          "TeamBoxScoresCount_battersFaced",
          "TeamBoxScoresCount_rbiPitching",
          "target1_mean",
          "target1_std",
          "target1_max",
          "target1_median",
          "target1_quantile25",
          "target1_quantile75",
          "target2_mean",
          "target2_std",
          "target2_max",
          "target2_min",
          "target2_median",
          "target2_quantile25",
          "target2_quantile75",
          "target3_mean",
          "target3_std",
          "target3_max",
          "target3_median",
          "target3_quantile25",
          "target3_quantile75",
          "target4_mean",
          "target4_std",
          "target4_max",
          "target4_min",
          "target4_median",
          "target4_quantile25",
          "target4_quantile75",
          "Rosters_LE_teamId",
          "Rosters_LE_status",
          "Players_LE_birthCountry",
          "Players_LE_primaryPositionCode",
          "Players_LE_playerid",
          "PlayerBoxScoresCount_battingOrder",
          "PlayerBoxScoresCount_homeRuns",
          "PlayerBoxScoresCount_plateAppearances",
          "PlayerBoxScoresCount_totalBases",
          "PlayerBoxScoresCount_rbi",
          "PlayerBoxScoresCount_strikeOutsPitching",
          "PlayerBoxScoresCount_inningsPitched",
          "PlayerBoxScoresCount_saves",
          "TeamBoxScoresCount_homeRuns",
          "TeamBoxScoresCount_hitByPitch",
          "TeamBoxScoresCount_atBats",
          "TeamBoxScoresCount_stolenBases",
          "TeamBoxScoresCount_runsPitching",
          "TeamBoxScoresCount_baseOnBallsPitching",
          "TeamBoxScoresCount_hitsPitching",
          "TeamBoxScoresCount_atBatsPitching",
          "TeamBoxScoresCount_earnedRuns",
          "TeamBoxScoresCount_battersFaced",
          "TeamBoxScoresCount_rbiPitching"
         ],
         "y0": " ",
         "yaxis": "y"
        }
       ],
       "layout": {
        "boxmode": "group",
        "height": 900,
        "legend": {
         "tracegroupgap": 0
        },
        "template": {
         "data": {
          "bar": [
           {
            "error_x": {
             "color": "#2a3f5f"
            },
            "error_y": {
             "color": "#2a3f5f"
            },
            "marker": {
             "line": {
              "color": "#E5ECF6",
              "width": 0.5
             }
            },
            "type": "bar"
           }
          ],
          "barpolar": [
           {
            "marker": {
             "line": {
              "color": "#E5ECF6",
              "width": 0.5
             }
            },
            "type": "barpolar"
           }
          ],
          "carpet": [
           {
            "aaxis": {
             "endlinecolor": "#2a3f5f",
             "gridcolor": "white",
             "linecolor": "white",
             "minorgridcolor": "white",
             "startlinecolor": "#2a3f5f"
            },
            "baxis": {
             "endlinecolor": "#2a3f5f",
             "gridcolor": "white",
             "linecolor": "white",
             "minorgridcolor": "white",
             "startlinecolor": "#2a3f5f"
            },
            "type": "carpet"
           }
          ],
          "choropleth": [
           {
            "colorbar": {
             "outlinewidth": 0,
             "ticks": ""
            },
            "type": "choropleth"
           }
          ],
          "contour": [
           {
            "colorbar": {
             "outlinewidth": 0,
             "ticks": ""
            },
            "colorscale": [
             [
              0,
              "#0d0887"
             ],
             [
              0.1111111111111111,
              "#46039f"
             ],
             [
              0.2222222222222222,
              "#7201a8"
             ],
             [
              0.3333333333333333,
              "#9c179e"
             ],
             [
              0.4444444444444444,
              "#bd3786"
             ],
             [
              0.5555555555555556,
              "#d8576b"
             ],
             [
              0.6666666666666666,
              "#ed7953"
             ],
             [
              0.7777777777777778,
              "#fb9f3a"
             ],
             [
              0.8888888888888888,
              "#fdca26"
             ],
             [
              1,
              "#f0f921"
             ]
            ],
            "type": "contour"
           }
          ],
          "contourcarpet": [
           {
            "colorbar": {
             "outlinewidth": 0,
             "ticks": ""
            },
            "type": "contourcarpet"
           }
          ],
          "heatmap": [
           {
            "colorbar": {
             "outlinewidth": 0,
             "ticks": ""
            },
            "colorscale": [
             [
              0,
              "#0d0887"
             ],
             [
              0.1111111111111111,
              "#46039f"
             ],
             [
              0.2222222222222222,
              "#7201a8"
             ],
             [
              0.3333333333333333,
              "#9c179e"
             ],
             [
              0.4444444444444444,
              "#bd3786"
             ],
             [
              0.5555555555555556,
              "#d8576b"
             ],
             [
              0.6666666666666666,
              "#ed7953"
             ],
             [
              0.7777777777777778,
              "#fb9f3a"
             ],
             [
              0.8888888888888888,
              "#fdca26"
             ],
             [
              1,
              "#f0f921"
             ]
            ],
            "type": "heatmap"
           }
          ],
          "heatmapgl": [
           {
            "colorbar": {
             "outlinewidth": 0,
             "ticks": ""
            },
            "colorscale": [
             [
              0,
              "#0d0887"
             ],
             [
              0.1111111111111111,
              "#46039f"
             ],
             [
              0.2222222222222222,
              "#7201a8"
             ],
             [
              0.3333333333333333,
              "#9c179e"
             ],
             [
              0.4444444444444444,
              "#bd3786"
             ],
             [
              0.5555555555555556,
              "#d8576b"
             ],
             [
              0.6666666666666666,
              "#ed7953"
             ],
             [
              0.7777777777777778,
              "#fb9f3a"
             ],
             [
              0.8888888888888888,
              "#fdca26"
             ],
             [
              1,
              "#f0f921"
             ]
            ],
            "type": "heatmapgl"
           }
          ],
          "histogram": [
           {
            "marker": {
             "colorbar": {
              "outlinewidth": 0,
              "ticks": ""
             }
            },
            "type": "histogram"
           }
          ],
          "histogram2d": [
           {
            "colorbar": {
             "outlinewidth": 0,
             "ticks": ""
            },
            "colorscale": [
             [
              0,
              "#0d0887"
             ],
             [
              0.1111111111111111,
              "#46039f"
             ],
             [
              0.2222222222222222,
              "#7201a8"
             ],
             [
              0.3333333333333333,
              "#9c179e"
             ],
             [
              0.4444444444444444,
              "#bd3786"
             ],
             [
              0.5555555555555556,
              "#d8576b"
             ],
             [
              0.6666666666666666,
              "#ed7953"
             ],
             [
              0.7777777777777778,
              "#fb9f3a"
             ],
             [
              0.8888888888888888,
              "#fdca26"
             ],
             [
              1,
              "#f0f921"
             ]
            ],
            "type": "histogram2d"
           }
          ],
          "histogram2dcontour": [
           {
            "colorbar": {
             "outlinewidth": 0,
             "ticks": ""
            },
            "colorscale": [
             [
              0,
              "#0d0887"
             ],
             [
              0.1111111111111111,
              "#46039f"
             ],
             [
              0.2222222222222222,
              "#7201a8"
             ],
             [
              0.3333333333333333,
              "#9c179e"
             ],
             [
              0.4444444444444444,
              "#bd3786"
             ],
             [
              0.5555555555555556,
              "#d8576b"
             ],
             [
              0.6666666666666666,
              "#ed7953"
             ],
             [
              0.7777777777777778,
              "#fb9f3a"
             ],
             [
              0.8888888888888888,
              "#fdca26"
             ],
             [
              1,
              "#f0f921"
             ]
            ],
            "type": "histogram2dcontour"
           }
          ],
          "mesh3d": [
           {
            "colorbar": {
             "outlinewidth": 0,
             "ticks": ""
            },
            "type": "mesh3d"
           }
          ],
          "parcoords": [
           {
            "line": {
             "colorbar": {
              "outlinewidth": 0,
              "ticks": ""
             }
            },
            "type": "parcoords"
           }
          ],
          "pie": [
           {
            "automargin": true,
            "type": "pie"
           }
          ],
          "scatter": [
           {
            "marker": {
             "colorbar": {
              "outlinewidth": 0,
              "ticks": ""
             }
            },
            "type": "scatter"
           }
          ],
          "scatter3d": [
           {
            "line": {
             "colorbar": {
              "outlinewidth": 0,
              "ticks": ""
             }
            },
            "marker": {
             "colorbar": {
              "outlinewidth": 0,
              "ticks": ""
             }
            },
            "type": "scatter3d"
           }
          ],
          "scattercarpet": [
           {
            "marker": {
             "colorbar": {
              "outlinewidth": 0,
              "ticks": ""
             }
            },
            "type": "scattercarpet"
           }
          ],
          "scattergeo": [
           {
            "marker": {
             "colorbar": {
              "outlinewidth": 0,
              "ticks": ""
             }
            },
            "type": "scattergeo"
           }
          ],
          "scattergl": [
           {
            "marker": {
             "colorbar": {
              "outlinewidth": 0,
              "ticks": ""
             }
            },
            "type": "scattergl"
           }
          ],
          "scattermapbox": [
           {
            "marker": {
             "colorbar": {
              "outlinewidth": 0,
              "ticks": ""
             }
            },
            "type": "scattermapbox"
           }
          ],
          "scatterpolar": [
           {
            "marker": {
             "colorbar": {
              "outlinewidth": 0,
              "ticks": ""
             }
            },
            "type": "scatterpolar"
           }
          ],
          "scatterpolargl": [
           {
            "marker": {
             "colorbar": {
              "outlinewidth": 0,
              "ticks": ""
             }
            },
            "type": "scatterpolargl"
           }
          ],
          "scatterternary": [
           {
            "marker": {
             "colorbar": {
              "outlinewidth": 0,
              "ticks": ""
             }
            },
            "type": "scatterternary"
           }
          ],
          "surface": [
           {
            "colorbar": {
             "outlinewidth": 0,
             "ticks": ""
            },
            "colorscale": [
             [
              0,
              "#0d0887"
             ],
             [
              0.1111111111111111,
              "#46039f"
             ],
             [
              0.2222222222222222,
              "#7201a8"
             ],
             [
              0.3333333333333333,
              "#9c179e"
             ],
             [
              0.4444444444444444,
              "#bd3786"
             ],
             [
              0.5555555555555556,
              "#d8576b"
             ],
             [
              0.6666666666666666,
              "#ed7953"
             ],
             [
              0.7777777777777778,
              "#fb9f3a"
             ],
             [
              0.8888888888888888,
              "#fdca26"
             ],
             [
              1,
              "#f0f921"
             ]
            ],
            "type": "surface"
           }
          ],
          "table": [
           {
            "cells": {
             "fill": {
              "color": "#EBF0F8"
             },
             "line": {
              "color": "white"
             }
            },
            "header": {
             "fill": {
              "color": "#C8D4E3"
             },
             "line": {
              "color": "white"
             }
            },
            "type": "table"
           }
          ]
         },
         "layout": {
          "annotationdefaults": {
           "arrowcolor": "#2a3f5f",
           "arrowhead": 0,
           "arrowwidth": 1
          },
          "autotypenumbers": "strict",
          "coloraxis": {
           "colorbar": {
            "outlinewidth": 0,
            "ticks": ""
           }
          },
          "colorscale": {
           "diverging": [
            [
             0,
             "#8e0152"
            ],
            [
             0.1,
             "#c51b7d"
            ],
            [
             0.2,
             "#de77ae"
            ],
            [
             0.3,
             "#f1b6da"
            ],
            [
             0.4,
             "#fde0ef"
            ],
            [
             0.5,
             "#f7f7f7"
            ],
            [
             0.6,
             "#e6f5d0"
            ],
            [
             0.7,
             "#b8e186"
            ],
            [
             0.8,
             "#7fbc41"
            ],
            [
             0.9,
             "#4d9221"
            ],
            [
             1,
             "#276419"
            ]
           ],
           "sequential": [
            [
             0,
             "#0d0887"
            ],
            [
             0.1111111111111111,
             "#46039f"
            ],
            [
             0.2222222222222222,
             "#7201a8"
            ],
            [
             0.3333333333333333,
             "#9c179e"
            ],
            [
             0.4444444444444444,
             "#bd3786"
            ],
            [
             0.5555555555555556,
             "#d8576b"
            ],
            [
             0.6666666666666666,
             "#ed7953"
            ],
            [
             0.7777777777777778,
             "#fb9f3a"
            ],
            [
             0.8888888888888888,
             "#fdca26"
            ],
            [
             1,
             "#f0f921"
            ]
           ],
           "sequentialminus": [
            [
             0,
             "#0d0887"
            ],
            [
             0.1111111111111111,
             "#46039f"
            ],
            [
             0.2222222222222222,
             "#7201a8"
            ],
            [
             0.3333333333333333,
             "#9c179e"
            ],
            [
             0.4444444444444444,
             "#bd3786"
            ],
            [
             0.5555555555555556,
             "#d8576b"
            ],
            [
             0.6666666666666666,
             "#ed7953"
            ],
            [
             0.7777777777777778,
             "#fb9f3a"
            ],
            [
             0.8888888888888888,
             "#fdca26"
            ],
            [
             1,
             "#f0f921"
            ]
           ]
          },
          "colorway": [
           "#636efa",
           "#EF553B",
           "#00cc96",
           "#ab63fa",
           "#FFA15A",
           "#19d3f3",
           "#FF6692",
           "#B6E880",
           "#FF97FF",
           "#FECB52"
          ],
          "font": {
           "color": "#2a3f5f"
          },
          "geo": {
           "bgcolor": "white",
           "lakecolor": "white",
           "landcolor": "#E5ECF6",
           "showlakes": true,
           "showland": true,
           "subunitcolor": "white"
          },
          "hoverlabel": {
           "align": "left"
          },
          "hovermode": "closest",
          "mapbox": {
           "style": "light"
          },
          "paper_bgcolor": "white",
          "plot_bgcolor": "#E5ECF6",
          "polar": {
           "angularaxis": {
            "gridcolor": "white",
            "linecolor": "white",
            "ticks": ""
           },
           "bgcolor": "#E5ECF6",
           "radialaxis": {
            "gridcolor": "white",
            "linecolor": "white",
            "ticks": ""
           }
          },
          "scene": {
           "xaxis": {
            "backgroundcolor": "#E5ECF6",
            "gridcolor": "white",
            "gridwidth": 2,
            "linecolor": "white",
            "showbackground": true,
            "ticks": "",
            "zerolinecolor": "white"
           },
           "yaxis": {
            "backgroundcolor": "#E5ECF6",
            "gridcolor": "white",
            "gridwidth": 2,
            "linecolor": "white",
            "showbackground": true,
            "ticks": "",
            "zerolinecolor": "white"
           },
           "zaxis": {
            "backgroundcolor": "#E5ECF6",
            "gridcolor": "white",
            "gridwidth": 2,
            "linecolor": "white",
            "showbackground": true,
            "ticks": "",
            "zerolinecolor": "white"
           }
          },
          "shapedefaults": {
           "line": {
            "color": "#2a3f5f"
           }
          },
          "ternary": {
           "aaxis": {
            "gridcolor": "white",
            "linecolor": "white",
            "ticks": ""
           },
           "baxis": {
            "gridcolor": "white",
            "linecolor": "white",
            "ticks": ""
           },
           "bgcolor": "#E5ECF6",
           "caxis": {
            "gridcolor": "white",
            "linecolor": "white",
            "ticks": ""
           }
          },
          "title": {
           "x": 0.05
          },
          "xaxis": {
           "automargin": true,
           "gridcolor": "white",
           "linecolor": "white",
           "ticks": "",
           "title": {
            "standoff": 15
           },
           "zerolinecolor": "white",
           "zerolinewidth": 2
          },
          "yaxis": {
           "automargin": true,
           "gridcolor": "white",
           "linecolor": "white",
           "ticks": "",
           "title": {
            "standoff": 15
           },
           "zerolinecolor": "white",
           "zerolinewidth": 2
          }
         }
        },
        "title": {
         "text": "Target1 Top 50 feature importance"
        },
        "width": 1250,
        "xaxis": {
         "anchor": "y",
         "domain": [
          0,
          1
         ],
         "title": {
          "text": "feature_importance"
         }
        },
        "yaxis": {
         "anchor": "x",
         "categoryarray": [
          "TeamBoxScoresCount_stolenBases",
          "PlayerBoxScoresCount_strikeOutsPitching",
          "TeamBoxScoresCount_hitsPitching",
          "TeamBoxScoresCount_rbiPitching",
          "TeamBoxScoresCount_atBats",
          "TeamBoxScoresCount_earnedRuns",
          "TeamBoxScoresCount_baseOnBallsPitching",
          "TeamBoxScoresCount_runsPitching",
          "PlayerBoxScoresCount_battingOrder",
          "PlayerBoxScoresCount_homeRuns",
          "TeamBoxScoresCount_hitByPitch",
          "TeamBoxScoresCount_homeRuns",
          "PlayerBoxScoresCount_totalBases",
          "PlayerBoxScoresCount_inningsPitched",
          "PlayerBoxScoresCount_saves",
          "PlayerBoxScoresCount_plateAppearances",
          "TeamBoxScoresCount_atBatsPitching",
          "TeamBoxScoresCount_battersFaced",
          "Players_LE_birthCountry",
          "target3_quantile25",
          "PlayerBoxScoresCount_rbi",
          "Players_LE_primaryPositionCode",
          "target4_max",
          "target3_std",
          "target3_max",
          "target2_max",
          "target4_min",
          "target2_min",
          "target4_std",
          "target1_max",
          "target3_quantile75",
          "target4_quantile75",
          "target2_std",
          "target3_median",
          "target3_mean",
          "target2_mean",
          "target4_mean",
          "target4_median",
          "Players_LE_playerid",
          "target1_std",
          "target4_quantile25",
          "target2_quantile75",
          "target1_quantile25",
          "target2_quantile25",
          "target2_median",
          "target1_mean",
          "Rosters_LE_status",
          "Rosters_LE_teamId",
          "target1_median",
          "target1_quantile75"
         ],
         "categoryorder": "array",
         "domain": [
          0,
          1
         ],
         "showgrid": true,
         "title": {
          "text": "feature"
         }
        }
       }
      }
     },
     "metadata": {}
    },
    {
     "output_type": "display_data",
     "data": {
      "application/vnd.plotly.v1+json": {
       "config": {
        "plotlyServerURL": "https://plot.ly"
       },
       "data": [
        {
         "alignmentgroup": "True",
         "hovertemplate": "feature_importance=%{x}<br>feature=%{y}<extra></extra>",
         "legendgroup": "",
         "marker": {
          "color": "#636efa"
         },
         "name": "",
         "notched": false,
         "offsetgroup": "",
         "orientation": "h",
         "showlegend": false,
         "type": "box",
         "x": [
          5727.019943237305,
          4236.205017089844,
          35072.66104888916,
          79677.95470428467,
          9924.61695098877,
          29078.339767456055,
          163080.24699401855,
          2024551.0167922974,
          289035.34729003906,
          12469.044219970703,
          2271.8309936523438,
          22275.367179870605,
          61600.88822174072,
          2963.8599700927734,
          12642.36799621582,
          44333.02397918701,
          50941.67849731445,
          32601.814895629883,
          129674.40658569336,
          5698937.4638671875,
          29046.728889465332,
          8517.4599609375,
          19667.14365386963,
          5340.43994140625,
          16493.432846069336,
          6105.723670959473,
          3298.7224731445312,
          3976.135025024414,
          1564.0999755859375,
          9133.259063720703,
          22255.829833984375,
          14295.265747070312,
          18153.794860839844,
          14626.405532836914,
          37191.00176239014,
          46656.99816894531,
          36793.576919555664,
          6587.0400390625,
          5349.213928222656,
          7813.674896240234,
          9898.09716796875,
          24964.01895904541,
          28824.43440246582,
          11327.80728149414,
          6033.522033691406,
          27196.375701904297,
          5665.298110961914,
          3142.4820251464844,
          2799.8919982910156,
          5524.580078125,
          5370.437973022461,
          4957.343963623047,
          60142.13032531738,
          74274.05808258057,
          6336.540954589844,
          35797.24252319336,
          204928.4353942871,
          1621202.4539489746,
          285254.2544326782,
          7212.789932250977,
          2550.9624938964844,
          7605.837997436523,
          51542.49816894531,
          2902.5449829101562,
          6849.504280090332,
          63990.14793395996,
          36324.34214782715,
          48584.056228637695,
          155383.26094055176,
          5442707.67591095,
          40877.50212478638,
          8185.97021484375,
          23853.51773071289,
          0,
          10828.125793457031,
          6856.808654785156,
          2445.5079803466797,
          3364.3370208740234,
          6622.2900390625,
          9869.199111938477,
          22763.340087890625,
          16986.556213378906,
          21751.749755859375,
          44320.94023132324,
          4085.821632385254,
          22585.50909423828,
          39369.21434020996,
          0,
          3387.199951171875,
          473.57701110839844,
          19931.66015625,
          29434.732177734375,
          24595.457458496094,
          5024.5098876953125,
          550.2470092773438,
          39513.559814453125,
          1764.9579772949219,
          5120.916961669922,
          27354.711807250977,
          2151
         ],
         "x0": " ",
         "xaxis": "x",
         "y": [
          "target1_mean",
          "target1_std",
          "target1_quantile25",
          "target2_mean",
          "target2_std",
          "target2_min",
          "target2_median",
          "target2_quantile25",
          "target2_quantile75",
          "target3_mean",
          "target3_std",
          "target3_quantile75",
          "target4_mean",
          "target4_std",
          "target4_min",
          "target4_median",
          "target4_quantile25",
          "target4_quantile75",
          "Rosters_LE_teamId",
          "Rosters_LE_status",
          "Players_LE_playerid",
          "PlayerBoxScoresCount_home",
          "PlayerBoxScoresCount_battingOrder",
          "PlayerBoxScoresCount_baseOnBalls",
          "PlayerBoxScoresCount_plateAppearances",
          "PlayerBoxScoresCount_totalBases",
          "PlayerBoxScoresCount_rbi",
          "PlayerBoxScoresCount_winsPitching",
          "PlayerBoxScoresCount_balls",
          "PlayerBoxScoresCount_inheritedRunners",
          "PlayerBoxScoresCount_inheritedRunnersScored",
          "PlayerBoxScoresCount_putOuts",
          "TeamBoxScoresCount_flyOuts",
          "TeamBoxScoresCount_groundOuts",
          "TeamBoxScoresCount_runsScored",
          "TeamBoxScoresCount_doubles",
          "TeamBoxScoresCount_homeRuns",
          "TeamBoxScoresCount_strikeOuts",
          "TeamBoxScoresCount_atBats",
          "TeamBoxScoresCount_stolenBases",
          "TeamBoxScoresCount_plateAppearances",
          "TeamBoxScoresCount_totalBases",
          "TeamBoxScoresCount_rbi",
          "TeamBoxScoresCount_leftOnBase",
          "TeamBoxScoresCount_baseOnBallsPitching",
          "TeamBoxScoresCount_hitsPitching",
          "TeamBoxScoresCount_atBatsPitching",
          "TeamBoxScoresCount_inningsPitched",
          "TeamBoxScoresCount_earnedRuns",
          "TeamBoxScoresCount_rbiPitching",
          "target1_mean",
          "target1_std",
          "target1_quantile25",
          "target2_mean",
          "target2_std",
          "target2_min",
          "target2_median",
          "target2_quantile25",
          "target2_quantile75",
          "target3_mean",
          "target3_std",
          "target3_quantile75",
          "target4_mean",
          "target4_std",
          "target4_min",
          "target4_median",
          "target4_quantile25",
          "target4_quantile75",
          "Rosters_LE_teamId",
          "Rosters_LE_status",
          "Players_LE_playerid",
          "PlayerBoxScoresCount_home",
          "PlayerBoxScoresCount_battingOrder",
          "PlayerBoxScoresCount_baseOnBalls",
          "PlayerBoxScoresCount_plateAppearances",
          "PlayerBoxScoresCount_totalBases",
          "PlayerBoxScoresCount_rbi",
          "PlayerBoxScoresCount_winsPitching",
          "PlayerBoxScoresCount_balls",
          "PlayerBoxScoresCount_inheritedRunners",
          "PlayerBoxScoresCount_inheritedRunnersScored",
          "PlayerBoxScoresCount_putOuts",
          "TeamBoxScoresCount_flyOuts",
          "TeamBoxScoresCount_groundOuts",
          "TeamBoxScoresCount_runsScored",
          "TeamBoxScoresCount_doubles",
          "TeamBoxScoresCount_homeRuns",
          "TeamBoxScoresCount_strikeOuts",
          "TeamBoxScoresCount_atBats",
          "TeamBoxScoresCount_stolenBases",
          "TeamBoxScoresCount_plateAppearances",
          "TeamBoxScoresCount_totalBases",
          "TeamBoxScoresCount_rbi",
          "TeamBoxScoresCount_leftOnBase",
          "TeamBoxScoresCount_baseOnBallsPitching",
          "TeamBoxScoresCount_hitsPitching",
          "TeamBoxScoresCount_atBatsPitching",
          "TeamBoxScoresCount_inningsPitched",
          "TeamBoxScoresCount_earnedRuns",
          "TeamBoxScoresCount_rbiPitching"
         ],
         "y0": " ",
         "yaxis": "y"
        }
       ],
       "layout": {
        "boxmode": "group",
        "height": 900,
        "legend": {
         "tracegroupgap": 0
        },
        "template": {
         "data": {
          "bar": [
           {
            "error_x": {
             "color": "#2a3f5f"
            },
            "error_y": {
             "color": "#2a3f5f"
            },
            "marker": {
             "line": {
              "color": "#E5ECF6",
              "width": 0.5
             }
            },
            "type": "bar"
           }
          ],
          "barpolar": [
           {
            "marker": {
             "line": {
              "color": "#E5ECF6",
              "width": 0.5
             }
            },
            "type": "barpolar"
           }
          ],
          "carpet": [
           {
            "aaxis": {
             "endlinecolor": "#2a3f5f",
             "gridcolor": "white",
             "linecolor": "white",
             "minorgridcolor": "white",
             "startlinecolor": "#2a3f5f"
            },
            "baxis": {
             "endlinecolor": "#2a3f5f",
             "gridcolor": "white",
             "linecolor": "white",
             "minorgridcolor": "white",
             "startlinecolor": "#2a3f5f"
            },
            "type": "carpet"
           }
          ],
          "choropleth": [
           {
            "colorbar": {
             "outlinewidth": 0,
             "ticks": ""
            },
            "type": "choropleth"
           }
          ],
          "contour": [
           {
            "colorbar": {
             "outlinewidth": 0,
             "ticks": ""
            },
            "colorscale": [
             [
              0,
              "#0d0887"
             ],
             [
              0.1111111111111111,
              "#46039f"
             ],
             [
              0.2222222222222222,
              "#7201a8"
             ],
             [
              0.3333333333333333,
              "#9c179e"
             ],
             [
              0.4444444444444444,
              "#bd3786"
             ],
             [
              0.5555555555555556,
              "#d8576b"
             ],
             [
              0.6666666666666666,
              "#ed7953"
             ],
             [
              0.7777777777777778,
              "#fb9f3a"
             ],
             [
              0.8888888888888888,
              "#fdca26"
             ],
             [
              1,
              "#f0f921"
             ]
            ],
            "type": "contour"
           }
          ],
          "contourcarpet": [
           {
            "colorbar": {
             "outlinewidth": 0,
             "ticks": ""
            },
            "type": "contourcarpet"
           }
          ],
          "heatmap": [
           {
            "colorbar": {
             "outlinewidth": 0,
             "ticks": ""
            },
            "colorscale": [
             [
              0,
              "#0d0887"
             ],
             [
              0.1111111111111111,
              "#46039f"
             ],
             [
              0.2222222222222222,
              "#7201a8"
             ],
             [
              0.3333333333333333,
              "#9c179e"
             ],
             [
              0.4444444444444444,
              "#bd3786"
             ],
             [
              0.5555555555555556,
              "#d8576b"
             ],
             [
              0.6666666666666666,
              "#ed7953"
             ],
             [
              0.7777777777777778,
              "#fb9f3a"
             ],
             [
              0.8888888888888888,
              "#fdca26"
             ],
             [
              1,
              "#f0f921"
             ]
            ],
            "type": "heatmap"
           }
          ],
          "heatmapgl": [
           {
            "colorbar": {
             "outlinewidth": 0,
             "ticks": ""
            },
            "colorscale": [
             [
              0,
              "#0d0887"
             ],
             [
              0.1111111111111111,
              "#46039f"
             ],
             [
              0.2222222222222222,
              "#7201a8"
             ],
             [
              0.3333333333333333,
              "#9c179e"
             ],
             [
              0.4444444444444444,
              "#bd3786"
             ],
             [
              0.5555555555555556,
              "#d8576b"
             ],
             [
              0.6666666666666666,
              "#ed7953"
             ],
             [
              0.7777777777777778,
              "#fb9f3a"
             ],
             [
              0.8888888888888888,
              "#fdca26"
             ],
             [
              1,
              "#f0f921"
             ]
            ],
            "type": "heatmapgl"
           }
          ],
          "histogram": [
           {
            "marker": {
             "colorbar": {
              "outlinewidth": 0,
              "ticks": ""
             }
            },
            "type": "histogram"
           }
          ],
          "histogram2d": [
           {
            "colorbar": {
             "outlinewidth": 0,
             "ticks": ""
            },
            "colorscale": [
             [
              0,
              "#0d0887"
             ],
             [
              0.1111111111111111,
              "#46039f"
             ],
             [
              0.2222222222222222,
              "#7201a8"
             ],
             [
              0.3333333333333333,
              "#9c179e"
             ],
             [
              0.4444444444444444,
              "#bd3786"
             ],
             [
              0.5555555555555556,
              "#d8576b"
             ],
             [
              0.6666666666666666,
              "#ed7953"
             ],
             [
              0.7777777777777778,
              "#fb9f3a"
             ],
             [
              0.8888888888888888,
              "#fdca26"
             ],
             [
              1,
              "#f0f921"
             ]
            ],
            "type": "histogram2d"
           }
          ],
          "histogram2dcontour": [
           {
            "colorbar": {
             "outlinewidth": 0,
             "ticks": ""
            },
            "colorscale": [
             [
              0,
              "#0d0887"
             ],
             [
              0.1111111111111111,
              "#46039f"
             ],
             [
              0.2222222222222222,
              "#7201a8"
             ],
             [
              0.3333333333333333,
              "#9c179e"
             ],
             [
              0.4444444444444444,
              "#bd3786"
             ],
             [
              0.5555555555555556,
              "#d8576b"
             ],
             [
              0.6666666666666666,
              "#ed7953"
             ],
             [
              0.7777777777777778,
              "#fb9f3a"
             ],
             [
              0.8888888888888888,
              "#fdca26"
             ],
             [
              1,
              "#f0f921"
             ]
            ],
            "type": "histogram2dcontour"
           }
          ],
          "mesh3d": [
           {
            "colorbar": {
             "outlinewidth": 0,
             "ticks": ""
            },
            "type": "mesh3d"
           }
          ],
          "parcoords": [
           {
            "line": {
             "colorbar": {
              "outlinewidth": 0,
              "ticks": ""
             }
            },
            "type": "parcoords"
           }
          ],
          "pie": [
           {
            "automargin": true,
            "type": "pie"
           }
          ],
          "scatter": [
           {
            "marker": {
             "colorbar": {
              "outlinewidth": 0,
              "ticks": ""
             }
            },
            "type": "scatter"
           }
          ],
          "scatter3d": [
           {
            "line": {
             "colorbar": {
              "outlinewidth": 0,
              "ticks": ""
             }
            },
            "marker": {
             "colorbar": {
              "outlinewidth": 0,
              "ticks": ""
             }
            },
            "type": "scatter3d"
           }
          ],
          "scattercarpet": [
           {
            "marker": {
             "colorbar": {
              "outlinewidth": 0,
              "ticks": ""
             }
            },
            "type": "scattercarpet"
           }
          ],
          "scattergeo": [
           {
            "marker": {
             "colorbar": {
              "outlinewidth": 0,
              "ticks": ""
             }
            },
            "type": "scattergeo"
           }
          ],
          "scattergl": [
           {
            "marker": {
             "colorbar": {
              "outlinewidth": 0,
              "ticks": ""
             }
            },
            "type": "scattergl"
           }
          ],
          "scattermapbox": [
           {
            "marker": {
             "colorbar": {
              "outlinewidth": 0,
              "ticks": ""
             }
            },
            "type": "scattermapbox"
           }
          ],
          "scatterpolar": [
           {
            "marker": {
             "colorbar": {
              "outlinewidth": 0,
              "ticks": ""
             }
            },
            "type": "scatterpolar"
           }
          ],
          "scatterpolargl": [
           {
            "marker": {
             "colorbar": {
              "outlinewidth": 0,
              "ticks": ""
             }
            },
            "type": "scatterpolargl"
           }
          ],
          "scatterternary": [
           {
            "marker": {
             "colorbar": {
              "outlinewidth": 0,
              "ticks": ""
             }
            },
            "type": "scatterternary"
           }
          ],
          "surface": [
           {
            "colorbar": {
             "outlinewidth": 0,
             "ticks": ""
            },
            "colorscale": [
             [
              0,
              "#0d0887"
             ],
             [
              0.1111111111111111,
              "#46039f"
             ],
             [
              0.2222222222222222,
              "#7201a8"
             ],
             [
              0.3333333333333333,
              "#9c179e"
             ],
             [
              0.4444444444444444,
              "#bd3786"
             ],
             [
              0.5555555555555556,
              "#d8576b"
             ],
             [
              0.6666666666666666,
              "#ed7953"
             ],
             [
              0.7777777777777778,
              "#fb9f3a"
             ],
             [
              0.8888888888888888,
              "#fdca26"
             ],
             [
              1,
              "#f0f921"
             ]
            ],
            "type": "surface"
           }
          ],
          "table": [
           {
            "cells": {
             "fill": {
              "color": "#EBF0F8"
             },
             "line": {
              "color": "white"
             }
            },
            "header": {
             "fill": {
              "color": "#C8D4E3"
             },
             "line": {
              "color": "white"
             }
            },
            "type": "table"
           }
          ]
         },
         "layout": {
          "annotationdefaults": {
           "arrowcolor": "#2a3f5f",
           "arrowhead": 0,
           "arrowwidth": 1
          },
          "autotypenumbers": "strict",
          "coloraxis": {
           "colorbar": {
            "outlinewidth": 0,
            "ticks": ""
           }
          },
          "colorscale": {
           "diverging": [
            [
             0,
             "#8e0152"
            ],
            [
             0.1,
             "#c51b7d"
            ],
            [
             0.2,
             "#de77ae"
            ],
            [
             0.3,
             "#f1b6da"
            ],
            [
             0.4,
             "#fde0ef"
            ],
            [
             0.5,
             "#f7f7f7"
            ],
            [
             0.6,
             "#e6f5d0"
            ],
            [
             0.7,
             "#b8e186"
            ],
            [
             0.8,
             "#7fbc41"
            ],
            [
             0.9,
             "#4d9221"
            ],
            [
             1,
             "#276419"
            ]
           ],
           "sequential": [
            [
             0,
             "#0d0887"
            ],
            [
             0.1111111111111111,
             "#46039f"
            ],
            [
             0.2222222222222222,
             "#7201a8"
            ],
            [
             0.3333333333333333,
             "#9c179e"
            ],
            [
             0.4444444444444444,
             "#bd3786"
            ],
            [
             0.5555555555555556,
             "#d8576b"
            ],
            [
             0.6666666666666666,
             "#ed7953"
            ],
            [
             0.7777777777777778,
             "#fb9f3a"
            ],
            [
             0.8888888888888888,
             "#fdca26"
            ],
            [
             1,
             "#f0f921"
            ]
           ],
           "sequentialminus": [
            [
             0,
             "#0d0887"
            ],
            [
             0.1111111111111111,
             "#46039f"
            ],
            [
             0.2222222222222222,
             "#7201a8"
            ],
            [
             0.3333333333333333,
             "#9c179e"
            ],
            [
             0.4444444444444444,
             "#bd3786"
            ],
            [
             0.5555555555555556,
             "#d8576b"
            ],
            [
             0.6666666666666666,
             "#ed7953"
            ],
            [
             0.7777777777777778,
             "#fb9f3a"
            ],
            [
             0.8888888888888888,
             "#fdca26"
            ],
            [
             1,
             "#f0f921"
            ]
           ]
          },
          "colorway": [
           "#636efa",
           "#EF553B",
           "#00cc96",
           "#ab63fa",
           "#FFA15A",
           "#19d3f3",
           "#FF6692",
           "#B6E880",
           "#FF97FF",
           "#FECB52"
          ],
          "font": {
           "color": "#2a3f5f"
          },
          "geo": {
           "bgcolor": "white",
           "lakecolor": "white",
           "landcolor": "#E5ECF6",
           "showlakes": true,
           "showland": true,
           "subunitcolor": "white"
          },
          "hoverlabel": {
           "align": "left"
          },
          "hovermode": "closest",
          "mapbox": {
           "style": "light"
          },
          "paper_bgcolor": "white",
          "plot_bgcolor": "#E5ECF6",
          "polar": {
           "angularaxis": {
            "gridcolor": "white",
            "linecolor": "white",
            "ticks": ""
           },
           "bgcolor": "#E5ECF6",
           "radialaxis": {
            "gridcolor": "white",
            "linecolor": "white",
            "ticks": ""
           }
          },
          "scene": {
           "xaxis": {
            "backgroundcolor": "#E5ECF6",
            "gridcolor": "white",
            "gridwidth": 2,
            "linecolor": "white",
            "showbackground": true,
            "ticks": "",
            "zerolinecolor": "white"
           },
           "yaxis": {
            "backgroundcolor": "#E5ECF6",
            "gridcolor": "white",
            "gridwidth": 2,
            "linecolor": "white",
            "showbackground": true,
            "ticks": "",
            "zerolinecolor": "white"
           },
           "zaxis": {
            "backgroundcolor": "#E5ECF6",
            "gridcolor": "white",
            "gridwidth": 2,
            "linecolor": "white",
            "showbackground": true,
            "ticks": "",
            "zerolinecolor": "white"
           }
          },
          "shapedefaults": {
           "line": {
            "color": "#2a3f5f"
           }
          },
          "ternary": {
           "aaxis": {
            "gridcolor": "white",
            "linecolor": "white",
            "ticks": ""
           },
           "baxis": {
            "gridcolor": "white",
            "linecolor": "white",
            "ticks": ""
           },
           "bgcolor": "#E5ECF6",
           "caxis": {
            "gridcolor": "white",
            "linecolor": "white",
            "ticks": ""
           }
          },
          "title": {
           "x": 0.05
          },
          "xaxis": {
           "automargin": true,
           "gridcolor": "white",
           "linecolor": "white",
           "ticks": "",
           "title": {
            "standoff": 15
           },
           "zerolinecolor": "white",
           "zerolinewidth": 2
          },
          "yaxis": {
           "automargin": true,
           "gridcolor": "white",
           "linecolor": "white",
           "ticks": "",
           "title": {
            "standoff": 15
           },
           "zerolinecolor": "white",
           "zerolinewidth": 2
          }
         }
        },
        "title": {
         "text": "Target2 Top 50 feature importance"
        },
        "width": 1250,
        "xaxis": {
         "anchor": "y",
         "domain": [
          0,
          1
         ],
         "title": {
          "text": "feature_importance"
         }
        },
        "yaxis": {
         "anchor": "x",
         "categoryarray": [
          "target3_std",
          "PlayerBoxScoresCount_baseOnBalls",
          "PlayerBoxScoresCount_rbi",
          "target4_std",
          "TeamBoxScoresCount_baseOnBallsPitching",
          "TeamBoxScoresCount_strikeOuts",
          "PlayerBoxScoresCount_winsPitching",
          "TeamBoxScoresCount_atBatsPitching",
          "TeamBoxScoresCount_rbiPitching",
          "PlayerBoxScoresCount_balls",
          "TeamBoxScoresCount_inningsPitched",
          "TeamBoxScoresCount_stolenBases",
          "TeamBoxScoresCount_atBats",
          "target1_std",
          "target1_mean",
          "PlayerBoxScoresCount_totalBases",
          "target2_std",
          "TeamBoxScoresCount_leftOnBase",
          "PlayerBoxScoresCount_home",
          "PlayerBoxScoresCount_inheritedRunners",
          "target4_min",
          "target3_mean",
          "PlayerBoxScoresCount_plateAppearances",
          "TeamBoxScoresCount_plateAppearances",
          "target3_quantile75",
          "TeamBoxScoresCount_earnedRuns",
          "PlayerBoxScoresCount_putOuts",
          "TeamBoxScoresCount_flyOuts",
          "TeamBoxScoresCount_runsScored",
          "PlayerBoxScoresCount_battingOrder",
          "PlayerBoxScoresCount_inheritedRunnersScored",
          "TeamBoxScoresCount_rbi",
          "TeamBoxScoresCount_totalBases",
          "TeamBoxScoresCount_groundOuts",
          "target2_min",
          "TeamBoxScoresCount_hitsPitching",
          "TeamBoxScoresCount_doubles",
          "Players_LE_playerid",
          "TeamBoxScoresCount_homeRuns",
          "target4_quantile75",
          "target4_quantile25",
          "target1_quantile25",
          "target4_median",
          "target4_mean",
          "target2_mean",
          "Rosters_LE_teamId",
          "target2_median",
          "target2_quantile75",
          "target2_quantile25",
          "Rosters_LE_status"
         ],
         "categoryorder": "array",
         "domain": [
          0,
          1
         ],
         "showgrid": true,
         "title": {
          "text": "feature"
         }
        }
       }
      }
     },
     "metadata": {}
    },
    {
     "output_type": "display_data",
     "data": {
      "application/vnd.plotly.v1+json": {
       "config": {
        "plotlyServerURL": "https://plot.ly"
       },
       "data": [
        {
         "alignmentgroup": "True",
         "hovertemplate": "feature_importance=%{x}<br>feature=%{y}<extra></extra>",
         "legendgroup": "",
         "marker": {
          "color": "#636efa"
         },
         "name": "",
         "notched": false,
         "offsetgroup": "",
         "orientation": "h",
         "showlegend": false,
         "type": "box",
         "x": [
          14222.734203338623,
          3810.219512939453,
          4269.623977661133,
          11149.157005310059,
          7123.020034790039,
          8768.648307800293,
          94242.68648529053,
          27199.565521240234,
          14485.656328201294,
          55491.84016418457,
          230673.62281036377,
          343901.9483604431,
          367617.3499145508,
          324962.74171829224,
          45893.18249511719,
          104733.31718444824,
          12360776.822914124,
          453802.9135055542,
          5831054.449577332,
          21964.676918029785,
          19214.844932556152,
          8716.455627441406,
          66723.67587280273,
          160323.95406341553,
          272936.7892227173,
          106193.14631652832,
          4749261.053356171,
          486346.06118011475,
          6958.2594871521,
          4731.951541900635,
          345059.88121032715,
          3375.862991333008,
          4883.24397277832,
          2980.021942138672,
          7348.460113525391,
          6654.105026245117,
          3608.2820358276367,
          5779.255500793457,
          10782.462829589844,
          3754.1503295898438,
          1239.499008178711,
          6086.154724121094,
          12189.102951049805,
          4750.286956787109,
          3080.5650024414062,
          10305.998931884766,
          15410.670890808105,
          5476.9190673828125,
          7312.894390106201,
          21445.135864257812,
          6111.885513305664,
          3134.7627143859863,
          3589.242904663086,
          4800.445983886719,
          1834.2422943115234,
          3904.399513244629,
          63044.416564941406,
          21149.618103027344,
          1370.3697967529297,
          34425.81799316406,
          144355.1750679016,
          168889.25437164307,
          239009.46780014038,
          284058.26919555664,
          20091.363925933838,
          66514.5400390625,
          9159965.226158142,
          890557.2352905273,
          3176942.8386039734,
          23473.54775619507,
          9994.631507873535,
          3119.3968086242676,
          96819.89340209961,
          74565.05730438232,
          237338.30448913574,
          61530.112144470215,
          3395015.147377014,
          195086.5504837036,
          1951.4560089111328,
          1083.0569915771484,
          225887.86038970947,
          2731.8509674072266,
          5156.339172363281,
          3347.194091796875,
          3332.7440185546875,
          1836.061019897461,
          3441.804885864258,
          4416.776031494141,
          18472.916137695312,
          6292.380882263184,
          8660.596878051758,
          5251.872215270996,
          35394.76005554199,
          630.8070068359375,
          5283.525009155273,
          636.6859741210938,
          22382.77032470703,
          856.0220184326172,
          421.0820007324219,
          18084.775802612305
         ],
         "x0": " ",
         "xaxis": "x",
         "y": [
          "target1_mean",
          "target1_std",
          "target1_max",
          "target1_median",
          "target1_quantile25",
          "target1_quantile75",
          "target2_mean",
          "target2_std",
          "target2_max",
          "target2_min",
          "target2_median",
          "target2_quantile25",
          "target2_quantile75",
          "target3_mean",
          "target3_std",
          "target3_max",
          "target3_median",
          "target3_quantile25",
          "target3_quantile75",
          "target4_mean",
          "target4_std",
          "target4_max",
          "target4_min",
          "target4_median",
          "target4_quantile25",
          "target4_quantile75",
          "Rosters_LE_teamId",
          "Rosters_LE_status",
          "Players_LE_birthCountry",
          "Players_LE_primaryPositionCode",
          "Players_LE_playerid",
          "PlayerBoxScoresCount_battingOrder",
          "PlayerBoxScoresCount_plateAppearances",
          "PlayerBoxScoresCount_inheritedRunners",
          "TeamBoxScoresCount_flyOuts",
          "TeamBoxScoresCount_groundOuts",
          "TeamBoxScoresCount_strikeOuts",
          "TeamBoxScoresCount_hits",
          "TeamBoxScoresCount_hitByPitch",
          "TeamBoxScoresCount_stolenBases",
          "TeamBoxScoresCount_plateAppearances",
          "TeamBoxScoresCount_totalBases",
          "TeamBoxScoresCount_leftOnBase",
          "TeamBoxScoresCount_catchersInterference",
          "TeamBoxScoresCount_homeRunsPitching",
          "TeamBoxScoresCount_strikeOutsPitching",
          "TeamBoxScoresCount_hitByPitchPitching",
          "TeamBoxScoresCount_atBatsPitching",
          "TeamBoxScoresCount_earnedRuns",
          "TeamBoxScoresCount_battersFaced",
          "target1_mean",
          "target1_std",
          "target1_max",
          "target1_median",
          "target1_quantile25",
          "target1_quantile75",
          "target2_mean",
          "target2_std",
          "target2_max",
          "target2_min",
          "target2_median",
          "target2_quantile25",
          "target2_quantile75",
          "target3_mean",
          "target3_std",
          "target3_max",
          "target3_median",
          "target3_quantile25",
          "target3_quantile75",
          "target4_mean",
          "target4_std",
          "target4_max",
          "target4_min",
          "target4_median",
          "target4_quantile25",
          "target4_quantile75",
          "Rosters_LE_teamId",
          "Rosters_LE_status",
          "Players_LE_birthCountry",
          "Players_LE_primaryPositionCode",
          "Players_LE_playerid",
          "PlayerBoxScoresCount_battingOrder",
          "PlayerBoxScoresCount_plateAppearances",
          "PlayerBoxScoresCount_inheritedRunners",
          "TeamBoxScoresCount_flyOuts",
          "TeamBoxScoresCount_groundOuts",
          "TeamBoxScoresCount_strikeOuts",
          "TeamBoxScoresCount_hits",
          "TeamBoxScoresCount_hitByPitch",
          "TeamBoxScoresCount_stolenBases",
          "TeamBoxScoresCount_plateAppearances",
          "TeamBoxScoresCount_totalBases",
          "TeamBoxScoresCount_leftOnBase",
          "TeamBoxScoresCount_catchersInterference",
          "TeamBoxScoresCount_homeRunsPitching",
          "TeamBoxScoresCount_strikeOutsPitching",
          "TeamBoxScoresCount_hitByPitchPitching",
          "TeamBoxScoresCount_atBatsPitching",
          "TeamBoxScoresCount_earnedRuns",
          "TeamBoxScoresCount_battersFaced"
         ],
         "y0": " ",
         "yaxis": "y"
        }
       ],
       "layout": {
        "boxmode": "group",
        "height": 900,
        "legend": {
         "tracegroupgap": 0
        },
        "template": {
         "data": {
          "bar": [
           {
            "error_x": {
             "color": "#2a3f5f"
            },
            "error_y": {
             "color": "#2a3f5f"
            },
            "marker": {
             "line": {
              "color": "#E5ECF6",
              "width": 0.5
             }
            },
            "type": "bar"
           }
          ],
          "barpolar": [
           {
            "marker": {
             "line": {
              "color": "#E5ECF6",
              "width": 0.5
             }
            },
            "type": "barpolar"
           }
          ],
          "carpet": [
           {
            "aaxis": {
             "endlinecolor": "#2a3f5f",
             "gridcolor": "white",
             "linecolor": "white",
             "minorgridcolor": "white",
             "startlinecolor": "#2a3f5f"
            },
            "baxis": {
             "endlinecolor": "#2a3f5f",
             "gridcolor": "white",
             "linecolor": "white",
             "minorgridcolor": "white",
             "startlinecolor": "#2a3f5f"
            },
            "type": "carpet"
           }
          ],
          "choropleth": [
           {
            "colorbar": {
             "outlinewidth": 0,
             "ticks": ""
            },
            "type": "choropleth"
           }
          ],
          "contour": [
           {
            "colorbar": {
             "outlinewidth": 0,
             "ticks": ""
            },
            "colorscale": [
             [
              0,
              "#0d0887"
             ],
             [
              0.1111111111111111,
              "#46039f"
             ],
             [
              0.2222222222222222,
              "#7201a8"
             ],
             [
              0.3333333333333333,
              "#9c179e"
             ],
             [
              0.4444444444444444,
              "#bd3786"
             ],
             [
              0.5555555555555556,
              "#d8576b"
             ],
             [
              0.6666666666666666,
              "#ed7953"
             ],
             [
              0.7777777777777778,
              "#fb9f3a"
             ],
             [
              0.8888888888888888,
              "#fdca26"
             ],
             [
              1,
              "#f0f921"
             ]
            ],
            "type": "contour"
           }
          ],
          "contourcarpet": [
           {
            "colorbar": {
             "outlinewidth": 0,
             "ticks": ""
            },
            "type": "contourcarpet"
           }
          ],
          "heatmap": [
           {
            "colorbar": {
             "outlinewidth": 0,
             "ticks": ""
            },
            "colorscale": [
             [
              0,
              "#0d0887"
             ],
             [
              0.1111111111111111,
              "#46039f"
             ],
             [
              0.2222222222222222,
              "#7201a8"
             ],
             [
              0.3333333333333333,
              "#9c179e"
             ],
             [
              0.4444444444444444,
              "#bd3786"
             ],
             [
              0.5555555555555556,
              "#d8576b"
             ],
             [
              0.6666666666666666,
              "#ed7953"
             ],
             [
              0.7777777777777778,
              "#fb9f3a"
             ],
             [
              0.8888888888888888,
              "#fdca26"
             ],
             [
              1,
              "#f0f921"
             ]
            ],
            "type": "heatmap"
           }
          ],
          "heatmapgl": [
           {
            "colorbar": {
             "outlinewidth": 0,
             "ticks": ""
            },
            "colorscale": [
             [
              0,
              "#0d0887"
             ],
             [
              0.1111111111111111,
              "#46039f"
             ],
             [
              0.2222222222222222,
              "#7201a8"
             ],
             [
              0.3333333333333333,
              "#9c179e"
             ],
             [
              0.4444444444444444,
              "#bd3786"
             ],
             [
              0.5555555555555556,
              "#d8576b"
             ],
             [
              0.6666666666666666,
              "#ed7953"
             ],
             [
              0.7777777777777778,
              "#fb9f3a"
             ],
             [
              0.8888888888888888,
              "#fdca26"
             ],
             [
              1,
              "#f0f921"
             ]
            ],
            "type": "heatmapgl"
           }
          ],
          "histogram": [
           {
            "marker": {
             "colorbar": {
              "outlinewidth": 0,
              "ticks": ""
             }
            },
            "type": "histogram"
           }
          ],
          "histogram2d": [
           {
            "colorbar": {
             "outlinewidth": 0,
             "ticks": ""
            },
            "colorscale": [
             [
              0,
              "#0d0887"
             ],
             [
              0.1111111111111111,
              "#46039f"
             ],
             [
              0.2222222222222222,
              "#7201a8"
             ],
             [
              0.3333333333333333,
              "#9c179e"
             ],
             [
              0.4444444444444444,
              "#bd3786"
             ],
             [
              0.5555555555555556,
              "#d8576b"
             ],
             [
              0.6666666666666666,
              "#ed7953"
             ],
             [
              0.7777777777777778,
              "#fb9f3a"
             ],
             [
              0.8888888888888888,
              "#fdca26"
             ],
             [
              1,
              "#f0f921"
             ]
            ],
            "type": "histogram2d"
           }
          ],
          "histogram2dcontour": [
           {
            "colorbar": {
             "outlinewidth": 0,
             "ticks": ""
            },
            "colorscale": [
             [
              0,
              "#0d0887"
             ],
             [
              0.1111111111111111,
              "#46039f"
             ],
             [
              0.2222222222222222,
              "#7201a8"
             ],
             [
              0.3333333333333333,
              "#9c179e"
             ],
             [
              0.4444444444444444,
              "#bd3786"
             ],
             [
              0.5555555555555556,
              "#d8576b"
             ],
             [
              0.6666666666666666,
              "#ed7953"
             ],
             [
              0.7777777777777778,
              "#fb9f3a"
             ],
             [
              0.8888888888888888,
              "#fdca26"
             ],
             [
              1,
              "#f0f921"
             ]
            ],
            "type": "histogram2dcontour"
           }
          ],
          "mesh3d": [
           {
            "colorbar": {
             "outlinewidth": 0,
             "ticks": ""
            },
            "type": "mesh3d"
           }
          ],
          "parcoords": [
           {
            "line": {
             "colorbar": {
              "outlinewidth": 0,
              "ticks": ""
             }
            },
            "type": "parcoords"
           }
          ],
          "pie": [
           {
            "automargin": true,
            "type": "pie"
           }
          ],
          "scatter": [
           {
            "marker": {
             "colorbar": {
              "outlinewidth": 0,
              "ticks": ""
             }
            },
            "type": "scatter"
           }
          ],
          "scatter3d": [
           {
            "line": {
             "colorbar": {
              "outlinewidth": 0,
              "ticks": ""
             }
            },
            "marker": {
             "colorbar": {
              "outlinewidth": 0,
              "ticks": ""
             }
            },
            "type": "scatter3d"
           }
          ],
          "scattercarpet": [
           {
            "marker": {
             "colorbar": {
              "outlinewidth": 0,
              "ticks": ""
             }
            },
            "type": "scattercarpet"
           }
          ],
          "scattergeo": [
           {
            "marker": {
             "colorbar": {
              "outlinewidth": 0,
              "ticks": ""
             }
            },
            "type": "scattergeo"
           }
          ],
          "scattergl": [
           {
            "marker": {
             "colorbar": {
              "outlinewidth": 0,
              "ticks": ""
             }
            },
            "type": "scattergl"
           }
          ],
          "scattermapbox": [
           {
            "marker": {
             "colorbar": {
              "outlinewidth": 0,
              "ticks": ""
             }
            },
            "type": "scattermapbox"
           }
          ],
          "scatterpolar": [
           {
            "marker": {
             "colorbar": {
              "outlinewidth": 0,
              "ticks": ""
             }
            },
            "type": "scatterpolar"
           }
          ],
          "scatterpolargl": [
           {
            "marker": {
             "colorbar": {
              "outlinewidth": 0,
              "ticks": ""
             }
            },
            "type": "scatterpolargl"
           }
          ],
          "scatterternary": [
           {
            "marker": {
             "colorbar": {
              "outlinewidth": 0,
              "ticks": ""
             }
            },
            "type": "scatterternary"
           }
          ],
          "surface": [
           {
            "colorbar": {
             "outlinewidth": 0,
             "ticks": ""
            },
            "colorscale": [
             [
              0,
              "#0d0887"
             ],
             [
              0.1111111111111111,
              "#46039f"
             ],
             [
              0.2222222222222222,
              "#7201a8"
             ],
             [
              0.3333333333333333,
              "#9c179e"
             ],
             [
              0.4444444444444444,
              "#bd3786"
             ],
             [
              0.5555555555555556,
              "#d8576b"
             ],
             [
              0.6666666666666666,
              "#ed7953"
             ],
             [
              0.7777777777777778,
              "#fb9f3a"
             ],
             [
              0.8888888888888888,
              "#fdca26"
             ],
             [
              1,
              "#f0f921"
             ]
            ],
            "type": "surface"
           }
          ],
          "table": [
           {
            "cells": {
             "fill": {
              "color": "#EBF0F8"
             },
             "line": {
              "color": "white"
             }
            },
            "header": {
             "fill": {
              "color": "#C8D4E3"
             },
             "line": {
              "color": "white"
             }
            },
            "type": "table"
           }
          ]
         },
         "layout": {
          "annotationdefaults": {
           "arrowcolor": "#2a3f5f",
           "arrowhead": 0,
           "arrowwidth": 1
          },
          "autotypenumbers": "strict",
          "coloraxis": {
           "colorbar": {
            "outlinewidth": 0,
            "ticks": ""
           }
          },
          "colorscale": {
           "diverging": [
            [
             0,
             "#8e0152"
            ],
            [
             0.1,
             "#c51b7d"
            ],
            [
             0.2,
             "#de77ae"
            ],
            [
             0.3,
             "#f1b6da"
            ],
            [
             0.4,
             "#fde0ef"
            ],
            [
             0.5,
             "#f7f7f7"
            ],
            [
             0.6,
             "#e6f5d0"
            ],
            [
             0.7,
             "#b8e186"
            ],
            [
             0.8,
             "#7fbc41"
            ],
            [
             0.9,
             "#4d9221"
            ],
            [
             1,
             "#276419"
            ]
           ],
           "sequential": [
            [
             0,
             "#0d0887"
            ],
            [
             0.1111111111111111,
             "#46039f"
            ],
            [
             0.2222222222222222,
             "#7201a8"
            ],
            [
             0.3333333333333333,
             "#9c179e"
            ],
            [
             0.4444444444444444,
             "#bd3786"
            ],
            [
             0.5555555555555556,
             "#d8576b"
            ],
            [
             0.6666666666666666,
             "#ed7953"
            ],
            [
             0.7777777777777778,
             "#fb9f3a"
            ],
            [
             0.8888888888888888,
             "#fdca26"
            ],
            [
             1,
             "#f0f921"
            ]
           ],
           "sequentialminus": [
            [
             0,
             "#0d0887"
            ],
            [
             0.1111111111111111,
             "#46039f"
            ],
            [
             0.2222222222222222,
             "#7201a8"
            ],
            [
             0.3333333333333333,
             "#9c179e"
            ],
            [
             0.4444444444444444,
             "#bd3786"
            ],
            [
             0.5555555555555556,
             "#d8576b"
            ],
            [
             0.6666666666666666,
             "#ed7953"
            ],
            [
             0.7777777777777778,
             "#fb9f3a"
            ],
            [
             0.8888888888888888,
             "#fdca26"
            ],
            [
             1,
             "#f0f921"
            ]
           ]
          },
          "colorway": [
           "#636efa",
           "#EF553B",
           "#00cc96",
           "#ab63fa",
           "#FFA15A",
           "#19d3f3",
           "#FF6692",
           "#B6E880",
           "#FF97FF",
           "#FECB52"
          ],
          "font": {
           "color": "#2a3f5f"
          },
          "geo": {
           "bgcolor": "white",
           "lakecolor": "white",
           "landcolor": "#E5ECF6",
           "showlakes": true,
           "showland": true,
           "subunitcolor": "white"
          },
          "hoverlabel": {
           "align": "left"
          },
          "hovermode": "closest",
          "mapbox": {
           "style": "light"
          },
          "paper_bgcolor": "white",
          "plot_bgcolor": "#E5ECF6",
          "polar": {
           "angularaxis": {
            "gridcolor": "white",
            "linecolor": "white",
            "ticks": ""
           },
           "bgcolor": "#E5ECF6",
           "radialaxis": {
            "gridcolor": "white",
            "linecolor": "white",
            "ticks": ""
           }
          },
          "scene": {
           "xaxis": {
            "backgroundcolor": "#E5ECF6",
            "gridcolor": "white",
            "gridwidth": 2,
            "linecolor": "white",
            "showbackground": true,
            "ticks": "",
            "zerolinecolor": "white"
           },
           "yaxis": {
            "backgroundcolor": "#E5ECF6",
            "gridcolor": "white",
            "gridwidth": 2,
            "linecolor": "white",
            "showbackground": true,
            "ticks": "",
            "zerolinecolor": "white"
           },
           "zaxis": {
            "backgroundcolor": "#E5ECF6",
            "gridcolor": "white",
            "gridwidth": 2,
            "linecolor": "white",
            "showbackground": true,
            "ticks": "",
            "zerolinecolor": "white"
           }
          },
          "shapedefaults": {
           "line": {
            "color": "#2a3f5f"
           }
          },
          "ternary": {
           "aaxis": {
            "gridcolor": "white",
            "linecolor": "white",
            "ticks": ""
           },
           "baxis": {
            "gridcolor": "white",
            "linecolor": "white",
            "ticks": ""
           },
           "bgcolor": "#E5ECF6",
           "caxis": {
            "gridcolor": "white",
            "linecolor": "white",
            "ticks": ""
           }
          },
          "title": {
           "x": 0.05
          },
          "xaxis": {
           "automargin": true,
           "gridcolor": "white",
           "linecolor": "white",
           "ticks": "",
           "title": {
            "standoff": 15
           },
           "zerolinecolor": "white",
           "zerolinewidth": 2
          },
          "yaxis": {
           "automargin": true,
           "gridcolor": "white",
           "linecolor": "white",
           "ticks": "",
           "title": {
            "standoff": 15
           },
           "zerolinecolor": "white",
           "zerolinewidth": 2
          }
         }
        },
        "title": {
         "text": "Target3 Top 50 feature importance"
        },
        "width": 1250,
        "xaxis": {
         "anchor": "y",
         "domain": [
          0,
          1
         ],
         "title": {
          "text": "feature_importance"
         }
        },
        "yaxis": {
         "anchor": "x",
         "categoryarray": [
          "TeamBoxScoresCount_catchersInterference",
          "Players_LE_primaryPositionCode",
          "PlayerBoxScoresCount_battingOrder",
          "PlayerBoxScoresCount_inheritedRunners",
          "TeamBoxScoresCount_atBatsPitching",
          "target1_std",
          "TeamBoxScoresCount_strikeOuts",
          "TeamBoxScoresCount_earnedRuns",
          "target1_max",
          "TeamBoxScoresCount_homeRunsPitching",
          "TeamBoxScoresCount_groundOuts",
          "Players_LE_birthCountry",
          "target1_quantile25",
          "TeamBoxScoresCount_plateAppearances",
          "PlayerBoxScoresCount_plateAppearances",
          "TeamBoxScoresCount_stolenBases",
          "TeamBoxScoresCount_hits",
          "TeamBoxScoresCount_flyOuts",
          "TeamBoxScoresCount_strikeOutsPitching",
          "TeamBoxScoresCount_totalBases",
          "target4_max",
          "target1_quantile75",
          "target2_max",
          "target1_median",
          "target1_mean",
          "target4_std",
          "TeamBoxScoresCount_hitByPitch",
          "TeamBoxScoresCount_hitByPitchPitching",
          "TeamBoxScoresCount_battersFaced",
          "target4_mean",
          "TeamBoxScoresCount_leftOnBase",
          "target2_std",
          "target3_std",
          "target2_min",
          "target2_mean",
          "target4_min",
          "target4_quantile75",
          "target3_max",
          "target4_median",
          "target2_median",
          "target4_quantile25",
          "target2_quantile25",
          "Players_LE_playerid",
          "target2_quantile75",
          "target3_mean",
          "Rosters_LE_status",
          "target3_quantile25",
          "Rosters_LE_teamId",
          "target3_quantile75",
          "target3_median"
         ],
         "categoryorder": "array",
         "domain": [
          0,
          1
         ],
         "showgrid": true,
         "title": {
          "text": "feature"
         }
        }
       }
      }
     },
     "metadata": {}
    },
    {
     "output_type": "display_data",
     "data": {
      "application/vnd.plotly.v1+json": {
       "config": {
        "plotlyServerURL": "https://plot.ly"
       },
       "data": [
        {
         "alignmentgroup": "True",
         "hovertemplate": "feature_importance=%{x}<br>feature=%{y}<extra></extra>",
         "legendgroup": "",
         "marker": {
          "color": "#636efa"
         },
         "name": "",
         "notched": false,
         "offsetgroup": "",
         "orientation": "h",
         "showlegend": false,
         "type": "box",
         "x": [
          181740.03291799128,
          124560.19996643066,
          71566.50802612305,
          31678.154178619385,
          16300.575813293457,
          118533.01394844055,
          112529.30786323547,
          78557.94241714478,
          118423.6656627655,
          44218.05845451355,
          231216.09961509705,
          135636.35087013245,
          488053.5711545944,
          461280.5610027313,
          135600.5135154724,
          31847.455772399902,
          35865.57985687256,
          118558.344581604,
          467424.87244415283,
          73458.00798130035,
          61929.43503379822,
          3753.2660064697266,
          10583810.996547699,
          1018473.7125473022,
          4181341.2923583984,
          2862419.1089725494,
          717017.8946118355,
          20514.76604604721,
          50390.531215667725,
          112214.70073223114,
          7209.474662780762,
          10137.074068784714,
          3266.115900039673,
          3682.3270168304443,
          4619.0279541015625,
          10861.884880065918,
          7747.19575881958,
          4861.243346616626,
          6009.09979057312,
          7491.376246213913,
          21952.52351808548,
          4801.421443939209,
          7155.4211602211,
          40669.53453087807,
          10285.660442590714,
          6773.173499584198,
          20816.600546836853,
          4702.496783256531,
          23565.125007629395,
          18260.265211105347,
          82488.74367523193,
          22240.83653640747,
          36503.17960357666,
          27908.996070861816,
          13101.339958190918,
          44856.649951934814,
          67059.59179496765,
          49075.30533027649,
          24326.82031059265,
          33032.50387573242,
          304313.5901069641,
          109035.77310180664,
          317632.1617012024,
          125360.68764686584,
          30468.98507785797,
          44096.6431350708,
          22734.17137145996,
          70097.38575553894,
          280777.65784549713,
          58002.369802474976,
          70599.5239572525,
          2029.3965911865234,
          8407276.33852768,
          1255144.3977966309,
          4210793.189029694,
          2117768.3265018463,
          449256.69709920883,
          8175.559743881226,
          30860.78144454956,
          82933.20509147644,
          7722.938968658447,
          6007.844939231873,
          3315.571969985962,
          5951.83984375,
          5599.053894042969,
          10126.226638793945,
          6664.207227706909,
          8112.985471725464,
          1148.9351081848145,
          7137.186465263367,
          16894.938734054565,
          1163.477300643921,
          1557.848581314087,
          34465.6152715683,
          9955.648595809937,
          8448.823204040527,
          30274.70801925659,
          1462.5366172790527,
          24878.272872924805,
          8603.692401885986
         ],
         "x0": " ",
         "xaxis": "x",
         "y": [
          "target1_mean",
          "target1_std",
          "target1_max",
          "target1_median",
          "target1_quantile25",
          "target1_quantile75",
          "target2_mean",
          "target2_std",
          "target2_max",
          "target2_min",
          "target2_median",
          "target2_quantile25",
          "target2_quantile75",
          "target3_mean",
          "target3_std",
          "target3_max",
          "target3_median",
          "target3_quantile75",
          "target4_mean",
          "target4_std",
          "target4_max",
          "target4_min",
          "target4_median",
          "target4_quantile25",
          "target4_quantile75",
          "Rosters_LE_teamId",
          "Rosters_LE_status",
          "Players_LE_birthCountry",
          "Players_LE_primaryPositionCode",
          "Players_LE_playerid",
          "PlayerBoxScoresCount_battingOrder",
          "PlayerBoxScoresCount_plateAppearances",
          "PlayerBoxScoresCount_totalBases",
          "PlayerBoxScoresCount_inheritedRunners",
          "PlayerBoxScoresCount_inheritedRunnersScored",
          "PlayerBoxScoresCount_assists",
          "TeamBoxScoresCount_flyOuts",
          "TeamBoxScoresCount_groundOuts",
          "TeamBoxScoresCount_doubles",
          "TeamBoxScoresCount_strikeOuts",
          "TeamBoxScoresCount_hits",
          "TeamBoxScoresCount_stolenBases",
          "TeamBoxScoresCount_plateAppearances",
          "TeamBoxScoresCount_totalBases",
          "TeamBoxScoresCount_leftOnBase",
          "TeamBoxScoresCount_strikeOutsPitching",
          "TeamBoxScoresCount_hitsPitching",
          "TeamBoxScoresCount_atBatsPitching",
          "TeamBoxScoresCount_inningsPitched",
          "TeamBoxScoresCount_sacBuntsPitching",
          "target1_mean",
          "target1_std",
          "target1_max",
          "target1_median",
          "target1_quantile25",
          "target1_quantile75",
          "target2_mean",
          "target2_std",
          "target2_max",
          "target2_min",
          "target2_median",
          "target2_quantile25",
          "target2_quantile75",
          "target3_mean",
          "target3_std",
          "target3_max",
          "target3_median",
          "target3_quantile75",
          "target4_mean",
          "target4_std",
          "target4_max",
          "target4_min",
          "target4_median",
          "target4_quantile25",
          "target4_quantile75",
          "Rosters_LE_teamId",
          "Rosters_LE_status",
          "Players_LE_birthCountry",
          "Players_LE_primaryPositionCode",
          "Players_LE_playerid",
          "PlayerBoxScoresCount_battingOrder",
          "PlayerBoxScoresCount_plateAppearances",
          "PlayerBoxScoresCount_totalBases",
          "PlayerBoxScoresCount_inheritedRunners",
          "PlayerBoxScoresCount_inheritedRunnersScored",
          "PlayerBoxScoresCount_assists",
          "TeamBoxScoresCount_flyOuts",
          "TeamBoxScoresCount_groundOuts",
          "TeamBoxScoresCount_doubles",
          "TeamBoxScoresCount_strikeOuts",
          "TeamBoxScoresCount_hits",
          "TeamBoxScoresCount_stolenBases",
          "TeamBoxScoresCount_plateAppearances",
          "TeamBoxScoresCount_totalBases",
          "TeamBoxScoresCount_leftOnBase",
          "TeamBoxScoresCount_strikeOutsPitching",
          "TeamBoxScoresCount_hitsPitching",
          "TeamBoxScoresCount_atBatsPitching",
          "TeamBoxScoresCount_inningsPitched",
          "TeamBoxScoresCount_sacBuntsPitching"
         ],
         "y0": " ",
         "yaxis": "y"
        }
       ],
       "layout": {
        "boxmode": "group",
        "height": 900,
        "legend": {
         "tracegroupgap": 0
        },
        "template": {
         "data": {
          "bar": [
           {
            "error_x": {
             "color": "#2a3f5f"
            },
            "error_y": {
             "color": "#2a3f5f"
            },
            "marker": {
             "line": {
              "color": "#E5ECF6",
              "width": 0.5
             }
            },
            "type": "bar"
           }
          ],
          "barpolar": [
           {
            "marker": {
             "line": {
              "color": "#E5ECF6",
              "width": 0.5
             }
            },
            "type": "barpolar"
           }
          ],
          "carpet": [
           {
            "aaxis": {
             "endlinecolor": "#2a3f5f",
             "gridcolor": "white",
             "linecolor": "white",
             "minorgridcolor": "white",
             "startlinecolor": "#2a3f5f"
            },
            "baxis": {
             "endlinecolor": "#2a3f5f",
             "gridcolor": "white",
             "linecolor": "white",
             "minorgridcolor": "white",
             "startlinecolor": "#2a3f5f"
            },
            "type": "carpet"
           }
          ],
          "choropleth": [
           {
            "colorbar": {
             "outlinewidth": 0,
             "ticks": ""
            },
            "type": "choropleth"
           }
          ],
          "contour": [
           {
            "colorbar": {
             "outlinewidth": 0,
             "ticks": ""
            },
            "colorscale": [
             [
              0,
              "#0d0887"
             ],
             [
              0.1111111111111111,
              "#46039f"
             ],
             [
              0.2222222222222222,
              "#7201a8"
             ],
             [
              0.3333333333333333,
              "#9c179e"
             ],
             [
              0.4444444444444444,
              "#bd3786"
             ],
             [
              0.5555555555555556,
              "#d8576b"
             ],
             [
              0.6666666666666666,
              "#ed7953"
             ],
             [
              0.7777777777777778,
              "#fb9f3a"
             ],
             [
              0.8888888888888888,
              "#fdca26"
             ],
             [
              1,
              "#f0f921"
             ]
            ],
            "type": "contour"
           }
          ],
          "contourcarpet": [
           {
            "colorbar": {
             "outlinewidth": 0,
             "ticks": ""
            },
            "type": "contourcarpet"
           }
          ],
          "heatmap": [
           {
            "colorbar": {
             "outlinewidth": 0,
             "ticks": ""
            },
            "colorscale": [
             [
              0,
              "#0d0887"
             ],
             [
              0.1111111111111111,
              "#46039f"
             ],
             [
              0.2222222222222222,
              "#7201a8"
             ],
             [
              0.3333333333333333,
              "#9c179e"
             ],
             [
              0.4444444444444444,
              "#bd3786"
             ],
             [
              0.5555555555555556,
              "#d8576b"
             ],
             [
              0.6666666666666666,
              "#ed7953"
             ],
             [
              0.7777777777777778,
              "#fb9f3a"
             ],
             [
              0.8888888888888888,
              "#fdca26"
             ],
             [
              1,
              "#f0f921"
             ]
            ],
            "type": "heatmap"
           }
          ],
          "heatmapgl": [
           {
            "colorbar": {
             "outlinewidth": 0,
             "ticks": ""
            },
            "colorscale": [
             [
              0,
              "#0d0887"
             ],
             [
              0.1111111111111111,
              "#46039f"
             ],
             [
              0.2222222222222222,
              "#7201a8"
             ],
             [
              0.3333333333333333,
              "#9c179e"
             ],
             [
              0.4444444444444444,
              "#bd3786"
             ],
             [
              0.5555555555555556,
              "#d8576b"
             ],
             [
              0.6666666666666666,
              "#ed7953"
             ],
             [
              0.7777777777777778,
              "#fb9f3a"
             ],
             [
              0.8888888888888888,
              "#fdca26"
             ],
             [
              1,
              "#f0f921"
             ]
            ],
            "type": "heatmapgl"
           }
          ],
          "histogram": [
           {
            "marker": {
             "colorbar": {
              "outlinewidth": 0,
              "ticks": ""
             }
            },
            "type": "histogram"
           }
          ],
          "histogram2d": [
           {
            "colorbar": {
             "outlinewidth": 0,
             "ticks": ""
            },
            "colorscale": [
             [
              0,
              "#0d0887"
             ],
             [
              0.1111111111111111,
              "#46039f"
             ],
             [
              0.2222222222222222,
              "#7201a8"
             ],
             [
              0.3333333333333333,
              "#9c179e"
             ],
             [
              0.4444444444444444,
              "#bd3786"
             ],
             [
              0.5555555555555556,
              "#d8576b"
             ],
             [
              0.6666666666666666,
              "#ed7953"
             ],
             [
              0.7777777777777778,
              "#fb9f3a"
             ],
             [
              0.8888888888888888,
              "#fdca26"
             ],
             [
              1,
              "#f0f921"
             ]
            ],
            "type": "histogram2d"
           }
          ],
          "histogram2dcontour": [
           {
            "colorbar": {
             "outlinewidth": 0,
             "ticks": ""
            },
            "colorscale": [
             [
              0,
              "#0d0887"
             ],
             [
              0.1111111111111111,
              "#46039f"
             ],
             [
              0.2222222222222222,
              "#7201a8"
             ],
             [
              0.3333333333333333,
              "#9c179e"
             ],
             [
              0.4444444444444444,
              "#bd3786"
             ],
             [
              0.5555555555555556,
              "#d8576b"
             ],
             [
              0.6666666666666666,
              "#ed7953"
             ],
             [
              0.7777777777777778,
              "#fb9f3a"
             ],
             [
              0.8888888888888888,
              "#fdca26"
             ],
             [
              1,
              "#f0f921"
             ]
            ],
            "type": "histogram2dcontour"
           }
          ],
          "mesh3d": [
           {
            "colorbar": {
             "outlinewidth": 0,
             "ticks": ""
            },
            "type": "mesh3d"
           }
          ],
          "parcoords": [
           {
            "line": {
             "colorbar": {
              "outlinewidth": 0,
              "ticks": ""
             }
            },
            "type": "parcoords"
           }
          ],
          "pie": [
           {
            "automargin": true,
            "type": "pie"
           }
          ],
          "scatter": [
           {
            "marker": {
             "colorbar": {
              "outlinewidth": 0,
              "ticks": ""
             }
            },
            "type": "scatter"
           }
          ],
          "scatter3d": [
           {
            "line": {
             "colorbar": {
              "outlinewidth": 0,
              "ticks": ""
             }
            },
            "marker": {
             "colorbar": {
              "outlinewidth": 0,
              "ticks": ""
             }
            },
            "type": "scatter3d"
           }
          ],
          "scattercarpet": [
           {
            "marker": {
             "colorbar": {
              "outlinewidth": 0,
              "ticks": ""
             }
            },
            "type": "scattercarpet"
           }
          ],
          "scattergeo": [
           {
            "marker": {
             "colorbar": {
              "outlinewidth": 0,
              "ticks": ""
             }
            },
            "type": "scattergeo"
           }
          ],
          "scattergl": [
           {
            "marker": {
             "colorbar": {
              "outlinewidth": 0,
              "ticks": ""
             }
            },
            "type": "scattergl"
           }
          ],
          "scattermapbox": [
           {
            "marker": {
             "colorbar": {
              "outlinewidth": 0,
              "ticks": ""
             }
            },
            "type": "scattermapbox"
           }
          ],
          "scatterpolar": [
           {
            "marker": {
             "colorbar": {
              "outlinewidth": 0,
              "ticks": ""
             }
            },
            "type": "scatterpolar"
           }
          ],
          "scatterpolargl": [
           {
            "marker": {
             "colorbar": {
              "outlinewidth": 0,
              "ticks": ""
             }
            },
            "type": "scatterpolargl"
           }
          ],
          "scatterternary": [
           {
            "marker": {
             "colorbar": {
              "outlinewidth": 0,
              "ticks": ""
             }
            },
            "type": "scatterternary"
           }
          ],
          "surface": [
           {
            "colorbar": {
             "outlinewidth": 0,
             "ticks": ""
            },
            "colorscale": [
             [
              0,
              "#0d0887"
             ],
             [
              0.1111111111111111,
              "#46039f"
             ],
             [
              0.2222222222222222,
              "#7201a8"
             ],
             [
              0.3333333333333333,
              "#9c179e"
             ],
             [
              0.4444444444444444,
              "#bd3786"
             ],
             [
              0.5555555555555556,
              "#d8576b"
             ],
             [
              0.6666666666666666,
              "#ed7953"
             ],
             [
              0.7777777777777778,
              "#fb9f3a"
             ],
             [
              0.8888888888888888,
              "#fdca26"
             ],
             [
              1,
              "#f0f921"
             ]
            ],
            "type": "surface"
           }
          ],
          "table": [
           {
            "cells": {
             "fill": {
              "color": "#EBF0F8"
             },
             "line": {
              "color": "white"
             }
            },
            "header": {
             "fill": {
              "color": "#C8D4E3"
             },
             "line": {
              "color": "white"
             }
            },
            "type": "table"
           }
          ]
         },
         "layout": {
          "annotationdefaults": {
           "arrowcolor": "#2a3f5f",
           "arrowhead": 0,
           "arrowwidth": 1
          },
          "autotypenumbers": "strict",
          "coloraxis": {
           "colorbar": {
            "outlinewidth": 0,
            "ticks": ""
           }
          },
          "colorscale": {
           "diverging": [
            [
             0,
             "#8e0152"
            ],
            [
             0.1,
             "#c51b7d"
            ],
            [
             0.2,
             "#de77ae"
            ],
            [
             0.3,
             "#f1b6da"
            ],
            [
             0.4,
             "#fde0ef"
            ],
            [
             0.5,
             "#f7f7f7"
            ],
            [
             0.6,
             "#e6f5d0"
            ],
            [
             0.7,
             "#b8e186"
            ],
            [
             0.8,
             "#7fbc41"
            ],
            [
             0.9,
             "#4d9221"
            ],
            [
             1,
             "#276419"
            ]
           ],
           "sequential": [
            [
             0,
             "#0d0887"
            ],
            [
             0.1111111111111111,
             "#46039f"
            ],
            [
             0.2222222222222222,
             "#7201a8"
            ],
            [
             0.3333333333333333,
             "#9c179e"
            ],
            [
             0.4444444444444444,
             "#bd3786"
            ],
            [
             0.5555555555555556,
             "#d8576b"
            ],
            [
             0.6666666666666666,
             "#ed7953"
            ],
            [
             0.7777777777777778,
             "#fb9f3a"
            ],
            [
             0.8888888888888888,
             "#fdca26"
            ],
            [
             1,
             "#f0f921"
            ]
           ],
           "sequentialminus": [
            [
             0,
             "#0d0887"
            ],
            [
             0.1111111111111111,
             "#46039f"
            ],
            [
             0.2222222222222222,
             "#7201a8"
            ],
            [
             0.3333333333333333,
             "#9c179e"
            ],
            [
             0.4444444444444444,
             "#bd3786"
            ],
            [
             0.5555555555555556,
             "#d8576b"
            ],
            [
             0.6666666666666666,
             "#ed7953"
            ],
            [
             0.7777777777777778,
             "#fb9f3a"
            ],
            [
             0.8888888888888888,
             "#fdca26"
            ],
            [
             1,
             "#f0f921"
            ]
           ]
          },
          "colorway": [
           "#636efa",
           "#EF553B",
           "#00cc96",
           "#ab63fa",
           "#FFA15A",
           "#19d3f3",
           "#FF6692",
           "#B6E880",
           "#FF97FF",
           "#FECB52"
          ],
          "font": {
           "color": "#2a3f5f"
          },
          "geo": {
           "bgcolor": "white",
           "lakecolor": "white",
           "landcolor": "#E5ECF6",
           "showlakes": true,
           "showland": true,
           "subunitcolor": "white"
          },
          "hoverlabel": {
           "align": "left"
          },
          "hovermode": "closest",
          "mapbox": {
           "style": "light"
          },
          "paper_bgcolor": "white",
          "plot_bgcolor": "#E5ECF6",
          "polar": {
           "angularaxis": {
            "gridcolor": "white",
            "linecolor": "white",
            "ticks": ""
           },
           "bgcolor": "#E5ECF6",
           "radialaxis": {
            "gridcolor": "white",
            "linecolor": "white",
            "ticks": ""
           }
          },
          "scene": {
           "xaxis": {
            "backgroundcolor": "#E5ECF6",
            "gridcolor": "white",
            "gridwidth": 2,
            "linecolor": "white",
            "showbackground": true,
            "ticks": "",
            "zerolinecolor": "white"
           },
           "yaxis": {
            "backgroundcolor": "#E5ECF6",
            "gridcolor": "white",
            "gridwidth": 2,
            "linecolor": "white",
            "showbackground": true,
            "ticks": "",
            "zerolinecolor": "white"
           },
           "zaxis": {
            "backgroundcolor": "#E5ECF6",
            "gridcolor": "white",
            "gridwidth": 2,
            "linecolor": "white",
            "showbackground": true,
            "ticks": "",
            "zerolinecolor": "white"
           }
          },
          "shapedefaults": {
           "line": {
            "color": "#2a3f5f"
           }
          },
          "ternary": {
           "aaxis": {
            "gridcolor": "white",
            "linecolor": "white",
            "ticks": ""
           },
           "baxis": {
            "gridcolor": "white",
            "linecolor": "white",
            "ticks": ""
           },
           "bgcolor": "#E5ECF6",
           "caxis": {
            "gridcolor": "white",
            "linecolor": "white",
            "ticks": ""
           }
          },
          "title": {
           "x": 0.05
          },
          "xaxis": {
           "automargin": true,
           "gridcolor": "white",
           "linecolor": "white",
           "ticks": "",
           "title": {
            "standoff": 15
           },
           "zerolinecolor": "white",
           "zerolinewidth": 2
          },
          "yaxis": {
           "automargin": true,
           "gridcolor": "white",
           "linecolor": "white",
           "ticks": "",
           "title": {
            "standoff": 15
           },
           "zerolinecolor": "white",
           "zerolinewidth": 2
          }
         }
        },
        "title": {
         "text": "Target4 Top 50 feature importance"
        },
        "width": 1250,
        "xaxis": {
         "anchor": "y",
         "domain": [
          0,
          1
         ],
         "title": {
          "text": "feature_importance"
         }
        },
        "yaxis": {
         "anchor": "x",
         "categoryarray": [
          "target4_min",
          "TeamBoxScoresCount_stolenBases",
          "TeamBoxScoresCount_atBatsPitching",
          "PlayerBoxScoresCount_totalBases",
          "TeamBoxScoresCount_doubles",
          "TeamBoxScoresCount_plateAppearances",
          "PlayerBoxScoresCount_inheritedRunners",
          "PlayerBoxScoresCount_inheritedRunnersScored",
          "TeamBoxScoresCount_groundOuts",
          "TeamBoxScoresCount_flyOuts",
          "TeamBoxScoresCount_strikeOuts",
          "PlayerBoxScoresCount_battingOrder",
          "TeamBoxScoresCount_strikeOutsPitching",
          "PlayerBoxScoresCount_plateAppearances",
          "TeamBoxScoresCount_leftOnBase",
          "PlayerBoxScoresCount_assists",
          "TeamBoxScoresCount_sacBuntsPitching",
          "Players_LE_birthCountry",
          "target1_quantile25",
          "TeamBoxScoresCount_hits",
          "TeamBoxScoresCount_inningsPitched",
          "TeamBoxScoresCount_hitsPitching",
          "target3_median",
          "target1_median",
          "TeamBoxScoresCount_totalBases",
          "target3_max",
          "target2_min",
          "Players_LE_primaryPositionCode",
          "target1_max",
          "target2_std",
          "target4_std",
          "target4_max",
          "target2_max",
          "target1_std",
          "target1_quantile75",
          "target3_std",
          "target2_mean",
          "target3_quantile75",
          "Players_LE_playerid",
          "target2_quantile25",
          "target1_mean",
          "target2_median",
          "target3_mean",
          "target4_mean",
          "target2_quantile75",
          "Rosters_LE_status",
          "target4_quantile25",
          "Rosters_LE_teamId",
          "target4_quantile75",
          "target4_median"
         ],
         "categoryorder": "array",
         "domain": [
          0,
          1
         ],
         "showgrid": true,
         "title": {
          "text": "feature"
         }
        }
       }
      }
     },
     "metadata": {}
    }
   ],
   "metadata": {}
  },
  {
   "cell_type": "markdown",
   "source": [
    "## Inference"
   ],
   "metadata": {}
  },
  {
   "cell_type": "code",
   "execution_count": 12,
   "source": [
    "def update_dataset(input_df: pd.DataFrame, sample_prediction_df: pd.DataFrame):\n",
    "    '''datasetの更新\n",
    "    '''\n",
    "    # columnがNaNでなければ分岐処理が実行される(pd.isnaとかでも代用可)\n",
    "    # NaN == NaNはFalseになる\n",
    "    ####################\n",
    "    # rosters #\n",
    "    ####################\n",
    "    if input_df[\"rosters\"].iloc[0] == input_df[\"rosters\"].iloc[0]:\n",
    "        test_rosters = pd.read_json(input_df[\"rosters\"].iloc[0])\n",
    "    else:\n",
    "        test_rosters = sample_prediction_df[[\"playerId\"]].copy()\n",
    "        for col in mlb_train_ds.train_rosters.columns:\n",
    "            if col == \"playerId\": continue\n",
    "            test_rosters[col] = np.nan\n",
    "\n",
    "    test_rosters[\"date\"] = input_df.iloc[0][\"date\"]\n",
    "    if input_df.iloc[0][\"date\"] > 20210430:\n",
    "        mlb_train_ds.train_rosters = reduce_mem_usage(pd.concat([mlb_train_ds.train_rosters, test_rosters], axis=0, ignore_index=True))\n",
    "    ####################\n",
    "    # playerBoxScores #\n",
    "    ####################\n",
    "    if input_df[\"playerBoxScores\"].iloc[0] == input_df[\"playerBoxScores\"].iloc[0]:\n",
    "        test_scores = pd.read_json(input_df[\"playerBoxScores\"].iloc[0])\n",
    "    else:\n",
    "        test_scores = sample_prediction_df[[\"playerId\"]].copy()\n",
    "        for col in mlb_train_ds.train_scores.columns:\n",
    "            if col == \"playerId\": continue\n",
    "            test_scores[col] = np.nan\n",
    "    \n",
    "    test_scores[\"date\"] = input_df.iloc[0][\"date\"]\n",
    "    if input_df.iloc[0][\"date\"] > 20210430:\n",
    "        mlb_train_ds.train_scores = reduce_mem_usage(pd.concat([mlb_train_ds.train_scores, test_scores], axis=0, ignore_index=True))\n",
    "    ####################\n",
    "    # teamBoxScores #\n",
    "    ####################\n",
    "    if input_df[\"teamBoxScores\"].iloc[0] == input_df[\"teamBoxScores\"].iloc[0]:\n",
    "        test_teamBoxScores = pd.read_json(input_df[\"teamBoxScores\"].iloc[0])\n",
    "    else:\n",
    "        cols = mlb_train_ds.train_tbs.drop(columns=\"date\", axis=1).columns.tolist()\n",
    "        test_teamBoxScores = pd.DataFrame(columns=cols)\n",
    "        test_teamBoxScores[\"teamId\"] = mlb_train_ds.train_tbs.teamId.unique()\n",
    "\n",
    "    test_teamBoxScores[\"date\"] = input_df.iloc[0][\"date\"]\n",
    "    if input_df.iloc[0][\"date\"] > 20210430:\n",
    "        mlb_train_ds.train_tbs = reduce_mem_usage(pd.concat([mlb_train_ds.train_tbs, test_teamBoxScores], axis=0, ignore_index=True))"
   ],
   "outputs": [],
   "metadata": {}
  },
  {
   "cell_type": "code",
   "execution_count": 13,
   "source": [
    "# env = mlb.make_env()\n",
    "# iter_test = env.iter_test()\n",
    "\n",
    "# for (test_df, sample_prediction_df) in iter_test:\n",
    "#     sample_prediction_df = sample_prediction_df.reset_index(drop=True)\n",
    "#     # create dataset\n",
    "#     test_df = test_df.reset_index()\n",
    "#     test_df = test_df.rename(columns={\"index\": \"date\"})\n",
    "#     sample_prediction_df[\"date\"] = test_df.iloc[0][\"date\"]\n",
    "#     sample_prediction_df[\"playerId\"] = sample_prediction_df[\"date_playerId\"].map(lambda x: int(x.split(\"_\")[1]))\n",
    "#     update_dataset(test_df, sample_prediction_df)\n",
    "#     # create features\n",
    "#     test_feat_df = create_test_feature(sample_prediction_df, update_blocks, non_update_blocks)\n",
    "#     X_test = test_feat_df.values\n",
    "#     # prediction\n",
    "#     for target, model in zip(CFG.TARGETS, models):\n",
    "#         pred = np.mean([model_.predict(X_test) for model_ in model], axis=0)\n",
    "#         sample_prediction_df[target] = np.clip(pred, 0, 100)\n",
    "\n",
    "#     sample_prediction_df = sample_prediction_df.drop(columns=[\"playerId\", \"date\"], axis=1)\n",
    "\n",
    "#     env.predict(sample_prediction_df)"
   ],
   "outputs": [],
   "metadata": {}
  },
  {
   "cell_type": "code",
   "execution_count": null,
   "source": [],
   "outputs": [],
   "metadata": {}
  }
 ],
 "metadata": {
  "orig_nbformat": 4,
  "language_info": {
   "name": "python"
  }
 },
 "nbformat": 4,
 "nbformat_minor": 2
}