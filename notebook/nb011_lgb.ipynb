{
 "cells": [
  {
   "cell_type": "markdown",
   "source": [
    "# Overview\n",
    "- LightGBM"
   ],
   "metadata": {}
  },
  {
   "cell_type": "code",
   "execution_count": 1,
   "source": [
    "import numpy as np\n",
    "import pandas as pd\n",
    "from pathlib import Path\n",
    "from sklearn.metrics import mean_absolute_error\n",
    "from datetime import timedelta\n",
    "from tqdm.notebook import tqdm\n",
    "import lightgbm as lgb\n",
    "from typing import List, Union, Optional\n",
    "import time\n",
    "from contextlib import contextmanager\n",
    "import sys\n",
    "import logging\n",
    "import category_encoders as ce\n",
    "import plotly\n",
    "from plotly import express as px\n",
    "# import mlb\n",
    "\n",
    "pd.options.display.max_columns = 100"
   ],
   "outputs": [],
   "metadata": {}
  },
  {
   "cell_type": "markdown",
   "source": [
    "## Config"
   ],
   "metadata": {}
  },
  {
   "cell_type": "code",
   "execution_count": 2,
   "source": [
    "class CFG:\n",
    "    ######################\n",
    "    # global #\n",
    "    ######################\n",
    "    INPUT_DIR = \"../input/mlb-player-digital-engagement-forecasting\"\n",
    "    # INPUT_DIR = \"../input/mlb-unnested-dataset\" # for kaggle kernel\n",
    "    OBJECT_ID = [\"playerId\", \"date\"]\n",
    "    TARGETS = [\"target1\", \"target2\", \"target3\", \"target4\"]\n",
    "    ######################\n",
    "    # model #\n",
    "    ######################\n",
    "    LGB_PARAMS = {\n",
    "        \"objective\": \"mae\",\n",
    "        \"boosting_type\": \"gbdt\",\n",
    "        \"learning_rate\": 0.1,\n",
    "        \"max_depth\": 6,\n",
    "        \"num_leaves\": int(2 ** 6 * 0.8),\n",
    "        \"lambda_l1\": 0.1,\n",
    "        \"lambda_l2\": 0.1,\n",
    "        \"bagging_fraction\": 0.9,\n",
    "        \"bagging_freq\": 3,\n",
    "        \"feature_fraction\": 0.9,\n",
    "        \"min_data_in_leaf\": 20,\n",
    "        \"num_threads\": 8,\n",
    "        \"verbosity\": -1,\n",
    "        \"num_iterations\": 10000,\n",
    "        \"early_stopping_round\": 100,\n",
    "    }\n",
    "    SEEDS = [2434]"
   ],
   "outputs": [],
   "metadata": {}
  },
  {
   "cell_type": "markdown",
   "source": [
    "## Utils"
   ],
   "metadata": {}
  },
  {
   "cell_type": "code",
   "execution_count": 3,
   "source": [
    "def get_logger(out_file=None):\n",
    "    logger = logging.getLogger()  # loggerの呼び出し\n",
    "    formatter = logging.Formatter(\"[%(asctime)s] [%(levelname)s] [%(message)s]\")  # ログ出力の際のフォーマットを定義\n",
    "    logger.handlers = []  # ハンドラーを追加するためのリスト\n",
    "    logger.setLevel(logging.INFO)  # ロギングのレベルを設定, 'INFO' : 想定された通りのことが起こったことの確認\n",
    "\n",
    "    handler = logging.StreamHandler(sys.stdout)  # StreamHandler(コンソールに出力するハンドラ)を追加\n",
    "    handler.setFormatter(formatter)\n",
    "    handler.setLevel(logging.INFO)\n",
    "    logger.addHandler(handler)\n",
    "\n",
    "    # ログをファイルとして出力する際のハンドラ(FileHandler)\n",
    "    if out_file is not None:\n",
    "        fh = logging.FileHandler(out_file)\n",
    "        fh.setFormatter(formatter)\n",
    "        fh.setLevel(logging.INFO)\n",
    "        logger.addHandler(fh)\n",
    "\n",
    "    logger.info(\"logger set up\")  # \"logger set up\"を表示\n",
    "    return logger\n",
    "\n",
    "\n",
    "@contextmanager\n",
    "def timer(name: str, logger: Optional[logging.Logger] = None):\n",
    "    t0 = time.time()\n",
    "    msg = f\"<{name}> start\"\n",
    "    if logger is None:\n",
    "        print(msg)\n",
    "    else:\n",
    "        logger.info(msg)\n",
    "    yield\n",
    "\n",
    "    msg = f\"<{name}> done in {time.time() - t0:.2f} s\"\n",
    "    if logger is None:\n",
    "        print(msg)\n",
    "    else:\n",
    "        logger.info(msg)\n",
    "\n",
    "\n",
    "def reduce_mem_usage(df, verbose=True):\n",
    "    numerics = ['int16', 'int32', 'int64', 'float16', 'float32', 'float64']\n",
    "    start_mem = df.memory_usage().sum() / 1024**2\n",
    "    for col in df.columns:\n",
    "        col_type = df[col].dtypes\n",
    "        if col_type in numerics:\n",
    "            c_min = df[col].min()\n",
    "            c_max = df[col].max()\n",
    "            if str(col_type)[:3] == 'int':\n",
    "                if c_min > np.iinfo(np.int8).min and c_max < np.iinfo(np.int8).max:\n",
    "                    df[col] = df[col].astype(np.int16)\n",
    "                elif c_min > np.iinfo(np.int16).min and c_max < np.iinfo(np.int16).max:\n",
    "                    df[col] = df[col].astype(np.int32)\n",
    "                elif c_min > np.iinfo(np.int32).min and c_max < np.iinfo(np.int32).max:\n",
    "                    df[col] = df[col].astype(np.int64)\n",
    "                elif c_min > np.iinfo(np.int64).min and c_max < np.iinfo(np.int64).max:\n",
    "                    df[col] = df[col].astype(np.int64)\n",
    "            else:\n",
    "                if c_min > np.finfo(np.float16).min and c_max < np.finfo(np.float16).max:\n",
    "                    df[col] = df[col].astype(np.float32)\n",
    "                elif c_min > np.finfo(np.float32).min and c_max < np.finfo(np.float32).max:\n",
    "                    df[col] = df[col].astype(np.float64)\n",
    "                else:\n",
    "                    df[col] = df[col].astype(np.float64)\n",
    "    end_mem = df.memory_usage().sum() / 1024**2\n",
    "    if verbose: print('Mem. usage decreased to {:5.2f} Mb ({:.1f}% reduction)'.format(end_mem, 100 * (start_mem - end_mem) / start_mem))\n",
    "    return df"
   ],
   "outputs": [],
   "metadata": {}
  },
  {
   "cell_type": "markdown",
   "source": [
    "## Loading dataset"
   ],
   "metadata": {}
  },
  {
   "cell_type": "code",
   "execution_count": 4,
   "source": [
    "class MLBDataset(object):\n",
    "    def __init__(self, input_path):\n",
    "        self.input_path = Path(input_path)\n",
    "        #################\n",
    "        # train #\n",
    "        #################\n",
    "        self.train_next = pd.read_pickle(self.input_path / \"train_nextDayPlayerEngagement.pickle\")\n",
    "        self.train_rosters = pd.read_pickle(self.input_path / \"train_rosters.pickle\")\n",
    "        self.train_ptf = pd.read_pickle(self.input_path / \"train_playerTwitterFollowers.pickle\")\n",
    "        self.train_scores = pd.read_pickle(self.input_path / \"train_playerBoxScores.pickle\")\n",
    "        self.train_games = pd.read_pickle(self.input_path / \"train_games.pickle\")\n",
    "        self.train_standings = pd.read_pickle(self.input_path / \"train_standings.pickle\")\n",
    "        self.train_tbs = pd.read_pickle(self.input_path / \"train_teamBoxScores.pickle\")\n",
    "        self.train_ttf = pd.read_pickle(self.input_path / \"train_teamTwitterFollowers.pickle\")\n",
    "        self.train_trans = pd.read_pickle(self.input_path / \"train_transactions.pickle\")\n",
    "        self.train_awards = pd.read_pickle(self.input_path / \"train_awards.pickle\")\n",
    "        self.train_events = pd.read_pickle(self.input_path / \"train_events.pickle\")\n",
    "        #################\n",
    "        # Additional #\n",
    "        #################\n",
    "        self.players = pd.read_pickle(self.input_path / \"players.pickle\")\n",
    "        self.awards = pd.read_pickle(self.input_path / \"awards.pickle\")\n",
    "        self.seasons = pd.read_pickle(self.input_path / \"seasons.pickle\")\n",
    "        self.teams = pd.read_pickle(self.input_path / \"teams.pickle\")\n",
    "        #################\n",
    "        # test #\n",
    "        #################\n",
    "        self.example_test = pd.read_csv(self.input_path / \"example_test.csv\")\n",
    "        self.sample_submission = pd.read_csv(self.input_path / \"example_sample_submission.csv\")\n",
    "\n",
    "mlb_train_ds = MLBDataset(CFG.INPUT_DIR)"
   ],
   "outputs": [],
   "metadata": {}
  },
  {
   "cell_type": "code",
   "execution_count": 5,
   "source": [
    "mlb_train_ds.train_scores[\"year\"] = pd.to_datetime(mlb_train_ds.train_scores[\"gameDate\"]).dt.year\n",
    "mlb_train_ds.train_scores.head()"
   ],
   "outputs": [
    {
     "output_type": "execute_result",
     "data": {
      "text/plain": [
       "       date  home  gamePk    gameDate           gameTimeUTC  teamId  \\\n",
       "0  20180329     1  529418  2018-03-29  2018-03-29T23:08:00Z     119   \n",
       "1  20180329     1  529406  2018-03-29  2018-03-29T20:00:00Z     139   \n",
       "2  20180329     0  529416  2018-03-29  2018-03-29T20:10:00Z     143   \n",
       "3  20180329     0  529412  2018-03-29  2018-03-29T20:05:00Z     108   \n",
       "4  20180329     1  529408  2018-03-29  2018-03-29T20:15:00Z     118   \n",
       "\n",
       "                teamName  playerId      playerName jerseyNum  positionCode  \\\n",
       "0    Los Angeles Dodgers    605131   Austin Barnes        15            12   \n",
       "1         Tampa Bay Rays    605480    Mallex Smith         0             7   \n",
       "2  Philadelphia Phillies    546318  Odubel Herrera        37             8   \n",
       "3     Los Angeles Angels    527043     Jefry Marte        19             3   \n",
       "4     Kansas City Royals    449181   Paulo Orlando        16             8   \n",
       "\n",
       "   positionName positionType  battingOrder  gamesPlayedBatting  flyOuts  \\\n",
       "0  Pinch Runner       Runner         601.0                 1.0      0.0   \n",
       "1    Outfielder   Outfielder         601.0                 1.0      0.0   \n",
       "2    Outfielder   Outfielder         401.0                 1.0      0.0   \n",
       "3    First Base    Infielder         402.0                 1.0      0.0   \n",
       "4    Outfielder   Outfielder         701.0                 1.0      0.0   \n",
       "\n",
       "   groundOuts  runsScored  doubles  triples  homeRuns  strikeOuts  \\\n",
       "0         0.0         0.0      0.0      0.0       0.0         0.0   \n",
       "1         0.0         0.0      0.0      0.0       0.0         0.0   \n",
       "2         0.0         0.0      0.0      0.0       0.0         0.0   \n",
       "3         0.0         0.0      0.0      0.0       0.0         0.0   \n",
       "4         0.0         0.0      0.0      0.0       0.0         0.0   \n",
       "\n",
       "   baseOnBalls  intentionalWalks  hits  hitByPitch  atBats  caughtStealing  \\\n",
       "0          0.0               0.0   0.0         0.0     0.0             0.0   \n",
       "1          0.0               0.0   0.0         0.0     0.0             0.0   \n",
       "2          0.0               0.0   0.0         0.0     0.0             0.0   \n",
       "3          0.0               0.0   0.0         0.0     0.0             0.0   \n",
       "4          0.0               0.0   0.0         0.0     0.0             0.0   \n",
       "\n",
       "   stolenBases  groundIntoDoublePlay  groundIntoTriplePlay  plateAppearances  \\\n",
       "0          0.0                   0.0                   0.0               0.0   \n",
       "1          0.0                   0.0                   0.0               0.0   \n",
       "2          0.0                   0.0                   0.0               0.0   \n",
       "3          0.0                   0.0                   0.0               0.0   \n",
       "4          0.0                   0.0                   0.0               0.0   \n",
       "\n",
       "   totalBases  rbi  leftOnBase  sacBunts  sacFlies  catchersInterference  \\\n",
       "0         0.0  0.0         0.0       0.0       0.0                   0.0   \n",
       "1         0.0  0.0         0.0       0.0       0.0                   0.0   \n",
       "2         0.0  0.0         0.0       0.0       0.0                   0.0   \n",
       "3         0.0  0.0         0.0       0.0       0.0                   0.0   \n",
       "4         0.0  0.0         0.0       0.0       0.0                   0.0   \n",
       "\n",
       "   pickoffs  gamesPlayedPitching  gamesStartedPitching  completeGamesPitching  \\\n",
       "0       0.0                  NaN                   NaN                    NaN   \n",
       "1       0.0                  NaN                   NaN                    NaN   \n",
       "2       0.0                  NaN                   NaN                    NaN   \n",
       "3       0.0                  NaN                   NaN                    NaN   \n",
       "4       0.0                  NaN                   NaN                    NaN   \n",
       "\n",
       "   shutoutsPitching  winsPitching  lossesPitching  flyOutsPitching  \\\n",
       "0               NaN           NaN             NaN              NaN   \n",
       "1               NaN           NaN             NaN              NaN   \n",
       "2               NaN           NaN             NaN              NaN   \n",
       "3               NaN           NaN             NaN              NaN   \n",
       "4               NaN           NaN             NaN              NaN   \n",
       "\n",
       "   airOutsPitching  groundOutsPitching  runsPitching  doublesPitching  \\\n",
       "0              NaN                 NaN           NaN              NaN   \n",
       "1              NaN                 NaN           NaN              NaN   \n",
       "2              NaN                 NaN           NaN              NaN   \n",
       "3              NaN                 NaN           NaN              NaN   \n",
       "4              NaN                 NaN           NaN              NaN   \n",
       "\n",
       "   triplesPitching  homeRunsPitching  strikeOutsPitching  baseOnBallsPitching  \\\n",
       "0              NaN               NaN                 NaN                  NaN   \n",
       "1              NaN               NaN                 NaN                  NaN   \n",
       "2              NaN               NaN                 NaN                  NaN   \n",
       "3              NaN               NaN                 NaN                  NaN   \n",
       "4              NaN               NaN                 NaN                  NaN   \n",
       "\n",
       "   intentionalWalksPitching  hitsPitching  hitByPitchPitching  atBatsPitching  \\\n",
       "0                       NaN           NaN                 NaN             NaN   \n",
       "1                       NaN           NaN                 NaN             NaN   \n",
       "2                       NaN           NaN                 NaN             NaN   \n",
       "3                       NaN           NaN                 NaN             NaN   \n",
       "4                       NaN           NaN                 NaN             NaN   \n",
       "\n",
       "   caughtStealingPitching  stolenBasesPitching  inningsPitched  \\\n",
       "0                     NaN                  NaN             NaN   \n",
       "1                     NaN                  NaN             NaN   \n",
       "2                     NaN                  NaN             NaN   \n",
       "3                     NaN                  NaN             NaN   \n",
       "4                     NaN                  NaN             NaN   \n",
       "\n",
       "   saveOpportunities  earnedRuns  battersFaced  outsPitching  pitchesThrown  \\\n",
       "0                NaN         NaN           NaN           NaN            NaN   \n",
       "1                NaN         NaN           NaN           NaN            NaN   \n",
       "2                NaN         NaN           NaN           NaN            NaN   \n",
       "3                NaN         NaN           NaN           NaN            NaN   \n",
       "4                NaN         NaN           NaN           NaN            NaN   \n",
       "\n",
       "   balls  strikes  hitBatsmen  balks  wildPitches  pickoffsPitching  \\\n",
       "0    NaN      NaN         NaN    NaN          NaN               NaN   \n",
       "1    NaN      NaN         NaN    NaN          NaN               NaN   \n",
       "2    NaN      NaN         NaN    NaN          NaN               NaN   \n",
       "3    NaN      NaN         NaN    NaN          NaN               NaN   \n",
       "4    NaN      NaN         NaN    NaN          NaN               NaN   \n",
       "\n",
       "   rbiPitching  gamesFinishedPitching  inheritedRunners  \\\n",
       "0          NaN                    NaN               NaN   \n",
       "1          NaN                    NaN               NaN   \n",
       "2          NaN                    NaN               NaN   \n",
       "3          NaN                    NaN               NaN   \n",
       "4          NaN                    NaN               NaN   \n",
       "\n",
       "   inheritedRunnersScored  catchersInterferencePitching  sacBuntsPitching  \\\n",
       "0                     NaN                           NaN               NaN   \n",
       "1                     NaN                           NaN               NaN   \n",
       "2                     NaN                           NaN               NaN   \n",
       "3                     NaN                           NaN               NaN   \n",
       "4                     NaN                           NaN               NaN   \n",
       "\n",
       "   sacFliesPitching  saves  holds  blownSaves  assists  putOuts  errors  \\\n",
       "0               NaN    NaN    NaN         NaN      NaN      NaN     NaN   \n",
       "1               NaN    NaN    NaN         NaN      0.0      0.0     0.0   \n",
       "2               NaN    NaN    NaN         NaN      0.0      0.0     0.0   \n",
       "3               NaN    NaN    NaN         NaN      0.0      1.0     0.0   \n",
       "4               NaN    NaN    NaN         NaN      0.0      2.0     0.0   \n",
       "\n",
       "   chances  year  \n",
       "0      NaN  2018  \n",
       "1      0.0  2018  \n",
       "2      0.0  2018  \n",
       "3      1.0  2018  \n",
       "4      2.0  2018  "
      ],
      "text/html": [
       "<div>\n",
       "<style scoped>\n",
       "    .dataframe tbody tr th:only-of-type {\n",
       "        vertical-align: middle;\n",
       "    }\n",
       "\n",
       "    .dataframe tbody tr th {\n",
       "        vertical-align: top;\n",
       "    }\n",
       "\n",
       "    .dataframe thead th {\n",
       "        text-align: right;\n",
       "    }\n",
       "</style>\n",
       "<table border=\"1\" class=\"dataframe\">\n",
       "  <thead>\n",
       "    <tr style=\"text-align: right;\">\n",
       "      <th></th>\n",
       "      <th>date</th>\n",
       "      <th>home</th>\n",
       "      <th>gamePk</th>\n",
       "      <th>gameDate</th>\n",
       "      <th>gameTimeUTC</th>\n",
       "      <th>teamId</th>\n",
       "      <th>teamName</th>\n",
       "      <th>playerId</th>\n",
       "      <th>playerName</th>\n",
       "      <th>jerseyNum</th>\n",
       "      <th>positionCode</th>\n",
       "      <th>positionName</th>\n",
       "      <th>positionType</th>\n",
       "      <th>battingOrder</th>\n",
       "      <th>gamesPlayedBatting</th>\n",
       "      <th>flyOuts</th>\n",
       "      <th>groundOuts</th>\n",
       "      <th>runsScored</th>\n",
       "      <th>doubles</th>\n",
       "      <th>triples</th>\n",
       "      <th>homeRuns</th>\n",
       "      <th>strikeOuts</th>\n",
       "      <th>baseOnBalls</th>\n",
       "      <th>intentionalWalks</th>\n",
       "      <th>hits</th>\n",
       "      <th>hitByPitch</th>\n",
       "      <th>atBats</th>\n",
       "      <th>caughtStealing</th>\n",
       "      <th>stolenBases</th>\n",
       "      <th>groundIntoDoublePlay</th>\n",
       "      <th>groundIntoTriplePlay</th>\n",
       "      <th>plateAppearances</th>\n",
       "      <th>totalBases</th>\n",
       "      <th>rbi</th>\n",
       "      <th>leftOnBase</th>\n",
       "      <th>sacBunts</th>\n",
       "      <th>sacFlies</th>\n",
       "      <th>catchersInterference</th>\n",
       "      <th>pickoffs</th>\n",
       "      <th>gamesPlayedPitching</th>\n",
       "      <th>gamesStartedPitching</th>\n",
       "      <th>completeGamesPitching</th>\n",
       "      <th>shutoutsPitching</th>\n",
       "      <th>winsPitching</th>\n",
       "      <th>lossesPitching</th>\n",
       "      <th>flyOutsPitching</th>\n",
       "      <th>airOutsPitching</th>\n",
       "      <th>groundOutsPitching</th>\n",
       "      <th>runsPitching</th>\n",
       "      <th>doublesPitching</th>\n",
       "      <th>triplesPitching</th>\n",
       "      <th>homeRunsPitching</th>\n",
       "      <th>strikeOutsPitching</th>\n",
       "      <th>baseOnBallsPitching</th>\n",
       "      <th>intentionalWalksPitching</th>\n",
       "      <th>hitsPitching</th>\n",
       "      <th>hitByPitchPitching</th>\n",
       "      <th>atBatsPitching</th>\n",
       "      <th>caughtStealingPitching</th>\n",
       "      <th>stolenBasesPitching</th>\n",
       "      <th>inningsPitched</th>\n",
       "      <th>saveOpportunities</th>\n",
       "      <th>earnedRuns</th>\n",
       "      <th>battersFaced</th>\n",
       "      <th>outsPitching</th>\n",
       "      <th>pitchesThrown</th>\n",
       "      <th>balls</th>\n",
       "      <th>strikes</th>\n",
       "      <th>hitBatsmen</th>\n",
       "      <th>balks</th>\n",
       "      <th>wildPitches</th>\n",
       "      <th>pickoffsPitching</th>\n",
       "      <th>rbiPitching</th>\n",
       "      <th>gamesFinishedPitching</th>\n",
       "      <th>inheritedRunners</th>\n",
       "      <th>inheritedRunnersScored</th>\n",
       "      <th>catchersInterferencePitching</th>\n",
       "      <th>sacBuntsPitching</th>\n",
       "      <th>sacFliesPitching</th>\n",
       "      <th>saves</th>\n",
       "      <th>holds</th>\n",
       "      <th>blownSaves</th>\n",
       "      <th>assists</th>\n",
       "      <th>putOuts</th>\n",
       "      <th>errors</th>\n",
       "      <th>chances</th>\n",
       "      <th>year</th>\n",
       "    </tr>\n",
       "  </thead>\n",
       "  <tbody>\n",
       "    <tr>\n",
       "      <th>0</th>\n",
       "      <td>20180329</td>\n",
       "      <td>1</td>\n",
       "      <td>529418</td>\n",
       "      <td>2018-03-29</td>\n",
       "      <td>2018-03-29T23:08:00Z</td>\n",
       "      <td>119</td>\n",
       "      <td>Los Angeles Dodgers</td>\n",
       "      <td>605131</td>\n",
       "      <td>Austin Barnes</td>\n",
       "      <td>15</td>\n",
       "      <td>12</td>\n",
       "      <td>Pinch Runner</td>\n",
       "      <td>Runner</td>\n",
       "      <td>601.0</td>\n",
       "      <td>1.0</td>\n",
       "      <td>0.0</td>\n",
       "      <td>0.0</td>\n",
       "      <td>0.0</td>\n",
       "      <td>0.0</td>\n",
       "      <td>0.0</td>\n",
       "      <td>0.0</td>\n",
       "      <td>0.0</td>\n",
       "      <td>0.0</td>\n",
       "      <td>0.0</td>\n",
       "      <td>0.0</td>\n",
       "      <td>0.0</td>\n",
       "      <td>0.0</td>\n",
       "      <td>0.0</td>\n",
       "      <td>0.0</td>\n",
       "      <td>0.0</td>\n",
       "      <td>0.0</td>\n",
       "      <td>0.0</td>\n",
       "      <td>0.0</td>\n",
       "      <td>0.0</td>\n",
       "      <td>0.0</td>\n",
       "      <td>0.0</td>\n",
       "      <td>0.0</td>\n",
       "      <td>0.0</td>\n",
       "      <td>0.0</td>\n",
       "      <td>NaN</td>\n",
       "      <td>NaN</td>\n",
       "      <td>NaN</td>\n",
       "      <td>NaN</td>\n",
       "      <td>NaN</td>\n",
       "      <td>NaN</td>\n",
       "      <td>NaN</td>\n",
       "      <td>NaN</td>\n",
       "      <td>NaN</td>\n",
       "      <td>NaN</td>\n",
       "      <td>NaN</td>\n",
       "      <td>NaN</td>\n",
       "      <td>NaN</td>\n",
       "      <td>NaN</td>\n",
       "      <td>NaN</td>\n",
       "      <td>NaN</td>\n",
       "      <td>NaN</td>\n",
       "      <td>NaN</td>\n",
       "      <td>NaN</td>\n",
       "      <td>NaN</td>\n",
       "      <td>NaN</td>\n",
       "      <td>NaN</td>\n",
       "      <td>NaN</td>\n",
       "      <td>NaN</td>\n",
       "      <td>NaN</td>\n",
       "      <td>NaN</td>\n",
       "      <td>NaN</td>\n",
       "      <td>NaN</td>\n",
       "      <td>NaN</td>\n",
       "      <td>NaN</td>\n",
       "      <td>NaN</td>\n",
       "      <td>NaN</td>\n",
       "      <td>NaN</td>\n",
       "      <td>NaN</td>\n",
       "      <td>NaN</td>\n",
       "      <td>NaN</td>\n",
       "      <td>NaN</td>\n",
       "      <td>NaN</td>\n",
       "      <td>NaN</td>\n",
       "      <td>NaN</td>\n",
       "      <td>NaN</td>\n",
       "      <td>NaN</td>\n",
       "      <td>NaN</td>\n",
       "      <td>NaN</td>\n",
       "      <td>NaN</td>\n",
       "      <td>NaN</td>\n",
       "      <td>NaN</td>\n",
       "      <td>2018</td>\n",
       "    </tr>\n",
       "    <tr>\n",
       "      <th>1</th>\n",
       "      <td>20180329</td>\n",
       "      <td>1</td>\n",
       "      <td>529406</td>\n",
       "      <td>2018-03-29</td>\n",
       "      <td>2018-03-29T20:00:00Z</td>\n",
       "      <td>139</td>\n",
       "      <td>Tampa Bay Rays</td>\n",
       "      <td>605480</td>\n",
       "      <td>Mallex Smith</td>\n",
       "      <td>0</td>\n",
       "      <td>7</td>\n",
       "      <td>Outfielder</td>\n",
       "      <td>Outfielder</td>\n",
       "      <td>601.0</td>\n",
       "      <td>1.0</td>\n",
       "      <td>0.0</td>\n",
       "      <td>0.0</td>\n",
       "      <td>0.0</td>\n",
       "      <td>0.0</td>\n",
       "      <td>0.0</td>\n",
       "      <td>0.0</td>\n",
       "      <td>0.0</td>\n",
       "      <td>0.0</td>\n",
       "      <td>0.0</td>\n",
       "      <td>0.0</td>\n",
       "      <td>0.0</td>\n",
       "      <td>0.0</td>\n",
       "      <td>0.0</td>\n",
       "      <td>0.0</td>\n",
       "      <td>0.0</td>\n",
       "      <td>0.0</td>\n",
       "      <td>0.0</td>\n",
       "      <td>0.0</td>\n",
       "      <td>0.0</td>\n",
       "      <td>0.0</td>\n",
       "      <td>0.0</td>\n",
       "      <td>0.0</td>\n",
       "      <td>0.0</td>\n",
       "      <td>0.0</td>\n",
       "      <td>NaN</td>\n",
       "      <td>NaN</td>\n",
       "      <td>NaN</td>\n",
       "      <td>NaN</td>\n",
       "      <td>NaN</td>\n",
       "      <td>NaN</td>\n",
       "      <td>NaN</td>\n",
       "      <td>NaN</td>\n",
       "      <td>NaN</td>\n",
       "      <td>NaN</td>\n",
       "      <td>NaN</td>\n",
       "      <td>NaN</td>\n",
       "      <td>NaN</td>\n",
       "      <td>NaN</td>\n",
       "      <td>NaN</td>\n",
       "      <td>NaN</td>\n",
       "      <td>NaN</td>\n",
       "      <td>NaN</td>\n",
       "      <td>NaN</td>\n",
       "      <td>NaN</td>\n",
       "      <td>NaN</td>\n",
       "      <td>NaN</td>\n",
       "      <td>NaN</td>\n",
       "      <td>NaN</td>\n",
       "      <td>NaN</td>\n",
       "      <td>NaN</td>\n",
       "      <td>NaN</td>\n",
       "      <td>NaN</td>\n",
       "      <td>NaN</td>\n",
       "      <td>NaN</td>\n",
       "      <td>NaN</td>\n",
       "      <td>NaN</td>\n",
       "      <td>NaN</td>\n",
       "      <td>NaN</td>\n",
       "      <td>NaN</td>\n",
       "      <td>NaN</td>\n",
       "      <td>NaN</td>\n",
       "      <td>NaN</td>\n",
       "      <td>NaN</td>\n",
       "      <td>NaN</td>\n",
       "      <td>NaN</td>\n",
       "      <td>NaN</td>\n",
       "      <td>NaN</td>\n",
       "      <td>0.0</td>\n",
       "      <td>0.0</td>\n",
       "      <td>0.0</td>\n",
       "      <td>0.0</td>\n",
       "      <td>2018</td>\n",
       "    </tr>\n",
       "    <tr>\n",
       "      <th>2</th>\n",
       "      <td>20180329</td>\n",
       "      <td>0</td>\n",
       "      <td>529416</td>\n",
       "      <td>2018-03-29</td>\n",
       "      <td>2018-03-29T20:10:00Z</td>\n",
       "      <td>143</td>\n",
       "      <td>Philadelphia Phillies</td>\n",
       "      <td>546318</td>\n",
       "      <td>Odubel Herrera</td>\n",
       "      <td>37</td>\n",
       "      <td>8</td>\n",
       "      <td>Outfielder</td>\n",
       "      <td>Outfielder</td>\n",
       "      <td>401.0</td>\n",
       "      <td>1.0</td>\n",
       "      <td>0.0</td>\n",
       "      <td>0.0</td>\n",
       "      <td>0.0</td>\n",
       "      <td>0.0</td>\n",
       "      <td>0.0</td>\n",
       "      <td>0.0</td>\n",
       "      <td>0.0</td>\n",
       "      <td>0.0</td>\n",
       "      <td>0.0</td>\n",
       "      <td>0.0</td>\n",
       "      <td>0.0</td>\n",
       "      <td>0.0</td>\n",
       "      <td>0.0</td>\n",
       "      <td>0.0</td>\n",
       "      <td>0.0</td>\n",
       "      <td>0.0</td>\n",
       "      <td>0.0</td>\n",
       "      <td>0.0</td>\n",
       "      <td>0.0</td>\n",
       "      <td>0.0</td>\n",
       "      <td>0.0</td>\n",
       "      <td>0.0</td>\n",
       "      <td>0.0</td>\n",
       "      <td>0.0</td>\n",
       "      <td>NaN</td>\n",
       "      <td>NaN</td>\n",
       "      <td>NaN</td>\n",
       "      <td>NaN</td>\n",
       "      <td>NaN</td>\n",
       "      <td>NaN</td>\n",
       "      <td>NaN</td>\n",
       "      <td>NaN</td>\n",
       "      <td>NaN</td>\n",
       "      <td>NaN</td>\n",
       "      <td>NaN</td>\n",
       "      <td>NaN</td>\n",
       "      <td>NaN</td>\n",
       "      <td>NaN</td>\n",
       "      <td>NaN</td>\n",
       "      <td>NaN</td>\n",
       "      <td>NaN</td>\n",
       "      <td>NaN</td>\n",
       "      <td>NaN</td>\n",
       "      <td>NaN</td>\n",
       "      <td>NaN</td>\n",
       "      <td>NaN</td>\n",
       "      <td>NaN</td>\n",
       "      <td>NaN</td>\n",
       "      <td>NaN</td>\n",
       "      <td>NaN</td>\n",
       "      <td>NaN</td>\n",
       "      <td>NaN</td>\n",
       "      <td>NaN</td>\n",
       "      <td>NaN</td>\n",
       "      <td>NaN</td>\n",
       "      <td>NaN</td>\n",
       "      <td>NaN</td>\n",
       "      <td>NaN</td>\n",
       "      <td>NaN</td>\n",
       "      <td>NaN</td>\n",
       "      <td>NaN</td>\n",
       "      <td>NaN</td>\n",
       "      <td>NaN</td>\n",
       "      <td>NaN</td>\n",
       "      <td>NaN</td>\n",
       "      <td>NaN</td>\n",
       "      <td>NaN</td>\n",
       "      <td>0.0</td>\n",
       "      <td>0.0</td>\n",
       "      <td>0.0</td>\n",
       "      <td>0.0</td>\n",
       "      <td>2018</td>\n",
       "    </tr>\n",
       "    <tr>\n",
       "      <th>3</th>\n",
       "      <td>20180329</td>\n",
       "      <td>0</td>\n",
       "      <td>529412</td>\n",
       "      <td>2018-03-29</td>\n",
       "      <td>2018-03-29T20:05:00Z</td>\n",
       "      <td>108</td>\n",
       "      <td>Los Angeles Angels</td>\n",
       "      <td>527043</td>\n",
       "      <td>Jefry Marte</td>\n",
       "      <td>19</td>\n",
       "      <td>3</td>\n",
       "      <td>First Base</td>\n",
       "      <td>Infielder</td>\n",
       "      <td>402.0</td>\n",
       "      <td>1.0</td>\n",
       "      <td>0.0</td>\n",
       "      <td>0.0</td>\n",
       "      <td>0.0</td>\n",
       "      <td>0.0</td>\n",
       "      <td>0.0</td>\n",
       "      <td>0.0</td>\n",
       "      <td>0.0</td>\n",
       "      <td>0.0</td>\n",
       "      <td>0.0</td>\n",
       "      <td>0.0</td>\n",
       "      <td>0.0</td>\n",
       "      <td>0.0</td>\n",
       "      <td>0.0</td>\n",
       "      <td>0.0</td>\n",
       "      <td>0.0</td>\n",
       "      <td>0.0</td>\n",
       "      <td>0.0</td>\n",
       "      <td>0.0</td>\n",
       "      <td>0.0</td>\n",
       "      <td>0.0</td>\n",
       "      <td>0.0</td>\n",
       "      <td>0.0</td>\n",
       "      <td>0.0</td>\n",
       "      <td>0.0</td>\n",
       "      <td>NaN</td>\n",
       "      <td>NaN</td>\n",
       "      <td>NaN</td>\n",
       "      <td>NaN</td>\n",
       "      <td>NaN</td>\n",
       "      <td>NaN</td>\n",
       "      <td>NaN</td>\n",
       "      <td>NaN</td>\n",
       "      <td>NaN</td>\n",
       "      <td>NaN</td>\n",
       "      <td>NaN</td>\n",
       "      <td>NaN</td>\n",
       "      <td>NaN</td>\n",
       "      <td>NaN</td>\n",
       "      <td>NaN</td>\n",
       "      <td>NaN</td>\n",
       "      <td>NaN</td>\n",
       "      <td>NaN</td>\n",
       "      <td>NaN</td>\n",
       "      <td>NaN</td>\n",
       "      <td>NaN</td>\n",
       "      <td>NaN</td>\n",
       "      <td>NaN</td>\n",
       "      <td>NaN</td>\n",
       "      <td>NaN</td>\n",
       "      <td>NaN</td>\n",
       "      <td>NaN</td>\n",
       "      <td>NaN</td>\n",
       "      <td>NaN</td>\n",
       "      <td>NaN</td>\n",
       "      <td>NaN</td>\n",
       "      <td>NaN</td>\n",
       "      <td>NaN</td>\n",
       "      <td>NaN</td>\n",
       "      <td>NaN</td>\n",
       "      <td>NaN</td>\n",
       "      <td>NaN</td>\n",
       "      <td>NaN</td>\n",
       "      <td>NaN</td>\n",
       "      <td>NaN</td>\n",
       "      <td>NaN</td>\n",
       "      <td>NaN</td>\n",
       "      <td>NaN</td>\n",
       "      <td>0.0</td>\n",
       "      <td>1.0</td>\n",
       "      <td>0.0</td>\n",
       "      <td>1.0</td>\n",
       "      <td>2018</td>\n",
       "    </tr>\n",
       "    <tr>\n",
       "      <th>4</th>\n",
       "      <td>20180329</td>\n",
       "      <td>1</td>\n",
       "      <td>529408</td>\n",
       "      <td>2018-03-29</td>\n",
       "      <td>2018-03-29T20:15:00Z</td>\n",
       "      <td>118</td>\n",
       "      <td>Kansas City Royals</td>\n",
       "      <td>449181</td>\n",
       "      <td>Paulo Orlando</td>\n",
       "      <td>16</td>\n",
       "      <td>8</td>\n",
       "      <td>Outfielder</td>\n",
       "      <td>Outfielder</td>\n",
       "      <td>701.0</td>\n",
       "      <td>1.0</td>\n",
       "      <td>0.0</td>\n",
       "      <td>0.0</td>\n",
       "      <td>0.0</td>\n",
       "      <td>0.0</td>\n",
       "      <td>0.0</td>\n",
       "      <td>0.0</td>\n",
       "      <td>0.0</td>\n",
       "      <td>0.0</td>\n",
       "      <td>0.0</td>\n",
       "      <td>0.0</td>\n",
       "      <td>0.0</td>\n",
       "      <td>0.0</td>\n",
       "      <td>0.0</td>\n",
       "      <td>0.0</td>\n",
       "      <td>0.0</td>\n",
       "      <td>0.0</td>\n",
       "      <td>0.0</td>\n",
       "      <td>0.0</td>\n",
       "      <td>0.0</td>\n",
       "      <td>0.0</td>\n",
       "      <td>0.0</td>\n",
       "      <td>0.0</td>\n",
       "      <td>0.0</td>\n",
       "      <td>0.0</td>\n",
       "      <td>NaN</td>\n",
       "      <td>NaN</td>\n",
       "      <td>NaN</td>\n",
       "      <td>NaN</td>\n",
       "      <td>NaN</td>\n",
       "      <td>NaN</td>\n",
       "      <td>NaN</td>\n",
       "      <td>NaN</td>\n",
       "      <td>NaN</td>\n",
       "      <td>NaN</td>\n",
       "      <td>NaN</td>\n",
       "      <td>NaN</td>\n",
       "      <td>NaN</td>\n",
       "      <td>NaN</td>\n",
       "      <td>NaN</td>\n",
       "      <td>NaN</td>\n",
       "      <td>NaN</td>\n",
       "      <td>NaN</td>\n",
       "      <td>NaN</td>\n",
       "      <td>NaN</td>\n",
       "      <td>NaN</td>\n",
       "      <td>NaN</td>\n",
       "      <td>NaN</td>\n",
       "      <td>NaN</td>\n",
       "      <td>NaN</td>\n",
       "      <td>NaN</td>\n",
       "      <td>NaN</td>\n",
       "      <td>NaN</td>\n",
       "      <td>NaN</td>\n",
       "      <td>NaN</td>\n",
       "      <td>NaN</td>\n",
       "      <td>NaN</td>\n",
       "      <td>NaN</td>\n",
       "      <td>NaN</td>\n",
       "      <td>NaN</td>\n",
       "      <td>NaN</td>\n",
       "      <td>NaN</td>\n",
       "      <td>NaN</td>\n",
       "      <td>NaN</td>\n",
       "      <td>NaN</td>\n",
       "      <td>NaN</td>\n",
       "      <td>NaN</td>\n",
       "      <td>NaN</td>\n",
       "      <td>0.0</td>\n",
       "      <td>2.0</td>\n",
       "      <td>0.0</td>\n",
       "      <td>2.0</td>\n",
       "      <td>2018</td>\n",
       "    </tr>\n",
       "  </tbody>\n",
       "</table>\n",
       "</div>"
      ]
     },
     "metadata": {},
     "execution_count": 5
    }
   ],
   "metadata": {}
  },
  {
   "cell_type": "code",
   "execution_count": 6,
   "source": [
    "df = mlb_train_ds.train_scores[mlb_train_ds.train_scores[\"playerName\"] == \"Shohei Ohtani\"].copy()\n",
    "df"
   ],
   "outputs": [
    {
     "output_type": "execute_result",
     "data": {
      "text/plain": [
       "            date  home  gamePk    gameDate           gameTimeUTC  teamId  \\\n",
       "228     20180329     0  529412  2018-03-29  2018-03-29T20:05:00Z     108   \n",
       "1475    20180401     0  529450  2018-04-01  2018-04-01T20:05:00Z     108   \n",
       "1901    20180403     1  529475  2018-04-03  2018-04-04T02:07:00Z     108   \n",
       "2446    20180404     1  529486  2018-04-04  2018-04-04T20:07:00Z     108   \n",
       "2991    20180406     1  529514  2018-04-06  2018-04-07T02:07:00Z     108   \n",
       "...          ...   ...     ...         ...                   ...     ...   \n",
       "183129  20210425     0  634403  2021-04-25  2021-04-25T18:10:00Z     108   \n",
       "183590  20210426     0  634377  2021-04-26  2021-04-27T00:05:00Z     108   \n",
       "183833  20210427     0  634359  2021-04-27  2021-04-28T00:05:00Z     108   \n",
       "184076  20210428     0  634350  2021-04-28  2021-04-29T00:05:00Z     108   \n",
       "184853  20210430     0  634287  2021-04-30  2021-05-01T02:10:00Z     108   \n",
       "\n",
       "                  teamName  playerId     playerName jerseyNum  positionCode  \\\n",
       "228     Los Angeles Angels    660271  Shohei Ohtani        17            10   \n",
       "1475    Los Angeles Angels    660271  Shohei Ohtani        17             1   \n",
       "1901    Los Angeles Angels    660271  Shohei Ohtani        17            10   \n",
       "2446    Los Angeles Angels    660271  Shohei Ohtani        17            10   \n",
       "2991    Los Angeles Angels    660271  Shohei Ohtani        17            10   \n",
       "...                    ...       ...            ...       ...           ...   \n",
       "183129  Los Angeles Angels    660271  Shohei Ohtani        17            10   \n",
       "183590  Los Angeles Angels    660271  Shohei Ohtani        17             1   \n",
       "183833  Los Angeles Angels    660271  Shohei Ohtani        17            10   \n",
       "184076  Los Angeles Angels    660271  Shohei Ohtani        17            10   \n",
       "184853  Los Angeles Angels    660271  Shohei Ohtani        17            10   \n",
       "\n",
       "             positionName positionType  battingOrder  gamesPlayedBatting  \\\n",
       "228     Designated Hitter       Hitter         800.0                 1.0   \n",
       "1475              Pitcher      Pitcher           NaN                 NaN   \n",
       "1901    Designated Hitter       Hitter         800.0                 1.0   \n",
       "2446    Designated Hitter       Hitter         800.0                 1.0   \n",
       "2991    Designated Hitter       Hitter         800.0                 1.0   \n",
       "...                   ...          ...           ...                 ...   \n",
       "183129  Designated Hitter       Hitter         200.0                 1.0   \n",
       "183590            Pitcher      Pitcher         200.0                 1.0   \n",
       "183833  Designated Hitter       Hitter         200.0                 1.0   \n",
       "184076  Designated Hitter       Hitter         200.0                 1.0   \n",
       "184853  Designated Hitter       Hitter         200.0                 1.0   \n",
       "\n",
       "        flyOuts  groundOuts  runsScored  doubles  triples  homeRuns  \\\n",
       "228         0.0         3.0         0.0      0.0      0.0       0.0   \n",
       "1475        NaN         NaN         NaN      NaN      NaN       NaN   \n",
       "1901        0.0         0.0         2.0      0.0      0.0       1.0   \n",
       "2446        0.0         2.0         1.0      0.0      0.0       1.0   \n",
       "2991        1.0         1.0         1.0      0.0      0.0       1.0   \n",
       "...         ...         ...         ...      ...      ...       ...   \n",
       "183129      1.0         1.0         1.0      0.0      0.0       1.0   \n",
       "183590      0.0         0.0         3.0      1.0      0.0       0.0   \n",
       "183833      2.0         1.0         0.0      0.0      0.0       0.0   \n",
       "184076      0.0         1.0         0.0      1.0      0.0       0.0   \n",
       "184853      1.0         2.0         1.0      0.0      0.0       1.0   \n",
       "\n",
       "        strikeOuts  baseOnBalls  intentionalWalks  hits  hitByPitch  atBats  \\\n",
       "228            1.0          0.0               0.0   1.0         0.0     5.0   \n",
       "1475           NaN          NaN               NaN   NaN         NaN     NaN   \n",
       "1901           1.0          0.0               0.0   3.0         0.0     4.0   \n",
       "2446           1.0          0.0               0.0   2.0         0.0     5.0   \n",
       "2991           1.0          1.0               0.0   1.0         0.0     4.0   \n",
       "...            ...          ...               ...   ...         ...     ...   \n",
       "183129         2.0          0.0               0.0   1.0         0.0     5.0   \n",
       "183590         1.0          1.0               0.0   2.0         0.0     3.0   \n",
       "183833         1.0          0.0               0.0   0.0         0.0     4.0   \n",
       "184076         1.0          0.0               0.0   1.0         0.0     4.0   \n",
       "184853         0.0          0.0               0.0   1.0         0.0     4.0   \n",
       "\n",
       "        caughtStealing  stolenBases  groundIntoDoublePlay  \\\n",
       "228                0.0          0.0                   0.0   \n",
       "1475               NaN          NaN                   NaN   \n",
       "1901               0.0          0.0                   0.0   \n",
       "2446               0.0          0.0                   0.0   \n",
       "2991               0.0          0.0                   0.0   \n",
       "...                ...          ...                   ...   \n",
       "183129             0.0          0.0                   0.0   \n",
       "183590             0.0          0.0                   0.0   \n",
       "183833             0.0          0.0                   0.0   \n",
       "184076             0.0          0.0                   0.0   \n",
       "184853             0.0          0.0                   0.0   \n",
       "\n",
       "        groundIntoTriplePlay  plateAppearances  totalBases  rbi  leftOnBase  \\\n",
       "228                      0.0               5.0         1.0  0.0         1.0   \n",
       "1475                     NaN               NaN         NaN  NaN         NaN   \n",
       "1901                     0.0               4.0         6.0  3.0         2.0   \n",
       "2446                     0.0               5.0         5.0  2.0         0.0   \n",
       "2991                     0.0               5.0         4.0  2.0         3.0   \n",
       "...                      ...               ...         ...  ...         ...   \n",
       "183129                   0.0               5.0         4.0  1.0         3.0   \n",
       "183590                   0.0               4.0         3.0  2.0         2.0   \n",
       "183833                   0.0               4.0         0.0  0.0         4.0   \n",
       "184076                   0.0               4.0         2.0  0.0         1.0   \n",
       "184853                   0.0               4.0         4.0  1.0         1.0   \n",
       "\n",
       "        sacBunts  sacFlies  catchersInterference  pickoffs  \\\n",
       "228          0.0       0.0                   0.0       0.0   \n",
       "1475         NaN       NaN                   NaN       NaN   \n",
       "1901         0.0       0.0                   0.0       0.0   \n",
       "2446         0.0       0.0                   0.0       0.0   \n",
       "2991         0.0       0.0                   0.0       0.0   \n",
       "...          ...       ...                   ...       ...   \n",
       "183129       0.0       0.0                   0.0       0.0   \n",
       "183590       0.0       0.0                   0.0       0.0   \n",
       "183833       0.0       0.0                   0.0       0.0   \n",
       "184076       0.0       0.0                   0.0       0.0   \n",
       "184853       0.0       0.0                   0.0       0.0   \n",
       "\n",
       "        gamesPlayedPitching  gamesStartedPitching  completeGamesPitching  \\\n",
       "228                     NaN                   NaN                    NaN   \n",
       "1475                    1.0                   1.0                    0.0   \n",
       "1901                    NaN                   NaN                    NaN   \n",
       "2446                    NaN                   NaN                    NaN   \n",
       "2991                    NaN                   NaN                    NaN   \n",
       "...                     ...                   ...                    ...   \n",
       "183129                  NaN                   NaN                    NaN   \n",
       "183590                  1.0                   1.0                    0.0   \n",
       "183833                  NaN                   NaN                    NaN   \n",
       "184076                  NaN                   NaN                    NaN   \n",
       "184853                  NaN                   NaN                    NaN   \n",
       "\n",
       "        shutoutsPitching  winsPitching  lossesPitching  flyOutsPitching  \\\n",
       "228                  NaN           NaN             NaN              NaN   \n",
       "1475                 0.0           1.0             NaN              2.0   \n",
       "1901                 NaN           NaN             NaN              NaN   \n",
       "2446                 NaN           NaN             NaN              NaN   \n",
       "2991                 NaN           NaN             NaN              NaN   \n",
       "...                  ...           ...             ...              ...   \n",
       "183129               NaN           NaN             NaN              NaN   \n",
       "183590               0.0           1.0             0.0              2.0   \n",
       "183833               NaN           NaN             NaN              NaN   \n",
       "184076               NaN           NaN             NaN              NaN   \n",
       "184853               NaN           NaN             NaN              NaN   \n",
       "\n",
       "        airOutsPitching  groundOutsPitching  runsPitching  doublesPitching  \\\n",
       "228                 NaN                 NaN           NaN              NaN   \n",
       "1475                6.0                 6.0           3.0              0.0   \n",
       "1901                NaN                 NaN           NaN              NaN   \n",
       "2446                NaN                 NaN           NaN              NaN   \n",
       "2991                NaN                 NaN           NaN              NaN   \n",
       "...                 ...                 ...           ...              ...   \n",
       "183129              NaN                 NaN           NaN              NaN   \n",
       "183590              3.0                 3.0           4.0              0.0   \n",
       "183833              NaN                 NaN           NaN              NaN   \n",
       "184076              NaN                 NaN           NaN              NaN   \n",
       "184853              NaN                 NaN           NaN              NaN   \n",
       "\n",
       "        triplesPitching  homeRunsPitching  strikeOutsPitching  \\\n",
       "228                 NaN               NaN                 NaN   \n",
       "1475                0.0               1.0                 6.0   \n",
       "1901                NaN               NaN                 NaN   \n",
       "2446                NaN               NaN                 NaN   \n",
       "2991                NaN               NaN                 NaN   \n",
       "...                 ...               ...                 ...   \n",
       "183129              NaN               NaN                 NaN   \n",
       "183590              0.0               1.0                 9.0   \n",
       "183833              NaN               NaN                 NaN   \n",
       "184076              NaN               NaN                 NaN   \n",
       "184853              NaN               NaN                 NaN   \n",
       "\n",
       "        baseOnBallsPitching  intentionalWalksPitching  hitsPitching  \\\n",
       "228                     NaN                       NaN           NaN   \n",
       "1475                    1.0                       0.0           3.0   \n",
       "1901                    NaN                       NaN           NaN   \n",
       "2446                    NaN                       NaN           NaN   \n",
       "2991                    NaN                       NaN           NaN   \n",
       "...                     ...                       ...           ...   \n",
       "183129                  NaN                       NaN           NaN   \n",
       "183590                  2.0                       0.0           3.0   \n",
       "183833                  NaN                       NaN           NaN   \n",
       "184076                  NaN                       NaN           NaN   \n",
       "184853                  NaN                       NaN           NaN   \n",
       "\n",
       "        hitByPitchPitching  atBatsPitching  caughtStealingPitching  \\\n",
       "228                    NaN             NaN                     NaN   \n",
       "1475                   0.0            21.0                     0.0   \n",
       "1901                   NaN             NaN                     NaN   \n",
       "2446                   NaN             NaN                     NaN   \n",
       "2991                   NaN             NaN                     NaN   \n",
       "...                    ...             ...                     ...   \n",
       "183129                 NaN             NaN                     NaN   \n",
       "183590                 1.0            17.0                     0.0   \n",
       "183833                 NaN             NaN                     NaN   \n",
       "184076                 NaN             NaN                     NaN   \n",
       "184853                 NaN             NaN                     NaN   \n",
       "\n",
       "        stolenBasesPitching  inningsPitched  saveOpportunities  earnedRuns  \\\n",
       "228                     NaN             NaN                NaN         NaN   \n",
       "1475                    0.0             6.0                0.0         3.0   \n",
       "1901                    NaN             NaN                NaN         NaN   \n",
       "2446                    NaN             NaN                NaN         NaN   \n",
       "2991                    NaN             NaN                NaN         NaN   \n",
       "...                     ...             ...                ...         ...   \n",
       "183129                  NaN             NaN                NaN         NaN   \n",
       "183590                  0.0             5.0                0.0         4.0   \n",
       "183833                  NaN             NaN                NaN         NaN   \n",
       "184076                  NaN             NaN                NaN         NaN   \n",
       "184853                  NaN             NaN                NaN         NaN   \n",
       "\n",
       "        battersFaced  outsPitching  pitchesThrown  balls  strikes  hitBatsmen  \\\n",
       "228              NaN           NaN            NaN    NaN      NaN         NaN   \n",
       "1475            22.0          18.0           92.0   29.0     63.0         0.0   \n",
       "1901             NaN           NaN            NaN    NaN      NaN         NaN   \n",
       "2446             NaN           NaN            NaN    NaN      NaN         NaN   \n",
       "2991             NaN           NaN            NaN    NaN      NaN         NaN   \n",
       "...              ...           ...            ...    ...      ...         ...   \n",
       "183129           NaN           NaN            NaN    NaN      NaN         NaN   \n",
       "183590          21.0          15.0           75.0   33.0     42.0         1.0   \n",
       "183833           NaN           NaN            NaN    NaN      NaN         NaN   \n",
       "184076           NaN           NaN            NaN    NaN      NaN         NaN   \n",
       "184853           NaN           NaN            NaN    NaN      NaN         NaN   \n",
       "\n",
       "        balks  wildPitches  pickoffsPitching  rbiPitching  \\\n",
       "228       NaN          NaN               NaN          NaN   \n",
       "1475      0.0          0.0               0.0          3.0   \n",
       "1901      NaN          NaN               NaN          NaN   \n",
       "2446      NaN          NaN               NaN          NaN   \n",
       "2991      NaN          NaN               NaN          NaN   \n",
       "...       ...          ...               ...          ...   \n",
       "183129    NaN          NaN               NaN          NaN   \n",
       "183590    0.0          1.0               0.0          4.0   \n",
       "183833    NaN          NaN               NaN          NaN   \n",
       "184076    NaN          NaN               NaN          NaN   \n",
       "184853    NaN          NaN               NaN          NaN   \n",
       "\n",
       "        gamesFinishedPitching  inheritedRunners  inheritedRunnersScored  \\\n",
       "228                       NaN               NaN                     NaN   \n",
       "1475                      0.0               0.0                     0.0   \n",
       "1901                      NaN               NaN                     NaN   \n",
       "2446                      NaN               NaN                     NaN   \n",
       "2991                      NaN               NaN                     NaN   \n",
       "...                       ...               ...                     ...   \n",
       "183129                    NaN               NaN                     NaN   \n",
       "183590                    0.0               0.0                     0.0   \n",
       "183833                    NaN               NaN                     NaN   \n",
       "184076                    NaN               NaN                     NaN   \n",
       "184853                    NaN               NaN                     NaN   \n",
       "\n",
       "        catchersInterferencePitching  sacBuntsPitching  sacFliesPitching  \\\n",
       "228                              NaN               NaN               NaN   \n",
       "1475                             0.0               0.0               0.0   \n",
       "1901                             NaN               NaN               NaN   \n",
       "2446                             NaN               NaN               NaN   \n",
       "2991                             NaN               NaN               NaN   \n",
       "...                              ...               ...               ...   \n",
       "183129                           NaN               NaN               NaN   \n",
       "183590                           0.0               0.0               1.0   \n",
       "183833                           NaN               NaN               NaN   \n",
       "184076                           NaN               NaN               NaN   \n",
       "184853                           NaN               NaN               NaN   \n",
       "\n",
       "        saves  holds  blownSaves  assists  putOuts  errors  chances  year  \n",
       "228       NaN    NaN         NaN      0.0      0.0     0.0      0.0  2018  \n",
       "1475      NaN    NaN         NaN      1.0      0.0     0.0      1.0  2018  \n",
       "1901      NaN    NaN         NaN      0.0      0.0     0.0      0.0  2018  \n",
       "2446      NaN    NaN         NaN      0.0      0.0     0.0      0.0  2018  \n",
       "2991      NaN    NaN         NaN      0.0      0.0     0.0      0.0  2018  \n",
       "...       ...    ...         ...      ...      ...     ...      ...   ...  \n",
       "183129    NaN    NaN         NaN      0.0      0.0     0.0      0.0  2021  \n",
       "183590    0.0    0.0         0.0      0.0      1.0     0.0      1.0  2021  \n",
       "183833    NaN    NaN         NaN      0.0      0.0     0.0      0.0  2021  \n",
       "184076    NaN    NaN         NaN      0.0      0.0     0.0      0.0  2021  \n",
       "184853    NaN    NaN         NaN      0.0      0.0     0.0      0.0  2021  \n",
       "\n",
       "[289 rows x 87 columns]"
      ],
      "text/html": [
       "<div>\n",
       "<style scoped>\n",
       "    .dataframe tbody tr th:only-of-type {\n",
       "        vertical-align: middle;\n",
       "    }\n",
       "\n",
       "    .dataframe tbody tr th {\n",
       "        vertical-align: top;\n",
       "    }\n",
       "\n",
       "    .dataframe thead th {\n",
       "        text-align: right;\n",
       "    }\n",
       "</style>\n",
       "<table border=\"1\" class=\"dataframe\">\n",
       "  <thead>\n",
       "    <tr style=\"text-align: right;\">\n",
       "      <th></th>\n",
       "      <th>date</th>\n",
       "      <th>home</th>\n",
       "      <th>gamePk</th>\n",
       "      <th>gameDate</th>\n",
       "      <th>gameTimeUTC</th>\n",
       "      <th>teamId</th>\n",
       "      <th>teamName</th>\n",
       "      <th>playerId</th>\n",
       "      <th>playerName</th>\n",
       "      <th>jerseyNum</th>\n",
       "      <th>positionCode</th>\n",
       "      <th>positionName</th>\n",
       "      <th>positionType</th>\n",
       "      <th>battingOrder</th>\n",
       "      <th>gamesPlayedBatting</th>\n",
       "      <th>flyOuts</th>\n",
       "      <th>groundOuts</th>\n",
       "      <th>runsScored</th>\n",
       "      <th>doubles</th>\n",
       "      <th>triples</th>\n",
       "      <th>homeRuns</th>\n",
       "      <th>strikeOuts</th>\n",
       "      <th>baseOnBalls</th>\n",
       "      <th>intentionalWalks</th>\n",
       "      <th>hits</th>\n",
       "      <th>hitByPitch</th>\n",
       "      <th>atBats</th>\n",
       "      <th>caughtStealing</th>\n",
       "      <th>stolenBases</th>\n",
       "      <th>groundIntoDoublePlay</th>\n",
       "      <th>groundIntoTriplePlay</th>\n",
       "      <th>plateAppearances</th>\n",
       "      <th>totalBases</th>\n",
       "      <th>rbi</th>\n",
       "      <th>leftOnBase</th>\n",
       "      <th>sacBunts</th>\n",
       "      <th>sacFlies</th>\n",
       "      <th>catchersInterference</th>\n",
       "      <th>pickoffs</th>\n",
       "      <th>gamesPlayedPitching</th>\n",
       "      <th>gamesStartedPitching</th>\n",
       "      <th>completeGamesPitching</th>\n",
       "      <th>shutoutsPitching</th>\n",
       "      <th>winsPitching</th>\n",
       "      <th>lossesPitching</th>\n",
       "      <th>flyOutsPitching</th>\n",
       "      <th>airOutsPitching</th>\n",
       "      <th>groundOutsPitching</th>\n",
       "      <th>runsPitching</th>\n",
       "      <th>doublesPitching</th>\n",
       "      <th>triplesPitching</th>\n",
       "      <th>homeRunsPitching</th>\n",
       "      <th>strikeOutsPitching</th>\n",
       "      <th>baseOnBallsPitching</th>\n",
       "      <th>intentionalWalksPitching</th>\n",
       "      <th>hitsPitching</th>\n",
       "      <th>hitByPitchPitching</th>\n",
       "      <th>atBatsPitching</th>\n",
       "      <th>caughtStealingPitching</th>\n",
       "      <th>stolenBasesPitching</th>\n",
       "      <th>inningsPitched</th>\n",
       "      <th>saveOpportunities</th>\n",
       "      <th>earnedRuns</th>\n",
       "      <th>battersFaced</th>\n",
       "      <th>outsPitching</th>\n",
       "      <th>pitchesThrown</th>\n",
       "      <th>balls</th>\n",
       "      <th>strikes</th>\n",
       "      <th>hitBatsmen</th>\n",
       "      <th>balks</th>\n",
       "      <th>wildPitches</th>\n",
       "      <th>pickoffsPitching</th>\n",
       "      <th>rbiPitching</th>\n",
       "      <th>gamesFinishedPitching</th>\n",
       "      <th>inheritedRunners</th>\n",
       "      <th>inheritedRunnersScored</th>\n",
       "      <th>catchersInterferencePitching</th>\n",
       "      <th>sacBuntsPitching</th>\n",
       "      <th>sacFliesPitching</th>\n",
       "      <th>saves</th>\n",
       "      <th>holds</th>\n",
       "      <th>blownSaves</th>\n",
       "      <th>assists</th>\n",
       "      <th>putOuts</th>\n",
       "      <th>errors</th>\n",
       "      <th>chances</th>\n",
       "      <th>year</th>\n",
       "    </tr>\n",
       "  </thead>\n",
       "  <tbody>\n",
       "    <tr>\n",
       "      <th>228</th>\n",
       "      <td>20180329</td>\n",
       "      <td>0</td>\n",
       "      <td>529412</td>\n",
       "      <td>2018-03-29</td>\n",
       "      <td>2018-03-29T20:05:00Z</td>\n",
       "      <td>108</td>\n",
       "      <td>Los Angeles Angels</td>\n",
       "      <td>660271</td>\n",
       "      <td>Shohei Ohtani</td>\n",
       "      <td>17</td>\n",
       "      <td>10</td>\n",
       "      <td>Designated Hitter</td>\n",
       "      <td>Hitter</td>\n",
       "      <td>800.0</td>\n",
       "      <td>1.0</td>\n",
       "      <td>0.0</td>\n",
       "      <td>3.0</td>\n",
       "      <td>0.0</td>\n",
       "      <td>0.0</td>\n",
       "      <td>0.0</td>\n",
       "      <td>0.0</td>\n",
       "      <td>1.0</td>\n",
       "      <td>0.0</td>\n",
       "      <td>0.0</td>\n",
       "      <td>1.0</td>\n",
       "      <td>0.0</td>\n",
       "      <td>5.0</td>\n",
       "      <td>0.0</td>\n",
       "      <td>0.0</td>\n",
       "      <td>0.0</td>\n",
       "      <td>0.0</td>\n",
       "      <td>5.0</td>\n",
       "      <td>1.0</td>\n",
       "      <td>0.0</td>\n",
       "      <td>1.0</td>\n",
       "      <td>0.0</td>\n",
       "      <td>0.0</td>\n",
       "      <td>0.0</td>\n",
       "      <td>0.0</td>\n",
       "      <td>NaN</td>\n",
       "      <td>NaN</td>\n",
       "      <td>NaN</td>\n",
       "      <td>NaN</td>\n",
       "      <td>NaN</td>\n",
       "      <td>NaN</td>\n",
       "      <td>NaN</td>\n",
       "      <td>NaN</td>\n",
       "      <td>NaN</td>\n",
       "      <td>NaN</td>\n",
       "      <td>NaN</td>\n",
       "      <td>NaN</td>\n",
       "      <td>NaN</td>\n",
       "      <td>NaN</td>\n",
       "      <td>NaN</td>\n",
       "      <td>NaN</td>\n",
       "      <td>NaN</td>\n",
       "      <td>NaN</td>\n",
       "      <td>NaN</td>\n",
       "      <td>NaN</td>\n",
       "      <td>NaN</td>\n",
       "      <td>NaN</td>\n",
       "      <td>NaN</td>\n",
       "      <td>NaN</td>\n",
       "      <td>NaN</td>\n",
       "      <td>NaN</td>\n",
       "      <td>NaN</td>\n",
       "      <td>NaN</td>\n",
       "      <td>NaN</td>\n",
       "      <td>NaN</td>\n",
       "      <td>NaN</td>\n",
       "      <td>NaN</td>\n",
       "      <td>NaN</td>\n",
       "      <td>NaN</td>\n",
       "      <td>NaN</td>\n",
       "      <td>NaN</td>\n",
       "      <td>NaN</td>\n",
       "      <td>NaN</td>\n",
       "      <td>NaN</td>\n",
       "      <td>NaN</td>\n",
       "      <td>NaN</td>\n",
       "      <td>NaN</td>\n",
       "      <td>NaN</td>\n",
       "      <td>0.0</td>\n",
       "      <td>0.0</td>\n",
       "      <td>0.0</td>\n",
       "      <td>0.0</td>\n",
       "      <td>2018</td>\n",
       "    </tr>\n",
       "    <tr>\n",
       "      <th>1475</th>\n",
       "      <td>20180401</td>\n",
       "      <td>0</td>\n",
       "      <td>529450</td>\n",
       "      <td>2018-04-01</td>\n",
       "      <td>2018-04-01T20:05:00Z</td>\n",
       "      <td>108</td>\n",
       "      <td>Los Angeles Angels</td>\n",
       "      <td>660271</td>\n",
       "      <td>Shohei Ohtani</td>\n",
       "      <td>17</td>\n",
       "      <td>1</td>\n",
       "      <td>Pitcher</td>\n",
       "      <td>Pitcher</td>\n",
       "      <td>NaN</td>\n",
       "      <td>NaN</td>\n",
       "      <td>NaN</td>\n",
       "      <td>NaN</td>\n",
       "      <td>NaN</td>\n",
       "      <td>NaN</td>\n",
       "      <td>NaN</td>\n",
       "      <td>NaN</td>\n",
       "      <td>NaN</td>\n",
       "      <td>NaN</td>\n",
       "      <td>NaN</td>\n",
       "      <td>NaN</td>\n",
       "      <td>NaN</td>\n",
       "      <td>NaN</td>\n",
       "      <td>NaN</td>\n",
       "      <td>NaN</td>\n",
       "      <td>NaN</td>\n",
       "      <td>NaN</td>\n",
       "      <td>NaN</td>\n",
       "      <td>NaN</td>\n",
       "      <td>NaN</td>\n",
       "      <td>NaN</td>\n",
       "      <td>NaN</td>\n",
       "      <td>NaN</td>\n",
       "      <td>NaN</td>\n",
       "      <td>NaN</td>\n",
       "      <td>1.0</td>\n",
       "      <td>1.0</td>\n",
       "      <td>0.0</td>\n",
       "      <td>0.0</td>\n",
       "      <td>1.0</td>\n",
       "      <td>NaN</td>\n",
       "      <td>2.0</td>\n",
       "      <td>6.0</td>\n",
       "      <td>6.0</td>\n",
       "      <td>3.0</td>\n",
       "      <td>0.0</td>\n",
       "      <td>0.0</td>\n",
       "      <td>1.0</td>\n",
       "      <td>6.0</td>\n",
       "      <td>1.0</td>\n",
       "      <td>0.0</td>\n",
       "      <td>3.0</td>\n",
       "      <td>0.0</td>\n",
       "      <td>21.0</td>\n",
       "      <td>0.0</td>\n",
       "      <td>0.0</td>\n",
       "      <td>6.0</td>\n",
       "      <td>0.0</td>\n",
       "      <td>3.0</td>\n",
       "      <td>22.0</td>\n",
       "      <td>18.0</td>\n",
       "      <td>92.0</td>\n",
       "      <td>29.0</td>\n",
       "      <td>63.0</td>\n",
       "      <td>0.0</td>\n",
       "      <td>0.0</td>\n",
       "      <td>0.0</td>\n",
       "      <td>0.0</td>\n",
       "      <td>3.0</td>\n",
       "      <td>0.0</td>\n",
       "      <td>0.0</td>\n",
       "      <td>0.0</td>\n",
       "      <td>0.0</td>\n",
       "      <td>0.0</td>\n",
       "      <td>0.0</td>\n",
       "      <td>NaN</td>\n",
       "      <td>NaN</td>\n",
       "      <td>NaN</td>\n",
       "      <td>1.0</td>\n",
       "      <td>0.0</td>\n",
       "      <td>0.0</td>\n",
       "      <td>1.0</td>\n",
       "      <td>2018</td>\n",
       "    </tr>\n",
       "    <tr>\n",
       "      <th>1901</th>\n",
       "      <td>20180403</td>\n",
       "      <td>1</td>\n",
       "      <td>529475</td>\n",
       "      <td>2018-04-03</td>\n",
       "      <td>2018-04-04T02:07:00Z</td>\n",
       "      <td>108</td>\n",
       "      <td>Los Angeles Angels</td>\n",
       "      <td>660271</td>\n",
       "      <td>Shohei Ohtani</td>\n",
       "      <td>17</td>\n",
       "      <td>10</td>\n",
       "      <td>Designated Hitter</td>\n",
       "      <td>Hitter</td>\n",
       "      <td>800.0</td>\n",
       "      <td>1.0</td>\n",
       "      <td>0.0</td>\n",
       "      <td>0.0</td>\n",
       "      <td>2.0</td>\n",
       "      <td>0.0</td>\n",
       "      <td>0.0</td>\n",
       "      <td>1.0</td>\n",
       "      <td>1.0</td>\n",
       "      <td>0.0</td>\n",
       "      <td>0.0</td>\n",
       "      <td>3.0</td>\n",
       "      <td>0.0</td>\n",
       "      <td>4.0</td>\n",
       "      <td>0.0</td>\n",
       "      <td>0.0</td>\n",
       "      <td>0.0</td>\n",
       "      <td>0.0</td>\n",
       "      <td>4.0</td>\n",
       "      <td>6.0</td>\n",
       "      <td>3.0</td>\n",
       "      <td>2.0</td>\n",
       "      <td>0.0</td>\n",
       "      <td>0.0</td>\n",
       "      <td>0.0</td>\n",
       "      <td>0.0</td>\n",
       "      <td>NaN</td>\n",
       "      <td>NaN</td>\n",
       "      <td>NaN</td>\n",
       "      <td>NaN</td>\n",
       "      <td>NaN</td>\n",
       "      <td>NaN</td>\n",
       "      <td>NaN</td>\n",
       "      <td>NaN</td>\n",
       "      <td>NaN</td>\n",
       "      <td>NaN</td>\n",
       "      <td>NaN</td>\n",
       "      <td>NaN</td>\n",
       "      <td>NaN</td>\n",
       "      <td>NaN</td>\n",
       "      <td>NaN</td>\n",
       "      <td>NaN</td>\n",
       "      <td>NaN</td>\n",
       "      <td>NaN</td>\n",
       "      <td>NaN</td>\n",
       "      <td>NaN</td>\n",
       "      <td>NaN</td>\n",
       "      <td>NaN</td>\n",
       "      <td>NaN</td>\n",
       "      <td>NaN</td>\n",
       "      <td>NaN</td>\n",
       "      <td>NaN</td>\n",
       "      <td>NaN</td>\n",
       "      <td>NaN</td>\n",
       "      <td>NaN</td>\n",
       "      <td>NaN</td>\n",
       "      <td>NaN</td>\n",
       "      <td>NaN</td>\n",
       "      <td>NaN</td>\n",
       "      <td>NaN</td>\n",
       "      <td>NaN</td>\n",
       "      <td>NaN</td>\n",
       "      <td>NaN</td>\n",
       "      <td>NaN</td>\n",
       "      <td>NaN</td>\n",
       "      <td>NaN</td>\n",
       "      <td>NaN</td>\n",
       "      <td>NaN</td>\n",
       "      <td>NaN</td>\n",
       "      <td>0.0</td>\n",
       "      <td>0.0</td>\n",
       "      <td>0.0</td>\n",
       "      <td>0.0</td>\n",
       "      <td>2018</td>\n",
       "    </tr>\n",
       "    <tr>\n",
       "      <th>2446</th>\n",
       "      <td>20180404</td>\n",
       "      <td>1</td>\n",
       "      <td>529486</td>\n",
       "      <td>2018-04-04</td>\n",
       "      <td>2018-04-04T20:07:00Z</td>\n",
       "      <td>108</td>\n",
       "      <td>Los Angeles Angels</td>\n",
       "      <td>660271</td>\n",
       "      <td>Shohei Ohtani</td>\n",
       "      <td>17</td>\n",
       "      <td>10</td>\n",
       "      <td>Designated Hitter</td>\n",
       "      <td>Hitter</td>\n",
       "      <td>800.0</td>\n",
       "      <td>1.0</td>\n",
       "      <td>0.0</td>\n",
       "      <td>2.0</td>\n",
       "      <td>1.0</td>\n",
       "      <td>0.0</td>\n",
       "      <td>0.0</td>\n",
       "      <td>1.0</td>\n",
       "      <td>1.0</td>\n",
       "      <td>0.0</td>\n",
       "      <td>0.0</td>\n",
       "      <td>2.0</td>\n",
       "      <td>0.0</td>\n",
       "      <td>5.0</td>\n",
       "      <td>0.0</td>\n",
       "      <td>0.0</td>\n",
       "      <td>0.0</td>\n",
       "      <td>0.0</td>\n",
       "      <td>5.0</td>\n",
       "      <td>5.0</td>\n",
       "      <td>2.0</td>\n",
       "      <td>0.0</td>\n",
       "      <td>0.0</td>\n",
       "      <td>0.0</td>\n",
       "      <td>0.0</td>\n",
       "      <td>0.0</td>\n",
       "      <td>NaN</td>\n",
       "      <td>NaN</td>\n",
       "      <td>NaN</td>\n",
       "      <td>NaN</td>\n",
       "      <td>NaN</td>\n",
       "      <td>NaN</td>\n",
       "      <td>NaN</td>\n",
       "      <td>NaN</td>\n",
       "      <td>NaN</td>\n",
       "      <td>NaN</td>\n",
       "      <td>NaN</td>\n",
       "      <td>NaN</td>\n",
       "      <td>NaN</td>\n",
       "      <td>NaN</td>\n",
       "      <td>NaN</td>\n",
       "      <td>NaN</td>\n",
       "      <td>NaN</td>\n",
       "      <td>NaN</td>\n",
       "      <td>NaN</td>\n",
       "      <td>NaN</td>\n",
       "      <td>NaN</td>\n",
       "      <td>NaN</td>\n",
       "      <td>NaN</td>\n",
       "      <td>NaN</td>\n",
       "      <td>NaN</td>\n",
       "      <td>NaN</td>\n",
       "      <td>NaN</td>\n",
       "      <td>NaN</td>\n",
       "      <td>NaN</td>\n",
       "      <td>NaN</td>\n",
       "      <td>NaN</td>\n",
       "      <td>NaN</td>\n",
       "      <td>NaN</td>\n",
       "      <td>NaN</td>\n",
       "      <td>NaN</td>\n",
       "      <td>NaN</td>\n",
       "      <td>NaN</td>\n",
       "      <td>NaN</td>\n",
       "      <td>NaN</td>\n",
       "      <td>NaN</td>\n",
       "      <td>NaN</td>\n",
       "      <td>NaN</td>\n",
       "      <td>NaN</td>\n",
       "      <td>0.0</td>\n",
       "      <td>0.0</td>\n",
       "      <td>0.0</td>\n",
       "      <td>0.0</td>\n",
       "      <td>2018</td>\n",
       "    </tr>\n",
       "    <tr>\n",
       "      <th>2991</th>\n",
       "      <td>20180406</td>\n",
       "      <td>1</td>\n",
       "      <td>529514</td>\n",
       "      <td>2018-04-06</td>\n",
       "      <td>2018-04-07T02:07:00Z</td>\n",
       "      <td>108</td>\n",
       "      <td>Los Angeles Angels</td>\n",
       "      <td>660271</td>\n",
       "      <td>Shohei Ohtani</td>\n",
       "      <td>17</td>\n",
       "      <td>10</td>\n",
       "      <td>Designated Hitter</td>\n",
       "      <td>Hitter</td>\n",
       "      <td>800.0</td>\n",
       "      <td>1.0</td>\n",
       "      <td>1.0</td>\n",
       "      <td>1.0</td>\n",
       "      <td>1.0</td>\n",
       "      <td>0.0</td>\n",
       "      <td>0.0</td>\n",
       "      <td>1.0</td>\n",
       "      <td>1.0</td>\n",
       "      <td>1.0</td>\n",
       "      <td>0.0</td>\n",
       "      <td>1.0</td>\n",
       "      <td>0.0</td>\n",
       "      <td>4.0</td>\n",
       "      <td>0.0</td>\n",
       "      <td>0.0</td>\n",
       "      <td>0.0</td>\n",
       "      <td>0.0</td>\n",
       "      <td>5.0</td>\n",
       "      <td>4.0</td>\n",
       "      <td>2.0</td>\n",
       "      <td>3.0</td>\n",
       "      <td>0.0</td>\n",
       "      <td>0.0</td>\n",
       "      <td>0.0</td>\n",
       "      <td>0.0</td>\n",
       "      <td>NaN</td>\n",
       "      <td>NaN</td>\n",
       "      <td>NaN</td>\n",
       "      <td>NaN</td>\n",
       "      <td>NaN</td>\n",
       "      <td>NaN</td>\n",
       "      <td>NaN</td>\n",
       "      <td>NaN</td>\n",
       "      <td>NaN</td>\n",
       "      <td>NaN</td>\n",
       "      <td>NaN</td>\n",
       "      <td>NaN</td>\n",
       "      <td>NaN</td>\n",
       "      <td>NaN</td>\n",
       "      <td>NaN</td>\n",
       "      <td>NaN</td>\n",
       "      <td>NaN</td>\n",
       "      <td>NaN</td>\n",
       "      <td>NaN</td>\n",
       "      <td>NaN</td>\n",
       "      <td>NaN</td>\n",
       "      <td>NaN</td>\n",
       "      <td>NaN</td>\n",
       "      <td>NaN</td>\n",
       "      <td>NaN</td>\n",
       "      <td>NaN</td>\n",
       "      <td>NaN</td>\n",
       "      <td>NaN</td>\n",
       "      <td>NaN</td>\n",
       "      <td>NaN</td>\n",
       "      <td>NaN</td>\n",
       "      <td>NaN</td>\n",
       "      <td>NaN</td>\n",
       "      <td>NaN</td>\n",
       "      <td>NaN</td>\n",
       "      <td>NaN</td>\n",
       "      <td>NaN</td>\n",
       "      <td>NaN</td>\n",
       "      <td>NaN</td>\n",
       "      <td>NaN</td>\n",
       "      <td>NaN</td>\n",
       "      <td>NaN</td>\n",
       "      <td>NaN</td>\n",
       "      <td>0.0</td>\n",
       "      <td>0.0</td>\n",
       "      <td>0.0</td>\n",
       "      <td>0.0</td>\n",
       "      <td>2018</td>\n",
       "    </tr>\n",
       "    <tr>\n",
       "      <th>...</th>\n",
       "      <td>...</td>\n",
       "      <td>...</td>\n",
       "      <td>...</td>\n",
       "      <td>...</td>\n",
       "      <td>...</td>\n",
       "      <td>...</td>\n",
       "      <td>...</td>\n",
       "      <td>...</td>\n",
       "      <td>...</td>\n",
       "      <td>...</td>\n",
       "      <td>...</td>\n",
       "      <td>...</td>\n",
       "      <td>...</td>\n",
       "      <td>...</td>\n",
       "      <td>...</td>\n",
       "      <td>...</td>\n",
       "      <td>...</td>\n",
       "      <td>...</td>\n",
       "      <td>...</td>\n",
       "      <td>...</td>\n",
       "      <td>...</td>\n",
       "      <td>...</td>\n",
       "      <td>...</td>\n",
       "      <td>...</td>\n",
       "      <td>...</td>\n",
       "      <td>...</td>\n",
       "      <td>...</td>\n",
       "      <td>...</td>\n",
       "      <td>...</td>\n",
       "      <td>...</td>\n",
       "      <td>...</td>\n",
       "      <td>...</td>\n",
       "      <td>...</td>\n",
       "      <td>...</td>\n",
       "      <td>...</td>\n",
       "      <td>...</td>\n",
       "      <td>...</td>\n",
       "      <td>...</td>\n",
       "      <td>...</td>\n",
       "      <td>...</td>\n",
       "      <td>...</td>\n",
       "      <td>...</td>\n",
       "      <td>...</td>\n",
       "      <td>...</td>\n",
       "      <td>...</td>\n",
       "      <td>...</td>\n",
       "      <td>...</td>\n",
       "      <td>...</td>\n",
       "      <td>...</td>\n",
       "      <td>...</td>\n",
       "      <td>...</td>\n",
       "      <td>...</td>\n",
       "      <td>...</td>\n",
       "      <td>...</td>\n",
       "      <td>...</td>\n",
       "      <td>...</td>\n",
       "      <td>...</td>\n",
       "      <td>...</td>\n",
       "      <td>...</td>\n",
       "      <td>...</td>\n",
       "      <td>...</td>\n",
       "      <td>...</td>\n",
       "      <td>...</td>\n",
       "      <td>...</td>\n",
       "      <td>...</td>\n",
       "      <td>...</td>\n",
       "      <td>...</td>\n",
       "      <td>...</td>\n",
       "      <td>...</td>\n",
       "      <td>...</td>\n",
       "      <td>...</td>\n",
       "      <td>...</td>\n",
       "      <td>...</td>\n",
       "      <td>...</td>\n",
       "      <td>...</td>\n",
       "      <td>...</td>\n",
       "      <td>...</td>\n",
       "      <td>...</td>\n",
       "      <td>...</td>\n",
       "      <td>...</td>\n",
       "      <td>...</td>\n",
       "      <td>...</td>\n",
       "      <td>...</td>\n",
       "      <td>...</td>\n",
       "      <td>...</td>\n",
       "      <td>...</td>\n",
       "      <td>...</td>\n",
       "    </tr>\n",
       "    <tr>\n",
       "      <th>183129</th>\n",
       "      <td>20210425</td>\n",
       "      <td>0</td>\n",
       "      <td>634403</td>\n",
       "      <td>2021-04-25</td>\n",
       "      <td>2021-04-25T18:10:00Z</td>\n",
       "      <td>108</td>\n",
       "      <td>Los Angeles Angels</td>\n",
       "      <td>660271</td>\n",
       "      <td>Shohei Ohtani</td>\n",
       "      <td>17</td>\n",
       "      <td>10</td>\n",
       "      <td>Designated Hitter</td>\n",
       "      <td>Hitter</td>\n",
       "      <td>200.0</td>\n",
       "      <td>1.0</td>\n",
       "      <td>1.0</td>\n",
       "      <td>1.0</td>\n",
       "      <td>1.0</td>\n",
       "      <td>0.0</td>\n",
       "      <td>0.0</td>\n",
       "      <td>1.0</td>\n",
       "      <td>2.0</td>\n",
       "      <td>0.0</td>\n",
       "      <td>0.0</td>\n",
       "      <td>1.0</td>\n",
       "      <td>0.0</td>\n",
       "      <td>5.0</td>\n",
       "      <td>0.0</td>\n",
       "      <td>0.0</td>\n",
       "      <td>0.0</td>\n",
       "      <td>0.0</td>\n",
       "      <td>5.0</td>\n",
       "      <td>4.0</td>\n",
       "      <td>1.0</td>\n",
       "      <td>3.0</td>\n",
       "      <td>0.0</td>\n",
       "      <td>0.0</td>\n",
       "      <td>0.0</td>\n",
       "      <td>0.0</td>\n",
       "      <td>NaN</td>\n",
       "      <td>NaN</td>\n",
       "      <td>NaN</td>\n",
       "      <td>NaN</td>\n",
       "      <td>NaN</td>\n",
       "      <td>NaN</td>\n",
       "      <td>NaN</td>\n",
       "      <td>NaN</td>\n",
       "      <td>NaN</td>\n",
       "      <td>NaN</td>\n",
       "      <td>NaN</td>\n",
       "      <td>NaN</td>\n",
       "      <td>NaN</td>\n",
       "      <td>NaN</td>\n",
       "      <td>NaN</td>\n",
       "      <td>NaN</td>\n",
       "      <td>NaN</td>\n",
       "      <td>NaN</td>\n",
       "      <td>NaN</td>\n",
       "      <td>NaN</td>\n",
       "      <td>NaN</td>\n",
       "      <td>NaN</td>\n",
       "      <td>NaN</td>\n",
       "      <td>NaN</td>\n",
       "      <td>NaN</td>\n",
       "      <td>NaN</td>\n",
       "      <td>NaN</td>\n",
       "      <td>NaN</td>\n",
       "      <td>NaN</td>\n",
       "      <td>NaN</td>\n",
       "      <td>NaN</td>\n",
       "      <td>NaN</td>\n",
       "      <td>NaN</td>\n",
       "      <td>NaN</td>\n",
       "      <td>NaN</td>\n",
       "      <td>NaN</td>\n",
       "      <td>NaN</td>\n",
       "      <td>NaN</td>\n",
       "      <td>NaN</td>\n",
       "      <td>NaN</td>\n",
       "      <td>NaN</td>\n",
       "      <td>NaN</td>\n",
       "      <td>NaN</td>\n",
       "      <td>0.0</td>\n",
       "      <td>0.0</td>\n",
       "      <td>0.0</td>\n",
       "      <td>0.0</td>\n",
       "      <td>2021</td>\n",
       "    </tr>\n",
       "    <tr>\n",
       "      <th>183590</th>\n",
       "      <td>20210426</td>\n",
       "      <td>0</td>\n",
       "      <td>634377</td>\n",
       "      <td>2021-04-26</td>\n",
       "      <td>2021-04-27T00:05:00Z</td>\n",
       "      <td>108</td>\n",
       "      <td>Los Angeles Angels</td>\n",
       "      <td>660271</td>\n",
       "      <td>Shohei Ohtani</td>\n",
       "      <td>17</td>\n",
       "      <td>1</td>\n",
       "      <td>Pitcher</td>\n",
       "      <td>Pitcher</td>\n",
       "      <td>200.0</td>\n",
       "      <td>1.0</td>\n",
       "      <td>0.0</td>\n",
       "      <td>0.0</td>\n",
       "      <td>3.0</td>\n",
       "      <td>1.0</td>\n",
       "      <td>0.0</td>\n",
       "      <td>0.0</td>\n",
       "      <td>1.0</td>\n",
       "      <td>1.0</td>\n",
       "      <td>0.0</td>\n",
       "      <td>2.0</td>\n",
       "      <td>0.0</td>\n",
       "      <td>3.0</td>\n",
       "      <td>0.0</td>\n",
       "      <td>0.0</td>\n",
       "      <td>0.0</td>\n",
       "      <td>0.0</td>\n",
       "      <td>4.0</td>\n",
       "      <td>3.0</td>\n",
       "      <td>2.0</td>\n",
       "      <td>2.0</td>\n",
       "      <td>0.0</td>\n",
       "      <td>0.0</td>\n",
       "      <td>0.0</td>\n",
       "      <td>0.0</td>\n",
       "      <td>1.0</td>\n",
       "      <td>1.0</td>\n",
       "      <td>0.0</td>\n",
       "      <td>0.0</td>\n",
       "      <td>1.0</td>\n",
       "      <td>0.0</td>\n",
       "      <td>2.0</td>\n",
       "      <td>3.0</td>\n",
       "      <td>3.0</td>\n",
       "      <td>4.0</td>\n",
       "      <td>0.0</td>\n",
       "      <td>0.0</td>\n",
       "      <td>1.0</td>\n",
       "      <td>9.0</td>\n",
       "      <td>2.0</td>\n",
       "      <td>0.0</td>\n",
       "      <td>3.0</td>\n",
       "      <td>1.0</td>\n",
       "      <td>17.0</td>\n",
       "      <td>0.0</td>\n",
       "      <td>0.0</td>\n",
       "      <td>5.0</td>\n",
       "      <td>0.0</td>\n",
       "      <td>4.0</td>\n",
       "      <td>21.0</td>\n",
       "      <td>15.0</td>\n",
       "      <td>75.0</td>\n",
       "      <td>33.0</td>\n",
       "      <td>42.0</td>\n",
       "      <td>1.0</td>\n",
       "      <td>0.0</td>\n",
       "      <td>1.0</td>\n",
       "      <td>0.0</td>\n",
       "      <td>4.0</td>\n",
       "      <td>0.0</td>\n",
       "      <td>0.0</td>\n",
       "      <td>0.0</td>\n",
       "      <td>0.0</td>\n",
       "      <td>0.0</td>\n",
       "      <td>1.0</td>\n",
       "      <td>0.0</td>\n",
       "      <td>0.0</td>\n",
       "      <td>0.0</td>\n",
       "      <td>0.0</td>\n",
       "      <td>1.0</td>\n",
       "      <td>0.0</td>\n",
       "      <td>1.0</td>\n",
       "      <td>2021</td>\n",
       "    </tr>\n",
       "    <tr>\n",
       "      <th>183833</th>\n",
       "      <td>20210427</td>\n",
       "      <td>0</td>\n",
       "      <td>634359</td>\n",
       "      <td>2021-04-27</td>\n",
       "      <td>2021-04-28T00:05:00Z</td>\n",
       "      <td>108</td>\n",
       "      <td>Los Angeles Angels</td>\n",
       "      <td>660271</td>\n",
       "      <td>Shohei Ohtani</td>\n",
       "      <td>17</td>\n",
       "      <td>10</td>\n",
       "      <td>Designated Hitter</td>\n",
       "      <td>Hitter</td>\n",
       "      <td>200.0</td>\n",
       "      <td>1.0</td>\n",
       "      <td>2.0</td>\n",
       "      <td>1.0</td>\n",
       "      <td>0.0</td>\n",
       "      <td>0.0</td>\n",
       "      <td>0.0</td>\n",
       "      <td>0.0</td>\n",
       "      <td>1.0</td>\n",
       "      <td>0.0</td>\n",
       "      <td>0.0</td>\n",
       "      <td>0.0</td>\n",
       "      <td>0.0</td>\n",
       "      <td>4.0</td>\n",
       "      <td>0.0</td>\n",
       "      <td>0.0</td>\n",
       "      <td>0.0</td>\n",
       "      <td>0.0</td>\n",
       "      <td>4.0</td>\n",
       "      <td>0.0</td>\n",
       "      <td>0.0</td>\n",
       "      <td>4.0</td>\n",
       "      <td>0.0</td>\n",
       "      <td>0.0</td>\n",
       "      <td>0.0</td>\n",
       "      <td>0.0</td>\n",
       "      <td>NaN</td>\n",
       "      <td>NaN</td>\n",
       "      <td>NaN</td>\n",
       "      <td>NaN</td>\n",
       "      <td>NaN</td>\n",
       "      <td>NaN</td>\n",
       "      <td>NaN</td>\n",
       "      <td>NaN</td>\n",
       "      <td>NaN</td>\n",
       "      <td>NaN</td>\n",
       "      <td>NaN</td>\n",
       "      <td>NaN</td>\n",
       "      <td>NaN</td>\n",
       "      <td>NaN</td>\n",
       "      <td>NaN</td>\n",
       "      <td>NaN</td>\n",
       "      <td>NaN</td>\n",
       "      <td>NaN</td>\n",
       "      <td>NaN</td>\n",
       "      <td>NaN</td>\n",
       "      <td>NaN</td>\n",
       "      <td>NaN</td>\n",
       "      <td>NaN</td>\n",
       "      <td>NaN</td>\n",
       "      <td>NaN</td>\n",
       "      <td>NaN</td>\n",
       "      <td>NaN</td>\n",
       "      <td>NaN</td>\n",
       "      <td>NaN</td>\n",
       "      <td>NaN</td>\n",
       "      <td>NaN</td>\n",
       "      <td>NaN</td>\n",
       "      <td>NaN</td>\n",
       "      <td>NaN</td>\n",
       "      <td>NaN</td>\n",
       "      <td>NaN</td>\n",
       "      <td>NaN</td>\n",
       "      <td>NaN</td>\n",
       "      <td>NaN</td>\n",
       "      <td>NaN</td>\n",
       "      <td>NaN</td>\n",
       "      <td>NaN</td>\n",
       "      <td>NaN</td>\n",
       "      <td>0.0</td>\n",
       "      <td>0.0</td>\n",
       "      <td>0.0</td>\n",
       "      <td>0.0</td>\n",
       "      <td>2021</td>\n",
       "    </tr>\n",
       "    <tr>\n",
       "      <th>184076</th>\n",
       "      <td>20210428</td>\n",
       "      <td>0</td>\n",
       "      <td>634350</td>\n",
       "      <td>2021-04-28</td>\n",
       "      <td>2021-04-29T00:05:00Z</td>\n",
       "      <td>108</td>\n",
       "      <td>Los Angeles Angels</td>\n",
       "      <td>660271</td>\n",
       "      <td>Shohei Ohtani</td>\n",
       "      <td>17</td>\n",
       "      <td>10</td>\n",
       "      <td>Designated Hitter</td>\n",
       "      <td>Hitter</td>\n",
       "      <td>200.0</td>\n",
       "      <td>1.0</td>\n",
       "      <td>0.0</td>\n",
       "      <td>1.0</td>\n",
       "      <td>0.0</td>\n",
       "      <td>1.0</td>\n",
       "      <td>0.0</td>\n",
       "      <td>0.0</td>\n",
       "      <td>1.0</td>\n",
       "      <td>0.0</td>\n",
       "      <td>0.0</td>\n",
       "      <td>1.0</td>\n",
       "      <td>0.0</td>\n",
       "      <td>4.0</td>\n",
       "      <td>0.0</td>\n",
       "      <td>0.0</td>\n",
       "      <td>0.0</td>\n",
       "      <td>0.0</td>\n",
       "      <td>4.0</td>\n",
       "      <td>2.0</td>\n",
       "      <td>0.0</td>\n",
       "      <td>1.0</td>\n",
       "      <td>0.0</td>\n",
       "      <td>0.0</td>\n",
       "      <td>0.0</td>\n",
       "      <td>0.0</td>\n",
       "      <td>NaN</td>\n",
       "      <td>NaN</td>\n",
       "      <td>NaN</td>\n",
       "      <td>NaN</td>\n",
       "      <td>NaN</td>\n",
       "      <td>NaN</td>\n",
       "      <td>NaN</td>\n",
       "      <td>NaN</td>\n",
       "      <td>NaN</td>\n",
       "      <td>NaN</td>\n",
       "      <td>NaN</td>\n",
       "      <td>NaN</td>\n",
       "      <td>NaN</td>\n",
       "      <td>NaN</td>\n",
       "      <td>NaN</td>\n",
       "      <td>NaN</td>\n",
       "      <td>NaN</td>\n",
       "      <td>NaN</td>\n",
       "      <td>NaN</td>\n",
       "      <td>NaN</td>\n",
       "      <td>NaN</td>\n",
       "      <td>NaN</td>\n",
       "      <td>NaN</td>\n",
       "      <td>NaN</td>\n",
       "      <td>NaN</td>\n",
       "      <td>NaN</td>\n",
       "      <td>NaN</td>\n",
       "      <td>NaN</td>\n",
       "      <td>NaN</td>\n",
       "      <td>NaN</td>\n",
       "      <td>NaN</td>\n",
       "      <td>NaN</td>\n",
       "      <td>NaN</td>\n",
       "      <td>NaN</td>\n",
       "      <td>NaN</td>\n",
       "      <td>NaN</td>\n",
       "      <td>NaN</td>\n",
       "      <td>NaN</td>\n",
       "      <td>NaN</td>\n",
       "      <td>NaN</td>\n",
       "      <td>NaN</td>\n",
       "      <td>NaN</td>\n",
       "      <td>NaN</td>\n",
       "      <td>0.0</td>\n",
       "      <td>0.0</td>\n",
       "      <td>0.0</td>\n",
       "      <td>0.0</td>\n",
       "      <td>2021</td>\n",
       "    </tr>\n",
       "    <tr>\n",
       "      <th>184853</th>\n",
       "      <td>20210430</td>\n",
       "      <td>0</td>\n",
       "      <td>634287</td>\n",
       "      <td>2021-04-30</td>\n",
       "      <td>2021-05-01T02:10:00Z</td>\n",
       "      <td>108</td>\n",
       "      <td>Los Angeles Angels</td>\n",
       "      <td>660271</td>\n",
       "      <td>Shohei Ohtani</td>\n",
       "      <td>17</td>\n",
       "      <td>10</td>\n",
       "      <td>Designated Hitter</td>\n",
       "      <td>Hitter</td>\n",
       "      <td>200.0</td>\n",
       "      <td>1.0</td>\n",
       "      <td>1.0</td>\n",
       "      <td>2.0</td>\n",
       "      <td>1.0</td>\n",
       "      <td>0.0</td>\n",
       "      <td>0.0</td>\n",
       "      <td>1.0</td>\n",
       "      <td>0.0</td>\n",
       "      <td>0.0</td>\n",
       "      <td>0.0</td>\n",
       "      <td>1.0</td>\n",
       "      <td>0.0</td>\n",
       "      <td>4.0</td>\n",
       "      <td>0.0</td>\n",
       "      <td>0.0</td>\n",
       "      <td>0.0</td>\n",
       "      <td>0.0</td>\n",
       "      <td>4.0</td>\n",
       "      <td>4.0</td>\n",
       "      <td>1.0</td>\n",
       "      <td>1.0</td>\n",
       "      <td>0.0</td>\n",
       "      <td>0.0</td>\n",
       "      <td>0.0</td>\n",
       "      <td>0.0</td>\n",
       "      <td>NaN</td>\n",
       "      <td>NaN</td>\n",
       "      <td>NaN</td>\n",
       "      <td>NaN</td>\n",
       "      <td>NaN</td>\n",
       "      <td>NaN</td>\n",
       "      <td>NaN</td>\n",
       "      <td>NaN</td>\n",
       "      <td>NaN</td>\n",
       "      <td>NaN</td>\n",
       "      <td>NaN</td>\n",
       "      <td>NaN</td>\n",
       "      <td>NaN</td>\n",
       "      <td>NaN</td>\n",
       "      <td>NaN</td>\n",
       "      <td>NaN</td>\n",
       "      <td>NaN</td>\n",
       "      <td>NaN</td>\n",
       "      <td>NaN</td>\n",
       "      <td>NaN</td>\n",
       "      <td>NaN</td>\n",
       "      <td>NaN</td>\n",
       "      <td>NaN</td>\n",
       "      <td>NaN</td>\n",
       "      <td>NaN</td>\n",
       "      <td>NaN</td>\n",
       "      <td>NaN</td>\n",
       "      <td>NaN</td>\n",
       "      <td>NaN</td>\n",
       "      <td>NaN</td>\n",
       "      <td>NaN</td>\n",
       "      <td>NaN</td>\n",
       "      <td>NaN</td>\n",
       "      <td>NaN</td>\n",
       "      <td>NaN</td>\n",
       "      <td>NaN</td>\n",
       "      <td>NaN</td>\n",
       "      <td>NaN</td>\n",
       "      <td>NaN</td>\n",
       "      <td>NaN</td>\n",
       "      <td>NaN</td>\n",
       "      <td>NaN</td>\n",
       "      <td>NaN</td>\n",
       "      <td>0.0</td>\n",
       "      <td>0.0</td>\n",
       "      <td>0.0</td>\n",
       "      <td>0.0</td>\n",
       "      <td>2021</td>\n",
       "    </tr>\n",
       "  </tbody>\n",
       "</table>\n",
       "<p>289 rows × 87 columns</p>\n",
       "</div>"
      ]
     },
     "metadata": {},
     "execution_count": 6
    }
   ],
   "metadata": {}
  },
  {
   "cell_type": "code",
   "execution_count": 44,
   "source": [
    "agg_df = df.groupby([\"year\", \"date\"], as_index=False).agg(\n",
    "    num_game = (\"gamePk\", \"nunique\"),\n",
    "    plateAppearances = (\"plateAppearances\", np.sum),\n",
    "    atBats = (\"atBats\", np.sum),\n",
    "    hits = (\"hits\", np.sum),\n",
    "    doubles = (\"doubles\", np.sum),\n",
    "    triples = (\"triples\", np.sum),\n",
    "    homeRuns = (\"homeRuns\", np.sum),\n",
    "    rbi = (\"rbi\", np.sum),\n",
    "    totalBases = (\"totalBases\", np.sum),\n",
    "    baseOnBalls = (\"baseOnBalls\", np.sum),\n",
    "    hitByPitch = (\"hitByPitch\", np.sum),\n",
    "    sacBunts = (\"sacBunts\", np.sum),\n",
    "    sacFlies = (\"sacFlies\", np.sum),\n",
    "    caughtStealing = (\"caughtStealing\", np.sum),\n",
    ")\n",
    "\n",
    "for col in agg_df.drop(columns=[\"year\", \"date\"], axis=1).columns.tolist():\n",
    "    col_ = col + \"_cumsum\"\n",
    "    agg_df[col_] = agg_df.groupby([\"year\"], as_index=False)[col].cumsum()\n",
    "\n",
    "agg_df[\"battingAverage\"] = agg_df[\"hits_cumsum\"] / agg_df[\"atBats_cumsum\"] # 打率\n",
    "agg_df[\"sluggingPercentage\"] = agg_df[\"totalBases_cumsum\"] / agg_df[\"atBats_cumsum\"] # 長打率\n",
    "agg_df[\"onBasePercentage\"] = (agg_df[\"hits_cumsum\"] + agg_df[\"baseOnBalls_cumsum\"] + agg_df[\"hitByPitch_cumsum\"])/(agg_df[\"atBats_cumsum\"] + agg_df[\"baseOnBalls_cumsum\"] + agg_df[\"hitByPitch_cumsum\"] + agg_df[\"sacFlies_cumsum\"]) # 出塁率\n",
    "agg_df[\"ops\"] = agg_df[\"sluggingPercentage\"] + agg_df[\"onBasePercentage\"] # OPS\n",
    "agg_df[\"iso\"] = agg_df[\"sluggingPercentage\"] - agg_df[\"battingAverage\"] # ISO\n",
    "agg_df[\"isod\"] = agg_df[\"onBasePercentage\"] - agg_df[\"battingAverage\"] # IsoD\n",
    "agg_df[\"rc\"] = (agg_df[\"hits_cumsum\"] + agg_df[\"baseOnBalls_cumsum\"]) * agg_df[\"totalBases_cumsum\"] / (agg_df[\"atBats_cumsum\"] + agg_df[\"baseOnBalls_cumsum\"]) # RC\n",
    "\n",
    "agg_df"
   ],
   "outputs": [
    {
     "output_type": "execute_result",
     "data": {
      "text/plain": [
       "     year      date  num_game  plateAppearances  atBats  hits  doubles  \\\n",
       "0    2018  20180329         1               5.0     5.0   1.0      0.0   \n",
       "1    2018  20180401         1               0.0     0.0   0.0      0.0   \n",
       "2    2018  20180403         1               4.0     4.0   3.0      0.0   \n",
       "3    2018  20180404         1               5.0     5.0   2.0      0.0   \n",
       "4    2018  20180406         1               5.0     4.0   1.0      0.0   \n",
       "..    ...       ...       ...               ...     ...   ...      ...   \n",
       "282  2021  20210425         1               5.0     5.0   1.0      0.0   \n",
       "283  2021  20210426         1               4.0     3.0   2.0      1.0   \n",
       "284  2021  20210427         1               4.0     4.0   0.0      0.0   \n",
       "285  2021  20210428         1               4.0     4.0   1.0      1.0   \n",
       "286  2021  20210430         1               4.0     4.0   1.0      0.0   \n",
       "\n",
       "     triples  homeRuns  rbi  totalBases  baseOnBalls  hitByPitch  sacFlies  \\\n",
       "0        0.0       0.0  0.0         1.0          0.0         0.0       0.0   \n",
       "1        0.0       0.0  0.0         0.0          0.0         0.0       0.0   \n",
       "2        0.0       1.0  3.0         6.0          0.0         0.0       0.0   \n",
       "3        0.0       1.0  2.0         5.0          0.0         0.0       0.0   \n",
       "4        0.0       1.0  2.0         4.0          1.0         0.0       0.0   \n",
       "..       ...       ...  ...         ...          ...         ...       ...   \n",
       "282      0.0       1.0  1.0         4.0          0.0         0.0       0.0   \n",
       "283      0.0       0.0  2.0         3.0          1.0         0.0       0.0   \n",
       "284      0.0       0.0  0.0         0.0          0.0         0.0       0.0   \n",
       "285      0.0       0.0  0.0         2.0          0.0         0.0       0.0   \n",
       "286      0.0       1.0  1.0         4.0          0.0         0.0       0.0   \n",
       "\n",
       "     num_game_cumsum  plateAppearances_cumsum  atBats_cumsum  hits_cumsum  \\\n",
       "0                  1                      5.0            5.0          1.0   \n",
       "1                  2                      5.0            5.0          1.0   \n",
       "2                  3                      9.0            9.0          4.0   \n",
       "3                  4                     14.0           14.0          6.0   \n",
       "4                  5                     19.0           18.0          7.0   \n",
       "..               ...                      ...            ...          ...   \n",
       "282               19                     77.0           73.0         20.0   \n",
       "283               20                     81.0           76.0         22.0   \n",
       "284               21                     85.0           80.0         22.0   \n",
       "285               22                     89.0           84.0         23.0   \n",
       "286               23                     93.0           88.0         24.0   \n",
       "\n",
       "     doubles_cumsum  triples_cumsum  homeRuns_cumsum  rbi_cumsum  \\\n",
       "0               0.0             0.0              0.0         0.0   \n",
       "1               0.0             0.0              0.0         0.0   \n",
       "2               0.0             0.0              1.0         3.0   \n",
       "3               0.0             0.0              2.0         5.0   \n",
       "4               0.0             0.0              3.0         7.0   \n",
       "..              ...             ...              ...         ...   \n",
       "282             4.0             1.0              6.0        15.0   \n",
       "283             5.0             1.0              6.0        17.0   \n",
       "284             5.0             1.0              6.0        17.0   \n",
       "285             6.0             1.0              6.0        17.0   \n",
       "286             6.0             1.0              7.0        18.0   \n",
       "\n",
       "     totalBases_cumsum  baseOnBalls_cumsum  hitByPitch_cumsum  \\\n",
       "0                  1.0                 0.0                0.0   \n",
       "1                  1.0                 0.0                0.0   \n",
       "2                  7.0                 0.0                0.0   \n",
       "3                 12.0                 0.0                0.0   \n",
       "4                 16.0                 1.0                0.0   \n",
       "..                 ...                 ...                ...   \n",
       "282               44.0                 2.0                2.0   \n",
       "283               47.0                 3.0                2.0   \n",
       "284               47.0                 3.0                2.0   \n",
       "285               49.0                 3.0                2.0   \n",
       "286               53.0                 3.0                2.0   \n",
       "\n",
       "     sacFlies_cumsum  battingAverage  sluggingPercentage  onBasePercentage  \\\n",
       "0                0.0        0.200000            0.200000          0.200000   \n",
       "1                0.0        0.200000            0.200000          0.200000   \n",
       "2                0.0        0.444444            0.777778          0.444444   \n",
       "3                0.0        0.428571            0.857143          0.428571   \n",
       "4                0.0        0.388889            0.888889          0.421053   \n",
       "..               ...             ...                 ...               ...   \n",
       "282              0.0        0.273973            0.602740          0.311688   \n",
       "283              0.0        0.289474            0.618421          0.333333   \n",
       "284              0.0        0.275000            0.587500          0.317647   \n",
       "285              0.0        0.273810            0.583333          0.314607   \n",
       "286              0.0        0.272727            0.602273          0.311828   \n",
       "\n",
       "          ops       iso      isod         rc  \n",
       "0    0.400000  0.000000  0.000000   0.200000  \n",
       "1    0.400000  0.000000  0.000000   0.200000  \n",
       "2    1.222222  0.333333  0.000000   3.111111  \n",
       "3    1.285714  0.428571  0.000000   5.142857  \n",
       "4    1.309942  0.500000  0.032164   6.736842  \n",
       "..        ...       ...       ...        ...  \n",
       "282  0.914428  0.328767  0.037716  12.906667  \n",
       "283  0.951754  0.328947  0.043860  14.873418  \n",
       "284  0.905147  0.312500  0.042647  14.156627  \n",
       "285  0.897940  0.309524  0.040797  14.643678  \n",
       "286  0.914101  0.329545  0.039101  15.725275  \n",
       "\n",
       "[287 rows x 33 columns]"
      ],
      "text/html": [
       "<div>\n",
       "<style scoped>\n",
       "    .dataframe tbody tr th:only-of-type {\n",
       "        vertical-align: middle;\n",
       "    }\n",
       "\n",
       "    .dataframe tbody tr th {\n",
       "        vertical-align: top;\n",
       "    }\n",
       "\n",
       "    .dataframe thead th {\n",
       "        text-align: right;\n",
       "    }\n",
       "</style>\n",
       "<table border=\"1\" class=\"dataframe\">\n",
       "  <thead>\n",
       "    <tr style=\"text-align: right;\">\n",
       "      <th></th>\n",
       "      <th>year</th>\n",
       "      <th>date</th>\n",
       "      <th>num_game</th>\n",
       "      <th>plateAppearances</th>\n",
       "      <th>atBats</th>\n",
       "      <th>hits</th>\n",
       "      <th>doubles</th>\n",
       "      <th>triples</th>\n",
       "      <th>homeRuns</th>\n",
       "      <th>rbi</th>\n",
       "      <th>totalBases</th>\n",
       "      <th>baseOnBalls</th>\n",
       "      <th>hitByPitch</th>\n",
       "      <th>sacFlies</th>\n",
       "      <th>num_game_cumsum</th>\n",
       "      <th>plateAppearances_cumsum</th>\n",
       "      <th>atBats_cumsum</th>\n",
       "      <th>hits_cumsum</th>\n",
       "      <th>doubles_cumsum</th>\n",
       "      <th>triples_cumsum</th>\n",
       "      <th>homeRuns_cumsum</th>\n",
       "      <th>rbi_cumsum</th>\n",
       "      <th>totalBases_cumsum</th>\n",
       "      <th>baseOnBalls_cumsum</th>\n",
       "      <th>hitByPitch_cumsum</th>\n",
       "      <th>sacFlies_cumsum</th>\n",
       "      <th>battingAverage</th>\n",
       "      <th>sluggingPercentage</th>\n",
       "      <th>onBasePercentage</th>\n",
       "      <th>ops</th>\n",
       "      <th>iso</th>\n",
       "      <th>isod</th>\n",
       "      <th>rc</th>\n",
       "    </tr>\n",
       "  </thead>\n",
       "  <tbody>\n",
       "    <tr>\n",
       "      <th>0</th>\n",
       "      <td>2018</td>\n",
       "      <td>20180329</td>\n",
       "      <td>1</td>\n",
       "      <td>5.0</td>\n",
       "      <td>5.0</td>\n",
       "      <td>1.0</td>\n",
       "      <td>0.0</td>\n",
       "      <td>0.0</td>\n",
       "      <td>0.0</td>\n",
       "      <td>0.0</td>\n",
       "      <td>1.0</td>\n",
       "      <td>0.0</td>\n",
       "      <td>0.0</td>\n",
       "      <td>0.0</td>\n",
       "      <td>1</td>\n",
       "      <td>5.0</td>\n",
       "      <td>5.0</td>\n",
       "      <td>1.0</td>\n",
       "      <td>0.0</td>\n",
       "      <td>0.0</td>\n",
       "      <td>0.0</td>\n",
       "      <td>0.0</td>\n",
       "      <td>1.0</td>\n",
       "      <td>0.0</td>\n",
       "      <td>0.0</td>\n",
       "      <td>0.0</td>\n",
       "      <td>0.200000</td>\n",
       "      <td>0.200000</td>\n",
       "      <td>0.200000</td>\n",
       "      <td>0.400000</td>\n",
       "      <td>0.000000</td>\n",
       "      <td>0.000000</td>\n",
       "      <td>0.200000</td>\n",
       "    </tr>\n",
       "    <tr>\n",
       "      <th>1</th>\n",
       "      <td>2018</td>\n",
       "      <td>20180401</td>\n",
       "      <td>1</td>\n",
       "      <td>0.0</td>\n",
       "      <td>0.0</td>\n",
       "      <td>0.0</td>\n",
       "      <td>0.0</td>\n",
       "      <td>0.0</td>\n",
       "      <td>0.0</td>\n",
       "      <td>0.0</td>\n",
       "      <td>0.0</td>\n",
       "      <td>0.0</td>\n",
       "      <td>0.0</td>\n",
       "      <td>0.0</td>\n",
       "      <td>2</td>\n",
       "      <td>5.0</td>\n",
       "      <td>5.0</td>\n",
       "      <td>1.0</td>\n",
       "      <td>0.0</td>\n",
       "      <td>0.0</td>\n",
       "      <td>0.0</td>\n",
       "      <td>0.0</td>\n",
       "      <td>1.0</td>\n",
       "      <td>0.0</td>\n",
       "      <td>0.0</td>\n",
       "      <td>0.0</td>\n",
       "      <td>0.200000</td>\n",
       "      <td>0.200000</td>\n",
       "      <td>0.200000</td>\n",
       "      <td>0.400000</td>\n",
       "      <td>0.000000</td>\n",
       "      <td>0.000000</td>\n",
       "      <td>0.200000</td>\n",
       "    </tr>\n",
       "    <tr>\n",
       "      <th>2</th>\n",
       "      <td>2018</td>\n",
       "      <td>20180403</td>\n",
       "      <td>1</td>\n",
       "      <td>4.0</td>\n",
       "      <td>4.0</td>\n",
       "      <td>3.0</td>\n",
       "      <td>0.0</td>\n",
       "      <td>0.0</td>\n",
       "      <td>1.0</td>\n",
       "      <td>3.0</td>\n",
       "      <td>6.0</td>\n",
       "      <td>0.0</td>\n",
       "      <td>0.0</td>\n",
       "      <td>0.0</td>\n",
       "      <td>3</td>\n",
       "      <td>9.0</td>\n",
       "      <td>9.0</td>\n",
       "      <td>4.0</td>\n",
       "      <td>0.0</td>\n",
       "      <td>0.0</td>\n",
       "      <td>1.0</td>\n",
       "      <td>3.0</td>\n",
       "      <td>7.0</td>\n",
       "      <td>0.0</td>\n",
       "      <td>0.0</td>\n",
       "      <td>0.0</td>\n",
       "      <td>0.444444</td>\n",
       "      <td>0.777778</td>\n",
       "      <td>0.444444</td>\n",
       "      <td>1.222222</td>\n",
       "      <td>0.333333</td>\n",
       "      <td>0.000000</td>\n",
       "      <td>3.111111</td>\n",
       "    </tr>\n",
       "    <tr>\n",
       "      <th>3</th>\n",
       "      <td>2018</td>\n",
       "      <td>20180404</td>\n",
       "      <td>1</td>\n",
       "      <td>5.0</td>\n",
       "      <td>5.0</td>\n",
       "      <td>2.0</td>\n",
       "      <td>0.0</td>\n",
       "      <td>0.0</td>\n",
       "      <td>1.0</td>\n",
       "      <td>2.0</td>\n",
       "      <td>5.0</td>\n",
       "      <td>0.0</td>\n",
       "      <td>0.0</td>\n",
       "      <td>0.0</td>\n",
       "      <td>4</td>\n",
       "      <td>14.0</td>\n",
       "      <td>14.0</td>\n",
       "      <td>6.0</td>\n",
       "      <td>0.0</td>\n",
       "      <td>0.0</td>\n",
       "      <td>2.0</td>\n",
       "      <td>5.0</td>\n",
       "      <td>12.0</td>\n",
       "      <td>0.0</td>\n",
       "      <td>0.0</td>\n",
       "      <td>0.0</td>\n",
       "      <td>0.428571</td>\n",
       "      <td>0.857143</td>\n",
       "      <td>0.428571</td>\n",
       "      <td>1.285714</td>\n",
       "      <td>0.428571</td>\n",
       "      <td>0.000000</td>\n",
       "      <td>5.142857</td>\n",
       "    </tr>\n",
       "    <tr>\n",
       "      <th>4</th>\n",
       "      <td>2018</td>\n",
       "      <td>20180406</td>\n",
       "      <td>1</td>\n",
       "      <td>5.0</td>\n",
       "      <td>4.0</td>\n",
       "      <td>1.0</td>\n",
       "      <td>0.0</td>\n",
       "      <td>0.0</td>\n",
       "      <td>1.0</td>\n",
       "      <td>2.0</td>\n",
       "      <td>4.0</td>\n",
       "      <td>1.0</td>\n",
       "      <td>0.0</td>\n",
       "      <td>0.0</td>\n",
       "      <td>5</td>\n",
       "      <td>19.0</td>\n",
       "      <td>18.0</td>\n",
       "      <td>7.0</td>\n",
       "      <td>0.0</td>\n",
       "      <td>0.0</td>\n",
       "      <td>3.0</td>\n",
       "      <td>7.0</td>\n",
       "      <td>16.0</td>\n",
       "      <td>1.0</td>\n",
       "      <td>0.0</td>\n",
       "      <td>0.0</td>\n",
       "      <td>0.388889</td>\n",
       "      <td>0.888889</td>\n",
       "      <td>0.421053</td>\n",
       "      <td>1.309942</td>\n",
       "      <td>0.500000</td>\n",
       "      <td>0.032164</td>\n",
       "      <td>6.736842</td>\n",
       "    </tr>\n",
       "    <tr>\n",
       "      <th>...</th>\n",
       "      <td>...</td>\n",
       "      <td>...</td>\n",
       "      <td>...</td>\n",
       "      <td>...</td>\n",
       "      <td>...</td>\n",
       "      <td>...</td>\n",
       "      <td>...</td>\n",
       "      <td>...</td>\n",
       "      <td>...</td>\n",
       "      <td>...</td>\n",
       "      <td>...</td>\n",
       "      <td>...</td>\n",
       "      <td>...</td>\n",
       "      <td>...</td>\n",
       "      <td>...</td>\n",
       "      <td>...</td>\n",
       "      <td>...</td>\n",
       "      <td>...</td>\n",
       "      <td>...</td>\n",
       "      <td>...</td>\n",
       "      <td>...</td>\n",
       "      <td>...</td>\n",
       "      <td>...</td>\n",
       "      <td>...</td>\n",
       "      <td>...</td>\n",
       "      <td>...</td>\n",
       "      <td>...</td>\n",
       "      <td>...</td>\n",
       "      <td>...</td>\n",
       "      <td>...</td>\n",
       "      <td>...</td>\n",
       "      <td>...</td>\n",
       "      <td>...</td>\n",
       "    </tr>\n",
       "    <tr>\n",
       "      <th>282</th>\n",
       "      <td>2021</td>\n",
       "      <td>20210425</td>\n",
       "      <td>1</td>\n",
       "      <td>5.0</td>\n",
       "      <td>5.0</td>\n",
       "      <td>1.0</td>\n",
       "      <td>0.0</td>\n",
       "      <td>0.0</td>\n",
       "      <td>1.0</td>\n",
       "      <td>1.0</td>\n",
       "      <td>4.0</td>\n",
       "      <td>0.0</td>\n",
       "      <td>0.0</td>\n",
       "      <td>0.0</td>\n",
       "      <td>19</td>\n",
       "      <td>77.0</td>\n",
       "      <td>73.0</td>\n",
       "      <td>20.0</td>\n",
       "      <td>4.0</td>\n",
       "      <td>1.0</td>\n",
       "      <td>6.0</td>\n",
       "      <td>15.0</td>\n",
       "      <td>44.0</td>\n",
       "      <td>2.0</td>\n",
       "      <td>2.0</td>\n",
       "      <td>0.0</td>\n",
       "      <td>0.273973</td>\n",
       "      <td>0.602740</td>\n",
       "      <td>0.311688</td>\n",
       "      <td>0.914428</td>\n",
       "      <td>0.328767</td>\n",
       "      <td>0.037716</td>\n",
       "      <td>12.906667</td>\n",
       "    </tr>\n",
       "    <tr>\n",
       "      <th>283</th>\n",
       "      <td>2021</td>\n",
       "      <td>20210426</td>\n",
       "      <td>1</td>\n",
       "      <td>4.0</td>\n",
       "      <td>3.0</td>\n",
       "      <td>2.0</td>\n",
       "      <td>1.0</td>\n",
       "      <td>0.0</td>\n",
       "      <td>0.0</td>\n",
       "      <td>2.0</td>\n",
       "      <td>3.0</td>\n",
       "      <td>1.0</td>\n",
       "      <td>0.0</td>\n",
       "      <td>0.0</td>\n",
       "      <td>20</td>\n",
       "      <td>81.0</td>\n",
       "      <td>76.0</td>\n",
       "      <td>22.0</td>\n",
       "      <td>5.0</td>\n",
       "      <td>1.0</td>\n",
       "      <td>6.0</td>\n",
       "      <td>17.0</td>\n",
       "      <td>47.0</td>\n",
       "      <td>3.0</td>\n",
       "      <td>2.0</td>\n",
       "      <td>0.0</td>\n",
       "      <td>0.289474</td>\n",
       "      <td>0.618421</td>\n",
       "      <td>0.333333</td>\n",
       "      <td>0.951754</td>\n",
       "      <td>0.328947</td>\n",
       "      <td>0.043860</td>\n",
       "      <td>14.873418</td>\n",
       "    </tr>\n",
       "    <tr>\n",
       "      <th>284</th>\n",
       "      <td>2021</td>\n",
       "      <td>20210427</td>\n",
       "      <td>1</td>\n",
       "      <td>4.0</td>\n",
       "      <td>4.0</td>\n",
       "      <td>0.0</td>\n",
       "      <td>0.0</td>\n",
       "      <td>0.0</td>\n",
       "      <td>0.0</td>\n",
       "      <td>0.0</td>\n",
       "      <td>0.0</td>\n",
       "      <td>0.0</td>\n",
       "      <td>0.0</td>\n",
       "      <td>0.0</td>\n",
       "      <td>21</td>\n",
       "      <td>85.0</td>\n",
       "      <td>80.0</td>\n",
       "      <td>22.0</td>\n",
       "      <td>5.0</td>\n",
       "      <td>1.0</td>\n",
       "      <td>6.0</td>\n",
       "      <td>17.0</td>\n",
       "      <td>47.0</td>\n",
       "      <td>3.0</td>\n",
       "      <td>2.0</td>\n",
       "      <td>0.0</td>\n",
       "      <td>0.275000</td>\n",
       "      <td>0.587500</td>\n",
       "      <td>0.317647</td>\n",
       "      <td>0.905147</td>\n",
       "      <td>0.312500</td>\n",
       "      <td>0.042647</td>\n",
       "      <td>14.156627</td>\n",
       "    </tr>\n",
       "    <tr>\n",
       "      <th>285</th>\n",
       "      <td>2021</td>\n",
       "      <td>20210428</td>\n",
       "      <td>1</td>\n",
       "      <td>4.0</td>\n",
       "      <td>4.0</td>\n",
       "      <td>1.0</td>\n",
       "      <td>1.0</td>\n",
       "      <td>0.0</td>\n",
       "      <td>0.0</td>\n",
       "      <td>0.0</td>\n",
       "      <td>2.0</td>\n",
       "      <td>0.0</td>\n",
       "      <td>0.0</td>\n",
       "      <td>0.0</td>\n",
       "      <td>22</td>\n",
       "      <td>89.0</td>\n",
       "      <td>84.0</td>\n",
       "      <td>23.0</td>\n",
       "      <td>6.0</td>\n",
       "      <td>1.0</td>\n",
       "      <td>6.0</td>\n",
       "      <td>17.0</td>\n",
       "      <td>49.0</td>\n",
       "      <td>3.0</td>\n",
       "      <td>2.0</td>\n",
       "      <td>0.0</td>\n",
       "      <td>0.273810</td>\n",
       "      <td>0.583333</td>\n",
       "      <td>0.314607</td>\n",
       "      <td>0.897940</td>\n",
       "      <td>0.309524</td>\n",
       "      <td>0.040797</td>\n",
       "      <td>14.643678</td>\n",
       "    </tr>\n",
       "    <tr>\n",
       "      <th>286</th>\n",
       "      <td>2021</td>\n",
       "      <td>20210430</td>\n",
       "      <td>1</td>\n",
       "      <td>4.0</td>\n",
       "      <td>4.0</td>\n",
       "      <td>1.0</td>\n",
       "      <td>0.0</td>\n",
       "      <td>0.0</td>\n",
       "      <td>1.0</td>\n",
       "      <td>1.0</td>\n",
       "      <td>4.0</td>\n",
       "      <td>0.0</td>\n",
       "      <td>0.0</td>\n",
       "      <td>0.0</td>\n",
       "      <td>23</td>\n",
       "      <td>93.0</td>\n",
       "      <td>88.0</td>\n",
       "      <td>24.0</td>\n",
       "      <td>6.0</td>\n",
       "      <td>1.0</td>\n",
       "      <td>7.0</td>\n",
       "      <td>18.0</td>\n",
       "      <td>53.0</td>\n",
       "      <td>3.0</td>\n",
       "      <td>2.0</td>\n",
       "      <td>0.0</td>\n",
       "      <td>0.272727</td>\n",
       "      <td>0.602273</td>\n",
       "      <td>0.311828</td>\n",
       "      <td>0.914101</td>\n",
       "      <td>0.329545</td>\n",
       "      <td>0.039101</td>\n",
       "      <td>15.725275</td>\n",
       "    </tr>\n",
       "  </tbody>\n",
       "</table>\n",
       "<p>287 rows × 33 columns</p>\n",
       "</div>"
      ]
     },
     "metadata": {},
     "execution_count": 44
    }
   ],
   "metadata": {}
  },
  {
   "cell_type": "code",
   "execution_count": null,
   "source": [],
   "outputs": [],
   "metadata": {}
  },
  {
   "cell_type": "code",
   "execution_count": null,
   "source": [],
   "outputs": [],
   "metadata": {}
  },
  {
   "cell_type": "markdown",
   "source": [
    "## Feature blocks"
   ],
   "metadata": {}
  },
  {
   "cell_type": "code",
   "execution_count": 12,
   "source": [
    "def merge_by_key(left: Union[pd.DataFrame, pd.Series], right: pd.DataFrame, on=CFG.OBJECT_ID) -> pd.DataFrame:\n",
    "    if not isinstance(left, pd.Series):\n",
    "        left = left[on]\n",
    "    return pd.merge(left, right, on=on, how=\"left\").drop(columns=on)\n",
    "\n",
    "\n",
    "class BaseBlock(object):\n",
    "    def fit(self, input_df: pd.DataFrame, y=None) -> pd.DataFrame:\n",
    "        return self.transform(input_df)\n",
    "\n",
    "    def transform(self, input_df: pd.DataFrame) -> pd.DataFrame:\n",
    "        return NotImplementedError()\n",
    "\n",
    "\n",
    "# class LagBlock(BaseBlock):\n",
    "#     def __init__(self, column: str, periods: List[int]):\n",
    "#         self.column = column\n",
    "#         self.periods = periods\n",
    "\n",
    "#     def fit(self, input_df: pd.DataFrame, y=None):\n",
    "#         agg_list = [input_df.groupby([\"playerId\"], as_index=False)[self.column].transform(lambda x: x.shift(periods=period)).add_prefix(f\"{period}_\") for period in self.periods]\n",
    "#         self.agg_df = pd.concat(agg_list, axis=1)\n",
    "\n",
    "#         return self.transform(input_df)\n",
    "\n",
    "#     def transform(self, input_df: pd.DataFrame):\n",
    "#         return self.agg_df.add_prefix(\"Lag_\")\n",
    "\n",
    "\n",
    "def quantile25(x: pd.Series):\n",
    "    return x.quantile(q=0.25)\n",
    "\n",
    "\n",
    "def quantile75(x: pd.Series):\n",
    "    return x.quantile(q=0.75)\n",
    "\n",
    "\n",
    "class TargetAggregateBlock(BaseBlock):\n",
    "    def fit(self, input_df: pd.DataFrame, y=None):\n",
    "        dfs = [mlb_train_ds.train_next.groupby([\"playerId\"])[col].agg([\n",
    "            \"mean\", \"std\", \"max\", \"min\", \"median\", quantile25, quantile75\n",
    "            ]).add_prefix(f\"{col}_\") for col in CFG.TARGETS]\n",
    "        self.agg_df = pd.concat(dfs, axis=1).reset_index()\n",
    "\n",
    "        return self.transform(input_df)\n",
    "\n",
    "    def transform(self, input_df: pd.DataFrame):\n",
    "        return merge_by_key(input_df, self.agg_df, on=\"playerId\")\n",
    "\n",
    "\n",
    "class PlayersLabelEncodingBlock(BaseBlock):\n",
    "    def __init__(self, columns: List[str]):\n",
    "        self.columns = columns + [\"playerId\"]\n",
    "        self.labeled_df = mlb_train_ds.players[self.columns].copy()\n",
    "        self.labeled_df[\"playerid\"] = self.labeled_df[\"playerId\"]\n",
    "        self.columns = self.columns + [\"playerid\"]\n",
    "        self.encoder = None\n",
    "    \n",
    "    def fit(self, input_df: pd.DataFrame, y=None):\n",
    "        self.encoder = ce.OrdinalEncoder(handle_unknown=\"value\", handle_missing=\"values\")\n",
    "        self.encoder.fit(self.labeled_df[self.columns])\n",
    "        self.labeled_df[self.columns] = self.encoder.transform(self.labeled_df[self.columns])\n",
    "\n",
    "        return self.transform(input_df)\n",
    "\n",
    "    def transform(self, input_df: pd.DataFrame):\n",
    "        return merge_by_key(input_df, self.labeled_df, on=\"playerId\").add_prefix(\"Players_LE_\")\n",
    "\n",
    "\n",
    "class RostersLabelEncodingBlock(BaseBlock):\n",
    "    def __init__(self, columns: List[str]):\n",
    "        self.columns = columns\n",
    "        self.encoder = None\n",
    "\n",
    "    def fit(self, input_df: pd.DataFrame, y=None):\n",
    "        rosters_df = mlb_train_ds.train_rosters[self.columns]\n",
    "        self.encoder = ce.OrdinalEncoder(handle_unknown=\"value\", handle_missing=\"value\")\n",
    "        self.encoder.fit(rosters_df[self.columns])\n",
    "\n",
    "        return self.transform(input_df)\n",
    "\n",
    "    def transform(self, input_df: pd.DataFrame):\n",
    "        self.labeled_df = mlb_train_ds.train_rosters[CFG.OBJECT_ID + self.columns].copy()\n",
    "        self.labeled_df[self.columns] = self.encoder.transform(self.labeled_df[self.columns])\n",
    "\n",
    "        return merge_by_key(input_df, self.labeled_df).add_prefix(\"Rosters_LE_\")\n",
    "\n",
    "    \n",
    "class PlayerBoxScoresCountBlock(BaseBlock):\n",
    "    def __init__(self, columns: List[str]):\n",
    "        self.columns = columns\n",
    "\n",
    "    def transform(self, input_df: pd.DataFrame):\n",
    "        self.agg_df = mlb_train_ds.train_scores.groupby(CFG.OBJECT_ID)[self.columns].sum().reset_index()\n",
    "        \n",
    "        return merge_by_key(input_df, self.agg_df).add_prefix(\"PlayerBoxScoresCount_\")\n",
    "\n",
    "\n",
    "class TeamBoxScoresCountBlock(BaseBlock):\n",
    "    def __init__(self, columns: List[str]):\n",
    "        self.columns = columns\n",
    "\n",
    "    def transform(self, input_df: pd.DataFrame):\n",
    "        input_df = input_df.merge(mlb_train_ds.train_rosters[[\"date\", \"playerId\", \"teamId\"]], on=[\"playerId\", \"date\"], how=\"left\")\n",
    "        self.agg_df = mlb_train_ds.train_tbs.groupby([\"teamId\", \"date\"])[self.columns].sum().reset_index()\n",
    "\n",
    "        return merge_by_key(input_df, self.agg_df, on=[\"teamId\", \"date\"]).add_prefix(\"TeamBoxScoresCount_\")\n",
    "\n",
    "\n",
    "class GamesCountBlock(BaseBlock):\n",
    "    def __init__(self, columns: List[str]):\n",
    "        self.columns = columns\n",
    "\n",
    "    def transform(self, input_df: pd.DataFrame):\n",
    "        games_df = mlb_train_ds.train_scores[[\"date\", \"playerId\", \"gamePk\"]].merge(mlb_train_ds.train_games, on=[\"date\", \"gamePk\"], how=\"left\")\n",
    "        self.agg_df = games_df.groupby([\"date\", \"playerId\"])[self.columns].sum().reset_index()\n",
    "\n",
    "        return merge_by_key(input_df, self.agg_df).add_prefix(\"GamesCount_\")\n",
    "\n",
    "\n",
    "class PlayerTwitterFollowerAggregateBlock(BaseBlock):\n",
    "    def fit(self, input_df: pd.DataFrame, y=None):\n",
    "        self.agg_df = mlb_train_ds.train_ptf.groupby([\"playerId\"])[\"numberOfFollowers\"].agg([\n",
    "            \"mean\", \"std\", \"max\", \"min\", \"median\", quantile25, quantile75])\n",
    "\n",
    "        return self.transform(input_df)\n",
    "\n",
    "    def transform(self, input_df: pd.DataFrame):\n",
    "        return merge_by_key(input_df, self.agg_df, on=\"playerId\").add_prefix(\"PlayerTwitterFollowerAggregate_\")"
   ],
   "outputs": [],
   "metadata": {}
  },
  {
   "cell_type": "code",
   "execution_count": 13,
   "source": [
    "def create_train_feature(input_df: pd.DataFrame, y: np.ndarray, update_blocks: list, non_update_blocks: list) -> pd.DataFrame:\n",
    "    feat_df = pd.DataFrame()\n",
    "    blocks = update_blocks + non_update_blocks\n",
    "\n",
    "    for block in blocks:\n",
    "        with timer(name=f\"{str(block) + '_fit'}\", logger=logger):\n",
    "            try:\n",
    "                out_feat_block = block.fit(input_df, y=y)\n",
    "            except Exception as e:\n",
    "                print(f\"Error on {block} fit.\")\n",
    "                raise e from e\n",
    "\n",
    "            assert len(out_feat_block) == len(input_df), block\n",
    "\n",
    "        feat_df = pd.concat([feat_df, out_feat_block], axis=1)\n",
    "\n",
    "    return feat_df\n",
    "\n",
    "\n",
    "def create_test_feature(input_df: pd.DataFrame, update_blocks: list, non_update_blocks: list) -> pd.DataFrame:\n",
    "    is_update = True if len(update_blocks) != 0 else False\n",
    "    update_feat_df = pd.DataFrame()\n",
    "    non_update_feat_df = pd.DataFrame()\n",
    "    \n",
    "    if is_update:\n",
    "        for block in update_blocks:\n",
    "            with timer(name=f\"{str(block) + '_update'}\", logger=logger):\n",
    "                try:\n",
    "                    out_feat_block = block.fit(input_df)\n",
    "                except Exception as e:\n",
    "                    print(f\"Error on {block} transform.\")\n",
    "                    raise e from e\n",
    "\n",
    "            update_feat_df = pd.concat([update_feat_df, out_feat_block], axis=1)\n",
    "        \n",
    "\n",
    "    for block in non_update_blocks:\n",
    "        with timer(name=f\"{str(block) + '_transform'}\", logger=logger):\n",
    "            try:\n",
    "                out_feat_block = block.transform(input_df)\n",
    "            except Exception as e:\n",
    "                print(f\"Error on {block} transform.\")\n",
    "                raise e from e\n",
    "\n",
    "            assert len(out_feat_block) == len(input_df), block\n",
    "\n",
    "        non_update_feat_df = pd.concat([non_update_feat_df, out_feat_block], axis=1)\n",
    "\n",
    "    feat_df = pd.concat([update_feat_df, non_update_feat_df], axis=1) if is_update else non_update_feat_df\n",
    "\n",
    "    return feat_df"
   ],
   "outputs": [],
   "metadata": {}
  },
  {
   "cell_type": "markdown",
   "source": [
    "## CV"
   ],
   "metadata": {}
  },
  {
   "cell_type": "code",
   "execution_count": 14,
   "source": [
    "def get_timeseries_holdout(train_df: pd.DataFrame, valid_start_date: int) -> List[tuple]:\n",
    "    fold = []\n",
    "    train_idx = np.array(train_df[train_df[\"date\"] < valid_start_date].index)\n",
    "    valid_idx = np.array(train_df[train_df[\"date\"] >= valid_start_date].index)\n",
    "    fold.append((train_idx, valid_idx))\n",
    "\n",
    "    return fold"
   ],
   "outputs": [],
   "metadata": {}
  },
  {
   "cell_type": "markdown",
   "source": [
    "## Model"
   ],
   "metadata": {}
  },
  {
   "cell_type": "code",
   "execution_count": 15,
   "source": [
    "class LightGBMTrainer:\n",
    "    def __init__(self, params: dict, seeds: List[int]):\n",
    "        self.params = params\n",
    "        self.seeds = seeds\n",
    "        self.models = []\n",
    "\n",
    "    def fit(self, X_train: np.ndarray, y_train: np.ndarray, cv: List[tuple]):\n",
    "        oof_all = []\n",
    "        for i, seed in enumerate(self.seeds):\n",
    "            self.params[\"seed\"] = seed\n",
    "\n",
    "            for train_idx, valid_idx in cv:\n",
    "                X_train_fold = X_train[train_idx]\n",
    "                X_valid_fold = X_train[valid_idx]\n",
    "\n",
    "                y_train_fold = y_train[train_idx]\n",
    "                y_valid_fold = y_train[valid_idx]\n",
    "\n",
    "                train_set = lgb.Dataset(X_train_fold, y_train_fold)\n",
    "                valid_set = lgb.Dataset(X_valid_fold, y_valid_fold, reference=train_set)\n",
    "\n",
    "                model = lgb.train(\n",
    "                    params=self.params,\n",
    "                    train_set=train_set,\n",
    "                    valid_sets=[train_set, valid_set],\n",
    "                    verbose_eval=100,\n",
    "                )\n",
    "\n",
    "                y_oof = model.predict(X_valid_fold, num_iteration=model.best_iteration)\n",
    "                oof_all.append(y_oof)\n",
    "                self.models.append(model)\n",
    "\n",
    "        oof_all = np.mean(oof_all, axis=0)\n",
    "        oof_score = mean_absolute_error(oof_all, y_valid_fold)\n",
    "\n",
    "        return oof_score, self.models\n",
    "\n",
    "    def predict(self, X_test: np.ndarray):\n",
    "        y_pred = np.mean([model.predict(X_test) for model in self.models], axis=0)\n",
    "\n",
    "        return y_pred\n",
    "\n",
    "\n",
    "def run_lgb(X_train, targets, params, seeds, fold):\n",
    "    cv_scores = []\n",
    "    models = []\n",
    "\n",
    "    for i, target in enumerate(targets):\n",
    "        print(f\"Traning for Target{i+1}\")\n",
    "        trainer = LightGBMTrainer(params, seeds)\n",
    "        oof_score_tmp, models_tmp = trainer.fit(X_train, target, fold)\n",
    "        cv_scores.append(oof_score_tmp)\n",
    "        models.append(models_tmp)\n",
    "        print(f\"Local Target{i+1} OOF-MAE : {np.mean(oof_score_tmp)}\")\n",
    "        print(\"-\"*50)\n",
    "\n",
    "    print(f\"Local MCMAE : {np.mean(cv_scores)}\")\n",
    "\n",
    "    return models"
   ],
   "outputs": [],
   "metadata": {}
  },
  {
   "cell_type": "markdown",
   "source": [
    "## Training"
   ],
   "metadata": {}
  },
  {
   "cell_type": "code",
   "execution_count": 16,
   "source": [
    "# set-up logger\n",
    "logger = get_logger()\n",
    "\n",
    "# create feature\n",
    "update_blocks = []\n",
    "non_update_blocks = [\n",
    "    TargetAggregateBlock(),\n",
    "    RostersLabelEncodingBlock(columns=[\n",
    "        \"teamId\",\n",
    "        \"status\"\n",
    "        ]\n",
    "    ),\n",
    "    PlayersLabelEncodingBlock(columns=[\n",
    "        \"birthCountry\",\n",
    "        \"primaryPositionCode\",\n",
    "    ]),\n",
    "    PlayerBoxScoresCountBlock(columns=[\n",
    "        # 'date',\n",
    "        'home',\n",
    "        # 'gamePk',\n",
    "        # 'gameDate',\n",
    "        # 'gameTimeUTC',\n",
    "        # 'teamId',\n",
    "        # 'teamName',\n",
    "        # 'playerId',\n",
    "        # 'playerName',\n",
    "        'jerseyNum',\n",
    "        # 'positionCode',\n",
    "        # 'positionName',\n",
    "        # 'positionType',\n",
    "        'battingOrder',\n",
    "        'gamesPlayedBatting',\n",
    "        'flyOuts',\n",
    "        'groundOuts',\n",
    "        'runsScored',\n",
    "        'doubles',\n",
    "        'triples',\n",
    "        'homeRuns',\n",
    "        'strikeOuts',\n",
    "        'baseOnBalls',\n",
    "        'intentionalWalks',\n",
    "        'hits',\n",
    "        'hitByPitch',\n",
    "        'atBats',\n",
    "        'caughtStealing',\n",
    "        'stolenBases',\n",
    "        'groundIntoDoublePlay',\n",
    "        'groundIntoTriplePlay',\n",
    "        'plateAppearances',\n",
    "        'totalBases',\n",
    "        'rbi',\n",
    "        'leftOnBase',\n",
    "        'sacBunts',\n",
    "        'sacFlies',\n",
    "        'catchersInterference',\n",
    "        'pickoffs',\n",
    "        'gamesPlayedPitching',\n",
    "        'gamesStartedPitching',\n",
    "        'completeGamesPitching',\n",
    "        'shutoutsPitching',\n",
    "        'winsPitching',\n",
    "        'lossesPitching',\n",
    "        'flyOutsPitching',\n",
    "        'airOutsPitching',\n",
    "        'groundOutsPitching',\n",
    "        'runsPitching',\n",
    "        'doublesPitching',\n",
    "        'triplesPitching',\n",
    "        'homeRunsPitching',\n",
    "        'strikeOutsPitching',\n",
    "        'baseOnBallsPitching',\n",
    "        'intentionalWalksPitching',\n",
    "        'hitsPitching',\n",
    "        'hitByPitchPitching',\n",
    "        'atBatsPitching',\n",
    "        'caughtStealingPitching',\n",
    "        'stolenBasesPitching',\n",
    "        'inningsPitched',\n",
    "        'saveOpportunities',\n",
    "        'earnedRuns',\n",
    "        'battersFaced',\n",
    "        'outsPitching',\n",
    "        'pitchesThrown',\n",
    "        'balls',\n",
    "        'strikes',\n",
    "        'hitBatsmen',\n",
    "        'balks',\n",
    "        'wildPitches',\n",
    "        'pickoffsPitching',\n",
    "        'rbiPitching',\n",
    "        'gamesFinishedPitching',\n",
    "        'inheritedRunners',\n",
    "        'inheritedRunnersScored',\n",
    "        'catchersInterferencePitching',\n",
    "        'sacBuntsPitching',\n",
    "        'sacFliesPitching',\n",
    "        'saves',\n",
    "        'holds',\n",
    "        'blownSaves',\n",
    "        'assists',\n",
    "        'putOuts',\n",
    "        'errors',\n",
    "        'chances'\n",
    "        ]\n",
    "    ),\n",
    "    TeamBoxScoresCountBlock(columns=[\n",
    "        # 'date',\n",
    "        # 'home',\n",
    "        # 'teamId',\n",
    "        # 'gamePk',\n",
    "        # 'gameDate',\n",
    "        # 'gameTimeUTC',\n",
    "        'flyOuts',\n",
    "        'groundOuts',\n",
    "        'runsScored',\n",
    "        'doubles',\n",
    "        'triples',\n",
    "        'homeRuns',\n",
    "        'strikeOuts',\n",
    "        'baseOnBalls',\n",
    "        'intentionalWalks',\n",
    "        'hits',\n",
    "        'hitByPitch',\n",
    "        'atBats',\n",
    "        'caughtStealing',\n",
    "        'stolenBases',\n",
    "        'groundIntoDoublePlay',\n",
    "        'groundIntoTriplePlay',\n",
    "        'plateAppearances',\n",
    "        'totalBases',\n",
    "        'rbi',\n",
    "        'leftOnBase',\n",
    "        'sacBunts',\n",
    "        'sacFlies',\n",
    "        'catchersInterference',\n",
    "        'pickoffs',\n",
    "        'airOutsPitching',\n",
    "        'groundOutsPitching',\n",
    "        'runsPitching',\n",
    "        'doublesPitching',\n",
    "        'triplesPitching',\n",
    "        'homeRunsPitching',\n",
    "        'strikeOutsPitching',\n",
    "        'baseOnBallsPitching',\n",
    "        'intentionalWalksPitching',\n",
    "        'hitsPitching',\n",
    "        'hitByPitchPitching',\n",
    "        'atBatsPitching',\n",
    "        'caughtStealingPitching',\n",
    "        'stolenBasesPitching',\n",
    "        'inningsPitched',\n",
    "        'earnedRuns',\n",
    "        'battersFaced',\n",
    "        'outsPitching',\n",
    "        'hitBatsmen',\n",
    "        'balks',\n",
    "        'wildPitches',\n",
    "        'pickoffsPitching',\n",
    "        'rbiPitching',\n",
    "        'inheritedRunners',\n",
    "        'inheritedRunnersScored',\n",
    "        'catchersInterferencePitching',\n",
    "        'sacBuntsPitching',\n",
    "        'sacFliesPitching'\n",
    "        ]\n",
    "    ),\n",
    "    GamesCountBlock(columns=[\n",
    "        # 'date',\n",
    "        # 'gamePk',\n",
    "        # 'gameType',\n",
    "        # 'season',\n",
    "        # 'gameDate',\n",
    "        # 'gameTimeUTC',\n",
    "        # 'resumeDate',\n",
    "        # 'resumedFrom',\n",
    "        # 'codedGameState',\n",
    "        # 'detailedGameState',\n",
    "        'isTie',\n",
    "        'gameNumber',\n",
    "        'doubleHeader',\n",
    "        # 'dayNight',\n",
    "        'scheduledInnings',\n",
    "        'gamesInSeries',\n",
    "        # 'seriesDescription',\n",
    "        # 'homeId',\n",
    "        # 'homeName',\n",
    "        # 'homeAbbrev',\n",
    "        'homeWins',\n",
    "        'homeLosses',\n",
    "        'homeWinPct',\n",
    "        # 'homeWinner',\n",
    "        'homeScore',\n",
    "        # 'awayId',\n",
    "        # 'awayName',\n",
    "        # 'awayAbbrev',\n",
    "        'awayWins',\n",
    "        'awayLosses',\n",
    "        'awayWinPct',\n",
    "        # 'awayWinner',\n",
    "        'awayScore'\n",
    "        ]\n",
    "    ),\n",
    "    PlayerTwitterFollowerAggregateBlock(),\n",
    "]\n",
    "\n",
    "y = mlb_train_ds.train_next[\"target1\"].values\n",
    "input_df = mlb_train_ds.train_next[CFG.OBJECT_ID].copy()\n",
    "train_feat_df = create_train_feature(input_df, y, update_blocks, non_update_blocks)\n",
    "X_train = train_feat_df.values\n",
    "targets = [mlb_train_ds.train_next[col].values for col in CFG.TARGETS]\n",
    "\n",
    "# split train/valid\n",
    "fold = get_timeseries_holdout(input_df, valid_start_date=20210401)\n",
    "\n",
    "# training\n",
    "models = run_lgb(X_train, targets, CFG.LGB_PARAMS, CFG.SEEDS, fold)"
   ],
   "outputs": [
    {
     "output_type": "stream",
     "name": "stdout",
     "text": [
      "[2021-07-07 23:26:26,809] [INFO] [logger set up]\n",
      "[2021-07-07 23:26:26,914] [INFO] [<<__main__.TargetAggregateBlock object at 0x1c2238640>_fit> start]\n",
      "[2021-07-07 23:26:36,203] [INFO] [<<__main__.TargetAggregateBlock object at 0x1c2238640>_fit> done in 9.29 s]\n",
      "[2021-07-07 23:26:36,267] [INFO] [<<__main__.RostersLabelEncodingBlock object at 0x1c22384f0>_fit> start]\n",
      "[2021-07-07 23:26:37,381] [INFO] [<<__main__.RostersLabelEncodingBlock object at 0x1c22384f0>_fit> done in 1.11 s]\n",
      "[2021-07-07 23:26:37,598] [INFO] [<<__main__.PlayersLabelEncodingBlock object at 0x1c221f760>_fit> start]\n",
      "[2021-07-07 23:26:37,865] [INFO] [<<__main__.PlayersLabelEncodingBlock object at 0x1c221f760>_fit> done in 0.27 s]\n",
      "[2021-07-07 23:26:38,093] [INFO] [<<__main__.PlayerBoxScoresCountBlock object at 0x1c221fa60>_fit> start]\n",
      "[2021-07-07 23:26:40,127] [INFO] [<<__main__.PlayerBoxScoresCountBlock object at 0x1c221fa60>_fit> done in 2.03 s]\n",
      "[2021-07-07 23:26:40,698] [INFO] [<<__main__.TeamBoxScoresCountBlock object at 0x1c221fb20>_fit> start]\n",
      "[2021-07-07 23:26:45,170] [INFO] [<<__main__.TeamBoxScoresCountBlock object at 0x1c221fb20>_fit> done in 4.47 s]\n",
      "[2021-07-07 23:26:47,162] [INFO] [<<__main__.GamesCountBlock object at 0x1c221fdc0>_fit> start]\n",
      "[2021-07-07 23:26:48,219] [INFO] [<<__main__.GamesCountBlock object at 0x1c221fdc0>_fit> done in 1.06 s]\n",
      "[2021-07-07 23:26:51,366] [INFO] [<<__main__.PlayerTwitterFollowerAggregateBlock object at 0x1c221f460>_fit> start]\n",
      "[2021-07-07 23:26:52,834] [INFO] [<<__main__.PlayerTwitterFollowerAggregateBlock object at 0x1c221f460>_fit> done in 1.47 s]\n",
      "Traning for Target1\n"
     ]
    },
    {
     "output_type": "stream",
     "name": "stderr",
     "text": [
      "/Users/azupero/data-science/kaggle/MLB-Player-Digital-Engagement-Forecasting/.venv/lib/python3.8/site-packages/lightgbm/engine.py:148: UserWarning: Found `num_iterations` in params. Will use it instead of argument\n",
      "  _log_warning(\"Found `{}` in params. Will use it instead of argument\".format(alias))\n",
      "/Users/azupero/data-science/kaggle/MLB-Player-Digital-Engagement-Forecasting/.venv/lib/python3.8/site-packages/lightgbm/engine.py:153: UserWarning: Found `early_stopping_round` in params. Will use it instead of argument\n",
      "  _log_warning(\"Found `{}` in params. Will use it instead of argument\".format(alias))\n"
     ]
    },
    {
     "output_type": "stream",
     "name": "stdout",
     "text": [
      "Training until validation scores don't improve for 100 rounds\n",
      "[100]\ttraining's l1: 0.51266\tvalid_1's l1: 0.700532\n",
      "[200]\ttraining's l1: 0.512409\tvalid_1's l1: 0.699725\n",
      "[300]\ttraining's l1: 0.512369\tvalid_1's l1: 0.699531\n",
      "Early stopping, best iteration is:\n",
      "[277]\ttraining's l1: 0.512371\tvalid_1's l1: 0.699519\n",
      "Local Target1 OOF-MAE : 0.6995188802843717\n",
      "--------------------------------------------------\n",
      "Traning for Target2\n"
     ]
    },
    {
     "output_type": "stream",
     "name": "stderr",
     "text": [
      "/Users/azupero/data-science/kaggle/MLB-Player-Digital-Engagement-Forecasting/.venv/lib/python3.8/site-packages/lightgbm/engine.py:148: UserWarning: Found `num_iterations` in params. Will use it instead of argument\n",
      "  _log_warning(\"Found `{}` in params. Will use it instead of argument\".format(alias))\n",
      "/Users/azupero/data-science/kaggle/MLB-Player-Digital-Engagement-Forecasting/.venv/lib/python3.8/site-packages/lightgbm/engine.py:153: UserWarning: Found `early_stopping_round` in params. Will use it instead of argument\n",
      "  _log_warning(\"Found `{}` in params. Will use it instead of argument\".format(alias))\n"
     ]
    },
    {
     "output_type": "stream",
     "name": "stdout",
     "text": [
      "Training until validation scores don't improve for 100 rounds\n",
      "[100]\ttraining's l1: 1.7603\tvalid_1's l1: 1.51034\n",
      "Early stopping, best iteration is:\n",
      "[35]\ttraining's l1: 1.77213\tvalid_1's l1: 1.5026\n",
      "Local Target2 OOF-MAE : 1.5025952777897913\n",
      "--------------------------------------------------\n",
      "Traning for Target3\n"
     ]
    },
    {
     "output_type": "stream",
     "name": "stderr",
     "text": [
      "/Users/azupero/data-science/kaggle/MLB-Player-Digital-Engagement-Forecasting/.venv/lib/python3.8/site-packages/lightgbm/engine.py:148: UserWarning: Found `num_iterations` in params. Will use it instead of argument\n",
      "  _log_warning(\"Found `{}` in params. Will use it instead of argument\".format(alias))\n",
      "/Users/azupero/data-science/kaggle/MLB-Player-Digital-Engagement-Forecasting/.venv/lib/python3.8/site-packages/lightgbm/engine.py:153: UserWarning: Found `early_stopping_round` in params. Will use it instead of argument\n",
      "  _log_warning(\"Found `{}` in params. Will use it instead of argument\".format(alias))\n"
     ]
    },
    {
     "output_type": "stream",
     "name": "stdout",
     "text": [
      "Training until validation scores don't improve for 100 rounds\n",
      "[100]\ttraining's l1: 0.668506\tvalid_1's l1: 0.55332\n",
      "[200]\ttraining's l1: 0.66835\tvalid_1's l1: 0.553266\n",
      "Early stopping, best iteration is:\n",
      "[153]\ttraining's l1: 0.668388\tvalid_1's l1: 0.553239\n",
      "Local Target3 OOF-MAE : 0.5532389298829665\n",
      "--------------------------------------------------\n",
      "Traning for Target4\n"
     ]
    },
    {
     "output_type": "stream",
     "name": "stderr",
     "text": [
      "/Users/azupero/data-science/kaggle/MLB-Player-Digital-Engagement-Forecasting/.venv/lib/python3.8/site-packages/lightgbm/engine.py:148: UserWarning: Found `num_iterations` in params. Will use it instead of argument\n",
      "  _log_warning(\"Found `{}` in params. Will use it instead of argument\".format(alias))\n",
      "/Users/azupero/data-science/kaggle/MLB-Player-Digital-Engagement-Forecasting/.venv/lib/python3.8/site-packages/lightgbm/engine.py:153: UserWarning: Found `early_stopping_round` in params. Will use it instead of argument\n",
      "  _log_warning(\"Found `{}` in params. Will use it instead of argument\".format(alias))\n"
     ]
    },
    {
     "output_type": "stream",
     "name": "stdout",
     "text": [
      "Training until validation scores don't improve for 100 rounds\n",
      "[100]\ttraining's l1: 0.792593\tvalid_1's l1: 1.13368\n",
      "[200]\ttraining's l1: 0.791798\tvalid_1's l1: 1.1324\n",
      "[300]\ttraining's l1: 0.791756\tvalid_1's l1: 1.1324\n",
      "Early stopping, best iteration is:\n",
      "[222]\ttraining's l1: 0.791783\tvalid_1's l1: 1.13233\n",
      "Local Target4 OOF-MAE : 1.1323322614765632\n",
      "--------------------------------------------------\n",
      "Local MCMAE : 0.9719213373584232\n"
     ]
    }
   ],
   "metadata": {}
  },
  {
   "cell_type": "code",
   "execution_count": 17,
   "source": [
    "def visualize_feature_importance(models, feat_train_df) -> plotly.graph_objects.Figure:\n",
    "    '''LightGBMのfeature importanceを可視化\n",
    "    '''\n",
    "    for target_i in range(len(models)):\n",
    "        feature_importance_df = pd.DataFrame()\n",
    "        for i, model in enumerate(models[target_i]):\n",
    "            _df = pd.DataFrame()\n",
    "            _df['feature_importance'] = model.feature_importance(importance_type=\"gain\")\n",
    "            _df['feature'] = feat_train_df.columns\n",
    "            _df['model_no'] = i + 1\n",
    "            feature_importance_df = pd.concat([feature_importance_df, _df], \n",
    "                                            axis=0, ignore_index=True)\n",
    "\n",
    "        order = feature_importance_df.groupby('feature')\\\n",
    "            .mean()[['feature_importance']]\\\n",
    "            .sort_values('feature_importance', ascending=False).index[:50]\n",
    "        \n",
    "        fig = px.box(\n",
    "            feature_importance_df.query(\"feature in @order\"),\n",
    "            x=\"feature_importance\",\n",
    "            y=\"feature\",\n",
    "            category_orders={\"feature\": order},\n",
    "            width=1250,\n",
    "            height=900,\n",
    "            title=f\"Target{target_i+1} Top 50 feature importance\",\n",
    "        )\n",
    "        fig.update_yaxes(showgrid=True)\n",
    "        fig.show()"
   ],
   "outputs": [],
   "metadata": {}
  },
  {
   "cell_type": "code",
   "execution_count": 18,
   "source": [
    "visualize_feature_importance(models, train_feat_df)"
   ],
   "outputs": [
    {
     "output_type": "display_data",
     "data": {
      "application/vnd.plotly.v1+json": {
       "config": {
        "plotlyServerURL": "https://plot.ly"
       },
       "data": [
        {
         "alignmentgroup": "True",
         "hovertemplate": "feature_importance=%{x}<br>feature=%{y}<extra></extra>",
         "legendgroup": "",
         "marker": {
          "color": "#636efa"
         },
         "name": "",
         "notched": false,
         "offsetgroup": "",
         "orientation": "h",
         "showlegend": false,
         "type": "box",
         "x": [
          2917115.6249861717,
          544121.307229042,
          138001.70385360718,
          12058154.422185898,
          406764.14071273804,
          37791863.2979393,
          209020.17408275604,
          92877.639377594,
          105659.13574028015,
          198901.18480682373,
          1563452.9498701096,
          1142394.9857492447,
          648441.0159378052,
          130528.79351043701,
          34991.503657341,
          91606.7628288269,
          42076.84894943237,
          3737.5198259353638,
          54778.27785682678,
          119140.58928489685,
          61532.441133499146,
          32912.50346374512,
          28287.88571548462,
          307788.9685611725,
          713465.7091293335,
          114693.26793670654,
          6385156.415525436,
          5652545.053443909,
          21839.549839019775,
          66491.73498535156,
          420661.83633232117,
          5477.717396736145,
          4613.574592590332,
          9381.455352783203,
          4575.205024719238,
          40335.48317527771,
          7845.809501647949,
          9354.861953735352,
          4257.028430938721,
          4351.769549369812,
          7824.011562347412,
          3532.7685327529907,
          6440.211273193359,
          6238.8180475234985,
          9935.087810516357,
          12797.096424102783,
          154629.1131620407,
          13132.730350494385,
          36160.54232406616,
          10418.967712402344
         ],
         "x0": " ",
         "xaxis": "x",
         "y": [
          "target1_mean",
          "target1_std",
          "target1_max",
          "target1_median",
          "target1_quantile25",
          "target1_quantile75",
          "target2_mean",
          "target2_std",
          "target2_max",
          "target2_min",
          "target2_median",
          "target2_quantile25",
          "target2_quantile75",
          "target3_mean",
          "target3_std",
          "target3_max",
          "target3_median",
          "target3_quantile25",
          "target3_quantile75",
          "target4_mean",
          "target4_std",
          "target4_max",
          "target4_min",
          "target4_median",
          "target4_quantile25",
          "target4_quantile75",
          "Rosters_LE_teamId",
          "Rosters_LE_status",
          "Players_LE_birthCountry",
          "Players_LE_primaryPositionCode",
          "Players_LE_playerid",
          "PlayerBoxScoresCount_battingOrder",
          "PlayerBoxScoresCount_homeRuns",
          "PlayerBoxScoresCount_plateAppearances",
          "PlayerBoxScoresCount_totalBases",
          "PlayerBoxScoresCount_rbi",
          "PlayerBoxScoresCount_inningsPitched",
          "PlayerBoxScoresCount_saves",
          "TeamBoxScoresCount_groundOuts",
          "TeamBoxScoresCount_homeRuns",
          "TeamBoxScoresCount_strikeOuts",
          "TeamBoxScoresCount_totalBases",
          "TeamBoxScoresCount_runsPitching",
          "TeamBoxScoresCount_hitsPitching",
          "TeamBoxScoresCount_battersFaced",
          "mean",
          "std",
          "max",
          "min",
          "quantile25"
         ],
         "y0": " ",
         "yaxis": "y"
        }
       ],
       "layout": {
        "boxmode": "group",
        "height": 900,
        "legend": {
         "tracegroupgap": 0
        },
        "template": {
         "data": {
          "bar": [
           {
            "error_x": {
             "color": "#2a3f5f"
            },
            "error_y": {
             "color": "#2a3f5f"
            },
            "marker": {
             "line": {
              "color": "#E5ECF6",
              "width": 0.5
             }
            },
            "type": "bar"
           }
          ],
          "barpolar": [
           {
            "marker": {
             "line": {
              "color": "#E5ECF6",
              "width": 0.5
             }
            },
            "type": "barpolar"
           }
          ],
          "carpet": [
           {
            "aaxis": {
             "endlinecolor": "#2a3f5f",
             "gridcolor": "white",
             "linecolor": "white",
             "minorgridcolor": "white",
             "startlinecolor": "#2a3f5f"
            },
            "baxis": {
             "endlinecolor": "#2a3f5f",
             "gridcolor": "white",
             "linecolor": "white",
             "minorgridcolor": "white",
             "startlinecolor": "#2a3f5f"
            },
            "type": "carpet"
           }
          ],
          "choropleth": [
           {
            "colorbar": {
             "outlinewidth": 0,
             "ticks": ""
            },
            "type": "choropleth"
           }
          ],
          "contour": [
           {
            "colorbar": {
             "outlinewidth": 0,
             "ticks": ""
            },
            "colorscale": [
             [
              0,
              "#0d0887"
             ],
             [
              0.1111111111111111,
              "#46039f"
             ],
             [
              0.2222222222222222,
              "#7201a8"
             ],
             [
              0.3333333333333333,
              "#9c179e"
             ],
             [
              0.4444444444444444,
              "#bd3786"
             ],
             [
              0.5555555555555556,
              "#d8576b"
             ],
             [
              0.6666666666666666,
              "#ed7953"
             ],
             [
              0.7777777777777778,
              "#fb9f3a"
             ],
             [
              0.8888888888888888,
              "#fdca26"
             ],
             [
              1,
              "#f0f921"
             ]
            ],
            "type": "contour"
           }
          ],
          "contourcarpet": [
           {
            "colorbar": {
             "outlinewidth": 0,
             "ticks": ""
            },
            "type": "contourcarpet"
           }
          ],
          "heatmap": [
           {
            "colorbar": {
             "outlinewidth": 0,
             "ticks": ""
            },
            "colorscale": [
             [
              0,
              "#0d0887"
             ],
             [
              0.1111111111111111,
              "#46039f"
             ],
             [
              0.2222222222222222,
              "#7201a8"
             ],
             [
              0.3333333333333333,
              "#9c179e"
             ],
             [
              0.4444444444444444,
              "#bd3786"
             ],
             [
              0.5555555555555556,
              "#d8576b"
             ],
             [
              0.6666666666666666,
              "#ed7953"
             ],
             [
              0.7777777777777778,
              "#fb9f3a"
             ],
             [
              0.8888888888888888,
              "#fdca26"
             ],
             [
              1,
              "#f0f921"
             ]
            ],
            "type": "heatmap"
           }
          ],
          "heatmapgl": [
           {
            "colorbar": {
             "outlinewidth": 0,
             "ticks": ""
            },
            "colorscale": [
             [
              0,
              "#0d0887"
             ],
             [
              0.1111111111111111,
              "#46039f"
             ],
             [
              0.2222222222222222,
              "#7201a8"
             ],
             [
              0.3333333333333333,
              "#9c179e"
             ],
             [
              0.4444444444444444,
              "#bd3786"
             ],
             [
              0.5555555555555556,
              "#d8576b"
             ],
             [
              0.6666666666666666,
              "#ed7953"
             ],
             [
              0.7777777777777778,
              "#fb9f3a"
             ],
             [
              0.8888888888888888,
              "#fdca26"
             ],
             [
              1,
              "#f0f921"
             ]
            ],
            "type": "heatmapgl"
           }
          ],
          "histogram": [
           {
            "marker": {
             "colorbar": {
              "outlinewidth": 0,
              "ticks": ""
             }
            },
            "type": "histogram"
           }
          ],
          "histogram2d": [
           {
            "colorbar": {
             "outlinewidth": 0,
             "ticks": ""
            },
            "colorscale": [
             [
              0,
              "#0d0887"
             ],
             [
              0.1111111111111111,
              "#46039f"
             ],
             [
              0.2222222222222222,
              "#7201a8"
             ],
             [
              0.3333333333333333,
              "#9c179e"
             ],
             [
              0.4444444444444444,
              "#bd3786"
             ],
             [
              0.5555555555555556,
              "#d8576b"
             ],
             [
              0.6666666666666666,
              "#ed7953"
             ],
             [
              0.7777777777777778,
              "#fb9f3a"
             ],
             [
              0.8888888888888888,
              "#fdca26"
             ],
             [
              1,
              "#f0f921"
             ]
            ],
            "type": "histogram2d"
           }
          ],
          "histogram2dcontour": [
           {
            "colorbar": {
             "outlinewidth": 0,
             "ticks": ""
            },
            "colorscale": [
             [
              0,
              "#0d0887"
             ],
             [
              0.1111111111111111,
              "#46039f"
             ],
             [
              0.2222222222222222,
              "#7201a8"
             ],
             [
              0.3333333333333333,
              "#9c179e"
             ],
             [
              0.4444444444444444,
              "#bd3786"
             ],
             [
              0.5555555555555556,
              "#d8576b"
             ],
             [
              0.6666666666666666,
              "#ed7953"
             ],
             [
              0.7777777777777778,
              "#fb9f3a"
             ],
             [
              0.8888888888888888,
              "#fdca26"
             ],
             [
              1,
              "#f0f921"
             ]
            ],
            "type": "histogram2dcontour"
           }
          ],
          "mesh3d": [
           {
            "colorbar": {
             "outlinewidth": 0,
             "ticks": ""
            },
            "type": "mesh3d"
           }
          ],
          "parcoords": [
           {
            "line": {
             "colorbar": {
              "outlinewidth": 0,
              "ticks": ""
             }
            },
            "type": "parcoords"
           }
          ],
          "pie": [
           {
            "automargin": true,
            "type": "pie"
           }
          ],
          "scatter": [
           {
            "marker": {
             "colorbar": {
              "outlinewidth": 0,
              "ticks": ""
             }
            },
            "type": "scatter"
           }
          ],
          "scatter3d": [
           {
            "line": {
             "colorbar": {
              "outlinewidth": 0,
              "ticks": ""
             }
            },
            "marker": {
             "colorbar": {
              "outlinewidth": 0,
              "ticks": ""
             }
            },
            "type": "scatter3d"
           }
          ],
          "scattercarpet": [
           {
            "marker": {
             "colorbar": {
              "outlinewidth": 0,
              "ticks": ""
             }
            },
            "type": "scattercarpet"
           }
          ],
          "scattergeo": [
           {
            "marker": {
             "colorbar": {
              "outlinewidth": 0,
              "ticks": ""
             }
            },
            "type": "scattergeo"
           }
          ],
          "scattergl": [
           {
            "marker": {
             "colorbar": {
              "outlinewidth": 0,
              "ticks": ""
             }
            },
            "type": "scattergl"
           }
          ],
          "scattermapbox": [
           {
            "marker": {
             "colorbar": {
              "outlinewidth": 0,
              "ticks": ""
             }
            },
            "type": "scattermapbox"
           }
          ],
          "scatterpolar": [
           {
            "marker": {
             "colorbar": {
              "outlinewidth": 0,
              "ticks": ""
             }
            },
            "type": "scatterpolar"
           }
          ],
          "scatterpolargl": [
           {
            "marker": {
             "colorbar": {
              "outlinewidth": 0,
              "ticks": ""
             }
            },
            "type": "scatterpolargl"
           }
          ],
          "scatterternary": [
           {
            "marker": {
             "colorbar": {
              "outlinewidth": 0,
              "ticks": ""
             }
            },
            "type": "scatterternary"
           }
          ],
          "surface": [
           {
            "colorbar": {
             "outlinewidth": 0,
             "ticks": ""
            },
            "colorscale": [
             [
              0,
              "#0d0887"
             ],
             [
              0.1111111111111111,
              "#46039f"
             ],
             [
              0.2222222222222222,
              "#7201a8"
             ],
             [
              0.3333333333333333,
              "#9c179e"
             ],
             [
              0.4444444444444444,
              "#bd3786"
             ],
             [
              0.5555555555555556,
              "#d8576b"
             ],
             [
              0.6666666666666666,
              "#ed7953"
             ],
             [
              0.7777777777777778,
              "#fb9f3a"
             ],
             [
              0.8888888888888888,
              "#fdca26"
             ],
             [
              1,
              "#f0f921"
             ]
            ],
            "type": "surface"
           }
          ],
          "table": [
           {
            "cells": {
             "fill": {
              "color": "#EBF0F8"
             },
             "line": {
              "color": "white"
             }
            },
            "header": {
             "fill": {
              "color": "#C8D4E3"
             },
             "line": {
              "color": "white"
             }
            },
            "type": "table"
           }
          ]
         },
         "layout": {
          "annotationdefaults": {
           "arrowcolor": "#2a3f5f",
           "arrowhead": 0,
           "arrowwidth": 1
          },
          "autotypenumbers": "strict",
          "coloraxis": {
           "colorbar": {
            "outlinewidth": 0,
            "ticks": ""
           }
          },
          "colorscale": {
           "diverging": [
            [
             0,
             "#8e0152"
            ],
            [
             0.1,
             "#c51b7d"
            ],
            [
             0.2,
             "#de77ae"
            ],
            [
             0.3,
             "#f1b6da"
            ],
            [
             0.4,
             "#fde0ef"
            ],
            [
             0.5,
             "#f7f7f7"
            ],
            [
             0.6,
             "#e6f5d0"
            ],
            [
             0.7,
             "#b8e186"
            ],
            [
             0.8,
             "#7fbc41"
            ],
            [
             0.9,
             "#4d9221"
            ],
            [
             1,
             "#276419"
            ]
           ],
           "sequential": [
            [
             0,
             "#0d0887"
            ],
            [
             0.1111111111111111,
             "#46039f"
            ],
            [
             0.2222222222222222,
             "#7201a8"
            ],
            [
             0.3333333333333333,
             "#9c179e"
            ],
            [
             0.4444444444444444,
             "#bd3786"
            ],
            [
             0.5555555555555556,
             "#d8576b"
            ],
            [
             0.6666666666666666,
             "#ed7953"
            ],
            [
             0.7777777777777778,
             "#fb9f3a"
            ],
            [
             0.8888888888888888,
             "#fdca26"
            ],
            [
             1,
             "#f0f921"
            ]
           ],
           "sequentialminus": [
            [
             0,
             "#0d0887"
            ],
            [
             0.1111111111111111,
             "#46039f"
            ],
            [
             0.2222222222222222,
             "#7201a8"
            ],
            [
             0.3333333333333333,
             "#9c179e"
            ],
            [
             0.4444444444444444,
             "#bd3786"
            ],
            [
             0.5555555555555556,
             "#d8576b"
            ],
            [
             0.6666666666666666,
             "#ed7953"
            ],
            [
             0.7777777777777778,
             "#fb9f3a"
            ],
            [
             0.8888888888888888,
             "#fdca26"
            ],
            [
             1,
             "#f0f921"
            ]
           ]
          },
          "colorway": [
           "#636efa",
           "#EF553B",
           "#00cc96",
           "#ab63fa",
           "#FFA15A",
           "#19d3f3",
           "#FF6692",
           "#B6E880",
           "#FF97FF",
           "#FECB52"
          ],
          "font": {
           "color": "#2a3f5f"
          },
          "geo": {
           "bgcolor": "white",
           "lakecolor": "white",
           "landcolor": "#E5ECF6",
           "showlakes": true,
           "showland": true,
           "subunitcolor": "white"
          },
          "hoverlabel": {
           "align": "left"
          },
          "hovermode": "closest",
          "mapbox": {
           "style": "light"
          },
          "paper_bgcolor": "white",
          "plot_bgcolor": "#E5ECF6",
          "polar": {
           "angularaxis": {
            "gridcolor": "white",
            "linecolor": "white",
            "ticks": ""
           },
           "bgcolor": "#E5ECF6",
           "radialaxis": {
            "gridcolor": "white",
            "linecolor": "white",
            "ticks": ""
           }
          },
          "scene": {
           "xaxis": {
            "backgroundcolor": "#E5ECF6",
            "gridcolor": "white",
            "gridwidth": 2,
            "linecolor": "white",
            "showbackground": true,
            "ticks": "",
            "zerolinecolor": "white"
           },
           "yaxis": {
            "backgroundcolor": "#E5ECF6",
            "gridcolor": "white",
            "gridwidth": 2,
            "linecolor": "white",
            "showbackground": true,
            "ticks": "",
            "zerolinecolor": "white"
           },
           "zaxis": {
            "backgroundcolor": "#E5ECF6",
            "gridcolor": "white",
            "gridwidth": 2,
            "linecolor": "white",
            "showbackground": true,
            "ticks": "",
            "zerolinecolor": "white"
           }
          },
          "shapedefaults": {
           "line": {
            "color": "#2a3f5f"
           }
          },
          "ternary": {
           "aaxis": {
            "gridcolor": "white",
            "linecolor": "white",
            "ticks": ""
           },
           "baxis": {
            "gridcolor": "white",
            "linecolor": "white",
            "ticks": ""
           },
           "bgcolor": "#E5ECF6",
           "caxis": {
            "gridcolor": "white",
            "linecolor": "white",
            "ticks": ""
           }
          },
          "title": {
           "x": 0.05
          },
          "xaxis": {
           "automargin": true,
           "gridcolor": "white",
           "linecolor": "white",
           "ticks": "",
           "title": {
            "standoff": 15
           },
           "zerolinecolor": "white",
           "zerolinewidth": 2
          },
          "yaxis": {
           "automargin": true,
           "gridcolor": "white",
           "linecolor": "white",
           "ticks": "",
           "title": {
            "standoff": 15
           },
           "zerolinecolor": "white",
           "zerolinewidth": 2
          }
         }
        },
        "title": {
         "text": "Target1 Top 50 feature importance"
        },
        "width": 1250,
        "xaxis": {
         "anchor": "y",
         "domain": [
          0,
          1
         ],
         "title": {
          "text": "feature_importance"
         }
        },
        "yaxis": {
         "anchor": "x",
         "categoryarray": [
          "TeamBoxScoresCount_totalBases",
          "target3_quantile25",
          "TeamBoxScoresCount_groundOuts",
          "TeamBoxScoresCount_homeRuns",
          "PlayerBoxScoresCount_totalBases",
          "PlayerBoxScoresCount_homeRuns",
          "PlayerBoxScoresCount_battingOrder",
          "TeamBoxScoresCount_hitsPitching",
          "TeamBoxScoresCount_runsPitching",
          "TeamBoxScoresCount_strikeOuts",
          "PlayerBoxScoresCount_inningsPitched",
          "PlayerBoxScoresCount_saves",
          "PlayerBoxScoresCount_plateAppearances",
          "TeamBoxScoresCount_battersFaced",
          "quantile25",
          "mean",
          "max",
          "Players_LE_birthCountry",
          "target4_min",
          "target4_max",
          "target3_std",
          "min",
          "PlayerBoxScoresCount_rbi",
          "target3_median",
          "target3_quantile75",
          "target4_std",
          "Players_LE_primaryPositionCode",
          "target3_max",
          "target2_std",
          "target2_max",
          "target4_quantile75",
          "target4_mean",
          "target3_mean",
          "target1_max",
          "std",
          "target2_min",
          "target2_mean",
          "target4_median",
          "target1_quantile25",
          "Players_LE_playerid",
          "target1_std",
          "target2_quantile75",
          "target4_quantile25",
          "target2_quantile25",
          "target2_median",
          "target1_mean",
          "Rosters_LE_status",
          "Rosters_LE_teamId",
          "target1_median",
          "target1_quantile75"
         ],
         "categoryorder": "array",
         "domain": [
          0,
          1
         ],
         "showgrid": true,
         "title": {
          "text": "feature"
         }
        }
       }
      }
     },
     "metadata": {}
    },
    {
     "output_type": "display_data",
     "data": {
      "application/vnd.plotly.v1+json": {
       "config": {
        "plotlyServerURL": "https://plot.ly"
       },
       "data": [
        {
         "alignmentgroup": "True",
         "hovertemplate": "feature_importance=%{x}<br>feature=%{y}<extra></extra>",
         "legendgroup": "",
         "marker": {
          "color": "#636efa"
         },
         "name": "",
         "notched": false,
         "offsetgroup": "",
         "orientation": "h",
         "showlegend": false,
         "type": "box",
         "x": [
          7663.3646240234375,
          5808.704925537109,
          3358.707675933838,
          78874.09986114502,
          129910.13539123535,
          8627.062026977539,
          3180.3849868774414,
          50797.0802192688,
          272411.1811103821,
          2033762.0490341187,
          275348.88262176514,
          16276.58027267456,
          4241.639144897461,
          31078.29305267334,
          62219.02229309082,
          5229.795143127441,
          5071.561706542969,
          20971.214950561523,
          105303.8823928833,
          33198.61260223389,
          275011.6071548462,
          5731135.763496399,
          4109.652816772461,
          51790.759311676025,
          20898.60708618164,
          11702.220603942871,
          9134.380462646484,
          3767.898147583008,
          4155.814025878906,
          6853.27978515625,
          13150.760383605957,
          34614.35607910156,
          50150.286849975586,
          23267.776916503906,
          35707.015686035156,
          6574.990234375,
          4928.718017578125,
          7377.481872558594,
          10509.098999023438,
          25281.075714111328,
          8830.968872070312,
          11646.593765258789,
          9006.594047546387,
          5442.353172302246,
          35471.62461853027,
          4331.01496887207,
          9185.2197265625,
          25771.418365478516,
          40377.17752075195,
          3543.1699981689453
         ],
         "x0": " ",
         "xaxis": "x",
         "y": [
          "target1_mean",
          "target1_std",
          "target1_median",
          "target1_quantile25",
          "target2_mean",
          "target2_std",
          "target2_max",
          "target2_min",
          "target2_median",
          "target2_quantile25",
          "target2_quantile75",
          "target3_mean",
          "target3_max",
          "target3_quantile75",
          "target4_mean",
          "target4_std",
          "target4_min",
          "target4_median",
          "target4_quantile25",
          "target4_quantile75",
          "Rosters_LE_teamId",
          "Rosters_LE_status",
          "Players_LE_primaryPositionCode",
          "Players_LE_playerid",
          "PlayerBoxScoresCount_battingOrder",
          "PlayerBoxScoresCount_plateAppearances",
          "PlayerBoxScoresCount_totalBases",
          "PlayerBoxScoresCount_rbi",
          "PlayerBoxScoresCount_winsPitching",
          "PlayerBoxScoresCount_inheritedRunners",
          "TeamBoxScoresCount_flyOuts",
          "TeamBoxScoresCount_groundOuts",
          "TeamBoxScoresCount_runsScored",
          "TeamBoxScoresCount_doubles",
          "TeamBoxScoresCount_homeRuns",
          "TeamBoxScoresCount_strikeOuts",
          "TeamBoxScoresCount_hits",
          "TeamBoxScoresCount_stolenBases",
          "TeamBoxScoresCount_plateAppearances",
          "TeamBoxScoresCount_totalBases",
          "TeamBoxScoresCount_rbi",
          "TeamBoxScoresCount_leftOnBase",
          "TeamBoxScoresCount_runsPitching",
          "TeamBoxScoresCount_baseOnBallsPitching",
          "TeamBoxScoresCount_hitsPitching",
          "TeamBoxScoresCount_inningsPitched",
          "TeamBoxScoresCount_sacBuntsPitching",
          "GamesCount_homeLosses",
          "GamesCount_awayLosses",
          "quantile25"
         ],
         "y0": " ",
         "yaxis": "y"
        }
       ],
       "layout": {
        "boxmode": "group",
        "height": 900,
        "legend": {
         "tracegroupgap": 0
        },
        "template": {
         "data": {
          "bar": [
           {
            "error_x": {
             "color": "#2a3f5f"
            },
            "error_y": {
             "color": "#2a3f5f"
            },
            "marker": {
             "line": {
              "color": "#E5ECF6",
              "width": 0.5
             }
            },
            "type": "bar"
           }
          ],
          "barpolar": [
           {
            "marker": {
             "line": {
              "color": "#E5ECF6",
              "width": 0.5
             }
            },
            "type": "barpolar"
           }
          ],
          "carpet": [
           {
            "aaxis": {
             "endlinecolor": "#2a3f5f",
             "gridcolor": "white",
             "linecolor": "white",
             "minorgridcolor": "white",
             "startlinecolor": "#2a3f5f"
            },
            "baxis": {
             "endlinecolor": "#2a3f5f",
             "gridcolor": "white",
             "linecolor": "white",
             "minorgridcolor": "white",
             "startlinecolor": "#2a3f5f"
            },
            "type": "carpet"
           }
          ],
          "choropleth": [
           {
            "colorbar": {
             "outlinewidth": 0,
             "ticks": ""
            },
            "type": "choropleth"
           }
          ],
          "contour": [
           {
            "colorbar": {
             "outlinewidth": 0,
             "ticks": ""
            },
            "colorscale": [
             [
              0,
              "#0d0887"
             ],
             [
              0.1111111111111111,
              "#46039f"
             ],
             [
              0.2222222222222222,
              "#7201a8"
             ],
             [
              0.3333333333333333,
              "#9c179e"
             ],
             [
              0.4444444444444444,
              "#bd3786"
             ],
             [
              0.5555555555555556,
              "#d8576b"
             ],
             [
              0.6666666666666666,
              "#ed7953"
             ],
             [
              0.7777777777777778,
              "#fb9f3a"
             ],
             [
              0.8888888888888888,
              "#fdca26"
             ],
             [
              1,
              "#f0f921"
             ]
            ],
            "type": "contour"
           }
          ],
          "contourcarpet": [
           {
            "colorbar": {
             "outlinewidth": 0,
             "ticks": ""
            },
            "type": "contourcarpet"
           }
          ],
          "heatmap": [
           {
            "colorbar": {
             "outlinewidth": 0,
             "ticks": ""
            },
            "colorscale": [
             [
              0,
              "#0d0887"
             ],
             [
              0.1111111111111111,
              "#46039f"
             ],
             [
              0.2222222222222222,
              "#7201a8"
             ],
             [
              0.3333333333333333,
              "#9c179e"
             ],
             [
              0.4444444444444444,
              "#bd3786"
             ],
             [
              0.5555555555555556,
              "#d8576b"
             ],
             [
              0.6666666666666666,
              "#ed7953"
             ],
             [
              0.7777777777777778,
              "#fb9f3a"
             ],
             [
              0.8888888888888888,
              "#fdca26"
             ],
             [
              1,
              "#f0f921"
             ]
            ],
            "type": "heatmap"
           }
          ],
          "heatmapgl": [
           {
            "colorbar": {
             "outlinewidth": 0,
             "ticks": ""
            },
            "colorscale": [
             [
              0,
              "#0d0887"
             ],
             [
              0.1111111111111111,
              "#46039f"
             ],
             [
              0.2222222222222222,
              "#7201a8"
             ],
             [
              0.3333333333333333,
              "#9c179e"
             ],
             [
              0.4444444444444444,
              "#bd3786"
             ],
             [
              0.5555555555555556,
              "#d8576b"
             ],
             [
              0.6666666666666666,
              "#ed7953"
             ],
             [
              0.7777777777777778,
              "#fb9f3a"
             ],
             [
              0.8888888888888888,
              "#fdca26"
             ],
             [
              1,
              "#f0f921"
             ]
            ],
            "type": "heatmapgl"
           }
          ],
          "histogram": [
           {
            "marker": {
             "colorbar": {
              "outlinewidth": 0,
              "ticks": ""
             }
            },
            "type": "histogram"
           }
          ],
          "histogram2d": [
           {
            "colorbar": {
             "outlinewidth": 0,
             "ticks": ""
            },
            "colorscale": [
             [
              0,
              "#0d0887"
             ],
             [
              0.1111111111111111,
              "#46039f"
             ],
             [
              0.2222222222222222,
              "#7201a8"
             ],
             [
              0.3333333333333333,
              "#9c179e"
             ],
             [
              0.4444444444444444,
              "#bd3786"
             ],
             [
              0.5555555555555556,
              "#d8576b"
             ],
             [
              0.6666666666666666,
              "#ed7953"
             ],
             [
              0.7777777777777778,
              "#fb9f3a"
             ],
             [
              0.8888888888888888,
              "#fdca26"
             ],
             [
              1,
              "#f0f921"
             ]
            ],
            "type": "histogram2d"
           }
          ],
          "histogram2dcontour": [
           {
            "colorbar": {
             "outlinewidth": 0,
             "ticks": ""
            },
            "colorscale": [
             [
              0,
              "#0d0887"
             ],
             [
              0.1111111111111111,
              "#46039f"
             ],
             [
              0.2222222222222222,
              "#7201a8"
             ],
             [
              0.3333333333333333,
              "#9c179e"
             ],
             [
              0.4444444444444444,
              "#bd3786"
             ],
             [
              0.5555555555555556,
              "#d8576b"
             ],
             [
              0.6666666666666666,
              "#ed7953"
             ],
             [
              0.7777777777777778,
              "#fb9f3a"
             ],
             [
              0.8888888888888888,
              "#fdca26"
             ],
             [
              1,
              "#f0f921"
             ]
            ],
            "type": "histogram2dcontour"
           }
          ],
          "mesh3d": [
           {
            "colorbar": {
             "outlinewidth": 0,
             "ticks": ""
            },
            "type": "mesh3d"
           }
          ],
          "parcoords": [
           {
            "line": {
             "colorbar": {
              "outlinewidth": 0,
              "ticks": ""
             }
            },
            "type": "parcoords"
           }
          ],
          "pie": [
           {
            "automargin": true,
            "type": "pie"
           }
          ],
          "scatter": [
           {
            "marker": {
             "colorbar": {
              "outlinewidth": 0,
              "ticks": ""
             }
            },
            "type": "scatter"
           }
          ],
          "scatter3d": [
           {
            "line": {
             "colorbar": {
              "outlinewidth": 0,
              "ticks": ""
             }
            },
            "marker": {
             "colorbar": {
              "outlinewidth": 0,
              "ticks": ""
             }
            },
            "type": "scatter3d"
           }
          ],
          "scattercarpet": [
           {
            "marker": {
             "colorbar": {
              "outlinewidth": 0,
              "ticks": ""
             }
            },
            "type": "scattercarpet"
           }
          ],
          "scattergeo": [
           {
            "marker": {
             "colorbar": {
              "outlinewidth": 0,
              "ticks": ""
             }
            },
            "type": "scattergeo"
           }
          ],
          "scattergl": [
           {
            "marker": {
             "colorbar": {
              "outlinewidth": 0,
              "ticks": ""
             }
            },
            "type": "scattergl"
           }
          ],
          "scattermapbox": [
           {
            "marker": {
             "colorbar": {
              "outlinewidth": 0,
              "ticks": ""
             }
            },
            "type": "scattermapbox"
           }
          ],
          "scatterpolar": [
           {
            "marker": {
             "colorbar": {
              "outlinewidth": 0,
              "ticks": ""
             }
            },
            "type": "scatterpolar"
           }
          ],
          "scatterpolargl": [
           {
            "marker": {
             "colorbar": {
              "outlinewidth": 0,
              "ticks": ""
             }
            },
            "type": "scatterpolargl"
           }
          ],
          "scatterternary": [
           {
            "marker": {
             "colorbar": {
              "outlinewidth": 0,
              "ticks": ""
             }
            },
            "type": "scatterternary"
           }
          ],
          "surface": [
           {
            "colorbar": {
             "outlinewidth": 0,
             "ticks": ""
            },
            "colorscale": [
             [
              0,
              "#0d0887"
             ],
             [
              0.1111111111111111,
              "#46039f"
             ],
             [
              0.2222222222222222,
              "#7201a8"
             ],
             [
              0.3333333333333333,
              "#9c179e"
             ],
             [
              0.4444444444444444,
              "#bd3786"
             ],
             [
              0.5555555555555556,
              "#d8576b"
             ],
             [
              0.6666666666666666,
              "#ed7953"
             ],
             [
              0.7777777777777778,
              "#fb9f3a"
             ],
             [
              0.8888888888888888,
              "#fdca26"
             ],
             [
              1,
              "#f0f921"
             ]
            ],
            "type": "surface"
           }
          ],
          "table": [
           {
            "cells": {
             "fill": {
              "color": "#EBF0F8"
             },
             "line": {
              "color": "white"
             }
            },
            "header": {
             "fill": {
              "color": "#C8D4E3"
             },
             "line": {
              "color": "white"
             }
            },
            "type": "table"
           }
          ]
         },
         "layout": {
          "annotationdefaults": {
           "arrowcolor": "#2a3f5f",
           "arrowhead": 0,
           "arrowwidth": 1
          },
          "autotypenumbers": "strict",
          "coloraxis": {
           "colorbar": {
            "outlinewidth": 0,
            "ticks": ""
           }
          },
          "colorscale": {
           "diverging": [
            [
             0,
             "#8e0152"
            ],
            [
             0.1,
             "#c51b7d"
            ],
            [
             0.2,
             "#de77ae"
            ],
            [
             0.3,
             "#f1b6da"
            ],
            [
             0.4,
             "#fde0ef"
            ],
            [
             0.5,
             "#f7f7f7"
            ],
            [
             0.6,
             "#e6f5d0"
            ],
            [
             0.7,
             "#b8e186"
            ],
            [
             0.8,
             "#7fbc41"
            ],
            [
             0.9,
             "#4d9221"
            ],
            [
             1,
             "#276419"
            ]
           ],
           "sequential": [
            [
             0,
             "#0d0887"
            ],
            [
             0.1111111111111111,
             "#46039f"
            ],
            [
             0.2222222222222222,
             "#7201a8"
            ],
            [
             0.3333333333333333,
             "#9c179e"
            ],
            [
             0.4444444444444444,
             "#bd3786"
            ],
            [
             0.5555555555555556,
             "#d8576b"
            ],
            [
             0.6666666666666666,
             "#ed7953"
            ],
            [
             0.7777777777777778,
             "#fb9f3a"
            ],
            [
             0.8888888888888888,
             "#fdca26"
            ],
            [
             1,
             "#f0f921"
            ]
           ],
           "sequentialminus": [
            [
             0,
             "#0d0887"
            ],
            [
             0.1111111111111111,
             "#46039f"
            ],
            [
             0.2222222222222222,
             "#7201a8"
            ],
            [
             0.3333333333333333,
             "#9c179e"
            ],
            [
             0.4444444444444444,
             "#bd3786"
            ],
            [
             0.5555555555555556,
             "#d8576b"
            ],
            [
             0.6666666666666666,
             "#ed7953"
            ],
            [
             0.7777777777777778,
             "#fb9f3a"
            ],
            [
             0.8888888888888888,
             "#fdca26"
            ],
            [
             1,
             "#f0f921"
            ]
           ]
          },
          "colorway": [
           "#636efa",
           "#EF553B",
           "#00cc96",
           "#ab63fa",
           "#FFA15A",
           "#19d3f3",
           "#FF6692",
           "#B6E880",
           "#FF97FF",
           "#FECB52"
          ],
          "font": {
           "color": "#2a3f5f"
          },
          "geo": {
           "bgcolor": "white",
           "lakecolor": "white",
           "landcolor": "#E5ECF6",
           "showlakes": true,
           "showland": true,
           "subunitcolor": "white"
          },
          "hoverlabel": {
           "align": "left"
          },
          "hovermode": "closest",
          "mapbox": {
           "style": "light"
          },
          "paper_bgcolor": "white",
          "plot_bgcolor": "#E5ECF6",
          "polar": {
           "angularaxis": {
            "gridcolor": "white",
            "linecolor": "white",
            "ticks": ""
           },
           "bgcolor": "#E5ECF6",
           "radialaxis": {
            "gridcolor": "white",
            "linecolor": "white",
            "ticks": ""
           }
          },
          "scene": {
           "xaxis": {
            "backgroundcolor": "#E5ECF6",
            "gridcolor": "white",
            "gridwidth": 2,
            "linecolor": "white",
            "showbackground": true,
            "ticks": "",
            "zerolinecolor": "white"
           },
           "yaxis": {
            "backgroundcolor": "#E5ECF6",
            "gridcolor": "white",
            "gridwidth": 2,
            "linecolor": "white",
            "showbackground": true,
            "ticks": "",
            "zerolinecolor": "white"
           },
           "zaxis": {
            "backgroundcolor": "#E5ECF6",
            "gridcolor": "white",
            "gridwidth": 2,
            "linecolor": "white",
            "showbackground": true,
            "ticks": "",
            "zerolinecolor": "white"
           }
          },
          "shapedefaults": {
           "line": {
            "color": "#2a3f5f"
           }
          },
          "ternary": {
           "aaxis": {
            "gridcolor": "white",
            "linecolor": "white",
            "ticks": ""
           },
           "baxis": {
            "gridcolor": "white",
            "linecolor": "white",
            "ticks": ""
           },
           "bgcolor": "#E5ECF6",
           "caxis": {
            "gridcolor": "white",
            "linecolor": "white",
            "ticks": ""
           }
          },
          "title": {
           "x": 0.05
          },
          "xaxis": {
           "automargin": true,
           "gridcolor": "white",
           "linecolor": "white",
           "ticks": "",
           "title": {
            "standoff": 15
           },
           "zerolinecolor": "white",
           "zerolinewidth": 2
          },
          "yaxis": {
           "automargin": true,
           "gridcolor": "white",
           "linecolor": "white",
           "ticks": "",
           "title": {
            "standoff": 15
           },
           "zerolinecolor": "white",
           "zerolinewidth": 2
          }
         }
        },
        "title": {
         "text": "Target2 Top 50 feature importance"
        },
        "width": 1250,
        "xaxis": {
         "anchor": "y",
         "domain": [
          0,
          1
         ],
         "title": {
          "text": "feature_importance"
         }
        },
        "yaxis": {
         "anchor": "x",
         "categoryarray": [
          "target2_max",
          "target1_median",
          "quantile25",
          "PlayerBoxScoresCount_rbi",
          "Players_LE_primaryPositionCode",
          "PlayerBoxScoresCount_winsPitching",
          "target3_max",
          "TeamBoxScoresCount_inningsPitched",
          "TeamBoxScoresCount_hits",
          "target4_min",
          "target4_std",
          "TeamBoxScoresCount_baseOnBallsPitching",
          "target1_std",
          "TeamBoxScoresCount_strikeOuts",
          "PlayerBoxScoresCount_inheritedRunners",
          "TeamBoxScoresCount_stolenBases",
          "target1_mean",
          "target2_std",
          "TeamBoxScoresCount_rbi",
          "TeamBoxScoresCount_runsPitching",
          "PlayerBoxScoresCount_totalBases",
          "TeamBoxScoresCount_sacBuntsPitching",
          "TeamBoxScoresCount_plateAppearances",
          "TeamBoxScoresCount_leftOnBase",
          "PlayerBoxScoresCount_plateAppearances",
          "TeamBoxScoresCount_flyOuts",
          "target3_mean",
          "PlayerBoxScoresCount_battingOrder",
          "target4_median",
          "TeamBoxScoresCount_doubles",
          "TeamBoxScoresCount_totalBases",
          "GamesCount_homeLosses",
          "target3_quantile75",
          "target4_quantile75",
          "TeamBoxScoresCount_groundOuts",
          "TeamBoxScoresCount_hitsPitching",
          "TeamBoxScoresCount_homeRuns",
          "GamesCount_awayLosses",
          "TeamBoxScoresCount_runsScored",
          "target2_min",
          "Players_LE_playerid",
          "target4_mean",
          "target1_quantile25",
          "target4_quantile25",
          "target2_mean",
          "target2_median",
          "Rosters_LE_teamId",
          "target2_quantile75",
          "target2_quantile25",
          "Rosters_LE_status"
         ],
         "categoryorder": "array",
         "domain": [
          0,
          1
         ],
         "showgrid": true,
         "title": {
          "text": "feature"
         }
        }
       }
      }
     },
     "metadata": {}
    },
    {
     "output_type": "display_data",
     "data": {
      "application/vnd.plotly.v1+json": {
       "config": {
        "plotlyServerURL": "https://plot.ly"
       },
       "data": [
        {
         "alignmentgroup": "True",
         "hovertemplate": "feature_importance=%{x}<br>feature=%{y}<extra></extra>",
         "legendgroup": "",
         "marker": {
          "color": "#636efa"
         },
         "name": "",
         "notched": false,
         "offsetgroup": "",
         "orientation": "h",
         "showlegend": false,
         "type": "box",
         "x": [
          84656.0358543396,
          13798.772354125977,
          43863.165241241455,
          38713.49653625488,
          12483.88678741455,
          134871.65564727783,
          76447.6549243927,
          33383.48840332031,
          51324.340560913086,
          344726.56398010254,
          849997.7557373047,
          488075.9356555939,
          455021.6506061554,
          402342.58573150635,
          199492.48277282715,
          12318373.520446777,
          1268349.5909423828,
          14860015.365982056,
          67134.79209518433,
          31086.493896484375,
          26022.2176361084,
          160854.01375579834,
          276576.5221862793,
          658794.1993598938,
          161291.26710891724,
          7571919.56211853,
          904322.590675354,
          15222.786239624023,
          10384.228912353516,
          468730.7291755676,
          23679.833618164062,
          9095.988529205322,
          8901.94800567627,
          13319.772003173828,
          6316.200492858887,
          6303.008079528809,
          10549.54810333252,
          8908.124252319336,
          9420.31216430664,
          8895.41159439087,
          8509.249626159668,
          6001.35107421875,
          25072.81398010254,
          10852.958072662354,
          6940.048698425293,
          24343.305290222168,
          26440.922492980957,
          11952.263496398926,
          48840.42905807495,
          9937.945922851562
         ],
         "x0": " ",
         "xaxis": "x",
         "y": [
          "target1_mean",
          "target1_std",
          "target1_max",
          "target1_median",
          "target1_quantile75",
          "target2_mean",
          "target2_std",
          "target2_max",
          "target2_min",
          "target2_median",
          "target2_quantile25",
          "target2_quantile75",
          "target3_mean",
          "target3_std",
          "target3_max",
          "target3_median",
          "target3_quantile25",
          "target3_quantile75",
          "target4_mean",
          "target4_std",
          "target4_max",
          "target4_min",
          "target4_median",
          "target4_quantile25",
          "target4_quantile75",
          "Rosters_LE_teamId",
          "Rosters_LE_status",
          "Players_LE_birthCountry",
          "Players_LE_primaryPositionCode",
          "Players_LE_playerid",
          "TeamBoxScoresCount_flyOuts",
          "TeamBoxScoresCount_groundOuts",
          "TeamBoxScoresCount_hits",
          "TeamBoxScoresCount_hitByPitch",
          "TeamBoxScoresCount_stolenBases",
          "TeamBoxScoresCount_rbi",
          "TeamBoxScoresCount_leftOnBase",
          "TeamBoxScoresCount_runsPitching",
          "TeamBoxScoresCount_homeRunsPitching",
          "TeamBoxScoresCount_strikeOutsPitching",
          "TeamBoxScoresCount_hitByPitchPitching",
          "TeamBoxScoresCount_earnedRuns",
          "TeamBoxScoresCount_battersFaced",
          "GamesCount_homeLosses",
          "GamesCount_awayLosses",
          "mean",
          "std",
          "max",
          "min",
          "quantile25"
         ],
         "y0": " ",
         "yaxis": "y"
        }
       ],
       "layout": {
        "boxmode": "group",
        "height": 900,
        "legend": {
         "tracegroupgap": 0
        },
        "template": {
         "data": {
          "bar": [
           {
            "error_x": {
             "color": "#2a3f5f"
            },
            "error_y": {
             "color": "#2a3f5f"
            },
            "marker": {
             "line": {
              "color": "#E5ECF6",
              "width": 0.5
             }
            },
            "type": "bar"
           }
          ],
          "barpolar": [
           {
            "marker": {
             "line": {
              "color": "#E5ECF6",
              "width": 0.5
             }
            },
            "type": "barpolar"
           }
          ],
          "carpet": [
           {
            "aaxis": {
             "endlinecolor": "#2a3f5f",
             "gridcolor": "white",
             "linecolor": "white",
             "minorgridcolor": "white",
             "startlinecolor": "#2a3f5f"
            },
            "baxis": {
             "endlinecolor": "#2a3f5f",
             "gridcolor": "white",
             "linecolor": "white",
             "minorgridcolor": "white",
             "startlinecolor": "#2a3f5f"
            },
            "type": "carpet"
           }
          ],
          "choropleth": [
           {
            "colorbar": {
             "outlinewidth": 0,
             "ticks": ""
            },
            "type": "choropleth"
           }
          ],
          "contour": [
           {
            "colorbar": {
             "outlinewidth": 0,
             "ticks": ""
            },
            "colorscale": [
             [
              0,
              "#0d0887"
             ],
             [
              0.1111111111111111,
              "#46039f"
             ],
             [
              0.2222222222222222,
              "#7201a8"
             ],
             [
              0.3333333333333333,
              "#9c179e"
             ],
             [
              0.4444444444444444,
              "#bd3786"
             ],
             [
              0.5555555555555556,
              "#d8576b"
             ],
             [
              0.6666666666666666,
              "#ed7953"
             ],
             [
              0.7777777777777778,
              "#fb9f3a"
             ],
             [
              0.8888888888888888,
              "#fdca26"
             ],
             [
              1,
              "#f0f921"
             ]
            ],
            "type": "contour"
           }
          ],
          "contourcarpet": [
           {
            "colorbar": {
             "outlinewidth": 0,
             "ticks": ""
            },
            "type": "contourcarpet"
           }
          ],
          "heatmap": [
           {
            "colorbar": {
             "outlinewidth": 0,
             "ticks": ""
            },
            "colorscale": [
             [
              0,
              "#0d0887"
             ],
             [
              0.1111111111111111,
              "#46039f"
             ],
             [
              0.2222222222222222,
              "#7201a8"
             ],
             [
              0.3333333333333333,
              "#9c179e"
             ],
             [
              0.4444444444444444,
              "#bd3786"
             ],
             [
              0.5555555555555556,
              "#d8576b"
             ],
             [
              0.6666666666666666,
              "#ed7953"
             ],
             [
              0.7777777777777778,
              "#fb9f3a"
             ],
             [
              0.8888888888888888,
              "#fdca26"
             ],
             [
              1,
              "#f0f921"
             ]
            ],
            "type": "heatmap"
           }
          ],
          "heatmapgl": [
           {
            "colorbar": {
             "outlinewidth": 0,
             "ticks": ""
            },
            "colorscale": [
             [
              0,
              "#0d0887"
             ],
             [
              0.1111111111111111,
              "#46039f"
             ],
             [
              0.2222222222222222,
              "#7201a8"
             ],
             [
              0.3333333333333333,
              "#9c179e"
             ],
             [
              0.4444444444444444,
              "#bd3786"
             ],
             [
              0.5555555555555556,
              "#d8576b"
             ],
             [
              0.6666666666666666,
              "#ed7953"
             ],
             [
              0.7777777777777778,
              "#fb9f3a"
             ],
             [
              0.8888888888888888,
              "#fdca26"
             ],
             [
              1,
              "#f0f921"
             ]
            ],
            "type": "heatmapgl"
           }
          ],
          "histogram": [
           {
            "marker": {
             "colorbar": {
              "outlinewidth": 0,
              "ticks": ""
             }
            },
            "type": "histogram"
           }
          ],
          "histogram2d": [
           {
            "colorbar": {
             "outlinewidth": 0,
             "ticks": ""
            },
            "colorscale": [
             [
              0,
              "#0d0887"
             ],
             [
              0.1111111111111111,
              "#46039f"
             ],
             [
              0.2222222222222222,
              "#7201a8"
             ],
             [
              0.3333333333333333,
              "#9c179e"
             ],
             [
              0.4444444444444444,
              "#bd3786"
             ],
             [
              0.5555555555555556,
              "#d8576b"
             ],
             [
              0.6666666666666666,
              "#ed7953"
             ],
             [
              0.7777777777777778,
              "#fb9f3a"
             ],
             [
              0.8888888888888888,
              "#fdca26"
             ],
             [
              1,
              "#f0f921"
             ]
            ],
            "type": "histogram2d"
           }
          ],
          "histogram2dcontour": [
           {
            "colorbar": {
             "outlinewidth": 0,
             "ticks": ""
            },
            "colorscale": [
             [
              0,
              "#0d0887"
             ],
             [
              0.1111111111111111,
              "#46039f"
             ],
             [
              0.2222222222222222,
              "#7201a8"
             ],
             [
              0.3333333333333333,
              "#9c179e"
             ],
             [
              0.4444444444444444,
              "#bd3786"
             ],
             [
              0.5555555555555556,
              "#d8576b"
             ],
             [
              0.6666666666666666,
              "#ed7953"
             ],
             [
              0.7777777777777778,
              "#fb9f3a"
             ],
             [
              0.8888888888888888,
              "#fdca26"
             ],
             [
              1,
              "#f0f921"
             ]
            ],
            "type": "histogram2dcontour"
           }
          ],
          "mesh3d": [
           {
            "colorbar": {
             "outlinewidth": 0,
             "ticks": ""
            },
            "type": "mesh3d"
           }
          ],
          "parcoords": [
           {
            "line": {
             "colorbar": {
              "outlinewidth": 0,
              "ticks": ""
             }
            },
            "type": "parcoords"
           }
          ],
          "pie": [
           {
            "automargin": true,
            "type": "pie"
           }
          ],
          "scatter": [
           {
            "marker": {
             "colorbar": {
              "outlinewidth": 0,
              "ticks": ""
             }
            },
            "type": "scatter"
           }
          ],
          "scatter3d": [
           {
            "line": {
             "colorbar": {
              "outlinewidth": 0,
              "ticks": ""
             }
            },
            "marker": {
             "colorbar": {
              "outlinewidth": 0,
              "ticks": ""
             }
            },
            "type": "scatter3d"
           }
          ],
          "scattercarpet": [
           {
            "marker": {
             "colorbar": {
              "outlinewidth": 0,
              "ticks": ""
             }
            },
            "type": "scattercarpet"
           }
          ],
          "scattergeo": [
           {
            "marker": {
             "colorbar": {
              "outlinewidth": 0,
              "ticks": ""
             }
            },
            "type": "scattergeo"
           }
          ],
          "scattergl": [
           {
            "marker": {
             "colorbar": {
              "outlinewidth": 0,
              "ticks": ""
             }
            },
            "type": "scattergl"
           }
          ],
          "scattermapbox": [
           {
            "marker": {
             "colorbar": {
              "outlinewidth": 0,
              "ticks": ""
             }
            },
            "type": "scattermapbox"
           }
          ],
          "scatterpolar": [
           {
            "marker": {
             "colorbar": {
              "outlinewidth": 0,
              "ticks": ""
             }
            },
            "type": "scatterpolar"
           }
          ],
          "scatterpolargl": [
           {
            "marker": {
             "colorbar": {
              "outlinewidth": 0,
              "ticks": ""
             }
            },
            "type": "scatterpolargl"
           }
          ],
          "scatterternary": [
           {
            "marker": {
             "colorbar": {
              "outlinewidth": 0,
              "ticks": ""
             }
            },
            "type": "scatterternary"
           }
          ],
          "surface": [
           {
            "colorbar": {
             "outlinewidth": 0,
             "ticks": ""
            },
            "colorscale": [
             [
              0,
              "#0d0887"
             ],
             [
              0.1111111111111111,
              "#46039f"
             ],
             [
              0.2222222222222222,
              "#7201a8"
             ],
             [
              0.3333333333333333,
              "#9c179e"
             ],
             [
              0.4444444444444444,
              "#bd3786"
             ],
             [
              0.5555555555555556,
              "#d8576b"
             ],
             [
              0.6666666666666666,
              "#ed7953"
             ],
             [
              0.7777777777777778,
              "#fb9f3a"
             ],
             [
              0.8888888888888888,
              "#fdca26"
             ],
             [
              1,
              "#f0f921"
             ]
            ],
            "type": "surface"
           }
          ],
          "table": [
           {
            "cells": {
             "fill": {
              "color": "#EBF0F8"
             },
             "line": {
              "color": "white"
             }
            },
            "header": {
             "fill": {
              "color": "#C8D4E3"
             },
             "line": {
              "color": "white"
             }
            },
            "type": "table"
           }
          ]
         },
         "layout": {
          "annotationdefaults": {
           "arrowcolor": "#2a3f5f",
           "arrowhead": 0,
           "arrowwidth": 1
          },
          "autotypenumbers": "strict",
          "coloraxis": {
           "colorbar": {
            "outlinewidth": 0,
            "ticks": ""
           }
          },
          "colorscale": {
           "diverging": [
            [
             0,
             "#8e0152"
            ],
            [
             0.1,
             "#c51b7d"
            ],
            [
             0.2,
             "#de77ae"
            ],
            [
             0.3,
             "#f1b6da"
            ],
            [
             0.4,
             "#fde0ef"
            ],
            [
             0.5,
             "#f7f7f7"
            ],
            [
             0.6,
             "#e6f5d0"
            ],
            [
             0.7,
             "#b8e186"
            ],
            [
             0.8,
             "#7fbc41"
            ],
            [
             0.9,
             "#4d9221"
            ],
            [
             1,
             "#276419"
            ]
           ],
           "sequential": [
            [
             0,
             "#0d0887"
            ],
            [
             0.1111111111111111,
             "#46039f"
            ],
            [
             0.2222222222222222,
             "#7201a8"
            ],
            [
             0.3333333333333333,
             "#9c179e"
            ],
            [
             0.4444444444444444,
             "#bd3786"
            ],
            [
             0.5555555555555556,
             "#d8576b"
            ],
            [
             0.6666666666666666,
             "#ed7953"
            ],
            [
             0.7777777777777778,
             "#fb9f3a"
            ],
            [
             0.8888888888888888,
             "#fdca26"
            ],
            [
             1,
             "#f0f921"
            ]
           ],
           "sequentialminus": [
            [
             0,
             "#0d0887"
            ],
            [
             0.1111111111111111,
             "#46039f"
            ],
            [
             0.2222222222222222,
             "#7201a8"
            ],
            [
             0.3333333333333333,
             "#9c179e"
            ],
            [
             0.4444444444444444,
             "#bd3786"
            ],
            [
             0.5555555555555556,
             "#d8576b"
            ],
            [
             0.6666666666666666,
             "#ed7953"
            ],
            [
             0.7777777777777778,
             "#fb9f3a"
            ],
            [
             0.8888888888888888,
             "#fdca26"
            ],
            [
             1,
             "#f0f921"
            ]
           ]
          },
          "colorway": [
           "#636efa",
           "#EF553B",
           "#00cc96",
           "#ab63fa",
           "#FFA15A",
           "#19d3f3",
           "#FF6692",
           "#B6E880",
           "#FF97FF",
           "#FECB52"
          ],
          "font": {
           "color": "#2a3f5f"
          },
          "geo": {
           "bgcolor": "white",
           "lakecolor": "white",
           "landcolor": "#E5ECF6",
           "showlakes": true,
           "showland": true,
           "subunitcolor": "white"
          },
          "hoverlabel": {
           "align": "left"
          },
          "hovermode": "closest",
          "mapbox": {
           "style": "light"
          },
          "paper_bgcolor": "white",
          "plot_bgcolor": "#E5ECF6",
          "polar": {
           "angularaxis": {
            "gridcolor": "white",
            "linecolor": "white",
            "ticks": ""
           },
           "bgcolor": "#E5ECF6",
           "radialaxis": {
            "gridcolor": "white",
            "linecolor": "white",
            "ticks": ""
           }
          },
          "scene": {
           "xaxis": {
            "backgroundcolor": "#E5ECF6",
            "gridcolor": "white",
            "gridwidth": 2,
            "linecolor": "white",
            "showbackground": true,
            "ticks": "",
            "zerolinecolor": "white"
           },
           "yaxis": {
            "backgroundcolor": "#E5ECF6",
            "gridcolor": "white",
            "gridwidth": 2,
            "linecolor": "white",
            "showbackground": true,
            "ticks": "",
            "zerolinecolor": "white"
           },
           "zaxis": {
            "backgroundcolor": "#E5ECF6",
            "gridcolor": "white",
            "gridwidth": 2,
            "linecolor": "white",
            "showbackground": true,
            "ticks": "",
            "zerolinecolor": "white"
           }
          },
          "shapedefaults": {
           "line": {
            "color": "#2a3f5f"
           }
          },
          "ternary": {
           "aaxis": {
            "gridcolor": "white",
            "linecolor": "white",
            "ticks": ""
           },
           "baxis": {
            "gridcolor": "white",
            "linecolor": "white",
            "ticks": ""
           },
           "bgcolor": "#E5ECF6",
           "caxis": {
            "gridcolor": "white",
            "linecolor": "white",
            "ticks": ""
           }
          },
          "title": {
           "x": 0.05
          },
          "xaxis": {
           "automargin": true,
           "gridcolor": "white",
           "linecolor": "white",
           "ticks": "",
           "title": {
            "standoff": 15
           },
           "zerolinecolor": "white",
           "zerolinewidth": 2
          },
          "yaxis": {
           "automargin": true,
           "gridcolor": "white",
           "linecolor": "white",
           "ticks": "",
           "title": {
            "standoff": 15
           },
           "zerolinecolor": "white",
           "zerolinewidth": 2
          }
         }
        },
        "title": {
         "text": "Target3 Top 50 feature importance"
        },
        "width": 1250,
        "xaxis": {
         "anchor": "y",
         "domain": [
          0,
          1
         ],
         "title": {
          "text": "feature_importance"
         }
        },
        "yaxis": {
         "anchor": "x",
         "categoryarray": [
          "TeamBoxScoresCount_earnedRuns",
          "TeamBoxScoresCount_rbi",
          "TeamBoxScoresCount_stolenBases",
          "GamesCount_awayLosses",
          "TeamBoxScoresCount_hitByPitchPitching",
          "TeamBoxScoresCount_strikeOutsPitching",
          "TeamBoxScoresCount_hits",
          "TeamBoxScoresCount_runsPitching",
          "TeamBoxScoresCount_groundOuts",
          "TeamBoxScoresCount_homeRunsPitching",
          "quantile25",
          "Players_LE_primaryPositionCode",
          "TeamBoxScoresCount_leftOnBase",
          "GamesCount_homeLosses",
          "max",
          "target1_quantile75",
          "TeamBoxScoresCount_hitByPitch",
          "target1_std",
          "Players_LE_birthCountry",
          "TeamBoxScoresCount_flyOuts",
          "mean",
          "TeamBoxScoresCount_battersFaced",
          "target4_max",
          "std",
          "target4_std",
          "target2_max",
          "target1_median",
          "target1_max",
          "min",
          "target2_min",
          "target4_mean",
          "target2_std",
          "target1_mean",
          "target2_mean",
          "target4_min",
          "target4_quantile75",
          "target3_max",
          "target4_median",
          "target2_median",
          "target3_std",
          "target3_mean",
          "Players_LE_playerid",
          "target2_quantile75",
          "target4_quantile25",
          "target2_quantile25",
          "Rosters_LE_status",
          "target3_quantile25",
          "Rosters_LE_teamId",
          "target3_median",
          "target3_quantile75"
         ],
         "categoryorder": "array",
         "domain": [
          0,
          1
         ],
         "showgrid": true,
         "title": {
          "text": "feature"
         }
        }
       }
      }
     },
     "metadata": {}
    },
    {
     "output_type": "display_data",
     "data": {
      "application/vnd.plotly.v1+json": {
       "config": {
        "plotlyServerURL": "https://plot.ly"
       },
       "data": [
        {
         "alignmentgroup": "True",
         "hovertemplate": "feature_importance=%{x}<br>feature=%{y}<extra></extra>",
         "legendgroup": "",
         "marker": {
          "color": "#636efa"
         },
         "name": "",
         "notched": false,
         "offsetgroup": "",
         "orientation": "h",
         "showlegend": false,
         "type": "box",
         "x": [
          240000.06435092166,
          80430.65321037546,
          65056.085189819336,
          57980.72707311809,
          16095.108745574951,
          116128.51516270638,
          351007.5522032976,
          166760.7874326706,
          115777.92621183395,
          42072.55784034729,
          661935.3740213886,
          257214.3207130432,
          1213728.169365406,
          159290.20128306746,
          68538.12316894531,
          73554.72372436523,
          94102.93955612183,
          83543.30989933014,
          1950448.80946517,
          163442.06725502014,
          124658.58403587341,
          10324339.150407434,
          2086170.346502304,
          4213046.143310547,
          3316983.6764992476,
          868678.830201596,
          62317.11051654816,
          133607.55187034607,
          201122.95369625092,
          7676.732442855835,
          7544.826400756836,
          5382.317080497742,
          26964.395542144775,
          4941.31104183197,
          33577.316521167755,
          9384.93652832508,
          8392.88367843628,
          24798.766317605972,
          26618.18195581436,
          6963.222631454468,
          5252.1871910095215,
          24216.013359069824,
          8454.298805236816,
          4997.613090515137,
          106175.49366998672,
          163836.81008148193,
          63064.48263549805,
          35131.617988586426,
          6274.1739501953125,
          6777.119581222534
         ],
         "x0": " ",
         "xaxis": "x",
         "y": [
          "target1_mean",
          "target1_std",
          "target1_max",
          "target1_median",
          "target1_quantile25",
          "target1_quantile75",
          "target2_mean",
          "target2_std",
          "target2_max",
          "target2_min",
          "target2_median",
          "target2_quantile25",
          "target2_quantile75",
          "target3_mean",
          "target3_std",
          "target3_max",
          "target3_median",
          "target3_quantile75",
          "target4_mean",
          "target4_std",
          "target4_max",
          "target4_median",
          "target4_quantile25",
          "target4_quantile75",
          "Rosters_LE_teamId",
          "Rosters_LE_status",
          "Players_LE_birthCountry",
          "Players_LE_primaryPositionCode",
          "Players_LE_playerid",
          "PlayerBoxScoresCount_plateAppearances",
          "PlayerBoxScoresCount_totalBases",
          "TeamBoxScoresCount_strikeOuts",
          "TeamBoxScoresCount_hits",
          "TeamBoxScoresCount_atBats",
          "TeamBoxScoresCount_totalBases",
          "TeamBoxScoresCount_leftOnBase",
          "TeamBoxScoresCount_strikeOutsPitching",
          "TeamBoxScoresCount_hitsPitching",
          "TeamBoxScoresCount_inningsPitched",
          "TeamBoxScoresCount_sacBuntsPitching",
          "GamesCount_homeWins",
          "GamesCount_homeLosses",
          "GamesCount_awayWins",
          "GamesCount_awayLosses",
          "mean",
          "std",
          "max",
          "min",
          "median",
          "quantile75"
         ],
         "y0": " ",
         "yaxis": "y"
        }
       ],
       "layout": {
        "boxmode": "group",
        "height": 900,
        "legend": {
         "tracegroupgap": 0
        },
        "template": {
         "data": {
          "bar": [
           {
            "error_x": {
             "color": "#2a3f5f"
            },
            "error_y": {
             "color": "#2a3f5f"
            },
            "marker": {
             "line": {
              "color": "#E5ECF6",
              "width": 0.5
             }
            },
            "type": "bar"
           }
          ],
          "barpolar": [
           {
            "marker": {
             "line": {
              "color": "#E5ECF6",
              "width": 0.5
             }
            },
            "type": "barpolar"
           }
          ],
          "carpet": [
           {
            "aaxis": {
             "endlinecolor": "#2a3f5f",
             "gridcolor": "white",
             "linecolor": "white",
             "minorgridcolor": "white",
             "startlinecolor": "#2a3f5f"
            },
            "baxis": {
             "endlinecolor": "#2a3f5f",
             "gridcolor": "white",
             "linecolor": "white",
             "minorgridcolor": "white",
             "startlinecolor": "#2a3f5f"
            },
            "type": "carpet"
           }
          ],
          "choropleth": [
           {
            "colorbar": {
             "outlinewidth": 0,
             "ticks": ""
            },
            "type": "choropleth"
           }
          ],
          "contour": [
           {
            "colorbar": {
             "outlinewidth": 0,
             "ticks": ""
            },
            "colorscale": [
             [
              0,
              "#0d0887"
             ],
             [
              0.1111111111111111,
              "#46039f"
             ],
             [
              0.2222222222222222,
              "#7201a8"
             ],
             [
              0.3333333333333333,
              "#9c179e"
             ],
             [
              0.4444444444444444,
              "#bd3786"
             ],
             [
              0.5555555555555556,
              "#d8576b"
             ],
             [
              0.6666666666666666,
              "#ed7953"
             ],
             [
              0.7777777777777778,
              "#fb9f3a"
             ],
             [
              0.8888888888888888,
              "#fdca26"
             ],
             [
              1,
              "#f0f921"
             ]
            ],
            "type": "contour"
           }
          ],
          "contourcarpet": [
           {
            "colorbar": {
             "outlinewidth": 0,
             "ticks": ""
            },
            "type": "contourcarpet"
           }
          ],
          "heatmap": [
           {
            "colorbar": {
             "outlinewidth": 0,
             "ticks": ""
            },
            "colorscale": [
             [
              0,
              "#0d0887"
             ],
             [
              0.1111111111111111,
              "#46039f"
             ],
             [
              0.2222222222222222,
              "#7201a8"
             ],
             [
              0.3333333333333333,
              "#9c179e"
             ],
             [
              0.4444444444444444,
              "#bd3786"
             ],
             [
              0.5555555555555556,
              "#d8576b"
             ],
             [
              0.6666666666666666,
              "#ed7953"
             ],
             [
              0.7777777777777778,
              "#fb9f3a"
             ],
             [
              0.8888888888888888,
              "#fdca26"
             ],
             [
              1,
              "#f0f921"
             ]
            ],
            "type": "heatmap"
           }
          ],
          "heatmapgl": [
           {
            "colorbar": {
             "outlinewidth": 0,
             "ticks": ""
            },
            "colorscale": [
             [
              0,
              "#0d0887"
             ],
             [
              0.1111111111111111,
              "#46039f"
             ],
             [
              0.2222222222222222,
              "#7201a8"
             ],
             [
              0.3333333333333333,
              "#9c179e"
             ],
             [
              0.4444444444444444,
              "#bd3786"
             ],
             [
              0.5555555555555556,
              "#d8576b"
             ],
             [
              0.6666666666666666,
              "#ed7953"
             ],
             [
              0.7777777777777778,
              "#fb9f3a"
             ],
             [
              0.8888888888888888,
              "#fdca26"
             ],
             [
              1,
              "#f0f921"
             ]
            ],
            "type": "heatmapgl"
           }
          ],
          "histogram": [
           {
            "marker": {
             "colorbar": {
              "outlinewidth": 0,
              "ticks": ""
             }
            },
            "type": "histogram"
           }
          ],
          "histogram2d": [
           {
            "colorbar": {
             "outlinewidth": 0,
             "ticks": ""
            },
            "colorscale": [
             [
              0,
              "#0d0887"
             ],
             [
              0.1111111111111111,
              "#46039f"
             ],
             [
              0.2222222222222222,
              "#7201a8"
             ],
             [
              0.3333333333333333,
              "#9c179e"
             ],
             [
              0.4444444444444444,
              "#bd3786"
             ],
             [
              0.5555555555555556,
              "#d8576b"
             ],
             [
              0.6666666666666666,
              "#ed7953"
             ],
             [
              0.7777777777777778,
              "#fb9f3a"
             ],
             [
              0.8888888888888888,
              "#fdca26"
             ],
             [
              1,
              "#f0f921"
             ]
            ],
            "type": "histogram2d"
           }
          ],
          "histogram2dcontour": [
           {
            "colorbar": {
             "outlinewidth": 0,
             "ticks": ""
            },
            "colorscale": [
             [
              0,
              "#0d0887"
             ],
             [
              0.1111111111111111,
              "#46039f"
             ],
             [
              0.2222222222222222,
              "#7201a8"
             ],
             [
              0.3333333333333333,
              "#9c179e"
             ],
             [
              0.4444444444444444,
              "#bd3786"
             ],
             [
              0.5555555555555556,
              "#d8576b"
             ],
             [
              0.6666666666666666,
              "#ed7953"
             ],
             [
              0.7777777777777778,
              "#fb9f3a"
             ],
             [
              0.8888888888888888,
              "#fdca26"
             ],
             [
              1,
              "#f0f921"
             ]
            ],
            "type": "histogram2dcontour"
           }
          ],
          "mesh3d": [
           {
            "colorbar": {
             "outlinewidth": 0,
             "ticks": ""
            },
            "type": "mesh3d"
           }
          ],
          "parcoords": [
           {
            "line": {
             "colorbar": {
              "outlinewidth": 0,
              "ticks": ""
             }
            },
            "type": "parcoords"
           }
          ],
          "pie": [
           {
            "automargin": true,
            "type": "pie"
           }
          ],
          "scatter": [
           {
            "marker": {
             "colorbar": {
              "outlinewidth": 0,
              "ticks": ""
             }
            },
            "type": "scatter"
           }
          ],
          "scatter3d": [
           {
            "line": {
             "colorbar": {
              "outlinewidth": 0,
              "ticks": ""
             }
            },
            "marker": {
             "colorbar": {
              "outlinewidth": 0,
              "ticks": ""
             }
            },
            "type": "scatter3d"
           }
          ],
          "scattercarpet": [
           {
            "marker": {
             "colorbar": {
              "outlinewidth": 0,
              "ticks": ""
             }
            },
            "type": "scattercarpet"
           }
          ],
          "scattergeo": [
           {
            "marker": {
             "colorbar": {
              "outlinewidth": 0,
              "ticks": ""
             }
            },
            "type": "scattergeo"
           }
          ],
          "scattergl": [
           {
            "marker": {
             "colorbar": {
              "outlinewidth": 0,
              "ticks": ""
             }
            },
            "type": "scattergl"
           }
          ],
          "scattermapbox": [
           {
            "marker": {
             "colorbar": {
              "outlinewidth": 0,
              "ticks": ""
             }
            },
            "type": "scattermapbox"
           }
          ],
          "scatterpolar": [
           {
            "marker": {
             "colorbar": {
              "outlinewidth": 0,
              "ticks": ""
             }
            },
            "type": "scatterpolar"
           }
          ],
          "scatterpolargl": [
           {
            "marker": {
             "colorbar": {
              "outlinewidth": 0,
              "ticks": ""
             }
            },
            "type": "scatterpolargl"
           }
          ],
          "scatterternary": [
           {
            "marker": {
             "colorbar": {
              "outlinewidth": 0,
              "ticks": ""
             }
            },
            "type": "scatterternary"
           }
          ],
          "surface": [
           {
            "colorbar": {
             "outlinewidth": 0,
             "ticks": ""
            },
            "colorscale": [
             [
              0,
              "#0d0887"
             ],
             [
              0.1111111111111111,
              "#46039f"
             ],
             [
              0.2222222222222222,
              "#7201a8"
             ],
             [
              0.3333333333333333,
              "#9c179e"
             ],
             [
              0.4444444444444444,
              "#bd3786"
             ],
             [
              0.5555555555555556,
              "#d8576b"
             ],
             [
              0.6666666666666666,
              "#ed7953"
             ],
             [
              0.7777777777777778,
              "#fb9f3a"
             ],
             [
              0.8888888888888888,
              "#fdca26"
             ],
             [
              1,
              "#f0f921"
             ]
            ],
            "type": "surface"
           }
          ],
          "table": [
           {
            "cells": {
             "fill": {
              "color": "#EBF0F8"
             },
             "line": {
              "color": "white"
             }
            },
            "header": {
             "fill": {
              "color": "#C8D4E3"
             },
             "line": {
              "color": "white"
             }
            },
            "type": "table"
           }
          ]
         },
         "layout": {
          "annotationdefaults": {
           "arrowcolor": "#2a3f5f",
           "arrowhead": 0,
           "arrowwidth": 1
          },
          "autotypenumbers": "strict",
          "coloraxis": {
           "colorbar": {
            "outlinewidth": 0,
            "ticks": ""
           }
          },
          "colorscale": {
           "diverging": [
            [
             0,
             "#8e0152"
            ],
            [
             0.1,
             "#c51b7d"
            ],
            [
             0.2,
             "#de77ae"
            ],
            [
             0.3,
             "#f1b6da"
            ],
            [
             0.4,
             "#fde0ef"
            ],
            [
             0.5,
             "#f7f7f7"
            ],
            [
             0.6,
             "#e6f5d0"
            ],
            [
             0.7,
             "#b8e186"
            ],
            [
             0.8,
             "#7fbc41"
            ],
            [
             0.9,
             "#4d9221"
            ],
            [
             1,
             "#276419"
            ]
           ],
           "sequential": [
            [
             0,
             "#0d0887"
            ],
            [
             0.1111111111111111,
             "#46039f"
            ],
            [
             0.2222222222222222,
             "#7201a8"
            ],
            [
             0.3333333333333333,
             "#9c179e"
            ],
            [
             0.4444444444444444,
             "#bd3786"
            ],
            [
             0.5555555555555556,
             "#d8576b"
            ],
            [
             0.6666666666666666,
             "#ed7953"
            ],
            [
             0.7777777777777778,
             "#fb9f3a"
            ],
            [
             0.8888888888888888,
             "#fdca26"
            ],
            [
             1,
             "#f0f921"
            ]
           ],
           "sequentialminus": [
            [
             0,
             "#0d0887"
            ],
            [
             0.1111111111111111,
             "#46039f"
            ],
            [
             0.2222222222222222,
             "#7201a8"
            ],
            [
             0.3333333333333333,
             "#9c179e"
            ],
            [
             0.4444444444444444,
             "#bd3786"
            ],
            [
             0.5555555555555556,
             "#d8576b"
            ],
            [
             0.6666666666666666,
             "#ed7953"
            ],
            [
             0.7777777777777778,
             "#fb9f3a"
            ],
            [
             0.8888888888888888,
             "#fdca26"
            ],
            [
             1,
             "#f0f921"
            ]
           ]
          },
          "colorway": [
           "#636efa",
           "#EF553B",
           "#00cc96",
           "#ab63fa",
           "#FFA15A",
           "#19d3f3",
           "#FF6692",
           "#B6E880",
           "#FF97FF",
           "#FECB52"
          ],
          "font": {
           "color": "#2a3f5f"
          },
          "geo": {
           "bgcolor": "white",
           "lakecolor": "white",
           "landcolor": "#E5ECF6",
           "showlakes": true,
           "showland": true,
           "subunitcolor": "white"
          },
          "hoverlabel": {
           "align": "left"
          },
          "hovermode": "closest",
          "mapbox": {
           "style": "light"
          },
          "paper_bgcolor": "white",
          "plot_bgcolor": "#E5ECF6",
          "polar": {
           "angularaxis": {
            "gridcolor": "white",
            "linecolor": "white",
            "ticks": ""
           },
           "bgcolor": "#E5ECF6",
           "radialaxis": {
            "gridcolor": "white",
            "linecolor": "white",
            "ticks": ""
           }
          },
          "scene": {
           "xaxis": {
            "backgroundcolor": "#E5ECF6",
            "gridcolor": "white",
            "gridwidth": 2,
            "linecolor": "white",
            "showbackground": true,
            "ticks": "",
            "zerolinecolor": "white"
           },
           "yaxis": {
            "backgroundcolor": "#E5ECF6",
            "gridcolor": "white",
            "gridwidth": 2,
            "linecolor": "white",
            "showbackground": true,
            "ticks": "",
            "zerolinecolor": "white"
           },
           "zaxis": {
            "backgroundcolor": "#E5ECF6",
            "gridcolor": "white",
            "gridwidth": 2,
            "linecolor": "white",
            "showbackground": true,
            "ticks": "",
            "zerolinecolor": "white"
           }
          },
          "shapedefaults": {
           "line": {
            "color": "#2a3f5f"
           }
          },
          "ternary": {
           "aaxis": {
            "gridcolor": "white",
            "linecolor": "white",
            "ticks": ""
           },
           "baxis": {
            "gridcolor": "white",
            "linecolor": "white",
            "ticks": ""
           },
           "bgcolor": "#E5ECF6",
           "caxis": {
            "gridcolor": "white",
            "linecolor": "white",
            "ticks": ""
           }
          },
          "title": {
           "x": 0.05
          },
          "xaxis": {
           "automargin": true,
           "gridcolor": "white",
           "linecolor": "white",
           "ticks": "",
           "title": {
            "standoff": 15
           },
           "zerolinecolor": "white",
           "zerolinewidth": 2
          },
          "yaxis": {
           "automargin": true,
           "gridcolor": "white",
           "linecolor": "white",
           "ticks": "",
           "title": {
            "standoff": 15
           },
           "zerolinecolor": "white",
           "zerolinewidth": 2
          }
         }
        },
        "title": {
         "text": "Target4 Top 50 feature importance"
        },
        "width": 1250,
        "xaxis": {
         "anchor": "y",
         "domain": [
          0,
          1
         ],
         "title": {
          "text": "feature_importance"
         }
        },
        "yaxis": {
         "anchor": "x",
         "categoryarray": [
          "TeamBoxScoresCount_atBats",
          "GamesCount_awayLosses",
          "GamesCount_homeWins",
          "TeamBoxScoresCount_strikeOuts",
          "median",
          "quantile75",
          "TeamBoxScoresCount_sacBuntsPitching",
          "PlayerBoxScoresCount_totalBases",
          "PlayerBoxScoresCount_plateAppearances",
          "TeamBoxScoresCount_strikeOutsPitching",
          "GamesCount_awayWins",
          "TeamBoxScoresCount_leftOnBase",
          "target1_quantile25",
          "GamesCount_homeLosses",
          "TeamBoxScoresCount_hitsPitching",
          "TeamBoxScoresCount_inningsPitched",
          "TeamBoxScoresCount_hits",
          "TeamBoxScoresCount_totalBases",
          "min",
          "target2_min",
          "target1_median",
          "Players_LE_birthCountry",
          "max",
          "target1_max",
          "target3_std",
          "target3_max",
          "target1_std",
          "target3_quantile75",
          "target3_median",
          "mean",
          "target2_max",
          "target1_quantile75",
          "target4_max",
          "Players_LE_primaryPositionCode",
          "target3_mean",
          "target4_std",
          "std",
          "target2_std",
          "Players_LE_playerid",
          "target1_mean",
          "target2_quantile25",
          "target2_mean",
          "target2_median",
          "Rosters_LE_status",
          "target2_quantile75",
          "target4_mean",
          "target4_quantile25",
          "Rosters_LE_teamId",
          "target4_quantile75",
          "target4_median"
         ],
         "categoryorder": "array",
         "domain": [
          0,
          1
         ],
         "showgrid": true,
         "title": {
          "text": "feature"
         }
        }
       }
      }
     },
     "metadata": {}
    }
   ],
   "metadata": {}
  },
  {
   "cell_type": "markdown",
   "source": [
    "## Inference"
   ],
   "metadata": {}
  },
  {
   "cell_type": "code",
   "execution_count": null,
   "source": [
    "def update_dataset(input_df: pd.DataFrame, sample_prediction_df: pd.DataFrame):\n",
    "    '''datasetの更新\n",
    "    '''\n",
    "    # columnがNaNでなければ分岐処理が実行される(pd.isnaとかでも代用可)\n",
    "    # NaN == NaNはFalseになる\n",
    "    ####################\n",
    "    # rosters #\n",
    "    ####################\n",
    "    if input_df[\"rosters\"].iloc[0] == input_df[\"rosters\"].iloc[0]:\n",
    "        test_rosters = pd.read_json(input_df[\"rosters\"].iloc[0])\n",
    "    else:\n",
    "        test_rosters = sample_prediction_df[[\"playerId\"]].copy()\n",
    "        for col in mlb_train_ds.train_rosters.columns:\n",
    "            if col == \"playerId\": continue\n",
    "            test_rosters[col] = np.nan\n",
    "\n",
    "    test_rosters[\"date\"] = input_df.iloc[0][\"date\"]\n",
    "    if input_df.iloc[0][\"date\"] > 20210430:\n",
    "        mlb_train_ds.train_rosters = reduce_mem_usage(pd.concat([mlb_train_ds.train_rosters, test_rosters], axis=0, ignore_index=True))\n",
    "    ####################\n",
    "    # playerBoxScores #\n",
    "    ####################\n",
    "    if input_df[\"playerBoxScores\"].iloc[0] == input_df[\"playerBoxScores\"].iloc[0]:\n",
    "        test_scores = pd.read_json(input_df[\"playerBoxScores\"].iloc[0])\n",
    "    else:\n",
    "        test_scores = sample_prediction_df[[\"playerId\"]].copy()\n",
    "        for col in mlb_train_ds.train_scores.columns:\n",
    "            if col == \"playerId\": continue\n",
    "            test_scores[col] = np.nan\n",
    "    \n",
    "    test_scores[\"date\"] = input_df.iloc[0][\"date\"]\n",
    "    if input_df.iloc[0][\"date\"] > 20210430:\n",
    "        mlb_train_ds.train_scores = reduce_mem_usage(pd.concat([mlb_train_ds.train_scores, test_scores], axis=0, ignore_index=True))\n",
    "    ####################\n",
    "    # teamBoxScores #\n",
    "    ####################\n",
    "    if input_df[\"teamBoxScores\"].iloc[0] == input_df[\"teamBoxScores\"].iloc[0]:\n",
    "        test_teamBoxScores = pd.read_json(input_df[\"teamBoxScores\"].iloc[0])\n",
    "    else:\n",
    "        cols = mlb_train_ds.train_tbs.drop(columns=\"date\", axis=1).columns.tolist()\n",
    "        test_teamBoxScores = pd.DataFrame(columns=cols)\n",
    "        test_teamBoxScores[\"teamId\"] = mlb_train_ds.train_tbs.teamId.unique()\n",
    "\n",
    "    test_teamBoxScores[\"date\"] = input_df.iloc[0][\"date\"]\n",
    "    if input_df.iloc[0][\"date\"] > 20210430:\n",
    "        mlb_train_ds.train_tbs = reduce_mem_usage(pd.concat([mlb_train_ds.train_tbs, test_teamBoxScores], axis=0, ignore_index=True))\n",
    "    ####################\n",
    "    # games #\n",
    "    ####################\n",
    "    if input_df[\"games\"].iloc[0] == input_df[\"games\"].iloc[0]:\n",
    "        test_games = pd.read_json(input_df[\"games\"].iloc[0])\n",
    "    else:\n",
    "        cols = mlb_train_ds.train_games.drop(columns=\"date\", axis=1).columns.tolist()\n",
    "        test_games = pd.DataFrame(columns=cols)\n",
    "\n",
    "    test_games[\"date\"] = input_df.iloc[0][\"date\"]\n",
    "    if input_df.iloc[0][\"date\"] > 20210430:\n",
    "        mlb_train_ds.train_games = reduce_mem_usage(pd.concat([mlb_train_ds.train_games, test_games], axis=0, ignore_index=True))"
   ],
   "outputs": [],
   "metadata": {}
  },
  {
   "cell_type": "code",
   "execution_count": null,
   "source": [
    "# env = mlb.make_env()\n",
    "# iter_test = env.iter_test()\n",
    "\n",
    "# for (test_df, sample_prediction_df) in iter_test:\n",
    "#     sample_prediction_df = sample_prediction_df.reset_index(drop=True)\n",
    "#     # create dataset\n",
    "#     test_df = test_df.reset_index()\n",
    "#     test_df = test_df.rename(columns={\"index\": \"date\"})\n",
    "#     sample_prediction_df[\"date\"] = test_df.iloc[0][\"date\"]\n",
    "#     sample_prediction_df[\"playerId\"] = sample_prediction_df[\"date_playerId\"].map(lambda x: int(x.split(\"_\")[1]))\n",
    "#     update_dataset(test_df, sample_prediction_df)\n",
    "#     # create features\n",
    "#     test_feat_df = create_test_feature(sample_prediction_df, update_blocks, non_update_blocks)\n",
    "#     X_test = test_feat_df.values\n",
    "#     # prediction\n",
    "#     for target, model in zip(CFG.TARGETS, models):\n",
    "#         pred = np.mean([model_.predict(X_test) for model_ in model], axis=0)\n",
    "#         sample_prediction_df[target] = np.clip(pred, 0, 100)\n",
    "\n",
    "#     sample_prediction_df = sample_prediction_df.drop(columns=[\"playerId\", \"date\"], axis=1)\n",
    "\n",
    "#     env.predict(sample_prediction_df)"
   ],
   "outputs": [],
   "metadata": {}
  },
  {
   "cell_type": "code",
   "execution_count": null,
   "source": [],
   "outputs": [],
   "metadata": {}
  }
 ],
 "metadata": {
  "orig_nbformat": 4,
  "language_info": {
   "name": "python"
  }
 },
 "nbformat": 4,
 "nbformat_minor": 2
}