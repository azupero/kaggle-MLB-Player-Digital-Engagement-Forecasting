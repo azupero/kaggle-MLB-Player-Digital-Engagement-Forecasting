{
 "cells": [
  {
   "cell_type": "markdown",
   "source": [
    "# Overview\n",
    "- LightGBM"
   ],
   "metadata": {}
  },
  {
   "cell_type": "code",
   "execution_count": 31,
   "source": [
    "import numpy as np\n",
    "import pandas as pd\n",
    "from pathlib import Path\n",
    "from sklearn.metrics import mean_absolute_error\n",
    "from datetime import timedelta\n",
    "from tqdm.notebook import tqdm\n",
    "import lightgbm as lgb\n",
    "from typing import List, Union, Optional\n",
    "import time\n",
    "from contextlib import contextmanager\n",
    "import sys\n",
    "import logging\n",
    "import category_encoders as ce\n",
    "import plotly\n",
    "from plotly import express as px\n",
    "from scipy.stats import norm\n",
    "# import mlb\n",
    "\n",
    "pd.options.display.max_columns = 200"
   ],
   "outputs": [],
   "metadata": {}
  },
  {
   "cell_type": "markdown",
   "source": [
    "## Config"
   ],
   "metadata": {}
  },
  {
   "cell_type": "code",
   "execution_count": 32,
   "source": [
    "class CFG:\n",
    "    ######################\n",
    "    # global #\n",
    "    ######################\n",
    "    INPUT_DIR = \"../input/mlb-player-digital-engagement-forecasting\"\n",
    "    # INPUT_DIR = \"../input/mlb-unnested-dataset\" # for kaggle kernel\n",
    "    OBJECT_ID = [\"playerId\", \"date\"]\n",
    "    TARGETS = [\"target1\", \"target2\", \"target3\", \"target4\"]\n",
    "    ######################\n",
    "    # model #\n",
    "    ######################\n",
    "    LGB_PARAMS = {\n",
    "        \"objective\": \"mae\",\n",
    "        \"boosting_type\": \"gbdt\",\n",
    "        \"learning_rate\": 0.1,\n",
    "        \"max_depth\": 6,\n",
    "        \"num_leaves\": int(2 ** 6 * 0.8),\n",
    "        \"lambda_l1\": 0.1,\n",
    "        \"lambda_l2\": 0.1,\n",
    "        \"bagging_fraction\": 0.9,\n",
    "        \"bagging_freq\": 3,\n",
    "        \"feature_fraction\": 0.9,\n",
    "        \"min_data_in_leaf\": 20,\n",
    "        \"num_threads\": 8,\n",
    "        \"verbosity\": -1,\n",
    "        \"num_iterations\": 10000,\n",
    "        \"early_stopping_round\": 100,\n",
    "    }\n",
    "    SEEDS = [2434, 98]\n",
    "    MODEL_PATH = \"../output/nb016\"\n",
    "    # MODEL_PATH = \"../input/mlb-nb016-lgb-weights\" # for kaggle kernel"
   ],
   "outputs": [],
   "metadata": {}
  },
  {
   "cell_type": "markdown",
   "source": [
    "## Utils"
   ],
   "metadata": {}
  },
  {
   "cell_type": "code",
   "execution_count": 33,
   "source": [
    "def get_logger(out_file=None):\n",
    "    logger = logging.getLogger()  # loggerの呼び出し\n",
    "    formatter = logging.Formatter(\"[%(asctime)s] [%(levelname)s] [%(message)s]\")  # ログ出力の際のフォーマットを定義\n",
    "    logger.handlers = []  # ハンドラーを追加するためのリスト\n",
    "    logger.setLevel(logging.INFO)  # ロギングのレベルを設定, 'INFO' : 想定された通りのことが起こったことの確認\n",
    "\n",
    "    handler = logging.StreamHandler(sys.stdout)  # StreamHandler(コンソールに出力するハンドラ)を追加\n",
    "    handler.setFormatter(formatter)\n",
    "    handler.setLevel(logging.INFO)\n",
    "    logger.addHandler(handler)\n",
    "\n",
    "    # ログをファイルとして出力する際のハンドラ(FileHandler)\n",
    "    if out_file is not None:\n",
    "        fh = logging.FileHandler(out_file)\n",
    "        fh.setFormatter(formatter)\n",
    "        fh.setLevel(logging.INFO)\n",
    "        logger.addHandler(fh)\n",
    "\n",
    "    logger.info(\"logger set up\")  # \"logger set up\"を表示\n",
    "    return logger\n",
    "\n",
    "\n",
    "@contextmanager\n",
    "def timer(name: str, logger: Optional[logging.Logger] = None):\n",
    "    t0 = time.time()\n",
    "    msg = f\"<{name}> start\"\n",
    "    if logger is None:\n",
    "        print(msg)\n",
    "    else:\n",
    "        logger.info(msg)\n",
    "    yield\n",
    "\n",
    "    msg = f\"<{name}> done in {time.time() - t0:.2f} s\"\n",
    "    if logger is None:\n",
    "        print(msg)\n",
    "    else:\n",
    "        logger.info(msg)\n",
    "\n",
    "\n",
    "def reduce_mem_usage(df, verbose=True):\n",
    "    numerics = ['int16', 'int32', 'int64', 'float16', 'float32', 'float64']\n",
    "    start_mem = df.memory_usage().sum() / 1024**2\n",
    "    for col in df.columns:\n",
    "        col_type = df[col].dtypes\n",
    "        if col_type in numerics:\n",
    "            c_min = df[col].min()\n",
    "            c_max = df[col].max()\n",
    "            if str(col_type)[:3] == 'int':\n",
    "                if c_min > np.iinfo(np.int8).min and c_max < np.iinfo(np.int8).max:\n",
    "                    df[col] = df[col].astype(np.int16)\n",
    "                elif c_min > np.iinfo(np.int16).min and c_max < np.iinfo(np.int16).max:\n",
    "                    df[col] = df[col].astype(np.int32)\n",
    "                elif c_min > np.iinfo(np.int32).min and c_max < np.iinfo(np.int32).max:\n",
    "                    df[col] = df[col].astype(np.int64)\n",
    "                elif c_min > np.iinfo(np.int64).min and c_max < np.iinfo(np.int64).max:\n",
    "                    df[col] = df[col].astype(np.int64)\n",
    "            else:\n",
    "                if c_min > np.finfo(np.float16).min and c_max < np.finfo(np.float16).max:\n",
    "                    df[col] = df[col].astype(np.float32)\n",
    "                elif c_min > np.finfo(np.float32).min and c_max < np.finfo(np.float32).max:\n",
    "                    df[col] = df[col].astype(np.float64)\n",
    "                else:\n",
    "                    df[col] = df[col].astype(np.float64)\n",
    "    end_mem = df.memory_usage().sum() / 1024**2\n",
    "    if verbose: print('Mem. usage decreased to {:5.2f} Mb ({:.1f}% reduction)'.format(end_mem, 100 * (start_mem - end_mem) / start_mem))\n",
    "    return df"
   ],
   "outputs": [],
   "metadata": {}
  },
  {
   "cell_type": "markdown",
   "source": [
    "## Loading dataset"
   ],
   "metadata": {}
  },
  {
   "cell_type": "code",
   "execution_count": 34,
   "source": [
    "class MLBDataset(object):\n",
    "    def __init__(self, input_path):\n",
    "        self.input_path = Path(input_path)\n",
    "        #################\n",
    "        # train #\n",
    "        #################\n",
    "        self.train_next = pd.read_pickle(self.input_path / \"train_nextDayPlayerEngagement.pickle\")\n",
    "        self.train_rosters = pd.read_pickle(self.input_path / \"train_rosters.pickle\")\n",
    "        self.train_ptf = pd.read_pickle(self.input_path / \"train_playerTwitterFollowers.pickle\")\n",
    "        self.train_scores = pd.read_pickle(self.input_path / \"train_playerBoxScores.pickle\")\n",
    "        self.train_games = pd.read_pickle(self.input_path / \"train_games.pickle\")\n",
    "        self.train_standings = pd.read_pickle(self.input_path / \"train_standings.pickle\")\n",
    "        self.train_tbs = pd.read_pickle(self.input_path / \"train_teamBoxScores.pickle\")\n",
    "        self.train_ttf = pd.read_pickle(self.input_path / \"train_teamTwitterFollowers.pickle\")\n",
    "        self.train_trans = pd.read_pickle(self.input_path / \"train_transactions.pickle\")\n",
    "        self.train_awards = pd.read_pickle(self.input_path / \"train_awards.pickle\")\n",
    "        self.train_events = pd.read_pickle(self.input_path / \"train_events.pickle\")\n",
    "        #################\n",
    "        # Additional #\n",
    "        #################\n",
    "        self.players = pd.read_pickle(self.input_path / \"players.pickle\")\n",
    "        self.awards = pd.read_pickle(self.input_path / \"awards.pickle\")\n",
    "        self.seasons = pd.read_pickle(self.input_path / \"seasons.pickle\")\n",
    "        self.teams = pd.read_pickle(self.input_path / \"teams.pickle\")\n",
    "        #################\n",
    "        # test #\n",
    "        #################\n",
    "        self.example_test = pd.read_csv(self.input_path / \"example_test.csv\")\n",
    "        self.sample_submission = pd.read_csv(self.input_path / \"example_sample_submission.csv\")\n",
    "\n",
    "        # # only players in test set\n",
    "        # target_playerids = self.players[self.players[\"playerForTestSetAndFuturePreds\"] == True][\"playerId\"].unique()\n",
    "        # self.train_next = self.train_next[self.train_next[\"playerId\"].isin(target_playerids)].reset_index(drop=True)\n",
    "\n",
    "mlb_train_ds = MLBDataset(CFG.INPUT_DIR)"
   ],
   "outputs": [],
   "metadata": {}
  },
  {
   "cell_type": "markdown",
   "source": [
    "## Feature blocks"
   ],
   "metadata": {}
  },
  {
   "cell_type": "code",
   "execution_count": 35,
   "source": [
    "def merge_by_key(left: Union[pd.DataFrame, pd.Series], right: pd.DataFrame, on=CFG.OBJECT_ID) -> pd.DataFrame:\n",
    "    if not isinstance(left, pd.Series):\n",
    "        left = left[on]\n",
    "    return pd.merge(left, right, on=on, how=\"left\").drop(columns=on)\n",
    "\n",
    "\n",
    "class BaseBlock(object):\n",
    "    def fit(self, input_df: pd.DataFrame, y=None) -> pd.DataFrame:\n",
    "        return self.transform(input_df)\n",
    "\n",
    "    def transform(self, input_df: pd.DataFrame) -> pd.DataFrame:\n",
    "        return NotImplementedError()\n",
    "\n",
    "\n",
    "# class LagBlock(BaseBlock):\n",
    "#     def __init__(self, column: str, periods: List[int]):\n",
    "#         self.column = column\n",
    "#         self.periods = periods\n",
    "\n",
    "#     def fit(self, input_df: pd.DataFrame, y=None):\n",
    "#         agg_list = [input_df.groupby([\"playerId\"], as_index=False)[self.column].transform(lambda x: x.shift(periods=period)).add_prefix(f\"{period}_\") for period in self.periods]\n",
    "#         self.agg_df = pd.concat(agg_list, axis=1)\n",
    "\n",
    "#         return self.transform(input_df)\n",
    "\n",
    "#     def transform(self, input_df: pd.DataFrame):\n",
    "#         return self.agg_df.add_prefix(\"Lag_\")\n",
    "\n",
    "\n",
    "def quantile25(x: pd.Series):\n",
    "    return x.quantile(q=0.25)\n",
    "\n",
    "\n",
    "def quantile75(x: pd.Series):\n",
    "    return x.quantile(q=0.75)\n",
    "\n",
    "\n",
    "def prob(x: pd.Series):\n",
    "    x = x.reset_index(drop=True).values.tolist()\n",
    "    mean = np.mean(x)\n",
    "    std = np.std(x)\n",
    "    distribution = norm(mean, std)\n",
    "    min_weight = min(x)\n",
    "    max_weight = max(x)\n",
    "    values = list(np.linspace(min_weight, max_weight))\n",
    "    probabilities = [distribution.pdf(v) for v in values]\n",
    "    max_values = max(probabilities)\n",
    "    max_index = probabilities.index(max_values)\n",
    "\n",
    "    return x[max_index]\n",
    "\n",
    "\n",
    "class TargetAggregateBlock(BaseBlock):\n",
    "    def __init__(self, periods: List[int]):\n",
    "        self.periods = periods\n",
    "        \n",
    "    def fit(self, input_df: pd.DataFrame, y=None):\n",
    "        output_df = pd.DataFrame()\n",
    "        for i in self.periods:\n",
    "            target_df = mlb_train_ds.train_next[(mlb_train_ds.train_next[\"date\"] >= i) & (mlb_train_ds.train_next[\"date\"] < (i + 100))]\n",
    "            dfs = [target_df.groupby([\"playerId\"])[col].agg([\n",
    "                \"mean\", \"std\", \"max\", \"min\", \"median\", quantile25, quantile75, prob\n",
    "                ]).add_prefix(f\"{col}_{str(i)[:-2]}_\") for col in CFG.TARGETS]\n",
    "            tmp_df = pd.concat(dfs, axis=1)\n",
    "            output_df = pd.concat([output_df, tmp_df], axis=1)\n",
    "\n",
    "        self.agg_df = output_df.reset_index()\n",
    "\n",
    "        return self.transform(input_df)\n",
    "\n",
    "    def transform(self, input_df: pd.DataFrame):\n",
    "        return merge_by_key(input_df, self.agg_df, on=\"playerId\")\n",
    "\n",
    "\n",
    "class PlayersLabelEncodingBlock(BaseBlock):\n",
    "    def __init__(self, columns: List[str]):\n",
    "        self.columns = columns + [\"playerId\"]\n",
    "        self.labeled_df = mlb_train_ds.players[self.columns].copy()\n",
    "        self.labeled_df[\"playerid\"] = self.labeled_df[\"playerId\"]\n",
    "        self.columns = self.columns + [\"playerid\"]\n",
    "        self.encoder = None\n",
    "    \n",
    "    def fit(self, input_df: pd.DataFrame, y=None):\n",
    "        self.encoder = ce.OrdinalEncoder(handle_unknown=\"value\", handle_missing=\"values\")\n",
    "        self.encoder.fit(self.labeled_df[self.columns])\n",
    "        self.labeled_df[self.columns] = self.encoder.transform(self.labeled_df[self.columns])\n",
    "\n",
    "        return self.transform(input_df)\n",
    "\n",
    "    def transform(self, input_df: pd.DataFrame):\n",
    "        return merge_by_key(input_df, self.labeled_df, on=\"playerId\").add_prefix(\"Players_LE_\")\n",
    "\n",
    "\n",
    "class RostersLabelEncodingBlock(BaseBlock):\n",
    "    def __init__(self, columns: List[str]):\n",
    "        self.columns = columns\n",
    "        self.encoder = None\n",
    "\n",
    "    def fit(self, input_df: pd.DataFrame, y=None):\n",
    "        rosters_df = mlb_train_ds.train_rosters[self.columns]\n",
    "        self.encoder = ce.OrdinalEncoder(handle_unknown=\"value\", handle_missing=\"value\")\n",
    "        self.encoder.fit(rosters_df[self.columns])\n",
    "\n",
    "        return self.transform(input_df)\n",
    "\n",
    "    def transform(self, input_df: pd.DataFrame):\n",
    "        self.labeled_df = mlb_train_ds.train_rosters[CFG.OBJECT_ID + self.columns].copy()\n",
    "        self.labeled_df[self.columns] = self.encoder.transform(self.labeled_df[self.columns])\n",
    "\n",
    "        return merge_by_key(input_df, self.labeled_df).add_prefix(\"Rosters_LE_\")\n",
    "\n",
    "    \n",
    "# class PlayerBoxScoresCountBlock(BaseBlock):\n",
    "#     def __init__(self, columns: List[str]):\n",
    "#         self.columns = columns\n",
    "\n",
    "#     def transform(self, input_df: pd.DataFrame):\n",
    "#         self.agg_df = mlb_train_ds.train_scores.groupby(CFG.OBJECT_ID)[self.columns].sum().reset_index()\n",
    "        \n",
    "#         return merge_by_key(input_df, self.agg_df).add_prefix(\"PlayerBoxScoresCount_\")\n",
    "\n",
    "\n",
    "# class TeamBoxScoresCountBlock(BaseBlock):\n",
    "#     def __init__(self, columns: List[str]):\n",
    "#         self.columns = columns\n",
    "\n",
    "#     def transform(self, input_df: pd.DataFrame):\n",
    "#         input_df = input_df.merge(mlb_train_ds.train_rosters[[\"date\", \"playerId\", \"teamId\"]], on=[\"playerId\", \"date\"], how=\"left\")\n",
    "#         self.agg_df = mlb_train_ds.train_tbs.groupby([\"teamId\", \"date\"])[self.columns].sum().reset_index()\n",
    "\n",
    "#         return merge_by_key(input_df, self.agg_df, on=[\"teamId\", \"date\"]).add_prefix(\"TeamBoxScoresCount_\")\n",
    "\n",
    "\n",
    "class GamesCountBlock(BaseBlock):\n",
    "    def __init__(self, columns: List[str]):\n",
    "        self.columns = columns\n",
    "\n",
    "    def transform(self, input_df: pd.DataFrame):\n",
    "        games_df = mlb_train_ds.train_scores[[\"date\", \"playerId\", \"gamePk\"]].merge(mlb_train_ds.train_games, on=[\"date\", \"gamePk\"], how=\"left\")\n",
    "        self.agg_df = games_df.groupby([\"date\", \"playerId\"])[self.columns].sum().reset_index()\n",
    "\n",
    "        return merge_by_key(input_df, self.agg_df).add_prefix(\"GamesCount_\")\n",
    "\n",
    "\n",
    "class StandingsMetaBlock(BaseBlock):\n",
    "    def __init__(self, columns: List[str]):\n",
    "        self.columns = columns\n",
    "\n",
    "    def transform(self, input_df: pd.DataFrame):\n",
    "        self.standings_df = mlb_train_ds.train_rosters[[\"date\", \"playerId\", \"teamId\"]].merge(mlb_train_ds.train_standings, on=[\"date\", \"teamId\"], how=\"left\")\n",
    "\n",
    "        return merge_by_key(input_df, self.standings_df[self.columns]).add_prefix(\"StandingsMeta_\")\n",
    "\n",
    "\n",
    "class PlayerTwitterFollowerAggregateBlock(BaseBlock):\n",
    "    def fit(self, input_df: pd.DataFrame, y=None):\n",
    "        self.agg_df = mlb_train_ds.train_ptf.groupby([\"playerId\"])[\"numberOfFollowers\"].agg([\n",
    "            \"mean\", \"std\", \"max\", \"min\", \"median\", quantile25, quantile75])\n",
    "\n",
    "        return self.transform(input_df)\n",
    "\n",
    "    def transform(self, input_df: pd.DataFrame):\n",
    "        return merge_by_key(input_df, self.agg_df, on=\"playerId\").add_prefix(\"PlayerTwitterFollowerAggregate_\")\n",
    "\n",
    "\n",
    "class PlayerStatsBlock(BaseBlock):\n",
    "    def transform(self, input_df: pd.DataFrame):\n",
    "        playerBoxScores = mlb_train_ds.train_scores.copy()\n",
    "        playerBoxScores[\"year\"] = pd.to_datetime(playerBoxScores[\"gameDate\"]).dt.year\n",
    "\n",
    "        self.agg_df = playerBoxScores.groupby([\"year\", \"playerId\", \"date\"], as_index=False).agg(\n",
    "            gamePk = (\"gamePk\", \"nunique\"),\n",
    "            home = (\"home\", np.sum),\n",
    "            # teamId = (\"teamId\", np.sum),\n",
    "            positionCode = (\"positionCode\", np.sum),\n",
    "            battingOrder = (\"battingOrder\", np.sum),\n",
    "            # 打撃編\n",
    "            gamesPlayedBatting = (\"gamesPlayedBatting\", np.sum),\n",
    "            plateAppearances = (\"plateAppearances\", np.sum),\n",
    "            atBats = (\"atBats\", np.sum),\n",
    "            hits = (\"hits\", np.sum),\n",
    "            doubles = (\"doubles\", np.sum),\n",
    "            triples = (\"triples\", np.sum),\n",
    "            homeRuns = (\"homeRuns\", np.sum),\n",
    "            rbi = (\"rbi\", np.sum),\n",
    "            runsScored = (\"runsScored\", np.sum),\n",
    "            totalBases = (\"totalBases\", np.sum),\n",
    "            baseOnBalls = (\"baseOnBalls\", np.sum),\n",
    "            hitByPitch = (\"hitByPitch\", np.sum),\n",
    "            intentionalWalks = (\"intentionalWalks\", np.sum),\n",
    "            groundIntoDoublePlay = (\"groundIntoDoublePlay\", np.sum),\n",
    "            groundIntoTriplePlay = (\"groundIntoTriplePlay\", np.sum),\n",
    "            strikeOuts = (\"strikeOuts\", np.sum),\n",
    "            sacBunts = (\"sacBunts\", np.sum),\n",
    "            sacFlies = (\"sacFlies\", np.sum),\n",
    "            caughtStealing = (\"caughtStealing\", np.sum),\n",
    "            stolenBases = (\"stolenBases\", np.sum),\n",
    "            leftOnBase = (\"leftOnBase\", np.sum),\n",
    "            catchersInterference = (\"catchersInterference\", np.sum),\n",
    "            pickoffs = (\"pickoffs\", np.sum),\n",
    "            flyOuts = (\"flyOuts\", np.sum),\n",
    "            groundOuts = (\"groundOuts\", np.sum),\n",
    "            # 投手編\n",
    "            gamesPlayedPitching = (\"gamesPlayedPitching\", np.sum),\n",
    "            gamesStartedPicthing = (\"gamesStartedPitching\", np.sum),\n",
    "            winsPitching = (\"winsPitching\", np.sum),\n",
    "            lossesPitching = (\"lossesPitching\", np.sum),\n",
    "            completeGamesPitching = (\"completeGamesPitching\", np.sum),\n",
    "            shutoutsPitching = (\"shutoutsPitching\", np.sum),\n",
    "            saves = (\"saves\", np.sum),\n",
    "            saveOpportunities = (\"saveOpportunities\", np.sum),\n",
    "            blownSaves = (\"blownSaves\", np.sum),\n",
    "            holds = (\"holds\", np.sum),\n",
    "            inningsPitched = (\"inningsPitched\", np.sum),\n",
    "            runsPitching = (\"runsPitching\", np.sum),\n",
    "            earnedRuns = (\"earnedRuns\", np.sum),\n",
    "            pitchesThrown = (\"pitchesThrown\", np.sum),\n",
    "            hitsPitching = (\"hitsPitching\", np.sum),\n",
    "            homeRunsPitching = (\"homeRunsPitching\", np.sum),\n",
    "            strikeOutsPitching = (\"strikeOutsPitching\", np.sum),\n",
    "            baseOnBallsPitching = (\"baseOnBallsPitching\", np.sum),\n",
    "            hitByPitchPitching = (\"hitByPitchPitching\", np.sum),\n",
    "            intentionalWalksPitching = (\"intentionalWalksPitching\", np.sum),\n",
    "            balks = (\"balks\", np.sum),\n",
    "            wildPitches = (\"wildPitches\", np.sum),\n",
    "            atBatsPitching = (\"atBatsPitching\", np.sum),\n",
    "            battersFaced = (\"battersFaced\", np.sum),\n",
    "            sacBuntsPitching = (\"sacBuntsPitching\", np.sum),\n",
    "            sacFliesPitching = (\"sacFliesPitching\", np.sum),\n",
    "            inheritedRunners = (\"inheritedRunners\", np.sum),\n",
    "            inheritedRunnersScored = (\"inheritedRunnersScored\", np.sum),\n",
    "            rbiPitching = (\"rbiPitching\", np.sum),\n",
    "            flyOutsPitching = (\"flyOutsPitching\", np.sum),\n",
    "            airOutsPitching = (\"airOutsPitching\", np.sum),\n",
    "            doublesPitching = (\"doublesPitching\", np.sum),\n",
    "            triplesPitching = (\"triplesPitching\", np.sum),\n",
    "            caughtStealingPitching = (\"caughtStealingPitching\", np.sum),\n",
    "            stolenBasesPitching = (\"stolenBasesPitching\", np.sum),\n",
    "            outsPitching = (\"outsPitching\", np.sum),\n",
    "            balls = (\"balls\", np.sum),\n",
    "            strikes = (\"strikes\", np.sum),\n",
    "            hitBatsmen = (\"hitBatsmen\", np.sum),\n",
    "            pickoffsPitching = (\"pickoffsPitching\", np.sum),\n",
    "            catchersInterferencePitching = (\"catchersInterferencePitching\", np.sum),\n",
    "            assists = (\"assists\", np.sum),\n",
    "            putOuts = (\"putOuts\", np.sum),\n",
    "            errors = (\"errors\", np.sum),\n",
    "            chances = (\"chances\", np.sum),\n",
    "            gamesFinishedPitching = (\"gamesFinishedPitching\", np.sum),\n",
    "            groundOutsPitching = (\"groundOutsPitching\", np.sum),\n",
    "            )\n",
    "\n",
    "        self.agg_df[\"qs\"] = ((self.agg_df[\"inningsPitched\"] >= 6) & (self.agg_df[\"runsPitching\"] <= 3)) * self.agg_df[\"gamesStartedPicthing\"]\n",
    "        self.agg_df[\"hqs\"] = ((self.agg_df[\"inningsPitched\"] >= 7) & (self.agg_df[\"runsPitching\"] <= 2)) * self.agg_df[\"gamesStartedPicthing\"]\n",
    "        \n",
    "        # シーズン成績\n",
    "        for col in self.agg_df.drop(columns=[\"year\", \"date\", \"playerId\"], axis=1).columns.tolist():\n",
    "            col_ = col + \"_cumsum\"\n",
    "            self.agg_df[col_] = self.agg_df.groupby([\"year\", \"playerId\"], as_index=False)[col].cumsum()\n",
    "\n",
    "        # 打撃編\n",
    "        self.agg_df[\"battingAverage\"] = self.agg_df[\"hits_cumsum\"] / self.agg_df[\"atBats_cumsum\"] # 打率\n",
    "        self.agg_df[\"sluggingPercentage\"] = self.agg_df[\"totalBases_cumsum\"] / self.agg_df[\"atBats_cumsum\"] # 長打率\n",
    "        self.agg_df[\"onBasePercentage\"] = (self.agg_df[\"hits_cumsum\"] + self.agg_df[\"baseOnBalls_cumsum\"] + self.agg_df[\"hitByPitch_cumsum\"])/(self.agg_df[\"atBats_cumsum\"] + self.agg_df[\"baseOnBalls_cumsum\"] + self.agg_df[\"hitByPitch_cumsum\"] + self.agg_df[\"sacFlies_cumsum\"]) # 出塁率\n",
    "        self.agg_df[\"ops\"] = self.agg_df[\"sluggingPercentage\"] + self.agg_df[\"onBasePercentage\"] # OPS\n",
    "        self.agg_df[\"isop\"] = self.agg_df[\"sluggingPercentage\"] - self.agg_df[\"battingAverage\"] # IsoP\n",
    "        self.agg_df[\"isod\"] = self.agg_df[\"onBasePercentage\"] - self.agg_df[\"battingAverage\"] # IsoD\n",
    "        self.agg_df[\"rc\"] = (self.agg_df[\"hits_cumsum\"] + self.agg_df[\"baseOnBalls_cumsum\"]) * self.agg_df[\"totalBases_cumsum\"] / (self.agg_df[\"atBats_cumsum\"] + self.agg_df[\"baseOnBalls_cumsum\"]) # RC\n",
    "        self.agg_df[\"rc27\"] = self.agg_df[\"rc\"] / (self.agg_df[\"atBats_cumsum\"] - self.agg_df[\"hits_cumsum\"] + self.agg_df[\"caughtStealing_cumsum\"] + self.agg_df[\"sacBunts_cumsum\"] + self.agg_df[\"sacFlies_cumsum\"] + self.agg_df[\"groundIntoDoublePlay_cumsum\"]) * 27 # RC27\n",
    "        self.agg_df[\"rc27\"] = self.agg_df[\"rc27\"].replace({np.inf: 0})\n",
    "        self.agg_df[\"babip\"] = (self.agg_df[\"hits_cumsum\"] - self.agg_df[\"homeRuns_cumsum\"]) / (self.agg_df[\"atBats_cumsum\"] - self.agg_df[\"strikeOuts_cumsum\"] - self.agg_df[\"homeRuns_cumsum\"] + self.agg_df[\"sacFlies_cumsum\"]) # BABIP\n",
    "        self.agg_df[\"bb_k\"] = self.agg_df[\"baseOnBalls_cumsum\"] / self.agg_df[\"strikeOuts_cumsum\"] # BB/K\n",
    "        self.agg_df[\"k%\"] = self.agg_df[\"strikeOuts_cumsum\"] / self.agg_df[\"plateAppearances_cumsum\"] # K%\n",
    "        # 投手編\n",
    "        self.agg_df[\"era\"] = self.agg_df[\"earnedRuns_cumsum\"] * 9 / self.agg_df[\"inningsPitched_cumsum\"] # 防御率\n",
    "        self.agg_df[\"wp\"] = self.agg_df[\"winsPitching_cumsum\"] / (self.agg_df[\"winsPitching_cumsum\"] + self.agg_df[\"lossesPitching_cumsum\"]) # 勝率\n",
    "        self.agg_df[\"k9\"] = self.agg_df[\"strikeOutsPitching_cumsum\"] * 9 / self.agg_df[\"inningsPitched_cumsum\"] # K/9(奪三振率)\n",
    "        self.agg_df[\"hits_allowed_average\"] = self.agg_df[\"hitsPitching_cumsum\"] / self.agg_df[\"atBatsPitching_cumsum\"] # 被打率\n",
    "        self.agg_df[\"hp\"] = self.agg_df[\"holds_cumsum\"] + self.agg_df[\"winsPitching_cumsum\"] # HP\n",
    "        self.agg_df[\"qs%\"] = self.agg_df[\"qs_cumsum\"] / self.agg_df[\"gamesStartedPicthing_cumsum\"] # QS率\n",
    "        self.agg_df[\"hqs%\"] = self.agg_df[\"hqs_cumsum\"] / self.agg_df[\"gamesStartedPicthing_cumsum\"] # HQS率\n",
    "        self.agg_df[\"k%_pitching\"] = self.agg_df[\"strikeOutsPitching_cumsum\"] / self.agg_df[\"battersFaced_cumsum\"] # K%\n",
    "        self.agg_df[\"bb9\"] = self.agg_df[\"baseOnBallsPitching_cumsum\"] * 9 / self.agg_df[\"inningsPitched_cumsum\"] # BB/9\n",
    "        self.agg_df[\"bb%\"] = self.agg_df[\"baseOnBallsPitching_cumsum\"] / self.agg_df[\"battersFaced_cumsum\"] # BB%\n",
    "        self.agg_df[\"k_bb\"] = self.agg_df[\"strikeOutsPitching_cumsum\"] / (self.agg_df[\"baseOnBallsPitching_cumsum\"] + self.agg_df[\"hitByPitchPitching_cumsum\"]) # K/BB\n",
    "        self.agg_df[\"hr9\"] = self.agg_df[\"homeRunsPitching_cumsum\"] * 9 / self.agg_df[\"inningsPitched_cumsum\"] # HR/9\n",
    "        self.agg_df[\"babip_pitching\"] = (self.agg_df[\"hitsPitching_cumsum\"] - self.agg_df[\"homeRunsPitching_cumsum\"]) / (self.agg_df[\"atBatsPitching_cumsum\"] - self.agg_df[\"strikeOutsPitching_cumsum\"] - self.agg_df[\"homeRunsPitching_cumsum\"] + self.agg_df[\"sacFliesPitching_cumsum\"]) # BABIP\n",
    "        self.agg_df[\"whip\"] = (self.agg_df[\"baseOnBallsPitching_cumsum\"] + self.agg_df[\"hitsPitching_cumsum\"]) / self.agg_df[\"inningsPitched_cumsum\"] # WHIP\n",
    "        # ランキング\n",
    "        # 率のものは規定打席以上かどうか、投手かどうかを加えたい\n",
    "        self.agg_df[\"homeRuns_rank\"] = self.agg_df.groupby([\"date\"])[\"homeRuns_cumsum\"].rank(ascending=False, method=\"min\").astype(int)\n",
    "        self.agg_df[\"hits_rank\"] = self.agg_df.groupby([\"date\"])[\"hits_cumsum\"].rank(ascending=False, method=\"min\").astype(int)\n",
    "        self.agg_df[\"rbi_rank\"] = self.agg_df.groupby([\"date\"])[\"rbi_cumsum\"].rank(ascending=False, method=\"min\").astype(int)\n",
    "        self.agg_df[\"doubles_rank\"] = self.agg_df.groupby([\"date\"])[\"doubles_cumsum\"].rank(ascending=False, method=\"min\").astype(int)\n",
    "        self.agg_df[\"triples_rank\"] = self.agg_df.groupby([\"date\"])[\"triples_cumsum\"].rank(ascending=False, method=\"min\").astype(int)\n",
    "        self.agg_df[\"runsScored_rank\"] = self.agg_df.groupby([\"date\"])[\"runsScored_cumsum\"].rank(ascending=False, method=\"min\").astype(int)\n",
    "        self.agg_df[\"totalBases_rank\"] = self.agg_df.groupby([\"date\"])[\"totalBases_cumsum\"].rank(ascending=False, method=\"min\").astype(int)\n",
    "        self.agg_df[\"baseOnBalls_rank\"] = self.agg_df.groupby([\"date\"])[\"baseOnBalls_cumsum\"].rank(ascending=False, method=\"min\").astype(int)\n",
    "        self.agg_df[\"hitByPitch_rank\"] = self.agg_df.groupby([\"date\"])[\"hitByPitch_cumsum\"].rank(ascending=False, method=\"min\").astype(int)\n",
    "        self.agg_df[\"strikeOuts_rank\"] = self.agg_df.groupby([\"date\"])[\"strikeOuts_cumsum\"].rank(ascending=False, method=\"min\").astype(int)\n",
    "        self.agg_df[\"stolenBases_rank\"] = self.agg_df.groupby([\"date\"])[\"stolenBases_cumsum\"].rank(ascending=False, method=\"min\").astype(int)\n",
    "        self.agg_df[\"plateAppearances_rank\"] = self.agg_df.groupby([\"date\"])[\"plateAppearances_cumsum\"].rank(ascending=False, method=\"min\").astype(int)\n",
    "        self.agg_df[\"atBats_rank\"] = self.agg_df.groupby([\"date\"])[\"atBats_cumsum\"].rank(ascending=False, method=\"min\").astype(int)\n",
    "\n",
    "        self.agg_df[\"battingAverage_rank\"] = self.agg_df[self.agg_df[\"gamesPlayedBatting\"] == 1.0].groupby([\"date\"])[\"battingAverage\"].rank(ascending=False, method=\"min\")\n",
    "        self.agg_df[\"ops_rank\"] = self.agg_df.groupby([\"date\"])[\"ops\"].rank(ascending=False, method=\"min\")\n",
    "        self.agg_df[\"isop_rank\"] = self.agg_df.groupby([\"date\"])[\"isop\"].rank(ascending=False, method=\"min\")\n",
    "        self.agg_df[\"isod_rank\"] = self.agg_df.groupby([\"date\"])[\"isod\"].rank(ascending=False, method=\"min\")\n",
    "        self.agg_df[\"rc_rank\"] = self.agg_df.groupby([\"date\"])[\"rc\"].rank(ascending=False, method=\"min\")\n",
    "        self.agg_df[\"rc27_rank\"] = self.agg_df.groupby([\"date\"])[\"rc27\"].rank(ascending=False, method=\"min\")\n",
    "        self.agg_df[\"babip_rank\"] = self.agg_df.groupby([\"date\"])[\"babip\"].rank(ascending=False, method=\"min\")\n",
    "        self.agg_df[\"bb_k_rank\"] = self.agg_df.groupby([\"date\"])[\"bb_k\"].rank(ascending=False, method=\"min\")\n",
    "        self.agg_df[\"k%_rank\"] = self.agg_df.groupby([\"date\"])[\"k%\"].rank(ascending=False, method=\"min\")\n",
    "\n",
    "        self.agg_df[\"winsPitching_rank\"] = self.agg_df.groupby([\"date\"])[\"winsPitching_cumsum\"].rank(ascending=False, method=\"min\").astype(int)\n",
    "        self.agg_df[\"lossesPitching_rank\"] = self.agg_df.groupby([\"date\"])[\"lossesPitching_cumsum\"].rank(ascending=False, method=\"min\").astype(int)\n",
    "        self.agg_df[\"saves_rank\"] = self.agg_df.groupby([\"date\"])[\"saves_cumsum\"].rank(ascending=False, method=\"min\").astype(int)\n",
    "        self.agg_df[\"holds_rank\"] = self.agg_df.groupby([\"date\"])[\"holds_cumsum\"].rank(ascending=False, method=\"min\").astype(int)\n",
    "        self.agg_df[\"completeGamesPitching_rank\"] = self.agg_df.groupby([\"date\"])[\"completeGamesPitching_cumsum\"].rank(ascending=False, method=\"min\").astype(int)\n",
    "        self.agg_df[\"shutoutsPitching_rank\"] = self.agg_df.groupby([\"date\"])[\"shutoutsPitching_cumsum\"].rank(ascending=False, method=\"min\").astype(int)\n",
    "        self.agg_df[\"inningsPitched_rank\"] = self.agg_df.groupby([\"date\"])[\"inningsPitched_cumsum\"].rank(ascending=False, method=\"min\").astype(int)\n",
    "        self.agg_df[\"runsPitching_rank\"] = self.agg_df.groupby([\"date\"])[\"runsPitching_cumsum\"].rank(ascending=False, method=\"min\").astype(int)\n",
    "        self.agg_df[\"earnedRuns_rank\"] = self.agg_df.groupby([\"date\"])[\"earnedRuns_cumsum\"].rank(ascending=False, method=\"min\").astype(int)\n",
    "\n",
    "        self.agg_df[\"era_rank\"] = self.agg_df.groupby([\"date\"])[\"era\"].rank(ascending=False, method=\"min\")\n",
    "        self.agg_df[\"whip_rank\"] = self.agg_df.groupby([\"date\"])[\"whip\"].rank(ascending=False, method=\"min\")\n",
    "        # 規定打席\n",
    "        # teamBoxScores = mlb_train_ds.train_tbs.copy()\n",
    "        # teamBoxScores[\"year\"] = pd.to_datetime(teamBoxScores[\"gameDate\"]).dt.year\n",
    "        # teamBoxScores_agg_df = teamBoxScores.groupby([\"year\", \"teamId\", \"date\"], as_index=False)[\"gamePk\"].nunique()\n",
    "        # teamBoxScores_agg_df[\"gamePk_cumsum\"] = teamBoxScores_agg_df.groupby([\"teamId\", \"year\"])[\"gamePk\"].cumsum()\n",
    "        # self.agg_df = self.agg_df.merge(teamBoxScores_agg_df, on=[\"date\"])\n",
    "        \n",
    "        # self.agg_df = reduce_mem_usage(self.agg_df)\n",
    "\n",
    "\n",
    "        return merge_by_key(input_df, self.agg_df.drop(columns=[\"year\"], axis=1)).add_prefix(\"PlayerStats_\")\n",
    "\n",
    "\n",
    "class AwardsCountBlock(BaseBlock):\n",
    "    def transform(self, input_df: pd.DataFrame):\n",
    "        awards_df = mlb_train_ds.train_awards.copy()\n",
    "        self.agg_df = pd.crosstab([awards_df[\"date\"], awards_df[\"playerId\"]], awards_df[\"awardId\"]).reset_index()\n",
    "\n",
    "        output_df = merge_by_key(input_df, self.agg_df).fillna(0).astype(int)\n",
    "        output_df[\"total_awards\"] = output_df.sum(axis=1)\n",
    "        return output_df.add_prefix(\"AwardsCount_\")"
   ],
   "outputs": [],
   "metadata": {}
  },
  {
   "cell_type": "code",
   "execution_count": 36,
   "source": [
    "def create_train_feature(input_df: pd.DataFrame, y: np.ndarray, update_blocks: list, non_update_blocks: list) -> pd.DataFrame:\n",
    "    feat_df = pd.DataFrame()\n",
    "    blocks = update_blocks + non_update_blocks\n",
    "\n",
    "    for block in blocks:\n",
    "        with timer(name=f\"{str(block) + '_fit'}\", logger=logger):\n",
    "            try:\n",
    "                out_feat_block = block.fit(input_df, y=y)\n",
    "            except Exception as e:\n",
    "                print(f\"Error on {block} fit.\")\n",
    "                raise e from e\n",
    "\n",
    "            assert len(out_feat_block) == len(input_df), block\n",
    "\n",
    "        feat_df = pd.concat([feat_df, out_feat_block], axis=1)\n",
    "\n",
    "    return feat_df\n",
    "\n",
    "\n",
    "def create_test_feature(input_df: pd.DataFrame, update_blocks: list, non_update_blocks: list) -> pd.DataFrame:\n",
    "    is_update = True if len(update_blocks) != 0 else False\n",
    "    update_feat_df = pd.DataFrame()\n",
    "    non_update_feat_df = pd.DataFrame()\n",
    "    \n",
    "    if is_update:\n",
    "        for block in update_blocks:\n",
    "            with timer(name=f\"{str(block) + '_update'}\", logger=logger):\n",
    "                try:\n",
    "                    out_feat_block = block.fit(input_df)\n",
    "                except Exception as e:\n",
    "                    print(f\"Error on {block} transform.\")\n",
    "                    raise e from e\n",
    "\n",
    "            update_feat_df = pd.concat([update_feat_df, out_feat_block], axis=1)\n",
    "        \n",
    "\n",
    "    for block in non_update_blocks:\n",
    "        with timer(name=f\"{str(block) + '_transform'}\", logger=logger):\n",
    "            try:\n",
    "                out_feat_block = block.transform(input_df)\n",
    "            except Exception as e:\n",
    "                print(f\"Error on {block} transform.\")\n",
    "                raise e from e\n",
    "\n",
    "            assert len(out_feat_block) == len(input_df), block\n",
    "\n",
    "        non_update_feat_df = pd.concat([non_update_feat_df, out_feat_block], axis=1)\n",
    "\n",
    "    feat_df = pd.concat([update_feat_df, non_update_feat_df], axis=1) if is_update else non_update_feat_df\n",
    "\n",
    "    return feat_df"
   ],
   "outputs": [],
   "metadata": {}
  },
  {
   "cell_type": "markdown",
   "source": [
    "## CV"
   ],
   "metadata": {}
  },
  {
   "cell_type": "code",
   "execution_count": 37,
   "source": [
    "def get_timeseries_holdout(train_df: pd.DataFrame, valid_start_date: int) -> List[tuple]:\n",
    "    fold = []\n",
    "    train_idx = np.array(train_df[train_df[\"date\"] < valid_start_date].index)\n",
    "    valid_idx = np.array(train_df[train_df[\"date\"] >= valid_start_date].index)\n",
    "    fold.append((train_idx, valid_idx))\n",
    "\n",
    "    return fold"
   ],
   "outputs": [],
   "metadata": {}
  },
  {
   "cell_type": "markdown",
   "source": [
    "## Model"
   ],
   "metadata": {}
  },
  {
   "cell_type": "code",
   "execution_count": 38,
   "source": [
    "class LightGBMTrainer:\n",
    "    def __init__(self, params: dict, seeds: List[int]):\n",
    "        self.params = params\n",
    "        self.seeds = seeds\n",
    "        self.models = []\n",
    "\n",
    "    def fit(self, X_train: np.ndarray, y_train: np.ndarray, cv: List[tuple]):\n",
    "        oof_all = []\n",
    "        for i, seed in enumerate(self.seeds):\n",
    "            self.params[\"seed\"] = seed\n",
    "\n",
    "            for train_idx, valid_idx in cv:\n",
    "                X_train_fold = X_train[train_idx]\n",
    "                X_valid_fold = X_train[valid_idx]\n",
    "\n",
    "                y_train_fold = y_train[train_idx]\n",
    "                y_valid_fold = y_train[valid_idx]\n",
    "\n",
    "                train_set = lgb.Dataset(X_train_fold, y_train_fold)\n",
    "                valid_set = lgb.Dataset(X_valid_fold, y_valid_fold, reference=train_set)\n",
    "\n",
    "                model = lgb.train(\n",
    "                    params=self.params,\n",
    "                    train_set=train_set,\n",
    "                    valid_sets=[train_set, valid_set],\n",
    "                    verbose_eval=100,\n",
    "                )\n",
    "\n",
    "                y_oof = model.predict(X_valid_fold, num_iteration=model.best_iteration)\n",
    "                oof_all.append(y_oof)\n",
    "                self.models.append(model)\n",
    "\n",
    "        oof_all = np.mean(oof_all, axis=0)\n",
    "        oof_score = mean_absolute_error(oof_all, y_valid_fold)\n",
    "\n",
    "        return oof_score, self.models\n",
    "\n",
    "    def predict(self, X_test: np.ndarray):\n",
    "        y_pred = np.mean([model.predict(X_test, num_iteration=model.best_iteration) for model in self.models], axis=0)\n",
    "\n",
    "        return y_pred\n",
    "\n",
    "\n",
    "def run_lgb(X_train, targets, params, seeds, fold):\n",
    "    cv_scores = []\n",
    "    models = []\n",
    "\n",
    "    for i, target in enumerate(targets):\n",
    "        print(f\"Training for Target{i+1}\")\n",
    "        trainer = LightGBMTrainer(params, seeds)\n",
    "        oof_score_tmp, models_tmp = trainer.fit(X_train, target, fold)\n",
    "        cv_scores.append(oof_score_tmp)\n",
    "        models.append(models_tmp)\n",
    "        print(f\"Local Target{i+1} OOF-MAE : {np.mean(oof_score_tmp)}\")\n",
    "        print(\"-\"*50)\n",
    "\n",
    "    print(f\"Local MCMAE : {np.mean(cv_scores)}\")\n",
    "\n",
    "    return models"
   ],
   "outputs": [],
   "metadata": {}
  },
  {
   "cell_type": "markdown",
   "source": [
    "## Training"
   ],
   "metadata": {}
  },
  {
   "cell_type": "code",
   "execution_count": 39,
   "source": [
    "# set-up logger\n",
    "logger = get_logger()\n",
    "\n",
    "# create feature\n",
    "update_blocks = []\n",
    "non_update_blocks = [\n",
    "    TargetAggregateBlock(periods=[\n",
    "        # 20210201,\n",
    "        # 20210301,\n",
    "        20210401,\n",
    "    ]),\n",
    "    RostersLabelEncodingBlock(columns=[\n",
    "        \"teamId\",\n",
    "        \"status\"\n",
    "        ]\n",
    "    ),\n",
    "    PlayersLabelEncodingBlock(columns=[\n",
    "        \"birthCountry\",\n",
    "        \"primaryPositionCode\",\n",
    "    ]),\n",
    "    PlayerStatsBlock(),\n",
    "    # AwardsCountBlock(),\n",
    "    # TeamBoxScoresCountBlock(columns=[\n",
    "    #     # 'date',\n",
    "    #     # 'home',\n",
    "    #     # 'teamId',\n",
    "    #     # 'gamePk',\n",
    "    #     # 'gameDate',\n",
    "    #     # 'gameTimeUTC',\n",
    "    #     'flyOuts',\n",
    "    #     'groundOuts',\n",
    "    #     'runsScored',\n",
    "    #     'doubles',\n",
    "    #     'triples',\n",
    "    #     'homeRuns',\n",
    "    #     'strikeOuts',\n",
    "    #     'baseOnBalls',\n",
    "    #     'intentionalWalks',\n",
    "    #     'hits',\n",
    "    #     'hitByPitch',\n",
    "    #     'atBats',\n",
    "    #     'caughtStealing',\n",
    "    #     'stolenBases',\n",
    "    #     'groundIntoDoublePlay',\n",
    "    #     'groundIntoTriplePlay',\n",
    "    #     'plateAppearances',\n",
    "    #     'totalBases',\n",
    "    #     'rbi',\n",
    "    #     'leftOnBase',\n",
    "    #     'sacBunts',\n",
    "    #     'sacFlies',\n",
    "    #     'catchersInterference',\n",
    "    #     'pickoffs',\n",
    "    #     'airOutsPitching',\n",
    "    #     'groundOutsPitching',\n",
    "    #     'runsPitching',\n",
    "    #     'doublesPitching',\n",
    "    #     'triplesPitching',\n",
    "    #     'homeRunsPitching',\n",
    "    #     'strikeOutsPitching',\n",
    "    #     'baseOnBallsPitching',\n",
    "    #     'intentionalWalksPitching',\n",
    "    #     'hitsPitching',\n",
    "    #     'hitByPitchPitching',\n",
    "    #     'atBatsPitching',\n",
    "    #     'caughtStealingPitching',\n",
    "    #     'stolenBasesPitching',\n",
    "    #     'inningsPitched',\n",
    "    #     'earnedRuns',\n",
    "    #     'battersFaced',\n",
    "    #     'outsPitching',\n",
    "    #     'hitBatsmen',\n",
    "    #     'balks',\n",
    "    #     'wildPitches',\n",
    "    #     'pickoffsPitching',\n",
    "    #     'rbiPitching',\n",
    "    #     'inheritedRunners',\n",
    "    #     'inheritedRunnersScored',\n",
    "    #     'catchersInterferencePitching',\n",
    "    #     'sacBuntsPitching',\n",
    "    #     'sacFliesPitching'\n",
    "    #     ]\n",
    "    # ),\n",
    "    GamesCountBlock(columns=[\n",
    "        # 'date',\n",
    "        # 'gamePk',\n",
    "        # 'gameType',\n",
    "        # 'season',\n",
    "        # 'gameDate',\n",
    "        # 'gameTimeUTC',\n",
    "        # 'resumeDate',\n",
    "        # 'resumedFrom',\n",
    "        # 'codedGameState',\n",
    "        # 'detailedGameState',\n",
    "        'isTie',\n",
    "        'gameNumber',\n",
    "        'doubleHeader',\n",
    "        # 'dayNight',\n",
    "        'scheduledInnings',\n",
    "        'gamesInSeries',\n",
    "        # 'seriesDescription',\n",
    "        'homeId',\n",
    "        # 'homeName',\n",
    "        # 'homeAbbrev',\n",
    "        'homeWins',\n",
    "        'homeLosses',\n",
    "        'homeWinPct',\n",
    "        'homeWinner',\n",
    "        'homeScore',\n",
    "        'awayId',\n",
    "        # 'awayName',\n",
    "        # 'awayAbbrev',\n",
    "        'awayWins',\n",
    "        'awayLosses',\n",
    "        'awayWinPct',\n",
    "        'awayWinner',\n",
    "        'awayScore'\n",
    "        ]\n",
    "    ),\n",
    "    PlayerTwitterFollowerAggregateBlock(),\n",
    "    StandingsMetaBlock(columns=[\n",
    "        'playerId',\n",
    "        'date',\n",
    "        # 'season',\n",
    "        # 'gameDate',\n",
    "        'divisionId',\n",
    "        # 'teamId',\n",
    "        # 'teamName',\n",
    "        # 'streakCode',\n",
    "        'divisionRank',\n",
    "        'leagueRank',\n",
    "        'wildCardRank',\n",
    "        # 'leagueGamesBack',\n",
    "        # 'sportGamesBack',\n",
    "        # 'divisionGamesBack',\n",
    "        'wins',\n",
    "        'losses',\n",
    "        'pct',\n",
    "        'runsAllowed',\n",
    "        'runsScored',\n",
    "        # 'divisionChamp',\n",
    "        # 'divisionLeader',\n",
    "        # 'wildCardLeader',\n",
    "        # 'eliminationNumber',\n",
    "        # 'wildCardEliminationNumber',\n",
    "        'homeWins',\n",
    "        'homeLosses',\n",
    "        'awayWins',\n",
    "        'awayLosses',\n",
    "        'lastTenWins',\n",
    "        'lastTenLosses',\n",
    "        'extraInningWins',\n",
    "        'extraInningLosses',\n",
    "        'oneRunWins',\n",
    "        'oneRunLosses',\n",
    "        'dayWins',\n",
    "        'dayLosses',\n",
    "        'nightWins',\n",
    "        'nightLosses',\n",
    "        'grassWins',\n",
    "        'grassLosses',\n",
    "        'turfWins',\n",
    "        'turfLosses',\n",
    "        'divWins',\n",
    "        'divLosses',\n",
    "        'alWins',\n",
    "        'alLosses',\n",
    "        'nlWins',\n",
    "        'nlLosses',\n",
    "        'xWinLossPct'\n",
    "        ]\n",
    "    ),\n",
    "]\n",
    "\n",
    "y = mlb_train_ds.train_next[\"target1\"].values\n",
    "input_df = mlb_train_ds.train_next[CFG.OBJECT_ID].copy()\n",
    "train_feat_df = create_train_feature(input_df, y, update_blocks, non_update_blocks)\n",
    "X_train = train_feat_df.values\n",
    "targets = [mlb_train_ds.train_next[col].values for col in CFG.TARGETS]\n",
    "\n",
    "# split train/valid\n",
    "fold = get_timeseries_holdout(input_df, valid_start_date=20210401)\n",
    "\n",
    "# training\n",
    "models = run_lgb(X_train, targets, CFG.LGB_PARAMS, CFG.SEEDS, fold)"
   ],
   "outputs": [
    {
     "output_type": "stream",
     "name": "stdout",
     "text": [
      "[2021-07-15 00:54:56,137] [INFO] [logger set up]\n",
      "[2021-07-15 00:54:56,239] [INFO] [<<__main__.TargetAggregateBlock object at 0x10c841460>_fit> start]\n"
     ]
    },
    {
     "output_type": "stream",
     "name": "stderr",
     "text": [
      "/Users/azupero/data-science/kaggle/MLB-Player-Digital-Engagement-Forecasting/.venv/lib/python3.8/site-packages/scipy/stats/_distn_infrastructure.py:1870: RuntimeWarning: invalid value encountered in double_scalars\n",
      "  x = np.asarray((x - loc)/scale, dtype=dtyp)\n"
     ]
    },
    {
     "output_type": "stream",
     "name": "stdout",
     "text": [
      "[2021-07-15 00:55:43,743] [INFO] [<<__main__.TargetAggregateBlock object at 0x10c841460>_fit> done in 47.50 s]\n",
      "[2021-07-15 00:55:43,813] [INFO] [<<__main__.RostersLabelEncodingBlock object at 0x1c456ebe0>_fit> start]\n",
      "[2021-07-15 00:55:45,198] [INFO] [<<__main__.RostersLabelEncodingBlock object at 0x1c456ebe0>_fit> done in 1.38 s]\n",
      "[2021-07-15 00:55:45,443] [INFO] [<<__main__.PlayersLabelEncodingBlock object at 0x1c456e880>_fit> start]\n",
      "[2021-07-15 00:55:45,776] [INFO] [<<__main__.PlayersLabelEncodingBlock object at 0x1c456e880>_fit> done in 0.33 s]\n",
      "[2021-07-15 00:55:46,129] [INFO] [<<__main__.PlayerStatsBlock object at 0x1c456e2e0>_fit> start]\n",
      "[2021-07-15 00:56:02,640] [INFO] [<<__main__.PlayerStatsBlock object at 0x1c456e2e0>_fit> done in 16.51 s]\n",
      "[2021-07-15 00:56:04,931] [INFO] [<<__main__.GamesCountBlock object at 0x1c456e3d0>_fit> start]\n",
      "[2021-07-15 00:56:06,851] [INFO] [<<__main__.GamesCountBlock object at 0x1c456e3d0>_fit> done in 1.92 s]\n",
      "[2021-07-15 00:56:12,339] [INFO] [<<__main__.PlayerTwitterFollowerAggregateBlock object at 0x1c456e430>_fit> start]\n",
      "[2021-07-15 00:56:13,806] [INFO] [<<__main__.PlayerTwitterFollowerAggregateBlock object at 0x1c456e430>_fit> done in 1.47 s]\n",
      "[2021-07-15 00:56:19,826] [INFO] [<<__main__.StandingsMetaBlock object at 0x1c456ea30>_fit> start]\n",
      "[2021-07-15 00:56:25,273] [INFO] [<<__main__.StandingsMetaBlock object at 0x1c456ea30>_fit> done in 5.45 s]\n",
      "Training for Target1\n"
     ]
    },
    {
     "output_type": "stream",
     "name": "stderr",
     "text": [
      "/Users/azupero/data-science/kaggle/MLB-Player-Digital-Engagement-Forecasting/.venv/lib/python3.8/site-packages/lightgbm/engine.py:148: UserWarning: Found `num_iterations` in params. Will use it instead of argument\n",
      "  _log_warning(\"Found `{}` in params. Will use it instead of argument\".format(alias))\n",
      "/Users/azupero/data-science/kaggle/MLB-Player-Digital-Engagement-Forecasting/.venv/lib/python3.8/site-packages/lightgbm/engine.py:153: UserWarning: Found `early_stopping_round` in params. Will use it instead of argument\n",
      "  _log_warning(\"Found `{}` in params. Will use it instead of argument\".format(alias))\n"
     ]
    },
    {
     "output_type": "stream",
     "name": "stdout",
     "text": [
      "Training until validation scores don't improve for 100 rounds\n",
      "[100]\ttraining's l1: 0.514487\tvalid_1's l1: 0.698211\n",
      "[200]\ttraining's l1: 0.512737\tvalid_1's l1: 0.693047\n",
      "[300]\ttraining's l1: 0.512359\tvalid_1's l1: 0.692548\n",
      "Early stopping, best iteration is:\n",
      "[230]\ttraining's l1: 0.512428\tvalid_1's l1: 0.692466\n",
      "Training until validation scores don't improve for 100 rounds\n",
      "[100]\ttraining's l1: 0.513966\tvalid_1's l1: 0.697158\n",
      "[200]\ttraining's l1: 0.512349\tvalid_1's l1: 0.692471\n",
      "[300]\ttraining's l1: 0.51224\tvalid_1's l1: 0.692436\n",
      "Early stopping, best iteration is:\n",
      "[259]\ttraining's l1: 0.512258\tvalid_1's l1: 0.692419\n",
      "Local Target1 OOF-MAE : 0.6919383436086218\n",
      "--------------------------------------------------\n",
      "Training for Target2\n"
     ]
    },
    {
     "output_type": "stream",
     "name": "stderr",
     "text": [
      "/Users/azupero/data-science/kaggle/MLB-Player-Digital-Engagement-Forecasting/.venv/lib/python3.8/site-packages/lightgbm/engine.py:148: UserWarning: Found `num_iterations` in params. Will use it instead of argument\n",
      "  _log_warning(\"Found `{}` in params. Will use it instead of argument\".format(alias))\n",
      "/Users/azupero/data-science/kaggle/MLB-Player-Digital-Engagement-Forecasting/.venv/lib/python3.8/site-packages/lightgbm/engine.py:153: UserWarning: Found `early_stopping_round` in params. Will use it instead of argument\n",
      "  _log_warning(\"Found `{}` in params. Will use it instead of argument\".format(alias))\n"
     ]
    },
    {
     "output_type": "stream",
     "name": "stdout",
     "text": [
      "Training until validation scores don't improve for 100 rounds\n",
      "[100]\ttraining's l1: 1.72356\tvalid_1's l1: 1.41961\n",
      "[200]\ttraining's l1: 1.71575\tvalid_1's l1: 1.42127\n",
      "Early stopping, best iteration is:\n",
      "[134]\ttraining's l1: 1.71993\tvalid_1's l1: 1.4182\n",
      "Training until validation scores don't improve for 100 rounds\n",
      "[100]\ttraining's l1: 1.72482\tvalid_1's l1: 1.42346\n",
      "[200]\ttraining's l1: 1.7179\tvalid_1's l1: 1.42106\n",
      "Early stopping, best iteration is:\n",
      "[176]\ttraining's l1: 1.71859\tvalid_1's l1: 1.42055\n",
      "Local Target2 OOF-MAE : 1.4157834608708433\n",
      "--------------------------------------------------\n",
      "Training for Target3\n"
     ]
    },
    {
     "output_type": "stream",
     "name": "stderr",
     "text": [
      "/Users/azupero/data-science/kaggle/MLB-Player-Digital-Engagement-Forecasting/.venv/lib/python3.8/site-packages/lightgbm/engine.py:148: UserWarning: Found `num_iterations` in params. Will use it instead of argument\n",
      "  _log_warning(\"Found `{}` in params. Will use it instead of argument\".format(alias))\n",
      "/Users/azupero/data-science/kaggle/MLB-Player-Digital-Engagement-Forecasting/.venv/lib/python3.8/site-packages/lightgbm/engine.py:153: UserWarning: Found `early_stopping_round` in params. Will use it instead of argument\n",
      "  _log_warning(\"Found `{}` in params. Will use it instead of argument\".format(alias))\n"
     ]
    },
    {
     "output_type": "stream",
     "name": "stdout",
     "text": [
      "Training until validation scores don't improve for 100 rounds\n",
      "[100]\ttraining's l1: 0.674283\tvalid_1's l1: 0.54867\n",
      "[200]\ttraining's l1: 0.671777\tvalid_1's l1: 0.547466\n",
      "[300]\ttraining's l1: 0.671326\tvalid_1's l1: 0.547322\n",
      "Early stopping, best iteration is:\n",
      "[288]\ttraining's l1: 0.671346\tvalid_1's l1: 0.547288\n",
      "Training until validation scores don't improve for 100 rounds\n",
      "[100]\ttraining's l1: 0.674525\tvalid_1's l1: 0.549341\n",
      "[200]\ttraining's l1: 0.672449\tvalid_1's l1: 0.548185\n",
      "Early stopping, best iteration is:\n",
      "[171]\ttraining's l1: 0.672601\tvalid_1's l1: 0.548092\n",
      "Local Target3 OOF-MAE : 0.5472213937576521\n",
      "--------------------------------------------------\n",
      "Training for Target4\n"
     ]
    },
    {
     "output_type": "stream",
     "name": "stderr",
     "text": [
      "/Users/azupero/data-science/kaggle/MLB-Player-Digital-Engagement-Forecasting/.venv/lib/python3.8/site-packages/lightgbm/engine.py:148: UserWarning: Found `num_iterations` in params. Will use it instead of argument\n",
      "  _log_warning(\"Found `{}` in params. Will use it instead of argument\".format(alias))\n",
      "/Users/azupero/data-science/kaggle/MLB-Player-Digital-Engagement-Forecasting/.venv/lib/python3.8/site-packages/lightgbm/engine.py:153: UserWarning: Found `early_stopping_round` in params. Will use it instead of argument\n",
      "  _log_warning(\"Found `{}` in params. Will use it instead of argument\".format(alias))\n"
     ]
    },
    {
     "output_type": "stream",
     "name": "stdout",
     "text": [
      "Training until validation scores don't improve for 100 rounds\n",
      "[100]\ttraining's l1: 0.801694\tvalid_1's l1: 1.11541\n",
      "[200]\ttraining's l1: 0.796983\tvalid_1's l1: 1.10675\n",
      "[300]\ttraining's l1: 0.796038\tvalid_1's l1: 1.10495\n",
      "Early stopping, best iteration is:\n",
      "[237]\ttraining's l1: 0.796124\tvalid_1's l1: 1.10452\n",
      "Training until validation scores don't improve for 100 rounds\n",
      "[100]\ttraining's l1: 0.800147\tvalid_1's l1: 1.11507\n",
      "[200]\ttraining's l1: 0.798334\tvalid_1's l1: 1.11214\n",
      "Early stopping, best iteration is:\n",
      "[143]\ttraining's l1: 0.798809\tvalid_1's l1: 1.11184\n",
      "Local Target4 OOF-MAE : 1.10678492876852\n",
      "--------------------------------------------------\n",
      "Local MCMAE : 0.9404320317514093\n"
     ]
    }
   ],
   "metadata": {}
  },
  {
   "cell_type": "code",
   "execution_count": 40,
   "source": [
    "def visualize_feature_importance(models, feat_train_df) -> plotly.graph_objects.Figure:\n",
    "    '''LightGBMのfeature importanceを可視化\n",
    "    '''\n",
    "    for target_i in range(len(models)):\n",
    "        feature_importance_df = pd.DataFrame()\n",
    "        for i, model in enumerate(models[target_i]):\n",
    "            _df = pd.DataFrame()\n",
    "            _df['feature_importance'] = model.feature_importance(importance_type=\"gain\")\n",
    "            _df['feature'] = feat_train_df.columns\n",
    "            _df['model_no'] = i + 1\n",
    "            feature_importance_df = pd.concat([feature_importance_df, _df], \n",
    "                                            axis=0, ignore_index=True)\n",
    "\n",
    "        order = feature_importance_df.groupby('feature')\\\n",
    "            .mean()[['feature_importance']]\\\n",
    "            .sort_values('feature_importance', ascending=False).index[:50]\n",
    "        \n",
    "        fig = px.box(\n",
    "            feature_importance_df.query(\"feature in @order\"),\n",
    "            x=\"feature_importance\",\n",
    "            y=\"feature\",\n",
    "            category_orders={\"feature\": order},\n",
    "            width=1250,\n",
    "            height=900,\n",
    "            title=f\"Target{target_i+1} Top 50 feature importance\",\n",
    "        )\n",
    "        fig.update_yaxes(showgrid=True)\n",
    "        fig.show()"
   ],
   "outputs": [],
   "metadata": {}
  },
  {
   "cell_type": "code",
   "execution_count": 41,
   "source": [
    "visualize_feature_importance(models, train_feat_df)"
   ],
   "outputs": [
    {
     "output_type": "display_data",
     "data": {
      "application/vnd.plotly.v1+json": {
       "config": {
        "plotlyServerURL": "https://plot.ly"
       },
       "data": [
        {
         "alignmentgroup": "True",
         "hovertemplate": "feature_importance=%{x}<br>feature=%{y}<extra></extra>",
         "legendgroup": "",
         "marker": {
          "color": "#636efa"
         },
         "name": "",
         "notched": false,
         "offsetgroup": "",
         "orientation": "h",
         "showlegend": false,
         "type": "box",
         "x": [
          4514851.743564606,
          636011.2222175598,
          247270.71073913574,
          413776.5037918091,
          275340.1688480377,
          179974.03336334229,
          2028731.3785057068,
          125671.86295318604,
          583771.1071650982,
          258155.23206329346,
          333047.6839313507,
          356518.6244125366,
          673914.2108078003,
          454719.6964187622,
          275064.6452102661,
          188293.77584075928,
          109579.35192489624,
          45264.190898895264,
          31430.637672424316,
          197138.66841888428,
          18608.026973724365,
          16303.542793273926,
          45196.44443511963,
          56808.23397064209,
          244808.55195999146,
          128970.10327529907,
          66570.21896362305,
          10712758.304519653,
          744419.8926734924,
          1353396.8396949768,
          173012.5500640869,
          247025.2812795639,
          3411631.3991127014,
          13600654.46628952,
          97846.98438644409,
          427927.7082595825,
          4877554.132227898,
          27099.858869552612,
          1072966.5963058472,
          209209.396463871,
          1365269.518409729,
          222984.80306053162,
          438617.10514831543,
          300691.58851623535,
          540117.3536148071,
          9768.52059173584,
          23263.469945907593,
          24666.054265975952,
          12459.983295440674,
          32995.633518218994,
          6396307.133638859,
          829165.9499053955,
          401833.73334503174,
          420641.63610076904,
          304867.1201400757,
          129993.75454711914,
          1331371.4012298584,
          112519.13157081604,
          480801.04907369614,
          923634.1872215271,
          1043199.017124176,
          464919.6421966553,
          450565.67945480347,
          254264.4352684021,
          245069.22327041626,
          124814.76990890503,
          103248.87375497818,
          37459.21954727173,
          38440.164207458496,
          170628.92890167236,
          53346.95750427246,
          23315.926921844482,
          22059.51792907715,
          54441.072357177734,
          190933.77350234985,
          194020.54199886322,
          134042.10401439667,
          9114626.091372728,
          4017823.4757614136,
          1124030.4451446533,
          288573.626745224,
          313600.98138570786,
          12301543.528793335,
          5069887.508146286,
          49791.973556518555,
          539978.2133407593,
          5330016.341335297,
          40564.945457458496,
          306712.58008766174,
          203127.7056465149,
          1341105.0975875854,
          193307.22346496582,
          54509.91255187988,
          290465.422996521,
          135701.62436676025,
          29680.455932617188,
          22386.2488861084,
          26119.11968612671,
          23249.40221977234,
          28965.34938430786
         ],
         "x0": " ",
         "xaxis": "x",
         "y": [
          "target1_202104_mean",
          "target1_202104_std",
          "target1_202104_max",
          "target1_202104_min",
          "target1_202104_median",
          "target1_202104_quantile25",
          "target1_202104_quantile75",
          "target1_202104_prob",
          "target2_202104_mean",
          "target2_202104_std",
          "target2_202104_max",
          "target2_202104_min",
          "target2_202104_median",
          "target2_202104_quantile25",
          "target2_202104_quantile75",
          "target2_202104_prob",
          "target3_202104_mean",
          "target3_202104_std",
          "target3_202104_max",
          "target3_202104_min",
          "target3_202104_median",
          "target3_202104_quantile25",
          "target3_202104_quantile75",
          "target3_202104_prob",
          "target4_202104_mean",
          "target4_202104_std",
          "target4_202104_max",
          "target4_202104_min",
          "target4_202104_median",
          "target4_202104_quantile25",
          "target4_202104_quantile75",
          "target4_202104_prob",
          "Rosters_LE_teamId",
          "Rosters_LE_status",
          "Players_LE_birthCountry",
          "Players_LE_primaryPositionCode",
          "Players_LE_playerid",
          "PlayerStats_rbi",
          "PlayerTwitterFollowerAggregate_mean",
          "PlayerTwitterFollowerAggregate_std",
          "PlayerTwitterFollowerAggregate_max",
          "PlayerTwitterFollowerAggregate_min",
          "PlayerTwitterFollowerAggregate_median",
          "PlayerTwitterFollowerAggregate_quantile25",
          "PlayerTwitterFollowerAggregate_quantile75",
          "StandingsMeta_divisionId",
          "StandingsMeta_runsAllowed",
          "StandingsMeta_runsScored",
          "StandingsMeta_oneRunWins",
          "StandingsMeta_divLosses",
          "target1_202104_mean",
          "target1_202104_std",
          "target1_202104_max",
          "target1_202104_min",
          "target1_202104_median",
          "target1_202104_quantile25",
          "target1_202104_quantile75",
          "target1_202104_prob",
          "target2_202104_mean",
          "target2_202104_std",
          "target2_202104_max",
          "target2_202104_min",
          "target2_202104_median",
          "target2_202104_quantile25",
          "target2_202104_quantile75",
          "target2_202104_prob",
          "target3_202104_mean",
          "target3_202104_std",
          "target3_202104_max",
          "target3_202104_min",
          "target3_202104_median",
          "target3_202104_quantile25",
          "target3_202104_quantile75",
          "target3_202104_prob",
          "target4_202104_mean",
          "target4_202104_std",
          "target4_202104_max",
          "target4_202104_min",
          "target4_202104_median",
          "target4_202104_quantile25",
          "target4_202104_quantile75",
          "target4_202104_prob",
          "Rosters_LE_teamId",
          "Rosters_LE_status",
          "Players_LE_birthCountry",
          "Players_LE_primaryPositionCode",
          "Players_LE_playerid",
          "PlayerStats_rbi",
          "PlayerTwitterFollowerAggregate_mean",
          "PlayerTwitterFollowerAggregate_std",
          "PlayerTwitterFollowerAggregate_max",
          "PlayerTwitterFollowerAggregate_min",
          "PlayerTwitterFollowerAggregate_median",
          "PlayerTwitterFollowerAggregate_quantile25",
          "PlayerTwitterFollowerAggregate_quantile75",
          "StandingsMeta_divisionId",
          "StandingsMeta_runsAllowed",
          "StandingsMeta_runsScored",
          "StandingsMeta_oneRunWins",
          "StandingsMeta_divLosses"
         ],
         "y0": " ",
         "yaxis": "y"
        }
       ],
       "layout": {
        "boxmode": "group",
        "height": 900,
        "legend": {
         "tracegroupgap": 0
        },
        "template": {
         "data": {
          "bar": [
           {
            "error_x": {
             "color": "#2a3f5f"
            },
            "error_y": {
             "color": "#2a3f5f"
            },
            "marker": {
             "line": {
              "color": "#E5ECF6",
              "width": 0.5
             }
            },
            "type": "bar"
           }
          ],
          "barpolar": [
           {
            "marker": {
             "line": {
              "color": "#E5ECF6",
              "width": 0.5
             }
            },
            "type": "barpolar"
           }
          ],
          "carpet": [
           {
            "aaxis": {
             "endlinecolor": "#2a3f5f",
             "gridcolor": "white",
             "linecolor": "white",
             "minorgridcolor": "white",
             "startlinecolor": "#2a3f5f"
            },
            "baxis": {
             "endlinecolor": "#2a3f5f",
             "gridcolor": "white",
             "linecolor": "white",
             "minorgridcolor": "white",
             "startlinecolor": "#2a3f5f"
            },
            "type": "carpet"
           }
          ],
          "choropleth": [
           {
            "colorbar": {
             "outlinewidth": 0,
             "ticks": ""
            },
            "type": "choropleth"
           }
          ],
          "contour": [
           {
            "colorbar": {
             "outlinewidth": 0,
             "ticks": ""
            },
            "colorscale": [
             [
              0,
              "#0d0887"
             ],
             [
              0.1111111111111111,
              "#46039f"
             ],
             [
              0.2222222222222222,
              "#7201a8"
             ],
             [
              0.3333333333333333,
              "#9c179e"
             ],
             [
              0.4444444444444444,
              "#bd3786"
             ],
             [
              0.5555555555555556,
              "#d8576b"
             ],
             [
              0.6666666666666666,
              "#ed7953"
             ],
             [
              0.7777777777777778,
              "#fb9f3a"
             ],
             [
              0.8888888888888888,
              "#fdca26"
             ],
             [
              1,
              "#f0f921"
             ]
            ],
            "type": "contour"
           }
          ],
          "contourcarpet": [
           {
            "colorbar": {
             "outlinewidth": 0,
             "ticks": ""
            },
            "type": "contourcarpet"
           }
          ],
          "heatmap": [
           {
            "colorbar": {
             "outlinewidth": 0,
             "ticks": ""
            },
            "colorscale": [
             [
              0,
              "#0d0887"
             ],
             [
              0.1111111111111111,
              "#46039f"
             ],
             [
              0.2222222222222222,
              "#7201a8"
             ],
             [
              0.3333333333333333,
              "#9c179e"
             ],
             [
              0.4444444444444444,
              "#bd3786"
             ],
             [
              0.5555555555555556,
              "#d8576b"
             ],
             [
              0.6666666666666666,
              "#ed7953"
             ],
             [
              0.7777777777777778,
              "#fb9f3a"
             ],
             [
              0.8888888888888888,
              "#fdca26"
             ],
             [
              1,
              "#f0f921"
             ]
            ],
            "type": "heatmap"
           }
          ],
          "heatmapgl": [
           {
            "colorbar": {
             "outlinewidth": 0,
             "ticks": ""
            },
            "colorscale": [
             [
              0,
              "#0d0887"
             ],
             [
              0.1111111111111111,
              "#46039f"
             ],
             [
              0.2222222222222222,
              "#7201a8"
             ],
             [
              0.3333333333333333,
              "#9c179e"
             ],
             [
              0.4444444444444444,
              "#bd3786"
             ],
             [
              0.5555555555555556,
              "#d8576b"
             ],
             [
              0.6666666666666666,
              "#ed7953"
             ],
             [
              0.7777777777777778,
              "#fb9f3a"
             ],
             [
              0.8888888888888888,
              "#fdca26"
             ],
             [
              1,
              "#f0f921"
             ]
            ],
            "type": "heatmapgl"
           }
          ],
          "histogram": [
           {
            "marker": {
             "colorbar": {
              "outlinewidth": 0,
              "ticks": ""
             }
            },
            "type": "histogram"
           }
          ],
          "histogram2d": [
           {
            "colorbar": {
             "outlinewidth": 0,
             "ticks": ""
            },
            "colorscale": [
             [
              0,
              "#0d0887"
             ],
             [
              0.1111111111111111,
              "#46039f"
             ],
             [
              0.2222222222222222,
              "#7201a8"
             ],
             [
              0.3333333333333333,
              "#9c179e"
             ],
             [
              0.4444444444444444,
              "#bd3786"
             ],
             [
              0.5555555555555556,
              "#d8576b"
             ],
             [
              0.6666666666666666,
              "#ed7953"
             ],
             [
              0.7777777777777778,
              "#fb9f3a"
             ],
             [
              0.8888888888888888,
              "#fdca26"
             ],
             [
              1,
              "#f0f921"
             ]
            ],
            "type": "histogram2d"
           }
          ],
          "histogram2dcontour": [
           {
            "colorbar": {
             "outlinewidth": 0,
             "ticks": ""
            },
            "colorscale": [
             [
              0,
              "#0d0887"
             ],
             [
              0.1111111111111111,
              "#46039f"
             ],
             [
              0.2222222222222222,
              "#7201a8"
             ],
             [
              0.3333333333333333,
              "#9c179e"
             ],
             [
              0.4444444444444444,
              "#bd3786"
             ],
             [
              0.5555555555555556,
              "#d8576b"
             ],
             [
              0.6666666666666666,
              "#ed7953"
             ],
             [
              0.7777777777777778,
              "#fb9f3a"
             ],
             [
              0.8888888888888888,
              "#fdca26"
             ],
             [
              1,
              "#f0f921"
             ]
            ],
            "type": "histogram2dcontour"
           }
          ],
          "mesh3d": [
           {
            "colorbar": {
             "outlinewidth": 0,
             "ticks": ""
            },
            "type": "mesh3d"
           }
          ],
          "parcoords": [
           {
            "line": {
             "colorbar": {
              "outlinewidth": 0,
              "ticks": ""
             }
            },
            "type": "parcoords"
           }
          ],
          "pie": [
           {
            "automargin": true,
            "type": "pie"
           }
          ],
          "scatter": [
           {
            "marker": {
             "colorbar": {
              "outlinewidth": 0,
              "ticks": ""
             }
            },
            "type": "scatter"
           }
          ],
          "scatter3d": [
           {
            "line": {
             "colorbar": {
              "outlinewidth": 0,
              "ticks": ""
             }
            },
            "marker": {
             "colorbar": {
              "outlinewidth": 0,
              "ticks": ""
             }
            },
            "type": "scatter3d"
           }
          ],
          "scattercarpet": [
           {
            "marker": {
             "colorbar": {
              "outlinewidth": 0,
              "ticks": ""
             }
            },
            "type": "scattercarpet"
           }
          ],
          "scattergeo": [
           {
            "marker": {
             "colorbar": {
              "outlinewidth": 0,
              "ticks": ""
             }
            },
            "type": "scattergeo"
           }
          ],
          "scattergl": [
           {
            "marker": {
             "colorbar": {
              "outlinewidth": 0,
              "ticks": ""
             }
            },
            "type": "scattergl"
           }
          ],
          "scattermapbox": [
           {
            "marker": {
             "colorbar": {
              "outlinewidth": 0,
              "ticks": ""
             }
            },
            "type": "scattermapbox"
           }
          ],
          "scatterpolar": [
           {
            "marker": {
             "colorbar": {
              "outlinewidth": 0,
              "ticks": ""
             }
            },
            "type": "scatterpolar"
           }
          ],
          "scatterpolargl": [
           {
            "marker": {
             "colorbar": {
              "outlinewidth": 0,
              "ticks": ""
             }
            },
            "type": "scatterpolargl"
           }
          ],
          "scatterternary": [
           {
            "marker": {
             "colorbar": {
              "outlinewidth": 0,
              "ticks": ""
             }
            },
            "type": "scatterternary"
           }
          ],
          "surface": [
           {
            "colorbar": {
             "outlinewidth": 0,
             "ticks": ""
            },
            "colorscale": [
             [
              0,
              "#0d0887"
             ],
             [
              0.1111111111111111,
              "#46039f"
             ],
             [
              0.2222222222222222,
              "#7201a8"
             ],
             [
              0.3333333333333333,
              "#9c179e"
             ],
             [
              0.4444444444444444,
              "#bd3786"
             ],
             [
              0.5555555555555556,
              "#d8576b"
             ],
             [
              0.6666666666666666,
              "#ed7953"
             ],
             [
              0.7777777777777778,
              "#fb9f3a"
             ],
             [
              0.8888888888888888,
              "#fdca26"
             ],
             [
              1,
              "#f0f921"
             ]
            ],
            "type": "surface"
           }
          ],
          "table": [
           {
            "cells": {
             "fill": {
              "color": "#EBF0F8"
             },
             "line": {
              "color": "white"
             }
            },
            "header": {
             "fill": {
              "color": "#C8D4E3"
             },
             "line": {
              "color": "white"
             }
            },
            "type": "table"
           }
          ]
         },
         "layout": {
          "annotationdefaults": {
           "arrowcolor": "#2a3f5f",
           "arrowhead": 0,
           "arrowwidth": 1
          },
          "autotypenumbers": "strict",
          "coloraxis": {
           "colorbar": {
            "outlinewidth": 0,
            "ticks": ""
           }
          },
          "colorscale": {
           "diverging": [
            [
             0,
             "#8e0152"
            ],
            [
             0.1,
             "#c51b7d"
            ],
            [
             0.2,
             "#de77ae"
            ],
            [
             0.3,
             "#f1b6da"
            ],
            [
             0.4,
             "#fde0ef"
            ],
            [
             0.5,
             "#f7f7f7"
            ],
            [
             0.6,
             "#e6f5d0"
            ],
            [
             0.7,
             "#b8e186"
            ],
            [
             0.8,
             "#7fbc41"
            ],
            [
             0.9,
             "#4d9221"
            ],
            [
             1,
             "#276419"
            ]
           ],
           "sequential": [
            [
             0,
             "#0d0887"
            ],
            [
             0.1111111111111111,
             "#46039f"
            ],
            [
             0.2222222222222222,
             "#7201a8"
            ],
            [
             0.3333333333333333,
             "#9c179e"
            ],
            [
             0.4444444444444444,
             "#bd3786"
            ],
            [
             0.5555555555555556,
             "#d8576b"
            ],
            [
             0.6666666666666666,
             "#ed7953"
            ],
            [
             0.7777777777777778,
             "#fb9f3a"
            ],
            [
             0.8888888888888888,
             "#fdca26"
            ],
            [
             1,
             "#f0f921"
            ]
           ],
           "sequentialminus": [
            [
             0,
             "#0d0887"
            ],
            [
             0.1111111111111111,
             "#46039f"
            ],
            [
             0.2222222222222222,
             "#7201a8"
            ],
            [
             0.3333333333333333,
             "#9c179e"
            ],
            [
             0.4444444444444444,
             "#bd3786"
            ],
            [
             0.5555555555555556,
             "#d8576b"
            ],
            [
             0.6666666666666666,
             "#ed7953"
            ],
            [
             0.7777777777777778,
             "#fb9f3a"
            ],
            [
             0.8888888888888888,
             "#fdca26"
            ],
            [
             1,
             "#f0f921"
            ]
           ]
          },
          "colorway": [
           "#636efa",
           "#EF553B",
           "#00cc96",
           "#ab63fa",
           "#FFA15A",
           "#19d3f3",
           "#FF6692",
           "#B6E880",
           "#FF97FF",
           "#FECB52"
          ],
          "font": {
           "color": "#2a3f5f"
          },
          "geo": {
           "bgcolor": "white",
           "lakecolor": "white",
           "landcolor": "#E5ECF6",
           "showlakes": true,
           "showland": true,
           "subunitcolor": "white"
          },
          "hoverlabel": {
           "align": "left"
          },
          "hovermode": "closest",
          "mapbox": {
           "style": "light"
          },
          "paper_bgcolor": "white",
          "plot_bgcolor": "#E5ECF6",
          "polar": {
           "angularaxis": {
            "gridcolor": "white",
            "linecolor": "white",
            "ticks": ""
           },
           "bgcolor": "#E5ECF6",
           "radialaxis": {
            "gridcolor": "white",
            "linecolor": "white",
            "ticks": ""
           }
          },
          "scene": {
           "xaxis": {
            "backgroundcolor": "#E5ECF6",
            "gridcolor": "white",
            "gridwidth": 2,
            "linecolor": "white",
            "showbackground": true,
            "ticks": "",
            "zerolinecolor": "white"
           },
           "yaxis": {
            "backgroundcolor": "#E5ECF6",
            "gridcolor": "white",
            "gridwidth": 2,
            "linecolor": "white",
            "showbackground": true,
            "ticks": "",
            "zerolinecolor": "white"
           },
           "zaxis": {
            "backgroundcolor": "#E5ECF6",
            "gridcolor": "white",
            "gridwidth": 2,
            "linecolor": "white",
            "showbackground": true,
            "ticks": "",
            "zerolinecolor": "white"
           }
          },
          "shapedefaults": {
           "line": {
            "color": "#2a3f5f"
           }
          },
          "ternary": {
           "aaxis": {
            "gridcolor": "white",
            "linecolor": "white",
            "ticks": ""
           },
           "baxis": {
            "gridcolor": "white",
            "linecolor": "white",
            "ticks": ""
           },
           "bgcolor": "#E5ECF6",
           "caxis": {
            "gridcolor": "white",
            "linecolor": "white",
            "ticks": ""
           }
          },
          "title": {
           "x": 0.05
          },
          "xaxis": {
           "automargin": true,
           "gridcolor": "white",
           "linecolor": "white",
           "ticks": "",
           "title": {
            "standoff": 15
           },
           "zerolinecolor": "white",
           "zerolinewidth": 2
          },
          "yaxis": {
           "automargin": true,
           "gridcolor": "white",
           "linecolor": "white",
           "ticks": "",
           "title": {
            "standoff": 15
           },
           "zerolinecolor": "white",
           "zerolinewidth": 2
          }
         }
        },
        "title": {
         "text": "Target1 Top 50 feature importance"
        },
        "width": 1250,
        "xaxis": {
         "anchor": "y",
         "domain": [
          0,
          1
         ],
         "title": {
          "text": "feature_importance"
         }
        },
        "yaxis": {
         "anchor": "x",
         "categoryarray": [
          "StandingsMeta_oneRunWins",
          "StandingsMeta_divisionId",
          "target3_202104_quantile25",
          "StandingsMeta_runsAllowed",
          "StandingsMeta_runsScored",
          "StandingsMeta_divLosses",
          "target3_202104_quantile75",
          "PlayerStats_rbi",
          "target3_202104_max",
          "target3_202104_median",
          "target3_202104_std",
          "target3_202104_prob",
          "Players_LE_birthCountry",
          "target4_202104_max",
          "target3_202104_mean",
          "target1_202104_prob",
          "target1_202104_quantile25",
          "target2_202104_prob",
          "target4_202104_std",
          "target3_202104_min",
          "PlayerTwitterFollowerAggregate_std",
          "PlayerTwitterFollowerAggregate_min",
          "target4_202104_mean",
          "target4_202104_quantile75",
          "PlayerTwitterFollowerAggregate_median",
          "target2_202104_quantile75",
          "target4_202104_prob",
          "target1_202104_median",
          "PlayerTwitterFollowerAggregate_quantile25",
          "target1_202104_max",
          "PlayerTwitterFollowerAggregate_quantile75",
          "target2_202104_quantile25",
          "target2_202104_min",
          "target1_202104_min",
          "Players_LE_primaryPositionCode",
          "target2_202104_mean",
          "target2_202104_median",
          "target2_202104_std",
          "target2_202104_max",
          "PlayerTwitterFollowerAggregate_mean",
          "target1_202104_std",
          "target4_202104_quantile25",
          "PlayerTwitterFollowerAggregate_max",
          "target1_202104_quantile75",
          "target4_202104_median",
          "Players_LE_playerid",
          "target1_202104_mean",
          "Rosters_LE_teamId",
          "Rosters_LE_status",
          "target4_202104_min"
         ],
         "categoryorder": "array",
         "domain": [
          0,
          1
         ],
         "showgrid": true,
         "title": {
          "text": "feature"
         }
        }
       }
      }
     },
     "metadata": {}
    },
    {
     "output_type": "display_data",
     "data": {
      "application/vnd.plotly.v1+json": {
       "config": {
        "plotlyServerURL": "https://plot.ly"
       },
       "data": [
        {
         "alignmentgroup": "True",
         "hovertemplate": "feature_importance=%{x}<br>feature=%{y}<extra></extra>",
         "legendgroup": "",
         "marker": {
          "color": "#636efa"
         },
         "name": "",
         "notched": false,
         "offsetgroup": "",
         "orientation": "h",
         "showlegend": false,
         "type": "box",
         "x": [
          171706.67874481267,
          29133.072874337435,
          79645.69714355469,
          58463.71306991577,
          15639.062982559204,
          102485.68286323547,
          62289.48976838589,
          62064.70982861519,
          115693.71633464098,
          173987.09945869446,
          203361.15992355347,
          78292.64168548584,
          26455.762104988098,
          53761.31760215759,
          27816.61075592041,
          41837.97534799576,
          27703.023559570312,
          29116.054392814636,
          29014.81186771393,
          28351.463373184204,
          659812.1513309479,
          111145.92922973633,
          185593.23480796814,
          48866.739486694336,
          29067.01121520996,
          1045136.4036468267,
          4896813.980039477,
          45108.96116018295,
          68488.73114871979,
          912088.7686052322,
          29236.73097229004,
          76940.23001670837,
          47419.292011260986,
          64078.114110946655,
          30867.617787361145,
          25195.711669445038,
          20319.22309589386,
          124280.02335834503,
          30569.709732055664,
          128689.62103462219,
          99684.31757211685,
          37617.50259056687,
          73150.64248421788,
          67729.39833918214,
          192927.16705462337,
          36619.80323600769,
          15571.79786491394,
          39954.422147512436,
          63151.805331707,
          146210.41925239563,
          145596.397378793,
          47624.56469414011,
          85927.2021920681,
          84469.62171936035,
          39884.056626707315,
          113530.30883312225,
          69198.1044703722,
          54676.425157547,
          112568.16264533997,
          156722.16612625122,
          244077.72901761532,
          87646.3439912796,
          51205.09696102142,
          46485.76077079773,
          30578.672817230225,
          48624.3058937788,
          43730.23316192627,
          42465.78727340698,
          38776.03224182129,
          24542.01929473877,
          658525.9781360626,
          125208.51588439941,
          141409.54969024658,
          47727.904242515564,
          51107.012283325195,
          967057.4647258818,
          5074976.358541943,
          61042.1241645813,
          92264.6256787777,
          1015086.4967660904,
          32901.64682006836,
          39064.94642448425,
          25635.65075111389,
          82323.60210895538,
          24275.31715297699,
          25256.83160018921,
          27293.804628372192,
          129370.11966705322,
          18250.904983520508,
          59922.79855251312,
          131586.39820420742,
          60194.748885676265,
          110726.65070462227,
          11841.483146876097,
          247801.92220890522,
          45331.57657653093,
          32355.280683517456,
          25981.0209941864,
          65653.36336246133,
          135018.21276378632
         ],
         "x0": " ",
         "xaxis": "x",
         "y": [
          "target1_202104_mean",
          "target1_202104_std",
          "target1_202104_min",
          "target1_202104_median",
          "target1_202104_quantile25",
          "target2_202104_mean",
          "target2_202104_std",
          "target2_202104_max",
          "target2_202104_min",
          "target2_202104_median",
          "target2_202104_quantile25",
          "target2_202104_quantile75",
          "target2_202104_prob",
          "target3_202104_mean",
          "target3_202104_max",
          "target3_202104_min",
          "target3_202104_prob",
          "target4_202104_mean",
          "target4_202104_std",
          "target4_202104_max",
          "target4_202104_min",
          "target4_202104_median",
          "target4_202104_quantile25",
          "target4_202104_quantile75",
          "target4_202104_prob",
          "Rosters_LE_teamId",
          "Rosters_LE_status",
          "Players_LE_birthCountry",
          "Players_LE_primaryPositionCode",
          "Players_LE_playerid",
          "PlayerStats_inheritedRunners_cumsum",
          "PlayerStats_doubles_rank",
          "PlayerStats_earnedRuns_rank",
          "PlayerTwitterFollowerAggregate_mean",
          "PlayerTwitterFollowerAggregate_std",
          "PlayerTwitterFollowerAggregate_max",
          "PlayerTwitterFollowerAggregate_min",
          "PlayerTwitterFollowerAggregate_quantile25",
          "PlayerTwitterFollowerAggregate_quantile75",
          "StandingsMeta_divisionId",
          "StandingsMeta_leagueRank",
          "StandingsMeta_wins",
          "StandingsMeta_losses",
          "StandingsMeta_pct",
          "StandingsMeta_runsAllowed",
          "StandingsMeta_runsScored",
          "StandingsMeta_oneRunWins",
          "StandingsMeta_dayLosses",
          "StandingsMeta_divWins",
          "StandingsMeta_divLosses",
          "target1_202104_mean",
          "target1_202104_std",
          "target1_202104_min",
          "target1_202104_median",
          "target1_202104_quantile25",
          "target2_202104_mean",
          "target2_202104_std",
          "target2_202104_max",
          "target2_202104_min",
          "target2_202104_median",
          "target2_202104_quantile25",
          "target2_202104_quantile75",
          "target2_202104_prob",
          "target3_202104_mean",
          "target3_202104_max",
          "target3_202104_min",
          "target3_202104_prob",
          "target4_202104_mean",
          "target4_202104_std",
          "target4_202104_max",
          "target4_202104_min",
          "target4_202104_median",
          "target4_202104_quantile25",
          "target4_202104_quantile75",
          "target4_202104_prob",
          "Rosters_LE_teamId",
          "Rosters_LE_status",
          "Players_LE_birthCountry",
          "Players_LE_primaryPositionCode",
          "Players_LE_playerid",
          "PlayerStats_inheritedRunners_cumsum",
          "PlayerStats_doubles_rank",
          "PlayerStats_earnedRuns_rank",
          "PlayerTwitterFollowerAggregate_mean",
          "PlayerTwitterFollowerAggregate_std",
          "PlayerTwitterFollowerAggregate_max",
          "PlayerTwitterFollowerAggregate_min",
          "PlayerTwitterFollowerAggregate_quantile25",
          "PlayerTwitterFollowerAggregate_quantile75",
          "StandingsMeta_divisionId",
          "StandingsMeta_leagueRank",
          "StandingsMeta_wins",
          "StandingsMeta_losses",
          "StandingsMeta_pct",
          "StandingsMeta_runsAllowed",
          "StandingsMeta_runsScored",
          "StandingsMeta_oneRunWins",
          "StandingsMeta_dayLosses",
          "StandingsMeta_divWins",
          "StandingsMeta_divLosses"
         ],
         "y0": " ",
         "yaxis": "y"
        }
       ],
       "layout": {
        "boxmode": "group",
        "height": 900,
        "legend": {
         "tracegroupgap": 0
        },
        "template": {
         "data": {
          "bar": [
           {
            "error_x": {
             "color": "#2a3f5f"
            },
            "error_y": {
             "color": "#2a3f5f"
            },
            "marker": {
             "line": {
              "color": "#E5ECF6",
              "width": 0.5
             }
            },
            "type": "bar"
           }
          ],
          "barpolar": [
           {
            "marker": {
             "line": {
              "color": "#E5ECF6",
              "width": 0.5
             }
            },
            "type": "barpolar"
           }
          ],
          "carpet": [
           {
            "aaxis": {
             "endlinecolor": "#2a3f5f",
             "gridcolor": "white",
             "linecolor": "white",
             "minorgridcolor": "white",
             "startlinecolor": "#2a3f5f"
            },
            "baxis": {
             "endlinecolor": "#2a3f5f",
             "gridcolor": "white",
             "linecolor": "white",
             "minorgridcolor": "white",
             "startlinecolor": "#2a3f5f"
            },
            "type": "carpet"
           }
          ],
          "choropleth": [
           {
            "colorbar": {
             "outlinewidth": 0,
             "ticks": ""
            },
            "type": "choropleth"
           }
          ],
          "contour": [
           {
            "colorbar": {
             "outlinewidth": 0,
             "ticks": ""
            },
            "colorscale": [
             [
              0,
              "#0d0887"
             ],
             [
              0.1111111111111111,
              "#46039f"
             ],
             [
              0.2222222222222222,
              "#7201a8"
             ],
             [
              0.3333333333333333,
              "#9c179e"
             ],
             [
              0.4444444444444444,
              "#bd3786"
             ],
             [
              0.5555555555555556,
              "#d8576b"
             ],
             [
              0.6666666666666666,
              "#ed7953"
             ],
             [
              0.7777777777777778,
              "#fb9f3a"
             ],
             [
              0.8888888888888888,
              "#fdca26"
             ],
             [
              1,
              "#f0f921"
             ]
            ],
            "type": "contour"
           }
          ],
          "contourcarpet": [
           {
            "colorbar": {
             "outlinewidth": 0,
             "ticks": ""
            },
            "type": "contourcarpet"
           }
          ],
          "heatmap": [
           {
            "colorbar": {
             "outlinewidth": 0,
             "ticks": ""
            },
            "colorscale": [
             [
              0,
              "#0d0887"
             ],
             [
              0.1111111111111111,
              "#46039f"
             ],
             [
              0.2222222222222222,
              "#7201a8"
             ],
             [
              0.3333333333333333,
              "#9c179e"
             ],
             [
              0.4444444444444444,
              "#bd3786"
             ],
             [
              0.5555555555555556,
              "#d8576b"
             ],
             [
              0.6666666666666666,
              "#ed7953"
             ],
             [
              0.7777777777777778,
              "#fb9f3a"
             ],
             [
              0.8888888888888888,
              "#fdca26"
             ],
             [
              1,
              "#f0f921"
             ]
            ],
            "type": "heatmap"
           }
          ],
          "heatmapgl": [
           {
            "colorbar": {
             "outlinewidth": 0,
             "ticks": ""
            },
            "colorscale": [
             [
              0,
              "#0d0887"
             ],
             [
              0.1111111111111111,
              "#46039f"
             ],
             [
              0.2222222222222222,
              "#7201a8"
             ],
             [
              0.3333333333333333,
              "#9c179e"
             ],
             [
              0.4444444444444444,
              "#bd3786"
             ],
             [
              0.5555555555555556,
              "#d8576b"
             ],
             [
              0.6666666666666666,
              "#ed7953"
             ],
             [
              0.7777777777777778,
              "#fb9f3a"
             ],
             [
              0.8888888888888888,
              "#fdca26"
             ],
             [
              1,
              "#f0f921"
             ]
            ],
            "type": "heatmapgl"
           }
          ],
          "histogram": [
           {
            "marker": {
             "colorbar": {
              "outlinewidth": 0,
              "ticks": ""
             }
            },
            "type": "histogram"
           }
          ],
          "histogram2d": [
           {
            "colorbar": {
             "outlinewidth": 0,
             "ticks": ""
            },
            "colorscale": [
             [
              0,
              "#0d0887"
             ],
             [
              0.1111111111111111,
              "#46039f"
             ],
             [
              0.2222222222222222,
              "#7201a8"
             ],
             [
              0.3333333333333333,
              "#9c179e"
             ],
             [
              0.4444444444444444,
              "#bd3786"
             ],
             [
              0.5555555555555556,
              "#d8576b"
             ],
             [
              0.6666666666666666,
              "#ed7953"
             ],
             [
              0.7777777777777778,
              "#fb9f3a"
             ],
             [
              0.8888888888888888,
              "#fdca26"
             ],
             [
              1,
              "#f0f921"
             ]
            ],
            "type": "histogram2d"
           }
          ],
          "histogram2dcontour": [
           {
            "colorbar": {
             "outlinewidth": 0,
             "ticks": ""
            },
            "colorscale": [
             [
              0,
              "#0d0887"
             ],
             [
              0.1111111111111111,
              "#46039f"
             ],
             [
              0.2222222222222222,
              "#7201a8"
             ],
             [
              0.3333333333333333,
              "#9c179e"
             ],
             [
              0.4444444444444444,
              "#bd3786"
             ],
             [
              0.5555555555555556,
              "#d8576b"
             ],
             [
              0.6666666666666666,
              "#ed7953"
             ],
             [
              0.7777777777777778,
              "#fb9f3a"
             ],
             [
              0.8888888888888888,
              "#fdca26"
             ],
             [
              1,
              "#f0f921"
             ]
            ],
            "type": "histogram2dcontour"
           }
          ],
          "mesh3d": [
           {
            "colorbar": {
             "outlinewidth": 0,
             "ticks": ""
            },
            "type": "mesh3d"
           }
          ],
          "parcoords": [
           {
            "line": {
             "colorbar": {
              "outlinewidth": 0,
              "ticks": ""
             }
            },
            "type": "parcoords"
           }
          ],
          "pie": [
           {
            "automargin": true,
            "type": "pie"
           }
          ],
          "scatter": [
           {
            "marker": {
             "colorbar": {
              "outlinewidth": 0,
              "ticks": ""
             }
            },
            "type": "scatter"
           }
          ],
          "scatter3d": [
           {
            "line": {
             "colorbar": {
              "outlinewidth": 0,
              "ticks": ""
             }
            },
            "marker": {
             "colorbar": {
              "outlinewidth": 0,
              "ticks": ""
             }
            },
            "type": "scatter3d"
           }
          ],
          "scattercarpet": [
           {
            "marker": {
             "colorbar": {
              "outlinewidth": 0,
              "ticks": ""
             }
            },
            "type": "scattercarpet"
           }
          ],
          "scattergeo": [
           {
            "marker": {
             "colorbar": {
              "outlinewidth": 0,
              "ticks": ""
             }
            },
            "type": "scattergeo"
           }
          ],
          "scattergl": [
           {
            "marker": {
             "colorbar": {
              "outlinewidth": 0,
              "ticks": ""
             }
            },
            "type": "scattergl"
           }
          ],
          "scattermapbox": [
           {
            "marker": {
             "colorbar": {
              "outlinewidth": 0,
              "ticks": ""
             }
            },
            "type": "scattermapbox"
           }
          ],
          "scatterpolar": [
           {
            "marker": {
             "colorbar": {
              "outlinewidth": 0,
              "ticks": ""
             }
            },
            "type": "scatterpolar"
           }
          ],
          "scatterpolargl": [
           {
            "marker": {
             "colorbar": {
              "outlinewidth": 0,
              "ticks": ""
             }
            },
            "type": "scatterpolargl"
           }
          ],
          "scatterternary": [
           {
            "marker": {
             "colorbar": {
              "outlinewidth": 0,
              "ticks": ""
             }
            },
            "type": "scatterternary"
           }
          ],
          "surface": [
           {
            "colorbar": {
             "outlinewidth": 0,
             "ticks": ""
            },
            "colorscale": [
             [
              0,
              "#0d0887"
             ],
             [
              0.1111111111111111,
              "#46039f"
             ],
             [
              0.2222222222222222,
              "#7201a8"
             ],
             [
              0.3333333333333333,
              "#9c179e"
             ],
             [
              0.4444444444444444,
              "#bd3786"
             ],
             [
              0.5555555555555556,
              "#d8576b"
             ],
             [
              0.6666666666666666,
              "#ed7953"
             ],
             [
              0.7777777777777778,
              "#fb9f3a"
             ],
             [
              0.8888888888888888,
              "#fdca26"
             ],
             [
              1,
              "#f0f921"
             ]
            ],
            "type": "surface"
           }
          ],
          "table": [
           {
            "cells": {
             "fill": {
              "color": "#EBF0F8"
             },
             "line": {
              "color": "white"
             }
            },
            "header": {
             "fill": {
              "color": "#C8D4E3"
             },
             "line": {
              "color": "white"
             }
            },
            "type": "table"
           }
          ]
         },
         "layout": {
          "annotationdefaults": {
           "arrowcolor": "#2a3f5f",
           "arrowhead": 0,
           "arrowwidth": 1
          },
          "autotypenumbers": "strict",
          "coloraxis": {
           "colorbar": {
            "outlinewidth": 0,
            "ticks": ""
           }
          },
          "colorscale": {
           "diverging": [
            [
             0,
             "#8e0152"
            ],
            [
             0.1,
             "#c51b7d"
            ],
            [
             0.2,
             "#de77ae"
            ],
            [
             0.3,
             "#f1b6da"
            ],
            [
             0.4,
             "#fde0ef"
            ],
            [
             0.5,
             "#f7f7f7"
            ],
            [
             0.6,
             "#e6f5d0"
            ],
            [
             0.7,
             "#b8e186"
            ],
            [
             0.8,
             "#7fbc41"
            ],
            [
             0.9,
             "#4d9221"
            ],
            [
             1,
             "#276419"
            ]
           ],
           "sequential": [
            [
             0,
             "#0d0887"
            ],
            [
             0.1111111111111111,
             "#46039f"
            ],
            [
             0.2222222222222222,
             "#7201a8"
            ],
            [
             0.3333333333333333,
             "#9c179e"
            ],
            [
             0.4444444444444444,
             "#bd3786"
            ],
            [
             0.5555555555555556,
             "#d8576b"
            ],
            [
             0.6666666666666666,
             "#ed7953"
            ],
            [
             0.7777777777777778,
             "#fb9f3a"
            ],
            [
             0.8888888888888888,
             "#fdca26"
            ],
            [
             1,
             "#f0f921"
            ]
           ],
           "sequentialminus": [
            [
             0,
             "#0d0887"
            ],
            [
             0.1111111111111111,
             "#46039f"
            ],
            [
             0.2222222222222222,
             "#7201a8"
            ],
            [
             0.3333333333333333,
             "#9c179e"
            ],
            [
             0.4444444444444444,
             "#bd3786"
            ],
            [
             0.5555555555555556,
             "#d8576b"
            ],
            [
             0.6666666666666666,
             "#ed7953"
            ],
            [
             0.7777777777777778,
             "#fb9f3a"
            ],
            [
             0.8888888888888888,
             "#fdca26"
            ],
            [
             1,
             "#f0f921"
            ]
           ]
          },
          "colorway": [
           "#636efa",
           "#EF553B",
           "#00cc96",
           "#ab63fa",
           "#FFA15A",
           "#19d3f3",
           "#FF6692",
           "#B6E880",
           "#FF97FF",
           "#FECB52"
          ],
          "font": {
           "color": "#2a3f5f"
          },
          "geo": {
           "bgcolor": "white",
           "lakecolor": "white",
           "landcolor": "#E5ECF6",
           "showlakes": true,
           "showland": true,
           "subunitcolor": "white"
          },
          "hoverlabel": {
           "align": "left"
          },
          "hovermode": "closest",
          "mapbox": {
           "style": "light"
          },
          "paper_bgcolor": "white",
          "plot_bgcolor": "#E5ECF6",
          "polar": {
           "angularaxis": {
            "gridcolor": "white",
            "linecolor": "white",
            "ticks": ""
           },
           "bgcolor": "#E5ECF6",
           "radialaxis": {
            "gridcolor": "white",
            "linecolor": "white",
            "ticks": ""
           }
          },
          "scene": {
           "xaxis": {
            "backgroundcolor": "#E5ECF6",
            "gridcolor": "white",
            "gridwidth": 2,
            "linecolor": "white",
            "showbackground": true,
            "ticks": "",
            "zerolinecolor": "white"
           },
           "yaxis": {
            "backgroundcolor": "#E5ECF6",
            "gridcolor": "white",
            "gridwidth": 2,
            "linecolor": "white",
            "showbackground": true,
            "ticks": "",
            "zerolinecolor": "white"
           },
           "zaxis": {
            "backgroundcolor": "#E5ECF6",
            "gridcolor": "white",
            "gridwidth": 2,
            "linecolor": "white",
            "showbackground": true,
            "ticks": "",
            "zerolinecolor": "white"
           }
          },
          "shapedefaults": {
           "line": {
            "color": "#2a3f5f"
           }
          },
          "ternary": {
           "aaxis": {
            "gridcolor": "white",
            "linecolor": "white",
            "ticks": ""
           },
           "baxis": {
            "gridcolor": "white",
            "linecolor": "white",
            "ticks": ""
           },
           "bgcolor": "#E5ECF6",
           "caxis": {
            "gridcolor": "white",
            "linecolor": "white",
            "ticks": ""
           }
          },
          "title": {
           "x": 0.05
          },
          "xaxis": {
           "automargin": true,
           "gridcolor": "white",
           "linecolor": "white",
           "ticks": "",
           "title": {
            "standoff": 15
           },
           "zerolinecolor": "white",
           "zerolinewidth": 2
          },
          "yaxis": {
           "automargin": true,
           "gridcolor": "white",
           "linecolor": "white",
           "ticks": "",
           "title": {
            "standoff": 15
           },
           "zerolinecolor": "white",
           "zerolinewidth": 2
          }
         }
        },
        "title": {
         "text": "Target2 Top 50 feature importance"
        },
        "width": 1250,
        "xaxis": {
         "anchor": "y",
         "domain": [
          0,
          1
         ],
         "title": {
          "text": "feature_importance"
         }
        },
        "yaxis": {
         "anchor": "x",
         "categoryarray": [
          "PlayerTwitterFollowerAggregate_min",
          "StandingsMeta_oneRunWins",
          "PlayerTwitterFollowerAggregate_quantile75",
          "PlayerTwitterFollowerAggregate_max",
          "target4_202104_max",
          "PlayerTwitterFollowerAggregate_std",
          "target1_202104_quantile25",
          "target3_202104_max",
          "PlayerStats_inheritedRunners_cumsum",
          "StandingsMeta_dayLosses",
          "target4_202104_std",
          "target3_202104_prob",
          "target4_202104_mean",
          "PlayerStats_earnedRuns_rank",
          "target1_202104_std",
          "target2_202104_prob",
          "StandingsMeta_pct",
          "target4_202104_prob",
          "StandingsMeta_runsScored",
          "target3_202104_min",
          "target4_202104_quantile75",
          "StandingsMeta_wins",
          "target3_202104_mean",
          "Players_LE_birthCountry",
          "PlayerStats_doubles_rank",
          "target2_202104_max",
          "StandingsMeta_divWins",
          "target2_202104_std",
          "target1_202104_median",
          "PlayerTwitterFollowerAggregate_mean",
          "Players_LE_primaryPositionCode",
          "target1_202104_min",
          "target2_202104_quantile75",
          "StandingsMeta_losses",
          "StandingsMeta_divisionId",
          "target2_202104_mean",
          "target2_202104_min",
          "StandingsMeta_leagueRank",
          "target4_202104_median",
          "PlayerTwitterFollowerAggregate_quantile25",
          "StandingsMeta_divLosses",
          "target1_202104_mean",
          "target4_202104_quantile25",
          "target2_202104_median",
          "StandingsMeta_runsAllowed",
          "target2_202104_quantile25",
          "target4_202104_min",
          "Players_LE_playerid",
          "Rosters_LE_teamId",
          "Rosters_LE_status"
         ],
         "categoryorder": "array",
         "domain": [
          0,
          1
         ],
         "showgrid": true,
         "title": {
          "text": "feature"
         }
        }
       }
      }
     },
     "metadata": {}
    },
    {
     "output_type": "display_data",
     "data": {
      "application/vnd.plotly.v1+json": {
       "config": {
        "plotlyServerURL": "https://plot.ly"
       },
       "data": [
        {
         "alignmentgroup": "True",
         "hovertemplate": "feature_importance=%{x}<br>feature=%{y}<extra></extra>",
         "legendgroup": "",
         "marker": {
          "color": "#636efa"
         },
         "name": "",
         "notched": false,
         "offsetgroup": "",
         "orientation": "h",
         "showlegend": false,
         "type": "box",
         "x": [
          433113.01368141174,
          267134.6518173218,
          153375.488155365,
          112910.46323013306,
          71539.19895172119,
          48543.187927246094,
          52921.97595977783,
          109994.85221862793,
          442302.86291885376,
          282847.99426651,
          249906.28613948822,
          195590.86177444458,
          558992.0071735382,
          263263.87561130524,
          1284598.2404632568,
          261841.52543067932,
          5640211.535938263,
          1243564.5647850037,
          1666858.288368225,
          755644.3022460938,
          195063.00507354736,
          229279.6703453064,
          2017843.235343933,
          138336.0923614502,
          224049.8338356018,
          352750.03278160095,
          98439.27156829834,
          6196547.588516235,
          371785.62575531006,
          768502.4320640564,
          172335.27460861206,
          229748.30813980103,
          12464365.668510437,
          8632579.432117462,
          53350.48840332031,
          86571.68269729614,
          7751177.006290436,
          1718280.2327270508,
          219932.8812942505,
          332808.7762527466,
          931802.7963962555,
          839416.8318328857,
          3006460.5134887695,
          309845.77171325684,
          18556.063549041748,
          17911.7202167511,
          67966.20086669922,
          39545.78196334839,
          12993.302955627441,
          28796.30976486206,
          251857.99109458923,
          160669.52965164185,
          68410.03714752197,
          54268.810985565186,
          47731.47087097168,
          15840.890991210938,
          29367.519958496094,
          65845.08478546143,
          242777.751411438,
          213714.16511535645,
          186819.0751876831,
          284903.41596984863,
          217675.68238067627,
          97708.75597572327,
          244365.5541114807,
          114011.55436706543,
          2203583.8883895874,
          224624.51439666748,
          161395.2279586792,
          518302.21940612793,
          126428.25281524658,
          243452.087890625,
          3361372.772453308,
          97855.58322906494,
          119088.97821044922,
          126376.79326629639,
          69743.56468963623,
          4081213.6692733765,
          160251.32806015015,
          725962.7835788727,
          86156.60928821564,
          241777.31472969055,
          14410424.857402802,
          2049381.1271820068,
          27664.48651123047,
          18554.577812194824,
          5086946.771697998,
          630077.033241272,
          88920.92729568481,
          156447.01399993896,
          86401.7925415039,
          679036.1418304443,
          571716.8993225098,
          467790.2265281677,
          12049.404457092285,
          16867.012283325195,
          59790.188804626465,
          38584.48588562012,
          18160.32261276245,
          29383.033451080322
         ],
         "x0": " ",
         "xaxis": "x",
         "y": [
          "target1_202104_mean",
          "target1_202104_std",
          "target1_202104_max",
          "target1_202104_min",
          "target1_202104_median",
          "target1_202104_quantile25",
          "target1_202104_quantile75",
          "target1_202104_prob",
          "target2_202104_mean",
          "target2_202104_std",
          "target2_202104_max",
          "target2_202104_min",
          "target2_202104_median",
          "target2_202104_quantile25",
          "target2_202104_quantile75",
          "target2_202104_prob",
          "target3_202104_mean",
          "target3_202104_std",
          "target3_202104_max",
          "target3_202104_min",
          "target3_202104_median",
          "target3_202104_quantile25",
          "target3_202104_quantile75",
          "target3_202104_prob",
          "target4_202104_mean",
          "target4_202104_std",
          "target4_202104_max",
          "target4_202104_min",
          "target4_202104_median",
          "target4_202104_quantile25",
          "target4_202104_quantile75",
          "target4_202104_prob",
          "Rosters_LE_teamId",
          "Rosters_LE_status",
          "Players_LE_birthCountry",
          "Players_LE_primaryPositionCode",
          "Players_LE_playerid",
          "PlayerTwitterFollowerAggregate_mean",
          "PlayerTwitterFollowerAggregate_std",
          "PlayerTwitterFollowerAggregate_max",
          "PlayerTwitterFollowerAggregate_min",
          "PlayerTwitterFollowerAggregate_median",
          "PlayerTwitterFollowerAggregate_quantile25",
          "PlayerTwitterFollowerAggregate_quantile75",
          "StandingsMeta_divisionId",
          "StandingsMeta_losses",
          "StandingsMeta_runsAllowed",
          "StandingsMeta_runsScored",
          "StandingsMeta_dayLosses",
          "StandingsMeta_divLosses",
          "target1_202104_mean",
          "target1_202104_std",
          "target1_202104_max",
          "target1_202104_min",
          "target1_202104_median",
          "target1_202104_quantile25",
          "target1_202104_quantile75",
          "target1_202104_prob",
          "target2_202104_mean",
          "target2_202104_std",
          "target2_202104_max",
          "target2_202104_min",
          "target2_202104_median",
          "target2_202104_quantile25",
          "target2_202104_quantile75",
          "target2_202104_prob",
          "target3_202104_mean",
          "target3_202104_std",
          "target3_202104_max",
          "target3_202104_min",
          "target3_202104_median",
          "target3_202104_quantile25",
          "target3_202104_quantile75",
          "target3_202104_prob",
          "target4_202104_mean",
          "target4_202104_std",
          "target4_202104_max",
          "target4_202104_min",
          "target4_202104_median",
          "target4_202104_quantile25",
          "target4_202104_quantile75",
          "target4_202104_prob",
          "Rosters_LE_teamId",
          "Rosters_LE_status",
          "Players_LE_birthCountry",
          "Players_LE_primaryPositionCode",
          "Players_LE_playerid",
          "PlayerTwitterFollowerAggregate_mean",
          "PlayerTwitterFollowerAggregate_std",
          "PlayerTwitterFollowerAggregate_max",
          "PlayerTwitterFollowerAggregate_min",
          "PlayerTwitterFollowerAggregate_median",
          "PlayerTwitterFollowerAggregate_quantile25",
          "PlayerTwitterFollowerAggregate_quantile75",
          "StandingsMeta_divisionId",
          "StandingsMeta_losses",
          "StandingsMeta_runsAllowed",
          "StandingsMeta_runsScored",
          "StandingsMeta_dayLosses",
          "StandingsMeta_divLosses"
         ],
         "y0": " ",
         "yaxis": "y"
        }
       ],
       "layout": {
        "boxmode": "group",
        "height": 900,
        "legend": {
         "tracegroupgap": 0
        },
        "template": {
         "data": {
          "bar": [
           {
            "error_x": {
             "color": "#2a3f5f"
            },
            "error_y": {
             "color": "#2a3f5f"
            },
            "marker": {
             "line": {
              "color": "#E5ECF6",
              "width": 0.5
             }
            },
            "type": "bar"
           }
          ],
          "barpolar": [
           {
            "marker": {
             "line": {
              "color": "#E5ECF6",
              "width": 0.5
             }
            },
            "type": "barpolar"
           }
          ],
          "carpet": [
           {
            "aaxis": {
             "endlinecolor": "#2a3f5f",
             "gridcolor": "white",
             "linecolor": "white",
             "minorgridcolor": "white",
             "startlinecolor": "#2a3f5f"
            },
            "baxis": {
             "endlinecolor": "#2a3f5f",
             "gridcolor": "white",
             "linecolor": "white",
             "minorgridcolor": "white",
             "startlinecolor": "#2a3f5f"
            },
            "type": "carpet"
           }
          ],
          "choropleth": [
           {
            "colorbar": {
             "outlinewidth": 0,
             "ticks": ""
            },
            "type": "choropleth"
           }
          ],
          "contour": [
           {
            "colorbar": {
             "outlinewidth": 0,
             "ticks": ""
            },
            "colorscale": [
             [
              0,
              "#0d0887"
             ],
             [
              0.1111111111111111,
              "#46039f"
             ],
             [
              0.2222222222222222,
              "#7201a8"
             ],
             [
              0.3333333333333333,
              "#9c179e"
             ],
             [
              0.4444444444444444,
              "#bd3786"
             ],
             [
              0.5555555555555556,
              "#d8576b"
             ],
             [
              0.6666666666666666,
              "#ed7953"
             ],
             [
              0.7777777777777778,
              "#fb9f3a"
             ],
             [
              0.8888888888888888,
              "#fdca26"
             ],
             [
              1,
              "#f0f921"
             ]
            ],
            "type": "contour"
           }
          ],
          "contourcarpet": [
           {
            "colorbar": {
             "outlinewidth": 0,
             "ticks": ""
            },
            "type": "contourcarpet"
           }
          ],
          "heatmap": [
           {
            "colorbar": {
             "outlinewidth": 0,
             "ticks": ""
            },
            "colorscale": [
             [
              0,
              "#0d0887"
             ],
             [
              0.1111111111111111,
              "#46039f"
             ],
             [
              0.2222222222222222,
              "#7201a8"
             ],
             [
              0.3333333333333333,
              "#9c179e"
             ],
             [
              0.4444444444444444,
              "#bd3786"
             ],
             [
              0.5555555555555556,
              "#d8576b"
             ],
             [
              0.6666666666666666,
              "#ed7953"
             ],
             [
              0.7777777777777778,
              "#fb9f3a"
             ],
             [
              0.8888888888888888,
              "#fdca26"
             ],
             [
              1,
              "#f0f921"
             ]
            ],
            "type": "heatmap"
           }
          ],
          "heatmapgl": [
           {
            "colorbar": {
             "outlinewidth": 0,
             "ticks": ""
            },
            "colorscale": [
             [
              0,
              "#0d0887"
             ],
             [
              0.1111111111111111,
              "#46039f"
             ],
             [
              0.2222222222222222,
              "#7201a8"
             ],
             [
              0.3333333333333333,
              "#9c179e"
             ],
             [
              0.4444444444444444,
              "#bd3786"
             ],
             [
              0.5555555555555556,
              "#d8576b"
             ],
             [
              0.6666666666666666,
              "#ed7953"
             ],
             [
              0.7777777777777778,
              "#fb9f3a"
             ],
             [
              0.8888888888888888,
              "#fdca26"
             ],
             [
              1,
              "#f0f921"
             ]
            ],
            "type": "heatmapgl"
           }
          ],
          "histogram": [
           {
            "marker": {
             "colorbar": {
              "outlinewidth": 0,
              "ticks": ""
             }
            },
            "type": "histogram"
           }
          ],
          "histogram2d": [
           {
            "colorbar": {
             "outlinewidth": 0,
             "ticks": ""
            },
            "colorscale": [
             [
              0,
              "#0d0887"
             ],
             [
              0.1111111111111111,
              "#46039f"
             ],
             [
              0.2222222222222222,
              "#7201a8"
             ],
             [
              0.3333333333333333,
              "#9c179e"
             ],
             [
              0.4444444444444444,
              "#bd3786"
             ],
             [
              0.5555555555555556,
              "#d8576b"
             ],
             [
              0.6666666666666666,
              "#ed7953"
             ],
             [
              0.7777777777777778,
              "#fb9f3a"
             ],
             [
              0.8888888888888888,
              "#fdca26"
             ],
             [
              1,
              "#f0f921"
             ]
            ],
            "type": "histogram2d"
           }
          ],
          "histogram2dcontour": [
           {
            "colorbar": {
             "outlinewidth": 0,
             "ticks": ""
            },
            "colorscale": [
             [
              0,
              "#0d0887"
             ],
             [
              0.1111111111111111,
              "#46039f"
             ],
             [
              0.2222222222222222,
              "#7201a8"
             ],
             [
              0.3333333333333333,
              "#9c179e"
             ],
             [
              0.4444444444444444,
              "#bd3786"
             ],
             [
              0.5555555555555556,
              "#d8576b"
             ],
             [
              0.6666666666666666,
              "#ed7953"
             ],
             [
              0.7777777777777778,
              "#fb9f3a"
             ],
             [
              0.8888888888888888,
              "#fdca26"
             ],
             [
              1,
              "#f0f921"
             ]
            ],
            "type": "histogram2dcontour"
           }
          ],
          "mesh3d": [
           {
            "colorbar": {
             "outlinewidth": 0,
             "ticks": ""
            },
            "type": "mesh3d"
           }
          ],
          "parcoords": [
           {
            "line": {
             "colorbar": {
              "outlinewidth": 0,
              "ticks": ""
             }
            },
            "type": "parcoords"
           }
          ],
          "pie": [
           {
            "automargin": true,
            "type": "pie"
           }
          ],
          "scatter": [
           {
            "marker": {
             "colorbar": {
              "outlinewidth": 0,
              "ticks": ""
             }
            },
            "type": "scatter"
           }
          ],
          "scatter3d": [
           {
            "line": {
             "colorbar": {
              "outlinewidth": 0,
              "ticks": ""
             }
            },
            "marker": {
             "colorbar": {
              "outlinewidth": 0,
              "ticks": ""
             }
            },
            "type": "scatter3d"
           }
          ],
          "scattercarpet": [
           {
            "marker": {
             "colorbar": {
              "outlinewidth": 0,
              "ticks": ""
             }
            },
            "type": "scattercarpet"
           }
          ],
          "scattergeo": [
           {
            "marker": {
             "colorbar": {
              "outlinewidth": 0,
              "ticks": ""
             }
            },
            "type": "scattergeo"
           }
          ],
          "scattergl": [
           {
            "marker": {
             "colorbar": {
              "outlinewidth": 0,
              "ticks": ""
             }
            },
            "type": "scattergl"
           }
          ],
          "scattermapbox": [
           {
            "marker": {
             "colorbar": {
              "outlinewidth": 0,
              "ticks": ""
             }
            },
            "type": "scattermapbox"
           }
          ],
          "scatterpolar": [
           {
            "marker": {
             "colorbar": {
              "outlinewidth": 0,
              "ticks": ""
             }
            },
            "type": "scatterpolar"
           }
          ],
          "scatterpolargl": [
           {
            "marker": {
             "colorbar": {
              "outlinewidth": 0,
              "ticks": ""
             }
            },
            "type": "scatterpolargl"
           }
          ],
          "scatterternary": [
           {
            "marker": {
             "colorbar": {
              "outlinewidth": 0,
              "ticks": ""
             }
            },
            "type": "scatterternary"
           }
          ],
          "surface": [
           {
            "colorbar": {
             "outlinewidth": 0,
             "ticks": ""
            },
            "colorscale": [
             [
              0,
              "#0d0887"
             ],
             [
              0.1111111111111111,
              "#46039f"
             ],
             [
              0.2222222222222222,
              "#7201a8"
             ],
             [
              0.3333333333333333,
              "#9c179e"
             ],
             [
              0.4444444444444444,
              "#bd3786"
             ],
             [
              0.5555555555555556,
              "#d8576b"
             ],
             [
              0.6666666666666666,
              "#ed7953"
             ],
             [
              0.7777777777777778,
              "#fb9f3a"
             ],
             [
              0.8888888888888888,
              "#fdca26"
             ],
             [
              1,
              "#f0f921"
             ]
            ],
            "type": "surface"
           }
          ],
          "table": [
           {
            "cells": {
             "fill": {
              "color": "#EBF0F8"
             },
             "line": {
              "color": "white"
             }
            },
            "header": {
             "fill": {
              "color": "#C8D4E3"
             },
             "line": {
              "color": "white"
             }
            },
            "type": "table"
           }
          ]
         },
         "layout": {
          "annotationdefaults": {
           "arrowcolor": "#2a3f5f",
           "arrowhead": 0,
           "arrowwidth": 1
          },
          "autotypenumbers": "strict",
          "coloraxis": {
           "colorbar": {
            "outlinewidth": 0,
            "ticks": ""
           }
          },
          "colorscale": {
           "diverging": [
            [
             0,
             "#8e0152"
            ],
            [
             0.1,
             "#c51b7d"
            ],
            [
             0.2,
             "#de77ae"
            ],
            [
             0.3,
             "#f1b6da"
            ],
            [
             0.4,
             "#fde0ef"
            ],
            [
             0.5,
             "#f7f7f7"
            ],
            [
             0.6,
             "#e6f5d0"
            ],
            [
             0.7,
             "#b8e186"
            ],
            [
             0.8,
             "#7fbc41"
            ],
            [
             0.9,
             "#4d9221"
            ],
            [
             1,
             "#276419"
            ]
           ],
           "sequential": [
            [
             0,
             "#0d0887"
            ],
            [
             0.1111111111111111,
             "#46039f"
            ],
            [
             0.2222222222222222,
             "#7201a8"
            ],
            [
             0.3333333333333333,
             "#9c179e"
            ],
            [
             0.4444444444444444,
             "#bd3786"
            ],
            [
             0.5555555555555556,
             "#d8576b"
            ],
            [
             0.6666666666666666,
             "#ed7953"
            ],
            [
             0.7777777777777778,
             "#fb9f3a"
            ],
            [
             0.8888888888888888,
             "#fdca26"
            ],
            [
             1,
             "#f0f921"
            ]
           ],
           "sequentialminus": [
            [
             0,
             "#0d0887"
            ],
            [
             0.1111111111111111,
             "#46039f"
            ],
            [
             0.2222222222222222,
             "#7201a8"
            ],
            [
             0.3333333333333333,
             "#9c179e"
            ],
            [
             0.4444444444444444,
             "#bd3786"
            ],
            [
             0.5555555555555556,
             "#d8576b"
            ],
            [
             0.6666666666666666,
             "#ed7953"
            ],
            [
             0.7777777777777778,
             "#fb9f3a"
            ],
            [
             0.8888888888888888,
             "#fdca26"
            ],
            [
             1,
             "#f0f921"
            ]
           ]
          },
          "colorway": [
           "#636efa",
           "#EF553B",
           "#00cc96",
           "#ab63fa",
           "#FFA15A",
           "#19d3f3",
           "#FF6692",
           "#B6E880",
           "#FF97FF",
           "#FECB52"
          ],
          "font": {
           "color": "#2a3f5f"
          },
          "geo": {
           "bgcolor": "white",
           "lakecolor": "white",
           "landcolor": "#E5ECF6",
           "showlakes": true,
           "showland": true,
           "subunitcolor": "white"
          },
          "hoverlabel": {
           "align": "left"
          },
          "hovermode": "closest",
          "mapbox": {
           "style": "light"
          },
          "paper_bgcolor": "white",
          "plot_bgcolor": "#E5ECF6",
          "polar": {
           "angularaxis": {
            "gridcolor": "white",
            "linecolor": "white",
            "ticks": ""
           },
           "bgcolor": "#E5ECF6",
           "radialaxis": {
            "gridcolor": "white",
            "linecolor": "white",
            "ticks": ""
           }
          },
          "scene": {
           "xaxis": {
            "backgroundcolor": "#E5ECF6",
            "gridcolor": "white",
            "gridwidth": 2,
            "linecolor": "white",
            "showbackground": true,
            "ticks": "",
            "zerolinecolor": "white"
           },
           "yaxis": {
            "backgroundcolor": "#E5ECF6",
            "gridcolor": "white",
            "gridwidth": 2,
            "linecolor": "white",
            "showbackground": true,
            "ticks": "",
            "zerolinecolor": "white"
           },
           "zaxis": {
            "backgroundcolor": "#E5ECF6",
            "gridcolor": "white",
            "gridwidth": 2,
            "linecolor": "white",
            "showbackground": true,
            "ticks": "",
            "zerolinecolor": "white"
           }
          },
          "shapedefaults": {
           "line": {
            "color": "#2a3f5f"
           }
          },
          "ternary": {
           "aaxis": {
            "gridcolor": "white",
            "linecolor": "white",
            "ticks": ""
           },
           "baxis": {
            "gridcolor": "white",
            "linecolor": "white",
            "ticks": ""
           },
           "bgcolor": "#E5ECF6",
           "caxis": {
            "gridcolor": "white",
            "linecolor": "white",
            "ticks": ""
           }
          },
          "title": {
           "x": 0.05
          },
          "xaxis": {
           "automargin": true,
           "gridcolor": "white",
           "linecolor": "white",
           "ticks": "",
           "title": {
            "standoff": 15
           },
           "zerolinecolor": "white",
           "zerolinewidth": 2
          },
          "yaxis": {
           "automargin": true,
           "gridcolor": "white",
           "linecolor": "white",
           "ticks": "",
           "title": {
            "standoff": 15
           },
           "zerolinecolor": "white",
           "zerolinewidth": 2
          }
         }
        },
        "title": {
         "text": "Target3 Top 50 feature importance"
        },
        "width": 1250,
        "xaxis": {
         "anchor": "y",
         "domain": [
          0,
          1
         ],
         "title": {
          "text": "feature_importance"
         }
        },
        "yaxis": {
         "anchor": "x",
         "categoryarray": [
          "StandingsMeta_divisionId",
          "StandingsMeta_dayLosses",
          "StandingsMeta_losses",
          "StandingsMeta_divLosses",
          "target1_202104_quantile25",
          "StandingsMeta_runsScored",
          "Players_LE_birthCountry",
          "target1_202104_quantile75",
          "Players_LE_primaryPositionCode",
          "target1_202104_median",
          "StandingsMeta_runsAllowed",
          "target1_202104_min",
          "target4_202104_max",
          "target1_202104_prob",
          "target1_202104_max",
          "target3_202104_prob",
          "target4_202104_quantile75",
          "PlayerTwitterFollowerAggregate_std",
          "target3_202104_median",
          "target4_202104_mean",
          "target2_202104_quantile25",
          "target2_202104_prob",
          "target1_202104_std",
          "target2_202104_max",
          "target4_202104_prob",
          "target3_202104_quantile25",
          "target4_202104_std",
          "target2_202104_min",
          "PlayerTwitterFollowerAggregate_max",
          "target2_202104_std",
          "target4_202104_median",
          "target1_202104_mean",
          "target2_202104_mean",
          "target2_202104_median",
          "PlayerTwitterFollowerAggregate_quantile75",
          "PlayerTwitterFollowerAggregate_min",
          "target3_202104_min",
          "target3_202104_std",
          "target4_202104_quantile25",
          "PlayerTwitterFollowerAggregate_median",
          "target2_202104_quantile75",
          "target3_202104_max",
          "PlayerTwitterFollowerAggregate_mean",
          "PlayerTwitterFollowerAggregate_quantile25",
          "target3_202104_quantile75",
          "target3_202104_mean",
          "target4_202104_min",
          "Rosters_LE_status",
          "Players_LE_playerid",
          "Rosters_LE_teamId"
         ],
         "categoryorder": "array",
         "domain": [
          0,
          1
         ],
         "showgrid": true,
         "title": {
          "text": "feature"
         }
        }
       }
      }
     },
     "metadata": {}
    },
    {
     "output_type": "display_data",
     "data": {
      "application/vnd.plotly.v1+json": {
       "config": {
        "plotlyServerURL": "https://plot.ly"
       },
       "data": [
        {
         "alignmentgroup": "True",
         "hovertemplate": "feature_importance=%{x}<br>feature=%{y}<extra></extra>",
         "legendgroup": "",
         "marker": {
          "color": "#636efa"
         },
         "name": "",
         "notched": false,
         "offsetgroup": "",
         "orientation": "h",
         "showlegend": false,
         "type": "box",
         "x": [
          470756.473734963,
          122880.96116890386,
          35685.767108917236,
          40671.094469090924,
          57004.80685532093,
          25985.520978927612,
          61893.89777755737,
          65989.0724221468,
          551719.6067216396,
          327850.4790391922,
          152618.5391483307,
          434475.12213373184,
          268591.69065856934,
          349445.3459148407,
          384885.6887817383,
          382833.12109041214,
          115436.5262889862,
          52471.10032272339,
          54300.54056930542,
          17519.28588294983,
          93518.39358711243,
          37803.395080566406,
          82058.89120483398,
          72299.86394500732,
          335975.7201476097,
          142985.758518219,
          79652.17400455475,
          4083303.5173363686,
          933694.0795631409,
          955911.0621833801,
          230036.80866241455,
          213173.22792816162,
          1677741.7002115701,
          500291.0632041807,
          123573.83072662354,
          155377.84928894043,
          2085293.9908269644,
          24474.83468735218,
          292013.6182165742,
          128661.77077627182,
          92623.45080566406,
          377077.9986190796,
          39734.99510192871,
          143422.17640686035,
          31813.157638549805,
          166989.90382176638,
          72640.08436828852,
          29075.5055975914,
          44718.271012067795,
          106420.88552618027,
          347637.0431031883,
          77031.95703333616,
          37191.41972923279,
          30454.638849258423,
          100510.96305465698,
          35848.34991455078,
          31700.95393371582,
          52422.871353149414,
          310286.9209370613,
          195600.47219944,
          81747.68450927734,
          284787.5265235901,
          181117.72983264923,
          238380.7024345398,
          248134.00784301758,
          228098.8670654297,
          93467.27053451538,
          52324.23097229004,
          28121.09348297119,
          37688.19185638428,
          32581.72599029541,
          9813.61296081543,
          38665.64170837402,
          31178.85897064209,
          177636.1096458435,
          94137.93103027344,
          74550.90628051758,
          3975633.0660152435,
          921707.2966079712,
          786530.8994598389,
          194821.7610397339,
          115955.65670394897,
          1453889.8733278513,
          498026.2727957892,
          23205.72356414795,
          84652.79133224487,
          1660875.6391525269,
          18729.62631225586,
          236244.28034973145,
          90332.40422439575,
          70904.92127799988,
          230316.64520263672,
          133229.52262878418,
          161347.28872680664,
          50201.71406555176,
          154732.01370543242,
          65312.03661417961,
          27569.297737061977,
          55497.21324163675,
          109627.35335093737
         ],
         "x0": " ",
         "xaxis": "x",
         "y": [
          "target1_202104_mean",
          "target1_202104_std",
          "target1_202104_max",
          "target1_202104_min",
          "target1_202104_median",
          "target1_202104_quantile25",
          "target1_202104_quantile75",
          "target1_202104_prob",
          "target2_202104_mean",
          "target2_202104_std",
          "target2_202104_max",
          "target2_202104_min",
          "target2_202104_median",
          "target2_202104_quantile25",
          "target2_202104_quantile75",
          "target2_202104_prob",
          "target3_202104_mean",
          "target3_202104_std",
          "target3_202104_max",
          "target3_202104_min",
          "target3_202104_median",
          "target3_202104_quantile25",
          "target3_202104_quantile75",
          "target3_202104_prob",
          "target4_202104_mean",
          "target4_202104_std",
          "target4_202104_max",
          "target4_202104_min",
          "target4_202104_median",
          "target4_202104_quantile25",
          "target4_202104_quantile75",
          "target4_202104_prob",
          "Rosters_LE_teamId",
          "Rosters_LE_status",
          "Players_LE_birthCountry",
          "Players_LE_primaryPositionCode",
          "Players_LE_playerid",
          "PlayerStats_saves_rank",
          "PlayerTwitterFollowerAggregate_mean",
          "PlayerTwitterFollowerAggregate_std",
          "PlayerTwitterFollowerAggregate_max",
          "PlayerTwitterFollowerAggregate_min",
          "PlayerTwitterFollowerAggregate_median",
          "PlayerTwitterFollowerAggregate_quantile25",
          "PlayerTwitterFollowerAggregate_quantile75",
          "StandingsMeta_runsAllowed",
          "StandingsMeta_runsScored",
          "StandingsMeta_awayLosses",
          "StandingsMeta_divWins",
          "StandingsMeta_divLosses",
          "target1_202104_mean",
          "target1_202104_std",
          "target1_202104_max",
          "target1_202104_min",
          "target1_202104_median",
          "target1_202104_quantile25",
          "target1_202104_quantile75",
          "target1_202104_prob",
          "target2_202104_mean",
          "target2_202104_std",
          "target2_202104_max",
          "target2_202104_min",
          "target2_202104_median",
          "target2_202104_quantile25",
          "target2_202104_quantile75",
          "target2_202104_prob",
          "target3_202104_mean",
          "target3_202104_std",
          "target3_202104_max",
          "target3_202104_min",
          "target3_202104_median",
          "target3_202104_quantile25",
          "target3_202104_quantile75",
          "target3_202104_prob",
          "target4_202104_mean",
          "target4_202104_std",
          "target4_202104_max",
          "target4_202104_min",
          "target4_202104_median",
          "target4_202104_quantile25",
          "target4_202104_quantile75",
          "target4_202104_prob",
          "Rosters_LE_teamId",
          "Rosters_LE_status",
          "Players_LE_birthCountry",
          "Players_LE_primaryPositionCode",
          "Players_LE_playerid",
          "PlayerStats_saves_rank",
          "PlayerTwitterFollowerAggregate_mean",
          "PlayerTwitterFollowerAggregate_std",
          "PlayerTwitterFollowerAggregate_max",
          "PlayerTwitterFollowerAggregate_min",
          "PlayerTwitterFollowerAggregate_median",
          "PlayerTwitterFollowerAggregate_quantile25",
          "PlayerTwitterFollowerAggregate_quantile75",
          "StandingsMeta_runsAllowed",
          "StandingsMeta_runsScored",
          "StandingsMeta_awayLosses",
          "StandingsMeta_divWins",
          "StandingsMeta_divLosses"
         ],
         "y0": " ",
         "yaxis": "y"
        }
       ],
       "layout": {
        "boxmode": "group",
        "height": 900,
        "legend": {
         "tracegroupgap": 0
        },
        "template": {
         "data": {
          "bar": [
           {
            "error_x": {
             "color": "#2a3f5f"
            },
            "error_y": {
             "color": "#2a3f5f"
            },
            "marker": {
             "line": {
              "color": "#E5ECF6",
              "width": 0.5
             }
            },
            "type": "bar"
           }
          ],
          "barpolar": [
           {
            "marker": {
             "line": {
              "color": "#E5ECF6",
              "width": 0.5
             }
            },
            "type": "barpolar"
           }
          ],
          "carpet": [
           {
            "aaxis": {
             "endlinecolor": "#2a3f5f",
             "gridcolor": "white",
             "linecolor": "white",
             "minorgridcolor": "white",
             "startlinecolor": "#2a3f5f"
            },
            "baxis": {
             "endlinecolor": "#2a3f5f",
             "gridcolor": "white",
             "linecolor": "white",
             "minorgridcolor": "white",
             "startlinecolor": "#2a3f5f"
            },
            "type": "carpet"
           }
          ],
          "choropleth": [
           {
            "colorbar": {
             "outlinewidth": 0,
             "ticks": ""
            },
            "type": "choropleth"
           }
          ],
          "contour": [
           {
            "colorbar": {
             "outlinewidth": 0,
             "ticks": ""
            },
            "colorscale": [
             [
              0,
              "#0d0887"
             ],
             [
              0.1111111111111111,
              "#46039f"
             ],
             [
              0.2222222222222222,
              "#7201a8"
             ],
             [
              0.3333333333333333,
              "#9c179e"
             ],
             [
              0.4444444444444444,
              "#bd3786"
             ],
             [
              0.5555555555555556,
              "#d8576b"
             ],
             [
              0.6666666666666666,
              "#ed7953"
             ],
             [
              0.7777777777777778,
              "#fb9f3a"
             ],
             [
              0.8888888888888888,
              "#fdca26"
             ],
             [
              1,
              "#f0f921"
             ]
            ],
            "type": "contour"
           }
          ],
          "contourcarpet": [
           {
            "colorbar": {
             "outlinewidth": 0,
             "ticks": ""
            },
            "type": "contourcarpet"
           }
          ],
          "heatmap": [
           {
            "colorbar": {
             "outlinewidth": 0,
             "ticks": ""
            },
            "colorscale": [
             [
              0,
              "#0d0887"
             ],
             [
              0.1111111111111111,
              "#46039f"
             ],
             [
              0.2222222222222222,
              "#7201a8"
             ],
             [
              0.3333333333333333,
              "#9c179e"
             ],
             [
              0.4444444444444444,
              "#bd3786"
             ],
             [
              0.5555555555555556,
              "#d8576b"
             ],
             [
              0.6666666666666666,
              "#ed7953"
             ],
             [
              0.7777777777777778,
              "#fb9f3a"
             ],
             [
              0.8888888888888888,
              "#fdca26"
             ],
             [
              1,
              "#f0f921"
             ]
            ],
            "type": "heatmap"
           }
          ],
          "heatmapgl": [
           {
            "colorbar": {
             "outlinewidth": 0,
             "ticks": ""
            },
            "colorscale": [
             [
              0,
              "#0d0887"
             ],
             [
              0.1111111111111111,
              "#46039f"
             ],
             [
              0.2222222222222222,
              "#7201a8"
             ],
             [
              0.3333333333333333,
              "#9c179e"
             ],
             [
              0.4444444444444444,
              "#bd3786"
             ],
             [
              0.5555555555555556,
              "#d8576b"
             ],
             [
              0.6666666666666666,
              "#ed7953"
             ],
             [
              0.7777777777777778,
              "#fb9f3a"
             ],
             [
              0.8888888888888888,
              "#fdca26"
             ],
             [
              1,
              "#f0f921"
             ]
            ],
            "type": "heatmapgl"
           }
          ],
          "histogram": [
           {
            "marker": {
             "colorbar": {
              "outlinewidth": 0,
              "ticks": ""
             }
            },
            "type": "histogram"
           }
          ],
          "histogram2d": [
           {
            "colorbar": {
             "outlinewidth": 0,
             "ticks": ""
            },
            "colorscale": [
             [
              0,
              "#0d0887"
             ],
             [
              0.1111111111111111,
              "#46039f"
             ],
             [
              0.2222222222222222,
              "#7201a8"
             ],
             [
              0.3333333333333333,
              "#9c179e"
             ],
             [
              0.4444444444444444,
              "#bd3786"
             ],
             [
              0.5555555555555556,
              "#d8576b"
             ],
             [
              0.6666666666666666,
              "#ed7953"
             ],
             [
              0.7777777777777778,
              "#fb9f3a"
             ],
             [
              0.8888888888888888,
              "#fdca26"
             ],
             [
              1,
              "#f0f921"
             ]
            ],
            "type": "histogram2d"
           }
          ],
          "histogram2dcontour": [
           {
            "colorbar": {
             "outlinewidth": 0,
             "ticks": ""
            },
            "colorscale": [
             [
              0,
              "#0d0887"
             ],
             [
              0.1111111111111111,
              "#46039f"
             ],
             [
              0.2222222222222222,
              "#7201a8"
             ],
             [
              0.3333333333333333,
              "#9c179e"
             ],
             [
              0.4444444444444444,
              "#bd3786"
             ],
             [
              0.5555555555555556,
              "#d8576b"
             ],
             [
              0.6666666666666666,
              "#ed7953"
             ],
             [
              0.7777777777777778,
              "#fb9f3a"
             ],
             [
              0.8888888888888888,
              "#fdca26"
             ],
             [
              1,
              "#f0f921"
             ]
            ],
            "type": "histogram2dcontour"
           }
          ],
          "mesh3d": [
           {
            "colorbar": {
             "outlinewidth": 0,
             "ticks": ""
            },
            "type": "mesh3d"
           }
          ],
          "parcoords": [
           {
            "line": {
             "colorbar": {
              "outlinewidth": 0,
              "ticks": ""
             }
            },
            "type": "parcoords"
           }
          ],
          "pie": [
           {
            "automargin": true,
            "type": "pie"
           }
          ],
          "scatter": [
           {
            "marker": {
             "colorbar": {
              "outlinewidth": 0,
              "ticks": ""
             }
            },
            "type": "scatter"
           }
          ],
          "scatter3d": [
           {
            "line": {
             "colorbar": {
              "outlinewidth": 0,
              "ticks": ""
             }
            },
            "marker": {
             "colorbar": {
              "outlinewidth": 0,
              "ticks": ""
             }
            },
            "type": "scatter3d"
           }
          ],
          "scattercarpet": [
           {
            "marker": {
             "colorbar": {
              "outlinewidth": 0,
              "ticks": ""
             }
            },
            "type": "scattercarpet"
           }
          ],
          "scattergeo": [
           {
            "marker": {
             "colorbar": {
              "outlinewidth": 0,
              "ticks": ""
             }
            },
            "type": "scattergeo"
           }
          ],
          "scattergl": [
           {
            "marker": {
             "colorbar": {
              "outlinewidth": 0,
              "ticks": ""
             }
            },
            "type": "scattergl"
           }
          ],
          "scattermapbox": [
           {
            "marker": {
             "colorbar": {
              "outlinewidth": 0,
              "ticks": ""
             }
            },
            "type": "scattermapbox"
           }
          ],
          "scatterpolar": [
           {
            "marker": {
             "colorbar": {
              "outlinewidth": 0,
              "ticks": ""
             }
            },
            "type": "scatterpolar"
           }
          ],
          "scatterpolargl": [
           {
            "marker": {
             "colorbar": {
              "outlinewidth": 0,
              "ticks": ""
             }
            },
            "type": "scatterpolargl"
           }
          ],
          "scatterternary": [
           {
            "marker": {
             "colorbar": {
              "outlinewidth": 0,
              "ticks": ""
             }
            },
            "type": "scatterternary"
           }
          ],
          "surface": [
           {
            "colorbar": {
             "outlinewidth": 0,
             "ticks": ""
            },
            "colorscale": [
             [
              0,
              "#0d0887"
             ],
             [
              0.1111111111111111,
              "#46039f"
             ],
             [
              0.2222222222222222,
              "#7201a8"
             ],
             [
              0.3333333333333333,
              "#9c179e"
             ],
             [
              0.4444444444444444,
              "#bd3786"
             ],
             [
              0.5555555555555556,
              "#d8576b"
             ],
             [
              0.6666666666666666,
              "#ed7953"
             ],
             [
              0.7777777777777778,
              "#fb9f3a"
             ],
             [
              0.8888888888888888,
              "#fdca26"
             ],
             [
              1,
              "#f0f921"
             ]
            ],
            "type": "surface"
           }
          ],
          "table": [
           {
            "cells": {
             "fill": {
              "color": "#EBF0F8"
             },
             "line": {
              "color": "white"
             }
            },
            "header": {
             "fill": {
              "color": "#C8D4E3"
             },
             "line": {
              "color": "white"
             }
            },
            "type": "table"
           }
          ]
         },
         "layout": {
          "annotationdefaults": {
           "arrowcolor": "#2a3f5f",
           "arrowhead": 0,
           "arrowwidth": 1
          },
          "autotypenumbers": "strict",
          "coloraxis": {
           "colorbar": {
            "outlinewidth": 0,
            "ticks": ""
           }
          },
          "colorscale": {
           "diverging": [
            [
             0,
             "#8e0152"
            ],
            [
             0.1,
             "#c51b7d"
            ],
            [
             0.2,
             "#de77ae"
            ],
            [
             0.3,
             "#f1b6da"
            ],
            [
             0.4,
             "#fde0ef"
            ],
            [
             0.5,
             "#f7f7f7"
            ],
            [
             0.6,
             "#e6f5d0"
            ],
            [
             0.7,
             "#b8e186"
            ],
            [
             0.8,
             "#7fbc41"
            ],
            [
             0.9,
             "#4d9221"
            ],
            [
             1,
             "#276419"
            ]
           ],
           "sequential": [
            [
             0,
             "#0d0887"
            ],
            [
             0.1111111111111111,
             "#46039f"
            ],
            [
             0.2222222222222222,
             "#7201a8"
            ],
            [
             0.3333333333333333,
             "#9c179e"
            ],
            [
             0.4444444444444444,
             "#bd3786"
            ],
            [
             0.5555555555555556,
             "#d8576b"
            ],
            [
             0.6666666666666666,
             "#ed7953"
            ],
            [
             0.7777777777777778,
             "#fb9f3a"
            ],
            [
             0.8888888888888888,
             "#fdca26"
            ],
            [
             1,
             "#f0f921"
            ]
           ],
           "sequentialminus": [
            [
             0,
             "#0d0887"
            ],
            [
             0.1111111111111111,
             "#46039f"
            ],
            [
             0.2222222222222222,
             "#7201a8"
            ],
            [
             0.3333333333333333,
             "#9c179e"
            ],
            [
             0.4444444444444444,
             "#bd3786"
            ],
            [
             0.5555555555555556,
             "#d8576b"
            ],
            [
             0.6666666666666666,
             "#ed7953"
            ],
            [
             0.7777777777777778,
             "#fb9f3a"
            ],
            [
             0.8888888888888888,
             "#fdca26"
            ],
            [
             1,
             "#f0f921"
            ]
           ]
          },
          "colorway": [
           "#636efa",
           "#EF553B",
           "#00cc96",
           "#ab63fa",
           "#FFA15A",
           "#19d3f3",
           "#FF6692",
           "#B6E880",
           "#FF97FF",
           "#FECB52"
          ],
          "font": {
           "color": "#2a3f5f"
          },
          "geo": {
           "bgcolor": "white",
           "lakecolor": "white",
           "landcolor": "#E5ECF6",
           "showlakes": true,
           "showland": true,
           "subunitcolor": "white"
          },
          "hoverlabel": {
           "align": "left"
          },
          "hovermode": "closest",
          "mapbox": {
           "style": "light"
          },
          "paper_bgcolor": "white",
          "plot_bgcolor": "#E5ECF6",
          "polar": {
           "angularaxis": {
            "gridcolor": "white",
            "linecolor": "white",
            "ticks": ""
           },
           "bgcolor": "#E5ECF6",
           "radialaxis": {
            "gridcolor": "white",
            "linecolor": "white",
            "ticks": ""
           }
          },
          "scene": {
           "xaxis": {
            "backgroundcolor": "#E5ECF6",
            "gridcolor": "white",
            "gridwidth": 2,
            "linecolor": "white",
            "showbackground": true,
            "ticks": "",
            "zerolinecolor": "white"
           },
           "yaxis": {
            "backgroundcolor": "#E5ECF6",
            "gridcolor": "white",
            "gridwidth": 2,
            "linecolor": "white",
            "showbackground": true,
            "ticks": "",
            "zerolinecolor": "white"
           },
           "zaxis": {
            "backgroundcolor": "#E5ECF6",
            "gridcolor": "white",
            "gridwidth": 2,
            "linecolor": "white",
            "showbackground": true,
            "ticks": "",
            "zerolinecolor": "white"
           }
          },
          "shapedefaults": {
           "line": {
            "color": "#2a3f5f"
           }
          },
          "ternary": {
           "aaxis": {
            "gridcolor": "white",
            "linecolor": "white",
            "ticks": ""
           },
           "baxis": {
            "gridcolor": "white",
            "linecolor": "white",
            "ticks": ""
           },
           "bgcolor": "#E5ECF6",
           "caxis": {
            "gridcolor": "white",
            "linecolor": "white",
            "ticks": ""
           }
          },
          "title": {
           "x": 0.05
          },
          "xaxis": {
           "automargin": true,
           "gridcolor": "white",
           "linecolor": "white",
           "ticks": "",
           "title": {
            "standoff": 15
           },
           "zerolinecolor": "white",
           "zerolinewidth": 2
          },
          "yaxis": {
           "automargin": true,
           "gridcolor": "white",
           "linecolor": "white",
           "ticks": "",
           "title": {
            "standoff": 15
           },
           "zerolinecolor": "white",
           "zerolinewidth": 2
          }
         }
        },
        "title": {
         "text": "Target4 Top 50 feature importance"
        },
        "width": 1250,
        "xaxis": {
         "anchor": "y",
         "domain": [
          0,
          1
         ],
         "title": {
          "text": "feature_importance"
         }
        },
        "yaxis": {
         "anchor": "x",
         "categoryarray": [
          "PlayerStats_saves_rank",
          "target3_202104_quantile25",
          "target3_202104_min",
          "StandingsMeta_awayLosses",
          "target1_202104_quantile25",
          "target1_202104_min",
          "target1_202104_max",
          "PlayerTwitterFollowerAggregate_quantile75",
          "target3_202104_max",
          "target1_202104_quantile75",
          "StandingsMeta_divWins",
          "target3_202104_prob",
          "target3_202104_std",
          "target1_202104_prob",
          "target3_202104_quantile75",
          "target3_202104_median",
          "StandingsMeta_runsScored",
          "Players_LE_birthCountry",
          "target4_202104_max",
          "target1_202104_median",
          "PlayerTwitterFollowerAggregate_max",
          "PlayerTwitterFollowerAggregate_median",
          "target1_202104_std",
          "target3_202104_mean",
          "StandingsMeta_divLosses",
          "PlayerTwitterFollowerAggregate_std",
          "target2_202104_max",
          "target4_202104_std",
          "Players_LE_primaryPositionCode",
          "PlayerTwitterFollowerAggregate_quantile25",
          "StandingsMeta_runsAllowed",
          "target4_202104_prob",
          "target4_202104_quantile75",
          "target2_202104_median",
          "target4_202104_mean",
          "target2_202104_std",
          "PlayerTwitterFollowerAggregate_mean",
          "target2_202104_quantile25",
          "PlayerTwitterFollowerAggregate_min",
          "target2_202104_prob",
          "target2_202104_quantile75",
          "target2_202104_min",
          "target1_202104_mean",
          "target2_202104_mean",
          "Rosters_LE_status",
          "target4_202104_quantile25",
          "target4_202104_median",
          "Rosters_LE_teamId",
          "Players_LE_playerid",
          "target4_202104_min"
         ],
         "categoryorder": "array",
         "domain": [
          0,
          1
         ],
         "showgrid": true,
         "title": {
          "text": "feature"
         }
        }
       }
      }
     },
     "metadata": {}
    }
   ],
   "metadata": {}
  },
  {
   "cell_type": "code",
   "execution_count": 47,
   "source": [
    "# for target, model_tmps in zip(CFG.TARGETS, models):\n",
    "#     for i, model_tmp in enumerate(model_tmps):\n",
    "#         model_tmp.save_model(f\"{CFG.MODEL_PATH}/lgb_{target}_{i}.txt\")"
   ],
   "outputs": [],
   "metadata": {}
  },
  {
   "cell_type": "markdown",
   "source": [
    "## Inference"
   ],
   "metadata": {}
  },
  {
   "cell_type": "code",
   "execution_count": 43,
   "source": [
    "def update_dataset(input_df: pd.DataFrame, sample_prediction_df: pd.DataFrame):\n",
    "    '''datasetの更新\n",
    "    '''\n",
    "    # columnがNaNでなければ分岐処理が実行される(pd.isnaとかでも代用可)\n",
    "    # NaN == NaNはFalseになる\n",
    "    ####################\n",
    "    # rosters #\n",
    "    ####################\n",
    "    if input_df[\"rosters\"].iloc[0] == input_df[\"rosters\"].iloc[0]:\n",
    "        test_rosters = pd.read_json(input_df[\"rosters\"].iloc[0])\n",
    "    else:\n",
    "        test_rosters = sample_prediction_df[[\"playerId\"]].copy()\n",
    "        for col in mlb_train_ds.train_rosters.columns:\n",
    "            if col == \"playerId\": continue\n",
    "            test_rosters[col] = np.nan\n",
    "\n",
    "    test_rosters[\"date\"] = input_df.iloc[0][\"date\"]\n",
    "    if input_df.iloc[0][\"date\"] > 20210430:\n",
    "        mlb_train_ds.train_rosters = reduce_mem_usage(pd.concat([mlb_train_ds.train_rosters, test_rosters], axis=0, ignore_index=True))\n",
    "    ####################\n",
    "    # playerBoxScores #\n",
    "    ####################\n",
    "    if input_df[\"playerBoxScores\"].iloc[0] == input_df[\"playerBoxScores\"].iloc[0]:\n",
    "        test_scores = pd.read_json(input_df[\"playerBoxScores\"].iloc[0])\n",
    "    else:\n",
    "        test_scores = sample_prediction_df[[\"playerId\"]].copy()\n",
    "        for col in mlb_train_ds.train_scores.columns:\n",
    "            if col == \"playerId\": continue\n",
    "            test_scores[col] = np.nan\n",
    "    \n",
    "    test_scores[\"date\"] = input_df.iloc[0][\"date\"]\n",
    "    if input_df.iloc[0][\"date\"] > 20210430:\n",
    "        mlb_train_ds.train_scores = reduce_mem_usage(pd.concat([mlb_train_ds.train_scores, test_scores], axis=0, ignore_index=True))\n",
    "    ####################\n",
    "    # teamBoxScores #\n",
    "    ####################\n",
    "    if input_df[\"teamBoxScores\"].iloc[0] == input_df[\"teamBoxScores\"].iloc[0]:\n",
    "        test_teamBoxScores = pd.read_json(input_df[\"teamBoxScores\"].iloc[0])\n",
    "    else:\n",
    "        cols = mlb_train_ds.train_tbs.drop(columns=\"date\", axis=1).columns.tolist()\n",
    "        test_teamBoxScores = pd.DataFrame(columns=cols)\n",
    "        test_teamBoxScores[\"teamId\"] = mlb_train_ds.train_tbs.teamId.unique()\n",
    "\n",
    "    test_teamBoxScores[\"date\"] = input_df.iloc[0][\"date\"]\n",
    "    if input_df.iloc[0][\"date\"] > 20210430:\n",
    "        mlb_train_ds.train_tbs = reduce_mem_usage(pd.concat([mlb_train_ds.train_tbs, test_teamBoxScores], axis=0, ignore_index=True))\n",
    "    ####################\n",
    "    # games #\n",
    "    ####################\n",
    "    if input_df[\"games\"].iloc[0] == input_df[\"games\"].iloc[0]:\n",
    "        test_games = pd.read_json(input_df[\"games\"].iloc[0])\n",
    "    else:\n",
    "        cols = mlb_train_ds.train_games.drop(columns=\"date\", axis=1).columns.tolist()\n",
    "        test_games = pd.DataFrame(columns=cols)\n",
    "\n",
    "    test_games[\"date\"] = input_df.iloc[0][\"date\"]\n",
    "    if input_df.iloc[0][\"date\"] > 20210430:\n",
    "        mlb_train_ds.train_games = reduce_mem_usage(pd.concat([mlb_train_ds.train_games, test_games], axis=0, ignore_index=True))\n",
    "    ####################\n",
    "    # staindings #\n",
    "    ####################\n",
    "    if input_df[\"standings\"].iloc[0] == input_df[\"standings\"].iloc[0]:\n",
    "        test_standings = pd.read_json(input_df[\"standings\"].iloc[0])\n",
    "    else:\n",
    "        cols = mlb_train_ds.train_standings.drop(columns=\"date\", axis=1).columns.tolist()\n",
    "        test_standings = pd.DataFrame(columns=cols)\n",
    "    \n",
    "    test_standings[\"date\"] = input_df.iloc[0][\"date\"]\n",
    "    if input_df.iloc[0][\"date\"] > 20210430:\n",
    "        mlb_train_ds.train_standings = reduce_mem_usage(pd.concat([mlb_train_ds.train_standings, test_standings], axis=0, ignore_index=True))\n",
    "    ####################\n",
    "    # awards #\n",
    "    ####################\n",
    "    if input_df[\"awards\"].iloc[0] == input_df[\"awards\"].iloc[0]:\n",
    "        test_awards = pd.read_json(input_df[\"awards\"].iloc[0])\n",
    "    else:\n",
    "        cols = mlb_train_ds.train_awards.drop(columns=\"date\", axis=1).columns.tolist()\n",
    "        test_awards = pd.DataFrame(columns=cols)\n",
    "    \n",
    "    test_awards[\"date\"] = input_df.iloc[0][\"date\"]\n",
    "    if input_df.iloc[0][\"date\"] > 20210430:\n",
    "        mlb_train_ds.train_awards = reduce_mem_usage(pd.concat([mlb_train_ds.train_awards, test_awards], axis=0, ignore_index=True))"
   ],
   "outputs": [],
   "metadata": {}
  },
  {
   "cell_type": "code",
   "execution_count": 44,
   "source": [
    "# models = []\n",
    "# for target in CFG.TARGETS:\n",
    "#     tmp = [lgb.Booster(model_file=f\"{CFG.MODEL_PATH}/lgb_{target}_{i}.txt\") for i in range(len(CFG.SEEDS))]\n",
    "#     models.append(tmp)"
   ],
   "outputs": [],
   "metadata": {}
  },
  {
   "cell_type": "code",
   "execution_count": 45,
   "source": [
    "# env = mlb.make_env()\n",
    "# iter_test = env.iter_test()\n",
    "\n",
    "# for (test_df, sample_prediction_df) in iter_test:\n",
    "#     sample_prediction_df = sample_prediction_df.reset_index(drop=True)\n",
    "#     # create dataset\n",
    "#     test_df = test_df.reset_index()\n",
    "#     test_df = test_df.rename(columns={\"index\": \"date\"})\n",
    "#     sample_prediction_df[\"date\"] = test_df.iloc[0][\"date\"]\n",
    "#     sample_prediction_df[\"playerId\"] = sample_prediction_df[\"date_playerId\"].map(lambda x: int(x.split(\"_\")[1]))\n",
    "#     update_dataset(test_df, sample_prediction_df)\n",
    "#     # create features\n",
    "#     test_feat_df = create_test_feature(sample_prediction_df, update_blocks, non_update_blocks)\n",
    "#     X_test = test_feat_df.values\n",
    "#     # prediction\n",
    "#     for target, model in zip(CFG.TARGETS, models):\n",
    "#         pred = np.mean([model_.predict(X_test, num_iteration=model_.best_iteration) for model_ in model], axis=0)\n",
    "#         sample_prediction_df[target] = np.clip(pred, 0, 100)\n",
    "\n",
    "#     sample_prediction_df = sample_prediction_df.drop(columns=[\"playerId\", \"date\"], axis=1)\n",
    "\n",
    "#     env.predict(sample_prediction_df)"
   ],
   "outputs": [],
   "metadata": {}
  },
  {
   "cell_type": "code",
   "execution_count": 46,
   "source": [
    "# Local inference check\n",
    "# test_df = mlb_train_ds.example_test.query(\"date <= 20210426\").copy()\n",
    "# sample_prediction_df = mlb_train_ds.sample_submission.query(\"date <= 20210426\").copy()\n",
    "# sample_prediction_df[\"playerId\"] = sample_prediction_df[\"date_playerId\"].map(lambda x: int(x.split(\"_\")[1]))"
   ],
   "outputs": [],
   "metadata": {}
  },
  {
   "cell_type": "code",
   "execution_count": null,
   "source": [],
   "outputs": [],
   "metadata": {}
  }
 ],
 "metadata": {
  "orig_nbformat": 4,
  "language_info": {
   "name": "python",
   "version": "3.8.8",
   "mimetype": "text/x-python",
   "codemirror_mode": {
    "name": "ipython",
    "version": 3
   },
   "pygments_lexer": "ipython3",
   "nbconvert_exporter": "python",
   "file_extension": ".py"
  },
  "kernelspec": {
   "name": "python3",
   "display_name": "Python 3.8.8 64-bit ('.venv': poetry)"
  },
  "interpreter": {
   "hash": "49e542643694108dbc7cdf9f60531ad0f8dd36c5e7a125d96861557f43e4f65e"
  }
 },
 "nbformat": 4,
 "nbformat_minor": 2
}