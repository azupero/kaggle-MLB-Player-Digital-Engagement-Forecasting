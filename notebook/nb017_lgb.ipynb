{
 "cells": [
  {
   "cell_type": "markdown",
   "source": [
    "# Overview\n",
    "- LightGBM"
   ],
   "metadata": {}
  },
  {
   "cell_type": "code",
   "execution_count": 41,
   "source": [
    "import numpy as np\n",
    "import pandas as pd\n",
    "from pathlib import Path\n",
    "from sklearn.metrics import mean_absolute_error\n",
    "from datetime import timedelta\n",
    "from tqdm.notebook import tqdm\n",
    "import lightgbm as lgb\n",
    "from typing import List, Union, Optional\n",
    "import time\n",
    "from contextlib import contextmanager\n",
    "import sys\n",
    "import logging\n",
    "import category_encoders as ce\n",
    "import plotly\n",
    "from plotly import express as px\n",
    "from scipy.stats import norm\n",
    "# import mlb\n",
    "\n",
    "pd.options.display.max_columns = 200"
   ],
   "outputs": [],
   "metadata": {}
  },
  {
   "cell_type": "markdown",
   "source": [
    "## Config"
   ],
   "metadata": {}
  },
  {
   "cell_type": "code",
   "execution_count": 42,
   "source": [
    "class CFG:\n",
    "    ######################\n",
    "    # global #\n",
    "    ######################\n",
    "    INPUT_DIR = \"../input/mlb-player-digital-engagement-forecasting\"\n",
    "    # INPUT_DIR = \"../input/mlb-unnested-dataset\" # for kaggle kernel\n",
    "    OBJECT_ID = [\"playerId\", \"date\"]\n",
    "    TARGETS = [\"target1\", \"target2\", \"target3\", \"target4\"]\n",
    "    ######################\n",
    "    # model #\n",
    "    ######################\n",
    "    LGB_PARAMS = {\n",
    "        \"objective\": \"mae\",\n",
    "        \"boosting_type\": \"gbdt\",\n",
    "        \"learning_rate\": 0.1,\n",
    "        \"max_depth\": 6,\n",
    "        \"num_leaves\": int(2 ** 6 * 0.8),\n",
    "        \"lambda_l1\": 0.1,\n",
    "        \"lambda_l2\": 0.1,\n",
    "        \"bagging_fraction\": 0.9,\n",
    "        \"bagging_freq\": 3,\n",
    "        \"feature_fraction\": 0.9,\n",
    "        \"min_data_in_leaf\": 20,\n",
    "        \"num_threads\": 8,\n",
    "        \"verbosity\": -1,\n",
    "        \"num_iterations\": 10000,\n",
    "        \"early_stopping_round\": 100,\n",
    "    }\n",
    "    SEEDS = [2434, 98]\n",
    "    MODEL_PATH = \"../output/nb017\"\n",
    "    # MODEL_PATH = \"../input/mlb-nb017-lgb-weights\" # for kaggle kernel"
   ],
   "outputs": [],
   "metadata": {}
  },
  {
   "cell_type": "markdown",
   "source": [
    "## Utils"
   ],
   "metadata": {}
  },
  {
   "cell_type": "code",
   "execution_count": 43,
   "source": [
    "def get_logger(out_file=None):\n",
    "    logger = logging.getLogger()  # loggerの呼び出し\n",
    "    formatter = logging.Formatter(\"[%(asctime)s] [%(levelname)s] [%(message)s]\")  # ログ出力の際のフォーマットを定義\n",
    "    logger.handlers = []  # ハンドラーを追加するためのリスト\n",
    "    logger.setLevel(logging.INFO)  # ロギングのレベルを設定, 'INFO' : 想定された通りのことが起こったことの確認\n",
    "\n",
    "    handler = logging.StreamHandler(sys.stdout)  # StreamHandler(コンソールに出力するハンドラ)を追加\n",
    "    handler.setFormatter(formatter)\n",
    "    handler.setLevel(logging.INFO)\n",
    "    logger.addHandler(handler)\n",
    "\n",
    "    # ログをファイルとして出力する際のハンドラ(FileHandler)\n",
    "    if out_file is not None:\n",
    "        fh = logging.FileHandler(out_file)\n",
    "        fh.setFormatter(formatter)\n",
    "        fh.setLevel(logging.INFO)\n",
    "        logger.addHandler(fh)\n",
    "\n",
    "    logger.info(\"logger set up\")  # \"logger set up\"を表示\n",
    "    return logger\n",
    "\n",
    "\n",
    "@contextmanager\n",
    "def timer(name: str, logger: Optional[logging.Logger] = None):\n",
    "    t0 = time.time()\n",
    "    msg = f\"<{name}> start\"\n",
    "    if logger is None:\n",
    "        print(msg)\n",
    "    else:\n",
    "        logger.info(msg)\n",
    "    yield\n",
    "\n",
    "    msg = f\"<{name}> done in {time.time() - t0:.2f} s\"\n",
    "    if logger is None:\n",
    "        print(msg)\n",
    "    else:\n",
    "        logger.info(msg)\n",
    "\n",
    "\n",
    "def reduce_mem_usage(df, verbose=True):\n",
    "    numerics = ['int16', 'int32', 'int64', 'float16', 'float32', 'float64']\n",
    "    start_mem = df.memory_usage().sum() / 1024**2\n",
    "    for col in df.columns:\n",
    "        col_type = df[col].dtypes\n",
    "        if col_type in numerics:\n",
    "            c_min = df[col].min()\n",
    "            c_max = df[col].max()\n",
    "            if str(col_type)[:3] == 'int':\n",
    "                if c_min > np.iinfo(np.int8).min and c_max < np.iinfo(np.int8).max:\n",
    "                    df[col] = df[col].astype(np.int16)\n",
    "                elif c_min > np.iinfo(np.int16).min and c_max < np.iinfo(np.int16).max:\n",
    "                    df[col] = df[col].astype(np.int32)\n",
    "                elif c_min > np.iinfo(np.int32).min and c_max < np.iinfo(np.int32).max:\n",
    "                    df[col] = df[col].astype(np.int64)\n",
    "                elif c_min > np.iinfo(np.int64).min and c_max < np.iinfo(np.int64).max:\n",
    "                    df[col] = df[col].astype(np.int64)\n",
    "            else:\n",
    "                if c_min > np.finfo(np.float16).min and c_max < np.finfo(np.float16).max:\n",
    "                    df[col] = df[col].astype(np.float32)\n",
    "                elif c_min > np.finfo(np.float32).min and c_max < np.finfo(np.float32).max:\n",
    "                    df[col] = df[col].astype(np.float64)\n",
    "                else:\n",
    "                    df[col] = df[col].astype(np.float64)\n",
    "    end_mem = df.memory_usage().sum() / 1024**2\n",
    "    if verbose: print('Mem. usage decreased to {:5.2f} Mb ({:.1f}% reduction)'.format(end_mem, 100 * (start_mem - end_mem) / start_mem))\n",
    "    return df"
   ],
   "outputs": [],
   "metadata": {}
  },
  {
   "cell_type": "markdown",
   "source": [
    "## Loading dataset"
   ],
   "metadata": {}
  },
  {
   "cell_type": "code",
   "execution_count": 44,
   "source": [
    "class MLBDataset(object):\n",
    "    def __init__(self, input_path):\n",
    "        self.input_path = Path(input_path)\n",
    "        #################\n",
    "        # train #\n",
    "        #################\n",
    "        self.train_next = pd.read_pickle(self.input_path / \"train_nextDayPlayerEngagement.pickle\")\n",
    "        self.train_rosters = pd.read_pickle(self.input_path / \"train_rosters.pickle\")\n",
    "        self.train_ptf = pd.read_pickle(self.input_path / \"train_playerTwitterFollowers.pickle\")\n",
    "        self.train_scores = pd.read_pickle(self.input_path / \"train_playerBoxScores.pickle\")\n",
    "        self.train_games = pd.read_pickle(self.input_path / \"train_games.pickle\")\n",
    "        self.train_standings = pd.read_pickle(self.input_path / \"train_standings.pickle\")\n",
    "        self.train_tbs = pd.read_pickle(self.input_path / \"train_teamBoxScores.pickle\")\n",
    "        self.train_ttf = pd.read_pickle(self.input_path / \"train_teamTwitterFollowers.pickle\")\n",
    "        self.train_trans = pd.read_pickle(self.input_path / \"train_transactions.pickle\")\n",
    "        self.train_awards = pd.read_pickle(self.input_path / \"train_awards.pickle\")\n",
    "        self.train_events = pd.read_pickle(self.input_path / \"train_events.pickle\")\n",
    "        #################\n",
    "        # Additional #\n",
    "        #################\n",
    "        self.players = pd.read_pickle(self.input_path / \"players.pickle\")\n",
    "        self.awards = pd.read_pickle(self.input_path / \"awards.pickle\")\n",
    "        self.seasons = pd.read_pickle(self.input_path / \"seasons.pickle\")\n",
    "        self.teams = pd.read_pickle(self.input_path / \"teams.pickle\")\n",
    "        #################\n",
    "        # test #\n",
    "        #################\n",
    "        self.example_test = pd.read_csv(self.input_path / \"example_test.csv\")\n",
    "        self.sample_submission = pd.read_csv(self.input_path / \"example_sample_submission.csv\")\n",
    "\n",
    "        # # only players in test set\n",
    "        # target_playerids = self.players[self.players[\"playerForTestSetAndFuturePreds\"] == True][\"playerId\"].unique()\n",
    "        # self.train_next = self.train_next[self.train_next[\"playerId\"].isin(target_playerids)].reset_index(drop=True)\n",
    "\n",
    "mlb_train_ds = MLBDataset(CFG.INPUT_DIR)"
   ],
   "outputs": [],
   "metadata": {}
  },
  {
   "cell_type": "markdown",
   "source": [
    "## Feature blocks"
   ],
   "metadata": {}
  },
  {
   "cell_type": "code",
   "execution_count": 45,
   "source": [
    "def merge_by_key(left: Union[pd.DataFrame, pd.Series], right: pd.DataFrame, on=CFG.OBJECT_ID) -> pd.DataFrame:\n",
    "    if not isinstance(left, pd.Series):\n",
    "        left = left[on]\n",
    "    return pd.merge(left, right, on=on, how=\"left\").drop(columns=on)\n",
    "\n",
    "\n",
    "class BaseBlock(object):\n",
    "    def fit(self, input_df: pd.DataFrame, y=None) -> pd.DataFrame:\n",
    "        return self.transform(input_df)\n",
    "\n",
    "    def transform(self, input_df: pd.DataFrame) -> pd.DataFrame:\n",
    "        return NotImplementedError()\n",
    "\n",
    "\n",
    "# class LagBlock(BaseBlock):\n",
    "#     def __init__(self, column: str, periods: List[int]):\n",
    "#         self.column = column\n",
    "#         self.periods = periods\n",
    "\n",
    "#     def fit(self, input_df: pd.DataFrame, y=None):\n",
    "#         agg_list = [input_df.groupby([\"playerId\"], as_index=False)[self.column].transform(lambda x: x.shift(periods=period)).add_prefix(f\"{period}_\") for period in self.periods]\n",
    "#         self.agg_df = pd.concat(agg_list, axis=1)\n",
    "\n",
    "#         return self.transform(input_df)\n",
    "\n",
    "#     def transform(self, input_df: pd.DataFrame):\n",
    "#         return self.agg_df.add_prefix(\"Lag_\")\n",
    "\n",
    "\n",
    "def quantile25(x: pd.Series):\n",
    "    return x.quantile(q=0.25)\n",
    "\n",
    "\n",
    "def quantile75(x: pd.Series):\n",
    "    return x.quantile(q=0.75)\n",
    "\n",
    "\n",
    "def prob(x: pd.Series):\n",
    "    x = x.reset_index(drop=True).values.tolist()\n",
    "    mean = np.mean(x)\n",
    "    std = np.std(x)\n",
    "    distribution = norm(mean, std)\n",
    "    min_weight = min(x)\n",
    "    max_weight = max(x)\n",
    "    values = list(np.linspace(min_weight, max_weight))\n",
    "    probabilities = [distribution.pdf(v) for v in values]\n",
    "    max_values = max(probabilities)\n",
    "    max_index = probabilities.index(max_values)\n",
    "\n",
    "    return x[max_index]\n",
    "\n",
    "\n",
    "class TargetAggregateBlock(BaseBlock):\n",
    "    def __init__(self, periods: List[int]):\n",
    "        self.periods = periods\n",
    "        \n",
    "    def fit(self, input_df: pd.DataFrame, y=None):\n",
    "        output_df = pd.DataFrame()\n",
    "        for i in self.periods:\n",
    "            target_df = mlb_train_ds.train_next[(mlb_train_ds.train_next[\"date\"] >= i) & (mlb_train_ds.train_next[\"date\"] < (i + 100))].copy()\n",
    "            target_df[\"target2_prod_4\"] = target_df[\"target2\"] * target_df[\"target4\"]\n",
    "            target_df[\"target2_div_4\"] = target_df[\"target2\"] / target_df[\"target4\"]\n",
    "            cols = target_df.drop(columns=[\"date\", \"engagementMetricsDate\", \"playerId\"], axis=1).columns.tolist()\n",
    "            dfs = [target_df.groupby([\"playerId\"])[col].agg([\n",
    "                \"mean\", \"std\", \"max\", \"min\", \"median\", quantile25, quantile75, prob\n",
    "                ]).add_prefix(f\"{col}_{str(i)[:-2]}_\") for col in cols]\n",
    "            tmp_df = pd.concat(dfs, axis=1)\n",
    "            output_df = pd.concat([output_df, tmp_df], axis=1)\n",
    "\n",
    "        self.agg_df = output_df.reset_index()\n",
    "\n",
    "        return self.transform(input_df)\n",
    "\n",
    "    def transform(self, input_df: pd.DataFrame):\n",
    "        return merge_by_key(input_df, self.agg_df, on=\"playerId\")\n",
    "\n",
    "\n",
    "class PlayersLabelEncodingBlock(BaseBlock):\n",
    "    def __init__(self, columns: List[str]):\n",
    "        self.columns = columns + [\"playerId\"]\n",
    "        self.players_df = mlb_train_ds.players.copy()\n",
    "        self.players_df[\"DOB_year\"] = pd.to_datetime(self.players_df[\"DOB\"]).dt.year\n",
    "        self.players_df[\"playerAge\"] = 2021 - self.players_df[\"DOB_year\"]\n",
    "        self.labeled_df = self.players_df[self.columns].copy()\n",
    "        self.labeled_df[\"playerid\"] = self.labeled_df[\"playerId\"]\n",
    "        self.columns = self.columns + [\"playerid\"]\n",
    "        self.encoder = None\n",
    "    \n",
    "    def fit(self, input_df: pd.DataFrame, y=None):\n",
    "        self.encoder = ce.OrdinalEncoder(handle_unknown=\"value\", handle_missing=\"values\")\n",
    "        self.encoder.fit(self.labeled_df[self.columns])\n",
    "        self.labeled_df[self.columns] = self.encoder.transform(self.labeled_df[self.columns])\n",
    "\n",
    "        return self.transform(input_df)\n",
    "\n",
    "    def transform(self, input_df: pd.DataFrame):\n",
    "        return merge_by_key(input_df, self.labeled_df, on=\"playerId\").add_prefix(\"Players_LE_\")\n",
    "\n",
    "\n",
    "class RostersLabelEncodingBlock(BaseBlock):\n",
    "    def __init__(self, columns: List[str]):\n",
    "        self.columns = columns\n",
    "        self.encoder = None\n",
    "\n",
    "    def fit(self, input_df: pd.DataFrame, y=None):\n",
    "        rosters_df = mlb_train_ds.train_rosters[self.columns]\n",
    "        self.encoder = ce.OrdinalEncoder(handle_unknown=\"value\", handle_missing=\"value\")\n",
    "        self.encoder.fit(rosters_df[self.columns])\n",
    "\n",
    "        return self.transform(input_df)\n",
    "\n",
    "    def transform(self, input_df: pd.DataFrame):\n",
    "        self.labeled_df = mlb_train_ds.train_rosters[CFG.OBJECT_ID + self.columns].copy()\n",
    "        self.labeled_df[self.columns] = self.encoder.transform(self.labeled_df[self.columns])\n",
    "\n",
    "        return merge_by_key(input_df, self.labeled_df).add_prefix(\"Rosters_LE_\")\n",
    "\n",
    "    \n",
    "# class PlayerBoxScoresCountBlock(BaseBlock):\n",
    "#     def __init__(self, columns: List[str]):\n",
    "#         self.columns = columns\n",
    "\n",
    "#     def transform(self, input_df: pd.DataFrame):\n",
    "#         self.agg_df = mlb_train_ds.train_scores.groupby(CFG.OBJECT_ID)[self.columns].sum().reset_index()\n",
    "        \n",
    "#         return merge_by_key(input_df, self.agg_df).add_prefix(\"PlayerBoxScoresCount_\")\n",
    "\n",
    "\n",
    "# class TeamBoxScoresCountBlock(BaseBlock):\n",
    "#     def __init__(self, columns: List[str]):\n",
    "#         self.columns = columns\n",
    "\n",
    "#     def transform(self, input_df: pd.DataFrame):\n",
    "#         input_df = input_df.merge(mlb_train_ds.train_rosters[[\"date\", \"playerId\", \"teamId\"]], on=[\"playerId\", \"date\"], how=\"left\")\n",
    "#         self.agg_df = mlb_train_ds.train_tbs.groupby([\"teamId\", \"date\"])[self.columns].sum().reset_index()\n",
    "\n",
    "#         return merge_by_key(input_df, self.agg_df, on=[\"teamId\", \"date\"]).add_prefix(\"TeamBoxScoresCount_\")\n",
    "\n",
    "\n",
    "class GamesCountBlock(BaseBlock):\n",
    "    def __init__(self, columns: List[str]):\n",
    "        self.columns = columns\n",
    "\n",
    "    def transform(self, input_df: pd.DataFrame):\n",
    "        games_df = mlb_train_ds.train_scores[[\"date\", \"playerId\", \"gamePk\"]].merge(mlb_train_ds.train_games, on=[\"date\", \"gamePk\"], how=\"left\")\n",
    "        self.agg_df = games_df.groupby([\"date\", \"playerId\"])[self.columns].sum().reset_index()\n",
    "\n",
    "        return merge_by_key(input_df, self.agg_df).add_prefix(\"GamesCount_\")\n",
    "\n",
    "\n",
    "class StandingsMetaBlock(BaseBlock):\n",
    "    def __init__(self, columns: List[str]):\n",
    "        self.columns = columns\n",
    "\n",
    "    def transform(self, input_df: pd.DataFrame):\n",
    "        self.standings_df = mlb_train_ds.train_rosters[[\"date\", \"playerId\", \"teamId\"]].merge(mlb_train_ds.train_standings, on=[\"date\", \"teamId\"], how=\"left\")\n",
    "\n",
    "        return merge_by_key(input_df, self.standings_df[self.columns]).add_prefix(\"StandingsMeta_\")\n",
    "\n",
    "\n",
    "class PlayerTwitterFollowerAggregateBlock(BaseBlock):\n",
    "    def fit(self, input_df: pd.DataFrame, y=None):\n",
    "        self.agg_df = mlb_train_ds.train_ptf.groupby([\"playerId\"])[\"numberOfFollowers\"].agg([\n",
    "            \"mean\", \"std\", \"max\", \"min\", \"median\", quantile25, quantile75])\n",
    "\n",
    "        return self.transform(input_df)\n",
    "\n",
    "    def transform(self, input_df: pd.DataFrame):\n",
    "        return merge_by_key(input_df, self.agg_df, on=\"playerId\").add_prefix(\"PlayerTwitterFollowerAggregate_\")\n",
    "\n",
    "\n",
    "class PlayerStatsBlock(BaseBlock):\n",
    "    def transform(self, input_df: pd.DataFrame):\n",
    "        playerBoxScores = mlb_train_ds.train_scores.copy()\n",
    "        playerBoxScores[\"year\"] = pd.to_datetime(playerBoxScores[\"gameDate\"]).dt.year\n",
    "\n",
    "        self.agg_df = playerBoxScores.groupby([\"year\", \"playerId\", \"date\"], as_index=False).agg(\n",
    "            gamePk = (\"gamePk\", \"nunique\"),\n",
    "            home = (\"home\", np.sum),\n",
    "            # teamId = (\"teamId\", np.sum),\n",
    "            positionCode = (\"positionCode\", np.sum),\n",
    "            battingOrder = (\"battingOrder\", np.sum),\n",
    "            # 打撃編\n",
    "            gamesPlayedBatting = (\"gamesPlayedBatting\", np.sum),\n",
    "            plateAppearances = (\"plateAppearances\", np.sum),\n",
    "            atBats = (\"atBats\", np.sum),\n",
    "            hits = (\"hits\", np.sum),\n",
    "            doubles = (\"doubles\", np.sum),\n",
    "            triples = (\"triples\", np.sum),\n",
    "            homeRuns = (\"homeRuns\", np.sum),\n",
    "            rbi = (\"rbi\", np.sum),\n",
    "            runsScored = (\"runsScored\", np.sum),\n",
    "            totalBases = (\"totalBases\", np.sum),\n",
    "            baseOnBalls = (\"baseOnBalls\", np.sum),\n",
    "            hitByPitch = (\"hitByPitch\", np.sum),\n",
    "            intentionalWalks = (\"intentionalWalks\", np.sum),\n",
    "            groundIntoDoublePlay = (\"groundIntoDoublePlay\", np.sum),\n",
    "            groundIntoTriplePlay = (\"groundIntoTriplePlay\", np.sum),\n",
    "            strikeOuts = (\"strikeOuts\", np.sum),\n",
    "            sacBunts = (\"sacBunts\", np.sum),\n",
    "            sacFlies = (\"sacFlies\", np.sum),\n",
    "            caughtStealing = (\"caughtStealing\", np.sum),\n",
    "            stolenBases = (\"stolenBases\", np.sum),\n",
    "            leftOnBase = (\"leftOnBase\", np.sum),\n",
    "            catchersInterference = (\"catchersInterference\", np.sum),\n",
    "            pickoffs = (\"pickoffs\", np.sum),\n",
    "            flyOuts = (\"flyOuts\", np.sum),\n",
    "            groundOuts = (\"groundOuts\", np.sum),\n",
    "            # 投手編\n",
    "            gamesPlayedPitching = (\"gamesPlayedPitching\", np.sum),\n",
    "            gamesStartedPicthing = (\"gamesStartedPitching\", np.sum),\n",
    "            winsPitching = (\"winsPitching\", np.sum),\n",
    "            lossesPitching = (\"lossesPitching\", np.sum),\n",
    "            completeGamesPitching = (\"completeGamesPitching\", np.sum),\n",
    "            shutoutsPitching = (\"shutoutsPitching\", np.sum),\n",
    "            saves = (\"saves\", np.sum),\n",
    "            saveOpportunities = (\"saveOpportunities\", np.sum),\n",
    "            blownSaves = (\"blownSaves\", np.sum),\n",
    "            holds = (\"holds\", np.sum),\n",
    "            inningsPitched = (\"inningsPitched\", np.sum),\n",
    "            runsPitching = (\"runsPitching\", np.sum),\n",
    "            earnedRuns = (\"earnedRuns\", np.sum),\n",
    "            pitchesThrown = (\"pitchesThrown\", np.sum),\n",
    "            hitsPitching = (\"hitsPitching\", np.sum),\n",
    "            homeRunsPitching = (\"homeRunsPitching\", np.sum),\n",
    "            strikeOutsPitching = (\"strikeOutsPitching\", np.sum),\n",
    "            baseOnBallsPitching = (\"baseOnBallsPitching\", np.sum),\n",
    "            hitByPitchPitching = (\"hitByPitchPitching\", np.sum),\n",
    "            intentionalWalksPitching = (\"intentionalWalksPitching\", np.sum),\n",
    "            balks = (\"balks\", np.sum),\n",
    "            wildPitches = (\"wildPitches\", np.sum),\n",
    "            atBatsPitching = (\"atBatsPitching\", np.sum),\n",
    "            battersFaced = (\"battersFaced\", np.sum),\n",
    "            sacBuntsPitching = (\"sacBuntsPitching\", np.sum),\n",
    "            sacFliesPitching = (\"sacFliesPitching\", np.sum),\n",
    "            inheritedRunners = (\"inheritedRunners\", np.sum),\n",
    "            inheritedRunnersScored = (\"inheritedRunnersScored\", np.sum),\n",
    "            rbiPitching = (\"rbiPitching\", np.sum),\n",
    "            flyOutsPitching = (\"flyOutsPitching\", np.sum),\n",
    "            airOutsPitching = (\"airOutsPitching\", np.sum),\n",
    "            doublesPitching = (\"doublesPitching\", np.sum),\n",
    "            triplesPitching = (\"triplesPitching\", np.sum),\n",
    "            caughtStealingPitching = (\"caughtStealingPitching\", np.sum),\n",
    "            stolenBasesPitching = (\"stolenBasesPitching\", np.sum),\n",
    "            outsPitching = (\"outsPitching\", np.sum),\n",
    "            balls = (\"balls\", np.sum),\n",
    "            strikes = (\"strikes\", np.sum),\n",
    "            hitBatsmen = (\"hitBatsmen\", np.sum),\n",
    "            pickoffsPitching = (\"pickoffsPitching\", np.sum),\n",
    "            catchersInterferencePitching = (\"catchersInterferencePitching\", np.sum),\n",
    "            assists = (\"assists\", np.sum),\n",
    "            putOuts = (\"putOuts\", np.sum),\n",
    "            errors = (\"errors\", np.sum),\n",
    "            chances = (\"chances\", np.sum),\n",
    "            gamesFinishedPitching = (\"gamesFinishedPitching\", np.sum),\n",
    "            groundOutsPitching = (\"groundOutsPitching\", np.sum),\n",
    "            )\n",
    "\n",
    "        self.agg_df[\"qs\"] = ((self.agg_df[\"inningsPitched\"] >= 6) & (self.agg_df[\"runsPitching\"] <= 3)) * self.agg_df[\"gamesStartedPicthing\"]\n",
    "        self.agg_df[\"hqs\"] = ((self.agg_df[\"inningsPitched\"] >= 7) & (self.agg_df[\"runsPitching\"] <= 2)) * self.agg_df[\"gamesStartedPicthing\"]\n",
    "        \n",
    "        # シーズン成績\n",
    "        for col in self.agg_df.drop(columns=[\"year\", \"date\", \"playerId\"], axis=1).columns.tolist():\n",
    "            col_ = col + \"_cumsum\"\n",
    "            self.agg_df[col_] = self.agg_df.groupby([\"year\", \"playerId\"], as_index=False)[col].cumsum()\n",
    "\n",
    "        # 打撃編\n",
    "        self.agg_df[\"battingAverage\"] = self.agg_df[\"hits_cumsum\"] / self.agg_df[\"atBats_cumsum\"] # 打率\n",
    "        self.agg_df[\"sluggingPercentage\"] = self.agg_df[\"totalBases_cumsum\"] / self.agg_df[\"atBats_cumsum\"] # 長打率\n",
    "        self.agg_df[\"onBasePercentage\"] = (self.agg_df[\"hits_cumsum\"] + self.agg_df[\"baseOnBalls_cumsum\"] + self.agg_df[\"hitByPitch_cumsum\"])/(self.agg_df[\"atBats_cumsum\"] + self.agg_df[\"baseOnBalls_cumsum\"] + self.agg_df[\"hitByPitch_cumsum\"] + self.agg_df[\"sacFlies_cumsum\"]) # 出塁率\n",
    "        self.agg_df[\"ops\"] = self.agg_df[\"sluggingPercentage\"] + self.agg_df[\"onBasePercentage\"] # OPS\n",
    "        self.agg_df[\"isop\"] = self.agg_df[\"sluggingPercentage\"] - self.agg_df[\"battingAverage\"] # IsoP\n",
    "        self.agg_df[\"isod\"] = self.agg_df[\"onBasePercentage\"] - self.agg_df[\"battingAverage\"] # IsoD\n",
    "        self.agg_df[\"rc\"] = (self.agg_df[\"hits_cumsum\"] + self.agg_df[\"baseOnBalls_cumsum\"]) * self.agg_df[\"totalBases_cumsum\"] / (self.agg_df[\"atBats_cumsum\"] + self.agg_df[\"baseOnBalls_cumsum\"]) # RC\n",
    "        self.agg_df[\"rc27\"] = self.agg_df[\"rc\"] / (self.agg_df[\"atBats_cumsum\"] - self.agg_df[\"hits_cumsum\"] + self.agg_df[\"caughtStealing_cumsum\"] + self.agg_df[\"sacBunts_cumsum\"] + self.agg_df[\"sacFlies_cumsum\"] + self.agg_df[\"groundIntoDoublePlay_cumsum\"]) * 27 # RC27\n",
    "        self.agg_df[\"rc27\"] = self.agg_df[\"rc27\"].replace({np.inf: 0})\n",
    "        self.agg_df[\"babip\"] = (self.agg_df[\"hits_cumsum\"] - self.agg_df[\"homeRuns_cumsum\"]) / (self.agg_df[\"atBats_cumsum\"] - self.agg_df[\"strikeOuts_cumsum\"] - self.agg_df[\"homeRuns_cumsum\"] + self.agg_df[\"sacFlies_cumsum\"]) # BABIP\n",
    "        self.agg_df[\"bb_k\"] = self.agg_df[\"baseOnBalls_cumsum\"] / self.agg_df[\"strikeOuts_cumsum\"] # BB/K\n",
    "        self.agg_df[\"k%\"] = self.agg_df[\"strikeOuts_cumsum\"] / self.agg_df[\"plateAppearances_cumsum\"] # K%\n",
    "        # 投手編\n",
    "        self.agg_df[\"era\"] = self.agg_df[\"earnedRuns_cumsum\"] * 9 / self.agg_df[\"inningsPitched_cumsum\"] # 防御率\n",
    "        self.agg_df[\"wp\"] = self.agg_df[\"winsPitching_cumsum\"] / (self.agg_df[\"winsPitching_cumsum\"] + self.agg_df[\"lossesPitching_cumsum\"]) # 勝率\n",
    "        self.agg_df[\"k9\"] = self.agg_df[\"strikeOutsPitching_cumsum\"] * 9 / self.agg_df[\"inningsPitched_cumsum\"] # K/9(奪三振率)\n",
    "        self.agg_df[\"hits_allowed_average\"] = self.agg_df[\"hitsPitching_cumsum\"] / self.agg_df[\"atBatsPitching_cumsum\"] # 被打率\n",
    "        self.agg_df[\"hp\"] = self.agg_df[\"holds_cumsum\"] + self.agg_df[\"winsPitching_cumsum\"] # HP\n",
    "        self.agg_df[\"qs%\"] = self.agg_df[\"qs_cumsum\"] / self.agg_df[\"gamesStartedPicthing_cumsum\"] # QS率\n",
    "        self.agg_df[\"hqs%\"] = self.agg_df[\"hqs_cumsum\"] / self.agg_df[\"gamesStartedPicthing_cumsum\"] # HQS率\n",
    "        self.agg_df[\"k%_pitching\"] = self.agg_df[\"strikeOutsPitching_cumsum\"] / self.agg_df[\"battersFaced_cumsum\"] # K%\n",
    "        self.agg_df[\"bb9\"] = self.agg_df[\"baseOnBallsPitching_cumsum\"] * 9 / self.agg_df[\"inningsPitched_cumsum\"] # BB/9\n",
    "        self.agg_df[\"bb%\"] = self.agg_df[\"baseOnBallsPitching_cumsum\"] / self.agg_df[\"battersFaced_cumsum\"] # BB%\n",
    "        self.agg_df[\"k_bb\"] = self.agg_df[\"strikeOutsPitching_cumsum\"] / (self.agg_df[\"baseOnBallsPitching_cumsum\"] + self.agg_df[\"hitByPitchPitching_cumsum\"]) # K/BB\n",
    "        self.agg_df[\"hr9\"] = self.agg_df[\"homeRunsPitching_cumsum\"] * 9 / self.agg_df[\"inningsPitched_cumsum\"] # HR/9\n",
    "        self.agg_df[\"babip_pitching\"] = (self.agg_df[\"hitsPitching_cumsum\"] - self.agg_df[\"homeRunsPitching_cumsum\"]) / (self.agg_df[\"atBatsPitching_cumsum\"] - self.agg_df[\"strikeOutsPitching_cumsum\"] - self.agg_df[\"homeRunsPitching_cumsum\"] + self.agg_df[\"sacFliesPitching_cumsum\"]) # BABIP\n",
    "        self.agg_df[\"whip\"] = (self.agg_df[\"baseOnBallsPitching_cumsum\"] + self.agg_df[\"hitsPitching_cumsum\"]) / self.agg_df[\"inningsPitched_cumsum\"] # WHIP\n",
    "        # ランキング\n",
    "        # 率のものは規定打席以上かどうか、投手かどうかを加えたい\n",
    "        self.agg_df[\"homeRuns_rank\"] = self.agg_df.groupby([\"date\"])[\"homeRuns_cumsum\"].rank(ascending=False, method=\"min\").astype(int)\n",
    "        self.agg_df[\"hits_rank\"] = self.agg_df.groupby([\"date\"])[\"hits_cumsum\"].rank(ascending=False, method=\"min\").astype(int)\n",
    "        self.agg_df[\"rbi_rank\"] = self.agg_df.groupby([\"date\"])[\"rbi_cumsum\"].rank(ascending=False, method=\"min\").astype(int)\n",
    "        self.agg_df[\"doubles_rank\"] = self.agg_df.groupby([\"date\"])[\"doubles_cumsum\"].rank(ascending=False, method=\"min\").astype(int)\n",
    "        self.agg_df[\"triples_rank\"] = self.agg_df.groupby([\"date\"])[\"triples_cumsum\"].rank(ascending=False, method=\"min\").astype(int)\n",
    "        self.agg_df[\"runsScored_rank\"] = self.agg_df.groupby([\"date\"])[\"runsScored_cumsum\"].rank(ascending=False, method=\"min\").astype(int)\n",
    "        self.agg_df[\"totalBases_rank\"] = self.agg_df.groupby([\"date\"])[\"totalBases_cumsum\"].rank(ascending=False, method=\"min\").astype(int)\n",
    "        self.agg_df[\"baseOnBalls_rank\"] = self.agg_df.groupby([\"date\"])[\"baseOnBalls_cumsum\"].rank(ascending=False, method=\"min\").astype(int)\n",
    "        self.agg_df[\"hitByPitch_rank\"] = self.agg_df.groupby([\"date\"])[\"hitByPitch_cumsum\"].rank(ascending=False, method=\"min\").astype(int)\n",
    "        self.agg_df[\"strikeOuts_rank\"] = self.agg_df.groupby([\"date\"])[\"strikeOuts_cumsum\"].rank(ascending=False, method=\"min\").astype(int)\n",
    "        self.agg_df[\"stolenBases_rank\"] = self.agg_df.groupby([\"date\"])[\"stolenBases_cumsum\"].rank(ascending=False, method=\"min\").astype(int)\n",
    "        self.agg_df[\"plateAppearances_rank\"] = self.agg_df.groupby([\"date\"])[\"plateAppearances_cumsum\"].rank(ascending=False, method=\"min\").astype(int)\n",
    "        self.agg_df[\"atBats_rank\"] = self.agg_df.groupby([\"date\"])[\"atBats_cumsum\"].rank(ascending=False, method=\"min\").astype(int)\n",
    "\n",
    "        self.agg_df[\"battingAverage_rank\"] = self.agg_df[self.agg_df[\"gamesPlayedBatting\"] == 1.0].groupby([\"date\"])[\"battingAverage\"].rank(ascending=False, method=\"min\")\n",
    "        self.agg_df[\"ops_rank\"] = self.agg_df.groupby([\"date\"])[\"ops\"].rank(ascending=False, method=\"min\")\n",
    "        self.agg_df[\"isop_rank\"] = self.agg_df.groupby([\"date\"])[\"isop\"].rank(ascending=False, method=\"min\")\n",
    "        self.agg_df[\"isod_rank\"] = self.agg_df.groupby([\"date\"])[\"isod\"].rank(ascending=False, method=\"min\")\n",
    "        self.agg_df[\"rc_rank\"] = self.agg_df.groupby([\"date\"])[\"rc\"].rank(ascending=False, method=\"min\")\n",
    "        self.agg_df[\"rc27_rank\"] = self.agg_df.groupby([\"date\"])[\"rc27\"].rank(ascending=False, method=\"min\")\n",
    "        self.agg_df[\"babip_rank\"] = self.agg_df.groupby([\"date\"])[\"babip\"].rank(ascending=False, method=\"min\")\n",
    "        self.agg_df[\"bb_k_rank\"] = self.agg_df.groupby([\"date\"])[\"bb_k\"].rank(ascending=False, method=\"min\")\n",
    "        self.agg_df[\"k%_rank\"] = self.agg_df.groupby([\"date\"])[\"k%\"].rank(ascending=False, method=\"min\")\n",
    "\n",
    "        self.agg_df[\"winsPitching_rank\"] = self.agg_df.groupby([\"date\"])[\"winsPitching_cumsum\"].rank(ascending=False, method=\"min\").astype(int)\n",
    "        self.agg_df[\"lossesPitching_rank\"] = self.agg_df.groupby([\"date\"])[\"lossesPitching_cumsum\"].rank(ascending=False, method=\"min\").astype(int)\n",
    "        self.agg_df[\"saves_rank\"] = self.agg_df.groupby([\"date\"])[\"saves_cumsum\"].rank(ascending=False, method=\"min\").astype(int)\n",
    "        self.agg_df[\"holds_rank\"] = self.agg_df.groupby([\"date\"])[\"holds_cumsum\"].rank(ascending=False, method=\"min\").astype(int)\n",
    "        self.agg_df[\"completeGamesPitching_rank\"] = self.agg_df.groupby([\"date\"])[\"completeGamesPitching_cumsum\"].rank(ascending=False, method=\"min\").astype(int)\n",
    "        self.agg_df[\"shutoutsPitching_rank\"] = self.agg_df.groupby([\"date\"])[\"shutoutsPitching_cumsum\"].rank(ascending=False, method=\"min\").astype(int)\n",
    "        self.agg_df[\"inningsPitched_rank\"] = self.agg_df.groupby([\"date\"])[\"inningsPitched_cumsum\"].rank(ascending=False, method=\"min\").astype(int)\n",
    "        self.agg_df[\"runsPitching_rank\"] = self.agg_df.groupby([\"date\"])[\"runsPitching_cumsum\"].rank(ascending=False, method=\"min\").astype(int)\n",
    "        self.agg_df[\"earnedRuns_rank\"] = self.agg_df.groupby([\"date\"])[\"earnedRuns_cumsum\"].rank(ascending=False, method=\"min\").astype(int)\n",
    "\n",
    "        self.agg_df[\"era_rank\"] = self.agg_df.groupby([\"date\"])[\"era\"].rank(ascending=False, method=\"min\")\n",
    "        self.agg_df[\"whip_rank\"] = self.agg_df.groupby([\"date\"])[\"whip\"].rank(ascending=False, method=\"min\")\n",
    "        # 規定打席\n",
    "        # teamBoxScores = mlb_train_ds.train_tbs.copy()\n",
    "        # teamBoxScores[\"year\"] = pd.to_datetime(teamBoxScores[\"gameDate\"]).dt.year\n",
    "        # teamBoxScores_agg_df = teamBoxScores.groupby([\"year\", \"teamId\", \"date\"], as_index=False)[\"gamePk\"].nunique()\n",
    "        # teamBoxScores_agg_df[\"gamePk_cumsum\"] = teamBoxScores_agg_df.groupby([\"teamId\", \"year\"])[\"gamePk\"].cumsum()\n",
    "        # self.agg_df = self.agg_df.merge(teamBoxScores_agg_df, on=[\"date\"])\n",
    "        \n",
    "        # self.agg_df = reduce_mem_usage(self.agg_df)\n",
    "\n",
    "\n",
    "        return merge_by_key(input_df, self.agg_df.drop(columns=[\"year\"], axis=1)).add_prefix(\"PlayerStats_\")\n",
    "\n",
    "\n",
    "class AwardsCountBlock(BaseBlock):\n",
    "    def transform(self, input_df: pd.DataFrame):\n",
    "        awards_df = mlb_train_ds.train_awards.copy()\n",
    "        self.agg_df = pd.crosstab([awards_df[\"date\"], awards_df[\"playerId\"]], awards_df[\"awardId\"]).reset_index()\n",
    "\n",
    "        output_df = merge_by_key(input_df, self.agg_df).fillna(0).astype(int)\n",
    "        output_df[\"total_awards\"] = output_df.sum(axis=1)\n",
    "        return output_df.add_prefix(\"AwardsCount_\")"
   ],
   "outputs": [],
   "metadata": {}
  },
  {
   "cell_type": "code",
   "execution_count": 46,
   "source": [
    "def create_train_feature(input_df: pd.DataFrame, y: np.ndarray, update_blocks: list, non_update_blocks: list) -> pd.DataFrame:\n",
    "    feat_df = pd.DataFrame()\n",
    "    blocks = update_blocks + non_update_blocks\n",
    "\n",
    "    for block in blocks:\n",
    "        with timer(name=f\"{str(block) + '_fit'}\", logger=logger):\n",
    "            try:\n",
    "                out_feat_block = block.fit(input_df, y=y)\n",
    "            except Exception as e:\n",
    "                print(f\"Error on {block} fit.\")\n",
    "                raise e from e\n",
    "\n",
    "            assert len(out_feat_block) == len(input_df), block\n",
    "\n",
    "        feat_df = pd.concat([feat_df, out_feat_block], axis=1)\n",
    "\n",
    "    return feat_df\n",
    "\n",
    "\n",
    "def create_test_feature(input_df: pd.DataFrame, update_blocks: list, non_update_blocks: list) -> pd.DataFrame:\n",
    "    is_update = True if len(update_blocks) != 0 else False\n",
    "    update_feat_df = pd.DataFrame()\n",
    "    non_update_feat_df = pd.DataFrame()\n",
    "    \n",
    "    if is_update:\n",
    "        for block in update_blocks:\n",
    "            with timer(name=f\"{str(block) + '_update'}\", logger=logger):\n",
    "                try:\n",
    "                    out_feat_block = block.fit(input_df)\n",
    "                except Exception as e:\n",
    "                    print(f\"Error on {block} transform.\")\n",
    "                    raise e from e\n",
    "\n",
    "            update_feat_df = pd.concat([update_feat_df, out_feat_block], axis=1)\n",
    "        \n",
    "\n",
    "    for block in non_update_blocks:\n",
    "        with timer(name=f\"{str(block) + '_transform'}\", logger=logger):\n",
    "            try:\n",
    "                out_feat_block = block.transform(input_df)\n",
    "            except Exception as e:\n",
    "                print(f\"Error on {block} transform.\")\n",
    "                raise e from e\n",
    "\n",
    "            assert len(out_feat_block) == len(input_df), block\n",
    "\n",
    "        non_update_feat_df = pd.concat([non_update_feat_df, out_feat_block], axis=1)\n",
    "\n",
    "    feat_df = pd.concat([update_feat_df, non_update_feat_df], axis=1) if is_update else non_update_feat_df\n",
    "\n",
    "    return feat_df"
   ],
   "outputs": [],
   "metadata": {}
  },
  {
   "cell_type": "markdown",
   "source": [
    "## CV"
   ],
   "metadata": {}
  },
  {
   "cell_type": "code",
   "execution_count": 47,
   "source": [
    "def get_timeseries_holdout(train_df: pd.DataFrame, valid_start_date: int) -> List[tuple]:\n",
    "    fold = []\n",
    "    train_idx = np.array(train_df[train_df[\"date\"] < valid_start_date].index)\n",
    "    valid_idx = np.array(train_df[train_df[\"date\"] >= valid_start_date].index)\n",
    "    fold.append((train_idx, valid_idx))\n",
    "\n",
    "    return fold"
   ],
   "outputs": [],
   "metadata": {}
  },
  {
   "cell_type": "markdown",
   "source": [
    "## Model"
   ],
   "metadata": {}
  },
  {
   "cell_type": "code",
   "execution_count": 48,
   "source": [
    "class LightGBMTrainer:\n",
    "    def __init__(self, params: dict, seeds: List[int]):\n",
    "        self.params = params\n",
    "        self.seeds = seeds\n",
    "        self.models = []\n",
    "\n",
    "    def fit(self, X_train: np.ndarray, y_train: np.ndarray, cv: List[tuple]):\n",
    "        oof_all = []\n",
    "        for i, seed in enumerate(self.seeds):\n",
    "            self.params[\"seed\"] = seed\n",
    "\n",
    "            for train_idx, valid_idx in cv:\n",
    "                X_train_fold = X_train[train_idx]\n",
    "                X_valid_fold = X_train[valid_idx]\n",
    "\n",
    "                y_train_fold = y_train[train_idx]\n",
    "                y_valid_fold = y_train[valid_idx]\n",
    "\n",
    "                train_set = lgb.Dataset(X_train_fold, y_train_fold)\n",
    "                valid_set = lgb.Dataset(X_valid_fold, y_valid_fold, reference=train_set)\n",
    "\n",
    "                model = lgb.train(\n",
    "                    params=self.params,\n",
    "                    train_set=train_set,\n",
    "                    valid_sets=[train_set, valid_set],\n",
    "                    verbose_eval=100,\n",
    "                )\n",
    "\n",
    "                y_oof = model.predict(X_valid_fold, num_iteration=model.best_iteration)\n",
    "                oof_all.append(y_oof)\n",
    "                self.models.append(model)\n",
    "\n",
    "        oof_all = np.mean(oof_all, axis=0)\n",
    "        oof_score = mean_absolute_error(oof_all, y_valid_fold)\n",
    "\n",
    "        return oof_score, self.models\n",
    "\n",
    "    def predict(self, X_test: np.ndarray):\n",
    "        y_pred = np.mean([model.predict(X_test, num_iteration=model.best_iteration) for model in self.models], axis=0)\n",
    "\n",
    "        return y_pred\n",
    "\n",
    "\n",
    "def run_lgb(X_train, targets, params, seeds, fold):\n",
    "    cv_scores = []\n",
    "    models = []\n",
    "\n",
    "    for i, target in enumerate(targets):\n",
    "        print(f\"Training for Target{i+1}\")\n",
    "        trainer = LightGBMTrainer(params, seeds)\n",
    "        oof_score_tmp, models_tmp = trainer.fit(X_train, target, fold)\n",
    "        cv_scores.append(oof_score_tmp)\n",
    "        models.append(models_tmp)\n",
    "        print(f\"Local Target{i+1} OOF-MAE : {np.mean(oof_score_tmp)}\")\n",
    "        print(\"-\"*50)\n",
    "\n",
    "    print(f\"Local MCMAE : {np.mean(cv_scores)}\")\n",
    "\n",
    "    return models"
   ],
   "outputs": [],
   "metadata": {}
  },
  {
   "cell_type": "markdown",
   "source": [
    "## Training"
   ],
   "metadata": {}
  },
  {
   "cell_type": "code",
   "execution_count": 49,
   "source": [
    "# set-up logger\n",
    "logger = get_logger()\n",
    "\n",
    "# create feature\n",
    "update_blocks = []\n",
    "non_update_blocks = [\n",
    "    TargetAggregateBlock(periods=[\n",
    "        # 20210201,\n",
    "        # 20210301,\n",
    "        20210401,\n",
    "    ]),\n",
    "    RostersLabelEncodingBlock(columns=[\n",
    "        \"teamId\",\n",
    "        \"status\"\n",
    "    ]),\n",
    "    PlayersLabelEncodingBlock(columns=[\n",
    "        \"birthCountry\",\n",
    "        \"birthCity\",\n",
    "        \"birthStateProvince\",\n",
    "        \"heightInches\",\n",
    "        \"weight\",\n",
    "        \"primaryPositionCode\",\n",
    "        \"playerAge\"\n",
    "    ]),\n",
    "    PlayerStatsBlock(),\n",
    "    # AwardsCountBlock(),\n",
    "    # TeamBoxScoresCountBlock(columns=[\n",
    "    #     # 'date',\n",
    "    #     # 'home',\n",
    "    #     # 'teamId',\n",
    "    #     # 'gamePk',\n",
    "    #     # 'gameDate',\n",
    "    #     # 'gameTimeUTC',\n",
    "    #     'flyOuts',\n",
    "    #     'groundOuts',\n",
    "    #     'runsScored',\n",
    "    #     'doubles',\n",
    "    #     'triples',\n",
    "    #     'homeRuns',\n",
    "    #     'strikeOuts',\n",
    "    #     'baseOnBalls',\n",
    "    #     'intentionalWalks',\n",
    "    #     'hits',\n",
    "    #     'hitByPitch',\n",
    "    #     'atBats',\n",
    "    #     'caughtStealing',\n",
    "    #     'stolenBases',\n",
    "    #     'groundIntoDoublePlay',\n",
    "    #     'groundIntoTriplePlay',\n",
    "    #     'plateAppearances',\n",
    "    #     'totalBases',\n",
    "    #     'rbi',\n",
    "    #     'leftOnBase',\n",
    "    #     'sacBunts',\n",
    "    #     'sacFlies',\n",
    "    #     'catchersInterference',\n",
    "    #     'pickoffs',\n",
    "    #     'airOutsPitching',\n",
    "    #     'groundOutsPitching',\n",
    "    #     'runsPitching',\n",
    "    #     'doublesPitching',\n",
    "    #     'triplesPitching',\n",
    "    #     'homeRunsPitching',\n",
    "    #     'strikeOutsPitching',\n",
    "    #     'baseOnBallsPitching',\n",
    "    #     'intentionalWalksPitching',\n",
    "    #     'hitsPitching',\n",
    "    #     'hitByPitchPitching',\n",
    "    #     'atBatsPitching',\n",
    "    #     'caughtStealingPitching',\n",
    "    #     'stolenBasesPitching',\n",
    "    #     'inningsPitched',\n",
    "    #     'earnedRuns',\n",
    "    #     'battersFaced',\n",
    "    #     'outsPitching',\n",
    "    #     'hitBatsmen',\n",
    "    #     'balks',\n",
    "    #     'wildPitches',\n",
    "    #     'pickoffsPitching',\n",
    "    #     'rbiPitching',\n",
    "    #     'inheritedRunners',\n",
    "    #     'inheritedRunnersScored',\n",
    "    #     'catchersInterferencePitching',\n",
    "    #     'sacBuntsPitching',\n",
    "    #     'sacFliesPitching'\n",
    "    #     ]\n",
    "    # ),\n",
    "    GamesCountBlock(columns=[\n",
    "        # 'date',\n",
    "        # 'gamePk',\n",
    "        # 'gameType',\n",
    "        # 'season',\n",
    "        # 'gameDate',\n",
    "        # 'gameTimeUTC',\n",
    "        # 'resumeDate',\n",
    "        # 'resumedFrom',\n",
    "        # 'codedGameState',\n",
    "        # 'detailedGameState',\n",
    "        'isTie',\n",
    "        'gameNumber',\n",
    "        'doubleHeader',\n",
    "        # 'dayNight',\n",
    "        'scheduledInnings',\n",
    "        'gamesInSeries',\n",
    "        # 'seriesDescription',\n",
    "        'homeId',\n",
    "        # 'homeName',\n",
    "        # 'homeAbbrev',\n",
    "        'homeWins',\n",
    "        'homeLosses',\n",
    "        'homeWinPct',\n",
    "        'homeWinner',\n",
    "        'homeScore',\n",
    "        'awayId',\n",
    "        # 'awayName',\n",
    "        # 'awayAbbrev',\n",
    "        'awayWins',\n",
    "        'awayLosses',\n",
    "        'awayWinPct',\n",
    "        'awayWinner',\n",
    "        'awayScore'\n",
    "        ]\n",
    "    ),\n",
    "    PlayerTwitterFollowerAggregateBlock(),\n",
    "    StandingsMetaBlock(columns=[\n",
    "        'playerId',\n",
    "        'date',\n",
    "        # 'season',\n",
    "        # 'gameDate',\n",
    "        'divisionId',\n",
    "        # 'teamId',\n",
    "        # 'teamName',\n",
    "        # 'streakCode',\n",
    "        'divisionRank',\n",
    "        'leagueRank',\n",
    "        'wildCardRank',\n",
    "        # 'leagueGamesBack',\n",
    "        # 'sportGamesBack',\n",
    "        # 'divisionGamesBack',\n",
    "        'wins',\n",
    "        'losses',\n",
    "        'pct',\n",
    "        'runsAllowed',\n",
    "        'runsScored',\n",
    "        # 'divisionChamp',\n",
    "        # 'divisionLeader',\n",
    "        # 'wildCardLeader',\n",
    "        # 'eliminationNumber',\n",
    "        # 'wildCardEliminationNumber',\n",
    "        'homeWins',\n",
    "        'homeLosses',\n",
    "        'awayWins',\n",
    "        'awayLosses',\n",
    "        'lastTenWins',\n",
    "        'lastTenLosses',\n",
    "        'extraInningWins',\n",
    "        'extraInningLosses',\n",
    "        'oneRunWins',\n",
    "        'oneRunLosses',\n",
    "        'dayWins',\n",
    "        'dayLosses',\n",
    "        'nightWins',\n",
    "        'nightLosses',\n",
    "        'grassWins',\n",
    "        'grassLosses',\n",
    "        'turfWins',\n",
    "        'turfLosses',\n",
    "        'divWins',\n",
    "        'divLosses',\n",
    "        'alWins',\n",
    "        'alLosses',\n",
    "        'nlWins',\n",
    "        'nlLosses',\n",
    "        'xWinLossPct'\n",
    "        ]\n",
    "    ),\n",
    "]\n",
    "\n",
    "y = mlb_train_ds.train_next[\"target1\"].values\n",
    "input_df = mlb_train_ds.train_next[CFG.OBJECT_ID].copy()\n",
    "train_feat_df = create_train_feature(input_df, y, update_blocks, non_update_blocks)\n",
    "X_train = train_feat_df.values\n",
    "targets = [mlb_train_ds.train_next[col].values for col in CFG.TARGETS]\n",
    "\n",
    "# split train/valid\n",
    "fold = get_timeseries_holdout(input_df, valid_start_date=20210401)\n",
    "\n",
    "# training\n",
    "models = run_lgb(X_train, targets, CFG.LGB_PARAMS, CFG.SEEDS, fold)"
   ],
   "outputs": [
    {
     "output_type": "stream",
     "name": "stdout",
     "text": [
      "[2021-07-15 23:09:08,086] [INFO] [logger set up]\n",
      "[2021-07-15 23:09:08,434] [INFO] [<<__main__.TargetAggregateBlock object at 0x105f698b0>_fit> start]\n"
     ]
    },
    {
     "output_type": "stream",
     "name": "stderr",
     "text": [
      "/Users/azupero/data-science/kaggle/MLB-Player-Digital-Engagement-Forecasting/.venv/lib/python3.8/site-packages/scipy/stats/_distn_infrastructure.py:1870: RuntimeWarning:\n",
      "\n",
      "invalid value encountered in double_scalars\n",
      "\n",
      "/Users/azupero/data-science/kaggle/MLB-Player-Digital-Engagement-Forecasting/.venv/lib/python3.8/site-packages/numpy/lib/function_base.py:4009: RuntimeWarning:\n",
      "\n",
      "invalid value encountered in subtract\n",
      "\n",
      "/Users/azupero/data-science/kaggle/MLB-Player-Digital-Engagement-Forecasting/.venv/lib/python3.8/site-packages/numpy/lib/function_base.py:4011: RuntimeWarning:\n",
      "\n",
      "invalid value encountered in multiply\n",
      "\n",
      "/Users/azupero/data-science/kaggle/MLB-Player-Digital-Engagement-Forecasting/.venv/lib/python3.8/site-packages/numpy/lib/function_base.py:4012: RuntimeWarning:\n",
      "\n",
      "invalid value encountered in subtract\n",
      "\n",
      "/Users/azupero/data-science/kaggle/MLB-Player-Digital-Engagement-Forecasting/.venv/lib/python3.8/site-packages/numpy/core/function_base.py:151: RuntimeWarning:\n",
      "\n",
      "invalid value encountered in multiply\n",
      "\n",
      "/Users/azupero/data-science/kaggle/MLB-Player-Digital-Engagement-Forecasting/.venv/lib/python3.8/site-packages/numpy/core/_methods.py:230: RuntimeWarning:\n",
      "\n",
      "invalid value encountered in subtract\n",
      "\n",
      "/Users/azupero/data-science/kaggle/MLB-Player-Digital-Engagement-Forecasting/.venv/lib/python3.8/site-packages/scipy/stats/_distn_infrastructure.py:1870: RuntimeWarning:\n",
      "\n",
      "invalid value encountered in subtract\n",
      "\n",
      "/Users/azupero/data-science/kaggle/MLB-Player-Digital-Engagement-Forecasting/.venv/lib/python3.8/site-packages/numpy/core/function_base.py:134: RuntimeWarning:\n",
      "\n",
      "invalid value encountered in double_scalars\n",
      "\n"
     ]
    },
    {
     "output_type": "stream",
     "name": "stdout",
     "text": [
      "[2021-07-15 23:10:10,864] [INFO] [<<__main__.TargetAggregateBlock object at 0x105f698b0>_fit> done in 62.43 s]\n",
      "[2021-07-15 23:10:10,970] [INFO] [<<__main__.RostersLabelEncodingBlock object at 0x105ff0970>_fit> start]\n",
      "[2021-07-15 23:10:12,153] [INFO] [<<__main__.RostersLabelEncodingBlock object at 0x105ff0970>_fit> done in 1.18 s]\n",
      "[2021-07-15 23:10:12,489] [INFO] [<<__main__.PlayersLabelEncodingBlock object at 0x105f770a0>_fit> start]\n",
      "[2021-07-15 23:10:12,936] [INFO] [<<__main__.PlayersLabelEncodingBlock object at 0x105f770a0>_fit> done in 0.45 s]\n",
      "[2021-07-15 23:10:13,290] [INFO] [<<__main__.PlayerStatsBlock object at 0x124539e50>_fit> start]\n",
      "[2021-07-15 23:10:25,346] [INFO] [<<__main__.PlayerStatsBlock object at 0x124539e50>_fit> done in 12.06 s]\n",
      "[2021-07-15 23:10:26,949] [INFO] [<<__main__.GamesCountBlock object at 0x124539b20>_fit> start]\n",
      "[2021-07-15 23:10:28,285] [INFO] [<<__main__.GamesCountBlock object at 0x124539b20>_fit> done in 1.34 s]\n",
      "[2021-07-15 23:10:33,046] [INFO] [<<__main__.PlayerTwitterFollowerAggregateBlock object at 0x12450fa30>_fit> start]\n",
      "[2021-07-15 23:10:34,560] [INFO] [<<__main__.PlayerTwitterFollowerAggregateBlock object at 0x12450fa30>_fit> done in 1.51 s]\n",
      "[2021-07-15 23:10:39,765] [INFO] [<<__main__.StandingsMetaBlock object at 0x12450fc10>_fit> start]\n",
      "[2021-07-15 23:10:44,764] [INFO] [<<__main__.StandingsMetaBlock object at 0x12450fc10>_fit> done in 5.00 s]\n",
      "Training for Target1\n"
     ]
    },
    {
     "output_type": "stream",
     "name": "stderr",
     "text": [
      "/Users/azupero/data-science/kaggle/MLB-Player-Digital-Engagement-Forecasting/.venv/lib/python3.8/site-packages/lightgbm/engine.py:148: UserWarning:\n",
      "\n",
      "Found `num_iterations` in params. Will use it instead of argument\n",
      "\n",
      "/Users/azupero/data-science/kaggle/MLB-Player-Digital-Engagement-Forecasting/.venv/lib/python3.8/site-packages/lightgbm/engine.py:153: UserWarning:\n",
      "\n",
      "Found `early_stopping_round` in params. Will use it instead of argument\n",
      "\n"
     ]
    },
    {
     "output_type": "stream",
     "name": "stdout",
     "text": [
      "Training until validation scores don't improve for 100 rounds\n",
      "[100]\ttraining's l1: 0.515492\tvalid_1's l1: 0.701287\n",
      "[200]\ttraining's l1: 0.514918\tvalid_1's l1: 0.700073\n",
      "Early stopping, best iteration is:\n",
      "[136]\ttraining's l1: 0.514934\tvalid_1's l1: 0.700067\n",
      "Training until validation scores don't improve for 100 rounds\n",
      "[100]\ttraining's l1: 0.514557\tvalid_1's l1: 0.697983\n",
      "[200]\ttraining's l1: 0.513172\tvalid_1's l1: 0.694448\n",
      "[300]\ttraining's l1: 0.512953\tvalid_1's l1: 0.693759\n",
      "Early stopping, best iteration is:\n",
      "[243]\ttraining's l1: 0.512956\tvalid_1's l1: 0.693751\n",
      "Local Target1 OOF-MAE : 0.6964170452264064\n",
      "--------------------------------------------------\n",
      "Training for Target2\n"
     ]
    },
    {
     "output_type": "stream",
     "name": "stderr",
     "text": [
      "/Users/azupero/data-science/kaggle/MLB-Player-Digital-Engagement-Forecasting/.venv/lib/python3.8/site-packages/lightgbm/engine.py:148: UserWarning:\n",
      "\n",
      "Found `num_iterations` in params. Will use it instead of argument\n",
      "\n",
      "/Users/azupero/data-science/kaggle/MLB-Player-Digital-Engagement-Forecasting/.venv/lib/python3.8/site-packages/lightgbm/engine.py:153: UserWarning:\n",
      "\n",
      "Found `early_stopping_round` in params. Will use it instead of argument\n",
      "\n"
     ]
    },
    {
     "output_type": "stream",
     "name": "stdout",
     "text": [
      "Training until validation scores don't improve for 100 rounds\n",
      "[100]\ttraining's l1: 1.72623\tvalid_1's l1: 1.42539\n",
      "Early stopping, best iteration is:\n",
      "[93]\ttraining's l1: 1.7271\tvalid_1's l1: 1.42466\n",
      "Training until validation scores don't improve for 100 rounds\n",
      "[100]\ttraining's l1: 1.72413\tvalid_1's l1: 1.42748\n",
      "Early stopping, best iteration is:\n",
      "[79]\ttraining's l1: 1.72726\tvalid_1's l1: 1.42691\n",
      "Local Target2 OOF-MAE : 1.4227802024559433\n",
      "--------------------------------------------------\n",
      "Training for Target3\n"
     ]
    },
    {
     "output_type": "stream",
     "name": "stderr",
     "text": [
      "/Users/azupero/data-science/kaggle/MLB-Player-Digital-Engagement-Forecasting/.venv/lib/python3.8/site-packages/lightgbm/engine.py:148: UserWarning:\n",
      "\n",
      "Found `num_iterations` in params. Will use it instead of argument\n",
      "\n",
      "/Users/azupero/data-science/kaggle/MLB-Player-Digital-Engagement-Forecasting/.venv/lib/python3.8/site-packages/lightgbm/engine.py:153: UserWarning:\n",
      "\n",
      "Found `early_stopping_round` in params. Will use it instead of argument\n",
      "\n"
     ]
    },
    {
     "output_type": "stream",
     "name": "stdout",
     "text": [
      "Training until validation scores don't improve for 100 rounds\n",
      "[100]\ttraining's l1: 0.6748\tvalid_1's l1: 0.54824\n",
      "[200]\ttraining's l1: 0.673191\tvalid_1's l1: 0.546562\n",
      "Early stopping, best iteration is:\n",
      "[175]\ttraining's l1: 0.673276\tvalid_1's l1: 0.546397\n",
      "Training until validation scores don't improve for 100 rounds\n",
      "[100]\ttraining's l1: 0.674587\tvalid_1's l1: 0.548289\n",
      "[200]\ttraining's l1: 0.673571\tvalid_1's l1: 0.547582\n",
      "[300]\ttraining's l1: 0.67325\tvalid_1's l1: 0.547426\n",
      "Early stopping, best iteration is:\n",
      "[240]\ttraining's l1: 0.673329\tvalid_1's l1: 0.547333\n",
      "Local Target3 OOF-MAE : 0.546552546718395\n",
      "--------------------------------------------------\n",
      "Training for Target4\n"
     ]
    },
    {
     "output_type": "stream",
     "name": "stderr",
     "text": [
      "/Users/azupero/data-science/kaggle/MLB-Player-Digital-Engagement-Forecasting/.venv/lib/python3.8/site-packages/lightgbm/engine.py:148: UserWarning:\n",
      "\n",
      "Found `num_iterations` in params. Will use it instead of argument\n",
      "\n",
      "/Users/azupero/data-science/kaggle/MLB-Player-Digital-Engagement-Forecasting/.venv/lib/python3.8/site-packages/lightgbm/engine.py:153: UserWarning:\n",
      "\n",
      "Found `early_stopping_round` in params. Will use it instead of argument\n",
      "\n"
     ]
    },
    {
     "output_type": "stream",
     "name": "stdout",
     "text": [
      "Training until validation scores don't improve for 100 rounds\n",
      "[100]\ttraining's l1: 0.803303\tvalid_1's l1: 1.11209\n",
      "[200]\ttraining's l1: 0.802703\tvalid_1's l1: 1.11209\n",
      "Early stopping, best iteration is:\n",
      "[111]\ttraining's l1: 0.80299\tvalid_1's l1: 1.11136\n",
      "Training until validation scores don't improve for 100 rounds\n",
      "[100]\ttraining's l1: 0.802663\tvalid_1's l1: 1.11574\n",
      "[200]\ttraining's l1: 0.801206\tvalid_1's l1: 1.1147\n",
      "Early stopping, best iteration is:\n",
      "[172]\ttraining's l1: 0.801306\tvalid_1's l1: 1.1142\n",
      "Local Target4 OOF-MAE : 1.1119432189730916\n",
      "--------------------------------------------------\n",
      "Local MCMAE : 0.9444232533434591\n"
     ]
    }
   ],
   "metadata": {}
  },
  {
   "cell_type": "code",
   "execution_count": 50,
   "source": [
    "def visualize_feature_importance(models, feat_train_df) -> plotly.graph_objects.Figure:\n",
    "    '''LightGBMのfeature importanceを可視化\n",
    "    '''\n",
    "    for target_i in range(len(models)):\n",
    "        feature_importance_df = pd.DataFrame()\n",
    "        for i, model in enumerate(models[target_i]):\n",
    "            _df = pd.DataFrame()\n",
    "            _df['feature_importance'] = model.feature_importance(importance_type=\"gain\")\n",
    "            _df['feature'] = feat_train_df.columns\n",
    "            _df['model_no'] = i + 1\n",
    "            feature_importance_df = pd.concat([feature_importance_df, _df], \n",
    "                                            axis=0, ignore_index=True)\n",
    "\n",
    "        order = feature_importance_df.groupby('feature')\\\n",
    "            .mean()[['feature_importance']]\\\n",
    "            .sort_values('feature_importance', ascending=False).index[:50]\n",
    "        \n",
    "        fig = px.box(\n",
    "            feature_importance_df.query(\"feature in @order\"),\n",
    "            x=\"feature_importance\",\n",
    "            y=\"feature\",\n",
    "            category_orders={\"feature\": order},\n",
    "            width=1250,\n",
    "            height=900,\n",
    "            title=f\"Target{target_i+1} Top 50 feature importance\",\n",
    "        )\n",
    "        fig.update_yaxes(showgrid=True)\n",
    "        fig.show()"
   ],
   "outputs": [],
   "metadata": {}
  },
  {
   "cell_type": "code",
   "execution_count": 51,
   "source": [
    "visualize_feature_importance(models, train_feat_df)"
   ],
   "outputs": [
    {
     "output_type": "display_data",
     "data": {
      "application/vnd.plotly.v1+json": {
       "config": {
        "plotlyServerURL": "https://plot.ly"
       },
       "data": [
        {
         "alignmentgroup": "True",
         "hovertemplate": "feature_importance=%{x}<br>feature=%{y}<extra></extra>",
         "legendgroup": "",
         "marker": {
          "color": "#636efa"
         },
         "name": "",
         "notched": false,
         "offsetgroup": "",
         "orientation": "h",
         "showlegend": false,
         "type": "box",
         "x": [
          2553485.924304962,
          334913.25646972656,
          117586.64009857178,
          408625.9747161865,
          251050.39434814453,
          130603.69361877441,
          1635509.3187789917,
          69302.90015411377,
          62886.42015838623,
          38373.69944000244,
          88596.2653503418,
          91348.22778320312,
          52888.20739746094,
          43603.05227661133,
          75316.24133682251,
          35970.73542022705,
          41976.333084106445,
          46412.190269470215,
          31982.827842712402,
          29057.726192474365,
          7561702.933895111,
          154914.6031074524,
          276358.366941452,
          59972.91298866272,
          58184.907455444336,
          48298.43487548828,
          33693.55381774902,
          64086.80405807495,
          708167.836517334,
          212066.9315185547,
          155966.76669311523,
          587201.6952514648,
          358750.7428894043,
          231664.55053710938,
          625068.1563606262,
          48153.16328430176,
          5160047.734680176,
          5741287.033211708,
          133548.13569641113,
          70339.63838195801,
          62476.88969421387,
          205649.66510009766,
          473299.3233642578,
          1697739.8815116882,
          206263.41199493408,
          106974.93975448608,
          461314.883682251,
          107920.28274536133,
          85777.57531738281,
          128830.59729003906,
          10370434.993684769,
          1789982.7476062775,
          320942.88495635986,
          378275.41040802,
          294626.0962924957,
          382083.412273407,
          3957009.6931915283,
          106656.5512084961,
          165142.45627212524,
          80403.72474765778,
          52956.74057006836,
          108535.30479812622,
          69082.215965271,
          146481.40324401855,
          68081.08439254761,
          146346.04721164703,
          154938.0838279724,
          117904.72254180908,
          81593.76338386536,
          81124.56703186035,
          4209333.22763443,
          333335.7089920044,
          166938.55638885498,
          110444.85892486572,
          197928.29293251038,
          118788.79832458496,
          162910.88514709473,
          96370.79429244995,
          923980.7121763229,
          450083.37047195435,
          299358.1958999634,
          370512.6700897217,
          649612.1167240143,
          138301.2930984497,
          3160745.583518982,
          191079.92976379395,
          8926214.091644287,
          7661034.980612755,
          357877.88599681854,
          54281.11614608765,
          122577.83665847778,
          457233.3483810425,
          1029648.7723693848,
          4486929.152492523,
          163833.0998287201,
          179022.94262313843,
          961561.2722320557,
          77462.36708831787,
          81491.92967224121,
          129828.99383544922
         ],
         "x0": " ",
         "xaxis": "x",
         "y": [
          "target1_202104_mean",
          "target1_202104_std",
          "target1_202104_max",
          "target1_202104_min",
          "target1_202104_median",
          "target1_202104_quantile25",
          "target1_202104_quantile75",
          "target1_202104_prob",
          "target2_202104_mean",
          "target2_202104_std",
          "target2_202104_min",
          "target2_202104_median",
          "target2_202104_quantile75",
          "target2_202104_prob",
          "target3_202104_mean",
          "target3_202104_min",
          "target3_202104_prob",
          "target4_202104_mean",
          "target4_202104_std",
          "target4_202104_max",
          "target4_202104_min",
          "target4_202104_median",
          "target4_202104_quantile25",
          "target4_202104_quantile75",
          "target4_202104_prob",
          "target2_prod_4_202104_min",
          "target2_prod_4_202104_quantile75",
          "target2_prod_4_202104_prob",
          "target2_div_4_202104_mean",
          "target2_div_4_202104_std",
          "target2_div_4_202104_max",
          "target2_div_4_202104_min",
          "target2_div_4_202104_median",
          "target2_div_4_202104_quantile25",
          "target2_div_4_202104_quantile75",
          "target2_div_4_202104_prob",
          "Rosters_LE_teamId",
          "Rosters_LE_status",
          "Players_LE_birthCity",
          "Players_LE_birthStateProvince",
          "Players_LE_weight",
          "Players_LE_primaryPositionCode",
          "Players_LE_playerAge",
          "Players_LE_playerid",
          "PlayerTwitterFollowerAggregate_mean",
          "PlayerTwitterFollowerAggregate_std",
          "PlayerTwitterFollowerAggregate_max",
          "PlayerTwitterFollowerAggregate_min",
          "PlayerTwitterFollowerAggregate_quantile25",
          "PlayerTwitterFollowerAggregate_quantile75",
          "target1_202104_mean",
          "target1_202104_std",
          "target1_202104_max",
          "target1_202104_min",
          "target1_202104_median",
          "target1_202104_quantile25",
          "target1_202104_quantile75",
          "target1_202104_prob",
          "target2_202104_mean",
          "target2_202104_std",
          "target2_202104_min",
          "target2_202104_median",
          "target2_202104_quantile75",
          "target2_202104_prob",
          "target3_202104_mean",
          "target3_202104_min",
          "target3_202104_prob",
          "target4_202104_mean",
          "target4_202104_std",
          "target4_202104_max",
          "target4_202104_min",
          "target4_202104_median",
          "target4_202104_quantile25",
          "target4_202104_quantile75",
          "target4_202104_prob",
          "target2_prod_4_202104_min",
          "target2_prod_4_202104_quantile75",
          "target2_prod_4_202104_prob",
          "target2_div_4_202104_mean",
          "target2_div_4_202104_std",
          "target2_div_4_202104_max",
          "target2_div_4_202104_min",
          "target2_div_4_202104_median",
          "target2_div_4_202104_quantile25",
          "target2_div_4_202104_quantile75",
          "target2_div_4_202104_prob",
          "Rosters_LE_teamId",
          "Rosters_LE_status",
          "Players_LE_birthCity",
          "Players_LE_birthStateProvince",
          "Players_LE_weight",
          "Players_LE_primaryPositionCode",
          "Players_LE_playerAge",
          "Players_LE_playerid",
          "PlayerTwitterFollowerAggregate_mean",
          "PlayerTwitterFollowerAggregate_std",
          "PlayerTwitterFollowerAggregate_max",
          "PlayerTwitterFollowerAggregate_min",
          "PlayerTwitterFollowerAggregate_quantile25",
          "PlayerTwitterFollowerAggregate_quantile75"
         ],
         "y0": " ",
         "yaxis": "y"
        }
       ],
       "layout": {
        "boxmode": "group",
        "height": 900,
        "legend": {
         "tracegroupgap": 0
        },
        "template": {
         "data": {
          "bar": [
           {
            "error_x": {
             "color": "#2a3f5f"
            },
            "error_y": {
             "color": "#2a3f5f"
            },
            "marker": {
             "line": {
              "color": "#E5ECF6",
              "width": 0.5
             }
            },
            "type": "bar"
           }
          ],
          "barpolar": [
           {
            "marker": {
             "line": {
              "color": "#E5ECF6",
              "width": 0.5
             }
            },
            "type": "barpolar"
           }
          ],
          "carpet": [
           {
            "aaxis": {
             "endlinecolor": "#2a3f5f",
             "gridcolor": "white",
             "linecolor": "white",
             "minorgridcolor": "white",
             "startlinecolor": "#2a3f5f"
            },
            "baxis": {
             "endlinecolor": "#2a3f5f",
             "gridcolor": "white",
             "linecolor": "white",
             "minorgridcolor": "white",
             "startlinecolor": "#2a3f5f"
            },
            "type": "carpet"
           }
          ],
          "choropleth": [
           {
            "colorbar": {
             "outlinewidth": 0,
             "ticks": ""
            },
            "type": "choropleth"
           }
          ],
          "contour": [
           {
            "colorbar": {
             "outlinewidth": 0,
             "ticks": ""
            },
            "colorscale": [
             [
              0,
              "#0d0887"
             ],
             [
              0.1111111111111111,
              "#46039f"
             ],
             [
              0.2222222222222222,
              "#7201a8"
             ],
             [
              0.3333333333333333,
              "#9c179e"
             ],
             [
              0.4444444444444444,
              "#bd3786"
             ],
             [
              0.5555555555555556,
              "#d8576b"
             ],
             [
              0.6666666666666666,
              "#ed7953"
             ],
             [
              0.7777777777777778,
              "#fb9f3a"
             ],
             [
              0.8888888888888888,
              "#fdca26"
             ],
             [
              1,
              "#f0f921"
             ]
            ],
            "type": "contour"
           }
          ],
          "contourcarpet": [
           {
            "colorbar": {
             "outlinewidth": 0,
             "ticks": ""
            },
            "type": "contourcarpet"
           }
          ],
          "heatmap": [
           {
            "colorbar": {
             "outlinewidth": 0,
             "ticks": ""
            },
            "colorscale": [
             [
              0,
              "#0d0887"
             ],
             [
              0.1111111111111111,
              "#46039f"
             ],
             [
              0.2222222222222222,
              "#7201a8"
             ],
             [
              0.3333333333333333,
              "#9c179e"
             ],
             [
              0.4444444444444444,
              "#bd3786"
             ],
             [
              0.5555555555555556,
              "#d8576b"
             ],
             [
              0.6666666666666666,
              "#ed7953"
             ],
             [
              0.7777777777777778,
              "#fb9f3a"
             ],
             [
              0.8888888888888888,
              "#fdca26"
             ],
             [
              1,
              "#f0f921"
             ]
            ],
            "type": "heatmap"
           }
          ],
          "heatmapgl": [
           {
            "colorbar": {
             "outlinewidth": 0,
             "ticks": ""
            },
            "colorscale": [
             [
              0,
              "#0d0887"
             ],
             [
              0.1111111111111111,
              "#46039f"
             ],
             [
              0.2222222222222222,
              "#7201a8"
             ],
             [
              0.3333333333333333,
              "#9c179e"
             ],
             [
              0.4444444444444444,
              "#bd3786"
             ],
             [
              0.5555555555555556,
              "#d8576b"
             ],
             [
              0.6666666666666666,
              "#ed7953"
             ],
             [
              0.7777777777777778,
              "#fb9f3a"
             ],
             [
              0.8888888888888888,
              "#fdca26"
             ],
             [
              1,
              "#f0f921"
             ]
            ],
            "type": "heatmapgl"
           }
          ],
          "histogram": [
           {
            "marker": {
             "colorbar": {
              "outlinewidth": 0,
              "ticks": ""
             }
            },
            "type": "histogram"
           }
          ],
          "histogram2d": [
           {
            "colorbar": {
             "outlinewidth": 0,
             "ticks": ""
            },
            "colorscale": [
             [
              0,
              "#0d0887"
             ],
             [
              0.1111111111111111,
              "#46039f"
             ],
             [
              0.2222222222222222,
              "#7201a8"
             ],
             [
              0.3333333333333333,
              "#9c179e"
             ],
             [
              0.4444444444444444,
              "#bd3786"
             ],
             [
              0.5555555555555556,
              "#d8576b"
             ],
             [
              0.6666666666666666,
              "#ed7953"
             ],
             [
              0.7777777777777778,
              "#fb9f3a"
             ],
             [
              0.8888888888888888,
              "#fdca26"
             ],
             [
              1,
              "#f0f921"
             ]
            ],
            "type": "histogram2d"
           }
          ],
          "histogram2dcontour": [
           {
            "colorbar": {
             "outlinewidth": 0,
             "ticks": ""
            },
            "colorscale": [
             [
              0,
              "#0d0887"
             ],
             [
              0.1111111111111111,
              "#46039f"
             ],
             [
              0.2222222222222222,
              "#7201a8"
             ],
             [
              0.3333333333333333,
              "#9c179e"
             ],
             [
              0.4444444444444444,
              "#bd3786"
             ],
             [
              0.5555555555555556,
              "#d8576b"
             ],
             [
              0.6666666666666666,
              "#ed7953"
             ],
             [
              0.7777777777777778,
              "#fb9f3a"
             ],
             [
              0.8888888888888888,
              "#fdca26"
             ],
             [
              1,
              "#f0f921"
             ]
            ],
            "type": "histogram2dcontour"
           }
          ],
          "mesh3d": [
           {
            "colorbar": {
             "outlinewidth": 0,
             "ticks": ""
            },
            "type": "mesh3d"
           }
          ],
          "parcoords": [
           {
            "line": {
             "colorbar": {
              "outlinewidth": 0,
              "ticks": ""
             }
            },
            "type": "parcoords"
           }
          ],
          "pie": [
           {
            "automargin": true,
            "type": "pie"
           }
          ],
          "scatter": [
           {
            "marker": {
             "colorbar": {
              "outlinewidth": 0,
              "ticks": ""
             }
            },
            "type": "scatter"
           }
          ],
          "scatter3d": [
           {
            "line": {
             "colorbar": {
              "outlinewidth": 0,
              "ticks": ""
             }
            },
            "marker": {
             "colorbar": {
              "outlinewidth": 0,
              "ticks": ""
             }
            },
            "type": "scatter3d"
           }
          ],
          "scattercarpet": [
           {
            "marker": {
             "colorbar": {
              "outlinewidth": 0,
              "ticks": ""
             }
            },
            "type": "scattercarpet"
           }
          ],
          "scattergeo": [
           {
            "marker": {
             "colorbar": {
              "outlinewidth": 0,
              "ticks": ""
             }
            },
            "type": "scattergeo"
           }
          ],
          "scattergl": [
           {
            "marker": {
             "colorbar": {
              "outlinewidth": 0,
              "ticks": ""
             }
            },
            "type": "scattergl"
           }
          ],
          "scattermapbox": [
           {
            "marker": {
             "colorbar": {
              "outlinewidth": 0,
              "ticks": ""
             }
            },
            "type": "scattermapbox"
           }
          ],
          "scatterpolar": [
           {
            "marker": {
             "colorbar": {
              "outlinewidth": 0,
              "ticks": ""
             }
            },
            "type": "scatterpolar"
           }
          ],
          "scatterpolargl": [
           {
            "marker": {
             "colorbar": {
              "outlinewidth": 0,
              "ticks": ""
             }
            },
            "type": "scatterpolargl"
           }
          ],
          "scatterternary": [
           {
            "marker": {
             "colorbar": {
              "outlinewidth": 0,
              "ticks": ""
             }
            },
            "type": "scatterternary"
           }
          ],
          "surface": [
           {
            "colorbar": {
             "outlinewidth": 0,
             "ticks": ""
            },
            "colorscale": [
             [
              0,
              "#0d0887"
             ],
             [
              0.1111111111111111,
              "#46039f"
             ],
             [
              0.2222222222222222,
              "#7201a8"
             ],
             [
              0.3333333333333333,
              "#9c179e"
             ],
             [
              0.4444444444444444,
              "#bd3786"
             ],
             [
              0.5555555555555556,
              "#d8576b"
             ],
             [
              0.6666666666666666,
              "#ed7953"
             ],
             [
              0.7777777777777778,
              "#fb9f3a"
             ],
             [
              0.8888888888888888,
              "#fdca26"
             ],
             [
              1,
              "#f0f921"
             ]
            ],
            "type": "surface"
           }
          ],
          "table": [
           {
            "cells": {
             "fill": {
              "color": "#EBF0F8"
             },
             "line": {
              "color": "white"
             }
            },
            "header": {
             "fill": {
              "color": "#C8D4E3"
             },
             "line": {
              "color": "white"
             }
            },
            "type": "table"
           }
          ]
         },
         "layout": {
          "annotationdefaults": {
           "arrowcolor": "#2a3f5f",
           "arrowhead": 0,
           "arrowwidth": 1
          },
          "autotypenumbers": "strict",
          "coloraxis": {
           "colorbar": {
            "outlinewidth": 0,
            "ticks": ""
           }
          },
          "colorscale": {
           "diverging": [
            [
             0,
             "#8e0152"
            ],
            [
             0.1,
             "#c51b7d"
            ],
            [
             0.2,
             "#de77ae"
            ],
            [
             0.3,
             "#f1b6da"
            ],
            [
             0.4,
             "#fde0ef"
            ],
            [
             0.5,
             "#f7f7f7"
            ],
            [
             0.6,
             "#e6f5d0"
            ],
            [
             0.7,
             "#b8e186"
            ],
            [
             0.8,
             "#7fbc41"
            ],
            [
             0.9,
             "#4d9221"
            ],
            [
             1,
             "#276419"
            ]
           ],
           "sequential": [
            [
             0,
             "#0d0887"
            ],
            [
             0.1111111111111111,
             "#46039f"
            ],
            [
             0.2222222222222222,
             "#7201a8"
            ],
            [
             0.3333333333333333,
             "#9c179e"
            ],
            [
             0.4444444444444444,
             "#bd3786"
            ],
            [
             0.5555555555555556,
             "#d8576b"
            ],
            [
             0.6666666666666666,
             "#ed7953"
            ],
            [
             0.7777777777777778,
             "#fb9f3a"
            ],
            [
             0.8888888888888888,
             "#fdca26"
            ],
            [
             1,
             "#f0f921"
            ]
           ],
           "sequentialminus": [
            [
             0,
             "#0d0887"
            ],
            [
             0.1111111111111111,
             "#46039f"
            ],
            [
             0.2222222222222222,
             "#7201a8"
            ],
            [
             0.3333333333333333,
             "#9c179e"
            ],
            [
             0.4444444444444444,
             "#bd3786"
            ],
            [
             0.5555555555555556,
             "#d8576b"
            ],
            [
             0.6666666666666666,
             "#ed7953"
            ],
            [
             0.7777777777777778,
             "#fb9f3a"
            ],
            [
             0.8888888888888888,
             "#fdca26"
            ],
            [
             1,
             "#f0f921"
            ]
           ]
          },
          "colorway": [
           "#636efa",
           "#EF553B",
           "#00cc96",
           "#ab63fa",
           "#FFA15A",
           "#19d3f3",
           "#FF6692",
           "#B6E880",
           "#FF97FF",
           "#FECB52"
          ],
          "font": {
           "color": "#2a3f5f"
          },
          "geo": {
           "bgcolor": "white",
           "lakecolor": "white",
           "landcolor": "#E5ECF6",
           "showlakes": true,
           "showland": true,
           "subunitcolor": "white"
          },
          "hoverlabel": {
           "align": "left"
          },
          "hovermode": "closest",
          "mapbox": {
           "style": "light"
          },
          "paper_bgcolor": "white",
          "plot_bgcolor": "#E5ECF6",
          "polar": {
           "angularaxis": {
            "gridcolor": "white",
            "linecolor": "white",
            "ticks": ""
           },
           "bgcolor": "#E5ECF6",
           "radialaxis": {
            "gridcolor": "white",
            "linecolor": "white",
            "ticks": ""
           }
          },
          "scene": {
           "xaxis": {
            "backgroundcolor": "#E5ECF6",
            "gridcolor": "white",
            "gridwidth": 2,
            "linecolor": "white",
            "showbackground": true,
            "ticks": "",
            "zerolinecolor": "white"
           },
           "yaxis": {
            "backgroundcolor": "#E5ECF6",
            "gridcolor": "white",
            "gridwidth": 2,
            "linecolor": "white",
            "showbackground": true,
            "ticks": "",
            "zerolinecolor": "white"
           },
           "zaxis": {
            "backgroundcolor": "#E5ECF6",
            "gridcolor": "white",
            "gridwidth": 2,
            "linecolor": "white",
            "showbackground": true,
            "ticks": "",
            "zerolinecolor": "white"
           }
          },
          "shapedefaults": {
           "line": {
            "color": "#2a3f5f"
           }
          },
          "ternary": {
           "aaxis": {
            "gridcolor": "white",
            "linecolor": "white",
            "ticks": ""
           },
           "baxis": {
            "gridcolor": "white",
            "linecolor": "white",
            "ticks": ""
           },
           "bgcolor": "#E5ECF6",
           "caxis": {
            "gridcolor": "white",
            "linecolor": "white",
            "ticks": ""
           }
          },
          "title": {
           "x": 0.05
          },
          "xaxis": {
           "automargin": true,
           "gridcolor": "white",
           "linecolor": "white",
           "ticks": "",
           "title": {
            "standoff": 15
           },
           "zerolinecolor": "white",
           "zerolinewidth": 2
          },
          "yaxis": {
           "automargin": true,
           "gridcolor": "white",
           "linecolor": "white",
           "ticks": "",
           "title": {
            "standoff": 15
           },
           "zerolinecolor": "white",
           "zerolinewidth": 2
          }
         }
        },
        "title": {
         "text": "Target1 Top 50 feature importance"
        },
        "width": 1250,
        "xaxis": {
         "anchor": "y",
         "domain": [
          0,
          1
         ],
         "title": {
          "text": "feature_importance"
         }
        },
        "yaxis": {
         "anchor": "x",
         "categoryarray": [
          "target4_202104_max",
          "target4_202104_std",
          "target2_202104_std",
          "target2_202104_quantile75",
          "Players_LE_birthStateProvince",
          "target2_202104_min",
          "target3_202104_mean",
          "target2_prod_4_202104_prob",
          "target4_202104_mean",
          "target2_prod_4_202104_min",
          "PlayerTwitterFollowerAggregate_quantile25",
          "target4_202104_quantile75",
          "target1_202104_prob",
          "target3_202104_min",
          "Players_LE_weight",
          "PlayerTwitterFollowerAggregate_min",
          "target2_202104_prob",
          "target2_prod_4_202104_quantile75",
          "target3_202104_prob",
          "target2_202104_median",
          "target2_202104_mean",
          "target2_div_4_202104_prob",
          "target4_202104_prob",
          "PlayerTwitterFollowerAggregate_quantile75",
          "PlayerTwitterFollowerAggregate_std",
          "target2_div_4_202104_quantile25",
          "PlayerTwitterFollowerAggregate_mean",
          "target1_202104_max",
          "target4_202104_quantile25",
          "target2_div_4_202104_max",
          "target4_202104_median",
          "Players_LE_birthCity",
          "target1_202104_quantile25",
          "target1_202104_median",
          "target2_div_4_202104_std",
          "Players_LE_primaryPositionCode",
          "target1_202104_min",
          "target2_div_4_202104_min",
          "target2_div_4_202104_median",
          "PlayerTwitterFollowerAggregate_max",
          "Players_LE_playerAge",
          "target2_div_4_202104_mean",
          "target1_202104_std",
          "target2_div_4_202104_quantile75",
          "target1_202104_quantile75",
          "Players_LE_playerid",
          "target4_202104_min",
          "target1_202104_mean",
          "Rosters_LE_status",
          "Rosters_LE_teamId"
         ],
         "categoryorder": "array",
         "domain": [
          0,
          1
         ],
         "showgrid": true,
         "title": {
          "text": "feature"
         }
        }
       }
      }
     },
     "metadata": {}
    },
    {
     "output_type": "display_data",
     "data": {
      "application/vnd.plotly.v1+json": {
       "config": {
        "plotlyServerURL": "https://plot.ly"
       },
       "data": [
        {
         "alignmentgroup": "True",
         "hovertemplate": "feature_importance=%{x}<br>feature=%{y}<extra></extra>",
         "legendgroup": "",
         "marker": {
          "color": "#636efa"
         },
         "name": "",
         "notched": false,
         "offsetgroup": "",
         "orientation": "h",
         "showlegend": false,
         "type": "box",
         "x": [
          88258.57640170678,
          87202.03900146484,
          12006.492737412453,
          29219.632049560547,
          26932.13749551773,
          32508.61504125595,
          25963.540035247803,
          20033.792808532715,
          82857.16510009766,
          26358.374935150146,
          15064.916255950928,
          536482.9756813049,
          151140.36145401,
          147716.705619812,
          109499.63623428345,
          47451.51672935486,
          98253.81351470947,
          38869.134452819824,
          59568.03910446167,
          94155.9455871582,
          344322.23316192627,
          73229.6817150116,
          969721.4627205804,
          4975144.325075746,
          24707.76504135132,
          52877.57443237305,
          28229.66098022461,
          61944.87343788147,
          271277.37891197205,
          469998.1993751526,
          22267.731246948242,
          24293.55157470703,
          38330.9296875,
          55491,
          22840.638429641724,
          32405.73743057251,
          28563.640978336334,
          24858.18199157715,
          101029.4436340332,
          22663.290145874023,
          154732.03952288628,
          108803.72599476576,
          44402.725764364004,
          82573.42852655053,
          190500.87495851517,
          45426.396291553974,
          23501.035486221313,
          37258.67976951599,
          53788.423501968384,
          140500.8439500332,
          47081.88120341301,
          90447.1174724102,
          45959.54361343384,
          28197.096744537354,
          33170.244663238525,
          18249.84027671814,
          44647.45865058899,
          32072.68787765503,
          110035.48804092407,
          23267.386218070984,
          35826.02087020874,
          657027.1485710144,
          86837.86050415039,
          112723.8328781128,
          52694.55780506134,
          51905.9450378418,
          74512.48413848877,
          34975.46015930176,
          52809.97943687439,
          67160.80858039856,
          402534.20195007324,
          76436.13090515137,
          931345.5352640748,
          4985837.92050764,
          21346.2765750885,
          40392.46880245209,
          18382.655309677124,
          76397.55179977417,
          240258.2655696869,
          546756.4463996887,
          44317.53729248047,
          29990.900146484375,
          38943.462814331055,
          13557.063095092773,
          29749.819009780884,
          24048.218536376953,
          40317.98138809204,
          27015.41530227661,
          76753.77214050293,
          30746.670013427734,
          73833.00180053711,
          123256.4295425415,
          27616.96416132897,
          102781.32107639313,
          251967.44475269318,
          41999.00468444824,
          22189.004343032837,
          15026.695122241974,
          54583.25479888916,
          129776.51289367676
         ],
         "x0": " ",
         "xaxis": "x",
         "y": [
          "target1_202104_mean",
          "target1_202104_min",
          "target1_202104_median",
          "target1_202104_quantile75",
          "target2_202104_mean",
          "target2_202104_std",
          "target2_202104_min",
          "target2_202104_median",
          "target2_202104_quantile25",
          "target2_202104_quantile75",
          "target3_202104_min",
          "target4_202104_min",
          "target4_202104_median",
          "target4_202104_quantile25",
          "target2_prod_4_202104_min",
          "target2_prod_4_202104_median",
          "target2_prod_4_202104_quantile25",
          "target2_div_4_202104_mean",
          "target2_div_4_202104_min",
          "target2_div_4_202104_median",
          "target2_div_4_202104_quantile25",
          "target2_div_4_202104_quantile75",
          "Rosters_LE_teamId",
          "Rosters_LE_status",
          "Players_LE_birthCountry",
          "Players_LE_birthCity",
          "Players_LE_birthStateProvince",
          "Players_LE_primaryPositionCode",
          "Players_LE_playerAge",
          "Players_LE_playerid",
          "PlayerStats_inheritedRunners_cumsum",
          "PlayerStats_inheritedRunnersScored_cumsum",
          "PlayerStats_doubles_rank",
          "PlayerStats_baseOnBalls_rank",
          "PlayerStats_stolenBases_rank",
          "PlayerStats_earnedRuns_rank",
          "PlayerTwitterFollowerAggregate_mean",
          "PlayerTwitterFollowerAggregate_max",
          "PlayerTwitterFollowerAggregate_quantile25",
          "PlayerTwitterFollowerAggregate_quantile75",
          "StandingsMeta_divisionId",
          "StandingsMeta_leagueRank",
          "StandingsMeta_wins",
          "StandingsMeta_losses",
          "StandingsMeta_runsAllowed",
          "StandingsMeta_runsScored",
          "StandingsMeta_awayLosses",
          "StandingsMeta_oneRunWins",
          "StandingsMeta_divWins",
          "StandingsMeta_divLosses",
          "target1_202104_mean",
          "target1_202104_min",
          "target1_202104_median",
          "target1_202104_quantile75",
          "target2_202104_mean",
          "target2_202104_std",
          "target2_202104_min",
          "target2_202104_median",
          "target2_202104_quantile25",
          "target2_202104_quantile75",
          "target3_202104_min",
          "target4_202104_min",
          "target4_202104_median",
          "target4_202104_quantile25",
          "target2_prod_4_202104_min",
          "target2_prod_4_202104_median",
          "target2_prod_4_202104_quantile25",
          "target2_div_4_202104_mean",
          "target2_div_4_202104_min",
          "target2_div_4_202104_median",
          "target2_div_4_202104_quantile25",
          "target2_div_4_202104_quantile75",
          "Rosters_LE_teamId",
          "Rosters_LE_status",
          "Players_LE_birthCountry",
          "Players_LE_birthCity",
          "Players_LE_birthStateProvince",
          "Players_LE_primaryPositionCode",
          "Players_LE_playerAge",
          "Players_LE_playerid",
          "PlayerStats_inheritedRunners_cumsum",
          "PlayerStats_inheritedRunnersScored_cumsum",
          "PlayerStats_doubles_rank",
          "PlayerStats_baseOnBalls_rank",
          "PlayerStats_stolenBases_rank",
          "PlayerStats_earnedRuns_rank",
          "PlayerTwitterFollowerAggregate_mean",
          "PlayerTwitterFollowerAggregate_max",
          "PlayerTwitterFollowerAggregate_quantile25",
          "PlayerTwitterFollowerAggregate_quantile75",
          "StandingsMeta_divisionId",
          "StandingsMeta_leagueRank",
          "StandingsMeta_wins",
          "StandingsMeta_losses",
          "StandingsMeta_runsAllowed",
          "StandingsMeta_runsScored",
          "StandingsMeta_awayLosses",
          "StandingsMeta_oneRunWins",
          "StandingsMeta_divWins",
          "StandingsMeta_divLosses"
         ],
         "y0": " ",
         "yaxis": "y"
        }
       ],
       "layout": {
        "boxmode": "group",
        "height": 900,
        "legend": {
         "tracegroupgap": 0
        },
        "template": {
         "data": {
          "bar": [
           {
            "error_x": {
             "color": "#2a3f5f"
            },
            "error_y": {
             "color": "#2a3f5f"
            },
            "marker": {
             "line": {
              "color": "#E5ECF6",
              "width": 0.5
             }
            },
            "type": "bar"
           }
          ],
          "barpolar": [
           {
            "marker": {
             "line": {
              "color": "#E5ECF6",
              "width": 0.5
             }
            },
            "type": "barpolar"
           }
          ],
          "carpet": [
           {
            "aaxis": {
             "endlinecolor": "#2a3f5f",
             "gridcolor": "white",
             "linecolor": "white",
             "minorgridcolor": "white",
             "startlinecolor": "#2a3f5f"
            },
            "baxis": {
             "endlinecolor": "#2a3f5f",
             "gridcolor": "white",
             "linecolor": "white",
             "minorgridcolor": "white",
             "startlinecolor": "#2a3f5f"
            },
            "type": "carpet"
           }
          ],
          "choropleth": [
           {
            "colorbar": {
             "outlinewidth": 0,
             "ticks": ""
            },
            "type": "choropleth"
           }
          ],
          "contour": [
           {
            "colorbar": {
             "outlinewidth": 0,
             "ticks": ""
            },
            "colorscale": [
             [
              0,
              "#0d0887"
             ],
             [
              0.1111111111111111,
              "#46039f"
             ],
             [
              0.2222222222222222,
              "#7201a8"
             ],
             [
              0.3333333333333333,
              "#9c179e"
             ],
             [
              0.4444444444444444,
              "#bd3786"
             ],
             [
              0.5555555555555556,
              "#d8576b"
             ],
             [
              0.6666666666666666,
              "#ed7953"
             ],
             [
              0.7777777777777778,
              "#fb9f3a"
             ],
             [
              0.8888888888888888,
              "#fdca26"
             ],
             [
              1,
              "#f0f921"
             ]
            ],
            "type": "contour"
           }
          ],
          "contourcarpet": [
           {
            "colorbar": {
             "outlinewidth": 0,
             "ticks": ""
            },
            "type": "contourcarpet"
           }
          ],
          "heatmap": [
           {
            "colorbar": {
             "outlinewidth": 0,
             "ticks": ""
            },
            "colorscale": [
             [
              0,
              "#0d0887"
             ],
             [
              0.1111111111111111,
              "#46039f"
             ],
             [
              0.2222222222222222,
              "#7201a8"
             ],
             [
              0.3333333333333333,
              "#9c179e"
             ],
             [
              0.4444444444444444,
              "#bd3786"
             ],
             [
              0.5555555555555556,
              "#d8576b"
             ],
             [
              0.6666666666666666,
              "#ed7953"
             ],
             [
              0.7777777777777778,
              "#fb9f3a"
             ],
             [
              0.8888888888888888,
              "#fdca26"
             ],
             [
              1,
              "#f0f921"
             ]
            ],
            "type": "heatmap"
           }
          ],
          "heatmapgl": [
           {
            "colorbar": {
             "outlinewidth": 0,
             "ticks": ""
            },
            "colorscale": [
             [
              0,
              "#0d0887"
             ],
             [
              0.1111111111111111,
              "#46039f"
             ],
             [
              0.2222222222222222,
              "#7201a8"
             ],
             [
              0.3333333333333333,
              "#9c179e"
             ],
             [
              0.4444444444444444,
              "#bd3786"
             ],
             [
              0.5555555555555556,
              "#d8576b"
             ],
             [
              0.6666666666666666,
              "#ed7953"
             ],
             [
              0.7777777777777778,
              "#fb9f3a"
             ],
             [
              0.8888888888888888,
              "#fdca26"
             ],
             [
              1,
              "#f0f921"
             ]
            ],
            "type": "heatmapgl"
           }
          ],
          "histogram": [
           {
            "marker": {
             "colorbar": {
              "outlinewidth": 0,
              "ticks": ""
             }
            },
            "type": "histogram"
           }
          ],
          "histogram2d": [
           {
            "colorbar": {
             "outlinewidth": 0,
             "ticks": ""
            },
            "colorscale": [
             [
              0,
              "#0d0887"
             ],
             [
              0.1111111111111111,
              "#46039f"
             ],
             [
              0.2222222222222222,
              "#7201a8"
             ],
             [
              0.3333333333333333,
              "#9c179e"
             ],
             [
              0.4444444444444444,
              "#bd3786"
             ],
             [
              0.5555555555555556,
              "#d8576b"
             ],
             [
              0.6666666666666666,
              "#ed7953"
             ],
             [
              0.7777777777777778,
              "#fb9f3a"
             ],
             [
              0.8888888888888888,
              "#fdca26"
             ],
             [
              1,
              "#f0f921"
             ]
            ],
            "type": "histogram2d"
           }
          ],
          "histogram2dcontour": [
           {
            "colorbar": {
             "outlinewidth": 0,
             "ticks": ""
            },
            "colorscale": [
             [
              0,
              "#0d0887"
             ],
             [
              0.1111111111111111,
              "#46039f"
             ],
             [
              0.2222222222222222,
              "#7201a8"
             ],
             [
              0.3333333333333333,
              "#9c179e"
             ],
             [
              0.4444444444444444,
              "#bd3786"
             ],
             [
              0.5555555555555556,
              "#d8576b"
             ],
             [
              0.6666666666666666,
              "#ed7953"
             ],
             [
              0.7777777777777778,
              "#fb9f3a"
             ],
             [
              0.8888888888888888,
              "#fdca26"
             ],
             [
              1,
              "#f0f921"
             ]
            ],
            "type": "histogram2dcontour"
           }
          ],
          "mesh3d": [
           {
            "colorbar": {
             "outlinewidth": 0,
             "ticks": ""
            },
            "type": "mesh3d"
           }
          ],
          "parcoords": [
           {
            "line": {
             "colorbar": {
              "outlinewidth": 0,
              "ticks": ""
             }
            },
            "type": "parcoords"
           }
          ],
          "pie": [
           {
            "automargin": true,
            "type": "pie"
           }
          ],
          "scatter": [
           {
            "marker": {
             "colorbar": {
              "outlinewidth": 0,
              "ticks": ""
             }
            },
            "type": "scatter"
           }
          ],
          "scatter3d": [
           {
            "line": {
             "colorbar": {
              "outlinewidth": 0,
              "ticks": ""
             }
            },
            "marker": {
             "colorbar": {
              "outlinewidth": 0,
              "ticks": ""
             }
            },
            "type": "scatter3d"
           }
          ],
          "scattercarpet": [
           {
            "marker": {
             "colorbar": {
              "outlinewidth": 0,
              "ticks": ""
             }
            },
            "type": "scattercarpet"
           }
          ],
          "scattergeo": [
           {
            "marker": {
             "colorbar": {
              "outlinewidth": 0,
              "ticks": ""
             }
            },
            "type": "scattergeo"
           }
          ],
          "scattergl": [
           {
            "marker": {
             "colorbar": {
              "outlinewidth": 0,
              "ticks": ""
             }
            },
            "type": "scattergl"
           }
          ],
          "scattermapbox": [
           {
            "marker": {
             "colorbar": {
              "outlinewidth": 0,
              "ticks": ""
             }
            },
            "type": "scattermapbox"
           }
          ],
          "scatterpolar": [
           {
            "marker": {
             "colorbar": {
              "outlinewidth": 0,
              "ticks": ""
             }
            },
            "type": "scatterpolar"
           }
          ],
          "scatterpolargl": [
           {
            "marker": {
             "colorbar": {
              "outlinewidth": 0,
              "ticks": ""
             }
            },
            "type": "scatterpolargl"
           }
          ],
          "scatterternary": [
           {
            "marker": {
             "colorbar": {
              "outlinewidth": 0,
              "ticks": ""
             }
            },
            "type": "scatterternary"
           }
          ],
          "surface": [
           {
            "colorbar": {
             "outlinewidth": 0,
             "ticks": ""
            },
            "colorscale": [
             [
              0,
              "#0d0887"
             ],
             [
              0.1111111111111111,
              "#46039f"
             ],
             [
              0.2222222222222222,
              "#7201a8"
             ],
             [
              0.3333333333333333,
              "#9c179e"
             ],
             [
              0.4444444444444444,
              "#bd3786"
             ],
             [
              0.5555555555555556,
              "#d8576b"
             ],
             [
              0.6666666666666666,
              "#ed7953"
             ],
             [
              0.7777777777777778,
              "#fb9f3a"
             ],
             [
              0.8888888888888888,
              "#fdca26"
             ],
             [
              1,
              "#f0f921"
             ]
            ],
            "type": "surface"
           }
          ],
          "table": [
           {
            "cells": {
             "fill": {
              "color": "#EBF0F8"
             },
             "line": {
              "color": "white"
             }
            },
            "header": {
             "fill": {
              "color": "#C8D4E3"
             },
             "line": {
              "color": "white"
             }
            },
            "type": "table"
           }
          ]
         },
         "layout": {
          "annotationdefaults": {
           "arrowcolor": "#2a3f5f",
           "arrowhead": 0,
           "arrowwidth": 1
          },
          "autotypenumbers": "strict",
          "coloraxis": {
           "colorbar": {
            "outlinewidth": 0,
            "ticks": ""
           }
          },
          "colorscale": {
           "diverging": [
            [
             0,
             "#8e0152"
            ],
            [
             0.1,
             "#c51b7d"
            ],
            [
             0.2,
             "#de77ae"
            ],
            [
             0.3,
             "#f1b6da"
            ],
            [
             0.4,
             "#fde0ef"
            ],
            [
             0.5,
             "#f7f7f7"
            ],
            [
             0.6,
             "#e6f5d0"
            ],
            [
             0.7,
             "#b8e186"
            ],
            [
             0.8,
             "#7fbc41"
            ],
            [
             0.9,
             "#4d9221"
            ],
            [
             1,
             "#276419"
            ]
           ],
           "sequential": [
            [
             0,
             "#0d0887"
            ],
            [
             0.1111111111111111,
             "#46039f"
            ],
            [
             0.2222222222222222,
             "#7201a8"
            ],
            [
             0.3333333333333333,
             "#9c179e"
            ],
            [
             0.4444444444444444,
             "#bd3786"
            ],
            [
             0.5555555555555556,
             "#d8576b"
            ],
            [
             0.6666666666666666,
             "#ed7953"
            ],
            [
             0.7777777777777778,
             "#fb9f3a"
            ],
            [
             0.8888888888888888,
             "#fdca26"
            ],
            [
             1,
             "#f0f921"
            ]
           ],
           "sequentialminus": [
            [
             0,
             "#0d0887"
            ],
            [
             0.1111111111111111,
             "#46039f"
            ],
            [
             0.2222222222222222,
             "#7201a8"
            ],
            [
             0.3333333333333333,
             "#9c179e"
            ],
            [
             0.4444444444444444,
             "#bd3786"
            ],
            [
             0.5555555555555556,
             "#d8576b"
            ],
            [
             0.6666666666666666,
             "#ed7953"
            ],
            [
             0.7777777777777778,
             "#fb9f3a"
            ],
            [
             0.8888888888888888,
             "#fdca26"
            ],
            [
             1,
             "#f0f921"
            ]
           ]
          },
          "colorway": [
           "#636efa",
           "#EF553B",
           "#00cc96",
           "#ab63fa",
           "#FFA15A",
           "#19d3f3",
           "#FF6692",
           "#B6E880",
           "#FF97FF",
           "#FECB52"
          ],
          "font": {
           "color": "#2a3f5f"
          },
          "geo": {
           "bgcolor": "white",
           "lakecolor": "white",
           "landcolor": "#E5ECF6",
           "showlakes": true,
           "showland": true,
           "subunitcolor": "white"
          },
          "hoverlabel": {
           "align": "left"
          },
          "hovermode": "closest",
          "mapbox": {
           "style": "light"
          },
          "paper_bgcolor": "white",
          "plot_bgcolor": "#E5ECF6",
          "polar": {
           "angularaxis": {
            "gridcolor": "white",
            "linecolor": "white",
            "ticks": ""
           },
           "bgcolor": "#E5ECF6",
           "radialaxis": {
            "gridcolor": "white",
            "linecolor": "white",
            "ticks": ""
           }
          },
          "scene": {
           "xaxis": {
            "backgroundcolor": "#E5ECF6",
            "gridcolor": "white",
            "gridwidth": 2,
            "linecolor": "white",
            "showbackground": true,
            "ticks": "",
            "zerolinecolor": "white"
           },
           "yaxis": {
            "backgroundcolor": "#E5ECF6",
            "gridcolor": "white",
            "gridwidth": 2,
            "linecolor": "white",
            "showbackground": true,
            "ticks": "",
            "zerolinecolor": "white"
           },
           "zaxis": {
            "backgroundcolor": "#E5ECF6",
            "gridcolor": "white",
            "gridwidth": 2,
            "linecolor": "white",
            "showbackground": true,
            "ticks": "",
            "zerolinecolor": "white"
           }
          },
          "shapedefaults": {
           "line": {
            "color": "#2a3f5f"
           }
          },
          "ternary": {
           "aaxis": {
            "gridcolor": "white",
            "linecolor": "white",
            "ticks": ""
           },
           "baxis": {
            "gridcolor": "white",
            "linecolor": "white",
            "ticks": ""
           },
           "bgcolor": "#E5ECF6",
           "caxis": {
            "gridcolor": "white",
            "linecolor": "white",
            "ticks": ""
           }
          },
          "title": {
           "x": 0.05
          },
          "xaxis": {
           "automargin": true,
           "gridcolor": "white",
           "linecolor": "white",
           "ticks": "",
           "title": {
            "standoff": 15
           },
           "zerolinecolor": "white",
           "zerolinewidth": 2
          },
          "yaxis": {
           "automargin": true,
           "gridcolor": "white",
           "linecolor": "white",
           "ticks": "",
           "title": {
            "standoff": 15
           },
           "zerolinecolor": "white",
           "zerolinewidth": 2
          }
         }
        },
        "title": {
         "text": "Target2 Top 50 feature importance"
        },
        "width": 1250,
        "xaxis": {
         "anchor": "y",
         "domain": [
          0,
          1
         ],
         "title": {
          "text": "feature_importance"
         }
        },
        "yaxis": {
         "anchor": "x",
         "categoryarray": [
          "StandingsMeta_awayLosses",
          "Players_LE_birthCountry",
          "Players_LE_birthStateProvince",
          "target2_202104_quantile75",
          "target2_202104_std",
          "target3_202104_min",
          "PlayerTwitterFollowerAggregate_max",
          "target2_202104_median",
          "StandingsMeta_oneRunWins",
          "PlayerStats_stolenBases_rank",
          "PlayerTwitterFollowerAggregate_quantile75",
          "PlayerStats_inheritedRunnersScored_cumsum",
          "PlayerStats_earnedRuns_rank",
          "target1_202104_quantile75",
          "target1_202104_median",
          "target2_202104_mean",
          "PlayerStats_inheritedRunners_cumsum",
          "PlayerTwitterFollowerAggregate_mean",
          "PlayerStats_baseOnBalls_rank",
          "target2_202104_min",
          "StandingsMeta_wins",
          "target2_div_4_202104_mean",
          "PlayerStats_doubles_rank",
          "StandingsMeta_runsScored",
          "Players_LE_birthCity",
          "target2_prod_4_202104_median",
          "StandingsMeta_divWins",
          "target2_div_4_202104_min",
          "target1_202104_mean",
          "Players_LE_primaryPositionCode",
          "target2_div_4_202104_quantile75",
          "target2_div_4_202104_median",
          "target2_prod_4_202104_min",
          "target2_prod_4_202104_quantile25",
          "target1_202104_min",
          "PlayerTwitterFollowerAggregate_quantile25",
          "StandingsMeta_losses",
          "target2_202104_quantile25",
          "StandingsMeta_divisionId",
          "StandingsMeta_leagueRank",
          "target4_202104_median",
          "target4_202104_quantile25",
          "StandingsMeta_divLosses",
          "StandingsMeta_runsAllowed",
          "Players_LE_playerAge",
          "target2_div_4_202104_quantile25",
          "Players_LE_playerid",
          "target4_202104_min",
          "Rosters_LE_teamId",
          "Rosters_LE_status"
         ],
         "categoryorder": "array",
         "domain": [
          0,
          1
         ],
         "showgrid": true,
         "title": {
          "text": "feature"
         }
        }
       }
      }
     },
     "metadata": {}
    },
    {
     "output_type": "display_data",
     "data": {
      "application/vnd.plotly.v1+json": {
       "config": {
        "plotlyServerURL": "https://plot.ly"
       },
       "data": [
        {
         "alignmentgroup": "True",
         "hovertemplate": "feature_importance=%{x}<br>feature=%{y}<extra></extra>",
         "legendgroup": "",
         "marker": {
          "color": "#636efa"
         },
         "name": "",
         "notched": false,
         "offsetgroup": "",
         "orientation": "h",
         "showlegend": false,
         "type": "box",
         "x": [
          188734.10920846462,
          109689.6990852356,
          80723.13497447968,
          50262.28995350003,
          52138.47218322754,
          56706.64716911316,
          68572.47006225586,
          80557.00834655762,
          86807.47534942627,
          2718056.0441322327,
          274065.0728225708,
          110693.22853088379,
          300259.73124694824,
          176699.51267242432,
          224951.15258026123,
          2044965.1654968262,
          89707.74367332458,
          122581.5463218689,
          104630.49465179443,
          5952151.70400238,
          367850.0089111328,
          290985.88690185547,
          216736.58379745483,
          131794.65779685974,
          43270.05432128906,
          163377.58394622803,
          606585.3507614136,
          171928.6531829834,
          152241.80401229858,
          332580.05375289917,
          754993.2230072021,
          308916.4571304321,
          893933.4954948425,
          153518.33058929443,
          7105642.404865265,
          7564510.671139717,
          81379.0107345581,
          215270.0966644287,
          70137.89163208008,
          96367.30123519897,
          591587.3813858032,
          3591254.4244384766,
          470197.4426879883,
          98415.53690242767,
          106523.57963562012,
          64237.85227203369,
          584834.4595489502,
          522479.6863708496,
          101071.58372497559,
          59859.88756275177,
          207279.52822113037,
          127707.50926208496,
          94494.44666290283,
          54994.5669631958,
          56697.53242492676,
          59985.3934879303,
          82800.23906326294,
          51890.81541633606,
          146994.94747161865,
          2546295.36236763,
          312836.75874328613,
          690713.9438333511,
          351226.7886505127,
          133970.7052345276,
          237844.0123577118,
          2699745.094848633,
          93333.75262069702,
          87987.32543849945,
          113315.15327453613,
          9174682.954299927,
          347549.3621406555,
          784062.7544822693,
          49394.71083068848,
          146128.6121711731,
          74662.81958770752,
          82137.20486450195,
          851509.8872566223,
          130993.88064193726,
          169900.58377456665,
          261732.05138397217,
          1336385.1434020996,
          417612.6499824524,
          213759.66564178467,
          194645.5754737854,
          13046703.197814941,
          7500020.732157707,
          62896.58400726318,
          257223.97806549072,
          53637.138191223145,
          168334.82627105713,
          1455040.4806137085,
          4568735.125198364,
          880900.7208366394,
          141360.27751350403,
          691640.349105835,
          115592.74126815796,
          543440.9402313232,
          557722.8126678467,
          294165.8852844238,
          64427.32212591171
         ],
         "x0": " ",
         "xaxis": "x",
         "y": [
          "target1_202104_mean",
          "target1_202104_std",
          "target1_202104_max",
          "target1_202104_min",
          "target1_202104_prob",
          "target2_202104_mean",
          "target2_202104_std",
          "target2_202104_min",
          "target2_202104_prob",
          "target3_202104_mean",
          "target3_202104_std",
          "target3_202104_max",
          "target3_202104_min",
          "target3_202104_median",
          "target3_202104_quantile25",
          "target3_202104_quantile75",
          "target3_202104_prob",
          "target4_202104_mean",
          "target4_202104_std",
          "target4_202104_min",
          "target4_202104_median",
          "target4_202104_quantile25",
          "target4_202104_quantile75",
          "target4_202104_prob",
          "target2_prod_4_202104_std",
          "target2_prod_4_202104_prob",
          "target2_div_4_202104_mean",
          "target2_div_4_202104_std",
          "target2_div_4_202104_max",
          "target2_div_4_202104_min",
          "target2_div_4_202104_median",
          "target2_div_4_202104_quantile25",
          "target2_div_4_202104_quantile75",
          "target2_div_4_202104_prob",
          "Rosters_LE_teamId",
          "Rosters_LE_status",
          "Players_LE_birthCountry",
          "Players_LE_birthCity",
          "Players_LE_birthStateProvince",
          "Players_LE_weight",
          "Players_LE_playerAge",
          "Players_LE_playerid",
          "PlayerTwitterFollowerAggregate_mean",
          "PlayerTwitterFollowerAggregate_std",
          "PlayerTwitterFollowerAggregate_max",
          "PlayerTwitterFollowerAggregate_min",
          "PlayerTwitterFollowerAggregate_median",
          "PlayerTwitterFollowerAggregate_quantile25",
          "PlayerTwitterFollowerAggregate_quantile75",
          "StandingsMeta_runsAllowed",
          "target1_202104_mean",
          "target1_202104_std",
          "target1_202104_max",
          "target1_202104_min",
          "target1_202104_prob",
          "target2_202104_mean",
          "target2_202104_std",
          "target2_202104_min",
          "target2_202104_prob",
          "target3_202104_mean",
          "target3_202104_std",
          "target3_202104_max",
          "target3_202104_min",
          "target3_202104_median",
          "target3_202104_quantile25",
          "target3_202104_quantile75",
          "target3_202104_prob",
          "target4_202104_mean",
          "target4_202104_std",
          "target4_202104_min",
          "target4_202104_median",
          "target4_202104_quantile25",
          "target4_202104_quantile75",
          "target4_202104_prob",
          "target2_prod_4_202104_std",
          "target2_prod_4_202104_prob",
          "target2_div_4_202104_mean",
          "target2_div_4_202104_std",
          "target2_div_4_202104_max",
          "target2_div_4_202104_min",
          "target2_div_4_202104_median",
          "target2_div_4_202104_quantile25",
          "target2_div_4_202104_quantile75",
          "target2_div_4_202104_prob",
          "Rosters_LE_teamId",
          "Rosters_LE_status",
          "Players_LE_birthCountry",
          "Players_LE_birthCity",
          "Players_LE_birthStateProvince",
          "Players_LE_weight",
          "Players_LE_playerAge",
          "Players_LE_playerid",
          "PlayerTwitterFollowerAggregate_mean",
          "PlayerTwitterFollowerAggregate_std",
          "PlayerTwitterFollowerAggregate_max",
          "PlayerTwitterFollowerAggregate_min",
          "PlayerTwitterFollowerAggregate_median",
          "PlayerTwitterFollowerAggregate_quantile25",
          "PlayerTwitterFollowerAggregate_quantile75",
          "StandingsMeta_runsAllowed"
         ],
         "y0": " ",
         "yaxis": "y"
        }
       ],
       "layout": {
        "boxmode": "group",
        "height": 900,
        "legend": {
         "tracegroupgap": 0
        },
        "template": {
         "data": {
          "bar": [
           {
            "error_x": {
             "color": "#2a3f5f"
            },
            "error_y": {
             "color": "#2a3f5f"
            },
            "marker": {
             "line": {
              "color": "#E5ECF6",
              "width": 0.5
             }
            },
            "type": "bar"
           }
          ],
          "barpolar": [
           {
            "marker": {
             "line": {
              "color": "#E5ECF6",
              "width": 0.5
             }
            },
            "type": "barpolar"
           }
          ],
          "carpet": [
           {
            "aaxis": {
             "endlinecolor": "#2a3f5f",
             "gridcolor": "white",
             "linecolor": "white",
             "minorgridcolor": "white",
             "startlinecolor": "#2a3f5f"
            },
            "baxis": {
             "endlinecolor": "#2a3f5f",
             "gridcolor": "white",
             "linecolor": "white",
             "minorgridcolor": "white",
             "startlinecolor": "#2a3f5f"
            },
            "type": "carpet"
           }
          ],
          "choropleth": [
           {
            "colorbar": {
             "outlinewidth": 0,
             "ticks": ""
            },
            "type": "choropleth"
           }
          ],
          "contour": [
           {
            "colorbar": {
             "outlinewidth": 0,
             "ticks": ""
            },
            "colorscale": [
             [
              0,
              "#0d0887"
             ],
             [
              0.1111111111111111,
              "#46039f"
             ],
             [
              0.2222222222222222,
              "#7201a8"
             ],
             [
              0.3333333333333333,
              "#9c179e"
             ],
             [
              0.4444444444444444,
              "#bd3786"
             ],
             [
              0.5555555555555556,
              "#d8576b"
             ],
             [
              0.6666666666666666,
              "#ed7953"
             ],
             [
              0.7777777777777778,
              "#fb9f3a"
             ],
             [
              0.8888888888888888,
              "#fdca26"
             ],
             [
              1,
              "#f0f921"
             ]
            ],
            "type": "contour"
           }
          ],
          "contourcarpet": [
           {
            "colorbar": {
             "outlinewidth": 0,
             "ticks": ""
            },
            "type": "contourcarpet"
           }
          ],
          "heatmap": [
           {
            "colorbar": {
             "outlinewidth": 0,
             "ticks": ""
            },
            "colorscale": [
             [
              0,
              "#0d0887"
             ],
             [
              0.1111111111111111,
              "#46039f"
             ],
             [
              0.2222222222222222,
              "#7201a8"
             ],
             [
              0.3333333333333333,
              "#9c179e"
             ],
             [
              0.4444444444444444,
              "#bd3786"
             ],
             [
              0.5555555555555556,
              "#d8576b"
             ],
             [
              0.6666666666666666,
              "#ed7953"
             ],
             [
              0.7777777777777778,
              "#fb9f3a"
             ],
             [
              0.8888888888888888,
              "#fdca26"
             ],
             [
              1,
              "#f0f921"
             ]
            ],
            "type": "heatmap"
           }
          ],
          "heatmapgl": [
           {
            "colorbar": {
             "outlinewidth": 0,
             "ticks": ""
            },
            "colorscale": [
             [
              0,
              "#0d0887"
             ],
             [
              0.1111111111111111,
              "#46039f"
             ],
             [
              0.2222222222222222,
              "#7201a8"
             ],
             [
              0.3333333333333333,
              "#9c179e"
             ],
             [
              0.4444444444444444,
              "#bd3786"
             ],
             [
              0.5555555555555556,
              "#d8576b"
             ],
             [
              0.6666666666666666,
              "#ed7953"
             ],
             [
              0.7777777777777778,
              "#fb9f3a"
             ],
             [
              0.8888888888888888,
              "#fdca26"
             ],
             [
              1,
              "#f0f921"
             ]
            ],
            "type": "heatmapgl"
           }
          ],
          "histogram": [
           {
            "marker": {
             "colorbar": {
              "outlinewidth": 0,
              "ticks": ""
             }
            },
            "type": "histogram"
           }
          ],
          "histogram2d": [
           {
            "colorbar": {
             "outlinewidth": 0,
             "ticks": ""
            },
            "colorscale": [
             [
              0,
              "#0d0887"
             ],
             [
              0.1111111111111111,
              "#46039f"
             ],
             [
              0.2222222222222222,
              "#7201a8"
             ],
             [
              0.3333333333333333,
              "#9c179e"
             ],
             [
              0.4444444444444444,
              "#bd3786"
             ],
             [
              0.5555555555555556,
              "#d8576b"
             ],
             [
              0.6666666666666666,
              "#ed7953"
             ],
             [
              0.7777777777777778,
              "#fb9f3a"
             ],
             [
              0.8888888888888888,
              "#fdca26"
             ],
             [
              1,
              "#f0f921"
             ]
            ],
            "type": "histogram2d"
           }
          ],
          "histogram2dcontour": [
           {
            "colorbar": {
             "outlinewidth": 0,
             "ticks": ""
            },
            "colorscale": [
             [
              0,
              "#0d0887"
             ],
             [
              0.1111111111111111,
              "#46039f"
             ],
             [
              0.2222222222222222,
              "#7201a8"
             ],
             [
              0.3333333333333333,
              "#9c179e"
             ],
             [
              0.4444444444444444,
              "#bd3786"
             ],
             [
              0.5555555555555556,
              "#d8576b"
             ],
             [
              0.6666666666666666,
              "#ed7953"
             ],
             [
              0.7777777777777778,
              "#fb9f3a"
             ],
             [
              0.8888888888888888,
              "#fdca26"
             ],
             [
              1,
              "#f0f921"
             ]
            ],
            "type": "histogram2dcontour"
           }
          ],
          "mesh3d": [
           {
            "colorbar": {
             "outlinewidth": 0,
             "ticks": ""
            },
            "type": "mesh3d"
           }
          ],
          "parcoords": [
           {
            "line": {
             "colorbar": {
              "outlinewidth": 0,
              "ticks": ""
             }
            },
            "type": "parcoords"
           }
          ],
          "pie": [
           {
            "automargin": true,
            "type": "pie"
           }
          ],
          "scatter": [
           {
            "marker": {
             "colorbar": {
              "outlinewidth": 0,
              "ticks": ""
             }
            },
            "type": "scatter"
           }
          ],
          "scatter3d": [
           {
            "line": {
             "colorbar": {
              "outlinewidth": 0,
              "ticks": ""
             }
            },
            "marker": {
             "colorbar": {
              "outlinewidth": 0,
              "ticks": ""
             }
            },
            "type": "scatter3d"
           }
          ],
          "scattercarpet": [
           {
            "marker": {
             "colorbar": {
              "outlinewidth": 0,
              "ticks": ""
             }
            },
            "type": "scattercarpet"
           }
          ],
          "scattergeo": [
           {
            "marker": {
             "colorbar": {
              "outlinewidth": 0,
              "ticks": ""
             }
            },
            "type": "scattergeo"
           }
          ],
          "scattergl": [
           {
            "marker": {
             "colorbar": {
              "outlinewidth": 0,
              "ticks": ""
             }
            },
            "type": "scattergl"
           }
          ],
          "scattermapbox": [
           {
            "marker": {
             "colorbar": {
              "outlinewidth": 0,
              "ticks": ""
             }
            },
            "type": "scattermapbox"
           }
          ],
          "scatterpolar": [
           {
            "marker": {
             "colorbar": {
              "outlinewidth": 0,
              "ticks": ""
             }
            },
            "type": "scatterpolar"
           }
          ],
          "scatterpolargl": [
           {
            "marker": {
             "colorbar": {
              "outlinewidth": 0,
              "ticks": ""
             }
            },
            "type": "scatterpolargl"
           }
          ],
          "scatterternary": [
           {
            "marker": {
             "colorbar": {
              "outlinewidth": 0,
              "ticks": ""
             }
            },
            "type": "scatterternary"
           }
          ],
          "surface": [
           {
            "colorbar": {
             "outlinewidth": 0,
             "ticks": ""
            },
            "colorscale": [
             [
              0,
              "#0d0887"
             ],
             [
              0.1111111111111111,
              "#46039f"
             ],
             [
              0.2222222222222222,
              "#7201a8"
             ],
             [
              0.3333333333333333,
              "#9c179e"
             ],
             [
              0.4444444444444444,
              "#bd3786"
             ],
             [
              0.5555555555555556,
              "#d8576b"
             ],
             [
              0.6666666666666666,
              "#ed7953"
             ],
             [
              0.7777777777777778,
              "#fb9f3a"
             ],
             [
              0.8888888888888888,
              "#fdca26"
             ],
             [
              1,
              "#f0f921"
             ]
            ],
            "type": "surface"
           }
          ],
          "table": [
           {
            "cells": {
             "fill": {
              "color": "#EBF0F8"
             },
             "line": {
              "color": "white"
             }
            },
            "header": {
             "fill": {
              "color": "#C8D4E3"
             },
             "line": {
              "color": "white"
             }
            },
            "type": "table"
           }
          ]
         },
         "layout": {
          "annotationdefaults": {
           "arrowcolor": "#2a3f5f",
           "arrowhead": 0,
           "arrowwidth": 1
          },
          "autotypenumbers": "strict",
          "coloraxis": {
           "colorbar": {
            "outlinewidth": 0,
            "ticks": ""
           }
          },
          "colorscale": {
           "diverging": [
            [
             0,
             "#8e0152"
            ],
            [
             0.1,
             "#c51b7d"
            ],
            [
             0.2,
             "#de77ae"
            ],
            [
             0.3,
             "#f1b6da"
            ],
            [
             0.4,
             "#fde0ef"
            ],
            [
             0.5,
             "#f7f7f7"
            ],
            [
             0.6,
             "#e6f5d0"
            ],
            [
             0.7,
             "#b8e186"
            ],
            [
             0.8,
             "#7fbc41"
            ],
            [
             0.9,
             "#4d9221"
            ],
            [
             1,
             "#276419"
            ]
           ],
           "sequential": [
            [
             0,
             "#0d0887"
            ],
            [
             0.1111111111111111,
             "#46039f"
            ],
            [
             0.2222222222222222,
             "#7201a8"
            ],
            [
             0.3333333333333333,
             "#9c179e"
            ],
            [
             0.4444444444444444,
             "#bd3786"
            ],
            [
             0.5555555555555556,
             "#d8576b"
            ],
            [
             0.6666666666666666,
             "#ed7953"
            ],
            [
             0.7777777777777778,
             "#fb9f3a"
            ],
            [
             0.8888888888888888,
             "#fdca26"
            ],
            [
             1,
             "#f0f921"
            ]
           ],
           "sequentialminus": [
            [
             0,
             "#0d0887"
            ],
            [
             0.1111111111111111,
             "#46039f"
            ],
            [
             0.2222222222222222,
             "#7201a8"
            ],
            [
             0.3333333333333333,
             "#9c179e"
            ],
            [
             0.4444444444444444,
             "#bd3786"
            ],
            [
             0.5555555555555556,
             "#d8576b"
            ],
            [
             0.6666666666666666,
             "#ed7953"
            ],
            [
             0.7777777777777778,
             "#fb9f3a"
            ],
            [
             0.8888888888888888,
             "#fdca26"
            ],
            [
             1,
             "#f0f921"
            ]
           ]
          },
          "colorway": [
           "#636efa",
           "#EF553B",
           "#00cc96",
           "#ab63fa",
           "#FFA15A",
           "#19d3f3",
           "#FF6692",
           "#B6E880",
           "#FF97FF",
           "#FECB52"
          ],
          "font": {
           "color": "#2a3f5f"
          },
          "geo": {
           "bgcolor": "white",
           "lakecolor": "white",
           "landcolor": "#E5ECF6",
           "showlakes": true,
           "showland": true,
           "subunitcolor": "white"
          },
          "hoverlabel": {
           "align": "left"
          },
          "hovermode": "closest",
          "mapbox": {
           "style": "light"
          },
          "paper_bgcolor": "white",
          "plot_bgcolor": "#E5ECF6",
          "polar": {
           "angularaxis": {
            "gridcolor": "white",
            "linecolor": "white",
            "ticks": ""
           },
           "bgcolor": "#E5ECF6",
           "radialaxis": {
            "gridcolor": "white",
            "linecolor": "white",
            "ticks": ""
           }
          },
          "scene": {
           "xaxis": {
            "backgroundcolor": "#E5ECF6",
            "gridcolor": "white",
            "gridwidth": 2,
            "linecolor": "white",
            "showbackground": true,
            "ticks": "",
            "zerolinecolor": "white"
           },
           "yaxis": {
            "backgroundcolor": "#E5ECF6",
            "gridcolor": "white",
            "gridwidth": 2,
            "linecolor": "white",
            "showbackground": true,
            "ticks": "",
            "zerolinecolor": "white"
           },
           "zaxis": {
            "backgroundcolor": "#E5ECF6",
            "gridcolor": "white",
            "gridwidth": 2,
            "linecolor": "white",
            "showbackground": true,
            "ticks": "",
            "zerolinecolor": "white"
           }
          },
          "shapedefaults": {
           "line": {
            "color": "#2a3f5f"
           }
          },
          "ternary": {
           "aaxis": {
            "gridcolor": "white",
            "linecolor": "white",
            "ticks": ""
           },
           "baxis": {
            "gridcolor": "white",
            "linecolor": "white",
            "ticks": ""
           },
           "bgcolor": "#E5ECF6",
           "caxis": {
            "gridcolor": "white",
            "linecolor": "white",
            "ticks": ""
           }
          },
          "title": {
           "x": 0.05
          },
          "xaxis": {
           "automargin": true,
           "gridcolor": "white",
           "linecolor": "white",
           "ticks": "",
           "title": {
            "standoff": 15
           },
           "zerolinecolor": "white",
           "zerolinewidth": 2
          },
          "yaxis": {
           "automargin": true,
           "gridcolor": "white",
           "linecolor": "white",
           "ticks": "",
           "title": {
            "standoff": 15
           },
           "zerolinecolor": "white",
           "zerolinewidth": 2
          }
         }
        },
        "title": {
         "text": "Target3 Top 50 feature importance"
        },
        "width": 1250,
        "xaxis": {
         "anchor": "y",
         "domain": [
          0,
          1
         ],
         "title": {
          "text": "feature_importance"
         }
        },
        "yaxis": {
         "anchor": "x",
         "categoryarray": [
          "target1_202104_min",
          "target1_202104_prob",
          "target2_202104_mean",
          "target2_prod_4_202104_std",
          "Players_LE_birthStateProvince",
          "StandingsMeta_runsAllowed",
          "target2_202104_min",
          "Players_LE_birthCountry",
          "target2_202104_std",
          "target1_202104_max",
          "PlayerTwitterFollowerAggregate_min",
          "target3_202104_prob",
          "target4_202104_mean",
          "target4_202104_std",
          "target2_202104_prob",
          "target1_202104_std",
          "PlayerTwitterFollowerAggregate_std",
          "target2_prod_4_202104_prob",
          "Players_LE_weight",
          "target4_202104_quantile75",
          "target4_202104_prob",
          "target2_div_4_202104_std",
          "target3_202104_median",
          "target2_div_4_202104_max",
          "target2_div_4_202104_prob",
          "PlayerTwitterFollowerAggregate_quantile75",
          "target1_202104_mean",
          "target3_202104_quantile25",
          "Players_LE_birthCity",
          "target3_202104_std",
          "target2_div_4_202104_min",
          "target3_202104_min",
          "target4_202104_median",
          "target2_div_4_202104_quantile25",
          "PlayerTwitterFollowerAggregate_max",
          "target3_202104_max",
          "target4_202104_quantile25",
          "PlayerTwitterFollowerAggregate_quantile25",
          "target2_div_4_202104_quantile75",
          "PlayerTwitterFollowerAggregate_median",
          "PlayerTwitterFollowerAggregate_mean",
          "target2_div_4_202104_mean",
          "Players_LE_playerAge",
          "target2_div_4_202104_median",
          "target3_202104_quantile75",
          "target3_202104_mean",
          "Players_LE_playerid",
          "Rosters_LE_status",
          "target4_202104_min",
          "Rosters_LE_teamId"
         ],
         "categoryorder": "array",
         "domain": [
          0,
          1
         ],
         "showgrid": true,
         "title": {
          "text": "feature"
         }
        }
       }
      }
     },
     "metadata": {}
    },
    {
     "output_type": "display_data",
     "data": {
      "application/vnd.plotly.v1+json": {
       "config": {
        "plotlyServerURL": "https://plot.ly"
       },
       "data": [
        {
         "alignmentgroup": "True",
         "hovertemplate": "feature_importance=%{x}<br>feature=%{y}<extra></extra>",
         "legendgroup": "",
         "marker": {
          "color": "#636efa"
         },
         "name": "",
         "notched": false,
         "offsetgroup": "",
         "orientation": "h",
         "showlegend": false,
         "type": "box",
         "x": [
          78827.56329488009,
          23704.515520751476,
          26049.014271736145,
          14582.615057945251,
          67328.05858653784,
          44263.531960487366,
          40844.35708236694,
          71172.93673610687,
          21619.23891067505,
          33149.383452415466,
          89007.49027442932,
          3932658.721956253,
          408116.468047142,
          248612.3796005249,
          39951.95860671997,
          30175.93795967102,
          33185.86086273193,
          16606.637817382812,
          35573.72200393677,
          47757.364236831665,
          248877.24493408203,
          151167.76871871948,
          62315.23416137695,
          278936.75471687317,
          632021.8226327896,
          332442.8917236328,
          257145.99226760864,
          1195201.4759674072,
          1538891.1075951383,
          415592.5101389885,
          138650.63320159912,
          19151.496955871582,
          17293.669914245605,
          20585.68320465088,
          68706.86125183105,
          123515.62909317017,
          919730.1266498566,
          100160.66289138794,
          88800.87710571289,
          84135.60279846191,
          138381.96174430847,
          65576.02502441406,
          87452.66213989258,
          33451.529235839844,
          147672.95579332113,
          62616.48578500748,
          18017.381680488586,
          20093.015266418457,
          62010.57470560074,
          115293.9934015274,
          150141.60884507,
          30801.991226673126,
          46430.57123374939,
          39793.19196510315,
          58453.32725462504,
          86756.27829647064,
          63473.30020523071,
          53316.96308517456,
          28728.538543701172,
          74941.99624061584,
          82145.23655891418,
          3766341.015586853,
          473654.8269920349,
          330712.0268249512,
          61229.907890319824,
          95879.68222427368,
          56608.6796913147,
          29369.60356903076,
          17852.100067138672,
          76091.15793418884,
          374666.4623012543,
          107446.19721317291,
          47762.71329498291,
          239315.94757461548,
          560898.8534851074,
          420147.3969345093,
          385413.4209289551,
          2031709.8054799438,
          1954998.7167872116,
          464037.1193473935,
          116398.30512237549,
          104162.19990539551,
          69381.37501335144,
          49578.535568237305,
          70323.75355529785,
          174413.8716468811,
          1040220.6525192261,
          189184.70642852783,
          108508.08390808105,
          48439.12561035156,
          144475.38844299316,
          84912.8440246582,
          72767.2476196289,
          39214.88543701172,
          161963.43525788188,
          58467.895451545715,
          26648.39210021496,
          29105.669952511787,
          53756.9952917099,
          118096.61491334438
         ],
         "x0": " ",
         "xaxis": "x",
         "y": [
          "target1_202104_mean",
          "target1_202104_std",
          "target1_202104_min",
          "target1_202104_median",
          "target2_202104_mean",
          "target2_202104_std",
          "target2_202104_min",
          "target2_202104_median",
          "target2_202104_quantile75",
          "target2_202104_prob",
          "target4_202104_mean",
          "target4_202104_min",
          "target4_202104_median",
          "target4_202104_quantile25",
          "target4_202104_quantile75",
          "target4_202104_prob",
          "target2_prod_4_202104_min",
          "target2_prod_4_202104_median",
          "target2_prod_4_202104_quantile25",
          "target2_prod_4_202104_prob",
          "target2_div_4_202104_mean",
          "target2_div_4_202104_std",
          "target2_div_4_202104_max",
          "target2_div_4_202104_min",
          "target2_div_4_202104_median",
          "target2_div_4_202104_quantile25",
          "target2_div_4_202104_quantile75",
          "target2_div_4_202104_prob",
          "Rosters_LE_teamId",
          "Rosters_LE_status",
          "Players_LE_birthCity",
          "Players_LE_birthStateProvince",
          "Players_LE_heightInches",
          "Players_LE_weight",
          "Players_LE_primaryPositionCode",
          "Players_LE_playerAge",
          "Players_LE_playerid",
          "PlayerTwitterFollowerAggregate_mean",
          "PlayerTwitterFollowerAggregate_std",
          "PlayerTwitterFollowerAggregate_max",
          "PlayerTwitterFollowerAggregate_min",
          "PlayerTwitterFollowerAggregate_median",
          "PlayerTwitterFollowerAggregate_quantile25",
          "PlayerTwitterFollowerAggregate_quantile75",
          "StandingsMeta_runsAllowed",
          "StandingsMeta_runsScored",
          "StandingsMeta_awayLosses",
          "StandingsMeta_grassLosses",
          "StandingsMeta_divWins",
          "StandingsMeta_divLosses",
          "target1_202104_mean",
          "target1_202104_std",
          "target1_202104_min",
          "target1_202104_median",
          "target2_202104_mean",
          "target2_202104_std",
          "target2_202104_min",
          "target2_202104_median",
          "target2_202104_quantile75",
          "target2_202104_prob",
          "target4_202104_mean",
          "target4_202104_min",
          "target4_202104_median",
          "target4_202104_quantile25",
          "target4_202104_quantile75",
          "target4_202104_prob",
          "target2_prod_4_202104_min",
          "target2_prod_4_202104_median",
          "target2_prod_4_202104_quantile25",
          "target2_prod_4_202104_prob",
          "target2_div_4_202104_mean",
          "target2_div_4_202104_std",
          "target2_div_4_202104_max",
          "target2_div_4_202104_min",
          "target2_div_4_202104_median",
          "target2_div_4_202104_quantile25",
          "target2_div_4_202104_quantile75",
          "target2_div_4_202104_prob",
          "Rosters_LE_teamId",
          "Rosters_LE_status",
          "Players_LE_birthCity",
          "Players_LE_birthStateProvince",
          "Players_LE_heightInches",
          "Players_LE_weight",
          "Players_LE_primaryPositionCode",
          "Players_LE_playerAge",
          "Players_LE_playerid",
          "PlayerTwitterFollowerAggregate_mean",
          "PlayerTwitterFollowerAggregate_std",
          "PlayerTwitterFollowerAggregate_max",
          "PlayerTwitterFollowerAggregate_min",
          "PlayerTwitterFollowerAggregate_median",
          "PlayerTwitterFollowerAggregate_quantile25",
          "PlayerTwitterFollowerAggregate_quantile75",
          "StandingsMeta_runsAllowed",
          "StandingsMeta_runsScored",
          "StandingsMeta_awayLosses",
          "StandingsMeta_grassLosses",
          "StandingsMeta_divWins",
          "StandingsMeta_divLosses"
         ],
         "y0": " ",
         "yaxis": "y"
        }
       ],
       "layout": {
        "boxmode": "group",
        "height": 900,
        "legend": {
         "tracegroupgap": 0
        },
        "template": {
         "data": {
          "bar": [
           {
            "error_x": {
             "color": "#2a3f5f"
            },
            "error_y": {
             "color": "#2a3f5f"
            },
            "marker": {
             "line": {
              "color": "#E5ECF6",
              "width": 0.5
             }
            },
            "type": "bar"
           }
          ],
          "barpolar": [
           {
            "marker": {
             "line": {
              "color": "#E5ECF6",
              "width": 0.5
             }
            },
            "type": "barpolar"
           }
          ],
          "carpet": [
           {
            "aaxis": {
             "endlinecolor": "#2a3f5f",
             "gridcolor": "white",
             "linecolor": "white",
             "minorgridcolor": "white",
             "startlinecolor": "#2a3f5f"
            },
            "baxis": {
             "endlinecolor": "#2a3f5f",
             "gridcolor": "white",
             "linecolor": "white",
             "minorgridcolor": "white",
             "startlinecolor": "#2a3f5f"
            },
            "type": "carpet"
           }
          ],
          "choropleth": [
           {
            "colorbar": {
             "outlinewidth": 0,
             "ticks": ""
            },
            "type": "choropleth"
           }
          ],
          "contour": [
           {
            "colorbar": {
             "outlinewidth": 0,
             "ticks": ""
            },
            "colorscale": [
             [
              0,
              "#0d0887"
             ],
             [
              0.1111111111111111,
              "#46039f"
             ],
             [
              0.2222222222222222,
              "#7201a8"
             ],
             [
              0.3333333333333333,
              "#9c179e"
             ],
             [
              0.4444444444444444,
              "#bd3786"
             ],
             [
              0.5555555555555556,
              "#d8576b"
             ],
             [
              0.6666666666666666,
              "#ed7953"
             ],
             [
              0.7777777777777778,
              "#fb9f3a"
             ],
             [
              0.8888888888888888,
              "#fdca26"
             ],
             [
              1,
              "#f0f921"
             ]
            ],
            "type": "contour"
           }
          ],
          "contourcarpet": [
           {
            "colorbar": {
             "outlinewidth": 0,
             "ticks": ""
            },
            "type": "contourcarpet"
           }
          ],
          "heatmap": [
           {
            "colorbar": {
             "outlinewidth": 0,
             "ticks": ""
            },
            "colorscale": [
             [
              0,
              "#0d0887"
             ],
             [
              0.1111111111111111,
              "#46039f"
             ],
             [
              0.2222222222222222,
              "#7201a8"
             ],
             [
              0.3333333333333333,
              "#9c179e"
             ],
             [
              0.4444444444444444,
              "#bd3786"
             ],
             [
              0.5555555555555556,
              "#d8576b"
             ],
             [
              0.6666666666666666,
              "#ed7953"
             ],
             [
              0.7777777777777778,
              "#fb9f3a"
             ],
             [
              0.8888888888888888,
              "#fdca26"
             ],
             [
              1,
              "#f0f921"
             ]
            ],
            "type": "heatmap"
           }
          ],
          "heatmapgl": [
           {
            "colorbar": {
             "outlinewidth": 0,
             "ticks": ""
            },
            "colorscale": [
             [
              0,
              "#0d0887"
             ],
             [
              0.1111111111111111,
              "#46039f"
             ],
             [
              0.2222222222222222,
              "#7201a8"
             ],
             [
              0.3333333333333333,
              "#9c179e"
             ],
             [
              0.4444444444444444,
              "#bd3786"
             ],
             [
              0.5555555555555556,
              "#d8576b"
             ],
             [
              0.6666666666666666,
              "#ed7953"
             ],
             [
              0.7777777777777778,
              "#fb9f3a"
             ],
             [
              0.8888888888888888,
              "#fdca26"
             ],
             [
              1,
              "#f0f921"
             ]
            ],
            "type": "heatmapgl"
           }
          ],
          "histogram": [
           {
            "marker": {
             "colorbar": {
              "outlinewidth": 0,
              "ticks": ""
             }
            },
            "type": "histogram"
           }
          ],
          "histogram2d": [
           {
            "colorbar": {
             "outlinewidth": 0,
             "ticks": ""
            },
            "colorscale": [
             [
              0,
              "#0d0887"
             ],
             [
              0.1111111111111111,
              "#46039f"
             ],
             [
              0.2222222222222222,
              "#7201a8"
             ],
             [
              0.3333333333333333,
              "#9c179e"
             ],
             [
              0.4444444444444444,
              "#bd3786"
             ],
             [
              0.5555555555555556,
              "#d8576b"
             ],
             [
              0.6666666666666666,
              "#ed7953"
             ],
             [
              0.7777777777777778,
              "#fb9f3a"
             ],
             [
              0.8888888888888888,
              "#fdca26"
             ],
             [
              1,
              "#f0f921"
             ]
            ],
            "type": "histogram2d"
           }
          ],
          "histogram2dcontour": [
           {
            "colorbar": {
             "outlinewidth": 0,
             "ticks": ""
            },
            "colorscale": [
             [
              0,
              "#0d0887"
             ],
             [
              0.1111111111111111,
              "#46039f"
             ],
             [
              0.2222222222222222,
              "#7201a8"
             ],
             [
              0.3333333333333333,
              "#9c179e"
             ],
             [
              0.4444444444444444,
              "#bd3786"
             ],
             [
              0.5555555555555556,
              "#d8576b"
             ],
             [
              0.6666666666666666,
              "#ed7953"
             ],
             [
              0.7777777777777778,
              "#fb9f3a"
             ],
             [
              0.8888888888888888,
              "#fdca26"
             ],
             [
              1,
              "#f0f921"
             ]
            ],
            "type": "histogram2dcontour"
           }
          ],
          "mesh3d": [
           {
            "colorbar": {
             "outlinewidth": 0,
             "ticks": ""
            },
            "type": "mesh3d"
           }
          ],
          "parcoords": [
           {
            "line": {
             "colorbar": {
              "outlinewidth": 0,
              "ticks": ""
             }
            },
            "type": "parcoords"
           }
          ],
          "pie": [
           {
            "automargin": true,
            "type": "pie"
           }
          ],
          "scatter": [
           {
            "marker": {
             "colorbar": {
              "outlinewidth": 0,
              "ticks": ""
             }
            },
            "type": "scatter"
           }
          ],
          "scatter3d": [
           {
            "line": {
             "colorbar": {
              "outlinewidth": 0,
              "ticks": ""
             }
            },
            "marker": {
             "colorbar": {
              "outlinewidth": 0,
              "ticks": ""
             }
            },
            "type": "scatter3d"
           }
          ],
          "scattercarpet": [
           {
            "marker": {
             "colorbar": {
              "outlinewidth": 0,
              "ticks": ""
             }
            },
            "type": "scattercarpet"
           }
          ],
          "scattergeo": [
           {
            "marker": {
             "colorbar": {
              "outlinewidth": 0,
              "ticks": ""
             }
            },
            "type": "scattergeo"
           }
          ],
          "scattergl": [
           {
            "marker": {
             "colorbar": {
              "outlinewidth": 0,
              "ticks": ""
             }
            },
            "type": "scattergl"
           }
          ],
          "scattermapbox": [
           {
            "marker": {
             "colorbar": {
              "outlinewidth": 0,
              "ticks": ""
             }
            },
            "type": "scattermapbox"
           }
          ],
          "scatterpolar": [
           {
            "marker": {
             "colorbar": {
              "outlinewidth": 0,
              "ticks": ""
             }
            },
            "type": "scatterpolar"
           }
          ],
          "scatterpolargl": [
           {
            "marker": {
             "colorbar": {
              "outlinewidth": 0,
              "ticks": ""
             }
            },
            "type": "scatterpolargl"
           }
          ],
          "scatterternary": [
           {
            "marker": {
             "colorbar": {
              "outlinewidth": 0,
              "ticks": ""
             }
            },
            "type": "scatterternary"
           }
          ],
          "surface": [
           {
            "colorbar": {
             "outlinewidth": 0,
             "ticks": ""
            },
            "colorscale": [
             [
              0,
              "#0d0887"
             ],
             [
              0.1111111111111111,
              "#46039f"
             ],
             [
              0.2222222222222222,
              "#7201a8"
             ],
             [
              0.3333333333333333,
              "#9c179e"
             ],
             [
              0.4444444444444444,
              "#bd3786"
             ],
             [
              0.5555555555555556,
              "#d8576b"
             ],
             [
              0.6666666666666666,
              "#ed7953"
             ],
             [
              0.7777777777777778,
              "#fb9f3a"
             ],
             [
              0.8888888888888888,
              "#fdca26"
             ],
             [
              1,
              "#f0f921"
             ]
            ],
            "type": "surface"
           }
          ],
          "table": [
           {
            "cells": {
             "fill": {
              "color": "#EBF0F8"
             },
             "line": {
              "color": "white"
             }
            },
            "header": {
             "fill": {
              "color": "#C8D4E3"
             },
             "line": {
              "color": "white"
             }
            },
            "type": "table"
           }
          ]
         },
         "layout": {
          "annotationdefaults": {
           "arrowcolor": "#2a3f5f",
           "arrowhead": 0,
           "arrowwidth": 1
          },
          "autotypenumbers": "strict",
          "coloraxis": {
           "colorbar": {
            "outlinewidth": 0,
            "ticks": ""
           }
          },
          "colorscale": {
           "diverging": [
            [
             0,
             "#8e0152"
            ],
            [
             0.1,
             "#c51b7d"
            ],
            [
             0.2,
             "#de77ae"
            ],
            [
             0.3,
             "#f1b6da"
            ],
            [
             0.4,
             "#fde0ef"
            ],
            [
             0.5,
             "#f7f7f7"
            ],
            [
             0.6,
             "#e6f5d0"
            ],
            [
             0.7,
             "#b8e186"
            ],
            [
             0.8,
             "#7fbc41"
            ],
            [
             0.9,
             "#4d9221"
            ],
            [
             1,
             "#276419"
            ]
           ],
           "sequential": [
            [
             0,
             "#0d0887"
            ],
            [
             0.1111111111111111,
             "#46039f"
            ],
            [
             0.2222222222222222,
             "#7201a8"
            ],
            [
             0.3333333333333333,
             "#9c179e"
            ],
            [
             0.4444444444444444,
             "#bd3786"
            ],
            [
             0.5555555555555556,
             "#d8576b"
            ],
            [
             0.6666666666666666,
             "#ed7953"
            ],
            [
             0.7777777777777778,
             "#fb9f3a"
            ],
            [
             0.8888888888888888,
             "#fdca26"
            ],
            [
             1,
             "#f0f921"
            ]
           ],
           "sequentialminus": [
            [
             0,
             "#0d0887"
            ],
            [
             0.1111111111111111,
             "#46039f"
            ],
            [
             0.2222222222222222,
             "#7201a8"
            ],
            [
             0.3333333333333333,
             "#9c179e"
            ],
            [
             0.4444444444444444,
             "#bd3786"
            ],
            [
             0.5555555555555556,
             "#d8576b"
            ],
            [
             0.6666666666666666,
             "#ed7953"
            ],
            [
             0.7777777777777778,
             "#fb9f3a"
            ],
            [
             0.8888888888888888,
             "#fdca26"
            ],
            [
             1,
             "#f0f921"
            ]
           ]
          },
          "colorway": [
           "#636efa",
           "#EF553B",
           "#00cc96",
           "#ab63fa",
           "#FFA15A",
           "#19d3f3",
           "#FF6692",
           "#B6E880",
           "#FF97FF",
           "#FECB52"
          ],
          "font": {
           "color": "#2a3f5f"
          },
          "geo": {
           "bgcolor": "white",
           "lakecolor": "white",
           "landcolor": "#E5ECF6",
           "showlakes": true,
           "showland": true,
           "subunitcolor": "white"
          },
          "hoverlabel": {
           "align": "left"
          },
          "hovermode": "closest",
          "mapbox": {
           "style": "light"
          },
          "paper_bgcolor": "white",
          "plot_bgcolor": "#E5ECF6",
          "polar": {
           "angularaxis": {
            "gridcolor": "white",
            "linecolor": "white",
            "ticks": ""
           },
           "bgcolor": "#E5ECF6",
           "radialaxis": {
            "gridcolor": "white",
            "linecolor": "white",
            "ticks": ""
           }
          },
          "scene": {
           "xaxis": {
            "backgroundcolor": "#E5ECF6",
            "gridcolor": "white",
            "gridwidth": 2,
            "linecolor": "white",
            "showbackground": true,
            "ticks": "",
            "zerolinecolor": "white"
           },
           "yaxis": {
            "backgroundcolor": "#E5ECF6",
            "gridcolor": "white",
            "gridwidth": 2,
            "linecolor": "white",
            "showbackground": true,
            "ticks": "",
            "zerolinecolor": "white"
           },
           "zaxis": {
            "backgroundcolor": "#E5ECF6",
            "gridcolor": "white",
            "gridwidth": 2,
            "linecolor": "white",
            "showbackground": true,
            "ticks": "",
            "zerolinecolor": "white"
           }
          },
          "shapedefaults": {
           "line": {
            "color": "#2a3f5f"
           }
          },
          "ternary": {
           "aaxis": {
            "gridcolor": "white",
            "linecolor": "white",
            "ticks": ""
           },
           "baxis": {
            "gridcolor": "white",
            "linecolor": "white",
            "ticks": ""
           },
           "bgcolor": "#E5ECF6",
           "caxis": {
            "gridcolor": "white",
            "linecolor": "white",
            "ticks": ""
           }
          },
          "title": {
           "x": 0.05
          },
          "xaxis": {
           "automargin": true,
           "gridcolor": "white",
           "linecolor": "white",
           "ticks": "",
           "title": {
            "standoff": 15
           },
           "zerolinecolor": "white",
           "zerolinewidth": 2
          },
          "yaxis": {
           "automargin": true,
           "gridcolor": "white",
           "linecolor": "white",
           "ticks": "",
           "title": {
            "standoff": 15
           },
           "zerolinecolor": "white",
           "zerolinewidth": 2
          }
         }
        },
        "title": {
         "text": "Target4 Top 50 feature importance"
        },
        "width": 1250,
        "xaxis": {
         "anchor": "y",
         "domain": [
          0,
          1
         ],
         "title": {
          "text": "feature_importance"
         }
        },
        "yaxis": {
         "anchor": "x",
         "categoryarray": [
          "StandingsMeta_awayLosses",
          "target2_prod_4_202104_median",
          "StandingsMeta_grassLosses",
          "target2_202104_quantile75",
          "target2_prod_4_202104_quantile25",
          "target1_202104_median",
          "target1_202104_std",
          "Players_LE_weight",
          "target1_202104_min",
          "PlayerTwitterFollowerAggregate_quantile75",
          "Players_LE_heightInches",
          "target2_prod_4_202104_min",
          "target4_202104_quantile75",
          "target2_202104_min",
          "target2_202104_prob",
          "target2_div_4_202104_max",
          "StandingsMeta_divWins",
          "StandingsMeta_runsScored",
          "Players_LE_birthStateProvince",
          "target2_prod_4_202104_prob",
          "target2_202104_median",
          "target2_202104_mean",
          "target4_202104_prob",
          "target2_202104_std",
          "PlayerTwitterFollowerAggregate_max",
          "Players_LE_primaryPositionCode",
          "PlayerTwitterFollowerAggregate_median",
          "PlayerTwitterFollowerAggregate_quantile25",
          "target4_202104_mean",
          "PlayerTwitterFollowerAggregate_std",
          "target1_202104_mean",
          "StandingsMeta_divLosses",
          "Players_LE_birthCity",
          "target2_div_4_202104_std",
          "PlayerTwitterFollowerAggregate_min",
          "PlayerTwitterFollowerAggregate_mean",
          "Players_LE_playerAge",
          "StandingsMeta_runsAllowed",
          "target2_div_4_202104_min",
          "target4_202104_quantile25",
          "target2_div_4_202104_mean",
          "target2_div_4_202104_quantile75",
          "target2_div_4_202104_quantile25",
          "Rosters_LE_status",
          "target4_202104_median",
          "target2_div_4_202104_median",
          "Players_LE_playerid",
          "target2_div_4_202104_prob",
          "Rosters_LE_teamId",
          "target4_202104_min"
         ],
         "categoryorder": "array",
         "domain": [
          0,
          1
         ],
         "showgrid": true,
         "title": {
          "text": "feature"
         }
        }
       }
      }
     },
     "metadata": {}
    }
   ],
   "metadata": {}
  },
  {
   "cell_type": "code",
   "execution_count": 57,
   "source": [
    "# for target, model_tmps in zip(CFG.TARGETS, models):\n",
    "#     for i, model_tmp in enumerate(model_tmps):\n",
    "#         model_tmp.save_model(f\"{CFG.MODEL_PATH}/lgb_{target}_{i}.txt\")"
   ],
   "outputs": [],
   "metadata": {}
  },
  {
   "cell_type": "markdown",
   "source": [
    "## Inference"
   ],
   "metadata": {}
  },
  {
   "cell_type": "code",
   "execution_count": 53,
   "source": [
    "def update_dataset(input_df: pd.DataFrame, sample_prediction_df: pd.DataFrame):\n",
    "    '''datasetの更新\n",
    "    '''\n",
    "    # columnがNaNでなければ分岐処理が実行される(pd.isnaとかでも代用可)\n",
    "    # NaN == NaNはFalseになる\n",
    "    ####################\n",
    "    # rosters #\n",
    "    ####################\n",
    "    if input_df[\"rosters\"].iloc[0] == input_df[\"rosters\"].iloc[0]:\n",
    "        test_rosters = pd.read_json(input_df[\"rosters\"].iloc[0])\n",
    "    else:\n",
    "        test_rosters = sample_prediction_df[[\"playerId\"]].copy()\n",
    "        for col in mlb_train_ds.train_rosters.columns:\n",
    "            if col == \"playerId\": continue\n",
    "            test_rosters[col] = np.nan\n",
    "\n",
    "    test_rosters[\"date\"] = input_df.iloc[0][\"date\"]\n",
    "    if input_df.iloc[0][\"date\"] > 20210430:\n",
    "        mlb_train_ds.train_rosters = reduce_mem_usage(pd.concat([mlb_train_ds.train_rosters, test_rosters], axis=0, ignore_index=True))\n",
    "    ####################\n",
    "    # playerBoxScores #\n",
    "    ####################\n",
    "    if input_df[\"playerBoxScores\"].iloc[0] == input_df[\"playerBoxScores\"].iloc[0]:\n",
    "        test_scores = pd.read_json(input_df[\"playerBoxScores\"].iloc[0])\n",
    "    else:\n",
    "        test_scores = sample_prediction_df[[\"playerId\"]].copy()\n",
    "        for col in mlb_train_ds.train_scores.columns:\n",
    "            if col == \"playerId\": continue\n",
    "            test_scores[col] = np.nan\n",
    "    \n",
    "    test_scores[\"date\"] = input_df.iloc[0][\"date\"]\n",
    "    if input_df.iloc[0][\"date\"] > 20210430:\n",
    "        mlb_train_ds.train_scores = reduce_mem_usage(pd.concat([mlb_train_ds.train_scores, test_scores], axis=0, ignore_index=True))\n",
    "    ####################\n",
    "    # teamBoxScores #\n",
    "    ####################\n",
    "    if input_df[\"teamBoxScores\"].iloc[0] == input_df[\"teamBoxScores\"].iloc[0]:\n",
    "        test_teamBoxScores = pd.read_json(input_df[\"teamBoxScores\"].iloc[0])\n",
    "    else:\n",
    "        cols = mlb_train_ds.train_tbs.drop(columns=\"date\", axis=1).columns.tolist()\n",
    "        test_teamBoxScores = pd.DataFrame(columns=cols)\n",
    "        test_teamBoxScores[\"teamId\"] = mlb_train_ds.train_tbs.teamId.unique()\n",
    "\n",
    "    test_teamBoxScores[\"date\"] = input_df.iloc[0][\"date\"]\n",
    "    if input_df.iloc[0][\"date\"] > 20210430:\n",
    "        mlb_train_ds.train_tbs = reduce_mem_usage(pd.concat([mlb_train_ds.train_tbs, test_teamBoxScores], axis=0, ignore_index=True))\n",
    "    ####################\n",
    "    # games #\n",
    "    ####################\n",
    "    if input_df[\"games\"].iloc[0] == input_df[\"games\"].iloc[0]:\n",
    "        test_games = pd.read_json(input_df[\"games\"].iloc[0])\n",
    "    else:\n",
    "        cols = mlb_train_ds.train_games.drop(columns=\"date\", axis=1).columns.tolist()\n",
    "        test_games = pd.DataFrame(columns=cols)\n",
    "\n",
    "    test_games[\"date\"] = input_df.iloc[0][\"date\"]\n",
    "    if input_df.iloc[0][\"date\"] > 20210430:\n",
    "        mlb_train_ds.train_games = reduce_mem_usage(pd.concat([mlb_train_ds.train_games, test_games], axis=0, ignore_index=True))\n",
    "    ####################\n",
    "    # staindings #\n",
    "    ####################\n",
    "    if input_df[\"standings\"].iloc[0] == input_df[\"standings\"].iloc[0]:\n",
    "        test_standings = pd.read_json(input_df[\"standings\"].iloc[0])\n",
    "    else:\n",
    "        cols = mlb_train_ds.train_standings.drop(columns=\"date\", axis=1).columns.tolist()\n",
    "        test_standings = pd.DataFrame(columns=cols)\n",
    "    \n",
    "    test_standings[\"date\"] = input_df.iloc[0][\"date\"]\n",
    "    if input_df.iloc[0][\"date\"] > 20210430:\n",
    "        mlb_train_ds.train_standings = reduce_mem_usage(pd.concat([mlb_train_ds.train_standings, test_standings], axis=0, ignore_index=True))\n",
    "    ####################\n",
    "    # awards #\n",
    "    ####################\n",
    "    if input_df[\"awards\"].iloc[0] == input_df[\"awards\"].iloc[0]:\n",
    "        test_awards = pd.read_json(input_df[\"awards\"].iloc[0])\n",
    "    else:\n",
    "        cols = mlb_train_ds.train_awards.drop(columns=\"date\", axis=1).columns.tolist()\n",
    "        test_awards = pd.DataFrame(columns=cols)\n",
    "    \n",
    "    test_awards[\"date\"] = input_df.iloc[0][\"date\"]\n",
    "    if input_df.iloc[0][\"date\"] > 20210430:\n",
    "        mlb_train_ds.train_awards = reduce_mem_usage(pd.concat([mlb_train_ds.train_awards, test_awards], axis=0, ignore_index=True))"
   ],
   "outputs": [],
   "metadata": {}
  },
  {
   "cell_type": "code",
   "execution_count": 54,
   "source": [
    "# models = []\n",
    "# for target in CFG.TARGETS:\n",
    "#     tmp = [lgb.Booster(model_file=f\"{CFG.MODEL_PATH}/lgb_{target}_{i}.txt\") for i in range(len(CFG.SEEDS))]\n",
    "#     models.append(tmp)"
   ],
   "outputs": [],
   "metadata": {}
  },
  {
   "cell_type": "code",
   "execution_count": 55,
   "source": [
    "# env = mlb.make_env()\n",
    "# iter_test = env.iter_test()\n",
    "\n",
    "# for (test_df, sample_prediction_df) in iter_test:\n",
    "#     sample_prediction_df = sample_prediction_df.reset_index(drop=True)\n",
    "#     # create dataset\n",
    "#     test_df = test_df.reset_index()\n",
    "#     test_df = test_df.rename(columns={\"index\": \"date\"})\n",
    "#     sample_prediction_df[\"date\"] = test_df.iloc[0][\"date\"]\n",
    "#     sample_prediction_df[\"playerId\"] = sample_prediction_df[\"date_playerId\"].map(lambda x: int(x.split(\"_\")[1]))\n",
    "#     update_dataset(test_df, sample_prediction_df)\n",
    "#     # create features\n",
    "#     test_feat_df = create_test_feature(sample_prediction_df, update_blocks, non_update_blocks)\n",
    "#     X_test = test_feat_df.values\n",
    "#     # prediction\n",
    "#     for target, model in zip(CFG.TARGETS, models):\n",
    "#         pred = np.mean([model_.predict(X_test, num_iteration=model_.best_iteration) for model_ in model], axis=0)\n",
    "#         sample_prediction_df[target] = np.clip(pred, 0, 100)\n",
    "\n",
    "#     sample_prediction_df = sample_prediction_df.drop(columns=[\"playerId\", \"date\"], axis=1)\n",
    "\n",
    "#     env.predict(sample_prediction_df)"
   ],
   "outputs": [],
   "metadata": {}
  },
  {
   "cell_type": "code",
   "execution_count": 56,
   "source": [
    "# Local inference check\n",
    "# test_df = mlb_train_ds.example_test.query(\"date <= 20210426\").copy()\n",
    "# sample_prediction_df = mlb_train_ds.sample_submission.query(\"date <= 20210426\").copy()\n",
    "# sample_prediction_df[\"playerId\"] = sample_prediction_df[\"date_playerId\"].map(lambda x: int(x.split(\"_\")[1]))"
   ],
   "outputs": [],
   "metadata": {}
  },
  {
   "cell_type": "code",
   "execution_count": null,
   "source": [],
   "outputs": [],
   "metadata": {}
  }
 ],
 "metadata": {
  "orig_nbformat": 4,
  "language_info": {
   "name": "python",
   "version": "3.8.8",
   "mimetype": "text/x-python",
   "codemirror_mode": {
    "name": "ipython",
    "version": 3
   },
   "pygments_lexer": "ipython3",
   "nbconvert_exporter": "python",
   "file_extension": ".py"
  },
  "kernelspec": {
   "name": "python3",
   "display_name": "Python 3.8.8 64-bit ('.venv': poetry)"
  },
  "interpreter": {
   "hash": "49e542643694108dbc7cdf9f60531ad0f8dd36c5e7a125d96861557f43e4f65e"
  }
 },
 "nbformat": 4,
 "nbformat_minor": 2
}