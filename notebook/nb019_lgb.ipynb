{
 "cells": [
  {
   "cell_type": "markdown",
   "source": [
    "# Overview\n",
    "- LightGBM"
   ],
   "metadata": {}
  },
  {
   "cell_type": "code",
   "execution_count": 1,
   "source": [
    "import numpy as np\n",
    "import pandas as pd\n",
    "from pathlib import Path\n",
    "from sklearn.metrics import mean_absolute_error\n",
    "from datetime import timedelta\n",
    "from tqdm.notebook import tqdm\n",
    "import lightgbm as lgb\n",
    "from typing import List, Union, Optional\n",
    "import time\n",
    "from contextlib import contextmanager\n",
    "import sys\n",
    "import logging\n",
    "import category_encoders as ce\n",
    "import plotly\n",
    "from plotly import express as px\n",
    "from scipy.stats import norm\n",
    "# import mlb\n",
    "\n",
    "pd.options.display.max_columns = 200"
   ],
   "outputs": [],
   "metadata": {}
  },
  {
   "cell_type": "markdown",
   "source": [
    "## Config"
   ],
   "metadata": {}
  },
  {
   "cell_type": "code",
   "execution_count": 2,
   "source": [
    "class CFG:\n",
    "    ######################\n",
    "    # global #\n",
    "    ######################\n",
    "    INPUT_DIR = \"../input/mlb-player-digital-engagement-forecasting\"\n",
    "    # INPUT_DIR = \"../input/mlb-unnested-dataset\" # for kaggle kernel\n",
    "    OBJECT_ID = [\"playerId\", \"date\"]\n",
    "    TARGETS = [\"target1\", \"target2\", \"target3\", \"target4\"]\n",
    "    ######################\n",
    "    # model #\n",
    "    ######################\n",
    "    LGB_PARAMS = {\n",
    "        \"objective\": \"mae\",\n",
    "        \"boosting_type\": \"gbdt\",\n",
    "        \"learning_rate\": 0.1,\n",
    "        \"max_depth\": 6,\n",
    "        \"num_leaves\": int(2 ** 6 * 0.8),\n",
    "        \"lambda_l1\": 0.1,\n",
    "        \"lambda_l2\": 0.1,\n",
    "        \"bagging_fraction\": 0.9,\n",
    "        \"bagging_freq\": 3,\n",
    "        \"feature_fraction\": 0.9,\n",
    "        \"min_data_in_leaf\": 20,\n",
    "        \"num_threads\": 8,\n",
    "        \"verbosity\": -1,\n",
    "        \"num_iterations\": 10000,\n",
    "        \"early_stopping_round\": 100,\n",
    "    }\n",
    "    SEEDS = [2434, 98]\n",
    "    MODEL_PATH = \"../output/nb019\"\n",
    "    # MODEL_PATH = \"../input/mlb-nb019-lgb-weights\" # for kaggle kernel"
   ],
   "outputs": [],
   "metadata": {}
  },
  {
   "cell_type": "markdown",
   "source": [
    "## Utils"
   ],
   "metadata": {}
  },
  {
   "cell_type": "code",
   "execution_count": 3,
   "source": [
    "def get_logger(out_file=None):\n",
    "    logger = logging.getLogger()  # loggerの呼び出し\n",
    "    formatter = logging.Formatter(\"[%(asctime)s] [%(levelname)s] [%(message)s]\")  # ログ出力の際のフォーマットを定義\n",
    "    logger.handlers = []  # ハンドラーを追加するためのリスト\n",
    "    logger.setLevel(logging.INFO)  # ロギングのレベルを設定, 'INFO' : 想定された通りのことが起こったことの確認\n",
    "\n",
    "    handler = logging.StreamHandler(sys.stdout)  # StreamHandler(コンソールに出力するハンドラ)を追加\n",
    "    handler.setFormatter(formatter)\n",
    "    handler.setLevel(logging.INFO)\n",
    "    logger.addHandler(handler)\n",
    "\n",
    "    # ログをファイルとして出力する際のハンドラ(FileHandler)\n",
    "    if out_file is not None:\n",
    "        fh = logging.FileHandler(out_file)\n",
    "        fh.setFormatter(formatter)\n",
    "        fh.setLevel(logging.INFO)\n",
    "        logger.addHandler(fh)\n",
    "\n",
    "    logger.info(\"logger set up\")  # \"logger set up\"を表示\n",
    "    return logger\n",
    "\n",
    "\n",
    "@contextmanager\n",
    "def timer(name: str, logger: Optional[logging.Logger] = None):\n",
    "    t0 = time.time()\n",
    "    msg = f\"<{name}> start\"\n",
    "    if logger is None:\n",
    "        print(msg)\n",
    "    else:\n",
    "        logger.info(msg)\n",
    "    yield\n",
    "\n",
    "    msg = f\"<{name}> done in {time.time() - t0:.2f} s\"\n",
    "    if logger is None:\n",
    "        print(msg)\n",
    "    else:\n",
    "        logger.info(msg)\n",
    "\n",
    "\n",
    "def reduce_mem_usage(df, verbose=True):\n",
    "    numerics = ['int16', 'int32', 'int64', 'float16', 'float32', 'float64']\n",
    "    start_mem = df.memory_usage().sum() / 1024**2\n",
    "    for col in df.columns:\n",
    "        col_type = df[col].dtypes\n",
    "        if col_type in numerics:\n",
    "            c_min = df[col].min()\n",
    "            c_max = df[col].max()\n",
    "            if str(col_type)[:3] == 'int':\n",
    "                if c_min > np.iinfo(np.int8).min and c_max < np.iinfo(np.int8).max:\n",
    "                    df[col] = df[col].astype(np.int16)\n",
    "                elif c_min > np.iinfo(np.int16).min and c_max < np.iinfo(np.int16).max:\n",
    "                    df[col] = df[col].astype(np.int32)\n",
    "                elif c_min > np.iinfo(np.int32).min and c_max < np.iinfo(np.int32).max:\n",
    "                    df[col] = df[col].astype(np.int64)\n",
    "                elif c_min > np.iinfo(np.int64).min and c_max < np.iinfo(np.int64).max:\n",
    "                    df[col] = df[col].astype(np.int64)\n",
    "            else:\n",
    "                if c_min > np.finfo(np.float16).min and c_max < np.finfo(np.float16).max:\n",
    "                    df[col] = df[col].astype(np.float32)\n",
    "                elif c_min > np.finfo(np.float32).min and c_max < np.finfo(np.float32).max:\n",
    "                    df[col] = df[col].astype(np.float64)\n",
    "                else:\n",
    "                    df[col] = df[col].astype(np.float64)\n",
    "    end_mem = df.memory_usage().sum() / 1024**2\n",
    "    if verbose: print('Mem. usage decreased to {:5.2f} Mb ({:.1f}% reduction)'.format(end_mem, 100 * (start_mem - end_mem) / start_mem))\n",
    "    return df"
   ],
   "outputs": [],
   "metadata": {}
  },
  {
   "cell_type": "markdown",
   "source": [
    "## Loading dataset"
   ],
   "metadata": {}
  },
  {
   "cell_type": "code",
   "execution_count": 4,
   "source": [
    "class MLBDataset(object):\n",
    "    def __init__(self, input_path):\n",
    "        self.input_path = Path(input_path)\n",
    "        #################\n",
    "        # train #\n",
    "        #################\n",
    "        self.train_next = pd.read_pickle(self.input_path / \"train_nextDayPlayerEngagement.pickle\")\n",
    "        self.train_rosters = pd.read_pickle(self.input_path / \"train_rosters.pickle\")\n",
    "        self.train_ptf = pd.read_pickle(self.input_path / \"train_playerTwitterFollowers.pickle\")\n",
    "        self.train_scores = pd.read_pickle(self.input_path / \"train_playerBoxScores.pickle\")\n",
    "        self.train_games = pd.read_pickle(self.input_path / \"train_games.pickle\")\n",
    "        self.train_standings = pd.read_pickle(self.input_path / \"train_standings.pickle\")\n",
    "        self.train_tbs = pd.read_pickle(self.input_path / \"train_teamBoxScores.pickle\")\n",
    "        self.train_ttf = pd.read_pickle(self.input_path / \"train_teamTwitterFollowers.pickle\")\n",
    "        self.train_trans = pd.read_pickle(self.input_path / \"train_transactions.pickle\")\n",
    "        self.train_awards = pd.read_pickle(self.input_path / \"train_awards.pickle\")\n",
    "        self.train_events = pd.read_pickle(self.input_path / \"train_events.pickle\")\n",
    "        #################\n",
    "        # Additional #\n",
    "        #################\n",
    "        self.players = pd.read_pickle(self.input_path / \"players.pickle\")\n",
    "        self.awards = pd.read_pickle(self.input_path / \"awards.pickle\")\n",
    "        self.seasons = pd.read_pickle(self.input_path / \"seasons.pickle\")\n",
    "        self.teams = pd.read_pickle(self.input_path / \"teams.pickle\")\n",
    "        #################\n",
    "        # test #\n",
    "        #################\n",
    "        self.example_test = pd.read_csv(self.input_path / \"example_test.csv\")\n",
    "        self.sample_submission = pd.read_csv(self.input_path / \"example_sample_submission.csv\")\n",
    "\n",
    "        # # only players in test set\n",
    "        # target_playerids = self.players[self.players[\"playerForTestSetAndFuturePreds\"] == True][\"playerId\"].unique()\n",
    "        # self.train_next = self.train_next[self.train_next[\"playerId\"].isin(target_playerids)].reset_index(drop=True)\n",
    "\n",
    "mlb_train_ds = MLBDataset(CFG.INPUT_DIR)"
   ],
   "outputs": [],
   "metadata": {}
  },
  {
   "cell_type": "code",
   "execution_count": 5,
   "source": [
    "df = mlb_train_ds.train_next.copy()\n",
    "df[\"key\"] = df[\"date\"].astype(str) + \"_\" + df[\"playerId\"].astype(str)\n",
    "agg_df = mlb_train_ds.train_scores.copy()\n",
    "agg_df[\"key\"] = agg_df[\"date\"].astype(str) + \"_\" + agg_df[\"playerId\"].astype(str)\n",
    "agg_df = agg_df.groupby([\"key\"]).sum().drop(columns=[\"date\", \"playerId\"])\n",
    "agg_df"
   ],
   "outputs": [
    {
     "output_type": "execute_result",
     "data": {
      "text/plain": [
       "                 home  gamePk  teamId  positionCode  battingOrder  \\\n",
       "key                                                                 \n",
       "20180329_134181     1  529411     140             5         400.0   \n",
       "20180329_400085     1  529409     136             7         900.0   \n",
       "20180329_400284     1  529418     119            11         902.0   \n",
       "20180329_405395     0  529412     108             3         400.0   \n",
       "20180329_407822     1  529410     109             1         901.0   \n",
       "...               ...     ...     ...           ...           ...   \n",
       "20210430_676831     0  634325     138             1         903.0   \n",
       "20210430_676840     1  634328     109             1         904.0   \n",
       "20210430_676969     1  634337     140             1           0.0   \n",
       "20210430_683734     1  634288     145             7         800.0   \n",
       "20210430_685503     1  634337     140             1           0.0   \n",
       "\n",
       "                 gamesPlayedBatting  flyOuts  groundOuts  runsScored  doubles  \\\n",
       "key                                                                             \n",
       "20180329_134181                 1.0      2.0         0.0         0.0      0.0   \n",
       "20180329_400085                 1.0      0.0         1.0         0.0      0.0   \n",
       "20180329_400284                 1.0      0.0         0.0         0.0      0.0   \n",
       "20180329_405395                 1.0      1.0         1.0         1.0      0.0   \n",
       "20180329_407822                 1.0      0.0         0.0         0.0      0.0   \n",
       "...                             ...      ...         ...         ...      ...   \n",
       "20210430_676831                 1.0      0.0         0.0         0.0      0.0   \n",
       "20210430_676840                 1.0      0.0         0.0         0.0      0.0   \n",
       "20210430_676969                 0.0      0.0         0.0         0.0      0.0   \n",
       "20210430_683734                 1.0      0.0         1.0         0.0      0.0   \n",
       "20210430_685503                 0.0      0.0         0.0         0.0      0.0   \n",
       "\n",
       "                 triples  homeRuns  strikeOuts  baseOnBalls  intentionalWalks  \\\n",
       "key                                                                             \n",
       "20180329_134181      0.0       0.0         0.0          0.0               0.0   \n",
       "20180329_400085      0.0       0.0         1.0          0.0               0.0   \n",
       "20180329_400284      0.0       0.0         0.0          0.0               0.0   \n",
       "20180329_405395      0.0       1.0         1.0          0.0               0.0   \n",
       "20180329_407822      0.0       0.0         0.0          0.0               0.0   \n",
       "...                  ...       ...         ...          ...               ...   \n",
       "20210430_676831      0.0       0.0         0.0          0.0               0.0   \n",
       "20210430_676840      0.0       0.0         0.0          0.0               0.0   \n",
       "20210430_676969      0.0       0.0         0.0          0.0               0.0   \n",
       "20210430_683734      0.0       0.0         2.0          0.0               0.0   \n",
       "20210430_685503      0.0       0.0         0.0          0.0               0.0   \n",
       "\n",
       "                 hits  hitByPitch  atBats  caughtStealing  stolenBases  \\\n",
       "key                                                                      \n",
       "20180329_134181   2.0         0.0     4.0             0.0          0.0   \n",
       "20180329_400085   0.0         0.0     2.0             0.0          0.0   \n",
       "20180329_400284   1.0         0.0     1.0             0.0          1.0   \n",
       "20180329_405395   2.0         0.0     5.0             0.0          0.0   \n",
       "20180329_407822   0.0         0.0     0.0             0.0          0.0   \n",
       "...               ...         ...     ...             ...          ...   \n",
       "20210430_676831   0.0         0.0     0.0             0.0          0.0   \n",
       "20210430_676840   0.0         0.0     0.0             0.0          0.0   \n",
       "20210430_676969   0.0         0.0     0.0             0.0          0.0   \n",
       "20210430_683734   0.0         0.0     3.0             0.0          0.0   \n",
       "20210430_685503   0.0         0.0     0.0             0.0          0.0   \n",
       "\n",
       "                 groundIntoDoublePlay  groundIntoTriplePlay  plateAppearances  \\\n",
       "key                                                                             \n",
       "20180329_134181                   0.0                   0.0               4.0   \n",
       "20180329_400085                   0.0                   0.0               2.0   \n",
       "20180329_400284                   0.0                   0.0               1.0   \n",
       "20180329_405395                   0.0                   0.0               5.0   \n",
       "20180329_407822                   0.0                   0.0               0.0   \n",
       "...                               ...                   ...               ...   \n",
       "20210430_676831                   0.0                   0.0               0.0   \n",
       "20210430_676840                   0.0                   0.0               0.0   \n",
       "20210430_676969                   0.0                   0.0               0.0   \n",
       "20210430_683734                   0.0                   0.0               3.0   \n",
       "20210430_685503                   0.0                   0.0               0.0   \n",
       "\n",
       "                 totalBases  rbi  leftOnBase  sacBunts  sacFlies  \\\n",
       "key                                                                \n",
       "20180329_134181         2.0  0.0         2.0       0.0       0.0   \n",
       "20180329_400085         0.0  0.0         1.0       0.0       0.0   \n",
       "20180329_400284         1.0  0.0         0.0       0.0       0.0   \n",
       "20180329_405395         5.0  1.0         0.0       0.0       0.0   \n",
       "20180329_407822         0.0  0.0         0.0       0.0       0.0   \n",
       "...                     ...  ...         ...       ...       ...   \n",
       "20210430_676831         0.0  0.0         0.0       0.0       0.0   \n",
       "20210430_676840         0.0  0.0         0.0       0.0       0.0   \n",
       "20210430_676969         0.0  0.0         0.0       0.0       0.0   \n",
       "20210430_683734         0.0  0.0         2.0       0.0       0.0   \n",
       "20210430_685503         0.0  0.0         0.0       0.0       0.0   \n",
       "\n",
       "                 catchersInterference  pickoffs  gamesPlayedPitching  \\\n",
       "key                                                                    \n",
       "20180329_134181                   0.0       0.0                  0.0   \n",
       "20180329_400085                   0.0       0.0                  0.0   \n",
       "20180329_400284                   0.0       0.0                  0.0   \n",
       "20180329_405395                   0.0       0.0                  0.0   \n",
       "20180329_407822                   0.0       0.0                  1.0   \n",
       "...                               ...       ...                  ...   \n",
       "20210430_676831                   0.0       0.0                  1.0   \n",
       "20210430_676840                   0.0       0.0                  1.0   \n",
       "20210430_676969                   0.0       0.0                  1.0   \n",
       "20210430_683734                   0.0       0.0                  0.0   \n",
       "20210430_685503                   0.0       0.0                  1.0   \n",
       "\n",
       "                 gamesStartedPitching  completeGamesPitching  \\\n",
       "key                                                            \n",
       "20180329_134181                   0.0                    0.0   \n",
       "20180329_400085                   0.0                    0.0   \n",
       "20180329_400284                   0.0                    0.0   \n",
       "20180329_405395                   0.0                    0.0   \n",
       "20180329_407822                   0.0                    0.0   \n",
       "...                               ...                    ...   \n",
       "20210430_676831                   0.0                    0.0   \n",
       "20210430_676840                   0.0                    0.0   \n",
       "20210430_676969                   0.0                    0.0   \n",
       "20210430_683734                   0.0                    0.0   \n",
       "20210430_685503                   1.0                    0.0   \n",
       "\n",
       "                 shutoutsPitching  winsPitching  lossesPitching  \\\n",
       "key                                                               \n",
       "20180329_134181               0.0           0.0             0.0   \n",
       "20180329_400085               0.0           0.0             0.0   \n",
       "20180329_400284               0.0           0.0             0.0   \n",
       "20180329_405395               0.0           0.0             0.0   \n",
       "20180329_407822               0.0           0.0             0.0   \n",
       "...                           ...           ...             ...   \n",
       "20210430_676831               0.0           0.0             0.0   \n",
       "20210430_676840               0.0           0.0             0.0   \n",
       "20210430_676969               0.0           0.0             0.0   \n",
       "20210430_683734               0.0           0.0             0.0   \n",
       "20210430_685503               0.0           0.0             1.0   \n",
       "\n",
       "                 flyOutsPitching  airOutsPitching  groundOutsPitching  \\\n",
       "key                                                                     \n",
       "20180329_134181              0.0              0.0                 0.0   \n",
       "20180329_400085              0.0              0.0                 0.0   \n",
       "20180329_400284              0.0              0.0                 0.0   \n",
       "20180329_405395              0.0              0.0                 0.0   \n",
       "20180329_407822              0.0              0.0                 1.0   \n",
       "...                          ...              ...                 ...   \n",
       "20210430_676831              0.0              0.0                 1.0   \n",
       "20210430_676840              1.0              1.0                 2.0   \n",
       "20210430_676969              3.0              3.0                 2.0   \n",
       "20210430_683734              0.0              0.0                 0.0   \n",
       "20210430_685503              3.0              5.0                 3.0   \n",
       "\n",
       "                 runsPitching  doublesPitching  triplesPitching  \\\n",
       "key                                                               \n",
       "20180329_134181           0.0              0.0              0.0   \n",
       "20180329_400085           0.0              0.0              0.0   \n",
       "20180329_400284           0.0              0.0              0.0   \n",
       "20180329_405395           0.0              0.0              0.0   \n",
       "20180329_407822           0.0              0.0              0.0   \n",
       "...                       ...              ...              ...   \n",
       "20210430_676831           0.0              0.0              0.0   \n",
       "20210430_676840           0.0              0.0              0.0   \n",
       "20210430_676969           0.0              0.0              0.0   \n",
       "20210430_683734           0.0              0.0              0.0   \n",
       "20210430_685503           6.0              0.0              0.0   \n",
       "\n",
       "                 homeRunsPitching  strikeOutsPitching  baseOnBallsPitching  \\\n",
       "key                                                                          \n",
       "20180329_134181               0.0                 0.0                  0.0   \n",
       "20180329_400085               0.0                 0.0                  0.0   \n",
       "20180329_400284               0.0                 0.0                  0.0   \n",
       "20180329_405395               0.0                 0.0                  0.0   \n",
       "20180329_407822               0.0                 0.0                  0.0   \n",
       "...                           ...                 ...                  ...   \n",
       "20210430_676831               0.0                 0.0                  1.0   \n",
       "20210430_676840               0.0                 0.0                  0.0   \n",
       "20210430_676969               0.0                 1.0                  0.0   \n",
       "20210430_683734               0.0                 0.0                  0.0   \n",
       "20210430_685503               4.0                 1.0                  2.0   \n",
       "\n",
       "                 intentionalWalksPitching  hitsPitching  hitByPitchPitching  \\\n",
       "key                                                                           \n",
       "20180329_134181                       0.0           0.0                 0.0   \n",
       "20180329_400085                       0.0           0.0                 0.0   \n",
       "20180329_400284                       0.0           0.0                 0.0   \n",
       "20180329_405395                       0.0           0.0                 0.0   \n",
       "20180329_407822                       0.0           0.0                 0.0   \n",
       "...                                   ...           ...                 ...   \n",
       "20210430_676831                       0.0           0.0                 0.0   \n",
       "20210430_676840                       0.0           1.0                 0.0   \n",
       "20210430_676969                       0.0           1.0                 0.0   \n",
       "20210430_683734                       0.0           0.0                 0.0   \n",
       "20210430_685503                       0.0           4.0                 1.0   \n",
       "\n",
       "                 atBatsPitching  caughtStealingPitching  stolenBasesPitching  \\\n",
       "key                                                                            \n",
       "20180329_134181             0.0                     0.0                  0.0   \n",
       "20180329_400085             0.0                     0.0                  0.0   \n",
       "20180329_400284             0.0                     0.0                  0.0   \n",
       "20180329_405395             0.0                     0.0                  0.0   \n",
       "20180329_407822             1.0                     0.0                  0.0   \n",
       "...                         ...                     ...                  ...   \n",
       "20210430_676831             1.0                     0.0                  0.0   \n",
       "20210430_676840             4.0                     0.0                  0.0   \n",
       "20210430_676969             7.0                     0.0                  0.0   \n",
       "20210430_683734             0.0                     0.0                  0.0   \n",
       "20210430_685503            13.0                     0.0                  0.0   \n",
       "\n",
       "                 inningsPitched  saveOpportunities  earnedRuns  battersFaced  \\\n",
       "key                                                                            \n",
       "20180329_134181             0.0                0.0         0.0           0.0   \n",
       "20180329_400085             0.0                0.0         0.0           0.0   \n",
       "20180329_400284             0.0                0.0         0.0           0.0   \n",
       "20180329_405395             0.0                0.0         0.0           0.0   \n",
       "20180329_407822             0.1                0.0         0.0           1.0   \n",
       "...                         ...                ...         ...           ...   \n",
       "20210430_676831             0.1                0.0         0.0           2.0   \n",
       "20210430_676840             1.0                0.0         0.0           4.0   \n",
       "20210430_676969             2.0                0.0         0.0           7.0   \n",
       "20210430_683734             0.0                0.0         0.0           0.0   \n",
       "20210430_685503             2.2                0.0         6.0          16.0   \n",
       "\n",
       "                 outsPitching  pitchesThrown  balls  strikes  hitBatsmen  \\\n",
       "key                                                                        \n",
       "20180329_134181           0.0            0.0    0.0      0.0         0.0   \n",
       "20180329_400085           0.0            0.0    0.0      0.0         0.0   \n",
       "20180329_400284           0.0            0.0    0.0      0.0         0.0   \n",
       "20180329_405395           0.0            0.0    0.0      0.0         0.0   \n",
       "20180329_407822           1.0            4.0    1.0      3.0         0.0   \n",
       "...                       ...            ...    ...      ...         ...   \n",
       "20210430_676831           1.0            8.0    5.0      3.0         0.0   \n",
       "20210430_676840           3.0           11.0    2.0      9.0         0.0   \n",
       "20210430_676969           6.0           21.0    7.0     14.0         0.0   \n",
       "20210430_683734           0.0            0.0    0.0      0.0         0.0   \n",
       "20210430_685503           8.0           55.0   24.0     31.0         1.0   \n",
       "\n",
       "                 balks  wildPitches  pickoffsPitching  rbiPitching  \\\n",
       "key                                                                  \n",
       "20180329_134181    0.0          0.0               0.0          0.0   \n",
       "20180329_400085    0.0          0.0               0.0          0.0   \n",
       "20180329_400284    0.0          0.0               0.0          0.0   \n",
       "20180329_405395    0.0          0.0               0.0          0.0   \n",
       "20180329_407822    0.0          0.0               0.0          0.0   \n",
       "...                ...          ...               ...          ...   \n",
       "20210430_676831    1.0          1.0               0.0          0.0   \n",
       "20210430_676840    0.0          0.0               0.0          0.0   \n",
       "20210430_676969    0.0          0.0               0.0          0.0   \n",
       "20210430_683734    0.0          0.0               0.0          0.0   \n",
       "20210430_685503    0.0          0.0               0.0          6.0   \n",
       "\n",
       "                 gamesFinishedPitching  inheritedRunners  \\\n",
       "key                                                        \n",
       "20180329_134181                    0.0               0.0   \n",
       "20180329_400085                    0.0               0.0   \n",
       "20180329_400284                    0.0               0.0   \n",
       "20180329_405395                    0.0               0.0   \n",
       "20180329_407822                    0.0               1.0   \n",
       "...                                ...               ...   \n",
       "20210430_676831                    0.0               3.0   \n",
       "20210430_676840                    1.0               0.0   \n",
       "20210430_676969                    1.0               0.0   \n",
       "20210430_683734                    0.0               0.0   \n",
       "20210430_685503                    0.0               0.0   \n",
       "\n",
       "                 inheritedRunnersScored  catchersInterferencePitching  \\\n",
       "key                                                                     \n",
       "20180329_134181                     0.0                           0.0   \n",
       "20180329_400085                     0.0                           0.0   \n",
       "20180329_400284                     0.0                           0.0   \n",
       "20180329_405395                     0.0                           0.0   \n",
       "20180329_407822                     0.0                           0.0   \n",
       "...                                 ...                           ...   \n",
       "20210430_676831                     2.0                           0.0   \n",
       "20210430_676840                     0.0                           0.0   \n",
       "20210430_676969                     0.0                           0.0   \n",
       "20210430_683734                     0.0                           0.0   \n",
       "20210430_685503                     0.0                           0.0   \n",
       "\n",
       "                 sacBuntsPitching  sacFliesPitching  saves  holds  blownSaves  \\\n",
       "key                                                                             \n",
       "20180329_134181               0.0               0.0    0.0    0.0         0.0   \n",
       "20180329_400085               0.0               0.0    0.0    0.0         0.0   \n",
       "20180329_400284               0.0               0.0    0.0    0.0         0.0   \n",
       "20180329_405395               0.0               0.0    0.0    0.0         0.0   \n",
       "20180329_407822               0.0               0.0    0.0    1.0         0.0   \n",
       "...                           ...               ...    ...    ...         ...   \n",
       "20210430_676831               0.0               0.0    0.0    1.0         0.0   \n",
       "20210430_676840               0.0               0.0    0.0    0.0         0.0   \n",
       "20210430_676969               0.0               0.0    0.0    0.0         0.0   \n",
       "20210430_683734               0.0               0.0    0.0    0.0         0.0   \n",
       "20210430_685503               0.0               0.0    0.0    0.0         0.0   \n",
       "\n",
       "                 assists  putOuts  errors  chances  \n",
       "key                                                 \n",
       "20180329_134181      1.0      1.0     0.0      2.0  \n",
       "20180329_400085      0.0      2.0     0.0      2.0  \n",
       "20180329_400284      0.0      0.0     0.0      0.0  \n",
       "20180329_405395      2.0      6.0     0.0      8.0  \n",
       "20180329_407822      0.0      0.0     0.0      0.0  \n",
       "...                  ...      ...     ...      ...  \n",
       "20210430_676831      0.0      0.0     0.0      0.0  \n",
       "20210430_676840      0.0      0.0     0.0      0.0  \n",
       "20210430_676969      0.0      0.0     0.0      0.0  \n",
       "20210430_683734      0.0      2.0     0.0      2.0  \n",
       "20210430_685503      0.0      0.0     0.0      0.0  \n",
       "\n",
       "[182950 rows x 77 columns]"
      ],
      "text/html": [
       "<div>\n",
       "<style scoped>\n",
       "    .dataframe tbody tr th:only-of-type {\n",
       "        vertical-align: middle;\n",
       "    }\n",
       "\n",
       "    .dataframe tbody tr th {\n",
       "        vertical-align: top;\n",
       "    }\n",
       "\n",
       "    .dataframe thead th {\n",
       "        text-align: right;\n",
       "    }\n",
       "</style>\n",
       "<table border=\"1\" class=\"dataframe\">\n",
       "  <thead>\n",
       "    <tr style=\"text-align: right;\">\n",
       "      <th></th>\n",
       "      <th>home</th>\n",
       "      <th>gamePk</th>\n",
       "      <th>teamId</th>\n",
       "      <th>positionCode</th>\n",
       "      <th>battingOrder</th>\n",
       "      <th>gamesPlayedBatting</th>\n",
       "      <th>flyOuts</th>\n",
       "      <th>groundOuts</th>\n",
       "      <th>runsScored</th>\n",
       "      <th>doubles</th>\n",
       "      <th>triples</th>\n",
       "      <th>homeRuns</th>\n",
       "      <th>strikeOuts</th>\n",
       "      <th>baseOnBalls</th>\n",
       "      <th>intentionalWalks</th>\n",
       "      <th>hits</th>\n",
       "      <th>hitByPitch</th>\n",
       "      <th>atBats</th>\n",
       "      <th>caughtStealing</th>\n",
       "      <th>stolenBases</th>\n",
       "      <th>groundIntoDoublePlay</th>\n",
       "      <th>groundIntoTriplePlay</th>\n",
       "      <th>plateAppearances</th>\n",
       "      <th>totalBases</th>\n",
       "      <th>rbi</th>\n",
       "      <th>leftOnBase</th>\n",
       "      <th>sacBunts</th>\n",
       "      <th>sacFlies</th>\n",
       "      <th>catchersInterference</th>\n",
       "      <th>pickoffs</th>\n",
       "      <th>gamesPlayedPitching</th>\n",
       "      <th>gamesStartedPitching</th>\n",
       "      <th>completeGamesPitching</th>\n",
       "      <th>shutoutsPitching</th>\n",
       "      <th>winsPitching</th>\n",
       "      <th>lossesPitching</th>\n",
       "      <th>flyOutsPitching</th>\n",
       "      <th>airOutsPitching</th>\n",
       "      <th>groundOutsPitching</th>\n",
       "      <th>runsPitching</th>\n",
       "      <th>doublesPitching</th>\n",
       "      <th>triplesPitching</th>\n",
       "      <th>homeRunsPitching</th>\n",
       "      <th>strikeOutsPitching</th>\n",
       "      <th>baseOnBallsPitching</th>\n",
       "      <th>intentionalWalksPitching</th>\n",
       "      <th>hitsPitching</th>\n",
       "      <th>hitByPitchPitching</th>\n",
       "      <th>atBatsPitching</th>\n",
       "      <th>caughtStealingPitching</th>\n",
       "      <th>stolenBasesPitching</th>\n",
       "      <th>inningsPitched</th>\n",
       "      <th>saveOpportunities</th>\n",
       "      <th>earnedRuns</th>\n",
       "      <th>battersFaced</th>\n",
       "      <th>outsPitching</th>\n",
       "      <th>pitchesThrown</th>\n",
       "      <th>balls</th>\n",
       "      <th>strikes</th>\n",
       "      <th>hitBatsmen</th>\n",
       "      <th>balks</th>\n",
       "      <th>wildPitches</th>\n",
       "      <th>pickoffsPitching</th>\n",
       "      <th>rbiPitching</th>\n",
       "      <th>gamesFinishedPitching</th>\n",
       "      <th>inheritedRunners</th>\n",
       "      <th>inheritedRunnersScored</th>\n",
       "      <th>catchersInterferencePitching</th>\n",
       "      <th>sacBuntsPitching</th>\n",
       "      <th>sacFliesPitching</th>\n",
       "      <th>saves</th>\n",
       "      <th>holds</th>\n",
       "      <th>blownSaves</th>\n",
       "      <th>assists</th>\n",
       "      <th>putOuts</th>\n",
       "      <th>errors</th>\n",
       "      <th>chances</th>\n",
       "    </tr>\n",
       "    <tr>\n",
       "      <th>key</th>\n",
       "      <th></th>\n",
       "      <th></th>\n",
       "      <th></th>\n",
       "      <th></th>\n",
       "      <th></th>\n",
       "      <th></th>\n",
       "      <th></th>\n",
       "      <th></th>\n",
       "      <th></th>\n",
       "      <th></th>\n",
       "      <th></th>\n",
       "      <th></th>\n",
       "      <th></th>\n",
       "      <th></th>\n",
       "      <th></th>\n",
       "      <th></th>\n",
       "      <th></th>\n",
       "      <th></th>\n",
       "      <th></th>\n",
       "      <th></th>\n",
       "      <th></th>\n",
       "      <th></th>\n",
       "      <th></th>\n",
       "      <th></th>\n",
       "      <th></th>\n",
       "      <th></th>\n",
       "      <th></th>\n",
       "      <th></th>\n",
       "      <th></th>\n",
       "      <th></th>\n",
       "      <th></th>\n",
       "      <th></th>\n",
       "      <th></th>\n",
       "      <th></th>\n",
       "      <th></th>\n",
       "      <th></th>\n",
       "      <th></th>\n",
       "      <th></th>\n",
       "      <th></th>\n",
       "      <th></th>\n",
       "      <th></th>\n",
       "      <th></th>\n",
       "      <th></th>\n",
       "      <th></th>\n",
       "      <th></th>\n",
       "      <th></th>\n",
       "      <th></th>\n",
       "      <th></th>\n",
       "      <th></th>\n",
       "      <th></th>\n",
       "      <th></th>\n",
       "      <th></th>\n",
       "      <th></th>\n",
       "      <th></th>\n",
       "      <th></th>\n",
       "      <th></th>\n",
       "      <th></th>\n",
       "      <th></th>\n",
       "      <th></th>\n",
       "      <th></th>\n",
       "      <th></th>\n",
       "      <th></th>\n",
       "      <th></th>\n",
       "      <th></th>\n",
       "      <th></th>\n",
       "      <th></th>\n",
       "      <th></th>\n",
       "      <th></th>\n",
       "      <th></th>\n",
       "      <th></th>\n",
       "      <th></th>\n",
       "      <th></th>\n",
       "      <th></th>\n",
       "      <th></th>\n",
       "      <th></th>\n",
       "      <th></th>\n",
       "      <th></th>\n",
       "    </tr>\n",
       "  </thead>\n",
       "  <tbody>\n",
       "    <tr>\n",
       "      <th>20180329_134181</th>\n",
       "      <td>1</td>\n",
       "      <td>529411</td>\n",
       "      <td>140</td>\n",
       "      <td>5</td>\n",
       "      <td>400.0</td>\n",
       "      <td>1.0</td>\n",
       "      <td>2.0</td>\n",
       "      <td>0.0</td>\n",
       "      <td>0.0</td>\n",
       "      <td>0.0</td>\n",
       "      <td>0.0</td>\n",
       "      <td>0.0</td>\n",
       "      <td>0.0</td>\n",
       "      <td>0.0</td>\n",
       "      <td>0.0</td>\n",
       "      <td>2.0</td>\n",
       "      <td>0.0</td>\n",
       "      <td>4.0</td>\n",
       "      <td>0.0</td>\n",
       "      <td>0.0</td>\n",
       "      <td>0.0</td>\n",
       "      <td>0.0</td>\n",
       "      <td>4.0</td>\n",
       "      <td>2.0</td>\n",
       "      <td>0.0</td>\n",
       "      <td>2.0</td>\n",
       "      <td>0.0</td>\n",
       "      <td>0.0</td>\n",
       "      <td>0.0</td>\n",
       "      <td>0.0</td>\n",
       "      <td>0.0</td>\n",
       "      <td>0.0</td>\n",
       "      <td>0.0</td>\n",
       "      <td>0.0</td>\n",
       "      <td>0.0</td>\n",
       "      <td>0.0</td>\n",
       "      <td>0.0</td>\n",
       "      <td>0.0</td>\n",
       "      <td>0.0</td>\n",
       "      <td>0.0</td>\n",
       "      <td>0.0</td>\n",
       "      <td>0.0</td>\n",
       "      <td>0.0</td>\n",
       "      <td>0.0</td>\n",
       "      <td>0.0</td>\n",
       "      <td>0.0</td>\n",
       "      <td>0.0</td>\n",
       "      <td>0.0</td>\n",
       "      <td>0.0</td>\n",
       "      <td>0.0</td>\n",
       "      <td>0.0</td>\n",
       "      <td>0.0</td>\n",
       "      <td>0.0</td>\n",
       "      <td>0.0</td>\n",
       "      <td>0.0</td>\n",
       "      <td>0.0</td>\n",
       "      <td>0.0</td>\n",
       "      <td>0.0</td>\n",
       "      <td>0.0</td>\n",
       "      <td>0.0</td>\n",
       "      <td>0.0</td>\n",
       "      <td>0.0</td>\n",
       "      <td>0.0</td>\n",
       "      <td>0.0</td>\n",
       "      <td>0.0</td>\n",
       "      <td>0.0</td>\n",
       "      <td>0.0</td>\n",
       "      <td>0.0</td>\n",
       "      <td>0.0</td>\n",
       "      <td>0.0</td>\n",
       "      <td>0.0</td>\n",
       "      <td>0.0</td>\n",
       "      <td>0.0</td>\n",
       "      <td>1.0</td>\n",
       "      <td>1.0</td>\n",
       "      <td>0.0</td>\n",
       "      <td>2.0</td>\n",
       "    </tr>\n",
       "    <tr>\n",
       "      <th>20180329_400085</th>\n",
       "      <td>1</td>\n",
       "      <td>529409</td>\n",
       "      <td>136</td>\n",
       "      <td>7</td>\n",
       "      <td>900.0</td>\n",
       "      <td>1.0</td>\n",
       "      <td>0.0</td>\n",
       "      <td>1.0</td>\n",
       "      <td>0.0</td>\n",
       "      <td>0.0</td>\n",
       "      <td>0.0</td>\n",
       "      <td>0.0</td>\n",
       "      <td>1.0</td>\n",
       "      <td>0.0</td>\n",
       "      <td>0.0</td>\n",
       "      <td>0.0</td>\n",
       "      <td>0.0</td>\n",
       "      <td>2.0</td>\n",
       "      <td>0.0</td>\n",
       "      <td>0.0</td>\n",
       "      <td>0.0</td>\n",
       "      <td>0.0</td>\n",
       "      <td>2.0</td>\n",
       "      <td>0.0</td>\n",
       "      <td>0.0</td>\n",
       "      <td>1.0</td>\n",
       "      <td>0.0</td>\n",
       "      <td>0.0</td>\n",
       "      <td>0.0</td>\n",
       "      <td>0.0</td>\n",
       "      <td>0.0</td>\n",
       "      <td>0.0</td>\n",
       "      <td>0.0</td>\n",
       "      <td>0.0</td>\n",
       "      <td>0.0</td>\n",
       "      <td>0.0</td>\n",
       "      <td>0.0</td>\n",
       "      <td>0.0</td>\n",
       "      <td>0.0</td>\n",
       "      <td>0.0</td>\n",
       "      <td>0.0</td>\n",
       "      <td>0.0</td>\n",
       "      <td>0.0</td>\n",
       "      <td>0.0</td>\n",
       "      <td>0.0</td>\n",
       "      <td>0.0</td>\n",
       "      <td>0.0</td>\n",
       "      <td>0.0</td>\n",
       "      <td>0.0</td>\n",
       "      <td>0.0</td>\n",
       "      <td>0.0</td>\n",
       "      <td>0.0</td>\n",
       "      <td>0.0</td>\n",
       "      <td>0.0</td>\n",
       "      <td>0.0</td>\n",
       "      <td>0.0</td>\n",
       "      <td>0.0</td>\n",
       "      <td>0.0</td>\n",
       "      <td>0.0</td>\n",
       "      <td>0.0</td>\n",
       "      <td>0.0</td>\n",
       "      <td>0.0</td>\n",
       "      <td>0.0</td>\n",
       "      <td>0.0</td>\n",
       "      <td>0.0</td>\n",
       "      <td>0.0</td>\n",
       "      <td>0.0</td>\n",
       "      <td>0.0</td>\n",
       "      <td>0.0</td>\n",
       "      <td>0.0</td>\n",
       "      <td>0.0</td>\n",
       "      <td>0.0</td>\n",
       "      <td>0.0</td>\n",
       "      <td>0.0</td>\n",
       "      <td>2.0</td>\n",
       "      <td>0.0</td>\n",
       "      <td>2.0</td>\n",
       "    </tr>\n",
       "    <tr>\n",
       "      <th>20180329_400284</th>\n",
       "      <td>1</td>\n",
       "      <td>529418</td>\n",
       "      <td>119</td>\n",
       "      <td>11</td>\n",
       "      <td>902.0</td>\n",
       "      <td>1.0</td>\n",
       "      <td>0.0</td>\n",
       "      <td>0.0</td>\n",
       "      <td>0.0</td>\n",
       "      <td>0.0</td>\n",
       "      <td>0.0</td>\n",
       "      <td>0.0</td>\n",
       "      <td>0.0</td>\n",
       "      <td>0.0</td>\n",
       "      <td>0.0</td>\n",
       "      <td>1.0</td>\n",
       "      <td>0.0</td>\n",
       "      <td>1.0</td>\n",
       "      <td>0.0</td>\n",
       "      <td>1.0</td>\n",
       "      <td>0.0</td>\n",
       "      <td>0.0</td>\n",
       "      <td>1.0</td>\n",
       "      <td>1.0</td>\n",
       "      <td>0.0</td>\n",
       "      <td>0.0</td>\n",
       "      <td>0.0</td>\n",
       "      <td>0.0</td>\n",
       "      <td>0.0</td>\n",
       "      <td>0.0</td>\n",
       "      <td>0.0</td>\n",
       "      <td>0.0</td>\n",
       "      <td>0.0</td>\n",
       "      <td>0.0</td>\n",
       "      <td>0.0</td>\n",
       "      <td>0.0</td>\n",
       "      <td>0.0</td>\n",
       "      <td>0.0</td>\n",
       "      <td>0.0</td>\n",
       "      <td>0.0</td>\n",
       "      <td>0.0</td>\n",
       "      <td>0.0</td>\n",
       "      <td>0.0</td>\n",
       "      <td>0.0</td>\n",
       "      <td>0.0</td>\n",
       "      <td>0.0</td>\n",
       "      <td>0.0</td>\n",
       "      <td>0.0</td>\n",
       "      <td>0.0</td>\n",
       "      <td>0.0</td>\n",
       "      <td>0.0</td>\n",
       "      <td>0.0</td>\n",
       "      <td>0.0</td>\n",
       "      <td>0.0</td>\n",
       "      <td>0.0</td>\n",
       "      <td>0.0</td>\n",
       "      <td>0.0</td>\n",
       "      <td>0.0</td>\n",
       "      <td>0.0</td>\n",
       "      <td>0.0</td>\n",
       "      <td>0.0</td>\n",
       "      <td>0.0</td>\n",
       "      <td>0.0</td>\n",
       "      <td>0.0</td>\n",
       "      <td>0.0</td>\n",
       "      <td>0.0</td>\n",
       "      <td>0.0</td>\n",
       "      <td>0.0</td>\n",
       "      <td>0.0</td>\n",
       "      <td>0.0</td>\n",
       "      <td>0.0</td>\n",
       "      <td>0.0</td>\n",
       "      <td>0.0</td>\n",
       "      <td>0.0</td>\n",
       "      <td>0.0</td>\n",
       "      <td>0.0</td>\n",
       "      <td>0.0</td>\n",
       "    </tr>\n",
       "    <tr>\n",
       "      <th>20180329_405395</th>\n",
       "      <td>0</td>\n",
       "      <td>529412</td>\n",
       "      <td>108</td>\n",
       "      <td>3</td>\n",
       "      <td>400.0</td>\n",
       "      <td>1.0</td>\n",
       "      <td>1.0</td>\n",
       "      <td>1.0</td>\n",
       "      <td>1.0</td>\n",
       "      <td>0.0</td>\n",
       "      <td>0.0</td>\n",
       "      <td>1.0</td>\n",
       "      <td>1.0</td>\n",
       "      <td>0.0</td>\n",
       "      <td>0.0</td>\n",
       "      <td>2.0</td>\n",
       "      <td>0.0</td>\n",
       "      <td>5.0</td>\n",
       "      <td>0.0</td>\n",
       "      <td>0.0</td>\n",
       "      <td>0.0</td>\n",
       "      <td>0.0</td>\n",
       "      <td>5.0</td>\n",
       "      <td>5.0</td>\n",
       "      <td>1.0</td>\n",
       "      <td>0.0</td>\n",
       "      <td>0.0</td>\n",
       "      <td>0.0</td>\n",
       "      <td>0.0</td>\n",
       "      <td>0.0</td>\n",
       "      <td>0.0</td>\n",
       "      <td>0.0</td>\n",
       "      <td>0.0</td>\n",
       "      <td>0.0</td>\n",
       "      <td>0.0</td>\n",
       "      <td>0.0</td>\n",
       "      <td>0.0</td>\n",
       "      <td>0.0</td>\n",
       "      <td>0.0</td>\n",
       "      <td>0.0</td>\n",
       "      <td>0.0</td>\n",
       "      <td>0.0</td>\n",
       "      <td>0.0</td>\n",
       "      <td>0.0</td>\n",
       "      <td>0.0</td>\n",
       "      <td>0.0</td>\n",
       "      <td>0.0</td>\n",
       "      <td>0.0</td>\n",
       "      <td>0.0</td>\n",
       "      <td>0.0</td>\n",
       "      <td>0.0</td>\n",
       "      <td>0.0</td>\n",
       "      <td>0.0</td>\n",
       "      <td>0.0</td>\n",
       "      <td>0.0</td>\n",
       "      <td>0.0</td>\n",
       "      <td>0.0</td>\n",
       "      <td>0.0</td>\n",
       "      <td>0.0</td>\n",
       "      <td>0.0</td>\n",
       "      <td>0.0</td>\n",
       "      <td>0.0</td>\n",
       "      <td>0.0</td>\n",
       "      <td>0.0</td>\n",
       "      <td>0.0</td>\n",
       "      <td>0.0</td>\n",
       "      <td>0.0</td>\n",
       "      <td>0.0</td>\n",
       "      <td>0.0</td>\n",
       "      <td>0.0</td>\n",
       "      <td>0.0</td>\n",
       "      <td>0.0</td>\n",
       "      <td>0.0</td>\n",
       "      <td>2.0</td>\n",
       "      <td>6.0</td>\n",
       "      <td>0.0</td>\n",
       "      <td>8.0</td>\n",
       "    </tr>\n",
       "    <tr>\n",
       "      <th>20180329_407822</th>\n",
       "      <td>1</td>\n",
       "      <td>529410</td>\n",
       "      <td>109</td>\n",
       "      <td>1</td>\n",
       "      <td>901.0</td>\n",
       "      <td>1.0</td>\n",
       "      <td>0.0</td>\n",
       "      <td>0.0</td>\n",
       "      <td>0.0</td>\n",
       "      <td>0.0</td>\n",
       "      <td>0.0</td>\n",
       "      <td>0.0</td>\n",
       "      <td>0.0</td>\n",
       "      <td>0.0</td>\n",
       "      <td>0.0</td>\n",
       "      <td>0.0</td>\n",
       "      <td>0.0</td>\n",
       "      <td>0.0</td>\n",
       "      <td>0.0</td>\n",
       "      <td>0.0</td>\n",
       "      <td>0.0</td>\n",
       "      <td>0.0</td>\n",
       "      <td>0.0</td>\n",
       "      <td>0.0</td>\n",
       "      <td>0.0</td>\n",
       "      <td>0.0</td>\n",
       "      <td>0.0</td>\n",
       "      <td>0.0</td>\n",
       "      <td>0.0</td>\n",
       "      <td>0.0</td>\n",
       "      <td>1.0</td>\n",
       "      <td>0.0</td>\n",
       "      <td>0.0</td>\n",
       "      <td>0.0</td>\n",
       "      <td>0.0</td>\n",
       "      <td>0.0</td>\n",
       "      <td>0.0</td>\n",
       "      <td>0.0</td>\n",
       "      <td>1.0</td>\n",
       "      <td>0.0</td>\n",
       "      <td>0.0</td>\n",
       "      <td>0.0</td>\n",
       "      <td>0.0</td>\n",
       "      <td>0.0</td>\n",
       "      <td>0.0</td>\n",
       "      <td>0.0</td>\n",
       "      <td>0.0</td>\n",
       "      <td>0.0</td>\n",
       "      <td>1.0</td>\n",
       "      <td>0.0</td>\n",
       "      <td>0.0</td>\n",
       "      <td>0.1</td>\n",
       "      <td>0.0</td>\n",
       "      <td>0.0</td>\n",
       "      <td>1.0</td>\n",
       "      <td>1.0</td>\n",
       "      <td>4.0</td>\n",
       "      <td>1.0</td>\n",
       "      <td>3.0</td>\n",
       "      <td>0.0</td>\n",
       "      <td>0.0</td>\n",
       "      <td>0.0</td>\n",
       "      <td>0.0</td>\n",
       "      <td>0.0</td>\n",
       "      <td>0.0</td>\n",
       "      <td>1.0</td>\n",
       "      <td>0.0</td>\n",
       "      <td>0.0</td>\n",
       "      <td>0.0</td>\n",
       "      <td>0.0</td>\n",
       "      <td>0.0</td>\n",
       "      <td>1.0</td>\n",
       "      <td>0.0</td>\n",
       "      <td>0.0</td>\n",
       "      <td>0.0</td>\n",
       "      <td>0.0</td>\n",
       "      <td>0.0</td>\n",
       "    </tr>\n",
       "    <tr>\n",
       "      <th>...</th>\n",
       "      <td>...</td>\n",
       "      <td>...</td>\n",
       "      <td>...</td>\n",
       "      <td>...</td>\n",
       "      <td>...</td>\n",
       "      <td>...</td>\n",
       "      <td>...</td>\n",
       "      <td>...</td>\n",
       "      <td>...</td>\n",
       "      <td>...</td>\n",
       "      <td>...</td>\n",
       "      <td>...</td>\n",
       "      <td>...</td>\n",
       "      <td>...</td>\n",
       "      <td>...</td>\n",
       "      <td>...</td>\n",
       "      <td>...</td>\n",
       "      <td>...</td>\n",
       "      <td>...</td>\n",
       "      <td>...</td>\n",
       "      <td>...</td>\n",
       "      <td>...</td>\n",
       "      <td>...</td>\n",
       "      <td>...</td>\n",
       "      <td>...</td>\n",
       "      <td>...</td>\n",
       "      <td>...</td>\n",
       "      <td>...</td>\n",
       "      <td>...</td>\n",
       "      <td>...</td>\n",
       "      <td>...</td>\n",
       "      <td>...</td>\n",
       "      <td>...</td>\n",
       "      <td>...</td>\n",
       "      <td>...</td>\n",
       "      <td>...</td>\n",
       "      <td>...</td>\n",
       "      <td>...</td>\n",
       "      <td>...</td>\n",
       "      <td>...</td>\n",
       "      <td>...</td>\n",
       "      <td>...</td>\n",
       "      <td>...</td>\n",
       "      <td>...</td>\n",
       "      <td>...</td>\n",
       "      <td>...</td>\n",
       "      <td>...</td>\n",
       "      <td>...</td>\n",
       "      <td>...</td>\n",
       "      <td>...</td>\n",
       "      <td>...</td>\n",
       "      <td>...</td>\n",
       "      <td>...</td>\n",
       "      <td>...</td>\n",
       "      <td>...</td>\n",
       "      <td>...</td>\n",
       "      <td>...</td>\n",
       "      <td>...</td>\n",
       "      <td>...</td>\n",
       "      <td>...</td>\n",
       "      <td>...</td>\n",
       "      <td>...</td>\n",
       "      <td>...</td>\n",
       "      <td>...</td>\n",
       "      <td>...</td>\n",
       "      <td>...</td>\n",
       "      <td>...</td>\n",
       "      <td>...</td>\n",
       "      <td>...</td>\n",
       "      <td>...</td>\n",
       "      <td>...</td>\n",
       "      <td>...</td>\n",
       "      <td>...</td>\n",
       "      <td>...</td>\n",
       "      <td>...</td>\n",
       "      <td>...</td>\n",
       "      <td>...</td>\n",
       "    </tr>\n",
       "    <tr>\n",
       "      <th>20210430_676831</th>\n",
       "      <td>0</td>\n",
       "      <td>634325</td>\n",
       "      <td>138</td>\n",
       "      <td>1</td>\n",
       "      <td>903.0</td>\n",
       "      <td>1.0</td>\n",
       "      <td>0.0</td>\n",
       "      <td>0.0</td>\n",
       "      <td>0.0</td>\n",
       "      <td>0.0</td>\n",
       "      <td>0.0</td>\n",
       "      <td>0.0</td>\n",
       "      <td>0.0</td>\n",
       "      <td>0.0</td>\n",
       "      <td>0.0</td>\n",
       "      <td>0.0</td>\n",
       "      <td>0.0</td>\n",
       "      <td>0.0</td>\n",
       "      <td>0.0</td>\n",
       "      <td>0.0</td>\n",
       "      <td>0.0</td>\n",
       "      <td>0.0</td>\n",
       "      <td>0.0</td>\n",
       "      <td>0.0</td>\n",
       "      <td>0.0</td>\n",
       "      <td>0.0</td>\n",
       "      <td>0.0</td>\n",
       "      <td>0.0</td>\n",
       "      <td>0.0</td>\n",
       "      <td>0.0</td>\n",
       "      <td>1.0</td>\n",
       "      <td>0.0</td>\n",
       "      <td>0.0</td>\n",
       "      <td>0.0</td>\n",
       "      <td>0.0</td>\n",
       "      <td>0.0</td>\n",
       "      <td>0.0</td>\n",
       "      <td>0.0</td>\n",
       "      <td>1.0</td>\n",
       "      <td>0.0</td>\n",
       "      <td>0.0</td>\n",
       "      <td>0.0</td>\n",
       "      <td>0.0</td>\n",
       "      <td>0.0</td>\n",
       "      <td>1.0</td>\n",
       "      <td>0.0</td>\n",
       "      <td>0.0</td>\n",
       "      <td>0.0</td>\n",
       "      <td>1.0</td>\n",
       "      <td>0.0</td>\n",
       "      <td>0.0</td>\n",
       "      <td>0.1</td>\n",
       "      <td>0.0</td>\n",
       "      <td>0.0</td>\n",
       "      <td>2.0</td>\n",
       "      <td>1.0</td>\n",
       "      <td>8.0</td>\n",
       "      <td>5.0</td>\n",
       "      <td>3.0</td>\n",
       "      <td>0.0</td>\n",
       "      <td>1.0</td>\n",
       "      <td>1.0</td>\n",
       "      <td>0.0</td>\n",
       "      <td>0.0</td>\n",
       "      <td>0.0</td>\n",
       "      <td>3.0</td>\n",
       "      <td>2.0</td>\n",
       "      <td>0.0</td>\n",
       "      <td>0.0</td>\n",
       "      <td>0.0</td>\n",
       "      <td>0.0</td>\n",
       "      <td>1.0</td>\n",
       "      <td>0.0</td>\n",
       "      <td>0.0</td>\n",
       "      <td>0.0</td>\n",
       "      <td>0.0</td>\n",
       "      <td>0.0</td>\n",
       "    </tr>\n",
       "    <tr>\n",
       "      <th>20210430_676840</th>\n",
       "      <td>1</td>\n",
       "      <td>634328</td>\n",
       "      <td>109</td>\n",
       "      <td>1</td>\n",
       "      <td>904.0</td>\n",
       "      <td>1.0</td>\n",
       "      <td>0.0</td>\n",
       "      <td>0.0</td>\n",
       "      <td>0.0</td>\n",
       "      <td>0.0</td>\n",
       "      <td>0.0</td>\n",
       "      <td>0.0</td>\n",
       "      <td>0.0</td>\n",
       "      <td>0.0</td>\n",
       "      <td>0.0</td>\n",
       "      <td>0.0</td>\n",
       "      <td>0.0</td>\n",
       "      <td>0.0</td>\n",
       "      <td>0.0</td>\n",
       "      <td>0.0</td>\n",
       "      <td>0.0</td>\n",
       "      <td>0.0</td>\n",
       "      <td>0.0</td>\n",
       "      <td>0.0</td>\n",
       "      <td>0.0</td>\n",
       "      <td>0.0</td>\n",
       "      <td>0.0</td>\n",
       "      <td>0.0</td>\n",
       "      <td>0.0</td>\n",
       "      <td>0.0</td>\n",
       "      <td>1.0</td>\n",
       "      <td>0.0</td>\n",
       "      <td>0.0</td>\n",
       "      <td>0.0</td>\n",
       "      <td>0.0</td>\n",
       "      <td>0.0</td>\n",
       "      <td>1.0</td>\n",
       "      <td>1.0</td>\n",
       "      <td>2.0</td>\n",
       "      <td>0.0</td>\n",
       "      <td>0.0</td>\n",
       "      <td>0.0</td>\n",
       "      <td>0.0</td>\n",
       "      <td>0.0</td>\n",
       "      <td>0.0</td>\n",
       "      <td>0.0</td>\n",
       "      <td>1.0</td>\n",
       "      <td>0.0</td>\n",
       "      <td>4.0</td>\n",
       "      <td>0.0</td>\n",
       "      <td>0.0</td>\n",
       "      <td>1.0</td>\n",
       "      <td>0.0</td>\n",
       "      <td>0.0</td>\n",
       "      <td>4.0</td>\n",
       "      <td>3.0</td>\n",
       "      <td>11.0</td>\n",
       "      <td>2.0</td>\n",
       "      <td>9.0</td>\n",
       "      <td>0.0</td>\n",
       "      <td>0.0</td>\n",
       "      <td>0.0</td>\n",
       "      <td>0.0</td>\n",
       "      <td>0.0</td>\n",
       "      <td>1.0</td>\n",
       "      <td>0.0</td>\n",
       "      <td>0.0</td>\n",
       "      <td>0.0</td>\n",
       "      <td>0.0</td>\n",
       "      <td>0.0</td>\n",
       "      <td>0.0</td>\n",
       "      <td>0.0</td>\n",
       "      <td>0.0</td>\n",
       "      <td>0.0</td>\n",
       "      <td>0.0</td>\n",
       "      <td>0.0</td>\n",
       "      <td>0.0</td>\n",
       "    </tr>\n",
       "    <tr>\n",
       "      <th>20210430_676969</th>\n",
       "      <td>1</td>\n",
       "      <td>634337</td>\n",
       "      <td>140</td>\n",
       "      <td>1</td>\n",
       "      <td>0.0</td>\n",
       "      <td>0.0</td>\n",
       "      <td>0.0</td>\n",
       "      <td>0.0</td>\n",
       "      <td>0.0</td>\n",
       "      <td>0.0</td>\n",
       "      <td>0.0</td>\n",
       "      <td>0.0</td>\n",
       "      <td>0.0</td>\n",
       "      <td>0.0</td>\n",
       "      <td>0.0</td>\n",
       "      <td>0.0</td>\n",
       "      <td>0.0</td>\n",
       "      <td>0.0</td>\n",
       "      <td>0.0</td>\n",
       "      <td>0.0</td>\n",
       "      <td>0.0</td>\n",
       "      <td>0.0</td>\n",
       "      <td>0.0</td>\n",
       "      <td>0.0</td>\n",
       "      <td>0.0</td>\n",
       "      <td>0.0</td>\n",
       "      <td>0.0</td>\n",
       "      <td>0.0</td>\n",
       "      <td>0.0</td>\n",
       "      <td>0.0</td>\n",
       "      <td>1.0</td>\n",
       "      <td>0.0</td>\n",
       "      <td>0.0</td>\n",
       "      <td>0.0</td>\n",
       "      <td>0.0</td>\n",
       "      <td>0.0</td>\n",
       "      <td>3.0</td>\n",
       "      <td>3.0</td>\n",
       "      <td>2.0</td>\n",
       "      <td>0.0</td>\n",
       "      <td>0.0</td>\n",
       "      <td>0.0</td>\n",
       "      <td>0.0</td>\n",
       "      <td>1.0</td>\n",
       "      <td>0.0</td>\n",
       "      <td>0.0</td>\n",
       "      <td>1.0</td>\n",
       "      <td>0.0</td>\n",
       "      <td>7.0</td>\n",
       "      <td>0.0</td>\n",
       "      <td>0.0</td>\n",
       "      <td>2.0</td>\n",
       "      <td>0.0</td>\n",
       "      <td>0.0</td>\n",
       "      <td>7.0</td>\n",
       "      <td>6.0</td>\n",
       "      <td>21.0</td>\n",
       "      <td>7.0</td>\n",
       "      <td>14.0</td>\n",
       "      <td>0.0</td>\n",
       "      <td>0.0</td>\n",
       "      <td>0.0</td>\n",
       "      <td>0.0</td>\n",
       "      <td>0.0</td>\n",
       "      <td>1.0</td>\n",
       "      <td>0.0</td>\n",
       "      <td>0.0</td>\n",
       "      <td>0.0</td>\n",
       "      <td>0.0</td>\n",
       "      <td>0.0</td>\n",
       "      <td>0.0</td>\n",
       "      <td>0.0</td>\n",
       "      <td>0.0</td>\n",
       "      <td>0.0</td>\n",
       "      <td>0.0</td>\n",
       "      <td>0.0</td>\n",
       "      <td>0.0</td>\n",
       "    </tr>\n",
       "    <tr>\n",
       "      <th>20210430_683734</th>\n",
       "      <td>1</td>\n",
       "      <td>634288</td>\n",
       "      <td>145</td>\n",
       "      <td>7</td>\n",
       "      <td>800.0</td>\n",
       "      <td>1.0</td>\n",
       "      <td>0.0</td>\n",
       "      <td>1.0</td>\n",
       "      <td>0.0</td>\n",
       "      <td>0.0</td>\n",
       "      <td>0.0</td>\n",
       "      <td>0.0</td>\n",
       "      <td>2.0</td>\n",
       "      <td>0.0</td>\n",
       "      <td>0.0</td>\n",
       "      <td>0.0</td>\n",
       "      <td>0.0</td>\n",
       "      <td>3.0</td>\n",
       "      <td>0.0</td>\n",
       "      <td>0.0</td>\n",
       "      <td>0.0</td>\n",
       "      <td>0.0</td>\n",
       "      <td>3.0</td>\n",
       "      <td>0.0</td>\n",
       "      <td>0.0</td>\n",
       "      <td>2.0</td>\n",
       "      <td>0.0</td>\n",
       "      <td>0.0</td>\n",
       "      <td>0.0</td>\n",
       "      <td>0.0</td>\n",
       "      <td>0.0</td>\n",
       "      <td>0.0</td>\n",
       "      <td>0.0</td>\n",
       "      <td>0.0</td>\n",
       "      <td>0.0</td>\n",
       "      <td>0.0</td>\n",
       "      <td>0.0</td>\n",
       "      <td>0.0</td>\n",
       "      <td>0.0</td>\n",
       "      <td>0.0</td>\n",
       "      <td>0.0</td>\n",
       "      <td>0.0</td>\n",
       "      <td>0.0</td>\n",
       "      <td>0.0</td>\n",
       "      <td>0.0</td>\n",
       "      <td>0.0</td>\n",
       "      <td>0.0</td>\n",
       "      <td>0.0</td>\n",
       "      <td>0.0</td>\n",
       "      <td>0.0</td>\n",
       "      <td>0.0</td>\n",
       "      <td>0.0</td>\n",
       "      <td>0.0</td>\n",
       "      <td>0.0</td>\n",
       "      <td>0.0</td>\n",
       "      <td>0.0</td>\n",
       "      <td>0.0</td>\n",
       "      <td>0.0</td>\n",
       "      <td>0.0</td>\n",
       "      <td>0.0</td>\n",
       "      <td>0.0</td>\n",
       "      <td>0.0</td>\n",
       "      <td>0.0</td>\n",
       "      <td>0.0</td>\n",
       "      <td>0.0</td>\n",
       "      <td>0.0</td>\n",
       "      <td>0.0</td>\n",
       "      <td>0.0</td>\n",
       "      <td>0.0</td>\n",
       "      <td>0.0</td>\n",
       "      <td>0.0</td>\n",
       "      <td>0.0</td>\n",
       "      <td>0.0</td>\n",
       "      <td>0.0</td>\n",
       "      <td>2.0</td>\n",
       "      <td>0.0</td>\n",
       "      <td>2.0</td>\n",
       "    </tr>\n",
       "    <tr>\n",
       "      <th>20210430_685503</th>\n",
       "      <td>1</td>\n",
       "      <td>634337</td>\n",
       "      <td>140</td>\n",
       "      <td>1</td>\n",
       "      <td>0.0</td>\n",
       "      <td>0.0</td>\n",
       "      <td>0.0</td>\n",
       "      <td>0.0</td>\n",
       "      <td>0.0</td>\n",
       "      <td>0.0</td>\n",
       "      <td>0.0</td>\n",
       "      <td>0.0</td>\n",
       "      <td>0.0</td>\n",
       "      <td>0.0</td>\n",
       "      <td>0.0</td>\n",
       "      <td>0.0</td>\n",
       "      <td>0.0</td>\n",
       "      <td>0.0</td>\n",
       "      <td>0.0</td>\n",
       "      <td>0.0</td>\n",
       "      <td>0.0</td>\n",
       "      <td>0.0</td>\n",
       "      <td>0.0</td>\n",
       "      <td>0.0</td>\n",
       "      <td>0.0</td>\n",
       "      <td>0.0</td>\n",
       "      <td>0.0</td>\n",
       "      <td>0.0</td>\n",
       "      <td>0.0</td>\n",
       "      <td>0.0</td>\n",
       "      <td>1.0</td>\n",
       "      <td>1.0</td>\n",
       "      <td>0.0</td>\n",
       "      <td>0.0</td>\n",
       "      <td>0.0</td>\n",
       "      <td>1.0</td>\n",
       "      <td>3.0</td>\n",
       "      <td>5.0</td>\n",
       "      <td>3.0</td>\n",
       "      <td>6.0</td>\n",
       "      <td>0.0</td>\n",
       "      <td>0.0</td>\n",
       "      <td>4.0</td>\n",
       "      <td>1.0</td>\n",
       "      <td>2.0</td>\n",
       "      <td>0.0</td>\n",
       "      <td>4.0</td>\n",
       "      <td>1.0</td>\n",
       "      <td>13.0</td>\n",
       "      <td>0.0</td>\n",
       "      <td>0.0</td>\n",
       "      <td>2.2</td>\n",
       "      <td>0.0</td>\n",
       "      <td>6.0</td>\n",
       "      <td>16.0</td>\n",
       "      <td>8.0</td>\n",
       "      <td>55.0</td>\n",
       "      <td>24.0</td>\n",
       "      <td>31.0</td>\n",
       "      <td>1.0</td>\n",
       "      <td>0.0</td>\n",
       "      <td>0.0</td>\n",
       "      <td>0.0</td>\n",
       "      <td>6.0</td>\n",
       "      <td>0.0</td>\n",
       "      <td>0.0</td>\n",
       "      <td>0.0</td>\n",
       "      <td>0.0</td>\n",
       "      <td>0.0</td>\n",
       "      <td>0.0</td>\n",
       "      <td>0.0</td>\n",
       "      <td>0.0</td>\n",
       "      <td>0.0</td>\n",
       "      <td>0.0</td>\n",
       "      <td>0.0</td>\n",
       "      <td>0.0</td>\n",
       "      <td>0.0</td>\n",
       "    </tr>\n",
       "  </tbody>\n",
       "</table>\n",
       "<p>182950 rows × 77 columns</p>\n",
       "</div>"
      ]
     },
     "metadata": {},
     "execution_count": 5
    }
   ],
   "metadata": {}
  },
  {
   "cell_type": "code",
   "execution_count": 6,
   "source": [
    "%%time\n",
    "a = pd.concat([df, agg_df.reindex(df[\"key\"].values).reset_index(drop=True)], axis=1)\n",
    "a"
   ],
   "outputs": [
    {
     "output_type": "stream",
     "name": "stdout",
     "text": [
      "CPU times: user 1.69 s, sys: 449 ms, total: 2.14 s\n",
      "Wall time: 2.14 s\n"
     ]
    },
    {
     "output_type": "execute_result",
     "data": {
      "text/plain": [
       "             date engagementMetricsDate  playerId   target1    target2  \\\n",
       "0        20180101            2018-01-02    628317  0.011167   4.474708   \n",
       "1        20180101            2018-01-02    547989  0.042993   5.593385   \n",
       "2        20180101            2018-01-02    519317  0.974327  56.177044   \n",
       "3        20180101            2018-01-02    607625  0.006700   2.675097   \n",
       "4        20180101            2018-01-02    592547  0.001117   0.632296   \n",
       "...           ...                   ...       ...       ...        ...   \n",
       "2506171  20210430            2021-05-01    451661  0.000000   0.013314   \n",
       "2506172  20210430            2021-05-01    519301  0.000131   0.003329   \n",
       "2506173  20210430            2021-05-01    527055  0.000000   0.019971   \n",
       "2506174  20210430            2021-05-01    543484  0.000131   0.056586   \n",
       "2506175  20210430            2021-05-01    605525  0.000131   0.499284   \n",
       "\n",
       "           target3    target4              key  home  gamePk  teamId  \\\n",
       "0         0.005168   5.735294  20180101_628317   NaN     NaN     NaN   \n",
       "1         0.045033   2.794118  20180101_547989   NaN     NaN     NaN   \n",
       "2        13.693746  64.166664  20180101_519317   NaN     NaN     NaN   \n",
       "3         0.005168   1.862745  20180101_607625   NaN     NaN     NaN   \n",
       "4         0.002953   0.931373  20180101_592547   NaN     NaN     NaN   \n",
       "...            ...        ...              ...   ...     ...     ...   \n",
       "2506171   0.000000   0.625925  20210430_451661   NaN     NaN     NaN   \n",
       "2506172   0.000000   0.216229  20210430_519301   NaN     NaN     NaN   \n",
       "2506173   0.000000   0.273131  20210430_527055   NaN     NaN     NaN   \n",
       "2506174   0.000000   1.024240  20210430_543484   NaN     NaN     NaN   \n",
       "2506175   0.000000   0.386935  20210430_605525   NaN     NaN     NaN   \n",
       "\n",
       "         positionCode  battingOrder  gamesPlayedBatting  flyOuts  groundOuts  \\\n",
       "0                 NaN           NaN                 NaN      NaN         NaN   \n",
       "1                 NaN           NaN                 NaN      NaN         NaN   \n",
       "2                 NaN           NaN                 NaN      NaN         NaN   \n",
       "3                 NaN           NaN                 NaN      NaN         NaN   \n",
       "4                 NaN           NaN                 NaN      NaN         NaN   \n",
       "...               ...           ...                 ...      ...         ...   \n",
       "2506171           NaN           NaN                 NaN      NaN         NaN   \n",
       "2506172           NaN           NaN                 NaN      NaN         NaN   \n",
       "2506173           NaN           NaN                 NaN      NaN         NaN   \n",
       "2506174           NaN           NaN                 NaN      NaN         NaN   \n",
       "2506175           NaN           NaN                 NaN      NaN         NaN   \n",
       "\n",
       "         runsScored  doubles  triples  homeRuns  strikeOuts  baseOnBalls  \\\n",
       "0               NaN      NaN      NaN       NaN         NaN          NaN   \n",
       "1               NaN      NaN      NaN       NaN         NaN          NaN   \n",
       "2               NaN      NaN      NaN       NaN         NaN          NaN   \n",
       "3               NaN      NaN      NaN       NaN         NaN          NaN   \n",
       "4               NaN      NaN      NaN       NaN         NaN          NaN   \n",
       "...             ...      ...      ...       ...         ...          ...   \n",
       "2506171         NaN      NaN      NaN       NaN         NaN          NaN   \n",
       "2506172         NaN      NaN      NaN       NaN         NaN          NaN   \n",
       "2506173         NaN      NaN      NaN       NaN         NaN          NaN   \n",
       "2506174         NaN      NaN      NaN       NaN         NaN          NaN   \n",
       "2506175         NaN      NaN      NaN       NaN         NaN          NaN   \n",
       "\n",
       "         intentionalWalks  hits  hitByPitch  atBats  caughtStealing  \\\n",
       "0                     NaN   NaN         NaN     NaN             NaN   \n",
       "1                     NaN   NaN         NaN     NaN             NaN   \n",
       "2                     NaN   NaN         NaN     NaN             NaN   \n",
       "3                     NaN   NaN         NaN     NaN             NaN   \n",
       "4                     NaN   NaN         NaN     NaN             NaN   \n",
       "...                   ...   ...         ...     ...             ...   \n",
       "2506171               NaN   NaN         NaN     NaN             NaN   \n",
       "2506172               NaN   NaN         NaN     NaN             NaN   \n",
       "2506173               NaN   NaN         NaN     NaN             NaN   \n",
       "2506174               NaN   NaN         NaN     NaN             NaN   \n",
       "2506175               NaN   NaN         NaN     NaN             NaN   \n",
       "\n",
       "         stolenBases  groundIntoDoublePlay  groundIntoTriplePlay  \\\n",
       "0                NaN                   NaN                   NaN   \n",
       "1                NaN                   NaN                   NaN   \n",
       "2                NaN                   NaN                   NaN   \n",
       "3                NaN                   NaN                   NaN   \n",
       "4                NaN                   NaN                   NaN   \n",
       "...              ...                   ...                   ...   \n",
       "2506171          NaN                   NaN                   NaN   \n",
       "2506172          NaN                   NaN                   NaN   \n",
       "2506173          NaN                   NaN                   NaN   \n",
       "2506174          NaN                   NaN                   NaN   \n",
       "2506175          NaN                   NaN                   NaN   \n",
       "\n",
       "         plateAppearances  totalBases  rbi  leftOnBase  sacBunts  sacFlies  \\\n",
       "0                     NaN         NaN  NaN         NaN       NaN       NaN   \n",
       "1                     NaN         NaN  NaN         NaN       NaN       NaN   \n",
       "2                     NaN         NaN  NaN         NaN       NaN       NaN   \n",
       "3                     NaN         NaN  NaN         NaN       NaN       NaN   \n",
       "4                     NaN         NaN  NaN         NaN       NaN       NaN   \n",
       "...                   ...         ...  ...         ...       ...       ...   \n",
       "2506171               NaN         NaN  NaN         NaN       NaN       NaN   \n",
       "2506172               NaN         NaN  NaN         NaN       NaN       NaN   \n",
       "2506173               NaN         NaN  NaN         NaN       NaN       NaN   \n",
       "2506174               NaN         NaN  NaN         NaN       NaN       NaN   \n",
       "2506175               NaN         NaN  NaN         NaN       NaN       NaN   \n",
       "\n",
       "         catchersInterference  pickoffs  gamesPlayedPitching  \\\n",
       "0                         NaN       NaN                  NaN   \n",
       "1                         NaN       NaN                  NaN   \n",
       "2                         NaN       NaN                  NaN   \n",
       "3                         NaN       NaN                  NaN   \n",
       "4                         NaN       NaN                  NaN   \n",
       "...                       ...       ...                  ...   \n",
       "2506171                   NaN       NaN                  NaN   \n",
       "2506172                   NaN       NaN                  NaN   \n",
       "2506173                   NaN       NaN                  NaN   \n",
       "2506174                   NaN       NaN                  NaN   \n",
       "2506175                   NaN       NaN                  NaN   \n",
       "\n",
       "         gamesStartedPitching  completeGamesPitching  shutoutsPitching  \\\n",
       "0                         NaN                    NaN               NaN   \n",
       "1                         NaN                    NaN               NaN   \n",
       "2                         NaN                    NaN               NaN   \n",
       "3                         NaN                    NaN               NaN   \n",
       "4                         NaN                    NaN               NaN   \n",
       "...                       ...                    ...               ...   \n",
       "2506171                   NaN                    NaN               NaN   \n",
       "2506172                   NaN                    NaN               NaN   \n",
       "2506173                   NaN                    NaN               NaN   \n",
       "2506174                   NaN                    NaN               NaN   \n",
       "2506175                   NaN                    NaN               NaN   \n",
       "\n",
       "         winsPitching  lossesPitching  flyOutsPitching  airOutsPitching  \\\n",
       "0                 NaN             NaN              NaN              NaN   \n",
       "1                 NaN             NaN              NaN              NaN   \n",
       "2                 NaN             NaN              NaN              NaN   \n",
       "3                 NaN             NaN              NaN              NaN   \n",
       "4                 NaN             NaN              NaN              NaN   \n",
       "...               ...             ...              ...              ...   \n",
       "2506171           NaN             NaN              NaN              NaN   \n",
       "2506172           NaN             NaN              NaN              NaN   \n",
       "2506173           NaN             NaN              NaN              NaN   \n",
       "2506174           NaN             NaN              NaN              NaN   \n",
       "2506175           NaN             NaN              NaN              NaN   \n",
       "\n",
       "         groundOutsPitching  runsPitching  doublesPitching  triplesPitching  \\\n",
       "0                       NaN           NaN              NaN              NaN   \n",
       "1                       NaN           NaN              NaN              NaN   \n",
       "2                       NaN           NaN              NaN              NaN   \n",
       "3                       NaN           NaN              NaN              NaN   \n",
       "4                       NaN           NaN              NaN              NaN   \n",
       "...                     ...           ...              ...              ...   \n",
       "2506171                 NaN           NaN              NaN              NaN   \n",
       "2506172                 NaN           NaN              NaN              NaN   \n",
       "2506173                 NaN           NaN              NaN              NaN   \n",
       "2506174                 NaN           NaN              NaN              NaN   \n",
       "2506175                 NaN           NaN              NaN              NaN   \n",
       "\n",
       "         homeRunsPitching  strikeOutsPitching  baseOnBallsPitching  \\\n",
       "0                     NaN                 NaN                  NaN   \n",
       "1                     NaN                 NaN                  NaN   \n",
       "2                     NaN                 NaN                  NaN   \n",
       "3                     NaN                 NaN                  NaN   \n",
       "4                     NaN                 NaN                  NaN   \n",
       "...                   ...                 ...                  ...   \n",
       "2506171               NaN                 NaN                  NaN   \n",
       "2506172               NaN                 NaN                  NaN   \n",
       "2506173               NaN                 NaN                  NaN   \n",
       "2506174               NaN                 NaN                  NaN   \n",
       "2506175               NaN                 NaN                  NaN   \n",
       "\n",
       "         intentionalWalksPitching  hitsPitching  hitByPitchPitching  \\\n",
       "0                             NaN           NaN                 NaN   \n",
       "1                             NaN           NaN                 NaN   \n",
       "2                             NaN           NaN                 NaN   \n",
       "3                             NaN           NaN                 NaN   \n",
       "4                             NaN           NaN                 NaN   \n",
       "...                           ...           ...                 ...   \n",
       "2506171                       NaN           NaN                 NaN   \n",
       "2506172                       NaN           NaN                 NaN   \n",
       "2506173                       NaN           NaN                 NaN   \n",
       "2506174                       NaN           NaN                 NaN   \n",
       "2506175                       NaN           NaN                 NaN   \n",
       "\n",
       "         atBatsPitching  caughtStealingPitching  stolenBasesPitching  \\\n",
       "0                   NaN                     NaN                  NaN   \n",
       "1                   NaN                     NaN                  NaN   \n",
       "2                   NaN                     NaN                  NaN   \n",
       "3                   NaN                     NaN                  NaN   \n",
       "4                   NaN                     NaN                  NaN   \n",
       "...                 ...                     ...                  ...   \n",
       "2506171             NaN                     NaN                  NaN   \n",
       "2506172             NaN                     NaN                  NaN   \n",
       "2506173             NaN                     NaN                  NaN   \n",
       "2506174             NaN                     NaN                  NaN   \n",
       "2506175             NaN                     NaN                  NaN   \n",
       "\n",
       "         inningsPitched  saveOpportunities  earnedRuns  battersFaced  \\\n",
       "0                   NaN                NaN         NaN           NaN   \n",
       "1                   NaN                NaN         NaN           NaN   \n",
       "2                   NaN                NaN         NaN           NaN   \n",
       "3                   NaN                NaN         NaN           NaN   \n",
       "4                   NaN                NaN         NaN           NaN   \n",
       "...                 ...                ...         ...           ...   \n",
       "2506171             NaN                NaN         NaN           NaN   \n",
       "2506172             NaN                NaN         NaN           NaN   \n",
       "2506173             NaN                NaN         NaN           NaN   \n",
       "2506174             NaN                NaN         NaN           NaN   \n",
       "2506175             NaN                NaN         NaN           NaN   \n",
       "\n",
       "         outsPitching  pitchesThrown  balls  strikes  hitBatsmen  balks  \\\n",
       "0                 NaN            NaN    NaN      NaN         NaN    NaN   \n",
       "1                 NaN            NaN    NaN      NaN         NaN    NaN   \n",
       "2                 NaN            NaN    NaN      NaN         NaN    NaN   \n",
       "3                 NaN            NaN    NaN      NaN         NaN    NaN   \n",
       "4                 NaN            NaN    NaN      NaN         NaN    NaN   \n",
       "...               ...            ...    ...      ...         ...    ...   \n",
       "2506171           NaN            NaN    NaN      NaN         NaN    NaN   \n",
       "2506172           NaN            NaN    NaN      NaN         NaN    NaN   \n",
       "2506173           NaN            NaN    NaN      NaN         NaN    NaN   \n",
       "2506174           NaN            NaN    NaN      NaN         NaN    NaN   \n",
       "2506175           NaN            NaN    NaN      NaN         NaN    NaN   \n",
       "\n",
       "         wildPitches  pickoffsPitching  rbiPitching  gamesFinishedPitching  \\\n",
       "0                NaN               NaN          NaN                    NaN   \n",
       "1                NaN               NaN          NaN                    NaN   \n",
       "2                NaN               NaN          NaN                    NaN   \n",
       "3                NaN               NaN          NaN                    NaN   \n",
       "4                NaN               NaN          NaN                    NaN   \n",
       "...              ...               ...          ...                    ...   \n",
       "2506171          NaN               NaN          NaN                    NaN   \n",
       "2506172          NaN               NaN          NaN                    NaN   \n",
       "2506173          NaN               NaN          NaN                    NaN   \n",
       "2506174          NaN               NaN          NaN                    NaN   \n",
       "2506175          NaN               NaN          NaN                    NaN   \n",
       "\n",
       "         inheritedRunners  inheritedRunnersScored  \\\n",
       "0                     NaN                     NaN   \n",
       "1                     NaN                     NaN   \n",
       "2                     NaN                     NaN   \n",
       "3                     NaN                     NaN   \n",
       "4                     NaN                     NaN   \n",
       "...                   ...                     ...   \n",
       "2506171               NaN                     NaN   \n",
       "2506172               NaN                     NaN   \n",
       "2506173               NaN                     NaN   \n",
       "2506174               NaN                     NaN   \n",
       "2506175               NaN                     NaN   \n",
       "\n",
       "         catchersInterferencePitching  sacBuntsPitching  sacFliesPitching  \\\n",
       "0                                 NaN               NaN               NaN   \n",
       "1                                 NaN               NaN               NaN   \n",
       "2                                 NaN               NaN               NaN   \n",
       "3                                 NaN               NaN               NaN   \n",
       "4                                 NaN               NaN               NaN   \n",
       "...                               ...               ...               ...   \n",
       "2506171                           NaN               NaN               NaN   \n",
       "2506172                           NaN               NaN               NaN   \n",
       "2506173                           NaN               NaN               NaN   \n",
       "2506174                           NaN               NaN               NaN   \n",
       "2506175                           NaN               NaN               NaN   \n",
       "\n",
       "         saves  holds  blownSaves  assists  putOuts  errors  chances  \n",
       "0          NaN    NaN         NaN      NaN      NaN     NaN      NaN  \n",
       "1          NaN    NaN         NaN      NaN      NaN     NaN      NaN  \n",
       "2          NaN    NaN         NaN      NaN      NaN     NaN      NaN  \n",
       "3          NaN    NaN         NaN      NaN      NaN     NaN      NaN  \n",
       "4          NaN    NaN         NaN      NaN      NaN     NaN      NaN  \n",
       "...        ...    ...         ...      ...      ...     ...      ...  \n",
       "2506171    NaN    NaN         NaN      NaN      NaN     NaN      NaN  \n",
       "2506172    NaN    NaN         NaN      NaN      NaN     NaN      NaN  \n",
       "2506173    NaN    NaN         NaN      NaN      NaN     NaN      NaN  \n",
       "2506174    NaN    NaN         NaN      NaN      NaN     NaN      NaN  \n",
       "2506175    NaN    NaN         NaN      NaN      NaN     NaN      NaN  \n",
       "\n",
       "[2506176 rows x 85 columns]"
      ],
      "text/html": [
       "<div>\n",
       "<style scoped>\n",
       "    .dataframe tbody tr th:only-of-type {\n",
       "        vertical-align: middle;\n",
       "    }\n",
       "\n",
       "    .dataframe tbody tr th {\n",
       "        vertical-align: top;\n",
       "    }\n",
       "\n",
       "    .dataframe thead th {\n",
       "        text-align: right;\n",
       "    }\n",
       "</style>\n",
       "<table border=\"1\" class=\"dataframe\">\n",
       "  <thead>\n",
       "    <tr style=\"text-align: right;\">\n",
       "      <th></th>\n",
       "      <th>date</th>\n",
       "      <th>engagementMetricsDate</th>\n",
       "      <th>playerId</th>\n",
       "      <th>target1</th>\n",
       "      <th>target2</th>\n",
       "      <th>target3</th>\n",
       "      <th>target4</th>\n",
       "      <th>key</th>\n",
       "      <th>home</th>\n",
       "      <th>gamePk</th>\n",
       "      <th>teamId</th>\n",
       "      <th>positionCode</th>\n",
       "      <th>battingOrder</th>\n",
       "      <th>gamesPlayedBatting</th>\n",
       "      <th>flyOuts</th>\n",
       "      <th>groundOuts</th>\n",
       "      <th>runsScored</th>\n",
       "      <th>doubles</th>\n",
       "      <th>triples</th>\n",
       "      <th>homeRuns</th>\n",
       "      <th>strikeOuts</th>\n",
       "      <th>baseOnBalls</th>\n",
       "      <th>intentionalWalks</th>\n",
       "      <th>hits</th>\n",
       "      <th>hitByPitch</th>\n",
       "      <th>atBats</th>\n",
       "      <th>caughtStealing</th>\n",
       "      <th>stolenBases</th>\n",
       "      <th>groundIntoDoublePlay</th>\n",
       "      <th>groundIntoTriplePlay</th>\n",
       "      <th>plateAppearances</th>\n",
       "      <th>totalBases</th>\n",
       "      <th>rbi</th>\n",
       "      <th>leftOnBase</th>\n",
       "      <th>sacBunts</th>\n",
       "      <th>sacFlies</th>\n",
       "      <th>catchersInterference</th>\n",
       "      <th>pickoffs</th>\n",
       "      <th>gamesPlayedPitching</th>\n",
       "      <th>gamesStartedPitching</th>\n",
       "      <th>completeGamesPitching</th>\n",
       "      <th>shutoutsPitching</th>\n",
       "      <th>winsPitching</th>\n",
       "      <th>lossesPitching</th>\n",
       "      <th>flyOutsPitching</th>\n",
       "      <th>airOutsPitching</th>\n",
       "      <th>groundOutsPitching</th>\n",
       "      <th>runsPitching</th>\n",
       "      <th>doublesPitching</th>\n",
       "      <th>triplesPitching</th>\n",
       "      <th>homeRunsPitching</th>\n",
       "      <th>strikeOutsPitching</th>\n",
       "      <th>baseOnBallsPitching</th>\n",
       "      <th>intentionalWalksPitching</th>\n",
       "      <th>hitsPitching</th>\n",
       "      <th>hitByPitchPitching</th>\n",
       "      <th>atBatsPitching</th>\n",
       "      <th>caughtStealingPitching</th>\n",
       "      <th>stolenBasesPitching</th>\n",
       "      <th>inningsPitched</th>\n",
       "      <th>saveOpportunities</th>\n",
       "      <th>earnedRuns</th>\n",
       "      <th>battersFaced</th>\n",
       "      <th>outsPitching</th>\n",
       "      <th>pitchesThrown</th>\n",
       "      <th>balls</th>\n",
       "      <th>strikes</th>\n",
       "      <th>hitBatsmen</th>\n",
       "      <th>balks</th>\n",
       "      <th>wildPitches</th>\n",
       "      <th>pickoffsPitching</th>\n",
       "      <th>rbiPitching</th>\n",
       "      <th>gamesFinishedPitching</th>\n",
       "      <th>inheritedRunners</th>\n",
       "      <th>inheritedRunnersScored</th>\n",
       "      <th>catchersInterferencePitching</th>\n",
       "      <th>sacBuntsPitching</th>\n",
       "      <th>sacFliesPitching</th>\n",
       "      <th>saves</th>\n",
       "      <th>holds</th>\n",
       "      <th>blownSaves</th>\n",
       "      <th>assists</th>\n",
       "      <th>putOuts</th>\n",
       "      <th>errors</th>\n",
       "      <th>chances</th>\n",
       "    </tr>\n",
       "  </thead>\n",
       "  <tbody>\n",
       "    <tr>\n",
       "      <th>0</th>\n",
       "      <td>20180101</td>\n",
       "      <td>2018-01-02</td>\n",
       "      <td>628317</td>\n",
       "      <td>0.011167</td>\n",
       "      <td>4.474708</td>\n",
       "      <td>0.005168</td>\n",
       "      <td>5.735294</td>\n",
       "      <td>20180101_628317</td>\n",
       "      <td>NaN</td>\n",
       "      <td>NaN</td>\n",
       "      <td>NaN</td>\n",
       "      <td>NaN</td>\n",
       "      <td>NaN</td>\n",
       "      <td>NaN</td>\n",
       "      <td>NaN</td>\n",
       "      <td>NaN</td>\n",
       "      <td>NaN</td>\n",
       "      <td>NaN</td>\n",
       "      <td>NaN</td>\n",
       "      <td>NaN</td>\n",
       "      <td>NaN</td>\n",
       "      <td>NaN</td>\n",
       "      <td>NaN</td>\n",
       "      <td>NaN</td>\n",
       "      <td>NaN</td>\n",
       "      <td>NaN</td>\n",
       "      <td>NaN</td>\n",
       "      <td>NaN</td>\n",
       "      <td>NaN</td>\n",
       "      <td>NaN</td>\n",
       "      <td>NaN</td>\n",
       "      <td>NaN</td>\n",
       "      <td>NaN</td>\n",
       "      <td>NaN</td>\n",
       "      <td>NaN</td>\n",
       "      <td>NaN</td>\n",
       "      <td>NaN</td>\n",
       "      <td>NaN</td>\n",
       "      <td>NaN</td>\n",
       "      <td>NaN</td>\n",
       "      <td>NaN</td>\n",
       "      <td>NaN</td>\n",
       "      <td>NaN</td>\n",
       "      <td>NaN</td>\n",
       "      <td>NaN</td>\n",
       "      <td>NaN</td>\n",
       "      <td>NaN</td>\n",
       "      <td>NaN</td>\n",
       "      <td>NaN</td>\n",
       "      <td>NaN</td>\n",
       "      <td>NaN</td>\n",
       "      <td>NaN</td>\n",
       "      <td>NaN</td>\n",
       "      <td>NaN</td>\n",
       "      <td>NaN</td>\n",
       "      <td>NaN</td>\n",
       "      <td>NaN</td>\n",
       "      <td>NaN</td>\n",
       "      <td>NaN</td>\n",
       "      <td>NaN</td>\n",
       "      <td>NaN</td>\n",
       "      <td>NaN</td>\n",
       "      <td>NaN</td>\n",
       "      <td>NaN</td>\n",
       "      <td>NaN</td>\n",
       "      <td>NaN</td>\n",
       "      <td>NaN</td>\n",
       "      <td>NaN</td>\n",
       "      <td>NaN</td>\n",
       "      <td>NaN</td>\n",
       "      <td>NaN</td>\n",
       "      <td>NaN</td>\n",
       "      <td>NaN</td>\n",
       "      <td>NaN</td>\n",
       "      <td>NaN</td>\n",
       "      <td>NaN</td>\n",
       "      <td>NaN</td>\n",
       "      <td>NaN</td>\n",
       "      <td>NaN</td>\n",
       "      <td>NaN</td>\n",
       "      <td>NaN</td>\n",
       "      <td>NaN</td>\n",
       "      <td>NaN</td>\n",
       "      <td>NaN</td>\n",
       "      <td>NaN</td>\n",
       "    </tr>\n",
       "    <tr>\n",
       "      <th>1</th>\n",
       "      <td>20180101</td>\n",
       "      <td>2018-01-02</td>\n",
       "      <td>547989</td>\n",
       "      <td>0.042993</td>\n",
       "      <td>5.593385</td>\n",
       "      <td>0.045033</td>\n",
       "      <td>2.794118</td>\n",
       "      <td>20180101_547989</td>\n",
       "      <td>NaN</td>\n",
       "      <td>NaN</td>\n",
       "      <td>NaN</td>\n",
       "      <td>NaN</td>\n",
       "      <td>NaN</td>\n",
       "      <td>NaN</td>\n",
       "      <td>NaN</td>\n",
       "      <td>NaN</td>\n",
       "      <td>NaN</td>\n",
       "      <td>NaN</td>\n",
       "      <td>NaN</td>\n",
       "      <td>NaN</td>\n",
       "      <td>NaN</td>\n",
       "      <td>NaN</td>\n",
       "      <td>NaN</td>\n",
       "      <td>NaN</td>\n",
       "      <td>NaN</td>\n",
       "      <td>NaN</td>\n",
       "      <td>NaN</td>\n",
       "      <td>NaN</td>\n",
       "      <td>NaN</td>\n",
       "      <td>NaN</td>\n",
       "      <td>NaN</td>\n",
       "      <td>NaN</td>\n",
       "      <td>NaN</td>\n",
       "      <td>NaN</td>\n",
       "      <td>NaN</td>\n",
       "      <td>NaN</td>\n",
       "      <td>NaN</td>\n",
       "      <td>NaN</td>\n",
       "      <td>NaN</td>\n",
       "      <td>NaN</td>\n",
       "      <td>NaN</td>\n",
       "      <td>NaN</td>\n",
       "      <td>NaN</td>\n",
       "      <td>NaN</td>\n",
       "      <td>NaN</td>\n",
       "      <td>NaN</td>\n",
       "      <td>NaN</td>\n",
       "      <td>NaN</td>\n",
       "      <td>NaN</td>\n",
       "      <td>NaN</td>\n",
       "      <td>NaN</td>\n",
       "      <td>NaN</td>\n",
       "      <td>NaN</td>\n",
       "      <td>NaN</td>\n",
       "      <td>NaN</td>\n",
       "      <td>NaN</td>\n",
       "      <td>NaN</td>\n",
       "      <td>NaN</td>\n",
       "      <td>NaN</td>\n",
       "      <td>NaN</td>\n",
       "      <td>NaN</td>\n",
       "      <td>NaN</td>\n",
       "      <td>NaN</td>\n",
       "      <td>NaN</td>\n",
       "      <td>NaN</td>\n",
       "      <td>NaN</td>\n",
       "      <td>NaN</td>\n",
       "      <td>NaN</td>\n",
       "      <td>NaN</td>\n",
       "      <td>NaN</td>\n",
       "      <td>NaN</td>\n",
       "      <td>NaN</td>\n",
       "      <td>NaN</td>\n",
       "      <td>NaN</td>\n",
       "      <td>NaN</td>\n",
       "      <td>NaN</td>\n",
       "      <td>NaN</td>\n",
       "      <td>NaN</td>\n",
       "      <td>NaN</td>\n",
       "      <td>NaN</td>\n",
       "      <td>NaN</td>\n",
       "      <td>NaN</td>\n",
       "      <td>NaN</td>\n",
       "      <td>NaN</td>\n",
       "      <td>NaN</td>\n",
       "    </tr>\n",
       "    <tr>\n",
       "      <th>2</th>\n",
       "      <td>20180101</td>\n",
       "      <td>2018-01-02</td>\n",
       "      <td>519317</td>\n",
       "      <td>0.974327</td>\n",
       "      <td>56.177044</td>\n",
       "      <td>13.693746</td>\n",
       "      <td>64.166664</td>\n",
       "      <td>20180101_519317</td>\n",
       "      <td>NaN</td>\n",
       "      <td>NaN</td>\n",
       "      <td>NaN</td>\n",
       "      <td>NaN</td>\n",
       "      <td>NaN</td>\n",
       "      <td>NaN</td>\n",
       "      <td>NaN</td>\n",
       "      <td>NaN</td>\n",
       "      <td>NaN</td>\n",
       "      <td>NaN</td>\n",
       "      <td>NaN</td>\n",
       "      <td>NaN</td>\n",
       "      <td>NaN</td>\n",
       "      <td>NaN</td>\n",
       "      <td>NaN</td>\n",
       "      <td>NaN</td>\n",
       "      <td>NaN</td>\n",
       "      <td>NaN</td>\n",
       "      <td>NaN</td>\n",
       "      <td>NaN</td>\n",
       "      <td>NaN</td>\n",
       "      <td>NaN</td>\n",
       "      <td>NaN</td>\n",
       "      <td>NaN</td>\n",
       "      <td>NaN</td>\n",
       "      <td>NaN</td>\n",
       "      <td>NaN</td>\n",
       "      <td>NaN</td>\n",
       "      <td>NaN</td>\n",
       "      <td>NaN</td>\n",
       "      <td>NaN</td>\n",
       "      <td>NaN</td>\n",
       "      <td>NaN</td>\n",
       "      <td>NaN</td>\n",
       "      <td>NaN</td>\n",
       "      <td>NaN</td>\n",
       "      <td>NaN</td>\n",
       "      <td>NaN</td>\n",
       "      <td>NaN</td>\n",
       "      <td>NaN</td>\n",
       "      <td>NaN</td>\n",
       "      <td>NaN</td>\n",
       "      <td>NaN</td>\n",
       "      <td>NaN</td>\n",
       "      <td>NaN</td>\n",
       "      <td>NaN</td>\n",
       "      <td>NaN</td>\n",
       "      <td>NaN</td>\n",
       "      <td>NaN</td>\n",
       "      <td>NaN</td>\n",
       "      <td>NaN</td>\n",
       "      <td>NaN</td>\n",
       "      <td>NaN</td>\n",
       "      <td>NaN</td>\n",
       "      <td>NaN</td>\n",
       "      <td>NaN</td>\n",
       "      <td>NaN</td>\n",
       "      <td>NaN</td>\n",
       "      <td>NaN</td>\n",
       "      <td>NaN</td>\n",
       "      <td>NaN</td>\n",
       "      <td>NaN</td>\n",
       "      <td>NaN</td>\n",
       "      <td>NaN</td>\n",
       "      <td>NaN</td>\n",
       "      <td>NaN</td>\n",
       "      <td>NaN</td>\n",
       "      <td>NaN</td>\n",
       "      <td>NaN</td>\n",
       "      <td>NaN</td>\n",
       "      <td>NaN</td>\n",
       "      <td>NaN</td>\n",
       "      <td>NaN</td>\n",
       "      <td>NaN</td>\n",
       "      <td>NaN</td>\n",
       "      <td>NaN</td>\n",
       "      <td>NaN</td>\n",
       "    </tr>\n",
       "    <tr>\n",
       "      <th>3</th>\n",
       "      <td>20180101</td>\n",
       "      <td>2018-01-02</td>\n",
       "      <td>607625</td>\n",
       "      <td>0.006700</td>\n",
       "      <td>2.675097</td>\n",
       "      <td>0.005168</td>\n",
       "      <td>1.862745</td>\n",
       "      <td>20180101_607625</td>\n",
       "      <td>NaN</td>\n",
       "      <td>NaN</td>\n",
       "      <td>NaN</td>\n",
       "      <td>NaN</td>\n",
       "      <td>NaN</td>\n",
       "      <td>NaN</td>\n",
       "      <td>NaN</td>\n",
       "      <td>NaN</td>\n",
       "      <td>NaN</td>\n",
       "      <td>NaN</td>\n",
       "      <td>NaN</td>\n",
       "      <td>NaN</td>\n",
       "      <td>NaN</td>\n",
       "      <td>NaN</td>\n",
       "      <td>NaN</td>\n",
       "      <td>NaN</td>\n",
       "      <td>NaN</td>\n",
       "      <td>NaN</td>\n",
       "      <td>NaN</td>\n",
       "      <td>NaN</td>\n",
       "      <td>NaN</td>\n",
       "      <td>NaN</td>\n",
       "      <td>NaN</td>\n",
       "      <td>NaN</td>\n",
       "      <td>NaN</td>\n",
       "      <td>NaN</td>\n",
       "      <td>NaN</td>\n",
       "      <td>NaN</td>\n",
       "      <td>NaN</td>\n",
       "      <td>NaN</td>\n",
       "      <td>NaN</td>\n",
       "      <td>NaN</td>\n",
       "      <td>NaN</td>\n",
       "      <td>NaN</td>\n",
       "      <td>NaN</td>\n",
       "      <td>NaN</td>\n",
       "      <td>NaN</td>\n",
       "      <td>NaN</td>\n",
       "      <td>NaN</td>\n",
       "      <td>NaN</td>\n",
       "      <td>NaN</td>\n",
       "      <td>NaN</td>\n",
       "      <td>NaN</td>\n",
       "      <td>NaN</td>\n",
       "      <td>NaN</td>\n",
       "      <td>NaN</td>\n",
       "      <td>NaN</td>\n",
       "      <td>NaN</td>\n",
       "      <td>NaN</td>\n",
       "      <td>NaN</td>\n",
       "      <td>NaN</td>\n",
       "      <td>NaN</td>\n",
       "      <td>NaN</td>\n",
       "      <td>NaN</td>\n",
       "      <td>NaN</td>\n",
       "      <td>NaN</td>\n",
       "      <td>NaN</td>\n",
       "      <td>NaN</td>\n",
       "      <td>NaN</td>\n",
       "      <td>NaN</td>\n",
       "      <td>NaN</td>\n",
       "      <td>NaN</td>\n",
       "      <td>NaN</td>\n",
       "      <td>NaN</td>\n",
       "      <td>NaN</td>\n",
       "      <td>NaN</td>\n",
       "      <td>NaN</td>\n",
       "      <td>NaN</td>\n",
       "      <td>NaN</td>\n",
       "      <td>NaN</td>\n",
       "      <td>NaN</td>\n",
       "      <td>NaN</td>\n",
       "      <td>NaN</td>\n",
       "      <td>NaN</td>\n",
       "      <td>NaN</td>\n",
       "      <td>NaN</td>\n",
       "      <td>NaN</td>\n",
       "    </tr>\n",
       "    <tr>\n",
       "      <th>4</th>\n",
       "      <td>20180101</td>\n",
       "      <td>2018-01-02</td>\n",
       "      <td>592547</td>\n",
       "      <td>0.001117</td>\n",
       "      <td>0.632296</td>\n",
       "      <td>0.002953</td>\n",
       "      <td>0.931373</td>\n",
       "      <td>20180101_592547</td>\n",
       "      <td>NaN</td>\n",
       "      <td>NaN</td>\n",
       "      <td>NaN</td>\n",
       "      <td>NaN</td>\n",
       "      <td>NaN</td>\n",
       "      <td>NaN</td>\n",
       "      <td>NaN</td>\n",
       "      <td>NaN</td>\n",
       "      <td>NaN</td>\n",
       "      <td>NaN</td>\n",
       "      <td>NaN</td>\n",
       "      <td>NaN</td>\n",
       "      <td>NaN</td>\n",
       "      <td>NaN</td>\n",
       "      <td>NaN</td>\n",
       "      <td>NaN</td>\n",
       "      <td>NaN</td>\n",
       "      <td>NaN</td>\n",
       "      <td>NaN</td>\n",
       "      <td>NaN</td>\n",
       "      <td>NaN</td>\n",
       "      <td>NaN</td>\n",
       "      <td>NaN</td>\n",
       "      <td>NaN</td>\n",
       "      <td>NaN</td>\n",
       "      <td>NaN</td>\n",
       "      <td>NaN</td>\n",
       "      <td>NaN</td>\n",
       "      <td>NaN</td>\n",
       "      <td>NaN</td>\n",
       "      <td>NaN</td>\n",
       "      <td>NaN</td>\n",
       "      <td>NaN</td>\n",
       "      <td>NaN</td>\n",
       "      <td>NaN</td>\n",
       "      <td>NaN</td>\n",
       "      <td>NaN</td>\n",
       "      <td>NaN</td>\n",
       "      <td>NaN</td>\n",
       "      <td>NaN</td>\n",
       "      <td>NaN</td>\n",
       "      <td>NaN</td>\n",
       "      <td>NaN</td>\n",
       "      <td>NaN</td>\n",
       "      <td>NaN</td>\n",
       "      <td>NaN</td>\n",
       "      <td>NaN</td>\n",
       "      <td>NaN</td>\n",
       "      <td>NaN</td>\n",
       "      <td>NaN</td>\n",
       "      <td>NaN</td>\n",
       "      <td>NaN</td>\n",
       "      <td>NaN</td>\n",
       "      <td>NaN</td>\n",
       "      <td>NaN</td>\n",
       "      <td>NaN</td>\n",
       "      <td>NaN</td>\n",
       "      <td>NaN</td>\n",
       "      <td>NaN</td>\n",
       "      <td>NaN</td>\n",
       "      <td>NaN</td>\n",
       "      <td>NaN</td>\n",
       "      <td>NaN</td>\n",
       "      <td>NaN</td>\n",
       "      <td>NaN</td>\n",
       "      <td>NaN</td>\n",
       "      <td>NaN</td>\n",
       "      <td>NaN</td>\n",
       "      <td>NaN</td>\n",
       "      <td>NaN</td>\n",
       "      <td>NaN</td>\n",
       "      <td>NaN</td>\n",
       "      <td>NaN</td>\n",
       "      <td>NaN</td>\n",
       "      <td>NaN</td>\n",
       "      <td>NaN</td>\n",
       "      <td>NaN</td>\n",
       "    </tr>\n",
       "    <tr>\n",
       "      <th>...</th>\n",
       "      <td>...</td>\n",
       "      <td>...</td>\n",
       "      <td>...</td>\n",
       "      <td>...</td>\n",
       "      <td>...</td>\n",
       "      <td>...</td>\n",
       "      <td>...</td>\n",
       "      <td>...</td>\n",
       "      <td>...</td>\n",
       "      <td>...</td>\n",
       "      <td>...</td>\n",
       "      <td>...</td>\n",
       "      <td>...</td>\n",
       "      <td>...</td>\n",
       "      <td>...</td>\n",
       "      <td>...</td>\n",
       "      <td>...</td>\n",
       "      <td>...</td>\n",
       "      <td>...</td>\n",
       "      <td>...</td>\n",
       "      <td>...</td>\n",
       "      <td>...</td>\n",
       "      <td>...</td>\n",
       "      <td>...</td>\n",
       "      <td>...</td>\n",
       "      <td>...</td>\n",
       "      <td>...</td>\n",
       "      <td>...</td>\n",
       "      <td>...</td>\n",
       "      <td>...</td>\n",
       "      <td>...</td>\n",
       "      <td>...</td>\n",
       "      <td>...</td>\n",
       "      <td>...</td>\n",
       "      <td>...</td>\n",
       "      <td>...</td>\n",
       "      <td>...</td>\n",
       "      <td>...</td>\n",
       "      <td>...</td>\n",
       "      <td>...</td>\n",
       "      <td>...</td>\n",
       "      <td>...</td>\n",
       "      <td>...</td>\n",
       "      <td>...</td>\n",
       "      <td>...</td>\n",
       "      <td>...</td>\n",
       "      <td>...</td>\n",
       "      <td>...</td>\n",
       "      <td>...</td>\n",
       "      <td>...</td>\n",
       "      <td>...</td>\n",
       "      <td>...</td>\n",
       "      <td>...</td>\n",
       "      <td>...</td>\n",
       "      <td>...</td>\n",
       "      <td>...</td>\n",
       "      <td>...</td>\n",
       "      <td>...</td>\n",
       "      <td>...</td>\n",
       "      <td>...</td>\n",
       "      <td>...</td>\n",
       "      <td>...</td>\n",
       "      <td>...</td>\n",
       "      <td>...</td>\n",
       "      <td>...</td>\n",
       "      <td>...</td>\n",
       "      <td>...</td>\n",
       "      <td>...</td>\n",
       "      <td>...</td>\n",
       "      <td>...</td>\n",
       "      <td>...</td>\n",
       "      <td>...</td>\n",
       "      <td>...</td>\n",
       "      <td>...</td>\n",
       "      <td>...</td>\n",
       "      <td>...</td>\n",
       "      <td>...</td>\n",
       "      <td>...</td>\n",
       "      <td>...</td>\n",
       "      <td>...</td>\n",
       "      <td>...</td>\n",
       "      <td>...</td>\n",
       "      <td>...</td>\n",
       "      <td>...</td>\n",
       "      <td>...</td>\n",
       "    </tr>\n",
       "    <tr>\n",
       "      <th>2506171</th>\n",
       "      <td>20210430</td>\n",
       "      <td>2021-05-01</td>\n",
       "      <td>451661</td>\n",
       "      <td>0.000000</td>\n",
       "      <td>0.013314</td>\n",
       "      <td>0.000000</td>\n",
       "      <td>0.625925</td>\n",
       "      <td>20210430_451661</td>\n",
       "      <td>NaN</td>\n",
       "      <td>NaN</td>\n",
       "      <td>NaN</td>\n",
       "      <td>NaN</td>\n",
       "      <td>NaN</td>\n",
       "      <td>NaN</td>\n",
       "      <td>NaN</td>\n",
       "      <td>NaN</td>\n",
       "      <td>NaN</td>\n",
       "      <td>NaN</td>\n",
       "      <td>NaN</td>\n",
       "      <td>NaN</td>\n",
       "      <td>NaN</td>\n",
       "      <td>NaN</td>\n",
       "      <td>NaN</td>\n",
       "      <td>NaN</td>\n",
       "      <td>NaN</td>\n",
       "      <td>NaN</td>\n",
       "      <td>NaN</td>\n",
       "      <td>NaN</td>\n",
       "      <td>NaN</td>\n",
       "      <td>NaN</td>\n",
       "      <td>NaN</td>\n",
       "      <td>NaN</td>\n",
       "      <td>NaN</td>\n",
       "      <td>NaN</td>\n",
       "      <td>NaN</td>\n",
       "      <td>NaN</td>\n",
       "      <td>NaN</td>\n",
       "      <td>NaN</td>\n",
       "      <td>NaN</td>\n",
       "      <td>NaN</td>\n",
       "      <td>NaN</td>\n",
       "      <td>NaN</td>\n",
       "      <td>NaN</td>\n",
       "      <td>NaN</td>\n",
       "      <td>NaN</td>\n",
       "      <td>NaN</td>\n",
       "      <td>NaN</td>\n",
       "      <td>NaN</td>\n",
       "      <td>NaN</td>\n",
       "      <td>NaN</td>\n",
       "      <td>NaN</td>\n",
       "      <td>NaN</td>\n",
       "      <td>NaN</td>\n",
       "      <td>NaN</td>\n",
       "      <td>NaN</td>\n",
       "      <td>NaN</td>\n",
       "      <td>NaN</td>\n",
       "      <td>NaN</td>\n",
       "      <td>NaN</td>\n",
       "      <td>NaN</td>\n",
       "      <td>NaN</td>\n",
       "      <td>NaN</td>\n",
       "      <td>NaN</td>\n",
       "      <td>NaN</td>\n",
       "      <td>NaN</td>\n",
       "      <td>NaN</td>\n",
       "      <td>NaN</td>\n",
       "      <td>NaN</td>\n",
       "      <td>NaN</td>\n",
       "      <td>NaN</td>\n",
       "      <td>NaN</td>\n",
       "      <td>NaN</td>\n",
       "      <td>NaN</td>\n",
       "      <td>NaN</td>\n",
       "      <td>NaN</td>\n",
       "      <td>NaN</td>\n",
       "      <td>NaN</td>\n",
       "      <td>NaN</td>\n",
       "      <td>NaN</td>\n",
       "      <td>NaN</td>\n",
       "      <td>NaN</td>\n",
       "      <td>NaN</td>\n",
       "      <td>NaN</td>\n",
       "      <td>NaN</td>\n",
       "      <td>NaN</td>\n",
       "    </tr>\n",
       "    <tr>\n",
       "      <th>2506172</th>\n",
       "      <td>20210430</td>\n",
       "      <td>2021-05-01</td>\n",
       "      <td>519301</td>\n",
       "      <td>0.000131</td>\n",
       "      <td>0.003329</td>\n",
       "      <td>0.000000</td>\n",
       "      <td>0.216229</td>\n",
       "      <td>20210430_519301</td>\n",
       "      <td>NaN</td>\n",
       "      <td>NaN</td>\n",
       "      <td>NaN</td>\n",
       "      <td>NaN</td>\n",
       "      <td>NaN</td>\n",
       "      <td>NaN</td>\n",
       "      <td>NaN</td>\n",
       "      <td>NaN</td>\n",
       "      <td>NaN</td>\n",
       "      <td>NaN</td>\n",
       "      <td>NaN</td>\n",
       "      <td>NaN</td>\n",
       "      <td>NaN</td>\n",
       "      <td>NaN</td>\n",
       "      <td>NaN</td>\n",
       "      <td>NaN</td>\n",
       "      <td>NaN</td>\n",
       "      <td>NaN</td>\n",
       "      <td>NaN</td>\n",
       "      <td>NaN</td>\n",
       "      <td>NaN</td>\n",
       "      <td>NaN</td>\n",
       "      <td>NaN</td>\n",
       "      <td>NaN</td>\n",
       "      <td>NaN</td>\n",
       "      <td>NaN</td>\n",
       "      <td>NaN</td>\n",
       "      <td>NaN</td>\n",
       "      <td>NaN</td>\n",
       "      <td>NaN</td>\n",
       "      <td>NaN</td>\n",
       "      <td>NaN</td>\n",
       "      <td>NaN</td>\n",
       "      <td>NaN</td>\n",
       "      <td>NaN</td>\n",
       "      <td>NaN</td>\n",
       "      <td>NaN</td>\n",
       "      <td>NaN</td>\n",
       "      <td>NaN</td>\n",
       "      <td>NaN</td>\n",
       "      <td>NaN</td>\n",
       "      <td>NaN</td>\n",
       "      <td>NaN</td>\n",
       "      <td>NaN</td>\n",
       "      <td>NaN</td>\n",
       "      <td>NaN</td>\n",
       "      <td>NaN</td>\n",
       "      <td>NaN</td>\n",
       "      <td>NaN</td>\n",
       "      <td>NaN</td>\n",
       "      <td>NaN</td>\n",
       "      <td>NaN</td>\n",
       "      <td>NaN</td>\n",
       "      <td>NaN</td>\n",
       "      <td>NaN</td>\n",
       "      <td>NaN</td>\n",
       "      <td>NaN</td>\n",
       "      <td>NaN</td>\n",
       "      <td>NaN</td>\n",
       "      <td>NaN</td>\n",
       "      <td>NaN</td>\n",
       "      <td>NaN</td>\n",
       "      <td>NaN</td>\n",
       "      <td>NaN</td>\n",
       "      <td>NaN</td>\n",
       "      <td>NaN</td>\n",
       "      <td>NaN</td>\n",
       "      <td>NaN</td>\n",
       "      <td>NaN</td>\n",
       "      <td>NaN</td>\n",
       "      <td>NaN</td>\n",
       "      <td>NaN</td>\n",
       "      <td>NaN</td>\n",
       "      <td>NaN</td>\n",
       "      <td>NaN</td>\n",
       "      <td>NaN</td>\n",
       "      <td>NaN</td>\n",
       "    </tr>\n",
       "    <tr>\n",
       "      <th>2506173</th>\n",
       "      <td>20210430</td>\n",
       "      <td>2021-05-01</td>\n",
       "      <td>527055</td>\n",
       "      <td>0.000000</td>\n",
       "      <td>0.019971</td>\n",
       "      <td>0.000000</td>\n",
       "      <td>0.273131</td>\n",
       "      <td>20210430_527055</td>\n",
       "      <td>NaN</td>\n",
       "      <td>NaN</td>\n",
       "      <td>NaN</td>\n",
       "      <td>NaN</td>\n",
       "      <td>NaN</td>\n",
       "      <td>NaN</td>\n",
       "      <td>NaN</td>\n",
       "      <td>NaN</td>\n",
       "      <td>NaN</td>\n",
       "      <td>NaN</td>\n",
       "      <td>NaN</td>\n",
       "      <td>NaN</td>\n",
       "      <td>NaN</td>\n",
       "      <td>NaN</td>\n",
       "      <td>NaN</td>\n",
       "      <td>NaN</td>\n",
       "      <td>NaN</td>\n",
       "      <td>NaN</td>\n",
       "      <td>NaN</td>\n",
       "      <td>NaN</td>\n",
       "      <td>NaN</td>\n",
       "      <td>NaN</td>\n",
       "      <td>NaN</td>\n",
       "      <td>NaN</td>\n",
       "      <td>NaN</td>\n",
       "      <td>NaN</td>\n",
       "      <td>NaN</td>\n",
       "      <td>NaN</td>\n",
       "      <td>NaN</td>\n",
       "      <td>NaN</td>\n",
       "      <td>NaN</td>\n",
       "      <td>NaN</td>\n",
       "      <td>NaN</td>\n",
       "      <td>NaN</td>\n",
       "      <td>NaN</td>\n",
       "      <td>NaN</td>\n",
       "      <td>NaN</td>\n",
       "      <td>NaN</td>\n",
       "      <td>NaN</td>\n",
       "      <td>NaN</td>\n",
       "      <td>NaN</td>\n",
       "      <td>NaN</td>\n",
       "      <td>NaN</td>\n",
       "      <td>NaN</td>\n",
       "      <td>NaN</td>\n",
       "      <td>NaN</td>\n",
       "      <td>NaN</td>\n",
       "      <td>NaN</td>\n",
       "      <td>NaN</td>\n",
       "      <td>NaN</td>\n",
       "      <td>NaN</td>\n",
       "      <td>NaN</td>\n",
       "      <td>NaN</td>\n",
       "      <td>NaN</td>\n",
       "      <td>NaN</td>\n",
       "      <td>NaN</td>\n",
       "      <td>NaN</td>\n",
       "      <td>NaN</td>\n",
       "      <td>NaN</td>\n",
       "      <td>NaN</td>\n",
       "      <td>NaN</td>\n",
       "      <td>NaN</td>\n",
       "      <td>NaN</td>\n",
       "      <td>NaN</td>\n",
       "      <td>NaN</td>\n",
       "      <td>NaN</td>\n",
       "      <td>NaN</td>\n",
       "      <td>NaN</td>\n",
       "      <td>NaN</td>\n",
       "      <td>NaN</td>\n",
       "      <td>NaN</td>\n",
       "      <td>NaN</td>\n",
       "      <td>NaN</td>\n",
       "      <td>NaN</td>\n",
       "      <td>NaN</td>\n",
       "      <td>NaN</td>\n",
       "      <td>NaN</td>\n",
       "    </tr>\n",
       "    <tr>\n",
       "      <th>2506174</th>\n",
       "      <td>20210430</td>\n",
       "      <td>2021-05-01</td>\n",
       "      <td>543484</td>\n",
       "      <td>0.000131</td>\n",
       "      <td>0.056586</td>\n",
       "      <td>0.000000</td>\n",
       "      <td>1.024240</td>\n",
       "      <td>20210430_543484</td>\n",
       "      <td>NaN</td>\n",
       "      <td>NaN</td>\n",
       "      <td>NaN</td>\n",
       "      <td>NaN</td>\n",
       "      <td>NaN</td>\n",
       "      <td>NaN</td>\n",
       "      <td>NaN</td>\n",
       "      <td>NaN</td>\n",
       "      <td>NaN</td>\n",
       "      <td>NaN</td>\n",
       "      <td>NaN</td>\n",
       "      <td>NaN</td>\n",
       "      <td>NaN</td>\n",
       "      <td>NaN</td>\n",
       "      <td>NaN</td>\n",
       "      <td>NaN</td>\n",
       "      <td>NaN</td>\n",
       "      <td>NaN</td>\n",
       "      <td>NaN</td>\n",
       "      <td>NaN</td>\n",
       "      <td>NaN</td>\n",
       "      <td>NaN</td>\n",
       "      <td>NaN</td>\n",
       "      <td>NaN</td>\n",
       "      <td>NaN</td>\n",
       "      <td>NaN</td>\n",
       "      <td>NaN</td>\n",
       "      <td>NaN</td>\n",
       "      <td>NaN</td>\n",
       "      <td>NaN</td>\n",
       "      <td>NaN</td>\n",
       "      <td>NaN</td>\n",
       "      <td>NaN</td>\n",
       "      <td>NaN</td>\n",
       "      <td>NaN</td>\n",
       "      <td>NaN</td>\n",
       "      <td>NaN</td>\n",
       "      <td>NaN</td>\n",
       "      <td>NaN</td>\n",
       "      <td>NaN</td>\n",
       "      <td>NaN</td>\n",
       "      <td>NaN</td>\n",
       "      <td>NaN</td>\n",
       "      <td>NaN</td>\n",
       "      <td>NaN</td>\n",
       "      <td>NaN</td>\n",
       "      <td>NaN</td>\n",
       "      <td>NaN</td>\n",
       "      <td>NaN</td>\n",
       "      <td>NaN</td>\n",
       "      <td>NaN</td>\n",
       "      <td>NaN</td>\n",
       "      <td>NaN</td>\n",
       "      <td>NaN</td>\n",
       "      <td>NaN</td>\n",
       "      <td>NaN</td>\n",
       "      <td>NaN</td>\n",
       "      <td>NaN</td>\n",
       "      <td>NaN</td>\n",
       "      <td>NaN</td>\n",
       "      <td>NaN</td>\n",
       "      <td>NaN</td>\n",
       "      <td>NaN</td>\n",
       "      <td>NaN</td>\n",
       "      <td>NaN</td>\n",
       "      <td>NaN</td>\n",
       "      <td>NaN</td>\n",
       "      <td>NaN</td>\n",
       "      <td>NaN</td>\n",
       "      <td>NaN</td>\n",
       "      <td>NaN</td>\n",
       "      <td>NaN</td>\n",
       "      <td>NaN</td>\n",
       "      <td>NaN</td>\n",
       "      <td>NaN</td>\n",
       "      <td>NaN</td>\n",
       "      <td>NaN</td>\n",
       "    </tr>\n",
       "    <tr>\n",
       "      <th>2506175</th>\n",
       "      <td>20210430</td>\n",
       "      <td>2021-05-01</td>\n",
       "      <td>605525</td>\n",
       "      <td>0.000131</td>\n",
       "      <td>0.499284</td>\n",
       "      <td>0.000000</td>\n",
       "      <td>0.386935</td>\n",
       "      <td>20210430_605525</td>\n",
       "      <td>NaN</td>\n",
       "      <td>NaN</td>\n",
       "      <td>NaN</td>\n",
       "      <td>NaN</td>\n",
       "      <td>NaN</td>\n",
       "      <td>NaN</td>\n",
       "      <td>NaN</td>\n",
       "      <td>NaN</td>\n",
       "      <td>NaN</td>\n",
       "      <td>NaN</td>\n",
       "      <td>NaN</td>\n",
       "      <td>NaN</td>\n",
       "      <td>NaN</td>\n",
       "      <td>NaN</td>\n",
       "      <td>NaN</td>\n",
       "      <td>NaN</td>\n",
       "      <td>NaN</td>\n",
       "      <td>NaN</td>\n",
       "      <td>NaN</td>\n",
       "      <td>NaN</td>\n",
       "      <td>NaN</td>\n",
       "      <td>NaN</td>\n",
       "      <td>NaN</td>\n",
       "      <td>NaN</td>\n",
       "      <td>NaN</td>\n",
       "      <td>NaN</td>\n",
       "      <td>NaN</td>\n",
       "      <td>NaN</td>\n",
       "      <td>NaN</td>\n",
       "      <td>NaN</td>\n",
       "      <td>NaN</td>\n",
       "      <td>NaN</td>\n",
       "      <td>NaN</td>\n",
       "      <td>NaN</td>\n",
       "      <td>NaN</td>\n",
       "      <td>NaN</td>\n",
       "      <td>NaN</td>\n",
       "      <td>NaN</td>\n",
       "      <td>NaN</td>\n",
       "      <td>NaN</td>\n",
       "      <td>NaN</td>\n",
       "      <td>NaN</td>\n",
       "      <td>NaN</td>\n",
       "      <td>NaN</td>\n",
       "      <td>NaN</td>\n",
       "      <td>NaN</td>\n",
       "      <td>NaN</td>\n",
       "      <td>NaN</td>\n",
       "      <td>NaN</td>\n",
       "      <td>NaN</td>\n",
       "      <td>NaN</td>\n",
       "      <td>NaN</td>\n",
       "      <td>NaN</td>\n",
       "      <td>NaN</td>\n",
       "      <td>NaN</td>\n",
       "      <td>NaN</td>\n",
       "      <td>NaN</td>\n",
       "      <td>NaN</td>\n",
       "      <td>NaN</td>\n",
       "      <td>NaN</td>\n",
       "      <td>NaN</td>\n",
       "      <td>NaN</td>\n",
       "      <td>NaN</td>\n",
       "      <td>NaN</td>\n",
       "      <td>NaN</td>\n",
       "      <td>NaN</td>\n",
       "      <td>NaN</td>\n",
       "      <td>NaN</td>\n",
       "      <td>NaN</td>\n",
       "      <td>NaN</td>\n",
       "      <td>NaN</td>\n",
       "      <td>NaN</td>\n",
       "      <td>NaN</td>\n",
       "      <td>NaN</td>\n",
       "      <td>NaN</td>\n",
       "      <td>NaN</td>\n",
       "      <td>NaN</td>\n",
       "    </tr>\n",
       "  </tbody>\n",
       "</table>\n",
       "<p>2506176 rows × 85 columns</p>\n",
       "</div>"
      ]
     },
     "metadata": {},
     "execution_count": 6
    }
   ],
   "metadata": {}
  },
  {
   "cell_type": "code",
   "execution_count": 7,
   "source": [
    "df = mlb_train_ds.train_next.copy()\n",
    "df[\"day\"] = pd.to_datetime(df[\"date\"].astype(str), format=\"%Y%m%d\").dt.day\n",
    "df[\"dow\"] = pd.to_datetime(df[\"date\"].astype(str), format=\"%Y%m%d\").dt.dayofweek\n",
    "df"
   ],
   "outputs": [
    {
     "output_type": "execute_result",
     "data": {
      "text/plain": [
       "             date engagementMetricsDate  playerId   target1    target2  \\\n",
       "0        20180101            2018-01-02    628317  0.011167   4.474708   \n",
       "1        20180101            2018-01-02    547989  0.042993   5.593385   \n",
       "2        20180101            2018-01-02    519317  0.974327  56.177044   \n",
       "3        20180101            2018-01-02    607625  0.006700   2.675097   \n",
       "4        20180101            2018-01-02    592547  0.001117   0.632296   \n",
       "...           ...                   ...       ...       ...        ...   \n",
       "2506171  20210430            2021-05-01    451661  0.000000   0.013314   \n",
       "2506172  20210430            2021-05-01    519301  0.000131   0.003329   \n",
       "2506173  20210430            2021-05-01    527055  0.000000   0.019971   \n",
       "2506174  20210430            2021-05-01    543484  0.000131   0.056586   \n",
       "2506175  20210430            2021-05-01    605525  0.000131   0.499284   \n",
       "\n",
       "           target3    target4  day  dow  \n",
       "0         0.005168   5.735294    1    0  \n",
       "1         0.045033   2.794118    1    0  \n",
       "2        13.693746  64.166664    1    0  \n",
       "3         0.005168   1.862745    1    0  \n",
       "4         0.002953   0.931373    1    0  \n",
       "...            ...        ...  ...  ...  \n",
       "2506171   0.000000   0.625925   30    4  \n",
       "2506172   0.000000   0.216229   30    4  \n",
       "2506173   0.000000   0.273131   30    4  \n",
       "2506174   0.000000   1.024240   30    4  \n",
       "2506175   0.000000   0.386935   30    4  \n",
       "\n",
       "[2506176 rows x 9 columns]"
      ],
      "text/html": [
       "<div>\n",
       "<style scoped>\n",
       "    .dataframe tbody tr th:only-of-type {\n",
       "        vertical-align: middle;\n",
       "    }\n",
       "\n",
       "    .dataframe tbody tr th {\n",
       "        vertical-align: top;\n",
       "    }\n",
       "\n",
       "    .dataframe thead th {\n",
       "        text-align: right;\n",
       "    }\n",
       "</style>\n",
       "<table border=\"1\" class=\"dataframe\">\n",
       "  <thead>\n",
       "    <tr style=\"text-align: right;\">\n",
       "      <th></th>\n",
       "      <th>date</th>\n",
       "      <th>engagementMetricsDate</th>\n",
       "      <th>playerId</th>\n",
       "      <th>target1</th>\n",
       "      <th>target2</th>\n",
       "      <th>target3</th>\n",
       "      <th>target4</th>\n",
       "      <th>day</th>\n",
       "      <th>dow</th>\n",
       "    </tr>\n",
       "  </thead>\n",
       "  <tbody>\n",
       "    <tr>\n",
       "      <th>0</th>\n",
       "      <td>20180101</td>\n",
       "      <td>2018-01-02</td>\n",
       "      <td>628317</td>\n",
       "      <td>0.011167</td>\n",
       "      <td>4.474708</td>\n",
       "      <td>0.005168</td>\n",
       "      <td>5.735294</td>\n",
       "      <td>1</td>\n",
       "      <td>0</td>\n",
       "    </tr>\n",
       "    <tr>\n",
       "      <th>1</th>\n",
       "      <td>20180101</td>\n",
       "      <td>2018-01-02</td>\n",
       "      <td>547989</td>\n",
       "      <td>0.042993</td>\n",
       "      <td>5.593385</td>\n",
       "      <td>0.045033</td>\n",
       "      <td>2.794118</td>\n",
       "      <td>1</td>\n",
       "      <td>0</td>\n",
       "    </tr>\n",
       "    <tr>\n",
       "      <th>2</th>\n",
       "      <td>20180101</td>\n",
       "      <td>2018-01-02</td>\n",
       "      <td>519317</td>\n",
       "      <td>0.974327</td>\n",
       "      <td>56.177044</td>\n",
       "      <td>13.693746</td>\n",
       "      <td>64.166664</td>\n",
       "      <td>1</td>\n",
       "      <td>0</td>\n",
       "    </tr>\n",
       "    <tr>\n",
       "      <th>3</th>\n",
       "      <td>20180101</td>\n",
       "      <td>2018-01-02</td>\n",
       "      <td>607625</td>\n",
       "      <td>0.006700</td>\n",
       "      <td>2.675097</td>\n",
       "      <td>0.005168</td>\n",
       "      <td>1.862745</td>\n",
       "      <td>1</td>\n",
       "      <td>0</td>\n",
       "    </tr>\n",
       "    <tr>\n",
       "      <th>4</th>\n",
       "      <td>20180101</td>\n",
       "      <td>2018-01-02</td>\n",
       "      <td>592547</td>\n",
       "      <td>0.001117</td>\n",
       "      <td>0.632296</td>\n",
       "      <td>0.002953</td>\n",
       "      <td>0.931373</td>\n",
       "      <td>1</td>\n",
       "      <td>0</td>\n",
       "    </tr>\n",
       "    <tr>\n",
       "      <th>...</th>\n",
       "      <td>...</td>\n",
       "      <td>...</td>\n",
       "      <td>...</td>\n",
       "      <td>...</td>\n",
       "      <td>...</td>\n",
       "      <td>...</td>\n",
       "      <td>...</td>\n",
       "      <td>...</td>\n",
       "      <td>...</td>\n",
       "    </tr>\n",
       "    <tr>\n",
       "      <th>2506171</th>\n",
       "      <td>20210430</td>\n",
       "      <td>2021-05-01</td>\n",
       "      <td>451661</td>\n",
       "      <td>0.000000</td>\n",
       "      <td>0.013314</td>\n",
       "      <td>0.000000</td>\n",
       "      <td>0.625925</td>\n",
       "      <td>30</td>\n",
       "      <td>4</td>\n",
       "    </tr>\n",
       "    <tr>\n",
       "      <th>2506172</th>\n",
       "      <td>20210430</td>\n",
       "      <td>2021-05-01</td>\n",
       "      <td>519301</td>\n",
       "      <td>0.000131</td>\n",
       "      <td>0.003329</td>\n",
       "      <td>0.000000</td>\n",
       "      <td>0.216229</td>\n",
       "      <td>30</td>\n",
       "      <td>4</td>\n",
       "    </tr>\n",
       "    <tr>\n",
       "      <th>2506173</th>\n",
       "      <td>20210430</td>\n",
       "      <td>2021-05-01</td>\n",
       "      <td>527055</td>\n",
       "      <td>0.000000</td>\n",
       "      <td>0.019971</td>\n",
       "      <td>0.000000</td>\n",
       "      <td>0.273131</td>\n",
       "      <td>30</td>\n",
       "      <td>4</td>\n",
       "    </tr>\n",
       "    <tr>\n",
       "      <th>2506174</th>\n",
       "      <td>20210430</td>\n",
       "      <td>2021-05-01</td>\n",
       "      <td>543484</td>\n",
       "      <td>0.000131</td>\n",
       "      <td>0.056586</td>\n",
       "      <td>0.000000</td>\n",
       "      <td>1.024240</td>\n",
       "      <td>30</td>\n",
       "      <td>4</td>\n",
       "    </tr>\n",
       "    <tr>\n",
       "      <th>2506175</th>\n",
       "      <td>20210430</td>\n",
       "      <td>2021-05-01</td>\n",
       "      <td>605525</td>\n",
       "      <td>0.000131</td>\n",
       "      <td>0.499284</td>\n",
       "      <td>0.000000</td>\n",
       "      <td>0.386935</td>\n",
       "      <td>30</td>\n",
       "      <td>4</td>\n",
       "    </tr>\n",
       "  </tbody>\n",
       "</table>\n",
       "<p>2506176 rows × 9 columns</p>\n",
       "</div>"
      ]
     },
     "metadata": {},
     "execution_count": 7
    }
   ],
   "metadata": {}
  },
  {
   "cell_type": "markdown",
   "source": [
    "## Feature blocks"
   ],
   "metadata": {}
  },
  {
   "cell_type": "code",
   "execution_count": 8,
   "source": [
    "def merge_by_key(left: Union[pd.DataFrame, pd.Series], right: pd.DataFrame, on=CFG.OBJECT_ID) -> pd.DataFrame:\n",
    "    if not isinstance(left, pd.Series):\n",
    "        left = left[on]\n",
    "    return pd.merge(left, right, on=on, how=\"left\").drop(columns=on)\n",
    "\n",
    "\n",
    "class BaseBlock(object):\n",
    "    def fit(self, input_df: pd.DataFrame, y=None) -> pd.DataFrame:\n",
    "        return self.transform(input_df)\n",
    "\n",
    "    def transform(self, input_df: pd.DataFrame) -> pd.DataFrame:\n",
    "        return NotImplementedError()\n",
    "\n",
    "\n",
    "# class LagBlock(BaseBlock):\n",
    "#     def __init__(self, column: str, periods: List[int]):\n",
    "#         self.column = column\n",
    "#         self.periods = periods\n",
    "\n",
    "#     def fit(self, input_df: pd.DataFrame, y=None):\n",
    "#         agg_list = [input_df.groupby([\"playerId\"], as_index=False)[self.column].transform(lambda x: x.shift(periods=period)).add_prefix(f\"{period}_\") for period in self.periods]\n",
    "#         self.agg_df = pd.concat(agg_list, axis=1)\n",
    "\n",
    "#         return self.transform(input_df)\n",
    "\n",
    "#     def transform(self, input_df: pd.DataFrame):\n",
    "#         return self.agg_df.add_prefix(\"Lag_\")\n",
    "\n",
    "\n",
    "def quantile25(x: pd.Series):\n",
    "    return x.quantile(q=0.25)\n",
    "\n",
    "\n",
    "def quantile75(x: pd.Series):\n",
    "    return x.quantile(q=0.75)\n",
    "\n",
    "\n",
    "def prob(x: pd.Series):\n",
    "    x = x.reset_index(drop=True).values.tolist()\n",
    "    mean = np.mean(x)\n",
    "    std = np.std(x)\n",
    "    distribution = norm(mean, std)\n",
    "    min_weight = min(x)\n",
    "    max_weight = max(x)\n",
    "    values = list(np.linspace(min_weight, max_weight))\n",
    "    probabilities = [distribution.pdf(v) for v in values]\n",
    "    max_values = max(probabilities)\n",
    "    max_index = probabilities.index(max_values)\n",
    "\n",
    "    return x[max_index]\n",
    "\n",
    "\n",
    "class TargetAggregateBlock(BaseBlock):\n",
    "    def __init__(self, periods: List[int]):\n",
    "        self.periods = periods\n",
    "        \n",
    "    def fit(self, input_df: pd.DataFrame, y=None):\n",
    "        output_df = pd.DataFrame()\n",
    "        for i in self.periods:\n",
    "            target_df = mlb_train_ds.train_next[(mlb_train_ds.train_next[\"date\"] >= i) & (mlb_train_ds.train_next[\"date\"] < (i + 100))].copy()\n",
    "            cols = target_df.drop(columns=[\"date\", \"engagementMetricsDate\", \"playerId\"], axis=1).columns.tolist()\n",
    "            dfs = [target_df.groupby([\"playerId\"])[col].agg([\n",
    "                \"mean\", \"std\", \"max\", \"min\", \"median\", quantile25, quantile75, prob\n",
    "                ]).add_prefix(f\"{col}_{str(i)[:-2]}_\") for col in cols]\n",
    "            tmp_df = pd.concat(dfs, axis=1)\n",
    "            output_df = pd.concat([output_df, tmp_df], axis=1)\n",
    "\n",
    "        self.agg_df = output_df.reset_index()\n",
    "\n",
    "        return self.transform(input_df)\n",
    "\n",
    "    def transform(self, input_df: pd.DataFrame):\n",
    "        return merge_by_key(input_df, self.agg_df, on=\"playerId\")\n",
    "\n",
    "\n",
    "class PlayersLabelEncodingBlock(BaseBlock):\n",
    "    def __init__(self, columns: List[str]):\n",
    "        self.columns = columns + [\"playerId\"]\n",
    "        self.players_df = mlb_train_ds.players.copy()\n",
    "        self.players_df[\"DOB_year\"] = pd.to_datetime(self.players_df[\"DOB\"]).dt.year\n",
    "        self.players_df[\"playerAge\"] = 2021 - self.players_df[\"DOB_year\"]\n",
    "        self.labeled_df = self.players_df[self.columns].copy()\n",
    "        self.labeled_df[\"playerid\"] = self.labeled_df[\"playerId\"]\n",
    "        self.columns = self.columns + [\"playerid\"]\n",
    "        self.encoder = None\n",
    "    \n",
    "    def fit(self, input_df: pd.DataFrame, y=None):\n",
    "        self.encoder = ce.OrdinalEncoder(handle_unknown=\"value\", handle_missing=\"values\")\n",
    "        self.encoder.fit(self.labeled_df[self.columns])\n",
    "        self.labeled_df[self.columns] = self.encoder.transform(self.labeled_df[self.columns])\n",
    "\n",
    "        return self.transform(input_df)\n",
    "\n",
    "    def transform(self, input_df: pd.DataFrame):\n",
    "        return merge_by_key(input_df, self.labeled_df, on=\"playerId\").add_prefix(\"Players_LE_\")\n",
    "\n",
    "\n",
    "class RostersLabelEncodingBlock(BaseBlock):\n",
    "    def __init__(self, columns: List[str]):\n",
    "        self.columns = columns\n",
    "        self.encoder = None\n",
    "\n",
    "    def fit(self, input_df: pd.DataFrame, y=None):\n",
    "        rosters_df = mlb_train_ds.train_rosters[self.columns]\n",
    "        self.encoder = ce.OrdinalEncoder(handle_unknown=\"value\", handle_missing=\"value\")\n",
    "        self.encoder.fit(rosters_df[self.columns])\n",
    "\n",
    "        return self.transform(input_df)\n",
    "\n",
    "    def transform(self, input_df: pd.DataFrame):\n",
    "        self.labeled_df = mlb_train_ds.train_rosters[CFG.OBJECT_ID + self.columns].copy()\n",
    "        self.labeled_df[self.columns] = self.encoder.transform(self.labeled_df[self.columns])\n",
    "\n",
    "        return merge_by_key(input_df, self.labeled_df).add_prefix(\"Rosters_LE_\")\n",
    "\n",
    "    \n",
    "# class PlayerBoxScoresCountBlock(BaseBlock):\n",
    "#     def __init__(self, columns: List[str]):\n",
    "#         self.columns = columns\n",
    "\n",
    "#     def transform(self, input_df: pd.DataFrame):\n",
    "#         self.agg_df = mlb_train_ds.train_scores.groupby(CFG.OBJECT_ID)[self.columns].sum().reset_index()\n",
    "        \n",
    "#         return merge_by_key(input_df, self.agg_df).add_prefix(\"PlayerBoxScoresCount_\")\n",
    "\n",
    "\n",
    "# class TeamBoxScoresCountBlock(BaseBlock):\n",
    "#     def __init__(self, columns: List[str]):\n",
    "#         self.columns = columns\n",
    "\n",
    "#     def transform(self, input_df: pd.DataFrame):\n",
    "#         input_df = input_df.merge(mlb_train_ds.train_rosters[[\"date\", \"playerId\", \"teamId\"]], on=[\"playerId\", \"date\"], how=\"left\")\n",
    "#         self.agg_df = mlb_train_ds.train_tbs.groupby([\"teamId\", \"date\"])[self.columns].sum().reset_index()\n",
    "\n",
    "#         return merge_by_key(input_df, self.agg_df, on=[\"teamId\", \"date\"]).add_prefix(\"TeamBoxScoresCount_\")\n",
    "\n",
    "\n",
    "class GamesCountBlock(BaseBlock):\n",
    "    def __init__(self, columns: List[str]):\n",
    "        self.columns = columns\n",
    "\n",
    "    def transform(self, input_df: pd.DataFrame):\n",
    "        games_df = mlb_train_ds.train_scores[[\"date\", \"playerId\", \"gamePk\"]].merge(mlb_train_ds.train_games, on=[\"date\", \"gamePk\"], how=\"left\")\n",
    "        self.agg_df = games_df.groupby([\"date\", \"playerId\"])[self.columns].sum().reset_index()\n",
    "\n",
    "        return merge_by_key(input_df, self.agg_df).add_prefix(\"GamesCount_\")\n",
    "\n",
    "\n",
    "class StandingsMetaBlock(BaseBlock):\n",
    "    def __init__(self, columns: List[str]):\n",
    "        self.columns = columns\n",
    "\n",
    "    def transform(self, input_df: pd.DataFrame):\n",
    "        self.standings_df = mlb_train_ds.train_rosters[[\"date\", \"playerId\", \"teamId\"]].merge(mlb_train_ds.train_standings, on=[\"date\", \"teamId\"], how=\"left\")\n",
    "\n",
    "        return merge_by_key(input_df, self.standings_df[self.columns]).add_prefix(\"StandingsMeta_\")\n",
    "\n",
    "\n",
    "class PlayerTwitterFollowerAggregateBlock(BaseBlock):\n",
    "    def fit(self, input_df: pd.DataFrame, y=None):\n",
    "        self.agg_df = mlb_train_ds.train_ptf.groupby([\"playerId\"])[\"numberOfFollowers\"].agg([\n",
    "            \"mean\", \"std\", \"max\", \"min\", \"median\", quantile25, quantile75])\n",
    "\n",
    "        return self.transform(input_df)\n",
    "\n",
    "    def transform(self, input_df: pd.DataFrame):\n",
    "        return merge_by_key(input_df, self.agg_df, on=\"playerId\").add_prefix(\"PlayerTwitterFollowerAggregate_\")\n",
    "\n",
    "\n",
    "class PlayerStatsBlock(BaseBlock):\n",
    "    def transform(self, input_df: pd.DataFrame):\n",
    "        playerBoxScores = mlb_train_ds.train_scores.copy()\n",
    "        playerBoxScores[\"year\"] = pd.to_datetime(playerBoxScores[\"gameDate\"]).dt.year\n",
    "\n",
    "        self.agg_df = playerBoxScores.groupby([\"year\", \"playerId\", \"date\"], as_index=False).agg(\n",
    "            gamePk = (\"gamePk\", \"nunique\"),\n",
    "            home = (\"home\", np.sum),\n",
    "            # teamId = (\"teamId\", np.sum),\n",
    "            positionCode = (\"positionCode\", np.sum),\n",
    "            battingOrder = (\"battingOrder\", np.sum),\n",
    "            # 打撃編\n",
    "            gamesPlayedBatting = (\"gamesPlayedBatting\", np.sum),\n",
    "            plateAppearances = (\"plateAppearances\", np.sum),\n",
    "            atBats = (\"atBats\", np.sum),\n",
    "            hits = (\"hits\", np.sum),\n",
    "            doubles = (\"doubles\", np.sum),\n",
    "            triples = (\"triples\", np.sum),\n",
    "            homeRuns = (\"homeRuns\", np.sum),\n",
    "            rbi = (\"rbi\", np.sum),\n",
    "            runsScored = (\"runsScored\", np.sum),\n",
    "            totalBases = (\"totalBases\", np.sum),\n",
    "            baseOnBalls = (\"baseOnBalls\", np.sum),\n",
    "            hitByPitch = (\"hitByPitch\", np.sum),\n",
    "            intentionalWalks = (\"intentionalWalks\", np.sum),\n",
    "            groundIntoDoublePlay = (\"groundIntoDoublePlay\", np.sum),\n",
    "            groundIntoTriplePlay = (\"groundIntoTriplePlay\", np.sum),\n",
    "            strikeOuts = (\"strikeOuts\", np.sum),\n",
    "            sacBunts = (\"sacBunts\", np.sum),\n",
    "            sacFlies = (\"sacFlies\", np.sum),\n",
    "            caughtStealing = (\"caughtStealing\", np.sum),\n",
    "            stolenBases = (\"stolenBases\", np.sum),\n",
    "            leftOnBase = (\"leftOnBase\", np.sum),\n",
    "            catchersInterference = (\"catchersInterference\", np.sum),\n",
    "            pickoffs = (\"pickoffs\", np.sum),\n",
    "            flyOuts = (\"flyOuts\", np.sum),\n",
    "            groundOuts = (\"groundOuts\", np.sum),\n",
    "            # 投手編\n",
    "            gamesPlayedPitching = (\"gamesPlayedPitching\", np.sum),\n",
    "            gamesStartedPicthing = (\"gamesStartedPitching\", np.sum),\n",
    "            winsPitching = (\"winsPitching\", np.sum),\n",
    "            lossesPitching = (\"lossesPitching\", np.sum),\n",
    "            completeGamesPitching = (\"completeGamesPitching\", np.sum),\n",
    "            shutoutsPitching = (\"shutoutsPitching\", np.sum),\n",
    "            saves = (\"saves\", np.sum),\n",
    "            saveOpportunities = (\"saveOpportunities\", np.sum),\n",
    "            blownSaves = (\"blownSaves\", np.sum),\n",
    "            holds = (\"holds\", np.sum),\n",
    "            inningsPitched = (\"inningsPitched\", np.sum),\n",
    "            runsPitching = (\"runsPitching\", np.sum),\n",
    "            earnedRuns = (\"earnedRuns\", np.sum),\n",
    "            pitchesThrown = (\"pitchesThrown\", np.sum),\n",
    "            hitsPitching = (\"hitsPitching\", np.sum),\n",
    "            homeRunsPitching = (\"homeRunsPitching\", np.sum),\n",
    "            strikeOutsPitching = (\"strikeOutsPitching\", np.sum),\n",
    "            baseOnBallsPitching = (\"baseOnBallsPitching\", np.sum),\n",
    "            hitByPitchPitching = (\"hitByPitchPitching\", np.sum),\n",
    "            intentionalWalksPitching = (\"intentionalWalksPitching\", np.sum),\n",
    "            balks = (\"balks\", np.sum),\n",
    "            wildPitches = (\"wildPitches\", np.sum),\n",
    "            atBatsPitching = (\"atBatsPitching\", np.sum),\n",
    "            battersFaced = (\"battersFaced\", np.sum),\n",
    "            sacBuntsPitching = (\"sacBuntsPitching\", np.sum),\n",
    "            sacFliesPitching = (\"sacFliesPitching\", np.sum),\n",
    "            inheritedRunners = (\"inheritedRunners\", np.sum),\n",
    "            inheritedRunnersScored = (\"inheritedRunnersScored\", np.sum),\n",
    "            rbiPitching = (\"rbiPitching\", np.sum),\n",
    "            flyOutsPitching = (\"flyOutsPitching\", np.sum),\n",
    "            airOutsPitching = (\"airOutsPitching\", np.sum),\n",
    "            doublesPitching = (\"doublesPitching\", np.sum),\n",
    "            triplesPitching = (\"triplesPitching\", np.sum),\n",
    "            caughtStealingPitching = (\"caughtStealingPitching\", np.sum),\n",
    "            stolenBasesPitching = (\"stolenBasesPitching\", np.sum),\n",
    "            outsPitching = (\"outsPitching\", np.sum),\n",
    "            balls = (\"balls\", np.sum),\n",
    "            strikes = (\"strikes\", np.sum),\n",
    "            hitBatsmen = (\"hitBatsmen\", np.sum),\n",
    "            pickoffsPitching = (\"pickoffsPitching\", np.sum),\n",
    "            catchersInterferencePitching = (\"catchersInterferencePitching\", np.sum),\n",
    "            assists = (\"assists\", np.sum),\n",
    "            putOuts = (\"putOuts\", np.sum),\n",
    "            errors = (\"errors\", np.sum),\n",
    "            chances = (\"chances\", np.sum),\n",
    "            gamesFinishedPitching = (\"gamesFinishedPitching\", np.sum),\n",
    "            groundOutsPitching = (\"groundOutsPitching\", np.sum),\n",
    "            )\n",
    "\n",
    "        self.agg_df[\"qs\"] = ((self.agg_df[\"inningsPitched\"] >= 6) & (self.agg_df[\"runsPitching\"] <= 3)) * self.agg_df[\"gamesStartedPicthing\"]\n",
    "        self.agg_df[\"hqs\"] = ((self.agg_df[\"inningsPitched\"] >= 7) & (self.agg_df[\"runsPitching\"] <= 2)) * self.agg_df[\"gamesStartedPicthing\"]\n",
    "        \n",
    "        # シーズン成績\n",
    "        for col in self.agg_df.drop(columns=[\"year\", \"date\", \"playerId\"], axis=1).columns.tolist():\n",
    "            col_ = col + \"_cumsum\"\n",
    "            self.agg_df[col_] = self.agg_df.groupby([\"year\", \"playerId\"], as_index=False)[col].cumsum()\n",
    "\n",
    "        # 打撃編\n",
    "        self.agg_df[\"battingAverage\"] = self.agg_df[\"hits_cumsum\"] / self.agg_df[\"atBats_cumsum\"] # 打率\n",
    "        self.agg_df[\"sluggingPercentage\"] = self.agg_df[\"totalBases_cumsum\"] / self.agg_df[\"atBats_cumsum\"] # 長打率\n",
    "        self.agg_df[\"onBasePercentage\"] = (self.agg_df[\"hits_cumsum\"] + self.agg_df[\"baseOnBalls_cumsum\"] + self.agg_df[\"hitByPitch_cumsum\"])/(self.agg_df[\"atBats_cumsum\"] + self.agg_df[\"baseOnBalls_cumsum\"] + self.agg_df[\"hitByPitch_cumsum\"] + self.agg_df[\"sacFlies_cumsum\"]) # 出塁率\n",
    "        self.agg_df[\"ops\"] = self.agg_df[\"sluggingPercentage\"] + self.agg_df[\"onBasePercentage\"] # OPS\n",
    "        self.agg_df[\"isop\"] = self.agg_df[\"sluggingPercentage\"] - self.agg_df[\"battingAverage\"] # IsoP\n",
    "        self.agg_df[\"isod\"] = self.agg_df[\"onBasePercentage\"] - self.agg_df[\"battingAverage\"] # IsoD\n",
    "        self.agg_df[\"rc\"] = (self.agg_df[\"hits_cumsum\"] + self.agg_df[\"baseOnBalls_cumsum\"]) * self.agg_df[\"totalBases_cumsum\"] / (self.agg_df[\"atBats_cumsum\"] + self.agg_df[\"baseOnBalls_cumsum\"]) # RC\n",
    "        self.agg_df[\"rc27\"] = self.agg_df[\"rc\"] / (self.agg_df[\"atBats_cumsum\"] - self.agg_df[\"hits_cumsum\"] + self.agg_df[\"caughtStealing_cumsum\"] + self.agg_df[\"sacBunts_cumsum\"] + self.agg_df[\"sacFlies_cumsum\"] + self.agg_df[\"groundIntoDoublePlay_cumsum\"]) * 27 # RC27\n",
    "        self.agg_df[\"rc27\"] = self.agg_df[\"rc27\"].replace({np.inf: 0})\n",
    "        self.agg_df[\"babip\"] = (self.agg_df[\"hits_cumsum\"] - self.agg_df[\"homeRuns_cumsum\"]) / (self.agg_df[\"atBats_cumsum\"] - self.agg_df[\"strikeOuts_cumsum\"] - self.agg_df[\"homeRuns_cumsum\"] + self.agg_df[\"sacFlies_cumsum\"]) # BABIP\n",
    "        self.agg_df[\"bb_k\"] = self.agg_df[\"baseOnBalls_cumsum\"] / self.agg_df[\"strikeOuts_cumsum\"] # BB/K\n",
    "        self.agg_df[\"k%\"] = self.agg_df[\"strikeOuts_cumsum\"] / self.agg_df[\"plateAppearances_cumsum\"] # K%\n",
    "        # 投手編\n",
    "        self.agg_df[\"era\"] = self.agg_df[\"earnedRuns_cumsum\"] * 9 / self.agg_df[\"inningsPitched_cumsum\"] # 防御率\n",
    "        self.agg_df[\"wp\"] = self.agg_df[\"winsPitching_cumsum\"] / (self.agg_df[\"winsPitching_cumsum\"] + self.agg_df[\"lossesPitching_cumsum\"]) # 勝率\n",
    "        self.agg_df[\"k9\"] = self.agg_df[\"strikeOutsPitching_cumsum\"] * 9 / self.agg_df[\"inningsPitched_cumsum\"] # K/9(奪三振率)\n",
    "        self.agg_df[\"hits_allowed_average\"] = self.agg_df[\"hitsPitching_cumsum\"] / self.agg_df[\"atBatsPitching_cumsum\"] # 被打率\n",
    "        self.agg_df[\"hp\"] = self.agg_df[\"holds_cumsum\"] + self.agg_df[\"winsPitching_cumsum\"] # HP\n",
    "        self.agg_df[\"qs%\"] = self.agg_df[\"qs_cumsum\"] / self.agg_df[\"gamesStartedPicthing_cumsum\"] # QS率\n",
    "        self.agg_df[\"hqs%\"] = self.agg_df[\"hqs_cumsum\"] / self.agg_df[\"gamesStartedPicthing_cumsum\"] # HQS率\n",
    "        self.agg_df[\"k%_pitching\"] = self.agg_df[\"strikeOutsPitching_cumsum\"] / self.agg_df[\"battersFaced_cumsum\"] # K%\n",
    "        self.agg_df[\"bb9\"] = self.agg_df[\"baseOnBallsPitching_cumsum\"] * 9 / self.agg_df[\"inningsPitched_cumsum\"] # BB/9\n",
    "        self.agg_df[\"bb%\"] = self.agg_df[\"baseOnBallsPitching_cumsum\"] / self.agg_df[\"battersFaced_cumsum\"] # BB%\n",
    "        self.agg_df[\"k_bb\"] = self.agg_df[\"strikeOutsPitching_cumsum\"] / (self.agg_df[\"baseOnBallsPitching_cumsum\"] + self.agg_df[\"hitByPitchPitching_cumsum\"]) # K/BB\n",
    "        self.agg_df[\"hr9\"] = self.agg_df[\"homeRunsPitching_cumsum\"] * 9 / self.agg_df[\"inningsPitched_cumsum\"] # HR/9\n",
    "        self.agg_df[\"babip_pitching\"] = (self.agg_df[\"hitsPitching_cumsum\"] - self.agg_df[\"homeRunsPitching_cumsum\"]) / (self.agg_df[\"atBatsPitching_cumsum\"] - self.agg_df[\"strikeOutsPitching_cumsum\"] - self.agg_df[\"homeRunsPitching_cumsum\"] + self.agg_df[\"sacFliesPitching_cumsum\"]) # BABIP\n",
    "        self.agg_df[\"whip\"] = (self.agg_df[\"baseOnBallsPitching_cumsum\"] + self.agg_df[\"hitsPitching_cumsum\"]) / self.agg_df[\"inningsPitched_cumsum\"] # WHIP\n",
    "        # ランキング\n",
    "        # 率のものは規定打席以上かどうか、投手かどうかを加えたい\n",
    "        self.agg_df[\"homeRuns_rank\"] = self.agg_df.groupby([\"date\"])[\"homeRuns_cumsum\"].rank(ascending=False, method=\"min\").astype(int)\n",
    "        self.agg_df[\"hits_rank\"] = self.agg_df.groupby([\"date\"])[\"hits_cumsum\"].rank(ascending=False, method=\"min\").astype(int)\n",
    "        self.agg_df[\"rbi_rank\"] = self.agg_df.groupby([\"date\"])[\"rbi_cumsum\"].rank(ascending=False, method=\"min\").astype(int)\n",
    "        self.agg_df[\"doubles_rank\"] = self.agg_df.groupby([\"date\"])[\"doubles_cumsum\"].rank(ascending=False, method=\"min\").astype(int)\n",
    "        self.agg_df[\"triples_rank\"] = self.agg_df.groupby([\"date\"])[\"triples_cumsum\"].rank(ascending=False, method=\"min\").astype(int)\n",
    "        self.agg_df[\"runsScored_rank\"] = self.agg_df.groupby([\"date\"])[\"runsScored_cumsum\"].rank(ascending=False, method=\"min\").astype(int)\n",
    "        self.agg_df[\"totalBases_rank\"] = self.agg_df.groupby([\"date\"])[\"totalBases_cumsum\"].rank(ascending=False, method=\"min\").astype(int)\n",
    "        self.agg_df[\"baseOnBalls_rank\"] = self.agg_df.groupby([\"date\"])[\"baseOnBalls_cumsum\"].rank(ascending=False, method=\"min\").astype(int)\n",
    "        self.agg_df[\"hitByPitch_rank\"] = self.agg_df.groupby([\"date\"])[\"hitByPitch_cumsum\"].rank(ascending=False, method=\"min\").astype(int)\n",
    "        self.agg_df[\"strikeOuts_rank\"] = self.agg_df.groupby([\"date\"])[\"strikeOuts_cumsum\"].rank(ascending=False, method=\"min\").astype(int)\n",
    "        self.agg_df[\"stolenBases_rank\"] = self.agg_df.groupby([\"date\"])[\"stolenBases_cumsum\"].rank(ascending=False, method=\"min\").astype(int)\n",
    "        self.agg_df[\"plateAppearances_rank\"] = self.agg_df.groupby([\"date\"])[\"plateAppearances_cumsum\"].rank(ascending=False, method=\"min\").astype(int)\n",
    "        self.agg_df[\"atBats_rank\"] = self.agg_df.groupby([\"date\"])[\"atBats_cumsum\"].rank(ascending=False, method=\"min\").astype(int)\n",
    "\n",
    "        self.agg_df[\"battingAverage_rank\"] = self.agg_df[self.agg_df[\"gamesPlayedBatting\"] == 1.0].groupby([\"date\"])[\"battingAverage\"].rank(ascending=False, method=\"min\")\n",
    "        self.agg_df[\"ops_rank\"] = self.agg_df.groupby([\"date\"])[\"ops\"].rank(ascending=False, method=\"min\")\n",
    "        self.agg_df[\"isop_rank\"] = self.agg_df.groupby([\"date\"])[\"isop\"].rank(ascending=False, method=\"min\")\n",
    "        self.agg_df[\"isod_rank\"] = self.agg_df.groupby([\"date\"])[\"isod\"].rank(ascending=False, method=\"min\")\n",
    "        self.agg_df[\"rc_rank\"] = self.agg_df.groupby([\"date\"])[\"rc\"].rank(ascending=False, method=\"min\")\n",
    "        self.agg_df[\"rc27_rank\"] = self.agg_df.groupby([\"date\"])[\"rc27\"].rank(ascending=False, method=\"min\")\n",
    "        self.agg_df[\"babip_rank\"] = self.agg_df.groupby([\"date\"])[\"babip\"].rank(ascending=False, method=\"min\")\n",
    "        self.agg_df[\"bb_k_rank\"] = self.agg_df.groupby([\"date\"])[\"bb_k\"].rank(ascending=False, method=\"min\")\n",
    "        self.agg_df[\"k%_rank\"] = self.agg_df.groupby([\"date\"])[\"k%\"].rank(ascending=False, method=\"min\")\n",
    "\n",
    "        self.agg_df[\"winsPitching_rank\"] = self.agg_df.groupby([\"date\"])[\"winsPitching_cumsum\"].rank(ascending=False, method=\"min\").astype(int)\n",
    "        self.agg_df[\"lossesPitching_rank\"] = self.agg_df.groupby([\"date\"])[\"lossesPitching_cumsum\"].rank(ascending=False, method=\"min\").astype(int)\n",
    "        self.agg_df[\"saves_rank\"] = self.agg_df.groupby([\"date\"])[\"saves_cumsum\"].rank(ascending=False, method=\"min\").astype(int)\n",
    "        self.agg_df[\"holds_rank\"] = self.agg_df.groupby([\"date\"])[\"holds_cumsum\"].rank(ascending=False, method=\"min\").astype(int)\n",
    "        self.agg_df[\"completeGamesPitching_rank\"] = self.agg_df.groupby([\"date\"])[\"completeGamesPitching_cumsum\"].rank(ascending=False, method=\"min\").astype(int)\n",
    "        self.agg_df[\"shutoutsPitching_rank\"] = self.agg_df.groupby([\"date\"])[\"shutoutsPitching_cumsum\"].rank(ascending=False, method=\"min\").astype(int)\n",
    "        self.agg_df[\"inningsPitched_rank\"] = self.agg_df.groupby([\"date\"])[\"inningsPitched_cumsum\"].rank(ascending=False, method=\"min\").astype(int)\n",
    "        self.agg_df[\"runsPitching_rank\"] = self.agg_df.groupby([\"date\"])[\"runsPitching_cumsum\"].rank(ascending=False, method=\"min\").astype(int)\n",
    "        self.agg_df[\"earnedRuns_rank\"] = self.agg_df.groupby([\"date\"])[\"earnedRuns_cumsum\"].rank(ascending=False, method=\"min\").astype(int)\n",
    "\n",
    "        self.agg_df[\"era_rank\"] = self.agg_df.groupby([\"date\"])[\"era\"].rank(ascending=False, method=\"min\")\n",
    "        self.agg_df[\"whip_rank\"] = self.agg_df.groupby([\"date\"])[\"whip\"].rank(ascending=False, method=\"min\")\n",
    "        # 規定打席\n",
    "        # teamBoxScores = mlb_train_ds.train_tbs.copy()\n",
    "        # teamBoxScores[\"year\"] = pd.to_datetime(teamBoxScores[\"gameDate\"]).dt.year\n",
    "        # teamBoxScores_agg_df = teamBoxScores.groupby([\"year\", \"teamId\", \"date\"], as_index=False)[\"gamePk\"].nunique()\n",
    "        # teamBoxScores_agg_df[\"gamePk_cumsum\"] = teamBoxScores_agg_df.groupby([\"teamId\", \"year\"])[\"gamePk\"].cumsum()\n",
    "        # self.agg_df = self.agg_df.merge(teamBoxScores_agg_df, on=[\"date\"])\n",
    "        \n",
    "        # self.agg_df = reduce_mem_usage(self.agg_df)\n",
    "\n",
    "\n",
    "        return merge_by_key(input_df, self.agg_df.drop(columns=[\"year\"], axis=1)).add_prefix(\"PlayerStats_\")\n",
    "\n",
    "\n",
    "class AwardsCountBlock(BaseBlock):\n",
    "    def transform(self, input_df: pd.DataFrame):\n",
    "        awards_df = mlb_train_ds.train_awards.copy()\n",
    "        self.agg_df = pd.crosstab([awards_df[\"date\"], awards_df[\"playerId\"]], awards_df[\"awardId\"]).reset_index()\n",
    "\n",
    "        output_df = merge_by_key(input_df, self.agg_df).fillna(0).astype(int)\n",
    "        output_df[\"total_awards\"] = output_df.sum(axis=1)\n",
    "        return output_df.add_prefix(\"AwardsCount_\")\n",
    "\n",
    "\n",
    "def convert_cos(x, range):\n",
    "    return np.cos(2 * np.pi * (x / range))\n",
    "\n",
    "\n",
    "def convert_sin(x, range):\n",
    "    return np.sin(2 * np.pi * (x / range))\n",
    "\n",
    "\n",
    "class Datetime2trigonometricEncodingBlock(BaseBlock):\n",
    "    def transform(self, input_df: pd.DataFrame):\n",
    "        target_df = input_df.copy()\n",
    "        target_df[\"day\"] = pd.to_datetime(target_df[\"date\"].astype(str), format=\"%Y%m%d\").dt.day\n",
    "        target_df[\"dow\"] = pd.to_datetime(target_df[\"date\"].astype(str), format=\"%Y%m%d\").dt.dayofweek\n",
    "\n",
    "        target_df[\"day2cos\"] = target_df[\"day\"].apply(lambda x: convert_cos(x, 31))\n",
    "        target_df[\"day2sin\"] = target_df[\"day\"].apply(lambda x: convert_sin(x, 31))\n",
    "        target_df[\"dow2cos\"] = target_df[\"dow\"].apply(lambda x: convert_cos(x, 7))\n",
    "        target_df[\"dow2sin\"] = target_df[\"dow\"].apply(lambda x: convert_sin(x, 7))\n",
    "\n",
    "        return target_df[[\"day2cos\", \"day2sin\", \"dow2cos\", \"dow2sin\"]].add_prefix(\"DatetimeEncoding_\")"
   ],
   "outputs": [],
   "metadata": {}
  },
  {
   "cell_type": "code",
   "execution_count": 9,
   "source": [
    "def create_train_feature(input_df: pd.DataFrame, y: np.ndarray, update_blocks: list, non_update_blocks: list) -> pd.DataFrame:\n",
    "    feat_df = pd.DataFrame()\n",
    "    blocks = update_blocks + non_update_blocks\n",
    "\n",
    "    for block in blocks:\n",
    "        with timer(name=f\"{str(block) + '_fit'}\", logger=logger):\n",
    "            try:\n",
    "                out_feat_block = block.fit(input_df, y=y)\n",
    "            except Exception as e:\n",
    "                print(f\"Error on {block} fit.\")\n",
    "                raise e from e\n",
    "\n",
    "            assert len(out_feat_block) == len(input_df), block\n",
    "\n",
    "        feat_df = pd.concat([feat_df, out_feat_block], axis=1)\n",
    "\n",
    "    return feat_df\n",
    "\n",
    "\n",
    "def create_test_feature(input_df: pd.DataFrame, update_blocks: list, non_update_blocks: list) -> pd.DataFrame:\n",
    "    is_update = True if len(update_blocks) != 0 else False\n",
    "    update_feat_df = pd.DataFrame()\n",
    "    non_update_feat_df = pd.DataFrame()\n",
    "    \n",
    "    if is_update:\n",
    "        for block in update_blocks:\n",
    "            with timer(name=f\"{str(block) + '_update'}\", logger=logger):\n",
    "                try:\n",
    "                    out_feat_block = block.fit(input_df)\n",
    "                except Exception as e:\n",
    "                    print(f\"Error on {block} transform.\")\n",
    "                    raise e from e\n",
    "\n",
    "            update_feat_df = pd.concat([update_feat_df, out_feat_block], axis=1)\n",
    "        \n",
    "\n",
    "    for block in non_update_blocks:\n",
    "        with timer(name=f\"{str(block) + '_transform'}\", logger=logger):\n",
    "            try:\n",
    "                out_feat_block = block.transform(input_df)\n",
    "            except Exception as e:\n",
    "                print(f\"Error on {block} transform.\")\n",
    "                raise e from e\n",
    "\n",
    "            assert len(out_feat_block) == len(input_df), block\n",
    "\n",
    "        non_update_feat_df = pd.concat([non_update_feat_df, out_feat_block], axis=1)\n",
    "\n",
    "    feat_df = pd.concat([update_feat_df, non_update_feat_df], axis=1) if is_update else non_update_feat_df\n",
    "\n",
    "    return feat_df"
   ],
   "outputs": [],
   "metadata": {}
  },
  {
   "cell_type": "markdown",
   "source": [
    "## CV"
   ],
   "metadata": {}
  },
  {
   "cell_type": "code",
   "execution_count": 10,
   "source": [
    "def get_timeseries_holdout(train_df: pd.DataFrame, valid_start_date: int) -> List[tuple]:\n",
    "    fold = []\n",
    "    train_idx = np.array(train_df[train_df[\"date\"] < valid_start_date].index)\n",
    "    valid_idx = np.array(train_df[train_df[\"date\"] >= valid_start_date].index)\n",
    "    fold.append((train_idx, valid_idx))\n",
    "\n",
    "    return fold"
   ],
   "outputs": [],
   "metadata": {}
  },
  {
   "cell_type": "markdown",
   "source": [
    "## Model"
   ],
   "metadata": {}
  },
  {
   "cell_type": "code",
   "execution_count": 11,
   "source": [
    "class LightGBMTrainer:\n",
    "    def __init__(self, params: dict, seeds: List[int]):\n",
    "        self.params = params\n",
    "        self.seeds = seeds\n",
    "        self.models = []\n",
    "\n",
    "    def fit(self, X_train: np.ndarray, y_train: np.ndarray, cv: List[tuple]):\n",
    "        oof_all = []\n",
    "        for i, seed in enumerate(self.seeds):\n",
    "            self.params[\"seed\"] = seed\n",
    "\n",
    "            for train_idx, valid_idx in cv:\n",
    "                X_train_fold = X_train[train_idx]\n",
    "                X_valid_fold = X_train[valid_idx]\n",
    "\n",
    "                y_train_fold = y_train[train_idx]\n",
    "                y_valid_fold = y_train[valid_idx]\n",
    "\n",
    "                train_set = lgb.Dataset(X_train_fold, y_train_fold)\n",
    "                valid_set = lgb.Dataset(X_valid_fold, y_valid_fold, reference=train_set)\n",
    "\n",
    "                model = lgb.train(\n",
    "                    params=self.params,\n",
    "                    train_set=train_set,\n",
    "                    valid_sets=[train_set, valid_set],\n",
    "                    verbose_eval=100,\n",
    "                )\n",
    "\n",
    "                y_oof = model.predict(X_valid_fold, num_iteration=model.best_iteration)\n",
    "                oof_all.append(y_oof)\n",
    "                self.models.append(model)\n",
    "\n",
    "        oof_all = np.mean(oof_all, axis=0)\n",
    "        oof_score = mean_absolute_error(oof_all, y_valid_fold)\n",
    "\n",
    "        return oof_score, self.models\n",
    "\n",
    "    def predict(self, X_test: np.ndarray):\n",
    "        y_pred = np.mean([model.predict(X_test, num_iteration=model.best_iteration) for model in self.models], axis=0)\n",
    "\n",
    "        return y_pred\n",
    "\n",
    "\n",
    "def run_lgb(X_train, targets, params, seeds, fold):\n",
    "    cv_scores = []\n",
    "    models = []\n",
    "\n",
    "    for i, target in enumerate(targets):\n",
    "        print(f\"Training for Target{i+1}\")\n",
    "        trainer = LightGBMTrainer(params, seeds)\n",
    "        oof_score_tmp, models_tmp = trainer.fit(X_train, target, fold)\n",
    "        cv_scores.append(oof_score_tmp)\n",
    "        models.append(models_tmp)\n",
    "        print(f\"Local Target{i+1} OOF-MAE : {np.mean(oof_score_tmp)}\")\n",
    "        print(\"-\"*50)\n",
    "\n",
    "    print(f\"Local MCMAE : {np.mean(cv_scores)}\")\n",
    "\n",
    "    return models"
   ],
   "outputs": [],
   "metadata": {}
  },
  {
   "cell_type": "markdown",
   "source": [
    "## Training"
   ],
   "metadata": {}
  },
  {
   "cell_type": "code",
   "execution_count": 12,
   "source": [
    "# set-up logger\n",
    "logger = get_logger()\n",
    "\n",
    "# create feature\n",
    "update_blocks = []\n",
    "non_update_blocks = [\n",
    "    TargetAggregateBlock(periods=[\n",
    "        # 20210201,\n",
    "        # 20210301,\n",
    "        20210401,\n",
    "    ]),\n",
    "    RostersLabelEncodingBlock(columns=[\n",
    "        \"teamId\",\n",
    "        \"status\"\n",
    "    ]),\n",
    "    PlayersLabelEncodingBlock(columns=[\n",
    "        \"birthCountry\",\n",
    "        # \"birthCity\",\n",
    "        # \"birthStateProvince\",\n",
    "        # \"heightInches\",\n",
    "        # \"weight\",\n",
    "        \"primaryPositionCode\",\n",
    "        # \"playerAge\"\n",
    "    ]),\n",
    "    PlayerStatsBlock(),\n",
    "    # AwardsCountBlock(),\n",
    "    # TeamBoxScoresCountBlock(columns=[\n",
    "    #     # 'date',\n",
    "    #     # 'home',\n",
    "    #     # 'teamId',\n",
    "    #     # 'gamePk',\n",
    "    #     # 'gameDate',\n",
    "    #     # 'gameTimeUTC',\n",
    "    #     'flyOuts',\n",
    "    #     'groundOuts',\n",
    "    #     'runsScored',\n",
    "    #     'doubles',\n",
    "    #     'triples',\n",
    "    #     'homeRuns',\n",
    "    #     'strikeOuts',\n",
    "    #     'baseOnBalls',\n",
    "    #     'intentionalWalks',\n",
    "    #     'hits',\n",
    "    #     'hitByPitch',\n",
    "    #     'atBats',\n",
    "    #     'caughtStealing',\n",
    "    #     'stolenBases',\n",
    "    #     'groundIntoDoublePlay',\n",
    "    #     'groundIntoTriplePlay',\n",
    "    #     'plateAppearances',\n",
    "    #     'totalBases',\n",
    "    #     'rbi',\n",
    "    #     'leftOnBase',\n",
    "    #     'sacBunts',\n",
    "    #     'sacFlies',\n",
    "    #     'catchersInterference',\n",
    "    #     'pickoffs',\n",
    "    #     'airOutsPitching',\n",
    "    #     'groundOutsPitching',\n",
    "    #     'runsPitching',\n",
    "    #     'doublesPitching',\n",
    "    #     'triplesPitching',\n",
    "    #     'homeRunsPitching',\n",
    "    #     'strikeOutsPitching',\n",
    "    #     'baseOnBallsPitching',\n",
    "    #     'intentionalWalksPitching',\n",
    "    #     'hitsPitching',\n",
    "    #     'hitByPitchPitching',\n",
    "    #     'atBatsPitching',\n",
    "    #     'caughtStealingPitching',\n",
    "    #     'stolenBasesPitching',\n",
    "    #     'inningsPitched',\n",
    "    #     'earnedRuns',\n",
    "    #     'battersFaced',\n",
    "    #     'outsPitching',\n",
    "    #     'hitBatsmen',\n",
    "    #     'balks',\n",
    "    #     'wildPitches',\n",
    "    #     'pickoffsPitching',\n",
    "    #     'rbiPitching',\n",
    "    #     'inheritedRunners',\n",
    "    #     'inheritedRunnersScored',\n",
    "    #     'catchersInterferencePitching',\n",
    "    #     'sacBuntsPitching',\n",
    "    #     'sacFliesPitching'\n",
    "    #     ]\n",
    "    # ),\n",
    "    GamesCountBlock(columns=[\n",
    "        # 'date',\n",
    "        # 'gamePk',\n",
    "        # 'gameType',\n",
    "        # 'season',\n",
    "        # 'gameDate',\n",
    "        # 'gameTimeUTC',\n",
    "        # 'resumeDate',\n",
    "        # 'resumedFrom',\n",
    "        # 'codedGameState',\n",
    "        # 'detailedGameState',\n",
    "        'isTie',\n",
    "        'gameNumber',\n",
    "        'doubleHeader',\n",
    "        # 'dayNight',\n",
    "        'scheduledInnings',\n",
    "        'gamesInSeries',\n",
    "        # 'seriesDescription',\n",
    "        'homeId',\n",
    "        # 'homeName',\n",
    "        # 'homeAbbrev',\n",
    "        'homeWins',\n",
    "        'homeLosses',\n",
    "        'homeWinPct',\n",
    "        'homeWinner',\n",
    "        'homeScore',\n",
    "        'awayId',\n",
    "        # 'awayName',\n",
    "        # 'awayAbbrev',\n",
    "        'awayWins',\n",
    "        'awayLosses',\n",
    "        'awayWinPct',\n",
    "        'awayWinner',\n",
    "        'awayScore'\n",
    "        ]\n",
    "    ),\n",
    "    PlayerTwitterFollowerAggregateBlock(),\n",
    "    StandingsMetaBlock(columns=[\n",
    "        'playerId',\n",
    "        'date',\n",
    "        # 'season',\n",
    "        # 'gameDate',\n",
    "        'divisionId',\n",
    "        # 'teamId',\n",
    "        # 'teamName',\n",
    "        # 'streakCode',\n",
    "        'divisionRank',\n",
    "        'leagueRank',\n",
    "        'wildCardRank',\n",
    "        # 'leagueGamesBack',\n",
    "        # 'sportGamesBack',\n",
    "        # 'divisionGamesBack',\n",
    "        'wins',\n",
    "        'losses',\n",
    "        'pct',\n",
    "        'runsAllowed',\n",
    "        'runsScored',\n",
    "        # 'divisionChamp',\n",
    "        # 'divisionLeader',\n",
    "        # 'wildCardLeader',\n",
    "        # 'eliminationNumber',\n",
    "        # 'wildCardEliminationNumber',\n",
    "        'homeWins',\n",
    "        'homeLosses',\n",
    "        'awayWins',\n",
    "        'awayLosses',\n",
    "        'lastTenWins',\n",
    "        'lastTenLosses',\n",
    "        'extraInningWins',\n",
    "        'extraInningLosses',\n",
    "        'oneRunWins',\n",
    "        'oneRunLosses',\n",
    "        'dayWins',\n",
    "        'dayLosses',\n",
    "        'nightWins',\n",
    "        'nightLosses',\n",
    "        'grassWins',\n",
    "        'grassLosses',\n",
    "        'turfWins',\n",
    "        'turfLosses',\n",
    "        'divWins',\n",
    "        'divLosses',\n",
    "        'alWins',\n",
    "        'alLosses',\n",
    "        'nlWins',\n",
    "        'nlLosses',\n",
    "        'xWinLossPct'\n",
    "        ]\n",
    "    ),\n",
    "    Datetime2trigonometricEncodingBlock(),\n",
    "]\n",
    "\n",
    "y = mlb_train_ds.train_next[\"target1\"].values\n",
    "input_df = mlb_train_ds.train_next[CFG.OBJECT_ID].copy()\n",
    "train_feat_df = create_train_feature(input_df, y, update_blocks, non_update_blocks)\n",
    "X_train = train_feat_df.values\n",
    "targets = [mlb_train_ds.train_next[col].values for col in CFG.TARGETS]\n",
    "\n",
    "# split train/valid\n",
    "fold = get_timeseries_holdout(input_df, valid_start_date=20210401)\n",
    "\n",
    "# training\n",
    "models = run_lgb(X_train, targets, CFG.LGB_PARAMS, CFG.SEEDS, fold)"
   ],
   "outputs": [
    {
     "output_type": "stream",
     "name": "stdout",
     "text": [
      "[2021-07-20 23:36:04,493] [INFO] [logger set up]\n",
      "[2021-07-20 23:36:04,545] [INFO] [<<__main__.TargetAggregateBlock object at 0x10b3321f0>_fit> start]\n"
     ]
    },
    {
     "output_type": "stream",
     "name": "stderr",
     "text": [
      "/Users/azupero/data-science/kaggle/MLB-Player-Digital-Engagement-Forecasting/.venv/lib/python3.8/site-packages/scipy/stats/_distn_infrastructure.py:1870: RuntimeWarning: invalid value encountered in double_scalars\n",
      "  x = np.asarray((x - loc)/scale, dtype=dtyp)\n"
     ]
    },
    {
     "output_type": "stream",
     "name": "stdout",
     "text": [
      "[2021-07-20 23:36:47,084] [INFO] [<<__main__.TargetAggregateBlock object at 0x10b3321f0>_fit> done in 42.54 s]\n",
      "[2021-07-20 23:36:47,153] [INFO] [<<__main__.RostersLabelEncodingBlock object at 0x1ccaa7fd0>_fit> start]\n",
      "[2021-07-20 23:36:48,389] [INFO] [<<__main__.RostersLabelEncodingBlock object at 0x1ccaa7fd0>_fit> done in 1.24 s]\n",
      "[2021-07-20 23:36:48,637] [INFO] [<<__main__.PlayersLabelEncodingBlock object at 0x1ccaa7e20>_fit> start]\n",
      "[2021-07-20 23:36:48,912] [INFO] [<<__main__.PlayersLabelEncodingBlock object at 0x1ccaa7e20>_fit> done in 0.28 s]\n",
      "[2021-07-20 23:36:49,234] [INFO] [<<__main__.PlayerStatsBlock object at 0x129433a90>_fit> start]\n",
      "[2021-07-20 23:37:02,298] [INFO] [<<__main__.PlayerStatsBlock object at 0x129433a90>_fit> done in 13.06 s]\n",
      "[2021-07-20 23:37:03,872] [INFO] [<<__main__.GamesCountBlock object at 0x129433f40>_fit> start]\n",
      "[2021-07-20 23:37:05,228] [INFO] [<<__main__.GamesCountBlock object at 0x129433f40>_fit> done in 1.36 s]\n",
      "[2021-07-20 23:37:10,069] [INFO] [<<__main__.PlayerTwitterFollowerAggregateBlock object at 0x1cbfb7160>_fit> start]\n",
      "[2021-07-20 23:37:11,582] [INFO] [<<__main__.PlayerTwitterFollowerAggregateBlock object at 0x1cbfb7160>_fit> done in 1.51 s]\n",
      "[2021-07-20 23:37:16,677] [INFO] [<<__main__.StandingsMetaBlock object at 0x1cbfb7850>_fit> start]\n",
      "[2021-07-20 23:37:21,967] [INFO] [<<__main__.StandingsMetaBlock object at 0x1cbfb7850>_fit> done in 5.29 s]\n",
      "[2021-07-20 23:37:27,489] [INFO] [<<__main__.Datetime2trigonometricEncodingBlock object at 0x1cbfb7af0>_fit> start]\n",
      "[2021-07-20 23:37:42,243] [INFO] [<<__main__.Datetime2trigonometricEncodingBlock object at 0x1cbfb7af0>_fit> done in 14.75 s]\n",
      "Training for Target1\n"
     ]
    },
    {
     "output_type": "stream",
     "name": "stderr",
     "text": [
      "/Users/azupero/data-science/kaggle/MLB-Player-Digital-Engagement-Forecasting/.venv/lib/python3.8/site-packages/lightgbm/engine.py:148: UserWarning: Found `num_iterations` in params. Will use it instead of argument\n",
      "  _log_warning(\"Found `{}` in params. Will use it instead of argument\".format(alias))\n",
      "/Users/azupero/data-science/kaggle/MLB-Player-Digital-Engagement-Forecasting/.venv/lib/python3.8/site-packages/lightgbm/engine.py:153: UserWarning: Found `early_stopping_round` in params. Will use it instead of argument\n",
      "  _log_warning(\"Found `{}` in params. Will use it instead of argument\".format(alias))\n"
     ]
    },
    {
     "output_type": "stream",
     "name": "stdout",
     "text": [
      "Training until validation scores don't improve for 100 rounds\n",
      "[100]\ttraining's l1: 0.514063\tvalid_1's l1: 0.695146\n",
      "[200]\ttraining's l1: 0.512809\tvalid_1's l1: 0.691513\n",
      "Early stopping, best iteration is:\n",
      "[180]\ttraining's l1: 0.512815\tvalid_1's l1: 0.691511\n",
      "Training until validation scores don't improve for 100 rounds\n",
      "[100]\ttraining's l1: 0.513705\tvalid_1's l1: 0.69736\n",
      "[200]\ttraining's l1: 0.511544\tvalid_1's l1: 0.691402\n",
      "[300]\ttraining's l1: 0.50977\tvalid_1's l1: 0.687689\n",
      "[400]\ttraining's l1: 0.509001\tvalid_1's l1: 0.686179\n",
      "[500]\ttraining's l1: 0.508971\tvalid_1's l1: 0.686264\n",
      "Early stopping, best iteration is:\n",
      "[400]\ttraining's l1: 0.509001\tvalid_1's l1: 0.686179\n",
      "Local Target1 OOF-MAE : 0.6880410284041979\n",
      "--------------------------------------------------\n",
      "Training for Target2\n"
     ]
    },
    {
     "output_type": "stream",
     "name": "stderr",
     "text": [
      "/Users/azupero/data-science/kaggle/MLB-Player-Digital-Engagement-Forecasting/.venv/lib/python3.8/site-packages/lightgbm/engine.py:148: UserWarning: Found `num_iterations` in params. Will use it instead of argument\n",
      "  _log_warning(\"Found `{}` in params. Will use it instead of argument\".format(alias))\n",
      "/Users/azupero/data-science/kaggle/MLB-Player-Digital-Engagement-Forecasting/.venv/lib/python3.8/site-packages/lightgbm/engine.py:153: UserWarning: Found `early_stopping_round` in params. Will use it instead of argument\n",
      "  _log_warning(\"Found `{}` in params. Will use it instead of argument\".format(alias))\n"
     ]
    },
    {
     "output_type": "stream",
     "name": "stdout",
     "text": [
      "Training until validation scores don't improve for 100 rounds\n",
      "[100]\ttraining's l1: 1.71265\tvalid_1's l1: 1.43363\n",
      "Early stopping, best iteration is:\n",
      "[57]\ttraining's l1: 1.73025\tvalid_1's l1: 1.42808\n",
      "Training until validation scores don't improve for 100 rounds\n",
      "[100]\ttraining's l1: 1.71953\tvalid_1's l1: 1.42661\n",
      "Early stopping, best iteration is:\n",
      "[56]\ttraining's l1: 1.73235\tvalid_1's l1: 1.42359\n",
      "Local Target2 OOF-MAE : 1.4237210285778295\n",
      "--------------------------------------------------\n",
      "Training for Target3\n"
     ]
    },
    {
     "output_type": "stream",
     "name": "stderr",
     "text": [
      "/Users/azupero/data-science/kaggle/MLB-Player-Digital-Engagement-Forecasting/.venv/lib/python3.8/site-packages/lightgbm/engine.py:148: UserWarning: Found `num_iterations` in params. Will use it instead of argument\n",
      "  _log_warning(\"Found `{}` in params. Will use it instead of argument\".format(alias))\n",
      "/Users/azupero/data-science/kaggle/MLB-Player-Digital-Engagement-Forecasting/.venv/lib/python3.8/site-packages/lightgbm/engine.py:153: UserWarning: Found `early_stopping_round` in params. Will use it instead of argument\n",
      "  _log_warning(\"Found `{}` in params. Will use it instead of argument\".format(alias))\n"
     ]
    },
    {
     "output_type": "stream",
     "name": "stdout",
     "text": [
      "Training until validation scores don't improve for 100 rounds\n",
      "[100]\ttraining's l1: 0.673361\tvalid_1's l1: 0.547411\n",
      "[200]\ttraining's l1: 0.671366\tvalid_1's l1: 0.546522\n",
      "[300]\ttraining's l1: 0.669383\tvalid_1's l1: 0.5459\n",
      "Early stopping, best iteration is:\n",
      "[247]\ttraining's l1: 0.6702\tvalid_1's l1: 0.545568\n",
      "Training until validation scores don't improve for 100 rounds\n",
      "[100]\ttraining's l1: 0.67367\tvalid_1's l1: 0.547715\n",
      "[200]\ttraining's l1: 0.671983\tvalid_1's l1: 0.547344\n",
      "[300]\ttraining's l1: 0.670514\tvalid_1's l1: 0.546439\n",
      "[400]\ttraining's l1: 0.669714\tvalid_1's l1: 0.546186\n",
      "Early stopping, best iteration is:\n",
      "[366]\ttraining's l1: 0.669793\tvalid_1's l1: 0.546116\n",
      "Local Target3 OOF-MAE : 0.5454177725530802\n",
      "--------------------------------------------------\n",
      "Training for Target4\n"
     ]
    },
    {
     "output_type": "stream",
     "name": "stderr",
     "text": [
      "/Users/azupero/data-science/kaggle/MLB-Player-Digital-Engagement-Forecasting/.venv/lib/python3.8/site-packages/lightgbm/engine.py:148: UserWarning: Found `num_iterations` in params. Will use it instead of argument\n",
      "  _log_warning(\"Found `{}` in params. Will use it instead of argument\".format(alias))\n",
      "/Users/azupero/data-science/kaggle/MLB-Player-Digital-Engagement-Forecasting/.venv/lib/python3.8/site-packages/lightgbm/engine.py:153: UserWarning: Found `early_stopping_round` in params. Will use it instead of argument\n",
      "  _log_warning(\"Found `{}` in params. Will use it instead of argument\".format(alias))\n"
     ]
    },
    {
     "output_type": "stream",
     "name": "stdout",
     "text": [
      "Training until validation scores don't improve for 100 rounds\n",
      "[100]\ttraining's l1: 0.798411\tvalid_1's l1: 1.11892\n",
      "[200]\ttraining's l1: 0.793191\tvalid_1's l1: 1.11318\n",
      "[300]\ttraining's l1: 0.787159\tvalid_1's l1: 1.11059\n",
      "[400]\ttraining's l1: 0.778059\tvalid_1's l1: 1.10571\n",
      "[500]\ttraining's l1: 0.769681\tvalid_1's l1: 1.10838\n",
      "Early stopping, best iteration is:\n",
      "[447]\ttraining's l1: 0.773765\tvalid_1's l1: 1.1049\n",
      "Training until validation scores don't improve for 100 rounds\n",
      "[100]\ttraining's l1: 0.798414\tvalid_1's l1: 1.11474\n",
      "[200]\ttraining's l1: 0.788289\tvalid_1's l1: 1.10596\n",
      "[300]\ttraining's l1: 0.778791\tvalid_1's l1: 1.10648\n",
      "Early stopping, best iteration is:\n",
      "[243]\ttraining's l1: 0.784621\tvalid_1's l1: 1.1044\n",
      "Local Target4 OOF-MAE : 1.1027088791068473\n",
      "--------------------------------------------------\n",
      "Local MCMAE : 0.9399721771604888\n"
     ]
    }
   ],
   "metadata": {}
  },
  {
   "cell_type": "code",
   "execution_count": 13,
   "source": [
    "def visualize_feature_importance(models, feat_train_df) -> plotly.graph_objects.Figure:\n",
    "    '''LightGBMのfeature importanceを可視化\n",
    "    '''\n",
    "    for target_i in range(len(models)):\n",
    "        feature_importance_df = pd.DataFrame()\n",
    "        for i, model in enumerate(models[target_i]):\n",
    "            _df = pd.DataFrame()\n",
    "            _df['feature_importance'] = model.feature_importance(importance_type=\"gain\")\n",
    "            _df['feature'] = feat_train_df.columns\n",
    "            _df['model_no'] = i + 1\n",
    "            feature_importance_df = pd.concat([feature_importance_df, _df], \n",
    "                                            axis=0, ignore_index=True)\n",
    "\n",
    "        order = feature_importance_df.groupby('feature')\\\n",
    "            .mean()[['feature_importance']]\\\n",
    "            .sort_values('feature_importance', ascending=False).index[:50]\n",
    "        \n",
    "        fig = px.box(\n",
    "            feature_importance_df.query(\"feature in @order\"),\n",
    "            x=\"feature_importance\",\n",
    "            y=\"feature\",\n",
    "            category_orders={\"feature\": order},\n",
    "            width=1250,\n",
    "            height=900,\n",
    "            title=f\"Target{target_i+1} Top 50 feature importance\",\n",
    "        )\n",
    "        fig.update_yaxes(showgrid=True)\n",
    "        fig.show()"
   ],
   "outputs": [],
   "metadata": {}
  },
  {
   "cell_type": "code",
   "execution_count": 14,
   "source": [
    "visualize_feature_importance(models, train_feat_df)"
   ],
   "outputs": [
    {
     "output_type": "display_data",
     "data": {
      "application/vnd.plotly.v1+json": {
       "config": {
        "plotlyServerURL": "https://plot.ly"
       },
       "data": [
        {
         "alignmentgroup": "True",
         "hovertemplate": "feature_importance=%{x}<br>feature=%{y}<extra></extra>",
         "legendgroup": "",
         "marker": {
          "color": "#636efa"
         },
         "name": "",
         "notched": false,
         "offsetgroup": "",
         "orientation": "h",
         "showlegend": false,
         "type": "box",
         "x": [
          6302732.248037338,
          676178.384552002,
          189327.33576202393,
          396587.4516220093,
          318477.63090133667,
          152295.80377197266,
          1237913.568511963,
          100822.051612854,
          268816.83808898926,
          316863.47984695435,
          528629.6791877747,
          145880.57187652588,
          134710.26956558228,
          266657.8105773926,
          222360.04119873047,
          128469.40297317505,
          70651.48994064331,
          54338.459884643555,
          21108.46466064453,
          176978.92529296875,
          15444.474411010742,
          19014.332710266113,
          20717.396575927734,
          46763.05250930786,
          245848.14365005493,
          80660.92102050781,
          73002.47230529785,
          5808135.408653259,
          839363.1014633179,
          711050.170829773,
          182411.11163330078,
          299963.1486339569,
          5759809.169055939,
          7467102.755767822,
          29437.782917022705,
          377012.71434783936,
          3891975.8211021423,
          33140.675830841064,
          382503.6752510071,
          209415.1107082367,
          870416.6898956299,
          101780.74617004395,
          67096.76162719727,
          179815.48915100098,
          399611.18743896484,
          22616.818801879883,
          24599.791618347168,
          38545.47988128662,
          54908.11515045166,
          25041.25624847412,
          16338190.007231712,
          3173598.1506319046,
          227357.8448524475,
          446814.84881591797,
          308401.007396698,
          237482.03398132324,
          3396926.3114204407,
          148328.21352767944,
          731503.7043323517,
          351872.07741737366,
          592571.993522644,
          527523.0798683167,
          380241.3053474426,
          740627.6455802917,
          623832.4541683197,
          251060.2891254425,
          211098.83995056152,
          120159.22456812859,
          77219.3454990387,
          162593.3006515503,
          22624.286502838135,
          30142.704917907715,
          98905.68492507935,
          159773.37898254395,
          313250.1739091873,
          169599.06329154968,
          265056.43379879,
          10186472.63145256,
          1088471.3432350159,
          860600.9963226318,
          227712.26920890808,
          674071.730966568,
          6219690.979395866,
          16286242.558131218,
          101936.49785041809,
          1219266.888223648,
          8667229.700946808,
          27812.13035583496,
          472724.0123052597,
          305747.16437768936,
          2063356.1258478165,
          637627.0861053467,
          342865.8741264343,
          649239.6289768219,
          2961039.9958496094,
          24024.41812324524,
          32046.393508911133,
          14294.109399795532,
          33882.66560268402,
          10954.90653705597
         ],
         "x0": " ",
         "xaxis": "x",
         "y": [
          "target1_202104_mean",
          "target1_202104_std",
          "target1_202104_max",
          "target1_202104_min",
          "target1_202104_median",
          "target1_202104_quantile25",
          "target1_202104_quantile75",
          "target1_202104_prob",
          "target2_202104_mean",
          "target2_202104_std",
          "target2_202104_max",
          "target2_202104_min",
          "target2_202104_median",
          "target2_202104_quantile25",
          "target2_202104_quantile75",
          "target2_202104_prob",
          "target3_202104_mean",
          "target3_202104_std",
          "target3_202104_max",
          "target3_202104_min",
          "target3_202104_median",
          "target3_202104_quantile25",
          "target3_202104_quantile75",
          "target3_202104_prob",
          "target4_202104_mean",
          "target4_202104_std",
          "target4_202104_max",
          "target4_202104_min",
          "target4_202104_median",
          "target4_202104_quantile25",
          "target4_202104_quantile75",
          "target4_202104_prob",
          "Rosters_LE_teamId",
          "Rosters_LE_status",
          "Players_LE_birthCountry",
          "Players_LE_primaryPositionCode",
          "Players_LE_playerid",
          "PlayerStats_rbi",
          "PlayerTwitterFollowerAggregate_mean",
          "PlayerTwitterFollowerAggregate_std",
          "PlayerTwitterFollowerAggregate_max",
          "PlayerTwitterFollowerAggregate_min",
          "PlayerTwitterFollowerAggregate_median",
          "PlayerTwitterFollowerAggregate_quantile25",
          "PlayerTwitterFollowerAggregate_quantile75",
          "StandingsMeta_runsAllowed",
          "StandingsMeta_runsScored",
          "StandingsMeta_turfWins",
          "StandingsMeta_divLosses",
          "DatetimeEncoding_dow2sin",
          "target1_202104_mean",
          "target1_202104_std",
          "target1_202104_max",
          "target1_202104_min",
          "target1_202104_median",
          "target1_202104_quantile25",
          "target1_202104_quantile75",
          "target1_202104_prob",
          "target2_202104_mean",
          "target2_202104_std",
          "target2_202104_max",
          "target2_202104_min",
          "target2_202104_median",
          "target2_202104_quantile25",
          "target2_202104_quantile75",
          "target2_202104_prob",
          "target3_202104_mean",
          "target3_202104_std",
          "target3_202104_max",
          "target3_202104_min",
          "target3_202104_median",
          "target3_202104_quantile25",
          "target3_202104_quantile75",
          "target3_202104_prob",
          "target4_202104_mean",
          "target4_202104_std",
          "target4_202104_max",
          "target4_202104_min",
          "target4_202104_median",
          "target4_202104_quantile25",
          "target4_202104_quantile75",
          "target4_202104_prob",
          "Rosters_LE_teamId",
          "Rosters_LE_status",
          "Players_LE_birthCountry",
          "Players_LE_primaryPositionCode",
          "Players_LE_playerid",
          "PlayerStats_rbi",
          "PlayerTwitterFollowerAggregate_mean",
          "PlayerTwitterFollowerAggregate_std",
          "PlayerTwitterFollowerAggregate_max",
          "PlayerTwitterFollowerAggregate_min",
          "PlayerTwitterFollowerAggregate_median",
          "PlayerTwitterFollowerAggregate_quantile25",
          "PlayerTwitterFollowerAggregate_quantile75",
          "StandingsMeta_runsAllowed",
          "StandingsMeta_runsScored",
          "StandingsMeta_turfWins",
          "StandingsMeta_divLosses",
          "DatetimeEncoding_dow2sin"
         ],
         "y0": " ",
         "yaxis": "y"
        }
       ],
       "layout": {
        "boxmode": "group",
        "height": 900,
        "legend": {
         "tracegroupgap": 0
        },
        "template": {
         "data": {
          "bar": [
           {
            "error_x": {
             "color": "#2a3f5f"
            },
            "error_y": {
             "color": "#2a3f5f"
            },
            "marker": {
             "line": {
              "color": "#E5ECF6",
              "width": 0.5
             }
            },
            "type": "bar"
           }
          ],
          "barpolar": [
           {
            "marker": {
             "line": {
              "color": "#E5ECF6",
              "width": 0.5
             }
            },
            "type": "barpolar"
           }
          ],
          "carpet": [
           {
            "aaxis": {
             "endlinecolor": "#2a3f5f",
             "gridcolor": "white",
             "linecolor": "white",
             "minorgridcolor": "white",
             "startlinecolor": "#2a3f5f"
            },
            "baxis": {
             "endlinecolor": "#2a3f5f",
             "gridcolor": "white",
             "linecolor": "white",
             "minorgridcolor": "white",
             "startlinecolor": "#2a3f5f"
            },
            "type": "carpet"
           }
          ],
          "choropleth": [
           {
            "colorbar": {
             "outlinewidth": 0,
             "ticks": ""
            },
            "type": "choropleth"
           }
          ],
          "contour": [
           {
            "colorbar": {
             "outlinewidth": 0,
             "ticks": ""
            },
            "colorscale": [
             [
              0,
              "#0d0887"
             ],
             [
              0.1111111111111111,
              "#46039f"
             ],
             [
              0.2222222222222222,
              "#7201a8"
             ],
             [
              0.3333333333333333,
              "#9c179e"
             ],
             [
              0.4444444444444444,
              "#bd3786"
             ],
             [
              0.5555555555555556,
              "#d8576b"
             ],
             [
              0.6666666666666666,
              "#ed7953"
             ],
             [
              0.7777777777777778,
              "#fb9f3a"
             ],
             [
              0.8888888888888888,
              "#fdca26"
             ],
             [
              1,
              "#f0f921"
             ]
            ],
            "type": "contour"
           }
          ],
          "contourcarpet": [
           {
            "colorbar": {
             "outlinewidth": 0,
             "ticks": ""
            },
            "type": "contourcarpet"
           }
          ],
          "heatmap": [
           {
            "colorbar": {
             "outlinewidth": 0,
             "ticks": ""
            },
            "colorscale": [
             [
              0,
              "#0d0887"
             ],
             [
              0.1111111111111111,
              "#46039f"
             ],
             [
              0.2222222222222222,
              "#7201a8"
             ],
             [
              0.3333333333333333,
              "#9c179e"
             ],
             [
              0.4444444444444444,
              "#bd3786"
             ],
             [
              0.5555555555555556,
              "#d8576b"
             ],
             [
              0.6666666666666666,
              "#ed7953"
             ],
             [
              0.7777777777777778,
              "#fb9f3a"
             ],
             [
              0.8888888888888888,
              "#fdca26"
             ],
             [
              1,
              "#f0f921"
             ]
            ],
            "type": "heatmap"
           }
          ],
          "heatmapgl": [
           {
            "colorbar": {
             "outlinewidth": 0,
             "ticks": ""
            },
            "colorscale": [
             [
              0,
              "#0d0887"
             ],
             [
              0.1111111111111111,
              "#46039f"
             ],
             [
              0.2222222222222222,
              "#7201a8"
             ],
             [
              0.3333333333333333,
              "#9c179e"
             ],
             [
              0.4444444444444444,
              "#bd3786"
             ],
             [
              0.5555555555555556,
              "#d8576b"
             ],
             [
              0.6666666666666666,
              "#ed7953"
             ],
             [
              0.7777777777777778,
              "#fb9f3a"
             ],
             [
              0.8888888888888888,
              "#fdca26"
             ],
             [
              1,
              "#f0f921"
             ]
            ],
            "type": "heatmapgl"
           }
          ],
          "histogram": [
           {
            "marker": {
             "colorbar": {
              "outlinewidth": 0,
              "ticks": ""
             }
            },
            "type": "histogram"
           }
          ],
          "histogram2d": [
           {
            "colorbar": {
             "outlinewidth": 0,
             "ticks": ""
            },
            "colorscale": [
             [
              0,
              "#0d0887"
             ],
             [
              0.1111111111111111,
              "#46039f"
             ],
             [
              0.2222222222222222,
              "#7201a8"
             ],
             [
              0.3333333333333333,
              "#9c179e"
             ],
             [
              0.4444444444444444,
              "#bd3786"
             ],
             [
              0.5555555555555556,
              "#d8576b"
             ],
             [
              0.6666666666666666,
              "#ed7953"
             ],
             [
              0.7777777777777778,
              "#fb9f3a"
             ],
             [
              0.8888888888888888,
              "#fdca26"
             ],
             [
              1,
              "#f0f921"
             ]
            ],
            "type": "histogram2d"
           }
          ],
          "histogram2dcontour": [
           {
            "colorbar": {
             "outlinewidth": 0,
             "ticks": ""
            },
            "colorscale": [
             [
              0,
              "#0d0887"
             ],
             [
              0.1111111111111111,
              "#46039f"
             ],
             [
              0.2222222222222222,
              "#7201a8"
             ],
             [
              0.3333333333333333,
              "#9c179e"
             ],
             [
              0.4444444444444444,
              "#bd3786"
             ],
             [
              0.5555555555555556,
              "#d8576b"
             ],
             [
              0.6666666666666666,
              "#ed7953"
             ],
             [
              0.7777777777777778,
              "#fb9f3a"
             ],
             [
              0.8888888888888888,
              "#fdca26"
             ],
             [
              1,
              "#f0f921"
             ]
            ],
            "type": "histogram2dcontour"
           }
          ],
          "mesh3d": [
           {
            "colorbar": {
             "outlinewidth": 0,
             "ticks": ""
            },
            "type": "mesh3d"
           }
          ],
          "parcoords": [
           {
            "line": {
             "colorbar": {
              "outlinewidth": 0,
              "ticks": ""
             }
            },
            "type": "parcoords"
           }
          ],
          "pie": [
           {
            "automargin": true,
            "type": "pie"
           }
          ],
          "scatter": [
           {
            "marker": {
             "colorbar": {
              "outlinewidth": 0,
              "ticks": ""
             }
            },
            "type": "scatter"
           }
          ],
          "scatter3d": [
           {
            "line": {
             "colorbar": {
              "outlinewidth": 0,
              "ticks": ""
             }
            },
            "marker": {
             "colorbar": {
              "outlinewidth": 0,
              "ticks": ""
             }
            },
            "type": "scatter3d"
           }
          ],
          "scattercarpet": [
           {
            "marker": {
             "colorbar": {
              "outlinewidth": 0,
              "ticks": ""
             }
            },
            "type": "scattercarpet"
           }
          ],
          "scattergeo": [
           {
            "marker": {
             "colorbar": {
              "outlinewidth": 0,
              "ticks": ""
             }
            },
            "type": "scattergeo"
           }
          ],
          "scattergl": [
           {
            "marker": {
             "colorbar": {
              "outlinewidth": 0,
              "ticks": ""
             }
            },
            "type": "scattergl"
           }
          ],
          "scattermapbox": [
           {
            "marker": {
             "colorbar": {
              "outlinewidth": 0,
              "ticks": ""
             }
            },
            "type": "scattermapbox"
           }
          ],
          "scatterpolar": [
           {
            "marker": {
             "colorbar": {
              "outlinewidth": 0,
              "ticks": ""
             }
            },
            "type": "scatterpolar"
           }
          ],
          "scatterpolargl": [
           {
            "marker": {
             "colorbar": {
              "outlinewidth": 0,
              "ticks": ""
             }
            },
            "type": "scatterpolargl"
           }
          ],
          "scatterternary": [
           {
            "marker": {
             "colorbar": {
              "outlinewidth": 0,
              "ticks": ""
             }
            },
            "type": "scatterternary"
           }
          ],
          "surface": [
           {
            "colorbar": {
             "outlinewidth": 0,
             "ticks": ""
            },
            "colorscale": [
             [
              0,
              "#0d0887"
             ],
             [
              0.1111111111111111,
              "#46039f"
             ],
             [
              0.2222222222222222,
              "#7201a8"
             ],
             [
              0.3333333333333333,
              "#9c179e"
             ],
             [
              0.4444444444444444,
              "#bd3786"
             ],
             [
              0.5555555555555556,
              "#d8576b"
             ],
             [
              0.6666666666666666,
              "#ed7953"
             ],
             [
              0.7777777777777778,
              "#fb9f3a"
             ],
             [
              0.8888888888888888,
              "#fdca26"
             ],
             [
              1,
              "#f0f921"
             ]
            ],
            "type": "surface"
           }
          ],
          "table": [
           {
            "cells": {
             "fill": {
              "color": "#EBF0F8"
             },
             "line": {
              "color": "white"
             }
            },
            "header": {
             "fill": {
              "color": "#C8D4E3"
             },
             "line": {
              "color": "white"
             }
            },
            "type": "table"
           }
          ]
         },
         "layout": {
          "annotationdefaults": {
           "arrowcolor": "#2a3f5f",
           "arrowhead": 0,
           "arrowwidth": 1
          },
          "autotypenumbers": "strict",
          "coloraxis": {
           "colorbar": {
            "outlinewidth": 0,
            "ticks": ""
           }
          },
          "colorscale": {
           "diverging": [
            [
             0,
             "#8e0152"
            ],
            [
             0.1,
             "#c51b7d"
            ],
            [
             0.2,
             "#de77ae"
            ],
            [
             0.3,
             "#f1b6da"
            ],
            [
             0.4,
             "#fde0ef"
            ],
            [
             0.5,
             "#f7f7f7"
            ],
            [
             0.6,
             "#e6f5d0"
            ],
            [
             0.7,
             "#b8e186"
            ],
            [
             0.8,
             "#7fbc41"
            ],
            [
             0.9,
             "#4d9221"
            ],
            [
             1,
             "#276419"
            ]
           ],
           "sequential": [
            [
             0,
             "#0d0887"
            ],
            [
             0.1111111111111111,
             "#46039f"
            ],
            [
             0.2222222222222222,
             "#7201a8"
            ],
            [
             0.3333333333333333,
             "#9c179e"
            ],
            [
             0.4444444444444444,
             "#bd3786"
            ],
            [
             0.5555555555555556,
             "#d8576b"
            ],
            [
             0.6666666666666666,
             "#ed7953"
            ],
            [
             0.7777777777777778,
             "#fb9f3a"
            ],
            [
             0.8888888888888888,
             "#fdca26"
            ],
            [
             1,
             "#f0f921"
            ]
           ],
           "sequentialminus": [
            [
             0,
             "#0d0887"
            ],
            [
             0.1111111111111111,
             "#46039f"
            ],
            [
             0.2222222222222222,
             "#7201a8"
            ],
            [
             0.3333333333333333,
             "#9c179e"
            ],
            [
             0.4444444444444444,
             "#bd3786"
            ],
            [
             0.5555555555555556,
             "#d8576b"
            ],
            [
             0.6666666666666666,
             "#ed7953"
            ],
            [
             0.7777777777777778,
             "#fb9f3a"
            ],
            [
             0.8888888888888888,
             "#fdca26"
            ],
            [
             1,
             "#f0f921"
            ]
           ]
          },
          "colorway": [
           "#636efa",
           "#EF553B",
           "#00cc96",
           "#ab63fa",
           "#FFA15A",
           "#19d3f3",
           "#FF6692",
           "#B6E880",
           "#FF97FF",
           "#FECB52"
          ],
          "font": {
           "color": "#2a3f5f"
          },
          "geo": {
           "bgcolor": "white",
           "lakecolor": "white",
           "landcolor": "#E5ECF6",
           "showlakes": true,
           "showland": true,
           "subunitcolor": "white"
          },
          "hoverlabel": {
           "align": "left"
          },
          "hovermode": "closest",
          "mapbox": {
           "style": "light"
          },
          "paper_bgcolor": "white",
          "plot_bgcolor": "#E5ECF6",
          "polar": {
           "angularaxis": {
            "gridcolor": "white",
            "linecolor": "white",
            "ticks": ""
           },
           "bgcolor": "#E5ECF6",
           "radialaxis": {
            "gridcolor": "white",
            "linecolor": "white",
            "ticks": ""
           }
          },
          "scene": {
           "xaxis": {
            "backgroundcolor": "#E5ECF6",
            "gridcolor": "white",
            "gridwidth": 2,
            "linecolor": "white",
            "showbackground": true,
            "ticks": "",
            "zerolinecolor": "white"
           },
           "yaxis": {
            "backgroundcolor": "#E5ECF6",
            "gridcolor": "white",
            "gridwidth": 2,
            "linecolor": "white",
            "showbackground": true,
            "ticks": "",
            "zerolinecolor": "white"
           },
           "zaxis": {
            "backgroundcolor": "#E5ECF6",
            "gridcolor": "white",
            "gridwidth": 2,
            "linecolor": "white",
            "showbackground": true,
            "ticks": "",
            "zerolinecolor": "white"
           }
          },
          "shapedefaults": {
           "line": {
            "color": "#2a3f5f"
           }
          },
          "ternary": {
           "aaxis": {
            "gridcolor": "white",
            "linecolor": "white",
            "ticks": ""
           },
           "baxis": {
            "gridcolor": "white",
            "linecolor": "white",
            "ticks": ""
           },
           "bgcolor": "#E5ECF6",
           "caxis": {
            "gridcolor": "white",
            "linecolor": "white",
            "ticks": ""
           }
          },
          "title": {
           "x": 0.05
          },
          "xaxis": {
           "automargin": true,
           "gridcolor": "white",
           "linecolor": "white",
           "ticks": "",
           "title": {
            "standoff": 15
           },
           "zerolinecolor": "white",
           "zerolinewidth": 2
          },
          "yaxis": {
           "automargin": true,
           "gridcolor": "white",
           "linecolor": "white",
           "ticks": "",
           "title": {
            "standoff": 15
           },
           "zerolinecolor": "white",
           "zerolinewidth": 2
          }
         }
        },
        "title": {
         "text": "Target1 Top 50 feature importance"
        },
        "width": 1250,
        "xaxis": {
         "anchor": "y",
         "domain": [
          0,
          1
         ],
         "title": {
          "text": "feature_importance"
         }
        },
        "yaxis": {
         "anchor": "x",
         "categoryarray": [
          "DatetimeEncoding_dow2sin",
          "target3_202104_median",
          "StandingsMeta_runsAllowed",
          "target3_202104_quantile25",
          "StandingsMeta_turfWins",
          "StandingsMeta_runsScored",
          "PlayerStats_rbi",
          "StandingsMeta_divLosses",
          "target3_202104_max",
          "target3_202104_quantile75",
          "Players_LE_birthCountry",
          "target3_202104_std",
          "target3_202104_prob",
          "target1_202104_prob",
          "target4_202104_std",
          "target3_202104_mean",
          "target4_202104_max",
          "target3_202104_min",
          "target2_202104_prob",
          "target1_202104_quantile25",
          "PlayerTwitterFollowerAggregate_median",
          "target4_202104_quantile75",
          "target1_202104_max",
          "target2_202104_median",
          "PlayerTwitterFollowerAggregate_std",
          "target4_202104_mean",
          "target1_202104_median",
          "target2_202104_std",
          "target2_202104_min",
          "PlayerTwitterFollowerAggregate_min",
          "PlayerTwitterFollowerAggregate_quantile25",
          "target1_202104_min",
          "target2_202104_quantile75",
          "PlayerTwitterFollowerAggregate_mean",
          "target4_202104_prob",
          "target2_202104_mean",
          "target2_202104_quantile25",
          "target2_202104_max",
          "target4_202104_quantile25",
          "Players_LE_primaryPositionCode",
          "target4_202104_median",
          "PlayerTwitterFollowerAggregate_max",
          "PlayerTwitterFollowerAggregate_quantile75",
          "target1_202104_std",
          "target1_202104_quantile75",
          "Rosters_LE_teamId",
          "Players_LE_playerid",
          "target4_202104_min",
          "target1_202104_mean",
          "Rosters_LE_status"
         ],
         "categoryorder": "array",
         "domain": [
          0,
          1
         ],
         "showgrid": true,
         "title": {
          "text": "feature"
         }
        }
       }
      }
     },
     "metadata": {}
    },
    {
     "output_type": "display_data",
     "data": {
      "application/vnd.plotly.v1+json": {
       "config": {
        "plotlyServerURL": "https://plot.ly"
       },
       "data": [
        {
         "alignmentgroup": "True",
         "hovertemplate": "feature_importance=%{x}<br>feature=%{y}<extra></extra>",
         "legendgroup": "",
         "marker": {
          "color": "#636efa"
         },
         "name": "",
         "notched": false,
         "offsetgroup": "",
         "orientation": "h",
         "showlegend": false,
         "type": "box",
         "x": [
          85958.87996864319,
          118404.8176574707,
          73202.97427368164,
          22718.91985321045,
          92034.76498413086,
          28714.421085357666,
          35143.653228759766,
          78569.06818389893,
          106128.06240081787,
          172788.50175476074,
          66717.95160675049,
          29631.938903808594,
          599796.0238437653,
          100199.98921203613,
          150478.9672460556,
          32921.889614105225,
          988105.4464988708,
          4820318.284702301,
          67472.80437469482,
          810430.2795600891,
          24562.91798400879,
          26915.669921875,
          87315.3681640625,
          27009.353393554688,
          47385.831604003906,
          37154.363735198975,
          17997.277015686035,
          22115.095001220703,
          22402.55801963806,
          116425.67979431152,
          30893.334915161133,
          130976.82855415344,
          79329.84690093994,
          71510.312915802,
          67785.77179145813,
          19799.64385509491,
          199195.87425231934,
          46488.97672653198,
          18394.946990966797,
          41897.56490421295,
          22824.230880737305,
          32124.405729293823,
          14346.525882720947,
          17119.602745056152,
          57587.70847129822,
          131425.86575317383,
          23468.634635925293,
          36576.56020641327,
          25491.5431060791,
          29221.095630645752,
          65294.73459625244,
          81017.69581604004,
          60610.714447021484,
          43206.52313232422,
          64949.8647480011,
          25329.9774017334,
          27233.519073486328,
          82033.90088653564,
          154274.5252342224,
          202287.86672973633,
          37285.429916381836,
          17162.54412841797,
          622163.2168922424,
          149004.09844207764,
          135434.60836791992,
          29702.971717834473,
          904883.8614616394,
          4934383.936027527,
          59256.21224975586,
          802741.2181453705,
          55149.118408203125,
          6879.8800048828125,
          22817.099609375,
          24815.60626220703,
          53512.51663208008,
          21626.48811340332,
          14231.031253814697,
          22207.475784301758,
          12947.608032226562,
          145728.7477722168,
          21748.881271362305,
          54411.417835235596,
          109776.71323013306,
          32588.482931137085,
          87501.61387634277,
          56591.58854293823,
          285192.0467376709,
          29190.678945541382,
          23254.38507080078,
          11123.550827026367,
          21604.64667892456,
          34100.974422454834,
          18760.71112060547,
          20405.817001342773,
          48027.058197021484,
          108801.91246795654,
          23700.140686035156,
          36389.567123413086,
          25779.435089111328,
          32110.82785987854
         ],
         "x0": " ",
         "xaxis": "x",
         "y": [
          "target1_202104_mean",
          "target1_202104_min",
          "target1_202104_median",
          "target1_202104_quantile25",
          "target2_202104_mean",
          "target2_202104_std",
          "target2_202104_max",
          "target2_202104_min",
          "target2_202104_median",
          "target2_202104_quantile25",
          "target2_202104_quantile75",
          "target3_202104_min",
          "target4_202104_min",
          "target4_202104_median",
          "target4_202104_quantile25",
          "target4_202104_quantile75",
          "Rosters_LE_teamId",
          "Rosters_LE_status",
          "Players_LE_primaryPositionCode",
          "Players_LE_playerid",
          "PlayerStats_inheritedRunners_cumsum",
          "PlayerStats_inheritedRunnersScored_cumsum",
          "PlayerStats_doubles_rank",
          "PlayerStats_stolenBases_rank",
          "PlayerStats_earnedRuns_rank",
          "PlayerTwitterFollowerAggregate_mean",
          "PlayerTwitterFollowerAggregate_std",
          "PlayerTwitterFollowerAggregate_max",
          "PlayerTwitterFollowerAggregate_median",
          "PlayerTwitterFollowerAggregate_quantile25",
          "PlayerTwitterFollowerAggregate_quantile75",
          "StandingsMeta_divisionId",
          "StandingsMeta_leagueRank",
          "StandingsMeta_wins",
          "StandingsMeta_losses",
          "StandingsMeta_pct",
          "StandingsMeta_runsAllowed",
          "StandingsMeta_runsScored",
          "StandingsMeta_awayLosses",
          "StandingsMeta_lastTenWins",
          "StandingsMeta_oneRunLosses",
          "StandingsMeta_dayLosses",
          "StandingsMeta_grassWins",
          "StandingsMeta_grassLosses",
          "StandingsMeta_divWins",
          "StandingsMeta_divLosses",
          "DatetimeEncoding_day2cos",
          "DatetimeEncoding_day2sin",
          "DatetimeEncoding_dow2cos",
          "DatetimeEncoding_dow2sin",
          "target1_202104_mean",
          "target1_202104_min",
          "target1_202104_median",
          "target1_202104_quantile25",
          "target2_202104_mean",
          "target2_202104_std",
          "target2_202104_max",
          "target2_202104_min",
          "target2_202104_median",
          "target2_202104_quantile25",
          "target2_202104_quantile75",
          "target3_202104_min",
          "target4_202104_min",
          "target4_202104_median",
          "target4_202104_quantile25",
          "target4_202104_quantile75",
          "Rosters_LE_teamId",
          "Rosters_LE_status",
          "Players_LE_primaryPositionCode",
          "Players_LE_playerid",
          "PlayerStats_inheritedRunners_cumsum",
          "PlayerStats_inheritedRunnersScored_cumsum",
          "PlayerStats_doubles_rank",
          "PlayerStats_stolenBases_rank",
          "PlayerStats_earnedRuns_rank",
          "PlayerTwitterFollowerAggregate_mean",
          "PlayerTwitterFollowerAggregate_std",
          "PlayerTwitterFollowerAggregate_max",
          "PlayerTwitterFollowerAggregate_median",
          "PlayerTwitterFollowerAggregate_quantile25",
          "PlayerTwitterFollowerAggregate_quantile75",
          "StandingsMeta_divisionId",
          "StandingsMeta_leagueRank",
          "StandingsMeta_wins",
          "StandingsMeta_losses",
          "StandingsMeta_pct",
          "StandingsMeta_runsAllowed",
          "StandingsMeta_runsScored",
          "StandingsMeta_awayLosses",
          "StandingsMeta_lastTenWins",
          "StandingsMeta_oneRunLosses",
          "StandingsMeta_dayLosses",
          "StandingsMeta_grassWins",
          "StandingsMeta_grassLosses",
          "StandingsMeta_divWins",
          "StandingsMeta_divLosses",
          "DatetimeEncoding_day2cos",
          "DatetimeEncoding_day2sin",
          "DatetimeEncoding_dow2cos",
          "DatetimeEncoding_dow2sin"
         ],
         "y0": " ",
         "yaxis": "y"
        }
       ],
       "layout": {
        "boxmode": "group",
        "height": 900,
        "legend": {
         "tracegroupgap": 0
        },
        "template": {
         "data": {
          "bar": [
           {
            "error_x": {
             "color": "#2a3f5f"
            },
            "error_y": {
             "color": "#2a3f5f"
            },
            "marker": {
             "line": {
              "color": "#E5ECF6",
              "width": 0.5
             }
            },
            "type": "bar"
           }
          ],
          "barpolar": [
           {
            "marker": {
             "line": {
              "color": "#E5ECF6",
              "width": 0.5
             }
            },
            "type": "barpolar"
           }
          ],
          "carpet": [
           {
            "aaxis": {
             "endlinecolor": "#2a3f5f",
             "gridcolor": "white",
             "linecolor": "white",
             "minorgridcolor": "white",
             "startlinecolor": "#2a3f5f"
            },
            "baxis": {
             "endlinecolor": "#2a3f5f",
             "gridcolor": "white",
             "linecolor": "white",
             "minorgridcolor": "white",
             "startlinecolor": "#2a3f5f"
            },
            "type": "carpet"
           }
          ],
          "choropleth": [
           {
            "colorbar": {
             "outlinewidth": 0,
             "ticks": ""
            },
            "type": "choropleth"
           }
          ],
          "contour": [
           {
            "colorbar": {
             "outlinewidth": 0,
             "ticks": ""
            },
            "colorscale": [
             [
              0,
              "#0d0887"
             ],
             [
              0.1111111111111111,
              "#46039f"
             ],
             [
              0.2222222222222222,
              "#7201a8"
             ],
             [
              0.3333333333333333,
              "#9c179e"
             ],
             [
              0.4444444444444444,
              "#bd3786"
             ],
             [
              0.5555555555555556,
              "#d8576b"
             ],
             [
              0.6666666666666666,
              "#ed7953"
             ],
             [
              0.7777777777777778,
              "#fb9f3a"
             ],
             [
              0.8888888888888888,
              "#fdca26"
             ],
             [
              1,
              "#f0f921"
             ]
            ],
            "type": "contour"
           }
          ],
          "contourcarpet": [
           {
            "colorbar": {
             "outlinewidth": 0,
             "ticks": ""
            },
            "type": "contourcarpet"
           }
          ],
          "heatmap": [
           {
            "colorbar": {
             "outlinewidth": 0,
             "ticks": ""
            },
            "colorscale": [
             [
              0,
              "#0d0887"
             ],
             [
              0.1111111111111111,
              "#46039f"
             ],
             [
              0.2222222222222222,
              "#7201a8"
             ],
             [
              0.3333333333333333,
              "#9c179e"
             ],
             [
              0.4444444444444444,
              "#bd3786"
             ],
             [
              0.5555555555555556,
              "#d8576b"
             ],
             [
              0.6666666666666666,
              "#ed7953"
             ],
             [
              0.7777777777777778,
              "#fb9f3a"
             ],
             [
              0.8888888888888888,
              "#fdca26"
             ],
             [
              1,
              "#f0f921"
             ]
            ],
            "type": "heatmap"
           }
          ],
          "heatmapgl": [
           {
            "colorbar": {
             "outlinewidth": 0,
             "ticks": ""
            },
            "colorscale": [
             [
              0,
              "#0d0887"
             ],
             [
              0.1111111111111111,
              "#46039f"
             ],
             [
              0.2222222222222222,
              "#7201a8"
             ],
             [
              0.3333333333333333,
              "#9c179e"
             ],
             [
              0.4444444444444444,
              "#bd3786"
             ],
             [
              0.5555555555555556,
              "#d8576b"
             ],
             [
              0.6666666666666666,
              "#ed7953"
             ],
             [
              0.7777777777777778,
              "#fb9f3a"
             ],
             [
              0.8888888888888888,
              "#fdca26"
             ],
             [
              1,
              "#f0f921"
             ]
            ],
            "type": "heatmapgl"
           }
          ],
          "histogram": [
           {
            "marker": {
             "colorbar": {
              "outlinewidth": 0,
              "ticks": ""
             }
            },
            "type": "histogram"
           }
          ],
          "histogram2d": [
           {
            "colorbar": {
             "outlinewidth": 0,
             "ticks": ""
            },
            "colorscale": [
             [
              0,
              "#0d0887"
             ],
             [
              0.1111111111111111,
              "#46039f"
             ],
             [
              0.2222222222222222,
              "#7201a8"
             ],
             [
              0.3333333333333333,
              "#9c179e"
             ],
             [
              0.4444444444444444,
              "#bd3786"
             ],
             [
              0.5555555555555556,
              "#d8576b"
             ],
             [
              0.6666666666666666,
              "#ed7953"
             ],
             [
              0.7777777777777778,
              "#fb9f3a"
             ],
             [
              0.8888888888888888,
              "#fdca26"
             ],
             [
              1,
              "#f0f921"
             ]
            ],
            "type": "histogram2d"
           }
          ],
          "histogram2dcontour": [
           {
            "colorbar": {
             "outlinewidth": 0,
             "ticks": ""
            },
            "colorscale": [
             [
              0,
              "#0d0887"
             ],
             [
              0.1111111111111111,
              "#46039f"
             ],
             [
              0.2222222222222222,
              "#7201a8"
             ],
             [
              0.3333333333333333,
              "#9c179e"
             ],
             [
              0.4444444444444444,
              "#bd3786"
             ],
             [
              0.5555555555555556,
              "#d8576b"
             ],
             [
              0.6666666666666666,
              "#ed7953"
             ],
             [
              0.7777777777777778,
              "#fb9f3a"
             ],
             [
              0.8888888888888888,
              "#fdca26"
             ],
             [
              1,
              "#f0f921"
             ]
            ],
            "type": "histogram2dcontour"
           }
          ],
          "mesh3d": [
           {
            "colorbar": {
             "outlinewidth": 0,
             "ticks": ""
            },
            "type": "mesh3d"
           }
          ],
          "parcoords": [
           {
            "line": {
             "colorbar": {
              "outlinewidth": 0,
              "ticks": ""
             }
            },
            "type": "parcoords"
           }
          ],
          "pie": [
           {
            "automargin": true,
            "type": "pie"
           }
          ],
          "scatter": [
           {
            "marker": {
             "colorbar": {
              "outlinewidth": 0,
              "ticks": ""
             }
            },
            "type": "scatter"
           }
          ],
          "scatter3d": [
           {
            "line": {
             "colorbar": {
              "outlinewidth": 0,
              "ticks": ""
             }
            },
            "marker": {
             "colorbar": {
              "outlinewidth": 0,
              "ticks": ""
             }
            },
            "type": "scatter3d"
           }
          ],
          "scattercarpet": [
           {
            "marker": {
             "colorbar": {
              "outlinewidth": 0,
              "ticks": ""
             }
            },
            "type": "scattercarpet"
           }
          ],
          "scattergeo": [
           {
            "marker": {
             "colorbar": {
              "outlinewidth": 0,
              "ticks": ""
             }
            },
            "type": "scattergeo"
           }
          ],
          "scattergl": [
           {
            "marker": {
             "colorbar": {
              "outlinewidth": 0,
              "ticks": ""
             }
            },
            "type": "scattergl"
           }
          ],
          "scattermapbox": [
           {
            "marker": {
             "colorbar": {
              "outlinewidth": 0,
              "ticks": ""
             }
            },
            "type": "scattermapbox"
           }
          ],
          "scatterpolar": [
           {
            "marker": {
             "colorbar": {
              "outlinewidth": 0,
              "ticks": ""
             }
            },
            "type": "scatterpolar"
           }
          ],
          "scatterpolargl": [
           {
            "marker": {
             "colorbar": {
              "outlinewidth": 0,
              "ticks": ""
             }
            },
            "type": "scatterpolargl"
           }
          ],
          "scatterternary": [
           {
            "marker": {
             "colorbar": {
              "outlinewidth": 0,
              "ticks": ""
             }
            },
            "type": "scatterternary"
           }
          ],
          "surface": [
           {
            "colorbar": {
             "outlinewidth": 0,
             "ticks": ""
            },
            "colorscale": [
             [
              0,
              "#0d0887"
             ],
             [
              0.1111111111111111,
              "#46039f"
             ],
             [
              0.2222222222222222,
              "#7201a8"
             ],
             [
              0.3333333333333333,
              "#9c179e"
             ],
             [
              0.4444444444444444,
              "#bd3786"
             ],
             [
              0.5555555555555556,
              "#d8576b"
             ],
             [
              0.6666666666666666,
              "#ed7953"
             ],
             [
              0.7777777777777778,
              "#fb9f3a"
             ],
             [
              0.8888888888888888,
              "#fdca26"
             ],
             [
              1,
              "#f0f921"
             ]
            ],
            "type": "surface"
           }
          ],
          "table": [
           {
            "cells": {
             "fill": {
              "color": "#EBF0F8"
             },
             "line": {
              "color": "white"
             }
            },
            "header": {
             "fill": {
              "color": "#C8D4E3"
             },
             "line": {
              "color": "white"
             }
            },
            "type": "table"
           }
          ]
         },
         "layout": {
          "annotationdefaults": {
           "arrowcolor": "#2a3f5f",
           "arrowhead": 0,
           "arrowwidth": 1
          },
          "autotypenumbers": "strict",
          "coloraxis": {
           "colorbar": {
            "outlinewidth": 0,
            "ticks": ""
           }
          },
          "colorscale": {
           "diverging": [
            [
             0,
             "#8e0152"
            ],
            [
             0.1,
             "#c51b7d"
            ],
            [
             0.2,
             "#de77ae"
            ],
            [
             0.3,
             "#f1b6da"
            ],
            [
             0.4,
             "#fde0ef"
            ],
            [
             0.5,
             "#f7f7f7"
            ],
            [
             0.6,
             "#e6f5d0"
            ],
            [
             0.7,
             "#b8e186"
            ],
            [
             0.8,
             "#7fbc41"
            ],
            [
             0.9,
             "#4d9221"
            ],
            [
             1,
             "#276419"
            ]
           ],
           "sequential": [
            [
             0,
             "#0d0887"
            ],
            [
             0.1111111111111111,
             "#46039f"
            ],
            [
             0.2222222222222222,
             "#7201a8"
            ],
            [
             0.3333333333333333,
             "#9c179e"
            ],
            [
             0.4444444444444444,
             "#bd3786"
            ],
            [
             0.5555555555555556,
             "#d8576b"
            ],
            [
             0.6666666666666666,
             "#ed7953"
            ],
            [
             0.7777777777777778,
             "#fb9f3a"
            ],
            [
             0.8888888888888888,
             "#fdca26"
            ],
            [
             1,
             "#f0f921"
            ]
           ],
           "sequentialminus": [
            [
             0,
             "#0d0887"
            ],
            [
             0.1111111111111111,
             "#46039f"
            ],
            [
             0.2222222222222222,
             "#7201a8"
            ],
            [
             0.3333333333333333,
             "#9c179e"
            ],
            [
             0.4444444444444444,
             "#bd3786"
            ],
            [
             0.5555555555555556,
             "#d8576b"
            ],
            [
             0.6666666666666666,
             "#ed7953"
            ],
            [
             0.7777777777777778,
             "#fb9f3a"
            ],
            [
             0.8888888888888888,
             "#fdca26"
            ],
            [
             1,
             "#f0f921"
            ]
           ]
          },
          "colorway": [
           "#636efa",
           "#EF553B",
           "#00cc96",
           "#ab63fa",
           "#FFA15A",
           "#19d3f3",
           "#FF6692",
           "#B6E880",
           "#FF97FF",
           "#FECB52"
          ],
          "font": {
           "color": "#2a3f5f"
          },
          "geo": {
           "bgcolor": "white",
           "lakecolor": "white",
           "landcolor": "#E5ECF6",
           "showlakes": true,
           "showland": true,
           "subunitcolor": "white"
          },
          "hoverlabel": {
           "align": "left"
          },
          "hovermode": "closest",
          "mapbox": {
           "style": "light"
          },
          "paper_bgcolor": "white",
          "plot_bgcolor": "#E5ECF6",
          "polar": {
           "angularaxis": {
            "gridcolor": "white",
            "linecolor": "white",
            "ticks": ""
           },
           "bgcolor": "#E5ECF6",
           "radialaxis": {
            "gridcolor": "white",
            "linecolor": "white",
            "ticks": ""
           }
          },
          "scene": {
           "xaxis": {
            "backgroundcolor": "#E5ECF6",
            "gridcolor": "white",
            "gridwidth": 2,
            "linecolor": "white",
            "showbackground": true,
            "ticks": "",
            "zerolinecolor": "white"
           },
           "yaxis": {
            "backgroundcolor": "#E5ECF6",
            "gridcolor": "white",
            "gridwidth": 2,
            "linecolor": "white",
            "showbackground": true,
            "ticks": "",
            "zerolinecolor": "white"
           },
           "zaxis": {
            "backgroundcolor": "#E5ECF6",
            "gridcolor": "white",
            "gridwidth": 2,
            "linecolor": "white",
            "showbackground": true,
            "ticks": "",
            "zerolinecolor": "white"
           }
          },
          "shapedefaults": {
           "line": {
            "color": "#2a3f5f"
           }
          },
          "ternary": {
           "aaxis": {
            "gridcolor": "white",
            "linecolor": "white",
            "ticks": ""
           },
           "baxis": {
            "gridcolor": "white",
            "linecolor": "white",
            "ticks": ""
           },
           "bgcolor": "#E5ECF6",
           "caxis": {
            "gridcolor": "white",
            "linecolor": "white",
            "ticks": ""
           }
          },
          "title": {
           "x": 0.05
          },
          "xaxis": {
           "automargin": true,
           "gridcolor": "white",
           "linecolor": "white",
           "ticks": "",
           "title": {
            "standoff": 15
           },
           "zerolinecolor": "white",
           "zerolinewidth": 2
          },
          "yaxis": {
           "automargin": true,
           "gridcolor": "white",
           "linecolor": "white",
           "ticks": "",
           "title": {
            "standoff": 15
           },
           "zerolinecolor": "white",
           "zerolinewidth": 2
          }
         }
        },
        "title": {
         "text": "Target2 Top 50 feature importance"
        },
        "width": 1250,
        "xaxis": {
         "anchor": "y",
         "domain": [
          0,
          1
         ],
         "title": {
          "text": "feature_importance"
         }
        },
        "yaxis": {
         "anchor": "x",
         "categoryarray": [
          "PlayerTwitterFollowerAggregate_std",
          "StandingsMeta_grassWins",
          "PlayerStats_inheritedRunnersScored_cumsum",
          "PlayerTwitterFollowerAggregate_median",
          "StandingsMeta_grassLosses",
          "StandingsMeta_awayLosses",
          "PlayerTwitterFollowerAggregate_max",
          "StandingsMeta_oneRunLosses",
          "target3_202104_min",
          "DatetimeEncoding_day2cos",
          "DatetimeEncoding_dow2cos",
          "PlayerStats_stolenBases_rank",
          "PlayerTwitterFollowerAggregate_quantile75",
          "StandingsMeta_lastTenWins",
          "target2_202104_std",
          "PlayerTwitterFollowerAggregate_mean",
          "DatetimeEncoding_dow2sin",
          "target2_202104_max",
          "target4_202104_quantile75",
          "target1_202104_quantile25",
          "StandingsMeta_dayLosses",
          "DatetimeEncoding_day2sin",
          "StandingsMeta_runsScored",
          "StandingsMeta_pct",
          "PlayerStats_inheritedRunners_cumsum",
          "PlayerStats_earnedRuns_rank",
          "target2_202104_quantile75",
          "StandingsMeta_wins",
          "StandingsMeta_divWins",
          "PlayerStats_doubles_rank",
          "Players_LE_primaryPositionCode",
          "target1_202104_median",
          "target1_202104_mean",
          "StandingsMeta_losses",
          "target2_202104_mean",
          "target2_202104_min",
          "StandingsMeta_divisionId",
          "StandingsMeta_leagueRank",
          "target1_202104_min",
          "StandingsMeta_divLosses",
          "target4_202104_median",
          "target2_202104_median",
          "PlayerTwitterFollowerAggregate_quantile25",
          "target4_202104_quantile25",
          "target2_202104_quantile25",
          "StandingsMeta_runsAllowed",
          "target4_202104_min",
          "Players_LE_playerid",
          "Rosters_LE_teamId",
          "Rosters_LE_status"
         ],
         "categoryorder": "array",
         "domain": [
          0,
          1
         ],
         "showgrid": true,
         "title": {
          "text": "feature"
         }
        }
       }
      }
     },
     "metadata": {}
    },
    {
     "output_type": "display_data",
     "data": {
      "application/vnd.plotly.v1+json": {
       "config": {
        "plotlyServerURL": "https://plot.ly"
       },
       "data": [
        {
         "alignmentgroup": "True",
         "hovertemplate": "feature_importance=%{x}<br>feature=%{y}<extra></extra>",
         "legendgroup": "",
         "marker": {
          "color": "#636efa"
         },
         "name": "",
         "notched": false,
         "offsetgroup": "",
         "orientation": "h",
         "showlegend": false,
         "type": "box",
         "x": [
          203379.54949092865,
          139713.62272453308,
          136768.77626037598,
          84940.37807273865,
          60543.243235588074,
          25616.7684173584,
          28544.986003875732,
          96775.17822265625,
          904041.6939945221,
          296964.2249221802,
          170055.04565882683,
          105526.8956375122,
          463626.7492656708,
          100962.42009353638,
          308127.7480506897,
          170308.87913131714,
          7045943.881895065,
          1295659.6518211365,
          203663.9379196167,
          648145.9557342529,
          140819.48763656616,
          241335.33405303955,
          1225292.3532905579,
          98692.97710037231,
          176814.39248085022,
          226846.53992080688,
          97917.55368041992,
          4776548.4524002075,
          373299.6942720413,
          454913.9638004303,
          154010.86531448364,
          335448.0213088989,
          10484441.815929413,
          9864385.195102692,
          41291.170444488525,
          22144.057765960693,
          7725204.403530121,
          129319.76745033264,
          205761.0366048813,
          334410.9965057373,
          546579.7954311371,
          1267282.3120918274,
          1082215.528345108,
          1506970.3619174957,
          38512.165172576904,
          10778.160558700562,
          59099.36776351929,
          49068.66343784332,
          23490.392676353455,
          37357.6395816803,
          302804.1196961403,
          149997.5807352066,
          173644.06532859802,
          141718.78713703156,
          98282.38355827332,
          62868.75811767578,
          63030.888328552246,
          178810.79291152954,
          1265818.4803791046,
          350148.59602355957,
          434319.7352247238,
          269434.6565437317,
          482439.0725517273,
          249513.87337207794,
          554188.5271987915,
          279944.60851860046,
          11068207.73594284,
          2559233.192756653,
          326029.2400970459,
          926775.0365104675,
          169119.8600769043,
          273822.0884246826,
          941199.2938146591,
          202603.38568878174,
          563561.2081794739,
          282148.01220321655,
          190158.81903457642,
          4766034.362272263,
          731770.3275222778,
          1240682.5647001266,
          221676.71049499512,
          341928.38212776184,
          14085211.818842888,
          13060569.890439987,
          64088.584506988525,
          61242.87390899658,
          12320227.072629929,
          1464737.8631858826,
          332875.1050415039,
          1686074.2866916656,
          843335.0026473999,
          2356552.683052063,
          1422612.650932312,
          669270.3273773193,
          20138.500057458878,
          38755.572814941406,
          70016.43340015411,
          39236.80604171753,
          16248.86641407013,
          34406.628752708435
         ],
         "x0": " ",
         "xaxis": "x",
         "y": [
          "target1_202104_mean",
          "target1_202104_std",
          "target1_202104_max",
          "target1_202104_min",
          "target1_202104_median",
          "target1_202104_quantile25",
          "target1_202104_quantile75",
          "target1_202104_prob",
          "target2_202104_mean",
          "target2_202104_std",
          "target2_202104_max",
          "target2_202104_min",
          "target2_202104_median",
          "target2_202104_quantile25",
          "target2_202104_quantile75",
          "target2_202104_prob",
          "target3_202104_mean",
          "target3_202104_std",
          "target3_202104_max",
          "target3_202104_min",
          "target3_202104_median",
          "target3_202104_quantile25",
          "target3_202104_quantile75",
          "target3_202104_prob",
          "target4_202104_mean",
          "target4_202104_std",
          "target4_202104_max",
          "target4_202104_min",
          "target4_202104_median",
          "target4_202104_quantile25",
          "target4_202104_quantile75",
          "target4_202104_prob",
          "Rosters_LE_teamId",
          "Rosters_LE_status",
          "Players_LE_birthCountry",
          "Players_LE_primaryPositionCode",
          "Players_LE_playerid",
          "PlayerTwitterFollowerAggregate_mean",
          "PlayerTwitterFollowerAggregate_std",
          "PlayerTwitterFollowerAggregate_max",
          "PlayerTwitterFollowerAggregate_min",
          "PlayerTwitterFollowerAggregate_median",
          "PlayerTwitterFollowerAggregate_quantile25",
          "PlayerTwitterFollowerAggregate_quantile75",
          "StandingsMeta_divisionId",
          "StandingsMeta_pct",
          "StandingsMeta_runsAllowed",
          "StandingsMeta_runsScored",
          "StandingsMeta_grassWins",
          "StandingsMeta_divLosses",
          "target1_202104_mean",
          "target1_202104_std",
          "target1_202104_max",
          "target1_202104_min",
          "target1_202104_median",
          "target1_202104_quantile25",
          "target1_202104_quantile75",
          "target1_202104_prob",
          "target2_202104_mean",
          "target2_202104_std",
          "target2_202104_max",
          "target2_202104_min",
          "target2_202104_median",
          "target2_202104_quantile25",
          "target2_202104_quantile75",
          "target2_202104_prob",
          "target3_202104_mean",
          "target3_202104_std",
          "target3_202104_max",
          "target3_202104_min",
          "target3_202104_median",
          "target3_202104_quantile25",
          "target3_202104_quantile75",
          "target3_202104_prob",
          "target4_202104_mean",
          "target4_202104_std",
          "target4_202104_max",
          "target4_202104_min",
          "target4_202104_median",
          "target4_202104_quantile25",
          "target4_202104_quantile75",
          "target4_202104_prob",
          "Rosters_LE_teamId",
          "Rosters_LE_status",
          "Players_LE_birthCountry",
          "Players_LE_primaryPositionCode",
          "Players_LE_playerid",
          "PlayerTwitterFollowerAggregate_mean",
          "PlayerTwitterFollowerAggregate_std",
          "PlayerTwitterFollowerAggregate_max",
          "PlayerTwitterFollowerAggregate_min",
          "PlayerTwitterFollowerAggregate_median",
          "PlayerTwitterFollowerAggregate_quantile25",
          "PlayerTwitterFollowerAggregate_quantile75",
          "StandingsMeta_divisionId",
          "StandingsMeta_pct",
          "StandingsMeta_runsAllowed",
          "StandingsMeta_runsScored",
          "StandingsMeta_grassWins",
          "StandingsMeta_divLosses"
         ],
         "y0": " ",
         "yaxis": "y"
        }
       ],
       "layout": {
        "boxmode": "group",
        "height": 900,
        "legend": {
         "tracegroupgap": 0
        },
        "template": {
         "data": {
          "bar": [
           {
            "error_x": {
             "color": "#2a3f5f"
            },
            "error_y": {
             "color": "#2a3f5f"
            },
            "marker": {
             "line": {
              "color": "#E5ECF6",
              "width": 0.5
             }
            },
            "type": "bar"
           }
          ],
          "barpolar": [
           {
            "marker": {
             "line": {
              "color": "#E5ECF6",
              "width": 0.5
             }
            },
            "type": "barpolar"
           }
          ],
          "carpet": [
           {
            "aaxis": {
             "endlinecolor": "#2a3f5f",
             "gridcolor": "white",
             "linecolor": "white",
             "minorgridcolor": "white",
             "startlinecolor": "#2a3f5f"
            },
            "baxis": {
             "endlinecolor": "#2a3f5f",
             "gridcolor": "white",
             "linecolor": "white",
             "minorgridcolor": "white",
             "startlinecolor": "#2a3f5f"
            },
            "type": "carpet"
           }
          ],
          "choropleth": [
           {
            "colorbar": {
             "outlinewidth": 0,
             "ticks": ""
            },
            "type": "choropleth"
           }
          ],
          "contour": [
           {
            "colorbar": {
             "outlinewidth": 0,
             "ticks": ""
            },
            "colorscale": [
             [
              0,
              "#0d0887"
             ],
             [
              0.1111111111111111,
              "#46039f"
             ],
             [
              0.2222222222222222,
              "#7201a8"
             ],
             [
              0.3333333333333333,
              "#9c179e"
             ],
             [
              0.4444444444444444,
              "#bd3786"
             ],
             [
              0.5555555555555556,
              "#d8576b"
             ],
             [
              0.6666666666666666,
              "#ed7953"
             ],
             [
              0.7777777777777778,
              "#fb9f3a"
             ],
             [
              0.8888888888888888,
              "#fdca26"
             ],
             [
              1,
              "#f0f921"
             ]
            ],
            "type": "contour"
           }
          ],
          "contourcarpet": [
           {
            "colorbar": {
             "outlinewidth": 0,
             "ticks": ""
            },
            "type": "contourcarpet"
           }
          ],
          "heatmap": [
           {
            "colorbar": {
             "outlinewidth": 0,
             "ticks": ""
            },
            "colorscale": [
             [
              0,
              "#0d0887"
             ],
             [
              0.1111111111111111,
              "#46039f"
             ],
             [
              0.2222222222222222,
              "#7201a8"
             ],
             [
              0.3333333333333333,
              "#9c179e"
             ],
             [
              0.4444444444444444,
              "#bd3786"
             ],
             [
              0.5555555555555556,
              "#d8576b"
             ],
             [
              0.6666666666666666,
              "#ed7953"
             ],
             [
              0.7777777777777778,
              "#fb9f3a"
             ],
             [
              0.8888888888888888,
              "#fdca26"
             ],
             [
              1,
              "#f0f921"
             ]
            ],
            "type": "heatmap"
           }
          ],
          "heatmapgl": [
           {
            "colorbar": {
             "outlinewidth": 0,
             "ticks": ""
            },
            "colorscale": [
             [
              0,
              "#0d0887"
             ],
             [
              0.1111111111111111,
              "#46039f"
             ],
             [
              0.2222222222222222,
              "#7201a8"
             ],
             [
              0.3333333333333333,
              "#9c179e"
             ],
             [
              0.4444444444444444,
              "#bd3786"
             ],
             [
              0.5555555555555556,
              "#d8576b"
             ],
             [
              0.6666666666666666,
              "#ed7953"
             ],
             [
              0.7777777777777778,
              "#fb9f3a"
             ],
             [
              0.8888888888888888,
              "#fdca26"
             ],
             [
              1,
              "#f0f921"
             ]
            ],
            "type": "heatmapgl"
           }
          ],
          "histogram": [
           {
            "marker": {
             "colorbar": {
              "outlinewidth": 0,
              "ticks": ""
             }
            },
            "type": "histogram"
           }
          ],
          "histogram2d": [
           {
            "colorbar": {
             "outlinewidth": 0,
             "ticks": ""
            },
            "colorscale": [
             [
              0,
              "#0d0887"
             ],
             [
              0.1111111111111111,
              "#46039f"
             ],
             [
              0.2222222222222222,
              "#7201a8"
             ],
             [
              0.3333333333333333,
              "#9c179e"
             ],
             [
              0.4444444444444444,
              "#bd3786"
             ],
             [
              0.5555555555555556,
              "#d8576b"
             ],
             [
              0.6666666666666666,
              "#ed7953"
             ],
             [
              0.7777777777777778,
              "#fb9f3a"
             ],
             [
              0.8888888888888888,
              "#fdca26"
             ],
             [
              1,
              "#f0f921"
             ]
            ],
            "type": "histogram2d"
           }
          ],
          "histogram2dcontour": [
           {
            "colorbar": {
             "outlinewidth": 0,
             "ticks": ""
            },
            "colorscale": [
             [
              0,
              "#0d0887"
             ],
             [
              0.1111111111111111,
              "#46039f"
             ],
             [
              0.2222222222222222,
              "#7201a8"
             ],
             [
              0.3333333333333333,
              "#9c179e"
             ],
             [
              0.4444444444444444,
              "#bd3786"
             ],
             [
              0.5555555555555556,
              "#d8576b"
             ],
             [
              0.6666666666666666,
              "#ed7953"
             ],
             [
              0.7777777777777778,
              "#fb9f3a"
             ],
             [
              0.8888888888888888,
              "#fdca26"
             ],
             [
              1,
              "#f0f921"
             ]
            ],
            "type": "histogram2dcontour"
           }
          ],
          "mesh3d": [
           {
            "colorbar": {
             "outlinewidth": 0,
             "ticks": ""
            },
            "type": "mesh3d"
           }
          ],
          "parcoords": [
           {
            "line": {
             "colorbar": {
              "outlinewidth": 0,
              "ticks": ""
             }
            },
            "type": "parcoords"
           }
          ],
          "pie": [
           {
            "automargin": true,
            "type": "pie"
           }
          ],
          "scatter": [
           {
            "marker": {
             "colorbar": {
              "outlinewidth": 0,
              "ticks": ""
             }
            },
            "type": "scatter"
           }
          ],
          "scatter3d": [
           {
            "line": {
             "colorbar": {
              "outlinewidth": 0,
              "ticks": ""
             }
            },
            "marker": {
             "colorbar": {
              "outlinewidth": 0,
              "ticks": ""
             }
            },
            "type": "scatter3d"
           }
          ],
          "scattercarpet": [
           {
            "marker": {
             "colorbar": {
              "outlinewidth": 0,
              "ticks": ""
             }
            },
            "type": "scattercarpet"
           }
          ],
          "scattergeo": [
           {
            "marker": {
             "colorbar": {
              "outlinewidth": 0,
              "ticks": ""
             }
            },
            "type": "scattergeo"
           }
          ],
          "scattergl": [
           {
            "marker": {
             "colorbar": {
              "outlinewidth": 0,
              "ticks": ""
             }
            },
            "type": "scattergl"
           }
          ],
          "scattermapbox": [
           {
            "marker": {
             "colorbar": {
              "outlinewidth": 0,
              "ticks": ""
             }
            },
            "type": "scattermapbox"
           }
          ],
          "scatterpolar": [
           {
            "marker": {
             "colorbar": {
              "outlinewidth": 0,
              "ticks": ""
             }
            },
            "type": "scatterpolar"
           }
          ],
          "scatterpolargl": [
           {
            "marker": {
             "colorbar": {
              "outlinewidth": 0,
              "ticks": ""
             }
            },
            "type": "scatterpolargl"
           }
          ],
          "scatterternary": [
           {
            "marker": {
             "colorbar": {
              "outlinewidth": 0,
              "ticks": ""
             }
            },
            "type": "scatterternary"
           }
          ],
          "surface": [
           {
            "colorbar": {
             "outlinewidth": 0,
             "ticks": ""
            },
            "colorscale": [
             [
              0,
              "#0d0887"
             ],
             [
              0.1111111111111111,
              "#46039f"
             ],
             [
              0.2222222222222222,
              "#7201a8"
             ],
             [
              0.3333333333333333,
              "#9c179e"
             ],
             [
              0.4444444444444444,
              "#bd3786"
             ],
             [
              0.5555555555555556,
              "#d8576b"
             ],
             [
              0.6666666666666666,
              "#ed7953"
             ],
             [
              0.7777777777777778,
              "#fb9f3a"
             ],
             [
              0.8888888888888888,
              "#fdca26"
             ],
             [
              1,
              "#f0f921"
             ]
            ],
            "type": "surface"
           }
          ],
          "table": [
           {
            "cells": {
             "fill": {
              "color": "#EBF0F8"
             },
             "line": {
              "color": "white"
             }
            },
            "header": {
             "fill": {
              "color": "#C8D4E3"
             },
             "line": {
              "color": "white"
             }
            },
            "type": "table"
           }
          ]
         },
         "layout": {
          "annotationdefaults": {
           "arrowcolor": "#2a3f5f",
           "arrowhead": 0,
           "arrowwidth": 1
          },
          "autotypenumbers": "strict",
          "coloraxis": {
           "colorbar": {
            "outlinewidth": 0,
            "ticks": ""
           }
          },
          "colorscale": {
           "diverging": [
            [
             0,
             "#8e0152"
            ],
            [
             0.1,
             "#c51b7d"
            ],
            [
             0.2,
             "#de77ae"
            ],
            [
             0.3,
             "#f1b6da"
            ],
            [
             0.4,
             "#fde0ef"
            ],
            [
             0.5,
             "#f7f7f7"
            ],
            [
             0.6,
             "#e6f5d0"
            ],
            [
             0.7,
             "#b8e186"
            ],
            [
             0.8,
             "#7fbc41"
            ],
            [
             0.9,
             "#4d9221"
            ],
            [
             1,
             "#276419"
            ]
           ],
           "sequential": [
            [
             0,
             "#0d0887"
            ],
            [
             0.1111111111111111,
             "#46039f"
            ],
            [
             0.2222222222222222,
             "#7201a8"
            ],
            [
             0.3333333333333333,
             "#9c179e"
            ],
            [
             0.4444444444444444,
             "#bd3786"
            ],
            [
             0.5555555555555556,
             "#d8576b"
            ],
            [
             0.6666666666666666,
             "#ed7953"
            ],
            [
             0.7777777777777778,
             "#fb9f3a"
            ],
            [
             0.8888888888888888,
             "#fdca26"
            ],
            [
             1,
             "#f0f921"
            ]
           ],
           "sequentialminus": [
            [
             0,
             "#0d0887"
            ],
            [
             0.1111111111111111,
             "#46039f"
            ],
            [
             0.2222222222222222,
             "#7201a8"
            ],
            [
             0.3333333333333333,
             "#9c179e"
            ],
            [
             0.4444444444444444,
             "#bd3786"
            ],
            [
             0.5555555555555556,
             "#d8576b"
            ],
            [
             0.6666666666666666,
             "#ed7953"
            ],
            [
             0.7777777777777778,
             "#fb9f3a"
            ],
            [
             0.8888888888888888,
             "#fdca26"
            ],
            [
             1,
             "#f0f921"
            ]
           ]
          },
          "colorway": [
           "#636efa",
           "#EF553B",
           "#00cc96",
           "#ab63fa",
           "#FFA15A",
           "#19d3f3",
           "#FF6692",
           "#B6E880",
           "#FF97FF",
           "#FECB52"
          ],
          "font": {
           "color": "#2a3f5f"
          },
          "geo": {
           "bgcolor": "white",
           "lakecolor": "white",
           "landcolor": "#E5ECF6",
           "showlakes": true,
           "showland": true,
           "subunitcolor": "white"
          },
          "hoverlabel": {
           "align": "left"
          },
          "hovermode": "closest",
          "mapbox": {
           "style": "light"
          },
          "paper_bgcolor": "white",
          "plot_bgcolor": "#E5ECF6",
          "polar": {
           "angularaxis": {
            "gridcolor": "white",
            "linecolor": "white",
            "ticks": ""
           },
           "bgcolor": "#E5ECF6",
           "radialaxis": {
            "gridcolor": "white",
            "linecolor": "white",
            "ticks": ""
           }
          },
          "scene": {
           "xaxis": {
            "backgroundcolor": "#E5ECF6",
            "gridcolor": "white",
            "gridwidth": 2,
            "linecolor": "white",
            "showbackground": true,
            "ticks": "",
            "zerolinecolor": "white"
           },
           "yaxis": {
            "backgroundcolor": "#E5ECF6",
            "gridcolor": "white",
            "gridwidth": 2,
            "linecolor": "white",
            "showbackground": true,
            "ticks": "",
            "zerolinecolor": "white"
           },
           "zaxis": {
            "backgroundcolor": "#E5ECF6",
            "gridcolor": "white",
            "gridwidth": 2,
            "linecolor": "white",
            "showbackground": true,
            "ticks": "",
            "zerolinecolor": "white"
           }
          },
          "shapedefaults": {
           "line": {
            "color": "#2a3f5f"
           }
          },
          "ternary": {
           "aaxis": {
            "gridcolor": "white",
            "linecolor": "white",
            "ticks": ""
           },
           "baxis": {
            "gridcolor": "white",
            "linecolor": "white",
            "ticks": ""
           },
           "bgcolor": "#E5ECF6",
           "caxis": {
            "gridcolor": "white",
            "linecolor": "white",
            "ticks": ""
           }
          },
          "title": {
           "x": 0.05
          },
          "xaxis": {
           "automargin": true,
           "gridcolor": "white",
           "linecolor": "white",
           "ticks": "",
           "title": {
            "standoff": 15
           },
           "zerolinecolor": "white",
           "zerolinewidth": 2
          },
          "yaxis": {
           "automargin": true,
           "gridcolor": "white",
           "linecolor": "white",
           "ticks": "",
           "title": {
            "standoff": 15
           },
           "zerolinecolor": "white",
           "zerolinewidth": 2
          }
         }
        },
        "title": {
         "text": "Target3 Top 50 feature importance"
        },
        "width": 1250,
        "xaxis": {
         "anchor": "y",
         "domain": [
          0,
          1
         ],
         "title": {
          "text": "feature_importance"
         }
        },
        "yaxis": {
         "anchor": "x",
         "categoryarray": [
          "StandingsMeta_grassWins",
          "StandingsMeta_pct",
          "StandingsMeta_divisionId",
          "StandingsMeta_divLosses",
          "Players_LE_primaryPositionCode",
          "StandingsMeta_runsScored",
          "target1_202104_quantile25",
          "target1_202104_quantile75",
          "Players_LE_birthCountry",
          "StandingsMeta_runsAllowed",
          "target1_202104_median",
          "target1_202104_min",
          "target1_202104_prob",
          "target4_202104_max",
          "target1_202104_std",
          "target3_202104_prob",
          "target3_202104_median",
          "target1_202104_max",
          "target2_202104_quantile25",
          "target2_202104_min",
          "target4_202104_quantile75",
          "target2_202104_prob",
          "target1_202104_mean",
          "target4_202104_std",
          "target3_202104_quantile25",
          "target3_202104_max",
          "PlayerTwitterFollowerAggregate_std",
          "target2_202104_max",
          "target2_202104_std",
          "target4_202104_prob",
          "target4_202104_mean",
          "target2_202104_quantile75",
          "target2_202104_median",
          "target4_202104_median",
          "PlayerTwitterFollowerAggregate_min",
          "target3_202104_min",
          "PlayerTwitterFollowerAggregate_mean",
          "target4_202104_quantile25",
          "PlayerTwitterFollowerAggregate_max",
          "target3_202104_quantile75",
          "target2_202104_mean",
          "PlayerTwitterFollowerAggregate_quantile75",
          "PlayerTwitterFollowerAggregate_quantile25",
          "PlayerTwitterFollowerAggregate_median",
          "target3_202104_std",
          "target4_202104_min",
          "target3_202104_mean",
          "Players_LE_playerid",
          "Rosters_LE_status",
          "Rosters_LE_teamId"
         ],
         "categoryorder": "array",
         "domain": [
          0,
          1
         ],
         "showgrid": true,
         "title": {
          "text": "feature"
         }
        }
       }
      }
     },
     "metadata": {}
    },
    {
     "output_type": "display_data",
     "data": {
      "application/vnd.plotly.v1+json": {
       "config": {
        "plotlyServerURL": "https://plot.ly"
       },
       "data": [
        {
         "alignmentgroup": "True",
         "hovertemplate": "feature_importance=%{x}<br>feature=%{y}<extra></extra>",
         "legendgroup": "",
         "marker": {
          "color": "#636efa"
         },
         "name": "",
         "notched": false,
         "offsetgroup": "",
         "orientation": "h",
         "showlegend": false,
         "type": "box",
         "x": [
          595162.7816324085,
          107102.6338133812,
          39636.1069868803,
          128747.35610151291,
          89858.11948680878,
          476702.57216501236,
          356744.69229507446,
          121598.0294380188,
          337299.8882575035,
          271248.48497772217,
          321413.1573562622,
          258632.84385108948,
          454723.6963815689,
          121248.82621085644,
          54510.355239510536,
          52138.14231663942,
          38422.568296432495,
          43920.507546424866,
          47044.13648605347,
          40830.296100616455,
          61355.43372249603,
          417720.9645462036,
          169989.34678459167,
          82117.97102737427,
          4241846.944388866,
          986056.918923378,
          605678.2784290314,
          196369.30759716034,
          156060.61083316803,
          1405746.4735693932,
          577378.1578554809,
          102185.51218128204,
          153766.6240348816,
          2082936.8057394624,
          478270.84934711456,
          143687.07781982422,
          69938.35195446014,
          340160.9507303238,
          55219.01566696167,
          89249.11784362793,
          32883.65884017944,
          172038.37573508918,
          113817.61201018095,
          26119.865716457367,
          80865.51041817665,
          134116.03149807453,
          135567.02080228832,
          339229.67794913054,
          162479.41688634455,
          287838.15130218863,
          226528.33116173744,
          60545.0659403801,
          58117.384273052216,
          57295.34622001648,
          51026.56025314331,
          326496.67200803757,
          202832.20116376877,
          92715.20593976974,
          292849.988158226,
          155569.6262922287,
          201310.74494552612,
          188274.94032096863,
          262553.7773704529,
          76535.94022750854,
          38655.83180618286,
          25533.80313682556,
          36976.3606262207,
          25542.210516929626,
          35307.18588256836,
          21925.787384033203,
          41128.12261581421,
          261321.11879634857,
          67990.07486343384,
          102879.07717895508,
          3743226.29477787,
          789449.4396849871,
          533356.0534362793,
          97194.91268157959,
          113333.81225180626,
          1310863.1651575565,
          413130.0895278454,
          63234.9766664505,
          89228.94352340698,
          1583617.8479008675,
          191832.1127796173,
          55269.758930683136,
          55580.60271406174,
          256832.26581656933,
          69709.20384216309,
          138469.21739196777,
          32053.41374397278,
          182083.67639803886,
          94666.45234298706,
          37681.86863899231,
          58979.27651023865,
          97464.6414513588,
          110107.94690144062,
          188200.10715432465,
          160412.38497573137,
          121442.13050615042
         ],
         "x0": " ",
         "xaxis": "x",
         "y": [
          "target1_202104_mean",
          "target1_202104_std",
          "target1_202104_min",
          "target1_202104_median",
          "target1_202104_prob",
          "target2_202104_mean",
          "target2_202104_std",
          "target2_202104_max",
          "target2_202104_min",
          "target2_202104_median",
          "target2_202104_quantile25",
          "target2_202104_quantile75",
          "target2_202104_prob",
          "target3_202104_mean",
          "target3_202104_std",
          "target3_202104_max",
          "target3_202104_min",
          "target3_202104_median",
          "target3_202104_quantile25",
          "target3_202104_quantile75",
          "target3_202104_prob",
          "target4_202104_mean",
          "target4_202104_std",
          "target4_202104_max",
          "target4_202104_min",
          "target4_202104_median",
          "target4_202104_quantile25",
          "target4_202104_quantile75",
          "target4_202104_prob",
          "Rosters_LE_teamId",
          "Rosters_LE_status",
          "Players_LE_birthCountry",
          "Players_LE_primaryPositionCode",
          "Players_LE_playerid",
          "PlayerTwitterFollowerAggregate_mean",
          "PlayerTwitterFollowerAggregate_std",
          "PlayerTwitterFollowerAggregate_max",
          "PlayerTwitterFollowerAggregate_min",
          "PlayerTwitterFollowerAggregate_median",
          "PlayerTwitterFollowerAggregate_quantile25",
          "PlayerTwitterFollowerAggregate_quantile75",
          "StandingsMeta_runsAllowed",
          "StandingsMeta_runsScored",
          "StandingsMeta_awayLosses",
          "StandingsMeta_divWins",
          "StandingsMeta_divLosses",
          "DatetimeEncoding_day2cos",
          "DatetimeEncoding_day2sin",
          "DatetimeEncoding_dow2cos",
          "DatetimeEncoding_dow2sin",
          "target1_202104_mean",
          "target1_202104_std",
          "target1_202104_min",
          "target1_202104_median",
          "target1_202104_prob",
          "target2_202104_mean",
          "target2_202104_std",
          "target2_202104_max",
          "target2_202104_min",
          "target2_202104_median",
          "target2_202104_quantile25",
          "target2_202104_quantile75",
          "target2_202104_prob",
          "target3_202104_mean",
          "target3_202104_std",
          "target3_202104_max",
          "target3_202104_min",
          "target3_202104_median",
          "target3_202104_quantile25",
          "target3_202104_quantile75",
          "target3_202104_prob",
          "target4_202104_mean",
          "target4_202104_std",
          "target4_202104_max",
          "target4_202104_min",
          "target4_202104_median",
          "target4_202104_quantile25",
          "target4_202104_quantile75",
          "target4_202104_prob",
          "Rosters_LE_teamId",
          "Rosters_LE_status",
          "Players_LE_birthCountry",
          "Players_LE_primaryPositionCode",
          "Players_LE_playerid",
          "PlayerTwitterFollowerAggregate_mean",
          "PlayerTwitterFollowerAggregate_std",
          "PlayerTwitterFollowerAggregate_max",
          "PlayerTwitterFollowerAggregate_min",
          "PlayerTwitterFollowerAggregate_median",
          "PlayerTwitterFollowerAggregate_quantile25",
          "PlayerTwitterFollowerAggregate_quantile75",
          "StandingsMeta_runsAllowed",
          "StandingsMeta_runsScored",
          "StandingsMeta_awayLosses",
          "StandingsMeta_divWins",
          "StandingsMeta_divLosses",
          "DatetimeEncoding_day2cos",
          "DatetimeEncoding_day2sin",
          "DatetimeEncoding_dow2cos",
          "DatetimeEncoding_dow2sin"
         ],
         "y0": " ",
         "yaxis": "y"
        }
       ],
       "layout": {
        "boxmode": "group",
        "height": 900,
        "legend": {
         "tracegroupgap": 0
        },
        "template": {
         "data": {
          "bar": [
           {
            "error_x": {
             "color": "#2a3f5f"
            },
            "error_y": {
             "color": "#2a3f5f"
            },
            "marker": {
             "line": {
              "color": "#E5ECF6",
              "width": 0.5
             }
            },
            "type": "bar"
           }
          ],
          "barpolar": [
           {
            "marker": {
             "line": {
              "color": "#E5ECF6",
              "width": 0.5
             }
            },
            "type": "barpolar"
           }
          ],
          "carpet": [
           {
            "aaxis": {
             "endlinecolor": "#2a3f5f",
             "gridcolor": "white",
             "linecolor": "white",
             "minorgridcolor": "white",
             "startlinecolor": "#2a3f5f"
            },
            "baxis": {
             "endlinecolor": "#2a3f5f",
             "gridcolor": "white",
             "linecolor": "white",
             "minorgridcolor": "white",
             "startlinecolor": "#2a3f5f"
            },
            "type": "carpet"
           }
          ],
          "choropleth": [
           {
            "colorbar": {
             "outlinewidth": 0,
             "ticks": ""
            },
            "type": "choropleth"
           }
          ],
          "contour": [
           {
            "colorbar": {
             "outlinewidth": 0,
             "ticks": ""
            },
            "colorscale": [
             [
              0,
              "#0d0887"
             ],
             [
              0.1111111111111111,
              "#46039f"
             ],
             [
              0.2222222222222222,
              "#7201a8"
             ],
             [
              0.3333333333333333,
              "#9c179e"
             ],
             [
              0.4444444444444444,
              "#bd3786"
             ],
             [
              0.5555555555555556,
              "#d8576b"
             ],
             [
              0.6666666666666666,
              "#ed7953"
             ],
             [
              0.7777777777777778,
              "#fb9f3a"
             ],
             [
              0.8888888888888888,
              "#fdca26"
             ],
             [
              1,
              "#f0f921"
             ]
            ],
            "type": "contour"
           }
          ],
          "contourcarpet": [
           {
            "colorbar": {
             "outlinewidth": 0,
             "ticks": ""
            },
            "type": "contourcarpet"
           }
          ],
          "heatmap": [
           {
            "colorbar": {
             "outlinewidth": 0,
             "ticks": ""
            },
            "colorscale": [
             [
              0,
              "#0d0887"
             ],
             [
              0.1111111111111111,
              "#46039f"
             ],
             [
              0.2222222222222222,
              "#7201a8"
             ],
             [
              0.3333333333333333,
              "#9c179e"
             ],
             [
              0.4444444444444444,
              "#bd3786"
             ],
             [
              0.5555555555555556,
              "#d8576b"
             ],
             [
              0.6666666666666666,
              "#ed7953"
             ],
             [
              0.7777777777777778,
              "#fb9f3a"
             ],
             [
              0.8888888888888888,
              "#fdca26"
             ],
             [
              1,
              "#f0f921"
             ]
            ],
            "type": "heatmap"
           }
          ],
          "heatmapgl": [
           {
            "colorbar": {
             "outlinewidth": 0,
             "ticks": ""
            },
            "colorscale": [
             [
              0,
              "#0d0887"
             ],
             [
              0.1111111111111111,
              "#46039f"
             ],
             [
              0.2222222222222222,
              "#7201a8"
             ],
             [
              0.3333333333333333,
              "#9c179e"
             ],
             [
              0.4444444444444444,
              "#bd3786"
             ],
             [
              0.5555555555555556,
              "#d8576b"
             ],
             [
              0.6666666666666666,
              "#ed7953"
             ],
             [
              0.7777777777777778,
              "#fb9f3a"
             ],
             [
              0.8888888888888888,
              "#fdca26"
             ],
             [
              1,
              "#f0f921"
             ]
            ],
            "type": "heatmapgl"
           }
          ],
          "histogram": [
           {
            "marker": {
             "colorbar": {
              "outlinewidth": 0,
              "ticks": ""
             }
            },
            "type": "histogram"
           }
          ],
          "histogram2d": [
           {
            "colorbar": {
             "outlinewidth": 0,
             "ticks": ""
            },
            "colorscale": [
             [
              0,
              "#0d0887"
             ],
             [
              0.1111111111111111,
              "#46039f"
             ],
             [
              0.2222222222222222,
              "#7201a8"
             ],
             [
              0.3333333333333333,
              "#9c179e"
             ],
             [
              0.4444444444444444,
              "#bd3786"
             ],
             [
              0.5555555555555556,
              "#d8576b"
             ],
             [
              0.6666666666666666,
              "#ed7953"
             ],
             [
              0.7777777777777778,
              "#fb9f3a"
             ],
             [
              0.8888888888888888,
              "#fdca26"
             ],
             [
              1,
              "#f0f921"
             ]
            ],
            "type": "histogram2d"
           }
          ],
          "histogram2dcontour": [
           {
            "colorbar": {
             "outlinewidth": 0,
             "ticks": ""
            },
            "colorscale": [
             [
              0,
              "#0d0887"
             ],
             [
              0.1111111111111111,
              "#46039f"
             ],
             [
              0.2222222222222222,
              "#7201a8"
             ],
             [
              0.3333333333333333,
              "#9c179e"
             ],
             [
              0.4444444444444444,
              "#bd3786"
             ],
             [
              0.5555555555555556,
              "#d8576b"
             ],
             [
              0.6666666666666666,
              "#ed7953"
             ],
             [
              0.7777777777777778,
              "#fb9f3a"
             ],
             [
              0.8888888888888888,
              "#fdca26"
             ],
             [
              1,
              "#f0f921"
             ]
            ],
            "type": "histogram2dcontour"
           }
          ],
          "mesh3d": [
           {
            "colorbar": {
             "outlinewidth": 0,
             "ticks": ""
            },
            "type": "mesh3d"
           }
          ],
          "parcoords": [
           {
            "line": {
             "colorbar": {
              "outlinewidth": 0,
              "ticks": ""
             }
            },
            "type": "parcoords"
           }
          ],
          "pie": [
           {
            "automargin": true,
            "type": "pie"
           }
          ],
          "scatter": [
           {
            "marker": {
             "colorbar": {
              "outlinewidth": 0,
              "ticks": ""
             }
            },
            "type": "scatter"
           }
          ],
          "scatter3d": [
           {
            "line": {
             "colorbar": {
              "outlinewidth": 0,
              "ticks": ""
             }
            },
            "marker": {
             "colorbar": {
              "outlinewidth": 0,
              "ticks": ""
             }
            },
            "type": "scatter3d"
           }
          ],
          "scattercarpet": [
           {
            "marker": {
             "colorbar": {
              "outlinewidth": 0,
              "ticks": ""
             }
            },
            "type": "scattercarpet"
           }
          ],
          "scattergeo": [
           {
            "marker": {
             "colorbar": {
              "outlinewidth": 0,
              "ticks": ""
             }
            },
            "type": "scattergeo"
           }
          ],
          "scattergl": [
           {
            "marker": {
             "colorbar": {
              "outlinewidth": 0,
              "ticks": ""
             }
            },
            "type": "scattergl"
           }
          ],
          "scattermapbox": [
           {
            "marker": {
             "colorbar": {
              "outlinewidth": 0,
              "ticks": ""
             }
            },
            "type": "scattermapbox"
           }
          ],
          "scatterpolar": [
           {
            "marker": {
             "colorbar": {
              "outlinewidth": 0,
              "ticks": ""
             }
            },
            "type": "scatterpolar"
           }
          ],
          "scatterpolargl": [
           {
            "marker": {
             "colorbar": {
              "outlinewidth": 0,
              "ticks": ""
             }
            },
            "type": "scatterpolargl"
           }
          ],
          "scatterternary": [
           {
            "marker": {
             "colorbar": {
              "outlinewidth": 0,
              "ticks": ""
             }
            },
            "type": "scatterternary"
           }
          ],
          "surface": [
           {
            "colorbar": {
             "outlinewidth": 0,
             "ticks": ""
            },
            "colorscale": [
             [
              0,
              "#0d0887"
             ],
             [
              0.1111111111111111,
              "#46039f"
             ],
             [
              0.2222222222222222,
              "#7201a8"
             ],
             [
              0.3333333333333333,
              "#9c179e"
             ],
             [
              0.4444444444444444,
              "#bd3786"
             ],
             [
              0.5555555555555556,
              "#d8576b"
             ],
             [
              0.6666666666666666,
              "#ed7953"
             ],
             [
              0.7777777777777778,
              "#fb9f3a"
             ],
             [
              0.8888888888888888,
              "#fdca26"
             ],
             [
              1,
              "#f0f921"
             ]
            ],
            "type": "surface"
           }
          ],
          "table": [
           {
            "cells": {
             "fill": {
              "color": "#EBF0F8"
             },
             "line": {
              "color": "white"
             }
            },
            "header": {
             "fill": {
              "color": "#C8D4E3"
             },
             "line": {
              "color": "white"
             }
            },
            "type": "table"
           }
          ]
         },
         "layout": {
          "annotationdefaults": {
           "arrowcolor": "#2a3f5f",
           "arrowhead": 0,
           "arrowwidth": 1
          },
          "autotypenumbers": "strict",
          "coloraxis": {
           "colorbar": {
            "outlinewidth": 0,
            "ticks": ""
           }
          },
          "colorscale": {
           "diverging": [
            [
             0,
             "#8e0152"
            ],
            [
             0.1,
             "#c51b7d"
            ],
            [
             0.2,
             "#de77ae"
            ],
            [
             0.3,
             "#f1b6da"
            ],
            [
             0.4,
             "#fde0ef"
            ],
            [
             0.5,
             "#f7f7f7"
            ],
            [
             0.6,
             "#e6f5d0"
            ],
            [
             0.7,
             "#b8e186"
            ],
            [
             0.8,
             "#7fbc41"
            ],
            [
             0.9,
             "#4d9221"
            ],
            [
             1,
             "#276419"
            ]
           ],
           "sequential": [
            [
             0,
             "#0d0887"
            ],
            [
             0.1111111111111111,
             "#46039f"
            ],
            [
             0.2222222222222222,
             "#7201a8"
            ],
            [
             0.3333333333333333,
             "#9c179e"
            ],
            [
             0.4444444444444444,
             "#bd3786"
            ],
            [
             0.5555555555555556,
             "#d8576b"
            ],
            [
             0.6666666666666666,
             "#ed7953"
            ],
            [
             0.7777777777777778,
             "#fb9f3a"
            ],
            [
             0.8888888888888888,
             "#fdca26"
            ],
            [
             1,
             "#f0f921"
            ]
           ],
           "sequentialminus": [
            [
             0,
             "#0d0887"
            ],
            [
             0.1111111111111111,
             "#46039f"
            ],
            [
             0.2222222222222222,
             "#7201a8"
            ],
            [
             0.3333333333333333,
             "#9c179e"
            ],
            [
             0.4444444444444444,
             "#bd3786"
            ],
            [
             0.5555555555555556,
             "#d8576b"
            ],
            [
             0.6666666666666666,
             "#ed7953"
            ],
            [
             0.7777777777777778,
             "#fb9f3a"
            ],
            [
             0.8888888888888888,
             "#fdca26"
            ],
            [
             1,
             "#f0f921"
            ]
           ]
          },
          "colorway": [
           "#636efa",
           "#EF553B",
           "#00cc96",
           "#ab63fa",
           "#FFA15A",
           "#19d3f3",
           "#FF6692",
           "#B6E880",
           "#FF97FF",
           "#FECB52"
          ],
          "font": {
           "color": "#2a3f5f"
          },
          "geo": {
           "bgcolor": "white",
           "lakecolor": "white",
           "landcolor": "#E5ECF6",
           "showlakes": true,
           "showland": true,
           "subunitcolor": "white"
          },
          "hoverlabel": {
           "align": "left"
          },
          "hovermode": "closest",
          "mapbox": {
           "style": "light"
          },
          "paper_bgcolor": "white",
          "plot_bgcolor": "#E5ECF6",
          "polar": {
           "angularaxis": {
            "gridcolor": "white",
            "linecolor": "white",
            "ticks": ""
           },
           "bgcolor": "#E5ECF6",
           "radialaxis": {
            "gridcolor": "white",
            "linecolor": "white",
            "ticks": ""
           }
          },
          "scene": {
           "xaxis": {
            "backgroundcolor": "#E5ECF6",
            "gridcolor": "white",
            "gridwidth": 2,
            "linecolor": "white",
            "showbackground": true,
            "ticks": "",
            "zerolinecolor": "white"
           },
           "yaxis": {
            "backgroundcolor": "#E5ECF6",
            "gridcolor": "white",
            "gridwidth": 2,
            "linecolor": "white",
            "showbackground": true,
            "ticks": "",
            "zerolinecolor": "white"
           },
           "zaxis": {
            "backgroundcolor": "#E5ECF6",
            "gridcolor": "white",
            "gridwidth": 2,
            "linecolor": "white",
            "showbackground": true,
            "ticks": "",
            "zerolinecolor": "white"
           }
          },
          "shapedefaults": {
           "line": {
            "color": "#2a3f5f"
           }
          },
          "ternary": {
           "aaxis": {
            "gridcolor": "white",
            "linecolor": "white",
            "ticks": ""
           },
           "baxis": {
            "gridcolor": "white",
            "linecolor": "white",
            "ticks": ""
           },
           "bgcolor": "#E5ECF6",
           "caxis": {
            "gridcolor": "white",
            "linecolor": "white",
            "ticks": ""
           }
          },
          "title": {
           "x": 0.05
          },
          "xaxis": {
           "automargin": true,
           "gridcolor": "white",
           "linecolor": "white",
           "ticks": "",
           "title": {
            "standoff": 15
           },
           "zerolinecolor": "white",
           "zerolinewidth": 2
          },
          "yaxis": {
           "automargin": true,
           "gridcolor": "white",
           "linecolor": "white",
           "ticks": "",
           "title": {
            "standoff": 15
           },
           "zerolinecolor": "white",
           "zerolinewidth": 2
          }
         }
        },
        "title": {
         "text": "Target4 Top 50 feature importance"
        },
        "width": 1250,
        "xaxis": {
         "anchor": "y",
         "domain": [
          0,
          1
         ],
         "title": {
          "text": "feature_importance"
         }
        },
        "yaxis": {
         "anchor": "x",
         "categoryarray": [
          "target3_202104_quantile75",
          "StandingsMeta_awayLosses",
          "PlayerTwitterFollowerAggregate_quantile75",
          "target3_202104_median",
          "target3_202104_min",
          "target3_202104_max",
          "target3_202104_quantile25",
          "target3_202104_std",
          "target1_202104_min",
          "target3_202104_prob",
          "PlayerTwitterFollowerAggregate_median",
          "PlayerTwitterFollowerAggregate_max",
          "StandingsMeta_divWins",
          "target1_202104_prob",
          "Players_LE_birthCountry",
          "target1_202104_std",
          "target4_202104_max",
          "target1_202104_median",
          "target3_202104_mean",
          "PlayerTwitterFollowerAggregate_std",
          "StandingsMeta_runsScored",
          "target2_202104_max",
          "PlayerTwitterFollowerAggregate_quantile25",
          "StandingsMeta_divLosses",
          "target4_202104_std",
          "Players_LE_primaryPositionCode",
          "DatetimeEncoding_day2cos",
          "target4_202104_prob",
          "target4_202104_quantile75",
          "DatetimeEncoding_dow2cos",
          "StandingsMeta_runsAllowed",
          "DatetimeEncoding_dow2sin",
          "target2_202104_median",
          "target2_202104_quantile75",
          "target2_202104_quantile25",
          "DatetimeEncoding_day2sin",
          "target2_202104_std",
          "PlayerTwitterFollowerAggregate_min",
          "target2_202104_min",
          "PlayerTwitterFollowerAggregate_mean",
          "target4_202104_mean",
          "target2_202104_prob",
          "target2_202104_mean",
          "target1_202104_mean",
          "Rosters_LE_status",
          "target4_202104_quantile25",
          "target4_202104_median",
          "Rosters_LE_teamId",
          "Players_LE_playerid",
          "target4_202104_min"
         ],
         "categoryorder": "array",
         "domain": [
          0,
          1
         ],
         "showgrid": true,
         "title": {
          "text": "feature"
         }
        }
       }
      }
     },
     "metadata": {}
    }
   ],
   "metadata": {}
  },
  {
   "cell_type": "code",
   "execution_count": 20,
   "source": [
    "# for target, model_tmps in zip(CFG.TARGETS, models):\n",
    "#     for i, model_tmp in enumerate(model_tmps):\n",
    "#         model_tmp.save_model(f\"{CFG.MODEL_PATH}/lgb_{target}_{i}.txt\")"
   ],
   "outputs": [],
   "metadata": {}
  },
  {
   "cell_type": "markdown",
   "source": [
    "## Inference"
   ],
   "metadata": {}
  },
  {
   "cell_type": "code",
   "execution_count": 16,
   "source": [
    "def update_dataset(input_df: pd.DataFrame, sample_prediction_df: pd.DataFrame):\n",
    "    '''datasetの更新\n",
    "    '''\n",
    "    # columnがNaNでなければ分岐処理が実行される(pd.isnaとかでも代用可)\n",
    "    # NaN == NaNはFalseになる\n",
    "    ####################\n",
    "    # rosters #\n",
    "    ####################\n",
    "    if input_df[\"rosters\"].iloc[0] == input_df[\"rosters\"].iloc[0]:\n",
    "        test_rosters = pd.read_json(input_df[\"rosters\"].iloc[0])\n",
    "    else:\n",
    "        test_rosters = sample_prediction_df[[\"playerId\"]].copy()\n",
    "        for col in mlb_train_ds.train_rosters.columns:\n",
    "            if col == \"playerId\": continue\n",
    "            test_rosters[col] = np.nan\n",
    "\n",
    "    test_rosters[\"date\"] = input_df.iloc[0][\"date\"]\n",
    "    if input_df.iloc[0][\"date\"] > 20210430:\n",
    "        mlb_train_ds.train_rosters = reduce_mem_usage(pd.concat([mlb_train_ds.train_rosters, test_rosters], axis=0, ignore_index=True))\n",
    "    ####################\n",
    "    # playerBoxScores #\n",
    "    ####################\n",
    "    if input_df[\"playerBoxScores\"].iloc[0] == input_df[\"playerBoxScores\"].iloc[0]:\n",
    "        test_scores = pd.read_json(input_df[\"playerBoxScores\"].iloc[0])\n",
    "    else:\n",
    "        test_scores = sample_prediction_df[[\"playerId\"]].copy()\n",
    "        for col in mlb_train_ds.train_scores.columns:\n",
    "            if col == \"playerId\": continue\n",
    "            test_scores[col] = np.nan\n",
    "    \n",
    "    test_scores[\"date\"] = input_df.iloc[0][\"date\"]\n",
    "    if input_df.iloc[0][\"date\"] > 20210430:\n",
    "        mlb_train_ds.train_scores = reduce_mem_usage(pd.concat([mlb_train_ds.train_scores, test_scores], axis=0, ignore_index=True))\n",
    "    ####################\n",
    "    # teamBoxScores #\n",
    "    ####################\n",
    "    if input_df[\"teamBoxScores\"].iloc[0] == input_df[\"teamBoxScores\"].iloc[0]:\n",
    "        test_teamBoxScores = pd.read_json(input_df[\"teamBoxScores\"].iloc[0])\n",
    "    else:\n",
    "        cols = mlb_train_ds.train_tbs.drop(columns=\"date\", axis=1).columns.tolist()\n",
    "        test_teamBoxScores = pd.DataFrame(columns=cols)\n",
    "        test_teamBoxScores[\"teamId\"] = mlb_train_ds.train_tbs.teamId.unique()\n",
    "\n",
    "    test_teamBoxScores[\"date\"] = input_df.iloc[0][\"date\"]\n",
    "    if input_df.iloc[0][\"date\"] > 20210430:\n",
    "        mlb_train_ds.train_tbs = reduce_mem_usage(pd.concat([mlb_train_ds.train_tbs, test_teamBoxScores], axis=0, ignore_index=True))\n",
    "    ####################\n",
    "    # games #\n",
    "    ####################\n",
    "    if input_df[\"games\"].iloc[0] == input_df[\"games\"].iloc[0]:\n",
    "        test_games = pd.read_json(input_df[\"games\"].iloc[0])\n",
    "    else:\n",
    "        cols = mlb_train_ds.train_games.drop(columns=\"date\", axis=1).columns.tolist()\n",
    "        test_games = pd.DataFrame(columns=cols)\n",
    "\n",
    "    test_games[\"date\"] = input_df.iloc[0][\"date\"]\n",
    "    if input_df.iloc[0][\"date\"] > 20210430:\n",
    "        mlb_train_ds.train_games = reduce_mem_usage(pd.concat([mlb_train_ds.train_games, test_games], axis=0, ignore_index=True))\n",
    "    ####################\n",
    "    # staindings #\n",
    "    ####################\n",
    "    if input_df[\"standings\"].iloc[0] == input_df[\"standings\"].iloc[0]:\n",
    "        test_standings = pd.read_json(input_df[\"standings\"].iloc[0])\n",
    "    else:\n",
    "        cols = mlb_train_ds.train_standings.drop(columns=\"date\", axis=1).columns.tolist()\n",
    "        test_standings = pd.DataFrame(columns=cols)\n",
    "    \n",
    "    test_standings[\"date\"] = input_df.iloc[0][\"date\"]\n",
    "    if input_df.iloc[0][\"date\"] > 20210430:\n",
    "        mlb_train_ds.train_standings = reduce_mem_usage(pd.concat([mlb_train_ds.train_standings, test_standings], axis=0, ignore_index=True))\n",
    "    ####################\n",
    "    # awards #\n",
    "    ####################\n",
    "    if input_df[\"awards\"].iloc[0] == input_df[\"awards\"].iloc[0]:\n",
    "        test_awards = pd.read_json(input_df[\"awards\"].iloc[0])\n",
    "    else:\n",
    "        cols = mlb_train_ds.train_awards.drop(columns=\"date\", axis=1).columns.tolist()\n",
    "        test_awards = pd.DataFrame(columns=cols)\n",
    "    \n",
    "    test_awards[\"date\"] = input_df.iloc[0][\"date\"]\n",
    "    if input_df.iloc[0][\"date\"] > 20210430:\n",
    "        mlb_train_ds.train_awards = reduce_mem_usage(pd.concat([mlb_train_ds.train_awards, test_awards], axis=0, ignore_index=True))"
   ],
   "outputs": [],
   "metadata": {}
  },
  {
   "cell_type": "code",
   "execution_count": 17,
   "source": [
    "# models = []\n",
    "# for target in CFG.TARGETS:\n",
    "#     tmp = [lgb.Booster(model_file=f\"{CFG.MODEL_PATH}/lgb_{target}_{i}.txt\") for i in range(len(CFG.SEEDS))]\n",
    "#     models.append(tmp)"
   ],
   "outputs": [],
   "metadata": {}
  },
  {
   "cell_type": "code",
   "execution_count": 18,
   "source": [
    "# env = mlb.make_env()\n",
    "# iter_test = env.iter_test()\n",
    "\n",
    "# for (test_df, sample_prediction_df) in iter_test:\n",
    "#     sample_prediction_df = sample_prediction_df.reset_index(drop=True)\n",
    "#     # create dataset\n",
    "#     test_df = test_df.reset_index()\n",
    "#     test_df = test_df.rename(columns={\"index\": \"date\"})\n",
    "#     sample_prediction_df[\"date\"] = test_df.iloc[0][\"date\"]\n",
    "#     sample_prediction_df[\"playerId\"] = sample_prediction_df[\"date_playerId\"].map(lambda x: int(x.split(\"_\")[1]))\n",
    "#     update_dataset(test_df, sample_prediction_df)\n",
    "#     # create features\n",
    "#     test_feat_df = create_test_feature(sample_prediction_df, update_blocks, non_update_blocks)\n",
    "#     X_test = test_feat_df.values\n",
    "#     # prediction\n",
    "#     for target, model in zip(CFG.TARGETS, models):\n",
    "#         pred = np.mean([model_.predict(X_test, num_iteration=model_.best_iteration) for model_ in model], axis=0)\n",
    "#         sample_prediction_df[target] = np.clip(pred, 0, 100)\n",
    "\n",
    "#     sample_prediction_df = sample_prediction_df.drop(columns=[\"playerId\", \"date\"], axis=1)\n",
    "\n",
    "#     env.predict(sample_prediction_df)"
   ],
   "outputs": [],
   "metadata": {}
  },
  {
   "cell_type": "code",
   "execution_count": 19,
   "source": [
    "# Local inference check\n",
    "# test_df = mlb_train_ds.example_test.query(\"date <= 20210426\").copy()\n",
    "# sample_prediction_df = mlb_train_ds.sample_submission.query(\"date <= 20210426\").copy()\n",
    "# sample_prediction_df[\"playerId\"] = sample_prediction_df[\"date_playerId\"].map(lambda x: int(x.split(\"_\")[1]))"
   ],
   "outputs": [],
   "metadata": {}
  },
  {
   "cell_type": "code",
   "execution_count": null,
   "source": [],
   "outputs": [],
   "metadata": {}
  }
 ],
 "metadata": {
  "orig_nbformat": 4,
  "language_info": {
   "name": "python",
   "version": "3.8.8",
   "mimetype": "text/x-python",
   "codemirror_mode": {
    "name": "ipython",
    "version": 3
   },
   "pygments_lexer": "ipython3",
   "nbconvert_exporter": "python",
   "file_extension": ".py"
  },
  "kernelspec": {
   "name": "python3",
   "display_name": "Python 3.8.8 64-bit ('.venv': poetry)"
  },
  "interpreter": {
   "hash": "49e542643694108dbc7cdf9f60531ad0f8dd36c5e7a125d96861557f43e4f65e"
  }
 },
 "nbformat": 4,
 "nbformat_minor": 2
}