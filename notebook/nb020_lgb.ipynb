{
 "cells": [
  {
   "cell_type": "markdown",
   "source": [
    "# Overview\n",
    "- LightGBM"
   ],
   "metadata": {}
  },
  {
   "cell_type": "code",
   "execution_count": 1,
   "source": [
    "import numpy as np\n",
    "import pandas as pd\n",
    "from pathlib import Path\n",
    "from sklearn.metrics import mean_absolute_error\n",
    "from datetime import timedelta\n",
    "from tqdm.notebook import tqdm\n",
    "import lightgbm as lgb\n",
    "from typing import List, Union, Optional\n",
    "import time\n",
    "from contextlib import contextmanager\n",
    "import sys\n",
    "import logging\n",
    "import category_encoders as ce\n",
    "import plotly\n",
    "from plotly import express as px\n",
    "from scipy.stats import norm\n",
    "# from optuna.integration import lightgbm as lgb\n",
    "# import mlb\n",
    "\n",
    "pd.options.display.max_columns = 200"
   ],
   "outputs": [],
   "metadata": {}
  },
  {
   "cell_type": "markdown",
   "source": [
    "## Config"
   ],
   "metadata": {}
  },
  {
   "cell_type": "code",
   "execution_count": 2,
   "source": [
    "class CFG:\n",
    "    ######################\n",
    "    # global #\n",
    "    ######################\n",
    "    INPUT_DIR = \"../input/mlb-player-digital-engagement-forecasting\"\n",
    "    # INPUT_DIR = \"../input/mlb-unnested-dataset\" # for kaggle kernel\n",
    "    OBJECT_ID = [\"playerId\", \"date\"]\n",
    "    TARGETS = [\"target1\", \"target2\", \"target3\", \"target4\"]\n",
    "    ######################\n",
    "    # model #\n",
    "    ######################s\n",
    "    # target1\n",
    "    LGB_TARGET1_PARAMS = {\n",
    "        \"objective\": \"mae\",\n",
    "        \"metric\": \"l1\",\n",
    "        \"boosting_type\": \"gbdt\",\n",
    "        \"learning_rate\": 0.1,\n",
    "        \"max_depth\": 6,\n",
    "        \"num_leaves\": 54,\n",
    "        \"lambda_l1\": 1.8294424356946235e-07,\n",
    "        \"lambda_l2\": 8.269494679852943e-05,\n",
    "        \"bagging_fraction\": 0.9311050425278897,\n",
    "        \"bagging_freq\": 2,\n",
    "        \"feature_fraction\": 0.9840000000000001,\n",
    "        \"min_data_in_leaf\": 20,\n",
    "        \"num_threads\": 8,\n",
    "        \"verbosity\": -1,\n",
    "        \"num_iterations\": 10000,\n",
    "        \"early_stopping_round\": 100,\n",
    "    }\n",
    "    # target2\n",
    "    LGB_TARGET2_PARAMS = {\n",
    "        \"objective\": \"mae\",\n",
    "        \"metric\": \"l1\",\n",
    "        \"boosting_type\": \"gbdt\",\n",
    "        \"learning_rate\": 0.1,\n",
    "        \"max_depth\": 6,\n",
    "        \"num_leaves\": 14,\n",
    "        \"lambda_l1\": 4.379035512071324e-06,\n",
    "        \"lambda_l2\": 5.940520594400555e-05,\n",
    "        \"bagging_fraction\": 1.0,\n",
    "        \"bagging_freq\": 0,\n",
    "        \"feature_fraction\": 0.5,\n",
    "        \"min_data_in_leaf\": 20,\n",
    "        \"num_threads\": 8,\n",
    "        \"verbosity\": -1,\n",
    "        \"num_iterations\": 10000,\n",
    "        \"early_stopping_round\": 100,\n",
    "    }\n",
    "    # target3\n",
    "    LGB_TARGET3_PARAMS = {\n",
    "        \"objective\": \"mae\",\n",
    "        \"metric\": \"l1\",\n",
    "        \"boosting_type\": \"gbdt\",\n",
    "        \"learning_rate\": 0.1,\n",
    "        \"max_depth\": 6,\n",
    "        \"num_leaves\": 64,\n",
    "        \"lambda_l1\": 0.011234793539671765,\n",
    "        \"lambda_l2\": 4.766835836661758e-06,\n",
    "        \"bagging_fraction\": 0.8841726515054378,\n",
    "        \"bagging_freq\": 3,\n",
    "        \"feature_fraction\": 1.0,\n",
    "        \"min_data_in_leaf\": 100,\n",
    "        \"num_threads\": 8,\n",
    "        \"verbosity\": -1,\n",
    "        \"num_iterations\": 10000,\n",
    "        \"early_stopping_round\": 100,\n",
    "    }\n",
    "    # target4\n",
    "    LGB_TARGET4_PARAMS = {\n",
    "        \"objective\": \"mae\",\n",
    "        \"metric\": \"l1\",\n",
    "        \"boosting_type\": \"gbdt\",\n",
    "        \"learning_rate\": 0.1,\n",
    "        \"max_depth\": 6,\n",
    "        \"num_leaves\": 51,\n",
    "        \"lambda_l1\": 5.506356543008336,\n",
    "        \"lambda_l2\": 9.683199146595637,\n",
    "        \"bagging_fraction\": 0.7376768451562011,\n",
    "        \"bagging_freq\": 2,\n",
    "        \"feature_fraction\": 0.5,\n",
    "        \"min_data_in_leaf\": 20,\n",
    "        \"num_threads\": 8,\n",
    "        \"verbosity\": -1,\n",
    "        \"num_iterations\": 10000,\n",
    "        \"early_stopping_round\": 100,\n",
    "    }\n",
    "    SEEDS = [2434]\n",
    "    MODEL_PATH = \"../output/nb020\"\n",
    "    # MODEL_PATH = \"../input/mlb-nb020-lgb-weights\" # for kaggle kernel"
   ],
   "outputs": [],
   "metadata": {}
  },
  {
   "cell_type": "markdown",
   "source": [
    "## Utils"
   ],
   "metadata": {}
  },
  {
   "cell_type": "code",
   "execution_count": 3,
   "source": [
    "def get_logger(out_file=None):\n",
    "    logger = logging.getLogger()  # loggerの呼び出し\n",
    "    formatter = logging.Formatter(\"[%(asctime)s] [%(levelname)s] [%(message)s]\")  # ログ出力の際のフォーマットを定義\n",
    "    logger.handlers = []  # ハンドラーを追加するためのリスト\n",
    "    logger.setLevel(logging.INFO)  # ロギングのレベルを設定, 'INFO' : 想定された通りのことが起こったことの確認\n",
    "\n",
    "    handler = logging.StreamHandler(sys.stdout)  # StreamHandler(コンソールに出力するハンドラ)を追加\n",
    "    handler.setFormatter(formatter)\n",
    "    handler.setLevel(logging.INFO)\n",
    "    logger.addHandler(handler)\n",
    "\n",
    "    # ログをファイルとして出力する際のハンドラ(FileHandler)\n",
    "    if out_file is not None:\n",
    "        fh = logging.FileHandler(out_file)\n",
    "        fh.setFormatter(formatter)\n",
    "        fh.setLevel(logging.INFO)\n",
    "        logger.addHandler(fh)\n",
    "\n",
    "    logger.info(\"logger set up\")  # \"logger set up\"を表示\n",
    "    return logger\n",
    "\n",
    "\n",
    "@contextmanager\n",
    "def timer(name: str, logger: Optional[logging.Logger] = None):\n",
    "    t0 = time.time()\n",
    "    msg = f\"<{name}> start\"\n",
    "    if logger is None:\n",
    "        print(msg)\n",
    "    else:\n",
    "        logger.info(msg)\n",
    "    yield\n",
    "\n",
    "    msg = f\"<{name}> done in {time.time() - t0:.2f} s\"\n",
    "    if logger is None:\n",
    "        print(msg)\n",
    "    else:\n",
    "        logger.info(msg)\n",
    "\n",
    "\n",
    "def reduce_mem_usage(df, verbose=True):\n",
    "    numerics = ['int16', 'int32', 'int64', 'float16', 'float32', 'float64']\n",
    "    start_mem = df.memory_usage().sum() / 1024**2\n",
    "    for col in df.columns:\n",
    "        col_type = df[col].dtypes\n",
    "        if col_type in numerics:\n",
    "            c_min = df[col].min()\n",
    "            c_max = df[col].max()\n",
    "            if str(col_type)[:3] == 'int':\n",
    "                if c_min > np.iinfo(np.int8).min and c_max < np.iinfo(np.int8).max:\n",
    "                    df[col] = df[col].astype(np.int16)\n",
    "                elif c_min > np.iinfo(np.int16).min and c_max < np.iinfo(np.int16).max:\n",
    "                    df[col] = df[col].astype(np.int32)\n",
    "                elif c_min > np.iinfo(np.int32).min and c_max < np.iinfo(np.int32).max:\n",
    "                    df[col] = df[col].astype(np.int64)\n",
    "                elif c_min > np.iinfo(np.int64).min and c_max < np.iinfo(np.int64).max:\n",
    "                    df[col] = df[col].astype(np.int64)\n",
    "            else:\n",
    "                if c_min > np.finfo(np.float16).min and c_max < np.finfo(np.float16).max:\n",
    "                    df[col] = df[col].astype(np.float32)\n",
    "                elif c_min > np.finfo(np.float32).min and c_max < np.finfo(np.float32).max:\n",
    "                    df[col] = df[col].astype(np.float64)\n",
    "                else:\n",
    "                    df[col] = df[col].astype(np.float64)\n",
    "    end_mem = df.memory_usage().sum() / 1024**2\n",
    "    if verbose: print('Mem. usage decreased to {:5.2f} Mb ({:.1f}% reduction)'.format(end_mem, 100 * (start_mem - end_mem) / start_mem))\n",
    "    return df"
   ],
   "outputs": [],
   "metadata": {}
  },
  {
   "cell_type": "markdown",
   "source": [
    "## Loading dataset"
   ],
   "metadata": {}
  },
  {
   "cell_type": "code",
   "execution_count": 4,
   "source": [
    "class MLBDataset(object):\n",
    "    def __init__(self, input_path):\n",
    "        self.input_path = Path(input_path)\n",
    "        #################\n",
    "        # train #\n",
    "        #################\n",
    "        self.train_next = pd.read_pickle(self.input_path / \"train_updated_nextDayPlayerEngagement.pickle\")\n",
    "        self.train_rosters = pd.read_pickle(self.input_path / \"train_updated_rosters.pickle\")\n",
    "        self.train_ptf = pd.read_pickle(self.input_path / \"train_updated_playerTwitterFollowers.pickle\")\n",
    "        self.train_scores = pd.read_pickle(self.input_path / \"train_updated_playerBoxScores.pickle\")\n",
    "        self.train_games = pd.read_pickle(self.input_path / \"train_updated_games.pickle\")\n",
    "        self.train_standings = pd.read_pickle(self.input_path / \"train_updated_standings.pickle\")\n",
    "        self.train_tbs = pd.read_pickle(self.input_path / \"train_updated_teamBoxScores.pickle\")\n",
    "        self.train_ttf = pd.read_pickle(self.input_path / \"train_updated_teamTwitterFollowers.pickle\")\n",
    "        self.train_trans = pd.read_pickle(self.input_path / \"train_updated_transactions.pickle\")\n",
    "        self.train_awards = pd.read_pickle(self.input_path / \"train_updated_awards.pickle\")\n",
    "        self.train_events = pd.read_pickle(self.input_path / \"train_updated_events.pickle\")\n",
    "        #################\n",
    "        # Additional #\n",
    "        #################\n",
    "        self.players = pd.read_pickle(self.input_path / \"players.pickle\")\n",
    "        self.awards = pd.read_pickle(self.input_path / \"awards.pickle\")\n",
    "        self.seasons = pd.read_pickle(self.input_path / \"seasons.pickle\")\n",
    "        self.teams = pd.read_pickle(self.input_path / \"teams.pickle\")\n",
    "        #################\n",
    "        # test #\n",
    "        #################\n",
    "        self.example_test = pd.read_csv(self.input_path / \"example_test.csv\")\n",
    "        self.sample_submission = pd.read_csv(self.input_path / \"example_sample_submission.csv\")\n",
    "\n",
    "        # # only players in test set\n",
    "        # target_playerids = self.players[self.players[\"playerForTestSetAndFuturePreds\"] == True][\"playerId\"].unique()\n",
    "        # self.train_next = self.train_next[self.train_next[\"playerId\"].isin(target_playerids)].reset_index(drop=True)\n",
    "\n",
    "mlb_train_ds = MLBDataset(CFG.INPUT_DIR)"
   ],
   "outputs": [],
   "metadata": {}
  },
  {
   "cell_type": "markdown",
   "source": [
    "## Feature blocks"
   ],
   "metadata": {}
  },
  {
   "cell_type": "code",
   "execution_count": 8,
   "source": [
    "def merge_by_key(left: Union[pd.DataFrame, pd.Series], right: pd.DataFrame, on=CFG.OBJECT_ID) -> pd.DataFrame:\n",
    "    if not isinstance(left, pd.Series):\n",
    "        left = left[on]\n",
    "    return pd.merge(left, right, on=on, how=\"left\").drop(columns=on)\n",
    "\n",
    "\n",
    "class BaseBlock(object):\n",
    "    def fit(self, input_df: pd.DataFrame, y=None) -> pd.DataFrame:\n",
    "        return self.transform(input_df)\n",
    "\n",
    "    def transform(self, input_df: pd.DataFrame) -> pd.DataFrame:\n",
    "        return NotImplementedError()\n",
    "\n",
    "\n",
    "# class LagBlock(BaseBlock):\n",
    "#     def __init__(self, column: str, periods: List[int]):\n",
    "#         self.column = column\n",
    "#         self.periods = periods\n",
    "\n",
    "#     def fit(self, input_df: pd.DataFrame, y=None):\n",
    "#         agg_list = [input_df.groupby([\"playerId\"], as_index=False)[self.column].transform(lambda x: x.shift(periods=period)).add_prefix(f\"{period}_\") for period in self.periods]\n",
    "#         self.agg_df = pd.concat(agg_list, axis=1)\n",
    "\n",
    "#         return self.transform(input_df)\n",
    "\n",
    "#     def transform(self, input_df: pd.DataFrame):\n",
    "#         return self.agg_df.add_prefix(\"Lag_\")\n",
    "\n",
    "\n",
    "def quantile25(x: pd.Series):\n",
    "    return x.quantile(q=0.25)\n",
    "\n",
    "\n",
    "def quantile75(x: pd.Series):\n",
    "    return x.quantile(q=0.75)\n",
    "\n",
    "\n",
    "def prob(x: pd.Series):\n",
    "    x = x.reset_index(drop=True).values.tolist()\n",
    "    mean = np.mean(x)\n",
    "    std = np.std(x)\n",
    "    distribution = norm(mean, std)\n",
    "    min_weight = min(x)\n",
    "    max_weight = max(x)\n",
    "    values = list(np.linspace(min_weight, max_weight))\n",
    "    probabilities = [distribution.pdf(v) for v in values]\n",
    "    max_values = max(probabilities)\n",
    "    max_index = probabilities.index(max_values)\n",
    "\n",
    "    return x[max_index]\n",
    "\n",
    "\n",
    "class TargetAggregateBlock(BaseBlock):\n",
    "    def __init__(self, periods: List[int]):\n",
    "        self.periods = periods\n",
    "        \n",
    "    def fit(self, input_df: pd.DataFrame, y=None):\n",
    "        output_df = pd.DataFrame()\n",
    "        for i in self.periods:\n",
    "            target_df = mlb_train_ds.train_next[(mlb_train_ds.train_next[\"date\"] >= i) & (mlb_train_ds.train_next[\"date\"] < (i + 100))].copy()\n",
    "            cols = target_df.drop(columns=[\"date\", \"engagementMetricsDate\", \"playerId\"], axis=1).columns.tolist()\n",
    "            dfs = [target_df.groupby([\"playerId\"])[col].agg([\n",
    "                \"mean\", \"std\", \"max\", \"min\", \"median\", quantile25, quantile75, prob\n",
    "                ]).add_prefix(f\"{col}_{str(i)[:-2]}_\") for col in cols]\n",
    "            tmp_df = pd.concat(dfs, axis=1)\n",
    "            output_df = pd.concat([output_df, tmp_df], axis=1)\n",
    "\n",
    "        self.agg_df = output_df.reset_index()\n",
    "\n",
    "        return self.transform(input_df)\n",
    "\n",
    "    def transform(self, input_df: pd.DataFrame):\n",
    "        return merge_by_key(input_df, self.agg_df, on=\"playerId\")\n",
    "\n",
    "\n",
    "class PlayersLabelEncodingBlock(BaseBlock):\n",
    "    def __init__(self, columns: List[str]):\n",
    "        self.columns = columns + [\"playerId\"]\n",
    "        self.players_df = mlb_train_ds.players.copy()\n",
    "        self.players_df[\"DOB_year\"] = pd.to_datetime(self.players_df[\"DOB\"]).dt.year\n",
    "        self.players_df[\"playerAge\"] = 2021 - self.players_df[\"DOB_year\"]\n",
    "        self.labeled_df = self.players_df[self.columns].copy()\n",
    "        self.labeled_df[\"playerid\"] = self.labeled_df[\"playerId\"]\n",
    "        self.columns = self.columns + [\"playerid\"]\n",
    "        self.encoder = None\n",
    "    \n",
    "    def fit(self, input_df: pd.DataFrame, y=None):\n",
    "        self.encoder = ce.OrdinalEncoder(handle_unknown=\"value\", handle_missing=\"values\")\n",
    "        self.encoder.fit(self.labeled_df[self.columns])\n",
    "        self.labeled_df[self.columns] = self.encoder.transform(self.labeled_df[self.columns])\n",
    "\n",
    "        return self.transform(input_df)\n",
    "\n",
    "    def transform(self, input_df: pd.DataFrame):\n",
    "        return merge_by_key(input_df, self.labeled_df, on=\"playerId\").add_prefix(\"Players_LE_\")\n",
    "\n",
    "\n",
    "class RostersLabelEncodingBlock(BaseBlock):\n",
    "    def __init__(self, columns: List[str]):\n",
    "        self.columns = columns\n",
    "        self.encoder = None\n",
    "\n",
    "    def fit(self, input_df: pd.DataFrame, y=None):\n",
    "        rosters_df = mlb_train_ds.train_rosters[self.columns]\n",
    "        self.encoder = ce.OrdinalEncoder(handle_unknown=\"value\", handle_missing=\"value\")\n",
    "        self.encoder.fit(rosters_df[self.columns])\n",
    "\n",
    "        return self.transform(input_df)\n",
    "\n",
    "    def transform(self, input_df: pd.DataFrame):\n",
    "        self.labeled_df = mlb_train_ds.train_rosters[CFG.OBJECT_ID + self.columns].copy()\n",
    "        self.labeled_df[self.columns] = self.encoder.transform(self.labeled_df[self.columns])\n",
    "\n",
    "        return merge_by_key(input_df, self.labeled_df).add_prefix(\"Rosters_LE_\")\n",
    "\n",
    "    \n",
    "# class PlayerBoxScoresCountBlock(BaseBlock):\n",
    "#     def __init__(self, columns: List[str]):\n",
    "#         self.columns = columns\n",
    "\n",
    "#     def transform(self, input_df: pd.DataFrame):\n",
    "#         self.agg_df = mlb_train_ds.train_scores.groupby(CFG.OBJECT_ID)[self.columns].sum().reset_index()\n",
    "        \n",
    "#         return merge_by_key(input_df, self.agg_df).add_prefix(\"PlayerBoxScoresCount_\")\n",
    "\n",
    "\n",
    "# class TeamBoxScoresCountBlock(BaseBlock):\n",
    "#     def __init__(self, columns: List[str]):\n",
    "#         self.columns = columns\n",
    "\n",
    "#     def transform(self, input_df: pd.DataFrame):\n",
    "#         input_df = input_df.merge(mlb_train_ds.train_rosters[[\"date\", \"playerId\", \"teamId\"]], on=[\"playerId\", \"date\"], how=\"left\")\n",
    "#         self.agg_df = mlb_train_ds.train_tbs.groupby([\"teamId\", \"date\"])[self.columns].sum().reset_index()\n",
    "\n",
    "#         return merge_by_key(input_df, self.agg_df, on=[\"teamId\", \"date\"]).add_prefix(\"TeamBoxScoresCount_\")\n",
    "\n",
    "\n",
    "class GamesCountBlock(BaseBlock):\n",
    "    def __init__(self, columns: List[str]):\n",
    "        self.columns = columns\n",
    "\n",
    "    def transform(self, input_df: pd.DataFrame):\n",
    "        games_df = mlb_train_ds.train_scores[[\"date\", \"playerId\", \"gamePk\"]].merge(mlb_train_ds.train_games, on=[\"date\", \"gamePk\"], how=\"left\")\n",
    "        self.agg_df = games_df.groupby([\"date\", \"playerId\"])[self.columns].sum().reset_index()\n",
    "\n",
    "        return merge_by_key(input_df, self.agg_df).add_prefix(\"GamesCount_\")\n",
    "\n",
    "\n",
    "class StandingsMetaBlock(BaseBlock):\n",
    "    def __init__(self, columns: List[str]):\n",
    "        self.columns = columns\n",
    "\n",
    "    def transform(self, input_df: pd.DataFrame):\n",
    "        self.standings_df = mlb_train_ds.train_rosters[[\"date\", \"playerId\", \"teamId\"]].merge(mlb_train_ds.train_standings, on=[\"date\", \"teamId\"], how=\"left\")\n",
    "\n",
    "        return merge_by_key(input_df, self.standings_df[self.columns]).add_prefix(\"StandingsMeta_\")\n",
    "\n",
    "\n",
    "class PlayerTwitterFollowerAggregateBlock(BaseBlock):\n",
    "    def fit(self, input_df: pd.DataFrame, y=None):\n",
    "        playerTwitterFollower_df = mlb_train_ds.train_ptf[mlb_train_ds.train_ptf[\"date\"] < 20210501].copy()\n",
    "        self.agg_df = playerTwitterFollower_df.groupby([\"playerId\"])[\"numberOfFollowers\"].agg([\n",
    "            \"mean\", \"std\", \"max\", \"min\", \"median\", quantile25, quantile75])\n",
    "\n",
    "        return self.transform(input_df)\n",
    "\n",
    "    def transform(self, input_df: pd.DataFrame):\n",
    "        return merge_by_key(input_df, self.agg_df, on=\"playerId\").add_prefix(\"PlayerTwitterFollowerAggregate_\")\n",
    "\n",
    "\n",
    "class PlayerStatsBlock(BaseBlock):\n",
    "    def transform(self, input_df: pd.DataFrame):\n",
    "        playerBoxScores = mlb_train_ds.train_scores.copy()\n",
    "        playerBoxScores[\"year\"] = pd.to_datetime(playerBoxScores[\"gameDate\"]).dt.year\n",
    "\n",
    "        self.agg_df = playerBoxScores.groupby([\"year\", \"playerId\", \"date\"], as_index=False).agg(\n",
    "            gamePk = (\"gamePk\", \"nunique\"),\n",
    "            home = (\"home\", np.sum),\n",
    "            # teamId = (\"teamId\", np.sum),\n",
    "            positionCode = (\"positionCode\", np.sum),\n",
    "            battingOrder = (\"battingOrder\", np.sum),\n",
    "            # 打撃編\n",
    "            gamesPlayedBatting = (\"gamesPlayedBatting\", np.sum),\n",
    "            plateAppearances = (\"plateAppearances\", np.sum),\n",
    "            atBats = (\"atBats\", np.sum),\n",
    "            hits = (\"hits\", np.sum),\n",
    "            doubles = (\"doubles\", np.sum),\n",
    "            triples = (\"triples\", np.sum),\n",
    "            homeRuns = (\"homeRuns\", np.sum),\n",
    "            rbi = (\"rbi\", np.sum),\n",
    "            runsScored = (\"runsScored\", np.sum),\n",
    "            totalBases = (\"totalBases\", np.sum),\n",
    "            baseOnBalls = (\"baseOnBalls\", np.sum),\n",
    "            hitByPitch = (\"hitByPitch\", np.sum),\n",
    "            intentionalWalks = (\"intentionalWalks\", np.sum),\n",
    "            groundIntoDoublePlay = (\"groundIntoDoublePlay\", np.sum),\n",
    "            groundIntoTriplePlay = (\"groundIntoTriplePlay\", np.sum),\n",
    "            strikeOuts = (\"strikeOuts\", np.sum),\n",
    "            sacBunts = (\"sacBunts\", np.sum),\n",
    "            sacFlies = (\"sacFlies\", np.sum),\n",
    "            caughtStealing = (\"caughtStealing\", np.sum),\n",
    "            stolenBases = (\"stolenBases\", np.sum),\n",
    "            leftOnBase = (\"leftOnBase\", np.sum),\n",
    "            catchersInterference = (\"catchersInterference\", np.sum),\n",
    "            pickoffs = (\"pickoffs\", np.sum),\n",
    "            flyOuts = (\"flyOuts\", np.sum),\n",
    "            groundOuts = (\"groundOuts\", np.sum),\n",
    "            # 投手編\n",
    "            gamesPlayedPitching = (\"gamesPlayedPitching\", np.sum),\n",
    "            gamesStartedPicthing = (\"gamesStartedPitching\", np.sum),\n",
    "            winsPitching = (\"winsPitching\", np.sum),\n",
    "            lossesPitching = (\"lossesPitching\", np.sum),\n",
    "            completeGamesPitching = (\"completeGamesPitching\", np.sum),\n",
    "            shutoutsPitching = (\"shutoutsPitching\", np.sum),\n",
    "            saves = (\"saves\", np.sum),\n",
    "            saveOpportunities = (\"saveOpportunities\", np.sum),\n",
    "            blownSaves = (\"blownSaves\", np.sum),\n",
    "            holds = (\"holds\", np.sum),\n",
    "            inningsPitched = (\"inningsPitched\", np.sum),\n",
    "            runsPitching = (\"runsPitching\", np.sum),\n",
    "            earnedRuns = (\"earnedRuns\", np.sum),\n",
    "            pitchesThrown = (\"pitchesThrown\", np.sum),\n",
    "            hitsPitching = (\"hitsPitching\", np.sum),\n",
    "            homeRunsPitching = (\"homeRunsPitching\", np.sum),\n",
    "            strikeOutsPitching = (\"strikeOutsPitching\", np.sum),\n",
    "            baseOnBallsPitching = (\"baseOnBallsPitching\", np.sum),\n",
    "            hitByPitchPitching = (\"hitByPitchPitching\", np.sum),\n",
    "            intentionalWalksPitching = (\"intentionalWalksPitching\", np.sum),\n",
    "            balks = (\"balks\", np.sum),\n",
    "            wildPitches = (\"wildPitches\", np.sum),\n",
    "            atBatsPitching = (\"atBatsPitching\", np.sum),\n",
    "            battersFaced = (\"battersFaced\", np.sum),\n",
    "            sacBuntsPitching = (\"sacBuntsPitching\", np.sum),\n",
    "            sacFliesPitching = (\"sacFliesPitching\", np.sum),\n",
    "            inheritedRunners = (\"inheritedRunners\", np.sum),\n",
    "            inheritedRunnersScored = (\"inheritedRunnersScored\", np.sum),\n",
    "            rbiPitching = (\"rbiPitching\", np.sum),\n",
    "            flyOutsPitching = (\"flyOutsPitching\", np.sum),\n",
    "            airOutsPitching = (\"airOutsPitching\", np.sum),\n",
    "            doublesPitching = (\"doublesPitching\", np.sum),\n",
    "            triplesPitching = (\"triplesPitching\", np.sum),\n",
    "            caughtStealingPitching = (\"caughtStealingPitching\", np.sum),\n",
    "            stolenBasesPitching = (\"stolenBasesPitching\", np.sum),\n",
    "            outsPitching = (\"outsPitching\", np.sum),\n",
    "            balls = (\"balls\", np.sum),\n",
    "            strikes = (\"strikes\", np.sum),\n",
    "            hitBatsmen = (\"hitBatsmen\", np.sum),\n",
    "            pickoffsPitching = (\"pickoffsPitching\", np.sum),\n",
    "            catchersInterferencePitching = (\"catchersInterferencePitching\", np.sum),\n",
    "            assists = (\"assists\", np.sum),\n",
    "            putOuts = (\"putOuts\", np.sum),\n",
    "            errors = (\"errors\", np.sum),\n",
    "            chances = (\"chances\", np.sum),\n",
    "            gamesFinishedPitching = (\"gamesFinishedPitching\", np.sum),\n",
    "            groundOutsPitching = (\"groundOutsPitching\", np.sum),\n",
    "            )\n",
    "\n",
    "        self.agg_df[\"qs\"] = ((self.agg_df[\"inningsPitched\"] >= 6) & (self.agg_df[\"runsPitching\"] <= 3)) * self.agg_df[\"gamesStartedPicthing\"]\n",
    "        self.agg_df[\"hqs\"] = ((self.agg_df[\"inningsPitched\"] >= 7) & (self.agg_df[\"runsPitching\"] <= 2)) * self.agg_df[\"gamesStartedPicthing\"]\n",
    "        \n",
    "        # シーズン成績\n",
    "        for col in self.agg_df.drop(columns=[\"year\", \"date\", \"playerId\"], axis=1).columns.tolist():\n",
    "            col_ = col + \"_cumsum\"\n",
    "            self.agg_df[col_] = self.agg_df.groupby([\"year\", \"playerId\"], as_index=False)[col].cumsum()\n",
    "\n",
    "        # 打撃編\n",
    "        self.agg_df[\"battingAverage\"] = self.agg_df[\"hits_cumsum\"] / self.agg_df[\"atBats_cumsum\"] # 打率\n",
    "        self.agg_df[\"sluggingPercentage\"] = self.agg_df[\"totalBases_cumsum\"] / self.agg_df[\"atBats_cumsum\"] # 長打率\n",
    "        self.agg_df[\"onBasePercentage\"] = (self.agg_df[\"hits_cumsum\"] + self.agg_df[\"baseOnBalls_cumsum\"] + self.agg_df[\"hitByPitch_cumsum\"])/(self.agg_df[\"atBats_cumsum\"] + self.agg_df[\"baseOnBalls_cumsum\"] + self.agg_df[\"hitByPitch_cumsum\"] + self.agg_df[\"sacFlies_cumsum\"]) # 出塁率\n",
    "        self.agg_df[\"ops\"] = self.agg_df[\"sluggingPercentage\"] + self.agg_df[\"onBasePercentage\"] # OPS\n",
    "        self.agg_df[\"isop\"] = self.agg_df[\"sluggingPercentage\"] - self.agg_df[\"battingAverage\"] # IsoP\n",
    "        self.agg_df[\"isod\"] = self.agg_df[\"onBasePercentage\"] - self.agg_df[\"battingAverage\"] # IsoD\n",
    "        self.agg_df[\"rc\"] = (self.agg_df[\"hits_cumsum\"] + self.agg_df[\"baseOnBalls_cumsum\"]) * self.agg_df[\"totalBases_cumsum\"] / (self.agg_df[\"atBats_cumsum\"] + self.agg_df[\"baseOnBalls_cumsum\"]) # RC\n",
    "        self.agg_df[\"rc27\"] = self.agg_df[\"rc\"] / (self.agg_df[\"atBats_cumsum\"] - self.agg_df[\"hits_cumsum\"] + self.agg_df[\"caughtStealing_cumsum\"] + self.agg_df[\"sacBunts_cumsum\"] + self.agg_df[\"sacFlies_cumsum\"] + self.agg_df[\"groundIntoDoublePlay_cumsum\"]) * 27 # RC27\n",
    "        self.agg_df[\"rc27\"] = self.agg_df[\"rc27\"].replace({np.inf: 0})\n",
    "        self.agg_df[\"babip\"] = (self.agg_df[\"hits_cumsum\"] - self.agg_df[\"homeRuns_cumsum\"]) / (self.agg_df[\"atBats_cumsum\"] - self.agg_df[\"strikeOuts_cumsum\"] - self.agg_df[\"homeRuns_cumsum\"] + self.agg_df[\"sacFlies_cumsum\"]) # BABIP\n",
    "        self.agg_df[\"bb_k\"] = self.agg_df[\"baseOnBalls_cumsum\"] / self.agg_df[\"strikeOuts_cumsum\"] # BB/K\n",
    "        self.agg_df[\"k%\"] = self.agg_df[\"strikeOuts_cumsum\"] / self.agg_df[\"plateAppearances_cumsum\"] # K%\n",
    "        # 投手編\n",
    "        self.agg_df[\"era\"] = self.agg_df[\"earnedRuns_cumsum\"] * 9 / self.agg_df[\"inningsPitched_cumsum\"] # 防御率\n",
    "        self.agg_df[\"wp\"] = self.agg_df[\"winsPitching_cumsum\"] / (self.agg_df[\"winsPitching_cumsum\"] + self.agg_df[\"lossesPitching_cumsum\"]) # 勝率\n",
    "        self.agg_df[\"k9\"] = self.agg_df[\"strikeOutsPitching_cumsum\"] * 9 / self.agg_df[\"inningsPitched_cumsum\"] # K/9(奪三振率)\n",
    "        self.agg_df[\"hits_allowed_average\"] = self.agg_df[\"hitsPitching_cumsum\"] / self.agg_df[\"atBatsPitching_cumsum\"] # 被打率\n",
    "        self.agg_df[\"hp\"] = self.agg_df[\"holds_cumsum\"] + self.agg_df[\"winsPitching_cumsum\"] # HP\n",
    "        self.agg_df[\"qs%\"] = self.agg_df[\"qs_cumsum\"] / self.agg_df[\"gamesStartedPicthing_cumsum\"] # QS率\n",
    "        self.agg_df[\"hqs%\"] = self.agg_df[\"hqs_cumsum\"] / self.agg_df[\"gamesStartedPicthing_cumsum\"] # HQS率\n",
    "        self.agg_df[\"k%_pitching\"] = self.agg_df[\"strikeOutsPitching_cumsum\"] / self.agg_df[\"battersFaced_cumsum\"] # K%\n",
    "        self.agg_df[\"bb9\"] = self.agg_df[\"baseOnBallsPitching_cumsum\"] * 9 / self.agg_df[\"inningsPitched_cumsum\"] # BB/9\n",
    "        self.agg_df[\"bb%\"] = self.agg_df[\"baseOnBallsPitching_cumsum\"] / self.agg_df[\"battersFaced_cumsum\"] # BB%\n",
    "        self.agg_df[\"k_bb\"] = self.agg_df[\"strikeOutsPitching_cumsum\"] / (self.agg_df[\"baseOnBallsPitching_cumsum\"] + self.agg_df[\"hitByPitchPitching_cumsum\"]) # K/BB\n",
    "        self.agg_df[\"hr9\"] = self.agg_df[\"homeRunsPitching_cumsum\"] * 9 / self.agg_df[\"inningsPitched_cumsum\"] # HR/9\n",
    "        self.agg_df[\"babip_pitching\"] = (self.agg_df[\"hitsPitching_cumsum\"] - self.agg_df[\"homeRunsPitching_cumsum\"]) / (self.agg_df[\"atBatsPitching_cumsum\"] - self.agg_df[\"strikeOutsPitching_cumsum\"] - self.agg_df[\"homeRunsPitching_cumsum\"] + self.agg_df[\"sacFliesPitching_cumsum\"]) # BABIP\n",
    "        self.agg_df[\"whip\"] = (self.agg_df[\"baseOnBallsPitching_cumsum\"] + self.agg_df[\"hitsPitching_cumsum\"]) / self.agg_df[\"inningsPitched_cumsum\"] # WHIP\n",
    "        # ランキング\n",
    "        # 率のものは規定打席以上かどうか、投手かどうかを加えたい\n",
    "        self.agg_df[\"homeRuns_rank\"] = self.agg_df.groupby([\"date\"])[\"homeRuns_cumsum\"].rank(ascending=False, method=\"min\").astype(int)\n",
    "        self.agg_df[\"hits_rank\"] = self.agg_df.groupby([\"date\"])[\"hits_cumsum\"].rank(ascending=False, method=\"min\").astype(int)\n",
    "        self.agg_df[\"rbi_rank\"] = self.agg_df.groupby([\"date\"])[\"rbi_cumsum\"].rank(ascending=False, method=\"min\").astype(int)\n",
    "        self.agg_df[\"doubles_rank\"] = self.agg_df.groupby([\"date\"])[\"doubles_cumsum\"].rank(ascending=False, method=\"min\").astype(int)\n",
    "        self.agg_df[\"triples_rank\"] = self.agg_df.groupby([\"date\"])[\"triples_cumsum\"].rank(ascending=False, method=\"min\").astype(int)\n",
    "        self.agg_df[\"runsScored_rank\"] = self.agg_df.groupby([\"date\"])[\"runsScored_cumsum\"].rank(ascending=False, method=\"min\").astype(int)\n",
    "        self.agg_df[\"totalBases_rank\"] = self.agg_df.groupby([\"date\"])[\"totalBases_cumsum\"].rank(ascending=False, method=\"min\").astype(int)\n",
    "        self.agg_df[\"baseOnBalls_rank\"] = self.agg_df.groupby([\"date\"])[\"baseOnBalls_cumsum\"].rank(ascending=False, method=\"min\").astype(int)\n",
    "        self.agg_df[\"hitByPitch_rank\"] = self.agg_df.groupby([\"date\"])[\"hitByPitch_cumsum\"].rank(ascending=False, method=\"min\").astype(int)\n",
    "        self.agg_df[\"strikeOuts_rank\"] = self.agg_df.groupby([\"date\"])[\"strikeOuts_cumsum\"].rank(ascending=False, method=\"min\").astype(int)\n",
    "        self.agg_df[\"stolenBases_rank\"] = self.agg_df.groupby([\"date\"])[\"stolenBases_cumsum\"].rank(ascending=False, method=\"min\").astype(int)\n",
    "        self.agg_df[\"plateAppearances_rank\"] = self.agg_df.groupby([\"date\"])[\"plateAppearances_cumsum\"].rank(ascending=False, method=\"min\").astype(int)\n",
    "        self.agg_df[\"atBats_rank\"] = self.agg_df.groupby([\"date\"])[\"atBats_cumsum\"].rank(ascending=False, method=\"min\").astype(int)\n",
    "\n",
    "        self.agg_df[\"battingAverage_rank\"] = self.agg_df[self.agg_df[\"gamesPlayedBatting\"] == 1.0].groupby([\"date\"])[\"battingAverage\"].rank(ascending=False, method=\"min\")\n",
    "        self.agg_df[\"ops_rank\"] = self.agg_df.groupby([\"date\"])[\"ops\"].rank(ascending=False, method=\"min\")\n",
    "        self.agg_df[\"isop_rank\"] = self.agg_df.groupby([\"date\"])[\"isop\"].rank(ascending=False, method=\"min\")\n",
    "        self.agg_df[\"isod_rank\"] = self.agg_df.groupby([\"date\"])[\"isod\"].rank(ascending=False, method=\"min\")\n",
    "        self.agg_df[\"rc_rank\"] = self.agg_df.groupby([\"date\"])[\"rc\"].rank(ascending=False, method=\"min\")\n",
    "        self.agg_df[\"rc27_rank\"] = self.agg_df.groupby([\"date\"])[\"rc27\"].rank(ascending=False, method=\"min\")\n",
    "        self.agg_df[\"babip_rank\"] = self.agg_df.groupby([\"date\"])[\"babip\"].rank(ascending=False, method=\"min\")\n",
    "        self.agg_df[\"bb_k_rank\"] = self.agg_df.groupby([\"date\"])[\"bb_k\"].rank(ascending=False, method=\"min\")\n",
    "        self.agg_df[\"k%_rank\"] = self.agg_df.groupby([\"date\"])[\"k%\"].rank(ascending=False, method=\"min\")\n",
    "\n",
    "        self.agg_df[\"winsPitching_rank\"] = self.agg_df.groupby([\"date\"])[\"winsPitching_cumsum\"].rank(ascending=False, method=\"min\").astype(int)\n",
    "        self.agg_df[\"lossesPitching_rank\"] = self.agg_df.groupby([\"date\"])[\"lossesPitching_cumsum\"].rank(ascending=False, method=\"min\").astype(int)\n",
    "        self.agg_df[\"saves_rank\"] = self.agg_df.groupby([\"date\"])[\"saves_cumsum\"].rank(ascending=False, method=\"min\").astype(int)\n",
    "        self.agg_df[\"holds_rank\"] = self.agg_df.groupby([\"date\"])[\"holds_cumsum\"].rank(ascending=False, method=\"min\").astype(int)\n",
    "        self.agg_df[\"completeGamesPitching_rank\"] = self.agg_df.groupby([\"date\"])[\"completeGamesPitching_cumsum\"].rank(ascending=False, method=\"min\").astype(int)\n",
    "        self.agg_df[\"shutoutsPitching_rank\"] = self.agg_df.groupby([\"date\"])[\"shutoutsPitching_cumsum\"].rank(ascending=False, method=\"min\").astype(int)\n",
    "        self.agg_df[\"inningsPitched_rank\"] = self.agg_df.groupby([\"date\"])[\"inningsPitched_cumsum\"].rank(ascending=False, method=\"min\").astype(int)\n",
    "        self.agg_df[\"runsPitching_rank\"] = self.agg_df.groupby([\"date\"])[\"runsPitching_cumsum\"].rank(ascending=False, method=\"min\").astype(int)\n",
    "        self.agg_df[\"earnedRuns_rank\"] = self.agg_df.groupby([\"date\"])[\"earnedRuns_cumsum\"].rank(ascending=False, method=\"min\").astype(int)\n",
    "\n",
    "        self.agg_df[\"era_rank\"] = self.agg_df.groupby([\"date\"])[\"era\"].rank(ascending=False, method=\"min\")\n",
    "        self.agg_df[\"whip_rank\"] = self.agg_df.groupby([\"date\"])[\"whip\"].rank(ascending=False, method=\"min\")\n",
    "        # 規定打席\n",
    "        # teamBoxScores = mlb_train_ds.train_tbs.copy()\n",
    "        # teamBoxScores[\"year\"] = pd.to_datetime(teamBoxScores[\"gameDate\"]).dt.year\n",
    "        # teamBoxScores_agg_df = teamBoxScores.groupby([\"year\", \"teamId\", \"date\"], as_index=False)[\"gamePk\"].nunique()\n",
    "        # teamBoxScores_agg_df[\"gamePk_cumsum\"] = teamBoxScores_agg_df.groupby([\"teamId\", \"year\"])[\"gamePk\"].cumsum()\n",
    "        # self.agg_df = self.agg_df.merge(teamBoxScores_agg_df, on=[\"date\"])\n",
    "        \n",
    "        # self.agg_df = reduce_mem_usage(self.agg_df)\n",
    "\n",
    "\n",
    "        return merge_by_key(input_df, self.agg_df.drop(columns=[\"year\"], axis=1)).add_prefix(\"PlayerStats_\")\n",
    "\n",
    "\n",
    "class AwardsCountBlock(BaseBlock):\n",
    "    def transform(self, input_df: pd.DataFrame):\n",
    "        awards_df = mlb_train_ds.train_awards.copy()\n",
    "        self.agg_df = pd.crosstab([awards_df[\"date\"], awards_df[\"playerId\"]], awards_df[\"awardId\"]).reset_index()\n",
    "\n",
    "        output_df = merge_by_key(input_df, self.agg_df).fillna(0).astype(int)\n",
    "        output_df[\"total_awards\"] = output_df.sum(axis=1)\n",
    "        return output_df.add_prefix(\"AwardsCount_\")\n",
    "\n",
    "\n",
    "def convert_cos(x, range):\n",
    "    return np.cos(2 * np.pi * (x / range))\n",
    "\n",
    "\n",
    "def convert_sin(x, range):\n",
    "    return np.sin(2 * np.pi * (x / range))\n",
    "\n",
    "\n",
    "class Datetime2trigonometricEncodingBlock(BaseBlock):\n",
    "    def transform(self, input_df: pd.DataFrame):\n",
    "        target_df = input_df.copy()\n",
    "        target_df[\"day\"] = pd.to_datetime(target_df[\"date\"].astype(str), format=\"%Y%m%d\").dt.day\n",
    "        target_df[\"dow\"] = pd.to_datetime(target_df[\"date\"].astype(str), format=\"%Y%m%d\").dt.dayofweek\n",
    "\n",
    "        target_df[\"day2cos\"] = target_df[\"day\"].apply(lambda x: convert_cos(x, 31))\n",
    "        target_df[\"day2sin\"] = target_df[\"day\"].apply(lambda x: convert_sin(x, 31))\n",
    "        target_df[\"dow2cos\"] = target_df[\"dow\"].apply(lambda x: convert_cos(x, 7))\n",
    "        target_df[\"dow2sin\"] = target_df[\"dow\"].apply(lambda x: convert_sin(x, 7))\n",
    "\n",
    "        return target_df[[\"day2cos\", \"day2sin\", \"dow2cos\", \"dow2sin\"]].add_prefix(\"DatetimeEncoding_\")"
   ],
   "outputs": [],
   "metadata": {}
  },
  {
   "cell_type": "code",
   "execution_count": 9,
   "source": [
    "def create_train_feature(input_df: pd.DataFrame, y: np.ndarray, update_blocks: list, non_update_blocks: list) -> pd.DataFrame:\n",
    "    feat_df = pd.DataFrame()\n",
    "    blocks = update_blocks + non_update_blocks\n",
    "\n",
    "    for block in blocks:\n",
    "        with timer(name=f\"{str(block) + '_fit'}\", logger=logger):\n",
    "            try:\n",
    "                out_feat_block = block.fit(input_df, y=y)\n",
    "            except Exception as e:\n",
    "                print(f\"Error on {block} fit.\")\n",
    "                raise e from e\n",
    "\n",
    "            assert len(out_feat_block) == len(input_df), block\n",
    "\n",
    "        feat_df = pd.concat([feat_df, out_feat_block], axis=1)\n",
    "\n",
    "    return feat_df\n",
    "\n",
    "\n",
    "def create_test_feature(input_df: pd.DataFrame, update_blocks: list, non_update_blocks: list) -> pd.DataFrame:\n",
    "    is_update = True if len(update_blocks) != 0 else False\n",
    "    update_feat_df = pd.DataFrame()\n",
    "    non_update_feat_df = pd.DataFrame()\n",
    "    \n",
    "    if is_update:\n",
    "        for block in update_blocks:\n",
    "            with timer(name=f\"{str(block) + '_update'}\", logger=logger):\n",
    "                try:\n",
    "                    out_feat_block = block.fit(input_df)\n",
    "                except Exception as e:\n",
    "                    print(f\"Error on {block} transform.\")\n",
    "                    raise e from e\n",
    "\n",
    "            update_feat_df = pd.concat([update_feat_df, out_feat_block], axis=1)\n",
    "        \n",
    "\n",
    "    for block in non_update_blocks:\n",
    "        with timer(name=f\"{str(block) + '_transform'}\", logger=logger):\n",
    "            try:\n",
    "                out_feat_block = block.transform(input_df)\n",
    "            except Exception as e:\n",
    "                print(f\"Error on {block} transform.\")\n",
    "                raise e from e\n",
    "\n",
    "            assert len(out_feat_block) == len(input_df), block\n",
    "\n",
    "        non_update_feat_df = pd.concat([non_update_feat_df, out_feat_block], axis=1)\n",
    "\n",
    "    feat_df = pd.concat([update_feat_df, non_update_feat_df], axis=1) if is_update else non_update_feat_df\n",
    "\n",
    "    return feat_df"
   ],
   "outputs": [],
   "metadata": {}
  },
  {
   "cell_type": "markdown",
   "source": [
    "## CV"
   ],
   "metadata": {}
  },
  {
   "cell_type": "code",
   "execution_count": 10,
   "source": [
    "def get_timeseries_holdout(train_df: pd.DataFrame, valid_start_date: int) -> List[tuple]:\n",
    "    fold = []\n",
    "    train_idx = np.array(train_df[train_df[\"date\"] < valid_start_date].index)\n",
    "    valid_idx = np.array(train_df[(train_df[\"date\"] >= valid_start_date) & (train_df[\"date\"] < (valid_start_date + 100))].index)\n",
    "    fold.append((train_idx, valid_idx))\n",
    "\n",
    "    return fold"
   ],
   "outputs": [],
   "metadata": {}
  },
  {
   "cell_type": "markdown",
   "source": [
    "## Model"
   ],
   "metadata": {}
  },
  {
   "cell_type": "code",
   "execution_count": 11,
   "source": [
    "class LightGBMTrainer:\n",
    "    def __init__(self, params: dict, seeds: List[int]):\n",
    "        self.params = params\n",
    "        self.seeds = seeds\n",
    "        self.models = []\n",
    "\n",
    "    def fit(self, X_train: np.ndarray, y_train: np.ndarray, cv: List[tuple]):\n",
    "        oof_all = []\n",
    "        for i, seed in enumerate(self.seeds):\n",
    "            self.params[\"seed\"] = seed\n",
    "\n",
    "            for train_idx, valid_idx in cv:\n",
    "                X_train_fold = X_train[train_idx]\n",
    "                X_valid_fold = X_train[valid_idx]\n",
    "\n",
    "                y_train_fold = y_train[train_idx]\n",
    "                y_valid_fold = y_train[valid_idx]\n",
    "\n",
    "                train_set = lgb.Dataset(X_train_fold, y_train_fold)\n",
    "                valid_set = lgb.Dataset(X_valid_fold, y_valid_fold, reference=train_set)\n",
    "\n",
    "                model = lgb.train(\n",
    "                    params=self.params,\n",
    "                    train_set=train_set,\n",
    "                    valid_sets=[train_set, valid_set],\n",
    "                    verbose_eval=100,\n",
    "                )\n",
    "\n",
    "                y_oof = model.predict(X_valid_fold, num_iteration=model.best_iteration)\n",
    "                oof_all.append(y_oof)\n",
    "                self.models.append(model)\n",
    "\n",
    "        oof_all = np.mean(oof_all, axis=0)\n",
    "        oof_score = mean_absolute_error(oof_all, y_valid_fold)\n",
    "\n",
    "        return oof_score, self.models\n",
    "\n",
    "    def predict(self, X_test: np.ndarray):\n",
    "        y_pred = np.mean([model.predict(X_test, num_iteration=model.best_iteration) for model in self.models], axis=0)\n",
    "\n",
    "        return y_pred\n",
    "\n",
    "\n",
    "def run_lgb(X_train, targets, seeds, fold):\n",
    "    cv_scores = []\n",
    "    models = []\n",
    "\n",
    "    for i, target in enumerate(targets):\n",
    "        print(f\"Training for Target{i+1}\")\n",
    "        if i == 0:\n",
    "            params = CFG.LGB_TARGET1_PARAMS\n",
    "        elif i == 1:\n",
    "            params = CFG.LGB_TARGET2_PARAMS\n",
    "        elif i == 2:\n",
    "            params = CFG.LGB_TARGET3_PARAMS\n",
    "        elif i == 3:\n",
    "            params = CFG.LGB_TARGET4_PARAMS\n",
    "        trainer = LightGBMTrainer(params, seeds)\n",
    "        oof_score_tmp, models_tmp = trainer.fit(X_train, target, fold)\n",
    "        cv_scores.append(oof_score_tmp)\n",
    "        models.append(models_tmp)\n",
    "        print(f\"Local Target{i+1} OOF-MAE : {np.mean(oof_score_tmp)}\")\n",
    "        print(\"-\"*50)\n",
    "\n",
    "    print(f\"Local MCMAE : {np.mean(cv_scores)}\")\n",
    "\n",
    "    return models"
   ],
   "outputs": [],
   "metadata": {}
  },
  {
   "cell_type": "markdown",
   "source": [
    "## Training"
   ],
   "metadata": {}
  },
  {
   "cell_type": "code",
   "execution_count": 12,
   "source": [
    "# set-up logger\n",
    "logger = get_logger()\n",
    "\n",
    "# create feature\n",
    "update_blocks = []\n",
    "non_update_blocks = [\n",
    "    TargetAggregateBlock(periods=[\n",
    "        # 20210201,\n",
    "        # 20210301,\n",
    "        20210401,\n",
    "    ]),\n",
    "    RostersLabelEncodingBlock(columns=[\n",
    "        \"teamId\",\n",
    "        \"status\"\n",
    "    ]),\n",
    "    PlayersLabelEncodingBlock(columns=[\n",
    "        \"birthCountry\",\n",
    "        # \"birthCity\",\n",
    "        # \"birthStateProvince\",\n",
    "        # \"heightInches\",\n",
    "        # \"weight\",\n",
    "        \"primaryPositionCode\",\n",
    "        # \"playerAge\"\n",
    "    ]),\n",
    "    PlayerStatsBlock(),\n",
    "    # AwardsCountBlock(),\n",
    "    # TeamBoxScoresCountBlock(columns=[\n",
    "    #     # 'date',\n",
    "    #     # 'home',\n",
    "    #     # 'teamId',\n",
    "    #     # 'gamePk',\n",
    "    #     # 'gameDate',\n",
    "    #     # 'gameTimeUTC',\n",
    "    #     'flyOuts',\n",
    "    #     'groundOuts',\n",
    "    #     'runsScored',\n",
    "    #     'doubles',\n",
    "    #     'triples',\n",
    "    #     'homeRuns',\n",
    "    #     'strikeOuts',\n",
    "    #     'baseOnBalls',\n",
    "    #     'intentionalWalks',\n",
    "    #     'hits',\n",
    "    #     'hitByPitch',\n",
    "    #     'atBats',\n",
    "    #     'caughtStealing',\n",
    "    #     'stolenBases',\n",
    "    #     'groundIntoDoublePlay',\n",
    "    #     'groundIntoTriplePlay',\n",
    "    #     'plateAppearances',\n",
    "    #     'totalBases',\n",
    "    #     'rbi',\n",
    "    #     'leftOnBase',\n",
    "    #     'sacBunts',\n",
    "    #     'sacFlies',\n",
    "    #     'catchersInterference',\n",
    "    #     'pickoffs',\n",
    "    #     'airOutsPitching',\n",
    "    #     'groundOutsPitching',\n",
    "    #     'runsPitching',\n",
    "    #     'doublesPitching',\n",
    "    #     'triplesPitching',\n",
    "    #     'homeRunsPitching',\n",
    "    #     'strikeOutsPitching',\n",
    "    #     'baseOnBallsPitching',\n",
    "    #     'intentionalWalksPitching',\n",
    "    #     'hitsPitching',\n",
    "    #     'hitByPitchPitching',\n",
    "    #     'atBatsPitching',\n",
    "    #     'caughtStealingPitching',\n",
    "    #     'stolenBasesPitching',\n",
    "    #     'inningsPitched',\n",
    "    #     'earnedRuns',\n",
    "    #     'battersFaced',\n",
    "    #     'outsPitching',\n",
    "    #     'hitBatsmen',\n",
    "    #     'balks',\n",
    "    #     'wildPitches',\n",
    "    #     'pickoffsPitching',\n",
    "    #     'rbiPitching',\n",
    "    #     'inheritedRunners',\n",
    "    #     'inheritedRunnersScored',\n",
    "    #     'catchersInterferencePitching',\n",
    "    #     'sacBuntsPitching',\n",
    "    #     'sacFliesPitching'\n",
    "    #     ]\n",
    "    # ),\n",
    "    GamesCountBlock(columns=[\n",
    "        # 'date',\n",
    "        # 'gamePk',\n",
    "        # 'gameType',\n",
    "        # 'season',\n",
    "        # 'gameDate',\n",
    "        # 'gameTimeUTC',\n",
    "        # 'resumeDate',\n",
    "        # 'resumedFrom',\n",
    "        # 'codedGameState',\n",
    "        # 'detailedGameState',\n",
    "        'isTie',\n",
    "        'gameNumber',\n",
    "        'doubleHeader',\n",
    "        # 'dayNight',\n",
    "        'scheduledInnings',\n",
    "        'gamesInSeries',\n",
    "        # 'seriesDescription',\n",
    "        'homeId',\n",
    "        # 'homeName',\n",
    "        # 'homeAbbrev',\n",
    "        'homeWins',\n",
    "        'homeLosses',\n",
    "        'homeWinPct',\n",
    "        'homeWinner',\n",
    "        'homeScore',\n",
    "        'awayId',\n",
    "        # 'awayName',\n",
    "        # 'awayAbbrev',\n",
    "        'awayWins',\n",
    "        'awayLosses',\n",
    "        'awayWinPct',\n",
    "        'awayWinner',\n",
    "        'awayScore'\n",
    "        ]\n",
    "    ),\n",
    "    PlayerTwitterFollowerAggregateBlock(),\n",
    "    StandingsMetaBlock(columns=[\n",
    "        'playerId',\n",
    "        'date',\n",
    "        # 'season',\n",
    "        # 'gameDate',\n",
    "        'divisionId',\n",
    "        # 'teamId',\n",
    "        # 'teamName',\n",
    "        # 'streakCode',\n",
    "        'divisionRank',\n",
    "        'leagueRank',\n",
    "        'wildCardRank',\n",
    "        # 'leagueGamesBack',\n",
    "        # 'sportGamesBack',\n",
    "        # 'divisionGamesBack',\n",
    "        'wins',\n",
    "        'losses',\n",
    "        'pct',\n",
    "        'runsAllowed',\n",
    "        'runsScored',\n",
    "        # 'divisionChamp',\n",
    "        # 'divisionLeader',\n",
    "        # 'wildCardLeader',\n",
    "        # 'eliminationNumber',\n",
    "        # 'wildCardEliminationNumber',\n",
    "        'homeWins',\n",
    "        'homeLosses',\n",
    "        'awayWins',\n",
    "        'awayLosses',\n",
    "        'lastTenWins',\n",
    "        'lastTenLosses',\n",
    "        'extraInningWins',\n",
    "        'extraInningLosses',\n",
    "        'oneRunWins',\n",
    "        'oneRunLosses',\n",
    "        'dayWins',\n",
    "        'dayLosses',\n",
    "        'nightWins',\n",
    "        'nightLosses',\n",
    "        'grassWins',\n",
    "        'grassLosses',\n",
    "        'turfWins',\n",
    "        'turfLosses',\n",
    "        'divWins',\n",
    "        'divLosses',\n",
    "        'alWins',\n",
    "        'alLosses',\n",
    "        'nlWins',\n",
    "        'nlLosses',\n",
    "        'xWinLossPct'\n",
    "        ]\n",
    "    ),\n",
    "    Datetime2trigonometricEncodingBlock(),\n",
    "]\n",
    "\n",
    "y = mlb_train_ds.train_next[\"target1\"].values\n",
    "input_df = mlb_train_ds.train_next[CFG.OBJECT_ID].copy()\n",
    "train_feat_df = create_train_feature(input_df, y, update_blocks, non_update_blocks)\n",
    "X_train = train_feat_df.values\n",
    "targets = [mlb_train_ds.train_next[col].values for col in CFG.TARGETS]\n",
    "\n",
    "# split train/valid\n",
    "fold = get_timeseries_holdout(input_df, valid_start_date=20210501)\n",
    "\n",
    "# training\n",
    "models = run_lgb(X_train, targets, CFG.SEEDS, fold)"
   ],
   "outputs": [
    {
     "output_type": "stream",
     "name": "stdout",
     "text": [
      "[2021-07-24 13:27:41,679] [INFO] [logger set up]\n",
      "[2021-07-24 13:27:41,744] [INFO] [<<__main__.TargetAggregateBlock object at 0x1053cc8b0>_fit> start]\n"
     ]
    },
    {
     "output_type": "stream",
     "name": "stderr",
     "text": [
      "/Users/azupero/data-science/kaggle/MLB-Player-Digital-Engagement-Forecasting/.venv/lib/python3.8/site-packages/scipy/stats/_distn_infrastructure.py:1870: RuntimeWarning: invalid value encountered in double_scalars\n",
      "  x = np.asarray((x - loc)/scale, dtype=dtyp)\n"
     ]
    },
    {
     "output_type": "stream",
     "name": "stdout",
     "text": [
      "[2021-07-24 13:28:28,971] [INFO] [<<__main__.TargetAggregateBlock object at 0x1053cc8b0>_fit> done in 47.23 s]\n",
      "[2021-07-24 13:28:29,052] [INFO] [<<__main__.RostersLabelEncodingBlock object at 0x1d0afa790>_fit> start]\n",
      "[2021-07-24 13:28:30,517] [INFO] [<<__main__.RostersLabelEncodingBlock object at 0x1d0afa790>_fit> done in 1.46 s]\n",
      "[2021-07-24 13:28:30,806] [INFO] [<<__main__.PlayersLabelEncodingBlock object at 0x1d0afa820>_fit> start]\n",
      "[2021-07-24 13:28:31,127] [INFO] [<<__main__.PlayersLabelEncodingBlock object at 0x1d0afa820>_fit> done in 0.32 s]\n",
      "[2021-07-24 13:28:31,497] [INFO] [<<__main__.PlayerStatsBlock object at 0x121671c70>_fit> start]\n",
      "[2021-07-24 13:28:46,913] [INFO] [<<__main__.PlayerStatsBlock object at 0x121671c70>_fit> done in 15.42 s]\n",
      "[2021-07-24 13:28:48,681] [INFO] [<<__main__.GamesCountBlock object at 0x1d0afa7c0>_fit> start]\n",
      "[2021-07-24 13:28:50,380] [INFO] [<<__main__.GamesCountBlock object at 0x1d0afa7c0>_fit> done in 1.70 s]\n",
      "[2021-07-24 13:28:55,791] [INFO] [<<__main__.PlayerTwitterFollowerAggregateBlock object at 0x1db216700>_fit> start]\n",
      "[2021-07-24 13:28:57,397] [INFO] [<<__main__.PlayerTwitterFollowerAggregateBlock object at 0x1db216700>_fit> done in 1.61 s]\n",
      "[2021-07-24 13:29:03,056] [INFO] [<<__main__.StandingsMetaBlock object at 0x1db2160a0>_fit> start]\n",
      "[2021-07-24 13:29:08,883] [INFO] [<<__main__.StandingsMetaBlock object at 0x1db2160a0>_fit> done in 5.83 s]\n",
      "[2021-07-24 13:29:15,047] [INFO] [<<__main__.Datetime2trigonometricEncodingBlock object at 0x1db216820>_fit> start]\n",
      "[2021-07-24 13:29:30,833] [INFO] [<<__main__.Datetime2trigonometricEncodingBlock object at 0x1db216820>_fit> done in 15.79 s]\n",
      "Training for Target1\n"
     ]
    },
    {
     "output_type": "stream",
     "name": "stderr",
     "text": [
      "/Users/azupero/data-science/kaggle/MLB-Player-Digital-Engagement-Forecasting/.venv/lib/python3.8/site-packages/lightgbm/engine.py:148: UserWarning: Found `num_iterations` in params. Will use it instead of argument\n",
      "  _log_warning(\"Found `{}` in params. Will use it instead of argument\".format(alias))\n",
      "/Users/azupero/data-science/kaggle/MLB-Player-Digital-Engagement-Forecasting/.venv/lib/python3.8/site-packages/lightgbm/engine.py:153: UserWarning: Found `early_stopping_round` in params. Will use it instead of argument\n",
      "  _log_warning(\"Found `{}` in params. Will use it instead of argument\".format(alias))\n"
     ]
    },
    {
     "output_type": "stream",
     "name": "stdout",
     "text": [
      "Training until validation scores don't improve for 100 rounds\n",
      "[100]\ttraining's l1: 0.516973\tvalid_1's l1: 0.651563\n",
      "[200]\ttraining's l1: 0.514113\tvalid_1's l1: 0.647102\n",
      "[300]\ttraining's l1: 0.513052\tvalid_1's l1: 0.646035\n",
      "[400]\ttraining's l1: 0.512499\tvalid_1's l1: 0.645453\n",
      "[500]\ttraining's l1: 0.512148\tvalid_1's l1: 0.645057\n",
      "[600]\ttraining's l1: 0.511916\tvalid_1's l1: 0.644433\n",
      "[700]\ttraining's l1: 0.511852\tvalid_1's l1: 0.644114\n",
      "[800]\ttraining's l1: 0.511745\tvalid_1's l1: 0.643935\n",
      "[900]\ttraining's l1: 0.511647\tvalid_1's l1: 0.643785\n",
      "[1000]\ttraining's l1: 0.511569\tvalid_1's l1: 0.643551\n",
      "Early stopping, best iteration is:\n",
      "[929]\ttraining's l1: 0.511574\tvalid_1's l1: 0.643549\n",
      "Local Target1 OOF-MAE : 0.6435488894315046\n",
      "--------------------------------------------------\n",
      "Training for Target2\n"
     ]
    },
    {
     "output_type": "stream",
     "name": "stderr",
     "text": [
      "/Users/azupero/data-science/kaggle/MLB-Player-Digital-Engagement-Forecasting/.venv/lib/python3.8/site-packages/lightgbm/engine.py:148: UserWarning: Found `num_iterations` in params. Will use it instead of argument\n",
      "  _log_warning(\"Found `{}` in params. Will use it instead of argument\".format(alias))\n",
      "/Users/azupero/data-science/kaggle/MLB-Player-Digital-Engagement-Forecasting/.venv/lib/python3.8/site-packages/lightgbm/engine.py:153: UserWarning: Found `early_stopping_round` in params. Will use it instead of argument\n",
      "  _log_warning(\"Found `{}` in params. Will use it instead of argument\".format(alias))\n"
     ]
    },
    {
     "output_type": "stream",
     "name": "stdout",
     "text": [
      "Training until validation scores don't improve for 100 rounds\n",
      "[100]\ttraining's l1: 1.75334\tvalid_1's l1: 1.34561\n",
      "[200]\ttraining's l1: 1.73462\tvalid_1's l1: 1.32962\n",
      "[300]\ttraining's l1: 1.72284\tvalid_1's l1: 1.32765\n",
      "[400]\ttraining's l1: 1.71385\tvalid_1's l1: 1.32457\n",
      "[500]\ttraining's l1: 1.70571\tvalid_1's l1: 1.32028\n",
      "[600]\ttraining's l1: 1.69878\tvalid_1's l1: 1.31945\n",
      "[700]\ttraining's l1: 1.6913\tvalid_1's l1: 1.31475\n",
      "[800]\ttraining's l1: 1.68586\tvalid_1's l1: 1.31403\n",
      "Early stopping, best iteration is:\n",
      "[779]\ttraining's l1: 1.68644\tvalid_1's l1: 1.31357\n",
      "Local Target2 OOF-MAE : 1.3135686506373192\n",
      "--------------------------------------------------\n",
      "Training for Target3\n"
     ]
    },
    {
     "output_type": "stream",
     "name": "stderr",
     "text": [
      "/Users/azupero/data-science/kaggle/MLB-Player-Digital-Engagement-Forecasting/.venv/lib/python3.8/site-packages/lightgbm/engine.py:148: UserWarning: Found `num_iterations` in params. Will use it instead of argument\n",
      "  _log_warning(\"Found `{}` in params. Will use it instead of argument\".format(alias))\n",
      "/Users/azupero/data-science/kaggle/MLB-Player-Digital-Engagement-Forecasting/.venv/lib/python3.8/site-packages/lightgbm/engine.py:153: UserWarning: Found `early_stopping_round` in params. Will use it instead of argument\n",
      "  _log_warning(\"Found `{}` in params. Will use it instead of argument\".format(alias))\n"
     ]
    },
    {
     "output_type": "stream",
     "name": "stdout",
     "text": [
      "Training until validation scores don't improve for 100 rounds\n",
      "[100]\ttraining's l1: 0.669618\tvalid_1's l1: 0.510245\n",
      "[200]\ttraining's l1: 0.667264\tvalid_1's l1: 0.510827\n",
      "Early stopping, best iteration is:\n",
      "[143]\ttraining's l1: 0.668302\tvalid_1's l1: 0.510186\n",
      "Local Target3 OOF-MAE : 0.5101863044666171\n",
      "--------------------------------------------------\n",
      "Training for Target4\n"
     ]
    },
    {
     "output_type": "stream",
     "name": "stderr",
     "text": [
      "/Users/azupero/data-science/kaggle/MLB-Player-Digital-Engagement-Forecasting/.venv/lib/python3.8/site-packages/lightgbm/engine.py:148: UserWarning: Found `num_iterations` in params. Will use it instead of argument\n",
      "  _log_warning(\"Found `{}` in params. Will use it instead of argument\".format(alias))\n",
      "/Users/azupero/data-science/kaggle/MLB-Player-Digital-Engagement-Forecasting/.venv/lib/python3.8/site-packages/lightgbm/engine.py:153: UserWarning: Found `early_stopping_round` in params. Will use it instead of argument\n",
      "  _log_warning(\"Found `{}` in params. Will use it instead of argument\".format(alias))\n"
     ]
    },
    {
     "output_type": "stream",
     "name": "stdout",
     "text": [
      "Training until validation scores don't improve for 100 rounds\n",
      "[100]\ttraining's l1: 0.799925\tvalid_1's l1: 0.850382\n",
      "[200]\ttraining's l1: 0.79008\tvalid_1's l1: 0.849987\n",
      "Early stopping, best iteration is:\n",
      "[156]\ttraining's l1: 0.793426\tvalid_1's l1: 0.849014\n",
      "Local Target4 OOF-MAE : 0.8490137635274345\n",
      "--------------------------------------------------\n",
      "Local MCMAE : 0.8290794020157188\n"
     ]
    }
   ],
   "metadata": {}
  },
  {
   "cell_type": "code",
   "execution_count": 13,
   "source": [
    "def visualize_feature_importance(models, feat_train_df) -> plotly.graph_objects.Figure:\n",
    "    '''LightGBMのfeature importanceを可視化\n",
    "    '''\n",
    "    for target_i in range(len(models)):\n",
    "        feature_importance_df = pd.DataFrame()\n",
    "        for i, model in enumerate(models[target_i]):\n",
    "            _df = pd.DataFrame()\n",
    "            _df['feature_importance'] = model.feature_importance(importance_type=\"gain\")\n",
    "            _df['feature'] = feat_train_df.columns\n",
    "            _df['model_no'] = i + 1\n",
    "            feature_importance_df = pd.concat([feature_importance_df, _df], \n",
    "                                            axis=0, ignore_index=True)\n",
    "\n",
    "        order = feature_importance_df.groupby('feature')\\\n",
    "            .mean()[['feature_importance']]\\\n",
    "            .sort_values('feature_importance', ascending=False).index[:50]\n",
    "        \n",
    "        fig = px.box(\n",
    "            feature_importance_df.query(\"feature in @order\"),\n",
    "            x=\"feature_importance\",\n",
    "            y=\"feature\",\n",
    "            category_orders={\"feature\": order},\n",
    "            width=1250,\n",
    "            height=900,\n",
    "            title=f\"Target{target_i+1} Top 50 feature importance\",\n",
    "        )\n",
    "        fig.update_yaxes(showgrid=True)\n",
    "        fig.show()"
   ],
   "outputs": [],
   "metadata": {}
  },
  {
   "cell_type": "code",
   "execution_count": 14,
   "source": [
    "visualize_feature_importance(models, train_feat_df)"
   ],
   "outputs": [
    {
     "output_type": "display_data",
     "data": {
      "application/vnd.plotly.v1+json": {
       "config": {
        "plotlyServerURL": "https://plot.ly"
       },
       "data": [
        {
         "alignmentgroup": "True",
         "hovertemplate": "feature_importance=%{x}<br>feature=%{y}<extra></extra>",
         "legendgroup": "",
         "marker": {
          "color": "#636efa"
         },
         "name": "",
         "notched": false,
         "offsetgroup": "",
         "orientation": "h",
         "showlegend": false,
         "type": "box",
         "x": [
          37986637.30888653,
          8943313.382590294,
          241767.1858973503,
          495154.16126060486,
          466910.85737991333,
          192400.47892093658,
          33350277.292575836,
          285003.49175167084,
          1224884.7152519226,
          1467966.5742754936,
          967271.6405255795,
          1081602.7372350693,
          899833.2879705429,
          1790024.2820663452,
          1861979.7349948883,
          637021.0955834389,
          582590.499604702,
          297526.21266555786,
          193797.47619342804,
          87843.40925216675,
          144690.85265731812,
          164336.06332969666,
          81338.65126228333,
          162124.17692232132,
          1345034.6667604446,
          982695.7991905212,
          219619.46526670456,
          9289946.491289139,
          2251188.34578228,
          792033.881011486,
          410693.6568875313,
          1388011.197593689,
          33246608.39462185,
          17026214.405308247,
          153697.45137786865,
          1912166.9010572433,
          20592412.222034454,
          31027.569604873657,
          1615365.8328289986,
          986569.7222149372,
          10513737.041214943,
          835324.209025383,
          179603.0566740036,
          994786.4601449966,
          1400854.8954296112,
          31329.59031200409,
          60343.5521030426,
          31045.330111026764,
          77935.30688333511,
          24226.11522293091
         ],
         "x0": " ",
         "xaxis": "x",
         "y": [
          "target1_202104_mean",
          "target1_202104_std",
          "target1_202104_max",
          "target1_202104_min",
          "target1_202104_median",
          "target1_202104_quantile25",
          "target1_202104_quantile75",
          "target1_202104_prob",
          "target2_202104_mean",
          "target2_202104_std",
          "target2_202104_max",
          "target2_202104_min",
          "target2_202104_median",
          "target2_202104_quantile25",
          "target2_202104_quantile75",
          "target2_202104_prob",
          "target3_202104_mean",
          "target3_202104_std",
          "target3_202104_max",
          "target3_202104_min",
          "target3_202104_median",
          "target3_202104_quantile25",
          "target3_202104_quantile75",
          "target3_202104_prob",
          "target4_202104_mean",
          "target4_202104_std",
          "target4_202104_max",
          "target4_202104_min",
          "target4_202104_median",
          "target4_202104_quantile25",
          "target4_202104_quantile75",
          "target4_202104_prob",
          "Rosters_LE_teamId",
          "Rosters_LE_status",
          "Players_LE_birthCountry",
          "Players_LE_primaryPositionCode",
          "Players_LE_playerid",
          "PlayerStats_rbi",
          "PlayerTwitterFollowerAggregate_mean",
          "PlayerTwitterFollowerAggregate_std",
          "PlayerTwitterFollowerAggregate_max",
          "PlayerTwitterFollowerAggregate_min",
          "PlayerTwitterFollowerAggregate_median",
          "PlayerTwitterFollowerAggregate_quantile25",
          "PlayerTwitterFollowerAggregate_quantile75",
          "StandingsMeta_pct",
          "StandingsMeta_runsAllowed",
          "StandingsMeta_runsScored",
          "StandingsMeta_divLosses",
          "StandingsMeta_alWins"
         ],
         "y0": " ",
         "yaxis": "y"
        }
       ],
       "layout": {
        "boxmode": "group",
        "height": 900,
        "legend": {
         "tracegroupgap": 0
        },
        "template": {
         "data": {
          "bar": [
           {
            "error_x": {
             "color": "#2a3f5f"
            },
            "error_y": {
             "color": "#2a3f5f"
            },
            "marker": {
             "line": {
              "color": "#E5ECF6",
              "width": 0.5
             }
            },
            "type": "bar"
           }
          ],
          "barpolar": [
           {
            "marker": {
             "line": {
              "color": "#E5ECF6",
              "width": 0.5
             }
            },
            "type": "barpolar"
           }
          ],
          "carpet": [
           {
            "aaxis": {
             "endlinecolor": "#2a3f5f",
             "gridcolor": "white",
             "linecolor": "white",
             "minorgridcolor": "white",
             "startlinecolor": "#2a3f5f"
            },
            "baxis": {
             "endlinecolor": "#2a3f5f",
             "gridcolor": "white",
             "linecolor": "white",
             "minorgridcolor": "white",
             "startlinecolor": "#2a3f5f"
            },
            "type": "carpet"
           }
          ],
          "choropleth": [
           {
            "colorbar": {
             "outlinewidth": 0,
             "ticks": ""
            },
            "type": "choropleth"
           }
          ],
          "contour": [
           {
            "colorbar": {
             "outlinewidth": 0,
             "ticks": ""
            },
            "colorscale": [
             [
              0,
              "#0d0887"
             ],
             [
              0.1111111111111111,
              "#46039f"
             ],
             [
              0.2222222222222222,
              "#7201a8"
             ],
             [
              0.3333333333333333,
              "#9c179e"
             ],
             [
              0.4444444444444444,
              "#bd3786"
             ],
             [
              0.5555555555555556,
              "#d8576b"
             ],
             [
              0.6666666666666666,
              "#ed7953"
             ],
             [
              0.7777777777777778,
              "#fb9f3a"
             ],
             [
              0.8888888888888888,
              "#fdca26"
             ],
             [
              1,
              "#f0f921"
             ]
            ],
            "type": "contour"
           }
          ],
          "contourcarpet": [
           {
            "colorbar": {
             "outlinewidth": 0,
             "ticks": ""
            },
            "type": "contourcarpet"
           }
          ],
          "heatmap": [
           {
            "colorbar": {
             "outlinewidth": 0,
             "ticks": ""
            },
            "colorscale": [
             [
              0,
              "#0d0887"
             ],
             [
              0.1111111111111111,
              "#46039f"
             ],
             [
              0.2222222222222222,
              "#7201a8"
             ],
             [
              0.3333333333333333,
              "#9c179e"
             ],
             [
              0.4444444444444444,
              "#bd3786"
             ],
             [
              0.5555555555555556,
              "#d8576b"
             ],
             [
              0.6666666666666666,
              "#ed7953"
             ],
             [
              0.7777777777777778,
              "#fb9f3a"
             ],
             [
              0.8888888888888888,
              "#fdca26"
             ],
             [
              1,
              "#f0f921"
             ]
            ],
            "type": "heatmap"
           }
          ],
          "heatmapgl": [
           {
            "colorbar": {
             "outlinewidth": 0,
             "ticks": ""
            },
            "colorscale": [
             [
              0,
              "#0d0887"
             ],
             [
              0.1111111111111111,
              "#46039f"
             ],
             [
              0.2222222222222222,
              "#7201a8"
             ],
             [
              0.3333333333333333,
              "#9c179e"
             ],
             [
              0.4444444444444444,
              "#bd3786"
             ],
             [
              0.5555555555555556,
              "#d8576b"
             ],
             [
              0.6666666666666666,
              "#ed7953"
             ],
             [
              0.7777777777777778,
              "#fb9f3a"
             ],
             [
              0.8888888888888888,
              "#fdca26"
             ],
             [
              1,
              "#f0f921"
             ]
            ],
            "type": "heatmapgl"
           }
          ],
          "histogram": [
           {
            "marker": {
             "colorbar": {
              "outlinewidth": 0,
              "ticks": ""
             }
            },
            "type": "histogram"
           }
          ],
          "histogram2d": [
           {
            "colorbar": {
             "outlinewidth": 0,
             "ticks": ""
            },
            "colorscale": [
             [
              0,
              "#0d0887"
             ],
             [
              0.1111111111111111,
              "#46039f"
             ],
             [
              0.2222222222222222,
              "#7201a8"
             ],
             [
              0.3333333333333333,
              "#9c179e"
             ],
             [
              0.4444444444444444,
              "#bd3786"
             ],
             [
              0.5555555555555556,
              "#d8576b"
             ],
             [
              0.6666666666666666,
              "#ed7953"
             ],
             [
              0.7777777777777778,
              "#fb9f3a"
             ],
             [
              0.8888888888888888,
              "#fdca26"
             ],
             [
              1,
              "#f0f921"
             ]
            ],
            "type": "histogram2d"
           }
          ],
          "histogram2dcontour": [
           {
            "colorbar": {
             "outlinewidth": 0,
             "ticks": ""
            },
            "colorscale": [
             [
              0,
              "#0d0887"
             ],
             [
              0.1111111111111111,
              "#46039f"
             ],
             [
              0.2222222222222222,
              "#7201a8"
             ],
             [
              0.3333333333333333,
              "#9c179e"
             ],
             [
              0.4444444444444444,
              "#bd3786"
             ],
             [
              0.5555555555555556,
              "#d8576b"
             ],
             [
              0.6666666666666666,
              "#ed7953"
             ],
             [
              0.7777777777777778,
              "#fb9f3a"
             ],
             [
              0.8888888888888888,
              "#fdca26"
             ],
             [
              1,
              "#f0f921"
             ]
            ],
            "type": "histogram2dcontour"
           }
          ],
          "mesh3d": [
           {
            "colorbar": {
             "outlinewidth": 0,
             "ticks": ""
            },
            "type": "mesh3d"
           }
          ],
          "parcoords": [
           {
            "line": {
             "colorbar": {
              "outlinewidth": 0,
              "ticks": ""
             }
            },
            "type": "parcoords"
           }
          ],
          "pie": [
           {
            "automargin": true,
            "type": "pie"
           }
          ],
          "scatter": [
           {
            "marker": {
             "colorbar": {
              "outlinewidth": 0,
              "ticks": ""
             }
            },
            "type": "scatter"
           }
          ],
          "scatter3d": [
           {
            "line": {
             "colorbar": {
              "outlinewidth": 0,
              "ticks": ""
             }
            },
            "marker": {
             "colorbar": {
              "outlinewidth": 0,
              "ticks": ""
             }
            },
            "type": "scatter3d"
           }
          ],
          "scattercarpet": [
           {
            "marker": {
             "colorbar": {
              "outlinewidth": 0,
              "ticks": ""
             }
            },
            "type": "scattercarpet"
           }
          ],
          "scattergeo": [
           {
            "marker": {
             "colorbar": {
              "outlinewidth": 0,
              "ticks": ""
             }
            },
            "type": "scattergeo"
           }
          ],
          "scattergl": [
           {
            "marker": {
             "colorbar": {
              "outlinewidth": 0,
              "ticks": ""
             }
            },
            "type": "scattergl"
           }
          ],
          "scattermapbox": [
           {
            "marker": {
             "colorbar": {
              "outlinewidth": 0,
              "ticks": ""
             }
            },
            "type": "scattermapbox"
           }
          ],
          "scatterpolar": [
           {
            "marker": {
             "colorbar": {
              "outlinewidth": 0,
              "ticks": ""
             }
            },
            "type": "scatterpolar"
           }
          ],
          "scatterpolargl": [
           {
            "marker": {
             "colorbar": {
              "outlinewidth": 0,
              "ticks": ""
             }
            },
            "type": "scatterpolargl"
           }
          ],
          "scatterternary": [
           {
            "marker": {
             "colorbar": {
              "outlinewidth": 0,
              "ticks": ""
             }
            },
            "type": "scatterternary"
           }
          ],
          "surface": [
           {
            "colorbar": {
             "outlinewidth": 0,
             "ticks": ""
            },
            "colorscale": [
             [
              0,
              "#0d0887"
             ],
             [
              0.1111111111111111,
              "#46039f"
             ],
             [
              0.2222222222222222,
              "#7201a8"
             ],
             [
              0.3333333333333333,
              "#9c179e"
             ],
             [
              0.4444444444444444,
              "#bd3786"
             ],
             [
              0.5555555555555556,
              "#d8576b"
             ],
             [
              0.6666666666666666,
              "#ed7953"
             ],
             [
              0.7777777777777778,
              "#fb9f3a"
             ],
             [
              0.8888888888888888,
              "#fdca26"
             ],
             [
              1,
              "#f0f921"
             ]
            ],
            "type": "surface"
           }
          ],
          "table": [
           {
            "cells": {
             "fill": {
              "color": "#EBF0F8"
             },
             "line": {
              "color": "white"
             }
            },
            "header": {
             "fill": {
              "color": "#C8D4E3"
             },
             "line": {
              "color": "white"
             }
            },
            "type": "table"
           }
          ]
         },
         "layout": {
          "annotationdefaults": {
           "arrowcolor": "#2a3f5f",
           "arrowhead": 0,
           "arrowwidth": 1
          },
          "autotypenumbers": "strict",
          "coloraxis": {
           "colorbar": {
            "outlinewidth": 0,
            "ticks": ""
           }
          },
          "colorscale": {
           "diverging": [
            [
             0,
             "#8e0152"
            ],
            [
             0.1,
             "#c51b7d"
            ],
            [
             0.2,
             "#de77ae"
            ],
            [
             0.3,
             "#f1b6da"
            ],
            [
             0.4,
             "#fde0ef"
            ],
            [
             0.5,
             "#f7f7f7"
            ],
            [
             0.6,
             "#e6f5d0"
            ],
            [
             0.7,
             "#b8e186"
            ],
            [
             0.8,
             "#7fbc41"
            ],
            [
             0.9,
             "#4d9221"
            ],
            [
             1,
             "#276419"
            ]
           ],
           "sequential": [
            [
             0,
             "#0d0887"
            ],
            [
             0.1111111111111111,
             "#46039f"
            ],
            [
             0.2222222222222222,
             "#7201a8"
            ],
            [
             0.3333333333333333,
             "#9c179e"
            ],
            [
             0.4444444444444444,
             "#bd3786"
            ],
            [
             0.5555555555555556,
             "#d8576b"
            ],
            [
             0.6666666666666666,
             "#ed7953"
            ],
            [
             0.7777777777777778,
             "#fb9f3a"
            ],
            [
             0.8888888888888888,
             "#fdca26"
            ],
            [
             1,
             "#f0f921"
            ]
           ],
           "sequentialminus": [
            [
             0,
             "#0d0887"
            ],
            [
             0.1111111111111111,
             "#46039f"
            ],
            [
             0.2222222222222222,
             "#7201a8"
            ],
            [
             0.3333333333333333,
             "#9c179e"
            ],
            [
             0.4444444444444444,
             "#bd3786"
            ],
            [
             0.5555555555555556,
             "#d8576b"
            ],
            [
             0.6666666666666666,
             "#ed7953"
            ],
            [
             0.7777777777777778,
             "#fb9f3a"
            ],
            [
             0.8888888888888888,
             "#fdca26"
            ],
            [
             1,
             "#f0f921"
            ]
           ]
          },
          "colorway": [
           "#636efa",
           "#EF553B",
           "#00cc96",
           "#ab63fa",
           "#FFA15A",
           "#19d3f3",
           "#FF6692",
           "#B6E880",
           "#FF97FF",
           "#FECB52"
          ],
          "font": {
           "color": "#2a3f5f"
          },
          "geo": {
           "bgcolor": "white",
           "lakecolor": "white",
           "landcolor": "#E5ECF6",
           "showlakes": true,
           "showland": true,
           "subunitcolor": "white"
          },
          "hoverlabel": {
           "align": "left"
          },
          "hovermode": "closest",
          "mapbox": {
           "style": "light"
          },
          "paper_bgcolor": "white",
          "plot_bgcolor": "#E5ECF6",
          "polar": {
           "angularaxis": {
            "gridcolor": "white",
            "linecolor": "white",
            "ticks": ""
           },
           "bgcolor": "#E5ECF6",
           "radialaxis": {
            "gridcolor": "white",
            "linecolor": "white",
            "ticks": ""
           }
          },
          "scene": {
           "xaxis": {
            "backgroundcolor": "#E5ECF6",
            "gridcolor": "white",
            "gridwidth": 2,
            "linecolor": "white",
            "showbackground": true,
            "ticks": "",
            "zerolinecolor": "white"
           },
           "yaxis": {
            "backgroundcolor": "#E5ECF6",
            "gridcolor": "white",
            "gridwidth": 2,
            "linecolor": "white",
            "showbackground": true,
            "ticks": "",
            "zerolinecolor": "white"
           },
           "zaxis": {
            "backgroundcolor": "#E5ECF6",
            "gridcolor": "white",
            "gridwidth": 2,
            "linecolor": "white",
            "showbackground": true,
            "ticks": "",
            "zerolinecolor": "white"
           }
          },
          "shapedefaults": {
           "line": {
            "color": "#2a3f5f"
           }
          },
          "ternary": {
           "aaxis": {
            "gridcolor": "white",
            "linecolor": "white",
            "ticks": ""
           },
           "baxis": {
            "gridcolor": "white",
            "linecolor": "white",
            "ticks": ""
           },
           "bgcolor": "#E5ECF6",
           "caxis": {
            "gridcolor": "white",
            "linecolor": "white",
            "ticks": ""
           }
          },
          "title": {
           "x": 0.05
          },
          "xaxis": {
           "automargin": true,
           "gridcolor": "white",
           "linecolor": "white",
           "ticks": "",
           "title": {
            "standoff": 15
           },
           "zerolinecolor": "white",
           "zerolinewidth": 2
          },
          "yaxis": {
           "automargin": true,
           "gridcolor": "white",
           "linecolor": "white",
           "ticks": "",
           "title": {
            "standoff": 15
           },
           "zerolinecolor": "white",
           "zerolinewidth": 2
          }
         }
        },
        "title": {
         "text": "Target1 Top 50 feature importance"
        },
        "width": 1250,
        "xaxis": {
         "anchor": "y",
         "domain": [
          0,
          1
         ],
         "title": {
          "text": "feature_importance"
         }
        },
        "yaxis": {
         "anchor": "x",
         "categoryarray": [
          "StandingsMeta_alWins",
          "PlayerStats_rbi",
          "StandingsMeta_runsScored",
          "StandingsMeta_pct",
          "StandingsMeta_runsAllowed",
          "StandingsMeta_divLosses",
          "target3_202104_quantile75",
          "target3_202104_min",
          "target3_202104_median",
          "Players_LE_birthCountry",
          "target3_202104_prob",
          "target3_202104_quantile25",
          "PlayerTwitterFollowerAggregate_median",
          "target1_202104_quantile25",
          "target3_202104_max",
          "target4_202104_max",
          "target1_202104_max",
          "target1_202104_prob",
          "target3_202104_std",
          "target4_202104_quantile75",
          "target1_202104_median",
          "target1_202104_min",
          "target3_202104_mean",
          "target2_202104_prob",
          "target4_202104_quantile25",
          "PlayerTwitterFollowerAggregate_min",
          "target2_202104_median",
          "target2_202104_max",
          "target4_202104_std",
          "PlayerTwitterFollowerAggregate_std",
          "PlayerTwitterFollowerAggregate_quantile25",
          "target2_202104_min",
          "target2_202104_mean",
          "target4_202104_mean",
          "target4_202104_prob",
          "PlayerTwitterFollowerAggregate_quantile75",
          "target2_202104_std",
          "PlayerTwitterFollowerAggregate_mean",
          "target2_202104_quantile25",
          "target2_202104_quantile75",
          "Players_LE_primaryPositionCode",
          "target4_202104_median",
          "target1_202104_std",
          "target4_202104_min",
          "PlayerTwitterFollowerAggregate_max",
          "Rosters_LE_status",
          "Players_LE_playerid",
          "Rosters_LE_teamId",
          "target1_202104_quantile75",
          "target1_202104_mean"
         ],
         "categoryorder": "array",
         "domain": [
          0,
          1
         ],
         "showgrid": true,
         "title": {
          "text": "feature"
         }
        }
       }
      }
     },
     "metadata": {}
    },
    {
     "output_type": "display_data",
     "data": {
      "application/vnd.plotly.v1+json": {
       "config": {
        "plotlyServerURL": "https://plot.ly"
       },
       "data": [
        {
         "alignmentgroup": "True",
         "hovertemplate": "feature_importance=%{x}<br>feature=%{y}<extra></extra>",
         "legendgroup": "",
         "marker": {
          "color": "#636efa"
         },
         "name": "",
         "notched": false,
         "offsetgroup": "",
         "orientation": "h",
         "showlegend": false,
         "type": "box",
         "x": [
          114829.13005828857,
          68620.92042922974,
          140012.80200576782,
          54156.503326416016,
          47611.68829536438,
          99995.52749824524,
          83616.90619659424,
          91635.79710769653,
          157960.61714935303,
          130491.03049087524,
          135232.86755371094,
          66327.68994903564,
          47377.65501785278,
          55325.6156578064,
          896138.2091217041,
          375182.90740966797,
          255290.4319267273,
          130766.69855117798,
          49714.22381210327,
          2092341.673959732,
          3772951.048980713,
          47520.531326293945,
          631456.4613990784,
          41372.16015625,
          49266.40689468384,
          75005.9176864624,
          56507.63158416748,
          122091.51335144043,
          49173.34506607056,
          53808.72142410278,
          60122.85248565674,
          95907.78930282593,
          109548.19960021973,
          49449.56094741821,
          74020.59813308716,
          115001.93727874756,
          50726.37116622925,
          143619.15436172485,
          58996.18490600586,
          73972.46814727783,
          50176.5417175293,
          40388.229610443115,
          52933.89392852783,
          55802.71513748169,
          46221.82619857788,
          130580.47113800049,
          65601.83785247803,
          69478.145570755,
          54612.563163757324,
          83735.44034576416
         ],
         "x0": " ",
         "xaxis": "x",
         "y": [
          "target1_202104_mean",
          "target1_202104_std",
          "target1_202104_min",
          "target1_202104_median",
          "target1_202104_quantile75",
          "target2_202104_mean",
          "target2_202104_std",
          "target2_202104_max",
          "target2_202104_min",
          "target2_202104_median",
          "target2_202104_quantile25",
          "target2_202104_quantile75",
          "target4_202104_mean",
          "target4_202104_std",
          "target4_202104_min",
          "target4_202104_median",
          "target4_202104_quantile25",
          "target4_202104_quantile75",
          "target4_202104_prob",
          "Rosters_LE_teamId",
          "Rosters_LE_status",
          "Players_LE_primaryPositionCode",
          "Players_LE_playerid",
          "PlayerStats_inheritedRunnersScored_cumsum",
          "PlayerStats_baseOnBalls_rank",
          "PlayerStats_strikeOuts_rank",
          "PlayerStats_runsPitching_rank",
          "PlayerTwitterFollowerAggregate_mean",
          "PlayerTwitterFollowerAggregate_std",
          "PlayerTwitterFollowerAggregate_max",
          "PlayerTwitterFollowerAggregate_min",
          "PlayerTwitterFollowerAggregate_quantile25",
          "StandingsMeta_divisionId",
          "StandingsMeta_leagueRank",
          "StandingsMeta_wins",
          "StandingsMeta_losses",
          "StandingsMeta_pct",
          "StandingsMeta_runsAllowed",
          "StandingsMeta_runsScored",
          "StandingsMeta_homeWins",
          "StandingsMeta_awayLosses",
          "StandingsMeta_lastTenWins",
          "StandingsMeta_nightLosses",
          "StandingsMeta_grassLosses",
          "StandingsMeta_divWins",
          "StandingsMeta_divLosses",
          "DatetimeEncoding_day2cos",
          "DatetimeEncoding_day2sin",
          "DatetimeEncoding_dow2cos",
          "DatetimeEncoding_dow2sin"
         ],
         "y0": " ",
         "yaxis": "y"
        }
       ],
       "layout": {
        "boxmode": "group",
        "height": 900,
        "legend": {
         "tracegroupgap": 0
        },
        "template": {
         "data": {
          "bar": [
           {
            "error_x": {
             "color": "#2a3f5f"
            },
            "error_y": {
             "color": "#2a3f5f"
            },
            "marker": {
             "line": {
              "color": "#E5ECF6",
              "width": 0.5
             }
            },
            "type": "bar"
           }
          ],
          "barpolar": [
           {
            "marker": {
             "line": {
              "color": "#E5ECF6",
              "width": 0.5
             }
            },
            "type": "barpolar"
           }
          ],
          "carpet": [
           {
            "aaxis": {
             "endlinecolor": "#2a3f5f",
             "gridcolor": "white",
             "linecolor": "white",
             "minorgridcolor": "white",
             "startlinecolor": "#2a3f5f"
            },
            "baxis": {
             "endlinecolor": "#2a3f5f",
             "gridcolor": "white",
             "linecolor": "white",
             "minorgridcolor": "white",
             "startlinecolor": "#2a3f5f"
            },
            "type": "carpet"
           }
          ],
          "choropleth": [
           {
            "colorbar": {
             "outlinewidth": 0,
             "ticks": ""
            },
            "type": "choropleth"
           }
          ],
          "contour": [
           {
            "colorbar": {
             "outlinewidth": 0,
             "ticks": ""
            },
            "colorscale": [
             [
              0,
              "#0d0887"
             ],
             [
              0.1111111111111111,
              "#46039f"
             ],
             [
              0.2222222222222222,
              "#7201a8"
             ],
             [
              0.3333333333333333,
              "#9c179e"
             ],
             [
              0.4444444444444444,
              "#bd3786"
             ],
             [
              0.5555555555555556,
              "#d8576b"
             ],
             [
              0.6666666666666666,
              "#ed7953"
             ],
             [
              0.7777777777777778,
              "#fb9f3a"
             ],
             [
              0.8888888888888888,
              "#fdca26"
             ],
             [
              1,
              "#f0f921"
             ]
            ],
            "type": "contour"
           }
          ],
          "contourcarpet": [
           {
            "colorbar": {
             "outlinewidth": 0,
             "ticks": ""
            },
            "type": "contourcarpet"
           }
          ],
          "heatmap": [
           {
            "colorbar": {
             "outlinewidth": 0,
             "ticks": ""
            },
            "colorscale": [
             [
              0,
              "#0d0887"
             ],
             [
              0.1111111111111111,
              "#46039f"
             ],
             [
              0.2222222222222222,
              "#7201a8"
             ],
             [
              0.3333333333333333,
              "#9c179e"
             ],
             [
              0.4444444444444444,
              "#bd3786"
             ],
             [
              0.5555555555555556,
              "#d8576b"
             ],
             [
              0.6666666666666666,
              "#ed7953"
             ],
             [
              0.7777777777777778,
              "#fb9f3a"
             ],
             [
              0.8888888888888888,
              "#fdca26"
             ],
             [
              1,
              "#f0f921"
             ]
            ],
            "type": "heatmap"
           }
          ],
          "heatmapgl": [
           {
            "colorbar": {
             "outlinewidth": 0,
             "ticks": ""
            },
            "colorscale": [
             [
              0,
              "#0d0887"
             ],
             [
              0.1111111111111111,
              "#46039f"
             ],
             [
              0.2222222222222222,
              "#7201a8"
             ],
             [
              0.3333333333333333,
              "#9c179e"
             ],
             [
              0.4444444444444444,
              "#bd3786"
             ],
             [
              0.5555555555555556,
              "#d8576b"
             ],
             [
              0.6666666666666666,
              "#ed7953"
             ],
             [
              0.7777777777777778,
              "#fb9f3a"
             ],
             [
              0.8888888888888888,
              "#fdca26"
             ],
             [
              1,
              "#f0f921"
             ]
            ],
            "type": "heatmapgl"
           }
          ],
          "histogram": [
           {
            "marker": {
             "colorbar": {
              "outlinewidth": 0,
              "ticks": ""
             }
            },
            "type": "histogram"
           }
          ],
          "histogram2d": [
           {
            "colorbar": {
             "outlinewidth": 0,
             "ticks": ""
            },
            "colorscale": [
             [
              0,
              "#0d0887"
             ],
             [
              0.1111111111111111,
              "#46039f"
             ],
             [
              0.2222222222222222,
              "#7201a8"
             ],
             [
              0.3333333333333333,
              "#9c179e"
             ],
             [
              0.4444444444444444,
              "#bd3786"
             ],
             [
              0.5555555555555556,
              "#d8576b"
             ],
             [
              0.6666666666666666,
              "#ed7953"
             ],
             [
              0.7777777777777778,
              "#fb9f3a"
             ],
             [
              0.8888888888888888,
              "#fdca26"
             ],
             [
              1,
              "#f0f921"
             ]
            ],
            "type": "histogram2d"
           }
          ],
          "histogram2dcontour": [
           {
            "colorbar": {
             "outlinewidth": 0,
             "ticks": ""
            },
            "colorscale": [
             [
              0,
              "#0d0887"
             ],
             [
              0.1111111111111111,
              "#46039f"
             ],
             [
              0.2222222222222222,
              "#7201a8"
             ],
             [
              0.3333333333333333,
              "#9c179e"
             ],
             [
              0.4444444444444444,
              "#bd3786"
             ],
             [
              0.5555555555555556,
              "#d8576b"
             ],
             [
              0.6666666666666666,
              "#ed7953"
             ],
             [
              0.7777777777777778,
              "#fb9f3a"
             ],
             [
              0.8888888888888888,
              "#fdca26"
             ],
             [
              1,
              "#f0f921"
             ]
            ],
            "type": "histogram2dcontour"
           }
          ],
          "mesh3d": [
           {
            "colorbar": {
             "outlinewidth": 0,
             "ticks": ""
            },
            "type": "mesh3d"
           }
          ],
          "parcoords": [
           {
            "line": {
             "colorbar": {
              "outlinewidth": 0,
              "ticks": ""
             }
            },
            "type": "parcoords"
           }
          ],
          "pie": [
           {
            "automargin": true,
            "type": "pie"
           }
          ],
          "scatter": [
           {
            "marker": {
             "colorbar": {
              "outlinewidth": 0,
              "ticks": ""
             }
            },
            "type": "scatter"
           }
          ],
          "scatter3d": [
           {
            "line": {
             "colorbar": {
              "outlinewidth": 0,
              "ticks": ""
             }
            },
            "marker": {
             "colorbar": {
              "outlinewidth": 0,
              "ticks": ""
             }
            },
            "type": "scatter3d"
           }
          ],
          "scattercarpet": [
           {
            "marker": {
             "colorbar": {
              "outlinewidth": 0,
              "ticks": ""
             }
            },
            "type": "scattercarpet"
           }
          ],
          "scattergeo": [
           {
            "marker": {
             "colorbar": {
              "outlinewidth": 0,
              "ticks": ""
             }
            },
            "type": "scattergeo"
           }
          ],
          "scattergl": [
           {
            "marker": {
             "colorbar": {
              "outlinewidth": 0,
              "ticks": ""
             }
            },
            "type": "scattergl"
           }
          ],
          "scattermapbox": [
           {
            "marker": {
             "colorbar": {
              "outlinewidth": 0,
              "ticks": ""
             }
            },
            "type": "scattermapbox"
           }
          ],
          "scatterpolar": [
           {
            "marker": {
             "colorbar": {
              "outlinewidth": 0,
              "ticks": ""
             }
            },
            "type": "scatterpolar"
           }
          ],
          "scatterpolargl": [
           {
            "marker": {
             "colorbar": {
              "outlinewidth": 0,
              "ticks": ""
             }
            },
            "type": "scatterpolargl"
           }
          ],
          "scatterternary": [
           {
            "marker": {
             "colorbar": {
              "outlinewidth": 0,
              "ticks": ""
             }
            },
            "type": "scatterternary"
           }
          ],
          "surface": [
           {
            "colorbar": {
             "outlinewidth": 0,
             "ticks": ""
            },
            "colorscale": [
             [
              0,
              "#0d0887"
             ],
             [
              0.1111111111111111,
              "#46039f"
             ],
             [
              0.2222222222222222,
              "#7201a8"
             ],
             [
              0.3333333333333333,
              "#9c179e"
             ],
             [
              0.4444444444444444,
              "#bd3786"
             ],
             [
              0.5555555555555556,
              "#d8576b"
             ],
             [
              0.6666666666666666,
              "#ed7953"
             ],
             [
              0.7777777777777778,
              "#fb9f3a"
             ],
             [
              0.8888888888888888,
              "#fdca26"
             ],
             [
              1,
              "#f0f921"
             ]
            ],
            "type": "surface"
           }
          ],
          "table": [
           {
            "cells": {
             "fill": {
              "color": "#EBF0F8"
             },
             "line": {
              "color": "white"
             }
            },
            "header": {
             "fill": {
              "color": "#C8D4E3"
             },
             "line": {
              "color": "white"
             }
            },
            "type": "table"
           }
          ]
         },
         "layout": {
          "annotationdefaults": {
           "arrowcolor": "#2a3f5f",
           "arrowhead": 0,
           "arrowwidth": 1
          },
          "autotypenumbers": "strict",
          "coloraxis": {
           "colorbar": {
            "outlinewidth": 0,
            "ticks": ""
           }
          },
          "colorscale": {
           "diverging": [
            [
             0,
             "#8e0152"
            ],
            [
             0.1,
             "#c51b7d"
            ],
            [
             0.2,
             "#de77ae"
            ],
            [
             0.3,
             "#f1b6da"
            ],
            [
             0.4,
             "#fde0ef"
            ],
            [
             0.5,
             "#f7f7f7"
            ],
            [
             0.6,
             "#e6f5d0"
            ],
            [
             0.7,
             "#b8e186"
            ],
            [
             0.8,
             "#7fbc41"
            ],
            [
             0.9,
             "#4d9221"
            ],
            [
             1,
             "#276419"
            ]
           ],
           "sequential": [
            [
             0,
             "#0d0887"
            ],
            [
             0.1111111111111111,
             "#46039f"
            ],
            [
             0.2222222222222222,
             "#7201a8"
            ],
            [
             0.3333333333333333,
             "#9c179e"
            ],
            [
             0.4444444444444444,
             "#bd3786"
            ],
            [
             0.5555555555555556,
             "#d8576b"
            ],
            [
             0.6666666666666666,
             "#ed7953"
            ],
            [
             0.7777777777777778,
             "#fb9f3a"
            ],
            [
             0.8888888888888888,
             "#fdca26"
            ],
            [
             1,
             "#f0f921"
            ]
           ],
           "sequentialminus": [
            [
             0,
             "#0d0887"
            ],
            [
             0.1111111111111111,
             "#46039f"
            ],
            [
             0.2222222222222222,
             "#7201a8"
            ],
            [
             0.3333333333333333,
             "#9c179e"
            ],
            [
             0.4444444444444444,
             "#bd3786"
            ],
            [
             0.5555555555555556,
             "#d8576b"
            ],
            [
             0.6666666666666666,
             "#ed7953"
            ],
            [
             0.7777777777777778,
             "#fb9f3a"
            ],
            [
             0.8888888888888888,
             "#fdca26"
            ],
            [
             1,
             "#f0f921"
            ]
           ]
          },
          "colorway": [
           "#636efa",
           "#EF553B",
           "#00cc96",
           "#ab63fa",
           "#FFA15A",
           "#19d3f3",
           "#FF6692",
           "#B6E880",
           "#FF97FF",
           "#FECB52"
          ],
          "font": {
           "color": "#2a3f5f"
          },
          "geo": {
           "bgcolor": "white",
           "lakecolor": "white",
           "landcolor": "#E5ECF6",
           "showlakes": true,
           "showland": true,
           "subunitcolor": "white"
          },
          "hoverlabel": {
           "align": "left"
          },
          "hovermode": "closest",
          "mapbox": {
           "style": "light"
          },
          "paper_bgcolor": "white",
          "plot_bgcolor": "#E5ECF6",
          "polar": {
           "angularaxis": {
            "gridcolor": "white",
            "linecolor": "white",
            "ticks": ""
           },
           "bgcolor": "#E5ECF6",
           "radialaxis": {
            "gridcolor": "white",
            "linecolor": "white",
            "ticks": ""
           }
          },
          "scene": {
           "xaxis": {
            "backgroundcolor": "#E5ECF6",
            "gridcolor": "white",
            "gridwidth": 2,
            "linecolor": "white",
            "showbackground": true,
            "ticks": "",
            "zerolinecolor": "white"
           },
           "yaxis": {
            "backgroundcolor": "#E5ECF6",
            "gridcolor": "white",
            "gridwidth": 2,
            "linecolor": "white",
            "showbackground": true,
            "ticks": "",
            "zerolinecolor": "white"
           },
           "zaxis": {
            "backgroundcolor": "#E5ECF6",
            "gridcolor": "white",
            "gridwidth": 2,
            "linecolor": "white",
            "showbackground": true,
            "ticks": "",
            "zerolinecolor": "white"
           }
          },
          "shapedefaults": {
           "line": {
            "color": "#2a3f5f"
           }
          },
          "ternary": {
           "aaxis": {
            "gridcolor": "white",
            "linecolor": "white",
            "ticks": ""
           },
           "baxis": {
            "gridcolor": "white",
            "linecolor": "white",
            "ticks": ""
           },
           "bgcolor": "#E5ECF6",
           "caxis": {
            "gridcolor": "white",
            "linecolor": "white",
            "ticks": ""
           }
          },
          "title": {
           "x": 0.05
          },
          "xaxis": {
           "automargin": true,
           "gridcolor": "white",
           "linecolor": "white",
           "ticks": "",
           "title": {
            "standoff": 15
           },
           "zerolinecolor": "white",
           "zerolinewidth": 2
          },
          "yaxis": {
           "automargin": true,
           "gridcolor": "white",
           "linecolor": "white",
           "ticks": "",
           "title": {
            "standoff": 15
           },
           "zerolinecolor": "white",
           "zerolinewidth": 2
          }
         }
        },
        "title": {
         "text": "Target2 Top 50 feature importance"
        },
        "width": 1250,
        "xaxis": {
         "anchor": "y",
         "domain": [
          0,
          1
         ],
         "title": {
          "text": "feature_importance"
         }
        },
        "yaxis": {
         "anchor": "x",
         "categoryarray": [
          "StandingsMeta_lastTenWins",
          "PlayerStats_inheritedRunnersScored_cumsum",
          "StandingsMeta_divWins",
          "target4_202104_mean",
          "Players_LE_primaryPositionCode",
          "target1_202104_quantile75",
          "PlayerTwitterFollowerAggregate_std",
          "PlayerStats_baseOnBalls_rank",
          "StandingsMeta_leagueRank",
          "target4_202104_prob",
          "StandingsMeta_awayLosses",
          "StandingsMeta_pct",
          "StandingsMeta_nightLosses",
          "PlayerTwitterFollowerAggregate_max",
          "target1_202104_median",
          "DatetimeEncoding_dow2cos",
          "target4_202104_std",
          "StandingsMeta_grassLosses",
          "PlayerStats_runsPitching_rank",
          "StandingsMeta_runsScored",
          "PlayerTwitterFollowerAggregate_min",
          "DatetimeEncoding_day2cos",
          "target2_202104_quantile75",
          "target1_202104_std",
          "DatetimeEncoding_day2sin",
          "StandingsMeta_homeWins",
          "StandingsMeta_wins",
          "PlayerStats_strikeOuts_rank",
          "target2_202104_std",
          "DatetimeEncoding_dow2sin",
          "target2_202104_max",
          "PlayerTwitterFollowerAggregate_quantile25",
          "target2_202104_mean",
          "StandingsMeta_divisionId",
          "target1_202104_mean",
          "StandingsMeta_losses",
          "PlayerTwitterFollowerAggregate_mean",
          "target2_202104_median",
          "StandingsMeta_divLosses",
          "target4_202104_quantile75",
          "target2_202104_quantile25",
          "target1_202104_min",
          "StandingsMeta_runsAllowed",
          "target2_202104_min",
          "target4_202104_quantile25",
          "target4_202104_median",
          "Players_LE_playerid",
          "target4_202104_min",
          "Rosters_LE_teamId",
          "Rosters_LE_status"
         ],
         "categoryorder": "array",
         "domain": [
          0,
          1
         ],
         "showgrid": true,
         "title": {
          "text": "feature"
         }
        }
       }
      }
     },
     "metadata": {}
    },
    {
     "output_type": "display_data",
     "data": {
      "application/vnd.plotly.v1+json": {
       "config": {
        "plotlyServerURL": "https://plot.ly"
       },
       "data": [
        {
         "alignmentgroup": "True",
         "hovertemplate": "feature_importance=%{x}<br>feature=%{y}<extra></extra>",
         "legendgroup": "",
         "marker": {
          "color": "#636efa"
         },
         "name": "",
         "notched": false,
         "offsetgroup": "",
         "orientation": "h",
         "showlegend": false,
         "type": "box",
         "x": [
          175748.71717053652,
          31622.635566711426,
          27986.07169342041,
          27337.227849960327,
          14028.81999206543,
          12941.638046264648,
          48171.32040309906,
          22998.38586139679,
          74241.01228284091,
          107082.85420060158,
          144096.50457322598,
          414235.05615615845,
          41423.34627532959,
          24595.3282661438,
          579900.6647577286,
          27807.885581970215,
          1504206.6970710754,
          75245.29200172424,
          103634.6506729126,
          565652.9805421829,
          155189.62227153778,
          241801.64961242676,
          1339444.4556598663,
          132037.45198631287,
          104413.424451828,
          159816.5130662918,
          82749.271920681,
          5816500.323297501,
          159475.130651474,
          269595.050447464,
          299103.9424819946,
          90116.78403329849,
          13454525.002383232,
          1835771.2612714767,
          16529.451972961426,
          4121905.2008810043,
          15410.831970214844,
          60846.161865234375,
          30183.726343154907,
          186439.8433778286,
          16593.380416870117,
          31987.927656173706,
          338628.85455322266,
          293039.77645874023,
          12820.287049293518,
          73056.1439704895,
          30479.167147755623,
          12566.91041636467,
          21180.573248505592,
          11580.131855249405
         ],
         "x0": " ",
         "xaxis": "x",
         "y": [
          "target1_202104_mean",
          "target1_202104_std",
          "target1_202104_max",
          "target1_202104_min",
          "target1_202104_median",
          "target1_202104_quantile25",
          "target1_202104_quantile75",
          "target1_202104_prob",
          "target2_202104_mean",
          "target2_202104_std",
          "target2_202104_max",
          "target2_202104_min",
          "target2_202104_median",
          "target2_202104_quantile25",
          "target2_202104_quantile75",
          "target2_202104_prob",
          "target3_202104_mean",
          "target3_202104_std",
          "target3_202104_max",
          "target3_202104_min",
          "target3_202104_median",
          "target3_202104_quantile25",
          "target3_202104_quantile75",
          "target3_202104_prob",
          "target4_202104_mean",
          "target4_202104_std",
          "target4_202104_max",
          "target4_202104_min",
          "target4_202104_median",
          "target4_202104_quantile25",
          "target4_202104_quantile75",
          "target4_202104_prob",
          "Rosters_LE_teamId",
          "Rosters_LE_status",
          "Players_LE_birthCountry",
          "Players_LE_playerid",
          "PlayerStats_inheritedRunners_cumsum",
          "PlayerTwitterFollowerAggregate_mean",
          "PlayerTwitterFollowerAggregate_std",
          "PlayerTwitterFollowerAggregate_max",
          "PlayerTwitterFollowerAggregate_min",
          "PlayerTwitterFollowerAggregate_median",
          "PlayerTwitterFollowerAggregate_quantile25",
          "PlayerTwitterFollowerAggregate_quantile75",
          "StandingsMeta_losses",
          "StandingsMeta_runsAllowed",
          "StandingsMeta_runsScored",
          "StandingsMeta_nightLosses",
          "StandingsMeta_divLosses",
          "StandingsMeta_xWinLossPct"
         ],
         "y0": " ",
         "yaxis": "y"
        }
       ],
       "layout": {
        "boxmode": "group",
        "height": 900,
        "legend": {
         "tracegroupgap": 0
        },
        "template": {
         "data": {
          "bar": [
           {
            "error_x": {
             "color": "#2a3f5f"
            },
            "error_y": {
             "color": "#2a3f5f"
            },
            "marker": {
             "line": {
              "color": "#E5ECF6",
              "width": 0.5
             }
            },
            "type": "bar"
           }
          ],
          "barpolar": [
           {
            "marker": {
             "line": {
              "color": "#E5ECF6",
              "width": 0.5
             }
            },
            "type": "barpolar"
           }
          ],
          "carpet": [
           {
            "aaxis": {
             "endlinecolor": "#2a3f5f",
             "gridcolor": "white",
             "linecolor": "white",
             "minorgridcolor": "white",
             "startlinecolor": "#2a3f5f"
            },
            "baxis": {
             "endlinecolor": "#2a3f5f",
             "gridcolor": "white",
             "linecolor": "white",
             "minorgridcolor": "white",
             "startlinecolor": "#2a3f5f"
            },
            "type": "carpet"
           }
          ],
          "choropleth": [
           {
            "colorbar": {
             "outlinewidth": 0,
             "ticks": ""
            },
            "type": "choropleth"
           }
          ],
          "contour": [
           {
            "colorbar": {
             "outlinewidth": 0,
             "ticks": ""
            },
            "colorscale": [
             [
              0,
              "#0d0887"
             ],
             [
              0.1111111111111111,
              "#46039f"
             ],
             [
              0.2222222222222222,
              "#7201a8"
             ],
             [
              0.3333333333333333,
              "#9c179e"
             ],
             [
              0.4444444444444444,
              "#bd3786"
             ],
             [
              0.5555555555555556,
              "#d8576b"
             ],
             [
              0.6666666666666666,
              "#ed7953"
             ],
             [
              0.7777777777777778,
              "#fb9f3a"
             ],
             [
              0.8888888888888888,
              "#fdca26"
             ],
             [
              1,
              "#f0f921"
             ]
            ],
            "type": "contour"
           }
          ],
          "contourcarpet": [
           {
            "colorbar": {
             "outlinewidth": 0,
             "ticks": ""
            },
            "type": "contourcarpet"
           }
          ],
          "heatmap": [
           {
            "colorbar": {
             "outlinewidth": 0,
             "ticks": ""
            },
            "colorscale": [
             [
              0,
              "#0d0887"
             ],
             [
              0.1111111111111111,
              "#46039f"
             ],
             [
              0.2222222222222222,
              "#7201a8"
             ],
             [
              0.3333333333333333,
              "#9c179e"
             ],
             [
              0.4444444444444444,
              "#bd3786"
             ],
             [
              0.5555555555555556,
              "#d8576b"
             ],
             [
              0.6666666666666666,
              "#ed7953"
             ],
             [
              0.7777777777777778,
              "#fb9f3a"
             ],
             [
              0.8888888888888888,
              "#fdca26"
             ],
             [
              1,
              "#f0f921"
             ]
            ],
            "type": "heatmap"
           }
          ],
          "heatmapgl": [
           {
            "colorbar": {
             "outlinewidth": 0,
             "ticks": ""
            },
            "colorscale": [
             [
              0,
              "#0d0887"
             ],
             [
              0.1111111111111111,
              "#46039f"
             ],
             [
              0.2222222222222222,
              "#7201a8"
             ],
             [
              0.3333333333333333,
              "#9c179e"
             ],
             [
              0.4444444444444444,
              "#bd3786"
             ],
             [
              0.5555555555555556,
              "#d8576b"
             ],
             [
              0.6666666666666666,
              "#ed7953"
             ],
             [
              0.7777777777777778,
              "#fb9f3a"
             ],
             [
              0.8888888888888888,
              "#fdca26"
             ],
             [
              1,
              "#f0f921"
             ]
            ],
            "type": "heatmapgl"
           }
          ],
          "histogram": [
           {
            "marker": {
             "colorbar": {
              "outlinewidth": 0,
              "ticks": ""
             }
            },
            "type": "histogram"
           }
          ],
          "histogram2d": [
           {
            "colorbar": {
             "outlinewidth": 0,
             "ticks": ""
            },
            "colorscale": [
             [
              0,
              "#0d0887"
             ],
             [
              0.1111111111111111,
              "#46039f"
             ],
             [
              0.2222222222222222,
              "#7201a8"
             ],
             [
              0.3333333333333333,
              "#9c179e"
             ],
             [
              0.4444444444444444,
              "#bd3786"
             ],
             [
              0.5555555555555556,
              "#d8576b"
             ],
             [
              0.6666666666666666,
              "#ed7953"
             ],
             [
              0.7777777777777778,
              "#fb9f3a"
             ],
             [
              0.8888888888888888,
              "#fdca26"
             ],
             [
              1,
              "#f0f921"
             ]
            ],
            "type": "histogram2d"
           }
          ],
          "histogram2dcontour": [
           {
            "colorbar": {
             "outlinewidth": 0,
             "ticks": ""
            },
            "colorscale": [
             [
              0,
              "#0d0887"
             ],
             [
              0.1111111111111111,
              "#46039f"
             ],
             [
              0.2222222222222222,
              "#7201a8"
             ],
             [
              0.3333333333333333,
              "#9c179e"
             ],
             [
              0.4444444444444444,
              "#bd3786"
             ],
             [
              0.5555555555555556,
              "#d8576b"
             ],
             [
              0.6666666666666666,
              "#ed7953"
             ],
             [
              0.7777777777777778,
              "#fb9f3a"
             ],
             [
              0.8888888888888888,
              "#fdca26"
             ],
             [
              1,
              "#f0f921"
             ]
            ],
            "type": "histogram2dcontour"
           }
          ],
          "mesh3d": [
           {
            "colorbar": {
             "outlinewidth": 0,
             "ticks": ""
            },
            "type": "mesh3d"
           }
          ],
          "parcoords": [
           {
            "line": {
             "colorbar": {
              "outlinewidth": 0,
              "ticks": ""
             }
            },
            "type": "parcoords"
           }
          ],
          "pie": [
           {
            "automargin": true,
            "type": "pie"
           }
          ],
          "scatter": [
           {
            "marker": {
             "colorbar": {
              "outlinewidth": 0,
              "ticks": ""
             }
            },
            "type": "scatter"
           }
          ],
          "scatter3d": [
           {
            "line": {
             "colorbar": {
              "outlinewidth": 0,
              "ticks": ""
             }
            },
            "marker": {
             "colorbar": {
              "outlinewidth": 0,
              "ticks": ""
             }
            },
            "type": "scatter3d"
           }
          ],
          "scattercarpet": [
           {
            "marker": {
             "colorbar": {
              "outlinewidth": 0,
              "ticks": ""
             }
            },
            "type": "scattercarpet"
           }
          ],
          "scattergeo": [
           {
            "marker": {
             "colorbar": {
              "outlinewidth": 0,
              "ticks": ""
             }
            },
            "type": "scattergeo"
           }
          ],
          "scattergl": [
           {
            "marker": {
             "colorbar": {
              "outlinewidth": 0,
              "ticks": ""
             }
            },
            "type": "scattergl"
           }
          ],
          "scattermapbox": [
           {
            "marker": {
             "colorbar": {
              "outlinewidth": 0,
              "ticks": ""
             }
            },
            "type": "scattermapbox"
           }
          ],
          "scatterpolar": [
           {
            "marker": {
             "colorbar": {
              "outlinewidth": 0,
              "ticks": ""
             }
            },
            "type": "scatterpolar"
           }
          ],
          "scatterpolargl": [
           {
            "marker": {
             "colorbar": {
              "outlinewidth": 0,
              "ticks": ""
             }
            },
            "type": "scatterpolargl"
           }
          ],
          "scatterternary": [
           {
            "marker": {
             "colorbar": {
              "outlinewidth": 0,
              "ticks": ""
             }
            },
            "type": "scatterternary"
           }
          ],
          "surface": [
           {
            "colorbar": {
             "outlinewidth": 0,
             "ticks": ""
            },
            "colorscale": [
             [
              0,
              "#0d0887"
             ],
             [
              0.1111111111111111,
              "#46039f"
             ],
             [
              0.2222222222222222,
              "#7201a8"
             ],
             [
              0.3333333333333333,
              "#9c179e"
             ],
             [
              0.4444444444444444,
              "#bd3786"
             ],
             [
              0.5555555555555556,
              "#d8576b"
             ],
             [
              0.6666666666666666,
              "#ed7953"
             ],
             [
              0.7777777777777778,
              "#fb9f3a"
             ],
             [
              0.8888888888888888,
              "#fdca26"
             ],
             [
              1,
              "#f0f921"
             ]
            ],
            "type": "surface"
           }
          ],
          "table": [
           {
            "cells": {
             "fill": {
              "color": "#EBF0F8"
             },
             "line": {
              "color": "white"
             }
            },
            "header": {
             "fill": {
              "color": "#C8D4E3"
             },
             "line": {
              "color": "white"
             }
            },
            "type": "table"
           }
          ]
         },
         "layout": {
          "annotationdefaults": {
           "arrowcolor": "#2a3f5f",
           "arrowhead": 0,
           "arrowwidth": 1
          },
          "autotypenumbers": "strict",
          "coloraxis": {
           "colorbar": {
            "outlinewidth": 0,
            "ticks": ""
           }
          },
          "colorscale": {
           "diverging": [
            [
             0,
             "#8e0152"
            ],
            [
             0.1,
             "#c51b7d"
            ],
            [
             0.2,
             "#de77ae"
            ],
            [
             0.3,
             "#f1b6da"
            ],
            [
             0.4,
             "#fde0ef"
            ],
            [
             0.5,
             "#f7f7f7"
            ],
            [
             0.6,
             "#e6f5d0"
            ],
            [
             0.7,
             "#b8e186"
            ],
            [
             0.8,
             "#7fbc41"
            ],
            [
             0.9,
             "#4d9221"
            ],
            [
             1,
             "#276419"
            ]
           ],
           "sequential": [
            [
             0,
             "#0d0887"
            ],
            [
             0.1111111111111111,
             "#46039f"
            ],
            [
             0.2222222222222222,
             "#7201a8"
            ],
            [
             0.3333333333333333,
             "#9c179e"
            ],
            [
             0.4444444444444444,
             "#bd3786"
            ],
            [
             0.5555555555555556,
             "#d8576b"
            ],
            [
             0.6666666666666666,
             "#ed7953"
            ],
            [
             0.7777777777777778,
             "#fb9f3a"
            ],
            [
             0.8888888888888888,
             "#fdca26"
            ],
            [
             1,
             "#f0f921"
            ]
           ],
           "sequentialminus": [
            [
             0,
             "#0d0887"
            ],
            [
             0.1111111111111111,
             "#46039f"
            ],
            [
             0.2222222222222222,
             "#7201a8"
            ],
            [
             0.3333333333333333,
             "#9c179e"
            ],
            [
             0.4444444444444444,
             "#bd3786"
            ],
            [
             0.5555555555555556,
             "#d8576b"
            ],
            [
             0.6666666666666666,
             "#ed7953"
            ],
            [
             0.7777777777777778,
             "#fb9f3a"
            ],
            [
             0.8888888888888888,
             "#fdca26"
            ],
            [
             1,
             "#f0f921"
            ]
           ]
          },
          "colorway": [
           "#636efa",
           "#EF553B",
           "#00cc96",
           "#ab63fa",
           "#FFA15A",
           "#19d3f3",
           "#FF6692",
           "#B6E880",
           "#FF97FF",
           "#FECB52"
          ],
          "font": {
           "color": "#2a3f5f"
          },
          "geo": {
           "bgcolor": "white",
           "lakecolor": "white",
           "landcolor": "#E5ECF6",
           "showlakes": true,
           "showland": true,
           "subunitcolor": "white"
          },
          "hoverlabel": {
           "align": "left"
          },
          "hovermode": "closest",
          "mapbox": {
           "style": "light"
          },
          "paper_bgcolor": "white",
          "plot_bgcolor": "#E5ECF6",
          "polar": {
           "angularaxis": {
            "gridcolor": "white",
            "linecolor": "white",
            "ticks": ""
           },
           "bgcolor": "#E5ECF6",
           "radialaxis": {
            "gridcolor": "white",
            "linecolor": "white",
            "ticks": ""
           }
          },
          "scene": {
           "xaxis": {
            "backgroundcolor": "#E5ECF6",
            "gridcolor": "white",
            "gridwidth": 2,
            "linecolor": "white",
            "showbackground": true,
            "ticks": "",
            "zerolinecolor": "white"
           },
           "yaxis": {
            "backgroundcolor": "#E5ECF6",
            "gridcolor": "white",
            "gridwidth": 2,
            "linecolor": "white",
            "showbackground": true,
            "ticks": "",
            "zerolinecolor": "white"
           },
           "zaxis": {
            "backgroundcolor": "#E5ECF6",
            "gridcolor": "white",
            "gridwidth": 2,
            "linecolor": "white",
            "showbackground": true,
            "ticks": "",
            "zerolinecolor": "white"
           }
          },
          "shapedefaults": {
           "line": {
            "color": "#2a3f5f"
           }
          },
          "ternary": {
           "aaxis": {
            "gridcolor": "white",
            "linecolor": "white",
            "ticks": ""
           },
           "baxis": {
            "gridcolor": "white",
            "linecolor": "white",
            "ticks": ""
           },
           "bgcolor": "#E5ECF6",
           "caxis": {
            "gridcolor": "white",
            "linecolor": "white",
            "ticks": ""
           }
          },
          "title": {
           "x": 0.05
          },
          "xaxis": {
           "automargin": true,
           "gridcolor": "white",
           "linecolor": "white",
           "ticks": "",
           "title": {
            "standoff": 15
           },
           "zerolinecolor": "white",
           "zerolinewidth": 2
          },
          "yaxis": {
           "automargin": true,
           "gridcolor": "white",
           "linecolor": "white",
           "ticks": "",
           "title": {
            "standoff": 15
           },
           "zerolinecolor": "white",
           "zerolinewidth": 2
          }
         }
        },
        "title": {
         "text": "Target3 Top 50 feature importance"
        },
        "width": 1250,
        "xaxis": {
         "anchor": "y",
         "domain": [
          0,
          1
         ],
         "title": {
          "text": "feature_importance"
         }
        },
        "yaxis": {
         "anchor": "x",
         "categoryarray": [
          "StandingsMeta_xWinLossPct",
          "StandingsMeta_nightLosses",
          "StandingsMeta_losses",
          "target1_202104_quantile25",
          "target1_202104_median",
          "PlayerStats_inheritedRunners_cumsum",
          "Players_LE_birthCountry",
          "PlayerTwitterFollowerAggregate_min",
          "StandingsMeta_divLosses",
          "target1_202104_prob",
          "target2_202104_quantile25",
          "target1_202104_min",
          "target2_202104_prob",
          "target1_202104_max",
          "PlayerTwitterFollowerAggregate_std",
          "StandingsMeta_runsScored",
          "target1_202104_std",
          "PlayerTwitterFollowerAggregate_median",
          "target2_202104_median",
          "target1_202104_quantile75",
          "PlayerTwitterFollowerAggregate_mean",
          "StandingsMeta_runsAllowed",
          "target2_202104_mean",
          "target3_202104_std",
          "target4_202104_max",
          "target4_202104_prob",
          "target3_202104_max",
          "target4_202104_mean",
          "target2_202104_std",
          "target3_202104_prob",
          "target2_202104_max",
          "target3_202104_median",
          "target4_202104_median",
          "target4_202104_std",
          "target1_202104_mean",
          "PlayerTwitterFollowerAggregate_max",
          "target3_202104_quantile25",
          "target4_202104_quantile25",
          "PlayerTwitterFollowerAggregate_quantile75",
          "target4_202104_quantile75",
          "PlayerTwitterFollowerAggregate_quantile25",
          "target2_202104_min",
          "target3_202104_min",
          "target2_202104_quantile75",
          "target3_202104_quantile75",
          "target3_202104_mean",
          "Rosters_LE_status",
          "Players_LE_playerid",
          "target4_202104_min",
          "Rosters_LE_teamId"
         ],
         "categoryorder": "array",
         "domain": [
          0,
          1
         ],
         "showgrid": true,
         "title": {
          "text": "feature"
         }
        }
       }
      }
     },
     "metadata": {}
    },
    {
     "output_type": "display_data",
     "data": {
      "application/vnd.plotly.v1+json": {
       "config": {
        "plotlyServerURL": "https://plot.ly"
       },
       "data": [
        {
         "alignmentgroup": "True",
         "hovertemplate": "feature_importance=%{x}<br>feature=%{y}<extra></extra>",
         "legendgroup": "",
         "marker": {
          "color": "#636efa"
         },
         "name": "",
         "notched": false,
         "offsetgroup": "",
         "orientation": "h",
         "showlegend": false,
         "type": "box",
         "x": [
          79749.54029726982,
          45957.7021535635,
          24737.469547748566,
          22598.924300432205,
          26858.076744556427,
          22415.3677444458,
          196681.5642297268,
          101699.98239263892,
          104197.94759249687,
          198805.7037639618,
          191971.5511317253,
          168429.82624340057,
          145543.94961547852,
          97088.0487499237,
          39409.686880111694,
          36667.09812736511,
          26717.026596546173,
          21081.922271728516,
          21971.11668586731,
          23377.96513557434,
          93516.00809383392,
          79879.17527937889,
          41847.55773139,
          2292776.782300949,
          1183902.685394764,
          581817.7257118225,
          234148.47466802597,
          103692.91479921341,
          461961.4777524471,
          600735.1984605193,
          853465.9595253468,
          24075.8732585907,
          142634.74421691895,
          54703.25215625763,
          59189.89849472046,
          131709.12608671188,
          75998.99403905869,
          85837.6854569912,
          35196.210247039795,
          47487.8931491375,
          95263.43449360132,
          102197.49769091606,
          31232.86510359822,
          33607.68940734863,
          42992.382556796074,
          96338.62401485443,
          40140.84671911597,
          78543.26433129609,
          42349.36157256365,
          64984.08197736228
         ],
         "x0": " ",
         "xaxis": "x",
         "y": [
          "target1_202104_mean",
          "target1_202104_std",
          "target1_202104_max",
          "target1_202104_min",
          "target1_202104_median",
          "target1_202104_quantile75",
          "target2_202104_mean",
          "target2_202104_std",
          "target2_202104_max",
          "target2_202104_min",
          "target2_202104_median",
          "target2_202104_quantile25",
          "target2_202104_quantile75",
          "target2_202104_prob",
          "target3_202104_mean",
          "target3_202104_std",
          "target3_202104_max",
          "target3_202104_quantile25",
          "target3_202104_quantile75",
          "target3_202104_prob",
          "target4_202104_mean",
          "target4_202104_std",
          "target4_202104_max",
          "target4_202104_min",
          "target4_202104_median",
          "target4_202104_quantile25",
          "target4_202104_quantile75",
          "target4_202104_prob",
          "Rosters_LE_teamId",
          "Rosters_LE_status",
          "Players_LE_playerid",
          "PlayerStats_saves_rank",
          "PlayerTwitterFollowerAggregate_mean",
          "PlayerTwitterFollowerAggregate_std",
          "PlayerTwitterFollowerAggregate_max",
          "PlayerTwitterFollowerAggregate_min",
          "PlayerTwitterFollowerAggregate_median",
          "PlayerTwitterFollowerAggregate_quantile25",
          "PlayerTwitterFollowerAggregate_quantile75",
          "StandingsMeta_losses",
          "StandingsMeta_runsAllowed",
          "StandingsMeta_runsScored",
          "StandingsMeta_awayLosses",
          "StandingsMeta_grassLosses",
          "StandingsMeta_divWins",
          "StandingsMeta_divLosses",
          "DatetimeEncoding_day2cos",
          "DatetimeEncoding_day2sin",
          "DatetimeEncoding_dow2cos",
          "DatetimeEncoding_dow2sin"
         ],
         "y0": " ",
         "yaxis": "y"
        }
       ],
       "layout": {
        "boxmode": "group",
        "height": 900,
        "legend": {
         "tracegroupgap": 0
        },
        "template": {
         "data": {
          "bar": [
           {
            "error_x": {
             "color": "#2a3f5f"
            },
            "error_y": {
             "color": "#2a3f5f"
            },
            "marker": {
             "line": {
              "color": "#E5ECF6",
              "width": 0.5
             }
            },
            "type": "bar"
           }
          ],
          "barpolar": [
           {
            "marker": {
             "line": {
              "color": "#E5ECF6",
              "width": 0.5
             }
            },
            "type": "barpolar"
           }
          ],
          "carpet": [
           {
            "aaxis": {
             "endlinecolor": "#2a3f5f",
             "gridcolor": "white",
             "linecolor": "white",
             "minorgridcolor": "white",
             "startlinecolor": "#2a3f5f"
            },
            "baxis": {
             "endlinecolor": "#2a3f5f",
             "gridcolor": "white",
             "linecolor": "white",
             "minorgridcolor": "white",
             "startlinecolor": "#2a3f5f"
            },
            "type": "carpet"
           }
          ],
          "choropleth": [
           {
            "colorbar": {
             "outlinewidth": 0,
             "ticks": ""
            },
            "type": "choropleth"
           }
          ],
          "contour": [
           {
            "colorbar": {
             "outlinewidth": 0,
             "ticks": ""
            },
            "colorscale": [
             [
              0,
              "#0d0887"
             ],
             [
              0.1111111111111111,
              "#46039f"
             ],
             [
              0.2222222222222222,
              "#7201a8"
             ],
             [
              0.3333333333333333,
              "#9c179e"
             ],
             [
              0.4444444444444444,
              "#bd3786"
             ],
             [
              0.5555555555555556,
              "#d8576b"
             ],
             [
              0.6666666666666666,
              "#ed7953"
             ],
             [
              0.7777777777777778,
              "#fb9f3a"
             ],
             [
              0.8888888888888888,
              "#fdca26"
             ],
             [
              1,
              "#f0f921"
             ]
            ],
            "type": "contour"
           }
          ],
          "contourcarpet": [
           {
            "colorbar": {
             "outlinewidth": 0,
             "ticks": ""
            },
            "type": "contourcarpet"
           }
          ],
          "heatmap": [
           {
            "colorbar": {
             "outlinewidth": 0,
             "ticks": ""
            },
            "colorscale": [
             [
              0,
              "#0d0887"
             ],
             [
              0.1111111111111111,
              "#46039f"
             ],
             [
              0.2222222222222222,
              "#7201a8"
             ],
             [
              0.3333333333333333,
              "#9c179e"
             ],
             [
              0.4444444444444444,
              "#bd3786"
             ],
             [
              0.5555555555555556,
              "#d8576b"
             ],
             [
              0.6666666666666666,
              "#ed7953"
             ],
             [
              0.7777777777777778,
              "#fb9f3a"
             ],
             [
              0.8888888888888888,
              "#fdca26"
             ],
             [
              1,
              "#f0f921"
             ]
            ],
            "type": "heatmap"
           }
          ],
          "heatmapgl": [
           {
            "colorbar": {
             "outlinewidth": 0,
             "ticks": ""
            },
            "colorscale": [
             [
              0,
              "#0d0887"
             ],
             [
              0.1111111111111111,
              "#46039f"
             ],
             [
              0.2222222222222222,
              "#7201a8"
             ],
             [
              0.3333333333333333,
              "#9c179e"
             ],
             [
              0.4444444444444444,
              "#bd3786"
             ],
             [
              0.5555555555555556,
              "#d8576b"
             ],
             [
              0.6666666666666666,
              "#ed7953"
             ],
             [
              0.7777777777777778,
              "#fb9f3a"
             ],
             [
              0.8888888888888888,
              "#fdca26"
             ],
             [
              1,
              "#f0f921"
             ]
            ],
            "type": "heatmapgl"
           }
          ],
          "histogram": [
           {
            "marker": {
             "colorbar": {
              "outlinewidth": 0,
              "ticks": ""
             }
            },
            "type": "histogram"
           }
          ],
          "histogram2d": [
           {
            "colorbar": {
             "outlinewidth": 0,
             "ticks": ""
            },
            "colorscale": [
             [
              0,
              "#0d0887"
             ],
             [
              0.1111111111111111,
              "#46039f"
             ],
             [
              0.2222222222222222,
              "#7201a8"
             ],
             [
              0.3333333333333333,
              "#9c179e"
             ],
             [
              0.4444444444444444,
              "#bd3786"
             ],
             [
              0.5555555555555556,
              "#d8576b"
             ],
             [
              0.6666666666666666,
              "#ed7953"
             ],
             [
              0.7777777777777778,
              "#fb9f3a"
             ],
             [
              0.8888888888888888,
              "#fdca26"
             ],
             [
              1,
              "#f0f921"
             ]
            ],
            "type": "histogram2d"
           }
          ],
          "histogram2dcontour": [
           {
            "colorbar": {
             "outlinewidth": 0,
             "ticks": ""
            },
            "colorscale": [
             [
              0,
              "#0d0887"
             ],
             [
              0.1111111111111111,
              "#46039f"
             ],
             [
              0.2222222222222222,
              "#7201a8"
             ],
             [
              0.3333333333333333,
              "#9c179e"
             ],
             [
              0.4444444444444444,
              "#bd3786"
             ],
             [
              0.5555555555555556,
              "#d8576b"
             ],
             [
              0.6666666666666666,
              "#ed7953"
             ],
             [
              0.7777777777777778,
              "#fb9f3a"
             ],
             [
              0.8888888888888888,
              "#fdca26"
             ],
             [
              1,
              "#f0f921"
             ]
            ],
            "type": "histogram2dcontour"
           }
          ],
          "mesh3d": [
           {
            "colorbar": {
             "outlinewidth": 0,
             "ticks": ""
            },
            "type": "mesh3d"
           }
          ],
          "parcoords": [
           {
            "line": {
             "colorbar": {
              "outlinewidth": 0,
              "ticks": ""
             }
            },
            "type": "parcoords"
           }
          ],
          "pie": [
           {
            "automargin": true,
            "type": "pie"
           }
          ],
          "scatter": [
           {
            "marker": {
             "colorbar": {
              "outlinewidth": 0,
              "ticks": ""
             }
            },
            "type": "scatter"
           }
          ],
          "scatter3d": [
           {
            "line": {
             "colorbar": {
              "outlinewidth": 0,
              "ticks": ""
             }
            },
            "marker": {
             "colorbar": {
              "outlinewidth": 0,
              "ticks": ""
             }
            },
            "type": "scatter3d"
           }
          ],
          "scattercarpet": [
           {
            "marker": {
             "colorbar": {
              "outlinewidth": 0,
              "ticks": ""
             }
            },
            "type": "scattercarpet"
           }
          ],
          "scattergeo": [
           {
            "marker": {
             "colorbar": {
              "outlinewidth": 0,
              "ticks": ""
             }
            },
            "type": "scattergeo"
           }
          ],
          "scattergl": [
           {
            "marker": {
             "colorbar": {
              "outlinewidth": 0,
              "ticks": ""
             }
            },
            "type": "scattergl"
           }
          ],
          "scattermapbox": [
           {
            "marker": {
             "colorbar": {
              "outlinewidth": 0,
              "ticks": ""
             }
            },
            "type": "scattermapbox"
           }
          ],
          "scatterpolar": [
           {
            "marker": {
             "colorbar": {
              "outlinewidth": 0,
              "ticks": ""
             }
            },
            "type": "scatterpolar"
           }
          ],
          "scatterpolargl": [
           {
            "marker": {
             "colorbar": {
              "outlinewidth": 0,
              "ticks": ""
             }
            },
            "type": "scatterpolargl"
           }
          ],
          "scatterternary": [
           {
            "marker": {
             "colorbar": {
              "outlinewidth": 0,
              "ticks": ""
             }
            },
            "type": "scatterternary"
           }
          ],
          "surface": [
           {
            "colorbar": {
             "outlinewidth": 0,
             "ticks": ""
            },
            "colorscale": [
             [
              0,
              "#0d0887"
             ],
             [
              0.1111111111111111,
              "#46039f"
             ],
             [
              0.2222222222222222,
              "#7201a8"
             ],
             [
              0.3333333333333333,
              "#9c179e"
             ],
             [
              0.4444444444444444,
              "#bd3786"
             ],
             [
              0.5555555555555556,
              "#d8576b"
             ],
             [
              0.6666666666666666,
              "#ed7953"
             ],
             [
              0.7777777777777778,
              "#fb9f3a"
             ],
             [
              0.8888888888888888,
              "#fdca26"
             ],
             [
              1,
              "#f0f921"
             ]
            ],
            "type": "surface"
           }
          ],
          "table": [
           {
            "cells": {
             "fill": {
              "color": "#EBF0F8"
             },
             "line": {
              "color": "white"
             }
            },
            "header": {
             "fill": {
              "color": "#C8D4E3"
             },
             "line": {
              "color": "white"
             }
            },
            "type": "table"
           }
          ]
         },
         "layout": {
          "annotationdefaults": {
           "arrowcolor": "#2a3f5f",
           "arrowhead": 0,
           "arrowwidth": 1
          },
          "autotypenumbers": "strict",
          "coloraxis": {
           "colorbar": {
            "outlinewidth": 0,
            "ticks": ""
           }
          },
          "colorscale": {
           "diverging": [
            [
             0,
             "#8e0152"
            ],
            [
             0.1,
             "#c51b7d"
            ],
            [
             0.2,
             "#de77ae"
            ],
            [
             0.3,
             "#f1b6da"
            ],
            [
             0.4,
             "#fde0ef"
            ],
            [
             0.5,
             "#f7f7f7"
            ],
            [
             0.6,
             "#e6f5d0"
            ],
            [
             0.7,
             "#b8e186"
            ],
            [
             0.8,
             "#7fbc41"
            ],
            [
             0.9,
             "#4d9221"
            ],
            [
             1,
             "#276419"
            ]
           ],
           "sequential": [
            [
             0,
             "#0d0887"
            ],
            [
             0.1111111111111111,
             "#46039f"
            ],
            [
             0.2222222222222222,
             "#7201a8"
            ],
            [
             0.3333333333333333,
             "#9c179e"
            ],
            [
             0.4444444444444444,
             "#bd3786"
            ],
            [
             0.5555555555555556,
             "#d8576b"
            ],
            [
             0.6666666666666666,
             "#ed7953"
            ],
            [
             0.7777777777777778,
             "#fb9f3a"
            ],
            [
             0.8888888888888888,
             "#fdca26"
            ],
            [
             1,
             "#f0f921"
            ]
           ],
           "sequentialminus": [
            [
             0,
             "#0d0887"
            ],
            [
             0.1111111111111111,
             "#46039f"
            ],
            [
             0.2222222222222222,
             "#7201a8"
            ],
            [
             0.3333333333333333,
             "#9c179e"
            ],
            [
             0.4444444444444444,
             "#bd3786"
            ],
            [
             0.5555555555555556,
             "#d8576b"
            ],
            [
             0.6666666666666666,
             "#ed7953"
            ],
            [
             0.7777777777777778,
             "#fb9f3a"
            ],
            [
             0.8888888888888888,
             "#fdca26"
            ],
            [
             1,
             "#f0f921"
            ]
           ]
          },
          "colorway": [
           "#636efa",
           "#EF553B",
           "#00cc96",
           "#ab63fa",
           "#FFA15A",
           "#19d3f3",
           "#FF6692",
           "#B6E880",
           "#FF97FF",
           "#FECB52"
          ],
          "font": {
           "color": "#2a3f5f"
          },
          "geo": {
           "bgcolor": "white",
           "lakecolor": "white",
           "landcolor": "#E5ECF6",
           "showlakes": true,
           "showland": true,
           "subunitcolor": "white"
          },
          "hoverlabel": {
           "align": "left"
          },
          "hovermode": "closest",
          "mapbox": {
           "style": "light"
          },
          "paper_bgcolor": "white",
          "plot_bgcolor": "#E5ECF6",
          "polar": {
           "angularaxis": {
            "gridcolor": "white",
            "linecolor": "white",
            "ticks": ""
           },
           "bgcolor": "#E5ECF6",
           "radialaxis": {
            "gridcolor": "white",
            "linecolor": "white",
            "ticks": ""
           }
          },
          "scene": {
           "xaxis": {
            "backgroundcolor": "#E5ECF6",
            "gridcolor": "white",
            "gridwidth": 2,
            "linecolor": "white",
            "showbackground": true,
            "ticks": "",
            "zerolinecolor": "white"
           },
           "yaxis": {
            "backgroundcolor": "#E5ECF6",
            "gridcolor": "white",
            "gridwidth": 2,
            "linecolor": "white",
            "showbackground": true,
            "ticks": "",
            "zerolinecolor": "white"
           },
           "zaxis": {
            "backgroundcolor": "#E5ECF6",
            "gridcolor": "white",
            "gridwidth": 2,
            "linecolor": "white",
            "showbackground": true,
            "ticks": "",
            "zerolinecolor": "white"
           }
          },
          "shapedefaults": {
           "line": {
            "color": "#2a3f5f"
           }
          },
          "ternary": {
           "aaxis": {
            "gridcolor": "white",
            "linecolor": "white",
            "ticks": ""
           },
           "baxis": {
            "gridcolor": "white",
            "linecolor": "white",
            "ticks": ""
           },
           "bgcolor": "#E5ECF6",
           "caxis": {
            "gridcolor": "white",
            "linecolor": "white",
            "ticks": ""
           }
          },
          "title": {
           "x": 0.05
          },
          "xaxis": {
           "automargin": true,
           "gridcolor": "white",
           "linecolor": "white",
           "ticks": "",
           "title": {
            "standoff": 15
           },
           "zerolinecolor": "white",
           "zerolinewidth": 2
          },
          "yaxis": {
           "automargin": true,
           "gridcolor": "white",
           "linecolor": "white",
           "ticks": "",
           "title": {
            "standoff": 15
           },
           "zerolinecolor": "white",
           "zerolinewidth": 2
          }
         }
        },
        "title": {
         "text": "Target4 Top 50 feature importance"
        },
        "width": 1250,
        "xaxis": {
         "anchor": "y",
         "domain": [
          0,
          1
         ],
         "title": {
          "text": "feature_importance"
         }
        },
        "yaxis": {
         "anchor": "x",
         "categoryarray": [
          "target3_202104_quantile25",
          "target3_202104_quantile75",
          "target1_202104_quantile75",
          "target1_202104_min",
          "target3_202104_prob",
          "PlayerStats_saves_rank",
          "target1_202104_max",
          "target3_202104_max",
          "target1_202104_median",
          "StandingsMeta_awayLosses",
          "StandingsMeta_grassLosses",
          "PlayerTwitterFollowerAggregate_quantile75",
          "target3_202104_std",
          "target3_202104_mean",
          "DatetimeEncoding_day2cos",
          "target4_202104_max",
          "DatetimeEncoding_dow2cos",
          "StandingsMeta_divWins",
          "target1_202104_std",
          "StandingsMeta_losses",
          "PlayerTwitterFollowerAggregate_std",
          "PlayerTwitterFollowerAggregate_max",
          "DatetimeEncoding_dow2sin",
          "PlayerTwitterFollowerAggregate_median",
          "DatetimeEncoding_day2sin",
          "target1_202104_mean",
          "target4_202104_std",
          "PlayerTwitterFollowerAggregate_quantile25",
          "target4_202104_mean",
          "StandingsMeta_runsAllowed",
          "StandingsMeta_divLosses",
          "target2_202104_prob",
          "target2_202104_std",
          "StandingsMeta_runsScored",
          "target4_202104_prob",
          "target2_202104_max",
          "PlayerTwitterFollowerAggregate_min",
          "PlayerTwitterFollowerAggregate_mean",
          "target2_202104_quantile75",
          "target2_202104_quantile25",
          "target2_202104_median",
          "target2_202104_mean",
          "target2_202104_min",
          "target4_202104_quantile75",
          "Rosters_LE_teamId",
          "target4_202104_quantile25",
          "Rosters_LE_status",
          "Players_LE_playerid",
          "target4_202104_median",
          "target4_202104_min"
         ],
         "categoryorder": "array",
         "domain": [
          0,
          1
         ],
         "showgrid": true,
         "title": {
          "text": "feature"
         }
        }
       }
      }
     },
     "metadata": {}
    }
   ],
   "metadata": {}
  },
  {
   "cell_type": "code",
   "execution_count": 20,
   "source": [
    "# for target, model_tmps in zip(CFG.TARGETS, models):\n",
    "#     for i, model_tmp in enumerate(model_tmps):\n",
    "#         model_tmp.save_model(f\"{CFG.MODEL_PATH}/lgb_{target}_{i}.txt\")"
   ],
   "outputs": [],
   "metadata": {}
  },
  {
   "cell_type": "markdown",
   "source": [
    "## Inference"
   ],
   "metadata": {}
  },
  {
   "cell_type": "code",
   "execution_count": 16,
   "source": [
    "def update_dataset(input_df: pd.DataFrame, sample_prediction_df: pd.DataFrame):\n",
    "    '''datasetの更新\n",
    "    '''\n",
    "    # columnがNaNでなければ分岐処理が実行される(pd.isnaとかでも代用可)\n",
    "    # NaN == NaNはFalseになる\n",
    "    ####################\n",
    "    # rosters #\n",
    "    ####################\n",
    "    if input_df[\"rosters\"].iloc[0] == input_df[\"rosters\"].iloc[0]:\n",
    "        test_rosters = pd.read_json(input_df[\"rosters\"].iloc[0])\n",
    "    else:\n",
    "        test_rosters = sample_prediction_df[[\"playerId\"]].copy()\n",
    "        for col in mlb_train_ds.train_rosters.columns:\n",
    "            if col == \"playerId\": continue\n",
    "            test_rosters[col] = np.nan\n",
    "\n",
    "    test_rosters[\"date\"] = input_df.iloc[0][\"date\"]\n",
    "    if input_df.iloc[0][\"date\"] > 20210430:\n",
    "        mlb_train_ds.train_rosters = reduce_mem_usage(pd.concat([mlb_train_ds.train_rosters, test_rosters], axis=0, ignore_index=True))\n",
    "    ####################\n",
    "    # playerBoxScores #\n",
    "    ####################\n",
    "    if input_df[\"playerBoxScores\"].iloc[0] == input_df[\"playerBoxScores\"].iloc[0]:\n",
    "        test_scores = pd.read_json(input_df[\"playerBoxScores\"].iloc[0])\n",
    "    else:\n",
    "        test_scores = sample_prediction_df[[\"playerId\"]].copy()\n",
    "        for col in mlb_train_ds.train_scores.columns:\n",
    "            if col == \"playerId\": continue\n",
    "            test_scores[col] = np.nan\n",
    "    \n",
    "    test_scores[\"date\"] = input_df.iloc[0][\"date\"]\n",
    "    if input_df.iloc[0][\"date\"] > 20210430:\n",
    "        mlb_train_ds.train_scores = reduce_mem_usage(pd.concat([mlb_train_ds.train_scores, test_scores], axis=0, ignore_index=True))\n",
    "    ####################\n",
    "    # teamBoxScores #\n",
    "    ####################\n",
    "    if input_df[\"teamBoxScores\"].iloc[0] == input_df[\"teamBoxScores\"].iloc[0]:\n",
    "        test_teamBoxScores = pd.read_json(input_df[\"teamBoxScores\"].iloc[0])\n",
    "    else:\n",
    "        cols = mlb_train_ds.train_tbs.drop(columns=\"date\", axis=1).columns.tolist()\n",
    "        test_teamBoxScores = pd.DataFrame(columns=cols)\n",
    "        test_teamBoxScores[\"teamId\"] = mlb_train_ds.train_tbs.teamId.unique()\n",
    "\n",
    "    test_teamBoxScores[\"date\"] = input_df.iloc[0][\"date\"]\n",
    "    if input_df.iloc[0][\"date\"] > 20210430:\n",
    "        mlb_train_ds.train_tbs = reduce_mem_usage(pd.concat([mlb_train_ds.train_tbs, test_teamBoxScores], axis=0, ignore_index=True))\n",
    "    ####################\n",
    "    # games #\n",
    "    ####################\n",
    "    if input_df[\"games\"].iloc[0] == input_df[\"games\"].iloc[0]:\n",
    "        test_games = pd.read_json(input_df[\"games\"].iloc[0])\n",
    "    else:\n",
    "        cols = mlb_train_ds.train_games.drop(columns=\"date\", axis=1).columns.tolist()\n",
    "        test_games = pd.DataFrame(columns=cols)\n",
    "\n",
    "    test_games[\"date\"] = input_df.iloc[0][\"date\"]\n",
    "    if input_df.iloc[0][\"date\"] > 20210430:\n",
    "        mlb_train_ds.train_games = reduce_mem_usage(pd.concat([mlb_train_ds.train_games, test_games], axis=0, ignore_index=True))\n",
    "    ####################\n",
    "    # staindings #\n",
    "    ####################\n",
    "    if input_df[\"standings\"].iloc[0] == input_df[\"standings\"].iloc[0]:\n",
    "        test_standings = pd.read_json(input_df[\"standings\"].iloc[0])\n",
    "    else:\n",
    "        cols = mlb_train_ds.train_standings.drop(columns=\"date\", axis=1).columns.tolist()\n",
    "        test_standings = pd.DataFrame(columns=cols)\n",
    "    \n",
    "    test_standings[\"date\"] = input_df.iloc[0][\"date\"]\n",
    "    if input_df.iloc[0][\"date\"] > 20210430:\n",
    "        mlb_train_ds.train_standings = reduce_mem_usage(pd.concat([mlb_train_ds.train_standings, test_standings], axis=0, ignore_index=True))\n",
    "    ####################\n",
    "    # awards #\n",
    "    ####################\n",
    "    if input_df[\"awards\"].iloc[0] == input_df[\"awards\"].iloc[0]:\n",
    "        test_awards = pd.read_json(input_df[\"awards\"].iloc[0])\n",
    "    else:\n",
    "        cols = mlb_train_ds.train_awards.drop(columns=\"date\", axis=1).columns.tolist()\n",
    "        test_awards = pd.DataFrame(columns=cols)\n",
    "    \n",
    "    test_awards[\"date\"] = input_df.iloc[0][\"date\"]\n",
    "    if input_df.iloc[0][\"date\"] > 20210430:\n",
    "        mlb_train_ds.train_awards = reduce_mem_usage(pd.concat([mlb_train_ds.train_awards, test_awards], axis=0, ignore_index=True))"
   ],
   "outputs": [],
   "metadata": {}
  },
  {
   "cell_type": "code",
   "execution_count": 17,
   "source": [
    "# models = []\n",
    "# for target in CFG.TARGETS:\n",
    "#     tmp = [lgb.Booster(model_file=f\"{CFG.MODEL_PATH}/lgb_{target}_{i}.txt\") for i in range(len(CFG.SEEDS))]\n",
    "#     models.append(tmp)"
   ],
   "outputs": [],
   "metadata": {}
  },
  {
   "cell_type": "code",
   "execution_count": 18,
   "source": [
    "# env = mlb.make_env()\n",
    "# iter_test = env.iter_test()\n",
    "\n",
    "# for (test_df, sample_prediction_df) in iter_test:\n",
    "#     sample_prediction_df = sample_prediction_df.reset_index(drop=True)\n",
    "#     # create dataset\n",
    "#     test_df = test_df.reset_index()\n",
    "#     test_df = test_df.rename(columns={\"index\": \"date\"})\n",
    "#     sample_prediction_df[\"date\"] = test_df.iloc[0][\"date\"]\n",
    "#     sample_prediction_df[\"playerId\"] = sample_prediction_df[\"date_playerId\"].map(lambda x: int(x.split(\"_\")[1]))\n",
    "#     update_dataset(test_df, sample_prediction_df)\n",
    "#     # create features\n",
    "#     test_feat_df = create_test_feature(sample_prediction_df, update_blocks, non_update_blocks)\n",
    "#     X_test = test_feat_df.values\n",
    "#     # prediction\n",
    "#     for target, model in zip(CFG.TARGETS, models):\n",
    "#         pred = np.mean([model_.predict(X_test, num_iteration=model_.best_iteration) for model_ in model], axis=0)\n",
    "#         sample_prediction_df[target] = np.clip(pred, 0, 100)\n",
    "\n",
    "#     sample_prediction_df = sample_prediction_df.drop(columns=[\"playerId\", \"date\"], axis=1)\n",
    "\n",
    "#     env.predict(sample_prediction_df)"
   ],
   "outputs": [],
   "metadata": {}
  },
  {
   "cell_type": "code",
   "execution_count": 19,
   "source": [
    "# Local inference check\n",
    "# test_df = mlb_train_ds.example_test.query(\"date <= 20210426\").copy()\n",
    "# sample_prediction_df = mlb_train_ds.sample_submission.query(\"date <= 20210426\").copy()\n",
    "# sample_prediction_df[\"playerId\"] = sample_prediction_df[\"date_playerId\"].map(lambda x: int(x.split(\"_\")[1]))"
   ],
   "outputs": [],
   "metadata": {}
  },
  {
   "cell_type": "code",
   "execution_count": null,
   "source": [],
   "outputs": [],
   "metadata": {}
  }
 ],
 "metadata": {
  "orig_nbformat": 4,
  "language_info": {
   "name": "python",
   "version": "3.8.8",
   "mimetype": "text/x-python",
   "codemirror_mode": {
    "name": "ipython",
    "version": 3
   },
   "pygments_lexer": "ipython3",
   "nbconvert_exporter": "python",
   "file_extension": ".py"
  },
  "kernelspec": {
   "name": "python3",
   "display_name": "Python 3.8.8 64-bit ('.venv': poetry)"
  },
  "interpreter": {
   "hash": "49e542643694108dbc7cdf9f60531ad0f8dd36c5e7a125d96861557f43e4f65e"
  }
 },
 "nbformat": 4,
 "nbformat_minor": 2
}