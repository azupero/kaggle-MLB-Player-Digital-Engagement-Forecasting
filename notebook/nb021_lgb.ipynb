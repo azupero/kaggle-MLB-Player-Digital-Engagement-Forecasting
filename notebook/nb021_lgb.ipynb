{
 "cells": [
  {
   "cell_type": "markdown",
   "source": [
    "# Overview\n",
    "- LightGBM"
   ],
   "metadata": {}
  },
  {
   "cell_type": "code",
   "execution_count": null,
   "source": [
    "import numpy as np\n",
    "import pandas as pd\n",
    "from pathlib import Path\n",
    "from sklearn.metrics import mean_absolute_error\n",
    "from datetime import timedelta\n",
    "from tqdm.notebook import tqdm\n",
    "import lightgbm as lgb\n",
    "from typing import List, Union, Optional\n",
    "import time\n",
    "from contextlib import contextmanager\n",
    "import sys\n",
    "import logging\n",
    "import category_encoders as ce\n",
    "import plotly\n",
    "from plotly import express as px\n",
    "from scipy.stats import norm\n",
    "# from optuna.integration import lightgbm as lgb\n",
    "# import mlb\n",
    "import os\n",
    "import warnings\n",
    "from typing import Optional, Tuple\n",
    "\n",
    "pd.options.display.max_columns = 200"
   ],
   "outputs": [],
   "metadata": {}
  },
  {
   "cell_type": "markdown",
   "source": [
    "## Config"
   ],
   "metadata": {}
  },
  {
   "cell_type": "code",
   "execution_count": 18,
   "source": [
    "class CFG:\n",
    "    ######################\n",
    "    # global #\n",
    "    ######################\n",
    "    INPUT_DIR = \"../input/mlb-player-digital-engagement-forecasting\"\n",
    "    # INPUT_DIR = \"../input/mlb-unnested-dataset\" # for kaggle kernel\n",
    "    OBJECT_ID = [\"playerId\", \"date\"]\n",
    "    TARGETS = [\"target1\", \"target2\", \"target3\", \"target4\"]\n",
    "    ######################\n",
    "    # model #\n",
    "    ######################\n",
    "    # target1\n",
    "    LGB_TARGET1_PARAMS = {\n",
    "        \"objective\": \"mae\",\n",
    "        \"metric\": \"l1\",\n",
    "        \"boosting_type\": \"gbdt\",\n",
    "        \"learning_rate\": 0.1,\n",
    "        \"max_depth\": 6,\n",
    "        \"num_leaves\": 54,\n",
    "        \"lambda_l1\": 1.8294424356946235e-07,\n",
    "        \"lambda_l2\": 8.269494679852943e-05,\n",
    "        \"bagging_fraction\": 0.9311050425278897,\n",
    "        \"bagging_freq\": 2,\n",
    "        \"feature_fraction\": 0.9840000000000001,\n",
    "        \"min_data_in_leaf\": 20,\n",
    "        \"num_threads\": 8,\n",
    "        \"verbosity\": -1,\n",
    "        \"num_iterations\": 10000,\n",
    "        \"early_stopping_round\": 100,\n",
    "    }\n",
    "    # target2\n",
    "    LGB_TARGET2_PARAMS = {\n",
    "        \"objective\": \"mae\",\n",
    "        \"metric\": \"l1\",\n",
    "        \"boosting_type\": \"gbdt\",\n",
    "        \"learning_rate\": 0.1,\n",
    "        \"max_depth\": 6,\n",
    "        \"num_leaves\": 14,\n",
    "        \"lambda_l1\": 4.379035512071324e-06,\n",
    "        \"lambda_l2\": 5.940520594400555e-05,\n",
    "        \"bagging_fraction\": 1.0,\n",
    "        \"bagging_freq\": 0,\n",
    "        \"feature_fraction\": 0.5,\n",
    "        \"min_data_in_leaf\": 20,\n",
    "        \"num_threads\": 8,\n",
    "        \"verbosity\": -1,\n",
    "        \"num_iterations\": 10000,\n",
    "        \"early_stopping_round\": 100,\n",
    "    }\n",
    "    # target3\n",
    "    LGB_TARGET3_PARAMS = {\n",
    "        \"objective\": \"mae\",\n",
    "        \"metric\": \"l1\",\n",
    "        \"boosting_type\": \"gbdt\",\n",
    "        \"learning_rate\": 0.1,\n",
    "        \"max_depth\": 6,\n",
    "        \"num_leaves\": 64,\n",
    "        \"lambda_l1\": 0.011234793539671765,\n",
    "        \"lambda_l2\": 4.766835836661758e-06,\n",
    "        \"bagging_fraction\": 0.8841726515054378,\n",
    "        \"bagging_freq\": 3,\n",
    "        \"feature_fraction\": 1.0,\n",
    "        \"min_data_in_leaf\": 100,\n",
    "        \"num_threads\": 8,\n",
    "        \"verbosity\": -1,\n",
    "        \"num_iterations\": 10000,\n",
    "        \"early_stopping_round\": 100,\n",
    "    }\n",
    "    # target4\n",
    "    LGB_TARGET4_PARAMS = {\n",
    "        \"objective\": \"mae\",\n",
    "        \"metric\": \"l1\",\n",
    "        \"boosting_type\": \"gbdt\",\n",
    "        \"learning_rate\": 0.1,\n",
    "        \"max_depth\": 6,\n",
    "        \"num_leaves\": 51,\n",
    "        \"lambda_l1\": 5.506356543008336,\n",
    "        \"lambda_l2\": 9.683199146595637,\n",
    "        \"bagging_fraction\": 0.7376768451562011,\n",
    "        \"bagging_freq\": 2,\n",
    "        \"feature_fraction\": 0.5,\n",
    "        \"min_data_in_leaf\": 20,\n",
    "        \"num_threads\": 8,\n",
    "        \"verbosity\": -1,\n",
    "        \"num_iterations\": 10000,\n",
    "        \"early_stopping_round\": 100,\n",
    "    }\n",
    "    SEEDS = [2434]\n",
    "    MODEL_PATH = \"../output/nb021\"\n",
    "    # MODEL_PATH = \"../input/mlb-nb021-lgb-weights\" # for kaggle kernel"
   ],
   "outputs": [],
   "metadata": {}
  },
  {
   "cell_type": "markdown",
   "source": [
    "## Utils"
   ],
   "metadata": {}
  },
  {
   "cell_type": "code",
   "execution_count": null,
   "source": [
    "def get_logger(out_file=None):\n",
    "    logger = logging.getLogger()  # loggerの呼び出し\n",
    "    formatter = logging.Formatter(\"[%(asctime)s] [%(levelname)s] [%(message)s]\")  # ログ出力の際のフォーマットを定義\n",
    "    logger.handlers = []  # ハンドラーを追加するためのリスト\n",
    "    logger.setLevel(logging.INFO)  # ロギングのレベルを設定, 'INFO' : 想定された通りのことが起こったことの確認\n",
    "\n",
    "    handler = logging.StreamHandler(sys.stdout)  # StreamHandler(コンソールに出力するハンドラ)を追加\n",
    "    handler.setFormatter(formatter)\n",
    "    handler.setLevel(logging.INFO)\n",
    "    logger.addHandler(handler)\n",
    "\n",
    "    # ログをファイルとして出力する際のハンドラ(FileHandler)\n",
    "    if out_file is not None:\n",
    "        fh = logging.FileHandler(out_file)\n",
    "        fh.setFormatter(formatter)\n",
    "        fh.setLevel(logging.INFO)\n",
    "        logger.addHandler(fh)\n",
    "\n",
    "    logger.info(\"logger set up\")  # \"logger set up\"を表示\n",
    "    return logger\n",
    "\n",
    "\n",
    "@contextmanager\n",
    "def timer(name: str, logger: Optional[logging.Logger] = None):\n",
    "    t0 = time.time()\n",
    "    msg = f\"<{name}> start\"\n",
    "    if logger is None:\n",
    "        print(msg)\n",
    "    else:\n",
    "        logger.info(msg)\n",
    "    yield\n",
    "\n",
    "    msg = f\"<{name}> done in {time.time() - t0:.2f} s\"\n",
    "    if logger is None:\n",
    "        print(msg)\n",
    "    else:\n",
    "        logger.info(msg)\n",
    "\n",
    "\n",
    "def reduce_mem_usage(df, verbose=True):\n",
    "    numerics = ['int16', 'int32', 'int64', 'float16', 'float32', 'float64']\n",
    "    start_mem = df.memory_usage().sum() / 1024**2\n",
    "    for col in df.columns:\n",
    "        col_type = df[col].dtypes\n",
    "        if col_type in numerics:\n",
    "            c_min = df[col].min()\n",
    "            c_max = df[col].max()\n",
    "            if str(col_type)[:3] == 'int':\n",
    "                if c_min > np.iinfo(np.int8).min and c_max < np.iinfo(np.int8).max:\n",
    "                    df[col] = df[col].astype(np.int16)\n",
    "                elif c_min > np.iinfo(np.int16).min and c_max < np.iinfo(np.int16).max:\n",
    "                    df[col] = df[col].astype(np.int32)\n",
    "                elif c_min > np.iinfo(np.int32).min and c_max < np.iinfo(np.int32).max:\n",
    "                    df[col] = df[col].astype(np.int64)\n",
    "                elif c_min > np.iinfo(np.int64).min and c_max < np.iinfo(np.int64).max:\n",
    "                    df[col] = df[col].astype(np.int64)\n",
    "            else:\n",
    "                if c_min > np.finfo(np.float16).min and c_max < np.finfo(np.float16).max:\n",
    "                    df[col] = df[col].astype(np.float32)\n",
    "                elif c_min > np.finfo(np.float32).min and c_max < np.finfo(np.float32).max:\n",
    "                    df[col] = df[col].astype(np.float64)\n",
    "                else:\n",
    "                    df[col] = df[col].astype(np.float64)\n",
    "    end_mem = df.memory_usage().sum() / 1024**2\n",
    "    if verbose: print('Mem. usage decreased to {:5.2f} Mb ({:.1f}% reduction)'.format(end_mem, 100 * (start_mem - end_mem) / start_mem))\n",
    "    return df"
   ],
   "outputs": [],
   "metadata": {}
  },
  {
   "cell_type": "markdown",
   "source": [
    "## Loading dataset"
   ],
   "metadata": {}
  },
  {
   "cell_type": "code",
   "execution_count": 4,
   "source": [
    "class MLBDataset(object):\n",
    "    def __init__(self, input_path):\n",
    "        self.input_path = Path(input_path)\n",
    "        #################\n",
    "        # train #\n",
    "        #################\n",
    "        self.train_next = pd.read_pickle(self.input_path / \"train_updated_nextDayPlayerEngagement.pickle\")\n",
    "        self.train_rosters = pd.read_pickle(self.input_path / \"train_updated_rosters.pickle\")\n",
    "        self.train_ptf = pd.read_pickle(self.input_path / \"train_updated_playerTwitterFollowers.pickle\")\n",
    "        self.train_scores = pd.read_pickle(self.input_path / \"train_updated_playerBoxScores.pickle\")\n",
    "        self.train_games = pd.read_pickle(self.input_path / \"train_updated_games.pickle\")\n",
    "        self.train_standings = pd.read_pickle(self.input_path / \"train_updated_standings.pickle\")\n",
    "        self.train_tbs = pd.read_pickle(self.input_path / \"train_updated_teamBoxScores.pickle\")\n",
    "        self.train_ttf = pd.read_pickle(self.input_path / \"train_updated_teamTwitterFollowers.pickle\")\n",
    "        self.train_trans = pd.read_pickle(self.input_path / \"train_updated_transactions.pickle\")\n",
    "        self.train_awards = pd.read_pickle(self.input_path / \"train_updated_awards.pickle\")\n",
    "        self.train_events = pd.read_pickle(self.input_path / \"train_updated_events.pickle\")\n",
    "        #################\n",
    "        # Additional #\n",
    "        #################\n",
    "        self.players = pd.read_pickle(self.input_path / \"players.pickle\")\n",
    "        self.awards = pd.read_pickle(self.input_path / \"awards.pickle\")\n",
    "        self.seasons = pd.read_pickle(self.input_path / \"seasons.pickle\")\n",
    "        self.teams = pd.read_pickle(self.input_path / \"teams.pickle\")\n",
    "        #################\n",
    "        # test #\n",
    "        #################\n",
    "        self.example_test = pd.read_csv(self.input_path / \"example_test.csv\")\n",
    "        self.sample_submission = pd.read_csv(self.input_path / \"example_sample_submission.csv\")\n",
    "\n",
    "        # # only players in test set\n",
    "        # target_playerids = self.players[self.players[\"playerForTestSetAndFuturePreds\"] == True][\"playerId\"].unique()\n",
    "        # self.train_next = self.train_next[self.train_next[\"playerId\"].isin(target_playerids)].reset_index(drop=True)\n",
    "\n",
    "mlb_train_ds = MLBDataset(CFG.INPUT_DIR)"
   ],
   "outputs": [],
   "metadata": {}
  },
  {
   "cell_type": "markdown",
   "source": [
    "## Feature blocks"
   ],
   "metadata": {}
  },
  {
   "cell_type": "code",
   "execution_count": 5,
   "source": [
    "def merge_by_key(left: Union[pd.DataFrame, pd.Series], right: pd.DataFrame, on=CFG.OBJECT_ID) -> pd.DataFrame:\n",
    "    if not isinstance(left, pd.Series):\n",
    "        left = left[on]\n",
    "    return pd.merge(left, right, on=on, how=\"left\").drop(columns=on)\n",
    "\n",
    "\n",
    "class BaseBlock(object):\n",
    "    def fit(self, input_df: pd.DataFrame, y=None) -> pd.DataFrame:\n",
    "        return self.transform(input_df)\n",
    "\n",
    "    def transform(self, input_df: pd.DataFrame) -> pd.DataFrame:\n",
    "        return NotImplementedError()\n",
    "\n",
    "\n",
    "# class LagBlock(BaseBlock):\n",
    "#     def __init__(self, column: str, periods: List[int]):\n",
    "#         self.column = column\n",
    "#         self.periods = periods\n",
    "\n",
    "#     def fit(self, input_df: pd.DataFrame, y=None):\n",
    "#         agg_list = [input_df.groupby([\"playerId\"], as_index=False)[self.column].transform(lambda x: x.shift(periods=period)).add_prefix(f\"{period}_\") for period in self.periods]\n",
    "#         self.agg_df = pd.concat(agg_list, axis=1)\n",
    "\n",
    "#         return self.transform(input_df)\n",
    "\n",
    "#     def transform(self, input_df: pd.DataFrame):\n",
    "#         return self.agg_df.add_prefix(\"Lag_\")\n",
    "\n",
    "\n",
    "def quantile25(x: pd.Series):\n",
    "    return x.quantile(q=0.25)\n",
    "\n",
    "\n",
    "def quantile75(x: pd.Series):\n",
    "    return x.quantile(q=0.75)\n",
    "\n",
    "\n",
    "def prob(x: pd.Series):\n",
    "    x = x.reset_index(drop=True).values.tolist()\n",
    "    mean = np.mean(x)\n",
    "    std = np.std(x)\n",
    "    distribution = norm(mean, std)\n",
    "    min_weight = min(x)\n",
    "    max_weight = max(x)\n",
    "    values = list(np.linspace(min_weight, max_weight))\n",
    "    probabilities = [distribution.pdf(v) for v in values]\n",
    "    max_values = max(probabilities)\n",
    "    max_index = probabilities.index(max_values)\n",
    "\n",
    "    return x[max_index]\n",
    "\n",
    "\n",
    "class TargetAggregateBlock(BaseBlock):\n",
    "    def __init__(self, periods: List[int]):\n",
    "        self.periods = periods\n",
    "        \n",
    "    def fit(self, input_df: pd.DataFrame, y=None):\n",
    "        output_df = pd.DataFrame()\n",
    "        for i in self.periods:\n",
    "            target_df = mlb_train_ds.train_next[(mlb_train_ds.train_next[\"date\"] >= i) & (mlb_train_ds.train_next[\"date\"] < (i + 100))].copy()\n",
    "            target_df[\"is_target1_max\"] = (target_df[\"target1\"] == 100).astype(int)\n",
    "            target_df[\"is_target2_max\"] = (target_df[\"target2\"] == 100).astype(int)\n",
    "            target_df[\"is_target3_max\"] = (target_df[\"target3\"] == 100).astype(int)\n",
    "            target_df[\"is_target4_max\"] = (target_df[\"target4\"] == 100).astype(int)\n",
    "\n",
    "            cols = target_df.drop(columns=[\"date\", \"engagementMetricsDate\", \"playerId\"], axis=1).columns.tolist()\n",
    "            dfs = [target_df.groupby([\"playerId\"])[col].agg([\n",
    "                \"mean\", \"std\", \"max\", \"min\", \"median\", quantile25, quantile75, prob\n",
    "                ]).add_prefix(f\"{col}_{str(i)[:-2]}_\") for col in cols]\n",
    "            tmp_df = pd.concat(dfs, axis=1)\n",
    "            output_df = pd.concat([output_df, tmp_df], axis=1)\n",
    "\n",
    "            del target_df, dfs, tmp_df\n",
    "\n",
    "        self.agg_df = output_df.reset_index()\n",
    "\n",
    "        return self.transform(input_df)\n",
    "\n",
    "    def transform(self, input_df: pd.DataFrame):\n",
    "        return merge_by_key(input_df, self.agg_df, on=\"playerId\")\n",
    "\n",
    "\n",
    "class PlayersLabelEncodingBlock(BaseBlock):\n",
    "    def __init__(self, columns: List[str]):\n",
    "        self.columns = columns + [\"playerId\"]\n",
    "        self.players_df = mlb_train_ds.players.copy()\n",
    "        self.players_df[\"DOB_year\"] = pd.to_datetime(self.players_df[\"DOB\"]).dt.year\n",
    "        self.players_df[\"playerAge\"] = 2021 - self.players_df[\"DOB_year\"]\n",
    "        self.labeled_df = self.players_df[self.columns].copy()\n",
    "        self.labeled_df[\"playerid\"] = self.labeled_df[\"playerId\"]\n",
    "        self.columns = self.columns + [\"playerid\"]\n",
    "        self.encoder = None\n",
    "    \n",
    "    def fit(self, input_df: pd.DataFrame, y=None):\n",
    "        self.encoder = ce.OrdinalEncoder(handle_unknown=\"value\", handle_missing=\"values\")\n",
    "        self.encoder.fit(self.labeled_df[self.columns])\n",
    "        self.labeled_df[self.columns] = self.encoder.transform(self.labeled_df[self.columns])\n",
    "\n",
    "        return self.transform(input_df)\n",
    "\n",
    "    def transform(self, input_df: pd.DataFrame):\n",
    "        return merge_by_key(input_df, self.labeled_df, on=\"playerId\").add_prefix(\"Players_LE_\")\n",
    "\n",
    "\n",
    "class RostersLabelEncodingBlock(BaseBlock):\n",
    "    def __init__(self, columns: List[str]):\n",
    "        self.columns = columns\n",
    "        self.encoder = None\n",
    "\n",
    "    def fit(self, input_df: pd.DataFrame, y=None):\n",
    "        rosters_df = mlb_train_ds.train_rosters[self.columns]\n",
    "        self.encoder = ce.OrdinalEncoder(handle_unknown=\"value\", handle_missing=\"value\")\n",
    "        self.encoder.fit(rosters_df[self.columns])\n",
    "\n",
    "        return self.transform(input_df)\n",
    "\n",
    "    def transform(self, input_df: pd.DataFrame):\n",
    "        self.labeled_df = mlb_train_ds.train_rosters[CFG.OBJECT_ID + self.columns].copy()\n",
    "        self.labeled_df[self.columns] = self.encoder.transform(self.labeled_df[self.columns])\n",
    "\n",
    "        return merge_by_key(input_df, self.labeled_df).add_prefix(\"Rosters_LE_\")\n",
    "\n",
    "    \n",
    "# class PlayerBoxScoresCountBlock(BaseBlock):\n",
    "#     def __init__(self, columns: List[str]):\n",
    "#         self.columns = columns\n",
    "\n",
    "#     def transform(self, input_df: pd.DataFrame):\n",
    "#         self.agg_df = mlb_train_ds.train_scores.groupby(CFG.OBJECT_ID)[self.columns].sum().reset_index()\n",
    "        \n",
    "#         return merge_by_key(input_df, self.agg_df).add_prefix(\"PlayerBoxScoresCount_\")\n",
    "\n",
    "\n",
    "# class TeamBoxScoresCountBlock(BaseBlock):\n",
    "#     def __init__(self, columns: List[str]):\n",
    "#         self.columns = columns\n",
    "\n",
    "#     def transform(self, input_df: pd.DataFrame):\n",
    "#         input_df = input_df.merge(mlb_train_ds.train_rosters[[\"date\", \"playerId\", \"teamId\"]], on=[\"playerId\", \"date\"], how=\"left\")\n",
    "#         self.agg_df = mlb_train_ds.train_tbs.groupby([\"teamId\", \"date\"])[self.columns].sum().reset_index()\n",
    "\n",
    "#         return merge_by_key(input_df, self.agg_df, on=[\"teamId\", \"date\"]).add_prefix(\"TeamBoxScoresCount_\")\n",
    "\n",
    "\n",
    "class GamesCountBlock(BaseBlock):\n",
    "    def __init__(self, columns: List[str]):\n",
    "        self.columns = columns\n",
    "\n",
    "    def transform(self, input_df: pd.DataFrame):\n",
    "        games_df = mlb_train_ds.train_scores[[\"date\", \"playerId\", \"gamePk\"]].merge(mlb_train_ds.train_games, on=[\"date\", \"gamePk\"], how=\"left\")\n",
    "        self.agg_df = games_df.groupby([\"date\", \"playerId\"])[self.columns].sum().reset_index()\n",
    "\n",
    "        return merge_by_key(input_df, self.agg_df).add_prefix(\"GamesCount_\")\n",
    "\n",
    "\n",
    "class StandingsMetaBlock(BaseBlock):\n",
    "    def __init__(self, columns: List[str]):\n",
    "        self.columns = columns\n",
    "\n",
    "    def transform(self, input_df: pd.DataFrame):\n",
    "        self.standings_df = mlb_train_ds.train_rosters[[\"date\", \"playerId\", \"teamId\"]].merge(mlb_train_ds.train_standings, on=[\"date\", \"teamId\"], how=\"left\")\n",
    "\n",
    "        return merge_by_key(input_df, self.standings_df[self.columns]).add_prefix(\"StandingsMeta_\")\n",
    "\n",
    "\n",
    "class PlayerTwitterFollowerAggregateBlock(BaseBlock):\n",
    "    def fit(self, input_df: pd.DataFrame, y=None):\n",
    "        playerTwitterFollower_df = mlb_train_ds.train_ptf[mlb_train_ds.train_ptf[\"date\"] < 20210501].copy()\n",
    "        self.agg_df = playerTwitterFollower_df.groupby([\"playerId\"])[\"numberOfFollowers\"].agg([\n",
    "            \"mean\", \"std\", \"max\", \"min\", \"median\", quantile25, quantile75])\n",
    "\n",
    "        del playerTwitterFollower_df\n",
    "\n",
    "        return self.transform(input_df)\n",
    "\n",
    "    def transform(self, input_df: pd.DataFrame):\n",
    "        return merge_by_key(input_df, self.agg_df, on=\"playerId\").add_prefix(\"PlayerTwitterFollowerAggregate_\")\n",
    "\n",
    "\n",
    "class PlayerStatsBlock(BaseBlock):\n",
    "    def transform(self, input_df: pd.DataFrame):\n",
    "        playerBoxScores = mlb_train_ds.train_scores.copy()\n",
    "        playerBoxScores[\"year\"] = pd.to_datetime(playerBoxScores[\"gameDate\"]).dt.year\n",
    "\n",
    "        self.agg_df = playerBoxScores.groupby([\"year\", \"playerId\", \"date\"], as_index=False).agg(\n",
    "            gamePk = (\"gamePk\", \"nunique\"),\n",
    "            home = (\"home\", np.sum),\n",
    "            # teamId = (\"teamId\", np.sum),\n",
    "            positionCode = (\"positionCode\", np.sum),\n",
    "            battingOrder = (\"battingOrder\", np.sum),\n",
    "            # 打撃編\n",
    "            gamesPlayedBatting = (\"gamesPlayedBatting\", np.sum),\n",
    "            plateAppearances = (\"plateAppearances\", np.sum),\n",
    "            atBats = (\"atBats\", np.sum),\n",
    "            hits = (\"hits\", np.sum),\n",
    "            doubles = (\"doubles\", np.sum),\n",
    "            triples = (\"triples\", np.sum),\n",
    "            homeRuns = (\"homeRuns\", np.sum),\n",
    "            rbi = (\"rbi\", np.sum),\n",
    "            runsScored = (\"runsScored\", np.sum),\n",
    "            totalBases = (\"totalBases\", np.sum),\n",
    "            baseOnBalls = (\"baseOnBalls\", np.sum),\n",
    "            hitByPitch = (\"hitByPitch\", np.sum),\n",
    "            intentionalWalks = (\"intentionalWalks\", np.sum),\n",
    "            groundIntoDoublePlay = (\"groundIntoDoublePlay\", np.sum),\n",
    "            groundIntoTriplePlay = (\"groundIntoTriplePlay\", np.sum),\n",
    "            strikeOuts = (\"strikeOuts\", np.sum),\n",
    "            sacBunts = (\"sacBunts\", np.sum),\n",
    "            sacFlies = (\"sacFlies\", np.sum),\n",
    "            caughtStealing = (\"caughtStealing\", np.sum),\n",
    "            stolenBases = (\"stolenBases\", np.sum),\n",
    "            leftOnBase = (\"leftOnBase\", np.sum),\n",
    "            catchersInterference = (\"catchersInterference\", np.sum),\n",
    "            pickoffs = (\"pickoffs\", np.sum),\n",
    "            flyOuts = (\"flyOuts\", np.sum),\n",
    "            groundOuts = (\"groundOuts\", np.sum),\n",
    "            # 投手編\n",
    "            gamesPlayedPitching = (\"gamesPlayedPitching\", np.sum),\n",
    "            gamesStartedPicthing = (\"gamesStartedPitching\", np.sum),\n",
    "            winsPitching = (\"winsPitching\", np.sum),\n",
    "            lossesPitching = (\"lossesPitching\", np.sum),\n",
    "            completeGamesPitching = (\"completeGamesPitching\", np.sum),\n",
    "            shutoutsPitching = (\"shutoutsPitching\", np.sum),\n",
    "            saves = (\"saves\", np.sum),\n",
    "            saveOpportunities = (\"saveOpportunities\", np.sum),\n",
    "            blownSaves = (\"blownSaves\", np.sum),\n",
    "            holds = (\"holds\", np.sum),\n",
    "            inningsPitched = (\"inningsPitched\", np.sum),\n",
    "            runsPitching = (\"runsPitching\", np.sum),\n",
    "            earnedRuns = (\"earnedRuns\", np.sum),\n",
    "            pitchesThrown = (\"pitchesThrown\", np.sum),\n",
    "            hitsPitching = (\"hitsPitching\", np.sum),\n",
    "            homeRunsPitching = (\"homeRunsPitching\", np.sum),\n",
    "            strikeOutsPitching = (\"strikeOutsPitching\", np.sum),\n",
    "            baseOnBallsPitching = (\"baseOnBallsPitching\", np.sum),\n",
    "            hitByPitchPitching = (\"hitByPitchPitching\", np.sum),\n",
    "            intentionalWalksPitching = (\"intentionalWalksPitching\", np.sum),\n",
    "            balks = (\"balks\", np.sum),\n",
    "            wildPitches = (\"wildPitches\", np.sum),\n",
    "            atBatsPitching = (\"atBatsPitching\", np.sum),\n",
    "            battersFaced = (\"battersFaced\", np.sum),\n",
    "            sacBuntsPitching = (\"sacBuntsPitching\", np.sum),\n",
    "            sacFliesPitching = (\"sacFliesPitching\", np.sum),\n",
    "            inheritedRunners = (\"inheritedRunners\", np.sum),\n",
    "            inheritedRunnersScored = (\"inheritedRunnersScored\", np.sum),\n",
    "            rbiPitching = (\"rbiPitching\", np.sum),\n",
    "            flyOutsPitching = (\"flyOutsPitching\", np.sum),\n",
    "            airOutsPitching = (\"airOutsPitching\", np.sum),\n",
    "            doublesPitching = (\"doublesPitching\", np.sum),\n",
    "            triplesPitching = (\"triplesPitching\", np.sum),\n",
    "            caughtStealingPitching = (\"caughtStealingPitching\", np.sum),\n",
    "            stolenBasesPitching = (\"stolenBasesPitching\", np.sum),\n",
    "            outsPitching = (\"outsPitching\", np.sum),\n",
    "            balls = (\"balls\", np.sum),\n",
    "            strikes = (\"strikes\", np.sum),\n",
    "            hitBatsmen = (\"hitBatsmen\", np.sum),\n",
    "            pickoffsPitching = (\"pickoffsPitching\", np.sum),\n",
    "            catchersInterferencePitching = (\"catchersInterferencePitching\", np.sum),\n",
    "            assists = (\"assists\", np.sum),\n",
    "            putOuts = (\"putOuts\", np.sum),\n",
    "            errors = (\"errors\", np.sum),\n",
    "            chances = (\"chances\", np.sum),\n",
    "            gamesFinishedPitching = (\"gamesFinishedPitching\", np.sum),\n",
    "            groundOutsPitching = (\"groundOutsPitching\", np.sum),\n",
    "            )\n",
    "\n",
    "        self.agg_df[\"qs\"] = ((self.agg_df[\"inningsPitched\"] >= 6) & (self.agg_df[\"runsPitching\"] <= 3)) * self.agg_df[\"gamesStartedPicthing\"]\n",
    "        self.agg_df[\"hqs\"] = ((self.agg_df[\"inningsPitched\"] >= 7) & (self.agg_df[\"runsPitching\"] <= 2)) * self.agg_df[\"gamesStartedPicthing\"]\n",
    "        \n",
    "        # シーズン成績\n",
    "        for col in self.agg_df.drop(columns=[\"year\", \"date\", \"playerId\"], axis=1).columns.tolist():\n",
    "            col_ = col + \"_cumsum\"\n",
    "            self.agg_df[col_] = self.agg_df.groupby([\"year\", \"playerId\"], as_index=False)[col].cumsum()\n",
    "\n",
    "        # 打撃編\n",
    "        self.agg_df[\"battingAverage\"] = self.agg_df[\"hits_cumsum\"] / self.agg_df[\"atBats_cumsum\"] # 打率\n",
    "        self.agg_df[\"sluggingPercentage\"] = self.agg_df[\"totalBases_cumsum\"] / self.agg_df[\"atBats_cumsum\"] # 長打率\n",
    "        self.agg_df[\"onBasePercentage\"] = (self.agg_df[\"hits_cumsum\"] + self.agg_df[\"baseOnBalls_cumsum\"] + self.agg_df[\"hitByPitch_cumsum\"])/(self.agg_df[\"atBats_cumsum\"] + self.agg_df[\"baseOnBalls_cumsum\"] + self.agg_df[\"hitByPitch_cumsum\"] + self.agg_df[\"sacFlies_cumsum\"]) # 出塁率\n",
    "        self.agg_df[\"ops\"] = self.agg_df[\"sluggingPercentage\"] + self.agg_df[\"onBasePercentage\"] # OPS\n",
    "        self.agg_df[\"isop\"] = self.agg_df[\"sluggingPercentage\"] - self.agg_df[\"battingAverage\"] # IsoP\n",
    "        self.agg_df[\"isod\"] = self.agg_df[\"onBasePercentage\"] - self.agg_df[\"battingAverage\"] # IsoD\n",
    "        self.agg_df[\"rc\"] = (self.agg_df[\"hits_cumsum\"] + self.agg_df[\"baseOnBalls_cumsum\"]) * self.agg_df[\"totalBases_cumsum\"] / (self.agg_df[\"atBats_cumsum\"] + self.agg_df[\"baseOnBalls_cumsum\"]) # RC\n",
    "        self.agg_df[\"rc27\"] = self.agg_df[\"rc\"] / (self.agg_df[\"atBats_cumsum\"] - self.agg_df[\"hits_cumsum\"] + self.agg_df[\"caughtStealing_cumsum\"] + self.agg_df[\"sacBunts_cumsum\"] + self.agg_df[\"sacFlies_cumsum\"] + self.agg_df[\"groundIntoDoublePlay_cumsum\"]) * 27 # RC27\n",
    "        self.agg_df[\"rc27\"] = self.agg_df[\"rc27\"].replace({np.inf: 0})\n",
    "        self.agg_df[\"babip\"] = (self.agg_df[\"hits_cumsum\"] - self.agg_df[\"homeRuns_cumsum\"]) / (self.agg_df[\"atBats_cumsum\"] - self.agg_df[\"strikeOuts_cumsum\"] - self.agg_df[\"homeRuns_cumsum\"] + self.agg_df[\"sacFlies_cumsum\"]) # BABIP\n",
    "        self.agg_df[\"bb_k\"] = self.agg_df[\"baseOnBalls_cumsum\"] / self.agg_df[\"strikeOuts_cumsum\"] # BB/K\n",
    "        self.agg_df[\"k%\"] = self.agg_df[\"strikeOuts_cumsum\"] / self.agg_df[\"plateAppearances_cumsum\"] # K%\n",
    "        # 投手編\n",
    "        self.agg_df[\"era\"] = self.agg_df[\"earnedRuns_cumsum\"] * 9 / self.agg_df[\"inningsPitched_cumsum\"] # 防御率\n",
    "        self.agg_df[\"wp\"] = self.agg_df[\"winsPitching_cumsum\"] / (self.agg_df[\"winsPitching_cumsum\"] + self.agg_df[\"lossesPitching_cumsum\"]) # 勝率\n",
    "        self.agg_df[\"k9\"] = self.agg_df[\"strikeOutsPitching_cumsum\"] * 9 / self.agg_df[\"inningsPitched_cumsum\"] # K/9(奪三振率)\n",
    "        self.agg_df[\"hits_allowed_average\"] = self.agg_df[\"hitsPitching_cumsum\"] / self.agg_df[\"atBatsPitching_cumsum\"] # 被打率\n",
    "        self.agg_df[\"hp\"] = self.agg_df[\"holds_cumsum\"] + self.agg_df[\"winsPitching_cumsum\"] # HP\n",
    "        self.agg_df[\"qs%\"] = self.agg_df[\"qs_cumsum\"] / self.agg_df[\"gamesStartedPicthing_cumsum\"] # QS率\n",
    "        self.agg_df[\"hqs%\"] = self.agg_df[\"hqs_cumsum\"] / self.agg_df[\"gamesStartedPicthing_cumsum\"] # HQS率\n",
    "        self.agg_df[\"k%_pitching\"] = self.agg_df[\"strikeOutsPitching_cumsum\"] / self.agg_df[\"battersFaced_cumsum\"] # K%\n",
    "        self.agg_df[\"bb9\"] = self.agg_df[\"baseOnBallsPitching_cumsum\"] * 9 / self.agg_df[\"inningsPitched_cumsum\"] # BB/9\n",
    "        self.agg_df[\"bb%\"] = self.agg_df[\"baseOnBallsPitching_cumsum\"] / self.agg_df[\"battersFaced_cumsum\"] # BB%\n",
    "        self.agg_df[\"k_bb\"] = self.agg_df[\"strikeOutsPitching_cumsum\"] / (self.agg_df[\"baseOnBallsPitching_cumsum\"] + self.agg_df[\"hitByPitchPitching_cumsum\"]) # K/BB\n",
    "        self.agg_df[\"hr9\"] = self.agg_df[\"homeRunsPitching_cumsum\"] * 9 / self.agg_df[\"inningsPitched_cumsum\"] # HR/9\n",
    "        self.agg_df[\"babip_pitching\"] = (self.agg_df[\"hitsPitching_cumsum\"] - self.agg_df[\"homeRunsPitching_cumsum\"]) / (self.agg_df[\"atBatsPitching_cumsum\"] - self.agg_df[\"strikeOutsPitching_cumsum\"] - self.agg_df[\"homeRunsPitching_cumsum\"] + self.agg_df[\"sacFliesPitching_cumsum\"]) # BABIP\n",
    "        self.agg_df[\"whip\"] = (self.agg_df[\"baseOnBallsPitching_cumsum\"] + self.agg_df[\"hitsPitching_cumsum\"]) / self.agg_df[\"inningsPitched_cumsum\"] # WHIP\n",
    "        # ランキング\n",
    "        # 率のものは規定打席以上かどうか、投手かどうかを加えたい\n",
    "        self.agg_df[\"homeRuns_rank\"] = self.agg_df.groupby([\"date\"])[\"homeRuns_cumsum\"].rank(ascending=False, method=\"min\").astype(int)\n",
    "        self.agg_df[\"hits_rank\"] = self.agg_df.groupby([\"date\"])[\"hits_cumsum\"].rank(ascending=False, method=\"min\").astype(int)\n",
    "        self.agg_df[\"rbi_rank\"] = self.agg_df.groupby([\"date\"])[\"rbi_cumsum\"].rank(ascending=False, method=\"min\").astype(int)\n",
    "        self.agg_df[\"doubles_rank\"] = self.agg_df.groupby([\"date\"])[\"doubles_cumsum\"].rank(ascending=False, method=\"min\").astype(int)\n",
    "        self.agg_df[\"triples_rank\"] = self.agg_df.groupby([\"date\"])[\"triples_cumsum\"].rank(ascending=False, method=\"min\").astype(int)\n",
    "        self.agg_df[\"runsScored_rank\"] = self.agg_df.groupby([\"date\"])[\"runsScored_cumsum\"].rank(ascending=False, method=\"min\").astype(int)\n",
    "        self.agg_df[\"totalBases_rank\"] = self.agg_df.groupby([\"date\"])[\"totalBases_cumsum\"].rank(ascending=False, method=\"min\").astype(int)\n",
    "        self.agg_df[\"baseOnBalls_rank\"] = self.agg_df.groupby([\"date\"])[\"baseOnBalls_cumsum\"].rank(ascending=False, method=\"min\").astype(int)\n",
    "        self.agg_df[\"hitByPitch_rank\"] = self.agg_df.groupby([\"date\"])[\"hitByPitch_cumsum\"].rank(ascending=False, method=\"min\").astype(int)\n",
    "        self.agg_df[\"strikeOuts_rank\"] = self.agg_df.groupby([\"date\"])[\"strikeOuts_cumsum\"].rank(ascending=False, method=\"min\").astype(int)\n",
    "        self.agg_df[\"stolenBases_rank\"] = self.agg_df.groupby([\"date\"])[\"stolenBases_cumsum\"].rank(ascending=False, method=\"min\").astype(int)\n",
    "        self.agg_df[\"plateAppearances_rank\"] = self.agg_df.groupby([\"date\"])[\"plateAppearances_cumsum\"].rank(ascending=False, method=\"min\").astype(int)\n",
    "        self.agg_df[\"atBats_rank\"] = self.agg_df.groupby([\"date\"])[\"atBats_cumsum\"].rank(ascending=False, method=\"min\").astype(int)\n",
    "\n",
    "        self.agg_df[\"battingAverage_rank\"] = self.agg_df[self.agg_df[\"gamesPlayedBatting\"] == 1.0].groupby([\"date\"])[\"battingAverage\"].rank(ascending=False, method=\"min\")\n",
    "        self.agg_df[\"ops_rank\"] = self.agg_df.groupby([\"date\"])[\"ops\"].rank(ascending=False, method=\"min\")\n",
    "        self.agg_df[\"isop_rank\"] = self.agg_df.groupby([\"date\"])[\"isop\"].rank(ascending=False, method=\"min\")\n",
    "        self.agg_df[\"isod_rank\"] = self.agg_df.groupby([\"date\"])[\"isod\"].rank(ascending=False, method=\"min\")\n",
    "        self.agg_df[\"rc_rank\"] = self.agg_df.groupby([\"date\"])[\"rc\"].rank(ascending=False, method=\"min\")\n",
    "        self.agg_df[\"rc27_rank\"] = self.agg_df.groupby([\"date\"])[\"rc27\"].rank(ascending=False, method=\"min\")\n",
    "        self.agg_df[\"babip_rank\"] = self.agg_df.groupby([\"date\"])[\"babip\"].rank(ascending=False, method=\"min\")\n",
    "        self.agg_df[\"bb_k_rank\"] = self.agg_df.groupby([\"date\"])[\"bb_k\"].rank(ascending=False, method=\"min\")\n",
    "        self.agg_df[\"k%_rank\"] = self.agg_df.groupby([\"date\"])[\"k%\"].rank(ascending=False, method=\"min\")\n",
    "\n",
    "        self.agg_df[\"winsPitching_rank\"] = self.agg_df.groupby([\"date\"])[\"winsPitching_cumsum\"].rank(ascending=False, method=\"min\").astype(int)\n",
    "        self.agg_df[\"lossesPitching_rank\"] = self.agg_df.groupby([\"date\"])[\"lossesPitching_cumsum\"].rank(ascending=False, method=\"min\").astype(int)\n",
    "        self.agg_df[\"saves_rank\"] = self.agg_df.groupby([\"date\"])[\"saves_cumsum\"].rank(ascending=False, method=\"min\").astype(int)\n",
    "        self.agg_df[\"holds_rank\"] = self.agg_df.groupby([\"date\"])[\"holds_cumsum\"].rank(ascending=False, method=\"min\").astype(int)\n",
    "        self.agg_df[\"completeGamesPitching_rank\"] = self.agg_df.groupby([\"date\"])[\"completeGamesPitching_cumsum\"].rank(ascending=False, method=\"min\").astype(int)\n",
    "        self.agg_df[\"shutoutsPitching_rank\"] = self.agg_df.groupby([\"date\"])[\"shutoutsPitching_cumsum\"].rank(ascending=False, method=\"min\").astype(int)\n",
    "        self.agg_df[\"inningsPitched_rank\"] = self.agg_df.groupby([\"date\"])[\"inningsPitched_cumsum\"].rank(ascending=False, method=\"min\").astype(int)\n",
    "        self.agg_df[\"runsPitching_rank\"] = self.agg_df.groupby([\"date\"])[\"runsPitching_cumsum\"].rank(ascending=False, method=\"min\").astype(int)\n",
    "        self.agg_df[\"earnedRuns_rank\"] = self.agg_df.groupby([\"date\"])[\"earnedRuns_cumsum\"].rank(ascending=False, method=\"min\").astype(int)\n",
    "\n",
    "        self.agg_df[\"era_rank\"] = self.agg_df.groupby([\"date\"])[\"era\"].rank(ascending=False, method=\"min\")\n",
    "        self.agg_df[\"whip_rank\"] = self.agg_df.groupby([\"date\"])[\"whip\"].rank(ascending=False, method=\"min\")\n",
    "        # 規定打席\n",
    "        # teamBoxScores = mlb_train_ds.train_tbs.copy()\n",
    "        # teamBoxScores[\"year\"] = pd.to_datetime(teamBoxScores[\"gameDate\"]).dt.year\n",
    "        # teamBoxScores_agg_df = teamBoxScores.groupby([\"year\", \"teamId\", \"date\"], as_index=False)[\"gamePk\"].nunique()\n",
    "        # teamBoxScores_agg_df[\"gamePk_cumsum\"] = teamBoxScores_agg_df.groupby([\"teamId\", \"year\"])[\"gamePk\"].cumsum()\n",
    "        # self.agg_df = self.agg_df.merge(teamBoxScores_agg_df, on=[\"date\"])\n",
    "        \n",
    "        # self.agg_df = reduce_mem_usage(self.agg_df)\n",
    "\n",
    "        del playerBoxScores\n",
    "\n",
    "        return merge_by_key(input_df, self.agg_df.drop(columns=[\"year\"], axis=1)).add_prefix(\"PlayerStats_\")\n",
    "\n",
    "\n",
    "class AwardsCountBlock(BaseBlock):\n",
    "    def transform(self, input_df: pd.DataFrame):\n",
    "        awards_df = mlb_train_ds.train_awards.copy()\n",
    "        self.agg_df = pd.crosstab([awards_df[\"date\"], awards_df[\"playerId\"]], awards_df[\"awardId\"]).reset_index()\n",
    "\n",
    "        output_df = merge_by_key(input_df, self.agg_df).fillna(0).astype(int)\n",
    "        output_df[\"total_awards\"] = output_df.sum(axis=1)\n",
    "        return output_df.add_prefix(\"AwardsCount_\")\n",
    "\n",
    "\n",
    "def convert_cos(x, range):\n",
    "    return np.cos(2 * np.pi * (x / range))\n",
    "\n",
    "\n",
    "def convert_sin(x, range):\n",
    "    return np.sin(2 * np.pi * (x / range))\n",
    "\n",
    "\n",
    "class Datetime2trigonometricEncodingBlock(BaseBlock):\n",
    "    def transform(self, input_df: pd.DataFrame):\n",
    "        target_df = input_df.copy()\n",
    "        target_df[\"day\"] = pd.to_datetime(target_df[\"date\"].astype(str), format=\"%Y%m%d\").dt.day\n",
    "        target_df[\"dow\"] = pd.to_datetime(target_df[\"date\"].astype(str), format=\"%Y%m%d\").dt.dayofweek\n",
    "\n",
    "        target_df[\"day2cos\"] = target_df[\"day\"].apply(lambda x: convert_cos(x, 31))\n",
    "        target_df[\"day2sin\"] = target_df[\"day\"].apply(lambda x: convert_sin(x, 31))\n",
    "        target_df[\"dow2cos\"] = target_df[\"dow\"].apply(lambda x: convert_cos(x, 7))\n",
    "        target_df[\"dow2sin\"] = target_df[\"dow\"].apply(lambda x: convert_sin(x, 7))\n",
    "\n",
    "        return target_df[[\"day2cos\", \"day2sin\", \"dow2cos\", \"dow2sin\"]].add_prefix(\"DatetimeEncoding_\")"
   ],
   "outputs": [],
   "metadata": {}
  },
  {
   "cell_type": "code",
   "execution_count": 6,
   "source": [
    "def create_train_feature(input_df: pd.DataFrame, y: np.ndarray, update_blocks: list, non_update_blocks: list) -> pd.DataFrame:\n",
    "    feat_df = pd.DataFrame()\n",
    "    blocks = update_blocks + non_update_blocks\n",
    "\n",
    "    for block in blocks:\n",
    "        with timer(name=f\"{str(block) + '_fit'}\", logger=logger):\n",
    "            try:\n",
    "                out_feat_block = block.fit(input_df, y=y)\n",
    "            except Exception as e:\n",
    "                print(f\"Error on {block} fit.\")\n",
    "                raise e from e\n",
    "\n",
    "            assert len(out_feat_block) == len(input_df), block\n",
    "\n",
    "        feat_df = pd.concat([feat_df, out_feat_block], axis=1)\n",
    "\n",
    "    return feat_df\n",
    "\n",
    "\n",
    "def create_test_feature(input_df: pd.DataFrame, update_blocks: list, non_update_blocks: list) -> pd.DataFrame:\n",
    "    is_update = True if len(update_blocks) != 0 else False\n",
    "    update_feat_df = pd.DataFrame()\n",
    "    non_update_feat_df = pd.DataFrame()\n",
    "    \n",
    "    if is_update:\n",
    "        for block in update_blocks:\n",
    "            with timer(name=f\"{str(block) + '_update'}\", logger=logger):\n",
    "                try:\n",
    "                    out_feat_block = block.fit(input_df)\n",
    "                except Exception as e:\n",
    "                    print(f\"Error on {block} transform.\")\n",
    "                    raise e from e\n",
    "\n",
    "            update_feat_df = pd.concat([update_feat_df, out_feat_block], axis=1)\n",
    "        \n",
    "\n",
    "    for block in non_update_blocks:\n",
    "        with timer(name=f\"{str(block) + '_transform'}\", logger=logger):\n",
    "            try:\n",
    "                out_feat_block = block.transform(input_df)\n",
    "            except Exception as e:\n",
    "                print(f\"Error on {block} transform.\")\n",
    "                raise e from e\n",
    "\n",
    "            assert len(out_feat_block) == len(input_df), block\n",
    "\n",
    "        non_update_feat_df = pd.concat([non_update_feat_df, out_feat_block], axis=1)\n",
    "\n",
    "    feat_df = pd.concat([update_feat_df, non_update_feat_df], axis=1) if is_update else non_update_feat_df\n",
    "\n",
    "    return feat_df"
   ],
   "outputs": [],
   "metadata": {}
  },
  {
   "cell_type": "markdown",
   "source": [
    "## CV"
   ],
   "metadata": {}
  },
  {
   "cell_type": "code",
   "execution_count": 7,
   "source": [
    "def get_timeseries_holdout(train_df: pd.DataFrame, valid_start_date: int) -> List[tuple]:\n",
    "    fold = []\n",
    "    train_idx = np.array(train_df[train_df[\"date\"] < valid_start_date].index)\n",
    "    valid_idx = np.array(train_df[(train_df[\"date\"] >= valid_start_date) & (train_df[\"date\"] < (valid_start_date + 100))].index)\n",
    "    valid_preds_idx = np.array(train_df[(train_df[\"date\"] >= valid_start_date) & (train_df[\"date\"] < (valid_start_date + 100)) & (train_df[\"playerForTestSetAndFuturePreds\"] == True)].index)\n",
    "    fold.append((train_idx, valid_idx, valid_preds_idx))\n",
    "\n",
    "    return fold"
   ],
   "outputs": [],
   "metadata": {}
  },
  {
   "cell_type": "markdown",
   "source": [
    "## Model"
   ],
   "metadata": {}
  },
  {
   "cell_type": "code",
   "execution_count": 8,
   "source": [
    "class LightGBMTrainer:\n",
    "    def __init__(self, params: dict, seeds: List[int]):\n",
    "        self.params = params\n",
    "        self.seeds = seeds\n",
    "        self.models = []\n",
    "\n",
    "    def fit(self, X_train: np.ndarray, y_train: np.ndarray, cv: List[tuple]):\n",
    "        oof_all = []\n",
    "        for i, seed in enumerate(self.seeds):\n",
    "            self.params[\"seed\"] = seed\n",
    "\n",
    "            for train_idx, valid_idx, valid_preds_idx in cv:\n",
    "                X_train_fold = X_train[train_idx]\n",
    "                X_valid_fold = X_train[valid_preds_idx]\n",
    "\n",
    "                y_train_fold = y_train[train_idx]\n",
    "                y_valid_fold = y_train[valid_preds_idx]\n",
    "\n",
    "                train_set = lgb.Dataset(X_train_fold, y_train_fold)\n",
    "                valid_set = lgb.Dataset(X_valid_fold, y_valid_fold, reference=train_set)\n",
    "\n",
    "                model = lgb.train(\n",
    "                    params=self.params,\n",
    "                    train_set=train_set,\n",
    "                    valid_sets=[train_set, valid_set],\n",
    "                    valid_names=[\"train\", \"valid\"],\n",
    "                    verbose_eval=100,\n",
    "                )\n",
    "\n",
    "                y_oof = model.predict(X_valid_fold, num_iteration=model.best_iteration)\n",
    "                oof_all.append(y_oof)\n",
    "                self.models.append(model)\n",
    "\n",
    "        oof_all = np.mean(oof_all, axis=0)\n",
    "        oof_all = np.clip(oof_all, 0, 100)\n",
    "        oof_score = mean_absolute_error(oof_all, y_valid_fold)\n",
    "\n",
    "        return oof_score, self.models\n",
    "\n",
    "    def predict(self, X_test: np.ndarray):\n",
    "        y_pred = np.mean([model.predict(X_test, num_iteration=model.best_iteration) for model in self.models], axis=0)\n",
    "\n",
    "        return y_pred\n",
    "\n",
    "\n",
    "def run_lgb(X_train, targets, seeds, fold):\n",
    "    cv_scores = []\n",
    "    models = []\n",
    "\n",
    "    for i, target in enumerate(targets):\n",
    "        print(f\"Training for Target{i+1}\")\n",
    "        if i == 0:\n",
    "            params = CFG.LGB_TARGET1_PARAMS\n",
    "        elif i == 1:\n",
    "            params = CFG.LGB_TARGET2_PARAMS\n",
    "        elif i == 2:\n",
    "            params = CFG.LGB_TARGET3_PARAMS\n",
    "        elif i == 3:\n",
    "            params = CFG.LGB_TARGET4_PARAMS\n",
    "        trainer = LightGBMTrainer(params, seeds)\n",
    "        oof_score_tmp, models_tmp = trainer.fit(X_train, target, fold)\n",
    "        cv_scores.append(oof_score_tmp)\n",
    "        models.append(models_tmp)\n",
    "        print(f\"Local Target{i+1} OOF-MAE : {np.mean(oof_score_tmp)}\")\n",
    "        print(\"-\"*50)\n",
    "\n",
    "    print(f\"Local MCMAE : {np.mean(cv_scores)}\")\n",
    "\n",
    "    return models"
   ],
   "outputs": [],
   "metadata": {}
  },
  {
   "cell_type": "markdown",
   "source": [
    "## Training"
   ],
   "metadata": {}
  },
  {
   "cell_type": "code",
   "execution_count": 9,
   "source": [
    "# set-up logger\n",
    "logger = get_logger()\n",
    "\n",
    "# create feature\n",
    "update_blocks = []\n",
    "non_update_blocks = [\n",
    "    TargetAggregateBlock(periods=[\n",
    "        # 20210201,\n",
    "        # 20210301,\n",
    "        20210401,\n",
    "    ]),\n",
    "    RostersLabelEncodingBlock(columns=[\n",
    "        \"teamId\",\n",
    "        \"status\"\n",
    "    ]),\n",
    "    PlayersLabelEncodingBlock(columns=[\n",
    "        \"birthCountry\",\n",
    "        # \"birthCity\",\n",
    "        # \"birthStateProvince\",\n",
    "        # \"heightInches\",\n",
    "        # \"weight\",\n",
    "        \"primaryPositionCode\",\n",
    "        # \"playerAge\"\n",
    "    ]),\n",
    "    PlayerStatsBlock(),\n",
    "    # AwardsCountBlock(),\n",
    "    # TeamBoxScoresCountBlock(columns=[\n",
    "    #     # 'date',\n",
    "    #     # 'home',\n",
    "    #     # 'teamId',\n",
    "    #     # 'gamePk',\n",
    "    #     # 'gameDate',\n",
    "    #     # 'gameTimeUTC',\n",
    "    #     'flyOuts',\n",
    "    #     'groundOuts',\n",
    "    #     'runsScored',\n",
    "    #     'doubles',\n",
    "    #     'triples',\n",
    "    #     'homeRuns',\n",
    "    #     'strikeOuts',\n",
    "    #     'baseOnBalls',\n",
    "    #     'intentionalWalks',\n",
    "    #     'hits',\n",
    "    #     'hitByPitch',\n",
    "    #     'atBats',\n",
    "    #     'caughtStealing',\n",
    "    #     'stolenBases',\n",
    "    #     'groundIntoDoublePlay',\n",
    "    #     'groundIntoTriplePlay',\n",
    "    #     'plateAppearances',\n",
    "    #     'totalBases',\n",
    "    #     'rbi',\n",
    "    #     'leftOnBase',\n",
    "    #     'sacBunts',\n",
    "    #     'sacFlies',\n",
    "    #     'catchersInterference',\n",
    "    #     'pickoffs',\n",
    "    #     'airOutsPitching',\n",
    "    #     'groundOutsPitching',\n",
    "    #     'runsPitching',\n",
    "    #     'doublesPitching',\n",
    "    #     'triplesPitching',\n",
    "    #     'homeRunsPitching',\n",
    "    #     'strikeOutsPitching',\n",
    "    #     'baseOnBallsPitching',\n",
    "    #     'intentionalWalksPitching',\n",
    "    #     'hitsPitching',\n",
    "    #     'hitByPitchPitching',\n",
    "    #     'atBatsPitching',\n",
    "    #     'caughtStealingPitching',\n",
    "    #     'stolenBasesPitching',\n",
    "    #     'inningsPitched',\n",
    "    #     'earnedRuns',\n",
    "    #     'battersFaced',\n",
    "    #     'outsPitching',\n",
    "    #     'hitBatsmen',\n",
    "    #     'balks',\n",
    "    #     'wildPitches',\n",
    "    #     'pickoffsPitching',\n",
    "    #     'rbiPitching',\n",
    "    #     'inheritedRunners',\n",
    "    #     'inheritedRunnersScored',\n",
    "    #     'catchersInterferencePitching',\n",
    "    #     'sacBuntsPitching',\n",
    "    #     'sacFliesPitching'\n",
    "    #     ]\n",
    "    # ),\n",
    "    GamesCountBlock(columns=[\n",
    "        # 'date',\n",
    "        # 'gamePk',\n",
    "        # 'gameType',\n",
    "        # 'season',\n",
    "        # 'gameDate',\n",
    "        # 'gameTimeUTC',\n",
    "        # 'resumeDate',\n",
    "        # 'resumedFrom',\n",
    "        # 'codedGameState',\n",
    "        # 'detailedGameState',\n",
    "        'isTie',\n",
    "        'gameNumber',\n",
    "        'doubleHeader',\n",
    "        # 'dayNight',\n",
    "        'scheduledInnings',\n",
    "        'gamesInSeries',\n",
    "        # 'seriesDescription',\n",
    "        'homeId',\n",
    "        # 'homeName',\n",
    "        # 'homeAbbrev',\n",
    "        'homeWins',\n",
    "        'homeLosses',\n",
    "        'homeWinPct',\n",
    "        'homeWinner',\n",
    "        'homeScore',\n",
    "        'awayId',\n",
    "        # 'awayName',\n",
    "        # 'awayAbbrev',\n",
    "        'awayWins',\n",
    "        'awayLosses',\n",
    "        'awayWinPct',\n",
    "        'awayWinner',\n",
    "        'awayScore'\n",
    "        ]\n",
    "    ),\n",
    "    PlayerTwitterFollowerAggregateBlock(),\n",
    "    StandingsMetaBlock(columns=[\n",
    "        'playerId',\n",
    "        'date',\n",
    "        # 'season',\n",
    "        # 'gameDate',\n",
    "        'divisionId',\n",
    "        # 'teamId',\n",
    "        # 'teamName',\n",
    "        # 'streakCode',\n",
    "        'divisionRank',\n",
    "        'leagueRank',\n",
    "        'wildCardRank',\n",
    "        # 'leagueGamesBack',\n",
    "        # 'sportGamesBack',\n",
    "        # 'divisionGamesBack',\n",
    "        'wins',\n",
    "        'losses',\n",
    "        'pct',\n",
    "        'runsAllowed',\n",
    "        'runsScored',\n",
    "        # 'divisionChamp',\n",
    "        # 'divisionLeader',\n",
    "        # 'wildCardLeader',\n",
    "        # 'eliminationNumber',\n",
    "        # 'wildCardEliminationNumber',\n",
    "        'homeWins',\n",
    "        'homeLosses',\n",
    "        'awayWins',\n",
    "        'awayLosses',\n",
    "        'lastTenWins',\n",
    "        'lastTenLosses',\n",
    "        'extraInningWins',\n",
    "        'extraInningLosses',\n",
    "        'oneRunWins',\n",
    "        'oneRunLosses',\n",
    "        'dayWins',\n",
    "        'dayLosses',\n",
    "        'nightWins',\n",
    "        'nightLosses',\n",
    "        'grassWins',\n",
    "        'grassLosses',\n",
    "        'turfWins',\n",
    "        'turfLosses',\n",
    "        'divWins',\n",
    "        'divLosses',\n",
    "        'alWins',\n",
    "        'alLosses',\n",
    "        'nlWins',\n",
    "        'nlLosses',\n",
    "        'xWinLossPct'\n",
    "        ]\n",
    "    ),\n",
    "    Datetime2trigonometricEncodingBlock(),\n",
    "]\n",
    "\n",
    "y = mlb_train_ds.train_next[\"target1\"].values\n",
    "input_df = mlb_train_ds.train_next[CFG.OBJECT_ID].copy()\n",
    "input_df = input_df.merge(mlb_train_ds.players[[\"playerId\", \"playerForTestSetAndFuturePreds\"]], on=\"playerId\", how=\"left\")\n",
    "\n",
    "train_feat_df = create_train_feature(input_df, y, update_blocks, non_update_blocks)\n",
    "X_train = train_feat_df.values\n",
    "targets = [mlb_train_ds.train_next[col].values for col in CFG.TARGETS]\n",
    "\n",
    "# split train/valid\n",
    "fold = get_timeseries_holdout(input_df, valid_start_date=20210501)\n",
    "\n",
    "# training\n",
    "models = run_lgb(X_train, targets, CFG.SEEDS, fold)"
   ],
   "outputs": [
    {
     "output_type": "stream",
     "name": "stdout",
     "text": [
      "[2021-07-25 16:20:37,733] [INFO] [logger set up]\n",
      "[2021-07-25 16:20:38,073] [INFO] [<<__main__.TargetAggregateBlock object at 0x10ebc4880>_fit> start]\n"
     ]
    },
    {
     "output_type": "stream",
     "name": "stderr",
     "text": [
      "/Users/azupero/data-science/kaggle/MLB-Player-Digital-Engagement-Forecasting/.venv/lib/python3.8/site-packages/scipy/stats/_distn_infrastructure.py:1870: RuntimeWarning: invalid value encountered in double_scalars\n",
      "  x = np.asarray((x - loc)/scale, dtype=dtyp)\n"
     ]
    },
    {
     "output_type": "stream",
     "name": "stdout",
     "text": [
      "[2021-07-25 16:22:13,400] [INFO] [<<__main__.TargetAggregateBlock object at 0x10ebc4880>_fit> done in 95.33 s]\n",
      "[2021-07-25 16:22:13,677] [INFO] [<<__main__.RostersLabelEncodingBlock object at 0x1db78d5e0>_fit> start]\n",
      "[2021-07-25 16:22:15,295] [INFO] [<<__main__.RostersLabelEncodingBlock object at 0x1db78d5e0>_fit> done in 1.62 s]\n",
      "[2021-07-25 16:22:15,964] [INFO] [<<__main__.PlayersLabelEncodingBlock object at 0x1db78d640>_fit> start]\n",
      "[2021-07-25 16:22:16,311] [INFO] [<<__main__.PlayersLabelEncodingBlock object at 0x1db78d640>_fit> done in 0.35 s]\n",
      "[2021-07-25 16:22:16,986] [INFO] [<<__main__.PlayerStatsBlock object at 0x10ebc4640>_fit> start]\n",
      "[2021-07-25 16:22:32,000] [INFO] [<<__main__.PlayerStatsBlock object at 0x10ebc4640>_fit> done in 15.01 s]\n",
      "[2021-07-25 16:22:34,563] [INFO] [<<__main__.GamesCountBlock object at 0x1db78d070>_fit> start]\n",
      "[2021-07-25 16:22:36,211] [INFO] [<<__main__.GamesCountBlock object at 0x1db78d070>_fit> done in 1.65 s]\n",
      "[2021-07-25 16:22:42,641] [INFO] [<<__main__.PlayerTwitterFollowerAggregateBlock object at 0x10ec4c2e0>_fit> start]\n",
      "[2021-07-25 16:22:44,258] [INFO] [<<__main__.PlayerTwitterFollowerAggregateBlock object at 0x10ec4c2e0>_fit> done in 1.62 s]\n",
      "[2021-07-25 16:22:50,952] [INFO] [<<__main__.StandingsMetaBlock object at 0x10ec4c790>_fit> start]\n",
      "[2021-07-25 16:22:56,216] [INFO] [<<__main__.StandingsMetaBlock object at 0x10ec4c790>_fit> done in 5.26 s]\n",
      "[2021-07-25 16:23:03,285] [INFO] [<<__main__.Datetime2trigonometricEncodingBlock object at 0x10ec4ce20>_fit> start]\n",
      "[2021-07-25 16:23:20,161] [INFO] [<<__main__.Datetime2trigonometricEncodingBlock object at 0x10ec4ce20>_fit> done in 16.88 s]\n",
      "Training for Target1\n"
     ]
    },
    {
     "output_type": "stream",
     "name": "stderr",
     "text": [
      "/Users/azupero/data-science/kaggle/MLB-Player-Digital-Engagement-Forecasting/.venv/lib/python3.8/site-packages/lightgbm/engine.py:148: UserWarning: Found `num_iterations` in params. Will use it instead of argument\n",
      "  _log_warning(\"Found `{}` in params. Will use it instead of argument\".format(alias))\n",
      "/Users/azupero/data-science/kaggle/MLB-Player-Digital-Engagement-Forecasting/.venv/lib/python3.8/site-packages/lightgbm/engine.py:153: UserWarning: Found `early_stopping_round` in params. Will use it instead of argument\n",
      "  _log_warning(\"Found `{}` in params. Will use it instead of argument\".format(alias))\n"
     ]
    },
    {
     "output_type": "stream",
     "name": "stdout",
     "text": [
      "Training until validation scores don't improve for 100 rounds\n",
      "[100]\ttrain's l1: 0.517609\tvalid's l1: 1.13178\n",
      "[200]\ttrain's l1: 0.515021\tvalid's l1: 1.12383\n",
      "[300]\ttrain's l1: 0.51368\tvalid's l1: 1.1208\n",
      "[400]\ttrain's l1: 0.513039\tvalid's l1: 1.11948\n",
      "[500]\ttrain's l1: 0.512833\tvalid's l1: 1.11881\n",
      "[600]\ttrain's l1: 0.51281\tvalid's l1: 1.11864\n",
      "Early stopping, best iteration is:\n",
      "[534]\ttrain's l1: 0.512823\tvalid's l1: 1.11859\n",
      "Local Target1 OOF-MAE : 1.1185113415663797\n",
      "--------------------------------------------------\n",
      "Training for Target2\n"
     ]
    },
    {
     "output_type": "stream",
     "name": "stderr",
     "text": [
      "/Users/azupero/data-science/kaggle/MLB-Player-Digital-Engagement-Forecasting/.venv/lib/python3.8/site-packages/lightgbm/engine.py:148: UserWarning: Found `num_iterations` in params. Will use it instead of argument\n",
      "  _log_warning(\"Found `{}` in params. Will use it instead of argument\".format(alias))\n",
      "/Users/azupero/data-science/kaggle/MLB-Player-Digital-Engagement-Forecasting/.venv/lib/python3.8/site-packages/lightgbm/engine.py:153: UserWarning: Found `early_stopping_round` in params. Will use it instead of argument\n",
      "  _log_warning(\"Found `{}` in params. Will use it instead of argument\".format(alias))\n"
     ]
    },
    {
     "output_type": "stream",
     "name": "stdout",
     "text": [
      "Training until validation scores don't improve for 100 rounds\n",
      "[100]\ttrain's l1: 1.75346\tvalid's l1: 2.20102\n",
      "[200]\ttrain's l1: 1.73489\tvalid's l1: 2.17017\n",
      "[300]\ttrain's l1: 1.7225\tvalid's l1: 2.16231\n",
      "[400]\ttrain's l1: 1.71346\tvalid's l1: 2.15535\n",
      "[500]\ttrain's l1: 1.70573\tvalid's l1: 2.14845\n",
      "[600]\ttrain's l1: 1.69993\tvalid's l1: 2.14408\n",
      "[700]\ttrain's l1: 1.69427\tvalid's l1: 2.14428\n",
      "Early stopping, best iteration is:\n",
      "[641]\ttrain's l1: 1.6972\tvalid's l1: 2.14315\n",
      "Local Target2 OOF-MAE : 2.1430962555096227\n",
      "--------------------------------------------------\n",
      "Training for Target3\n"
     ]
    },
    {
     "output_type": "stream",
     "name": "stderr",
     "text": [
      "/Users/azupero/data-science/kaggle/MLB-Player-Digital-Engagement-Forecasting/.venv/lib/python3.8/site-packages/lightgbm/engine.py:148: UserWarning: Found `num_iterations` in params. Will use it instead of argument\n",
      "  _log_warning(\"Found `{}` in params. Will use it instead of argument\".format(alias))\n",
      "/Users/azupero/data-science/kaggle/MLB-Player-Digital-Engagement-Forecasting/.venv/lib/python3.8/site-packages/lightgbm/engine.py:153: UserWarning: Found `early_stopping_round` in params. Will use it instead of argument\n",
      "  _log_warning(\"Found `{}` in params. Will use it instead of argument\".format(alias))\n"
     ]
    },
    {
     "output_type": "stream",
     "name": "stdout",
     "text": [
      "Training until validation scores don't improve for 100 rounds\n",
      "[100]\ttrain's l1: 0.669618\tvalid's l1: 0.866091\n",
      "[200]\ttrain's l1: 0.667264\tvalid's l1: 0.866882\n",
      "Early stopping, best iteration is:\n",
      "[143]\ttrain's l1: 0.668302\tvalid's l1: 0.865923\n",
      "Local Target3 OOF-MAE : 0.865922125536894\n",
      "--------------------------------------------------\n",
      "Training for Target4\n"
     ]
    },
    {
     "output_type": "stream",
     "name": "stderr",
     "text": [
      "/Users/azupero/data-science/kaggle/MLB-Player-Digital-Engagement-Forecasting/.venv/lib/python3.8/site-packages/lightgbm/engine.py:148: UserWarning: Found `num_iterations` in params. Will use it instead of argument\n",
      "  _log_warning(\"Found `{}` in params. Will use it instead of argument\".format(alias))\n",
      "/Users/azupero/data-science/kaggle/MLB-Player-Digital-Engagement-Forecasting/.venv/lib/python3.8/site-packages/lightgbm/engine.py:153: UserWarning: Found `early_stopping_round` in params. Will use it instead of argument\n",
      "  _log_warning(\"Found `{}` in params. Will use it instead of argument\".format(alias))\n"
     ]
    },
    {
     "output_type": "stream",
     "name": "stdout",
     "text": [
      "Training until validation scores don't improve for 100 rounds\n",
      "[100]\ttrain's l1: 0.802182\tvalid's l1: 1.21686\n",
      "[200]\ttrain's l1: 0.787951\tvalid's l1: 1.21536\n",
      "Early stopping, best iteration is:\n",
      "[135]\ttrain's l1: 0.796388\tvalid's l1: 1.20957\n",
      "Local Target4 OOF-MAE : 1.2095249291323695\n",
      "--------------------------------------------------\n",
      "Local MCMAE : 1.3342636629363165\n"
     ]
    }
   ],
   "metadata": {}
  },
  {
   "cell_type": "code",
   "execution_count": 10,
   "source": [
    "def visualize_feature_importance(models, feat_train_df) -> plotly.graph_objects.Figure:\n",
    "    '''LightGBMのfeature importanceを可視化\n",
    "    '''\n",
    "    for target_i in range(len(models)):\n",
    "        feature_importance_df = pd.DataFrame()\n",
    "        for i, model in enumerate(models[target_i]):\n",
    "            _df = pd.DataFrame()\n",
    "            _df['feature_importance'] = model.feature_importance(importance_type=\"gain\")\n",
    "            _df['feature'] = feat_train_df.columns\n",
    "            _df['model_no'] = i + 1\n",
    "            feature_importance_df = pd.concat([feature_importance_df, _df], \n",
    "                                            axis=0, ignore_index=True)\n",
    "\n",
    "        order = feature_importance_df.groupby('feature')\\\n",
    "            .mean()[['feature_importance']]\\\n",
    "            .sort_values('feature_importance', ascending=False).index[:50]\n",
    "        \n",
    "        fig = px.box(\n",
    "            feature_importance_df.query(\"feature in @order\"),\n",
    "            x=\"feature_importance\",\n",
    "            y=\"feature\",\n",
    "            category_orders={\"feature\": order},\n",
    "            width=1250,\n",
    "            height=900,\n",
    "            title=f\"Target{target_i+1} Top 50 feature importance\",\n",
    "        )\n",
    "        fig.update_yaxes(showgrid=True)\n",
    "        fig.show()"
   ],
   "outputs": [],
   "metadata": {}
  },
  {
   "cell_type": "code",
   "execution_count": 11,
   "source": [
    "visualize_feature_importance(models, train_feat_df)"
   ],
   "outputs": [
    {
     "output_type": "display_data",
     "data": {
      "application/vnd.plotly.v1+json": {
       "config": {
        "plotlyServerURL": "https://plot.ly"
       },
       "data": [
        {
         "alignmentgroup": "True",
         "hovertemplate": "feature_importance=%{x}<br>feature=%{y}<extra></extra>",
         "legendgroup": "",
         "marker": {
          "color": "#636efa"
         },
         "name": "",
         "notched": false,
         "offsetgroup": "",
         "orientation": "h",
         "showlegend": false,
         "type": "box",
         "x": [
          14542293.94854927,
          427705.2726135254,
          297256.9457015991,
          546404.2197856903,
          229760.9884853363,
          215761.07617092133,
          30318576.71693611,
          138607.154630661,
          1030695.1903920174,
          972022.5815939903,
          757117.6559791565,
          494540.3657941818,
          776878.3408622742,
          649465.8294773102,
          842005.4854068756,
          571507.9787273407,
          206687.86220550537,
          110034.7213382721,
          81889.43004226685,
          279533.1248559952,
          25428.709051132202,
          41891.92465209961,
          54057.70359992981,
          215921.4847126007,
          441382.06301116943,
          475198.32365226746,
          561110.0399208069,
          5367048.50704813,
          1467738.1339559555,
          473711.11131858826,
          175712.7553882599,
          1279542.1724743843,
          19786160.97874689,
          13203103.438919067,
          141903.65081501007,
          1367056.7716350555,
          14823727.893573761,
          31350.449026107788,
          794165.5605554581,
          243293.213432312,
          4592886.964849472,
          292839.7196178436,
          98886.22672271729,
          698474.4191970825,
          1268109.6872348785,
          23977.348197460175,
          34760.92725753784,
          26321.24651813507,
          22033.875759124756,
          30925.651920318604
         ],
         "x0": " ",
         "xaxis": "x",
         "y": [
          "target1_202104_mean",
          "target1_202104_std",
          "target1_202104_max",
          "target1_202104_min",
          "target1_202104_median",
          "target1_202104_quantile25",
          "target1_202104_quantile75",
          "target1_202104_prob",
          "target2_202104_mean",
          "target2_202104_std",
          "target2_202104_max",
          "target2_202104_min",
          "target2_202104_median",
          "target2_202104_quantile25",
          "target2_202104_quantile75",
          "target2_202104_prob",
          "target3_202104_mean",
          "target3_202104_std",
          "target3_202104_max",
          "target3_202104_min",
          "target3_202104_median",
          "target3_202104_quantile25",
          "target3_202104_quantile75",
          "target3_202104_prob",
          "target4_202104_mean",
          "target4_202104_std",
          "target4_202104_max",
          "target4_202104_min",
          "target4_202104_median",
          "target4_202104_quantile25",
          "target4_202104_quantile75",
          "target4_202104_prob",
          "Rosters_LE_teamId",
          "Rosters_LE_status",
          "Players_LE_birthCountry",
          "Players_LE_primaryPositionCode",
          "Players_LE_playerid",
          "PlayerStats_rbi",
          "PlayerTwitterFollowerAggregate_mean",
          "PlayerTwitterFollowerAggregate_std",
          "PlayerTwitterFollowerAggregate_max",
          "PlayerTwitterFollowerAggregate_min",
          "PlayerTwitterFollowerAggregate_median",
          "PlayerTwitterFollowerAggregate_quantile25",
          "PlayerTwitterFollowerAggregate_quantile75",
          "StandingsMeta_runsAllowed",
          "StandingsMeta_runsScored",
          "StandingsMeta_extraInningLosses",
          "StandingsMeta_turfWins",
          "StandingsMeta_divLosses"
         ],
         "y0": " ",
         "yaxis": "y"
        }
       ],
       "layout": {
        "boxmode": "group",
        "height": 900,
        "legend": {
         "tracegroupgap": 0
        },
        "template": {
         "data": {
          "bar": [
           {
            "error_x": {
             "color": "#2a3f5f"
            },
            "error_y": {
             "color": "#2a3f5f"
            },
            "marker": {
             "line": {
              "color": "#E5ECF6",
              "width": 0.5
             }
            },
            "type": "bar"
           }
          ],
          "barpolar": [
           {
            "marker": {
             "line": {
              "color": "#E5ECF6",
              "width": 0.5
             }
            },
            "type": "barpolar"
           }
          ],
          "carpet": [
           {
            "aaxis": {
             "endlinecolor": "#2a3f5f",
             "gridcolor": "white",
             "linecolor": "white",
             "minorgridcolor": "white",
             "startlinecolor": "#2a3f5f"
            },
            "baxis": {
             "endlinecolor": "#2a3f5f",
             "gridcolor": "white",
             "linecolor": "white",
             "minorgridcolor": "white",
             "startlinecolor": "#2a3f5f"
            },
            "type": "carpet"
           }
          ],
          "choropleth": [
           {
            "colorbar": {
             "outlinewidth": 0,
             "ticks": ""
            },
            "type": "choropleth"
           }
          ],
          "contour": [
           {
            "colorbar": {
             "outlinewidth": 0,
             "ticks": ""
            },
            "colorscale": [
             [
              0,
              "#0d0887"
             ],
             [
              0.1111111111111111,
              "#46039f"
             ],
             [
              0.2222222222222222,
              "#7201a8"
             ],
             [
              0.3333333333333333,
              "#9c179e"
             ],
             [
              0.4444444444444444,
              "#bd3786"
             ],
             [
              0.5555555555555556,
              "#d8576b"
             ],
             [
              0.6666666666666666,
              "#ed7953"
             ],
             [
              0.7777777777777778,
              "#fb9f3a"
             ],
             [
              0.8888888888888888,
              "#fdca26"
             ],
             [
              1,
              "#f0f921"
             ]
            ],
            "type": "contour"
           }
          ],
          "contourcarpet": [
           {
            "colorbar": {
             "outlinewidth": 0,
             "ticks": ""
            },
            "type": "contourcarpet"
           }
          ],
          "heatmap": [
           {
            "colorbar": {
             "outlinewidth": 0,
             "ticks": ""
            },
            "colorscale": [
             [
              0,
              "#0d0887"
             ],
             [
              0.1111111111111111,
              "#46039f"
             ],
             [
              0.2222222222222222,
              "#7201a8"
             ],
             [
              0.3333333333333333,
              "#9c179e"
             ],
             [
              0.4444444444444444,
              "#bd3786"
             ],
             [
              0.5555555555555556,
              "#d8576b"
             ],
             [
              0.6666666666666666,
              "#ed7953"
             ],
             [
              0.7777777777777778,
              "#fb9f3a"
             ],
             [
              0.8888888888888888,
              "#fdca26"
             ],
             [
              1,
              "#f0f921"
             ]
            ],
            "type": "heatmap"
           }
          ],
          "heatmapgl": [
           {
            "colorbar": {
             "outlinewidth": 0,
             "ticks": ""
            },
            "colorscale": [
             [
              0,
              "#0d0887"
             ],
             [
              0.1111111111111111,
              "#46039f"
             ],
             [
              0.2222222222222222,
              "#7201a8"
             ],
             [
              0.3333333333333333,
              "#9c179e"
             ],
             [
              0.4444444444444444,
              "#bd3786"
             ],
             [
              0.5555555555555556,
              "#d8576b"
             ],
             [
              0.6666666666666666,
              "#ed7953"
             ],
             [
              0.7777777777777778,
              "#fb9f3a"
             ],
             [
              0.8888888888888888,
              "#fdca26"
             ],
             [
              1,
              "#f0f921"
             ]
            ],
            "type": "heatmapgl"
           }
          ],
          "histogram": [
           {
            "marker": {
             "colorbar": {
              "outlinewidth": 0,
              "ticks": ""
             }
            },
            "type": "histogram"
           }
          ],
          "histogram2d": [
           {
            "colorbar": {
             "outlinewidth": 0,
             "ticks": ""
            },
            "colorscale": [
             [
              0,
              "#0d0887"
             ],
             [
              0.1111111111111111,
              "#46039f"
             ],
             [
              0.2222222222222222,
              "#7201a8"
             ],
             [
              0.3333333333333333,
              "#9c179e"
             ],
             [
              0.4444444444444444,
              "#bd3786"
             ],
             [
              0.5555555555555556,
              "#d8576b"
             ],
             [
              0.6666666666666666,
              "#ed7953"
             ],
             [
              0.7777777777777778,
              "#fb9f3a"
             ],
             [
              0.8888888888888888,
              "#fdca26"
             ],
             [
              1,
              "#f0f921"
             ]
            ],
            "type": "histogram2d"
           }
          ],
          "histogram2dcontour": [
           {
            "colorbar": {
             "outlinewidth": 0,
             "ticks": ""
            },
            "colorscale": [
             [
              0,
              "#0d0887"
             ],
             [
              0.1111111111111111,
              "#46039f"
             ],
             [
              0.2222222222222222,
              "#7201a8"
             ],
             [
              0.3333333333333333,
              "#9c179e"
             ],
             [
              0.4444444444444444,
              "#bd3786"
             ],
             [
              0.5555555555555556,
              "#d8576b"
             ],
             [
              0.6666666666666666,
              "#ed7953"
             ],
             [
              0.7777777777777778,
              "#fb9f3a"
             ],
             [
              0.8888888888888888,
              "#fdca26"
             ],
             [
              1,
              "#f0f921"
             ]
            ],
            "type": "histogram2dcontour"
           }
          ],
          "mesh3d": [
           {
            "colorbar": {
             "outlinewidth": 0,
             "ticks": ""
            },
            "type": "mesh3d"
           }
          ],
          "parcoords": [
           {
            "line": {
             "colorbar": {
              "outlinewidth": 0,
              "ticks": ""
             }
            },
            "type": "parcoords"
           }
          ],
          "pie": [
           {
            "automargin": true,
            "type": "pie"
           }
          ],
          "scatter": [
           {
            "marker": {
             "colorbar": {
              "outlinewidth": 0,
              "ticks": ""
             }
            },
            "type": "scatter"
           }
          ],
          "scatter3d": [
           {
            "line": {
             "colorbar": {
              "outlinewidth": 0,
              "ticks": ""
             }
            },
            "marker": {
             "colorbar": {
              "outlinewidth": 0,
              "ticks": ""
             }
            },
            "type": "scatter3d"
           }
          ],
          "scattercarpet": [
           {
            "marker": {
             "colorbar": {
              "outlinewidth": 0,
              "ticks": ""
             }
            },
            "type": "scattercarpet"
           }
          ],
          "scattergeo": [
           {
            "marker": {
             "colorbar": {
              "outlinewidth": 0,
              "ticks": ""
             }
            },
            "type": "scattergeo"
           }
          ],
          "scattergl": [
           {
            "marker": {
             "colorbar": {
              "outlinewidth": 0,
              "ticks": ""
             }
            },
            "type": "scattergl"
           }
          ],
          "scattermapbox": [
           {
            "marker": {
             "colorbar": {
              "outlinewidth": 0,
              "ticks": ""
             }
            },
            "type": "scattermapbox"
           }
          ],
          "scatterpolar": [
           {
            "marker": {
             "colorbar": {
              "outlinewidth": 0,
              "ticks": ""
             }
            },
            "type": "scatterpolar"
           }
          ],
          "scatterpolargl": [
           {
            "marker": {
             "colorbar": {
              "outlinewidth": 0,
              "ticks": ""
             }
            },
            "type": "scatterpolargl"
           }
          ],
          "scatterternary": [
           {
            "marker": {
             "colorbar": {
              "outlinewidth": 0,
              "ticks": ""
             }
            },
            "type": "scatterternary"
           }
          ],
          "surface": [
           {
            "colorbar": {
             "outlinewidth": 0,
             "ticks": ""
            },
            "colorscale": [
             [
              0,
              "#0d0887"
             ],
             [
              0.1111111111111111,
              "#46039f"
             ],
             [
              0.2222222222222222,
              "#7201a8"
             ],
             [
              0.3333333333333333,
              "#9c179e"
             ],
             [
              0.4444444444444444,
              "#bd3786"
             ],
             [
              0.5555555555555556,
              "#d8576b"
             ],
             [
              0.6666666666666666,
              "#ed7953"
             ],
             [
              0.7777777777777778,
              "#fb9f3a"
             ],
             [
              0.8888888888888888,
              "#fdca26"
             ],
             [
              1,
              "#f0f921"
             ]
            ],
            "type": "surface"
           }
          ],
          "table": [
           {
            "cells": {
             "fill": {
              "color": "#EBF0F8"
             },
             "line": {
              "color": "white"
             }
            },
            "header": {
             "fill": {
              "color": "#C8D4E3"
             },
             "line": {
              "color": "white"
             }
            },
            "type": "table"
           }
          ]
         },
         "layout": {
          "annotationdefaults": {
           "arrowcolor": "#2a3f5f",
           "arrowhead": 0,
           "arrowwidth": 1
          },
          "autotypenumbers": "strict",
          "coloraxis": {
           "colorbar": {
            "outlinewidth": 0,
            "ticks": ""
           }
          },
          "colorscale": {
           "diverging": [
            [
             0,
             "#8e0152"
            ],
            [
             0.1,
             "#c51b7d"
            ],
            [
             0.2,
             "#de77ae"
            ],
            [
             0.3,
             "#f1b6da"
            ],
            [
             0.4,
             "#fde0ef"
            ],
            [
             0.5,
             "#f7f7f7"
            ],
            [
             0.6,
             "#e6f5d0"
            ],
            [
             0.7,
             "#b8e186"
            ],
            [
             0.8,
             "#7fbc41"
            ],
            [
             0.9,
             "#4d9221"
            ],
            [
             1,
             "#276419"
            ]
           ],
           "sequential": [
            [
             0,
             "#0d0887"
            ],
            [
             0.1111111111111111,
             "#46039f"
            ],
            [
             0.2222222222222222,
             "#7201a8"
            ],
            [
             0.3333333333333333,
             "#9c179e"
            ],
            [
             0.4444444444444444,
             "#bd3786"
            ],
            [
             0.5555555555555556,
             "#d8576b"
            ],
            [
             0.6666666666666666,
             "#ed7953"
            ],
            [
             0.7777777777777778,
             "#fb9f3a"
            ],
            [
             0.8888888888888888,
             "#fdca26"
            ],
            [
             1,
             "#f0f921"
            ]
           ],
           "sequentialminus": [
            [
             0,
             "#0d0887"
            ],
            [
             0.1111111111111111,
             "#46039f"
            ],
            [
             0.2222222222222222,
             "#7201a8"
            ],
            [
             0.3333333333333333,
             "#9c179e"
            ],
            [
             0.4444444444444444,
             "#bd3786"
            ],
            [
             0.5555555555555556,
             "#d8576b"
            ],
            [
             0.6666666666666666,
             "#ed7953"
            ],
            [
             0.7777777777777778,
             "#fb9f3a"
            ],
            [
             0.8888888888888888,
             "#fdca26"
            ],
            [
             1,
             "#f0f921"
            ]
           ]
          },
          "colorway": [
           "#636efa",
           "#EF553B",
           "#00cc96",
           "#ab63fa",
           "#FFA15A",
           "#19d3f3",
           "#FF6692",
           "#B6E880",
           "#FF97FF",
           "#FECB52"
          ],
          "font": {
           "color": "#2a3f5f"
          },
          "geo": {
           "bgcolor": "white",
           "lakecolor": "white",
           "landcolor": "#E5ECF6",
           "showlakes": true,
           "showland": true,
           "subunitcolor": "white"
          },
          "hoverlabel": {
           "align": "left"
          },
          "hovermode": "closest",
          "mapbox": {
           "style": "light"
          },
          "paper_bgcolor": "white",
          "plot_bgcolor": "#E5ECF6",
          "polar": {
           "angularaxis": {
            "gridcolor": "white",
            "linecolor": "white",
            "ticks": ""
           },
           "bgcolor": "#E5ECF6",
           "radialaxis": {
            "gridcolor": "white",
            "linecolor": "white",
            "ticks": ""
           }
          },
          "scene": {
           "xaxis": {
            "backgroundcolor": "#E5ECF6",
            "gridcolor": "white",
            "gridwidth": 2,
            "linecolor": "white",
            "showbackground": true,
            "ticks": "",
            "zerolinecolor": "white"
           },
           "yaxis": {
            "backgroundcolor": "#E5ECF6",
            "gridcolor": "white",
            "gridwidth": 2,
            "linecolor": "white",
            "showbackground": true,
            "ticks": "",
            "zerolinecolor": "white"
           },
           "zaxis": {
            "backgroundcolor": "#E5ECF6",
            "gridcolor": "white",
            "gridwidth": 2,
            "linecolor": "white",
            "showbackground": true,
            "ticks": "",
            "zerolinecolor": "white"
           }
          },
          "shapedefaults": {
           "line": {
            "color": "#2a3f5f"
           }
          },
          "ternary": {
           "aaxis": {
            "gridcolor": "white",
            "linecolor": "white",
            "ticks": ""
           },
           "baxis": {
            "gridcolor": "white",
            "linecolor": "white",
            "ticks": ""
           },
           "bgcolor": "#E5ECF6",
           "caxis": {
            "gridcolor": "white",
            "linecolor": "white",
            "ticks": ""
           }
          },
          "title": {
           "x": 0.05
          },
          "xaxis": {
           "automargin": true,
           "gridcolor": "white",
           "linecolor": "white",
           "ticks": "",
           "title": {
            "standoff": 15
           },
           "zerolinecolor": "white",
           "zerolinewidth": 2
          },
          "yaxis": {
           "automargin": true,
           "gridcolor": "white",
           "linecolor": "white",
           "ticks": "",
           "title": {
            "standoff": 15
           },
           "zerolinecolor": "white",
           "zerolinewidth": 2
          }
         }
        },
        "title": {
         "text": "Target1 Top 50 feature importance"
        },
        "width": 1250,
        "xaxis": {
         "anchor": "y",
         "domain": [
          0,
          1
         ],
         "title": {
          "text": "feature_importance"
         }
        },
        "yaxis": {
         "anchor": "x",
         "categoryarray": [
          "StandingsMeta_turfWins",
          "StandingsMeta_runsAllowed",
          "target3_202104_median",
          "StandingsMeta_extraInningLosses",
          "StandingsMeta_divLosses",
          "PlayerStats_rbi",
          "StandingsMeta_runsScored",
          "target3_202104_quantile25",
          "target3_202104_quantile75",
          "target3_202104_max",
          "PlayerTwitterFollowerAggregate_median",
          "target3_202104_std",
          "target1_202104_prob",
          "Players_LE_birthCountry",
          "target4_202104_quantile75",
          "target3_202104_mean",
          "target1_202104_quantile25",
          "target3_202104_prob",
          "target1_202104_median",
          "PlayerTwitterFollowerAggregate_std",
          "target3_202104_min",
          "PlayerTwitterFollowerAggregate_min",
          "target1_202104_max",
          "target1_202104_std",
          "target4_202104_mean",
          "target4_202104_quantile25",
          "target4_202104_std",
          "target2_202104_min",
          "target1_202104_min",
          "target4_202104_max",
          "target2_202104_prob",
          "target2_202104_quantile25",
          "PlayerTwitterFollowerAggregate_quantile25",
          "target2_202104_max",
          "target2_202104_median",
          "PlayerTwitterFollowerAggregate_mean",
          "target2_202104_quantile75",
          "target2_202104_std",
          "target2_202104_mean",
          "PlayerTwitterFollowerAggregate_quantile75",
          "target4_202104_prob",
          "Players_LE_primaryPositionCode",
          "target4_202104_median",
          "PlayerTwitterFollowerAggregate_max",
          "target4_202104_min",
          "Rosters_LE_status",
          "target1_202104_mean",
          "Players_LE_playerid",
          "Rosters_LE_teamId",
          "target1_202104_quantile75"
         ],
         "categoryorder": "array",
         "domain": [
          0,
          1
         ],
         "showgrid": true,
         "title": {
          "text": "feature"
         }
        }
       }
      }
     },
     "metadata": {}
    },
    {
     "output_type": "display_data",
     "data": {
      "application/vnd.plotly.v1+json": {
       "config": {
        "plotlyServerURL": "https://plot.ly"
       },
       "data": [
        {
         "alignmentgroup": "True",
         "hovertemplate": "feature_importance=%{x}<br>feature=%{y}<extra></extra>",
         "legendgroup": "",
         "marker": {
          "color": "#636efa"
         },
         "name": "",
         "notched": false,
         "offsetgroup": "",
         "orientation": "h",
         "showlegend": false,
         "type": "box",
         "x": [
          90876.8715171814,
          80204.30923461914,
          72863.69486618042,
          40394.47634887695,
          48825.35820007324,
          92254.2559890747,
          83898.14642715454,
          66246.52031707764,
          122975.33854675293,
          145787.1598892212,
          202127.8472480774,
          105309.65455245972,
          37475.655281066895,
          42529.41760253906,
          48892.033042907715,
          40443.52617263794,
          40750.08060455322,
          69916.8353729248,
          45986.74882888794,
          868071.0628471375,
          472463.94009780884,
          168483.3051261902,
          99620.12396240234,
          834806.1475219727,
          5273195.8532066345,
          43396.06895446777,
          41212.04763793945,
          714161.3967170715,
          40967.808292388916,
          37633.3994140625,
          86135.19113922119,
          49797.128368377686,
          52743.80827331543,
          54245.86716079712,
          87095.12558364868,
          84180.1890335083,
          157263.40641403198,
          72526.2527885437,
          37207.751514434814,
          68164.37171936035,
          81405.74794387817,
          222501.67067337036,
          51834.75133514404,
          40893.83522415161,
          49582.17501068115,
          118334.67840194702,
          44762.37718963623,
          55591.80460739136,
          49234.58456039429,
          76798.01103210449
         ],
         "x0": " ",
         "xaxis": "x",
         "y": [
          "target1_202104_mean",
          "target1_202104_std",
          "target1_202104_min",
          "target1_202104_median",
          "target1_202104_quantile25",
          "target2_202104_mean",
          "target2_202104_std",
          "target2_202104_max",
          "target2_202104_min",
          "target2_202104_median",
          "target2_202104_quantile25",
          "target2_202104_quantile75",
          "target2_202104_prob",
          "target3_202104_mean",
          "target3_202104_min",
          "target3_202104_quantile25",
          "target3_202104_prob",
          "target4_202104_std",
          "target4_202104_max",
          "target4_202104_min",
          "target4_202104_median",
          "target4_202104_quantile25",
          "target4_202104_quantile75",
          "Rosters_LE_teamId",
          "Rosters_LE_status",
          "Players_LE_birthCountry",
          "Players_LE_primaryPositionCode",
          "Players_LE_playerid",
          "PlayerStats_holds_cumsum",
          "PlayerStats_inheritedRunners_cumsum",
          "PlayerTwitterFollowerAggregate_mean",
          "PlayerTwitterFollowerAggregate_std",
          "PlayerTwitterFollowerAggregate_max",
          "PlayerTwitterFollowerAggregate_min",
          "PlayerTwitterFollowerAggregate_median",
          "PlayerTwitterFollowerAggregate_quantile25",
          "StandingsMeta_divisionId",
          "StandingsMeta_divisionRank",
          "StandingsMeta_leagueRank",
          "StandingsMeta_losses",
          "StandingsMeta_pct",
          "StandingsMeta_runsAllowed",
          "StandingsMeta_runsScored",
          "StandingsMeta_grassLosses",
          "StandingsMeta_divWins",
          "StandingsMeta_divLosses",
          "DatetimeEncoding_day2cos",
          "DatetimeEncoding_day2sin",
          "DatetimeEncoding_dow2cos",
          "DatetimeEncoding_dow2sin"
         ],
         "y0": " ",
         "yaxis": "y"
        }
       ],
       "layout": {
        "boxmode": "group",
        "height": 900,
        "legend": {
         "tracegroupgap": 0
        },
        "template": {
         "data": {
          "bar": [
           {
            "error_x": {
             "color": "#2a3f5f"
            },
            "error_y": {
             "color": "#2a3f5f"
            },
            "marker": {
             "line": {
              "color": "#E5ECF6",
              "width": 0.5
             }
            },
            "type": "bar"
           }
          ],
          "barpolar": [
           {
            "marker": {
             "line": {
              "color": "#E5ECF6",
              "width": 0.5
             }
            },
            "type": "barpolar"
           }
          ],
          "carpet": [
           {
            "aaxis": {
             "endlinecolor": "#2a3f5f",
             "gridcolor": "white",
             "linecolor": "white",
             "minorgridcolor": "white",
             "startlinecolor": "#2a3f5f"
            },
            "baxis": {
             "endlinecolor": "#2a3f5f",
             "gridcolor": "white",
             "linecolor": "white",
             "minorgridcolor": "white",
             "startlinecolor": "#2a3f5f"
            },
            "type": "carpet"
           }
          ],
          "choropleth": [
           {
            "colorbar": {
             "outlinewidth": 0,
             "ticks": ""
            },
            "type": "choropleth"
           }
          ],
          "contour": [
           {
            "colorbar": {
             "outlinewidth": 0,
             "ticks": ""
            },
            "colorscale": [
             [
              0,
              "#0d0887"
             ],
             [
              0.1111111111111111,
              "#46039f"
             ],
             [
              0.2222222222222222,
              "#7201a8"
             ],
             [
              0.3333333333333333,
              "#9c179e"
             ],
             [
              0.4444444444444444,
              "#bd3786"
             ],
             [
              0.5555555555555556,
              "#d8576b"
             ],
             [
              0.6666666666666666,
              "#ed7953"
             ],
             [
              0.7777777777777778,
              "#fb9f3a"
             ],
             [
              0.8888888888888888,
              "#fdca26"
             ],
             [
              1,
              "#f0f921"
             ]
            ],
            "type": "contour"
           }
          ],
          "contourcarpet": [
           {
            "colorbar": {
             "outlinewidth": 0,
             "ticks": ""
            },
            "type": "contourcarpet"
           }
          ],
          "heatmap": [
           {
            "colorbar": {
             "outlinewidth": 0,
             "ticks": ""
            },
            "colorscale": [
             [
              0,
              "#0d0887"
             ],
             [
              0.1111111111111111,
              "#46039f"
             ],
             [
              0.2222222222222222,
              "#7201a8"
             ],
             [
              0.3333333333333333,
              "#9c179e"
             ],
             [
              0.4444444444444444,
              "#bd3786"
             ],
             [
              0.5555555555555556,
              "#d8576b"
             ],
             [
              0.6666666666666666,
              "#ed7953"
             ],
             [
              0.7777777777777778,
              "#fb9f3a"
             ],
             [
              0.8888888888888888,
              "#fdca26"
             ],
             [
              1,
              "#f0f921"
             ]
            ],
            "type": "heatmap"
           }
          ],
          "heatmapgl": [
           {
            "colorbar": {
             "outlinewidth": 0,
             "ticks": ""
            },
            "colorscale": [
             [
              0,
              "#0d0887"
             ],
             [
              0.1111111111111111,
              "#46039f"
             ],
             [
              0.2222222222222222,
              "#7201a8"
             ],
             [
              0.3333333333333333,
              "#9c179e"
             ],
             [
              0.4444444444444444,
              "#bd3786"
             ],
             [
              0.5555555555555556,
              "#d8576b"
             ],
             [
              0.6666666666666666,
              "#ed7953"
             ],
             [
              0.7777777777777778,
              "#fb9f3a"
             ],
             [
              0.8888888888888888,
              "#fdca26"
             ],
             [
              1,
              "#f0f921"
             ]
            ],
            "type": "heatmapgl"
           }
          ],
          "histogram": [
           {
            "marker": {
             "colorbar": {
              "outlinewidth": 0,
              "ticks": ""
             }
            },
            "type": "histogram"
           }
          ],
          "histogram2d": [
           {
            "colorbar": {
             "outlinewidth": 0,
             "ticks": ""
            },
            "colorscale": [
             [
              0,
              "#0d0887"
             ],
             [
              0.1111111111111111,
              "#46039f"
             ],
             [
              0.2222222222222222,
              "#7201a8"
             ],
             [
              0.3333333333333333,
              "#9c179e"
             ],
             [
              0.4444444444444444,
              "#bd3786"
             ],
             [
              0.5555555555555556,
              "#d8576b"
             ],
             [
              0.6666666666666666,
              "#ed7953"
             ],
             [
              0.7777777777777778,
              "#fb9f3a"
             ],
             [
              0.8888888888888888,
              "#fdca26"
             ],
             [
              1,
              "#f0f921"
             ]
            ],
            "type": "histogram2d"
           }
          ],
          "histogram2dcontour": [
           {
            "colorbar": {
             "outlinewidth": 0,
             "ticks": ""
            },
            "colorscale": [
             [
              0,
              "#0d0887"
             ],
             [
              0.1111111111111111,
              "#46039f"
             ],
             [
              0.2222222222222222,
              "#7201a8"
             ],
             [
              0.3333333333333333,
              "#9c179e"
             ],
             [
              0.4444444444444444,
              "#bd3786"
             ],
             [
              0.5555555555555556,
              "#d8576b"
             ],
             [
              0.6666666666666666,
              "#ed7953"
             ],
             [
              0.7777777777777778,
              "#fb9f3a"
             ],
             [
              0.8888888888888888,
              "#fdca26"
             ],
             [
              1,
              "#f0f921"
             ]
            ],
            "type": "histogram2dcontour"
           }
          ],
          "mesh3d": [
           {
            "colorbar": {
             "outlinewidth": 0,
             "ticks": ""
            },
            "type": "mesh3d"
           }
          ],
          "parcoords": [
           {
            "line": {
             "colorbar": {
              "outlinewidth": 0,
              "ticks": ""
             }
            },
            "type": "parcoords"
           }
          ],
          "pie": [
           {
            "automargin": true,
            "type": "pie"
           }
          ],
          "scatter": [
           {
            "marker": {
             "colorbar": {
              "outlinewidth": 0,
              "ticks": ""
             }
            },
            "type": "scatter"
           }
          ],
          "scatter3d": [
           {
            "line": {
             "colorbar": {
              "outlinewidth": 0,
              "ticks": ""
             }
            },
            "marker": {
             "colorbar": {
              "outlinewidth": 0,
              "ticks": ""
             }
            },
            "type": "scatter3d"
           }
          ],
          "scattercarpet": [
           {
            "marker": {
             "colorbar": {
              "outlinewidth": 0,
              "ticks": ""
             }
            },
            "type": "scattercarpet"
           }
          ],
          "scattergeo": [
           {
            "marker": {
             "colorbar": {
              "outlinewidth": 0,
              "ticks": ""
             }
            },
            "type": "scattergeo"
           }
          ],
          "scattergl": [
           {
            "marker": {
             "colorbar": {
              "outlinewidth": 0,
              "ticks": ""
             }
            },
            "type": "scattergl"
           }
          ],
          "scattermapbox": [
           {
            "marker": {
             "colorbar": {
              "outlinewidth": 0,
              "ticks": ""
             }
            },
            "type": "scattermapbox"
           }
          ],
          "scatterpolar": [
           {
            "marker": {
             "colorbar": {
              "outlinewidth": 0,
              "ticks": ""
             }
            },
            "type": "scatterpolar"
           }
          ],
          "scatterpolargl": [
           {
            "marker": {
             "colorbar": {
              "outlinewidth": 0,
              "ticks": ""
             }
            },
            "type": "scatterpolargl"
           }
          ],
          "scatterternary": [
           {
            "marker": {
             "colorbar": {
              "outlinewidth": 0,
              "ticks": ""
             }
            },
            "type": "scatterternary"
           }
          ],
          "surface": [
           {
            "colorbar": {
             "outlinewidth": 0,
             "ticks": ""
            },
            "colorscale": [
             [
              0,
              "#0d0887"
             ],
             [
              0.1111111111111111,
              "#46039f"
             ],
             [
              0.2222222222222222,
              "#7201a8"
             ],
             [
              0.3333333333333333,
              "#9c179e"
             ],
             [
              0.4444444444444444,
              "#bd3786"
             ],
             [
              0.5555555555555556,
              "#d8576b"
             ],
             [
              0.6666666666666666,
              "#ed7953"
             ],
             [
              0.7777777777777778,
              "#fb9f3a"
             ],
             [
              0.8888888888888888,
              "#fdca26"
             ],
             [
              1,
              "#f0f921"
             ]
            ],
            "type": "surface"
           }
          ],
          "table": [
           {
            "cells": {
             "fill": {
              "color": "#EBF0F8"
             },
             "line": {
              "color": "white"
             }
            },
            "header": {
             "fill": {
              "color": "#C8D4E3"
             },
             "line": {
              "color": "white"
             }
            },
            "type": "table"
           }
          ]
         },
         "layout": {
          "annotationdefaults": {
           "arrowcolor": "#2a3f5f",
           "arrowhead": 0,
           "arrowwidth": 1
          },
          "autotypenumbers": "strict",
          "coloraxis": {
           "colorbar": {
            "outlinewidth": 0,
            "ticks": ""
           }
          },
          "colorscale": {
           "diverging": [
            [
             0,
             "#8e0152"
            ],
            [
             0.1,
             "#c51b7d"
            ],
            [
             0.2,
             "#de77ae"
            ],
            [
             0.3,
             "#f1b6da"
            ],
            [
             0.4,
             "#fde0ef"
            ],
            [
             0.5,
             "#f7f7f7"
            ],
            [
             0.6,
             "#e6f5d0"
            ],
            [
             0.7,
             "#b8e186"
            ],
            [
             0.8,
             "#7fbc41"
            ],
            [
             0.9,
             "#4d9221"
            ],
            [
             1,
             "#276419"
            ]
           ],
           "sequential": [
            [
             0,
             "#0d0887"
            ],
            [
             0.1111111111111111,
             "#46039f"
            ],
            [
             0.2222222222222222,
             "#7201a8"
            ],
            [
             0.3333333333333333,
             "#9c179e"
            ],
            [
             0.4444444444444444,
             "#bd3786"
            ],
            [
             0.5555555555555556,
             "#d8576b"
            ],
            [
             0.6666666666666666,
             "#ed7953"
            ],
            [
             0.7777777777777778,
             "#fb9f3a"
            ],
            [
             0.8888888888888888,
             "#fdca26"
            ],
            [
             1,
             "#f0f921"
            ]
           ],
           "sequentialminus": [
            [
             0,
             "#0d0887"
            ],
            [
             0.1111111111111111,
             "#46039f"
            ],
            [
             0.2222222222222222,
             "#7201a8"
            ],
            [
             0.3333333333333333,
             "#9c179e"
            ],
            [
             0.4444444444444444,
             "#bd3786"
            ],
            [
             0.5555555555555556,
             "#d8576b"
            ],
            [
             0.6666666666666666,
             "#ed7953"
            ],
            [
             0.7777777777777778,
             "#fb9f3a"
            ],
            [
             0.8888888888888888,
             "#fdca26"
            ],
            [
             1,
             "#f0f921"
            ]
           ]
          },
          "colorway": [
           "#636efa",
           "#EF553B",
           "#00cc96",
           "#ab63fa",
           "#FFA15A",
           "#19d3f3",
           "#FF6692",
           "#B6E880",
           "#FF97FF",
           "#FECB52"
          ],
          "font": {
           "color": "#2a3f5f"
          },
          "geo": {
           "bgcolor": "white",
           "lakecolor": "white",
           "landcolor": "#E5ECF6",
           "showlakes": true,
           "showland": true,
           "subunitcolor": "white"
          },
          "hoverlabel": {
           "align": "left"
          },
          "hovermode": "closest",
          "mapbox": {
           "style": "light"
          },
          "paper_bgcolor": "white",
          "plot_bgcolor": "#E5ECF6",
          "polar": {
           "angularaxis": {
            "gridcolor": "white",
            "linecolor": "white",
            "ticks": ""
           },
           "bgcolor": "#E5ECF6",
           "radialaxis": {
            "gridcolor": "white",
            "linecolor": "white",
            "ticks": ""
           }
          },
          "scene": {
           "xaxis": {
            "backgroundcolor": "#E5ECF6",
            "gridcolor": "white",
            "gridwidth": 2,
            "linecolor": "white",
            "showbackground": true,
            "ticks": "",
            "zerolinecolor": "white"
           },
           "yaxis": {
            "backgroundcolor": "#E5ECF6",
            "gridcolor": "white",
            "gridwidth": 2,
            "linecolor": "white",
            "showbackground": true,
            "ticks": "",
            "zerolinecolor": "white"
           },
           "zaxis": {
            "backgroundcolor": "#E5ECF6",
            "gridcolor": "white",
            "gridwidth": 2,
            "linecolor": "white",
            "showbackground": true,
            "ticks": "",
            "zerolinecolor": "white"
           }
          },
          "shapedefaults": {
           "line": {
            "color": "#2a3f5f"
           }
          },
          "ternary": {
           "aaxis": {
            "gridcolor": "white",
            "linecolor": "white",
            "ticks": ""
           },
           "baxis": {
            "gridcolor": "white",
            "linecolor": "white",
            "ticks": ""
           },
           "bgcolor": "#E5ECF6",
           "caxis": {
            "gridcolor": "white",
            "linecolor": "white",
            "ticks": ""
           }
          },
          "title": {
           "x": 0.05
          },
          "xaxis": {
           "automargin": true,
           "gridcolor": "white",
           "linecolor": "white",
           "ticks": "",
           "title": {
            "standoff": 15
           },
           "zerolinecolor": "white",
           "zerolinewidth": 2
          },
          "yaxis": {
           "automargin": true,
           "gridcolor": "white",
           "linecolor": "white",
           "ticks": "",
           "title": {
            "standoff": 15
           },
           "zerolinecolor": "white",
           "zerolinewidth": 2
          }
         }
        },
        "title": {
         "text": "Target2 Top 50 feature importance"
        },
        "width": 1250,
        "xaxis": {
         "anchor": "y",
         "domain": [
          0,
          1
         ],
         "title": {
          "text": "feature_importance"
         }
        },
        "yaxis": {
         "anchor": "x",
         "categoryarray": [
          "StandingsMeta_leagueRank",
          "target2_202104_prob",
          "PlayerStats_inheritedRunners_cumsum",
          "target1_202104_median",
          "target3_202104_quantile25",
          "target3_202104_prob",
          "StandingsMeta_grassLosses",
          "PlayerStats_holds_cumsum",
          "Players_LE_primaryPositionCode",
          "target3_202104_mean",
          "Players_LE_birthCountry",
          "DatetimeEncoding_day2cos",
          "target4_202104_max",
          "target1_202104_quantile25",
          "target3_202104_min",
          "DatetimeEncoding_dow2cos",
          "StandingsMeta_divWins",
          "PlayerTwitterFollowerAggregate_std",
          "StandingsMeta_runsScored",
          "PlayerTwitterFollowerAggregate_max",
          "PlayerTwitterFollowerAggregate_min",
          "DatetimeEncoding_day2sin",
          "target2_202104_max",
          "StandingsMeta_losses",
          "target4_202104_std",
          "StandingsMeta_divisionRank",
          "target1_202104_min",
          "DatetimeEncoding_dow2sin",
          "target1_202104_std",
          "StandingsMeta_pct",
          "target2_202104_std",
          "PlayerTwitterFollowerAggregate_quantile25",
          "PlayerTwitterFollowerAggregate_mean",
          "PlayerTwitterFollowerAggregate_median",
          "target1_202104_mean",
          "target2_202104_mean",
          "target4_202104_quantile75",
          "target2_202104_quantile75",
          "StandingsMeta_divLosses",
          "target2_202104_min",
          "target2_202104_median",
          "StandingsMeta_divisionId",
          "target4_202104_quantile25",
          "target2_202104_quantile25",
          "StandingsMeta_runsAllowed",
          "target4_202104_median",
          "Players_LE_playerid",
          "Rosters_LE_teamId",
          "target4_202104_min",
          "Rosters_LE_status"
         ],
         "categoryorder": "array",
         "domain": [
          0,
          1
         ],
         "showgrid": true,
         "title": {
          "text": "feature"
         }
        }
       }
      }
     },
     "metadata": {}
    },
    {
     "output_type": "display_data",
     "data": {
      "application/vnd.plotly.v1+json": {
       "config": {
        "plotlyServerURL": "https://plot.ly"
       },
       "data": [
        {
         "alignmentgroup": "True",
         "hovertemplate": "feature_importance=%{x}<br>feature=%{y}<extra></extra>",
         "legendgroup": "",
         "marker": {
          "color": "#636efa"
         },
         "name": "",
         "notched": false,
         "offsetgroup": "",
         "orientation": "h",
         "showlegend": false,
         "type": "box",
         "x": [
          175748.71717053652,
          31622.635566711426,
          27986.07169342041,
          27337.227849960327,
          14028.81999206543,
          12941.638046264648,
          48171.32040309906,
          22998.38586139679,
          74241.01228284091,
          107082.85420060158,
          144096.50457322598,
          414235.05615615845,
          41423.34627532959,
          24595.3282661438,
          579900.6647577286,
          27807.885581970215,
          1504206.6970710754,
          75245.29200172424,
          103634.6506729126,
          565652.9805421829,
          155189.62227153778,
          241801.64961242676,
          1339444.4556598663,
          132037.45198631287,
          104413.424451828,
          159816.5130662918,
          82749.271920681,
          5816500.323297501,
          159475.130651474,
          269595.050447464,
          299103.9424819946,
          90116.78403329849,
          13454525.002383232,
          1835771.2612714767,
          16529.451972961426,
          4121905.2008810043,
          15410.831970214844,
          60846.161865234375,
          30183.726343154907,
          186439.8433778286,
          16593.380416870117,
          31987.927656173706,
          338628.85455322266,
          293039.77645874023,
          12820.287049293518,
          73056.1439704895,
          30479.167147755623,
          12566.91041636467,
          21180.573248505592,
          11580.131855249405
         ],
         "x0": " ",
         "xaxis": "x",
         "y": [
          "target1_202104_mean",
          "target1_202104_std",
          "target1_202104_max",
          "target1_202104_min",
          "target1_202104_median",
          "target1_202104_quantile25",
          "target1_202104_quantile75",
          "target1_202104_prob",
          "target2_202104_mean",
          "target2_202104_std",
          "target2_202104_max",
          "target2_202104_min",
          "target2_202104_median",
          "target2_202104_quantile25",
          "target2_202104_quantile75",
          "target2_202104_prob",
          "target3_202104_mean",
          "target3_202104_std",
          "target3_202104_max",
          "target3_202104_min",
          "target3_202104_median",
          "target3_202104_quantile25",
          "target3_202104_quantile75",
          "target3_202104_prob",
          "target4_202104_mean",
          "target4_202104_std",
          "target4_202104_max",
          "target4_202104_min",
          "target4_202104_median",
          "target4_202104_quantile25",
          "target4_202104_quantile75",
          "target4_202104_prob",
          "Rosters_LE_teamId",
          "Rosters_LE_status",
          "Players_LE_birthCountry",
          "Players_LE_playerid",
          "PlayerStats_inheritedRunners_cumsum",
          "PlayerTwitterFollowerAggregate_mean",
          "PlayerTwitterFollowerAggregate_std",
          "PlayerTwitterFollowerAggregate_max",
          "PlayerTwitterFollowerAggregate_min",
          "PlayerTwitterFollowerAggregate_median",
          "PlayerTwitterFollowerAggregate_quantile25",
          "PlayerTwitterFollowerAggregate_quantile75",
          "StandingsMeta_losses",
          "StandingsMeta_runsAllowed",
          "StandingsMeta_runsScored",
          "StandingsMeta_nightLosses",
          "StandingsMeta_divLosses",
          "StandingsMeta_xWinLossPct"
         ],
         "y0": " ",
         "yaxis": "y"
        }
       ],
       "layout": {
        "boxmode": "group",
        "height": 900,
        "legend": {
         "tracegroupgap": 0
        },
        "template": {
         "data": {
          "bar": [
           {
            "error_x": {
             "color": "#2a3f5f"
            },
            "error_y": {
             "color": "#2a3f5f"
            },
            "marker": {
             "line": {
              "color": "#E5ECF6",
              "width": 0.5
             }
            },
            "type": "bar"
           }
          ],
          "barpolar": [
           {
            "marker": {
             "line": {
              "color": "#E5ECF6",
              "width": 0.5
             }
            },
            "type": "barpolar"
           }
          ],
          "carpet": [
           {
            "aaxis": {
             "endlinecolor": "#2a3f5f",
             "gridcolor": "white",
             "linecolor": "white",
             "minorgridcolor": "white",
             "startlinecolor": "#2a3f5f"
            },
            "baxis": {
             "endlinecolor": "#2a3f5f",
             "gridcolor": "white",
             "linecolor": "white",
             "minorgridcolor": "white",
             "startlinecolor": "#2a3f5f"
            },
            "type": "carpet"
           }
          ],
          "choropleth": [
           {
            "colorbar": {
             "outlinewidth": 0,
             "ticks": ""
            },
            "type": "choropleth"
           }
          ],
          "contour": [
           {
            "colorbar": {
             "outlinewidth": 0,
             "ticks": ""
            },
            "colorscale": [
             [
              0,
              "#0d0887"
             ],
             [
              0.1111111111111111,
              "#46039f"
             ],
             [
              0.2222222222222222,
              "#7201a8"
             ],
             [
              0.3333333333333333,
              "#9c179e"
             ],
             [
              0.4444444444444444,
              "#bd3786"
             ],
             [
              0.5555555555555556,
              "#d8576b"
             ],
             [
              0.6666666666666666,
              "#ed7953"
             ],
             [
              0.7777777777777778,
              "#fb9f3a"
             ],
             [
              0.8888888888888888,
              "#fdca26"
             ],
             [
              1,
              "#f0f921"
             ]
            ],
            "type": "contour"
           }
          ],
          "contourcarpet": [
           {
            "colorbar": {
             "outlinewidth": 0,
             "ticks": ""
            },
            "type": "contourcarpet"
           }
          ],
          "heatmap": [
           {
            "colorbar": {
             "outlinewidth": 0,
             "ticks": ""
            },
            "colorscale": [
             [
              0,
              "#0d0887"
             ],
             [
              0.1111111111111111,
              "#46039f"
             ],
             [
              0.2222222222222222,
              "#7201a8"
             ],
             [
              0.3333333333333333,
              "#9c179e"
             ],
             [
              0.4444444444444444,
              "#bd3786"
             ],
             [
              0.5555555555555556,
              "#d8576b"
             ],
             [
              0.6666666666666666,
              "#ed7953"
             ],
             [
              0.7777777777777778,
              "#fb9f3a"
             ],
             [
              0.8888888888888888,
              "#fdca26"
             ],
             [
              1,
              "#f0f921"
             ]
            ],
            "type": "heatmap"
           }
          ],
          "heatmapgl": [
           {
            "colorbar": {
             "outlinewidth": 0,
             "ticks": ""
            },
            "colorscale": [
             [
              0,
              "#0d0887"
             ],
             [
              0.1111111111111111,
              "#46039f"
             ],
             [
              0.2222222222222222,
              "#7201a8"
             ],
             [
              0.3333333333333333,
              "#9c179e"
             ],
             [
              0.4444444444444444,
              "#bd3786"
             ],
             [
              0.5555555555555556,
              "#d8576b"
             ],
             [
              0.6666666666666666,
              "#ed7953"
             ],
             [
              0.7777777777777778,
              "#fb9f3a"
             ],
             [
              0.8888888888888888,
              "#fdca26"
             ],
             [
              1,
              "#f0f921"
             ]
            ],
            "type": "heatmapgl"
           }
          ],
          "histogram": [
           {
            "marker": {
             "colorbar": {
              "outlinewidth": 0,
              "ticks": ""
             }
            },
            "type": "histogram"
           }
          ],
          "histogram2d": [
           {
            "colorbar": {
             "outlinewidth": 0,
             "ticks": ""
            },
            "colorscale": [
             [
              0,
              "#0d0887"
             ],
             [
              0.1111111111111111,
              "#46039f"
             ],
             [
              0.2222222222222222,
              "#7201a8"
             ],
             [
              0.3333333333333333,
              "#9c179e"
             ],
             [
              0.4444444444444444,
              "#bd3786"
             ],
             [
              0.5555555555555556,
              "#d8576b"
             ],
             [
              0.6666666666666666,
              "#ed7953"
             ],
             [
              0.7777777777777778,
              "#fb9f3a"
             ],
             [
              0.8888888888888888,
              "#fdca26"
             ],
             [
              1,
              "#f0f921"
             ]
            ],
            "type": "histogram2d"
           }
          ],
          "histogram2dcontour": [
           {
            "colorbar": {
             "outlinewidth": 0,
             "ticks": ""
            },
            "colorscale": [
             [
              0,
              "#0d0887"
             ],
             [
              0.1111111111111111,
              "#46039f"
             ],
             [
              0.2222222222222222,
              "#7201a8"
             ],
             [
              0.3333333333333333,
              "#9c179e"
             ],
             [
              0.4444444444444444,
              "#bd3786"
             ],
             [
              0.5555555555555556,
              "#d8576b"
             ],
             [
              0.6666666666666666,
              "#ed7953"
             ],
             [
              0.7777777777777778,
              "#fb9f3a"
             ],
             [
              0.8888888888888888,
              "#fdca26"
             ],
             [
              1,
              "#f0f921"
             ]
            ],
            "type": "histogram2dcontour"
           }
          ],
          "mesh3d": [
           {
            "colorbar": {
             "outlinewidth": 0,
             "ticks": ""
            },
            "type": "mesh3d"
           }
          ],
          "parcoords": [
           {
            "line": {
             "colorbar": {
              "outlinewidth": 0,
              "ticks": ""
             }
            },
            "type": "parcoords"
           }
          ],
          "pie": [
           {
            "automargin": true,
            "type": "pie"
           }
          ],
          "scatter": [
           {
            "marker": {
             "colorbar": {
              "outlinewidth": 0,
              "ticks": ""
             }
            },
            "type": "scatter"
           }
          ],
          "scatter3d": [
           {
            "line": {
             "colorbar": {
              "outlinewidth": 0,
              "ticks": ""
             }
            },
            "marker": {
             "colorbar": {
              "outlinewidth": 0,
              "ticks": ""
             }
            },
            "type": "scatter3d"
           }
          ],
          "scattercarpet": [
           {
            "marker": {
             "colorbar": {
              "outlinewidth": 0,
              "ticks": ""
             }
            },
            "type": "scattercarpet"
           }
          ],
          "scattergeo": [
           {
            "marker": {
             "colorbar": {
              "outlinewidth": 0,
              "ticks": ""
             }
            },
            "type": "scattergeo"
           }
          ],
          "scattergl": [
           {
            "marker": {
             "colorbar": {
              "outlinewidth": 0,
              "ticks": ""
             }
            },
            "type": "scattergl"
           }
          ],
          "scattermapbox": [
           {
            "marker": {
             "colorbar": {
              "outlinewidth": 0,
              "ticks": ""
             }
            },
            "type": "scattermapbox"
           }
          ],
          "scatterpolar": [
           {
            "marker": {
             "colorbar": {
              "outlinewidth": 0,
              "ticks": ""
             }
            },
            "type": "scatterpolar"
           }
          ],
          "scatterpolargl": [
           {
            "marker": {
             "colorbar": {
              "outlinewidth": 0,
              "ticks": ""
             }
            },
            "type": "scatterpolargl"
           }
          ],
          "scatterternary": [
           {
            "marker": {
             "colorbar": {
              "outlinewidth": 0,
              "ticks": ""
             }
            },
            "type": "scatterternary"
           }
          ],
          "surface": [
           {
            "colorbar": {
             "outlinewidth": 0,
             "ticks": ""
            },
            "colorscale": [
             [
              0,
              "#0d0887"
             ],
             [
              0.1111111111111111,
              "#46039f"
             ],
             [
              0.2222222222222222,
              "#7201a8"
             ],
             [
              0.3333333333333333,
              "#9c179e"
             ],
             [
              0.4444444444444444,
              "#bd3786"
             ],
             [
              0.5555555555555556,
              "#d8576b"
             ],
             [
              0.6666666666666666,
              "#ed7953"
             ],
             [
              0.7777777777777778,
              "#fb9f3a"
             ],
             [
              0.8888888888888888,
              "#fdca26"
             ],
             [
              1,
              "#f0f921"
             ]
            ],
            "type": "surface"
           }
          ],
          "table": [
           {
            "cells": {
             "fill": {
              "color": "#EBF0F8"
             },
             "line": {
              "color": "white"
             }
            },
            "header": {
             "fill": {
              "color": "#C8D4E3"
             },
             "line": {
              "color": "white"
             }
            },
            "type": "table"
           }
          ]
         },
         "layout": {
          "annotationdefaults": {
           "arrowcolor": "#2a3f5f",
           "arrowhead": 0,
           "arrowwidth": 1
          },
          "autotypenumbers": "strict",
          "coloraxis": {
           "colorbar": {
            "outlinewidth": 0,
            "ticks": ""
           }
          },
          "colorscale": {
           "diverging": [
            [
             0,
             "#8e0152"
            ],
            [
             0.1,
             "#c51b7d"
            ],
            [
             0.2,
             "#de77ae"
            ],
            [
             0.3,
             "#f1b6da"
            ],
            [
             0.4,
             "#fde0ef"
            ],
            [
             0.5,
             "#f7f7f7"
            ],
            [
             0.6,
             "#e6f5d0"
            ],
            [
             0.7,
             "#b8e186"
            ],
            [
             0.8,
             "#7fbc41"
            ],
            [
             0.9,
             "#4d9221"
            ],
            [
             1,
             "#276419"
            ]
           ],
           "sequential": [
            [
             0,
             "#0d0887"
            ],
            [
             0.1111111111111111,
             "#46039f"
            ],
            [
             0.2222222222222222,
             "#7201a8"
            ],
            [
             0.3333333333333333,
             "#9c179e"
            ],
            [
             0.4444444444444444,
             "#bd3786"
            ],
            [
             0.5555555555555556,
             "#d8576b"
            ],
            [
             0.6666666666666666,
             "#ed7953"
            ],
            [
             0.7777777777777778,
             "#fb9f3a"
            ],
            [
             0.8888888888888888,
             "#fdca26"
            ],
            [
             1,
             "#f0f921"
            ]
           ],
           "sequentialminus": [
            [
             0,
             "#0d0887"
            ],
            [
             0.1111111111111111,
             "#46039f"
            ],
            [
             0.2222222222222222,
             "#7201a8"
            ],
            [
             0.3333333333333333,
             "#9c179e"
            ],
            [
             0.4444444444444444,
             "#bd3786"
            ],
            [
             0.5555555555555556,
             "#d8576b"
            ],
            [
             0.6666666666666666,
             "#ed7953"
            ],
            [
             0.7777777777777778,
             "#fb9f3a"
            ],
            [
             0.8888888888888888,
             "#fdca26"
            ],
            [
             1,
             "#f0f921"
            ]
           ]
          },
          "colorway": [
           "#636efa",
           "#EF553B",
           "#00cc96",
           "#ab63fa",
           "#FFA15A",
           "#19d3f3",
           "#FF6692",
           "#B6E880",
           "#FF97FF",
           "#FECB52"
          ],
          "font": {
           "color": "#2a3f5f"
          },
          "geo": {
           "bgcolor": "white",
           "lakecolor": "white",
           "landcolor": "#E5ECF6",
           "showlakes": true,
           "showland": true,
           "subunitcolor": "white"
          },
          "hoverlabel": {
           "align": "left"
          },
          "hovermode": "closest",
          "mapbox": {
           "style": "light"
          },
          "paper_bgcolor": "white",
          "plot_bgcolor": "#E5ECF6",
          "polar": {
           "angularaxis": {
            "gridcolor": "white",
            "linecolor": "white",
            "ticks": ""
           },
           "bgcolor": "#E5ECF6",
           "radialaxis": {
            "gridcolor": "white",
            "linecolor": "white",
            "ticks": ""
           }
          },
          "scene": {
           "xaxis": {
            "backgroundcolor": "#E5ECF6",
            "gridcolor": "white",
            "gridwidth": 2,
            "linecolor": "white",
            "showbackground": true,
            "ticks": "",
            "zerolinecolor": "white"
           },
           "yaxis": {
            "backgroundcolor": "#E5ECF6",
            "gridcolor": "white",
            "gridwidth": 2,
            "linecolor": "white",
            "showbackground": true,
            "ticks": "",
            "zerolinecolor": "white"
           },
           "zaxis": {
            "backgroundcolor": "#E5ECF6",
            "gridcolor": "white",
            "gridwidth": 2,
            "linecolor": "white",
            "showbackground": true,
            "ticks": "",
            "zerolinecolor": "white"
           }
          },
          "shapedefaults": {
           "line": {
            "color": "#2a3f5f"
           }
          },
          "ternary": {
           "aaxis": {
            "gridcolor": "white",
            "linecolor": "white",
            "ticks": ""
           },
           "baxis": {
            "gridcolor": "white",
            "linecolor": "white",
            "ticks": ""
           },
           "bgcolor": "#E5ECF6",
           "caxis": {
            "gridcolor": "white",
            "linecolor": "white",
            "ticks": ""
           }
          },
          "title": {
           "x": 0.05
          },
          "xaxis": {
           "automargin": true,
           "gridcolor": "white",
           "linecolor": "white",
           "ticks": "",
           "title": {
            "standoff": 15
           },
           "zerolinecolor": "white",
           "zerolinewidth": 2
          },
          "yaxis": {
           "automargin": true,
           "gridcolor": "white",
           "linecolor": "white",
           "ticks": "",
           "title": {
            "standoff": 15
           },
           "zerolinecolor": "white",
           "zerolinewidth": 2
          }
         }
        },
        "title": {
         "text": "Target3 Top 50 feature importance"
        },
        "width": 1250,
        "xaxis": {
         "anchor": "y",
         "domain": [
          0,
          1
         ],
         "title": {
          "text": "feature_importance"
         }
        },
        "yaxis": {
         "anchor": "x",
         "categoryarray": [
          "StandingsMeta_xWinLossPct",
          "StandingsMeta_nightLosses",
          "StandingsMeta_losses",
          "target1_202104_quantile25",
          "target1_202104_median",
          "PlayerStats_inheritedRunners_cumsum",
          "Players_LE_birthCountry",
          "PlayerTwitterFollowerAggregate_min",
          "StandingsMeta_divLosses",
          "target1_202104_prob",
          "target2_202104_quantile25",
          "target1_202104_min",
          "target2_202104_prob",
          "target1_202104_max",
          "PlayerTwitterFollowerAggregate_std",
          "StandingsMeta_runsScored",
          "target1_202104_std",
          "PlayerTwitterFollowerAggregate_median",
          "target2_202104_median",
          "target1_202104_quantile75",
          "PlayerTwitterFollowerAggregate_mean",
          "StandingsMeta_runsAllowed",
          "target2_202104_mean",
          "target3_202104_std",
          "target4_202104_max",
          "target4_202104_prob",
          "target3_202104_max",
          "target4_202104_mean",
          "target2_202104_std",
          "target3_202104_prob",
          "target2_202104_max",
          "target3_202104_median",
          "target4_202104_median",
          "target4_202104_std",
          "target1_202104_mean",
          "PlayerTwitterFollowerAggregate_max",
          "target3_202104_quantile25",
          "target4_202104_quantile25",
          "PlayerTwitterFollowerAggregate_quantile75",
          "target4_202104_quantile75",
          "PlayerTwitterFollowerAggregate_quantile25",
          "target2_202104_min",
          "target3_202104_min",
          "target2_202104_quantile75",
          "target3_202104_quantile75",
          "target3_202104_mean",
          "Rosters_LE_status",
          "Players_LE_playerid",
          "target4_202104_min",
          "Rosters_LE_teamId"
         ],
         "categoryorder": "array",
         "domain": [
          0,
          1
         ],
         "showgrid": true,
         "title": {
          "text": "feature"
         }
        }
       }
      }
     },
     "metadata": {}
    },
    {
     "output_type": "display_data",
     "data": {
      "application/vnd.plotly.v1+json": {
       "config": {
        "plotlyServerURL": "https://plot.ly"
       },
       "data": [
        {
         "alignmentgroup": "True",
         "hovertemplate": "feature_importance=%{x}<br>feature=%{y}<extra></extra>",
         "legendgroup": "",
         "marker": {
          "color": "#636efa"
         },
         "name": "",
         "notched": false,
         "offsetgroup": "",
         "orientation": "h",
         "showlegend": false,
         "type": "box",
         "x": [
          85320.40643982589,
          43290.39437484741,
          33469.18641281128,
          23444.328773498535,
          23780.91232395172,
          194389.2527475357,
          138600.66671320796,
          92985.39196610451,
          226073.17931723595,
          191346.07941436768,
          210065.93777370453,
          233629.42245292664,
          123416.76450425386,
          25842.98755943775,
          53830.629032969475,
          33306.50418186188,
          24877.055646896362,
          159674.25935697556,
          101728.82987189293,
          45771.75449466705,
          2519868.718603134,
          830750.6890296936,
          411573.6027023196,
          354667.73304504156,
          45649.705755233765,
          499624.6890808344,
          517854.91488677263,
          80175.12464904785,
          703062.5597438812,
          145428.5753635168,
          43704.05699920654,
          46393.0239982605,
          116915.94331741333,
          76178.65552520752,
          76359.74168777466,
          42503.62772369385,
          24616.635649085045,
          27223.46579322219,
          136491.29915378988,
          74166.99594932795,
          39015.86190748215,
          23634.19039684534,
          25325.855902969837,
          22921.79373049736,
          41642.61198616028,
          72596.2389345169,
          46056.29800219461,
          52175.97949433327,
          39776.78460073471,
          67634.43254679441
         ],
         "x0": " ",
         "xaxis": "x",
         "y": [
          "target1_202104_mean",
          "target1_202104_std",
          "target1_202104_max",
          "target1_202104_median",
          "target1_202104_prob",
          "target2_202104_mean",
          "target2_202104_std",
          "target2_202104_max",
          "target2_202104_min",
          "target2_202104_median",
          "target2_202104_quantile25",
          "target2_202104_quantile75",
          "target2_202104_prob",
          "target3_202104_mean",
          "target3_202104_std",
          "target3_202104_max",
          "target3_202104_quantile75",
          "target4_202104_mean",
          "target4_202104_std",
          "target4_202104_max",
          "target4_202104_min",
          "target4_202104_median",
          "target4_202104_quantile25",
          "target4_202104_quantile75",
          "target4_202104_prob",
          "Rosters_LE_teamId",
          "Rosters_LE_status",
          "Players_LE_primaryPositionCode",
          "Players_LE_playerid",
          "PlayerTwitterFollowerAggregate_mean",
          "PlayerTwitterFollowerAggregate_std",
          "PlayerTwitterFollowerAggregate_max",
          "PlayerTwitterFollowerAggregate_min",
          "PlayerTwitterFollowerAggregate_median",
          "PlayerTwitterFollowerAggregate_quantile25",
          "PlayerTwitterFollowerAggregate_quantile75",
          "StandingsMeta_wins",
          "StandingsMeta_losses",
          "StandingsMeta_runsAllowed",
          "StandingsMeta_runsScored",
          "StandingsMeta_awayLosses",
          "StandingsMeta_dayLosses",
          "StandingsMeta_nightLosses",
          "StandingsMeta_grassLosses",
          "StandingsMeta_divWins",
          "StandingsMeta_divLosses",
          "DatetimeEncoding_day2cos",
          "DatetimeEncoding_day2sin",
          "DatetimeEncoding_dow2cos",
          "DatetimeEncoding_dow2sin"
         ],
         "y0": " ",
         "yaxis": "y"
        }
       ],
       "layout": {
        "boxmode": "group",
        "height": 900,
        "legend": {
         "tracegroupgap": 0
        },
        "template": {
         "data": {
          "bar": [
           {
            "error_x": {
             "color": "#2a3f5f"
            },
            "error_y": {
             "color": "#2a3f5f"
            },
            "marker": {
             "line": {
              "color": "#E5ECF6",
              "width": 0.5
             }
            },
            "type": "bar"
           }
          ],
          "barpolar": [
           {
            "marker": {
             "line": {
              "color": "#E5ECF6",
              "width": 0.5
             }
            },
            "type": "barpolar"
           }
          ],
          "carpet": [
           {
            "aaxis": {
             "endlinecolor": "#2a3f5f",
             "gridcolor": "white",
             "linecolor": "white",
             "minorgridcolor": "white",
             "startlinecolor": "#2a3f5f"
            },
            "baxis": {
             "endlinecolor": "#2a3f5f",
             "gridcolor": "white",
             "linecolor": "white",
             "minorgridcolor": "white",
             "startlinecolor": "#2a3f5f"
            },
            "type": "carpet"
           }
          ],
          "choropleth": [
           {
            "colorbar": {
             "outlinewidth": 0,
             "ticks": ""
            },
            "type": "choropleth"
           }
          ],
          "contour": [
           {
            "colorbar": {
             "outlinewidth": 0,
             "ticks": ""
            },
            "colorscale": [
             [
              0,
              "#0d0887"
             ],
             [
              0.1111111111111111,
              "#46039f"
             ],
             [
              0.2222222222222222,
              "#7201a8"
             ],
             [
              0.3333333333333333,
              "#9c179e"
             ],
             [
              0.4444444444444444,
              "#bd3786"
             ],
             [
              0.5555555555555556,
              "#d8576b"
             ],
             [
              0.6666666666666666,
              "#ed7953"
             ],
             [
              0.7777777777777778,
              "#fb9f3a"
             ],
             [
              0.8888888888888888,
              "#fdca26"
             ],
             [
              1,
              "#f0f921"
             ]
            ],
            "type": "contour"
           }
          ],
          "contourcarpet": [
           {
            "colorbar": {
             "outlinewidth": 0,
             "ticks": ""
            },
            "type": "contourcarpet"
           }
          ],
          "heatmap": [
           {
            "colorbar": {
             "outlinewidth": 0,
             "ticks": ""
            },
            "colorscale": [
             [
              0,
              "#0d0887"
             ],
             [
              0.1111111111111111,
              "#46039f"
             ],
             [
              0.2222222222222222,
              "#7201a8"
             ],
             [
              0.3333333333333333,
              "#9c179e"
             ],
             [
              0.4444444444444444,
              "#bd3786"
             ],
             [
              0.5555555555555556,
              "#d8576b"
             ],
             [
              0.6666666666666666,
              "#ed7953"
             ],
             [
              0.7777777777777778,
              "#fb9f3a"
             ],
             [
              0.8888888888888888,
              "#fdca26"
             ],
             [
              1,
              "#f0f921"
             ]
            ],
            "type": "heatmap"
           }
          ],
          "heatmapgl": [
           {
            "colorbar": {
             "outlinewidth": 0,
             "ticks": ""
            },
            "colorscale": [
             [
              0,
              "#0d0887"
             ],
             [
              0.1111111111111111,
              "#46039f"
             ],
             [
              0.2222222222222222,
              "#7201a8"
             ],
             [
              0.3333333333333333,
              "#9c179e"
             ],
             [
              0.4444444444444444,
              "#bd3786"
             ],
             [
              0.5555555555555556,
              "#d8576b"
             ],
             [
              0.6666666666666666,
              "#ed7953"
             ],
             [
              0.7777777777777778,
              "#fb9f3a"
             ],
             [
              0.8888888888888888,
              "#fdca26"
             ],
             [
              1,
              "#f0f921"
             ]
            ],
            "type": "heatmapgl"
           }
          ],
          "histogram": [
           {
            "marker": {
             "colorbar": {
              "outlinewidth": 0,
              "ticks": ""
             }
            },
            "type": "histogram"
           }
          ],
          "histogram2d": [
           {
            "colorbar": {
             "outlinewidth": 0,
             "ticks": ""
            },
            "colorscale": [
             [
              0,
              "#0d0887"
             ],
             [
              0.1111111111111111,
              "#46039f"
             ],
             [
              0.2222222222222222,
              "#7201a8"
             ],
             [
              0.3333333333333333,
              "#9c179e"
             ],
             [
              0.4444444444444444,
              "#bd3786"
             ],
             [
              0.5555555555555556,
              "#d8576b"
             ],
             [
              0.6666666666666666,
              "#ed7953"
             ],
             [
              0.7777777777777778,
              "#fb9f3a"
             ],
             [
              0.8888888888888888,
              "#fdca26"
             ],
             [
              1,
              "#f0f921"
             ]
            ],
            "type": "histogram2d"
           }
          ],
          "histogram2dcontour": [
           {
            "colorbar": {
             "outlinewidth": 0,
             "ticks": ""
            },
            "colorscale": [
             [
              0,
              "#0d0887"
             ],
             [
              0.1111111111111111,
              "#46039f"
             ],
             [
              0.2222222222222222,
              "#7201a8"
             ],
             [
              0.3333333333333333,
              "#9c179e"
             ],
             [
              0.4444444444444444,
              "#bd3786"
             ],
             [
              0.5555555555555556,
              "#d8576b"
             ],
             [
              0.6666666666666666,
              "#ed7953"
             ],
             [
              0.7777777777777778,
              "#fb9f3a"
             ],
             [
              0.8888888888888888,
              "#fdca26"
             ],
             [
              1,
              "#f0f921"
             ]
            ],
            "type": "histogram2dcontour"
           }
          ],
          "mesh3d": [
           {
            "colorbar": {
             "outlinewidth": 0,
             "ticks": ""
            },
            "type": "mesh3d"
           }
          ],
          "parcoords": [
           {
            "line": {
             "colorbar": {
              "outlinewidth": 0,
              "ticks": ""
             }
            },
            "type": "parcoords"
           }
          ],
          "pie": [
           {
            "automargin": true,
            "type": "pie"
           }
          ],
          "scatter": [
           {
            "marker": {
             "colorbar": {
              "outlinewidth": 0,
              "ticks": ""
             }
            },
            "type": "scatter"
           }
          ],
          "scatter3d": [
           {
            "line": {
             "colorbar": {
              "outlinewidth": 0,
              "ticks": ""
             }
            },
            "marker": {
             "colorbar": {
              "outlinewidth": 0,
              "ticks": ""
             }
            },
            "type": "scatter3d"
           }
          ],
          "scattercarpet": [
           {
            "marker": {
             "colorbar": {
              "outlinewidth": 0,
              "ticks": ""
             }
            },
            "type": "scattercarpet"
           }
          ],
          "scattergeo": [
           {
            "marker": {
             "colorbar": {
              "outlinewidth": 0,
              "ticks": ""
             }
            },
            "type": "scattergeo"
           }
          ],
          "scattergl": [
           {
            "marker": {
             "colorbar": {
              "outlinewidth": 0,
              "ticks": ""
             }
            },
            "type": "scattergl"
           }
          ],
          "scattermapbox": [
           {
            "marker": {
             "colorbar": {
              "outlinewidth": 0,
              "ticks": ""
             }
            },
            "type": "scattermapbox"
           }
          ],
          "scatterpolar": [
           {
            "marker": {
             "colorbar": {
              "outlinewidth": 0,
              "ticks": ""
             }
            },
            "type": "scatterpolar"
           }
          ],
          "scatterpolargl": [
           {
            "marker": {
             "colorbar": {
              "outlinewidth": 0,
              "ticks": ""
             }
            },
            "type": "scatterpolargl"
           }
          ],
          "scatterternary": [
           {
            "marker": {
             "colorbar": {
              "outlinewidth": 0,
              "ticks": ""
             }
            },
            "type": "scatterternary"
           }
          ],
          "surface": [
           {
            "colorbar": {
             "outlinewidth": 0,
             "ticks": ""
            },
            "colorscale": [
             [
              0,
              "#0d0887"
             ],
             [
              0.1111111111111111,
              "#46039f"
             ],
             [
              0.2222222222222222,
              "#7201a8"
             ],
             [
              0.3333333333333333,
              "#9c179e"
             ],
             [
              0.4444444444444444,
              "#bd3786"
             ],
             [
              0.5555555555555556,
              "#d8576b"
             ],
             [
              0.6666666666666666,
              "#ed7953"
             ],
             [
              0.7777777777777778,
              "#fb9f3a"
             ],
             [
              0.8888888888888888,
              "#fdca26"
             ],
             [
              1,
              "#f0f921"
             ]
            ],
            "type": "surface"
           }
          ],
          "table": [
           {
            "cells": {
             "fill": {
              "color": "#EBF0F8"
             },
             "line": {
              "color": "white"
             }
            },
            "header": {
             "fill": {
              "color": "#C8D4E3"
             },
             "line": {
              "color": "white"
             }
            },
            "type": "table"
           }
          ]
         },
         "layout": {
          "annotationdefaults": {
           "arrowcolor": "#2a3f5f",
           "arrowhead": 0,
           "arrowwidth": 1
          },
          "autotypenumbers": "strict",
          "coloraxis": {
           "colorbar": {
            "outlinewidth": 0,
            "ticks": ""
           }
          },
          "colorscale": {
           "diverging": [
            [
             0,
             "#8e0152"
            ],
            [
             0.1,
             "#c51b7d"
            ],
            [
             0.2,
             "#de77ae"
            ],
            [
             0.3,
             "#f1b6da"
            ],
            [
             0.4,
             "#fde0ef"
            ],
            [
             0.5,
             "#f7f7f7"
            ],
            [
             0.6,
             "#e6f5d0"
            ],
            [
             0.7,
             "#b8e186"
            ],
            [
             0.8,
             "#7fbc41"
            ],
            [
             0.9,
             "#4d9221"
            ],
            [
             1,
             "#276419"
            ]
           ],
           "sequential": [
            [
             0,
             "#0d0887"
            ],
            [
             0.1111111111111111,
             "#46039f"
            ],
            [
             0.2222222222222222,
             "#7201a8"
            ],
            [
             0.3333333333333333,
             "#9c179e"
            ],
            [
             0.4444444444444444,
             "#bd3786"
            ],
            [
             0.5555555555555556,
             "#d8576b"
            ],
            [
             0.6666666666666666,
             "#ed7953"
            ],
            [
             0.7777777777777778,
             "#fb9f3a"
            ],
            [
             0.8888888888888888,
             "#fdca26"
            ],
            [
             1,
             "#f0f921"
            ]
           ],
           "sequentialminus": [
            [
             0,
             "#0d0887"
            ],
            [
             0.1111111111111111,
             "#46039f"
            ],
            [
             0.2222222222222222,
             "#7201a8"
            ],
            [
             0.3333333333333333,
             "#9c179e"
            ],
            [
             0.4444444444444444,
             "#bd3786"
            ],
            [
             0.5555555555555556,
             "#d8576b"
            ],
            [
             0.6666666666666666,
             "#ed7953"
            ],
            [
             0.7777777777777778,
             "#fb9f3a"
            ],
            [
             0.8888888888888888,
             "#fdca26"
            ],
            [
             1,
             "#f0f921"
            ]
           ]
          },
          "colorway": [
           "#636efa",
           "#EF553B",
           "#00cc96",
           "#ab63fa",
           "#FFA15A",
           "#19d3f3",
           "#FF6692",
           "#B6E880",
           "#FF97FF",
           "#FECB52"
          ],
          "font": {
           "color": "#2a3f5f"
          },
          "geo": {
           "bgcolor": "white",
           "lakecolor": "white",
           "landcolor": "#E5ECF6",
           "showlakes": true,
           "showland": true,
           "subunitcolor": "white"
          },
          "hoverlabel": {
           "align": "left"
          },
          "hovermode": "closest",
          "mapbox": {
           "style": "light"
          },
          "paper_bgcolor": "white",
          "plot_bgcolor": "#E5ECF6",
          "polar": {
           "angularaxis": {
            "gridcolor": "white",
            "linecolor": "white",
            "ticks": ""
           },
           "bgcolor": "#E5ECF6",
           "radialaxis": {
            "gridcolor": "white",
            "linecolor": "white",
            "ticks": ""
           }
          },
          "scene": {
           "xaxis": {
            "backgroundcolor": "#E5ECF6",
            "gridcolor": "white",
            "gridwidth": 2,
            "linecolor": "white",
            "showbackground": true,
            "ticks": "",
            "zerolinecolor": "white"
           },
           "yaxis": {
            "backgroundcolor": "#E5ECF6",
            "gridcolor": "white",
            "gridwidth": 2,
            "linecolor": "white",
            "showbackground": true,
            "ticks": "",
            "zerolinecolor": "white"
           },
           "zaxis": {
            "backgroundcolor": "#E5ECF6",
            "gridcolor": "white",
            "gridwidth": 2,
            "linecolor": "white",
            "showbackground": true,
            "ticks": "",
            "zerolinecolor": "white"
           }
          },
          "shapedefaults": {
           "line": {
            "color": "#2a3f5f"
           }
          },
          "ternary": {
           "aaxis": {
            "gridcolor": "white",
            "linecolor": "white",
            "ticks": ""
           },
           "baxis": {
            "gridcolor": "white",
            "linecolor": "white",
            "ticks": ""
           },
           "bgcolor": "#E5ECF6",
           "caxis": {
            "gridcolor": "white",
            "linecolor": "white",
            "ticks": ""
           }
          },
          "title": {
           "x": 0.05
          },
          "xaxis": {
           "automargin": true,
           "gridcolor": "white",
           "linecolor": "white",
           "ticks": "",
           "title": {
            "standoff": 15
           },
           "zerolinecolor": "white",
           "zerolinewidth": 2
          },
          "yaxis": {
           "automargin": true,
           "gridcolor": "white",
           "linecolor": "white",
           "ticks": "",
           "title": {
            "standoff": 15
           },
           "zerolinecolor": "white",
           "zerolinewidth": 2
          }
         }
        },
        "title": {
         "text": "Target4 Top 50 feature importance"
        },
        "width": 1250,
        "xaxis": {
         "anchor": "y",
         "domain": [
          0,
          1
         ],
         "title": {
          "text": "feature_importance"
         }
        },
        "yaxis": {
         "anchor": "x",
         "categoryarray": [
          "StandingsMeta_grassLosses",
          "target1_202104_median",
          "StandingsMeta_dayLosses",
          "target1_202104_prob",
          "StandingsMeta_wins",
          "target3_202104_quantile75",
          "StandingsMeta_nightLosses",
          "target3_202104_mean",
          "StandingsMeta_losses",
          "target3_202104_max",
          "target1_202104_max",
          "StandingsMeta_awayLosses",
          "DatetimeEncoding_dow2cos",
          "StandingsMeta_divWins",
          "PlayerTwitterFollowerAggregate_quantile75",
          "target1_202104_std",
          "PlayerTwitterFollowerAggregate_std",
          "target4_202104_prob",
          "target4_202104_max",
          "DatetimeEncoding_day2cos",
          "PlayerTwitterFollowerAggregate_max",
          "DatetimeEncoding_day2sin",
          "target3_202104_std",
          "DatetimeEncoding_dow2sin",
          "StandingsMeta_divLosses",
          "StandingsMeta_runsScored",
          "PlayerTwitterFollowerAggregate_median",
          "PlayerTwitterFollowerAggregate_quantile25",
          "Players_LE_primaryPositionCode",
          "target1_202104_mean",
          "target2_202104_max",
          "target4_202104_std",
          "PlayerTwitterFollowerAggregate_min",
          "target2_202104_prob",
          "StandingsMeta_runsAllowed",
          "target2_202104_std",
          "PlayerTwitterFollowerAggregate_mean",
          "target4_202104_mean",
          "target2_202104_median",
          "target2_202104_mean",
          "target2_202104_quantile25",
          "target2_202104_min",
          "target2_202104_quantile75",
          "target4_202104_quantile75",
          "target4_202104_quantile25",
          "Rosters_LE_teamId",
          "Rosters_LE_status",
          "Players_LE_playerid",
          "target4_202104_median",
          "target4_202104_min"
         ],
         "categoryorder": "array",
         "domain": [
          0,
          1
         ],
         "showgrid": true,
         "title": {
          "text": "feature"
         }
        }
       }
      }
     },
     "metadata": {}
    }
   ],
   "metadata": {}
  },
  {
   "cell_type": "code",
   "execution_count": 19,
   "source": [
    "# for target, model_tmps in zip(CFG.TARGETS, models):\n",
    "#     for i, model_tmp in enumerate(model_tmps):\n",
    "#         model_tmp.save_model(f\"{CFG.MODEL_PATH}/lgb_{target}_{i}.txt\")"
   ],
   "outputs": [],
   "metadata": {}
  },
  {
   "cell_type": "markdown",
   "source": [
    "## Inference"
   ],
   "metadata": {}
  },
  {
   "cell_type": "code",
   "execution_count": 13,
   "source": [
    "def update_dataset(input_df: pd.DataFrame, sample_prediction_df: pd.DataFrame):\n",
    "    '''datasetの更新\n",
    "    '''\n",
    "    # columnがNaNでなければ分岐処理が実行される(pd.isnaとかでも代用可)\n",
    "    # NaN == NaNはFalseになる\n",
    "    ####################\n",
    "    # rosters #\n",
    "    ####################\n",
    "    if input_df[\"rosters\"].iloc[0] == input_df[\"rosters\"].iloc[0]:\n",
    "        test_rosters = pd.read_json(input_df[\"rosters\"].iloc[0])\n",
    "    else:\n",
    "        test_rosters = sample_prediction_df[[\"playerId\"]].copy()\n",
    "        for col in mlb_train_ds.train_rosters.columns:\n",
    "            if col == \"playerId\": continue\n",
    "            test_rosters[col] = np.nan\n",
    "\n",
    "    test_rosters[\"date\"] = input_df.iloc[0][\"date\"]\n",
    "    if input_df.iloc[0][\"date\"] > 20210430:\n",
    "        mlb_train_ds.train_rosters = reduce_mem_usage(pd.concat([mlb_train_ds.train_rosters, test_rosters], axis=0, ignore_index=True))\n",
    "    ####################\n",
    "    # playerBoxScores #\n",
    "    ####################\n",
    "    if input_df[\"playerBoxScores\"].iloc[0] == input_df[\"playerBoxScores\"].iloc[0]:\n",
    "        test_scores = pd.read_json(input_df[\"playerBoxScores\"].iloc[0])\n",
    "    else:\n",
    "        test_scores = sample_prediction_df[[\"playerId\"]].copy()\n",
    "        for col in mlb_train_ds.train_scores.columns:\n",
    "            if col == \"playerId\": continue\n",
    "            test_scores[col] = np.nan\n",
    "    \n",
    "    test_scores[\"date\"] = input_df.iloc[0][\"date\"]\n",
    "    if input_df.iloc[0][\"date\"] > 20210430:\n",
    "        mlb_train_ds.train_scores = reduce_mem_usage(pd.concat([mlb_train_ds.train_scores, test_scores], axis=0, ignore_index=True))\n",
    "    ####################\n",
    "    # teamBoxScores #\n",
    "    ####################\n",
    "    if input_df[\"teamBoxScores\"].iloc[0] == input_df[\"teamBoxScores\"].iloc[0]:\n",
    "        test_teamBoxScores = pd.read_json(input_df[\"teamBoxScores\"].iloc[0])\n",
    "    else:\n",
    "        cols = mlb_train_ds.train_tbs.drop(columns=\"date\", axis=1).columns.tolist()\n",
    "        test_teamBoxScores = pd.DataFrame(columns=cols)\n",
    "        test_teamBoxScores[\"teamId\"] = mlb_train_ds.train_tbs.teamId.unique()\n",
    "\n",
    "    test_teamBoxScores[\"date\"] = input_df.iloc[0][\"date\"]\n",
    "    if input_df.iloc[0][\"date\"] > 20210430:\n",
    "        mlb_train_ds.train_tbs = reduce_mem_usage(pd.concat([mlb_train_ds.train_tbs, test_teamBoxScores], axis=0, ignore_index=True))\n",
    "    ####################\n",
    "    # games #\n",
    "    ####################\n",
    "    if input_df[\"games\"].iloc[0] == input_df[\"games\"].iloc[0]:\n",
    "        test_games = pd.read_json(input_df[\"games\"].iloc[0])\n",
    "    else:\n",
    "        cols = mlb_train_ds.train_games.drop(columns=\"date\", axis=1).columns.tolist()\n",
    "        test_games = pd.DataFrame(columns=cols)\n",
    "\n",
    "    test_games[\"date\"] = input_df.iloc[0][\"date\"]\n",
    "    if input_df.iloc[0][\"date\"] > 20210430:\n",
    "        mlb_train_ds.train_games = reduce_mem_usage(pd.concat([mlb_train_ds.train_games, test_games], axis=0, ignore_index=True))\n",
    "    ####################\n",
    "    # staindings #\n",
    "    ####################\n",
    "    if input_df[\"standings\"].iloc[0] == input_df[\"standings\"].iloc[0]:\n",
    "        test_standings = pd.read_json(input_df[\"standings\"].iloc[0])\n",
    "    else:\n",
    "        cols = mlb_train_ds.train_standings.drop(columns=\"date\", axis=1).columns.tolist()\n",
    "        test_standings = pd.DataFrame(columns=cols)\n",
    "    \n",
    "    test_standings[\"date\"] = input_df.iloc[0][\"date\"]\n",
    "    if input_df.iloc[0][\"date\"] > 20210430:\n",
    "        mlb_train_ds.train_standings = reduce_mem_usage(pd.concat([mlb_train_ds.train_standings, test_standings], axis=0, ignore_index=True))\n",
    "    ####################\n",
    "    # awards #\n",
    "    ####################\n",
    "    if input_df[\"awards\"].iloc[0] == input_df[\"awards\"].iloc[0]:\n",
    "        test_awards = pd.read_json(input_df[\"awards\"].iloc[0])\n",
    "    else:\n",
    "        cols = mlb_train_ds.train_awards.drop(columns=\"date\", axis=1).columns.tolist()\n",
    "        test_awards = pd.DataFrame(columns=cols)\n",
    "    \n",
    "    test_awards[\"date\"] = input_df.iloc[0][\"date\"]\n",
    "    if input_df.iloc[0][\"date\"] > 20210430:\n",
    "        mlb_train_ds.train_awards = reduce_mem_usage(pd.concat([mlb_train_ds.train_awards, test_awards], axis=0, ignore_index=True))"
   ],
   "outputs": [],
   "metadata": {}
  },
  {
   "cell_type": "code",
   "execution_count": 14,
   "source": [
    "# models = []\n",
    "# for target in CFG.TARGETS:\n",
    "#     tmp = [lgb.Booster(model_file=f\"{CFG.MODEL_PATH}/lgb_{target}_{i}.txt\") for i in range(len(CFG.SEEDS))]\n",
    "#     models.append(tmp)"
   ],
   "outputs": [],
   "metadata": {}
  },
  {
   "cell_type": "code",
   "execution_count": 15,
   "source": [
    "# env = mlb.make_env()\n",
    "# iter_test = env.iter_test()\n",
    "\n",
    "# for (test_df, sample_prediction_df) in iter_test:\n",
    "#     sample_prediction_df = sample_prediction_df.reset_index(drop=True)\n",
    "#     # create dataset\n",
    "#     test_df = test_df.reset_index()\n",
    "#     test_df = test_df.rename(columns={\"index\": \"date\"})\n",
    "#     sample_prediction_df[\"date\"] = test_df.iloc[0][\"date\"]\n",
    "#     sample_prediction_df[\"playerId\"] = sample_prediction_df[\"date_playerId\"].map(lambda x: int(x.split(\"_\")[1]))\n",
    "#     update_dataset(test_df, sample_prediction_df)\n",
    "#     # create features\n",
    "#     test_feat_df = create_test_feature(sample_prediction_df, update_blocks, non_update_blocks)\n",
    "#     X_test = test_feat_df.values\n",
    "#     # prediction\n",
    "#     for target, model in zip(CFG.TARGETS, models):\n",
    "#         pred = np.mean([model_.predict(X_test, num_iteration=model_.best_iteration) for model_ in model], axis=0)\n",
    "#         sample_prediction_df[target] = np.clip(pred, 0, 100)\n",
    "\n",
    "#     sample_prediction_df = sample_prediction_df.drop(columns=[\"playerId\", \"date\"], axis=1)\n",
    "\n",
    "#     env.predict(sample_prediction_df)"
   ],
   "outputs": [],
   "metadata": {}
  },
  {
   "cell_type": "code",
   "execution_count": 16,
   "source": [
    "# Local inference check\n",
    "# test_df = mlb_train_ds.example_test.query(\"date <= 20210426\").copy()\n",
    "# sample_prediction_df = mlb_train_ds.sample_submission.query(\"date <= 20210426\").copy()\n",
    "# sample_prediction_df[\"playerId\"] = sample_prediction_df[\"date_playerId\"].map(lambda x: int(x.split(\"_\")[1]))"
   ],
   "outputs": [],
   "metadata": {}
  },
  {
   "cell_type": "code",
   "execution_count": 17,
   "source": [
    "class Environment:\n",
    "    def __init__(self,\n",
    "                 data_dir: str,\n",
    "                 eval_start_day: int,\n",
    "                 eval_end_day: Optional[int],\n",
    "                 use_updated: bool,\n",
    "                 multiple_days_per_iter: bool):\n",
    "        warnings.warn('this is mock module for mlb')\n",
    "\n",
    "        postfix = '_updated' if use_updated else ''\n",
    "        \n",
    "        # recommend to replace this with pickle, feather etc to speedup preparing data\n",
    "        df_train = pd.read_csv(os.path.join(data_dir, f'train{postfix}.csv'))\n",
    "\n",
    "        players = pd.read_csv(os.path.join(data_dir, 'players.csv'))\n",
    "\n",
    "        self.players = players[players['playerForTestSetAndFuturePreds'] == True]['playerId'].astype(str)\n",
    "        if eval_end_day is not None:\n",
    "            self.df_train = df_train.set_index('date').loc[eval_start_day:eval_end_day]\n",
    "        else:\n",
    "            self.df_train = df_train.set_index('date').loc[eval_start_day:]\n",
    "        self.date = self.df_train.index.values\n",
    "        self.n_rows = len(self.df_train)\n",
    "        self.multiple_days_per_iter = multiple_days_per_iter\n",
    "\n",
    "        assert self.n_rows > 0, 'no data to emulate'\n",
    "\n",
    "        self.prediction_df = pd.DataFrame()\n",
    "\n",
    "    def predict(self, df: pd.DataFrame) -> None:\n",
    "        # if you want to emulate public LB, store your prediction here and calculate MAE\n",
    "        self.prediction_df = pd.concat([self.prediction_df, df], axis=0).reset_index(drop=True)\n",
    "\n",
    "    def iter_test(self) -> Tuple[pd.DataFrame, pd.DataFrame]:\n",
    "        if self.multiple_days_per_iter:\n",
    "            for i in range(self.n_rows // 2):\n",
    "                date1 = self.date[2 * i]\n",
    "                date2 = self.date[2 * i + 1]\n",
    "                sample_sub1 = self._make_sample_sub(date1)\n",
    "                sample_sub2 = self._make_sample_sub(date2)\n",
    "                sample_sub = pd.concat([sample_sub1, sample_sub2]).reset_index(drop=True)\n",
    "                df = self.df_train.loc[date1:date2]\n",
    "\n",
    "                yield df, sample_sub.set_index('date')\n",
    "        else:\n",
    "            for i in range(self.n_rows):\n",
    "                date = self.date[i]\n",
    "                sample_sub = self._make_sample_sub(date)\n",
    "                df = self.df_train.loc[date:date]\n",
    "\n",
    "                yield df, sample_sub.set_index('date')\n",
    "\n",
    "    def _make_sample_sub(self, date: int) -> pd.DataFrame:\n",
    "        next_day = (pd.to_datetime(date, format='%Y%m%d') + pd.to_timedelta(1, 'd')).strftime('%Y%m%d')\n",
    "        sample_sub = pd.DataFrame()\n",
    "        sample_sub['date_playerId'] = next_day + '_' + self.players\n",
    "        sample_sub['target1'] = 0\n",
    "        sample_sub['target2'] = 0\n",
    "        sample_sub['target3'] = 0\n",
    "        sample_sub['target4'] = 0\n",
    "        sample_sub['date'] = date\n",
    "        return sample_sub\n",
    "\n",
    "\n",
    "class MLBEmulator:\n",
    "    def __init__(self,\n",
    "                 data_dir: str = '../input/mlb-player-digital-engagement-forecasting',\n",
    "                 eval_start_day: int = 20210401,\n",
    "                 eval_end_day: Optional[int] = 20210430,\n",
    "                 use_updated: bool = True,\n",
    "                 multiple_days_per_iter: bool = False):\n",
    "        self.data_dir = data_dir\n",
    "        self.eval_start_day = eval_start_day\n",
    "        self.eval_end_day = eval_end_day\n",
    "        self.use_updated = use_updated\n",
    "        self.multiple_days_per_iter = multiple_days_per_iter\n",
    "\n",
    "    def make_env(self) -> Environment:\n",
    "        return Environment(self.data_dir,\n",
    "                           self.eval_start_day,\n",
    "                           self.eval_end_day,\n",
    "                           self.use_updated,\n",
    "                           self.multiple_days_per_iter)\n",
    "\n",
    "\n",
    "emulation_mode = True\n",
    "\n",
    "if emulation_mode:\n",
    "    mlb = MLBEmulator(eval_start_day=20210501, eval_end_day=20210531)\n",
    "else:\n",
    "    import mlb\n",
    "\n",
    "env = mlb.make_env()\n",
    "iter_test = env.iter_test()\n",
    "\n",
    "\n",
    "for (test_df, sample_prediction_df) in iter_test:\n",
    "    sample_prediction_df = sample_prediction_df.reset_index(drop=True)\n",
    "    # # create dataset\n",
    "    test_df = test_df.reset_index()\n",
    "    test_df = test_df.rename(columns={\"index\": \"date\"})\n",
    "    sample_prediction_df[\"date\"] = test_df.iloc[0][\"date\"]\n",
    "    sample_prediction_df[\"playerId\"] = sample_prediction_df[\"date_playerId\"].map(lambda x: int(x.split(\"_\")[1]))\n",
    "    # update_dataset(test_df, sample_prediction_df)\n",
    "    # # create features\n",
    "    test_feat_df = create_test_feature(sample_prediction_df, update_blocks, non_update_blocks)\n",
    "    X_test = test_feat_df.values\n",
    "    # prediction\n",
    "    for target, model in zip(CFG.TARGETS, models):\n",
    "        pred = np.mean([model_.predict(X_test, num_iteration=model_.best_iteration) for model_ in model], axis=0)\n",
    "        sample_prediction_df[target] = np.clip(pred, 0, 100)\n",
    "\n",
    "    sample_prediction_df = sample_prediction_df.drop(columns=[\"playerId\", \"date\"], axis=1)\n",
    "\n",
    "    env.predict(sample_prediction_df)"
   ],
   "outputs": [
    {
     "output_type": "stream",
     "name": "stderr",
     "text": [
      "<ipython-input-17-663e7f2ea4c8>:8: UserWarning:\n",
      "\n",
      "this is mock module for mlb\n",
      "\n"
     ]
    },
    {
     "output_type": "stream",
     "name": "stdout",
     "text": [
      "[2021-07-25 16:34:24,705] [INFO] [<<__main__.TargetAggregateBlock object at 0x10ebc4880>_transform> start]\n",
      "[2021-07-25 16:34:24,716] [INFO] [<<__main__.TargetAggregateBlock object at 0x10ebc4880>_transform> done in 0.01 s]\n",
      "[2021-07-25 16:34:24,718] [INFO] [<<__main__.RostersLabelEncodingBlock object at 0x1db78d5e0>_transform> start]\n",
      "[2021-07-25 16:34:25,271] [INFO] [<<__main__.RostersLabelEncodingBlock object at 0x1db78d5e0>_transform> done in 0.55 s]\n",
      "[2021-07-25 16:34:25,275] [INFO] [<<__main__.PlayersLabelEncodingBlock object at 0x1db78d640>_transform> start]\n",
      "[2021-07-25 16:34:25,280] [INFO] [<<__main__.PlayersLabelEncodingBlock object at 0x1db78d640>_transform> done in 0.01 s]\n",
      "[2021-07-25 16:34:25,285] [INFO] [<<__main__.PlayerStatsBlock object at 0x10ebc4640>_transform> start]\n",
      "[2021-07-25 16:34:29,178] [INFO] [<<__main__.PlayerStatsBlock object at 0x10ebc4640>_transform> done in 3.89 s]\n",
      "[2021-07-25 16:34:29,184] [INFO] [<<__main__.GamesCountBlock object at 0x1db78d070>_transform> start]\n",
      "[2021-07-25 16:34:29,551] [INFO] [<<__main__.GamesCountBlock object at 0x1db78d070>_transform> done in 0.37 s]\n",
      "[2021-07-25 16:34:29,559] [INFO] [<<__main__.PlayerTwitterFollowerAggregateBlock object at 0x10ec4c2e0>_transform> start]\n",
      "[2021-07-25 16:34:29,563] [INFO] [<<__main__.PlayerTwitterFollowerAggregateBlock object at 0x10ec4c2e0>_transform> done in 0.00 s]\n",
      "[2021-07-25 16:34:29,571] [INFO] [<<__main__.StandingsMetaBlock object at 0x10ec4c790>_transform> start]\n",
      "[2021-07-25 16:34:32,242] [INFO] [<<__main__.StandingsMetaBlock object at 0x10ec4c790>_transform> done in 2.67 s]\n",
      "[2021-07-25 16:34:32,250] [INFO] [<<__main__.Datetime2trigonometricEncodingBlock object at 0x10ec4ce20>_transform> start]\n",
      "[2021-07-25 16:34:32,266] [INFO] [<<__main__.Datetime2trigonometricEncodingBlock object at 0x10ec4ce20>_transform> done in 0.02 s]\n",
      "[2021-07-25 16:34:32,341] [INFO] [<<__main__.TargetAggregateBlock object at 0x10ebc4880>_transform> start]\n",
      "[2021-07-25 16:34:32,354] [INFO] [<<__main__.TargetAggregateBlock object at 0x10ebc4880>_transform> done in 0.01 s]\n",
      "[2021-07-25 16:34:32,358] [INFO] [<<__main__.RostersLabelEncodingBlock object at 0x1db78d5e0>_transform> start]\n",
      "[2021-07-25 16:34:32,750] [INFO] [<<__main__.RostersLabelEncodingBlock object at 0x1db78d5e0>_transform> done in 0.39 s]\n",
      "[2021-07-25 16:34:32,755] [INFO] [<<__main__.PlayersLabelEncodingBlock object at 0x1db78d640>_transform> start]\n",
      "[2021-07-25 16:34:32,760] [INFO] [<<__main__.PlayersLabelEncodingBlock object at 0x1db78d640>_transform> done in 0.01 s]\n",
      "[2021-07-25 16:34:32,765] [INFO] [<<__main__.PlayerStatsBlock object at 0x10ebc4640>_transform> start]\n",
      "[2021-07-25 16:34:35,874] [INFO] [<<__main__.PlayerStatsBlock object at 0x10ebc4640>_transform> done in 3.11 s]\n",
      "[2021-07-25 16:34:35,885] [INFO] [<<__main__.GamesCountBlock object at 0x1db78d070>_transform> start]\n",
      "[2021-07-25 16:34:36,216] [INFO] [<<__main__.GamesCountBlock object at 0x1db78d070>_transform> done in 0.33 s]\n",
      "[2021-07-25 16:34:36,224] [INFO] [<<__main__.PlayerTwitterFollowerAggregateBlock object at 0x10ec4c2e0>_transform> start]\n",
      "[2021-07-25 16:34:36,229] [INFO] [<<__main__.PlayerTwitterFollowerAggregateBlock object at 0x10ec4c2e0>_transform> done in 0.01 s]\n",
      "[2021-07-25 16:34:36,235] [INFO] [<<__main__.StandingsMetaBlock object at 0x10ec4c790>_transform> start]\n",
      "[2021-07-25 16:34:37,979] [INFO] [<<__main__.StandingsMetaBlock object at 0x10ec4c790>_transform> done in 1.74 s]\n",
      "[2021-07-25 16:34:37,988] [INFO] [<<__main__.Datetime2trigonometricEncodingBlock object at 0x10ec4ce20>_transform> start]\n",
      "[2021-07-25 16:34:38,006] [INFO] [<<__main__.Datetime2trigonometricEncodingBlock object at 0x10ec4ce20>_transform> done in 0.02 s]\n",
      "[2021-07-25 16:34:38,051] [INFO] [<<__main__.TargetAggregateBlock object at 0x10ebc4880>_transform> start]\n",
      "[2021-07-25 16:34:38,063] [INFO] [<<__main__.TargetAggregateBlock object at 0x10ebc4880>_transform> done in 0.01 s]\n",
      "[2021-07-25 16:34:38,067] [INFO] [<<__main__.RostersLabelEncodingBlock object at 0x1db78d5e0>_transform> start]\n",
      "[2021-07-25 16:34:38,457] [INFO] [<<__main__.RostersLabelEncodingBlock object at 0x1db78d5e0>_transform> done in 0.39 s]\n",
      "[2021-07-25 16:34:38,462] [INFO] [<<__main__.PlayersLabelEncodingBlock object at 0x1db78d640>_transform> start]\n",
      "[2021-07-25 16:34:38,468] [INFO] [<<__main__.PlayersLabelEncodingBlock object at 0x1db78d640>_transform> done in 0.01 s]\n",
      "[2021-07-25 16:34:38,472] [INFO] [<<__main__.PlayerStatsBlock object at 0x10ebc4640>_transform> start]\n",
      "[2021-07-25 16:34:41,746] [INFO] [<<__main__.PlayerStatsBlock object at 0x10ebc4640>_transform> done in 3.27 s]\n",
      "[2021-07-25 16:34:41,752] [INFO] [<<__main__.GamesCountBlock object at 0x1db78d070>_transform> start]\n",
      "[2021-07-25 16:34:42,084] [INFO] [<<__main__.GamesCountBlock object at 0x1db78d070>_transform> done in 0.33 s]\n",
      "[2021-07-25 16:34:42,092] [INFO] [<<__main__.PlayerTwitterFollowerAggregateBlock object at 0x10ec4c2e0>_transform> start]\n",
      "[2021-07-25 16:34:42,097] [INFO] [<<__main__.PlayerTwitterFollowerAggregateBlock object at 0x10ec4c2e0>_transform> done in 0.00 s]\n",
      "[2021-07-25 16:34:42,103] [INFO] [<<__main__.StandingsMetaBlock object at 0x10ec4c790>_transform> start]\n",
      "[2021-07-25 16:34:43,847] [INFO] [<<__main__.StandingsMetaBlock object at 0x10ec4c790>_transform> done in 1.74 s]\n",
      "[2021-07-25 16:34:43,855] [INFO] [<<__main__.Datetime2trigonometricEncodingBlock object at 0x10ec4ce20>_transform> start]\n",
      "[2021-07-25 16:34:43,870] [INFO] [<<__main__.Datetime2trigonometricEncodingBlock object at 0x10ec4ce20>_transform> done in 0.02 s]\n",
      "[2021-07-25 16:34:43,918] [INFO] [<<__main__.TargetAggregateBlock object at 0x10ebc4880>_transform> start]\n",
      "[2021-07-25 16:34:43,933] [INFO] [<<__main__.TargetAggregateBlock object at 0x10ebc4880>_transform> done in 0.01 s]\n",
      "[2021-07-25 16:34:43,937] [INFO] [<<__main__.RostersLabelEncodingBlock object at 0x1db78d5e0>_transform> start]\n",
      "[2021-07-25 16:34:44,320] [INFO] [<<__main__.RostersLabelEncodingBlock object at 0x1db78d5e0>_transform> done in 0.38 s]\n",
      "[2021-07-25 16:34:44,326] [INFO] [<<__main__.PlayersLabelEncodingBlock object at 0x1db78d640>_transform> start]\n",
      "[2021-07-25 16:34:44,332] [INFO] [<<__main__.PlayersLabelEncodingBlock object at 0x1db78d640>_transform> done in 0.01 s]\n",
      "[2021-07-25 16:34:44,336] [INFO] [<<__main__.PlayerStatsBlock object at 0x10ebc4640>_transform> start]\n",
      "[2021-07-25 16:34:47,652] [INFO] [<<__main__.PlayerStatsBlock object at 0x10ebc4640>_transform> done in 3.32 s]\n",
      "[2021-07-25 16:34:47,660] [INFO] [<<__main__.GamesCountBlock object at 0x1db78d070>_transform> start]\n",
      "[2021-07-25 16:34:48,006] [INFO] [<<__main__.GamesCountBlock object at 0x1db78d070>_transform> done in 0.35 s]\n",
      "[2021-07-25 16:34:48,013] [INFO] [<<__main__.PlayerTwitterFollowerAggregateBlock object at 0x10ec4c2e0>_transform> start]\n",
      "[2021-07-25 16:34:48,020] [INFO] [<<__main__.PlayerTwitterFollowerAggregateBlock object at 0x10ec4c2e0>_transform> done in 0.01 s]\n",
      "[2021-07-25 16:34:48,027] [INFO] [<<__main__.StandingsMetaBlock object at 0x10ec4c790>_transform> start]\n",
      "[2021-07-25 16:34:49,895] [INFO] [<<__main__.StandingsMetaBlock object at 0x10ec4c790>_transform> done in 1.87 s]\n",
      "[2021-07-25 16:34:49,904] [INFO] [<<__main__.Datetime2trigonometricEncodingBlock object at 0x10ec4ce20>_transform> start]\n",
      "[2021-07-25 16:34:49,922] [INFO] [<<__main__.Datetime2trigonometricEncodingBlock object at 0x10ec4ce20>_transform> done in 0.02 s]\n",
      "[2021-07-25 16:34:49,972] [INFO] [<<__main__.TargetAggregateBlock object at 0x10ebc4880>_transform> start]\n",
      "[2021-07-25 16:34:49,982] [INFO] [<<__main__.TargetAggregateBlock object at 0x10ebc4880>_transform> done in 0.01 s]\n",
      "[2021-07-25 16:34:49,986] [INFO] [<<__main__.RostersLabelEncodingBlock object at 0x1db78d5e0>_transform> start]\n",
      "[2021-07-25 16:34:50,364] [INFO] [<<__main__.RostersLabelEncodingBlock object at 0x1db78d5e0>_transform> done in 0.38 s]\n",
      "[2021-07-25 16:34:50,368] [INFO] [<<__main__.PlayersLabelEncodingBlock object at 0x1db78d640>_transform> start]\n",
      "[2021-07-25 16:34:50,374] [INFO] [<<__main__.PlayersLabelEncodingBlock object at 0x1db78d640>_transform> done in 0.01 s]\n",
      "[2021-07-25 16:34:50,378] [INFO] [<<__main__.PlayerStatsBlock object at 0x10ebc4640>_transform> start]\n",
      "[2021-07-25 16:34:53,640] [INFO] [<<__main__.PlayerStatsBlock object at 0x10ebc4640>_transform> done in 3.26 s]\n",
      "[2021-07-25 16:34:53,645] [INFO] [<<__main__.GamesCountBlock object at 0x1db78d070>_transform> start]\n",
      "[2021-07-25 16:34:53,990] [INFO] [<<__main__.GamesCountBlock object at 0x1db78d070>_transform> done in 0.35 s]\n",
      "[2021-07-25 16:34:53,998] [INFO] [<<__main__.PlayerTwitterFollowerAggregateBlock object at 0x10ec4c2e0>_transform> start]\n",
      "[2021-07-25 16:34:54,002] [INFO] [<<__main__.PlayerTwitterFollowerAggregateBlock object at 0x10ec4c2e0>_transform> done in 0.00 s]\n",
      "[2021-07-25 16:34:54,011] [INFO] [<<__main__.StandingsMetaBlock object at 0x10ec4c790>_transform> start]\n",
      "[2021-07-25 16:34:55,768] [INFO] [<<__main__.StandingsMetaBlock object at 0x10ec4c790>_transform> done in 1.76 s]\n",
      "[2021-07-25 16:34:55,777] [INFO] [<<__main__.Datetime2trigonometricEncodingBlock object at 0x10ec4ce20>_transform> start]\n",
      "[2021-07-25 16:34:55,791] [INFO] [<<__main__.Datetime2trigonometricEncodingBlock object at 0x10ec4ce20>_transform> done in 0.01 s]\n",
      "[2021-07-25 16:34:55,836] [INFO] [<<__main__.TargetAggregateBlock object at 0x10ebc4880>_transform> start]\n",
      "[2021-07-25 16:34:55,849] [INFO] [<<__main__.TargetAggregateBlock object at 0x10ebc4880>_transform> done in 0.01 s]\n",
      "[2021-07-25 16:34:55,852] [INFO] [<<__main__.RostersLabelEncodingBlock object at 0x1db78d5e0>_transform> start]\n",
      "[2021-07-25 16:34:56,250] [INFO] [<<__main__.RostersLabelEncodingBlock object at 0x1db78d5e0>_transform> done in 0.40 s]\n",
      "[2021-07-25 16:34:56,255] [INFO] [<<__main__.PlayersLabelEncodingBlock object at 0x1db78d640>_transform> start]\n",
      "[2021-07-25 16:34:56,260] [INFO] [<<__main__.PlayersLabelEncodingBlock object at 0x1db78d640>_transform> done in 0.01 s]\n",
      "[2021-07-25 16:34:56,265] [INFO] [<<__main__.PlayerStatsBlock object at 0x10ebc4640>_transform> start]\n",
      "[2021-07-25 16:34:59,260] [INFO] [<<__main__.PlayerStatsBlock object at 0x10ebc4640>_transform> done in 3.00 s]\n",
      "[2021-07-25 16:34:59,266] [INFO] [<<__main__.GamesCountBlock object at 0x1db78d070>_transform> start]\n",
      "[2021-07-25 16:34:59,568] [INFO] [<<__main__.GamesCountBlock object at 0x1db78d070>_transform> done in 0.30 s]\n",
      "[2021-07-25 16:34:59,574] [INFO] [<<__main__.PlayerTwitterFollowerAggregateBlock object at 0x10ec4c2e0>_transform> start]\n",
      "[2021-07-25 16:34:59,578] [INFO] [<<__main__.PlayerTwitterFollowerAggregateBlock object at 0x10ec4c2e0>_transform> done in 0.00 s]\n",
      "[2021-07-25 16:34:59,585] [INFO] [<<__main__.StandingsMetaBlock object at 0x10ec4c790>_transform> start]\n",
      "[2021-07-25 16:35:01,311] [INFO] [<<__main__.StandingsMetaBlock object at 0x10ec4c790>_transform> done in 1.73 s]\n",
      "[2021-07-25 16:35:01,320] [INFO] [<<__main__.Datetime2trigonometricEncodingBlock object at 0x10ec4ce20>_transform> start]\n",
      "[2021-07-25 16:35:01,334] [INFO] [<<__main__.Datetime2trigonometricEncodingBlock object at 0x10ec4ce20>_transform> done in 0.01 s]\n",
      "[2021-07-25 16:35:01,390] [INFO] [<<__main__.TargetAggregateBlock object at 0x10ebc4880>_transform> start]\n",
      "[2021-07-25 16:35:01,400] [INFO] [<<__main__.TargetAggregateBlock object at 0x10ebc4880>_transform> done in 0.01 s]\n",
      "[2021-07-25 16:35:01,403] [INFO] [<<__main__.RostersLabelEncodingBlock object at 0x1db78d5e0>_transform> start]\n",
      "[2021-07-25 16:35:01,773] [INFO] [<<__main__.RostersLabelEncodingBlock object at 0x1db78d5e0>_transform> done in 0.37 s]\n",
      "[2021-07-25 16:35:01,782] [INFO] [<<__main__.PlayersLabelEncodingBlock object at 0x1db78d640>_transform> start]\n",
      "[2021-07-25 16:35:01,788] [INFO] [<<__main__.PlayersLabelEncodingBlock object at 0x1db78d640>_transform> done in 0.01 s]\n",
      "[2021-07-25 16:35:01,792] [INFO] [<<__main__.PlayerStatsBlock object at 0x10ebc4640>_transform> start]\n",
      "[2021-07-25 16:35:04,664] [INFO] [<<__main__.PlayerStatsBlock object at 0x10ebc4640>_transform> done in 2.87 s]\n",
      "[2021-07-25 16:35:04,670] [INFO] [<<__main__.GamesCountBlock object at 0x1db78d070>_transform> start]\n",
      "[2021-07-25 16:35:04,988] [INFO] [<<__main__.GamesCountBlock object at 0x1db78d070>_transform> done in 0.32 s]\n",
      "[2021-07-25 16:35:04,995] [INFO] [<<__main__.PlayerTwitterFollowerAggregateBlock object at 0x10ec4c2e0>_transform> start]\n",
      "[2021-07-25 16:35:05,001] [INFO] [<<__main__.PlayerTwitterFollowerAggregateBlock object at 0x10ec4c2e0>_transform> done in 0.01 s]\n",
      "[2021-07-25 16:35:05,007] [INFO] [<<__main__.StandingsMetaBlock object at 0x10ec4c790>_transform> start]\n",
      "[2021-07-25 16:35:06,693] [INFO] [<<__main__.StandingsMetaBlock object at 0x10ec4c790>_transform> done in 1.69 s]\n",
      "[2021-07-25 16:35:06,702] [INFO] [<<__main__.Datetime2trigonometricEncodingBlock object at 0x10ec4ce20>_transform> start]\n",
      "[2021-07-25 16:35:06,716] [INFO] [<<__main__.Datetime2trigonometricEncodingBlock object at 0x10ec4ce20>_transform> done in 0.01 s]\n",
      "[2021-07-25 16:35:06,766] [INFO] [<<__main__.TargetAggregateBlock object at 0x10ebc4880>_transform> start]\n",
      "[2021-07-25 16:35:06,778] [INFO] [<<__main__.TargetAggregateBlock object at 0x10ebc4880>_transform> done in 0.01 s]\n",
      "[2021-07-25 16:35:06,782] [INFO] [<<__main__.RostersLabelEncodingBlock object at 0x1db78d5e0>_transform> start]\n",
      "[2021-07-25 16:35:07,145] [INFO] [<<__main__.RostersLabelEncodingBlock object at 0x1db78d5e0>_transform> done in 0.36 s]\n",
      "[2021-07-25 16:35:07,152] [INFO] [<<__main__.PlayersLabelEncodingBlock object at 0x1db78d640>_transform> start]\n",
      "[2021-07-25 16:35:07,157] [INFO] [<<__main__.PlayersLabelEncodingBlock object at 0x1db78d640>_transform> done in 0.01 s]\n",
      "[2021-07-25 16:35:07,162] [INFO] [<<__main__.PlayerStatsBlock object at 0x10ebc4640>_transform> start]\n",
      "[2021-07-25 16:35:10,092] [INFO] [<<__main__.PlayerStatsBlock object at 0x10ebc4640>_transform> done in 2.93 s]\n",
      "[2021-07-25 16:35:10,098] [INFO] [<<__main__.GamesCountBlock object at 0x1db78d070>_transform> start]\n",
      "[2021-07-25 16:35:10,414] [INFO] [<<__main__.GamesCountBlock object at 0x1db78d070>_transform> done in 0.32 s]\n",
      "[2021-07-25 16:35:10,422] [INFO] [<<__main__.PlayerTwitterFollowerAggregateBlock object at 0x10ec4c2e0>_transform> start]\n",
      "[2021-07-25 16:35:10,428] [INFO] [<<__main__.PlayerTwitterFollowerAggregateBlock object at 0x10ec4c2e0>_transform> done in 0.01 s]\n",
      "[2021-07-25 16:35:10,434] [INFO] [<<__main__.StandingsMetaBlock object at 0x10ec4c790>_transform> start]\n",
      "[2021-07-25 16:35:12,136] [INFO] [<<__main__.StandingsMetaBlock object at 0x10ec4c790>_transform> done in 1.70 s]\n",
      "[2021-07-25 16:35:12,144] [INFO] [<<__main__.Datetime2trigonometricEncodingBlock object at 0x10ec4ce20>_transform> start]\n",
      "[2021-07-25 16:35:12,158] [INFO] [<<__main__.Datetime2trigonometricEncodingBlock object at 0x10ec4ce20>_transform> done in 0.01 s]\n",
      "[2021-07-25 16:35:12,208] [INFO] [<<__main__.TargetAggregateBlock object at 0x10ebc4880>_transform> start]\n",
      "[2021-07-25 16:35:12,221] [INFO] [<<__main__.TargetAggregateBlock object at 0x10ebc4880>_transform> done in 0.01 s]\n",
      "[2021-07-25 16:35:12,224] [INFO] [<<__main__.RostersLabelEncodingBlock object at 0x1db78d5e0>_transform> start]\n",
      "[2021-07-25 16:35:12,587] [INFO] [<<__main__.RostersLabelEncodingBlock object at 0x1db78d5e0>_transform> done in 0.36 s]\n",
      "[2021-07-25 16:35:12,593] [INFO] [<<__main__.PlayersLabelEncodingBlock object at 0x1db78d640>_transform> start]\n",
      "[2021-07-25 16:35:12,599] [INFO] [<<__main__.PlayersLabelEncodingBlock object at 0x1db78d640>_transform> done in 0.01 s]\n",
      "[2021-07-25 16:35:12,603] [INFO] [<<__main__.PlayerStatsBlock object at 0x10ebc4640>_transform> start]\n",
      "[2021-07-25 16:35:15,517] [INFO] [<<__main__.PlayerStatsBlock object at 0x10ebc4640>_transform> done in 2.91 s]\n",
      "[2021-07-25 16:35:15,523] [INFO] [<<__main__.GamesCountBlock object at 0x1db78d070>_transform> start]\n",
      "[2021-07-25 16:35:15,833] [INFO] [<<__main__.GamesCountBlock object at 0x1db78d070>_transform> done in 0.31 s]\n",
      "[2021-07-25 16:35:15,841] [INFO] [<<__main__.PlayerTwitterFollowerAggregateBlock object at 0x10ec4c2e0>_transform> start]\n",
      "[2021-07-25 16:35:15,850] [INFO] [<<__main__.PlayerTwitterFollowerAggregateBlock object at 0x10ec4c2e0>_transform> done in 0.01 s]\n",
      "[2021-07-25 16:35:15,857] [INFO] [<<__main__.StandingsMetaBlock object at 0x10ec4c790>_transform> start]\n",
      "[2021-07-25 16:35:17,788] [INFO] [<<__main__.StandingsMetaBlock object at 0x10ec4c790>_transform> done in 1.93 s]\n",
      "[2021-07-25 16:35:17,797] [INFO] [<<__main__.Datetime2trigonometricEncodingBlock object at 0x10ec4ce20>_transform> start]\n",
      "[2021-07-25 16:35:17,815] [INFO] [<<__main__.Datetime2trigonometricEncodingBlock object at 0x10ec4ce20>_transform> done in 0.02 s]\n",
      "[2021-07-25 16:35:17,888] [INFO] [<<__main__.TargetAggregateBlock object at 0x10ebc4880>_transform> start]\n",
      "[2021-07-25 16:35:17,898] [INFO] [<<__main__.TargetAggregateBlock object at 0x10ebc4880>_transform> done in 0.01 s]\n",
      "[2021-07-25 16:35:17,902] [INFO] [<<__main__.RostersLabelEncodingBlock object at 0x1db78d5e0>_transform> start]\n",
      "[2021-07-25 16:35:18,263] [INFO] [<<__main__.RostersLabelEncodingBlock object at 0x1db78d5e0>_transform> done in 0.36 s]\n",
      "[2021-07-25 16:35:18,270] [INFO] [<<__main__.PlayersLabelEncodingBlock object at 0x1db78d640>_transform> start]\n",
      "[2021-07-25 16:35:18,276] [INFO] [<<__main__.PlayersLabelEncodingBlock object at 0x1db78d640>_transform> done in 0.01 s]\n",
      "[2021-07-25 16:35:18,281] [INFO] [<<__main__.PlayerStatsBlock object at 0x10ebc4640>_transform> start]\n",
      "[2021-07-25 16:35:21,917] [INFO] [<<__main__.PlayerStatsBlock object at 0x10ebc4640>_transform> done in 3.64 s]\n",
      "[2021-07-25 16:35:21,923] [INFO] [<<__main__.GamesCountBlock object at 0x1db78d070>_transform> start]\n",
      "[2021-07-25 16:35:22,281] [INFO] [<<__main__.GamesCountBlock object at 0x1db78d070>_transform> done in 0.36 s]\n",
      "[2021-07-25 16:35:22,288] [INFO] [<<__main__.PlayerTwitterFollowerAggregateBlock object at 0x10ec4c2e0>_transform> start]\n",
      "[2021-07-25 16:35:22,293] [INFO] [<<__main__.PlayerTwitterFollowerAggregateBlock object at 0x10ec4c2e0>_transform> done in 0.01 s]\n",
      "[2021-07-25 16:35:22,301] [INFO] [<<__main__.StandingsMetaBlock object at 0x10ec4c790>_transform> start]\n",
      "[2021-07-25 16:35:24,082] [INFO] [<<__main__.StandingsMetaBlock object at 0x10ec4c790>_transform> done in 1.78 s]\n",
      "[2021-07-25 16:35:24,090] [INFO] [<<__main__.Datetime2trigonometricEncodingBlock object at 0x10ec4ce20>_transform> start]\n",
      "[2021-07-25 16:35:24,105] [INFO] [<<__main__.Datetime2trigonometricEncodingBlock object at 0x10ec4ce20>_transform> done in 0.01 s]\n",
      "[2021-07-25 16:35:24,148] [INFO] [<<__main__.TargetAggregateBlock object at 0x10ebc4880>_transform> start]\n",
      "[2021-07-25 16:35:24,167] [INFO] [<<__main__.TargetAggregateBlock object at 0x10ebc4880>_transform> done in 0.02 s]\n",
      "[2021-07-25 16:35:24,177] [INFO] [<<__main__.RostersLabelEncodingBlock object at 0x1db78d5e0>_transform> start]\n",
      "[2021-07-25 16:35:24,613] [INFO] [<<__main__.RostersLabelEncodingBlock object at 0x1db78d5e0>_transform> done in 0.44 s]\n",
      "[2021-07-25 16:35:24,620] [INFO] [<<__main__.PlayersLabelEncodingBlock object at 0x1db78d640>_transform> start]\n",
      "[2021-07-25 16:35:24,625] [INFO] [<<__main__.PlayersLabelEncodingBlock object at 0x1db78d640>_transform> done in 0.00 s]\n",
      "[2021-07-25 16:35:24,630] [INFO] [<<__main__.PlayerStatsBlock object at 0x10ebc4640>_transform> start]\n",
      "[2021-07-25 16:35:27,598] [INFO] [<<__main__.PlayerStatsBlock object at 0x10ebc4640>_transform> done in 2.97 s]\n",
      "[2021-07-25 16:35:27,605] [INFO] [<<__main__.GamesCountBlock object at 0x1db78d070>_transform> start]\n",
      "[2021-07-25 16:35:27,918] [INFO] [<<__main__.GamesCountBlock object at 0x1db78d070>_transform> done in 0.31 s]\n",
      "[2021-07-25 16:35:27,925] [INFO] [<<__main__.PlayerTwitterFollowerAggregateBlock object at 0x10ec4c2e0>_transform> start]\n",
      "[2021-07-25 16:35:27,930] [INFO] [<<__main__.PlayerTwitterFollowerAggregateBlock object at 0x10ec4c2e0>_transform> done in 0.01 s]\n",
      "[2021-07-25 16:35:27,937] [INFO] [<<__main__.StandingsMetaBlock object at 0x10ec4c790>_transform> start]\n",
      "[2021-07-25 16:35:29,629] [INFO] [<<__main__.StandingsMetaBlock object at 0x10ec4c790>_transform> done in 1.69 s]\n",
      "[2021-07-25 16:35:29,637] [INFO] [<<__main__.Datetime2trigonometricEncodingBlock object at 0x10ec4ce20>_transform> start]\n",
      "[2021-07-25 16:35:29,654] [INFO] [<<__main__.Datetime2trigonometricEncodingBlock object at 0x10ec4ce20>_transform> done in 0.02 s]\n",
      "[2021-07-25 16:35:29,709] [INFO] [<<__main__.TargetAggregateBlock object at 0x10ebc4880>_transform> start]\n",
      "[2021-07-25 16:35:29,718] [INFO] [<<__main__.TargetAggregateBlock object at 0x10ebc4880>_transform> done in 0.01 s]\n",
      "[2021-07-25 16:35:29,721] [INFO] [<<__main__.RostersLabelEncodingBlock object at 0x1db78d5e0>_transform> start]\n",
      "[2021-07-25 16:35:30,101] [INFO] [<<__main__.RostersLabelEncodingBlock object at 0x1db78d5e0>_transform> done in 0.38 s]\n",
      "[2021-07-25 16:35:30,105] [INFO] [<<__main__.PlayersLabelEncodingBlock object at 0x1db78d640>_transform> start]\n",
      "[2021-07-25 16:35:30,111] [INFO] [<<__main__.PlayersLabelEncodingBlock object at 0x1db78d640>_transform> done in 0.01 s]\n",
      "[2021-07-25 16:35:30,116] [INFO] [<<__main__.PlayerStatsBlock object at 0x10ebc4640>_transform> start]\n",
      "[2021-07-25 16:35:32,981] [INFO] [<<__main__.PlayerStatsBlock object at 0x10ebc4640>_transform> done in 2.87 s]\n",
      "[2021-07-25 16:35:32,988] [INFO] [<<__main__.GamesCountBlock object at 0x1db78d070>_transform> start]\n",
      "[2021-07-25 16:35:33,300] [INFO] [<<__main__.GamesCountBlock object at 0x1db78d070>_transform> done in 0.31 s]\n",
      "[2021-07-25 16:35:33,307] [INFO] [<<__main__.PlayerTwitterFollowerAggregateBlock object at 0x10ec4c2e0>_transform> start]\n",
      "[2021-07-25 16:35:33,313] [INFO] [<<__main__.PlayerTwitterFollowerAggregateBlock object at 0x10ec4c2e0>_transform> done in 0.01 s]\n",
      "[2021-07-25 16:35:33,319] [INFO] [<<__main__.StandingsMetaBlock object at 0x10ec4c790>_transform> start]\n",
      "[2021-07-25 16:35:34,967] [INFO] [<<__main__.StandingsMetaBlock object at 0x10ec4c790>_transform> done in 1.65 s]\n",
      "[2021-07-25 16:35:34,976] [INFO] [<<__main__.Datetime2trigonometricEncodingBlock object at 0x10ec4ce20>_transform> start]\n",
      "[2021-07-25 16:35:34,990] [INFO] [<<__main__.Datetime2trigonometricEncodingBlock object at 0x10ec4ce20>_transform> done in 0.01 s]\n",
      "[2021-07-25 16:35:35,034] [INFO] [<<__main__.TargetAggregateBlock object at 0x10ebc4880>_transform> start]\n",
      "[2021-07-25 16:35:35,046] [INFO] [<<__main__.TargetAggregateBlock object at 0x10ebc4880>_transform> done in 0.01 s]\n",
      "[2021-07-25 16:35:35,050] [INFO] [<<__main__.RostersLabelEncodingBlock object at 0x1db78d5e0>_transform> start]\n",
      "[2021-07-25 16:35:35,413] [INFO] [<<__main__.RostersLabelEncodingBlock object at 0x1db78d5e0>_transform> done in 0.36 s]\n",
      "[2021-07-25 16:35:35,419] [INFO] [<<__main__.PlayersLabelEncodingBlock object at 0x1db78d640>_transform> start]\n",
      "[2021-07-25 16:35:35,424] [INFO] [<<__main__.PlayersLabelEncodingBlock object at 0x1db78d640>_transform> done in 0.01 s]\n",
      "[2021-07-25 16:35:35,429] [INFO] [<<__main__.PlayerStatsBlock object at 0x10ebc4640>_transform> start]\n",
      "[2021-07-25 16:35:38,433] [INFO] [<<__main__.PlayerStatsBlock object at 0x10ebc4640>_transform> done in 3.00 s]\n",
      "[2021-07-25 16:35:38,439] [INFO] [<<__main__.GamesCountBlock object at 0x1db78d070>_transform> start]\n",
      "[2021-07-25 16:35:38,736] [INFO] [<<__main__.GamesCountBlock object at 0x1db78d070>_transform> done in 0.30 s]\n",
      "[2021-07-25 16:35:38,743] [INFO] [<<__main__.PlayerTwitterFollowerAggregateBlock object at 0x10ec4c2e0>_transform> start]\n",
      "[2021-07-25 16:35:38,748] [INFO] [<<__main__.PlayerTwitterFollowerAggregateBlock object at 0x10ec4c2e0>_transform> done in 0.01 s]\n",
      "[2021-07-25 16:35:38,754] [INFO] [<<__main__.StandingsMetaBlock object at 0x10ec4c790>_transform> start]\n",
      "[2021-07-25 16:35:40,411] [INFO] [<<__main__.StandingsMetaBlock object at 0x10ec4c790>_transform> done in 1.66 s]\n",
      "[2021-07-25 16:35:40,419] [INFO] [<<__main__.Datetime2trigonometricEncodingBlock object at 0x10ec4ce20>_transform> start]\n",
      "[2021-07-25 16:35:40,435] [INFO] [<<__main__.Datetime2trigonometricEncodingBlock object at 0x10ec4ce20>_transform> done in 0.02 s]\n",
      "[2021-07-25 16:35:40,488] [INFO] [<<__main__.TargetAggregateBlock object at 0x10ebc4880>_transform> start]\n",
      "[2021-07-25 16:35:40,497] [INFO] [<<__main__.TargetAggregateBlock object at 0x10ebc4880>_transform> done in 0.01 s]\n",
      "[2021-07-25 16:35:40,501] [INFO] [<<__main__.RostersLabelEncodingBlock object at 0x1db78d5e0>_transform> start]\n",
      "[2021-07-25 16:35:40,861] [INFO] [<<__main__.RostersLabelEncodingBlock object at 0x1db78d5e0>_transform> done in 0.36 s]\n",
      "[2021-07-25 16:35:40,865] [INFO] [<<__main__.PlayersLabelEncodingBlock object at 0x1db78d640>_transform> start]\n",
      "[2021-07-25 16:35:40,871] [INFO] [<<__main__.PlayersLabelEncodingBlock object at 0x1db78d640>_transform> done in 0.01 s]\n",
      "[2021-07-25 16:35:40,875] [INFO] [<<__main__.PlayerStatsBlock object at 0x10ebc4640>_transform> start]\n",
      "[2021-07-25 16:35:43,722] [INFO] [<<__main__.PlayerStatsBlock object at 0x10ebc4640>_transform> done in 2.85 s]\n",
      "[2021-07-25 16:35:43,729] [INFO] [<<__main__.GamesCountBlock object at 0x1db78d070>_transform> start]\n",
      "[2021-07-25 16:35:44,033] [INFO] [<<__main__.GamesCountBlock object at 0x1db78d070>_transform> done in 0.30 s]\n",
      "[2021-07-25 16:35:44,040] [INFO] [<<__main__.PlayerTwitterFollowerAggregateBlock object at 0x10ec4c2e0>_transform> start]\n",
      "[2021-07-25 16:35:44,046] [INFO] [<<__main__.PlayerTwitterFollowerAggregateBlock object at 0x10ec4c2e0>_transform> done in 0.01 s]\n",
      "[2021-07-25 16:35:44,052] [INFO] [<<__main__.StandingsMetaBlock object at 0x10ec4c790>_transform> start]\n",
      "[2021-07-25 16:35:45,695] [INFO] [<<__main__.StandingsMetaBlock object at 0x10ec4c790>_transform> done in 1.64 s]\n",
      "[2021-07-25 16:35:45,704] [INFO] [<<__main__.Datetime2trigonometricEncodingBlock object at 0x10ec4ce20>_transform> start]\n",
      "[2021-07-25 16:35:45,719] [INFO] [<<__main__.Datetime2trigonometricEncodingBlock object at 0x10ec4ce20>_transform> done in 0.02 s]\n",
      "[2021-07-25 16:35:45,771] [INFO] [<<__main__.TargetAggregateBlock object at 0x10ebc4880>_transform> start]\n",
      "[2021-07-25 16:35:45,787] [INFO] [<<__main__.TargetAggregateBlock object at 0x10ebc4880>_transform> done in 0.02 s]\n",
      "[2021-07-25 16:35:45,790] [INFO] [<<__main__.RostersLabelEncodingBlock object at 0x1db78d5e0>_transform> start]\n",
      "[2021-07-25 16:35:46,145] [INFO] [<<__main__.RostersLabelEncodingBlock object at 0x1db78d5e0>_transform> done in 0.35 s]\n",
      "[2021-07-25 16:35:46,151] [INFO] [<<__main__.PlayersLabelEncodingBlock object at 0x1db78d640>_transform> start]\n",
      "[2021-07-25 16:35:46,158] [INFO] [<<__main__.PlayersLabelEncodingBlock object at 0x1db78d640>_transform> done in 0.01 s]\n",
      "[2021-07-25 16:35:46,162] [INFO] [<<__main__.PlayerStatsBlock object at 0x10ebc4640>_transform> start]\n",
      "[2021-07-25 16:35:49,028] [INFO] [<<__main__.PlayerStatsBlock object at 0x10ebc4640>_transform> done in 2.87 s]\n",
      "[2021-07-25 16:35:49,038] [INFO] [<<__main__.GamesCountBlock object at 0x1db78d070>_transform> start]\n",
      "[2021-07-25 16:35:49,377] [INFO] [<<__main__.GamesCountBlock object at 0x1db78d070>_transform> done in 0.34 s]\n",
      "[2021-07-25 16:35:49,385] [INFO] [<<__main__.PlayerTwitterFollowerAggregateBlock object at 0x10ec4c2e0>_transform> start]\n",
      "[2021-07-25 16:35:49,390] [INFO] [<<__main__.PlayerTwitterFollowerAggregateBlock object at 0x10ec4c2e0>_transform> done in 0.00 s]\n",
      "[2021-07-25 16:35:49,396] [INFO] [<<__main__.StandingsMetaBlock object at 0x10ec4c790>_transform> start]\n",
      "[2021-07-25 16:35:51,063] [INFO] [<<__main__.StandingsMetaBlock object at 0x10ec4c790>_transform> done in 1.67 s]\n",
      "[2021-07-25 16:35:51,071] [INFO] [<<__main__.Datetime2trigonometricEncodingBlock object at 0x10ec4ce20>_transform> start]\n",
      "[2021-07-25 16:35:51,086] [INFO] [<<__main__.Datetime2trigonometricEncodingBlock object at 0x10ec4ce20>_transform> done in 0.01 s]\n",
      "[2021-07-25 16:35:51,135] [INFO] [<<__main__.TargetAggregateBlock object at 0x10ebc4880>_transform> start]\n",
      "[2021-07-25 16:35:51,148] [INFO] [<<__main__.TargetAggregateBlock object at 0x10ebc4880>_transform> done in 0.01 s]\n",
      "[2021-07-25 16:35:51,151] [INFO] [<<__main__.RostersLabelEncodingBlock object at 0x1db78d5e0>_transform> start]\n",
      "[2021-07-25 16:35:51,511] [INFO] [<<__main__.RostersLabelEncodingBlock object at 0x1db78d5e0>_transform> done in 0.36 s]\n",
      "[2021-07-25 16:35:51,514] [INFO] [<<__main__.PlayersLabelEncodingBlock object at 0x1db78d640>_transform> start]\n",
      "[2021-07-25 16:35:51,521] [INFO] [<<__main__.PlayersLabelEncodingBlock object at 0x1db78d640>_transform> done in 0.01 s]\n",
      "[2021-07-25 16:35:51,526] [INFO] [<<__main__.PlayerStatsBlock object at 0x10ebc4640>_transform> start]\n",
      "[2021-07-25 16:35:54,363] [INFO] [<<__main__.PlayerStatsBlock object at 0x10ebc4640>_transform> done in 2.84 s]\n",
      "[2021-07-25 16:35:54,371] [INFO] [<<__main__.GamesCountBlock object at 0x1db78d070>_transform> start]\n",
      "[2021-07-25 16:35:54,677] [INFO] [<<__main__.GamesCountBlock object at 0x1db78d070>_transform> done in 0.31 s]\n",
      "[2021-07-25 16:35:54,684] [INFO] [<<__main__.PlayerTwitterFollowerAggregateBlock object at 0x10ec4c2e0>_transform> start]\n",
      "[2021-07-25 16:35:54,690] [INFO] [<<__main__.PlayerTwitterFollowerAggregateBlock object at 0x10ec4c2e0>_transform> done in 0.01 s]\n",
      "[2021-07-25 16:35:54,697] [INFO] [<<__main__.StandingsMetaBlock object at 0x10ec4c790>_transform> start]\n",
      "[2021-07-25 16:35:56,346] [INFO] [<<__main__.StandingsMetaBlock object at 0x10ec4c790>_transform> done in 1.65 s]\n",
      "[2021-07-25 16:35:56,354] [INFO] [<<__main__.Datetime2trigonometricEncodingBlock object at 0x10ec4ce20>_transform> start]\n",
      "[2021-07-25 16:35:56,369] [INFO] [<<__main__.Datetime2trigonometricEncodingBlock object at 0x10ec4ce20>_transform> done in 0.02 s]\n",
      "[2021-07-25 16:35:56,415] [INFO] [<<__main__.TargetAggregateBlock object at 0x10ebc4880>_transform> start]\n",
      "[2021-07-25 16:35:56,426] [INFO] [<<__main__.TargetAggregateBlock object at 0x10ebc4880>_transform> done in 0.01 s]\n",
      "[2021-07-25 16:35:56,430] [INFO] [<<__main__.RostersLabelEncodingBlock object at 0x1db78d5e0>_transform> start]\n",
      "[2021-07-25 16:35:56,816] [INFO] [<<__main__.RostersLabelEncodingBlock object at 0x1db78d5e0>_transform> done in 0.39 s]\n",
      "[2021-07-25 16:35:56,824] [INFO] [<<__main__.PlayersLabelEncodingBlock object at 0x1db78d640>_transform> start]\n",
      "[2021-07-25 16:35:56,830] [INFO] [<<__main__.PlayersLabelEncodingBlock object at 0x1db78d640>_transform> done in 0.01 s]\n",
      "[2021-07-25 16:35:56,836] [INFO] [<<__main__.PlayerStatsBlock object at 0x10ebc4640>_transform> start]\n",
      "[2021-07-25 16:35:59,802] [INFO] [<<__main__.PlayerStatsBlock object at 0x10ebc4640>_transform> done in 2.97 s]\n",
      "[2021-07-25 16:35:59,809] [INFO] [<<__main__.GamesCountBlock object at 0x1db78d070>_transform> start]\n",
      "[2021-07-25 16:36:00,140] [INFO] [<<__main__.GamesCountBlock object at 0x1db78d070>_transform> done in 0.33 s]\n",
      "[2021-07-25 16:36:00,148] [INFO] [<<__main__.PlayerTwitterFollowerAggregateBlock object at 0x10ec4c2e0>_transform> start]\n",
      "[2021-07-25 16:36:00,153] [INFO] [<<__main__.PlayerTwitterFollowerAggregateBlock object at 0x10ec4c2e0>_transform> done in 0.01 s]\n",
      "[2021-07-25 16:36:00,159] [INFO] [<<__main__.StandingsMetaBlock object at 0x10ec4c790>_transform> start]\n",
      "[2021-07-25 16:36:01,817] [INFO] [<<__main__.StandingsMetaBlock object at 0x10ec4c790>_transform> done in 1.66 s]\n",
      "[2021-07-25 16:36:01,826] [INFO] [<<__main__.Datetime2trigonometricEncodingBlock object at 0x10ec4ce20>_transform> start]\n",
      "[2021-07-25 16:36:01,841] [INFO] [<<__main__.Datetime2trigonometricEncodingBlock object at 0x10ec4ce20>_transform> done in 0.02 s]\n",
      "[2021-07-25 16:36:01,897] [INFO] [<<__main__.TargetAggregateBlock object at 0x10ebc4880>_transform> start]\n",
      "[2021-07-25 16:36:01,909] [INFO] [<<__main__.TargetAggregateBlock object at 0x10ebc4880>_transform> done in 0.01 s]\n",
      "[2021-07-25 16:36:01,913] [INFO] [<<__main__.RostersLabelEncodingBlock object at 0x1db78d5e0>_transform> start]\n",
      "[2021-07-25 16:36:02,274] [INFO] [<<__main__.RostersLabelEncodingBlock object at 0x1db78d5e0>_transform> done in 0.36 s]\n",
      "[2021-07-25 16:36:02,280] [INFO] [<<__main__.PlayersLabelEncodingBlock object at 0x1db78d640>_transform> start]\n",
      "[2021-07-25 16:36:02,285] [INFO] [<<__main__.PlayersLabelEncodingBlock object at 0x1db78d640>_transform> done in 0.01 s]\n",
      "[2021-07-25 16:36:02,290] [INFO] [<<__main__.PlayerStatsBlock object at 0x10ebc4640>_transform> start]\n",
      "[2021-07-25 16:36:05,562] [INFO] [<<__main__.PlayerStatsBlock object at 0x10ebc4640>_transform> done in 3.27 s]\n",
      "[2021-07-25 16:36:05,567] [INFO] [<<__main__.GamesCountBlock object at 0x1db78d070>_transform> start]\n",
      "[2021-07-25 16:36:05,903] [INFO] [<<__main__.GamesCountBlock object at 0x1db78d070>_transform> done in 0.34 s]\n",
      "[2021-07-25 16:36:05,910] [INFO] [<<__main__.PlayerTwitterFollowerAggregateBlock object at 0x10ec4c2e0>_transform> start]\n",
      "[2021-07-25 16:36:05,915] [INFO] [<<__main__.PlayerTwitterFollowerAggregateBlock object at 0x10ec4c2e0>_transform> done in 0.00 s]\n",
      "[2021-07-25 16:36:05,922] [INFO] [<<__main__.StandingsMetaBlock object at 0x10ec4c790>_transform> start]\n",
      "[2021-07-25 16:36:07,742] [INFO] [<<__main__.StandingsMetaBlock object at 0x10ec4c790>_transform> done in 1.82 s]\n",
      "[2021-07-25 16:36:07,754] [INFO] [<<__main__.Datetime2trigonometricEncodingBlock object at 0x10ec4ce20>_transform> start]\n",
      "[2021-07-25 16:36:07,770] [INFO] [<<__main__.Datetime2trigonometricEncodingBlock object at 0x10ec4ce20>_transform> done in 0.02 s]\n",
      "[2021-07-25 16:36:07,834] [INFO] [<<__main__.TargetAggregateBlock object at 0x10ebc4880>_transform> start]\n",
      "[2021-07-25 16:36:07,855] [INFO] [<<__main__.TargetAggregateBlock object at 0x10ebc4880>_transform> done in 0.02 s]\n",
      "[2021-07-25 16:36:07,859] [INFO] [<<__main__.RostersLabelEncodingBlock object at 0x1db78d5e0>_transform> start]\n",
      "[2021-07-25 16:36:08,236] [INFO] [<<__main__.RostersLabelEncodingBlock object at 0x1db78d5e0>_transform> done in 0.38 s]\n",
      "[2021-07-25 16:36:08,240] [INFO] [<<__main__.PlayersLabelEncodingBlock object at 0x1db78d640>_transform> start]\n",
      "[2021-07-25 16:36:08,245] [INFO] [<<__main__.PlayersLabelEncodingBlock object at 0x1db78d640>_transform> done in 0.00 s]\n",
      "[2021-07-25 16:36:08,249] [INFO] [<<__main__.PlayerStatsBlock object at 0x10ebc4640>_transform> start]\n",
      "[2021-07-25 16:36:11,571] [INFO] [<<__main__.PlayerStatsBlock object at 0x10ebc4640>_transform> done in 3.32 s]\n",
      "[2021-07-25 16:36:11,577] [INFO] [<<__main__.GamesCountBlock object at 0x1db78d070>_transform> start]\n",
      "[2021-07-25 16:36:11,945] [INFO] [<<__main__.GamesCountBlock object at 0x1db78d070>_transform> done in 0.37 s]\n",
      "[2021-07-25 16:36:11,952] [INFO] [<<__main__.PlayerTwitterFollowerAggregateBlock object at 0x10ec4c2e0>_transform> start]\n",
      "[2021-07-25 16:36:11,956] [INFO] [<<__main__.PlayerTwitterFollowerAggregateBlock object at 0x10ec4c2e0>_transform> done in 0.00 s]\n",
      "[2021-07-25 16:36:11,962] [INFO] [<<__main__.StandingsMetaBlock object at 0x10ec4c790>_transform> start]\n",
      "[2021-07-25 16:36:13,761] [INFO] [<<__main__.StandingsMetaBlock object at 0x10ec4c790>_transform> done in 1.80 s]\n",
      "[2021-07-25 16:36:13,769] [INFO] [<<__main__.Datetime2trigonometricEncodingBlock object at 0x10ec4ce20>_transform> start]\n",
      "[2021-07-25 16:36:13,785] [INFO] [<<__main__.Datetime2trigonometricEncodingBlock object at 0x10ec4ce20>_transform> done in 0.02 s]\n",
      "[2021-07-25 16:36:13,844] [INFO] [<<__main__.TargetAggregateBlock object at 0x10ebc4880>_transform> start]\n",
      "[2021-07-25 16:36:13,854] [INFO] [<<__main__.TargetAggregateBlock object at 0x10ebc4880>_transform> done in 0.01 s]\n",
      "[2021-07-25 16:36:13,858] [INFO] [<<__main__.RostersLabelEncodingBlock object at 0x1db78d5e0>_transform> start]\n",
      "[2021-07-25 16:36:14,233] [INFO] [<<__main__.RostersLabelEncodingBlock object at 0x1db78d5e0>_transform> done in 0.37 s]\n",
      "[2021-07-25 16:36:14,242] [INFO] [<<__main__.PlayersLabelEncodingBlock object at 0x1db78d640>_transform> start]\n",
      "[2021-07-25 16:36:14,251] [INFO] [<<__main__.PlayersLabelEncodingBlock object at 0x1db78d640>_transform> done in 0.01 s]\n",
      "[2021-07-25 16:36:14,255] [INFO] [<<__main__.PlayerStatsBlock object at 0x10ebc4640>_transform> start]\n",
      "[2021-07-25 16:36:17,430] [INFO] [<<__main__.PlayerStatsBlock object at 0x10ebc4640>_transform> done in 3.17 s]\n",
      "[2021-07-25 16:36:17,437] [INFO] [<<__main__.GamesCountBlock object at 0x1db78d070>_transform> start]\n",
      "[2021-07-25 16:36:17,861] [INFO] [<<__main__.GamesCountBlock object at 0x1db78d070>_transform> done in 0.42 s]\n",
      "[2021-07-25 16:36:17,872] [INFO] [<<__main__.PlayerTwitterFollowerAggregateBlock object at 0x10ec4c2e0>_transform> start]\n",
      "[2021-07-25 16:36:17,877] [INFO] [<<__main__.PlayerTwitterFollowerAggregateBlock object at 0x10ec4c2e0>_transform> done in 0.01 s]\n",
      "[2021-07-25 16:36:17,884] [INFO] [<<__main__.StandingsMetaBlock object at 0x10ec4c790>_transform> start]\n",
      "[2021-07-25 16:36:19,619] [INFO] [<<__main__.StandingsMetaBlock object at 0x10ec4c790>_transform> done in 1.73 s]\n",
      "[2021-07-25 16:36:19,628] [INFO] [<<__main__.Datetime2trigonometricEncodingBlock object at 0x10ec4ce20>_transform> start]\n",
      "[2021-07-25 16:36:19,644] [INFO] [<<__main__.Datetime2trigonometricEncodingBlock object at 0x10ec4ce20>_transform> done in 0.02 s]\n",
      "[2021-07-25 16:36:19,691] [INFO] [<<__main__.TargetAggregateBlock object at 0x10ebc4880>_transform> start]\n",
      "[2021-07-25 16:36:19,701] [INFO] [<<__main__.TargetAggregateBlock object at 0x10ebc4880>_transform> done in 0.01 s]\n",
      "[2021-07-25 16:36:19,705] [INFO] [<<__main__.RostersLabelEncodingBlock object at 0x1db78d5e0>_transform> start]\n",
      "[2021-07-25 16:36:20,095] [INFO] [<<__main__.RostersLabelEncodingBlock object at 0x1db78d5e0>_transform> done in 0.39 s]\n",
      "[2021-07-25 16:36:20,099] [INFO] [<<__main__.PlayersLabelEncodingBlock object at 0x1db78d640>_transform> start]\n",
      "[2021-07-25 16:36:20,104] [INFO] [<<__main__.PlayersLabelEncodingBlock object at 0x1db78d640>_transform> done in 0.01 s]\n",
      "[2021-07-25 16:36:20,109] [INFO] [<<__main__.PlayerStatsBlock object at 0x10ebc4640>_transform> start]\n",
      "[2021-07-25 16:36:23,498] [INFO] [<<__main__.PlayerStatsBlock object at 0x10ebc4640>_transform> done in 3.39 s]\n",
      "[2021-07-25 16:36:23,506] [INFO] [<<__main__.GamesCountBlock object at 0x1db78d070>_transform> start]\n",
      "[2021-07-25 16:36:23,864] [INFO] [<<__main__.GamesCountBlock object at 0x1db78d070>_transform> done in 0.36 s]\n",
      "[2021-07-25 16:36:23,872] [INFO] [<<__main__.PlayerTwitterFollowerAggregateBlock object at 0x10ec4c2e0>_transform> start]\n",
      "[2021-07-25 16:36:23,877] [INFO] [<<__main__.PlayerTwitterFollowerAggregateBlock object at 0x10ec4c2e0>_transform> done in 0.01 s]\n",
      "[2021-07-25 16:36:23,883] [INFO] [<<__main__.StandingsMetaBlock object at 0x10ec4c790>_transform> start]\n",
      "[2021-07-25 16:36:25,665] [INFO] [<<__main__.StandingsMetaBlock object at 0x10ec4c790>_transform> done in 1.78 s]\n",
      "[2021-07-25 16:36:25,674] [INFO] [<<__main__.Datetime2trigonometricEncodingBlock object at 0x10ec4ce20>_transform> start]\n",
      "[2021-07-25 16:36:25,696] [INFO] [<<__main__.Datetime2trigonometricEncodingBlock object at 0x10ec4ce20>_transform> done in 0.02 s]\n",
      "[2021-07-25 16:36:25,800] [INFO] [<<__main__.TargetAggregateBlock object at 0x10ebc4880>_transform> start]\n",
      "[2021-07-25 16:36:25,818] [INFO] [<<__main__.TargetAggregateBlock object at 0x10ebc4880>_transform> done in 0.02 s]\n",
      "[2021-07-25 16:36:25,822] [INFO] [<<__main__.RostersLabelEncodingBlock object at 0x1db78d5e0>_transform> start]\n",
      "[2021-07-25 16:36:26,221] [INFO] [<<__main__.RostersLabelEncodingBlock object at 0x1db78d5e0>_transform> done in 0.40 s]\n",
      "[2021-07-25 16:36:26,227] [INFO] [<<__main__.PlayersLabelEncodingBlock object at 0x1db78d640>_transform> start]\n",
      "[2021-07-25 16:36:26,231] [INFO] [<<__main__.PlayersLabelEncodingBlock object at 0x1db78d640>_transform> done in 0.00 s]\n",
      "[2021-07-25 16:36:26,236] [INFO] [<<__main__.PlayerStatsBlock object at 0x10ebc4640>_transform> start]\n",
      "[2021-07-25 16:36:29,426] [INFO] [<<__main__.PlayerStatsBlock object at 0x10ebc4640>_transform> done in 3.19 s]\n",
      "[2021-07-25 16:36:29,434] [INFO] [<<__main__.GamesCountBlock object at 0x1db78d070>_transform> start]\n",
      "[2021-07-25 16:36:29,747] [INFO] [<<__main__.GamesCountBlock object at 0x1db78d070>_transform> done in 0.31 s]\n",
      "[2021-07-25 16:36:29,753] [INFO] [<<__main__.PlayerTwitterFollowerAggregateBlock object at 0x10ec4c2e0>_transform> start]\n",
      "[2021-07-25 16:36:29,757] [INFO] [<<__main__.PlayerTwitterFollowerAggregateBlock object at 0x10ec4c2e0>_transform> done in 0.00 s]\n",
      "[2021-07-25 16:36:29,763] [INFO] [<<__main__.StandingsMetaBlock object at 0x10ec4c790>_transform> start]\n",
      "[2021-07-25 16:36:31,442] [INFO] [<<__main__.StandingsMetaBlock object at 0x10ec4c790>_transform> done in 1.68 s]\n",
      "[2021-07-25 16:36:31,450] [INFO] [<<__main__.Datetime2trigonometricEncodingBlock object at 0x10ec4ce20>_transform> start]\n",
      "[2021-07-25 16:36:31,467] [INFO] [<<__main__.Datetime2trigonometricEncodingBlock object at 0x10ec4ce20>_transform> done in 0.02 s]\n",
      "[2021-07-25 16:36:31,530] [INFO] [<<__main__.TargetAggregateBlock object at 0x10ebc4880>_transform> start]\n",
      "[2021-07-25 16:36:31,542] [INFO] [<<__main__.TargetAggregateBlock object at 0x10ebc4880>_transform> done in 0.01 s]\n",
      "[2021-07-25 16:36:31,546] [INFO] [<<__main__.RostersLabelEncodingBlock object at 0x1db78d5e0>_transform> start]\n",
      "[2021-07-25 16:36:31,932] [INFO] [<<__main__.RostersLabelEncodingBlock object at 0x1db78d5e0>_transform> done in 0.39 s]\n",
      "[2021-07-25 16:36:31,942] [INFO] [<<__main__.PlayersLabelEncodingBlock object at 0x1db78d640>_transform> start]\n",
      "[2021-07-25 16:36:31,949] [INFO] [<<__main__.PlayersLabelEncodingBlock object at 0x1db78d640>_transform> done in 0.01 s]\n",
      "[2021-07-25 16:36:31,953] [INFO] [<<__main__.PlayerStatsBlock object at 0x10ebc4640>_transform> start]\n",
      "[2021-07-25 16:36:35,267] [INFO] [<<__main__.PlayerStatsBlock object at 0x10ebc4640>_transform> done in 3.31 s]\n",
      "[2021-07-25 16:36:35,276] [INFO] [<<__main__.GamesCountBlock object at 0x1db78d070>_transform> start]\n",
      "[2021-07-25 16:36:35,612] [INFO] [<<__main__.GamesCountBlock object at 0x1db78d070>_transform> done in 0.34 s]\n",
      "[2021-07-25 16:36:35,619] [INFO] [<<__main__.PlayerTwitterFollowerAggregateBlock object at 0x10ec4c2e0>_transform> start]\n",
      "[2021-07-25 16:36:35,624] [INFO] [<<__main__.PlayerTwitterFollowerAggregateBlock object at 0x10ec4c2e0>_transform> done in 0.00 s]\n",
      "[2021-07-25 16:36:35,631] [INFO] [<<__main__.StandingsMetaBlock object at 0x10ec4c790>_transform> start]\n",
      "[2021-07-25 16:36:37,479] [INFO] [<<__main__.StandingsMetaBlock object at 0x10ec4c790>_transform> done in 1.85 s]\n",
      "[2021-07-25 16:36:37,486] [INFO] [<<__main__.Datetime2trigonometricEncodingBlock object at 0x10ec4ce20>_transform> start]\n",
      "[2021-07-25 16:36:37,502] [INFO] [<<__main__.Datetime2trigonometricEncodingBlock object at 0x10ec4ce20>_transform> done in 0.02 s]\n",
      "[2021-07-25 16:36:37,570] [INFO] [<<__main__.TargetAggregateBlock object at 0x10ebc4880>_transform> start]\n",
      "[2021-07-25 16:36:37,583] [INFO] [<<__main__.TargetAggregateBlock object at 0x10ebc4880>_transform> done in 0.01 s]\n",
      "[2021-07-25 16:36:37,587] [INFO] [<<__main__.RostersLabelEncodingBlock object at 0x1db78d5e0>_transform> start]\n",
      "[2021-07-25 16:36:37,958] [INFO] [<<__main__.RostersLabelEncodingBlock object at 0x1db78d5e0>_transform> done in 0.37 s]\n",
      "[2021-07-25 16:36:37,965] [INFO] [<<__main__.PlayersLabelEncodingBlock object at 0x1db78d640>_transform> start]\n",
      "[2021-07-25 16:36:37,970] [INFO] [<<__main__.PlayersLabelEncodingBlock object at 0x1db78d640>_transform> done in 0.01 s]\n",
      "[2021-07-25 16:36:37,974] [INFO] [<<__main__.PlayerStatsBlock object at 0x10ebc4640>_transform> start]\n",
      "[2021-07-25 16:36:41,685] [INFO] [<<__main__.PlayerStatsBlock object at 0x10ebc4640>_transform> done in 3.71 s]\n",
      "[2021-07-25 16:36:41,694] [INFO] [<<__main__.GamesCountBlock object at 0x1db78d070>_transform> start]\n",
      "[2021-07-25 16:36:42,044] [INFO] [<<__main__.GamesCountBlock object at 0x1db78d070>_transform> done in 0.35 s]\n",
      "[2021-07-25 16:36:42,051] [INFO] [<<__main__.PlayerTwitterFollowerAggregateBlock object at 0x10ec4c2e0>_transform> start]\n",
      "[2021-07-25 16:36:42,056] [INFO] [<<__main__.PlayerTwitterFollowerAggregateBlock object at 0x10ec4c2e0>_transform> done in 0.00 s]\n",
      "[2021-07-25 16:36:42,062] [INFO] [<<__main__.StandingsMetaBlock object at 0x10ec4c790>_transform> start]\n",
      "[2021-07-25 16:36:43,848] [INFO] [<<__main__.StandingsMetaBlock object at 0x10ec4c790>_transform> done in 1.79 s]\n",
      "[2021-07-25 16:36:43,857] [INFO] [<<__main__.Datetime2trigonometricEncodingBlock object at 0x10ec4ce20>_transform> start]\n",
      "[2021-07-25 16:36:43,872] [INFO] [<<__main__.Datetime2trigonometricEncodingBlock object at 0x10ec4ce20>_transform> done in 0.02 s]\n",
      "[2021-07-25 16:36:43,928] [INFO] [<<__main__.TargetAggregateBlock object at 0x10ebc4880>_transform> start]\n",
      "[2021-07-25 16:36:43,937] [INFO] [<<__main__.TargetAggregateBlock object at 0x10ebc4880>_transform> done in 0.01 s]\n",
      "[2021-07-25 16:36:43,941] [INFO] [<<__main__.RostersLabelEncodingBlock object at 0x1db78d5e0>_transform> start]\n",
      "[2021-07-25 16:36:44,334] [INFO] [<<__main__.RostersLabelEncodingBlock object at 0x1db78d5e0>_transform> done in 0.39 s]\n",
      "[2021-07-25 16:36:44,341] [INFO] [<<__main__.PlayersLabelEncodingBlock object at 0x1db78d640>_transform> start]\n",
      "[2021-07-25 16:36:44,346] [INFO] [<<__main__.PlayersLabelEncodingBlock object at 0x1db78d640>_transform> done in 0.00 s]\n",
      "[2021-07-25 16:36:44,350] [INFO] [<<__main__.PlayerStatsBlock object at 0x10ebc4640>_transform> start]\n",
      "[2021-07-25 16:36:47,492] [INFO] [<<__main__.PlayerStatsBlock object at 0x10ebc4640>_transform> done in 3.14 s]\n",
      "[2021-07-25 16:36:47,498] [INFO] [<<__main__.GamesCountBlock object at 0x1db78d070>_transform> start]\n",
      "[2021-07-25 16:36:47,813] [INFO] [<<__main__.GamesCountBlock object at 0x1db78d070>_transform> done in 0.32 s]\n",
      "[2021-07-25 16:36:47,821] [INFO] [<<__main__.PlayerTwitterFollowerAggregateBlock object at 0x10ec4c2e0>_transform> start]\n",
      "[2021-07-25 16:36:47,826] [INFO] [<<__main__.PlayerTwitterFollowerAggregateBlock object at 0x10ec4c2e0>_transform> done in 0.01 s]\n",
      "[2021-07-25 16:36:47,832] [INFO] [<<__main__.StandingsMetaBlock object at 0x10ec4c790>_transform> start]\n",
      "[2021-07-25 16:36:49,558] [INFO] [<<__main__.StandingsMetaBlock object at 0x10ec4c790>_transform> done in 1.73 s]\n",
      "[2021-07-25 16:36:49,566] [INFO] [<<__main__.Datetime2trigonometricEncodingBlock object at 0x10ec4ce20>_transform> start]\n",
      "[2021-07-25 16:36:49,582] [INFO] [<<__main__.Datetime2trigonometricEncodingBlock object at 0x10ec4ce20>_transform> done in 0.02 s]\n",
      "[2021-07-25 16:36:49,640] [INFO] [<<__main__.TargetAggregateBlock object at 0x10ebc4880>_transform> start]\n",
      "[2021-07-25 16:36:49,650] [INFO] [<<__main__.TargetAggregateBlock object at 0x10ebc4880>_transform> done in 0.01 s]\n",
      "[2021-07-25 16:36:49,654] [INFO] [<<__main__.RostersLabelEncodingBlock object at 0x1db78d5e0>_transform> start]\n",
      "[2021-07-25 16:36:50,043] [INFO] [<<__main__.RostersLabelEncodingBlock object at 0x1db78d5e0>_transform> done in 0.39 s]\n",
      "[2021-07-25 16:36:50,051] [INFO] [<<__main__.PlayersLabelEncodingBlock object at 0x1db78d640>_transform> start]\n",
      "[2021-07-25 16:36:50,059] [INFO] [<<__main__.PlayersLabelEncodingBlock object at 0x1db78d640>_transform> done in 0.01 s]\n",
      "[2021-07-25 16:36:50,064] [INFO] [<<__main__.PlayerStatsBlock object at 0x10ebc4640>_transform> start]\n",
      "[2021-07-25 16:36:53,572] [INFO] [<<__main__.PlayerStatsBlock object at 0x10ebc4640>_transform> done in 3.51 s]\n",
      "[2021-07-25 16:36:53,581] [INFO] [<<__main__.GamesCountBlock object at 0x1db78d070>_transform> start]\n",
      "[2021-07-25 16:36:53,898] [INFO] [<<__main__.GamesCountBlock object at 0x1db78d070>_transform> done in 0.32 s]\n",
      "[2021-07-25 16:36:53,905] [INFO] [<<__main__.PlayerTwitterFollowerAggregateBlock object at 0x10ec4c2e0>_transform> start]\n",
      "[2021-07-25 16:36:53,909] [INFO] [<<__main__.PlayerTwitterFollowerAggregateBlock object at 0x10ec4c2e0>_transform> done in 0.00 s]\n",
      "[2021-07-25 16:36:53,915] [INFO] [<<__main__.StandingsMetaBlock object at 0x10ec4c790>_transform> start]\n",
      "[2021-07-25 16:36:55,692] [INFO] [<<__main__.StandingsMetaBlock object at 0x10ec4c790>_transform> done in 1.78 s]\n",
      "[2021-07-25 16:36:55,700] [INFO] [<<__main__.Datetime2trigonometricEncodingBlock object at 0x10ec4ce20>_transform> start]\n",
      "[2021-07-25 16:36:55,716] [INFO] [<<__main__.Datetime2trigonometricEncodingBlock object at 0x10ec4ce20>_transform> done in 0.02 s]\n",
      "[2021-07-25 16:36:55,767] [INFO] [<<__main__.TargetAggregateBlock object at 0x10ebc4880>_transform> start]\n",
      "[2021-07-25 16:36:55,780] [INFO] [<<__main__.TargetAggregateBlock object at 0x10ebc4880>_transform> done in 0.01 s]\n",
      "[2021-07-25 16:36:55,785] [INFO] [<<__main__.RostersLabelEncodingBlock object at 0x1db78d5e0>_transform> start]\n",
      "[2021-07-25 16:36:56,250] [INFO] [<<__main__.RostersLabelEncodingBlock object at 0x1db78d5e0>_transform> done in 0.47 s]\n",
      "[2021-07-25 16:36:56,264] [INFO] [<<__main__.PlayersLabelEncodingBlock object at 0x1db78d640>_transform> start]\n",
      "[2021-07-25 16:36:56,268] [INFO] [<<__main__.PlayersLabelEncodingBlock object at 0x1db78d640>_transform> done in 0.00 s]\n",
      "[2021-07-25 16:36:56,274] [INFO] [<<__main__.PlayerStatsBlock object at 0x10ebc4640>_transform> start]\n",
      "[2021-07-25 16:36:59,770] [INFO] [<<__main__.PlayerStatsBlock object at 0x10ebc4640>_transform> done in 3.50 s]\n",
      "[2021-07-25 16:36:59,778] [INFO] [<<__main__.GamesCountBlock object at 0x1db78d070>_transform> start]\n",
      "[2021-07-25 16:37:00,140] [INFO] [<<__main__.GamesCountBlock object at 0x1db78d070>_transform> done in 0.36 s]\n",
      "[2021-07-25 16:37:00,148] [INFO] [<<__main__.PlayerTwitterFollowerAggregateBlock object at 0x10ec4c2e0>_transform> start]\n",
      "[2021-07-25 16:37:00,154] [INFO] [<<__main__.PlayerTwitterFollowerAggregateBlock object at 0x10ec4c2e0>_transform> done in 0.01 s]\n",
      "[2021-07-25 16:37:00,160] [INFO] [<<__main__.StandingsMetaBlock object at 0x10ec4c790>_transform> start]\n",
      "[2021-07-25 16:37:02,044] [INFO] [<<__main__.StandingsMetaBlock object at 0x10ec4c790>_transform> done in 1.88 s]\n",
      "[2021-07-25 16:37:02,051] [INFO] [<<__main__.Datetime2trigonometricEncodingBlock object at 0x10ec4ce20>_transform> start]\n",
      "[2021-07-25 16:37:02,071] [INFO] [<<__main__.Datetime2trigonometricEncodingBlock object at 0x10ec4ce20>_transform> done in 0.02 s]\n",
      "[2021-07-25 16:37:02,125] [INFO] [<<__main__.TargetAggregateBlock object at 0x10ebc4880>_transform> start]\n",
      "[2021-07-25 16:37:02,135] [INFO] [<<__main__.TargetAggregateBlock object at 0x10ebc4880>_transform> done in 0.01 s]\n",
      "[2021-07-25 16:37:02,139] [INFO] [<<__main__.RostersLabelEncodingBlock object at 0x1db78d5e0>_transform> start]\n",
      "[2021-07-25 16:37:02,516] [INFO] [<<__main__.RostersLabelEncodingBlock object at 0x1db78d5e0>_transform> done in 0.38 s]\n",
      "[2021-07-25 16:37:02,522] [INFO] [<<__main__.PlayersLabelEncodingBlock object at 0x1db78d640>_transform> start]\n",
      "[2021-07-25 16:37:02,527] [INFO] [<<__main__.PlayersLabelEncodingBlock object at 0x1db78d640>_transform> done in 0.00 s]\n",
      "[2021-07-25 16:37:02,531] [INFO] [<<__main__.PlayerStatsBlock object at 0x10ebc4640>_transform> start]\n",
      "[2021-07-25 16:37:06,034] [INFO] [<<__main__.PlayerStatsBlock object at 0x10ebc4640>_transform> done in 3.50 s]\n",
      "[2021-07-25 16:37:06,040] [INFO] [<<__main__.GamesCountBlock object at 0x1db78d070>_transform> start]\n",
      "[2021-07-25 16:37:06,378] [INFO] [<<__main__.GamesCountBlock object at 0x1db78d070>_transform> done in 0.34 s]\n",
      "[2021-07-25 16:37:06,389] [INFO] [<<__main__.PlayerTwitterFollowerAggregateBlock object at 0x10ec4c2e0>_transform> start]\n",
      "[2021-07-25 16:37:06,393] [INFO] [<<__main__.PlayerTwitterFollowerAggregateBlock object at 0x10ec4c2e0>_transform> done in 0.00 s]\n",
      "[2021-07-25 16:37:06,400] [INFO] [<<__main__.StandingsMetaBlock object at 0x10ec4c790>_transform> start]\n",
      "[2021-07-25 16:37:08,232] [INFO] [<<__main__.StandingsMetaBlock object at 0x10ec4c790>_transform> done in 1.83 s]\n",
      "[2021-07-25 16:37:08,241] [INFO] [<<__main__.Datetime2trigonometricEncodingBlock object at 0x10ec4ce20>_transform> start]\n",
      "[2021-07-25 16:37:08,260] [INFO] [<<__main__.Datetime2trigonometricEncodingBlock object at 0x10ec4ce20>_transform> done in 0.02 s]\n",
      "[2021-07-25 16:37:08,332] [INFO] [<<__main__.TargetAggregateBlock object at 0x10ebc4880>_transform> start]\n",
      "[2021-07-25 16:37:08,343] [INFO] [<<__main__.TargetAggregateBlock object at 0x10ebc4880>_transform> done in 0.01 s]\n",
      "[2021-07-25 16:37:08,347] [INFO] [<<__main__.RostersLabelEncodingBlock object at 0x1db78d5e0>_transform> start]\n",
      "[2021-07-25 16:37:08,769] [INFO] [<<__main__.RostersLabelEncodingBlock object at 0x1db78d5e0>_transform> done in 0.42 s]\n",
      "[2021-07-25 16:37:08,776] [INFO] [<<__main__.PlayersLabelEncodingBlock object at 0x1db78d640>_transform> start]\n",
      "[2021-07-25 16:37:08,781] [INFO] [<<__main__.PlayersLabelEncodingBlock object at 0x1db78d640>_transform> done in 0.01 s]\n",
      "[2021-07-25 16:37:08,787] [INFO] [<<__main__.PlayerStatsBlock object at 0x10ebc4640>_transform> start]\n",
      "[2021-07-25 16:37:12,194] [INFO] [<<__main__.PlayerStatsBlock object at 0x10ebc4640>_transform> done in 3.41 s]\n",
      "[2021-07-25 16:37:12,199] [INFO] [<<__main__.GamesCountBlock object at 0x1db78d070>_transform> start]\n",
      "[2021-07-25 16:37:12,544] [INFO] [<<__main__.GamesCountBlock object at 0x1db78d070>_transform> done in 0.34 s]\n",
      "[2021-07-25 16:37:12,551] [INFO] [<<__main__.PlayerTwitterFollowerAggregateBlock object at 0x10ec4c2e0>_transform> start]\n",
      "[2021-07-25 16:37:12,556] [INFO] [<<__main__.PlayerTwitterFollowerAggregateBlock object at 0x10ec4c2e0>_transform> done in 0.00 s]\n",
      "[2021-07-25 16:37:12,566] [INFO] [<<__main__.StandingsMetaBlock object at 0x10ec4c790>_transform> start]\n",
      "[2021-07-25 16:37:14,452] [INFO] [<<__main__.StandingsMetaBlock object at 0x10ec4c790>_transform> done in 1.89 s]\n",
      "[2021-07-25 16:37:14,461] [INFO] [<<__main__.Datetime2trigonometricEncodingBlock object at 0x10ec4ce20>_transform> start]\n",
      "[2021-07-25 16:37:14,480] [INFO] [<<__main__.Datetime2trigonometricEncodingBlock object at 0x10ec4ce20>_transform> done in 0.02 s]\n",
      "[2021-07-25 16:37:14,561] [INFO] [<<__main__.TargetAggregateBlock object at 0x10ebc4880>_transform> start]\n",
      "[2021-07-25 16:37:14,577] [INFO] [<<__main__.TargetAggregateBlock object at 0x10ebc4880>_transform> done in 0.02 s]\n",
      "[2021-07-25 16:37:14,581] [INFO] [<<__main__.RostersLabelEncodingBlock object at 0x1db78d5e0>_transform> start]\n",
      "[2021-07-25 16:37:15,003] [INFO] [<<__main__.RostersLabelEncodingBlock object at 0x1db78d5e0>_transform> done in 0.42 s]\n",
      "[2021-07-25 16:37:15,009] [INFO] [<<__main__.PlayersLabelEncodingBlock object at 0x1db78d640>_transform> start]\n",
      "[2021-07-25 16:37:15,014] [INFO] [<<__main__.PlayersLabelEncodingBlock object at 0x1db78d640>_transform> done in 0.01 s]\n",
      "[2021-07-25 16:37:15,020] [INFO] [<<__main__.PlayerStatsBlock object at 0x10ebc4640>_transform> start]\n",
      "[2021-07-25 16:37:18,392] [INFO] [<<__main__.PlayerStatsBlock object at 0x10ebc4640>_transform> done in 3.37 s]\n",
      "[2021-07-25 16:37:18,399] [INFO] [<<__main__.GamesCountBlock object at 0x1db78d070>_transform> start]\n",
      "[2021-07-25 16:37:18,759] [INFO] [<<__main__.GamesCountBlock object at 0x1db78d070>_transform> done in 0.36 s]\n",
      "[2021-07-25 16:37:18,767] [INFO] [<<__main__.PlayerTwitterFollowerAggregateBlock object at 0x10ec4c2e0>_transform> start]\n",
      "[2021-07-25 16:37:18,776] [INFO] [<<__main__.PlayerTwitterFollowerAggregateBlock object at 0x10ec4c2e0>_transform> done in 0.01 s]\n",
      "[2021-07-25 16:37:18,784] [INFO] [<<__main__.StandingsMetaBlock object at 0x10ec4c790>_transform> start]\n",
      "[2021-07-25 16:37:20,730] [INFO] [<<__main__.StandingsMetaBlock object at 0x10ec4c790>_transform> done in 1.95 s]\n",
      "[2021-07-25 16:37:20,739] [INFO] [<<__main__.Datetime2trigonometricEncodingBlock object at 0x10ec4ce20>_transform> start]\n",
      "[2021-07-25 16:37:20,757] [INFO] [<<__main__.Datetime2trigonometricEncodingBlock object at 0x10ec4ce20>_transform> done in 0.02 s]\n",
      "[2021-07-25 16:37:20,819] [INFO] [<<__main__.TargetAggregateBlock object at 0x10ebc4880>_transform> start]\n",
      "[2021-07-25 16:37:20,829] [INFO] [<<__main__.TargetAggregateBlock object at 0x10ebc4880>_transform> done in 0.01 s]\n",
      "[2021-07-25 16:37:20,833] [INFO] [<<__main__.RostersLabelEncodingBlock object at 0x1db78d5e0>_transform> start]\n",
      "[2021-07-25 16:37:21,277] [INFO] [<<__main__.RostersLabelEncodingBlock object at 0x1db78d5e0>_transform> done in 0.44 s]\n",
      "[2021-07-25 16:37:21,283] [INFO] [<<__main__.PlayersLabelEncodingBlock object at 0x1db78d640>_transform> start]\n",
      "[2021-07-25 16:37:21,289] [INFO] [<<__main__.PlayersLabelEncodingBlock object at 0x1db78d640>_transform> done in 0.01 s]\n",
      "[2021-07-25 16:37:21,296] [INFO] [<<__main__.PlayerStatsBlock object at 0x10ebc4640>_transform> start]\n",
      "[2021-07-25 16:37:24,952] [INFO] [<<__main__.PlayerStatsBlock object at 0x10ebc4640>_transform> done in 3.66 s]\n",
      "[2021-07-25 16:37:24,958] [INFO] [<<__main__.GamesCountBlock object at 0x1db78d070>_transform> start]\n"
     ]
    },
    {
     "output_type": "error",
     "ename": "KeyboardInterrupt",
     "evalue": "",
     "traceback": [
      "\u001b[0;31m---------------------------------------------------------------------------\u001b[0m",
      "\u001b[0;31mKeyboardInterrupt\u001b[0m                         Traceback (most recent call last)",
      "\u001b[0;32m<ipython-input-17-663e7f2ea4c8>\u001b[0m in \u001b[0;36m<module>\u001b[0;34m\u001b[0m\n\u001b[1;32m    104\u001b[0m     \u001b[0;31m# update_dataset(test_df, sample_prediction_df)\u001b[0m\u001b[0;34m\u001b[0m\u001b[0;34m\u001b[0m\u001b[0;34m\u001b[0m\u001b[0m\n\u001b[1;32m    105\u001b[0m     \u001b[0;31m# # create features\u001b[0m\u001b[0;34m\u001b[0m\u001b[0;34m\u001b[0m\u001b[0;34m\u001b[0m\u001b[0m\n\u001b[0;32m--> 106\u001b[0;31m     \u001b[0mtest_feat_df\u001b[0m \u001b[0;34m=\u001b[0m \u001b[0mcreate_test_feature\u001b[0m\u001b[0;34m(\u001b[0m\u001b[0msample_prediction_df\u001b[0m\u001b[0;34m,\u001b[0m \u001b[0mupdate_blocks\u001b[0m\u001b[0;34m,\u001b[0m \u001b[0mnon_update_blocks\u001b[0m\u001b[0;34m)\u001b[0m\u001b[0;34m\u001b[0m\u001b[0;34m\u001b[0m\u001b[0m\n\u001b[0m\u001b[1;32m    107\u001b[0m     \u001b[0mX_test\u001b[0m \u001b[0;34m=\u001b[0m \u001b[0mtest_feat_df\u001b[0m\u001b[0;34m.\u001b[0m\u001b[0mvalues\u001b[0m\u001b[0;34m\u001b[0m\u001b[0;34m\u001b[0m\u001b[0m\n\u001b[1;32m    108\u001b[0m     \u001b[0;31m# prediction\u001b[0m\u001b[0;34m\u001b[0m\u001b[0;34m\u001b[0m\u001b[0;34m\u001b[0m\u001b[0m\n",
      "\u001b[0;32m<ipython-input-6-a3971f50b8fc>\u001b[0m in \u001b[0;36mcreate_test_feature\u001b[0;34m(input_df, update_blocks, non_update_blocks)\u001b[0m\n\u001b[1;32m     38\u001b[0m         \u001b[0;32mwith\u001b[0m \u001b[0mtimer\u001b[0m\u001b[0;34m(\u001b[0m\u001b[0mname\u001b[0m\u001b[0;34m=\u001b[0m\u001b[0;34mf\"{str(block) + '_transform'}\"\u001b[0m\u001b[0;34m,\u001b[0m \u001b[0mlogger\u001b[0m\u001b[0;34m=\u001b[0m\u001b[0mlogger\u001b[0m\u001b[0;34m)\u001b[0m\u001b[0;34m:\u001b[0m\u001b[0;34m\u001b[0m\u001b[0;34m\u001b[0m\u001b[0m\n\u001b[1;32m     39\u001b[0m             \u001b[0;32mtry\u001b[0m\u001b[0;34m:\u001b[0m\u001b[0;34m\u001b[0m\u001b[0;34m\u001b[0m\u001b[0m\n\u001b[0;32m---> 40\u001b[0;31m                 \u001b[0mout_feat_block\u001b[0m \u001b[0;34m=\u001b[0m \u001b[0mblock\u001b[0m\u001b[0;34m.\u001b[0m\u001b[0mtransform\u001b[0m\u001b[0;34m(\u001b[0m\u001b[0minput_df\u001b[0m\u001b[0;34m)\u001b[0m\u001b[0;34m\u001b[0m\u001b[0;34m\u001b[0m\u001b[0m\n\u001b[0m\u001b[1;32m     41\u001b[0m             \u001b[0;32mexcept\u001b[0m \u001b[0mException\u001b[0m \u001b[0;32mas\u001b[0m \u001b[0me\u001b[0m\u001b[0;34m:\u001b[0m\u001b[0;34m\u001b[0m\u001b[0;34m\u001b[0m\u001b[0m\n\u001b[1;32m     42\u001b[0m                 \u001b[0mprint\u001b[0m\u001b[0;34m(\u001b[0m\u001b[0;34mf\"Error on {block} transform.\"\u001b[0m\u001b[0;34m)\u001b[0m\u001b[0;34m\u001b[0m\u001b[0;34m\u001b[0m\u001b[0m\n",
      "\u001b[0;32m<ipython-input-5-0b9231b57d14>\u001b[0m in \u001b[0;36mtransform\u001b[0;34m(self, input_df)\u001b[0m\n\u001b[1;32m    146\u001b[0m \u001b[0;34m\u001b[0m\u001b[0m\n\u001b[1;32m    147\u001b[0m     \u001b[0;32mdef\u001b[0m \u001b[0mtransform\u001b[0m\u001b[0;34m(\u001b[0m\u001b[0mself\u001b[0m\u001b[0;34m,\u001b[0m \u001b[0minput_df\u001b[0m\u001b[0;34m:\u001b[0m \u001b[0mpd\u001b[0m\u001b[0;34m.\u001b[0m\u001b[0mDataFrame\u001b[0m\u001b[0;34m)\u001b[0m\u001b[0;34m:\u001b[0m\u001b[0;34m\u001b[0m\u001b[0;34m\u001b[0m\u001b[0m\n\u001b[0;32m--> 148\u001b[0;31m         \u001b[0mgames_df\u001b[0m \u001b[0;34m=\u001b[0m \u001b[0mmlb_train_ds\u001b[0m\u001b[0;34m.\u001b[0m\u001b[0mtrain_scores\u001b[0m\u001b[0;34m[\u001b[0m\u001b[0;34m[\u001b[0m\u001b[0;34m\"date\"\u001b[0m\u001b[0;34m,\u001b[0m \u001b[0;34m\"playerId\"\u001b[0m\u001b[0;34m,\u001b[0m \u001b[0;34m\"gamePk\"\u001b[0m\u001b[0;34m]\u001b[0m\u001b[0;34m]\u001b[0m\u001b[0;34m.\u001b[0m\u001b[0mmerge\u001b[0m\u001b[0;34m(\u001b[0m\u001b[0mmlb_train_ds\u001b[0m\u001b[0;34m.\u001b[0m\u001b[0mtrain_games\u001b[0m\u001b[0;34m,\u001b[0m \u001b[0mon\u001b[0m\u001b[0;34m=\u001b[0m\u001b[0;34m[\u001b[0m\u001b[0;34m\"date\"\u001b[0m\u001b[0;34m,\u001b[0m \u001b[0;34m\"gamePk\"\u001b[0m\u001b[0;34m]\u001b[0m\u001b[0;34m,\u001b[0m \u001b[0mhow\u001b[0m\u001b[0;34m=\u001b[0m\u001b[0;34m\"left\"\u001b[0m\u001b[0;34m)\u001b[0m\u001b[0;34m\u001b[0m\u001b[0;34m\u001b[0m\u001b[0m\n\u001b[0m\u001b[1;32m    149\u001b[0m         \u001b[0mself\u001b[0m\u001b[0;34m.\u001b[0m\u001b[0magg_df\u001b[0m \u001b[0;34m=\u001b[0m \u001b[0mgames_df\u001b[0m\u001b[0;34m.\u001b[0m\u001b[0mgroupby\u001b[0m\u001b[0;34m(\u001b[0m\u001b[0;34m[\u001b[0m\u001b[0;34m\"date\"\u001b[0m\u001b[0;34m,\u001b[0m \u001b[0;34m\"playerId\"\u001b[0m\u001b[0;34m]\u001b[0m\u001b[0;34m)\u001b[0m\u001b[0;34m[\u001b[0m\u001b[0mself\u001b[0m\u001b[0;34m.\u001b[0m\u001b[0mcolumns\u001b[0m\u001b[0;34m]\u001b[0m\u001b[0;34m.\u001b[0m\u001b[0msum\u001b[0m\u001b[0;34m(\u001b[0m\u001b[0;34m)\u001b[0m\u001b[0;34m.\u001b[0m\u001b[0mreset_index\u001b[0m\u001b[0;34m(\u001b[0m\u001b[0;34m)\u001b[0m\u001b[0;34m\u001b[0m\u001b[0;34m\u001b[0m\u001b[0m\n\u001b[1;32m    150\u001b[0m \u001b[0;34m\u001b[0m\u001b[0m\n",
      "\u001b[0;32m~/data-science/kaggle/MLB-Player-Digital-Engagement-Forecasting/.venv/lib/python3.8/site-packages/pandas/core/frame.py\u001b[0m in \u001b[0;36mmerge\u001b[0;34m(self, right, how, on, left_on, right_on, left_index, right_index, sort, suffixes, copy, indicator, validate)\u001b[0m\n\u001b[1;32m   8193\u001b[0m         \u001b[0;32mfrom\u001b[0m \u001b[0mpandas\u001b[0m\u001b[0;34m.\u001b[0m\u001b[0mcore\u001b[0m\u001b[0;34m.\u001b[0m\u001b[0mreshape\u001b[0m\u001b[0;34m.\u001b[0m\u001b[0mmerge\u001b[0m \u001b[0;32mimport\u001b[0m \u001b[0mmerge\u001b[0m\u001b[0;34m\u001b[0m\u001b[0;34m\u001b[0m\u001b[0m\n\u001b[1;32m   8194\u001b[0m \u001b[0;34m\u001b[0m\u001b[0m\n\u001b[0;32m-> 8195\u001b[0;31m         return merge(\n\u001b[0m\u001b[1;32m   8196\u001b[0m             \u001b[0mself\u001b[0m\u001b[0;34m,\u001b[0m\u001b[0;34m\u001b[0m\u001b[0;34m\u001b[0m\u001b[0m\n\u001b[1;32m   8197\u001b[0m             \u001b[0mright\u001b[0m\u001b[0;34m,\u001b[0m\u001b[0;34m\u001b[0m\u001b[0;34m\u001b[0m\u001b[0m\n",
      "\u001b[0;32m~/data-science/kaggle/MLB-Player-Digital-Engagement-Forecasting/.venv/lib/python3.8/site-packages/pandas/core/reshape/merge.py\u001b[0m in \u001b[0;36mmerge\u001b[0;34m(left, right, how, on, left_on, right_on, left_index, right_index, sort, suffixes, copy, indicator, validate)\u001b[0m\n\u001b[1;32m     87\u001b[0m         \u001b[0mvalidate\u001b[0m\u001b[0;34m=\u001b[0m\u001b[0mvalidate\u001b[0m\u001b[0;34m,\u001b[0m\u001b[0;34m\u001b[0m\u001b[0;34m\u001b[0m\u001b[0m\n\u001b[1;32m     88\u001b[0m     )\n\u001b[0;32m---> 89\u001b[0;31m     \u001b[0;32mreturn\u001b[0m \u001b[0mop\u001b[0m\u001b[0;34m.\u001b[0m\u001b[0mget_result\u001b[0m\u001b[0;34m(\u001b[0m\u001b[0;34m)\u001b[0m\u001b[0;34m\u001b[0m\u001b[0;34m\u001b[0m\u001b[0m\n\u001b[0m\u001b[1;32m     90\u001b[0m \u001b[0;34m\u001b[0m\u001b[0m\n\u001b[1;32m     91\u001b[0m \u001b[0;34m\u001b[0m\u001b[0m\n",
      "\u001b[0;32m~/data-science/kaggle/MLB-Player-Digital-Engagement-Forecasting/.venv/lib/python3.8/site-packages/pandas/core/reshape/merge.py\u001b[0m in \u001b[0;36mget_result\u001b[0;34m(self)\u001b[0m\n\u001b[1;32m    691\u001b[0m         \u001b[0mrindexers\u001b[0m \u001b[0;34m=\u001b[0m \u001b[0;34m{\u001b[0m\u001b[0;36m1\u001b[0m\u001b[0;34m:\u001b[0m \u001b[0mright_indexer\u001b[0m\u001b[0;34m}\u001b[0m \u001b[0;32mif\u001b[0m \u001b[0mright_indexer\u001b[0m \u001b[0;32mis\u001b[0m \u001b[0;32mnot\u001b[0m \u001b[0;32mNone\u001b[0m \u001b[0;32melse\u001b[0m \u001b[0;34m{\u001b[0m\u001b[0;34m}\u001b[0m\u001b[0;34m\u001b[0m\u001b[0;34m\u001b[0m\u001b[0m\n\u001b[1;32m    692\u001b[0m \u001b[0;34m\u001b[0m\u001b[0m\n\u001b[0;32m--> 693\u001b[0;31m         result_data = concatenate_block_managers(\n\u001b[0m\u001b[1;32m    694\u001b[0m             \u001b[0;34m[\u001b[0m\u001b[0;34m(\u001b[0m\u001b[0mself\u001b[0m\u001b[0;34m.\u001b[0m\u001b[0mleft\u001b[0m\u001b[0;34m.\u001b[0m\u001b[0m_mgr\u001b[0m\u001b[0;34m,\u001b[0m \u001b[0mlindexers\u001b[0m\u001b[0;34m)\u001b[0m\u001b[0;34m,\u001b[0m \u001b[0;34m(\u001b[0m\u001b[0mself\u001b[0m\u001b[0;34m.\u001b[0m\u001b[0mright\u001b[0m\u001b[0;34m.\u001b[0m\u001b[0m_mgr\u001b[0m\u001b[0;34m,\u001b[0m \u001b[0mrindexers\u001b[0m\u001b[0;34m)\u001b[0m\u001b[0;34m]\u001b[0m\u001b[0;34m,\u001b[0m\u001b[0;34m\u001b[0m\u001b[0;34m\u001b[0m\u001b[0m\n\u001b[1;32m    695\u001b[0m             \u001b[0maxes\u001b[0m\u001b[0;34m=\u001b[0m\u001b[0;34m[\u001b[0m\u001b[0mllabels\u001b[0m\u001b[0;34m.\u001b[0m\u001b[0mappend\u001b[0m\u001b[0;34m(\u001b[0m\u001b[0mrlabels\u001b[0m\u001b[0;34m)\u001b[0m\u001b[0;34m,\u001b[0m \u001b[0mjoin_index\u001b[0m\u001b[0;34m]\u001b[0m\u001b[0;34m,\u001b[0m\u001b[0;34m\u001b[0m\u001b[0;34m\u001b[0m\u001b[0m\n",
      "\u001b[0;32m~/data-science/kaggle/MLB-Player-Digital-Engagement-Forecasting/.venv/lib/python3.8/site-packages/pandas/core/internals/concat.py\u001b[0m in \u001b[0;36mconcatenate_block_managers\u001b[0;34m(mgrs_indexers, axes, concat_axis, copy)\u001b[0m\n\u001b[1;32m     81\u001b[0m         \u001b[0;32melse\u001b[0m\u001b[0;34m:\u001b[0m\u001b[0;34m\u001b[0m\u001b[0;34m\u001b[0m\u001b[0m\n\u001b[1;32m     82\u001b[0m             b = make_block(\n\u001b[0;32m---> 83\u001b[0;31m                 \u001b[0m_concatenate_join_units\u001b[0m\u001b[0;34m(\u001b[0m\u001b[0mjoin_units\u001b[0m\u001b[0;34m,\u001b[0m \u001b[0mconcat_axis\u001b[0m\u001b[0;34m,\u001b[0m \u001b[0mcopy\u001b[0m\u001b[0;34m=\u001b[0m\u001b[0mcopy\u001b[0m\u001b[0;34m)\u001b[0m\u001b[0;34m,\u001b[0m\u001b[0;34m\u001b[0m\u001b[0;34m\u001b[0m\u001b[0m\n\u001b[0m\u001b[1;32m     84\u001b[0m                 \u001b[0mplacement\u001b[0m\u001b[0;34m=\u001b[0m\u001b[0mplacement\u001b[0m\u001b[0;34m,\u001b[0m\u001b[0;34m\u001b[0m\u001b[0;34m\u001b[0m\u001b[0m\n\u001b[1;32m     85\u001b[0m                 \u001b[0mndim\u001b[0m\u001b[0;34m=\u001b[0m\u001b[0mlen\u001b[0m\u001b[0;34m(\u001b[0m\u001b[0maxes\u001b[0m\u001b[0;34m)\u001b[0m\u001b[0;34m,\u001b[0m\u001b[0;34m\u001b[0m\u001b[0;34m\u001b[0m\u001b[0m\n",
      "\u001b[0;32m~/data-science/kaggle/MLB-Player-Digital-Engagement-Forecasting/.venv/lib/python3.8/site-packages/pandas/core/internals/concat.py\u001b[0m in \u001b[0;36m_concatenate_join_units\u001b[0;34m(join_units, concat_axis, copy)\u001b[0m\n\u001b[1;32m    311\u001b[0m     \u001b[0mempty_dtype\u001b[0m\u001b[0;34m,\u001b[0m \u001b[0mupcasted_na\u001b[0m \u001b[0;34m=\u001b[0m \u001b[0m_get_empty_dtype_and_na\u001b[0m\u001b[0;34m(\u001b[0m\u001b[0mjoin_units\u001b[0m\u001b[0;34m)\u001b[0m\u001b[0;34m\u001b[0m\u001b[0;34m\u001b[0m\u001b[0m\n\u001b[1;32m    312\u001b[0m \u001b[0;34m\u001b[0m\u001b[0m\n\u001b[0;32m--> 313\u001b[0;31m     to_concat = [\n\u001b[0m\u001b[1;32m    314\u001b[0m         \u001b[0mju\u001b[0m\u001b[0;34m.\u001b[0m\u001b[0mget_reindexed_values\u001b[0m\u001b[0;34m(\u001b[0m\u001b[0mempty_dtype\u001b[0m\u001b[0;34m=\u001b[0m\u001b[0mempty_dtype\u001b[0m\u001b[0;34m,\u001b[0m \u001b[0mupcasted_na\u001b[0m\u001b[0;34m=\u001b[0m\u001b[0mupcasted_na\u001b[0m\u001b[0;34m)\u001b[0m\u001b[0;34m\u001b[0m\u001b[0;34m\u001b[0m\u001b[0m\n\u001b[1;32m    315\u001b[0m         \u001b[0;32mfor\u001b[0m \u001b[0mju\u001b[0m \u001b[0;32min\u001b[0m \u001b[0mjoin_units\u001b[0m\u001b[0;34m\u001b[0m\u001b[0;34m\u001b[0m\u001b[0m\n",
      "\u001b[0;32m~/data-science/kaggle/MLB-Player-Digital-Engagement-Forecasting/.venv/lib/python3.8/site-packages/pandas/core/internals/concat.py\u001b[0m in \u001b[0;36m<listcomp>\u001b[0;34m(.0)\u001b[0m\n\u001b[1;32m    312\u001b[0m \u001b[0;34m\u001b[0m\u001b[0m\n\u001b[1;32m    313\u001b[0m     to_concat = [\n\u001b[0;32m--> 314\u001b[0;31m         \u001b[0mju\u001b[0m\u001b[0;34m.\u001b[0m\u001b[0mget_reindexed_values\u001b[0m\u001b[0;34m(\u001b[0m\u001b[0mempty_dtype\u001b[0m\u001b[0;34m=\u001b[0m\u001b[0mempty_dtype\u001b[0m\u001b[0;34m,\u001b[0m \u001b[0mupcasted_na\u001b[0m\u001b[0;34m=\u001b[0m\u001b[0mupcasted_na\u001b[0m\u001b[0;34m)\u001b[0m\u001b[0;34m\u001b[0m\u001b[0;34m\u001b[0m\u001b[0m\n\u001b[0m\u001b[1;32m    315\u001b[0m         \u001b[0;32mfor\u001b[0m \u001b[0mju\u001b[0m \u001b[0;32min\u001b[0m \u001b[0mjoin_units\u001b[0m\u001b[0;34m\u001b[0m\u001b[0;34m\u001b[0m\u001b[0m\n\u001b[1;32m    316\u001b[0m     ]\n",
      "\u001b[0;32m~/data-science/kaggle/MLB-Player-Digital-Engagement-Forecasting/.venv/lib/python3.8/site-packages/pandas/core/internals/concat.py\u001b[0m in \u001b[0;36mget_reindexed_values\u001b[0;34m(self, empty_dtype, upcasted_na)\u001b[0m\n\u001b[1;32m    296\u001b[0m         \u001b[0;32melse\u001b[0m\u001b[0;34m:\u001b[0m\u001b[0;34m\u001b[0m\u001b[0;34m\u001b[0m\u001b[0m\n\u001b[1;32m    297\u001b[0m             \u001b[0;32mfor\u001b[0m \u001b[0max\u001b[0m\u001b[0;34m,\u001b[0m \u001b[0mindexer\u001b[0m \u001b[0;32min\u001b[0m \u001b[0mself\u001b[0m\u001b[0;34m.\u001b[0m\u001b[0mindexers\u001b[0m\u001b[0;34m.\u001b[0m\u001b[0mitems\u001b[0m\u001b[0;34m(\u001b[0m\u001b[0;34m)\u001b[0m\u001b[0;34m:\u001b[0m\u001b[0;34m\u001b[0m\u001b[0;34m\u001b[0m\u001b[0m\n\u001b[0;32m--> 298\u001b[0;31m                 \u001b[0mvalues\u001b[0m \u001b[0;34m=\u001b[0m \u001b[0malgos\u001b[0m\u001b[0;34m.\u001b[0m\u001b[0mtake_nd\u001b[0m\u001b[0;34m(\u001b[0m\u001b[0mvalues\u001b[0m\u001b[0;34m,\u001b[0m \u001b[0mindexer\u001b[0m\u001b[0;34m,\u001b[0m \u001b[0maxis\u001b[0m\u001b[0;34m=\u001b[0m\u001b[0max\u001b[0m\u001b[0;34m,\u001b[0m \u001b[0mfill_value\u001b[0m\u001b[0;34m=\u001b[0m\u001b[0mfill_value\u001b[0m\u001b[0;34m)\u001b[0m\u001b[0;34m\u001b[0m\u001b[0;34m\u001b[0m\u001b[0m\n\u001b[0m\u001b[1;32m    299\u001b[0m \u001b[0;34m\u001b[0m\u001b[0m\n\u001b[1;32m    300\u001b[0m         \u001b[0;32mreturn\u001b[0m \u001b[0mvalues\u001b[0m\u001b[0;34m\u001b[0m\u001b[0;34m\u001b[0m\u001b[0m\n",
      "\u001b[0;32m~/data-science/kaggle/MLB-Player-Digital-Engagement-Forecasting/.venv/lib/python3.8/site-packages/pandas/core/algorithms.py\u001b[0m in \u001b[0;36mtake_nd\u001b[0;34m(arr, indexer, axis, out, fill_value, allow_fill)\u001b[0m\n\u001b[1;32m   1757\u001b[0m         \u001b[0marr\u001b[0m\u001b[0;34m.\u001b[0m\u001b[0mndim\u001b[0m\u001b[0;34m,\u001b[0m \u001b[0marr\u001b[0m\u001b[0;34m.\u001b[0m\u001b[0mdtype\u001b[0m\u001b[0;34m,\u001b[0m \u001b[0mout\u001b[0m\u001b[0;34m.\u001b[0m\u001b[0mdtype\u001b[0m\u001b[0;34m,\u001b[0m \u001b[0maxis\u001b[0m\u001b[0;34m=\u001b[0m\u001b[0maxis\u001b[0m\u001b[0;34m,\u001b[0m \u001b[0mmask_info\u001b[0m\u001b[0;34m=\u001b[0m\u001b[0mmask_info\u001b[0m\u001b[0;34m\u001b[0m\u001b[0;34m\u001b[0m\u001b[0m\n\u001b[1;32m   1758\u001b[0m     )\n\u001b[0;32m-> 1759\u001b[0;31m     \u001b[0mfunc\u001b[0m\u001b[0;34m(\u001b[0m\u001b[0marr\u001b[0m\u001b[0;34m,\u001b[0m \u001b[0mindexer\u001b[0m\u001b[0;34m,\u001b[0m \u001b[0mout\u001b[0m\u001b[0;34m,\u001b[0m \u001b[0mfill_value\u001b[0m\u001b[0;34m)\u001b[0m\u001b[0;34m\u001b[0m\u001b[0;34m\u001b[0m\u001b[0m\n\u001b[0m\u001b[1;32m   1760\u001b[0m \u001b[0;34m\u001b[0m\u001b[0m\n\u001b[1;32m   1761\u001b[0m     \u001b[0;32mif\u001b[0m \u001b[0mflip_order\u001b[0m\u001b[0;34m:\u001b[0m\u001b[0;34m\u001b[0m\u001b[0;34m\u001b[0m\u001b[0m\n",
      "\u001b[0;31mKeyboardInterrupt\u001b[0m: "
     ]
    }
   ],
   "metadata": {}
  },
  {
   "cell_type": "code",
   "execution_count": null,
   "source": [
    "prediction_df = env.prediction_df.copy()\n",
    "prediction_df.columns = [\"date_playerId\", \"target1_pred\", \"target2_pred\", \"target3_pred\", \"target4_pred\"]\n",
    "prediction_df[\"playerId\"] = prediction_df[\"date_playerId\"].map(lambda x: int(x.split(\"_\")[1]))\n",
    "prediction_df[\"engagementMetricsDate\"] = prediction_df[\"date_playerId\"].map(lambda x: x.split(\"_\")[0])\n",
    "prediction_df[\"engagementMetricsDate\"] = prediction_df[\"engagementMetricsDate\"].map(lambda x: x[:4] + \"-\" + x[4:6] + \"-\" + x[6:])\n",
    "prediction_df = prediction_df.merge(mlb_train_ds.train_next.drop(columns=\"date\"), on=[\"playerId\", \"engagementMetricsDate\"], how=\"left\")\n",
    "prediction_df"
   ],
   "outputs": [],
   "metadata": {}
  },
  {
   "cell_type": "code",
   "execution_count": null,
   "source": [
    "score = []\n",
    "for i in CFG.TARGETS:\n",
    "    pred = prediction_df[f\"{i}_pred\"]\n",
    "    true = prediction_df[i]\n",
    "    mae = mean_absolute_error(pred, true)\n",
    "    print(f\"{i} mae : {mae}\")\n",
    "    score.append(mae)\n",
    "\n",
    "print(f\"MCMAE:{np.mean(score)}\")"
   ],
   "outputs": [],
   "metadata": {}
  },
  {
   "cell_type": "code",
   "execution_count": null,
   "source": [],
   "outputs": [],
   "metadata": {}
  }
 ],
 "metadata": {
  "orig_nbformat": 4,
  "language_info": {
   "name": "python",
   "version": "3.8.8",
   "mimetype": "text/x-python",
   "codemirror_mode": {
    "name": "ipython",
    "version": 3
   },
   "pygments_lexer": "ipython3",
   "nbconvert_exporter": "python",
   "file_extension": ".py"
  },
  "kernelspec": {
   "name": "python3",
   "display_name": "Python 3.8.8 64-bit ('.venv': poetry)"
  },
  "interpreter": {
   "hash": "49e542643694108dbc7cdf9f60531ad0f8dd36c5e7a125d96861557f43e4f65e"
  }
 },
 "nbformat": 4,
 "nbformat_minor": 2
}