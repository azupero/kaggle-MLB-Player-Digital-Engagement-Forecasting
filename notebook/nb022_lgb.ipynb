{
 "cells": [
  {
   "cell_type": "markdown",
   "source": [
    "# Overview\n",
    "- LightGBM"
   ],
   "metadata": {}
  },
  {
   "cell_type": "code",
   "execution_count": 1,
   "source": [
    "import numpy as np\n",
    "import pandas as pd\n",
    "from pathlib import Path\n",
    "from sklearn.metrics import mean_absolute_error\n",
    "from datetime import timedelta\n",
    "from tqdm.notebook import tqdm\n",
    "import lightgbm as lgb\n",
    "from typing import List, Union, Optional\n",
    "import time\n",
    "from contextlib import contextmanager\n",
    "import sys\n",
    "import logging\n",
    "import category_encoders as ce\n",
    "import plotly\n",
    "from plotly import express as px\n",
    "from scipy.stats import norm\n",
    "# from optuna.integration import lightgbm as lgb\n",
    "# import mlb\n",
    "import os\n",
    "import warnings\n",
    "from typing import Optional, Tuple\n",
    "from tqdm.notebook import tqdm\n",
    "from collections import defaultdict\n",
    "\n",
    "pd.options.display.max_columns = 200\n",
    "\n",
    "DEBUG = True"
   ],
   "outputs": [],
   "metadata": {}
  },
  {
   "cell_type": "markdown",
   "source": [
    "## Config"
   ],
   "metadata": {}
  },
  {
   "cell_type": "code",
   "execution_count": 2,
   "source": [
    "class CFG:\n",
    "    ######################\n",
    "    # global #\n",
    "    ######################\n",
    "    INPUT_DIR = \"../input/mlb-player-digital-engagement-forecasting\"\n",
    "    # INPUT_DIR = \"../input/mlb-unnested-dataset\" # for kaggle kernel\n",
    "    OBJECT_ID = [\"playerId\", \"date\"]\n",
    "    TARGETS = [\"target1\", \"target2\", \"target3\", \"target4\"]\n",
    "    ######################\n",
    "    # model #\n",
    "    ######################\n",
    "    # target1\n",
    "    LGB_TARGET1_PARAMS = {\n",
    "        \"objective\": \"mae\",\n",
    "        \"metric\": \"l1\",\n",
    "        \"boosting_type\": \"gbdt\",\n",
    "        \"learning_rate\": 0.1,\n",
    "        \"max_depth\": 6,\n",
    "        \"num_leaves\": 54,\n",
    "        \"lambda_l1\": 1.8294424356946235e-07,\n",
    "        \"lambda_l2\": 8.269494679852943e-05,\n",
    "        \"bagging_fraction\": 0.9311050425278897,\n",
    "        \"bagging_freq\": 2,\n",
    "        \"feature_fraction\": 0.9840000000000001,\n",
    "        \"min_data_in_leaf\": 20,\n",
    "        \"num_threads\": 8,\n",
    "        \"verbosity\": -1,\n",
    "        \"num_iterations\": 10000,\n",
    "        \"early_stopping_round\": 100,\n",
    "    }\n",
    "    # target2\n",
    "    LGB_TARGET2_PARAMS = {\n",
    "        \"objective\": \"mae\",\n",
    "        \"metric\": \"l1\",\n",
    "        \"boosting_type\": \"gbdt\",\n",
    "        \"learning_rate\": 0.1,\n",
    "        \"max_depth\": 6,\n",
    "        \"num_leaves\": 14,\n",
    "        \"lambda_l1\": 4.379035512071324e-06,\n",
    "        \"lambda_l2\": 5.940520594400555e-05,\n",
    "        \"bagging_fraction\": 1.0,\n",
    "        \"bagging_freq\": 0,\n",
    "        \"feature_fraction\": 0.5,\n",
    "        \"min_data_in_leaf\": 20,\n",
    "        \"num_threads\": 8,\n",
    "        \"verbosity\": -1,\n",
    "        \"num_iterations\": 10000,\n",
    "        \"early_stopping_round\": 100,\n",
    "    }\n",
    "    # target3\n",
    "    LGB_TARGET3_PARAMS = {\n",
    "        \"objective\": \"mae\",\n",
    "        \"metric\": \"l1\",\n",
    "        \"boosting_type\": \"gbdt\",\n",
    "        \"learning_rate\": 0.1,\n",
    "        \"max_depth\": 6,\n",
    "        \"num_leaves\": 64,\n",
    "        \"lambda_l1\": 0.011234793539671765,\n",
    "        \"lambda_l2\": 4.766835836661758e-06,\n",
    "        \"bagging_fraction\": 0.8841726515054378,\n",
    "        \"bagging_freq\": 3,\n",
    "        \"feature_fraction\": 1.0,\n",
    "        \"min_data_in_leaf\": 100,\n",
    "        \"num_threads\": 8,\n",
    "        \"verbosity\": -1,\n",
    "        \"num_iterations\": 10000,\n",
    "        \"early_stopping_round\": 100,\n",
    "    }\n",
    "    # target4\n",
    "    LGB_TARGET4_PARAMS = {\n",
    "        \"objective\": \"mae\",\n",
    "        \"metric\": \"l1\",\n",
    "        \"boosting_type\": \"gbdt\",\n",
    "        \"learning_rate\": 0.1,\n",
    "        \"max_depth\": 6,\n",
    "        \"num_leaves\": 51,\n",
    "        \"lambda_l1\": 5.506356543008336,\n",
    "        \"lambda_l2\": 9.683199146595637,\n",
    "        \"bagging_fraction\": 0.7376768451562011,\n",
    "        \"bagging_freq\": 2,\n",
    "        \"feature_fraction\": 0.5,\n",
    "        \"min_data_in_leaf\": 20,\n",
    "        \"num_threads\": 8,\n",
    "        \"verbosity\": -1,\n",
    "        \"num_iterations\": 10000,\n",
    "        \"early_stopping_round\": 100,\n",
    "    }\n",
    "    SEEDS = [2434]\n",
    "    MODEL_PATH = \"../output/nb022\"\n",
    "    # MODEL_PATH = \"../input/mlb-nb022-lgb-weights\" # for kaggle kernel"
   ],
   "outputs": [],
   "metadata": {}
  },
  {
   "cell_type": "markdown",
   "source": [
    "## Utils"
   ],
   "metadata": {}
  },
  {
   "cell_type": "code",
   "execution_count": 3,
   "source": [
    "def get_logger(out_file=None):\n",
    "    logger = logging.getLogger()  # loggerの呼び出し\n",
    "    formatter = logging.Formatter(\"[%(asctime)s] [%(levelname)s] [%(message)s]\")  # ログ出力の際のフォーマットを定義\n",
    "    logger.handlers = []  # ハンドラーを追加するためのリスト\n",
    "    logger.setLevel(logging.INFO)  # ロギングのレベルを設定, 'INFO' : 想定された通りのことが起こったことの確認\n",
    "\n",
    "    handler = logging.StreamHandler(sys.stdout)  # StreamHandler(コンソールに出力するハンドラ)を追加\n",
    "    handler.setFormatter(formatter)\n",
    "    handler.setLevel(logging.INFO)\n",
    "    logger.addHandler(handler)\n",
    "\n",
    "    # ログをファイルとして出力する際のハンドラ(FileHandler)\n",
    "    if out_file is not None:\n",
    "        fh = logging.FileHandler(out_file)\n",
    "        fh.setFormatter(formatter)\n",
    "        fh.setLevel(logging.INFO)\n",
    "        logger.addHandler(fh)\n",
    "\n",
    "    logger.info(\"logger set up\")  # \"logger set up\"を表示\n",
    "    return logger\n",
    "\n",
    "\n",
    "@contextmanager\n",
    "def timer(name: str, logger: Optional[logging.Logger] = None):\n",
    "    t0 = time.time()\n",
    "    msg = f\"<{name}> start\"\n",
    "    if logger is None:\n",
    "        print(msg)\n",
    "    else:\n",
    "        logger.info(msg)\n",
    "    yield\n",
    "\n",
    "    msg = f\"<{name}> done in {time.time() - t0:.2f} s\"\n",
    "    if logger is None:\n",
    "        print(msg)\n",
    "    else:\n",
    "        logger.info(msg)\n",
    "\n",
    "\n",
    "def reduce_mem_usage(df, verbose=True):\n",
    "    numerics = ['int16', 'int32', 'int64', 'float16', 'float32', 'float64']\n",
    "    start_mem = df.memory_usage().sum() / 1024**2\n",
    "    for col in df.columns:\n",
    "        col_type = df[col].dtypes\n",
    "        if col_type in numerics:\n",
    "            c_min = df[col].min()\n",
    "            c_max = df[col].max()\n",
    "            if str(col_type)[:3] == 'int':\n",
    "                if c_min > np.iinfo(np.int8).min and c_max < np.iinfo(np.int8).max:\n",
    "                    df[col] = df[col].astype(np.int16)\n",
    "                elif c_min > np.iinfo(np.int16).min and c_max < np.iinfo(np.int16).max:\n",
    "                    df[col] = df[col].astype(np.int32)\n",
    "                elif c_min > np.iinfo(np.int32).min and c_max < np.iinfo(np.int32).max:\n",
    "                    df[col] = df[col].astype(np.int64)\n",
    "                elif c_min > np.iinfo(np.int64).min and c_max < np.iinfo(np.int64).max:\n",
    "                    df[col] = df[col].astype(np.int64)\n",
    "            else:\n",
    "                if c_min > np.finfo(np.float16).min and c_max < np.finfo(np.float16).max:\n",
    "                    df[col] = df[col].astype(np.float32)\n",
    "                elif c_min > np.finfo(np.float32).min and c_max < np.finfo(np.float32).max:\n",
    "                    df[col] = df[col].astype(np.float64)\n",
    "                else:\n",
    "                    df[col] = df[col].astype(np.float64)\n",
    "    end_mem = df.memory_usage().sum() / 1024**2\n",
    "    if verbose: print('Mem. usage decreased to {:5.2f} Mb ({:.1f}% reduction)'.format(end_mem, 100 * (start_mem - end_mem) / start_mem))\n",
    "    return df"
   ],
   "outputs": [],
   "metadata": {}
  },
  {
   "cell_type": "markdown",
   "source": [
    "## Loading dataset"
   ],
   "metadata": {}
  },
  {
   "cell_type": "code",
   "execution_count": 4,
   "source": [
    "class MLBDataset(object):\n",
    "    def __init__(self, input_path):\n",
    "        self.input_path = Path(input_path)\n",
    "        #################\n",
    "        # train #\n",
    "        #################\n",
    "        self.train_next = pd.read_pickle(self.input_path / \"train_updated_nextDayPlayerEngagement.pickle\")\n",
    "        self.train_rosters = pd.read_pickle(self.input_path / \"train_updated_rosters.pickle\")\n",
    "        self.train_ptf = pd.read_pickle(self.input_path / \"train_updated_playerTwitterFollowers.pickle\")\n",
    "        self.train_scores = pd.read_pickle(self.input_path / \"train_updated_playerBoxScores.pickle\")\n",
    "        self.train_games = pd.read_pickle(self.input_path / \"train_updated_games.pickle\")\n",
    "        self.train_standings = pd.read_pickle(self.input_path / \"train_updated_standings.pickle\")\n",
    "        self.train_tbs = pd.read_pickle(self.input_path / \"train_updated_teamBoxScores.pickle\")\n",
    "        self.train_ttf = pd.read_pickle(self.input_path / \"train_updated_teamTwitterFollowers.pickle\")\n",
    "        self.train_trans = pd.read_pickle(self.input_path / \"train_updated_transactions.pickle\")\n",
    "        self.train_awards = pd.read_pickle(self.input_path / \"train_updated_awards.pickle\")\n",
    "        self.train_events = pd.read_pickle(self.input_path / \"train_updated_events.pickle\")\n",
    "        #################\n",
    "        # Additional #\n",
    "        #################\n",
    "        self.players = pd.read_pickle(self.input_path / \"players.pickle\")\n",
    "        self.awards = pd.read_pickle(self.input_path / \"awards.pickle\")\n",
    "        self.seasons = pd.read_pickle(self.input_path / \"seasons.pickle\")\n",
    "        self.teams = pd.read_pickle(self.input_path / \"teams.pickle\")\n",
    "        #################\n",
    "        # test #\n",
    "        #################\n",
    "        self.example_test = pd.read_csv(self.input_path / \"example_test.csv\")\n",
    "        self.sample_submission = pd.read_csv(self.input_path / \"example_sample_submission.csv\")\n",
    "\n",
    "        # # only players in test set\n",
    "        # target_playerids = self.players[self.players[\"playerForTestSetAndFuturePreds\"] == True][\"playerId\"].unique()\n",
    "        # self.train_next = self.train_next[self.train_next[\"playerId\"].isin(target_playerids)].reset_index(drop=True)\n",
    "\n",
    "mlb_train_ds = MLBDataset(CFG.INPUT_DIR)"
   ],
   "outputs": [],
   "metadata": {}
  },
  {
   "cell_type": "markdown",
   "source": [
    "## Feature blocks"
   ],
   "metadata": {}
  },
  {
   "cell_type": "code",
   "execution_count": 5,
   "source": [
    "def merge_by_key(left: Union[pd.DataFrame, pd.Series], right: pd.DataFrame, on=CFG.OBJECT_ID) -> pd.DataFrame:\n",
    "    if not isinstance(left, pd.Series):\n",
    "        left = left[on]\n",
    "    return pd.merge(left, right, on=on, how=\"left\").drop(columns=on)\n",
    "\n",
    "\n",
    "class BaseBlock(object):\n",
    "    def fit(self, input_df: pd.DataFrame, y=None) -> pd.DataFrame:\n",
    "        return self.transform(input_df)\n",
    "\n",
    "    def transform(self, input_df: pd.DataFrame) -> pd.DataFrame:\n",
    "        return NotImplementedError()\n",
    "\n",
    "\n",
    "def quantile25(x: pd.Series):\n",
    "    return x.quantile(q=0.25)\n",
    "\n",
    "\n",
    "def quantile75(x: pd.Series):\n",
    "    return x.quantile(q=0.75)\n",
    "\n",
    "\n",
    "def prob(x: pd.Series):\n",
    "    x = x.reset_index(drop=True).values.tolist()\n",
    "    mean = np.mean(x)\n",
    "    std = np.std(x)\n",
    "    distribution = norm(mean, std)\n",
    "    min_weight = min(x)\n",
    "    max_weight = max(x)\n",
    "    values = list(np.linspace(min_weight, max_weight))\n",
    "    probabilities = [distribution.pdf(v) for v in values]\n",
    "    max_values = max(probabilities)\n",
    "    max_index = probabilities.index(max_values)\n",
    "\n",
    "    return x[max_index]\n",
    "\n",
    "\n",
    "class TargetAggregateBlock(BaseBlock):\n",
    "    def __init__(self, periods: List[int]):\n",
    "        self.periods = periods\n",
    "        \n",
    "    def fit(\n",
    "        self,\n",
    "        input_df: pd.DataFrame,\n",
    "        target_df: pd.DataFrame,\n",
    "        rosters_df: pd.DataFrame,\n",
    "        playerBoxScores_df: pd.DataFrame,\n",
    "        only_fit: bool,\n",
    "    ):\n",
    "        output_df = pd.DataFrame()\n",
    "        for i in self.periods:\n",
    "            _target_df = target_df[(target_df[\"date\"] >= i) & (target_df[\"date\"] < (i + 100))].copy()\n",
    "\n",
    "            cols = _target_df.drop(columns=[\"date\", \"engagementMetricsDate\", \"playerId\"], axis=1).columns.tolist()\n",
    "            dfs = [_target_df.groupby([\"playerId\"])[col].agg([\n",
    "                \"mean\", \"std\", \"max\", \"min\", \"median\", quantile25, quantile75, prob\n",
    "                ]).add_prefix(f\"{col}_{str(i)[:-2]}_\") for col in cols]\n",
    "            tmp_df = pd.concat(dfs, axis=1)\n",
    "            output_df = pd.concat([output_df, tmp_df], axis=1)\n",
    "\n",
    "            del _target_df, dfs, tmp_df\n",
    "\n",
    "        self.agg_df = output_df.reset_index()\n",
    "\n",
    "        return self.transform(\n",
    "            input_df,\n",
    "            target_df,\n",
    "            rosters_df,\n",
    "            playerBoxScores_df\n",
    "        )\n",
    "\n",
    "    def transform(\n",
    "        self,\n",
    "        input_df: pd.DataFrame,\n",
    "        target_df: pd.DataFrame,\n",
    "        rosters_df: pd.DataFrame,\n",
    "        playerBoxScores_df: pd.DataFrame\n",
    "    ):\n",
    "        return merge_by_key(input_df, self.agg_df, on=\"playerId\")\n",
    "\n",
    "\n",
    "class PlayersLabelEncodingBlock(BaseBlock):\n",
    "    def __init__(self, columns: List[str]):\n",
    "        self.columns = columns + [\"playerId\"]\n",
    "        self.players_df = mlb_train_ds.players.copy()\n",
    "        self.players_df[\"DOB_year\"] = pd.to_datetime(self.players_df[\"DOB\"]).dt.year\n",
    "        self.players_df[\"playerAge\"] = 2021 - self.players_df[\"DOB_year\"]\n",
    "        self.labeled_df = self.players_df[self.columns].copy()\n",
    "        self.labeled_df[\"playerid\"] = self.labeled_df[\"playerId\"]\n",
    "        self.columns = self.columns + [\"playerid\"]\n",
    "        self.encoder = None\n",
    "    \n",
    "    def fit(\n",
    "        self,\n",
    "        input_df: pd.DataFrame,\n",
    "        target_df: pd.DataFrame,\n",
    "        rosters_df: pd.DataFrame,\n",
    "        playerBoxScores_df: pd.DataFrame,\n",
    "        only_fit: bool\n",
    "    ):\n",
    "        self.encoder = ce.OrdinalEncoder(handle_unknown=\"value\", handle_missing=\"values\")\n",
    "        self.encoder.fit(self.labeled_df[self.columns])\n",
    "        self.labeled_df[self.columns] = self.encoder.transform(self.labeled_df[self.columns])\n",
    "\n",
    "        return self.transform(\n",
    "            input_df,\n",
    "            target_df,\n",
    "            rosters_df,\n",
    "            playerBoxScores_df\n",
    "        )\n",
    "\n",
    "    def transform(\n",
    "        self,\n",
    "        input_df: pd.DataFrame,\n",
    "        target_df: pd.DataFrame,\n",
    "        rosters_df: pd.DataFrame,\n",
    "        playerBoxScores_df: pd.DataFrame\n",
    "    ):\n",
    "        return merge_by_key(input_df, self.labeled_df, on=\"playerId\").add_prefix(\"Players_LE_\")\n",
    "\n",
    "\n",
    "class RostersLabelEncodingBlock(BaseBlock):\n",
    "    def __init__(self, columns: List[str]):\n",
    "        self.columns = columns\n",
    "        self.encoder = None\n",
    "\n",
    "    def fit(\n",
    "        self,\n",
    "        input_df: pd.DataFrame,\n",
    "        target_df: pd.DataFrame,\n",
    "        rosters_df: pd.DataFrame,\n",
    "        playerBoxScores_df: pd.DataFrame,\n",
    "        only_fit: bool\n",
    "    ):\n",
    "        self.encoder = ce.OrdinalEncoder(handle_unknown=\"value\", handle_missing=\"value\")\n",
    "        self.encoder.fit(rosters_df[self.columns])\n",
    "\n",
    "        return self.transform(\n",
    "            input_df,\n",
    "            target_df,\n",
    "            rosters_df,\n",
    "            playerBoxScores_df\n",
    "        )\n",
    "\n",
    "    def transform(\n",
    "        self,\n",
    "        input_df: pd.DataFrame,\n",
    "        target_df: pd.DataFrame,\n",
    "        rosters_df: pd.DataFrame,\n",
    "        playerBoxScores_df: pd.DataFrame\n",
    "    ):\n",
    "        self.labeled_df = rosters_df[CFG.OBJECT_ID + self.columns].copy()\n",
    "        self.labeled_df[self.columns] = self.encoder.transform(self.labeled_df[self.columns])\n",
    "\n",
    "        return merge_by_key(input_df, self.labeled_df).add_prefix(\"Rosters_LE_\")\n",
    "\n",
    "\n",
    "class PlayerStatsBlock(BaseBlock):\n",
    "    def __init__(self, columns):\n",
    "        self.columns = columns\n",
    "        # game info\n",
    "        self.feat_home_dict = defaultdict(lambda: defaultdict(lambda: defaultdict(int)))\n",
    "        self.feat_home_cum_dict = defaultdict(lambda: defaultdict(lambda: defaultdict(int)))\n",
    "        self.feat_positionCode_dict = defaultdict(lambda: defaultdict(lambda: defaultdict(int)))\n",
    "        self.feat_battingOrder_dict = defaultdict(lambda: defaultdict(lambda: defaultdict(int)))\n",
    "        # batting\n",
    "        self.feat_gamesPlayedBatting_dict = defaultdict(lambda: defaultdict(lambda: defaultdict(int)))\n",
    "        self.feat_gamesPlayedBatting_cum_dict = defaultdict(lambda: defaultdict(lambda: defaultdict(int)))\n",
    "        self.feat_plateAppearances_dict = defaultdict(lambda: defaultdict(lambda: defaultdict(int)))\n",
    "        self.feat_plateAppearances_cum_dict = defaultdict(lambda: defaultdict(lambda: defaultdict(int)))\n",
    "        self.feat_atBats_dict = defaultdict(lambda: defaultdict(lambda: defaultdict(int)))\n",
    "        self.feat_atBats_cum_dict = defaultdict(lambda: defaultdict(lambda: defaultdict(int)))\n",
    "        self.feat_hits_dict = defaultdict(lambda: defaultdict(lambda: defaultdict(int)))\n",
    "        self.feat_hits_cum_dict = defaultdict(lambda: defaultdict(lambda: defaultdict(int)))\n",
    "        self.feat_doubles_dict = defaultdict(lambda: defaultdict(lambda: defaultdict(int)))\n",
    "        self.feat_doubles_cum_dict = defaultdict(lambda: defaultdict(lambda: defaultdict(int)))\n",
    "        self.feat_triples_dict = defaultdict(lambda: defaultdict(lambda: defaultdict(int)))\n",
    "        self.feat_triples_cum_dict = defaultdict(lambda: defaultdict(lambda: defaultdict(int)))\n",
    "        self.feat_homeRuns_dict = defaultdict(lambda: defaultdict(lambda: defaultdict(int)))\n",
    "        self.feat_homeRuns_cum_dict = defaultdict(lambda: defaultdict(lambda: defaultdict(int)))\n",
    "        self.feat_rbi_dict = defaultdict(lambda: defaultdict(lambda: defaultdict(int)))\n",
    "        self.feat_rbi_cum_dict = defaultdict(lambda: defaultdict(lambda: defaultdict(int)))\n",
    "        self.feat_runsScored_dict = defaultdict(lambda: defaultdict(lambda: defaultdict(int)))\n",
    "        self.feat_runsScored_cum_dict = defaultdict(lambda: defaultdict(lambda: defaultdict(int)))\n",
    "        self.feat_totalBases_dict = defaultdict(lambda: defaultdict(lambda: defaultdict(int)))\n",
    "        self.feat_totalBases_cum_dict = defaultdict(lambda: defaultdict(lambda: defaultdict(int)))\n",
    "        self.feat_baseOnBalls_dict = defaultdict(lambda: defaultdict(lambda: defaultdict(int)))\n",
    "        self.feat_baseOnBalls_cum_dict = defaultdict(lambda: defaultdict(lambda: defaultdict(int)))\n",
    "        self.feat_hitByPitch_dict = defaultdict(lambda: defaultdict(lambda: defaultdict(int)))\n",
    "        self.feat_hitByPitch_cum_dict = defaultdict(lambda: defaultdict(lambda: defaultdict(int)))\n",
    "        self.feat_intentionalWalks_dict = defaultdict(lambda: defaultdict(lambda: defaultdict(int)))\n",
    "        self.feat_intentionalWalks_cum_dict = defaultdict(lambda: defaultdict(lambda: defaultdict(int)))\n",
    "        self.feat_groundIntoDoublePlay_dict = defaultdict(lambda: defaultdict(lambda: defaultdict(int)))\n",
    "        self.feat_groundIntoDoublePlay_cum_dict = defaultdict(lambda: defaultdict(lambda: defaultdict(int)))\n",
    "        self.feat_groundIntoTriplePlay_dict = defaultdict(lambda: defaultdict(lambda: defaultdict(int)))\n",
    "        self.feat_groundIntoTriplePlay_cum_dict = defaultdict(lambda: defaultdict(lambda: defaultdict(int)))\n",
    "        self.feat_strikeOuts_dict = defaultdict(lambda: defaultdict(lambda: defaultdict(int)))\n",
    "        self.feat_strikeOuts_cum_dict = defaultdict(lambda: defaultdict(lambda: defaultdict(int)))\n",
    "        self.feat_sacBunts_dict = defaultdict(lambda: defaultdict(lambda: defaultdict(int)))\n",
    "        self.feat_sacBunts_cum_dict = defaultdict(lambda: defaultdict(lambda: defaultdict(int)))\n",
    "        self.feat_sacFlies_dict = defaultdict(lambda: defaultdict(lambda: defaultdict(int)))\n",
    "        self.feat_sacFlies_cum_dict = defaultdict(lambda: defaultdict(lambda: defaultdict(int)))\n",
    "        self.feat_caughtStealing_dict = defaultdict(lambda: defaultdict(lambda: defaultdict(int)))\n",
    "        self.feat_caughtStealing_cum_dict = defaultdict(lambda: defaultdict(lambda: defaultdict(int)))\n",
    "        self.feat_stolenBases_dict = defaultdict(lambda: defaultdict(lambda: defaultdict(int)))\n",
    "        self.feat_stolenBases_cum_dict = defaultdict(lambda: defaultdict(lambda: defaultdict(int)))\n",
    "        self.feat_leftOnBase_dict = defaultdict(lambda: defaultdict(lambda: defaultdict(int)))\n",
    "        self.feat_leftOnBase_cum_dict = defaultdict(lambda: defaultdict(lambda: defaultdict(int)))\n",
    "        self.feat_catchersInterference_dict = defaultdict(lambda: defaultdict(lambda: defaultdict(int)))\n",
    "        self.feat_catchersInterference_cum_dict = defaultdict(lambda: defaultdict(lambda: defaultdict(int)))\n",
    "        self.feat_pickoffs_dict = defaultdict(lambda: defaultdict(lambda: defaultdict(int)))\n",
    "        self.feat_pickoffs_cum_dict = defaultdict(lambda: defaultdict(lambda: defaultdict(int)))\n",
    "        self.feat_flyOuts_dict = defaultdict(lambda: defaultdict(lambda: defaultdict(int)))\n",
    "        self.feat_flyOuts_cum_dict = defaultdict(lambda: defaultdict(lambda: defaultdict(int)))\n",
    "        self.feat_groundOuts_dict = defaultdict(lambda: defaultdict(lambda: defaultdict(int)))\n",
    "        self.feat_groundOuts_cum_dict = defaultdict(lambda: defaultdict(lambda: defaultdict(int)))\n",
    "        # pitching\n",
    "        self.feat_gamesPlayedPitching_dict = defaultdict(lambda: defaultdict(lambda: defaultdict(int)))\n",
    "        self.feat_gamesPlayedPitching_cum_dict = defaultdict(lambda: defaultdict(lambda: defaultdict(int)))\n",
    "        self.feat_gamesStartedPitching_dict = defaultdict(lambda: defaultdict(lambda: defaultdict(int)))\n",
    "        self.feat_gamesStartedPitching_cum_dict = defaultdict(lambda: defaultdict(lambda: defaultdict(int)))\n",
    "        self.feat_winsPitching_dict = defaultdict(lambda: defaultdict(lambda: defaultdict(int)))\n",
    "        self.feat_winsPitching_cum_dict = defaultdict(lambda: defaultdict(lambda: defaultdict(int)))\n",
    "        self.feat_lossesPitching_dict = defaultdict(lambda: defaultdict(lambda: defaultdict(int)))\n",
    "        self.feat_lossesPitching_cum_dict = defaultdict(lambda: defaultdict(lambda: defaultdict(int)))\n",
    "        self.feat_completeGamesPitching_dict = defaultdict(lambda: defaultdict(lambda: defaultdict(int)))\n",
    "        self.feat_completeGamesPitching_cum_dict = defaultdict(lambda: defaultdict(lambda: defaultdict(int)))\n",
    "        self.feat_shutoutsPitching_dict = defaultdict(lambda: defaultdict(lambda: defaultdict(int)))\n",
    "        self.feat_shutoutsPitching_cum_dict = defaultdict(lambda: defaultdict(lambda: defaultdict(int)))\n",
    "        self.feat_saves_dict = defaultdict(lambda: defaultdict(lambda: defaultdict(int)))\n",
    "        self.feat_saves_cum_dict = defaultdict(lambda: defaultdict(lambda: defaultdict(int)))\n",
    "        self.feat_saveOpportunities_dict = defaultdict(lambda: defaultdict(lambda: defaultdict(int)))\n",
    "        self.feat_saveOpportunities_cum_dict = defaultdict(lambda: defaultdict(lambda: defaultdict(int)))\n",
    "        self.feat_blownSaves_dict = defaultdict(lambda: defaultdict(lambda: defaultdict(int)))\n",
    "        self.feat_blownSaves_cum_dict = defaultdict(lambda: defaultdict(lambda: defaultdict(int)))\n",
    "        self.feat_holds_dict = defaultdict(lambda: defaultdict(lambda: defaultdict(int)))\n",
    "        self.feat_holds_cum_dict = defaultdict(lambda: defaultdict(lambda: defaultdict(int)))\n",
    "        self.feat_inningsPitched_dict = defaultdict(lambda: defaultdict(lambda: defaultdict(int)))\n",
    "        self.feat_inningsPitched_cum_dict = defaultdict(lambda: defaultdict(lambda: defaultdict(int)))\n",
    "        self.feat_runsPitching_dict = defaultdict(lambda: defaultdict(lambda: defaultdict(int)))\n",
    "        self.feat_runsPitching_cum_dict = defaultdict(lambda: defaultdict(lambda: defaultdict(int)))\n",
    "        self.feat_earnedRuns_dict = defaultdict(lambda: defaultdict(lambda: defaultdict(int)))\n",
    "        self.feat_earnedRuns_cum_dict = defaultdict(lambda: defaultdict(lambda: defaultdict(int)))\n",
    "        self.feat_pitchesThrown_dict = defaultdict(lambda: defaultdict(lambda: defaultdict(int)))\n",
    "        self.feat_pitchesThrown_cum_dict = defaultdict(lambda: defaultdict(lambda: defaultdict(int)))\n",
    "        self.feat_hitsPitching_dict = defaultdict(lambda: defaultdict(lambda: defaultdict(int)))\n",
    "        self.feat_hitsPitching_cum_dict = defaultdict(lambda: defaultdict(lambda: defaultdict(int)))\n",
    "        self.feat_homeRunsPitching_dict = defaultdict(lambda: defaultdict(lambda: defaultdict(int)))\n",
    "        self.feat_homeRunsPitching_cum_dict = defaultdict(lambda: defaultdict(lambda: defaultdict(int)))\n",
    "        self.feat_strikeOutsPitching_dict = defaultdict(lambda: defaultdict(lambda: defaultdict(int)))\n",
    "        self.feat_strikeOutsPitching_cum_dict = defaultdict(lambda: defaultdict(lambda: defaultdict(int)))\n",
    "        self.feat_baseOnBallsPitching_dict = defaultdict(lambda: defaultdict(lambda: defaultdict(int)))\n",
    "        self.feat_baseOnBallsPitching_cum_dict = defaultdict(lambda: defaultdict(lambda: defaultdict(int)))\n",
    "        self.feat_hitByPitchPitching_dict = defaultdict(lambda: defaultdict(lambda: defaultdict(int)))\n",
    "        self.feat_hitByPitchPitching_cum_dict = defaultdict(lambda: defaultdict(lambda: defaultdict(int)))\n",
    "        self.feat_intentionalWalksPitching_dict = defaultdict(lambda: defaultdict(lambda: defaultdict(int)))\n",
    "        self.feat_intentionalWalksPitching_cum_dict = defaultdict(lambda: defaultdict(lambda: defaultdict(int)))\n",
    "        self.feat_balks_dict = defaultdict(lambda: defaultdict(lambda: defaultdict(int)))\n",
    "        self.feat_balks_cum_dict = defaultdict(lambda: defaultdict(lambda: defaultdict(int)))\n",
    "        self.feat_wildPitches_dict = defaultdict(lambda: defaultdict(lambda: defaultdict(int)))\n",
    "        self.feat_wildPitches_cum_dict = defaultdict(lambda: defaultdict(lambda: defaultdict(int)))\n",
    "        self.feat_atBatsPitching_dict = defaultdict(lambda: defaultdict(lambda: defaultdict(int)))\n",
    "        self.feat_atBatsPitching_cum_dict = defaultdict(lambda: defaultdict(lambda: defaultdict(int)))\n",
    "        self.feat_battersFaced_dict = defaultdict(lambda: defaultdict(lambda: defaultdict(int)))\n",
    "        self.feat_battersFaced_cum_dict = defaultdict(lambda: defaultdict(lambda: defaultdict(int)))\n",
    "        self.feat_sacBuntsPitching_dict = defaultdict(lambda: defaultdict(lambda: defaultdict(int)))\n",
    "        self.feat_sacBuntsPitching_cum_dict = defaultdict(lambda: defaultdict(lambda: defaultdict(int)))\n",
    "        self.feat_sacFliesPitching_dict = defaultdict(lambda: defaultdict(lambda: defaultdict(int)))\n",
    "        self.feat_sacFliesPitching_cum_dict = defaultdict(lambda: defaultdict(lambda: defaultdict(int)))\n",
    "        self.feat_inheritedRunners_dict = defaultdict(lambda: defaultdict(lambda: defaultdict(int)))\n",
    "        self.feat_inheritedRunners_cum_dict = defaultdict(lambda: defaultdict(lambda: defaultdict(int)))\n",
    "        self.feat_inheritedRunnersScored_dict = defaultdict(lambda: defaultdict(lambda: defaultdict(int)))\n",
    "        self.feat_inheritedRunnersScored_cum_dict = defaultdict(lambda: defaultdict(lambda: defaultdict(int)))\n",
    "        self.feat_rbiPitching_dict = defaultdict(lambda: defaultdict(lambda: defaultdict(int)))\n",
    "        self.feat_rbiPitching_cum_dict = defaultdict(lambda: defaultdict(lambda: defaultdict(int)))\n",
    "        self.feat_flyOutsPitching_dict = defaultdict(lambda: defaultdict(lambda: defaultdict(int)))\n",
    "        self.feat_flyOutsPitching_cum_dict = defaultdict(lambda: defaultdict(lambda: defaultdict(int)))\n",
    "        self.feat_airOutsPitching_dict = defaultdict(lambda: defaultdict(lambda: defaultdict(int)))\n",
    "        self.feat_airOutsPitching_cum_dict = defaultdict(lambda: defaultdict(lambda: defaultdict(int)))\n",
    "        self.feat_doublesPitching_dict = defaultdict(lambda: defaultdict(lambda: defaultdict(int)))\n",
    "        self.feat_doublesPitching_cum_dict = defaultdict(lambda: defaultdict(lambda: defaultdict(int)))\n",
    "        self.feat_triplesPitching_dict = defaultdict(lambda: defaultdict(lambda: defaultdict(int)))\n",
    "        self.feat_triplesPitching_cum_dict = defaultdict(lambda: defaultdict(lambda: defaultdict(int)))\n",
    "        self.feat_caughtStealingPitching_dict = defaultdict(lambda: defaultdict(lambda: defaultdict(int)))\n",
    "        self.feat_caughtStealingPitching_cum_dict = defaultdict(lambda: defaultdict(lambda: defaultdict(int)))\n",
    "        self.feat_stolenBasesPitching_dict = defaultdict(lambda: defaultdict(lambda: defaultdict(int)))\n",
    "        self.feat_stolenBasesPitching_cum_dict = defaultdict(lambda: defaultdict(lambda: defaultdict(int)))\n",
    "        self.feat_outsPitching_dict = defaultdict(lambda: defaultdict(lambda: defaultdict(int)))\n",
    "        self.feat_outsPitching_cum_dict = defaultdict(lambda: defaultdict(lambda: defaultdict(int)))\n",
    "        self.feat_balls_dict = defaultdict(lambda: defaultdict(lambda: defaultdict(int)))\n",
    "        self.feat_balls_cum_dict = defaultdict(lambda: defaultdict(lambda: defaultdict(int)))\n",
    "        self.feat_strikes_dict = defaultdict(lambda: defaultdict(lambda: defaultdict(int)))\n",
    "        self.feat_strikes_cum_dict = defaultdict(lambda: defaultdict(lambda: defaultdict(int)))\n",
    "        self.feat_hitBatsmen_dict = defaultdict(lambda: defaultdict(lambda: defaultdict(int)))\n",
    "        self.feat_hitBatsmen_cum_dict = defaultdict(lambda: defaultdict(lambda: defaultdict(int)))\n",
    "        self.feat_pickoffsPitching_dict = defaultdict(lambda: defaultdict(lambda: defaultdict(int)))\n",
    "        self.feat_pickoffsPitching_cum_dict = defaultdict(lambda: defaultdict(lambda: defaultdict(int)))\n",
    "        self.feat_catchersInterferencePitching_dict = defaultdict(lambda: defaultdict(lambda: defaultdict(int)))\n",
    "        self.feat_catchersInterferencePitching_cum_dict = defaultdict(lambda: defaultdict(lambda: defaultdict(int)))\n",
    "        self.feat_assists_dict = defaultdict(lambda: defaultdict(lambda: defaultdict(int)))\n",
    "        self.feat_assists_cum_dict = defaultdict(lambda: defaultdict(lambda: defaultdict(int)))\n",
    "        self.feat_putOuts_dict = defaultdict(lambda: defaultdict(lambda: defaultdict(int)))\n",
    "        self.feat_putOuts_cum_dict = defaultdict(lambda: defaultdict(lambda: defaultdict(int)))\n",
    "        self.feat_errors_dict = defaultdict(lambda: defaultdict(lambda: defaultdict(int)))\n",
    "        self.feat_errors_cum_dict = defaultdict(lambda: defaultdict(lambda: defaultdict(int)))\n",
    "        self.feat_chances_dict = defaultdict(lambda: defaultdict(lambda: defaultdict(int)))\n",
    "        self.feat_chances_cum_dict = defaultdict(lambda: defaultdict(lambda: defaultdict(int)))\n",
    "        self.feat_gamesFinishedPitching_dict = defaultdict(lambda: defaultdict(lambda: defaultdict(int)))\n",
    "        self.feat_gamesFinishedPitching_cum_dict = defaultdict(lambda: defaultdict(lambda: defaultdict(int)))\n",
    "        self.feat_groundOutsPitching_dict = defaultdict(lambda: defaultdict(lambda: defaultdict(int)))\n",
    "        self.feat_groundOutsPitching_cum_dict = defaultdict(lambda: defaultdict(lambda: defaultdict(int)))\n",
    "\n",
    "    def fit(\n",
    "        self,\n",
    "        input_df: pd.DataFrame,\n",
    "        target_df: pd.DataFrame,\n",
    "        rosters_df: pd.DataFrame,\n",
    "        playerBoxScores_df: pd.DataFrame,\n",
    "        only_fit: bool\n",
    "    ):\n",
    "        if playerBoxScores_df is not None:\n",
    "            for i, row in enumerate(tqdm(playerBoxScores_df[self.columns].values)):\n",
    "                season = int(str(row[1])[:4])\n",
    "\n",
    "                self.feat_home_dict[row[0]][season][row[1]] += row[2]\n",
    "                self.feat_positionCode_dict[row[0]][season][row[1]] += row[3]\n",
    "                self.feat_battingOrder_dict[row[0]][season][row[1]] += row[4]\n",
    "                self.feat_gamesPlayedBatting_dict[row[0]][season][row[1]] += row[5]\n",
    "                self.feat_plateAppearances_dict[row[0]][season][row[1]] += row[6]\n",
    "                self.feat_atBats_dict[row[0]][season][row[1]] += row[7]\n",
    "                self.feat_hits_dict[row[0]][season][row[1]] += row[8]\n",
    "                self.feat_doubles_dict[row[0]][season][row[1]] += row[9]\n",
    "                self.feat_triples_dict[row[0]][season][row[1]] += row[10]\n",
    "                self.feat_homeRuns_dict[row[0]][season][row[1]] += row[11]\n",
    "                self.feat_rbi_dict[row[0]][season][row[1]] += row[12]\n",
    "                self.feat_runsScored_dict[row[0]][season][row[1]] += row[13]\n",
    "                self.feat_totalBases_dict[row[0]][season][row[1]] += row[14]\n",
    "                self.feat_baseOnBalls_dict[row[0]][season][row[1]] += row[15]\n",
    "                self.feat_hitByPitch_dict[row[0]][season][row[1]] += row[16]\n",
    "                self.feat_intentionalWalks_dict[row[0]][season][row[1]] += row[17]\n",
    "                self.feat_groundIntoDoublePlay_dict[row[0]][season][row[1]] += row[18]\n",
    "                self.feat_groundIntoTriplePlay_dict[row[0]][season][row[1]] += row[19]\n",
    "                self.feat_strikeOuts_dict[row[0]][season][row[1]] += row[20]\n",
    "                self.feat_sacBunts_dict[row[0]][season][row[1]] += row[21]\n",
    "                self.feat_sacFlies_dict[row[0]][season][row[1]] += row[22]\n",
    "                self.feat_caughtStealing_dict[row[0]][season][row[1]] += row[23]\n",
    "                self.feat_stolenBases_dict[row[0]][season][row[1]] += row[24]\n",
    "                self.feat_leftOnBase_dict[row[0]][season][row[1]] += row[25]\n",
    "                self.feat_catchersInterference_dict[row[0]][season][row[1]] += row[26]\n",
    "                self.feat_pickoffs_dict[row[0]][season][row[1]] += row[27]\n",
    "                self.feat_flyOuts_dict[row[0]][season][row[1]] += row[28]\n",
    "                self.feat_groundOuts_dict[row[0]][season][row[1]] += row[29]\n",
    "\n",
    "                self.feat_gamesPlayedPitching_dict[row[0]][season][row[1]] += row[30]\n",
    "                self.feat_gamesStartedPitching_dict[row[0]][season][row[1]] += row[31]\n",
    "                self.feat_winsPitching_dict[row[0]][season][row[1]] += row[32]\n",
    "                self.feat_lossesPitching_dict[row[0]][season][row[1]] += row[33]\n",
    "                self.feat_completeGamesPitching_dict[row[0]][season][row[1]] += row[34]\n",
    "                self.feat_shutoutsPitching_dict[row[0]][season][row[1]] += row[35]\n",
    "                self.feat_saves_dict[row[0]][season][row[1]] += row[36]\n",
    "                self.feat_saveOpportunities_dict[row[0]][season][row[1]] += row[37]\n",
    "                self.feat_blownSaves_dict[row[0]][season][row[1]] += row[38]\n",
    "                self.feat_holds_dict[row[0]][season][row[1]] += row[39]\n",
    "                self.feat_inningsPitched_dict[row[0]][season][row[1]] += row[40]\n",
    "                self.feat_runsPitching_dict[row[0]][season][row[1]] += row[41]\n",
    "                self.feat_earnedRuns_dict[row[0]][season][row[1]] += row[42]\n",
    "                self.feat_pitchesThrown_dict[row[0]][season][row[1]] += row[43]\n",
    "                self.feat_hitsPitching_dict[row[0]][season][row[1]] += row[44]\n",
    "                self.feat_homeRunsPitching_dict[row[0]][season][row[1]] += row[45]\n",
    "                self.feat_strikeOutsPitching_dict[row[0]][season][row[1]] += row[46]\n",
    "                self.feat_baseOnBallsPitching_dict[row[0]][season][row[1]] += row[47]\n",
    "                self.feat_hitByPitchPitching_dict[row[0]][season][row[1]] += row[48]\n",
    "                self.feat_intentionalWalksPitching_dict[row[0]][season][row[1]] += row[49]\n",
    "                self.feat_balks_dict[row[0]][season][row[1]] += row[50]\n",
    "                self.feat_wildPitches_dict[row[0]][season][row[1]] += row[51]\n",
    "                self.feat_atBatsPitching_dict[row[0]][season][row[1]] += row[52]\n",
    "                self.feat_battersFaced_dict[row[0]][season][row[1]] += row[53]\n",
    "                self.feat_sacBuntsPitching_dict[row[0]][season][row[1]] += row[54]\n",
    "                self.feat_sacFliesPitching_dict[row[0]][season][row[1]] += row[55]\n",
    "                self.feat_inheritedRunners_dict[row[0]][season][row[1]] += row[56]\n",
    "                self.feat_inheritedRunnersScored_dict[row[0]][season][row[1]] += row[57]\n",
    "                self.feat_rbiPitching_dict[row[0]][season][row[1]] += row[58]\n",
    "                self.feat_flyOutsPitching_dict[row[0]][season][row[1]] += row[59]\n",
    "                self.feat_airOutsPitching_dict[row[0]][season][row[1]] += row[60]\n",
    "                self.feat_doublesPitching_dict[row[0]][season][row[1]] += row[61]\n",
    "                self.feat_triplesPitching_dict[row[0]][season][row[1]] += row[62]\n",
    "                self.feat_caughtStealingPitching_dict[row[0]][season][row[1]] += row[63]\n",
    "                self.feat_stolenBasesPitching_dict[row[0]][season][row[1]] += row[64]\n",
    "                self.feat_outsPitching_dict[row[0]][season][row[1]] += row[65]\n",
    "                self.feat_balls_dict[row[0]][season][row[1]] += row[66]\n",
    "                self.feat_strikes_dict[row[0]][season][row[1]] += row[67]\n",
    "                self.feat_hitBatsmen_dict[row[0]][season][row[1]] += row[68]\n",
    "                self.feat_pickoffsPitching_dict[row[0]][season][row[1]] += row[69]\n",
    "                self.feat_catchersInterferencePitching_dict[row[0]][season][row[1]] += row[70]\n",
    "                self.feat_assists_dict[row[0]][season][row[1]] += row[71]\n",
    "                self.feat_putOuts_dict[row[0]][season][row[1]] += row[72]\n",
    "                self.feat_errors_dict[row[0]][season][row[1]] += row[73]\n",
    "                self.feat_chances_dict[row[0]][season][row[1]] += row[74]\n",
    "                self.feat_gamesFinishedPitching_dict[row[0]][season][row[1]] += row[75]\n",
    "                self.feat_groundOutsPitching_dict[row[0]][season][row[1]] += row[76]\n",
    "                \n",
    "                self.feat_home_cum_dict[row[0]][season][row[1]] += self.add_cumsum2dict(row[0], row[1], season, self.feat_home_cum_dict, row[2])\n",
    "                self.feat_gamesPlayedBatting_cum_dict[row[0]][season][row[1]] += self.add_cumsum2dict(row[0], row[1], season, self.feat_gamesPlayedBatting_cum_dict, row[5])\n",
    "                self.feat_plateAppearances_cum_dict[row[0]][season][row[1]] += self.add_cumsum2dict(row[0], row[1], season, self.feat_plateAppearances_cum_dict, row[6])\n",
    "                self.feat_atBats_cum_dict[row[0]][season][row[1]] += self.add_cumsum2dict(row[0], row[1], season, self.feat_atBats_cum_dict, row[7])\n",
    "                self.feat_hits_cum_dict[row[0]][season][row[1]] += self.add_cumsum2dict(row[0], row[1], season, self.feat_hits_cum_dict, row[8])\n",
    "                self.feat_doubles_cum_dict[row[0]][season][row[1]] += self.add_cumsum2dict(row[0], row[1], season, self.feat_doubles_cum_dict, row[9])\n",
    "                self.feat_triples_cum_dict[row[0]][season][row[1]] += self.add_cumsum2dict(row[0], row[1], season, self.feat_triples_cum_dict, row[10])\n",
    "                self.feat_homeRuns_cum_dict[row[0]][season][row[1]] += self.add_cumsum2dict(row[0], row[1], season, self.feat_homeRuns_cum_dict, row[11])\n",
    "                self.feat_rbi_cum_dict[row[0]][season][row[1]] += self.add_cumsum2dict(row[0], row[1], season, self.feat_rbi_cum_dict, row[12])\n",
    "                self.feat_runsScored_cum_dict[row[0]][season][row[1]] += self.add_cumsum2dict(row[0], row[1], season, self.feat_runsScored_cum_dict, row[13])\n",
    "                self.feat_totalBases_cum_dict[row[0]][season][row[1]] += self.add_cumsum2dict(row[0], row[1], season, self.feat_totalBases_cum_dict, row[14])\n",
    "                self.feat_baseOnBalls_cum_dict[row[0]][season][row[1]] += self.add_cumsum2dict(row[0], row[1], season, self.feat_baseOnBalls_cum_dict, row[15])\n",
    "                self.feat_hitByPitch_cum_dict[row[0]][season][row[1]] += self.add_cumsum2dict(row[0], row[1], season, self.feat_hitByPitch_cum_dict, row[16])\n",
    "                self.feat_intentionalWalks_cum_dict[row[0]][season][row[1]] += self.add_cumsum2dict(row[0], row[1], season, self.feat_intentionalWalks_cum_dict, row[17])\n",
    "                self.feat_groundIntoDoublePlay_cum_dict[row[0]][season][row[1]] += self.add_cumsum2dict(row[0], row[1], season, self.feat_groundIntoDoublePlay_cum_dict, row[18])\n",
    "                self.feat_groundIntoTriplePlay_cum_dict[row[0]][season][row[1]] += self.add_cumsum2dict(row[0], row[1], season, self.feat_groundIntoTriplePlay_cum_dict, row[19])\n",
    "                self.feat_strikeOuts_cum_dict[row[0]][season][row[1]] += self.add_cumsum2dict(row[0], row[1], season, self.feat_strikeOuts_cum_dict, row[20])\n",
    "                self.feat_sacBunts_cum_dict[row[0]][season][row[1]] += self.add_cumsum2dict(row[0], row[1], season, self.feat_sacBunts_cum_dict, row[21])\n",
    "                self.feat_sacFlies_cum_dict[row[0]][season][row[1]] += self.add_cumsum2dict(row[0], row[1], season, self.feat_sacFlies_cum_dict, row[22])\n",
    "                self.feat_caughtStealing_cum_dict[row[0]][season][row[1]] += self.add_cumsum2dict(row[0], row[1], season, self.feat_caughtStealing_cum_dict, row[23])\n",
    "                self.feat_stolenBases_cum_dict[row[0]][season][row[1]] += self.add_cumsum2dict(row[0], row[1], season, self.feat_stolenBases_cum_dict, row[24])\n",
    "                self.feat_leftOnBase_cum_dict[row[0]][season][row[1]] += self.add_cumsum2dict(row[0], row[1], season, self.feat_leftOnBase_cum_dict, row[25])\n",
    "                self.feat_catchersInterference_cum_dict[row[0]][season][row[1]] += self.add_cumsum2dict(row[0], row[1], season, self.feat_catchersInterference_cum_dict, row[26])\n",
    "                self.feat_pickoffs_cum_dict[row[0]][season][row[1]] += self.add_cumsum2dict(row[0], row[1], season, self.feat_pickoffs_cum_dict, row[27])\n",
    "                self.feat_flyOuts_cum_dict[row[0]][season][row[1]] += self.add_cumsum2dict(row[0], row[1], season, self.feat_flyOuts_cum_dict, row[28])\n",
    "                self.feat_groundOuts_cum_dict[row[0]][season][row[1]] += self.add_cumsum2dict(row[0], row[1], season, self.feat_groundOuts_cum_dict, row[29])\n",
    "\n",
    "                self.feat_gamesPlayedPitching_cum_dict[row[0]][season][row[1]] += self.add_cumsum2dict(row[0], row[1], season, self.feat_gamesPlayedPitching_cum_dict, row[30])\n",
    "                self.feat_gamesStartedPitching_cum_dict[row[0]][season][row[1]] += self.add_cumsum2dict(row[0], row[1], season, self.feat_gamesStartedPitching_cum_dict, row[31])\n",
    "                self.feat_winsPitching_cum_dict[row[0]][season][row[1]] += self.add_cumsum2dict(row[0], row[1], season, self.feat_winsPitching_cum_dict, row[32])\n",
    "                self.feat_lossesPitching_cum_dict[row[0]][season][row[1]] += self.add_cumsum2dict(row[0], row[1], season, self.feat_lossesPitching_cum_dict, row[33])\n",
    "                self.feat_completeGamesPitching_cum_dict[row[0]][season][row[1]] += self.add_cumsum2dict(row[0], row[1], season, self.feat_completeGamesPitching_cum_dict, row[34])\n",
    "                self.feat_shutoutsPitching_cum_dict[row[0]][season][row[1]] += self.add_cumsum2dict(row[0], row[1], season, self.feat_shutoutsPitching_cum_dict, row[35])\n",
    "                self.feat_saves_cum_dict[row[0]][season][row[1]] += self.add_cumsum2dict(row[0], row[1], season, self.feat_saves_cum_dict, row[36])\n",
    "                self.feat_saveOpportunities_cum_dict[row[0]][season][row[1]] += self.add_cumsum2dict(row[0], row[1], season, self.feat_saveOpportunities_cum_dict, row[37])\n",
    "                self.feat_blownSaves_cum_dict[row[0]][season][row[1]] += self.add_cumsum2dict(row[0], row[1], season, self.feat_blownSaves_cum_dict, row[38])\n",
    "                self.feat_holds_cum_dict[row[0]][season][row[1]] += self.add_cumsum2dict(row[0], row[1], season, self.feat_holds_cum_dict, row[39])\n",
    "                self.feat_inningsPitched_cum_dict[row[0]][season][row[1]] += self.add_cumsum2dict(row[0], row[1], season, self.feat_inningsPitched_cum_dict, row[40])\n",
    "                self.feat_runsPitching_cum_dict[row[0]][season][row[1]] += self.add_cumsum2dict(row[0], row[1], season, self.feat_runsPitching_cum_dict, row[41])\n",
    "                self.feat_earnedRuns_cum_dict[row[0]][season][row[1]] += self.add_cumsum2dict(row[0], row[1], season, self.feat_earnedRuns_cum_dict, row[42])\n",
    "                self.feat_pitchesThrown_cum_dict[row[0]][season][row[1]] += self.add_cumsum2dict(row[0], row[1], season, self.feat_pitchesThrown_cum_dict, row[43])\n",
    "                self.feat_hitsPitching_cum_dict[row[0]][season][row[1]] += self.add_cumsum2dict(row[0], row[1], season, self.feat_hitsPitching_cum_dict, row[44])\n",
    "                self.feat_homeRunsPitching_cum_dict[row[0]][season][row[1]] += self.add_cumsum2dict(row[0], row[1], season, self.feat_homeRunsPitching_cum_dict, row[45])\n",
    "                self.feat_strikeOutsPitching_cum_dict[row[0]][season][row[1]] += self.add_cumsum2dict(row[0], row[1], season, self.feat_strikeOutsPitching_cum_dict, row[46])\n",
    "                self.feat_baseOnBallsPitching_cum_dict[row[0]][season][row[1]] += self.add_cumsum2dict(row[0], row[1], season, self.feat_strikeOutsPitching_cum_dict, row[47])\n",
    "                self.feat_hitByPitchPitching_cum_dict[row[0]][season][row[1]] += self.add_cumsum2dict(row[0], row[1], season, self.feat_hitByPitchPitching_cum_dict, row[48])\n",
    "                self.feat_intentionalWalksPitching_cum_dict[row[0]][season][row[1]] += self.add_cumsum2dict(row[0], row[1], season, self.feat_intentionalWalksPitching_cum_dict, row[49])\n",
    "                self.feat_balks_cum_dict[row[0]][season][row[1]] += self.add_cumsum2dict(row[0], row[1], season, self.feat_balks_cum_dict, row[50])\n",
    "                self.feat_wildPitches_cum_dict[row[0]][season][row[1]] += self.add_cumsum2dict(row[0], row[1], season, self.feat_wildPitches_cum_dict, row[51])\n",
    "                self.feat_atBatsPitching_cum_dict[row[0]][season][row[1]] += self.add_cumsum2dict(row[0], row[1], season, self.feat_atBatsPitching_cum_dict, row[52])\n",
    "                self.feat_battersFaced_cum_dict[row[0]][season][row[1]] += self.add_cumsum2dict(row[0], row[1], season, self.feat_battersFaced_cum_dict, row[53])\n",
    "                self.feat_sacBuntsPitching_cum_dict[row[0]][season][row[1]] += self.add_cumsum2dict(row[0], row[1], season, self.feat_sacBuntsPitching_cum_dict, row[54])\n",
    "                self.feat_sacFliesPitching_cum_dict[row[0]][season][row[1]] += self.add_cumsum2dict(row[0], row[1], season, self.feat_sacFliesPitching_cum_dict, row[55])\n",
    "                self.feat_inheritedRunners_cum_dict[row[0]][season][row[1]] += self.add_cumsum2dict(row[0], row[1], season, self.feat_inheritedRunners_cum_dict, row[56])\n",
    "                self.feat_inheritedRunnersScored_cum_dict[row[0]][season][row[1]] += self.add_cumsum2dict(row[0], row[1], season, self.feat_inheritedRunnersScored_cum_dict, row[57])\n",
    "                self.feat_rbiPitching_cum_dict[row[0]][season][row[1]] += self.add_cumsum2dict(row[0], row[1], season, self.feat_rbiPitching_cum_dict, row[58])\n",
    "                self.feat_flyOutsPitching_cum_dict[row[0]][season][row[1]] += self.add_cumsum2dict(row[0], row[1], season, self.feat_flyOutsPitching_cum_dict, row[59])\n",
    "                self.feat_airOutsPitching_cum_dict[row[0]][season][row[1]] += self.add_cumsum2dict(row[0], row[1], season, self.feat_airOutsPitching_cum_dict, row[60])\n",
    "                self.feat_doublesPitching_cum_dict[row[0]][season][row[1]] += self.add_cumsum2dict(row[0], row[1], season, self.feat_doublesPitching_cum_dict, row[61])\n",
    "                self.feat_triplesPitching_cum_dict[row[0]][season][row[1]] += self.add_cumsum2dict(row[0], row[1], season, self.feat_triplesPitching_cum_dict, row[62])\n",
    "                self.feat_caughtStealingPitching_cum_dict[row[0]][season][row[1]] += self.add_cumsum2dict(row[0], row[1], season, self.feat_caughtStealingPitching_cum_dict, row[63])\n",
    "                self.feat_stolenBasesPitching_cum_dict[row[0]][season][row[1]] += self.add_cumsum2dict(row[0], row[1], season, self.feat_stolenBasesPitching_cum_dict, row[64])\n",
    "                self.feat_outsPitching_cum_dict[row[0]][season][row[1]] += self.add_cumsum2dict(row[0], row[1], season, self.feat_outsPitching_cum_dict, row[65])\n",
    "                self.feat_balls_cum_dict[row[0]][season][row[1]] += self.add_cumsum2dict(row[0], row[1], season, self.feat_balls_cum_dict, row[66])\n",
    "                self.feat_strikes_cum_dict[row[0]][season][row[1]] += self.add_cumsum2dict(row[0], row[1], season, self.feat_strikes_cum_dict, row[67])\n",
    "                self.feat_hitBatsmen_cum_dict[row[0]][season][row[1]] += self.add_cumsum2dict(row[0], row[1], season, self.feat_hitBatsmen_cum_dict, row[68])\n",
    "                self.feat_pickoffsPitching_cum_dict[row[0]][season][row[1]] += self.add_cumsum2dict(row[0], row[1], season, self.feat_pickoffsPitching_cum_dict, row[69])\n",
    "                self.feat_catchersInterferencePitching_cum_dict[row[0]][season][row[1]] += self.add_cumsum2dict(row[0], row[1], season, self.feat_catchersInterferencePitching_cum_dict, row[70])\n",
    "                self.feat_assists_cum_dict[row[0]][season][row[1]] += self.add_cumsum2dict(row[0], row[1], season, self.feat_assists_cum_dict, row[71])\n",
    "                self.feat_putOuts_cum_dict[row[0]][season][row[1]] += self.add_cumsum2dict(row[0], row[1], season, self.feat_putOuts_cum_dict, row[72])\n",
    "                self.feat_errors_cum_dict[row[0]][season][row[1]] += self.add_cumsum2dict(row[0], row[1], season, self.feat_errors_cum_dict, row[73])\n",
    "                self.feat_chances_cum_dict[row[0]][season][row[1]] += self.add_cumsum2dict(row[0], row[1], season, self.feat_chances_cum_dict, row[74])\n",
    "                self.feat_gamesFinishedPitching_cum_dict[row[0]][season][row[1]] += self.add_cumsum2dict(row[0], row[1], season, self.feat_gamesFinishedPitching_cum_dict, row[75])\n",
    "                self.feat_groundOutsPitching_cum_dict[row[0]][season][row[1]] += self.add_cumsum2dict(row[0], row[1], season, self.feat_groundOutsPitching_cum_dict, row[76])\n",
    "\n",
    "        if only_fit == False:\n",
    "            return self.transform(\n",
    "                input_df,\n",
    "                target_df,\n",
    "                rosters_df,\n",
    "                playerBoxScores_df\n",
    "            )\n",
    "\n",
    "    def transform(\n",
    "        self,\n",
    "        input_df: pd.DataFrame,\n",
    "        target_df: pd.DataFrame,\n",
    "        rosters_df: pd.DataFrame,\n",
    "        playerBoxScores_df: pd.DataFrame\n",
    "    ):\n",
    "        date = np.zeros(len(input_df), dtype=np.int32)\n",
    "        playerid = np.zeros(len(input_df), dtype=np.int32)\n",
    "        home = np.zeros(len(input_df), dtype=np.float32)\n",
    "        home_cum = np.zeros(len(input_df), dtype=np.float32)\n",
    "        positionCode = np.zeros(len(input_df), dtype=np.float32)\n",
    "        battingOrder = np.zeros(len(input_df), dtype=np.float32)\n",
    "        # batting\n",
    "        gamesPlayedBatting = np.zeros(len(input_df), dtype=np.float32)\n",
    "        gamesPlayedBatting_cum = np.zeros(len(input_df), dtype=np.float32)\n",
    "        plateAppearances = np.zeros(len(input_df), dtype=np.float32)\n",
    "        plateAppearances_cum = np.zeros(len(input_df), dtype=np.float32)\n",
    "        atBats = np.zeros(len(input_df), dtype=np.float32)\n",
    "        atBats_cum = np.zeros(len(input_df), dtype=np.float32)\n",
    "        hits = np.zeros(len(input_df), dtype=np.float32)\n",
    "        hits_cum = np.zeros(len(input_df), dtype=np.float32)\n",
    "        doubles = np.zeros(len(input_df), dtype=np.float32)\n",
    "        doubles_cum = np.zeros(len(input_df), dtype=np.float32)\n",
    "        triples = np.zeros(len(input_df), dtype=np.float32)\n",
    "        triples_cum = np.zeros(len(input_df), dtype=np.float32)\n",
    "        homeRuns = np.zeros(len(input_df), dtype=np.float32)\n",
    "        homeRuns_cum = np.zeros(len(input_df), dtype=np.float32)\n",
    "        rbi = np.zeros(len(input_df), dtype=np.float32)\n",
    "        rbi_cum = np.zeros(len(input_df), dtype=np.float32)\n",
    "        runsScored = np.zeros(len(input_df), dtype=np.float32)\n",
    "        runsScored_cum = np.zeros(len(input_df), dtype=np.float32)\n",
    "        totalBases = np.zeros(len(input_df), dtype=np.float32)\n",
    "        totalBases_cum = np.zeros(len(input_df), dtype=np.float32)\n",
    "        baseOnBalls = np.zeros(len(input_df), dtype=np.float32)\n",
    "        baseOnBalls_cum = np.zeros(len(input_df), dtype=np.float32)\n",
    "        hitByPitch = np.zeros(len(input_df), dtype=np.float32)\n",
    "        hitByPitch_cum = np.zeros(len(input_df), dtype=np.float32)\n",
    "        intentionalWalks = np.zeros(len(input_df), dtype=np.float32)\n",
    "        intentionalWalks_cum = np.zeros(len(input_df), dtype=np.float32)\n",
    "        groundIntoDoublePlay = np.zeros(len(input_df), dtype=np.float32)\n",
    "        groundIntoDoublePlay_cum = np.zeros(len(input_df), dtype=np.float32)\n",
    "        groundIntoTriplePlay = np.zeros(len(input_df), dtype=np.float32)\n",
    "        groundIntoTriplePlay_cum = np.zeros(len(input_df), dtype=np.float32)\n",
    "        strikeOuts = np.zeros(len(input_df), dtype=np.float32)\n",
    "        strikeOuts_cum = np.zeros(len(input_df), dtype=np.float32)\n",
    "        sacBunts = np.zeros(len(input_df), dtype=np.float32)\n",
    "        sacBunts_cum = np.zeros(len(input_df), dtype=np.float32)\n",
    "        sacFlies = np.zeros(len(input_df), dtype=np.float32)\n",
    "        sacFlies_cum = np.zeros(len(input_df), dtype=np.float32)\n",
    "        caughtStealing = np.zeros(len(input_df), dtype=np.float32)\n",
    "        caughtStealing_cum = np.zeros(len(input_df), dtype=np.float32)\n",
    "        stolenBases = np.zeros(len(input_df), dtype=np.float32)\n",
    "        stolenBases_cum = np.zeros(len(input_df), dtype=np.float32)\n",
    "        leftOnBase = np.zeros(len(input_df), dtype=np.float32)\n",
    "        leftOnBase_cum = np.zeros(len(input_df), dtype=np.float32)\n",
    "        catchersInterference = np.zeros(len(input_df), dtype=np.float32)\n",
    "        catchersInterference_cum = np.zeros(len(input_df), dtype=np.float32)\n",
    "        pickoffs = np.zeros(len(input_df), dtype=np.float32)\n",
    "        pickoffs_cum = np.zeros(len(input_df), dtype=np.float32)\n",
    "        flyOuts = np.zeros(len(input_df), dtype=np.float32)\n",
    "        flyOuts_cum = np.zeros(len(input_df), dtype=np.float32)\n",
    "        groundOuts = np.zeros(len(input_df), dtype=np.float32)\n",
    "        groundOuts_cum = np.zeros(len(input_df), dtype=np.float32)\n",
    "        # pitching\n",
    "        gamesPlayedPitching = np.zeros(len(input_df), dtype=np.float32)\n",
    "        gamesPlayedPitching_cum = np.zeros(len(input_df), dtype=np.float32)\n",
    "        gamesStartedPitching = np.zeros(len(input_df), dtype=np.float32)\n",
    "        gamesStartedPitching_cum = np.zeros(len(input_df), dtype=np.float32)\n",
    "        winsPitching = np.zeros(len(input_df), dtype=np.float32)\n",
    "        winsPitching_cum = np.zeros(len(input_df), dtype=np.float32)\n",
    "        lossesPitching = np.zeros(len(input_df), dtype=np.float32)\n",
    "        lossesPitching_cum = np.zeros(len(input_df), dtype=np.float32)\n",
    "        completeGamesPitching = np.zeros(len(input_df), dtype=np.float32)\n",
    "        completeGamesPitching_cum = np.zeros(len(input_df), dtype=np.float32)\n",
    "        shutoutsPitching = np.zeros(len(input_df), dtype=np.float32)\n",
    "        shutoutsPitching_cum = np.zeros(len(input_df), dtype=np.float32)\n",
    "        saves = np.zeros(len(input_df), dtype=np.float32)\n",
    "        saves_cum = np.zeros(len(input_df), dtype=np.float32)\n",
    "        saveOpportunities = np.zeros(len(input_df), dtype=np.float32)\n",
    "        saveOpportunities_cum = np.zeros(len(input_df), dtype=np.float32)\n",
    "        blownSaves = np.zeros(len(input_df), dtype=np.float32)\n",
    "        blownSaves_cum = np.zeros(len(input_df), dtype=np.float32)\n",
    "        holds = np.zeros(len(input_df), dtype=np.float32)\n",
    "        holds_cum = np.zeros(len(input_df), dtype=np.float32)\n",
    "        inningsPitched = np.zeros(len(input_df), dtype=np.float32)\n",
    "        inningsPitched_cum = np.zeros(len(input_df), dtype=np.float32)\n",
    "        runsPitching = np.zeros(len(input_df), dtype=np.float32)\n",
    "        runsPitching_cum = np.zeros(len(input_df), dtype=np.float32)\n",
    "        earnedRuns = np.zeros(len(input_df), dtype=np.float32)\n",
    "        earnedRuns_cum = np.zeros(len(input_df), dtype=np.float32)\n",
    "        pitchesThrown = np.zeros(len(input_df), dtype=np.float32)\n",
    "        pitchesThrown_cum = np.zeros(len(input_df), dtype=np.float32)\n",
    "        hitsPitching = np.zeros(len(input_df), dtype=np.float32)\n",
    "        hitsPitching_cum = np.zeros(len(input_df), dtype=np.float32)\n",
    "        homeRunsPitching = np.zeros(len(input_df), dtype=np.float32)\n",
    "        homeRunsPitching_cum = np.zeros(len(input_df), dtype=np.float32)\n",
    "        strikeOutsPitching = np.zeros(len(input_df), dtype=np.float32)\n",
    "        strikeOutsPitching_cum = np.zeros(len(input_df), dtype=np.float32)\n",
    "        baseOnBallsPitching = np.zeros(len(input_df), dtype=np.float32)\n",
    "        baseOnBallsPitching_cum = np.zeros(len(input_df), dtype=np.float32)\n",
    "        hitByPitchPitching = np.zeros(len(input_df), dtype=np.float32)\n",
    "        hitByPitchPitching_cum = np.zeros(len(input_df), dtype=np.float32)\n",
    "        intentionalWalksPitching = np.zeros(len(input_df), dtype=np.float32)\n",
    "        intentionalWalksPitching_cum = np.zeros(len(input_df), dtype=np.float32)\n",
    "        balks = np.zeros(len(input_df), dtype=np.float32)\n",
    "        balks_cum = np.zeros(len(input_df), dtype=np.float32)\n",
    "        wildPitches = np.zeros(len(input_df), dtype=np.float32)\n",
    "        wildPitches_cum = np.zeros(len(input_df), dtype=np.float32)\n",
    "        atBatsPitching = np.zeros(len(input_df), dtype=np.float32)\n",
    "        atBatsPitching_cum = np.zeros(len(input_df), dtype=np.float32)\n",
    "        battersFaced = np.zeros(len(input_df), dtype=np.float32)\n",
    "        battersFaced_cum = np.zeros(len(input_df), dtype=np.float32)\n",
    "        sacBuntsPitching = np.zeros(len(input_df), dtype=np.float32)\n",
    "        sacBuntsPitching_cum = np.zeros(len(input_df), dtype=np.float32)\n",
    "        sacFliesPitching = np.zeros(len(input_df), dtype=np.float32)\n",
    "        sacFliesPitching_cum = np.zeros(len(input_df), dtype=np.float32)\n",
    "        inheritedRunners = np.zeros(len(input_df), dtype=np.float32)\n",
    "        inheritedRunners_cum = np.zeros(len(input_df), dtype=np.float32)\n",
    "        inheritedRunnersScored = np.zeros(len(input_df), dtype=np.float32)\n",
    "        inheritedRunnersScored_cum = np.zeros(len(input_df), dtype=np.float32)\n",
    "        rbiPitching = np.zeros(len(input_df), dtype=np.float32)\n",
    "        rbiPitching_cum = np.zeros(len(input_df), dtype=np.float32)\n",
    "        flyOutsPitching = np.zeros(len(input_df), dtype=np.float32)\n",
    "        flyOutsPitching_cum = np.zeros(len(input_df), dtype=np.float32)\n",
    "        airOutsPitching = np.zeros(len(input_df), dtype=np.float32)\n",
    "        airOutsPitching_cum = np.zeros(len(input_df), dtype=np.float32)\n",
    "        doublesPitching = np.zeros(len(input_df), dtype=np.float32)\n",
    "        doublesPitching_cum = np.zeros(len(input_df), dtype=np.float32)\n",
    "        triplesPitching = np.zeros(len(input_df), dtype=np.float32)\n",
    "        triplesPitching_cum = np.zeros(len(input_df), dtype=np.float32)\n",
    "        caughtStealingPitching = np.zeros(len(input_df), dtype=np.float32)\n",
    "        caughtStealingPitching_cum = np.zeros(len(input_df), dtype=np.float32)\n",
    "        stolenBasesPitching = np.zeros(len(input_df), dtype=np.float32)\n",
    "        stolenBasesPitching_cum = np.zeros(len(input_df), dtype=np.float32)\n",
    "        outsPitching = np.zeros(len(input_df), dtype=np.float32)\n",
    "        outsPitching_cum = np.zeros(len(input_df), dtype=np.float32)\n",
    "        balls = np.zeros(len(input_df), dtype=np.float32)\n",
    "        balls_cum = np.zeros(len(input_df), dtype=np.float32)\n",
    "        strikes = np.zeros(len(input_df), dtype=np.float32)\n",
    "        strikes_cum = np.zeros(len(input_df), dtype=np.float32)\n",
    "        hitBatsmen = np.zeros(len(input_df), dtype=np.float32)\n",
    "        hitBatsmen_cum = np.zeros(len(input_df), dtype=np.float32)\n",
    "        pickoffsPitching = np.zeros(len(input_df), dtype=np.float32)\n",
    "        pickoffsPitching_cum = np.zeros(len(input_df), dtype=np.float32)\n",
    "        catchersInterferencePitching = np.zeros(len(input_df), dtype=np.float32)\n",
    "        catchersInterferencePitching_cum = np.zeros(len(input_df), dtype=np.float32)\n",
    "        assists = np.zeros(len(input_df), dtype=np.float32)\n",
    "        assists_cum = np.zeros(len(input_df), dtype=np.float32)\n",
    "        putOuts = np.zeros(len(input_df), dtype=np.float32)\n",
    "        putOuts_cum = np.zeros(len(input_df), dtype=np.float32)\n",
    "        errors = np.zeros(len(input_df), dtype=np.float32)\n",
    "        errors_cum = np.zeros(len(input_df), dtype=np.float32)\n",
    "        chances = np.zeros(len(input_df), dtype=np.float32)\n",
    "        chances_cum = np.zeros(len(input_df), dtype=np.float32)\n",
    "        gamesFinishedPitching = np.zeros(len(input_df), dtype=np.float32)\n",
    "        gamesFinishedPitching_cum = np.zeros(len(input_df), dtype=np.float32)\n",
    "        groundOutsPitching = np.zeros(len(input_df), dtype=np.float32)\n",
    "        groundOutsPitching_cum = np.zeros(len(input_df), dtype=np.float32)\n",
    "\n",
    "        for i, row in enumerate(tqdm(input_df[[\"playerId\", \"date\"]].values)):\n",
    "            season = int(str(row[1])[:4])\n",
    "            playerid[i] = row[0]\n",
    "            date[i] = row[1]\n",
    "            home[i] = self.extract_score(row[0], row[1], season, self.feat_home_dict)\n",
    "            positionCode[i] = self.extract_score(row[0], row[1], season, self.feat_positionCode_dict)\n",
    "            battingOrder[i] = self.extract_score(row[0], row[1], season, self.feat_battingOrder_dict)\n",
    "            gamesPlayedBatting[i] = self.extract_score(row[0], row[1], season, self.feat_gamesPlayedBatting_dict)\n",
    "            plateAppearances[i] = self.extract_score(row[0], row[1], season, self.feat_plateAppearances_dict)\n",
    "            atBats[i] = self.extract_score(row[0], row[1], season, self.feat_atBats_dict)\n",
    "            hits[i] = self.extract_score(row[0], row[1], season, self.feat_hits_dict)\n",
    "            doubles[i] = self.extract_score(row[0], row[1], season, self.feat_doubles_dict)\n",
    "            triples[i] = self.extract_score(row[0], row[1], season, self.feat_triples_dict)\n",
    "            homeRuns[i] = self.extract_score(row[0], row[1], season, self.feat_homeRuns_dict)\n",
    "            rbi[i] = self.extract_score(row[0], row[1], season, self.feat_rbi_dict)\n",
    "            runsScored[i] = self.extract_score(row[0], row[1], season, self.feat_runsScored_dict)\n",
    "            totalBases[i] = self.extract_score(row[0], row[1], season, self.feat_totalBases_dict)\n",
    "            baseOnBalls[i] = self.extract_score(row[0], row[1], season, self.feat_baseOnBalls_dict)\n",
    "            hitByPitch[i] = self.extract_score(row[0], row[1], season, self.feat_hitByPitch_dict)\n",
    "            intentionalWalks[i] = self.extract_score(row[0], row[1], season, self.feat_intentionalWalks_dict)\n",
    "            groundIntoDoublePlay[i] = self.extract_score(row[0], row[1], season, self.feat_groundIntoDoublePlay_dict)\n",
    "            groundIntoTriplePlay[i] = self.extract_score(row[0], row[1], season, self.feat_groundIntoTriplePlay_dict)\n",
    "            strikeOuts[i] = self.extract_score(row[0], row[1], season, self.feat_strikeOuts_dict)\n",
    "            sacBunts[i] = self.extract_score(row[0], row[1], season, self.feat_sacBunts_dict)\n",
    "            sacFlies[i] = self.extract_score(row[0], row[1], season, self.feat_sacFlies_dict)\n",
    "            caughtStealing[i] = self.extract_score(row[0], row[1], season, self.feat_caughtStealing_dict)\n",
    "            stolenBases[i] = self.extract_score(row[0], row[1], season, self.feat_stolenBases_dict)\n",
    "            leftOnBase[i] = self.extract_score(row[0], row[1], season, self.feat_leftOnBase_dict)\n",
    "            catchersInterference[i] = self.extract_score(row[0], row[1], season, self.feat_catchersInterference_dict)\n",
    "            pickoffs[i] = self.extract_score(row[0], row[1], season, self.feat_pickoffs_dict)\n",
    "            flyOuts[i] = self.extract_score(row[0], row[1], season, self.feat_flyOuts_dict)\n",
    "            groundOuts[i] = self.extract_score(row[0], row[1], season, self.feat_groundOuts_dict)\n",
    "\n",
    "            gamesPlayedPitching[i] = self.extract_score(row[0], row[1], season, self.feat_gamesPlayedPitching_dict)\n",
    "            gamesStartedPitching[i] = self.extract_score(row[0], row[1], season, self.feat_gamesStartedPitching_dict)\n",
    "            winsPitching[i] = self.extract_score(row[0], row[1], season, self.feat_winsPitching_dict)\n",
    "            lossesPitching[i] = self.extract_score(row[0], row[1], season, self.feat_lossesPitching_dict)\n",
    "            completeGamesPitching[i] = self.extract_score(row[0], row[1], season, self.feat_completeGamesPitching_dict)\n",
    "            shutoutsPitching[i] = self.extract_score(row[0], row[1], season, self.feat_shutoutsPitching_dict)\n",
    "            saves[i] = self.extract_score(row[0], row[1], season, self.feat_saves_dict)\n",
    "            saveOpportunities[i] = self.extract_score(row[0], row[1], season, self.feat_saveOpportunities_dict)\n",
    "            blownSaves[i] = self.extract_score(row[0], row[1], season, self.feat_blownSaves_dict)\n",
    "            holds[i] = self.extract_score(row[0], row[1], season, self.feat_holds_dict)\n",
    "            inningsPitched[i] = self.extract_score(row[0], row[1], season, self.feat_inningsPitched_dict)\n",
    "            runsPitching[i] = self.extract_score(row[0], row[1], season, self.feat_runsPitching_dict)\n",
    "            earnedRuns[i] = self.extract_score(row[0], row[1], season, self.feat_earnedRuns_dict)\n",
    "            pitchesThrown[i] = self.extract_score(row[0], row[1], season, self.feat_pitchesThrown_dict)\n",
    "            hitsPitching[i] = self.extract_score(row[0], row[1], season, self.feat_hitsPitching_dict)\n",
    "            homeRunsPitching[i] = self.extract_score(row[0], row[1], season, self.feat_homeRunsPitching_dict)\n",
    "            strikeOutsPitching[i] = self.extract_score(row[0], row[1], season, self.feat_strikeOutsPitching_dict)\n",
    "            baseOnBallsPitching[i] = self.extract_score(row[0], row[1], season, self.feat_baseOnBallsPitching_dict)\n",
    "            hitByPitchPitching[i] = self.extract_score(row[0], row[1], season, self.feat_hitByPitchPitching_dict)\n",
    "            intentionalWalksPitching[i] = self.extract_score(row[0], row[1], season, self.feat_intentionalWalksPitching_dict)\n",
    "            balks[i] = self.extract_score(row[0], row[1], season, self.feat_balks_dict)\n",
    "            wildPitches[i] = self.extract_score(row[0], row[1], season, self.feat_wildPitches_dict)\n",
    "            atBatsPitching[i] = self.extract_score(row[0], row[1], season, self.feat_atBatsPitching_dict)\n",
    "            battersFaced[i] = self.extract_score(row[0], row[1], season, self.feat_battersFaced_dict)\n",
    "            sacBuntsPitching[i] = self.extract_score(row[0], row[1], season, self.feat_sacBuntsPitching_dict)\n",
    "            sacFliesPitching[i] = self.extract_score(row[0], row[1], season, self.feat_sacFliesPitching_dict)\n",
    "            inheritedRunners[i] = self.extract_score(row[0], row[1], season, self.feat_inheritedRunners_dict)\n",
    "            inheritedRunnersScored[i] = self.extract_score(row[0], row[1], season, self.feat_inheritedRunnersScored_dict)\n",
    "            rbiPitching[i] = self.extract_score(row[0], row[1], season, self.feat_rbiPitching_dict)\n",
    "            flyOutsPitching[i] = self.extract_score(row[0], row[1], season, self.feat_flyOutsPitching_dict)\n",
    "            airOutsPitching[i] = self.extract_score(row[0], row[1], season, self.feat_airOutsPitching_dict)\n",
    "            doublesPitching[i] = self.extract_score(row[0], row[1], season, self.feat_doublesPitching_dict)\n",
    "            triplesPitching[i] = self.extract_score(row[0], row[1], season, self.feat_triplesPitching_dict)\n",
    "            caughtStealingPitching[i] = self.extract_score(row[0], row[1], season, self.feat_caughtStealingPitching_dict)\n",
    "            stolenBasesPitching[i] = self.extract_score(row[0], row[1], season, self.feat_stolenBasesPitching_dict)\n",
    "            outsPitching[i] = self.extract_score(row[0], row[1], season, self.feat_outsPitching_dict)\n",
    "            balls[i] = self.extract_score(row[0], row[1], season, self.feat_balls_dict)\n",
    "            strikes[i] = self.extract_score(row[0], row[1], season, self.feat_strikes_dict)\n",
    "            hitBatsmen[i] = self.extract_score(row[0], row[1], season, self.feat_hitBatsmen_dict)\n",
    "            pickoffsPitching[i] = self.extract_score(row[0], row[1], season, self.feat_pickoffsPitching_dict)\n",
    "            catchersInterferencePitching[i] = self.extract_score(row[0], row[1], season, self.feat_catchersInterferencePitching_dict)\n",
    "            assists[i] = self.extract_score(row[0], row[1], season, self.feat_assists_dict)\n",
    "            putOuts[i] = self.extract_score(row[0], row[1], season, self.feat_putOuts_dict)\n",
    "            errors[i] = self.extract_score(row[0], row[1], season, self.feat_errors_dict)\n",
    "            chances[i] = self.extract_score(row[0], row[1], season, self.feat_chances_dict)\n",
    "            gamesFinishedPitching[i] = self.extract_score(row[0], row[1], season, self.feat_gamesFinishedPitching_dict)\n",
    "            groundOutsPitching[i] = self.extract_score(row[0], row[1], season, self.feat_groundOutsPitching_dict)\n",
    "\n",
    "            home_cum[i] = self.extract_cumsum_score(row[0], row[1], season, self.feat_home_cum_dict)\n",
    "            gamesPlayedBatting_cum[i] = self.extract_cumsum_score(row[0], row[1], season, self.feat_gamesPlayedBatting_cum_dict)\n",
    "            plateAppearances_cum[i] = self.extract_cumsum_score(row[0], row[1], season, self.feat_plateAppearances_cum_dict)\n",
    "            atBats_cum[i] = self.extract_cumsum_score(row[0], row[1], season, self.feat_atBats_cum_dict)\n",
    "            hits_cum[i] = self.extract_cumsum_score(row[0], row[1], season, self.feat_hits_cum_dict)\n",
    "            doubles_cum[i] = self.extract_cumsum_score(row[0], row[1], season, self.feat_doubles_cum_dict)\n",
    "            triples_cum[i] = self.extract_cumsum_score(row[0], row[1], season, self.feat_triples_cum_dict)\n",
    "            homeRuns_cum[i] = self.extract_cumsum_score(row[0], row[1], season, self.feat_homeRuns_cum_dict)\n",
    "            rbi_cum[i] = self.extract_cumsum_score(row[0], row[1], season, self.feat_rbi_cum_dict)\n",
    "            runsScored_cum[i] = self.extract_cumsum_score(row[0], row[1], season, self.feat_runsScored_cum_dict)\n",
    "            totalBases_cum[i] = self.extract_cumsum_score(row[0], row[1], season, self.feat_totalBases_cum_dict)\n",
    "            baseOnBalls_cum[i] = self.extract_cumsum_score(row[0], row[1], season, self.feat_baseOnBalls_cum_dict)\n",
    "            hitByPitch_cum[i] = self.extract_cumsum_score(row[0], row[1], season, self.feat_hitByPitch_cum_dict)\n",
    "            intentionalWalks_cum[i] = self.extract_cumsum_score(row[0], row[1], season, self.feat_intentionalWalks_cum_dict)\n",
    "            groundIntoDoublePlay_cum[i] = self.extract_cumsum_score(row[0], row[1], season, self.feat_groundIntoDoublePlay_cum_dict)\n",
    "            groundIntoTriplePlay_cum[i] = self.extract_cumsum_score(row[0], row[1], season, self.feat_groundIntoTriplePlay_cum_dict)\n",
    "            strikeOuts_cum[i] = self.extract_cumsum_score(row[0], row[1], season, self.feat_strikeOuts_cum_dict)\n",
    "            sacBunts_cum[i] = self.extract_cumsum_score(row[0], row[1], season, self.feat_sacBunts_cum_dict)\n",
    "            sacFlies_cum[i] = self.extract_cumsum_score(row[0], row[1], season, self.feat_sacFlies_cum_dict)\n",
    "            caughtStealing_cum[i] = self.extract_cumsum_score(row[0], row[1], season, self.feat_caughtStealing_cum_dict)\n",
    "            stolenBases_cum[i] = self.extract_cumsum_score(row[0], row[1], season, self.feat_stolenBases_cum_dict)\n",
    "            leftOnBase_cum[i] = self.extract_cumsum_score(row[0], row[1], season, self.feat_leftOnBase_cum_dict)\n",
    "            catchersInterference_cum[i] = self.extract_cumsum_score(row[0], row[1], season, self.feat_catchersInterference_cum_dict)\n",
    "            pickoffs_cum[i] = self.extract_cumsum_score(row[0], row[1], season, self.feat_pickoffs_cum_dict)\n",
    "            flyOuts_cum[i] = self.extract_cumsum_score(row[0], row[1], season, self.feat_flyOuts_cum_dict)\n",
    "            groundOuts_cum[i] = self.extract_cumsum_score(row[0], row[1], season, self.feat_groundOuts_cum_dict)\n",
    "\n",
    "            gamesPlayedPitching_cum[i] = self.extract_cumsum_score(row[0], row[1], season, self.feat_gamesPlayedPitching_cum_dict)\n",
    "            gamesStartedPitching_cum[i] = self.extract_cumsum_score(row[0], row[1], season, self.feat_gamesStartedPitching_cum_dict)\n",
    "            winsPitching_cum[i] = self.extract_cumsum_score(row[0], row[1], season, self.feat_winsPitching_cum_dict)\n",
    "            lossesPitching_cum[i] = self.extract_cumsum_score(row[0], row[1], season, self.feat_lossesPitching_cum_dict)\n",
    "            completeGamesPitching_cum[i] = self.extract_cumsum_score(row[0], row[1], season, self.feat_completeGamesPitching_cum_dict)\n",
    "            shutoutsPitching_cum[i] = self.extract_cumsum_score(row[0], row[1], season, self.feat_shutoutsPitching_cum_dict)\n",
    "            saves_cum[i] = self.extract_cumsum_score(row[0], row[1], season, self.feat_saves_cum_dict)\n",
    "            saveOpportunities_cum[i] = self.extract_cumsum_score(row[0], row[1], season, self.feat_saveOpportunities_cum_dict)\n",
    "            blownSaves_cum[i] = self.extract_cumsum_score(row[0], row[1], season, self.feat_blownSaves_cum_dict)\n",
    "            holds_cum[i] = self.extract_cumsum_score(row[0], row[1], season, self.feat_holds_cum_dict)\n",
    "            inningsPitched_cum[i] = self.extract_cumsum_score(row[0], row[1], season, self.feat_inningsPitched_cum_dict)\n",
    "            runsPitching_cum[i] = self.extract_cumsum_score(row[0], row[1], season, self.feat_runsPitching_cum_dict)\n",
    "            earnedRuns_cum[i] = self.extract_cumsum_score(row[0], row[1], season, self.feat_earnedRuns_cum_dict)\n",
    "            pitchesThrown_cum[i] = self.extract_cumsum_score(row[0], row[1], season, self.feat_pitchesThrown_cum_dict)\n",
    "            hitsPitching_cum[i] = self.extract_cumsum_score(row[0], row[1], season, self.feat_hitsPitching_cum_dict)\n",
    "            homeRunsPitching_cum[i] = self.extract_cumsum_score(row[0], row[1], season, self.feat_homeRunsPitching_cum_dict)\n",
    "            strikeOutsPitching_cum[i] = self.extract_cumsum_score(row[0], row[1], season, self.feat_strikeOutsPitching_cum_dict)\n",
    "            baseOnBallsPitching_cum[i] = self.extract_cumsum_score(row[0], row[1], season, self.feat_baseOnBallsPitching_cum_dict)\n",
    "            hitByPitchPitching_cum[i] = self.extract_cumsum_score(row[0], row[1], season, self.feat_hitByPitchPitching_cum_dict)\n",
    "            intentionalWalksPitching_cum[i] = self.extract_cumsum_score(row[0], row[1], season, self.feat_intentionalWalksPitching_cum_dict)\n",
    "            balks_cum[i] = self.extract_cumsum_score(row[0], row[1], season, self.feat_balks_cum_dict)\n",
    "            wildPitches_cum[i] = self.extract_cumsum_score(row[0], row[1], season, self.feat_wildPitches_cum_dict)\n",
    "            atBatsPitching_cum[i] = self.extract_cumsum_score(row[0], row[1], season, self.feat_atBatsPitching_cum_dict)\n",
    "            battersFaced_cum[i] = self.extract_cumsum_score(row[0], row[1], season, self.feat_battersFaced_cum_dict)\n",
    "            sacBuntsPitching_cum[i] = self.extract_cumsum_score(row[0], row[1], season, self.feat_sacBuntsPitching_cum_dict)\n",
    "            sacFliesPitching_cum[i] = self.extract_cumsum_score(row[0], row[1], season, self.feat_sacFliesPitching_cum_dict)\n",
    "            inheritedRunners_cum[i] = self.extract_cumsum_score(row[0], row[1], season, self.feat_inheritedRunners_cum_dict)\n",
    "            inheritedRunnersScored_cum[i] = self.extract_cumsum_score(row[0], row[1], season, self.feat_inheritedRunnersScored_cum_dict)\n",
    "            rbiPitching_cum[i] = self.extract_cumsum_score(row[0], row[1], season, self.feat_rbiPitching_cum_dict)\n",
    "            flyOutsPitching_cum[i] = self.extract_cumsum_score(row[0], row[1], season, self.feat_flyOutsPitching_cum_dict)\n",
    "            airOutsPitching_cum[i] = self.extract_cumsum_score(row[0], row[1], season, self.feat_airOutsPitching_cum_dict)\n",
    "            doublesPitching_cum[i] = self.extract_cumsum_score(row[0], row[1], season, self.feat_doublesPitching_cum_dict)\n",
    "            triplesPitching_cum[i] = self.extract_cumsum_score(row[0], row[1], season, self.feat_triplesPitching_cum_dict)\n",
    "            caughtStealingPitching_cum[i] = self.extract_cumsum_score(row[0], row[1], season, self.feat_caughtStealingPitching_cum_dict)\n",
    "            stolenBasesPitching_cum[i] = self.extract_cumsum_score(row[0], row[1], season, self.feat_stolenBasesPitching_cum_dict)\n",
    "            outsPitching_cum[i] = self.extract_cumsum_score(row[0], row[1], season, self.feat_outsPitching_cum_dict)\n",
    "            balls_cum[i] = self.extract_cumsum_score(row[0], row[1], season, self.feat_balls_cum_dict)\n",
    "            strikes_cum[i] = self.extract_cumsum_score(row[0], row[1], season, self.feat_strikes_cum_dict)\n",
    "            hitBatsmen_cum[i] = self.extract_cumsum_score(row[0], row[1], season, self.feat_hitBatsmen_cum_dict)\n",
    "            pickoffsPitching_cum[i] = self.extract_cumsum_score(row[0], row[1], season, self.feat_pickoffsPitching_cum_dict)\n",
    "            catchersInterferencePitching_cum[i] = self.extract_cumsum_score(row[0], row[1], season, self.feat_catchersInterferencePitching_cum_dict)\n",
    "            assists_cum[i] = self.extract_cumsum_score(row[0], row[1], season, self.feat_assists_cum_dict)\n",
    "            putOuts_cum[i] = self.extract_cumsum_score(row[0], row[1], season, self.feat_putOuts_cum_dict)\n",
    "            errors_cum[i] = self.extract_cumsum_score(row[0], row[1], season, self.feat_errors_cum_dict)\n",
    "            chances_cum[i] = self.extract_cumsum_score(row[0], row[1], season, self.feat_chances_cum_dict)\n",
    "            gamesFinishedPitching_cum[i] = self.extract_cumsum_score(row[0], row[1], season, self.feat_gamesFinishedPitching_cum_dict)\n",
    "            groundOutsPitching_cum[i] = self.extract_cumsum_score(row[0], row[1], season, self.feat_groundOutsPitching_cum_dict)\n",
    "\n",
    "        output_df = pd.DataFrame({\n",
    "            \"date\": date,\n",
    "            \"home\": home, \n",
    "            \"home_cum\": home_cum,\n",
    "            \"positionCode\": positionCode,\n",
    "            \"battingOrder\": battingOrder,\n",
    "            \"gamesPlayedBatting\": gamesPlayedBatting,\n",
    "            \"gamesPlayedBatting_cum\": gamesPlayedBatting_cum,\n",
    "            \"plateAppearances\": plateAppearances,\n",
    "            \"plateAppearances_cum\": plateAppearances_cum,\n",
    "            \"atBats\": atBats,\n",
    "            \"atBats_cum\": atBats_cum,\n",
    "            \"hits\": hits,\n",
    "            \"hits_cum\": hits_cum,\n",
    "            \"doubles\": doubles,\n",
    "            \"doubles_cum\": doubles_cum,\n",
    "            \"triples\": triples,\n",
    "            \"triples_cum\": triples_cum,\n",
    "            \"homeRuns\": homeRuns,\n",
    "            \"homeRuns_cum\": homeRuns_cum,\n",
    "            \"rbi\": rbi,\n",
    "            \"rbi_cum\": rbi_cum,\n",
    "            \"runsScored\": runsScored,\n",
    "            \"runsScored_cum\": runsScored_cum,\n",
    "            \"totalBases\": totalBases,\n",
    "            \"totalBases_cum\": totalBases_cum,\n",
    "            \"baseOnBalls\": baseOnBalls,\n",
    "            \"baseOnBalls_cum\": baseOnBalls_cum,\n",
    "            \"hitByPitch\": hitByPitch,\n",
    "            \"hitByPitch_cum\": hitByPitch_cum,\n",
    "            \"intentionalWalks\": intentionalWalks,\n",
    "            \"intentionalWalks_cum\": intentionalWalks_cum,\n",
    "            \"groundIntoDoublePlay\": groundIntoDoublePlay,\n",
    "            \"groundIntoDoublePlay_cum\": groundIntoDoublePlay_cum,\n",
    "            \"groundIntoTriplePlay\": groundIntoTriplePlay,\n",
    "            \"groundIntoTriplePlay_cum\": groundIntoTriplePlay_cum,\n",
    "            \"strikeOuts\": strikeOuts,\n",
    "            \"strikeOuts_cum\": strikeOuts_cum,\n",
    "            \"sacBunts\": sacBunts,\n",
    "            \"sacBunts_cum\": sacBunts_cum,\n",
    "            \"sacFlies\": sacFlies,\n",
    "            \"sacFlies_cum\": sacFlies_cum,\n",
    "            \"caughtStealing\": caughtStealing,\n",
    "            \"caughtStealing_cum\": caughtStealing_cum,\n",
    "            \"stolenBases\": stolenBases,\n",
    "            \"stolenBases_cum\": stolenBases_cum,\n",
    "            \"leftOnBase\": leftOnBase,\n",
    "            \"leftOnBase_cum\": leftOnBase_cum,\n",
    "            \"catchersInterference\": catchersInterference,\n",
    "            \"catchersInterference_cum\": catchersInterference_cum,\n",
    "            \"pickoffs\": pickoffs,\n",
    "            \"pickoffs_cum\": pickoffs_cum,\n",
    "            \"flyOuts\": flyOuts,\n",
    "            \"flyOuts_cum\": flyOuts_cum,\n",
    "            \"groundOuts\": groundOuts,\n",
    "            \"groundOuts_cum\": groundOuts_cum,\n",
    "            \"gamesPlayedPitching\": gamesPlayedPitching,\n",
    "            \"gamesPlayedPitching_cum\": gamesPlayedPitching_cum,\n",
    "            \"gamesStartedPitching\": gamesStartedPitching,\n",
    "            \"gamesStartedPitching_cum\": gamesStartedPitching_cum,\n",
    "            \"winsPitching\": winsPitching,\n",
    "            \"winsPitching_cum\": winsPitching_cum,\n",
    "            \"lossesPitching\": lossesPitching,\n",
    "            \"lossesPitching_cum\": lossesPitching_cum,\n",
    "            \"completeGamesPitching\": completeGamesPitching,\n",
    "            \"completeGamesPitching_cum\": completeGamesPitching_cum,\n",
    "            \"shutoutsPitching\": shutoutsPitching,\n",
    "            \"shutoutsPitching_cum\": shutoutsPitching_cum,\n",
    "            \"saves\": saves,\n",
    "            \"saves_cum\": saves_cum,\n",
    "            \"saveOpportunities\": saveOpportunities,\n",
    "            \"saveOpportunities_cum\": saveOpportunities_cum,\n",
    "            \"blownSaves\": blownSaves,\n",
    "            \"blownSaves_cum\": blownSaves_cum,\n",
    "            \"holds\": holds,\n",
    "            \"holds_cum\": holds_cum,\n",
    "            \"inningsPitched\": inningsPitched,\n",
    "            \"inningsPitched_cum\": inningsPitched_cum,\n",
    "            \"runsPitching\": runsPitching,\n",
    "            \"runsPitching_cum\": runsPitching_cum,\n",
    "            \"earnedRuns\": earnedRuns,\n",
    "            \"earnedRuns_cum\": earnedRuns_cum,\n",
    "            \"pitchesThrown\": pitchesThrown,\n",
    "            \"pitchesThrown_cum\": pitchesThrown_cum,\n",
    "            \"hitsPitching\": hitsPitching,\n",
    "            \"hitsPitching_cum\": hitsPitching_cum,\n",
    "            \"homeRunsPitching\": homeRunsPitching,\n",
    "            \"homeRunsPitching_cum\": homeRunsPitching_cum,\n",
    "            \"strikeOutsPitching\": strikeOutsPitching,\n",
    "            \"strikeOutsPitching_cum\": strikeOutsPitching_cum,\n",
    "            \"baseOnBallsPitching\": baseOnBallsPitching,\n",
    "            \"baseOnBallsPitching_cum\": baseOnBallsPitching_cum,\n",
    "            \"hitByPitchPitching\": hitByPitchPitching,\n",
    "            \"hitByPitchPitching_cum\": hitByPitchPitching_cum,\n",
    "            \"intentionalWalksPitching\": intentionalWalksPitching,\n",
    "            \"intentionalWalksPitching_cum\": intentionalWalksPitching_cum,\n",
    "            \"balks\": balks,\n",
    "            \"balks_cum\": balks_cum,\n",
    "            \"wildPitches\": wildPitches,\n",
    "            \"wildPitches_cum\": wildPitches_cum,\n",
    "            \"atBatsPitching\": atBatsPitching,\n",
    "            \"atBatsPitching_cum\": atBatsPitching_cum,\n",
    "            \"battersFaced\": battersFaced,\n",
    "            \"battersFaced_cum\": battersFaced_cum,\n",
    "            \"sacBuntsPitching\": sacBuntsPitching,\n",
    "            \"sacBuntsPitching_cum\": sacBuntsPitching_cum,\n",
    "            \"sacFliesPitching\": sacFliesPitching,\n",
    "            \"sacFliesPitching_cum\": sacFliesPitching_cum,\n",
    "            \"inheritedRunners\": inheritedRunners,\n",
    "            \"inheritedRunners_cum\": inheritedRunners_cum,\n",
    "            \"inheritedRunnersScored\": inheritedRunnersScored,\n",
    "            \"inheritedRunnersScored_cum\": inheritedRunnersScored_cum,\n",
    "            \"rbiPitching\": rbiPitching,\n",
    "            \"rbiPitching_cum\": rbiPitching_cum,\n",
    "            \"flyOutsPitching\": flyOutsPitching,\n",
    "            \"flyOutsPitching_cum\": flyOutsPitching_cum,\n",
    "            \"airOutsPitching\": airOutsPitching,\n",
    "            \"airOutsPitching_cum\": airOutsPitching_cum,\n",
    "            \"doublesPitching\": doublesPitching,\n",
    "            \"doublesPitching_cum\": doublesPitching_cum,\n",
    "            \"triplesPitching\": triplesPitching,\n",
    "            \"triplesPitching_cum\": triplesPitching_cum,\n",
    "            \"caughtStealingPitching\": caughtStealingPitching,\n",
    "            \"caughtStealingPitching_cum\": caughtStealingPitching_cum,\n",
    "            \"stolenBasesPitching\": stolenBasesPitching,\n",
    "            \"stolenBasesPitching_cum\": stolenBasesPitching_cum,\n",
    "            \"outsPitching\": outsPitching,\n",
    "            \"outsPitching_cum\": outsPitching_cum,\n",
    "            \"balls\": balls,\n",
    "            \"balls_cum\": balls_cum,\n",
    "            \"strikes\": strikes,\n",
    "            \"strikes_cum\": strikes_cum,\n",
    "            \"hitBatsmen\": hitBatsmen,\n",
    "            \"hitBatsmen_cum\": hitBatsmen_cum,\n",
    "            \"pickoffsPitching\": pickoffsPitching,\n",
    "            \"pickoffsPitching_cum\": pickoffsPitching_cum,\n",
    "            \"catchersInterferencePitching\": catchersInterferencePitching,\n",
    "            \"catchersInterferencePitching_cum\": catchersInterferencePitching_cum,\n",
    "            \"assists\": assists,\n",
    "            \"assists_cum\": assists_cum,\n",
    "            \"putOuts\": putOuts,\n",
    "            \"putOuts_cum\": putOuts_cum,\n",
    "            \"errors\": errors,\n",
    "            \"errors_cum\": errors_cum,\n",
    "            \"chances\": chances,\n",
    "            \"chances_cum\": chances_cum,\n",
    "            \"gamesFinishedPitching\": gamesFinishedPitching,\n",
    "            \"gamesFinishedPitching_cum\": gamesFinishedPitching_cum,\n",
    "            \"groundOutsPitching\": groundOutsPitching,\n",
    "            \"groundOutsPitching_cum\": groundOutsPitching_cum,\n",
    "        })\n",
    "\n",
    "        # 打撃指標\n",
    "        output_df[\"battingAverage\"] = output_df[\"hits_cum\"] / output_df[\"atBats_cum\"] # 打率\n",
    "        output_df[\"sluggingPercentage\"] = output_df[\"totalBases_cum\"] / output_df[\"atBats_cum\"] # 長打率\n",
    "        output_df[\"onBasePercentage\"] = (output_df[\"hits_cum\"] + output_df[\"baseOnBalls_cum\"] + output_df[\"hitByPitch_cum\"])/(output_df[\"atBats_cum\"] + output_df[\"baseOnBalls_cum\"] + output_df[\"hitByPitch_cum\"] + output_df[\"sacFlies_cum\"]) # 出塁率\n",
    "        output_df[\"ops\"] = output_df[\"sluggingPercentage\"] + output_df[\"onBasePercentage\"] # OPS\n",
    "        output_df[\"isop\"] = output_df[\"sluggingPercentage\"] - output_df[\"battingAverage\"] # IsoP\n",
    "        output_df[\"isod\"] = output_df[\"onBasePercentage\"] - output_df[\"battingAverage\"] # IsoD\n",
    "        output_df[\"rc\"] = (output_df[\"hits_cum\"] + output_df[\"baseOnBalls_cum\"]) * output_df[\"totalBases_cum\"] / (output_df[\"atBats_cum\"] + output_df[\"baseOnBalls_cum\"]) # RC\n",
    "        output_df[\"rc27\"] = output_df[\"rc\"] / (output_df[\"atBats_cum\"] - output_df[\"hits_cum\"] + output_df[\"caughtStealing_cum\"] + output_df[\"sacBunts_cum\"] + output_df[\"sacFlies_cum\"] + output_df[\"groundIntoDoublePlay_cum\"]) * 27 # RC27\n",
    "        output_df[\"rc27\"] = output_df[\"rc27\"].replace({np.inf: 0})\n",
    "        output_df[\"babip\"] = (output_df[\"hits_cum\"] - output_df[\"homeRuns_cum\"]) / (output_df[\"atBats_cum\"] - output_df[\"strikeOuts_cum\"] - output_df[\"homeRuns_cum\"] + output_df[\"sacFlies_cum\"]) # BABIP\n",
    "        output_df[\"bb_k\"] = output_df[\"baseOnBalls_cum\"] / output_df[\"strikeOuts_cum\"] # BB/K\n",
    "        output_df[\"k%\"] = output_df[\"strikeOuts_cum\"] / output_df[\"plateAppearances_cum\"] # K%\n",
    "\n",
    "        # 投手指標\n",
    "        output_df[\"qs\"] = ((output_df[\"inningsPitched\"] >= 6) & (output_df[\"runsPitching\"] <= 3)) * output_df[\"gamesStartedPitching\"]\n",
    "        output_df[\"hqs\"] = ((output_df[\"inningsPitched\"] >= 7) & (output_df[\"runsPitching\"] <= 2)) * output_df[\"gamesStartedPitching\"]\n",
    "        output_df[\"era\"] = output_df[\"earnedRuns_cum\"] * 9 / output_df[\"inningsPitched_cum\"] # 防御率\n",
    "        output_df[\"wp\"] = output_df[\"winsPitching_cum\"] / (output_df[\"winsPitching_cum\"] + output_df[\"lossesPitching_cum\"]) # 勝率\n",
    "        output_df[\"k9\"] = output_df[\"strikeOutsPitching_cum\"] * 9 / output_df[\"inningsPitched_cum\"] # K/9(奪三振率)\n",
    "        output_df[\"hits_allowed_average\"] = output_df[\"hitsPitching_cum\"] / output_df[\"atBatsPitching_cum\"] # 被打率\n",
    "        output_df[\"hp\"] = output_df[\"holds_cum\"] + output_df[\"winsPitching_cum\"] # HP\n",
    "        # output_df[\"qs%\"] = output_df[\"qs_cum\"] / output_df[\"gamesStartedPitching_cum\"] # QS率\n",
    "        # output_df[\"hqs%\"] = output_df[\"hqs_cum\"] / output_df[\"gamesStartedPitching_cum\"] # HQS率\n",
    "        output_df[\"k%_pitching\"] = output_df[\"strikeOutsPitching_cum\"] / output_df[\"battersFaced_cum\"] # K%\n",
    "        output_df[\"bb9\"] = output_df[\"baseOnBallsPitching_cum\"] * 9 / output_df[\"inningsPitched_cum\"] # BB/9\n",
    "        output_df[\"bb%\"] = output_df[\"baseOnBallsPitching_cum\"] / output_df[\"battersFaced_cum\"] # BB%\n",
    "        output_df[\"k_bb\"] = output_df[\"strikeOutsPitching_cum\"] / (output_df[\"baseOnBallsPitching_cum\"] + output_df[\"hitByPitchPitching_cum\"]) # K/BB\n",
    "        output_df[\"hr9\"] = output_df[\"homeRunsPitching_cum\"] * 9 / output_df[\"inningsPitched_cum\"] # HR/9\n",
    "        output_df[\"babip_pitching\"] = (output_df[\"hitsPitching_cum\"] - output_df[\"homeRunsPitching_cum\"]) / (output_df[\"atBatsPitching_cum\"] - output_df[\"strikeOutsPitching_cum\"] - output_df[\"homeRunsPitching_cum\"] + output_df[\"sacFliesPitching_cum\"]) # BABIP\n",
    "        output_df[\"whip\"] = (output_df[\"baseOnBallsPitching_cum\"] + output_df[\"hitsPitching_cum\"]) / output_df[\"inningsPitched_cum\"] # WHIP\n",
    "\n",
    "        # ランキング\n",
    "        output_df[\"homeRuns_rank\"] = output_df.groupby([\"date\"])[\"homeRuns_cum\"].rank(ascending=False, method=\"min\")\n",
    "        output_df[\"hits_rank\"] = output_df.groupby([\"date\"])[\"hits_cum\"].rank(ascending=False, method=\"min\")\n",
    "        output_df[\"rbi_rank\"] = output_df.groupby([\"date\"])[\"rbi_cum\"].rank(ascending=False, method=\"min\")\n",
    "        output_df[\"doubles_rank\"] = output_df.groupby([\"date\"])[\"doubles_cum\"].rank(ascending=False, method=\"min\")\n",
    "        output_df[\"triples_rank\"] = output_df.groupby([\"date\"])[\"triples_cum\"].rank(ascending=False, method=\"min\")\n",
    "        output_df[\"runsScored_rank\"] = output_df.groupby([\"date\"])[\"runsScored_cum\"].rank(ascending=False, method=\"min\")\n",
    "        output_df[\"totalBases_rank\"] = output_df.groupby([\"date\"])[\"totalBases_cum\"].rank(ascending=False, method=\"min\")\n",
    "        output_df[\"baseOnBalls_rank\"] = output_df.groupby([\"date\"])[\"baseOnBalls_cum\"].rank(ascending=False, method=\"min\")\n",
    "        output_df[\"hitByPitch_rank\"] = output_df.groupby([\"date\"])[\"hitByPitch_cum\"].rank(ascending=False, method=\"min\")\n",
    "        output_df[\"strikeOuts_rank\"] = output_df.groupby([\"date\"])[\"strikeOuts_cum\"].rank(ascending=False, method=\"min\")\n",
    "        output_df[\"stolenBases_rank\"] = output_df.groupby([\"date\"])[\"stolenBases_cum\"].rank(ascending=False, method=\"min\")\n",
    "        output_df[\"plateAppearances_rank\"] = output_df.groupby([\"date\"])[\"plateAppearances_cum\"].rank(ascending=False, method=\"min\")\n",
    "        output_df[\"atBats_rank\"] = output_df.groupby([\"date\"])[\"atBats_cum\"].rank(ascending=False, method=\"min\")\n",
    "\n",
    "        output_df[\"battingAverage_rank\"] = output_df[output_df[\"gamesPlayedBatting\"] == 1.0].groupby([\"date\"])[\"battingAverage\"].rank(ascending=False, method=\"min\")\n",
    "        output_df[\"ops_rank\"] = output_df.groupby([\"date\"])[\"ops\"].rank(ascending=False, method=\"min\")\n",
    "        output_df[\"isop_rank\"] = output_df.groupby([\"date\"])[\"isop\"].rank(ascending=False, method=\"min\")\n",
    "        output_df[\"isod_rank\"] = output_df.groupby([\"date\"])[\"isod\"].rank(ascending=False, method=\"min\")\n",
    "        output_df[\"rc_rank\"] = output_df.groupby([\"date\"])[\"rc\"].rank(ascending=False, method=\"min\")\n",
    "        output_df[\"rc27_rank\"] = output_df.groupby([\"date\"])[\"rc27\"].rank(ascending=False, method=\"min\")\n",
    "        output_df[\"babip_rank\"] = output_df.groupby([\"date\"])[\"babip\"].rank(ascending=False, method=\"min\")\n",
    "        output_df[\"bb_k_rank\"] = output_df.groupby([\"date\"])[\"bb_k\"].rank(ascending=False, method=\"min\")\n",
    "        output_df[\"k%_rank\"] = output_df.groupby([\"date\"])[\"k%\"].rank(ascending=False, method=\"min\")\n",
    "\n",
    "        output_df[\"winsPitching_rank\"] = output_df.groupby([\"date\"])[\"winsPitching_cum\"].rank(ascending=False, method=\"min\")\n",
    "        output_df[\"lossesPitching_rank\"] = output_df.groupby([\"date\"])[\"lossesPitching_cum\"].rank(ascending=False, method=\"min\")\n",
    "        output_df[\"saves_rank\"] = output_df.groupby([\"date\"])[\"saves_cum\"].rank(ascending=False, method=\"min\")\n",
    "        output_df[\"holds_rank\"] = output_df.groupby([\"date\"])[\"holds_cum\"].rank(ascending=False, method=\"min\")\n",
    "        output_df[\"completeGamesPitching_rank\"] = output_df.groupby([\"date\"])[\"completeGamesPitching_cum\"].rank(ascending=False, method=\"min\")\n",
    "        output_df[\"shutoutsPitching_rank\"] = output_df.groupby([\"date\"])[\"shutoutsPitching_cum\"].rank(ascending=False, method=\"min\")\n",
    "        output_df[\"inningsPitched_rank\"] = output_df.groupby([\"date\"])[\"inningsPitched_cum\"].rank(ascending=False, method=\"min\")\n",
    "        output_df[\"runsPitching_rank\"] = output_df.groupby([\"date\"])[\"runsPitching_cum\"].rank(ascending=False, method=\"min\")\n",
    "        output_df[\"earnedRuns_rank\"] = output_df.groupby([\"date\"])[\"earnedRuns_cum\"].rank(ascending=False, method=\"min\")\n",
    "\n",
    "        output_df[\"era_rank\"] = output_df.groupby([\"date\"])[\"era\"].rank(ascending=False, method=\"min\")\n",
    "        output_df[\"whip_rank\"] = output_df.groupby([\"date\"])[\"whip\"].rank(ascending=False, method=\"min\")\n",
    "        \n",
    "        return output_df.drop(columns=[\"date\"], axis=1).add_prefix(\"PlayerStats_\")\n",
    "\n",
    "    def extract_score(self, x, y, z, dict):\n",
    "        if y in dict[x][z].keys():\n",
    "            return dict[x][z][y]\n",
    "        else:\n",
    "            return np.nan\n",
    "\n",
    "    def extract_cumsum_score(self, x, y, z, dict):\n",
    "        previous_gamedates = [i for i in dict[x][z].keys() if i < y]\n",
    "        if y in dict[x][z].keys():\n",
    "            return dict[x][z][y]\n",
    "        elif len(previous_gamedates) != 0:\n",
    "            return dict[x][z][max(previous_gamedates)]\n",
    "        elif len(previous_gamedates) == 0:\n",
    "            return np.nan\n",
    "\n",
    "    def add_cumsum2dict(self, x, y, z, dict, value):\n",
    "        value = value if value == value else 0\n",
    "        previous_gamedates = [i for i in dict[x][z].keys() if i < y]\n",
    "        if len(previous_gamedates) != 0:\n",
    "            return value + dict[x][z][max(previous_gamedates)]\n",
    "        else:\n",
    "            return value"
   ],
   "outputs": [],
   "metadata": {}
  },
  {
   "cell_type": "code",
   "execution_count": 6,
   "source": [
    "def create_train_feature(\n",
    "    input_df: pd.DataFrame,\n",
    "    target_df: pd.DataFrame,\n",
    "    rosters_df: pd.DataFrame,\n",
    "    playerBoxScores_df: pd.DataFrame,\n",
    "    update_blocks: list,\n",
    "    non_update_blocks: list,\n",
    "    only_fit: bool\n",
    "    ) -> pd.DataFrame:\n",
    "    feat_df = pd.DataFrame()\n",
    "    blocks = update_blocks + non_update_blocks\n",
    "\n",
    "    for block in blocks:\n",
    "        with timer(name=f\"{str(block) + '_fit'}\", logger=logger):\n",
    "            try:\n",
    "                out_feat_block = block.fit(\n",
    "                    input_df,\n",
    "                    target_df,\n",
    "                    rosters_df,\n",
    "                    playerBoxScores_df,\n",
    "                    only_fit=False\n",
    "                    )\n",
    "            except Exception as e:\n",
    "                print(f\"Error on {block} fit.\")\n",
    "                raise e from e\n",
    "\n",
    "            assert len(out_feat_block) == len(input_df), block\n",
    "\n",
    "        feat_df = pd.concat([feat_df, out_feat_block], axis=1)\n",
    "\n",
    "        del out_feat_block\n",
    "\n",
    "    return feat_df\n",
    "\n",
    "\n",
    "def fit_train_feature(\n",
    "    input_df: pd.DataFrame,\n",
    "    target_df: pd.DataFrame,\n",
    "    rosters_df: pd.DataFrame,\n",
    "    playerBoxScores_df: pd.DataFrame,\n",
    "    update_blocks: list,\n",
    "    non_update_blocks: list,\n",
    "    only_fit: bool\n",
    "    ) -> pd.DataFrame:\n",
    "    blocks = update_blocks + non_update_blocks\n",
    "\n",
    "    for block in blocks:\n",
    "        with timer(name=f\"{str(block) + '_fit'}\", logger=logger):\n",
    "            try:\n",
    "                block.fit(\n",
    "                    input_df,\n",
    "                    target_df,\n",
    "                    rosters_df,\n",
    "                    playerBoxScores_df,\n",
    "                    only_fit\n",
    "                    )\n",
    "            except Exception as e:\n",
    "                print(f\"Error on {block} fit.\")\n",
    "                raise e from e\n",
    "\n",
    "\n",
    "def create_test_feature(\n",
    "    input_df: pd.DataFrame,\n",
    "    target_df: pd.DataFrame,\n",
    "    rosters_df: pd.DataFrame,\n",
    "    playerBoxScores_df: pd.DataFrame,\n",
    "    update_blocks: list,\n",
    "    non_update_blocks: list\n",
    "    ) -> pd.DataFrame:\n",
    "    is_update = True if len(update_blocks) != 0 else False\n",
    "    update_feat_df = pd.DataFrame()\n",
    "    non_update_feat_df = pd.DataFrame()\n",
    "    \n",
    "    if is_update:\n",
    "        for block in update_blocks:\n",
    "            with timer(name=f\"{str(block) + '_update'}\", logger=logger):\n",
    "                try:\n",
    "                    out_feat_block = block.fit(\n",
    "                        input_df,\n",
    "                        target_df,\n",
    "                        rosters_df,\n",
    "                        playerBoxScores_df,\n",
    "                        only_fit=False,\n",
    "                        )\n",
    "                except Exception as e:\n",
    "                    print(f\"Error on {block} transform.\")\n",
    "                    raise e from e\n",
    "\n",
    "                assert len(out_feat_block) == len(input_df), block\n",
    "\n",
    "            update_feat_df = pd.concat([update_feat_df, out_feat_block], axis=1)\n",
    "\n",
    "            del out_feat_block\n",
    "        \n",
    "\n",
    "    for block in non_update_blocks:\n",
    "        with timer(name=f\"{str(block) + '_transform'}\", logger=logger):\n",
    "            try:\n",
    "                out_feat_block = block.transform(\n",
    "                    input_df,\n",
    "                    target_df,\n",
    "                    rosters_df,\n",
    "                    playerBoxScores_df,\n",
    "                )\n",
    "            except Exception as e:\n",
    "                print(f\"Error on {block} transform.\")\n",
    "                raise e from e\n",
    "\n",
    "            assert len(out_feat_block) == len(input_df), block\n",
    "\n",
    "        non_update_feat_df = pd.concat([non_update_feat_df, out_feat_block], axis=1)\n",
    "\n",
    "        del out_feat_block\n",
    "\n",
    "    feat_df = pd.concat([update_feat_df, non_update_feat_df], axis=1) if is_update else non_update_feat_df\n",
    "\n",
    "    del update_feat_df, non_update_feat_df\n",
    "\n",
    "    return feat_df"
   ],
   "outputs": [],
   "metadata": {}
  },
  {
   "cell_type": "markdown",
   "source": [
    "## CV"
   ],
   "metadata": {}
  },
  {
   "cell_type": "code",
   "execution_count": 7,
   "source": [
    "def get_timeseries_holdout(train_df: pd.DataFrame, valid_start_date: int) -> List[tuple]:\n",
    "    fold = []\n",
    "    train_idx = np.array(train_df[train_df[\"date\"] < valid_start_date].index)\n",
    "    valid_idx = np.array(train_df[(train_df[\"date\"] >= valid_start_date) & (train_df[\"date\"] < (valid_start_date + 100))].index)\n",
    "    valid_preds_idx = np.array(train_df[(train_df[\"date\"] >= valid_start_date) & (train_df[\"date\"] < (valid_start_date + 100)) & (train_df[\"playerForTestSetAndFuturePreds\"] == True)].index)\n",
    "    fold.append((train_idx, valid_idx, valid_preds_idx))\n",
    "\n",
    "    return fold"
   ],
   "outputs": [],
   "metadata": {}
  },
  {
   "cell_type": "markdown",
   "source": [
    "## Model"
   ],
   "metadata": {}
  },
  {
   "cell_type": "code",
   "execution_count": 8,
   "source": [
    "class LightGBMTrainer:\n",
    "    def __init__(self, params: dict, seeds: List[int]):\n",
    "        self.params = params\n",
    "        self.seeds = seeds\n",
    "        self.models = []\n",
    "\n",
    "    def fit(self, X_train: np.ndarray, y_train: np.ndarray, cv: List[tuple]):\n",
    "        oof_all = []\n",
    "        for i, seed in enumerate(self.seeds):\n",
    "            self.params[\"seed\"] = seed\n",
    "\n",
    "            for train_idx, valid_idx, valid_preds_idx in cv:\n",
    "                X_train_fold = X_train[train_idx]\n",
    "                X_valid_fold = X_train[valid_preds_idx]\n",
    "\n",
    "                y_train_fold = y_train[train_idx]\n",
    "                y_valid_fold = y_train[valid_preds_idx]\n",
    "\n",
    "                train_set = lgb.Dataset(X_train_fold, y_train_fold)\n",
    "                valid_set = lgb.Dataset(X_valid_fold, y_valid_fold, reference=train_set)\n",
    "\n",
    "                model = lgb.train(\n",
    "                    params=self.params,\n",
    "                    train_set=train_set,\n",
    "                    valid_sets=[train_set, valid_set],\n",
    "                    valid_names=[\"train\", \"valid\"],\n",
    "                    verbose_eval=100,\n",
    "                )\n",
    "\n",
    "                y_oof = model.predict(X_valid_fold, num_iteration=model.best_iteration)\n",
    "                oof_all.append(y_oof)\n",
    "                self.models.append(model)\n",
    "\n",
    "        oof_all = np.mean(oof_all, axis=0)\n",
    "        oof_all = np.clip(oof_all, 0, 100)\n",
    "        oof_score = mean_absolute_error(oof_all, y_valid_fold)\n",
    "\n",
    "        return oof_score, self.models\n",
    "\n",
    "    def predict(self, X_test: np.ndarray):\n",
    "        y_pred = np.mean([model.predict(X_test, num_iteration=model.best_iteration) for model in self.models], axis=0)\n",
    "\n",
    "        return y_pred\n",
    "\n",
    "\n",
    "def run_lgb(X_train, targets, seeds, fold):\n",
    "    cv_scores = []\n",
    "    models = []\n",
    "\n",
    "    for i, target in enumerate(targets):\n",
    "        print(f\"Training for Target{i+1}\")\n",
    "        if i == 0:\n",
    "            params = CFG.LGB_TARGET1_PARAMS\n",
    "        elif i == 1:\n",
    "            params = CFG.LGB_TARGET2_PARAMS\n",
    "        elif i == 2:\n",
    "            params = CFG.LGB_TARGET3_PARAMS\n",
    "        elif i == 3:\n",
    "            params = CFG.LGB_TARGET4_PARAMS\n",
    "        trainer = LightGBMTrainer(params, seeds)\n",
    "        oof_score_tmp, models_tmp = trainer.fit(X_train, target, fold)\n",
    "        cv_scores.append(oof_score_tmp)\n",
    "        models.append(models_tmp)\n",
    "        print(f\"Local Target{i+1} OOF-MAE : {np.mean(oof_score_tmp)}\")\n",
    "        print(\"-\"*50)\n",
    "\n",
    "    print(f\"Local MCMAE : {np.mean(cv_scores)}\")\n",
    "\n",
    "    return models"
   ],
   "outputs": [],
   "metadata": {}
  },
  {
   "cell_type": "markdown",
   "source": [
    "## Training"
   ],
   "metadata": {}
  },
  {
   "cell_type": "code",
   "execution_count": 9,
   "source": [
    "# # set-up logger\n",
    "# logger = get_logger()\n",
    "\n",
    "# # create feature\n",
    "# update_blocks = [\n",
    "#     PlayerStatsBlock(columns=[\n",
    "#         \"playerId\", \n",
    "#         \"date\", \n",
    "#         \"home\", \n",
    "#         \"positionCode\", \n",
    "#         \"battingOrder\", \n",
    "#         \"gamesPlayedBatting\", \n",
    "#         \"plateAppearances\",\n",
    "#         \"atBats\",\n",
    "#         \"hits\",\n",
    "#         \"doubles\",\n",
    "#         \"triples\",\n",
    "#         \"homeRuns\",\n",
    "#         \"rbi\",\n",
    "#         \"runsScored\",\n",
    "#         \"totalBases\",\n",
    "#         \"baseOnBalls\",\n",
    "#         \"hitByPitch\",\n",
    "#         \"intentionalWalks\",\n",
    "#         \"groundIntoDoublePlay\",\n",
    "#         \"groundIntoTriplePlay\",\n",
    "#         \"strikeOuts\",\n",
    "#         \"sacBunts\",\n",
    "#         \"sacFlies\",\n",
    "#         \"caughtStealing\",\n",
    "#         \"stolenBases\",\n",
    "#         \"leftOnBase\",\n",
    "#         \"catchersInterference\",\n",
    "#         \"pickoffs\",\n",
    "#         \"flyOuts\",\n",
    "#         \"groundOuts\",\n",
    "#         \"gamesPlayedPitching\",\n",
    "#         \"gamesStartedPitching\",\n",
    "#         \"winsPitching\",\n",
    "#         \"lossesPitching\",\n",
    "#         \"completeGamesPitching\",\n",
    "#         \"shutoutsPitching\",\n",
    "#         \"saves\",\n",
    "#         \"saveOpportunities\",\n",
    "#         \"blownSaves\",\n",
    "#         \"holds\",\n",
    "#         \"inningsPitched\",\n",
    "#         \"runsPitching\",\n",
    "#         \"earnedRuns\",\n",
    "#         \"pitchesThrown\",\n",
    "#         \"hitsPitching\",\n",
    "#         \"homeRunsPitching\",\n",
    "#         \"strikeOutsPitching\",\n",
    "#         \"baseOnBallsPitching\",\n",
    "#         \"hitByPitchPitching\",\n",
    "#         \"intentionalWalksPitching\",\n",
    "#         \"balks\",\n",
    "#         \"wildPitches\",\n",
    "#         \"atBatsPitching\",\n",
    "#         \"battersFaced\",\n",
    "#         \"sacBuntsPitching\",\n",
    "#         \"sacFliesPitching\",\n",
    "#         \"inheritedRunners\",\n",
    "#         \"inheritedRunnersScored\",\n",
    "#         \"rbiPitching\",\n",
    "#         \"flyOutsPitching\",\n",
    "#         \"airOutsPitching\",\n",
    "#         \"doublesPitching\",\n",
    "#         \"triplesPitching\",\n",
    "#         \"caughtStealingPitching\",\n",
    "#         \"stolenBasesPitching\",\n",
    "#         \"outsPitching\",\n",
    "#         \"balls\",\n",
    "#         \"strikes\",\n",
    "#         \"hitBatsmen\",\n",
    "#         \"pickoffsPitching\",\n",
    "#         \"catchersInterferencePitching\",\n",
    "#         \"assists\",\n",
    "#         \"putOuts\",\n",
    "#         \"errors\",\n",
    "#         \"chances\",\n",
    "#         \"gamesFinishedPitching\",\n",
    "#         \"groundOutsPitching\",\n",
    "#     ]),\n",
    "# ]\n",
    "# non_update_blocks = [\n",
    "#     TargetAggregateBlock(periods=[\n",
    "#         # 20210201,\n",
    "#         # 20210301,\n",
    "#         20210401,\n",
    "#     ]),\n",
    "#     RostersLabelEncodingBlock(columns=[\n",
    "#         \"teamId\",\n",
    "#         \"status\"\n",
    "#     ]),\n",
    "#     PlayersLabelEncodingBlock(columns=[\n",
    "#         \"birthCountry\",\n",
    "#         # \"birthCity\",\n",
    "#         # \"birthStateProvince\",\n",
    "#         # \"heightInches\",\n",
    "#         # \"weight\",\n",
    "#         \"primaryPositionCode\",\n",
    "#         # \"playerAge\"\n",
    "#     ]),\n",
    "# ]\n",
    "\n",
    "# # create features\n",
    "# input_df = mlb_train_ds.train_next[CFG.OBJECT_ID].copy()\n",
    "# input_df = input_df.merge(mlb_train_ds.players[[\"playerId\", \"playerForTestSetAndFuturePreds\"]], on=\"playerId\", how=\"left\")\n",
    "# target_df = mlb_train_ds.train_next\n",
    "# rosters_df = mlb_train_ds.train_rosters\n",
    "# playerBoxScores_df = mlb_train_ds.train_scores\n",
    "\n",
    "# # for inference\n",
    "# fit_train_feature(\n",
    "#     input_df,\n",
    "#     target_df,\n",
    "#     rosters_df,\n",
    "#     playerBoxScores_df,\n",
    "#     update_blocks,\n",
    "#     non_update_blocks,\n",
    "#     only_fit=True,\n",
    "# )"
   ],
   "outputs": [],
   "metadata": {}
  },
  {
   "cell_type": "code",
   "execution_count": 10,
   "source": [
    "# set-up logger\n",
    "logger = get_logger()\n",
    "\n",
    "# create feature\n",
    "update_blocks = [\n",
    "    PlayerStatsBlock(columns=[\n",
    "        \"playerId\", \n",
    "        \"date\", \n",
    "        \"home\", \n",
    "        \"positionCode\", \n",
    "        \"battingOrder\", \n",
    "        \"gamesPlayedBatting\", \n",
    "        \"plateAppearances\",\n",
    "        \"atBats\",\n",
    "        \"hits\",\n",
    "        \"doubles\",\n",
    "        \"triples\",\n",
    "        \"homeRuns\",\n",
    "        \"rbi\",\n",
    "        \"runsScored\",\n",
    "        \"totalBases\",\n",
    "        \"baseOnBalls\",\n",
    "        \"hitByPitch\",\n",
    "        \"intentionalWalks\",\n",
    "        \"groundIntoDoublePlay\",\n",
    "        \"groundIntoTriplePlay\",\n",
    "        \"strikeOuts\",\n",
    "        \"sacBunts\",\n",
    "        \"sacFlies\",\n",
    "        \"caughtStealing\",\n",
    "        \"stolenBases\",\n",
    "        \"leftOnBase\",\n",
    "        \"catchersInterference\",\n",
    "        \"pickoffs\",\n",
    "        \"flyOuts\",\n",
    "        \"groundOuts\",\n",
    "        \"gamesPlayedPitching\",\n",
    "        \"gamesStartedPitching\",\n",
    "        \"winsPitching\",\n",
    "        \"lossesPitching\",\n",
    "        \"completeGamesPitching\",\n",
    "        \"shutoutsPitching\",\n",
    "        \"saves\",\n",
    "        \"saveOpportunities\",\n",
    "        \"blownSaves\",\n",
    "        \"holds\",\n",
    "        \"inningsPitched\",\n",
    "        \"runsPitching\",\n",
    "        \"earnedRuns\",\n",
    "        \"pitchesThrown\",\n",
    "        \"hitsPitching\",\n",
    "        \"homeRunsPitching\",\n",
    "        \"strikeOutsPitching\",\n",
    "        \"baseOnBallsPitching\",\n",
    "        \"hitByPitchPitching\",\n",
    "        \"intentionalWalksPitching\",\n",
    "        \"balks\",\n",
    "        \"wildPitches\",\n",
    "        \"atBatsPitching\",\n",
    "        \"battersFaced\",\n",
    "        \"sacBuntsPitching\",\n",
    "        \"sacFliesPitching\",\n",
    "        \"inheritedRunners\",\n",
    "        \"inheritedRunnersScored\",\n",
    "        \"rbiPitching\",\n",
    "        \"flyOutsPitching\",\n",
    "        \"airOutsPitching\",\n",
    "        \"doublesPitching\",\n",
    "        \"triplesPitching\",\n",
    "        \"caughtStealingPitching\",\n",
    "        \"stolenBasesPitching\",\n",
    "        \"outsPitching\",\n",
    "        \"balls\",\n",
    "        \"strikes\",\n",
    "        \"hitBatsmen\",\n",
    "        \"pickoffsPitching\",\n",
    "        \"catchersInterferencePitching\",\n",
    "        \"assists\",\n",
    "        \"putOuts\",\n",
    "        \"errors\",\n",
    "        \"chances\",\n",
    "        \"gamesFinishedPitching\",\n",
    "        \"groundOutsPitching\",\n",
    "    ]),\n",
    "]\n",
    "non_update_blocks = [\n",
    "    TargetAggregateBlock(periods=[\n",
    "        # 20210201,\n",
    "        # 20210301,\n",
    "        20210401,\n",
    "    ]),\n",
    "    RostersLabelEncodingBlock(columns=[\n",
    "        \"teamId\",\n",
    "        \"status\"\n",
    "    ]),\n",
    "    PlayersLabelEncodingBlock(columns=[\n",
    "        \"birthCountry\",\n",
    "        # \"birthCity\",\n",
    "        # \"birthStateProvince\",\n",
    "        # \"heightInches\",\n",
    "        # \"weight\",\n",
    "        \"primaryPositionCode\",\n",
    "        # \"playerAge\"\n",
    "    ]),\n",
    "]\n",
    "\n",
    "# create features\n",
    "input_df = mlb_train_ds.train_next[CFG.OBJECT_ID].copy()\n",
    "input_df = input_df.merge(mlb_train_ds.players[[\"playerId\", \"playerForTestSetAndFuturePreds\"]], on=\"playerId\", how=\"left\")\n",
    "target_df = mlb_train_ds.train_next\n",
    "rosters_df = mlb_train_ds.train_rosters\n",
    "playerBoxScores_df = mlb_train_ds.train_scores\n",
    "\n",
    "if DEBUG:\n",
    "    input_df = input_df[input_df[\"date\"] >= 20210101].reset_index(drop=True)\n",
    "    target_df = target_df[target_df[\"date\"] >= 20210101].reset_index(drop=True)\n",
    "    rosters_df = rosters_df[rosters_df[\"date\"] >= 20210101].reset_index(drop=True)\n",
    "    playerBoxScores_df = playerBoxScores_df[playerBoxScores_df[\"date\"] >= 20210101].reset_index(drop=True)\n",
    "\n",
    "train_feat_df = create_train_feature(\n",
    "    input_df,\n",
    "    target_df,\n",
    "    rosters_df,\n",
    "    playerBoxScores_df,\n",
    "    update_blocks,\n",
    "    non_update_blocks,\n",
    "    only_fit=False,\n",
    ")\n",
    "\n",
    "X_train = train_feat_df.values\n",
    "targets = [target_df[col].values for col in CFG.TARGETS]\n",
    "\n",
    "if DEBUG:\n",
    "    targets = [target_df[col].values for col in CFG.TARGETS]\n",
    "\n",
    "# split train/valid\n",
    "fold = get_timeseries_holdout(input_df, valid_start_date=20210501)\n",
    "\n",
    "# training\n",
    "models = run_lgb(X_train, targets, CFG.SEEDS, fold)"
   ],
   "outputs": [
    {
     "output_type": "stream",
     "name": "stdout",
     "text": [
      "[2021-07-29 02:21:57,165] [INFO] [logger set up]\n",
      "[2021-07-29 02:21:57,837] [INFO] [<<__main__.PlayerStatsBlock object at 0x141a1b3a0>_fit> start]\n"
     ]
    },
    {
     "output_type": "display_data",
     "data": {
      "text/plain": [
       "  0%|          | 0/39714 [00:00<?, ?it/s]"
      ],
      "application/vnd.jupyter.widget-view+json": {
       "version_major": 2,
       "version_minor": 0,
       "model_id": "bb2955aeae494ac0898c72b6ca90fe7e"
      }
     },
     "metadata": {}
    },
    {
     "output_type": "display_data",
     "data": {
      "text/plain": [
       "  0%|          | 0/408078 [00:00<?, ?it/s]"
      ],
      "application/vnd.jupyter.widget-view+json": {
       "version_major": 2,
       "version_minor": 0,
       "model_id": "32042b03a7da494790e492ec8d71170f"
      }
     },
     "metadata": {}
    },
    {
     "output_type": "stream",
     "name": "stdout",
     "text": [
      "[2021-07-29 02:24:31,800] [INFO] [<<__main__.PlayerStatsBlock object at 0x141a1b3a0>_fit> done in 153.96 s]\n",
      "[2021-07-29 02:24:31,894] [INFO] [<<__main__.TargetAggregateBlock object at 0x141a1bbe0>_fit> start]\n"
     ]
    },
    {
     "output_type": "stream",
     "name": "stderr",
     "text": [
      "/Users/azupero/data-science/kaggle/MLB-Player-Digital-Engagement-Forecasting/.venv/lib/python3.8/site-packages/scipy/stats/_distn_infrastructure.py:1870: RuntimeWarning: invalid value encountered in double_scalars\n",
      "  x = np.asarray((x - loc)/scale, dtype=dtyp)\n"
     ]
    },
    {
     "output_type": "stream",
     "name": "stdout",
     "text": [
      "[2021-07-29 02:25:14,209] [INFO] [<<__main__.TargetAggregateBlock object at 0x141a1bbe0>_fit> done in 42.31 s]\n",
      "[2021-07-29 02:25:14,307] [INFO] [<<__main__.RostersLabelEncodingBlock object at 0x141a1b790>_fit> start]\n",
      "[2021-07-29 02:25:14,485] [INFO] [<<__main__.RostersLabelEncodingBlock object at 0x141a1b790>_fit> done in 0.18 s]\n",
      "[2021-07-29 02:25:15,067] [INFO] [<<__main__.PlayersLabelEncodingBlock object at 0x141a1be20>_fit> start]\n",
      "[2021-07-29 02:25:15,118] [INFO] [<<__main__.PlayersLabelEncodingBlock object at 0x141a1be20>_fit> done in 0.05 s]\n",
      "Training for Target1\n"
     ]
    },
    {
     "output_type": "stream",
     "name": "stderr",
     "text": [
      "/Users/azupero/data-science/kaggle/MLB-Player-Digital-Engagement-Forecasting/.venv/lib/python3.8/site-packages/lightgbm/engine.py:148: UserWarning: Found `num_iterations` in params. Will use it instead of argument\n",
      "  _log_warning(\"Found `{}` in params. Will use it instead of argument\".format(alias))\n",
      "/Users/azupero/data-science/kaggle/MLB-Player-Digital-Engagement-Forecasting/.venv/lib/python3.8/site-packages/lightgbm/engine.py:153: UserWarning: Found `early_stopping_round` in params. Will use it instead of argument\n",
      "  _log_warning(\"Found `{}` in params. Will use it instead of argument\".format(alias))\n"
     ]
    },
    {
     "output_type": "stream",
     "name": "stdout",
     "text": [
      "Training until validation scores don't improve for 100 rounds\n",
      "[100]\ttrain's l1: 0.617397\tvalid's l1: 1.13188\n",
      "Early stopping, best iteration is:\n",
      "[60]\ttrain's l1: 0.617533\tvalid's l1: 1.13165\n",
      "Local Target1 OOF-MAE : 1.1316521086914029\n",
      "--------------------------------------------------\n",
      "Training for Target2\n"
     ]
    },
    {
     "output_type": "stream",
     "name": "stderr",
     "text": [
      "/Users/azupero/data-science/kaggle/MLB-Player-Digital-Engagement-Forecasting/.venv/lib/python3.8/site-packages/lightgbm/engine.py:148: UserWarning: Found `num_iterations` in params. Will use it instead of argument\n",
      "  _log_warning(\"Found `{}` in params. Will use it instead of argument\".format(alias))\n",
      "/Users/azupero/data-science/kaggle/MLB-Player-Digital-Engagement-Forecasting/.venv/lib/python3.8/site-packages/lightgbm/engine.py:153: UserWarning: Found `early_stopping_round` in params. Will use it instead of argument\n",
      "  _log_warning(\"Found `{}` in params. Will use it instead of argument\".format(alias))\n"
     ]
    },
    {
     "output_type": "stream",
     "name": "stdout",
     "text": [
      "Training until validation scores don't improve for 100 rounds\n",
      "[100]\ttrain's l1: 1.66717\tvalid's l1: 2.12572\n",
      "[200]\ttrain's l1: 1.64799\tvalid's l1: 2.11302\n",
      "[300]\ttrain's l1: 1.63766\tvalid's l1: 2.10498\n",
      "[400]\ttrain's l1: 1.63187\tvalid's l1: 2.10463\n",
      "Early stopping, best iteration is:\n",
      "[358]\ttrain's l1: 1.63347\tvalid's l1: 2.10119\n",
      "Local Target2 OOF-MAE : 2.1007766975635582\n",
      "--------------------------------------------------\n",
      "Training for Target3\n"
     ]
    },
    {
     "output_type": "stream",
     "name": "stderr",
     "text": [
      "/Users/azupero/data-science/kaggle/MLB-Player-Digital-Engagement-Forecasting/.venv/lib/python3.8/site-packages/lightgbm/engine.py:148: UserWarning: Found `num_iterations` in params. Will use it instead of argument\n",
      "  _log_warning(\"Found `{}` in params. Will use it instead of argument\".format(alias))\n",
      "/Users/azupero/data-science/kaggle/MLB-Player-Digital-Engagement-Forecasting/.venv/lib/python3.8/site-packages/lightgbm/engine.py:153: UserWarning: Found `early_stopping_round` in params. Will use it instead of argument\n",
      "  _log_warning(\"Found `{}` in params. Will use it instead of argument\".format(alias))\n"
     ]
    },
    {
     "output_type": "stream",
     "name": "stdout",
     "text": [
      "Training until validation scores don't improve for 100 rounds\n",
      "[100]\ttrain's l1: 0.670249\tvalid's l1: 0.869504\n",
      "[200]\ttrain's l1: 0.67\tvalid's l1: 0.868907\n",
      "[300]\ttrain's l1: 0.669993\tvalid's l1: 0.86891\n",
      "Early stopping, best iteration is:\n",
      "[257]\ttrain's l1: 0.669999\tvalid's l1: 0.868907\n",
      "Local Target3 OOF-MAE : 0.8688997227866097\n",
      "--------------------------------------------------\n",
      "Training for Target4\n"
     ]
    },
    {
     "output_type": "stream",
     "name": "stderr",
     "text": [
      "/Users/azupero/data-science/kaggle/MLB-Player-Digital-Engagement-Forecasting/.venv/lib/python3.8/site-packages/lightgbm/engine.py:148: UserWarning: Found `num_iterations` in params. Will use it instead of argument\n",
      "  _log_warning(\"Found `{}` in params. Will use it instead of argument\".format(alias))\n",
      "/Users/azupero/data-science/kaggle/MLB-Player-Digital-Engagement-Forecasting/.venv/lib/python3.8/site-packages/lightgbm/engine.py:153: UserWarning: Found `early_stopping_round` in params. Will use it instead of argument\n",
      "  _log_warning(\"Found `{}` in params. Will use it instead of argument\".format(alias))\n"
     ]
    },
    {
     "output_type": "stream",
     "name": "stdout",
     "text": [
      "Training until validation scores don't improve for 100 rounds\n",
      "[100]\ttrain's l1: 0.956147\tvalid's l1: 1.35483\n",
      "Early stopping, best iteration is:\n",
      "[12]\ttrain's l1: 1.04765\tvalid's l1: 1.24074\n",
      "Local Target4 OOF-MAE : 1.2407423322569975\n",
      "--------------------------------------------------\n",
      "Local MCMAE : 1.335517715324642\n"
     ]
    }
   ],
   "metadata": {}
  },
  {
   "cell_type": "code",
   "execution_count": 11,
   "source": [
    "def visualize_feature_importance(models, feat_train_df) -> plotly.graph_objects.Figure:\n",
    "    '''LightGBMのfeature importanceを可視化\n",
    "    '''\n",
    "    for target_i in range(len(models)):\n",
    "        feature_importance_df = pd.DataFrame()\n",
    "        for i, model in enumerate(models[target_i]):\n",
    "            _df = pd.DataFrame()\n",
    "            _df['feature_importance'] = model.feature_importance(importance_type=\"gain\")\n",
    "            _df['feature'] = feat_train_df.columns\n",
    "            _df['model_no'] = i + 1\n",
    "            feature_importance_df = pd.concat([feature_importance_df, _df], \n",
    "                                            axis=0, ignore_index=True)\n",
    "\n",
    "        order = feature_importance_df.groupby('feature')\\\n",
    "            .mean()[['feature_importance']]\\\n",
    "            .sort_values('feature_importance', ascending=False).index[:50]\n",
    "        \n",
    "        fig = px.box(\n",
    "            feature_importance_df.query(\"feature in @order\"),\n",
    "            x=\"feature_importance\",\n",
    "            y=\"feature\",\n",
    "            category_orders={\"feature\": order},\n",
    "            width=1250,\n",
    "            height=900,\n",
    "            title=f\"Target{target_i+1} Top 50 feature importance\",\n",
    "        )\n",
    "        fig.update_yaxes(showgrid=True)\n",
    "        fig.show()"
   ],
   "outputs": [],
   "metadata": {}
  },
  {
   "cell_type": "code",
   "execution_count": 12,
   "source": [
    "visualize_feature_importance(models, train_feat_df)"
   ],
   "outputs": [
    {
     "output_type": "display_data",
     "data": {
      "application/vnd.plotly.v1+json": {
       "config": {
        "plotlyServerURL": "https://plot.ly"
       },
       "data": [
        {
         "alignmentgroup": "True",
         "hovertemplate": "feature_importance=%{x}<br>feature=%{y}<extra></extra>",
         "legendgroup": "",
         "marker": {
          "color": "#636efa"
         },
         "name": "",
         "notched": false,
         "offsetgroup": "",
         "orientation": "h",
         "showlegend": false,
         "type": "box",
         "x": [
          2891.86007976532,
          3412.8178062438965,
          467.4804973602295,
          563.1814956665039,
          709.2490921020508,
          697.7171669006348,
          683.7803411483765,
          710.0844116210938,
          566.2093830108643,
          556.1154553890228,
          1132.859487771988,
          752.7763061523438,
          656.7799053192139,
          499.9665985107422,
          80728.86515155435,
          4037.8561778068542,
          2868.6836500167847,
          32685.88387274742,
          159256.509642601,
          581694.7190742493,
          732636.3204743862,
          4702.598203420639,
          14014.105013847351,
          4703.452082220465,
          3764.43195605278,
          5370.992295384407,
          4530.721258878708,
          5974.843893289566,
          3457.706383705139,
          1995.4477055072784,
          1950.1035137176514,
          851.0704002380371,
          900.8826937675476,
          7721.902548789978,
          1448.4488725662231,
          1209.0654067993164,
          2631.2248663902283,
          890.3868989944458,
          1791.5345816612244,
          1613.5252151489258,
          2510.9558639526367,
          4189.717588424683,
          1529.2829885482788,
          1477.742186665535,
          1774.3714056015015,
          1292.965995311737,
          3218.6175997257233,
          23922.314204216003,
          2657.8932251930237,
          3276.6466324329376
         ],
         "x0": " ",
         "xaxis": "x",
         "y": [
          "PlayerStats_rbi",
          "PlayerStats_rbi_cum",
          "PlayerStats_totalBases",
          "PlayerStats_saves",
          "PlayerStats_strikeOutsPitching",
          "PlayerStats_homeRuns_rank",
          "PlayerStats_rbi_rank",
          "PlayerStats_baseOnBalls_rank",
          "PlayerStats_stolenBases_rank",
          "PlayerStats_winsPitching_rank",
          "PlayerStats_holds_rank",
          "PlayerStats_inningsPitched_rank",
          "PlayerStats_runsPitching_rank",
          "PlayerStats_earnedRuns_rank",
          "target1_202104_mean",
          "target1_202104_std",
          "target1_202104_max",
          "target1_202104_min",
          "target1_202104_median",
          "target1_202104_quantile25",
          "target1_202104_quantile75",
          "target1_202104_prob",
          "target2_202104_mean",
          "target2_202104_std",
          "target2_202104_max",
          "target2_202104_min",
          "target2_202104_median",
          "target2_202104_quantile25",
          "target2_202104_quantile75",
          "target2_202104_prob",
          "target3_202104_mean",
          "target3_202104_std",
          "target3_202104_max",
          "target3_202104_min",
          "target3_202104_median",
          "target3_202104_quantile25",
          "target3_202104_quantile75",
          "target3_202104_prob",
          "target4_202104_mean",
          "target4_202104_std",
          "target4_202104_max",
          "target4_202104_min",
          "target4_202104_median",
          "target4_202104_quantile25",
          "target4_202104_quantile75",
          "target4_202104_prob",
          "Rosters_LE_teamId",
          "Rosters_LE_status",
          "Players_LE_primaryPositionCode",
          "Players_LE_playerid"
         ],
         "y0": " ",
         "yaxis": "y"
        }
       ],
       "layout": {
        "boxmode": "group",
        "height": 900,
        "legend": {
         "tracegroupgap": 0
        },
        "template": {
         "data": {
          "bar": [
           {
            "error_x": {
             "color": "#2a3f5f"
            },
            "error_y": {
             "color": "#2a3f5f"
            },
            "marker": {
             "line": {
              "color": "#E5ECF6",
              "width": 0.5
             }
            },
            "type": "bar"
           }
          ],
          "barpolar": [
           {
            "marker": {
             "line": {
              "color": "#E5ECF6",
              "width": 0.5
             }
            },
            "type": "barpolar"
           }
          ],
          "carpet": [
           {
            "aaxis": {
             "endlinecolor": "#2a3f5f",
             "gridcolor": "white",
             "linecolor": "white",
             "minorgridcolor": "white",
             "startlinecolor": "#2a3f5f"
            },
            "baxis": {
             "endlinecolor": "#2a3f5f",
             "gridcolor": "white",
             "linecolor": "white",
             "minorgridcolor": "white",
             "startlinecolor": "#2a3f5f"
            },
            "type": "carpet"
           }
          ],
          "choropleth": [
           {
            "colorbar": {
             "outlinewidth": 0,
             "ticks": ""
            },
            "type": "choropleth"
           }
          ],
          "contour": [
           {
            "colorbar": {
             "outlinewidth": 0,
             "ticks": ""
            },
            "colorscale": [
             [
              0,
              "#0d0887"
             ],
             [
              0.1111111111111111,
              "#46039f"
             ],
             [
              0.2222222222222222,
              "#7201a8"
             ],
             [
              0.3333333333333333,
              "#9c179e"
             ],
             [
              0.4444444444444444,
              "#bd3786"
             ],
             [
              0.5555555555555556,
              "#d8576b"
             ],
             [
              0.6666666666666666,
              "#ed7953"
             ],
             [
              0.7777777777777778,
              "#fb9f3a"
             ],
             [
              0.8888888888888888,
              "#fdca26"
             ],
             [
              1,
              "#f0f921"
             ]
            ],
            "type": "contour"
           }
          ],
          "contourcarpet": [
           {
            "colorbar": {
             "outlinewidth": 0,
             "ticks": ""
            },
            "type": "contourcarpet"
           }
          ],
          "heatmap": [
           {
            "colorbar": {
             "outlinewidth": 0,
             "ticks": ""
            },
            "colorscale": [
             [
              0,
              "#0d0887"
             ],
             [
              0.1111111111111111,
              "#46039f"
             ],
             [
              0.2222222222222222,
              "#7201a8"
             ],
             [
              0.3333333333333333,
              "#9c179e"
             ],
             [
              0.4444444444444444,
              "#bd3786"
             ],
             [
              0.5555555555555556,
              "#d8576b"
             ],
             [
              0.6666666666666666,
              "#ed7953"
             ],
             [
              0.7777777777777778,
              "#fb9f3a"
             ],
             [
              0.8888888888888888,
              "#fdca26"
             ],
             [
              1,
              "#f0f921"
             ]
            ],
            "type": "heatmap"
           }
          ],
          "heatmapgl": [
           {
            "colorbar": {
             "outlinewidth": 0,
             "ticks": ""
            },
            "colorscale": [
             [
              0,
              "#0d0887"
             ],
             [
              0.1111111111111111,
              "#46039f"
             ],
             [
              0.2222222222222222,
              "#7201a8"
             ],
             [
              0.3333333333333333,
              "#9c179e"
             ],
             [
              0.4444444444444444,
              "#bd3786"
             ],
             [
              0.5555555555555556,
              "#d8576b"
             ],
             [
              0.6666666666666666,
              "#ed7953"
             ],
             [
              0.7777777777777778,
              "#fb9f3a"
             ],
             [
              0.8888888888888888,
              "#fdca26"
             ],
             [
              1,
              "#f0f921"
             ]
            ],
            "type": "heatmapgl"
           }
          ],
          "histogram": [
           {
            "marker": {
             "colorbar": {
              "outlinewidth": 0,
              "ticks": ""
             }
            },
            "type": "histogram"
           }
          ],
          "histogram2d": [
           {
            "colorbar": {
             "outlinewidth": 0,
             "ticks": ""
            },
            "colorscale": [
             [
              0,
              "#0d0887"
             ],
             [
              0.1111111111111111,
              "#46039f"
             ],
             [
              0.2222222222222222,
              "#7201a8"
             ],
             [
              0.3333333333333333,
              "#9c179e"
             ],
             [
              0.4444444444444444,
              "#bd3786"
             ],
             [
              0.5555555555555556,
              "#d8576b"
             ],
             [
              0.6666666666666666,
              "#ed7953"
             ],
             [
              0.7777777777777778,
              "#fb9f3a"
             ],
             [
              0.8888888888888888,
              "#fdca26"
             ],
             [
              1,
              "#f0f921"
             ]
            ],
            "type": "histogram2d"
           }
          ],
          "histogram2dcontour": [
           {
            "colorbar": {
             "outlinewidth": 0,
             "ticks": ""
            },
            "colorscale": [
             [
              0,
              "#0d0887"
             ],
             [
              0.1111111111111111,
              "#46039f"
             ],
             [
              0.2222222222222222,
              "#7201a8"
             ],
             [
              0.3333333333333333,
              "#9c179e"
             ],
             [
              0.4444444444444444,
              "#bd3786"
             ],
             [
              0.5555555555555556,
              "#d8576b"
             ],
             [
              0.6666666666666666,
              "#ed7953"
             ],
             [
              0.7777777777777778,
              "#fb9f3a"
             ],
             [
              0.8888888888888888,
              "#fdca26"
             ],
             [
              1,
              "#f0f921"
             ]
            ],
            "type": "histogram2dcontour"
           }
          ],
          "mesh3d": [
           {
            "colorbar": {
             "outlinewidth": 0,
             "ticks": ""
            },
            "type": "mesh3d"
           }
          ],
          "parcoords": [
           {
            "line": {
             "colorbar": {
              "outlinewidth": 0,
              "ticks": ""
             }
            },
            "type": "parcoords"
           }
          ],
          "pie": [
           {
            "automargin": true,
            "type": "pie"
           }
          ],
          "scatter": [
           {
            "marker": {
             "colorbar": {
              "outlinewidth": 0,
              "ticks": ""
             }
            },
            "type": "scatter"
           }
          ],
          "scatter3d": [
           {
            "line": {
             "colorbar": {
              "outlinewidth": 0,
              "ticks": ""
             }
            },
            "marker": {
             "colorbar": {
              "outlinewidth": 0,
              "ticks": ""
             }
            },
            "type": "scatter3d"
           }
          ],
          "scattercarpet": [
           {
            "marker": {
             "colorbar": {
              "outlinewidth": 0,
              "ticks": ""
             }
            },
            "type": "scattercarpet"
           }
          ],
          "scattergeo": [
           {
            "marker": {
             "colorbar": {
              "outlinewidth": 0,
              "ticks": ""
             }
            },
            "type": "scattergeo"
           }
          ],
          "scattergl": [
           {
            "marker": {
             "colorbar": {
              "outlinewidth": 0,
              "ticks": ""
             }
            },
            "type": "scattergl"
           }
          ],
          "scattermapbox": [
           {
            "marker": {
             "colorbar": {
              "outlinewidth": 0,
              "ticks": ""
             }
            },
            "type": "scattermapbox"
           }
          ],
          "scatterpolar": [
           {
            "marker": {
             "colorbar": {
              "outlinewidth": 0,
              "ticks": ""
             }
            },
            "type": "scatterpolar"
           }
          ],
          "scatterpolargl": [
           {
            "marker": {
             "colorbar": {
              "outlinewidth": 0,
              "ticks": ""
             }
            },
            "type": "scatterpolargl"
           }
          ],
          "scatterternary": [
           {
            "marker": {
             "colorbar": {
              "outlinewidth": 0,
              "ticks": ""
             }
            },
            "type": "scatterternary"
           }
          ],
          "surface": [
           {
            "colorbar": {
             "outlinewidth": 0,
             "ticks": ""
            },
            "colorscale": [
             [
              0,
              "#0d0887"
             ],
             [
              0.1111111111111111,
              "#46039f"
             ],
             [
              0.2222222222222222,
              "#7201a8"
             ],
             [
              0.3333333333333333,
              "#9c179e"
             ],
             [
              0.4444444444444444,
              "#bd3786"
             ],
             [
              0.5555555555555556,
              "#d8576b"
             ],
             [
              0.6666666666666666,
              "#ed7953"
             ],
             [
              0.7777777777777778,
              "#fb9f3a"
             ],
             [
              0.8888888888888888,
              "#fdca26"
             ],
             [
              1,
              "#f0f921"
             ]
            ],
            "type": "surface"
           }
          ],
          "table": [
           {
            "cells": {
             "fill": {
              "color": "#EBF0F8"
             },
             "line": {
              "color": "white"
             }
            },
            "header": {
             "fill": {
              "color": "#C8D4E3"
             },
             "line": {
              "color": "white"
             }
            },
            "type": "table"
           }
          ]
         },
         "layout": {
          "annotationdefaults": {
           "arrowcolor": "#2a3f5f",
           "arrowhead": 0,
           "arrowwidth": 1
          },
          "autotypenumbers": "strict",
          "coloraxis": {
           "colorbar": {
            "outlinewidth": 0,
            "ticks": ""
           }
          },
          "colorscale": {
           "diverging": [
            [
             0,
             "#8e0152"
            ],
            [
             0.1,
             "#c51b7d"
            ],
            [
             0.2,
             "#de77ae"
            ],
            [
             0.3,
             "#f1b6da"
            ],
            [
             0.4,
             "#fde0ef"
            ],
            [
             0.5,
             "#f7f7f7"
            ],
            [
             0.6,
             "#e6f5d0"
            ],
            [
             0.7,
             "#b8e186"
            ],
            [
             0.8,
             "#7fbc41"
            ],
            [
             0.9,
             "#4d9221"
            ],
            [
             1,
             "#276419"
            ]
           ],
           "sequential": [
            [
             0,
             "#0d0887"
            ],
            [
             0.1111111111111111,
             "#46039f"
            ],
            [
             0.2222222222222222,
             "#7201a8"
            ],
            [
             0.3333333333333333,
             "#9c179e"
            ],
            [
             0.4444444444444444,
             "#bd3786"
            ],
            [
             0.5555555555555556,
             "#d8576b"
            ],
            [
             0.6666666666666666,
             "#ed7953"
            ],
            [
             0.7777777777777778,
             "#fb9f3a"
            ],
            [
             0.8888888888888888,
             "#fdca26"
            ],
            [
             1,
             "#f0f921"
            ]
           ],
           "sequentialminus": [
            [
             0,
             "#0d0887"
            ],
            [
             0.1111111111111111,
             "#46039f"
            ],
            [
             0.2222222222222222,
             "#7201a8"
            ],
            [
             0.3333333333333333,
             "#9c179e"
            ],
            [
             0.4444444444444444,
             "#bd3786"
            ],
            [
             0.5555555555555556,
             "#d8576b"
            ],
            [
             0.6666666666666666,
             "#ed7953"
            ],
            [
             0.7777777777777778,
             "#fb9f3a"
            ],
            [
             0.8888888888888888,
             "#fdca26"
            ],
            [
             1,
             "#f0f921"
            ]
           ]
          },
          "colorway": [
           "#636efa",
           "#EF553B",
           "#00cc96",
           "#ab63fa",
           "#FFA15A",
           "#19d3f3",
           "#FF6692",
           "#B6E880",
           "#FF97FF",
           "#FECB52"
          ],
          "font": {
           "color": "#2a3f5f"
          },
          "geo": {
           "bgcolor": "white",
           "lakecolor": "white",
           "landcolor": "#E5ECF6",
           "showlakes": true,
           "showland": true,
           "subunitcolor": "white"
          },
          "hoverlabel": {
           "align": "left"
          },
          "hovermode": "closest",
          "mapbox": {
           "style": "light"
          },
          "paper_bgcolor": "white",
          "plot_bgcolor": "#E5ECF6",
          "polar": {
           "angularaxis": {
            "gridcolor": "white",
            "linecolor": "white",
            "ticks": ""
           },
           "bgcolor": "#E5ECF6",
           "radialaxis": {
            "gridcolor": "white",
            "linecolor": "white",
            "ticks": ""
           }
          },
          "scene": {
           "xaxis": {
            "backgroundcolor": "#E5ECF6",
            "gridcolor": "white",
            "gridwidth": 2,
            "linecolor": "white",
            "showbackground": true,
            "ticks": "",
            "zerolinecolor": "white"
           },
           "yaxis": {
            "backgroundcolor": "#E5ECF6",
            "gridcolor": "white",
            "gridwidth": 2,
            "linecolor": "white",
            "showbackground": true,
            "ticks": "",
            "zerolinecolor": "white"
           },
           "zaxis": {
            "backgroundcolor": "#E5ECF6",
            "gridcolor": "white",
            "gridwidth": 2,
            "linecolor": "white",
            "showbackground": true,
            "ticks": "",
            "zerolinecolor": "white"
           }
          },
          "shapedefaults": {
           "line": {
            "color": "#2a3f5f"
           }
          },
          "ternary": {
           "aaxis": {
            "gridcolor": "white",
            "linecolor": "white",
            "ticks": ""
           },
           "baxis": {
            "gridcolor": "white",
            "linecolor": "white",
            "ticks": ""
           },
           "bgcolor": "#E5ECF6",
           "caxis": {
            "gridcolor": "white",
            "linecolor": "white",
            "ticks": ""
           }
          },
          "title": {
           "x": 0.05
          },
          "xaxis": {
           "automargin": true,
           "gridcolor": "white",
           "linecolor": "white",
           "ticks": "",
           "title": {
            "standoff": 15
           },
           "zerolinecolor": "white",
           "zerolinewidth": 2
          },
          "yaxis": {
           "automargin": true,
           "gridcolor": "white",
           "linecolor": "white",
           "ticks": "",
           "title": {
            "standoff": 15
           },
           "zerolinecolor": "white",
           "zerolinewidth": 2
          }
         }
        },
        "title": {
         "text": "Target1 Top 50 feature importance"
        },
        "width": 1250,
        "xaxis": {
         "anchor": "y",
         "domain": [
          0,
          1
         ],
         "title": {
          "text": "feature_importance"
         }
        },
        "yaxis": {
         "anchor": "x",
         "categoryarray": [
          "PlayerStats_totalBases",
          "PlayerStats_earnedRuns_rank",
          "PlayerStats_winsPitching_rank",
          "PlayerStats_saves",
          "PlayerStats_stolenBases_rank",
          "PlayerStats_runsPitching_rank",
          "PlayerStats_rbi_rank",
          "PlayerStats_homeRuns_rank",
          "PlayerStats_strikeOutsPitching",
          "PlayerStats_baseOnBalls_rank",
          "PlayerStats_inningsPitched_rank",
          "target3_202104_std",
          "target3_202104_prob",
          "target3_202104_max",
          "PlayerStats_holds_rank",
          "target3_202104_quantile25",
          "target4_202104_prob",
          "target3_202104_median",
          "target4_202104_quantile25",
          "target4_202104_median",
          "target4_202104_std",
          "target4_202104_quantile75",
          "target4_202104_mean",
          "target3_202104_mean",
          "target2_202104_prob",
          "target4_202104_max",
          "target3_202104_quantile75",
          "Players_LE_primaryPositionCode",
          "target1_202104_max",
          "PlayerStats_rbi",
          "Rosters_LE_teamId",
          "Players_LE_playerid",
          "PlayerStats_rbi_cum",
          "target2_202104_quantile75",
          "target2_202104_max",
          "target1_202104_std",
          "target4_202104_min",
          "target2_202104_median",
          "target1_202104_prob",
          "target2_202104_std",
          "target2_202104_min",
          "target2_202104_quantile25",
          "target3_202104_min",
          "target2_202104_mean",
          "Rosters_LE_status",
          "target1_202104_min",
          "target1_202104_mean",
          "target1_202104_median",
          "target1_202104_quantile25",
          "target1_202104_quantile75"
         ],
         "categoryorder": "array",
         "domain": [
          0,
          1
         ],
         "showgrid": true,
         "title": {
          "text": "feature"
         }
        }
       }
      }
     },
     "metadata": {}
    },
    {
     "output_type": "display_data",
     "data": {
      "application/vnd.plotly.v1+json": {
       "config": {
        "plotlyServerURL": "https://plot.ly"
       },
       "data": [
        {
         "alignmentgroup": "True",
         "hovertemplate": "feature_importance=%{x}<br>feature=%{y}<extra></extra>",
         "legendgroup": "",
         "marker": {
          "color": "#636efa"
         },
         "name": "",
         "notched": false,
         "offsetgroup": "",
         "orientation": "h",
         "showlegend": false,
         "type": "box",
         "x": [
          1533.5560903549194,
          2263.1925106048584,
          2801.128028869629,
          1643.637734413147,
          1985.766679763794,
          1448.4074068069458,
          1657.516390800476,
          5505.856474399567,
          1421.6778297424316,
          3194.021381378174,
          4501.227541923523,
          2897.3877477645874,
          1740.352261543274,
          1754.6380877494812,
          1567.9516038894653,
          1530.5537004470825,
          7426.5598912239075,
          3602.292980194092,
          3293.023714542389,
          8444.839915275574,
          1683.814446926117,
          5169.427814483643,
          2214.4058079719543,
          67569.82208824158,
          9232.176195085049,
          28222.461170196533,
          51425.871908187866,
          226972.1854672432,
          266079.40020799637,
          136947.14981889725,
          8399.07089483738,
          2768.1504435539246,
          1733.7900471687317,
          1650.7325983047485,
          1645.6726140975952,
          1662.419195175171,
          1521.0921578407288,
          10659.614828586578,
          6915.22380065918,
          9436.862393856049,
          10901.483512878418,
          13143.154983520508,
          15627.546474456787,
          11849.438624858856,
          5656.732131958008,
          9936.853230953217,
          322926.98431682587,
          1695.935516834259,
          3708.3652296066284,
          7174.489778518677
         ],
         "x0": " ",
         "xaxis": "x",
         "y": [
          "PlayerStats_positionCode",
          "PlayerStats_flyOuts_cum",
          "PlayerStats_putOuts",
          "PlayerStats_chances",
          "PlayerStats_homeRuns_rank",
          "PlayerStats_rbi_rank",
          "PlayerStats_doubles_rank",
          "PlayerStats_triples_rank",
          "PlayerStats_plateAppearances_rank",
          "PlayerStats_winsPitching_rank",
          "PlayerStats_saves_rank",
          "PlayerStats_holds_rank",
          "PlayerStats_completeGamesPitching_rank",
          "PlayerStats_shutoutsPitching_rank",
          "PlayerStats_inningsPitched_rank",
          "PlayerStats_earnedRuns_rank",
          "target1_202104_mean",
          "target1_202104_std",
          "target1_202104_max",
          "target1_202104_min",
          "target1_202104_median",
          "target1_202104_quantile25",
          "target1_202104_prob",
          "target2_202104_mean",
          "target2_202104_std",
          "target2_202104_max",
          "target2_202104_min",
          "target2_202104_median",
          "target2_202104_quantile25",
          "target2_202104_quantile75",
          "target2_202104_prob",
          "target3_202104_mean",
          "target3_202104_std",
          "target3_202104_min",
          "target3_202104_quantile25",
          "target3_202104_quantile75",
          "target3_202104_prob",
          "target4_202104_mean",
          "target4_202104_std",
          "target4_202104_max",
          "target4_202104_min",
          "target4_202104_median",
          "target4_202104_quantile25",
          "target4_202104_quantile75",
          "target4_202104_prob",
          "Rosters_LE_teamId",
          "Rosters_LE_status",
          "Players_LE_birthCountry",
          "Players_LE_primaryPositionCode",
          "Players_LE_playerid"
         ],
         "y0": " ",
         "yaxis": "y"
        }
       ],
       "layout": {
        "boxmode": "group",
        "height": 900,
        "legend": {
         "tracegroupgap": 0
        },
        "template": {
         "data": {
          "bar": [
           {
            "error_x": {
             "color": "#2a3f5f"
            },
            "error_y": {
             "color": "#2a3f5f"
            },
            "marker": {
             "line": {
              "color": "#E5ECF6",
              "width": 0.5
             }
            },
            "type": "bar"
           }
          ],
          "barpolar": [
           {
            "marker": {
             "line": {
              "color": "#E5ECF6",
              "width": 0.5
             }
            },
            "type": "barpolar"
           }
          ],
          "carpet": [
           {
            "aaxis": {
             "endlinecolor": "#2a3f5f",
             "gridcolor": "white",
             "linecolor": "white",
             "minorgridcolor": "white",
             "startlinecolor": "#2a3f5f"
            },
            "baxis": {
             "endlinecolor": "#2a3f5f",
             "gridcolor": "white",
             "linecolor": "white",
             "minorgridcolor": "white",
             "startlinecolor": "#2a3f5f"
            },
            "type": "carpet"
           }
          ],
          "choropleth": [
           {
            "colorbar": {
             "outlinewidth": 0,
             "ticks": ""
            },
            "type": "choropleth"
           }
          ],
          "contour": [
           {
            "colorbar": {
             "outlinewidth": 0,
             "ticks": ""
            },
            "colorscale": [
             [
              0,
              "#0d0887"
             ],
             [
              0.1111111111111111,
              "#46039f"
             ],
             [
              0.2222222222222222,
              "#7201a8"
             ],
             [
              0.3333333333333333,
              "#9c179e"
             ],
             [
              0.4444444444444444,
              "#bd3786"
             ],
             [
              0.5555555555555556,
              "#d8576b"
             ],
             [
              0.6666666666666666,
              "#ed7953"
             ],
             [
              0.7777777777777778,
              "#fb9f3a"
             ],
             [
              0.8888888888888888,
              "#fdca26"
             ],
             [
              1,
              "#f0f921"
             ]
            ],
            "type": "contour"
           }
          ],
          "contourcarpet": [
           {
            "colorbar": {
             "outlinewidth": 0,
             "ticks": ""
            },
            "type": "contourcarpet"
           }
          ],
          "heatmap": [
           {
            "colorbar": {
             "outlinewidth": 0,
             "ticks": ""
            },
            "colorscale": [
             [
              0,
              "#0d0887"
             ],
             [
              0.1111111111111111,
              "#46039f"
             ],
             [
              0.2222222222222222,
              "#7201a8"
             ],
             [
              0.3333333333333333,
              "#9c179e"
             ],
             [
              0.4444444444444444,
              "#bd3786"
             ],
             [
              0.5555555555555556,
              "#d8576b"
             ],
             [
              0.6666666666666666,
              "#ed7953"
             ],
             [
              0.7777777777777778,
              "#fb9f3a"
             ],
             [
              0.8888888888888888,
              "#fdca26"
             ],
             [
              1,
              "#f0f921"
             ]
            ],
            "type": "heatmap"
           }
          ],
          "heatmapgl": [
           {
            "colorbar": {
             "outlinewidth": 0,
             "ticks": ""
            },
            "colorscale": [
             [
              0,
              "#0d0887"
             ],
             [
              0.1111111111111111,
              "#46039f"
             ],
             [
              0.2222222222222222,
              "#7201a8"
             ],
             [
              0.3333333333333333,
              "#9c179e"
             ],
             [
              0.4444444444444444,
              "#bd3786"
             ],
             [
              0.5555555555555556,
              "#d8576b"
             ],
             [
              0.6666666666666666,
              "#ed7953"
             ],
             [
              0.7777777777777778,
              "#fb9f3a"
             ],
             [
              0.8888888888888888,
              "#fdca26"
             ],
             [
              1,
              "#f0f921"
             ]
            ],
            "type": "heatmapgl"
           }
          ],
          "histogram": [
           {
            "marker": {
             "colorbar": {
              "outlinewidth": 0,
              "ticks": ""
             }
            },
            "type": "histogram"
           }
          ],
          "histogram2d": [
           {
            "colorbar": {
             "outlinewidth": 0,
             "ticks": ""
            },
            "colorscale": [
             [
              0,
              "#0d0887"
             ],
             [
              0.1111111111111111,
              "#46039f"
             ],
             [
              0.2222222222222222,
              "#7201a8"
             ],
             [
              0.3333333333333333,
              "#9c179e"
             ],
             [
              0.4444444444444444,
              "#bd3786"
             ],
             [
              0.5555555555555556,
              "#d8576b"
             ],
             [
              0.6666666666666666,
              "#ed7953"
             ],
             [
              0.7777777777777778,
              "#fb9f3a"
             ],
             [
              0.8888888888888888,
              "#fdca26"
             ],
             [
              1,
              "#f0f921"
             ]
            ],
            "type": "histogram2d"
           }
          ],
          "histogram2dcontour": [
           {
            "colorbar": {
             "outlinewidth": 0,
             "ticks": ""
            },
            "colorscale": [
             [
              0,
              "#0d0887"
             ],
             [
              0.1111111111111111,
              "#46039f"
             ],
             [
              0.2222222222222222,
              "#7201a8"
             ],
             [
              0.3333333333333333,
              "#9c179e"
             ],
             [
              0.4444444444444444,
              "#bd3786"
             ],
             [
              0.5555555555555556,
              "#d8576b"
             ],
             [
              0.6666666666666666,
              "#ed7953"
             ],
             [
              0.7777777777777778,
              "#fb9f3a"
             ],
             [
              0.8888888888888888,
              "#fdca26"
             ],
             [
              1,
              "#f0f921"
             ]
            ],
            "type": "histogram2dcontour"
           }
          ],
          "mesh3d": [
           {
            "colorbar": {
             "outlinewidth": 0,
             "ticks": ""
            },
            "type": "mesh3d"
           }
          ],
          "parcoords": [
           {
            "line": {
             "colorbar": {
              "outlinewidth": 0,
              "ticks": ""
             }
            },
            "type": "parcoords"
           }
          ],
          "pie": [
           {
            "automargin": true,
            "type": "pie"
           }
          ],
          "scatter": [
           {
            "marker": {
             "colorbar": {
              "outlinewidth": 0,
              "ticks": ""
             }
            },
            "type": "scatter"
           }
          ],
          "scatter3d": [
           {
            "line": {
             "colorbar": {
              "outlinewidth": 0,
              "ticks": ""
             }
            },
            "marker": {
             "colorbar": {
              "outlinewidth": 0,
              "ticks": ""
             }
            },
            "type": "scatter3d"
           }
          ],
          "scattercarpet": [
           {
            "marker": {
             "colorbar": {
              "outlinewidth": 0,
              "ticks": ""
             }
            },
            "type": "scattercarpet"
           }
          ],
          "scattergeo": [
           {
            "marker": {
             "colorbar": {
              "outlinewidth": 0,
              "ticks": ""
             }
            },
            "type": "scattergeo"
           }
          ],
          "scattergl": [
           {
            "marker": {
             "colorbar": {
              "outlinewidth": 0,
              "ticks": ""
             }
            },
            "type": "scattergl"
           }
          ],
          "scattermapbox": [
           {
            "marker": {
             "colorbar": {
              "outlinewidth": 0,
              "ticks": ""
             }
            },
            "type": "scattermapbox"
           }
          ],
          "scatterpolar": [
           {
            "marker": {
             "colorbar": {
              "outlinewidth": 0,
              "ticks": ""
             }
            },
            "type": "scatterpolar"
           }
          ],
          "scatterpolargl": [
           {
            "marker": {
             "colorbar": {
              "outlinewidth": 0,
              "ticks": ""
             }
            },
            "type": "scatterpolargl"
           }
          ],
          "scatterternary": [
           {
            "marker": {
             "colorbar": {
              "outlinewidth": 0,
              "ticks": ""
             }
            },
            "type": "scatterternary"
           }
          ],
          "surface": [
           {
            "colorbar": {
             "outlinewidth": 0,
             "ticks": ""
            },
            "colorscale": [
             [
              0,
              "#0d0887"
             ],
             [
              0.1111111111111111,
              "#46039f"
             ],
             [
              0.2222222222222222,
              "#7201a8"
             ],
             [
              0.3333333333333333,
              "#9c179e"
             ],
             [
              0.4444444444444444,
              "#bd3786"
             ],
             [
              0.5555555555555556,
              "#d8576b"
             ],
             [
              0.6666666666666666,
              "#ed7953"
             ],
             [
              0.7777777777777778,
              "#fb9f3a"
             ],
             [
              0.8888888888888888,
              "#fdca26"
             ],
             [
              1,
              "#f0f921"
             ]
            ],
            "type": "surface"
           }
          ],
          "table": [
           {
            "cells": {
             "fill": {
              "color": "#EBF0F8"
             },
             "line": {
              "color": "white"
             }
            },
            "header": {
             "fill": {
              "color": "#C8D4E3"
             },
             "line": {
              "color": "white"
             }
            },
            "type": "table"
           }
          ]
         },
         "layout": {
          "annotationdefaults": {
           "arrowcolor": "#2a3f5f",
           "arrowhead": 0,
           "arrowwidth": 1
          },
          "autotypenumbers": "strict",
          "coloraxis": {
           "colorbar": {
            "outlinewidth": 0,
            "ticks": ""
           }
          },
          "colorscale": {
           "diverging": [
            [
             0,
             "#8e0152"
            ],
            [
             0.1,
             "#c51b7d"
            ],
            [
             0.2,
             "#de77ae"
            ],
            [
             0.3,
             "#f1b6da"
            ],
            [
             0.4,
             "#fde0ef"
            ],
            [
             0.5,
             "#f7f7f7"
            ],
            [
             0.6,
             "#e6f5d0"
            ],
            [
             0.7,
             "#b8e186"
            ],
            [
             0.8,
             "#7fbc41"
            ],
            [
             0.9,
             "#4d9221"
            ],
            [
             1,
             "#276419"
            ]
           ],
           "sequential": [
            [
             0,
             "#0d0887"
            ],
            [
             0.1111111111111111,
             "#46039f"
            ],
            [
             0.2222222222222222,
             "#7201a8"
            ],
            [
             0.3333333333333333,
             "#9c179e"
            ],
            [
             0.4444444444444444,
             "#bd3786"
            ],
            [
             0.5555555555555556,
             "#d8576b"
            ],
            [
             0.6666666666666666,
             "#ed7953"
            ],
            [
             0.7777777777777778,
             "#fb9f3a"
            ],
            [
             0.8888888888888888,
             "#fdca26"
            ],
            [
             1,
             "#f0f921"
            ]
           ],
           "sequentialminus": [
            [
             0,
             "#0d0887"
            ],
            [
             0.1111111111111111,
             "#46039f"
            ],
            [
             0.2222222222222222,
             "#7201a8"
            ],
            [
             0.3333333333333333,
             "#9c179e"
            ],
            [
             0.4444444444444444,
             "#bd3786"
            ],
            [
             0.5555555555555556,
             "#d8576b"
            ],
            [
             0.6666666666666666,
             "#ed7953"
            ],
            [
             0.7777777777777778,
             "#fb9f3a"
            ],
            [
             0.8888888888888888,
             "#fdca26"
            ],
            [
             1,
             "#f0f921"
            ]
           ]
          },
          "colorway": [
           "#636efa",
           "#EF553B",
           "#00cc96",
           "#ab63fa",
           "#FFA15A",
           "#19d3f3",
           "#FF6692",
           "#B6E880",
           "#FF97FF",
           "#FECB52"
          ],
          "font": {
           "color": "#2a3f5f"
          },
          "geo": {
           "bgcolor": "white",
           "lakecolor": "white",
           "landcolor": "#E5ECF6",
           "showlakes": true,
           "showland": true,
           "subunitcolor": "white"
          },
          "hoverlabel": {
           "align": "left"
          },
          "hovermode": "closest",
          "mapbox": {
           "style": "light"
          },
          "paper_bgcolor": "white",
          "plot_bgcolor": "#E5ECF6",
          "polar": {
           "angularaxis": {
            "gridcolor": "white",
            "linecolor": "white",
            "ticks": ""
           },
           "bgcolor": "#E5ECF6",
           "radialaxis": {
            "gridcolor": "white",
            "linecolor": "white",
            "ticks": ""
           }
          },
          "scene": {
           "xaxis": {
            "backgroundcolor": "#E5ECF6",
            "gridcolor": "white",
            "gridwidth": 2,
            "linecolor": "white",
            "showbackground": true,
            "ticks": "",
            "zerolinecolor": "white"
           },
           "yaxis": {
            "backgroundcolor": "#E5ECF6",
            "gridcolor": "white",
            "gridwidth": 2,
            "linecolor": "white",
            "showbackground": true,
            "ticks": "",
            "zerolinecolor": "white"
           },
           "zaxis": {
            "backgroundcolor": "#E5ECF6",
            "gridcolor": "white",
            "gridwidth": 2,
            "linecolor": "white",
            "showbackground": true,
            "ticks": "",
            "zerolinecolor": "white"
           }
          },
          "shapedefaults": {
           "line": {
            "color": "#2a3f5f"
           }
          },
          "ternary": {
           "aaxis": {
            "gridcolor": "white",
            "linecolor": "white",
            "ticks": ""
           },
           "baxis": {
            "gridcolor": "white",
            "linecolor": "white",
            "ticks": ""
           },
           "bgcolor": "#E5ECF6",
           "caxis": {
            "gridcolor": "white",
            "linecolor": "white",
            "ticks": ""
           }
          },
          "title": {
           "x": 0.05
          },
          "xaxis": {
           "automargin": true,
           "gridcolor": "white",
           "linecolor": "white",
           "ticks": "",
           "title": {
            "standoff": 15
           },
           "zerolinecolor": "white",
           "zerolinewidth": 2
          },
          "yaxis": {
           "automargin": true,
           "gridcolor": "white",
           "linecolor": "white",
           "ticks": "",
           "title": {
            "standoff": 15
           },
           "zerolinecolor": "white",
           "zerolinewidth": 2
          }
         }
        },
        "title": {
         "text": "Target2 Top 50 feature importance"
        },
        "width": 1250,
        "xaxis": {
         "anchor": "y",
         "domain": [
          0,
          1
         ],
         "title": {
          "text": "feature_importance"
         }
        },
        "yaxis": {
         "anchor": "x",
         "categoryarray": [
          "PlayerStats_plateAppearances_rank",
          "PlayerStats_rbi_rank",
          "target3_202104_prob",
          "PlayerStats_earnedRuns_rank",
          "PlayerStats_positionCode",
          "PlayerStats_inningsPitched_rank",
          "PlayerStats_chances",
          "target3_202104_quantile25",
          "target3_202104_min",
          "PlayerStats_doubles_rank",
          "target3_202104_quantile75",
          "target1_202104_median",
          "Players_LE_birthCountry",
          "target3_202104_std",
          "PlayerStats_completeGamesPitching_rank",
          "PlayerStats_shutoutsPitching_rank",
          "PlayerStats_homeRuns_rank",
          "target1_202104_prob",
          "PlayerStats_flyOuts_cum",
          "target3_202104_mean",
          "PlayerStats_putOuts",
          "PlayerStats_holds_rank",
          "PlayerStats_winsPitching_rank",
          "target1_202104_max",
          "target1_202104_std",
          "Players_LE_primaryPositionCode",
          "PlayerStats_saves_rank",
          "target1_202104_quantile25",
          "PlayerStats_triples_rank",
          "target4_202104_prob",
          "target4_202104_std",
          "Players_LE_playerid",
          "target1_202104_mean",
          "target2_202104_prob",
          "target1_202104_min",
          "target2_202104_std",
          "target4_202104_max",
          "Rosters_LE_teamId",
          "target4_202104_mean",
          "target4_202104_min",
          "target4_202104_quantile75",
          "target4_202104_median",
          "target4_202104_quantile25",
          "target2_202104_max",
          "target2_202104_min",
          "target2_202104_mean",
          "target2_202104_quantile75",
          "target2_202104_median",
          "target2_202104_quantile25",
          "Rosters_LE_status"
         ],
         "categoryorder": "array",
         "domain": [
          0,
          1
         ],
         "showgrid": true,
         "title": {
          "text": "feature"
         }
        }
       }
      }
     },
     "metadata": {}
    },
    {
     "output_type": "display_data",
     "data": {
      "application/vnd.plotly.v1+json": {
       "config": {
        "plotlyServerURL": "https://plot.ly"
       },
       "data": [
        {
         "alignmentgroup": "True",
         "hovertemplate": "feature_importance=%{x}<br>feature=%{y}<extra></extra>",
         "legendgroup": "",
         "marker": {
          "color": "#636efa"
         },
         "name": "",
         "notched": false,
         "offsetgroup": "",
         "orientation": "h",
         "showlegend": false,
         "type": "box",
         "x": [
          1048.5524063110352,
          2406.740827560425,
          1271.2512016296387,
          5297.169557571411,
          2413.6731276512146,
          3060.617600440979,
          578.7325124740601,
          1148.9349994659424,
          2573.25984954834,
          764.5431118011475,
          764.4529755115509,
          584.8528995513916,
          1324.8185653686523,
          735.7712450027466,
          10311.521934741177,
          11042.891338825226,
          2040.576072259806,
          1605.2193749248981,
          9906.946082830429,
          3691.4134110212326,
          9326.904313120991,
          13532.420990200713,
          9023.56312346179,
          2165.6214419156313,
          13029.221949785948,
          21944.556873440742,
          26740.575496017933,
          10300.15579983592,
          8338.706756353378,
          266279.1924368739,
          3241.7258875370026,
          24917.726120352745,
          33265.861832112074,
          610087.5127182007,
          391419.73098373413,
          5437873.5620183945,
          12990.661159038544,
          1902.6712770462036,
          15281.762684106827,
          10130.998284935951,
          11473.902043521404,
          2853.8622262477875,
          3219.819341957569,
          992.5456159114838,
          10988.432039260864,
          20229.542190796696,
          11864.443074762821,
          9794.24811220169,
          695.1725105047226,
          14794.026112877764
         ],
         "x0": " ",
         "xaxis": "x",
         "y": [
          "PlayerStats_home_cum",
          "PlayerStats_homeRuns_rank",
          "PlayerStats_doubles_rank",
          "PlayerStats_triples_rank",
          "PlayerStats_baseOnBalls_rank",
          "PlayerStats_hitByPitch_rank",
          "PlayerStats_strikeOuts_rank",
          "PlayerStats_stolenBases_rank",
          "PlayerStats_winsPitching_rank",
          "PlayerStats_lossesPitching_rank",
          "PlayerStats_saves_rank",
          "PlayerStats_holds_rank",
          "PlayerStats_completeGamesPitching_rank",
          "PlayerStats_inningsPitched_rank",
          "target1_202104_mean",
          "target1_202104_std",
          "target1_202104_max",
          "target1_202104_min",
          "target1_202104_median",
          "target1_202104_quantile75",
          "target1_202104_prob",
          "target2_202104_mean",
          "target2_202104_std",
          "target2_202104_max",
          "target2_202104_min",
          "target2_202104_median",
          "target2_202104_quantile25",
          "target2_202104_quantile75",
          "target2_202104_prob",
          "target3_202104_mean",
          "target3_202104_std",
          "target3_202104_max",
          "target3_202104_min",
          "target3_202104_median",
          "target3_202104_quantile25",
          "target3_202104_quantile75",
          "target3_202104_prob",
          "target4_202104_mean",
          "target4_202104_std",
          "target4_202104_max",
          "target4_202104_min",
          "target4_202104_median",
          "target4_202104_quantile25",
          "target4_202104_quantile75",
          "target4_202104_prob",
          "Rosters_LE_teamId",
          "Rosters_LE_status",
          "Players_LE_birthCountry",
          "Players_LE_primaryPositionCode",
          "Players_LE_playerid"
         ],
         "y0": " ",
         "yaxis": "y"
        }
       ],
       "layout": {
        "boxmode": "group",
        "height": 900,
        "legend": {
         "tracegroupgap": 0
        },
        "template": {
         "data": {
          "bar": [
           {
            "error_x": {
             "color": "#2a3f5f"
            },
            "error_y": {
             "color": "#2a3f5f"
            },
            "marker": {
             "line": {
              "color": "#E5ECF6",
              "width": 0.5
             }
            },
            "type": "bar"
           }
          ],
          "barpolar": [
           {
            "marker": {
             "line": {
              "color": "#E5ECF6",
              "width": 0.5
             }
            },
            "type": "barpolar"
           }
          ],
          "carpet": [
           {
            "aaxis": {
             "endlinecolor": "#2a3f5f",
             "gridcolor": "white",
             "linecolor": "white",
             "minorgridcolor": "white",
             "startlinecolor": "#2a3f5f"
            },
            "baxis": {
             "endlinecolor": "#2a3f5f",
             "gridcolor": "white",
             "linecolor": "white",
             "minorgridcolor": "white",
             "startlinecolor": "#2a3f5f"
            },
            "type": "carpet"
           }
          ],
          "choropleth": [
           {
            "colorbar": {
             "outlinewidth": 0,
             "ticks": ""
            },
            "type": "choropleth"
           }
          ],
          "contour": [
           {
            "colorbar": {
             "outlinewidth": 0,
             "ticks": ""
            },
            "colorscale": [
             [
              0,
              "#0d0887"
             ],
             [
              0.1111111111111111,
              "#46039f"
             ],
             [
              0.2222222222222222,
              "#7201a8"
             ],
             [
              0.3333333333333333,
              "#9c179e"
             ],
             [
              0.4444444444444444,
              "#bd3786"
             ],
             [
              0.5555555555555556,
              "#d8576b"
             ],
             [
              0.6666666666666666,
              "#ed7953"
             ],
             [
              0.7777777777777778,
              "#fb9f3a"
             ],
             [
              0.8888888888888888,
              "#fdca26"
             ],
             [
              1,
              "#f0f921"
             ]
            ],
            "type": "contour"
           }
          ],
          "contourcarpet": [
           {
            "colorbar": {
             "outlinewidth": 0,
             "ticks": ""
            },
            "type": "contourcarpet"
           }
          ],
          "heatmap": [
           {
            "colorbar": {
             "outlinewidth": 0,
             "ticks": ""
            },
            "colorscale": [
             [
              0,
              "#0d0887"
             ],
             [
              0.1111111111111111,
              "#46039f"
             ],
             [
              0.2222222222222222,
              "#7201a8"
             ],
             [
              0.3333333333333333,
              "#9c179e"
             ],
             [
              0.4444444444444444,
              "#bd3786"
             ],
             [
              0.5555555555555556,
              "#d8576b"
             ],
             [
              0.6666666666666666,
              "#ed7953"
             ],
             [
              0.7777777777777778,
              "#fb9f3a"
             ],
             [
              0.8888888888888888,
              "#fdca26"
             ],
             [
              1,
              "#f0f921"
             ]
            ],
            "type": "heatmap"
           }
          ],
          "heatmapgl": [
           {
            "colorbar": {
             "outlinewidth": 0,
             "ticks": ""
            },
            "colorscale": [
             [
              0,
              "#0d0887"
             ],
             [
              0.1111111111111111,
              "#46039f"
             ],
             [
              0.2222222222222222,
              "#7201a8"
             ],
             [
              0.3333333333333333,
              "#9c179e"
             ],
             [
              0.4444444444444444,
              "#bd3786"
             ],
             [
              0.5555555555555556,
              "#d8576b"
             ],
             [
              0.6666666666666666,
              "#ed7953"
             ],
             [
              0.7777777777777778,
              "#fb9f3a"
             ],
             [
              0.8888888888888888,
              "#fdca26"
             ],
             [
              1,
              "#f0f921"
             ]
            ],
            "type": "heatmapgl"
           }
          ],
          "histogram": [
           {
            "marker": {
             "colorbar": {
              "outlinewidth": 0,
              "ticks": ""
             }
            },
            "type": "histogram"
           }
          ],
          "histogram2d": [
           {
            "colorbar": {
             "outlinewidth": 0,
             "ticks": ""
            },
            "colorscale": [
             [
              0,
              "#0d0887"
             ],
             [
              0.1111111111111111,
              "#46039f"
             ],
             [
              0.2222222222222222,
              "#7201a8"
             ],
             [
              0.3333333333333333,
              "#9c179e"
             ],
             [
              0.4444444444444444,
              "#bd3786"
             ],
             [
              0.5555555555555556,
              "#d8576b"
             ],
             [
              0.6666666666666666,
              "#ed7953"
             ],
             [
              0.7777777777777778,
              "#fb9f3a"
             ],
             [
              0.8888888888888888,
              "#fdca26"
             ],
             [
              1,
              "#f0f921"
             ]
            ],
            "type": "histogram2d"
           }
          ],
          "histogram2dcontour": [
           {
            "colorbar": {
             "outlinewidth": 0,
             "ticks": ""
            },
            "colorscale": [
             [
              0,
              "#0d0887"
             ],
             [
              0.1111111111111111,
              "#46039f"
             ],
             [
              0.2222222222222222,
              "#7201a8"
             ],
             [
              0.3333333333333333,
              "#9c179e"
             ],
             [
              0.4444444444444444,
              "#bd3786"
             ],
             [
              0.5555555555555556,
              "#d8576b"
             ],
             [
              0.6666666666666666,
              "#ed7953"
             ],
             [
              0.7777777777777778,
              "#fb9f3a"
             ],
             [
              0.8888888888888888,
              "#fdca26"
             ],
             [
              1,
              "#f0f921"
             ]
            ],
            "type": "histogram2dcontour"
           }
          ],
          "mesh3d": [
           {
            "colorbar": {
             "outlinewidth": 0,
             "ticks": ""
            },
            "type": "mesh3d"
           }
          ],
          "parcoords": [
           {
            "line": {
             "colorbar": {
              "outlinewidth": 0,
              "ticks": ""
             }
            },
            "type": "parcoords"
           }
          ],
          "pie": [
           {
            "automargin": true,
            "type": "pie"
           }
          ],
          "scatter": [
           {
            "marker": {
             "colorbar": {
              "outlinewidth": 0,
              "ticks": ""
             }
            },
            "type": "scatter"
           }
          ],
          "scatter3d": [
           {
            "line": {
             "colorbar": {
              "outlinewidth": 0,
              "ticks": ""
             }
            },
            "marker": {
             "colorbar": {
              "outlinewidth": 0,
              "ticks": ""
             }
            },
            "type": "scatter3d"
           }
          ],
          "scattercarpet": [
           {
            "marker": {
             "colorbar": {
              "outlinewidth": 0,
              "ticks": ""
             }
            },
            "type": "scattercarpet"
           }
          ],
          "scattergeo": [
           {
            "marker": {
             "colorbar": {
              "outlinewidth": 0,
              "ticks": ""
             }
            },
            "type": "scattergeo"
           }
          ],
          "scattergl": [
           {
            "marker": {
             "colorbar": {
              "outlinewidth": 0,
              "ticks": ""
             }
            },
            "type": "scattergl"
           }
          ],
          "scattermapbox": [
           {
            "marker": {
             "colorbar": {
              "outlinewidth": 0,
              "ticks": ""
             }
            },
            "type": "scattermapbox"
           }
          ],
          "scatterpolar": [
           {
            "marker": {
             "colorbar": {
              "outlinewidth": 0,
              "ticks": ""
             }
            },
            "type": "scatterpolar"
           }
          ],
          "scatterpolargl": [
           {
            "marker": {
             "colorbar": {
              "outlinewidth": 0,
              "ticks": ""
             }
            },
            "type": "scatterpolargl"
           }
          ],
          "scatterternary": [
           {
            "marker": {
             "colorbar": {
              "outlinewidth": 0,
              "ticks": ""
             }
            },
            "type": "scatterternary"
           }
          ],
          "surface": [
           {
            "colorbar": {
             "outlinewidth": 0,
             "ticks": ""
            },
            "colorscale": [
             [
              0,
              "#0d0887"
             ],
             [
              0.1111111111111111,
              "#46039f"
             ],
             [
              0.2222222222222222,
              "#7201a8"
             ],
             [
              0.3333333333333333,
              "#9c179e"
             ],
             [
              0.4444444444444444,
              "#bd3786"
             ],
             [
              0.5555555555555556,
              "#d8576b"
             ],
             [
              0.6666666666666666,
              "#ed7953"
             ],
             [
              0.7777777777777778,
              "#fb9f3a"
             ],
             [
              0.8888888888888888,
              "#fdca26"
             ],
             [
              1,
              "#f0f921"
             ]
            ],
            "type": "surface"
           }
          ],
          "table": [
           {
            "cells": {
             "fill": {
              "color": "#EBF0F8"
             },
             "line": {
              "color": "white"
             }
            },
            "header": {
             "fill": {
              "color": "#C8D4E3"
             },
             "line": {
              "color": "white"
             }
            },
            "type": "table"
           }
          ]
         },
         "layout": {
          "annotationdefaults": {
           "arrowcolor": "#2a3f5f",
           "arrowhead": 0,
           "arrowwidth": 1
          },
          "autotypenumbers": "strict",
          "coloraxis": {
           "colorbar": {
            "outlinewidth": 0,
            "ticks": ""
           }
          },
          "colorscale": {
           "diverging": [
            [
             0,
             "#8e0152"
            ],
            [
             0.1,
             "#c51b7d"
            ],
            [
             0.2,
             "#de77ae"
            ],
            [
             0.3,
             "#f1b6da"
            ],
            [
             0.4,
             "#fde0ef"
            ],
            [
             0.5,
             "#f7f7f7"
            ],
            [
             0.6,
             "#e6f5d0"
            ],
            [
             0.7,
             "#b8e186"
            ],
            [
             0.8,
             "#7fbc41"
            ],
            [
             0.9,
             "#4d9221"
            ],
            [
             1,
             "#276419"
            ]
           ],
           "sequential": [
            [
             0,
             "#0d0887"
            ],
            [
             0.1111111111111111,
             "#46039f"
            ],
            [
             0.2222222222222222,
             "#7201a8"
            ],
            [
             0.3333333333333333,
             "#9c179e"
            ],
            [
             0.4444444444444444,
             "#bd3786"
            ],
            [
             0.5555555555555556,
             "#d8576b"
            ],
            [
             0.6666666666666666,
             "#ed7953"
            ],
            [
             0.7777777777777778,
             "#fb9f3a"
            ],
            [
             0.8888888888888888,
             "#fdca26"
            ],
            [
             1,
             "#f0f921"
            ]
           ],
           "sequentialminus": [
            [
             0,
             "#0d0887"
            ],
            [
             0.1111111111111111,
             "#46039f"
            ],
            [
             0.2222222222222222,
             "#7201a8"
            ],
            [
             0.3333333333333333,
             "#9c179e"
            ],
            [
             0.4444444444444444,
             "#bd3786"
            ],
            [
             0.5555555555555556,
             "#d8576b"
            ],
            [
             0.6666666666666666,
             "#ed7953"
            ],
            [
             0.7777777777777778,
             "#fb9f3a"
            ],
            [
             0.8888888888888888,
             "#fdca26"
            ],
            [
             1,
             "#f0f921"
            ]
           ]
          },
          "colorway": [
           "#636efa",
           "#EF553B",
           "#00cc96",
           "#ab63fa",
           "#FFA15A",
           "#19d3f3",
           "#FF6692",
           "#B6E880",
           "#FF97FF",
           "#FECB52"
          ],
          "font": {
           "color": "#2a3f5f"
          },
          "geo": {
           "bgcolor": "white",
           "lakecolor": "white",
           "landcolor": "#E5ECF6",
           "showlakes": true,
           "showland": true,
           "subunitcolor": "white"
          },
          "hoverlabel": {
           "align": "left"
          },
          "hovermode": "closest",
          "mapbox": {
           "style": "light"
          },
          "paper_bgcolor": "white",
          "plot_bgcolor": "#E5ECF6",
          "polar": {
           "angularaxis": {
            "gridcolor": "white",
            "linecolor": "white",
            "ticks": ""
           },
           "bgcolor": "#E5ECF6",
           "radialaxis": {
            "gridcolor": "white",
            "linecolor": "white",
            "ticks": ""
           }
          },
          "scene": {
           "xaxis": {
            "backgroundcolor": "#E5ECF6",
            "gridcolor": "white",
            "gridwidth": 2,
            "linecolor": "white",
            "showbackground": true,
            "ticks": "",
            "zerolinecolor": "white"
           },
           "yaxis": {
            "backgroundcolor": "#E5ECF6",
            "gridcolor": "white",
            "gridwidth": 2,
            "linecolor": "white",
            "showbackground": true,
            "ticks": "",
            "zerolinecolor": "white"
           },
           "zaxis": {
            "backgroundcolor": "#E5ECF6",
            "gridcolor": "white",
            "gridwidth": 2,
            "linecolor": "white",
            "showbackground": true,
            "ticks": "",
            "zerolinecolor": "white"
           }
          },
          "shapedefaults": {
           "line": {
            "color": "#2a3f5f"
           }
          },
          "ternary": {
           "aaxis": {
            "gridcolor": "white",
            "linecolor": "white",
            "ticks": ""
           },
           "baxis": {
            "gridcolor": "white",
            "linecolor": "white",
            "ticks": ""
           },
           "bgcolor": "#E5ECF6",
           "caxis": {
            "gridcolor": "white",
            "linecolor": "white",
            "ticks": ""
           }
          },
          "title": {
           "x": 0.05
          },
          "xaxis": {
           "automargin": true,
           "gridcolor": "white",
           "linecolor": "white",
           "ticks": "",
           "title": {
            "standoff": 15
           },
           "zerolinecolor": "white",
           "zerolinewidth": 2
          },
          "yaxis": {
           "automargin": true,
           "gridcolor": "white",
           "linecolor": "white",
           "ticks": "",
           "title": {
            "standoff": 15
           },
           "zerolinecolor": "white",
           "zerolinewidth": 2
          }
         }
        },
        "title": {
         "text": "Target3 Top 50 feature importance"
        },
        "width": 1250,
        "xaxis": {
         "anchor": "y",
         "domain": [
          0,
          1
         ],
         "title": {
          "text": "feature_importance"
         }
        },
        "yaxis": {
         "anchor": "x",
         "categoryarray": [
          "PlayerStats_strikeOuts_rank",
          "PlayerStats_holds_rank",
          "Players_LE_primaryPositionCode",
          "PlayerStats_inningsPitched_rank",
          "PlayerStats_saves_rank",
          "PlayerStats_lossesPitching_rank",
          "target4_202104_quantile75",
          "PlayerStats_home_cum",
          "PlayerStats_stolenBases_rank",
          "PlayerStats_doubles_rank",
          "PlayerStats_completeGamesPitching_rank",
          "target1_202104_min",
          "target4_202104_mean",
          "target1_202104_max",
          "target2_202104_max",
          "PlayerStats_homeRuns_rank",
          "PlayerStats_baseOnBalls_rank",
          "PlayerStats_winsPitching_rank",
          "target4_202104_median",
          "PlayerStats_hitByPitch_rank",
          "target4_202104_quantile25",
          "target3_202104_std",
          "target1_202104_quantile75",
          "PlayerStats_triples_rank",
          "target2_202104_prob",
          "target2_202104_std",
          "target1_202104_prob",
          "Players_LE_birthCountry",
          "target1_202104_median",
          "target4_202104_max",
          "target2_202104_quantile75",
          "target1_202104_mean",
          "target4_202104_prob",
          "target1_202104_std",
          "target4_202104_min",
          "Rosters_LE_status",
          "target3_202104_prob",
          "target2_202104_min",
          "target2_202104_mean",
          "Players_LE_playerid",
          "target4_202104_std",
          "Rosters_LE_teamId",
          "target2_202104_median",
          "target3_202104_max",
          "target2_202104_quantile25",
          "target3_202104_min",
          "target3_202104_mean",
          "target3_202104_quantile25",
          "target3_202104_median",
          "target3_202104_quantile75"
         ],
         "categoryorder": "array",
         "domain": [
          0,
          1
         ],
         "showgrid": true,
         "title": {
          "text": "feature"
         }
        }
       }
      }
     },
     "metadata": {}
    },
    {
     "output_type": "display_data",
     "data": {
      "application/vnd.plotly.v1+json": {
       "config": {
        "plotlyServerURL": "https://plot.ly"
       },
       "data": [
        {
         "alignmentgroup": "True",
         "hovertemplate": "feature_importance=%{x}<br>feature=%{y}<extra></extra>",
         "legendgroup": "",
         "marker": {
          "color": "#636efa"
         },
         "name": "",
         "notched": false,
         "offsetgroup": "",
         "orientation": "h",
         "showlegend": false,
         "type": "box",
         "x": [
          84.72221612930298,
          107.40740203857422,
          92.40499973297119,
          136.93699645996094,
          852.6236960887909,
          207.42429733276367,
          335.8109998703003,
          202.90910720825195,
          1713.3078002929688,
          98.1301326751709,
          113.82939910888672,
          208.9130973815918,
          794.3216857910156,
          124.62649917602539,
          1166.9808025360107,
          603.3259963989258,
          1812.753602027893,
          486.5116882324219,
          1742.156925201416,
          832.4294033050537,
          1989.9250135421753,
          86.93268775939941,
          306.47559356689453,
          479.3089246749878,
          280.73280334472656,
          339.25429344177246,
          223.64269638061523,
          222.05399703979492,
          1348.1870212554932,
          139.56839752197266,
          436.1857419013977,
          238.82109546661377,
          1294.0698204040527,
          1157.2595920562744,
          2271.6135358810425,
          401.76468992233276,
          405.1931953430176,
          214.16712760925293,
          545.5230989456177,
          825.4164280891418,
          110.2481164932251,
          33279.059717178345,
          104766.1140050888,
          229510.87177419662,
          62329.662373542786,
          1809.461621761322,
          277.9274959564209,
          294.6818995475769,
          83.22129821777344,
          1566.1731090545654
         ],
         "x0": " ",
         "xaxis": "x",
         "y": [
          "PlayerStats_home",
          "PlayerStats_home_cum",
          "PlayerStats_positionCode",
          "PlayerStats_lossesPitching_cum",
          "PlayerStats_homeRuns_rank",
          "PlayerStats_hits_rank",
          "PlayerStats_rbi_rank",
          "PlayerStats_doubles_rank",
          "PlayerStats_triples_rank",
          "PlayerStats_runsScored_rank",
          "PlayerStats_totalBases_rank",
          "PlayerStats_baseOnBalls_rank",
          "PlayerStats_hitByPitch_rank",
          "PlayerStats_strikeOuts_rank",
          "PlayerStats_stolenBases_rank",
          "PlayerStats_winsPitching_rank",
          "PlayerStats_lossesPitching_rank",
          "PlayerStats_saves_rank",
          "PlayerStats_holds_rank",
          "PlayerStats_completeGamesPitching_rank",
          "PlayerStats_shutoutsPitching_rank",
          "PlayerStats_runsPitching_rank",
          "PlayerStats_earnedRuns_rank",
          "target1_202104_mean",
          "target1_202104_std",
          "target1_202104_max",
          "target1_202104_median",
          "target1_202104_quantile25",
          "target2_202104_mean",
          "target2_202104_std",
          "target2_202104_max",
          "target2_202104_min",
          "target2_202104_median",
          "target2_202104_quantile25",
          "target2_202104_quantile75",
          "target2_202104_prob",
          "target3_202104_min",
          "target3_202104_median",
          "target4_202104_mean",
          "target4_202104_std",
          "target4_202104_max",
          "target4_202104_min",
          "target4_202104_median",
          "target4_202104_quantile25",
          "target4_202104_quantile75",
          "target4_202104_prob",
          "Rosters_LE_teamId",
          "Rosters_LE_status",
          "Players_LE_primaryPositionCode",
          "Players_LE_playerid"
         ],
         "y0": " ",
         "yaxis": "y"
        }
       ],
       "layout": {
        "boxmode": "group",
        "height": 900,
        "legend": {
         "tracegroupgap": 0
        },
        "template": {
         "data": {
          "bar": [
           {
            "error_x": {
             "color": "#2a3f5f"
            },
            "error_y": {
             "color": "#2a3f5f"
            },
            "marker": {
             "line": {
              "color": "#E5ECF6",
              "width": 0.5
             }
            },
            "type": "bar"
           }
          ],
          "barpolar": [
           {
            "marker": {
             "line": {
              "color": "#E5ECF6",
              "width": 0.5
             }
            },
            "type": "barpolar"
           }
          ],
          "carpet": [
           {
            "aaxis": {
             "endlinecolor": "#2a3f5f",
             "gridcolor": "white",
             "linecolor": "white",
             "minorgridcolor": "white",
             "startlinecolor": "#2a3f5f"
            },
            "baxis": {
             "endlinecolor": "#2a3f5f",
             "gridcolor": "white",
             "linecolor": "white",
             "minorgridcolor": "white",
             "startlinecolor": "#2a3f5f"
            },
            "type": "carpet"
           }
          ],
          "choropleth": [
           {
            "colorbar": {
             "outlinewidth": 0,
             "ticks": ""
            },
            "type": "choropleth"
           }
          ],
          "contour": [
           {
            "colorbar": {
             "outlinewidth": 0,
             "ticks": ""
            },
            "colorscale": [
             [
              0,
              "#0d0887"
             ],
             [
              0.1111111111111111,
              "#46039f"
             ],
             [
              0.2222222222222222,
              "#7201a8"
             ],
             [
              0.3333333333333333,
              "#9c179e"
             ],
             [
              0.4444444444444444,
              "#bd3786"
             ],
             [
              0.5555555555555556,
              "#d8576b"
             ],
             [
              0.6666666666666666,
              "#ed7953"
             ],
             [
              0.7777777777777778,
              "#fb9f3a"
             ],
             [
              0.8888888888888888,
              "#fdca26"
             ],
             [
              1,
              "#f0f921"
             ]
            ],
            "type": "contour"
           }
          ],
          "contourcarpet": [
           {
            "colorbar": {
             "outlinewidth": 0,
             "ticks": ""
            },
            "type": "contourcarpet"
           }
          ],
          "heatmap": [
           {
            "colorbar": {
             "outlinewidth": 0,
             "ticks": ""
            },
            "colorscale": [
             [
              0,
              "#0d0887"
             ],
             [
              0.1111111111111111,
              "#46039f"
             ],
             [
              0.2222222222222222,
              "#7201a8"
             ],
             [
              0.3333333333333333,
              "#9c179e"
             ],
             [
              0.4444444444444444,
              "#bd3786"
             ],
             [
              0.5555555555555556,
              "#d8576b"
             ],
             [
              0.6666666666666666,
              "#ed7953"
             ],
             [
              0.7777777777777778,
              "#fb9f3a"
             ],
             [
              0.8888888888888888,
              "#fdca26"
             ],
             [
              1,
              "#f0f921"
             ]
            ],
            "type": "heatmap"
           }
          ],
          "heatmapgl": [
           {
            "colorbar": {
             "outlinewidth": 0,
             "ticks": ""
            },
            "colorscale": [
             [
              0,
              "#0d0887"
             ],
             [
              0.1111111111111111,
              "#46039f"
             ],
             [
              0.2222222222222222,
              "#7201a8"
             ],
             [
              0.3333333333333333,
              "#9c179e"
             ],
             [
              0.4444444444444444,
              "#bd3786"
             ],
             [
              0.5555555555555556,
              "#d8576b"
             ],
             [
              0.6666666666666666,
              "#ed7953"
             ],
             [
              0.7777777777777778,
              "#fb9f3a"
             ],
             [
              0.8888888888888888,
              "#fdca26"
             ],
             [
              1,
              "#f0f921"
             ]
            ],
            "type": "heatmapgl"
           }
          ],
          "histogram": [
           {
            "marker": {
             "colorbar": {
              "outlinewidth": 0,
              "ticks": ""
             }
            },
            "type": "histogram"
           }
          ],
          "histogram2d": [
           {
            "colorbar": {
             "outlinewidth": 0,
             "ticks": ""
            },
            "colorscale": [
             [
              0,
              "#0d0887"
             ],
             [
              0.1111111111111111,
              "#46039f"
             ],
             [
              0.2222222222222222,
              "#7201a8"
             ],
             [
              0.3333333333333333,
              "#9c179e"
             ],
             [
              0.4444444444444444,
              "#bd3786"
             ],
             [
              0.5555555555555556,
              "#d8576b"
             ],
             [
              0.6666666666666666,
              "#ed7953"
             ],
             [
              0.7777777777777778,
              "#fb9f3a"
             ],
             [
              0.8888888888888888,
              "#fdca26"
             ],
             [
              1,
              "#f0f921"
             ]
            ],
            "type": "histogram2d"
           }
          ],
          "histogram2dcontour": [
           {
            "colorbar": {
             "outlinewidth": 0,
             "ticks": ""
            },
            "colorscale": [
             [
              0,
              "#0d0887"
             ],
             [
              0.1111111111111111,
              "#46039f"
             ],
             [
              0.2222222222222222,
              "#7201a8"
             ],
             [
              0.3333333333333333,
              "#9c179e"
             ],
             [
              0.4444444444444444,
              "#bd3786"
             ],
             [
              0.5555555555555556,
              "#d8576b"
             ],
             [
              0.6666666666666666,
              "#ed7953"
             ],
             [
              0.7777777777777778,
              "#fb9f3a"
             ],
             [
              0.8888888888888888,
              "#fdca26"
             ],
             [
              1,
              "#f0f921"
             ]
            ],
            "type": "histogram2dcontour"
           }
          ],
          "mesh3d": [
           {
            "colorbar": {
             "outlinewidth": 0,
             "ticks": ""
            },
            "type": "mesh3d"
           }
          ],
          "parcoords": [
           {
            "line": {
             "colorbar": {
              "outlinewidth": 0,
              "ticks": ""
             }
            },
            "type": "parcoords"
           }
          ],
          "pie": [
           {
            "automargin": true,
            "type": "pie"
           }
          ],
          "scatter": [
           {
            "marker": {
             "colorbar": {
              "outlinewidth": 0,
              "ticks": ""
             }
            },
            "type": "scatter"
           }
          ],
          "scatter3d": [
           {
            "line": {
             "colorbar": {
              "outlinewidth": 0,
              "ticks": ""
             }
            },
            "marker": {
             "colorbar": {
              "outlinewidth": 0,
              "ticks": ""
             }
            },
            "type": "scatter3d"
           }
          ],
          "scattercarpet": [
           {
            "marker": {
             "colorbar": {
              "outlinewidth": 0,
              "ticks": ""
             }
            },
            "type": "scattercarpet"
           }
          ],
          "scattergeo": [
           {
            "marker": {
             "colorbar": {
              "outlinewidth": 0,
              "ticks": ""
             }
            },
            "type": "scattergeo"
           }
          ],
          "scattergl": [
           {
            "marker": {
             "colorbar": {
              "outlinewidth": 0,
              "ticks": ""
             }
            },
            "type": "scattergl"
           }
          ],
          "scattermapbox": [
           {
            "marker": {
             "colorbar": {
              "outlinewidth": 0,
              "ticks": ""
             }
            },
            "type": "scattermapbox"
           }
          ],
          "scatterpolar": [
           {
            "marker": {
             "colorbar": {
              "outlinewidth": 0,
              "ticks": ""
             }
            },
            "type": "scatterpolar"
           }
          ],
          "scatterpolargl": [
           {
            "marker": {
             "colorbar": {
              "outlinewidth": 0,
              "ticks": ""
             }
            },
            "type": "scatterpolargl"
           }
          ],
          "scatterternary": [
           {
            "marker": {
             "colorbar": {
              "outlinewidth": 0,
              "ticks": ""
             }
            },
            "type": "scatterternary"
           }
          ],
          "surface": [
           {
            "colorbar": {
             "outlinewidth": 0,
             "ticks": ""
            },
            "colorscale": [
             [
              0,
              "#0d0887"
             ],
             [
              0.1111111111111111,
              "#46039f"
             ],
             [
              0.2222222222222222,
              "#7201a8"
             ],
             [
              0.3333333333333333,
              "#9c179e"
             ],
             [
              0.4444444444444444,
              "#bd3786"
             ],
             [
              0.5555555555555556,
              "#d8576b"
             ],
             [
              0.6666666666666666,
              "#ed7953"
             ],
             [
              0.7777777777777778,
              "#fb9f3a"
             ],
             [
              0.8888888888888888,
              "#fdca26"
             ],
             [
              1,
              "#f0f921"
             ]
            ],
            "type": "surface"
           }
          ],
          "table": [
           {
            "cells": {
             "fill": {
              "color": "#EBF0F8"
             },
             "line": {
              "color": "white"
             }
            },
            "header": {
             "fill": {
              "color": "#C8D4E3"
             },
             "line": {
              "color": "white"
             }
            },
            "type": "table"
           }
          ]
         },
         "layout": {
          "annotationdefaults": {
           "arrowcolor": "#2a3f5f",
           "arrowhead": 0,
           "arrowwidth": 1
          },
          "autotypenumbers": "strict",
          "coloraxis": {
           "colorbar": {
            "outlinewidth": 0,
            "ticks": ""
           }
          },
          "colorscale": {
           "diverging": [
            [
             0,
             "#8e0152"
            ],
            [
             0.1,
             "#c51b7d"
            ],
            [
             0.2,
             "#de77ae"
            ],
            [
             0.3,
             "#f1b6da"
            ],
            [
             0.4,
             "#fde0ef"
            ],
            [
             0.5,
             "#f7f7f7"
            ],
            [
             0.6,
             "#e6f5d0"
            ],
            [
             0.7,
             "#b8e186"
            ],
            [
             0.8,
             "#7fbc41"
            ],
            [
             0.9,
             "#4d9221"
            ],
            [
             1,
             "#276419"
            ]
           ],
           "sequential": [
            [
             0,
             "#0d0887"
            ],
            [
             0.1111111111111111,
             "#46039f"
            ],
            [
             0.2222222222222222,
             "#7201a8"
            ],
            [
             0.3333333333333333,
             "#9c179e"
            ],
            [
             0.4444444444444444,
             "#bd3786"
            ],
            [
             0.5555555555555556,
             "#d8576b"
            ],
            [
             0.6666666666666666,
             "#ed7953"
            ],
            [
             0.7777777777777778,
             "#fb9f3a"
            ],
            [
             0.8888888888888888,
             "#fdca26"
            ],
            [
             1,
             "#f0f921"
            ]
           ],
           "sequentialminus": [
            [
             0,
             "#0d0887"
            ],
            [
             0.1111111111111111,
             "#46039f"
            ],
            [
             0.2222222222222222,
             "#7201a8"
            ],
            [
             0.3333333333333333,
             "#9c179e"
            ],
            [
             0.4444444444444444,
             "#bd3786"
            ],
            [
             0.5555555555555556,
             "#d8576b"
            ],
            [
             0.6666666666666666,
             "#ed7953"
            ],
            [
             0.7777777777777778,
             "#fb9f3a"
            ],
            [
             0.8888888888888888,
             "#fdca26"
            ],
            [
             1,
             "#f0f921"
            ]
           ]
          },
          "colorway": [
           "#636efa",
           "#EF553B",
           "#00cc96",
           "#ab63fa",
           "#FFA15A",
           "#19d3f3",
           "#FF6692",
           "#B6E880",
           "#FF97FF",
           "#FECB52"
          ],
          "font": {
           "color": "#2a3f5f"
          },
          "geo": {
           "bgcolor": "white",
           "lakecolor": "white",
           "landcolor": "#E5ECF6",
           "showlakes": true,
           "showland": true,
           "subunitcolor": "white"
          },
          "hoverlabel": {
           "align": "left"
          },
          "hovermode": "closest",
          "mapbox": {
           "style": "light"
          },
          "paper_bgcolor": "white",
          "plot_bgcolor": "#E5ECF6",
          "polar": {
           "angularaxis": {
            "gridcolor": "white",
            "linecolor": "white",
            "ticks": ""
           },
           "bgcolor": "#E5ECF6",
           "radialaxis": {
            "gridcolor": "white",
            "linecolor": "white",
            "ticks": ""
           }
          },
          "scene": {
           "xaxis": {
            "backgroundcolor": "#E5ECF6",
            "gridcolor": "white",
            "gridwidth": 2,
            "linecolor": "white",
            "showbackground": true,
            "ticks": "",
            "zerolinecolor": "white"
           },
           "yaxis": {
            "backgroundcolor": "#E5ECF6",
            "gridcolor": "white",
            "gridwidth": 2,
            "linecolor": "white",
            "showbackground": true,
            "ticks": "",
            "zerolinecolor": "white"
           },
           "zaxis": {
            "backgroundcolor": "#E5ECF6",
            "gridcolor": "white",
            "gridwidth": 2,
            "linecolor": "white",
            "showbackground": true,
            "ticks": "",
            "zerolinecolor": "white"
           }
          },
          "shapedefaults": {
           "line": {
            "color": "#2a3f5f"
           }
          },
          "ternary": {
           "aaxis": {
            "gridcolor": "white",
            "linecolor": "white",
            "ticks": ""
           },
           "baxis": {
            "gridcolor": "white",
            "linecolor": "white",
            "ticks": ""
           },
           "bgcolor": "#E5ECF6",
           "caxis": {
            "gridcolor": "white",
            "linecolor": "white",
            "ticks": ""
           }
          },
          "title": {
           "x": 0.05
          },
          "xaxis": {
           "automargin": true,
           "gridcolor": "white",
           "linecolor": "white",
           "ticks": "",
           "title": {
            "standoff": 15
           },
           "zerolinecolor": "white",
           "zerolinewidth": 2
          },
          "yaxis": {
           "automargin": true,
           "gridcolor": "white",
           "linecolor": "white",
           "ticks": "",
           "title": {
            "standoff": 15
           },
           "zerolinecolor": "white",
           "zerolinewidth": 2
          }
         }
        },
        "title": {
         "text": "Target4 Top 50 feature importance"
        },
        "width": 1250,
        "xaxis": {
         "anchor": "y",
         "domain": [
          0,
          1
         ],
         "title": {
          "text": "feature_importance"
         }
        },
        "yaxis": {
         "anchor": "x",
         "categoryarray": [
          "Players_LE_primaryPositionCode",
          "PlayerStats_home",
          "PlayerStats_runsPitching_rank",
          "PlayerStats_positionCode",
          "PlayerStats_runsScored_rank",
          "PlayerStats_home_cum",
          "target4_202104_max",
          "PlayerStats_totalBases_rank",
          "PlayerStats_strikeOuts_rank",
          "PlayerStats_lossesPitching_cum",
          "target2_202104_std",
          "PlayerStats_doubles_rank",
          "PlayerStats_hits_rank",
          "PlayerStats_baseOnBalls_rank",
          "target3_202104_median",
          "target1_202104_quantile25",
          "target1_202104_median",
          "target2_202104_min",
          "Rosters_LE_teamId",
          "target1_202104_std",
          "Rosters_LE_status",
          "PlayerStats_earnedRuns_rank",
          "PlayerStats_rbi_rank",
          "target1_202104_max",
          "target2_202104_prob",
          "target3_202104_min",
          "target2_202104_max",
          "target1_202104_mean",
          "PlayerStats_saves_rank",
          "target4_202104_mean",
          "PlayerStats_winsPitching_rank",
          "PlayerStats_hitByPitch_rank",
          "target4_202104_std",
          "PlayerStats_completeGamesPitching_rank",
          "PlayerStats_homeRuns_rank",
          "target2_202104_quantile25",
          "PlayerStats_stolenBases_rank",
          "target2_202104_median",
          "target2_202104_mean",
          "Players_LE_playerid",
          "PlayerStats_triples_rank",
          "PlayerStats_holds_rank",
          "target4_202104_prob",
          "PlayerStats_lossesPitching_rank",
          "PlayerStats_shutoutsPitching_rank",
          "target2_202104_quantile75",
          "target4_202104_min",
          "target4_202104_quantile75",
          "target4_202104_median",
          "target4_202104_quantile25"
         ],
         "categoryorder": "array",
         "domain": [
          0,
          1
         ],
         "showgrid": true,
         "title": {
          "text": "feature"
         }
        }
       }
      }
     },
     "metadata": {}
    }
   ],
   "metadata": {}
  },
  {
   "cell_type": "code",
   "execution_count": 13,
   "source": [
    "# for target, model_tmps in zip(CFG.TARGETS, models):\n",
    "#     for i, model_tmp in enumerate(model_tmps):\n",
    "#         model_tmp.save_model(f\"{CFG.MODEL_PATH}/lgb_{target}_{i}.txt\")"
   ],
   "outputs": [],
   "metadata": {}
  },
  {
   "cell_type": "markdown",
   "source": [
    "## Inference"
   ],
   "metadata": {}
  },
  {
   "cell_type": "code",
   "execution_count": 15,
   "source": [
    "def update_dataset(input_df: pd.DataFrame, sample_prediction_df: pd.DataFrame):\n",
    "    '''datasetの更新\n",
    "    '''\n",
    "    # columnがNaNでなければ分岐処理が実行される(pd.isnaとかでも代用可)\n",
    "    # NaN == NaNはFalseになる\n",
    "    ####################\n",
    "    # rosters #\n",
    "    ####################\n",
    "    if (input_df[\"rosters\"].iloc[0] == input_df[\"rosters\"].iloc[0]) & (input_df.iloc[0][\"date\"] > 20210430):\n",
    "        test_rosters_df = pd.read_json(input_df[\"rosters\"].iloc[0])\n",
    "    else:\n",
    "        test_rosters_df = sample_prediction_df[[\"playerId\"]].copy()\n",
    "        for col in mlb_train_ds.train_rosters.columns:\n",
    "            if col == \"playerId\": continue\n",
    "            test_rosters_df[col] = np.nan\n",
    "\n",
    "    test_rosters_df[\"date\"] = input_df.iloc[0][\"date\"]\n",
    "    ####################\n",
    "    # playerBoxScores #\n",
    "    ####################\n",
    "    if (input_df[\"playerBoxScores\"].iloc[0] == input_df[\"playerBoxScores\"].iloc[0]) & (input_df.iloc[0][\"date\"] > 20210430):\n",
    "        test_playerBoxScores_df = pd.read_json(input_df[\"playerBoxScores\"].iloc[0])\n",
    "        test_playerBoxScores_df[\"date\"] = input_df.iloc[0][\"date\"]\n",
    "    else:\n",
    "        test_playerBoxScores_df = None\n",
    "    # ####################\n",
    "    # # teamBoxScores #\n",
    "    # ####################\n",
    "    # if input_df[\"teamBoxScores\"].iloc[0] == input_df[\"teamBoxScores\"].iloc[0]:\n",
    "    #     test_teamBoxScores = pd.read_json(input_df[\"teamBoxScores\"].iloc[0])\n",
    "    # else:\n",
    "    #     cols = mlb_train_ds.train_tbs.drop(columns=\"date\", axis=1).columns.tolist()\n",
    "    #     test_teamBoxScores = pd.DataFrame(columns=cols)\n",
    "    #     test_teamBoxScores[\"teamId\"] = mlb_train_ds.train_tbs.teamId.unique()\n",
    "\n",
    "    # test_teamBoxScores[\"date\"] = input_df.iloc[0][\"date\"]\n",
    "    # if input_df.iloc[0][\"date\"] > 20210430:\n",
    "    #     mlb_train_ds.train_tbs = reduce_mem_usage(pd.concat([mlb_train_ds.train_tbs, test_teamBoxScores], axis=0, ignore_index=True))\n",
    "    # ####################\n",
    "    # # games #\n",
    "    # ####################\n",
    "    # if input_df[\"games\"].iloc[0] == input_df[\"games\"].iloc[0]:\n",
    "    #     test_games = pd.read_json(input_df[\"games\"].iloc[0])\n",
    "    # else:\n",
    "    #     cols = mlb_train_ds.train_games.drop(columns=\"date\", axis=1).columns.tolist()\n",
    "    #     test_games = pd.DataFrame(columns=cols)\n",
    "\n",
    "    # test_games[\"date\"] = input_df.iloc[0][\"date\"]\n",
    "    # if input_df.iloc[0][\"date\"] > 20210430:\n",
    "    #     mlb_train_ds.train_games = reduce_mem_usage(pd.concat([mlb_train_ds.train_games, test_games], axis=0, ignore_index=True))\n",
    "    # ####################\n",
    "    # # staindings #\n",
    "    # ####################\n",
    "    # if input_df[\"standings\"].iloc[0] == input_df[\"standings\"].iloc[0]:\n",
    "    #     test_standings = pd.read_json(input_df[\"standings\"].iloc[0])\n",
    "    # else:\n",
    "    #     cols = mlb_train_ds.train_standings.drop(columns=\"date\", axis=1).columns.tolist()\n",
    "    #     test_standings = pd.DataFrame(columns=cols)\n",
    "    \n",
    "    # test_standings[\"date\"] = input_df.iloc[0][\"date\"]\n",
    "    # if input_df.iloc[0][\"date\"] > 20210430:\n",
    "    #     mlb_train_ds.train_standings = reduce_mem_usage(pd.concat([mlb_train_ds.train_standings, test_standings], axis=0, ignore_index=True))\n",
    "    # ####################\n",
    "    # # awards #\n",
    "    # ####################\n",
    "    # if input_df[\"awards\"].iloc[0] == input_df[\"awards\"].iloc[0]:\n",
    "    #     test_awards = pd.read_json(input_df[\"awards\"].iloc[0])\n",
    "    # else:\n",
    "    #     cols = mlb_train_ds.train_awards.drop(columns=\"date\", axis=1).columns.tolist()\n",
    "    #     test_awards = pd.DataFrame(columns=cols)\n",
    "    \n",
    "    # test_awards[\"date\"] = input_df.iloc[0][\"date\"]\n",
    "    # if input_df.iloc[0][\"date\"] > 20210430:\n",
    "    #     mlb_train_ds.train_awards = reduce_mem_usage(pd.concat([mlb_train_ds.train_awards, test_awards], axis=0, ignore_index=True))\n",
    "\n",
    "    return test_rosters_df, test_playerBoxScores_df"
   ],
   "outputs": [],
   "metadata": {}
  },
  {
   "cell_type": "code",
   "execution_count": null,
   "source": [
    "# models = []\n",
    "# for target in CFG.TARGETS:\n",
    "#     tmp = [lgb.Booster(model_file=f\"{CFG.MODEL_PATH}/lgb_{target}_{i}.txt\") for i in range(len(CFG.SEEDS))]\n",
    "#     models.append(tmp)"
   ],
   "outputs": [],
   "metadata": {}
  },
  {
   "cell_type": "code",
   "execution_count": null,
   "source": [
    "# env = mlb.make_env()\n",
    "# iter_test = env.iter_test()\n",
    "\n",
    "# for (test_df, sample_prediction_df) in iter_test:\n",
    "#     sample_prediction_df = sample_prediction_df.reset_index(drop=True)\n",
    "#     # create dataset\n",
    "#     test_df = test_df.reset_index()\n",
    "#     test_df = test_df.rename(columns={\"index\": \"date\"})\n",
    "#     sample_prediction_df[\"date\"] = test_df.iloc[0][\"date\"]\n",
    "#     sample_prediction_df[\"playerId\"] = sample_prediction_df[\"date_playerId\"].map(lambda x: int(x.split(\"_\")[1]))\n",
    "#     test_rosters_df, test_playerBoxScores_df = update_dataset(test_df, sample_prediction_df)\n",
    "#     # create features\n",
    "#     test_feat_df = create_test_feature(\n",
    "#         sample_prediction_df,\n",
    "#         target_df,\n",
    "#         test_rosters_df,\n",
    "#         test_playerBoxScores_df,\n",
    "#         update_blocks, \n",
    "#         non_update_blocks)\n",
    "#     X_test = test_feat_df.values\n",
    "#     # prediction\n",
    "#     for target, model in zip(CFG.TARGETS, models):\n",
    "#         pred = np.mean([model_.predict(X_test, num_iteration=model_.best_iteration) for model_ in model], axis=0)\n",
    "#         sample_prediction_df[target] = np.clip(pred, 0, 100)\n",
    "\n",
    "#     sample_prediction_df = sample_prediction_df.drop(columns=[\"playerId\", \"date\"], axis=1)\n",
    "\n",
    "#     env.predict(sample_prediction_df)\n",
    "#     del test_feat_df, test_df, sample_prediction_df"
   ],
   "outputs": [],
   "metadata": {}
  },
  {
   "cell_type": "code",
   "execution_count": null,
   "source": [
    "# Local inference check\n",
    "# test_df = mlb_train_ds.example_test.query(\"date <= 20210426\").copy()\n",
    "# sample_prediction_df = mlb_train_ds.sample_submission.query(\"date <= 20210426\").copy()\n",
    "# sample_prediction_df[\"playerId\"] = sample_prediction_df[\"date_playerId\"].map(lambda x: int(x.split(\"_\")[1]))"
   ],
   "outputs": [],
   "metadata": {}
  },
  {
   "cell_type": "code",
   "execution_count": 16,
   "source": [
    "class Environment:\n",
    "    def __init__(self,\n",
    "                 data_dir: str,\n",
    "                 eval_start_day: int,\n",
    "                 eval_end_day: Optional[int],\n",
    "                 use_updated: bool,\n",
    "                 multiple_days_per_iter: bool):\n",
    "        warnings.warn('this is mock module for mlb')\n",
    "\n",
    "        postfix = '_updated' if use_updated else ''\n",
    "        \n",
    "        # recommend to replace this with pickle, feather etc to speedup preparing data\n",
    "        df_train = pd.read_csv(os.path.join(data_dir, f'train{postfix}.csv'))\n",
    "\n",
    "        players = pd.read_csv(os.path.join(data_dir, 'players.csv'))\n",
    "\n",
    "        self.players = players[players['playerForTestSetAndFuturePreds'] == True]['playerId'].astype(str)\n",
    "        if eval_end_day is not None:\n",
    "            self.df_train = df_train.set_index('date').loc[eval_start_day:eval_end_day]\n",
    "        else:\n",
    "            self.df_train = df_train.set_index('date').loc[eval_start_day:]\n",
    "        self.date = self.df_train.index.values\n",
    "        self.n_rows = len(self.df_train)\n",
    "        self.multiple_days_per_iter = multiple_days_per_iter\n",
    "\n",
    "        assert self.n_rows > 0, 'no data to emulate'\n",
    "\n",
    "        self.prediction_df = pd.DataFrame()\n",
    "\n",
    "    def predict(self, df: pd.DataFrame) -> None:\n",
    "        # if you want to emulate public LB, store your prediction here and calculate MAE\n",
    "        self.prediction_df = pd.concat([self.prediction_df, df], axis=0).reset_index(drop=True)\n",
    "\n",
    "    def iter_test(self) -> Tuple[pd.DataFrame, pd.DataFrame]:\n",
    "        if self.multiple_days_per_iter:\n",
    "            for i in range(self.n_rows // 2):\n",
    "                date1 = self.date[2 * i]\n",
    "                date2 = self.date[2 * i + 1]\n",
    "                sample_sub1 = self._make_sample_sub(date1)\n",
    "                sample_sub2 = self._make_sample_sub(date2)\n",
    "                sample_sub = pd.concat([sample_sub1, sample_sub2]).reset_index(drop=True)\n",
    "                df = self.df_train.loc[date1:date2]\n",
    "\n",
    "                yield df, sample_sub.set_index('date')\n",
    "        else:\n",
    "            for i in range(self.n_rows):\n",
    "                date = self.date[i]\n",
    "                sample_sub = self._make_sample_sub(date)\n",
    "                df = self.df_train.loc[date:date]\n",
    "\n",
    "                yield df, sample_sub.set_index('date')\n",
    "\n",
    "    def _make_sample_sub(self, date: int) -> pd.DataFrame:\n",
    "        next_day = (pd.to_datetime(date, format='%Y%m%d') + pd.to_timedelta(1, 'd')).strftime('%Y%m%d')\n",
    "        sample_sub = pd.DataFrame()\n",
    "        sample_sub['date_playerId'] = next_day + '_' + self.players\n",
    "        sample_sub['target1'] = 0\n",
    "        sample_sub['target2'] = 0\n",
    "        sample_sub['target3'] = 0\n",
    "        sample_sub['target4'] = 0\n",
    "        sample_sub['date'] = date\n",
    "        return sample_sub\n",
    "\n",
    "\n",
    "class MLBEmulator:\n",
    "    def __init__(self,\n",
    "                 data_dir: str = '../input/mlb-player-digital-engagement-forecasting',\n",
    "                 eval_start_day: int = 20210401,\n",
    "                 eval_end_day: Optional[int] = 20210430,\n",
    "                 use_updated: bool = True,\n",
    "                 multiple_days_per_iter: bool = False):\n",
    "        self.data_dir = data_dir\n",
    "        self.eval_start_day = eval_start_day\n",
    "        self.eval_end_day = eval_end_day\n",
    "        self.use_updated = use_updated\n",
    "        self.multiple_days_per_iter = multiple_days_per_iter\n",
    "\n",
    "    def make_env(self) -> Environment:\n",
    "        return Environment(self.data_dir,\n",
    "                           self.eval_start_day,\n",
    "                           self.eval_end_day,\n",
    "                           self.use_updated,\n",
    "                           self.multiple_days_per_iter)\n",
    "\n",
    "\n",
    "emulation_mode = True\n",
    "\n",
    "if emulation_mode:\n",
    "    mlb = MLBEmulator(eval_start_day=20210501, eval_end_day=20210531)\n",
    "else:\n",
    "    import mlb\n",
    "\n",
    "env = mlb.make_env()\n",
    "iter_test = env.iter_test()\n",
    "\n",
    "\n",
    "for (test_df, sample_prediction_df) in iter_test:\n",
    "    sample_prediction_df = sample_prediction_df.reset_index(drop=True)\n",
    "    # # create dataset\n",
    "    test_df = test_df.reset_index()\n",
    "    test_df = test_df.rename(columns={\"index\": \"date\"})\n",
    "    sample_prediction_df[\"date\"] = test_df.iloc[0][\"date\"]\n",
    "    sample_prediction_df[\"playerId\"] = sample_prediction_df[\"date_playerId\"].map(lambda x: int(x.split(\"_\")[1]))\n",
    "    test_rosters_df, test_playerBoxScores_df = update_dataset(test_df, sample_prediction_df)\n",
    "    # # create features\n",
    "    test_feat_df = create_test_feature(\n",
    "        sample_prediction_df,\n",
    "        target_df,\n",
    "        test_rosters_df,\n",
    "        test_playerBoxScores_df,\n",
    "        update_blocks, \n",
    "        non_update_blocks)\n",
    "    X_test = test_feat_df.values\n",
    "    # prediction\n",
    "    for target, model in zip(CFG.TARGETS, models):\n",
    "        pred = np.mean([model_.predict(X_test, num_iteration=model_.best_iteration) for model_ in model], axis=0)\n",
    "        sample_prediction_df[target] = np.clip(pred, 0, 100)\n",
    "\n",
    "    sample_prediction_df = sample_prediction_df.drop(columns=[\"playerId\", \"date\"], axis=1)\n",
    "\n",
    "    env.predict(sample_prediction_df)"
   ],
   "outputs": [
    {
     "output_type": "stream",
     "name": "stderr",
     "text": [
      "<ipython-input-16-e5392bcc2b9e>:8: UserWarning:\n",
      "\n",
      "this is mock module for mlb\n",
      "\n"
     ]
    },
    {
     "output_type": "stream",
     "name": "stdout",
     "text": [
      "[2021-07-29 02:27:55,669] [INFO] [<<__main__.PlayerStatsBlock object at 0x141a1b3a0>_update> start]\n"
     ]
    },
    {
     "output_type": "display_data",
     "data": {
      "text/plain": [
       "  0%|          | 0/463 [00:00<?, ?it/s]"
      ],
      "application/vnd.jupyter.widget-view+json": {
       "version_major": 2,
       "version_minor": 0,
       "model_id": "157794d988f04e3195fe58cc605c6cd9"
      }
     },
     "metadata": {}
    },
    {
     "output_type": "display_data",
     "data": {
      "text/plain": [
       "  0%|          | 0/1187 [00:00<?, ?it/s]"
      ],
      "application/vnd.jupyter.widget-view+json": {
       "version_major": 2,
       "version_minor": 0,
       "model_id": "116d1af394a4423a814e2664c4f7df7a"
      }
     },
     "metadata": {}
    },
    {
     "output_type": "stream",
     "name": "stdout",
     "text": [
      "[2021-07-29 02:27:56,860] [INFO] [<<__main__.PlayerStatsBlock object at 0x141a1b3a0>_update> done in 1.19 s]\n",
      "[2021-07-29 02:27:56,862] [INFO] [<<__main__.TargetAggregateBlock object at 0x141a1bbe0>_transform> start]\n",
      "[2021-07-29 02:27:56,870] [INFO] [<<__main__.TargetAggregateBlock object at 0x141a1bbe0>_transform> done in 0.01 s]\n",
      "[2021-07-29 02:27:56,872] [INFO] [<<__main__.RostersLabelEncodingBlock object at 0x141a1b790>_transform> start]\n",
      "[2021-07-29 02:27:56,881] [INFO] [<<__main__.RostersLabelEncodingBlock object at 0x141a1b790>_transform> done in 0.01 s]\n",
      "[2021-07-29 02:27:56,884] [INFO] [<<__main__.PlayersLabelEncodingBlock object at 0x141a1be20>_transform> start]\n",
      "[2021-07-29 02:27:56,889] [INFO] [<<__main__.PlayersLabelEncodingBlock object at 0x141a1be20>_transform> done in 0.00 s]\n",
      "[2021-07-29 02:27:56,977] [INFO] [<<__main__.PlayerStatsBlock object at 0x141a1b3a0>_update> start]\n"
     ]
    },
    {
     "output_type": "display_data",
     "data": {
      "text/plain": [
       "  0%|          | 0/438 [00:00<?, ?it/s]"
      ],
      "application/vnd.jupyter.widget-view+json": {
       "version_major": 2,
       "version_minor": 0,
       "model_id": "a6dac1ff05c24fb29909bed580d23fcd"
      }
     },
     "metadata": {}
    },
    {
     "output_type": "display_data",
     "data": {
      "text/plain": [
       "  0%|          | 0/1187 [00:00<?, ?it/s]"
      ],
      "application/vnd.jupyter.widget-view+json": {
       "version_major": 2,
       "version_minor": 0,
       "model_id": "9f6f9e8d895c4f06b3ffb231b26553bd"
      }
     },
     "metadata": {}
    },
    {
     "output_type": "stream",
     "name": "stdout",
     "text": [
      "[2021-07-29 02:27:57,873] [INFO] [<<__main__.PlayerStatsBlock object at 0x141a1b3a0>_update> done in 0.90 s]\n",
      "[2021-07-29 02:27:57,874] [INFO] [<<__main__.TargetAggregateBlock object at 0x141a1bbe0>_transform> start]\n",
      "[2021-07-29 02:27:57,882] [INFO] [<<__main__.TargetAggregateBlock object at 0x141a1bbe0>_transform> done in 0.01 s]\n",
      "[2021-07-29 02:27:57,884] [INFO] [<<__main__.RostersLabelEncodingBlock object at 0x141a1b790>_transform> start]\n",
      "[2021-07-29 02:27:57,891] [INFO] [<<__main__.RostersLabelEncodingBlock object at 0x141a1b790>_transform> done in 0.01 s]\n",
      "[2021-07-29 02:27:57,894] [INFO] [<<__main__.PlayersLabelEncodingBlock object at 0x141a1be20>_transform> start]\n",
      "[2021-07-29 02:27:57,898] [INFO] [<<__main__.PlayersLabelEncodingBlock object at 0x141a1be20>_transform> done in 0.00 s]\n",
      "[2021-07-29 02:27:58,293] [INFO] [<<__main__.PlayerStatsBlock object at 0x141a1b3a0>_update> start]\n"
     ]
    },
    {
     "output_type": "display_data",
     "data": {
      "text/plain": [
       "  0%|          | 0/228 [00:00<?, ?it/s]"
      ],
      "application/vnd.jupyter.widget-view+json": {
       "version_major": 2,
       "version_minor": 0,
       "model_id": "cfc769d7cf1b4663aa1a51912f553a93"
      }
     },
     "metadata": {}
    },
    {
     "output_type": "display_data",
     "data": {
      "text/plain": [
       "  0%|          | 0/1187 [00:00<?, ?it/s]"
      ],
      "application/vnd.jupyter.widget-view+json": {
       "version_major": 2,
       "version_minor": 0,
       "model_id": "aee97bc6edb24948b3fe5dad8b29a5cd"
      }
     },
     "metadata": {}
    },
    {
     "output_type": "stream",
     "name": "stdout",
     "text": [
      "[2021-07-29 02:27:59,038] [INFO] [<<__main__.PlayerStatsBlock object at 0x141a1b3a0>_update> done in 0.74 s]\n",
      "[2021-07-29 02:27:59,039] [INFO] [<<__main__.TargetAggregateBlock object at 0x141a1bbe0>_transform> start]\n",
      "[2021-07-29 02:27:59,045] [INFO] [<<__main__.TargetAggregateBlock object at 0x141a1bbe0>_transform> done in 0.01 s]\n",
      "[2021-07-29 02:27:59,047] [INFO] [<<__main__.RostersLabelEncodingBlock object at 0x141a1b790>_transform> start]\n",
      "[2021-07-29 02:27:59,054] [INFO] [<<__main__.RostersLabelEncodingBlock object at 0x141a1b790>_transform> done in 0.01 s]\n",
      "[2021-07-29 02:27:59,058] [INFO] [<<__main__.PlayersLabelEncodingBlock object at 0x141a1be20>_transform> start]\n",
      "[2021-07-29 02:27:59,062] [INFO] [<<__main__.PlayersLabelEncodingBlock object at 0x141a1be20>_transform> done in 0.00 s]\n",
      "[2021-07-29 02:27:59,155] [INFO] [<<__main__.PlayerStatsBlock object at 0x141a1b3a0>_update> start]\n"
     ]
    },
    {
     "output_type": "display_data",
     "data": {
      "text/plain": [
       "  0%|          | 0/478 [00:00<?, ?it/s]"
      ],
      "application/vnd.jupyter.widget-view+json": {
       "version_major": 2,
       "version_minor": 0,
       "model_id": "9595263086ff4e288edfe4a7aa394a85"
      }
     },
     "metadata": {}
    },
    {
     "output_type": "display_data",
     "data": {
      "text/plain": [
       "  0%|          | 0/1187 [00:00<?, ?it/s]"
      ],
      "application/vnd.jupyter.widget-view+json": {
       "version_major": 2,
       "version_minor": 0,
       "model_id": "d10771817d4c451887fa94dbfc77ec52"
      }
     },
     "metadata": {}
    },
    {
     "output_type": "stream",
     "name": "stdout",
     "text": [
      "[2021-07-29 02:28:00,068] [INFO] [<<__main__.PlayerStatsBlock object at 0x141a1b3a0>_update> done in 0.91 s]\n",
      "[2021-07-29 02:28:00,069] [INFO] [<<__main__.TargetAggregateBlock object at 0x141a1bbe0>_transform> start]\n",
      "[2021-07-29 02:28:00,077] [INFO] [<<__main__.TargetAggregateBlock object at 0x141a1bbe0>_transform> done in 0.01 s]\n",
      "[2021-07-29 02:28:00,079] [INFO] [<<__main__.RostersLabelEncodingBlock object at 0x141a1b790>_transform> start]\n",
      "[2021-07-29 02:28:00,088] [INFO] [<<__main__.RostersLabelEncodingBlock object at 0x141a1b790>_transform> done in 0.01 s]\n",
      "[2021-07-29 02:28:00,090] [INFO] [<<__main__.PlayersLabelEncodingBlock object at 0x141a1be20>_transform> start]\n",
      "[2021-07-29 02:28:00,095] [INFO] [<<__main__.PlayersLabelEncodingBlock object at 0x141a1be20>_transform> done in 0.00 s]\n",
      "[2021-07-29 02:28:00,191] [INFO] [<<__main__.PlayerStatsBlock object at 0x141a1b3a0>_update> start]\n"
     ]
    },
    {
     "output_type": "display_data",
     "data": {
      "text/plain": [
       "  0%|          | 0/470 [00:00<?, ?it/s]"
      ],
      "application/vnd.jupyter.widget-view+json": {
       "version_major": 2,
       "version_minor": 0,
       "model_id": "bc7fd803d93d498b930f7c41c03d3fee"
      }
     },
     "metadata": {}
    },
    {
     "output_type": "display_data",
     "data": {
      "text/plain": [
       "  0%|          | 0/1187 [00:00<?, ?it/s]"
      ],
      "application/vnd.jupyter.widget-view+json": {
       "version_major": 2,
       "version_minor": 0,
       "model_id": "d3f1ac065cbd4797b42b29ee34f7d442"
      }
     },
     "metadata": {}
    },
    {
     "output_type": "stream",
     "name": "stdout",
     "text": [
      "[2021-07-29 02:28:01,110] [INFO] [<<__main__.PlayerStatsBlock object at 0x141a1b3a0>_update> done in 0.92 s]\n",
      "[2021-07-29 02:28:01,112] [INFO] [<<__main__.TargetAggregateBlock object at 0x141a1bbe0>_transform> start]\n",
      "[2021-07-29 02:28:01,119] [INFO] [<<__main__.TargetAggregateBlock object at 0x141a1bbe0>_transform> done in 0.01 s]\n",
      "[2021-07-29 02:28:01,121] [INFO] [<<__main__.RostersLabelEncodingBlock object at 0x141a1b790>_transform> start]\n",
      "[2021-07-29 02:28:01,129] [INFO] [<<__main__.RostersLabelEncodingBlock object at 0x141a1b790>_transform> done in 0.01 s]\n",
      "[2021-07-29 02:28:01,133] [INFO] [<<__main__.PlayersLabelEncodingBlock object at 0x141a1be20>_transform> start]\n",
      "[2021-07-29 02:28:01,138] [INFO] [<<__main__.PlayersLabelEncodingBlock object at 0x141a1be20>_transform> done in 0.00 s]\n",
      "[2021-07-29 02:28:01,224] [INFO] [<<__main__.PlayerStatsBlock object at 0x141a1b3a0>_update> start]\n"
     ]
    },
    {
     "output_type": "display_data",
     "data": {
      "text/plain": [
       "  0%|          | 0/286 [00:00<?, ?it/s]"
      ],
      "application/vnd.jupyter.widget-view+json": {
       "version_major": 2,
       "version_minor": 0,
       "model_id": "cba206c5b5a2442e9630becd99cef85f"
      }
     },
     "metadata": {}
    },
    {
     "output_type": "display_data",
     "data": {
      "text/plain": [
       "  0%|          | 0/1187 [00:00<?, ?it/s]"
      ],
      "application/vnd.jupyter.widget-view+json": {
       "version_major": 2,
       "version_minor": 0,
       "model_id": "e057b55f04d8469c9219dc83befd7350"
      }
     },
     "metadata": {}
    },
    {
     "output_type": "stream",
     "name": "stdout",
     "text": [
      "[2021-07-29 02:28:02,069] [INFO] [<<__main__.PlayerStatsBlock object at 0x141a1b3a0>_update> done in 0.84 s]\n",
      "[2021-07-29 02:28:02,071] [INFO] [<<__main__.TargetAggregateBlock object at 0x141a1bbe0>_transform> start]\n",
      "[2021-07-29 02:28:02,079] [INFO] [<<__main__.TargetAggregateBlock object at 0x141a1bbe0>_transform> done in 0.01 s]\n",
      "[2021-07-29 02:28:02,081] [INFO] [<<__main__.RostersLabelEncodingBlock object at 0x141a1b790>_transform> start]\n",
      "[2021-07-29 02:28:02,089] [INFO] [<<__main__.RostersLabelEncodingBlock object at 0x141a1b790>_transform> done in 0.01 s]\n",
      "[2021-07-29 02:28:02,092] [INFO] [<<__main__.PlayersLabelEncodingBlock object at 0x141a1be20>_transform> start]\n",
      "[2021-07-29 02:28:02,097] [INFO] [<<__main__.PlayersLabelEncodingBlock object at 0x141a1be20>_transform> done in 0.00 s]\n",
      "[2021-07-29 02:28:02,191] [INFO] [<<__main__.PlayerStatsBlock object at 0x141a1b3a0>_update> start]\n"
     ]
    },
    {
     "output_type": "display_data",
     "data": {
      "text/plain": [
       "  0%|          | 0/422 [00:00<?, ?it/s]"
      ],
      "application/vnd.jupyter.widget-view+json": {
       "version_major": 2,
       "version_minor": 0,
       "model_id": "2578b17dcf424ee8a59fc53c4472e200"
      }
     },
     "metadata": {}
    },
    {
     "output_type": "display_data",
     "data": {
      "text/plain": [
       "  0%|          | 0/1187 [00:00<?, ?it/s]"
      ],
      "application/vnd.jupyter.widget-view+json": {
       "version_major": 2,
       "version_minor": 0,
       "model_id": "2def946ecb8c4c6c893d4e7997bc1afa"
      }
     },
     "metadata": {}
    },
    {
     "output_type": "stream",
     "name": "stdout",
     "text": [
      "[2021-07-29 02:28:03,087] [INFO] [<<__main__.PlayerStatsBlock object at 0x141a1b3a0>_update> done in 0.90 s]\n",
      "[2021-07-29 02:28:03,088] [INFO] [<<__main__.TargetAggregateBlock object at 0x141a1bbe0>_transform> start]\n",
      "[2021-07-29 02:28:03,096] [INFO] [<<__main__.TargetAggregateBlock object at 0x141a1bbe0>_transform> done in 0.01 s]\n",
      "[2021-07-29 02:28:03,098] [INFO] [<<__main__.RostersLabelEncodingBlock object at 0x141a1b790>_transform> start]\n",
      "[2021-07-29 02:28:03,108] [INFO] [<<__main__.RostersLabelEncodingBlock object at 0x141a1b790>_transform> done in 0.01 s]\n",
      "[2021-07-29 02:28:03,111] [INFO] [<<__main__.PlayersLabelEncodingBlock object at 0x141a1be20>_transform> start]\n",
      "[2021-07-29 02:28:03,115] [INFO] [<<__main__.PlayersLabelEncodingBlock object at 0x141a1be20>_transform> done in 0.00 s]\n",
      "[2021-07-29 02:28:03,205] [INFO] [<<__main__.PlayerStatsBlock object at 0x141a1b3a0>_update> start]\n"
     ]
    },
    {
     "output_type": "display_data",
     "data": {
      "text/plain": [
       "  0%|          | 0/462 [00:00<?, ?it/s]"
      ],
      "application/vnd.jupyter.widget-view+json": {
       "version_major": 2,
       "version_minor": 0,
       "model_id": "e6fdcd7762bb45b5ba025147b40f23f0"
      }
     },
     "metadata": {}
    },
    {
     "output_type": "display_data",
     "data": {
      "text/plain": [
       "  0%|          | 0/1187 [00:00<?, ?it/s]"
      ],
      "application/vnd.jupyter.widget-view+json": {
       "version_major": 2,
       "version_minor": 0,
       "model_id": "93ab38e1e35247e1ae0d9c64c728f24d"
      }
     },
     "metadata": {}
    },
    {
     "output_type": "stream",
     "name": "stdout",
     "text": [
      "[2021-07-29 02:28:04,124] [INFO] [<<__main__.PlayerStatsBlock object at 0x141a1b3a0>_update> done in 0.92 s]\n",
      "[2021-07-29 02:28:04,125] [INFO] [<<__main__.TargetAggregateBlock object at 0x141a1bbe0>_transform> start]\n",
      "[2021-07-29 02:28:04,134] [INFO] [<<__main__.TargetAggregateBlock object at 0x141a1bbe0>_transform> done in 0.01 s]\n",
      "[2021-07-29 02:28:04,136] [INFO] [<<__main__.RostersLabelEncodingBlock object at 0x141a1b790>_transform> start]\n",
      "[2021-07-29 02:28:04,145] [INFO] [<<__main__.RostersLabelEncodingBlock object at 0x141a1b790>_transform> done in 0.01 s]\n",
      "[2021-07-29 02:28:04,148] [INFO] [<<__main__.PlayersLabelEncodingBlock object at 0x141a1be20>_transform> start]\n",
      "[2021-07-29 02:28:04,152] [INFO] [<<__main__.PlayersLabelEncodingBlock object at 0x141a1be20>_transform> done in 0.00 s]\n",
      "[2021-07-29 02:28:04,243] [INFO] [<<__main__.PlayerStatsBlock object at 0x141a1b3a0>_update> start]\n"
     ]
    },
    {
     "output_type": "display_data",
     "data": {
      "text/plain": [
       "  0%|          | 0/376 [00:00<?, ?it/s]"
      ],
      "application/vnd.jupyter.widget-view+json": {
       "version_major": 2,
       "version_minor": 0,
       "model_id": "250d3b2f921a4b5a8e58b74b373e8dec"
      }
     },
     "metadata": {}
    },
    {
     "output_type": "display_data",
     "data": {
      "text/plain": [
       "  0%|          | 0/1187 [00:00<?, ?it/s]"
      ],
      "application/vnd.jupyter.widget-view+json": {
       "version_major": 2,
       "version_minor": 0,
       "model_id": "86e4f1e628fe4c39a420367ffeb25130"
      }
     },
     "metadata": {}
    },
    {
     "output_type": "stream",
     "name": "stdout",
     "text": [
      "[2021-07-29 02:28:05,121] [INFO] [<<__main__.PlayerStatsBlock object at 0x141a1b3a0>_update> done in 0.88 s]\n",
      "[2021-07-29 02:28:05,122] [INFO] [<<__main__.TargetAggregateBlock object at 0x141a1bbe0>_transform> start]\n",
      "[2021-07-29 02:28:05,130] [INFO] [<<__main__.TargetAggregateBlock object at 0x141a1bbe0>_transform> done in 0.01 s]\n",
      "[2021-07-29 02:28:05,132] [INFO] [<<__main__.RostersLabelEncodingBlock object at 0x141a1b790>_transform> start]\n",
      "[2021-07-29 02:28:05,141] [INFO] [<<__main__.RostersLabelEncodingBlock object at 0x141a1b790>_transform> done in 0.01 s]\n",
      "[2021-07-29 02:28:05,144] [INFO] [<<__main__.PlayersLabelEncodingBlock object at 0x141a1be20>_transform> start]\n",
      "[2021-07-29 02:28:05,148] [INFO] [<<__main__.PlayersLabelEncodingBlock object at 0x141a1be20>_transform> done in 0.00 s]\n",
      "[2021-07-29 02:28:05,222] [INFO] [<<__main__.PlayerStatsBlock object at 0x141a1b3a0>_update> start]\n"
     ]
    },
    {
     "output_type": "display_data",
     "data": {
      "text/plain": [
       "  0%|          | 0/141 [00:00<?, ?it/s]"
      ],
      "application/vnd.jupyter.widget-view+json": {
       "version_major": 2,
       "version_minor": 0,
       "model_id": "e24b217df5d3422fb3078540ebeaf9f4"
      }
     },
     "metadata": {}
    },
    {
     "output_type": "display_data",
     "data": {
      "text/plain": [
       "  0%|          | 0/1187 [00:00<?, ?it/s]"
      ],
      "application/vnd.jupyter.widget-view+json": {
       "version_major": 2,
       "version_minor": 0,
       "model_id": "be0680e6b4404ef88e36434b202faff8"
      }
     },
     "metadata": {}
    },
    {
     "output_type": "stream",
     "name": "stdout",
     "text": [
      "[2021-07-29 02:28:06,008] [INFO] [<<__main__.PlayerStatsBlock object at 0x141a1b3a0>_update> done in 0.79 s]\n",
      "[2021-07-29 02:28:06,009] [INFO] [<<__main__.TargetAggregateBlock object at 0x141a1bbe0>_transform> start]\n",
      "[2021-07-29 02:28:06,017] [INFO] [<<__main__.TargetAggregateBlock object at 0x141a1bbe0>_transform> done in 0.01 s]\n",
      "[2021-07-29 02:28:06,020] [INFO] [<<__main__.RostersLabelEncodingBlock object at 0x141a1b790>_transform> start]\n",
      "[2021-07-29 02:28:06,028] [INFO] [<<__main__.RostersLabelEncodingBlock object at 0x141a1b790>_transform> done in 0.01 s]\n",
      "[2021-07-29 02:28:06,031] [INFO] [<<__main__.PlayersLabelEncodingBlock object at 0x141a1be20>_transform> start]\n",
      "[2021-07-29 02:28:06,036] [INFO] [<<__main__.PlayersLabelEncodingBlock object at 0x141a1be20>_transform> done in 0.00 s]\n",
      "[2021-07-29 02:28:06,123] [INFO] [<<__main__.PlayerStatsBlock object at 0x141a1b3a0>_update> start]\n"
     ]
    },
    {
     "output_type": "display_data",
     "data": {
      "text/plain": [
       "  0%|          | 0/447 [00:00<?, ?it/s]"
      ],
      "application/vnd.jupyter.widget-view+json": {
       "version_major": 2,
       "version_minor": 0,
       "model_id": "ec9e24429fb84ce8be65c9e63e5b2a0f"
      }
     },
     "metadata": {}
    },
    {
     "output_type": "display_data",
     "data": {
      "text/plain": [
       "  0%|          | 0/1187 [00:00<?, ?it/s]"
      ],
      "application/vnd.jupyter.widget-view+json": {
       "version_major": 2,
       "version_minor": 0,
       "model_id": "06282700479841b4a53214182c905f3f"
      }
     },
     "metadata": {}
    },
    {
     "output_type": "stream",
     "name": "stdout",
     "text": [
      "[2021-07-29 02:28:07,058] [INFO] [<<__main__.PlayerStatsBlock object at 0x141a1b3a0>_update> done in 0.93 s]\n",
      "[2021-07-29 02:28:07,060] [INFO] [<<__main__.TargetAggregateBlock object at 0x141a1bbe0>_transform> start]\n",
      "[2021-07-29 02:28:07,068] [INFO] [<<__main__.TargetAggregateBlock object at 0x141a1bbe0>_transform> done in 0.01 s]\n",
      "[2021-07-29 02:28:07,070] [INFO] [<<__main__.RostersLabelEncodingBlock object at 0x141a1b790>_transform> start]\n",
      "[2021-07-29 02:28:07,078] [INFO] [<<__main__.RostersLabelEncodingBlock object at 0x141a1b790>_transform> done in 0.01 s]\n",
      "[2021-07-29 02:28:07,081] [INFO] [<<__main__.PlayersLabelEncodingBlock object at 0x141a1be20>_transform> start]\n",
      "[2021-07-29 02:28:07,085] [INFO] [<<__main__.PlayersLabelEncodingBlock object at 0x141a1be20>_transform> done in 0.00 s]\n",
      "[2021-07-29 02:28:07,170] [INFO] [<<__main__.PlayerStatsBlock object at 0x141a1b3a0>_update> start]\n"
     ]
    },
    {
     "output_type": "display_data",
     "data": {
      "text/plain": [
       "  0%|          | 0/435 [00:00<?, ?it/s]"
      ],
      "application/vnd.jupyter.widget-view+json": {
       "version_major": 2,
       "version_minor": 0,
       "model_id": "e171e5cca20c4049b19e1fcf143e881f"
      }
     },
     "metadata": {}
    },
    {
     "output_type": "display_data",
     "data": {
      "text/plain": [
       "  0%|          | 0/1187 [00:00<?, ?it/s]"
      ],
      "application/vnd.jupyter.widget-view+json": {
       "version_major": 2,
       "version_minor": 0,
       "model_id": "2c9123c9de8e440f9c1428bbc9b73a03"
      }
     },
     "metadata": {}
    },
    {
     "output_type": "stream",
     "name": "stdout",
     "text": [
      "[2021-07-29 02:28:08,073] [INFO] [<<__main__.PlayerStatsBlock object at 0x141a1b3a0>_update> done in 0.90 s]\n",
      "[2021-07-29 02:28:08,074] [INFO] [<<__main__.TargetAggregateBlock object at 0x141a1bbe0>_transform> start]\n",
      "[2021-07-29 02:28:08,081] [INFO] [<<__main__.TargetAggregateBlock object at 0x141a1bbe0>_transform> done in 0.01 s]\n",
      "[2021-07-29 02:28:08,083] [INFO] [<<__main__.RostersLabelEncodingBlock object at 0x141a1b790>_transform> start]\n",
      "[2021-07-29 02:28:08,090] [INFO] [<<__main__.RostersLabelEncodingBlock object at 0x141a1b790>_transform> done in 0.01 s]\n",
      "[2021-07-29 02:28:08,094] [INFO] [<<__main__.PlayersLabelEncodingBlock object at 0x141a1be20>_transform> start]\n",
      "[2021-07-29 02:28:08,098] [INFO] [<<__main__.PlayersLabelEncodingBlock object at 0x141a1be20>_transform> done in 0.00 s]\n",
      "[2021-07-29 02:28:08,185] [INFO] [<<__main__.PlayerStatsBlock object at 0x141a1b3a0>_update> start]\n"
     ]
    },
    {
     "output_type": "display_data",
     "data": {
      "text/plain": [
       "  0%|          | 0/346 [00:00<?, ?it/s]"
      ],
      "application/vnd.jupyter.widget-view+json": {
       "version_major": 2,
       "version_minor": 0,
       "model_id": "304c6ad8d33548b5a05b549e6829ac92"
      }
     },
     "metadata": {}
    },
    {
     "output_type": "display_data",
     "data": {
      "text/plain": [
       "  0%|          | 0/1187 [00:00<?, ?it/s]"
      ],
      "application/vnd.jupyter.widget-view+json": {
       "version_major": 2,
       "version_minor": 0,
       "model_id": "880d1d1d023b4d2a97321e2eb265da38"
      }
     },
     "metadata": {}
    },
    {
     "output_type": "stream",
     "name": "stdout",
     "text": [
      "[2021-07-29 02:28:09,057] [INFO] [<<__main__.PlayerStatsBlock object at 0x141a1b3a0>_update> done in 0.87 s]\n",
      "[2021-07-29 02:28:09,058] [INFO] [<<__main__.TargetAggregateBlock object at 0x141a1bbe0>_transform> start]\n",
      "[2021-07-29 02:28:09,066] [INFO] [<<__main__.TargetAggregateBlock object at 0x141a1bbe0>_transform> done in 0.01 s]\n",
      "[2021-07-29 02:28:09,068] [INFO] [<<__main__.RostersLabelEncodingBlock object at 0x141a1b790>_transform> start]\n",
      "[2021-07-29 02:28:09,076] [INFO] [<<__main__.RostersLabelEncodingBlock object at 0x141a1b790>_transform> done in 0.01 s]\n",
      "[2021-07-29 02:28:09,079] [INFO] [<<__main__.PlayersLabelEncodingBlock object at 0x141a1be20>_transform> start]\n",
      "[2021-07-29 02:28:09,083] [INFO] [<<__main__.PlayersLabelEncodingBlock object at 0x141a1be20>_transform> done in 0.00 s]\n",
      "[2021-07-29 02:28:09,168] [INFO] [<<__main__.PlayerStatsBlock object at 0x141a1b3a0>_update> start]\n"
     ]
    },
    {
     "output_type": "display_data",
     "data": {
      "text/plain": [
       "  0%|          | 0/460 [00:00<?, ?it/s]"
      ],
      "application/vnd.jupyter.widget-view+json": {
       "version_major": 2,
       "version_minor": 0,
       "model_id": "d1c0f6afade8411d92008444f9fb46cc"
      }
     },
     "metadata": {}
    },
    {
     "output_type": "display_data",
     "data": {
      "text/plain": [
       "  0%|          | 0/1187 [00:00<?, ?it/s]"
      ],
      "application/vnd.jupyter.widget-view+json": {
       "version_major": 2,
       "version_minor": 0,
       "model_id": "75dc004a931e4e3dbd882d0b5f8617d8"
      }
     },
     "metadata": {}
    },
    {
     "output_type": "stream",
     "name": "stdout",
     "text": [
      "[2021-07-29 02:28:10,082] [INFO] [<<__main__.PlayerStatsBlock object at 0x141a1b3a0>_update> done in 0.91 s]\n",
      "[2021-07-29 02:28:10,084] [INFO] [<<__main__.TargetAggregateBlock object at 0x141a1bbe0>_transform> start]\n",
      "[2021-07-29 02:28:10,092] [INFO] [<<__main__.TargetAggregateBlock object at 0x141a1bbe0>_transform> done in 0.01 s]\n",
      "[2021-07-29 02:28:10,094] [INFO] [<<__main__.RostersLabelEncodingBlock object at 0x141a1b790>_transform> start]\n",
      "[2021-07-29 02:28:10,102] [INFO] [<<__main__.RostersLabelEncodingBlock object at 0x141a1b790>_transform> done in 0.01 s]\n",
      "[2021-07-29 02:28:10,105] [INFO] [<<__main__.PlayersLabelEncodingBlock object at 0x141a1be20>_transform> start]\n",
      "[2021-07-29 02:28:10,110] [INFO] [<<__main__.PlayersLabelEncodingBlock object at 0x141a1be20>_transform> done in 0.00 s]\n",
      "[2021-07-29 02:28:10,194] [INFO] [<<__main__.PlayerStatsBlock object at 0x141a1b3a0>_update> start]\n"
     ]
    },
    {
     "output_type": "display_data",
     "data": {
      "text/plain": [
       "  0%|          | 0/449 [00:00<?, ?it/s]"
      ],
      "application/vnd.jupyter.widget-view+json": {
       "version_major": 2,
       "version_minor": 0,
       "model_id": "8b446ba684f84ac8846e9ce4d831b410"
      }
     },
     "metadata": {}
    },
    {
     "output_type": "display_data",
     "data": {
      "text/plain": [
       "  0%|          | 0/1187 [00:00<?, ?it/s]"
      ],
      "application/vnd.jupyter.widget-view+json": {
       "version_major": 2,
       "version_minor": 0,
       "model_id": "58727dd26f3a439aa149a416bc19e9ed"
      }
     },
     "metadata": {}
    },
    {
     "output_type": "stream",
     "name": "stdout",
     "text": [
      "[2021-07-29 02:28:11,109] [INFO] [<<__main__.PlayerStatsBlock object at 0x141a1b3a0>_update> done in 0.91 s]\n",
      "[2021-07-29 02:28:11,110] [INFO] [<<__main__.TargetAggregateBlock object at 0x141a1bbe0>_transform> start]\n",
      "[2021-07-29 02:28:11,118] [INFO] [<<__main__.TargetAggregateBlock object at 0x141a1bbe0>_transform> done in 0.01 s]\n",
      "[2021-07-29 02:28:11,120] [INFO] [<<__main__.RostersLabelEncodingBlock object at 0x141a1b790>_transform> start]\n",
      "[2021-07-29 02:28:11,127] [INFO] [<<__main__.RostersLabelEncodingBlock object at 0x141a1b790>_transform> done in 0.01 s]\n",
      "[2021-07-29 02:28:11,131] [INFO] [<<__main__.PlayersLabelEncodingBlock object at 0x141a1be20>_transform> start]\n",
      "[2021-07-29 02:28:11,135] [INFO] [<<__main__.PlayersLabelEncodingBlock object at 0x141a1be20>_transform> done in 0.00 s]\n",
      "[2021-07-29 02:28:11,225] [INFO] [<<__main__.PlayerStatsBlock object at 0x141a1b3a0>_update> start]\n"
     ]
    },
    {
     "output_type": "display_data",
     "data": {
      "text/plain": [
       "  0%|          | 0/445 [00:00<?, ?it/s]"
      ],
      "application/vnd.jupyter.widget-view+json": {
       "version_major": 2,
       "version_minor": 0,
       "model_id": "206ef6f890f54bb887452ce8faad1daa"
      }
     },
     "metadata": {}
    },
    {
     "output_type": "display_data",
     "data": {
      "text/plain": [
       "  0%|          | 0/1187 [00:00<?, ?it/s]"
      ],
      "application/vnd.jupyter.widget-view+json": {
       "version_major": 2,
       "version_minor": 0,
       "model_id": "a9d2a7c9e0f549f783f4677943bf1fe1"
      }
     },
     "metadata": {}
    },
    {
     "output_type": "stream",
     "name": "stdout",
     "text": [
      "[2021-07-29 02:28:12,146] [INFO] [<<__main__.PlayerStatsBlock object at 0x141a1b3a0>_update> done in 0.92 s]\n",
      "[2021-07-29 02:28:12,148] [INFO] [<<__main__.TargetAggregateBlock object at 0x141a1bbe0>_transform> start]\n",
      "[2021-07-29 02:28:12,156] [INFO] [<<__main__.TargetAggregateBlock object at 0x141a1bbe0>_transform> done in 0.01 s]\n",
      "[2021-07-29 02:28:12,159] [INFO] [<<__main__.RostersLabelEncodingBlock object at 0x141a1b790>_transform> start]\n",
      "[2021-07-29 02:28:12,168] [INFO] [<<__main__.RostersLabelEncodingBlock object at 0x141a1b790>_transform> done in 0.01 s]\n",
      "[2021-07-29 02:28:12,171] [INFO] [<<__main__.PlayersLabelEncodingBlock object at 0x141a1be20>_transform> start]\n",
      "[2021-07-29 02:28:12,175] [INFO] [<<__main__.PlayersLabelEncodingBlock object at 0x141a1be20>_transform> done in 0.00 s]\n",
      "[2021-07-29 02:28:12,257] [INFO] [<<__main__.PlayerStatsBlock object at 0x141a1b3a0>_update> start]\n"
     ]
    },
    {
     "output_type": "display_data",
     "data": {
      "text/plain": [
       "  0%|          | 0/257 [00:00<?, ?it/s]"
      ],
      "application/vnd.jupyter.widget-view+json": {
       "version_major": 2,
       "version_minor": 0,
       "model_id": "549314d941b041f085c91a3c67b378c2"
      }
     },
     "metadata": {}
    },
    {
     "output_type": "display_data",
     "data": {
      "text/plain": [
       "  0%|          | 0/1187 [00:00<?, ?it/s]"
      ],
      "application/vnd.jupyter.widget-view+json": {
       "version_major": 2,
       "version_minor": 0,
       "model_id": "20d6276942214b3385f8ad05dc31650a"
      }
     },
     "metadata": {}
    },
    {
     "output_type": "stream",
     "name": "stdout",
     "text": [
      "[2021-07-29 02:28:13,100] [INFO] [<<__main__.PlayerStatsBlock object at 0x141a1b3a0>_update> done in 0.84 s]\n",
      "[2021-07-29 02:28:13,102] [INFO] [<<__main__.TargetAggregateBlock object at 0x141a1bbe0>_transform> start]\n",
      "[2021-07-29 02:28:13,109] [INFO] [<<__main__.TargetAggregateBlock object at 0x141a1bbe0>_transform> done in 0.01 s]\n",
      "[2021-07-29 02:28:13,111] [INFO] [<<__main__.RostersLabelEncodingBlock object at 0x141a1b790>_transform> start]\n",
      "[2021-07-29 02:28:13,119] [INFO] [<<__main__.RostersLabelEncodingBlock object at 0x141a1b790>_transform> done in 0.01 s]\n",
      "[2021-07-29 02:28:13,122] [INFO] [<<__main__.PlayersLabelEncodingBlock object at 0x141a1be20>_transform> start]\n",
      "[2021-07-29 02:28:13,126] [INFO] [<<__main__.PlayersLabelEncodingBlock object at 0x141a1be20>_transform> done in 0.00 s]\n",
      "[2021-07-29 02:28:13,219] [INFO] [<<__main__.PlayerStatsBlock object at 0x141a1b3a0>_update> start]\n"
     ]
    },
    {
     "output_type": "display_data",
     "data": {
      "text/plain": [
       "  0%|          | 0/431 [00:00<?, ?it/s]"
      ],
      "application/vnd.jupyter.widget-view+json": {
       "version_major": 2,
       "version_minor": 0,
       "model_id": "bfef1b0120c2412fbea77e875041a755"
      }
     },
     "metadata": {}
    },
    {
     "output_type": "display_data",
     "data": {
      "text/plain": [
       "  0%|          | 0/1187 [00:00<?, ?it/s]"
      ],
      "application/vnd.jupyter.widget-view+json": {
       "version_major": 2,
       "version_minor": 0,
       "model_id": "70fd29702a31455daed394d3f9435eb5"
      }
     },
     "metadata": {}
    },
    {
     "output_type": "stream",
     "name": "stdout",
     "text": [
      "[2021-07-29 02:28:14,315] [INFO] [<<__main__.PlayerStatsBlock object at 0x141a1b3a0>_update> done in 1.10 s]\n",
      "[2021-07-29 02:28:14,317] [INFO] [<<__main__.TargetAggregateBlock object at 0x141a1bbe0>_transform> start]\n",
      "[2021-07-29 02:28:14,325] [INFO] [<<__main__.TargetAggregateBlock object at 0x141a1bbe0>_transform> done in 0.01 s]\n",
      "[2021-07-29 02:28:14,327] [INFO] [<<__main__.RostersLabelEncodingBlock object at 0x141a1b790>_transform> start]\n",
      "[2021-07-29 02:28:14,336] [INFO] [<<__main__.RostersLabelEncodingBlock object at 0x141a1b790>_transform> done in 0.01 s]\n",
      "[2021-07-29 02:28:14,339] [INFO] [<<__main__.PlayersLabelEncodingBlock object at 0x141a1be20>_transform> start]\n",
      "[2021-07-29 02:28:14,344] [INFO] [<<__main__.PlayersLabelEncodingBlock object at 0x141a1be20>_transform> done in 0.00 s]\n",
      "[2021-07-29 02:28:14,428] [INFO] [<<__main__.PlayerStatsBlock object at 0x141a1b3a0>_update> start]\n"
     ]
    },
    {
     "output_type": "display_data",
     "data": {
      "text/plain": [
       "  0%|          | 0/430 [00:00<?, ?it/s]"
      ],
      "application/vnd.jupyter.widget-view+json": {
       "version_major": 2,
       "version_minor": 0,
       "model_id": "cff1d126c8464df98f0e532c932ec0d2"
      }
     },
     "metadata": {}
    },
    {
     "output_type": "display_data",
     "data": {
      "text/plain": [
       "  0%|          | 0/1187 [00:00<?, ?it/s]"
      ],
      "application/vnd.jupyter.widget-view+json": {
       "version_major": 2,
       "version_minor": 0,
       "model_id": "629a694b2093498b87e5d5160ff56020"
      }
     },
     "metadata": {}
    },
    {
     "output_type": "stream",
     "name": "stdout",
     "text": [
      "[2021-07-29 02:28:15,387] [INFO] [<<__main__.PlayerStatsBlock object at 0x141a1b3a0>_update> done in 0.96 s]\n",
      "[2021-07-29 02:28:15,389] [INFO] [<<__main__.TargetAggregateBlock object at 0x141a1bbe0>_transform> start]\n",
      "[2021-07-29 02:28:15,397] [INFO] [<<__main__.TargetAggregateBlock object at 0x141a1bbe0>_transform> done in 0.01 s]\n",
      "[2021-07-29 02:28:15,399] [INFO] [<<__main__.RostersLabelEncodingBlock object at 0x141a1b790>_transform> start]\n",
      "[2021-07-29 02:28:15,407] [INFO] [<<__main__.RostersLabelEncodingBlock object at 0x141a1b790>_transform> done in 0.01 s]\n",
      "[2021-07-29 02:28:15,410] [INFO] [<<__main__.PlayersLabelEncodingBlock object at 0x141a1be20>_transform> start]\n",
      "[2021-07-29 02:28:15,414] [INFO] [<<__main__.PlayersLabelEncodingBlock object at 0x141a1be20>_transform> done in 0.00 s]\n",
      "[2021-07-29 02:28:15,498] [INFO] [<<__main__.PlayerStatsBlock object at 0x141a1b3a0>_update> start]\n"
     ]
    },
    {
     "output_type": "display_data",
     "data": {
      "text/plain": [
       "  0%|          | 0/318 [00:00<?, ?it/s]"
      ],
      "application/vnd.jupyter.widget-view+json": {
       "version_major": 2,
       "version_minor": 0,
       "model_id": "a0e2be594beb412eadc3c68c46ab6d2b"
      }
     },
     "metadata": {}
    },
    {
     "output_type": "display_data",
     "data": {
      "text/plain": [
       "  0%|          | 0/1187 [00:00<?, ?it/s]"
      ],
      "application/vnd.jupyter.widget-view+json": {
       "version_major": 2,
       "version_minor": 0,
       "model_id": "183e3ad4da364c61932085f79e5c5eab"
      }
     },
     "metadata": {}
    },
    {
     "output_type": "stream",
     "name": "stdout",
     "text": [
      "[2021-07-29 02:28:16,393] [INFO] [<<__main__.PlayerStatsBlock object at 0x141a1b3a0>_update> done in 0.90 s]\n",
      "[2021-07-29 02:28:16,395] [INFO] [<<__main__.TargetAggregateBlock object at 0x141a1bbe0>_transform> start]\n",
      "[2021-07-29 02:28:16,402] [INFO] [<<__main__.TargetAggregateBlock object at 0x141a1bbe0>_transform> done in 0.01 s]\n",
      "[2021-07-29 02:28:16,404] [INFO] [<<__main__.RostersLabelEncodingBlock object at 0x141a1b790>_transform> start]\n",
      "[2021-07-29 02:28:16,412] [INFO] [<<__main__.RostersLabelEncodingBlock object at 0x141a1b790>_transform> done in 0.01 s]\n",
      "[2021-07-29 02:28:16,415] [INFO] [<<__main__.PlayersLabelEncodingBlock object at 0x141a1be20>_transform> start]\n",
      "[2021-07-29 02:28:16,420] [INFO] [<<__main__.PlayersLabelEncodingBlock object at 0x141a1be20>_transform> done in 0.00 s]\n",
      "[2021-07-29 02:28:16,515] [INFO] [<<__main__.PlayerStatsBlock object at 0x141a1b3a0>_update> start]\n"
     ]
    },
    {
     "output_type": "display_data",
     "data": {
      "text/plain": [
       "  0%|          | 0/451 [00:00<?, ?it/s]"
      ],
      "application/vnd.jupyter.widget-view+json": {
       "version_major": 2,
       "version_minor": 0,
       "model_id": "eec750b304014265b6d8ba1ef0c8478a"
      }
     },
     "metadata": {}
    },
    {
     "output_type": "display_data",
     "data": {
      "text/plain": [
       "  0%|          | 0/1187 [00:00<?, ?it/s]"
      ],
      "application/vnd.jupyter.widget-view+json": {
       "version_major": 2,
       "version_minor": 0,
       "model_id": "f6a485ac2aae476c9f25203a17a3f4e3"
      }
     },
     "metadata": {}
    },
    {
     "output_type": "stream",
     "name": "stdout",
     "text": [
      "[2021-07-29 02:28:17,446] [INFO] [<<__main__.PlayerStatsBlock object at 0x141a1b3a0>_update> done in 0.93 s]\n",
      "[2021-07-29 02:28:17,448] [INFO] [<<__main__.TargetAggregateBlock object at 0x141a1bbe0>_transform> start]\n",
      "[2021-07-29 02:28:17,456] [INFO] [<<__main__.TargetAggregateBlock object at 0x141a1bbe0>_transform> done in 0.01 s]\n",
      "[2021-07-29 02:28:17,458] [INFO] [<<__main__.RostersLabelEncodingBlock object at 0x141a1b790>_transform> start]\n",
      "[2021-07-29 02:28:17,467] [INFO] [<<__main__.RostersLabelEncodingBlock object at 0x141a1b790>_transform> done in 0.01 s]\n",
      "[2021-07-29 02:28:17,470] [INFO] [<<__main__.PlayersLabelEncodingBlock object at 0x141a1be20>_transform> start]\n",
      "[2021-07-29 02:28:17,475] [INFO] [<<__main__.PlayersLabelEncodingBlock object at 0x141a1be20>_transform> done in 0.00 s]\n",
      "[2021-07-29 02:28:17,555] [INFO] [<<__main__.PlayerStatsBlock object at 0x141a1b3a0>_update> start]\n"
     ]
    },
    {
     "output_type": "display_data",
     "data": {
      "text/plain": [
       "  0%|          | 0/438 [00:00<?, ?it/s]"
      ],
      "application/vnd.jupyter.widget-view+json": {
       "version_major": 2,
       "version_minor": 0,
       "model_id": "da9483e6a5c44d85b1a52aef503e6e5c"
      }
     },
     "metadata": {}
    },
    {
     "output_type": "display_data",
     "data": {
      "text/plain": [
       "  0%|          | 0/1187 [00:00<?, ?it/s]"
      ],
      "application/vnd.jupyter.widget-view+json": {
       "version_major": 2,
       "version_minor": 0,
       "model_id": "4796a5abfbe848b4b44042a8fb03c8f0"
      }
     },
     "metadata": {}
    },
    {
     "output_type": "stream",
     "name": "stdout",
     "text": [
      "[2021-07-29 02:28:18,478] [INFO] [<<__main__.PlayerStatsBlock object at 0x141a1b3a0>_update> done in 0.92 s]\n",
      "[2021-07-29 02:28:18,479] [INFO] [<<__main__.TargetAggregateBlock object at 0x141a1bbe0>_transform> start]\n",
      "[2021-07-29 02:28:18,487] [INFO] [<<__main__.TargetAggregateBlock object at 0x141a1bbe0>_transform> done in 0.01 s]\n",
      "[2021-07-29 02:28:18,489] [INFO] [<<__main__.RostersLabelEncodingBlock object at 0x141a1b790>_transform> start]\n",
      "[2021-07-29 02:28:18,497] [INFO] [<<__main__.RostersLabelEncodingBlock object at 0x141a1b790>_transform> done in 0.01 s]\n",
      "[2021-07-29 02:28:18,500] [INFO] [<<__main__.PlayersLabelEncodingBlock object at 0x141a1be20>_transform> start]\n",
      "[2021-07-29 02:28:18,504] [INFO] [<<__main__.PlayersLabelEncodingBlock object at 0x141a1be20>_transform> done in 0.00 s]\n",
      "[2021-07-29 02:28:18,588] [INFO] [<<__main__.PlayerStatsBlock object at 0x141a1b3a0>_update> start]\n"
     ]
    },
    {
     "output_type": "display_data",
     "data": {
      "text/plain": [
       "  0%|          | 0/447 [00:00<?, ?it/s]"
      ],
      "application/vnd.jupyter.widget-view+json": {
       "version_major": 2,
       "version_minor": 0,
       "model_id": "2ea8cf11366c41e3a65213ea4a29346a"
      }
     },
     "metadata": {}
    },
    {
     "output_type": "display_data",
     "data": {
      "text/plain": [
       "  0%|          | 0/1187 [00:00<?, ?it/s]"
      ],
      "application/vnd.jupyter.widget-view+json": {
       "version_major": 2,
       "version_minor": 0,
       "model_id": "3858596c7f3440af841b3405c2b998f2"
      }
     },
     "metadata": {}
    },
    {
     "output_type": "stream",
     "name": "stdout",
     "text": [
      "[2021-07-29 02:28:19,520] [INFO] [<<__main__.PlayerStatsBlock object at 0x141a1b3a0>_update> done in 0.93 s]\n",
      "[2021-07-29 02:28:19,521] [INFO] [<<__main__.TargetAggregateBlock object at 0x141a1bbe0>_transform> start]\n",
      "[2021-07-29 02:28:19,529] [INFO] [<<__main__.TargetAggregateBlock object at 0x141a1bbe0>_transform> done in 0.01 s]\n",
      "[2021-07-29 02:28:19,532] [INFO] [<<__main__.RostersLabelEncodingBlock object at 0x141a1b790>_transform> start]\n",
      "[2021-07-29 02:28:19,540] [INFO] [<<__main__.RostersLabelEncodingBlock object at 0x141a1b790>_transform> done in 0.01 s]\n",
      "[2021-07-29 02:28:19,543] [INFO] [<<__main__.PlayersLabelEncodingBlock object at 0x141a1be20>_transform> start]\n",
      "[2021-07-29 02:28:19,548] [INFO] [<<__main__.PlayersLabelEncodingBlock object at 0x141a1be20>_transform> done in 0.00 s]\n",
      "[2021-07-29 02:28:19,621] [INFO] [<<__main__.PlayerStatsBlock object at 0x141a1b3a0>_update> start]\n"
     ]
    },
    {
     "output_type": "display_data",
     "data": {
      "text/plain": [
       "  0%|          | 0/228 [00:00<?, ?it/s]"
      ],
      "application/vnd.jupyter.widget-view+json": {
       "version_major": 2,
       "version_minor": 0,
       "model_id": "4432b7d956104fb78f77bbce03965dd0"
      }
     },
     "metadata": {}
    },
    {
     "output_type": "display_data",
     "data": {
      "text/plain": [
       "  0%|          | 0/1187 [00:00<?, ?it/s]"
      ],
      "application/vnd.jupyter.widget-view+json": {
       "version_major": 2,
       "version_minor": 0,
       "model_id": "08e7725d36f54c05bc60a2709d6b91a1"
      }
     },
     "metadata": {}
    },
    {
     "output_type": "stream",
     "name": "stdout",
     "text": [
      "[2021-07-29 02:28:20,464] [INFO] [<<__main__.PlayerStatsBlock object at 0x141a1b3a0>_update> done in 0.84 s]\n",
      "[2021-07-29 02:28:20,465] [INFO] [<<__main__.TargetAggregateBlock object at 0x141a1bbe0>_transform> start]\n",
      "[2021-07-29 02:28:20,473] [INFO] [<<__main__.TargetAggregateBlock object at 0x141a1bbe0>_transform> done in 0.01 s]\n",
      "[2021-07-29 02:28:20,475] [INFO] [<<__main__.RostersLabelEncodingBlock object at 0x141a1b790>_transform> start]\n",
      "[2021-07-29 02:28:20,483] [INFO] [<<__main__.RostersLabelEncodingBlock object at 0x141a1b790>_transform> done in 0.01 s]\n",
      "[2021-07-29 02:28:20,486] [INFO] [<<__main__.PlayersLabelEncodingBlock object at 0x141a1be20>_transform> start]\n",
      "[2021-07-29 02:28:20,491] [INFO] [<<__main__.PlayersLabelEncodingBlock object at 0x141a1be20>_transform> done in 0.00 s]\n",
      "[2021-07-29 02:28:20,579] [INFO] [<<__main__.PlayerStatsBlock object at 0x141a1b3a0>_update> start]\n"
     ]
    },
    {
     "output_type": "display_data",
     "data": {
      "text/plain": [
       "  0%|          | 0/414 [00:00<?, ?it/s]"
      ],
      "application/vnd.jupyter.widget-view+json": {
       "version_major": 2,
       "version_minor": 0,
       "model_id": "16e02fdab49442c8bbf155414b05c5fc"
      }
     },
     "metadata": {}
    },
    {
     "output_type": "display_data",
     "data": {
      "text/plain": [
       "  0%|          | 0/1187 [00:00<?, ?it/s]"
      ],
      "application/vnd.jupyter.widget-view+json": {
       "version_major": 2,
       "version_minor": 0,
       "model_id": "c8ba73938aaa485da29de1d4b257947a"
      }
     },
     "metadata": {}
    },
    {
     "output_type": "stream",
     "name": "stdout",
     "text": [
      "[2021-07-29 02:28:21,485] [INFO] [<<__main__.PlayerStatsBlock object at 0x141a1b3a0>_update> done in 0.91 s]\n",
      "[2021-07-29 02:28:21,487] [INFO] [<<__main__.TargetAggregateBlock object at 0x141a1bbe0>_transform> start]\n",
      "[2021-07-29 02:28:21,494] [INFO] [<<__main__.TargetAggregateBlock object at 0x141a1bbe0>_transform> done in 0.01 s]\n",
      "[2021-07-29 02:28:21,496] [INFO] [<<__main__.RostersLabelEncodingBlock object at 0x141a1b790>_transform> start]\n",
      "[2021-07-29 02:28:21,504] [INFO] [<<__main__.RostersLabelEncodingBlock object at 0x141a1b790>_transform> done in 0.01 s]\n",
      "[2021-07-29 02:28:21,507] [INFO] [<<__main__.PlayersLabelEncodingBlock object at 0x141a1be20>_transform> start]\n",
      "[2021-07-29 02:28:21,511] [INFO] [<<__main__.PlayersLabelEncodingBlock object at 0x141a1be20>_transform> done in 0.00 s]\n",
      "[2021-07-29 02:28:21,596] [INFO] [<<__main__.PlayerStatsBlock object at 0x141a1b3a0>_update> start]\n"
     ]
    },
    {
     "output_type": "display_data",
     "data": {
      "text/plain": [
       "  0%|          | 0/377 [00:00<?, ?it/s]"
      ],
      "application/vnd.jupyter.widget-view+json": {
       "version_major": 2,
       "version_minor": 0,
       "model_id": "d762caf6b31f43a88c70a960724c87a5"
      }
     },
     "metadata": {}
    },
    {
     "output_type": "display_data",
     "data": {
      "text/plain": [
       "  0%|          | 0/1187 [00:00<?, ?it/s]"
      ],
      "application/vnd.jupyter.widget-view+json": {
       "version_major": 2,
       "version_minor": 0,
       "model_id": "96754c04595b4c8e90ebcb938cf280c7"
      }
     },
     "metadata": {}
    },
    {
     "output_type": "stream",
     "name": "stdout",
     "text": [
      "[2021-07-29 02:28:22,510] [INFO] [<<__main__.PlayerStatsBlock object at 0x141a1b3a0>_update> done in 0.91 s]\n",
      "[2021-07-29 02:28:22,511] [INFO] [<<__main__.TargetAggregateBlock object at 0x141a1bbe0>_transform> start]\n",
      "[2021-07-29 02:28:22,519] [INFO] [<<__main__.TargetAggregateBlock object at 0x141a1bbe0>_transform> done in 0.01 s]\n",
      "[2021-07-29 02:28:22,521] [INFO] [<<__main__.RostersLabelEncodingBlock object at 0x141a1b790>_transform> start]\n",
      "[2021-07-29 02:28:22,530] [INFO] [<<__main__.RostersLabelEncodingBlock object at 0x141a1b790>_transform> done in 0.01 s]\n",
      "[2021-07-29 02:28:22,533] [INFO] [<<__main__.PlayersLabelEncodingBlock object at 0x141a1be20>_transform> start]\n",
      "[2021-07-29 02:28:22,538] [INFO] [<<__main__.PlayersLabelEncodingBlock object at 0x141a1be20>_transform> done in 0.00 s]\n",
      "[2021-07-29 02:28:22,623] [INFO] [<<__main__.PlayerStatsBlock object at 0x141a1b3a0>_update> start]\n"
     ]
    },
    {
     "output_type": "display_data",
     "data": {
      "text/plain": [
       "  0%|          | 0/416 [00:00<?, ?it/s]"
      ],
      "application/vnd.jupyter.widget-view+json": {
       "version_major": 2,
       "version_minor": 0,
       "model_id": "6d90dbde28dc452f83df411798a56841"
      }
     },
     "metadata": {}
    },
    {
     "output_type": "display_data",
     "data": {
      "text/plain": [
       "  0%|          | 0/1187 [00:00<?, ?it/s]"
      ],
      "application/vnd.jupyter.widget-view+json": {
       "version_major": 2,
       "version_minor": 0,
       "model_id": "8a1e2ee7feab427e94499d8ac312de73"
      }
     },
     "metadata": {}
    },
    {
     "output_type": "stream",
     "name": "stdout",
     "text": [
      "[2021-07-29 02:28:23,547] [INFO] [<<__main__.PlayerStatsBlock object at 0x141a1b3a0>_update> done in 0.92 s]\n",
      "[2021-07-29 02:28:23,548] [INFO] [<<__main__.TargetAggregateBlock object at 0x141a1bbe0>_transform> start]\n",
      "[2021-07-29 02:28:23,555] [INFO] [<<__main__.TargetAggregateBlock object at 0x141a1bbe0>_transform> done in 0.01 s]\n",
      "[2021-07-29 02:28:23,558] [INFO] [<<__main__.RostersLabelEncodingBlock object at 0x141a1b790>_transform> start]\n",
      "[2021-07-29 02:28:23,566] [INFO] [<<__main__.RostersLabelEncodingBlock object at 0x141a1b790>_transform> done in 0.01 s]\n",
      "[2021-07-29 02:28:23,569] [INFO] [<<__main__.PlayersLabelEncodingBlock object at 0x141a1be20>_transform> start]\n",
      "[2021-07-29 02:28:23,573] [INFO] [<<__main__.PlayersLabelEncodingBlock object at 0x141a1be20>_transform> done in 0.00 s]\n",
      "[2021-07-29 02:28:23,649] [INFO] [<<__main__.PlayerStatsBlock object at 0x141a1b3a0>_update> start]\n"
     ]
    },
    {
     "output_type": "display_data",
     "data": {
      "text/plain": [
       "  0%|          | 0/286 [00:00<?, ?it/s]"
      ],
      "application/vnd.jupyter.widget-view+json": {
       "version_major": 2,
       "version_minor": 0,
       "model_id": "f96acd2dcf734c119f6b28def5f14db5"
      }
     },
     "metadata": {}
    },
    {
     "output_type": "display_data",
     "data": {
      "text/plain": [
       "  0%|          | 0/1187 [00:00<?, ?it/s]"
      ],
      "application/vnd.jupyter.widget-view+json": {
       "version_major": 2,
       "version_minor": 0,
       "model_id": "123a3755cc5a4407bd1a9162c220b703"
      }
     },
     "metadata": {}
    },
    {
     "output_type": "stream",
     "name": "stdout",
     "text": [
      "[2021-07-29 02:28:24,535] [INFO] [<<__main__.PlayerStatsBlock object at 0x141a1b3a0>_update> done in 0.89 s]\n",
      "[2021-07-29 02:28:24,537] [INFO] [<<__main__.TargetAggregateBlock object at 0x141a1bbe0>_transform> start]\n",
      "[2021-07-29 02:28:24,544] [INFO] [<<__main__.TargetAggregateBlock object at 0x141a1bbe0>_transform> done in 0.01 s]\n",
      "[2021-07-29 02:28:24,546] [INFO] [<<__main__.RostersLabelEncodingBlock object at 0x141a1b790>_transform> start]\n",
      "[2021-07-29 02:28:24,555] [INFO] [<<__main__.RostersLabelEncodingBlock object at 0x141a1b790>_transform> done in 0.01 s]\n",
      "[2021-07-29 02:28:24,559] [INFO] [<<__main__.PlayersLabelEncodingBlock object at 0x141a1be20>_transform> start]\n",
      "[2021-07-29 02:28:24,563] [INFO] [<<__main__.PlayersLabelEncodingBlock object at 0x141a1be20>_transform> done in 0.00 s]\n",
      "[2021-07-29 02:28:24,659] [INFO] [<<__main__.PlayerStatsBlock object at 0x141a1b3a0>_update> start]\n"
     ]
    },
    {
     "output_type": "display_data",
     "data": {
      "text/plain": [
       "  0%|          | 0/484 [00:00<?, ?it/s]"
      ],
      "application/vnd.jupyter.widget-view+json": {
       "version_major": 2,
       "version_minor": 0,
       "model_id": "badda7ede8de4e06813764eee1b81639"
      }
     },
     "metadata": {}
    },
    {
     "output_type": "display_data",
     "data": {
      "text/plain": [
       "  0%|          | 0/1187 [00:00<?, ?it/s]"
      ],
      "application/vnd.jupyter.widget-view+json": {
       "version_major": 2,
       "version_minor": 0,
       "model_id": "54b5154434e24eaf8380cfc3af28ead0"
      }
     },
     "metadata": {}
    },
    {
     "output_type": "stream",
     "name": "stdout",
     "text": [
      "[2021-07-29 02:28:25,631] [INFO] [<<__main__.PlayerStatsBlock object at 0x141a1b3a0>_update> done in 0.97 s]\n",
      "[2021-07-29 02:28:25,633] [INFO] [<<__main__.TargetAggregateBlock object at 0x141a1bbe0>_transform> start]\n",
      "[2021-07-29 02:28:25,640] [INFO] [<<__main__.TargetAggregateBlock object at 0x141a1bbe0>_transform> done in 0.01 s]\n",
      "[2021-07-29 02:28:25,642] [INFO] [<<__main__.RostersLabelEncodingBlock object at 0x141a1b790>_transform> start]\n",
      "[2021-07-29 02:28:25,649] [INFO] [<<__main__.RostersLabelEncodingBlock object at 0x141a1b790>_transform> done in 0.01 s]\n",
      "[2021-07-29 02:28:25,653] [INFO] [<<__main__.PlayersLabelEncodingBlock object at 0x141a1be20>_transform> start]\n",
      "[2021-07-29 02:28:25,658] [INFO] [<<__main__.PlayersLabelEncodingBlock object at 0x141a1be20>_transform> done in 0.01 s]\n",
      "[2021-07-29 02:28:25,740] [INFO] [<<__main__.PlayerStatsBlock object at 0x141a1b3a0>_update> start]\n"
     ]
    },
    {
     "output_type": "display_data",
     "data": {
      "text/plain": [
       "  0%|          | 0/386 [00:00<?, ?it/s]"
      ],
      "application/vnd.jupyter.widget-view+json": {
       "version_major": 2,
       "version_minor": 0,
       "model_id": "7312ebc7302a4b5eb4bbc5d0e651cd45"
      }
     },
     "metadata": {}
    },
    {
     "output_type": "display_data",
     "data": {
      "text/plain": [
       "  0%|          | 0/1187 [00:00<?, ?it/s]"
      ],
      "application/vnd.jupyter.widget-view+json": {
       "version_major": 2,
       "version_minor": 0,
       "model_id": "051137d5214943f09a0f28fda1b4fba7"
      }
     },
     "metadata": {}
    },
    {
     "output_type": "stream",
     "name": "stdout",
     "text": [
      "[2021-07-29 02:28:26,678] [INFO] [<<__main__.PlayerStatsBlock object at 0x141a1b3a0>_update> done in 0.94 s]\n",
      "[2021-07-29 02:28:26,680] [INFO] [<<__main__.TargetAggregateBlock object at 0x141a1bbe0>_transform> start]\n",
      "[2021-07-29 02:28:26,688] [INFO] [<<__main__.TargetAggregateBlock object at 0x141a1bbe0>_transform> done in 0.01 s]\n",
      "[2021-07-29 02:28:26,690] [INFO] [<<__main__.RostersLabelEncodingBlock object at 0x141a1b790>_transform> start]\n",
      "[2021-07-29 02:28:26,699] [INFO] [<<__main__.RostersLabelEncodingBlock object at 0x141a1b790>_transform> done in 0.01 s]\n",
      "[2021-07-29 02:28:26,702] [INFO] [<<__main__.PlayersLabelEncodingBlock object at 0x141a1be20>_transform> start]\n",
      "[2021-07-29 02:28:26,707] [INFO] [<<__main__.PlayersLabelEncodingBlock object at 0x141a1be20>_transform> done in 0.00 s]\n",
      "[2021-07-29 02:28:26,795] [INFO] [<<__main__.PlayerStatsBlock object at 0x141a1b3a0>_update> start]\n"
     ]
    },
    {
     "output_type": "display_data",
     "data": {
      "text/plain": [
       "  0%|          | 0/405 [00:00<?, ?it/s]"
      ],
      "application/vnd.jupyter.widget-view+json": {
       "version_major": 2,
       "version_minor": 0,
       "model_id": "0b19ee158592430cbf440df69f0a004c"
      }
     },
     "metadata": {}
    },
    {
     "output_type": "display_data",
     "data": {
      "text/plain": [
       "  0%|          | 0/1187 [00:00<?, ?it/s]"
      ],
      "application/vnd.jupyter.widget-view+json": {
       "version_major": 2,
       "version_minor": 0,
       "model_id": "cfd119db49ba4253af9cb39ec1078fb2"
      }
     },
     "metadata": {}
    },
    {
     "output_type": "stream",
     "name": "stdout",
     "text": [
      "[2021-07-29 02:28:27,717] [INFO] [<<__main__.PlayerStatsBlock object at 0x141a1b3a0>_update> done in 0.92 s]\n",
      "[2021-07-29 02:28:27,719] [INFO] [<<__main__.TargetAggregateBlock object at 0x141a1bbe0>_transform> start]\n",
      "[2021-07-29 02:28:27,727] [INFO] [<<__main__.TargetAggregateBlock object at 0x141a1bbe0>_transform> done in 0.01 s]\n",
      "[2021-07-29 02:28:27,729] [INFO] [<<__main__.RostersLabelEncodingBlock object at 0x141a1b790>_transform> start]\n",
      "[2021-07-29 02:28:27,737] [INFO] [<<__main__.RostersLabelEncodingBlock object at 0x141a1b790>_transform> done in 0.01 s]\n",
      "[2021-07-29 02:28:27,740] [INFO] [<<__main__.PlayersLabelEncodingBlock object at 0x141a1be20>_transform> start]\n",
      "[2021-07-29 02:28:27,746] [INFO] [<<__main__.PlayersLabelEncodingBlock object at 0x141a1be20>_transform> done in 0.01 s]\n"
     ]
    }
   ],
   "metadata": {}
  },
  {
   "cell_type": "code",
   "execution_count": 17,
   "source": [
    "prediction_df = env.prediction_df.copy()\n",
    "prediction_df.columns = [\"date_playerId\", \"target1_pred\", \"target2_pred\", \"target3_pred\", \"target4_pred\"]\n",
    "prediction_df[\"playerId\"] = prediction_df[\"date_playerId\"].map(lambda x: int(x.split(\"_\")[1]))\n",
    "prediction_df[\"engagementMetricsDate\"] = prediction_df[\"date_playerId\"].map(lambda x: x.split(\"_\")[0])\n",
    "prediction_df[\"engagementMetricsDate\"] = prediction_df[\"engagementMetricsDate\"].map(lambda x: x[:4] + \"-\" + x[4:6] + \"-\" + x[6:])\n",
    "prediction_df = prediction_df.merge(mlb_train_ds.train_next.drop(columns=\"date\"), on=[\"playerId\", \"engagementMetricsDate\"], how=\"left\")\n",
    "prediction_df"
   ],
   "outputs": [
    {
     "output_type": "execute_result",
     "data": {
      "text/plain": [
       "         date_playerId  target1_pred  target2_pred  target3_pred  \\\n",
       "0      20210502_593590      0.000002      0.062290  2.883843e-15   \n",
       "1      20210502_661269      0.000099      0.277554  5.673574e-03   \n",
       "2      20210502_669212      0.000002      0.231441  2.883843e-15   \n",
       "3      20210502_666201      0.007443      0.268310  1.604534e-02   \n",
       "4      20210502_680911      0.000346      0.301540  1.554175e-03   \n",
       "...                ...           ...           ...           ...   \n",
       "36792  20210601_667674      0.000002      0.051142  2.883843e-15   \n",
       "36793  20210601_672695      0.007901      0.047099  1.387167e-01   \n",
       "36794  20210601_676103      0.000002      0.334118  5.880379e-03   \n",
       "36795  20210601_676755      0.000002      0.133208  2.883843e-15   \n",
       "36796  20210601_680430      0.000002      0.261503  2.883843e-15   \n",
       "\n",
       "       target4_pred  playerId engagementMetricsDate   target1   target2  \\\n",
       "0          0.105623    593590            2021-05-02  0.000000  0.011553   \n",
       "1          0.193293    661269            2021-05-02  0.000136  0.107825   \n",
       "2          0.119204    669212            2021-05-02  0.000000  0.057763   \n",
       "3          0.367268    666201            2021-05-02  0.107086  0.061614   \n",
       "4          0.132942    680911            2021-05-02  0.000272  0.042360   \n",
       "...             ...       ...                   ...       ...       ...   \n",
       "36792      0.187348    667674            2021-06-01  0.000000  0.074042   \n",
       "36793      0.166795    672695            2021-06-01  0.000284  0.058617   \n",
       "36794      0.527947    676103            2021-06-01  0.000000  0.055532   \n",
       "36795      0.182330    676755            2021-06-01  0.000000  0.058617   \n",
       "36796      0.105623    680430            2021-06-01  0.000000  0.114148   \n",
       "\n",
       "        target3   target4  \n",
       "0      0.000000  0.000000  \n",
       "1      0.001989  0.085262  \n",
       "2      0.000000  0.012180  \n",
       "3      0.025851  0.816078  \n",
       "4      0.000000  0.085262  \n",
       "...         ...       ...  \n",
       "36792  0.000000  0.065641  \n",
       "36793  0.119955  0.103151  \n",
       "36794  0.003272  0.853338  \n",
       "36795  0.000000  0.121905  \n",
       "36796  0.000000  0.112528  \n",
       "\n",
       "[36797 rows x 11 columns]"
      ],
      "text/html": [
       "<div>\n",
       "<style scoped>\n",
       "    .dataframe tbody tr th:only-of-type {\n",
       "        vertical-align: middle;\n",
       "    }\n",
       "\n",
       "    .dataframe tbody tr th {\n",
       "        vertical-align: top;\n",
       "    }\n",
       "\n",
       "    .dataframe thead th {\n",
       "        text-align: right;\n",
       "    }\n",
       "</style>\n",
       "<table border=\"1\" class=\"dataframe\">\n",
       "  <thead>\n",
       "    <tr style=\"text-align: right;\">\n",
       "      <th></th>\n",
       "      <th>date_playerId</th>\n",
       "      <th>target1_pred</th>\n",
       "      <th>target2_pred</th>\n",
       "      <th>target3_pred</th>\n",
       "      <th>target4_pred</th>\n",
       "      <th>playerId</th>\n",
       "      <th>engagementMetricsDate</th>\n",
       "      <th>target1</th>\n",
       "      <th>target2</th>\n",
       "      <th>target3</th>\n",
       "      <th>target4</th>\n",
       "    </tr>\n",
       "  </thead>\n",
       "  <tbody>\n",
       "    <tr>\n",
       "      <th>0</th>\n",
       "      <td>20210502_593590</td>\n",
       "      <td>0.000002</td>\n",
       "      <td>0.062290</td>\n",
       "      <td>2.883843e-15</td>\n",
       "      <td>0.105623</td>\n",
       "      <td>593590</td>\n",
       "      <td>2021-05-02</td>\n",
       "      <td>0.000000</td>\n",
       "      <td>0.011553</td>\n",
       "      <td>0.000000</td>\n",
       "      <td>0.000000</td>\n",
       "    </tr>\n",
       "    <tr>\n",
       "      <th>1</th>\n",
       "      <td>20210502_661269</td>\n",
       "      <td>0.000099</td>\n",
       "      <td>0.277554</td>\n",
       "      <td>5.673574e-03</td>\n",
       "      <td>0.193293</td>\n",
       "      <td>661269</td>\n",
       "      <td>2021-05-02</td>\n",
       "      <td>0.000136</td>\n",
       "      <td>0.107825</td>\n",
       "      <td>0.001989</td>\n",
       "      <td>0.085262</td>\n",
       "    </tr>\n",
       "    <tr>\n",
       "      <th>2</th>\n",
       "      <td>20210502_669212</td>\n",
       "      <td>0.000002</td>\n",
       "      <td>0.231441</td>\n",
       "      <td>2.883843e-15</td>\n",
       "      <td>0.119204</td>\n",
       "      <td>669212</td>\n",
       "      <td>2021-05-02</td>\n",
       "      <td>0.000000</td>\n",
       "      <td>0.057763</td>\n",
       "      <td>0.000000</td>\n",
       "      <td>0.012180</td>\n",
       "    </tr>\n",
       "    <tr>\n",
       "      <th>3</th>\n",
       "      <td>20210502_666201</td>\n",
       "      <td>0.007443</td>\n",
       "      <td>0.268310</td>\n",
       "      <td>1.604534e-02</td>\n",
       "      <td>0.367268</td>\n",
       "      <td>666201</td>\n",
       "      <td>2021-05-02</td>\n",
       "      <td>0.107086</td>\n",
       "      <td>0.061614</td>\n",
       "      <td>0.025851</td>\n",
       "      <td>0.816078</td>\n",
       "    </tr>\n",
       "    <tr>\n",
       "      <th>4</th>\n",
       "      <td>20210502_680911</td>\n",
       "      <td>0.000346</td>\n",
       "      <td>0.301540</td>\n",
       "      <td>1.554175e-03</td>\n",
       "      <td>0.132942</td>\n",
       "      <td>680911</td>\n",
       "      <td>2021-05-02</td>\n",
       "      <td>0.000272</td>\n",
       "      <td>0.042360</td>\n",
       "      <td>0.000000</td>\n",
       "      <td>0.085262</td>\n",
       "    </tr>\n",
       "    <tr>\n",
       "      <th>...</th>\n",
       "      <td>...</td>\n",
       "      <td>...</td>\n",
       "      <td>...</td>\n",
       "      <td>...</td>\n",
       "      <td>...</td>\n",
       "      <td>...</td>\n",
       "      <td>...</td>\n",
       "      <td>...</td>\n",
       "      <td>...</td>\n",
       "      <td>...</td>\n",
       "      <td>...</td>\n",
       "    </tr>\n",
       "    <tr>\n",
       "      <th>36792</th>\n",
       "      <td>20210601_667674</td>\n",
       "      <td>0.000002</td>\n",
       "      <td>0.051142</td>\n",
       "      <td>2.883843e-15</td>\n",
       "      <td>0.187348</td>\n",
       "      <td>667674</td>\n",
       "      <td>2021-06-01</td>\n",
       "      <td>0.000000</td>\n",
       "      <td>0.074042</td>\n",
       "      <td>0.000000</td>\n",
       "      <td>0.065641</td>\n",
       "    </tr>\n",
       "    <tr>\n",
       "      <th>36793</th>\n",
       "      <td>20210601_672695</td>\n",
       "      <td>0.007901</td>\n",
       "      <td>0.047099</td>\n",
       "      <td>1.387167e-01</td>\n",
       "      <td>0.166795</td>\n",
       "      <td>672695</td>\n",
       "      <td>2021-06-01</td>\n",
       "      <td>0.000284</td>\n",
       "      <td>0.058617</td>\n",
       "      <td>0.119955</td>\n",
       "      <td>0.103151</td>\n",
       "    </tr>\n",
       "    <tr>\n",
       "      <th>36794</th>\n",
       "      <td>20210601_676103</td>\n",
       "      <td>0.000002</td>\n",
       "      <td>0.334118</td>\n",
       "      <td>5.880379e-03</td>\n",
       "      <td>0.527947</td>\n",
       "      <td>676103</td>\n",
       "      <td>2021-06-01</td>\n",
       "      <td>0.000000</td>\n",
       "      <td>0.055532</td>\n",
       "      <td>0.003272</td>\n",
       "      <td>0.853338</td>\n",
       "    </tr>\n",
       "    <tr>\n",
       "      <th>36795</th>\n",
       "      <td>20210601_676755</td>\n",
       "      <td>0.000002</td>\n",
       "      <td>0.133208</td>\n",
       "      <td>2.883843e-15</td>\n",
       "      <td>0.182330</td>\n",
       "      <td>676755</td>\n",
       "      <td>2021-06-01</td>\n",
       "      <td>0.000000</td>\n",
       "      <td>0.058617</td>\n",
       "      <td>0.000000</td>\n",
       "      <td>0.121905</td>\n",
       "    </tr>\n",
       "    <tr>\n",
       "      <th>36796</th>\n",
       "      <td>20210601_680430</td>\n",
       "      <td>0.000002</td>\n",
       "      <td>0.261503</td>\n",
       "      <td>2.883843e-15</td>\n",
       "      <td>0.105623</td>\n",
       "      <td>680430</td>\n",
       "      <td>2021-06-01</td>\n",
       "      <td>0.000000</td>\n",
       "      <td>0.114148</td>\n",
       "      <td>0.000000</td>\n",
       "      <td>0.112528</td>\n",
       "    </tr>\n",
       "  </tbody>\n",
       "</table>\n",
       "<p>36797 rows × 11 columns</p>\n",
       "</div>"
      ]
     },
     "metadata": {},
     "execution_count": 17
    }
   ],
   "metadata": {}
  },
  {
   "cell_type": "code",
   "execution_count": 18,
   "source": [
    "score = []\n",
    "for i in CFG.TARGETS:\n",
    "    pred = prediction_df[f\"{i}_pred\"]\n",
    "    true = prediction_df[i]\n",
    "    mae = mean_absolute_error(pred, true)\n",
    "    print(f\"{i} mae : {mae}\")\n",
    "    score.append(mae)\n",
    "\n",
    "print(f\"MCMAE:{np.mean(score)}\")"
   ],
   "outputs": [
    {
     "output_type": "stream",
     "name": "stdout",
     "text": [
      "target1 mae : 1.1404860437551771\n",
      "target2 mae : 2.302236116276499\n",
      "target3 mae : 0.8757826346202646\n",
      "target4 mae : 1.237248090953393\n",
      "MCMAE:1.3889382214013333\n"
     ]
    }
   ],
   "metadata": {}
  },
  {
   "cell_type": "code",
   "execution_count": null,
   "source": [],
   "outputs": [],
   "metadata": {}
  }
 ],
 "metadata": {
  "orig_nbformat": 4,
  "language_info": {
   "name": "python",
   "version": "3.8.8",
   "mimetype": "text/x-python",
   "codemirror_mode": {
    "name": "ipython",
    "version": 3
   },
   "pygments_lexer": "ipython3",
   "nbconvert_exporter": "python",
   "file_extension": ".py"
  },
  "kernelspec": {
   "name": "python3",
   "display_name": "Python 3.8.8 64-bit ('.venv': poetry)"
  },
  "interpreter": {
   "hash": "49e542643694108dbc7cdf9f60531ad0f8dd36c5e7a125d96861557f43e4f65e"
  }
 },
 "nbformat": 4,
 "nbformat_minor": 2
}