{
 "cells": [
  {
   "cell_type": "markdown",
   "source": [
    "# Overview\n",
    "- LightGBM"
   ],
   "metadata": {}
  },
  {
   "cell_type": "code",
   "execution_count": 1,
   "source": [
    "import numpy as np\n",
    "import pandas as pd\n",
    "from pathlib import Path\n",
    "from sklearn.metrics import mean_absolute_error\n",
    "from datetime import timedelta\n",
    "from tqdm.notebook import tqdm\n",
    "import lightgbm as lgb\n",
    "from typing import List, Union, Optional\n",
    "import time\n",
    "from contextlib import contextmanager\n",
    "import sys\n",
    "import logging\n",
    "import category_encoders as ce\n",
    "import plotly\n",
    "from plotly import express as px\n",
    "from scipy.stats import norm\n",
    "# from optuna.integration import lightgbm as lgb\n",
    "# import mlb\n",
    "import os\n",
    "import warnings\n",
    "from typing import Optional, Tuple\n",
    "from tqdm.notebook import tqdm\n",
    "from collections import defaultdict\n",
    "\n",
    "pd.options.display.max_columns = 200\n",
    "\n",
    "DEBUG = False"
   ],
   "outputs": [],
   "metadata": {}
  },
  {
   "cell_type": "markdown",
   "source": [
    "## Config"
   ],
   "metadata": {}
  },
  {
   "cell_type": "code",
   "execution_count": 2,
   "source": [
    "class CFG:\n",
    "    ######################\n",
    "    # global #\n",
    "    ######################\n",
    "    INPUT_DIR = \"../input/mlb-player-digital-engagement-forecasting\"\n",
    "    # INPUT_DIR = \"../input/mlb-unnested-dataset-v2\" # for kaggle kernel\n",
    "    OBJECT_ID = [\"playerId\", \"date\"]\n",
    "    TARGETS = [\"target1\", \"target2\", \"target3\", \"target4\"]\n",
    "    ######################\n",
    "    # model #\n",
    "    ######################\n",
    "    # target1\n",
    "    LGB_TARGET1_PARAMS = {\n",
    "        \"objective\": \"mae\",\n",
    "        \"metric\": \"l1\",\n",
    "        \"boosting_type\": \"gbdt\",\n",
    "        \"learning_rate\": 0.1,\n",
    "        \"max_depth\": 6,\n",
    "        \"num_leaves\": 54,\n",
    "        \"lambda_l1\": 1.8294424356946235e-07,\n",
    "        \"lambda_l2\": 8.269494679852943e-05,\n",
    "        \"bagging_fraction\": 0.9311050425278897,\n",
    "        \"bagging_freq\": 2,\n",
    "        \"feature_fraction\": 0.9840000000000001,\n",
    "        \"min_data_in_leaf\": 20,\n",
    "        \"num_threads\": 8,\n",
    "        \"verbosity\": -1,\n",
    "        \"num_iterations\": 10000,\n",
    "        \"early_stopping_round\": 100,\n",
    "    }\n",
    "    # target2\n",
    "    LGB_TARGET2_PARAMS = {\n",
    "        \"objective\": \"mae\",\n",
    "        \"metric\": \"l1\",\n",
    "        \"boosting_type\": \"gbdt\",\n",
    "        \"learning_rate\": 0.1,\n",
    "        \"max_depth\": 6,\n",
    "        \"num_leaves\": 14,\n",
    "        \"lambda_l1\": 4.379035512071324e-06,\n",
    "        \"lambda_l2\": 5.940520594400555e-05,\n",
    "        \"bagging_fraction\": 1.0,\n",
    "        \"bagging_freq\": 0,\n",
    "        \"feature_fraction\": 0.5,\n",
    "        \"min_data_in_leaf\": 20,\n",
    "        \"num_threads\": 8,\n",
    "        \"verbosity\": -1,\n",
    "        \"num_iterations\": 10000,\n",
    "        \"early_stopping_round\": 100,\n",
    "    }\n",
    "    # target3\n",
    "    LGB_TARGET3_PARAMS = {\n",
    "        \"objective\": \"mae\",\n",
    "        \"metric\": \"l1\",\n",
    "        \"boosting_type\": \"gbdt\",\n",
    "        \"learning_rate\": 0.1,\n",
    "        \"max_depth\": 6,\n",
    "        \"num_leaves\": 64,\n",
    "        \"lambda_l1\": 0.011234793539671765,\n",
    "        \"lambda_l2\": 4.766835836661758e-06,\n",
    "        \"bagging_fraction\": 0.8841726515054378,\n",
    "        \"bagging_freq\": 3,\n",
    "        \"feature_fraction\": 1.0,\n",
    "        \"min_data_in_leaf\": 100,\n",
    "        \"num_threads\": 8,\n",
    "        \"verbosity\": -1,\n",
    "        \"num_iterations\": 10000,\n",
    "        \"early_stopping_round\": 100,\n",
    "    }\n",
    "    # target4\n",
    "    LGB_TARGET4_PARAMS = {\n",
    "        \"objective\": \"mae\",\n",
    "        \"metric\": \"l1\",\n",
    "        \"boosting_type\": \"gbdt\",\n",
    "        \"learning_rate\": 0.1,\n",
    "        \"max_depth\": 6,\n",
    "        \"num_leaves\": 51,\n",
    "        \"lambda_l1\": 5.506356543008336,\n",
    "        \"lambda_l2\": 9.683199146595637,\n",
    "        \"bagging_fraction\": 0.7376768451562011,\n",
    "        \"bagging_freq\": 2,\n",
    "        \"feature_fraction\": 0.5,\n",
    "        \"min_data_in_leaf\": 20,\n",
    "        \"num_threads\": 8,\n",
    "        \"verbosity\": -1,\n",
    "        \"num_iterations\": 10000,\n",
    "        \"early_stopping_round\": 100,\n",
    "    }\n",
    "    SEEDS = [2434]\n",
    "    MODEL_PATH = \"../output/nb023\"\n",
    "    # MODEL_PATH = \"../input/mlb-nb023-lgb-weights\" # for kaggle kernel"
   ],
   "outputs": [],
   "metadata": {}
  },
  {
   "cell_type": "markdown",
   "source": [
    "## Utils"
   ],
   "metadata": {}
  },
  {
   "cell_type": "code",
   "execution_count": 3,
   "source": [
    "def get_logger(out_file=None):\n",
    "    logger = logging.getLogger()  # loggerの呼び出し\n",
    "    formatter = logging.Formatter(\"[%(asctime)s] [%(levelname)s] [%(message)s]\")  # ログ出力の際のフォーマットを定義\n",
    "    logger.handlers = []  # ハンドラーを追加するためのリスト\n",
    "    logger.setLevel(logging.INFO)  # ロギングのレベルを設定, 'INFO' : 想定された通りのことが起こったことの確認\n",
    "\n",
    "    handler = logging.StreamHandler(sys.stdout)  # StreamHandler(コンソールに出力するハンドラ)を追加\n",
    "    handler.setFormatter(formatter)\n",
    "    handler.setLevel(logging.INFO)\n",
    "    logger.addHandler(handler)\n",
    "\n",
    "    # ログをファイルとして出力する際のハンドラ(FileHandler)\n",
    "    if out_file is not None:\n",
    "        fh = logging.FileHandler(out_file)\n",
    "        fh.setFormatter(formatter)\n",
    "        fh.setLevel(logging.INFO)\n",
    "        logger.addHandler(fh)\n",
    "\n",
    "    logger.info(\"logger set up\")  # \"logger set up\"を表示\n",
    "    return logger\n",
    "\n",
    "\n",
    "@contextmanager\n",
    "def timer(name: str, logger: Optional[logging.Logger] = None):\n",
    "    t0 = time.time()\n",
    "    msg = f\"<{name}> start\"\n",
    "    if logger is None:\n",
    "        print(msg)\n",
    "    else:\n",
    "        logger.info(msg)\n",
    "    yield\n",
    "\n",
    "    msg = f\"<{name}> done in {time.time() - t0:.2f} s\"\n",
    "    if logger is None:\n",
    "        print(msg)\n",
    "    else:\n",
    "        logger.info(msg)\n",
    "\n",
    "\n",
    "def reduce_mem_usage(df, verbose=True):\n",
    "    numerics = ['int16', 'int32', 'int64', 'float16', 'float32', 'float64']\n",
    "    start_mem = df.memory_usage().sum() / 1024**2\n",
    "    for col in df.columns:\n",
    "        col_type = df[col].dtypes\n",
    "        if col_type in numerics:\n",
    "            c_min = df[col].min()\n",
    "            c_max = df[col].max()\n",
    "            if str(col_type)[:3] == 'int':\n",
    "                if c_min > np.iinfo(np.int8).min and c_max < np.iinfo(np.int8).max:\n",
    "                    df[col] = df[col].astype(np.int16)\n",
    "                elif c_min > np.iinfo(np.int16).min and c_max < np.iinfo(np.int16).max:\n",
    "                    df[col] = df[col].astype(np.int32)\n",
    "                elif c_min > np.iinfo(np.int32).min and c_max < np.iinfo(np.int32).max:\n",
    "                    df[col] = df[col].astype(np.int64)\n",
    "                elif c_min > np.iinfo(np.int64).min and c_max < np.iinfo(np.int64).max:\n",
    "                    df[col] = df[col].astype(np.int64)\n",
    "            else:\n",
    "                if c_min > np.finfo(np.float16).min and c_max < np.finfo(np.float16).max:\n",
    "                    df[col] = df[col].astype(np.float32)\n",
    "                elif c_min > np.finfo(np.float32).min and c_max < np.finfo(np.float32).max:\n",
    "                    df[col] = df[col].astype(np.float64)\n",
    "                else:\n",
    "                    df[col] = df[col].astype(np.float64)\n",
    "    end_mem = df.memory_usage().sum() / 1024**2\n",
    "    if verbose: print('Mem. usage decreased to {:5.2f} Mb ({:.1f}% reduction)'.format(end_mem, 100 * (start_mem - end_mem) / start_mem))\n",
    "    return df"
   ],
   "outputs": [],
   "metadata": {}
  },
  {
   "cell_type": "markdown",
   "source": [
    "## Loading dataset"
   ],
   "metadata": {}
  },
  {
   "cell_type": "code",
   "execution_count": 4,
   "source": [
    "class MLBDataset(object):\n",
    "    def __init__(self, input_path):\n",
    "        self.input_path = Path(input_path)\n",
    "        #################\n",
    "        # train #\n",
    "        #################\n",
    "        self.train_next = pd.read_pickle(self.input_path / \"train_updated_nextDayPlayerEngagement.pickle\")\n",
    "        self.train_rosters = pd.read_pickle(self.input_path / \"train_updated_rosters.pickle\")\n",
    "        self.train_ptf = pd.read_pickle(self.input_path / \"train_updated_playerTwitterFollowers.pickle\")\n",
    "        self.train_scores = pd.read_pickle(self.input_path / \"train_updated_playerBoxScores.pickle\")\n",
    "        self.train_games = pd.read_pickle(self.input_path / \"train_updated_games.pickle\")\n",
    "        self.train_standings = pd.read_pickle(self.input_path / \"train_updated_standings.pickle\")\n",
    "        self.train_tbs = pd.read_pickle(self.input_path / \"train_updated_teamBoxScores.pickle\")\n",
    "        self.train_ttf = pd.read_pickle(self.input_path / \"train_updated_teamTwitterFollowers.pickle\")\n",
    "        self.train_trans = pd.read_pickle(self.input_path / \"train_updated_transactions.pickle\")\n",
    "        self.train_awards = pd.read_pickle(self.input_path / \"train_updated_awards.pickle\")\n",
    "        self.train_events = pd.read_pickle(self.input_path / \"train_updated_events.pickle\")\n",
    "        #################\n",
    "        # Additional #\n",
    "        #################\n",
    "        self.players = pd.read_pickle(self.input_path / \"players.pickle\")\n",
    "        self.awards = pd.read_pickle(self.input_path / \"awards.pickle\")\n",
    "        self.seasons = pd.read_pickle(self.input_path / \"seasons.pickle\")\n",
    "        self.teams = pd.read_pickle(self.input_path / \"teams.pickle\")\n",
    "        #################\n",
    "        # test #\n",
    "        #################\n",
    "        self.example_test = pd.read_csv(self.input_path / \"example_test.csv\")\n",
    "        self.sample_submission = pd.read_csv(self.input_path / \"example_sample_submission.csv\")\n",
    "\n",
    "        # # only players in test set\n",
    "        # target_playerids = self.players[self.players[\"playerForTestSetAndFuturePreds\"] == True][\"playerId\"].unique()\n",
    "        # self.train_next = self.train_next[self.train_next[\"playerId\"].isin(target_playerids)].reset_index(drop=True)\n",
    "\n",
    "mlb_train_ds = MLBDataset(CFG.INPUT_DIR)"
   ],
   "outputs": [],
   "metadata": {}
  },
  {
   "cell_type": "markdown",
   "source": [
    "## Feature blocks"
   ],
   "metadata": {}
  },
  {
   "cell_type": "code",
   "execution_count": 5,
   "source": [
    "def merge_by_key(left: Union[pd.DataFrame, pd.Series], right: pd.DataFrame, on=CFG.OBJECT_ID) -> pd.DataFrame:\n",
    "    if not isinstance(left, pd.Series):\n",
    "        left = left[on]\n",
    "    return pd.merge(left, right, on=on, how=\"left\").drop(columns=on)\n",
    "\n",
    "\n",
    "class BaseBlock(object):\n",
    "    def fit(self, input_df: pd.DataFrame, y=None) -> pd.DataFrame:\n",
    "        return self.transform(input_df)\n",
    "\n",
    "    def transform(self, input_df: pd.DataFrame) -> pd.DataFrame:\n",
    "        return NotImplementedError()\n",
    "\n",
    "\n",
    "def quantile25(x: pd.Series):\n",
    "    return x.quantile(q=0.25)\n",
    "\n",
    "\n",
    "def quantile75(x: pd.Series):\n",
    "    return x.quantile(q=0.75)\n",
    "\n",
    "\n",
    "def prob(x: pd.Series):\n",
    "    x = x.reset_index(drop=True).values.tolist()\n",
    "    mean = np.mean(x)\n",
    "    std = np.std(x)\n",
    "    distribution = norm(mean, std)\n",
    "    min_weight = min(x)\n",
    "    max_weight = max(x)\n",
    "    values = list(np.linspace(min_weight, max_weight))\n",
    "    probabilities = [distribution.pdf(v) for v in values]\n",
    "    max_values = max(probabilities)\n",
    "    max_index = probabilities.index(max_values)\n",
    "\n",
    "    return x[max_index]\n",
    "\n",
    "\n",
    "class TargetAggregateBlock(BaseBlock):\n",
    "    def __init__(self, periods: List[int]):\n",
    "        self.periods = periods\n",
    "        \n",
    "    def fit(\n",
    "        self,\n",
    "        input_df: pd.DataFrame,\n",
    "        target_df: pd.DataFrame,\n",
    "        rosters_df: pd.DataFrame,\n",
    "        playerBoxScores_df: pd.DataFrame,\n",
    "        standings_df: pd.DataFrame,\n",
    "        only_fit: bool,\n",
    "    ):\n",
    "        output_df = pd.DataFrame()\n",
    "        for i in self.periods:\n",
    "            _target_df = target_df[(target_df[\"date\"] >= i) & (target_df[\"date\"] < (i + 100))].copy()\n",
    "\n",
    "            cols = _target_df.drop(columns=[\"date\", \"engagementMetricsDate\", \"playerId\"], axis=1).columns.tolist()\n",
    "            dfs = [_target_df.groupby([\"playerId\"])[col].agg([\n",
    "                \"mean\", \"std\", \"max\", \"min\", \"median\", quantile25, quantile75, prob\n",
    "                ]).add_prefix(f\"{col}_{str(i)[:-2]}_\") for col in cols]\n",
    "            tmp_df = pd.concat(dfs, axis=1)\n",
    "            output_df = pd.concat([output_df, tmp_df], axis=1)\n",
    "\n",
    "            del _target_df, dfs, tmp_df\n",
    "\n",
    "        self.agg_df = output_df.reset_index()\n",
    "\n",
    "        if only_fit == False:\n",
    "            return self.transform(\n",
    "                input_df,\n",
    "                target_df,\n",
    "                rosters_df,\n",
    "                playerBoxScores_df,\n",
    "                standings_df,\n",
    "            )\n",
    "\n",
    "    def transform(\n",
    "        self,\n",
    "        input_df: pd.DataFrame,\n",
    "        target_df: pd.DataFrame,\n",
    "        rosters_df: pd.DataFrame,\n",
    "        playerBoxScores_df: pd.DataFrame,\n",
    "        standings_df: pd.DataFrame,\n",
    "    ):\n",
    "        return merge_by_key(input_df, self.agg_df, on=\"playerId\")\n",
    "\n",
    "\n",
    "class PlayersLabelEncodingBlock(BaseBlock):\n",
    "    def __init__(self, columns: List[str]):\n",
    "        self.columns = columns + [\"playerId\"]\n",
    "        self.players_df = mlb_train_ds.players.copy()\n",
    "        self.players_df[\"DOB_year\"] = pd.to_datetime(self.players_df[\"DOB\"]).dt.year\n",
    "        self.players_df[\"playerAge\"] = 2021 - self.players_df[\"DOB_year\"]\n",
    "        self.labeled_df = self.players_df[self.columns].copy()\n",
    "        self.labeled_df[\"playerid\"] = self.labeled_df[\"playerId\"]\n",
    "        self.columns = self.columns + [\"playerid\"]\n",
    "        self.encoder = None\n",
    "    \n",
    "    def fit(\n",
    "        self,\n",
    "        input_df: pd.DataFrame,\n",
    "        target_df: pd.DataFrame,\n",
    "        rosters_df: pd.DataFrame,\n",
    "        playerBoxScores_df: pd.DataFrame,\n",
    "        standings_df: pd.DataFrame,\n",
    "        only_fit: bool\n",
    "    ):\n",
    "        self.encoder = ce.OrdinalEncoder(handle_unknown=\"value\", handle_missing=\"values\")\n",
    "        self.encoder.fit(self.labeled_df[self.columns])\n",
    "        self.labeled_df[self.columns] = self.encoder.transform(self.labeled_df[self.columns])\n",
    "\n",
    "        if only_fit == False:\n",
    "            return self.transform(\n",
    "                input_df,\n",
    "                target_df,\n",
    "                rosters_df,\n",
    "                playerBoxScores_df,\n",
    "                standings_df,\n",
    "            )\n",
    "\n",
    "    def transform(\n",
    "        self,\n",
    "        input_df: pd.DataFrame,\n",
    "        target_df: pd.DataFrame,\n",
    "        rosters_df: pd.DataFrame,\n",
    "        playerBoxScores_df: pd.DataFrame,\n",
    "        standings_df: pd.DataFrame,\n",
    "    ):\n",
    "        return merge_by_key(input_df, self.labeled_df, on=\"playerId\").add_prefix(\"Players_LE_\")\n",
    "\n",
    "\n",
    "class RostersLabelEncodingBlock(BaseBlock):\n",
    "    def __init__(self, columns: List[str]):\n",
    "        self.columns = columns\n",
    "        self.encoder = None\n",
    "\n",
    "    def fit(\n",
    "        self,\n",
    "        input_df: pd.DataFrame,\n",
    "        target_df: pd.DataFrame,\n",
    "        rosters_df: pd.DataFrame,\n",
    "        playerBoxScores_df: pd.DataFrame,\n",
    "        standings_df: pd.DataFrame,\n",
    "        only_fit: bool\n",
    "    ):\n",
    "        self.encoder = ce.OrdinalEncoder(handle_unknown=\"value\", handle_missing=\"value\")\n",
    "        self.encoder.fit(rosters_df[self.columns])\n",
    "\n",
    "        if only_fit == False:\n",
    "            return self.transform(\n",
    "                input_df,\n",
    "                target_df,\n",
    "                rosters_df,\n",
    "                playerBoxScores_df,\n",
    "                standings_df,\n",
    "            )\n",
    "\n",
    "    def transform(\n",
    "        self,\n",
    "        input_df: pd.DataFrame,\n",
    "        target_df: pd.DataFrame,\n",
    "        rosters_df: pd.DataFrame,\n",
    "        playerBoxScores_df: pd.DataFrame,\n",
    "        standings_df: pd.DataFrame,\n",
    "    ):\n",
    "        self.labeled_df = rosters_df[CFG.OBJECT_ID + self.columns].copy()\n",
    "        self.labeled_df[self.columns] = self.encoder.transform(self.labeled_df[self.columns])\n",
    "\n",
    "        return merge_by_key(input_df, self.labeled_df).add_prefix(\"Rosters_LE_\")\n",
    "\n",
    "\n",
    "class PlayerStatsBlock(BaseBlock):\n",
    "    def __init__(self, columns):\n",
    "        self.columns = columns\n",
    "        # game info\n",
    "        self.feat_home_dict = defaultdict(lambda: defaultdict(lambda: defaultdict(int)))\n",
    "        self.feat_home_cum_dict = defaultdict(lambda: defaultdict(lambda: defaultdict(int)))\n",
    "        self.feat_positionCode_dict = defaultdict(lambda: defaultdict(lambda: defaultdict(int)))\n",
    "        self.feat_battingOrder_dict = defaultdict(lambda: defaultdict(lambda: defaultdict(int)))\n",
    "        # batting\n",
    "        self.feat_gamesPlayedBatting_dict = defaultdict(lambda: defaultdict(lambda: defaultdict(int)))\n",
    "        self.feat_gamesPlayedBatting_cum_dict = defaultdict(lambda: defaultdict(lambda: defaultdict(int)))\n",
    "        self.feat_plateAppearances_dict = defaultdict(lambda: defaultdict(lambda: defaultdict(int)))\n",
    "        self.feat_plateAppearances_cum_dict = defaultdict(lambda: defaultdict(lambda: defaultdict(int)))\n",
    "        self.feat_atBats_dict = defaultdict(lambda: defaultdict(lambda: defaultdict(int)))\n",
    "        self.feat_atBats_cum_dict = defaultdict(lambda: defaultdict(lambda: defaultdict(int)))\n",
    "        self.feat_hits_dict = defaultdict(lambda: defaultdict(lambda: defaultdict(int)))\n",
    "        self.feat_hits_cum_dict = defaultdict(lambda: defaultdict(lambda: defaultdict(int)))\n",
    "        self.feat_doubles_dict = defaultdict(lambda: defaultdict(lambda: defaultdict(int)))\n",
    "        self.feat_doubles_cum_dict = defaultdict(lambda: defaultdict(lambda: defaultdict(int)))\n",
    "        self.feat_triples_dict = defaultdict(lambda: defaultdict(lambda: defaultdict(int)))\n",
    "        self.feat_triples_cum_dict = defaultdict(lambda: defaultdict(lambda: defaultdict(int)))\n",
    "        self.feat_homeRuns_dict = defaultdict(lambda: defaultdict(lambda: defaultdict(int)))\n",
    "        self.feat_homeRuns_cum_dict = defaultdict(lambda: defaultdict(lambda: defaultdict(int)))\n",
    "        self.feat_rbi_dict = defaultdict(lambda: defaultdict(lambda: defaultdict(int)))\n",
    "        self.feat_rbi_cum_dict = defaultdict(lambda: defaultdict(lambda: defaultdict(int)))\n",
    "        self.feat_runsScored_dict = defaultdict(lambda: defaultdict(lambda: defaultdict(int)))\n",
    "        self.feat_runsScored_cum_dict = defaultdict(lambda: defaultdict(lambda: defaultdict(int)))\n",
    "        self.feat_totalBases_dict = defaultdict(lambda: defaultdict(lambda: defaultdict(int)))\n",
    "        self.feat_totalBases_cum_dict = defaultdict(lambda: defaultdict(lambda: defaultdict(int)))\n",
    "        self.feat_baseOnBalls_dict = defaultdict(lambda: defaultdict(lambda: defaultdict(int)))\n",
    "        self.feat_baseOnBalls_cum_dict = defaultdict(lambda: defaultdict(lambda: defaultdict(int)))\n",
    "        self.feat_hitByPitch_dict = defaultdict(lambda: defaultdict(lambda: defaultdict(int)))\n",
    "        self.feat_hitByPitch_cum_dict = defaultdict(lambda: defaultdict(lambda: defaultdict(int)))\n",
    "        self.feat_intentionalWalks_dict = defaultdict(lambda: defaultdict(lambda: defaultdict(int)))\n",
    "        self.feat_intentionalWalks_cum_dict = defaultdict(lambda: defaultdict(lambda: defaultdict(int)))\n",
    "        self.feat_groundIntoDoublePlay_dict = defaultdict(lambda: defaultdict(lambda: defaultdict(int)))\n",
    "        self.feat_groundIntoDoublePlay_cum_dict = defaultdict(lambda: defaultdict(lambda: defaultdict(int)))\n",
    "        self.feat_groundIntoTriplePlay_dict = defaultdict(lambda: defaultdict(lambda: defaultdict(int)))\n",
    "        self.feat_groundIntoTriplePlay_cum_dict = defaultdict(lambda: defaultdict(lambda: defaultdict(int)))\n",
    "        self.feat_strikeOuts_dict = defaultdict(lambda: defaultdict(lambda: defaultdict(int)))\n",
    "        self.feat_strikeOuts_cum_dict = defaultdict(lambda: defaultdict(lambda: defaultdict(int)))\n",
    "        self.feat_sacBunts_dict = defaultdict(lambda: defaultdict(lambda: defaultdict(int)))\n",
    "        self.feat_sacBunts_cum_dict = defaultdict(lambda: defaultdict(lambda: defaultdict(int)))\n",
    "        self.feat_sacFlies_dict = defaultdict(lambda: defaultdict(lambda: defaultdict(int)))\n",
    "        self.feat_sacFlies_cum_dict = defaultdict(lambda: defaultdict(lambda: defaultdict(int)))\n",
    "        self.feat_caughtStealing_dict = defaultdict(lambda: defaultdict(lambda: defaultdict(int)))\n",
    "        self.feat_caughtStealing_cum_dict = defaultdict(lambda: defaultdict(lambda: defaultdict(int)))\n",
    "        self.feat_stolenBases_dict = defaultdict(lambda: defaultdict(lambda: defaultdict(int)))\n",
    "        self.feat_stolenBases_cum_dict = defaultdict(lambda: defaultdict(lambda: defaultdict(int)))\n",
    "        self.feat_leftOnBase_dict = defaultdict(lambda: defaultdict(lambda: defaultdict(int)))\n",
    "        self.feat_leftOnBase_cum_dict = defaultdict(lambda: defaultdict(lambda: defaultdict(int)))\n",
    "        self.feat_catchersInterference_dict = defaultdict(lambda: defaultdict(lambda: defaultdict(int)))\n",
    "        self.feat_catchersInterference_cum_dict = defaultdict(lambda: defaultdict(lambda: defaultdict(int)))\n",
    "        self.feat_pickoffs_dict = defaultdict(lambda: defaultdict(lambda: defaultdict(int)))\n",
    "        self.feat_pickoffs_cum_dict = defaultdict(lambda: defaultdict(lambda: defaultdict(int)))\n",
    "        self.feat_flyOuts_dict = defaultdict(lambda: defaultdict(lambda: defaultdict(int)))\n",
    "        self.feat_flyOuts_cum_dict = defaultdict(lambda: defaultdict(lambda: defaultdict(int)))\n",
    "        self.feat_groundOuts_dict = defaultdict(lambda: defaultdict(lambda: defaultdict(int)))\n",
    "        self.feat_groundOuts_cum_dict = defaultdict(lambda: defaultdict(lambda: defaultdict(int)))\n",
    "        # pitching\n",
    "        self.feat_gamesPlayedPitching_dict = defaultdict(lambda: defaultdict(lambda: defaultdict(int)))\n",
    "        self.feat_gamesPlayedPitching_cum_dict = defaultdict(lambda: defaultdict(lambda: defaultdict(int)))\n",
    "        self.feat_gamesStartedPitching_dict = defaultdict(lambda: defaultdict(lambda: defaultdict(int)))\n",
    "        self.feat_gamesStartedPitching_cum_dict = defaultdict(lambda: defaultdict(lambda: defaultdict(int)))\n",
    "        self.feat_winsPitching_dict = defaultdict(lambda: defaultdict(lambda: defaultdict(int)))\n",
    "        self.feat_winsPitching_cum_dict = defaultdict(lambda: defaultdict(lambda: defaultdict(int)))\n",
    "        self.feat_lossesPitching_dict = defaultdict(lambda: defaultdict(lambda: defaultdict(int)))\n",
    "        self.feat_lossesPitching_cum_dict = defaultdict(lambda: defaultdict(lambda: defaultdict(int)))\n",
    "        self.feat_completeGamesPitching_dict = defaultdict(lambda: defaultdict(lambda: defaultdict(int)))\n",
    "        self.feat_completeGamesPitching_cum_dict = defaultdict(lambda: defaultdict(lambda: defaultdict(int)))\n",
    "        self.feat_shutoutsPitching_dict = defaultdict(lambda: defaultdict(lambda: defaultdict(int)))\n",
    "        self.feat_shutoutsPitching_cum_dict = defaultdict(lambda: defaultdict(lambda: defaultdict(int)))\n",
    "        self.feat_saves_dict = defaultdict(lambda: defaultdict(lambda: defaultdict(int)))\n",
    "        self.feat_saves_cum_dict = defaultdict(lambda: defaultdict(lambda: defaultdict(int)))\n",
    "        self.feat_saveOpportunities_dict = defaultdict(lambda: defaultdict(lambda: defaultdict(int)))\n",
    "        self.feat_saveOpportunities_cum_dict = defaultdict(lambda: defaultdict(lambda: defaultdict(int)))\n",
    "        self.feat_blownSaves_dict = defaultdict(lambda: defaultdict(lambda: defaultdict(int)))\n",
    "        self.feat_blownSaves_cum_dict = defaultdict(lambda: defaultdict(lambda: defaultdict(int)))\n",
    "        self.feat_holds_dict = defaultdict(lambda: defaultdict(lambda: defaultdict(int)))\n",
    "        self.feat_holds_cum_dict = defaultdict(lambda: defaultdict(lambda: defaultdict(int)))\n",
    "        self.feat_inningsPitched_dict = defaultdict(lambda: defaultdict(lambda: defaultdict(int)))\n",
    "        self.feat_inningsPitched_cum_dict = defaultdict(lambda: defaultdict(lambda: defaultdict(int)))\n",
    "        self.feat_runsPitching_dict = defaultdict(lambda: defaultdict(lambda: defaultdict(int)))\n",
    "        self.feat_runsPitching_cum_dict = defaultdict(lambda: defaultdict(lambda: defaultdict(int)))\n",
    "        self.feat_earnedRuns_dict = defaultdict(lambda: defaultdict(lambda: defaultdict(int)))\n",
    "        self.feat_earnedRuns_cum_dict = defaultdict(lambda: defaultdict(lambda: defaultdict(int)))\n",
    "        self.feat_pitchesThrown_dict = defaultdict(lambda: defaultdict(lambda: defaultdict(int)))\n",
    "        self.feat_pitchesThrown_cum_dict = defaultdict(lambda: defaultdict(lambda: defaultdict(int)))\n",
    "        self.feat_hitsPitching_dict = defaultdict(lambda: defaultdict(lambda: defaultdict(int)))\n",
    "        self.feat_hitsPitching_cum_dict = defaultdict(lambda: defaultdict(lambda: defaultdict(int)))\n",
    "        self.feat_homeRunsPitching_dict = defaultdict(lambda: defaultdict(lambda: defaultdict(int)))\n",
    "        self.feat_homeRunsPitching_cum_dict = defaultdict(lambda: defaultdict(lambda: defaultdict(int)))\n",
    "        self.feat_strikeOutsPitching_dict = defaultdict(lambda: defaultdict(lambda: defaultdict(int)))\n",
    "        self.feat_strikeOutsPitching_cum_dict = defaultdict(lambda: defaultdict(lambda: defaultdict(int)))\n",
    "        self.feat_baseOnBallsPitching_dict = defaultdict(lambda: defaultdict(lambda: defaultdict(int)))\n",
    "        self.feat_baseOnBallsPitching_cum_dict = defaultdict(lambda: defaultdict(lambda: defaultdict(int)))\n",
    "        self.feat_hitByPitchPitching_dict = defaultdict(lambda: defaultdict(lambda: defaultdict(int)))\n",
    "        self.feat_hitByPitchPitching_cum_dict = defaultdict(lambda: defaultdict(lambda: defaultdict(int)))\n",
    "        self.feat_intentionalWalksPitching_dict = defaultdict(lambda: defaultdict(lambda: defaultdict(int)))\n",
    "        self.feat_intentionalWalksPitching_cum_dict = defaultdict(lambda: defaultdict(lambda: defaultdict(int)))\n",
    "        self.feat_balks_dict = defaultdict(lambda: defaultdict(lambda: defaultdict(int)))\n",
    "        self.feat_balks_cum_dict = defaultdict(lambda: defaultdict(lambda: defaultdict(int)))\n",
    "        self.feat_wildPitches_dict = defaultdict(lambda: defaultdict(lambda: defaultdict(int)))\n",
    "        self.feat_wildPitches_cum_dict = defaultdict(lambda: defaultdict(lambda: defaultdict(int)))\n",
    "        self.feat_atBatsPitching_dict = defaultdict(lambda: defaultdict(lambda: defaultdict(int)))\n",
    "        self.feat_atBatsPitching_cum_dict = defaultdict(lambda: defaultdict(lambda: defaultdict(int)))\n",
    "        self.feat_battersFaced_dict = defaultdict(lambda: defaultdict(lambda: defaultdict(int)))\n",
    "        self.feat_battersFaced_cum_dict = defaultdict(lambda: defaultdict(lambda: defaultdict(int)))\n",
    "        self.feat_sacBuntsPitching_dict = defaultdict(lambda: defaultdict(lambda: defaultdict(int)))\n",
    "        self.feat_sacBuntsPitching_cum_dict = defaultdict(lambda: defaultdict(lambda: defaultdict(int)))\n",
    "        self.feat_sacFliesPitching_dict = defaultdict(lambda: defaultdict(lambda: defaultdict(int)))\n",
    "        self.feat_sacFliesPitching_cum_dict = defaultdict(lambda: defaultdict(lambda: defaultdict(int)))\n",
    "        self.feat_inheritedRunners_dict = defaultdict(lambda: defaultdict(lambda: defaultdict(int)))\n",
    "        self.feat_inheritedRunners_cum_dict = defaultdict(lambda: defaultdict(lambda: defaultdict(int)))\n",
    "        self.feat_inheritedRunnersScored_dict = defaultdict(lambda: defaultdict(lambda: defaultdict(int)))\n",
    "        self.feat_inheritedRunnersScored_cum_dict = defaultdict(lambda: defaultdict(lambda: defaultdict(int)))\n",
    "        self.feat_rbiPitching_dict = defaultdict(lambda: defaultdict(lambda: defaultdict(int)))\n",
    "        self.feat_rbiPitching_cum_dict = defaultdict(lambda: defaultdict(lambda: defaultdict(int)))\n",
    "        self.feat_flyOutsPitching_dict = defaultdict(lambda: defaultdict(lambda: defaultdict(int)))\n",
    "        self.feat_flyOutsPitching_cum_dict = defaultdict(lambda: defaultdict(lambda: defaultdict(int)))\n",
    "        self.feat_airOutsPitching_dict = defaultdict(lambda: defaultdict(lambda: defaultdict(int)))\n",
    "        self.feat_airOutsPitching_cum_dict = defaultdict(lambda: defaultdict(lambda: defaultdict(int)))\n",
    "        self.feat_doublesPitching_dict = defaultdict(lambda: defaultdict(lambda: defaultdict(int)))\n",
    "        self.feat_doublesPitching_cum_dict = defaultdict(lambda: defaultdict(lambda: defaultdict(int)))\n",
    "        self.feat_triplesPitching_dict = defaultdict(lambda: defaultdict(lambda: defaultdict(int)))\n",
    "        self.feat_triplesPitching_cum_dict = defaultdict(lambda: defaultdict(lambda: defaultdict(int)))\n",
    "        self.feat_caughtStealingPitching_dict = defaultdict(lambda: defaultdict(lambda: defaultdict(int)))\n",
    "        self.feat_caughtStealingPitching_cum_dict = defaultdict(lambda: defaultdict(lambda: defaultdict(int)))\n",
    "        self.feat_stolenBasesPitching_dict = defaultdict(lambda: defaultdict(lambda: defaultdict(int)))\n",
    "        self.feat_stolenBasesPitching_cum_dict = defaultdict(lambda: defaultdict(lambda: defaultdict(int)))\n",
    "        self.feat_outsPitching_dict = defaultdict(lambda: defaultdict(lambda: defaultdict(int)))\n",
    "        self.feat_outsPitching_cum_dict = defaultdict(lambda: defaultdict(lambda: defaultdict(int)))\n",
    "        self.feat_balls_dict = defaultdict(lambda: defaultdict(lambda: defaultdict(int)))\n",
    "        self.feat_balls_cum_dict = defaultdict(lambda: defaultdict(lambda: defaultdict(int)))\n",
    "        self.feat_strikes_dict = defaultdict(lambda: defaultdict(lambda: defaultdict(int)))\n",
    "        self.feat_strikes_cum_dict = defaultdict(lambda: defaultdict(lambda: defaultdict(int)))\n",
    "        self.feat_hitBatsmen_dict = defaultdict(lambda: defaultdict(lambda: defaultdict(int)))\n",
    "        self.feat_hitBatsmen_cum_dict = defaultdict(lambda: defaultdict(lambda: defaultdict(int)))\n",
    "        self.feat_pickoffsPitching_dict = defaultdict(lambda: defaultdict(lambda: defaultdict(int)))\n",
    "        self.feat_pickoffsPitching_cum_dict = defaultdict(lambda: defaultdict(lambda: defaultdict(int)))\n",
    "        self.feat_catchersInterferencePitching_dict = defaultdict(lambda: defaultdict(lambda: defaultdict(int)))\n",
    "        self.feat_catchersInterferencePitching_cum_dict = defaultdict(lambda: defaultdict(lambda: defaultdict(int)))\n",
    "        self.feat_assists_dict = defaultdict(lambda: defaultdict(lambda: defaultdict(int)))\n",
    "        self.feat_assists_cum_dict = defaultdict(lambda: defaultdict(lambda: defaultdict(int)))\n",
    "        self.feat_putOuts_dict = defaultdict(lambda: defaultdict(lambda: defaultdict(int)))\n",
    "        self.feat_putOuts_cum_dict = defaultdict(lambda: defaultdict(lambda: defaultdict(int)))\n",
    "        self.feat_errors_dict = defaultdict(lambda: defaultdict(lambda: defaultdict(int)))\n",
    "        self.feat_errors_cum_dict = defaultdict(lambda: defaultdict(lambda: defaultdict(int)))\n",
    "        self.feat_chances_dict = defaultdict(lambda: defaultdict(lambda: defaultdict(int)))\n",
    "        self.feat_chances_cum_dict = defaultdict(lambda: defaultdict(lambda: defaultdict(int)))\n",
    "        self.feat_gamesFinishedPitching_dict = defaultdict(lambda: defaultdict(lambda: defaultdict(int)))\n",
    "        self.feat_gamesFinishedPitching_cum_dict = defaultdict(lambda: defaultdict(lambda: defaultdict(int)))\n",
    "        self.feat_groundOutsPitching_dict = defaultdict(lambda: defaultdict(lambda: defaultdict(int)))\n",
    "        self.feat_groundOutsPitching_cum_dict = defaultdict(lambda: defaultdict(lambda: defaultdict(int)))\n",
    "\n",
    "    def fit(\n",
    "        self,\n",
    "        input_df: pd.DataFrame,\n",
    "        target_df: pd.DataFrame,\n",
    "        rosters_df: pd.DataFrame,\n",
    "        playerBoxScores_df: pd.DataFrame,\n",
    "        standings_df: pd.DataFrame,\n",
    "        only_fit: bool\n",
    "    ):\n",
    "        if playerBoxScores_df is not None:\n",
    "            for i, row in enumerate(tqdm(playerBoxScores_df[self.columns].values)):\n",
    "                season = int(str(row[1])[:4])\n",
    "\n",
    "                self.feat_home_dict[row[0]][season][row[1]] += row[2]\n",
    "                self.feat_positionCode_dict[row[0]][season][row[1]] += row[3]\n",
    "                self.feat_battingOrder_dict[row[0]][season][row[1]] += row[4]\n",
    "                self.feat_gamesPlayedBatting_dict[row[0]][season][row[1]] += row[5]\n",
    "                self.feat_plateAppearances_dict[row[0]][season][row[1]] += row[6]\n",
    "                self.feat_atBats_dict[row[0]][season][row[1]] += row[7]\n",
    "                self.feat_hits_dict[row[0]][season][row[1]] += row[8]\n",
    "                self.feat_doubles_dict[row[0]][season][row[1]] += row[9]\n",
    "                self.feat_triples_dict[row[0]][season][row[1]] += row[10]\n",
    "                self.feat_homeRuns_dict[row[0]][season][row[1]] += row[11]\n",
    "                self.feat_rbi_dict[row[0]][season][row[1]] += row[12]\n",
    "                self.feat_runsScored_dict[row[0]][season][row[1]] += row[13]\n",
    "                self.feat_totalBases_dict[row[0]][season][row[1]] += row[14]\n",
    "                self.feat_baseOnBalls_dict[row[0]][season][row[1]] += row[15]\n",
    "                self.feat_hitByPitch_dict[row[0]][season][row[1]] += row[16]\n",
    "                self.feat_intentionalWalks_dict[row[0]][season][row[1]] += row[17]\n",
    "                self.feat_groundIntoDoublePlay_dict[row[0]][season][row[1]] += row[18]\n",
    "                self.feat_groundIntoTriplePlay_dict[row[0]][season][row[1]] += row[19]\n",
    "                self.feat_strikeOuts_dict[row[0]][season][row[1]] += row[20]\n",
    "                self.feat_sacBunts_dict[row[0]][season][row[1]] += row[21]\n",
    "                self.feat_sacFlies_dict[row[0]][season][row[1]] += row[22]\n",
    "                self.feat_caughtStealing_dict[row[0]][season][row[1]] += row[23]\n",
    "                self.feat_stolenBases_dict[row[0]][season][row[1]] += row[24]\n",
    "                self.feat_leftOnBase_dict[row[0]][season][row[1]] += row[25]\n",
    "                self.feat_catchersInterference_dict[row[0]][season][row[1]] += row[26]\n",
    "                self.feat_pickoffs_dict[row[0]][season][row[1]] += row[27]\n",
    "                self.feat_flyOuts_dict[row[0]][season][row[1]] += row[28]\n",
    "                self.feat_groundOuts_dict[row[0]][season][row[1]] += row[29]\n",
    "\n",
    "                self.feat_gamesPlayedPitching_dict[row[0]][season][row[1]] += row[30]\n",
    "                self.feat_gamesStartedPitching_dict[row[0]][season][row[1]] += row[31]\n",
    "                self.feat_winsPitching_dict[row[0]][season][row[1]] += row[32]\n",
    "                self.feat_lossesPitching_dict[row[0]][season][row[1]] += row[33]\n",
    "                self.feat_completeGamesPitching_dict[row[0]][season][row[1]] += row[34]\n",
    "                self.feat_shutoutsPitching_dict[row[0]][season][row[1]] += row[35]\n",
    "                self.feat_saves_dict[row[0]][season][row[1]] += row[36]\n",
    "                self.feat_saveOpportunities_dict[row[0]][season][row[1]] += row[37]\n",
    "                self.feat_blownSaves_dict[row[0]][season][row[1]] += row[38]\n",
    "                self.feat_holds_dict[row[0]][season][row[1]] += row[39]\n",
    "                self.feat_inningsPitched_dict[row[0]][season][row[1]] += row[40]\n",
    "                self.feat_runsPitching_dict[row[0]][season][row[1]] += row[41]\n",
    "                self.feat_earnedRuns_dict[row[0]][season][row[1]] += row[42]\n",
    "                self.feat_pitchesThrown_dict[row[0]][season][row[1]] += row[43]\n",
    "                self.feat_hitsPitching_dict[row[0]][season][row[1]] += row[44]\n",
    "                self.feat_homeRunsPitching_dict[row[0]][season][row[1]] += row[45]\n",
    "                self.feat_strikeOutsPitching_dict[row[0]][season][row[1]] += row[46]\n",
    "                self.feat_baseOnBallsPitching_dict[row[0]][season][row[1]] += row[47]\n",
    "                self.feat_hitByPitchPitching_dict[row[0]][season][row[1]] += row[48]\n",
    "                self.feat_intentionalWalksPitching_dict[row[0]][season][row[1]] += row[49]\n",
    "                self.feat_balks_dict[row[0]][season][row[1]] += row[50]\n",
    "                self.feat_wildPitches_dict[row[0]][season][row[1]] += row[51]\n",
    "                self.feat_atBatsPitching_dict[row[0]][season][row[1]] += row[52]\n",
    "                self.feat_battersFaced_dict[row[0]][season][row[1]] += row[53]\n",
    "                self.feat_sacBuntsPitching_dict[row[0]][season][row[1]] += row[54]\n",
    "                self.feat_sacFliesPitching_dict[row[0]][season][row[1]] += row[55]\n",
    "                self.feat_inheritedRunners_dict[row[0]][season][row[1]] += row[56]\n",
    "                self.feat_inheritedRunnersScored_dict[row[0]][season][row[1]] += row[57]\n",
    "                self.feat_rbiPitching_dict[row[0]][season][row[1]] += row[58]\n",
    "                self.feat_flyOutsPitching_dict[row[0]][season][row[1]] += row[59]\n",
    "                self.feat_airOutsPitching_dict[row[0]][season][row[1]] += row[60]\n",
    "                self.feat_doublesPitching_dict[row[0]][season][row[1]] += row[61]\n",
    "                self.feat_triplesPitching_dict[row[0]][season][row[1]] += row[62]\n",
    "                self.feat_caughtStealingPitching_dict[row[0]][season][row[1]] += row[63]\n",
    "                self.feat_stolenBasesPitching_dict[row[0]][season][row[1]] += row[64]\n",
    "                self.feat_outsPitching_dict[row[0]][season][row[1]] += row[65]\n",
    "                self.feat_balls_dict[row[0]][season][row[1]] += row[66]\n",
    "                self.feat_strikes_dict[row[0]][season][row[1]] += row[67]\n",
    "                self.feat_hitBatsmen_dict[row[0]][season][row[1]] += row[68]\n",
    "                self.feat_pickoffsPitching_dict[row[0]][season][row[1]] += row[69]\n",
    "                self.feat_catchersInterferencePitching_dict[row[0]][season][row[1]] += row[70]\n",
    "                self.feat_assists_dict[row[0]][season][row[1]] += row[71]\n",
    "                self.feat_putOuts_dict[row[0]][season][row[1]] += row[72]\n",
    "                self.feat_errors_dict[row[0]][season][row[1]] += row[73]\n",
    "                self.feat_chances_dict[row[0]][season][row[1]] += row[74]\n",
    "                self.feat_gamesFinishedPitching_dict[row[0]][season][row[1]] += row[75]\n",
    "                self.feat_groundOutsPitching_dict[row[0]][season][row[1]] += row[76]\n",
    "                \n",
    "                self.feat_home_cum_dict[row[0]][season][row[1]] += self.add_cumsum2dict(row[0], row[1], season, self.feat_home_cum_dict, row[2])\n",
    "                self.feat_gamesPlayedBatting_cum_dict[row[0]][season][row[1]] += self.add_cumsum2dict(row[0], row[1], season, self.feat_gamesPlayedBatting_cum_dict, row[5])\n",
    "                self.feat_plateAppearances_cum_dict[row[0]][season][row[1]] += self.add_cumsum2dict(row[0], row[1], season, self.feat_plateAppearances_cum_dict, row[6])\n",
    "                self.feat_atBats_cum_dict[row[0]][season][row[1]] += self.add_cumsum2dict(row[0], row[1], season, self.feat_atBats_cum_dict, row[7])\n",
    "                self.feat_hits_cum_dict[row[0]][season][row[1]] += self.add_cumsum2dict(row[0], row[1], season, self.feat_hits_cum_dict, row[8])\n",
    "                self.feat_doubles_cum_dict[row[0]][season][row[1]] += self.add_cumsum2dict(row[0], row[1], season, self.feat_doubles_cum_dict, row[9])\n",
    "                self.feat_triples_cum_dict[row[0]][season][row[1]] += self.add_cumsum2dict(row[0], row[1], season, self.feat_triples_cum_dict, row[10])\n",
    "                self.feat_homeRuns_cum_dict[row[0]][season][row[1]] += self.add_cumsum2dict(row[0], row[1], season, self.feat_homeRuns_cum_dict, row[11])\n",
    "                self.feat_rbi_cum_dict[row[0]][season][row[1]] += self.add_cumsum2dict(row[0], row[1], season, self.feat_rbi_cum_dict, row[12])\n",
    "                self.feat_runsScored_cum_dict[row[0]][season][row[1]] += self.add_cumsum2dict(row[0], row[1], season, self.feat_runsScored_cum_dict, row[13])\n",
    "                self.feat_totalBases_cum_dict[row[0]][season][row[1]] += self.add_cumsum2dict(row[0], row[1], season, self.feat_totalBases_cum_dict, row[14])\n",
    "                self.feat_baseOnBalls_cum_dict[row[0]][season][row[1]] += self.add_cumsum2dict(row[0], row[1], season, self.feat_baseOnBalls_cum_dict, row[15])\n",
    "                self.feat_hitByPitch_cum_dict[row[0]][season][row[1]] += self.add_cumsum2dict(row[0], row[1], season, self.feat_hitByPitch_cum_dict, row[16])\n",
    "                self.feat_intentionalWalks_cum_dict[row[0]][season][row[1]] += self.add_cumsum2dict(row[0], row[1], season, self.feat_intentionalWalks_cum_dict, row[17])\n",
    "                self.feat_groundIntoDoublePlay_cum_dict[row[0]][season][row[1]] += self.add_cumsum2dict(row[0], row[1], season, self.feat_groundIntoDoublePlay_cum_dict, row[18])\n",
    "                self.feat_groundIntoTriplePlay_cum_dict[row[0]][season][row[1]] += self.add_cumsum2dict(row[0], row[1], season, self.feat_groundIntoTriplePlay_cum_dict, row[19])\n",
    "                self.feat_strikeOuts_cum_dict[row[0]][season][row[1]] += self.add_cumsum2dict(row[0], row[1], season, self.feat_strikeOuts_cum_dict, row[20])\n",
    "                self.feat_sacBunts_cum_dict[row[0]][season][row[1]] += self.add_cumsum2dict(row[0], row[1], season, self.feat_sacBunts_cum_dict, row[21])\n",
    "                self.feat_sacFlies_cum_dict[row[0]][season][row[1]] += self.add_cumsum2dict(row[0], row[1], season, self.feat_sacFlies_cum_dict, row[22])\n",
    "                self.feat_caughtStealing_cum_dict[row[0]][season][row[1]] += self.add_cumsum2dict(row[0], row[1], season, self.feat_caughtStealing_cum_dict, row[23])\n",
    "                self.feat_stolenBases_cum_dict[row[0]][season][row[1]] += self.add_cumsum2dict(row[0], row[1], season, self.feat_stolenBases_cum_dict, row[24])\n",
    "                self.feat_leftOnBase_cum_dict[row[0]][season][row[1]] += self.add_cumsum2dict(row[0], row[1], season, self.feat_leftOnBase_cum_dict, row[25])\n",
    "                self.feat_catchersInterference_cum_dict[row[0]][season][row[1]] += self.add_cumsum2dict(row[0], row[1], season, self.feat_catchersInterference_cum_dict, row[26])\n",
    "                self.feat_pickoffs_cum_dict[row[0]][season][row[1]] += self.add_cumsum2dict(row[0], row[1], season, self.feat_pickoffs_cum_dict, row[27])\n",
    "                self.feat_flyOuts_cum_dict[row[0]][season][row[1]] += self.add_cumsum2dict(row[0], row[1], season, self.feat_flyOuts_cum_dict, row[28])\n",
    "                self.feat_groundOuts_cum_dict[row[0]][season][row[1]] += self.add_cumsum2dict(row[0], row[1], season, self.feat_groundOuts_cum_dict, row[29])\n",
    "\n",
    "                self.feat_gamesPlayedPitching_cum_dict[row[0]][season][row[1]] += self.add_cumsum2dict(row[0], row[1], season, self.feat_gamesPlayedPitching_cum_dict, row[30])\n",
    "                self.feat_gamesStartedPitching_cum_dict[row[0]][season][row[1]] += self.add_cumsum2dict(row[0], row[1], season, self.feat_gamesStartedPitching_cum_dict, row[31])\n",
    "                self.feat_winsPitching_cum_dict[row[0]][season][row[1]] += self.add_cumsum2dict(row[0], row[1], season, self.feat_winsPitching_cum_dict, row[32])\n",
    "                self.feat_lossesPitching_cum_dict[row[0]][season][row[1]] += self.add_cumsum2dict(row[0], row[1], season, self.feat_lossesPitching_cum_dict, row[33])\n",
    "                self.feat_completeGamesPitching_cum_dict[row[0]][season][row[1]] += self.add_cumsum2dict(row[0], row[1], season, self.feat_completeGamesPitching_cum_dict, row[34])\n",
    "                self.feat_shutoutsPitching_cum_dict[row[0]][season][row[1]] += self.add_cumsum2dict(row[0], row[1], season, self.feat_shutoutsPitching_cum_dict, row[35])\n",
    "                self.feat_saves_cum_dict[row[0]][season][row[1]] += self.add_cumsum2dict(row[0], row[1], season, self.feat_saves_cum_dict, row[36])\n",
    "                self.feat_saveOpportunities_cum_dict[row[0]][season][row[1]] += self.add_cumsum2dict(row[0], row[1], season, self.feat_saveOpportunities_cum_dict, row[37])\n",
    "                self.feat_blownSaves_cum_dict[row[0]][season][row[1]] += self.add_cumsum2dict(row[0], row[1], season, self.feat_blownSaves_cum_dict, row[38])\n",
    "                self.feat_holds_cum_dict[row[0]][season][row[1]] += self.add_cumsum2dict(row[0], row[1], season, self.feat_holds_cum_dict, row[39])\n",
    "                self.feat_inningsPitched_cum_dict[row[0]][season][row[1]] += self.add_cumsum2dict(row[0], row[1], season, self.feat_inningsPitched_cum_dict, row[40])\n",
    "                self.feat_runsPitching_cum_dict[row[0]][season][row[1]] += self.add_cumsum2dict(row[0], row[1], season, self.feat_runsPitching_cum_dict, row[41])\n",
    "                self.feat_earnedRuns_cum_dict[row[0]][season][row[1]] += self.add_cumsum2dict(row[0], row[1], season, self.feat_earnedRuns_cum_dict, row[42])\n",
    "                self.feat_pitchesThrown_cum_dict[row[0]][season][row[1]] += self.add_cumsum2dict(row[0], row[1], season, self.feat_pitchesThrown_cum_dict, row[43])\n",
    "                self.feat_hitsPitching_cum_dict[row[0]][season][row[1]] += self.add_cumsum2dict(row[0], row[1], season, self.feat_hitsPitching_cum_dict, row[44])\n",
    "                self.feat_homeRunsPitching_cum_dict[row[0]][season][row[1]] += self.add_cumsum2dict(row[0], row[1], season, self.feat_homeRunsPitching_cum_dict, row[45])\n",
    "                self.feat_strikeOutsPitching_cum_dict[row[0]][season][row[1]] += self.add_cumsum2dict(row[0], row[1], season, self.feat_strikeOutsPitching_cum_dict, row[46])\n",
    "                self.feat_baseOnBallsPitching_cum_dict[row[0]][season][row[1]] += self.add_cumsum2dict(row[0], row[1], season, self.feat_strikeOutsPitching_cum_dict, row[47])\n",
    "                self.feat_hitByPitchPitching_cum_dict[row[0]][season][row[1]] += self.add_cumsum2dict(row[0], row[1], season, self.feat_hitByPitchPitching_cum_dict, row[48])\n",
    "                self.feat_intentionalWalksPitching_cum_dict[row[0]][season][row[1]] += self.add_cumsum2dict(row[0], row[1], season, self.feat_intentionalWalksPitching_cum_dict, row[49])\n",
    "                self.feat_balks_cum_dict[row[0]][season][row[1]] += self.add_cumsum2dict(row[0], row[1], season, self.feat_balks_cum_dict, row[50])\n",
    "                self.feat_wildPitches_cum_dict[row[0]][season][row[1]] += self.add_cumsum2dict(row[0], row[1], season, self.feat_wildPitches_cum_dict, row[51])\n",
    "                self.feat_atBatsPitching_cum_dict[row[0]][season][row[1]] += self.add_cumsum2dict(row[0], row[1], season, self.feat_atBatsPitching_cum_dict, row[52])\n",
    "                self.feat_battersFaced_cum_dict[row[0]][season][row[1]] += self.add_cumsum2dict(row[0], row[1], season, self.feat_battersFaced_cum_dict, row[53])\n",
    "                self.feat_sacBuntsPitching_cum_dict[row[0]][season][row[1]] += self.add_cumsum2dict(row[0], row[1], season, self.feat_sacBuntsPitching_cum_dict, row[54])\n",
    "                self.feat_sacFliesPitching_cum_dict[row[0]][season][row[1]] += self.add_cumsum2dict(row[0], row[1], season, self.feat_sacFliesPitching_cum_dict, row[55])\n",
    "                self.feat_inheritedRunners_cum_dict[row[0]][season][row[1]] += self.add_cumsum2dict(row[0], row[1], season, self.feat_inheritedRunners_cum_dict, row[56])\n",
    "                self.feat_inheritedRunnersScored_cum_dict[row[0]][season][row[1]] += self.add_cumsum2dict(row[0], row[1], season, self.feat_inheritedRunnersScored_cum_dict, row[57])\n",
    "                self.feat_rbiPitching_cum_dict[row[0]][season][row[1]] += self.add_cumsum2dict(row[0], row[1], season, self.feat_rbiPitching_cum_dict, row[58])\n",
    "                self.feat_flyOutsPitching_cum_dict[row[0]][season][row[1]] += self.add_cumsum2dict(row[0], row[1], season, self.feat_flyOutsPitching_cum_dict, row[59])\n",
    "                self.feat_airOutsPitching_cum_dict[row[0]][season][row[1]] += self.add_cumsum2dict(row[0], row[1], season, self.feat_airOutsPitching_cum_dict, row[60])\n",
    "                self.feat_doublesPitching_cum_dict[row[0]][season][row[1]] += self.add_cumsum2dict(row[0], row[1], season, self.feat_doublesPitching_cum_dict, row[61])\n",
    "                self.feat_triplesPitching_cum_dict[row[0]][season][row[1]] += self.add_cumsum2dict(row[0], row[1], season, self.feat_triplesPitching_cum_dict, row[62])\n",
    "                self.feat_caughtStealingPitching_cum_dict[row[0]][season][row[1]] += self.add_cumsum2dict(row[0], row[1], season, self.feat_caughtStealingPitching_cum_dict, row[63])\n",
    "                self.feat_stolenBasesPitching_cum_dict[row[0]][season][row[1]] += self.add_cumsum2dict(row[0], row[1], season, self.feat_stolenBasesPitching_cum_dict, row[64])\n",
    "                self.feat_outsPitching_cum_dict[row[0]][season][row[1]] += self.add_cumsum2dict(row[0], row[1], season, self.feat_outsPitching_cum_dict, row[65])\n",
    "                self.feat_balls_cum_dict[row[0]][season][row[1]] += self.add_cumsum2dict(row[0], row[1], season, self.feat_balls_cum_dict, row[66])\n",
    "                self.feat_strikes_cum_dict[row[0]][season][row[1]] += self.add_cumsum2dict(row[0], row[1], season, self.feat_strikes_cum_dict, row[67])\n",
    "                self.feat_hitBatsmen_cum_dict[row[0]][season][row[1]] += self.add_cumsum2dict(row[0], row[1], season, self.feat_hitBatsmen_cum_dict, row[68])\n",
    "                self.feat_pickoffsPitching_cum_dict[row[0]][season][row[1]] += self.add_cumsum2dict(row[0], row[1], season, self.feat_pickoffsPitching_cum_dict, row[69])\n",
    "                self.feat_catchersInterferencePitching_cum_dict[row[0]][season][row[1]] += self.add_cumsum2dict(row[0], row[1], season, self.feat_catchersInterferencePitching_cum_dict, row[70])\n",
    "                self.feat_assists_cum_dict[row[0]][season][row[1]] += self.add_cumsum2dict(row[0], row[1], season, self.feat_assists_cum_dict, row[71])\n",
    "                self.feat_putOuts_cum_dict[row[0]][season][row[1]] += self.add_cumsum2dict(row[0], row[1], season, self.feat_putOuts_cum_dict, row[72])\n",
    "                self.feat_errors_cum_dict[row[0]][season][row[1]] += self.add_cumsum2dict(row[0], row[1], season, self.feat_errors_cum_dict, row[73])\n",
    "                self.feat_chances_cum_dict[row[0]][season][row[1]] += self.add_cumsum2dict(row[0], row[1], season, self.feat_chances_cum_dict, row[74])\n",
    "                self.feat_gamesFinishedPitching_cum_dict[row[0]][season][row[1]] += self.add_cumsum2dict(row[0], row[1], season, self.feat_gamesFinishedPitching_cum_dict, row[75])\n",
    "                self.feat_groundOutsPitching_cum_dict[row[0]][season][row[1]] += self.add_cumsum2dict(row[0], row[1], season, self.feat_groundOutsPitching_cum_dict, row[76])\n",
    "\n",
    "        if only_fit == False:\n",
    "            return self.transform(\n",
    "            input_df,\n",
    "            target_df,\n",
    "            rosters_df,\n",
    "            playerBoxScores_df,\n",
    "            standings_df,\n",
    "            )\n",
    "\n",
    "    def transform(\n",
    "        self,\n",
    "        input_df: pd.DataFrame,\n",
    "        target_df: pd.DataFrame,\n",
    "        rosters_df: pd.DataFrame,\n",
    "        playerBoxScores_df: pd.DataFrame,\n",
    "        standings_df: pd.DataFrame,\n",
    "    ):\n",
    "        date = np.zeros(len(input_df), dtype=np.int32)\n",
    "        playerid = np.zeros(len(input_df), dtype=np.int32)\n",
    "        home = np.zeros(len(input_df), dtype=np.float32)\n",
    "        home_cum = np.zeros(len(input_df), dtype=np.float32)\n",
    "        positionCode = np.zeros(len(input_df), dtype=np.float32)\n",
    "        battingOrder = np.zeros(len(input_df), dtype=np.float32)\n",
    "        # batting\n",
    "        gamesPlayedBatting = np.zeros(len(input_df), dtype=np.float32)\n",
    "        gamesPlayedBatting_cum = np.zeros(len(input_df), dtype=np.float32)\n",
    "        plateAppearances = np.zeros(len(input_df), dtype=np.float32)\n",
    "        plateAppearances_cum = np.zeros(len(input_df), dtype=np.float32)\n",
    "        atBats = np.zeros(len(input_df), dtype=np.float32)\n",
    "        atBats_cum = np.zeros(len(input_df), dtype=np.float32)\n",
    "        hits = np.zeros(len(input_df), dtype=np.float32)\n",
    "        hits_cum = np.zeros(len(input_df), dtype=np.float32)\n",
    "        doubles = np.zeros(len(input_df), dtype=np.float32)\n",
    "        doubles_cum = np.zeros(len(input_df), dtype=np.float32)\n",
    "        triples = np.zeros(len(input_df), dtype=np.float32)\n",
    "        triples_cum = np.zeros(len(input_df), dtype=np.float32)\n",
    "        homeRuns = np.zeros(len(input_df), dtype=np.float32)\n",
    "        homeRuns_cum = np.zeros(len(input_df), dtype=np.float32)\n",
    "        rbi = np.zeros(len(input_df), dtype=np.float32)\n",
    "        rbi_cum = np.zeros(len(input_df), dtype=np.float32)\n",
    "        runsScored = np.zeros(len(input_df), dtype=np.float32)\n",
    "        runsScored_cum = np.zeros(len(input_df), dtype=np.float32)\n",
    "        totalBases = np.zeros(len(input_df), dtype=np.float32)\n",
    "        totalBases_cum = np.zeros(len(input_df), dtype=np.float32)\n",
    "        baseOnBalls = np.zeros(len(input_df), dtype=np.float32)\n",
    "        baseOnBalls_cum = np.zeros(len(input_df), dtype=np.float32)\n",
    "        hitByPitch = np.zeros(len(input_df), dtype=np.float32)\n",
    "        hitByPitch_cum = np.zeros(len(input_df), dtype=np.float32)\n",
    "        intentionalWalks = np.zeros(len(input_df), dtype=np.float32)\n",
    "        intentionalWalks_cum = np.zeros(len(input_df), dtype=np.float32)\n",
    "        groundIntoDoublePlay = np.zeros(len(input_df), dtype=np.float32)\n",
    "        groundIntoDoublePlay_cum = np.zeros(len(input_df), dtype=np.float32)\n",
    "        groundIntoTriplePlay = np.zeros(len(input_df), dtype=np.float32)\n",
    "        groundIntoTriplePlay_cum = np.zeros(len(input_df), dtype=np.float32)\n",
    "        strikeOuts = np.zeros(len(input_df), dtype=np.float32)\n",
    "        strikeOuts_cum = np.zeros(len(input_df), dtype=np.float32)\n",
    "        sacBunts = np.zeros(len(input_df), dtype=np.float32)\n",
    "        sacBunts_cum = np.zeros(len(input_df), dtype=np.float32)\n",
    "        sacFlies = np.zeros(len(input_df), dtype=np.float32)\n",
    "        sacFlies_cum = np.zeros(len(input_df), dtype=np.float32)\n",
    "        caughtStealing = np.zeros(len(input_df), dtype=np.float32)\n",
    "        caughtStealing_cum = np.zeros(len(input_df), dtype=np.float32)\n",
    "        stolenBases = np.zeros(len(input_df), dtype=np.float32)\n",
    "        stolenBases_cum = np.zeros(len(input_df), dtype=np.float32)\n",
    "        leftOnBase = np.zeros(len(input_df), dtype=np.float32)\n",
    "        leftOnBase_cum = np.zeros(len(input_df), dtype=np.float32)\n",
    "        catchersInterference = np.zeros(len(input_df), dtype=np.float32)\n",
    "        catchersInterference_cum = np.zeros(len(input_df), dtype=np.float32)\n",
    "        pickoffs = np.zeros(len(input_df), dtype=np.float32)\n",
    "        pickoffs_cum = np.zeros(len(input_df), dtype=np.float32)\n",
    "        flyOuts = np.zeros(len(input_df), dtype=np.float32)\n",
    "        flyOuts_cum = np.zeros(len(input_df), dtype=np.float32)\n",
    "        groundOuts = np.zeros(len(input_df), dtype=np.float32)\n",
    "        groundOuts_cum = np.zeros(len(input_df), dtype=np.float32)\n",
    "        # pitching\n",
    "        gamesPlayedPitching = np.zeros(len(input_df), dtype=np.float32)\n",
    "        gamesPlayedPitching_cum = np.zeros(len(input_df), dtype=np.float32)\n",
    "        gamesStartedPitching = np.zeros(len(input_df), dtype=np.float32)\n",
    "        gamesStartedPitching_cum = np.zeros(len(input_df), dtype=np.float32)\n",
    "        winsPitching = np.zeros(len(input_df), dtype=np.float32)\n",
    "        winsPitching_cum = np.zeros(len(input_df), dtype=np.float32)\n",
    "        lossesPitching = np.zeros(len(input_df), dtype=np.float32)\n",
    "        lossesPitching_cum = np.zeros(len(input_df), dtype=np.float32)\n",
    "        completeGamesPitching = np.zeros(len(input_df), dtype=np.float32)\n",
    "        completeGamesPitching_cum = np.zeros(len(input_df), dtype=np.float32)\n",
    "        shutoutsPitching = np.zeros(len(input_df), dtype=np.float32)\n",
    "        shutoutsPitching_cum = np.zeros(len(input_df), dtype=np.float32)\n",
    "        saves = np.zeros(len(input_df), dtype=np.float32)\n",
    "        saves_cum = np.zeros(len(input_df), dtype=np.float32)\n",
    "        saveOpportunities = np.zeros(len(input_df), dtype=np.float32)\n",
    "        saveOpportunities_cum = np.zeros(len(input_df), dtype=np.float32)\n",
    "        blownSaves = np.zeros(len(input_df), dtype=np.float32)\n",
    "        blownSaves_cum = np.zeros(len(input_df), dtype=np.float32)\n",
    "        holds = np.zeros(len(input_df), dtype=np.float32)\n",
    "        holds_cum = np.zeros(len(input_df), dtype=np.float32)\n",
    "        inningsPitched = np.zeros(len(input_df), dtype=np.float32)\n",
    "        inningsPitched_cum = np.zeros(len(input_df), dtype=np.float32)\n",
    "        runsPitching = np.zeros(len(input_df), dtype=np.float32)\n",
    "        runsPitching_cum = np.zeros(len(input_df), dtype=np.float32)\n",
    "        earnedRuns = np.zeros(len(input_df), dtype=np.float32)\n",
    "        earnedRuns_cum = np.zeros(len(input_df), dtype=np.float32)\n",
    "        pitchesThrown = np.zeros(len(input_df), dtype=np.float32)\n",
    "        pitchesThrown_cum = np.zeros(len(input_df), dtype=np.float32)\n",
    "        hitsPitching = np.zeros(len(input_df), dtype=np.float32)\n",
    "        hitsPitching_cum = np.zeros(len(input_df), dtype=np.float32)\n",
    "        homeRunsPitching = np.zeros(len(input_df), dtype=np.float32)\n",
    "        homeRunsPitching_cum = np.zeros(len(input_df), dtype=np.float32)\n",
    "        strikeOutsPitching = np.zeros(len(input_df), dtype=np.float32)\n",
    "        strikeOutsPitching_cum = np.zeros(len(input_df), dtype=np.float32)\n",
    "        baseOnBallsPitching = np.zeros(len(input_df), dtype=np.float32)\n",
    "        baseOnBallsPitching_cum = np.zeros(len(input_df), dtype=np.float32)\n",
    "        hitByPitchPitching = np.zeros(len(input_df), dtype=np.float32)\n",
    "        hitByPitchPitching_cum = np.zeros(len(input_df), dtype=np.float32)\n",
    "        intentionalWalksPitching = np.zeros(len(input_df), dtype=np.float32)\n",
    "        intentionalWalksPitching_cum = np.zeros(len(input_df), dtype=np.float32)\n",
    "        balks = np.zeros(len(input_df), dtype=np.float32)\n",
    "        balks_cum = np.zeros(len(input_df), dtype=np.float32)\n",
    "        wildPitches = np.zeros(len(input_df), dtype=np.float32)\n",
    "        wildPitches_cum = np.zeros(len(input_df), dtype=np.float32)\n",
    "        atBatsPitching = np.zeros(len(input_df), dtype=np.float32)\n",
    "        atBatsPitching_cum = np.zeros(len(input_df), dtype=np.float32)\n",
    "        battersFaced = np.zeros(len(input_df), dtype=np.float32)\n",
    "        battersFaced_cum = np.zeros(len(input_df), dtype=np.float32)\n",
    "        sacBuntsPitching = np.zeros(len(input_df), dtype=np.float32)\n",
    "        sacBuntsPitching_cum = np.zeros(len(input_df), dtype=np.float32)\n",
    "        sacFliesPitching = np.zeros(len(input_df), dtype=np.float32)\n",
    "        sacFliesPitching_cum = np.zeros(len(input_df), dtype=np.float32)\n",
    "        inheritedRunners = np.zeros(len(input_df), dtype=np.float32)\n",
    "        inheritedRunners_cum = np.zeros(len(input_df), dtype=np.float32)\n",
    "        inheritedRunnersScored = np.zeros(len(input_df), dtype=np.float32)\n",
    "        inheritedRunnersScored_cum = np.zeros(len(input_df), dtype=np.float32)\n",
    "        rbiPitching = np.zeros(len(input_df), dtype=np.float32)\n",
    "        rbiPitching_cum = np.zeros(len(input_df), dtype=np.float32)\n",
    "        flyOutsPitching = np.zeros(len(input_df), dtype=np.float32)\n",
    "        flyOutsPitching_cum = np.zeros(len(input_df), dtype=np.float32)\n",
    "        airOutsPitching = np.zeros(len(input_df), dtype=np.float32)\n",
    "        airOutsPitching_cum = np.zeros(len(input_df), dtype=np.float32)\n",
    "        doublesPitching = np.zeros(len(input_df), dtype=np.float32)\n",
    "        doublesPitching_cum = np.zeros(len(input_df), dtype=np.float32)\n",
    "        triplesPitching = np.zeros(len(input_df), dtype=np.float32)\n",
    "        triplesPitching_cum = np.zeros(len(input_df), dtype=np.float32)\n",
    "        caughtStealingPitching = np.zeros(len(input_df), dtype=np.float32)\n",
    "        caughtStealingPitching_cum = np.zeros(len(input_df), dtype=np.float32)\n",
    "        stolenBasesPitching = np.zeros(len(input_df), dtype=np.float32)\n",
    "        stolenBasesPitching_cum = np.zeros(len(input_df), dtype=np.float32)\n",
    "        outsPitching = np.zeros(len(input_df), dtype=np.float32)\n",
    "        outsPitching_cum = np.zeros(len(input_df), dtype=np.float32)\n",
    "        balls = np.zeros(len(input_df), dtype=np.float32)\n",
    "        balls_cum = np.zeros(len(input_df), dtype=np.float32)\n",
    "        strikes = np.zeros(len(input_df), dtype=np.float32)\n",
    "        strikes_cum = np.zeros(len(input_df), dtype=np.float32)\n",
    "        hitBatsmen = np.zeros(len(input_df), dtype=np.float32)\n",
    "        hitBatsmen_cum = np.zeros(len(input_df), dtype=np.float32)\n",
    "        pickoffsPitching = np.zeros(len(input_df), dtype=np.float32)\n",
    "        pickoffsPitching_cum = np.zeros(len(input_df), dtype=np.float32)\n",
    "        catchersInterferencePitching = np.zeros(len(input_df), dtype=np.float32)\n",
    "        catchersInterferencePitching_cum = np.zeros(len(input_df), dtype=np.float32)\n",
    "        assists = np.zeros(len(input_df), dtype=np.float32)\n",
    "        assists_cum = np.zeros(len(input_df), dtype=np.float32)\n",
    "        putOuts = np.zeros(len(input_df), dtype=np.float32)\n",
    "        putOuts_cum = np.zeros(len(input_df), dtype=np.float32)\n",
    "        errors = np.zeros(len(input_df), dtype=np.float32)\n",
    "        errors_cum = np.zeros(len(input_df), dtype=np.float32)\n",
    "        chances = np.zeros(len(input_df), dtype=np.float32)\n",
    "        chances_cum = np.zeros(len(input_df), dtype=np.float32)\n",
    "        gamesFinishedPitching = np.zeros(len(input_df), dtype=np.float32)\n",
    "        gamesFinishedPitching_cum = np.zeros(len(input_df), dtype=np.float32)\n",
    "        groundOutsPitching = np.zeros(len(input_df), dtype=np.float32)\n",
    "        groundOutsPitching_cum = np.zeros(len(input_df), dtype=np.float32)\n",
    "\n",
    "        for i, row in enumerate(tqdm(input_df[[\"playerId\", \"date\"]].values)):\n",
    "            season = int(str(row[1])[:4])\n",
    "            playerid[i] = row[0]\n",
    "            date[i] = row[1]\n",
    "            home[i] = self.extract_score(row[0], row[1], season, self.feat_home_dict)\n",
    "            positionCode[i] = self.extract_score(row[0], row[1], season, self.feat_positionCode_dict)\n",
    "            battingOrder[i] = self.extract_score(row[0], row[1], season, self.feat_battingOrder_dict)\n",
    "            gamesPlayedBatting[i] = self.extract_score(row[0], row[1], season, self.feat_gamesPlayedBatting_dict)\n",
    "            plateAppearances[i] = self.extract_score(row[0], row[1], season, self.feat_plateAppearances_dict)\n",
    "            atBats[i] = self.extract_score(row[0], row[1], season, self.feat_atBats_dict)\n",
    "            hits[i] = self.extract_score(row[0], row[1], season, self.feat_hits_dict)\n",
    "            doubles[i] = self.extract_score(row[0], row[1], season, self.feat_doubles_dict)\n",
    "            triples[i] = self.extract_score(row[0], row[1], season, self.feat_triples_dict)\n",
    "            homeRuns[i] = self.extract_score(row[0], row[1], season, self.feat_homeRuns_dict)\n",
    "            rbi[i] = self.extract_score(row[0], row[1], season, self.feat_rbi_dict)\n",
    "            runsScored[i] = self.extract_score(row[0], row[1], season, self.feat_runsScored_dict)\n",
    "            totalBases[i] = self.extract_score(row[0], row[1], season, self.feat_totalBases_dict)\n",
    "            baseOnBalls[i] = self.extract_score(row[0], row[1], season, self.feat_baseOnBalls_dict)\n",
    "            hitByPitch[i] = self.extract_score(row[0], row[1], season, self.feat_hitByPitch_dict)\n",
    "            intentionalWalks[i] = self.extract_score(row[0], row[1], season, self.feat_intentionalWalks_dict)\n",
    "            groundIntoDoublePlay[i] = self.extract_score(row[0], row[1], season, self.feat_groundIntoDoublePlay_dict)\n",
    "            groundIntoTriplePlay[i] = self.extract_score(row[0], row[1], season, self.feat_groundIntoTriplePlay_dict)\n",
    "            strikeOuts[i] = self.extract_score(row[0], row[1], season, self.feat_strikeOuts_dict)\n",
    "            sacBunts[i] = self.extract_score(row[0], row[1], season, self.feat_sacBunts_dict)\n",
    "            sacFlies[i] = self.extract_score(row[0], row[1], season, self.feat_sacFlies_dict)\n",
    "            caughtStealing[i] = self.extract_score(row[0], row[1], season, self.feat_caughtStealing_dict)\n",
    "            stolenBases[i] = self.extract_score(row[0], row[1], season, self.feat_stolenBases_dict)\n",
    "            leftOnBase[i] = self.extract_score(row[0], row[1], season, self.feat_leftOnBase_dict)\n",
    "            catchersInterference[i] = self.extract_score(row[0], row[1], season, self.feat_catchersInterference_dict)\n",
    "            pickoffs[i] = self.extract_score(row[0], row[1], season, self.feat_pickoffs_dict)\n",
    "            flyOuts[i] = self.extract_score(row[0], row[1], season, self.feat_flyOuts_dict)\n",
    "            groundOuts[i] = self.extract_score(row[0], row[1], season, self.feat_groundOuts_dict)\n",
    "\n",
    "            gamesPlayedPitching[i] = self.extract_score(row[0], row[1], season, self.feat_gamesPlayedPitching_dict)\n",
    "            gamesStartedPitching[i] = self.extract_score(row[0], row[1], season, self.feat_gamesStartedPitching_dict)\n",
    "            winsPitching[i] = self.extract_score(row[0], row[1], season, self.feat_winsPitching_dict)\n",
    "            lossesPitching[i] = self.extract_score(row[0], row[1], season, self.feat_lossesPitching_dict)\n",
    "            completeGamesPitching[i] = self.extract_score(row[0], row[1], season, self.feat_completeGamesPitching_dict)\n",
    "            shutoutsPitching[i] = self.extract_score(row[0], row[1], season, self.feat_shutoutsPitching_dict)\n",
    "            saves[i] = self.extract_score(row[0], row[1], season, self.feat_saves_dict)\n",
    "            saveOpportunities[i] = self.extract_score(row[0], row[1], season, self.feat_saveOpportunities_dict)\n",
    "            blownSaves[i] = self.extract_score(row[0], row[1], season, self.feat_blownSaves_dict)\n",
    "            holds[i] = self.extract_score(row[0], row[1], season, self.feat_holds_dict)\n",
    "            inningsPitched[i] = self.extract_score(row[0], row[1], season, self.feat_inningsPitched_dict)\n",
    "            runsPitching[i] = self.extract_score(row[0], row[1], season, self.feat_runsPitching_dict)\n",
    "            earnedRuns[i] = self.extract_score(row[0], row[1], season, self.feat_earnedRuns_dict)\n",
    "            pitchesThrown[i] = self.extract_score(row[0], row[1], season, self.feat_pitchesThrown_dict)\n",
    "            hitsPitching[i] = self.extract_score(row[0], row[1], season, self.feat_hitsPitching_dict)\n",
    "            homeRunsPitching[i] = self.extract_score(row[0], row[1], season, self.feat_homeRunsPitching_dict)\n",
    "            strikeOutsPitching[i] = self.extract_score(row[0], row[1], season, self.feat_strikeOutsPitching_dict)\n",
    "            baseOnBallsPitching[i] = self.extract_score(row[0], row[1], season, self.feat_baseOnBallsPitching_dict)\n",
    "            hitByPitchPitching[i] = self.extract_score(row[0], row[1], season, self.feat_hitByPitchPitching_dict)\n",
    "            intentionalWalksPitching[i] = self.extract_score(row[0], row[1], season, self.feat_intentionalWalksPitching_dict)\n",
    "            balks[i] = self.extract_score(row[0], row[1], season, self.feat_balks_dict)\n",
    "            wildPitches[i] = self.extract_score(row[0], row[1], season, self.feat_wildPitches_dict)\n",
    "            atBatsPitching[i] = self.extract_score(row[0], row[1], season, self.feat_atBatsPitching_dict)\n",
    "            battersFaced[i] = self.extract_score(row[0], row[1], season, self.feat_battersFaced_dict)\n",
    "            sacBuntsPitching[i] = self.extract_score(row[0], row[1], season, self.feat_sacBuntsPitching_dict)\n",
    "            sacFliesPitching[i] = self.extract_score(row[0], row[1], season, self.feat_sacFliesPitching_dict)\n",
    "            inheritedRunners[i] = self.extract_score(row[0], row[1], season, self.feat_inheritedRunners_dict)\n",
    "            inheritedRunnersScored[i] = self.extract_score(row[0], row[1], season, self.feat_inheritedRunnersScored_dict)\n",
    "            rbiPitching[i] = self.extract_score(row[0], row[1], season, self.feat_rbiPitching_dict)\n",
    "            flyOutsPitching[i] = self.extract_score(row[0], row[1], season, self.feat_flyOutsPitching_dict)\n",
    "            airOutsPitching[i] = self.extract_score(row[0], row[1], season, self.feat_airOutsPitching_dict)\n",
    "            doublesPitching[i] = self.extract_score(row[0], row[1], season, self.feat_doublesPitching_dict)\n",
    "            triplesPitching[i] = self.extract_score(row[0], row[1], season, self.feat_triplesPitching_dict)\n",
    "            caughtStealingPitching[i] = self.extract_score(row[0], row[1], season, self.feat_caughtStealingPitching_dict)\n",
    "            stolenBasesPitching[i] = self.extract_score(row[0], row[1], season, self.feat_stolenBasesPitching_dict)\n",
    "            outsPitching[i] = self.extract_score(row[0], row[1], season, self.feat_outsPitching_dict)\n",
    "            balls[i] = self.extract_score(row[0], row[1], season, self.feat_balls_dict)\n",
    "            strikes[i] = self.extract_score(row[0], row[1], season, self.feat_strikes_dict)\n",
    "            hitBatsmen[i] = self.extract_score(row[0], row[1], season, self.feat_hitBatsmen_dict)\n",
    "            pickoffsPitching[i] = self.extract_score(row[0], row[1], season, self.feat_pickoffsPitching_dict)\n",
    "            catchersInterferencePitching[i] = self.extract_score(row[0], row[1], season, self.feat_catchersInterferencePitching_dict)\n",
    "            assists[i] = self.extract_score(row[0], row[1], season, self.feat_assists_dict)\n",
    "            putOuts[i] = self.extract_score(row[0], row[1], season, self.feat_putOuts_dict)\n",
    "            errors[i] = self.extract_score(row[0], row[1], season, self.feat_errors_dict)\n",
    "            chances[i] = self.extract_score(row[0], row[1], season, self.feat_chances_dict)\n",
    "            gamesFinishedPitching[i] = self.extract_score(row[0], row[1], season, self.feat_gamesFinishedPitching_dict)\n",
    "            groundOutsPitching[i] = self.extract_score(row[0], row[1], season, self.feat_groundOutsPitching_dict)\n",
    "\n",
    "            home_cum[i] = self.extract_cumsum_score(row[0], row[1], season, self.feat_home_cum_dict)\n",
    "            gamesPlayedBatting_cum[i] = self.extract_cumsum_score(row[0], row[1], season, self.feat_gamesPlayedBatting_cum_dict)\n",
    "            plateAppearances_cum[i] = self.extract_cumsum_score(row[0], row[1], season, self.feat_plateAppearances_cum_dict)\n",
    "            atBats_cum[i] = self.extract_cumsum_score(row[0], row[1], season, self.feat_atBats_cum_dict)\n",
    "            hits_cum[i] = self.extract_cumsum_score(row[0], row[1], season, self.feat_hits_cum_dict)\n",
    "            doubles_cum[i] = self.extract_cumsum_score(row[0], row[1], season, self.feat_doubles_cum_dict)\n",
    "            triples_cum[i] = self.extract_cumsum_score(row[0], row[1], season, self.feat_triples_cum_dict)\n",
    "            homeRuns_cum[i] = self.extract_cumsum_score(row[0], row[1], season, self.feat_homeRuns_cum_dict)\n",
    "            rbi_cum[i] = self.extract_cumsum_score(row[0], row[1], season, self.feat_rbi_cum_dict)\n",
    "            runsScored_cum[i] = self.extract_cumsum_score(row[0], row[1], season, self.feat_runsScored_cum_dict)\n",
    "            totalBases_cum[i] = self.extract_cumsum_score(row[0], row[1], season, self.feat_totalBases_cum_dict)\n",
    "            baseOnBalls_cum[i] = self.extract_cumsum_score(row[0], row[1], season, self.feat_baseOnBalls_cum_dict)\n",
    "            hitByPitch_cum[i] = self.extract_cumsum_score(row[0], row[1], season, self.feat_hitByPitch_cum_dict)\n",
    "            intentionalWalks_cum[i] = self.extract_cumsum_score(row[0], row[1], season, self.feat_intentionalWalks_cum_dict)\n",
    "            groundIntoDoublePlay_cum[i] = self.extract_cumsum_score(row[0], row[1], season, self.feat_groundIntoDoublePlay_cum_dict)\n",
    "            groundIntoTriplePlay_cum[i] = self.extract_cumsum_score(row[0], row[1], season, self.feat_groundIntoTriplePlay_cum_dict)\n",
    "            strikeOuts_cum[i] = self.extract_cumsum_score(row[0], row[1], season, self.feat_strikeOuts_cum_dict)\n",
    "            sacBunts_cum[i] = self.extract_cumsum_score(row[0], row[1], season, self.feat_sacBunts_cum_dict)\n",
    "            sacFlies_cum[i] = self.extract_cumsum_score(row[0], row[1], season, self.feat_sacFlies_cum_dict)\n",
    "            caughtStealing_cum[i] = self.extract_cumsum_score(row[0], row[1], season, self.feat_caughtStealing_cum_dict)\n",
    "            stolenBases_cum[i] = self.extract_cumsum_score(row[0], row[1], season, self.feat_stolenBases_cum_dict)\n",
    "            leftOnBase_cum[i] = self.extract_cumsum_score(row[0], row[1], season, self.feat_leftOnBase_cum_dict)\n",
    "            catchersInterference_cum[i] = self.extract_cumsum_score(row[0], row[1], season, self.feat_catchersInterference_cum_dict)\n",
    "            pickoffs_cum[i] = self.extract_cumsum_score(row[0], row[1], season, self.feat_pickoffs_cum_dict)\n",
    "            flyOuts_cum[i] = self.extract_cumsum_score(row[0], row[1], season, self.feat_flyOuts_cum_dict)\n",
    "            groundOuts_cum[i] = self.extract_cumsum_score(row[0], row[1], season, self.feat_groundOuts_cum_dict)\n",
    "\n",
    "            gamesPlayedPitching_cum[i] = self.extract_cumsum_score(row[0], row[1], season, self.feat_gamesPlayedPitching_cum_dict)\n",
    "            gamesStartedPitching_cum[i] = self.extract_cumsum_score(row[0], row[1], season, self.feat_gamesStartedPitching_cum_dict)\n",
    "            winsPitching_cum[i] = self.extract_cumsum_score(row[0], row[1], season, self.feat_winsPitching_cum_dict)\n",
    "            lossesPitching_cum[i] = self.extract_cumsum_score(row[0], row[1], season, self.feat_lossesPitching_cum_dict)\n",
    "            completeGamesPitching_cum[i] = self.extract_cumsum_score(row[0], row[1], season, self.feat_completeGamesPitching_cum_dict)\n",
    "            shutoutsPitching_cum[i] = self.extract_cumsum_score(row[0], row[1], season, self.feat_shutoutsPitching_cum_dict)\n",
    "            saves_cum[i] = self.extract_cumsum_score(row[0], row[1], season, self.feat_saves_cum_dict)\n",
    "            saveOpportunities_cum[i] = self.extract_cumsum_score(row[0], row[1], season, self.feat_saveOpportunities_cum_dict)\n",
    "            blownSaves_cum[i] = self.extract_cumsum_score(row[0], row[1], season, self.feat_blownSaves_cum_dict)\n",
    "            holds_cum[i] = self.extract_cumsum_score(row[0], row[1], season, self.feat_holds_cum_dict)\n",
    "            inningsPitched_cum[i] = self.extract_cumsum_score(row[0], row[1], season, self.feat_inningsPitched_cum_dict)\n",
    "            runsPitching_cum[i] = self.extract_cumsum_score(row[0], row[1], season, self.feat_runsPitching_cum_dict)\n",
    "            earnedRuns_cum[i] = self.extract_cumsum_score(row[0], row[1], season, self.feat_earnedRuns_cum_dict)\n",
    "            pitchesThrown_cum[i] = self.extract_cumsum_score(row[0], row[1], season, self.feat_pitchesThrown_cum_dict)\n",
    "            hitsPitching_cum[i] = self.extract_cumsum_score(row[0], row[1], season, self.feat_hitsPitching_cum_dict)\n",
    "            homeRunsPitching_cum[i] = self.extract_cumsum_score(row[0], row[1], season, self.feat_homeRunsPitching_cum_dict)\n",
    "            strikeOutsPitching_cum[i] = self.extract_cumsum_score(row[0], row[1], season, self.feat_strikeOutsPitching_cum_dict)\n",
    "            baseOnBallsPitching_cum[i] = self.extract_cumsum_score(row[0], row[1], season, self.feat_baseOnBallsPitching_cum_dict)\n",
    "            hitByPitchPitching_cum[i] = self.extract_cumsum_score(row[0], row[1], season, self.feat_hitByPitchPitching_cum_dict)\n",
    "            intentionalWalksPitching_cum[i] = self.extract_cumsum_score(row[0], row[1], season, self.feat_intentionalWalksPitching_cum_dict)\n",
    "            balks_cum[i] = self.extract_cumsum_score(row[0], row[1], season, self.feat_balks_cum_dict)\n",
    "            wildPitches_cum[i] = self.extract_cumsum_score(row[0], row[1], season, self.feat_wildPitches_cum_dict)\n",
    "            atBatsPitching_cum[i] = self.extract_cumsum_score(row[0], row[1], season, self.feat_atBatsPitching_cum_dict)\n",
    "            battersFaced_cum[i] = self.extract_cumsum_score(row[0], row[1], season, self.feat_battersFaced_cum_dict)\n",
    "            sacBuntsPitching_cum[i] = self.extract_cumsum_score(row[0], row[1], season, self.feat_sacBuntsPitching_cum_dict)\n",
    "            sacFliesPitching_cum[i] = self.extract_cumsum_score(row[0], row[1], season, self.feat_sacFliesPitching_cum_dict)\n",
    "            inheritedRunners_cum[i] = self.extract_cumsum_score(row[0], row[1], season, self.feat_inheritedRunners_cum_dict)\n",
    "            inheritedRunnersScored_cum[i] = self.extract_cumsum_score(row[0], row[1], season, self.feat_inheritedRunnersScored_cum_dict)\n",
    "            rbiPitching_cum[i] = self.extract_cumsum_score(row[0], row[1], season, self.feat_rbiPitching_cum_dict)\n",
    "            flyOutsPitching_cum[i] = self.extract_cumsum_score(row[0], row[1], season, self.feat_flyOutsPitching_cum_dict)\n",
    "            airOutsPitching_cum[i] = self.extract_cumsum_score(row[0], row[1], season, self.feat_airOutsPitching_cum_dict)\n",
    "            doublesPitching_cum[i] = self.extract_cumsum_score(row[0], row[1], season, self.feat_doublesPitching_cum_dict)\n",
    "            triplesPitching_cum[i] = self.extract_cumsum_score(row[0], row[1], season, self.feat_triplesPitching_cum_dict)\n",
    "            caughtStealingPitching_cum[i] = self.extract_cumsum_score(row[0], row[1], season, self.feat_caughtStealingPitching_cum_dict)\n",
    "            stolenBasesPitching_cum[i] = self.extract_cumsum_score(row[0], row[1], season, self.feat_stolenBasesPitching_cum_dict)\n",
    "            outsPitching_cum[i] = self.extract_cumsum_score(row[0], row[1], season, self.feat_outsPitching_cum_dict)\n",
    "            balls_cum[i] = self.extract_cumsum_score(row[0], row[1], season, self.feat_balls_cum_dict)\n",
    "            strikes_cum[i] = self.extract_cumsum_score(row[0], row[1], season, self.feat_strikes_cum_dict)\n",
    "            hitBatsmen_cum[i] = self.extract_cumsum_score(row[0], row[1], season, self.feat_hitBatsmen_cum_dict)\n",
    "            pickoffsPitching_cum[i] = self.extract_cumsum_score(row[0], row[1], season, self.feat_pickoffsPitching_cum_dict)\n",
    "            catchersInterferencePitching_cum[i] = self.extract_cumsum_score(row[0], row[1], season, self.feat_catchersInterferencePitching_cum_dict)\n",
    "            assists_cum[i] = self.extract_cumsum_score(row[0], row[1], season, self.feat_assists_cum_dict)\n",
    "            putOuts_cum[i] = self.extract_cumsum_score(row[0], row[1], season, self.feat_putOuts_cum_dict)\n",
    "            errors_cum[i] = self.extract_cumsum_score(row[0], row[1], season, self.feat_errors_cum_dict)\n",
    "            chances_cum[i] = self.extract_cumsum_score(row[0], row[1], season, self.feat_chances_cum_dict)\n",
    "            gamesFinishedPitching_cum[i] = self.extract_cumsum_score(row[0], row[1], season, self.feat_gamesFinishedPitching_cum_dict)\n",
    "            groundOutsPitching_cum[i] = self.extract_cumsum_score(row[0], row[1], season, self.feat_groundOutsPitching_cum_dict)\n",
    "\n",
    "        output_df = pd.DataFrame({\n",
    "            \"date\": date,\n",
    "            \"home\": home, \n",
    "            \"home_cum\": home_cum,\n",
    "            \"positionCode\": positionCode,\n",
    "            \"battingOrder\": battingOrder,\n",
    "            \"gamesPlayedBatting\": gamesPlayedBatting,\n",
    "            \"gamesPlayedBatting_cum\": gamesPlayedBatting_cum,\n",
    "            \"plateAppearances\": plateAppearances,\n",
    "            \"plateAppearances_cum\": plateAppearances_cum,\n",
    "            \"atBats\": atBats,\n",
    "            \"atBats_cum\": atBats_cum,\n",
    "            \"hits\": hits,\n",
    "            \"hits_cum\": hits_cum,\n",
    "            \"doubles\": doubles,\n",
    "            \"doubles_cum\": doubles_cum,\n",
    "            \"triples\": triples,\n",
    "            \"triples_cum\": triples_cum,\n",
    "            \"homeRuns\": homeRuns,\n",
    "            \"homeRuns_cum\": homeRuns_cum,\n",
    "            \"rbi\": rbi,\n",
    "            \"rbi_cum\": rbi_cum,\n",
    "            \"runsScored\": runsScored,\n",
    "            \"runsScored_cum\": runsScored_cum,\n",
    "            \"totalBases\": totalBases,\n",
    "            \"totalBases_cum\": totalBases_cum,\n",
    "            \"baseOnBalls\": baseOnBalls,\n",
    "            \"baseOnBalls_cum\": baseOnBalls_cum,\n",
    "            \"hitByPitch\": hitByPitch,\n",
    "            \"hitByPitch_cum\": hitByPitch_cum,\n",
    "            \"intentionalWalks\": intentionalWalks,\n",
    "            \"intentionalWalks_cum\": intentionalWalks_cum,\n",
    "            \"groundIntoDoublePlay\": groundIntoDoublePlay,\n",
    "            \"groundIntoDoublePlay_cum\": groundIntoDoublePlay_cum,\n",
    "            \"groundIntoTriplePlay\": groundIntoTriplePlay,\n",
    "            \"groundIntoTriplePlay_cum\": groundIntoTriplePlay_cum,\n",
    "            \"strikeOuts\": strikeOuts,\n",
    "            \"strikeOuts_cum\": strikeOuts_cum,\n",
    "            \"sacBunts\": sacBunts,\n",
    "            \"sacBunts_cum\": sacBunts_cum,\n",
    "            \"sacFlies\": sacFlies,\n",
    "            \"sacFlies_cum\": sacFlies_cum,\n",
    "            \"caughtStealing\": caughtStealing,\n",
    "            \"caughtStealing_cum\": caughtStealing_cum,\n",
    "            \"stolenBases\": stolenBases,\n",
    "            \"stolenBases_cum\": stolenBases_cum,\n",
    "            \"leftOnBase\": leftOnBase,\n",
    "            \"leftOnBase_cum\": leftOnBase_cum,\n",
    "            \"catchersInterference\": catchersInterference,\n",
    "            \"catchersInterference_cum\": catchersInterference_cum,\n",
    "            \"pickoffs\": pickoffs,\n",
    "            \"pickoffs_cum\": pickoffs_cum,\n",
    "            \"flyOuts\": flyOuts,\n",
    "            \"flyOuts_cum\": flyOuts_cum,\n",
    "            \"groundOuts\": groundOuts,\n",
    "            \"groundOuts_cum\": groundOuts_cum,\n",
    "            \"gamesPlayedPitching\": gamesPlayedPitching,\n",
    "            \"gamesPlayedPitching_cum\": gamesPlayedPitching_cum,\n",
    "            \"gamesStartedPitching\": gamesStartedPitching,\n",
    "            \"gamesStartedPitching_cum\": gamesStartedPitching_cum,\n",
    "            \"winsPitching\": winsPitching,\n",
    "            \"winsPitching_cum\": winsPitching_cum,\n",
    "            \"lossesPitching\": lossesPitching,\n",
    "            \"lossesPitching_cum\": lossesPitching_cum,\n",
    "            \"completeGamesPitching\": completeGamesPitching,\n",
    "            \"completeGamesPitching_cum\": completeGamesPitching_cum,\n",
    "            \"shutoutsPitching\": shutoutsPitching,\n",
    "            \"shutoutsPitching_cum\": shutoutsPitching_cum,\n",
    "            \"saves\": saves,\n",
    "            \"saves_cum\": saves_cum,\n",
    "            \"saveOpportunities\": saveOpportunities,\n",
    "            \"saveOpportunities_cum\": saveOpportunities_cum,\n",
    "            \"blownSaves\": blownSaves,\n",
    "            \"blownSaves_cum\": blownSaves_cum,\n",
    "            \"holds\": holds,\n",
    "            \"holds_cum\": holds_cum,\n",
    "            \"inningsPitched\": inningsPitched,\n",
    "            \"inningsPitched_cum\": inningsPitched_cum,\n",
    "            \"runsPitching\": runsPitching,\n",
    "            \"runsPitching_cum\": runsPitching_cum,\n",
    "            \"earnedRuns\": earnedRuns,\n",
    "            \"earnedRuns_cum\": earnedRuns_cum,\n",
    "            \"pitchesThrown\": pitchesThrown,\n",
    "            \"pitchesThrown_cum\": pitchesThrown_cum,\n",
    "            \"hitsPitching\": hitsPitching,\n",
    "            \"hitsPitching_cum\": hitsPitching_cum,\n",
    "            \"homeRunsPitching\": homeRunsPitching,\n",
    "            \"homeRunsPitching_cum\": homeRunsPitching_cum,\n",
    "            \"strikeOutsPitching\": strikeOutsPitching,\n",
    "            \"strikeOutsPitching_cum\": strikeOutsPitching_cum,\n",
    "            \"baseOnBallsPitching\": baseOnBallsPitching,\n",
    "            \"baseOnBallsPitching_cum\": baseOnBallsPitching_cum,\n",
    "            \"hitByPitchPitching\": hitByPitchPitching,\n",
    "            \"hitByPitchPitching_cum\": hitByPitchPitching_cum,\n",
    "            \"intentionalWalksPitching\": intentionalWalksPitching,\n",
    "            \"intentionalWalksPitching_cum\": intentionalWalksPitching_cum,\n",
    "            \"balks\": balks,\n",
    "            \"balks_cum\": balks_cum,\n",
    "            \"wildPitches\": wildPitches,\n",
    "            \"wildPitches_cum\": wildPitches_cum,\n",
    "            \"atBatsPitching\": atBatsPitching,\n",
    "            \"atBatsPitching_cum\": atBatsPitching_cum,\n",
    "            \"battersFaced\": battersFaced,\n",
    "            \"battersFaced_cum\": battersFaced_cum,\n",
    "            \"sacBuntsPitching\": sacBuntsPitching,\n",
    "            \"sacBuntsPitching_cum\": sacBuntsPitching_cum,\n",
    "            \"sacFliesPitching\": sacFliesPitching,\n",
    "            \"sacFliesPitching_cum\": sacFliesPitching_cum,\n",
    "            \"inheritedRunners\": inheritedRunners,\n",
    "            \"inheritedRunners_cum\": inheritedRunners_cum,\n",
    "            \"inheritedRunnersScored\": inheritedRunnersScored,\n",
    "            \"inheritedRunnersScored_cum\": inheritedRunnersScored_cum,\n",
    "            \"rbiPitching\": rbiPitching,\n",
    "            \"rbiPitching_cum\": rbiPitching_cum,\n",
    "            \"flyOutsPitching\": flyOutsPitching,\n",
    "            \"flyOutsPitching_cum\": flyOutsPitching_cum,\n",
    "            \"airOutsPitching\": airOutsPitching,\n",
    "            \"airOutsPitching_cum\": airOutsPitching_cum,\n",
    "            \"doublesPitching\": doublesPitching,\n",
    "            \"doublesPitching_cum\": doublesPitching_cum,\n",
    "            \"triplesPitching\": triplesPitching,\n",
    "            \"triplesPitching_cum\": triplesPitching_cum,\n",
    "            \"caughtStealingPitching\": caughtStealingPitching,\n",
    "            \"caughtStealingPitching_cum\": caughtStealingPitching_cum,\n",
    "            \"stolenBasesPitching\": stolenBasesPitching,\n",
    "            \"stolenBasesPitching_cum\": stolenBasesPitching_cum,\n",
    "            \"outsPitching\": outsPitching,\n",
    "            \"outsPitching_cum\": outsPitching_cum,\n",
    "            \"balls\": balls,\n",
    "            \"balls_cum\": balls_cum,\n",
    "            \"strikes\": strikes,\n",
    "            \"strikes_cum\": strikes_cum,\n",
    "            \"hitBatsmen\": hitBatsmen,\n",
    "            \"hitBatsmen_cum\": hitBatsmen_cum,\n",
    "            \"pickoffsPitching\": pickoffsPitching,\n",
    "            \"pickoffsPitching_cum\": pickoffsPitching_cum,\n",
    "            \"catchersInterferencePitching\": catchersInterferencePitching,\n",
    "            \"catchersInterferencePitching_cum\": catchersInterferencePitching_cum,\n",
    "            \"assists\": assists,\n",
    "            \"assists_cum\": assists_cum,\n",
    "            \"putOuts\": putOuts,\n",
    "            \"putOuts_cum\": putOuts_cum,\n",
    "            \"errors\": errors,\n",
    "            \"errors_cum\": errors_cum,\n",
    "            \"chances\": chances,\n",
    "            \"chances_cum\": chances_cum,\n",
    "            \"gamesFinishedPitching\": gamesFinishedPitching,\n",
    "            \"gamesFinishedPitching_cum\": gamesFinishedPitching_cum,\n",
    "            \"groundOutsPitching\": groundOutsPitching,\n",
    "            \"groundOutsPitching_cum\": groundOutsPitching_cum,\n",
    "        })\n",
    "\n",
    "        # 打撃指標\n",
    "        output_df[\"battingAverage\"] = output_df[\"hits_cum\"] / output_df[\"atBats_cum\"] # 打率\n",
    "        output_df[\"sluggingPercentage\"] = output_df[\"totalBases_cum\"] / output_df[\"atBats_cum\"] # 長打率\n",
    "        output_df[\"onBasePercentage\"] = (output_df[\"hits_cum\"] + output_df[\"baseOnBalls_cum\"] + output_df[\"hitByPitch_cum\"])/(output_df[\"atBats_cum\"] + output_df[\"baseOnBalls_cum\"] + output_df[\"hitByPitch_cum\"] + output_df[\"sacFlies_cum\"]) # 出塁率\n",
    "        output_df[\"ops\"] = output_df[\"sluggingPercentage\"] + output_df[\"onBasePercentage\"] # OPS\n",
    "        output_df[\"isop\"] = output_df[\"sluggingPercentage\"] - output_df[\"battingAverage\"] # IsoP\n",
    "        output_df[\"isod\"] = output_df[\"onBasePercentage\"] - output_df[\"battingAverage\"] # IsoD\n",
    "        output_df[\"rc\"] = (output_df[\"hits_cum\"] + output_df[\"baseOnBalls_cum\"]) * output_df[\"totalBases_cum\"] / (output_df[\"atBats_cum\"] + output_df[\"baseOnBalls_cum\"]) # RC\n",
    "        output_df[\"rc27\"] = output_df[\"rc\"] / (output_df[\"atBats_cum\"] - output_df[\"hits_cum\"] + output_df[\"caughtStealing_cum\"] + output_df[\"sacBunts_cum\"] + output_df[\"sacFlies_cum\"] + output_df[\"groundIntoDoublePlay_cum\"]) * 27 # RC27\n",
    "        output_df[\"rc27\"] = output_df[\"rc27\"].replace({np.inf: 0})\n",
    "        output_df[\"babip\"] = (output_df[\"hits_cum\"] - output_df[\"homeRuns_cum\"]) / (output_df[\"atBats_cum\"] - output_df[\"strikeOuts_cum\"] - output_df[\"homeRuns_cum\"] + output_df[\"sacFlies_cum\"]) # BABIP\n",
    "        output_df[\"bb_k\"] = output_df[\"baseOnBalls_cum\"] / output_df[\"strikeOuts_cum\"] # BB/K\n",
    "        output_df[\"k%\"] = output_df[\"strikeOuts_cum\"] / output_df[\"plateAppearances_cum\"] # K%\n",
    "\n",
    "        # 投手指標\n",
    "        output_df[\"qs\"] = ((output_df[\"inningsPitched\"] >= 6) & (output_df[\"runsPitching\"] <= 3)) * output_df[\"gamesStartedPitching\"]\n",
    "        output_df[\"hqs\"] = ((output_df[\"inningsPitched\"] >= 7) & (output_df[\"runsPitching\"] <= 2)) * output_df[\"gamesStartedPitching\"]\n",
    "        output_df[\"era\"] = output_df[\"earnedRuns_cum\"] * 9 / output_df[\"inningsPitched_cum\"] # 防御率\n",
    "        output_df[\"wp\"] = output_df[\"winsPitching_cum\"] / (output_df[\"winsPitching_cum\"] + output_df[\"lossesPitching_cum\"]) # 勝率\n",
    "        output_df[\"k9\"] = output_df[\"strikeOutsPitching_cum\"] * 9 / output_df[\"inningsPitched_cum\"] # K/9(奪三振率)\n",
    "        output_df[\"hits_allowed_average\"] = output_df[\"hitsPitching_cum\"] / output_df[\"atBatsPitching_cum\"] # 被打率\n",
    "        output_df[\"hp\"] = output_df[\"holds_cum\"] + output_df[\"winsPitching_cum\"] # HP\n",
    "        # output_df[\"qs%\"] = output_df[\"qs_cum\"] / output_df[\"gamesStartedPitching_cum\"] # QS率\n",
    "        # output_df[\"hqs%\"] = output_df[\"hqs_cum\"] / output_df[\"gamesStartedPitching_cum\"] # HQS率\n",
    "        output_df[\"k%_pitching\"] = output_df[\"strikeOutsPitching_cum\"] / output_df[\"battersFaced_cum\"] # K%\n",
    "        output_df[\"bb9\"] = output_df[\"baseOnBallsPitching_cum\"] * 9 / output_df[\"inningsPitched_cum\"] # BB/9\n",
    "        output_df[\"bb%\"] = output_df[\"baseOnBallsPitching_cum\"] / output_df[\"battersFaced_cum\"] # BB%\n",
    "        output_df[\"k_bb\"] = output_df[\"strikeOutsPitching_cum\"] / (output_df[\"baseOnBallsPitching_cum\"] + output_df[\"hitByPitchPitching_cum\"]) # K/BB\n",
    "        output_df[\"hr9\"] = output_df[\"homeRunsPitching_cum\"] * 9 / output_df[\"inningsPitched_cum\"] # HR/9\n",
    "        output_df[\"babip_pitching\"] = (output_df[\"hitsPitching_cum\"] - output_df[\"homeRunsPitching_cum\"]) / (output_df[\"atBatsPitching_cum\"] - output_df[\"strikeOutsPitching_cum\"] - output_df[\"homeRunsPitching_cum\"] + output_df[\"sacFliesPitching_cum\"]) # BABIP\n",
    "        output_df[\"whip\"] = (output_df[\"baseOnBallsPitching_cum\"] + output_df[\"hitsPitching_cum\"]) / output_df[\"inningsPitched_cum\"] # WHIP\n",
    "\n",
    "        # ランキング\n",
    "        output_df[\"homeRuns_rank\"] = output_df.groupby([\"date\"])[\"homeRuns_cum\"].rank(ascending=False, method=\"min\")\n",
    "        output_df[\"hits_rank\"] = output_df.groupby([\"date\"])[\"hits_cum\"].rank(ascending=False, method=\"min\")\n",
    "        output_df[\"rbi_rank\"] = output_df.groupby([\"date\"])[\"rbi_cum\"].rank(ascending=False, method=\"min\")\n",
    "        output_df[\"doubles_rank\"] = output_df.groupby([\"date\"])[\"doubles_cum\"].rank(ascending=False, method=\"min\")\n",
    "        output_df[\"triples_rank\"] = output_df.groupby([\"date\"])[\"triples_cum\"].rank(ascending=False, method=\"min\")\n",
    "        output_df[\"runsScored_rank\"] = output_df.groupby([\"date\"])[\"runsScored_cum\"].rank(ascending=False, method=\"min\")\n",
    "        output_df[\"totalBases_rank\"] = output_df.groupby([\"date\"])[\"totalBases_cum\"].rank(ascending=False, method=\"min\")\n",
    "        output_df[\"baseOnBalls_rank\"] = output_df.groupby([\"date\"])[\"baseOnBalls_cum\"].rank(ascending=False, method=\"min\")\n",
    "        output_df[\"hitByPitch_rank\"] = output_df.groupby([\"date\"])[\"hitByPitch_cum\"].rank(ascending=False, method=\"min\")\n",
    "        output_df[\"strikeOuts_rank\"] = output_df.groupby([\"date\"])[\"strikeOuts_cum\"].rank(ascending=False, method=\"min\")\n",
    "        output_df[\"stolenBases_rank\"] = output_df.groupby([\"date\"])[\"stolenBases_cum\"].rank(ascending=False, method=\"min\")\n",
    "        output_df[\"plateAppearances_rank\"] = output_df.groupby([\"date\"])[\"plateAppearances_cum\"].rank(ascending=False, method=\"min\")\n",
    "        output_df[\"atBats_rank\"] = output_df.groupby([\"date\"])[\"atBats_cum\"].rank(ascending=False, method=\"min\")\n",
    "\n",
    "        output_df[\"battingAverage_rank\"] = output_df[output_df[\"gamesPlayedBatting\"] == 1.0].groupby([\"date\"])[\"battingAverage\"].rank(ascending=False, method=\"min\")\n",
    "        output_df[\"ops_rank\"] = output_df.groupby([\"date\"])[\"ops\"].rank(ascending=False, method=\"min\")\n",
    "        output_df[\"isop_rank\"] = output_df.groupby([\"date\"])[\"isop\"].rank(ascending=False, method=\"min\")\n",
    "        output_df[\"isod_rank\"] = output_df.groupby([\"date\"])[\"isod\"].rank(ascending=False, method=\"min\")\n",
    "        output_df[\"rc_rank\"] = output_df.groupby([\"date\"])[\"rc\"].rank(ascending=False, method=\"min\")\n",
    "        output_df[\"rc27_rank\"] = output_df.groupby([\"date\"])[\"rc27\"].rank(ascending=False, method=\"min\")\n",
    "        output_df[\"babip_rank\"] = output_df.groupby([\"date\"])[\"babip\"].rank(ascending=False, method=\"min\")\n",
    "        output_df[\"bb_k_rank\"] = output_df.groupby([\"date\"])[\"bb_k\"].rank(ascending=False, method=\"min\")\n",
    "        output_df[\"k%_rank\"] = output_df.groupby([\"date\"])[\"k%\"].rank(ascending=False, method=\"min\")\n",
    "\n",
    "        output_df[\"winsPitching_rank\"] = output_df.groupby([\"date\"])[\"winsPitching_cum\"].rank(ascending=False, method=\"min\")\n",
    "        output_df[\"lossesPitching_rank\"] = output_df.groupby([\"date\"])[\"lossesPitching_cum\"].rank(ascending=False, method=\"min\")\n",
    "        output_df[\"saves_rank\"] = output_df.groupby([\"date\"])[\"saves_cum\"].rank(ascending=False, method=\"min\")\n",
    "        output_df[\"holds_rank\"] = output_df.groupby([\"date\"])[\"holds_cum\"].rank(ascending=False, method=\"min\")\n",
    "        output_df[\"completeGamesPitching_rank\"] = output_df.groupby([\"date\"])[\"completeGamesPitching_cum\"].rank(ascending=False, method=\"min\")\n",
    "        output_df[\"shutoutsPitching_rank\"] = output_df.groupby([\"date\"])[\"shutoutsPitching_cum\"].rank(ascending=False, method=\"min\")\n",
    "        output_df[\"inningsPitched_rank\"] = output_df.groupby([\"date\"])[\"inningsPitched_cum\"].rank(ascending=False, method=\"min\")\n",
    "        output_df[\"runsPitching_rank\"] = output_df.groupby([\"date\"])[\"runsPitching_cum\"].rank(ascending=False, method=\"min\")\n",
    "        output_df[\"earnedRuns_rank\"] = output_df.groupby([\"date\"])[\"earnedRuns_cum\"].rank(ascending=False, method=\"min\")\n",
    "\n",
    "        output_df[\"era_rank\"] = output_df.groupby([\"date\"])[\"era\"].rank(ascending=False, method=\"min\")\n",
    "        output_df[\"whip_rank\"] = output_df.groupby([\"date\"])[\"whip\"].rank(ascending=False, method=\"min\")\n",
    "        \n",
    "        return output_df.drop(columns=[\"date\"], axis=1).add_prefix(\"PlayerStats_\")\n",
    "\n",
    "    def extract_score(self, x, y, z, dict):\n",
    "        if y in dict[x][z].keys():\n",
    "            return dict[x][z][y]\n",
    "        else:\n",
    "            return np.nan\n",
    "\n",
    "    def extract_cumsum_score(self, x, y, z, dict):\n",
    "        previous_gamedates = [i for i in dict[x][z].keys() if i < y]\n",
    "        if y in dict[x][z].keys():\n",
    "            return dict[x][z][y]\n",
    "        elif len(previous_gamedates) != 0:\n",
    "            return dict[x][z][max(previous_gamedates)]\n",
    "        elif len(previous_gamedates) == 0:\n",
    "            return np.nan\n",
    "\n",
    "    def add_cumsum2dict(self, x, y, z, dict, value):\n",
    "        value = value if value == value else 0\n",
    "        previous_gamedates = [i for i in dict[x][z].keys() if i < y]\n",
    "        if len(previous_gamedates) != 0:\n",
    "            return value + dict[x][z][max(previous_gamedates)]\n",
    "        else:\n",
    "            return value\n",
    "\n",
    "\n",
    "class StandingsMetaBlock(BaseBlock):\n",
    "    def __init__(self, columns: List[str]):\n",
    "        self.columns = columns\n",
    "\n",
    "    def fit(\n",
    "        self,\n",
    "        input_df: pd.DataFrame,\n",
    "        target_df: pd.DataFrame,\n",
    "        rosters_df: pd.DataFrame,\n",
    "        playerBoxScores_df: pd.DataFrame,\n",
    "        standings_df: pd.DataFrame,\n",
    "        only_fit: bool\n",
    "    ):\n",
    "        return self.transform(\n",
    "            input_df,\n",
    "            target_df,\n",
    "            rosters_df,\n",
    "            playerBoxScores_df,\n",
    "            standings_df,\n",
    "        )\n",
    "\n",
    "    def transform(\n",
    "        self,\n",
    "        input_df: pd.DataFrame,\n",
    "        target_df: pd.DataFrame,\n",
    "        rosters_df: pd.DataFrame,\n",
    "        playerBoxScores_df: pd.DataFrame,\n",
    "        standings_df: pd.DataFrame,\n",
    "    ):\n",
    "        self.standings_df = rosters_df[[\"date\", \"playerId\", \"teamId\"]].merge(standings_df[self.columns], on=[\"date\", \"teamId\"], how=\"left\")\n",
    "\n",
    "        return merge_by_key(input_df, self.standings_df.drop(columns=[\"teamId\"], axis=1)).add_prefix(\"StandingsMeta_\")\n",
    "\n",
    "\n",
    "def convert_cos(x, range):\n",
    "    return np.cos(2 * np.pi * (x / range))\n",
    "\n",
    "\n",
    "def convert_sin(x, range):\n",
    "    return np.sin(2 * np.pi * (x / range))\n",
    "\n",
    "\n",
    "class Datetime2trigonometricEncodingBlock(BaseBlock):\n",
    "    def fit(\n",
    "        self,\n",
    "        input_df: pd.DataFrame,\n",
    "        target_df: pd.DataFrame,\n",
    "        rosters_df: pd.DataFrame,\n",
    "        playerBoxScores_df: pd.DataFrame,\n",
    "        standings_df: pd.DataFrame,\n",
    "        only_fit: bool\n",
    "    ):\n",
    "        return self.transform(\n",
    "            input_df,\n",
    "            target_df,\n",
    "            rosters_df,\n",
    "            playerBoxScores_df,\n",
    "            standings_df,\n",
    "        )\n",
    "    \n",
    "    def transform(\n",
    "        self,\n",
    "        input_df: pd.DataFrame,\n",
    "        target_df: pd.DataFrame,\n",
    "        rosters_df: pd.DataFrame,\n",
    "        playerBoxScores_df: pd.DataFrame,\n",
    "        standings_df: pd.DataFrame,\n",
    "    ):\n",
    "        _input_df = input_df.copy()\n",
    "        _input_df[\"day\"] = pd.to_datetime(_input_df[\"date\"].astype(str), format=\"%Y%m%d\").dt.day\n",
    "        _input_df[\"dow\"] = pd.to_datetime(_input_df[\"date\"].astype(str), format=\"%Y%m%d\").dt.dayofweek\n",
    "\n",
    "        _input_df[\"day2cos\"] = _input_df[\"day\"].apply(lambda x: convert_cos(x, 31))\n",
    "        _input_df[\"day2sin\"] = _input_df[\"day\"].apply(lambda x: convert_sin(x, 31))\n",
    "        _input_df[\"dow2cos\"] = _input_df[\"dow\"].apply(lambda x: convert_cos(x, 7))\n",
    "        _input_df[\"dow2sin\"] = _input_df[\"dow\"].apply(lambda x: convert_sin(x, 7))\n",
    "\n",
    "        return _input_df[[\"day2cos\", \"day2sin\", \"dow2cos\", \"dow2sin\"]].add_prefix(\"DatetimeEncoding_\")"
   ],
   "outputs": [],
   "metadata": {}
  },
  {
   "cell_type": "code",
   "execution_count": 6,
   "source": [
    "def create_train_feature(\n",
    "    input_df: pd.DataFrame,\n",
    "    target_df: pd.DataFrame,\n",
    "    rosters_df: pd.DataFrame,\n",
    "    playerBoxScores_df: pd.DataFrame,\n",
    "    standings_df: pd.DataFrame,\n",
    "    update_blocks: list,\n",
    "    non_update_blocks: list,\n",
    "    only_fit: bool\n",
    "    ) -> pd.DataFrame:\n",
    "    feat_df = pd.DataFrame()\n",
    "    blocks = update_blocks + non_update_blocks\n",
    "\n",
    "    for block in blocks:\n",
    "        with timer(name=f\"{str(block) + '_fit'}\", logger=logger):\n",
    "            try:\n",
    "                out_feat_block = block.fit(\n",
    "                    input_df,\n",
    "                    target_df,\n",
    "                    rosters_df,\n",
    "                    playerBoxScores_df,\n",
    "                    standings_df,\n",
    "                    only_fit=False\n",
    "                    )\n",
    "            except Exception as e:\n",
    "                print(f\"Error on {block} fit.\")\n",
    "                raise e from e\n",
    "\n",
    "            assert len(out_feat_block) == len(input_df), block\n",
    "\n",
    "        feat_df = pd.concat([feat_df, out_feat_block], axis=1)\n",
    "\n",
    "        del out_feat_block\n",
    "\n",
    "    return feat_df\n",
    "\n",
    "\n",
    "def fit_train_feature(\n",
    "    input_df: pd.DataFrame,\n",
    "    target_df: pd.DataFrame,\n",
    "    rosters_df: pd.DataFrame,\n",
    "    playerBoxScores_df: pd.DataFrame,\n",
    "    standings_df: pd.DataFrame,\n",
    "    update_blocks: list,\n",
    "    non_update_blocks: list,\n",
    "    only_fit: bool\n",
    "    ) -> pd.DataFrame:\n",
    "    blocks = update_blocks + non_update_blocks\n",
    "\n",
    "    for block in blocks:\n",
    "        with timer(name=f\"{str(block) + '_fit'}\", logger=logger):\n",
    "            try:\n",
    "                block.fit(\n",
    "                    input_df,\n",
    "                    target_df,\n",
    "                    rosters_df,\n",
    "                    playerBoxScores_df,\n",
    "                    standings_df,\n",
    "                    only_fit\n",
    "                    )\n",
    "            except Exception as e:\n",
    "                print(f\"Error on {block} fit.\")\n",
    "                raise e from e\n",
    "\n",
    "\n",
    "def create_test_feature(\n",
    "    input_df: pd.DataFrame,\n",
    "    target_df: pd.DataFrame,\n",
    "    rosters_df: pd.DataFrame,\n",
    "    playerBoxScores_df: pd.DataFrame,\n",
    "    standings_df: pd.DataFrame,\n",
    "    update_blocks: list,\n",
    "    non_update_blocks: list\n",
    "    ) -> pd.DataFrame:\n",
    "    is_update = True if len(update_blocks) != 0 else False\n",
    "    update_feat_df = pd.DataFrame()\n",
    "    non_update_feat_df = pd.DataFrame()\n",
    "    \n",
    "    if is_update:\n",
    "        for block in update_blocks:\n",
    "            with timer(name=f\"{str(block) + '_update'}\", logger=logger):\n",
    "                try:\n",
    "                    out_feat_block = block.fit(\n",
    "                        input_df,\n",
    "                        target_df,\n",
    "                        rosters_df,\n",
    "                        playerBoxScores_df,\n",
    "                        standings_df,\n",
    "                        only_fit=False,\n",
    "                        )\n",
    "                except Exception as e:\n",
    "                    print(f\"Error on {block} transform.\")\n",
    "                    raise e from e\n",
    "\n",
    "                assert len(out_feat_block) == len(input_df), block\n",
    "\n",
    "            update_feat_df = pd.concat([update_feat_df, out_feat_block], axis=1)\n",
    "\n",
    "            del out_feat_block\n",
    "        \n",
    "\n",
    "    for block in non_update_blocks:\n",
    "        with timer(name=f\"{str(block) + '_transform'}\", logger=logger):\n",
    "            try:\n",
    "                out_feat_block = block.transform(\n",
    "                    input_df,\n",
    "                    target_df,\n",
    "                    rosters_df,\n",
    "                    playerBoxScores_df,\n",
    "                    standings_df,\n",
    "                )\n",
    "            except Exception as e:\n",
    "                print(f\"Error on {block} transform.\")\n",
    "                raise e from e\n",
    "\n",
    "            assert len(out_feat_block) == len(input_df), block\n",
    "\n",
    "        non_update_feat_df = pd.concat([non_update_feat_df, out_feat_block], axis=1)\n",
    "\n",
    "        del out_feat_block\n",
    "\n",
    "    feat_df = pd.concat([update_feat_df, non_update_feat_df], axis=1) if is_update else non_update_feat_df\n",
    "\n",
    "    del update_feat_df, non_update_feat_df\n",
    "\n",
    "    return feat_df"
   ],
   "outputs": [],
   "metadata": {}
  },
  {
   "cell_type": "markdown",
   "source": [
    "## CV"
   ],
   "metadata": {}
  },
  {
   "cell_type": "code",
   "execution_count": 7,
   "source": [
    "def get_timeseries_holdout(train_df: pd.DataFrame, valid_start_date: int) -> List[tuple]:\n",
    "    fold = []\n",
    "    train_idx = np.array(train_df[train_df[\"date\"] < valid_start_date].index)\n",
    "    valid_idx = np.array(train_df[(train_df[\"date\"] >= valid_start_date) & (train_df[\"date\"] < (valid_start_date + 100))].index)\n",
    "    valid_preds_idx = np.array(train_df[(train_df[\"date\"] >= valid_start_date) & (train_df[\"date\"] < (valid_start_date + 100)) & (train_df[\"playerForTestSetAndFuturePreds\"] == True)].index)\n",
    "    fold.append((train_idx, valid_idx, valid_preds_idx))\n",
    "\n",
    "    return fold"
   ],
   "outputs": [],
   "metadata": {}
  },
  {
   "cell_type": "markdown",
   "source": [
    "## Model"
   ],
   "metadata": {}
  },
  {
   "cell_type": "code",
   "execution_count": 8,
   "source": [
    "class LightGBMTrainer:\n",
    "    def __init__(self, params: dict, seeds: List[int]):\n",
    "        self.params = params\n",
    "        self.seeds = seeds\n",
    "        self.models = []\n",
    "\n",
    "    def fit(self, X_train: np.ndarray, y_train: np.ndarray, cv: List[tuple]):\n",
    "        oof_all = []\n",
    "        for i, seed in enumerate(self.seeds):\n",
    "            self.params[\"seed\"] = seed\n",
    "\n",
    "            for train_idx, valid_idx, valid_preds_idx in cv:\n",
    "                X_train_fold = X_train[train_idx]\n",
    "                X_valid_fold = X_train[valid_preds_idx]\n",
    "\n",
    "                y_train_fold = y_train[train_idx]\n",
    "                y_valid_fold = y_train[valid_preds_idx]\n",
    "\n",
    "                train_set = lgb.Dataset(X_train_fold, y_train_fold)\n",
    "                valid_set = lgb.Dataset(X_valid_fold, y_valid_fold, reference=train_set)\n",
    "\n",
    "                model = lgb.train(\n",
    "                    params=self.params,\n",
    "                    train_set=train_set,\n",
    "                    valid_sets=[train_set, valid_set],\n",
    "                    valid_names=[\"train\", \"valid\"],\n",
    "                    verbose_eval=100,\n",
    "                )\n",
    "\n",
    "                y_oof = model.predict(X_valid_fold, num_iteration=model.best_iteration)\n",
    "                oof_all.append(y_oof)\n",
    "                self.models.append(model)\n",
    "\n",
    "        oof_all = np.mean(oof_all, axis=0)\n",
    "        oof_all = np.clip(oof_all, 0, 100)\n",
    "        oof_score = mean_absolute_error(oof_all, y_valid_fold)\n",
    "\n",
    "        return oof_score, self.models\n",
    "\n",
    "    def predict(self, X_test: np.ndarray):\n",
    "        y_pred = np.mean([model.predict(X_test, num_iteration=model.best_iteration) for model in self.models], axis=0)\n",
    "\n",
    "        return y_pred\n",
    "\n",
    "\n",
    "def run_lgb(X_train, targets, seeds, fold):\n",
    "    cv_scores = []\n",
    "    models = []\n",
    "\n",
    "    for i, target in enumerate(targets):\n",
    "        print(f\"Training for Target{i+1}\")\n",
    "        if i == 0:\n",
    "            params = CFG.LGB_TARGET1_PARAMS\n",
    "        elif i == 1:\n",
    "            params = CFG.LGB_TARGET2_PARAMS\n",
    "        elif i == 2:\n",
    "            params = CFG.LGB_TARGET3_PARAMS\n",
    "        elif i == 3:\n",
    "            params = CFG.LGB_TARGET4_PARAMS\n",
    "        trainer = LightGBMTrainer(params, seeds)\n",
    "        oof_score_tmp, models_tmp = trainer.fit(X_train, target, fold)\n",
    "        cv_scores.append(oof_score_tmp)\n",
    "        models.append(models_tmp)\n",
    "        print(f\"Local Target{i+1} OOF-MAE : {np.mean(oof_score_tmp)}\")\n",
    "        print(\"-\"*50)\n",
    "\n",
    "    print(f\"Local MCMAE : {np.mean(cv_scores)}\")\n",
    "\n",
    "    return models"
   ],
   "outputs": [],
   "metadata": {}
  },
  {
   "cell_type": "markdown",
   "source": [
    "## Training"
   ],
   "metadata": {}
  },
  {
   "cell_type": "code",
   "execution_count": 9,
   "source": [
    "# # set-up logger\n",
    "# logger = get_logger()\n",
    "\n",
    "# # create feature\n",
    "# update_blocks = [\n",
    "#     PlayerStatsBlock(columns=[\n",
    "#         \"playerId\", \n",
    "#         \"date\", \n",
    "#         \"home\", \n",
    "#         \"positionCode\", \n",
    "#         \"battingOrder\", \n",
    "#         \"gamesPlayedBatting\", \n",
    "#         \"plateAppearances\",\n",
    "#         \"atBats\",\n",
    "#         \"hits\",\n",
    "#         \"doubles\",\n",
    "#         \"triples\",\n",
    "#         \"homeRuns\",\n",
    "#         \"rbi\",\n",
    "#         \"runsScored\",\n",
    "#         \"totalBases\",\n",
    "#         \"baseOnBalls\",\n",
    "#         \"hitByPitch\",\n",
    "#         \"intentionalWalks\",\n",
    "#         \"groundIntoDoublePlay\",\n",
    "#         \"groundIntoTriplePlay\",\n",
    "#         \"strikeOuts\",\n",
    "#         \"sacBunts\",\n",
    "#         \"sacFlies\",\n",
    "#         \"caughtStealing\",\n",
    "#         \"stolenBases\",\n",
    "#         \"leftOnBase\",\n",
    "#         \"catchersInterference\",\n",
    "#         \"pickoffs\",\n",
    "#         \"flyOuts\",\n",
    "#         \"groundOuts\",\n",
    "#         \"gamesPlayedPitching\",\n",
    "#         \"gamesStartedPitching\",\n",
    "#         \"winsPitching\",\n",
    "#         \"lossesPitching\",\n",
    "#         \"completeGamesPitching\",\n",
    "#         \"shutoutsPitching\",\n",
    "#         \"saves\",\n",
    "#         \"saveOpportunities\",\n",
    "#         \"blownSaves\",\n",
    "#         \"holds\",\n",
    "#         \"inningsPitched\",\n",
    "#         \"runsPitching\",\n",
    "#         \"earnedRuns\",\n",
    "#         \"pitchesThrown\",\n",
    "#         \"hitsPitching\",\n",
    "#         \"homeRunsPitching\",\n",
    "#         \"strikeOutsPitching\",\n",
    "#         \"baseOnBallsPitching\",\n",
    "#         \"hitByPitchPitching\",\n",
    "#         \"intentionalWalksPitching\",\n",
    "#         \"balks\",\n",
    "#         \"wildPitches\",\n",
    "#         \"atBatsPitching\",\n",
    "#         \"battersFaced\",\n",
    "#         \"sacBuntsPitching\",\n",
    "#         \"sacFliesPitching\",\n",
    "#         \"inheritedRunners\",\n",
    "#         \"inheritedRunnersScored\",\n",
    "#         \"rbiPitching\",\n",
    "#         \"flyOutsPitching\",\n",
    "#         \"airOutsPitching\",\n",
    "#         \"doublesPitching\",\n",
    "#         \"triplesPitching\",\n",
    "#         \"caughtStealingPitching\",\n",
    "#         \"stolenBasesPitching\",\n",
    "#         \"outsPitching\",\n",
    "#         \"balls\",\n",
    "#         \"strikes\",\n",
    "#         \"hitBatsmen\",\n",
    "#         \"pickoffsPitching\",\n",
    "#         \"catchersInterferencePitching\",\n",
    "#         \"assists\",\n",
    "#         \"putOuts\",\n",
    "#         \"errors\",\n",
    "#         \"chances\",\n",
    "#         \"gamesFinishedPitching\",\n",
    "#         \"groundOutsPitching\",\n",
    "#     ]),\n",
    "# ]\n",
    "# non_update_blocks = [\n",
    "#     TargetAggregateBlock(periods=[\n",
    "#         # 20210201,\n",
    "#         # 20210301,\n",
    "#         20210401,\n",
    "#     ]),\n",
    "#     RostersLabelEncodingBlock(columns=[\n",
    "#         \"teamId\",\n",
    "#         \"status\"\n",
    "#     ]),\n",
    "#     PlayersLabelEncodingBlock(columns=[\n",
    "#         \"birthCountry\",\n",
    "#         # \"birthCity\",\n",
    "#         # \"birthStateProvince\",\n",
    "#         # \"heightInches\",\n",
    "#         # \"weight\",\n",
    "#         \"primaryPositionCode\",\n",
    "#         # \"playerAge\"\n",
    "#     ]),\n",
    "#     StandingsMetaBlock(columns=[\n",
    "#         'date',\n",
    "#         # 'season',\n",
    "#         # 'gameDate',\n",
    "#         'divisionId',\n",
    "#         'teamId',\n",
    "#         # 'teamName',\n",
    "#         # 'streakCode',\n",
    "#         'divisionRank',\n",
    "#         'leagueRank',\n",
    "#         'wildCardRank',\n",
    "#         # 'leagueGamesBack',\n",
    "#         # 'sportGamesBack',\n",
    "#         # 'divisionGamesBack',\n",
    "#         'wins',\n",
    "#         'losses',\n",
    "#         'pct',\n",
    "#         'runsAllowed',\n",
    "#         'runsScored',\n",
    "#         # 'divisionChamp',\n",
    "#         # 'divisionLeader',\n",
    "#         # 'wildCardLeader',\n",
    "#         # 'eliminationNumber',\n",
    "#         # 'wildCardEliminationNumber',\n",
    "#         'homeWins',\n",
    "#         'homeLosses',\n",
    "#         'awayWins',\n",
    "#         'awayLosses',\n",
    "#         'lastTenWins',\n",
    "#         'lastTenLosses',\n",
    "#         'extraInningWins',\n",
    "#         'extraInningLosses',\n",
    "#         'oneRunWins',\n",
    "#         'oneRunLosses',\n",
    "#         'dayWins',\n",
    "#         'dayLosses',\n",
    "#         'nightWins',\n",
    "#         'nightLosses',\n",
    "#         'grassWins',\n",
    "#         'grassLosses',\n",
    "#         'turfWins',\n",
    "#         'turfLosses',\n",
    "#         'divWins',\n",
    "#         'divLosses',\n",
    "#         'alWins',\n",
    "#         'alLosses',\n",
    "#         'nlWins',\n",
    "#         'nlLosses',\n",
    "#         'xWinLossPct'\n",
    "#     ]),\n",
    "#     Datetime2trigonometricEncodingBlock(),\n",
    "# ]\n",
    "\n",
    "# # create features\n",
    "# input_df = mlb_train_ds.train_next[CFG.OBJECT_ID].copy()\n",
    "# target_df = mlb_train_ds.train_next\n",
    "# rosters_df = mlb_train_ds.train_rosters\n",
    "# playerBoxScores_df = mlb_train_ds.train_scores\n",
    "# standings_df = mlb_train_ds.train_standings\n",
    "\n",
    "# # for inference\n",
    "# fit_train_feature(\n",
    "#     input_df,\n",
    "#     target_df,\n",
    "#     rosters_df,\n",
    "#     playerBoxScores_df,\n",
    "#     standings_df,\n",
    "#     update_blocks,\n",
    "#     non_update_blocks,\n",
    "#     only_fit=True,\n",
    "# )"
   ],
   "outputs": [],
   "metadata": {}
  },
  {
   "cell_type": "code",
   "execution_count": 10,
   "source": [
    "# set-up logger\n",
    "logger = get_logger()\n",
    "\n",
    "# create feature\n",
    "update_blocks = [\n",
    "    PlayerStatsBlock(columns=[\n",
    "        \"playerId\", \n",
    "        \"date\", \n",
    "        \"home\", \n",
    "        \"positionCode\", \n",
    "        \"battingOrder\", \n",
    "        \"gamesPlayedBatting\", \n",
    "        \"plateAppearances\",\n",
    "        \"atBats\",\n",
    "        \"hits\",\n",
    "        \"doubles\",\n",
    "        \"triples\",\n",
    "        \"homeRuns\",\n",
    "        \"rbi\",\n",
    "        \"runsScored\",\n",
    "        \"totalBases\",\n",
    "        \"baseOnBalls\",\n",
    "        \"hitByPitch\",\n",
    "        \"intentionalWalks\",\n",
    "        \"groundIntoDoublePlay\",\n",
    "        \"groundIntoTriplePlay\",\n",
    "        \"strikeOuts\",\n",
    "        \"sacBunts\",\n",
    "        \"sacFlies\",\n",
    "        \"caughtStealing\",\n",
    "        \"stolenBases\",\n",
    "        \"leftOnBase\",\n",
    "        \"catchersInterference\",\n",
    "        \"pickoffs\",\n",
    "        \"flyOuts\",\n",
    "        \"groundOuts\",\n",
    "        \"gamesPlayedPitching\",\n",
    "        \"gamesStartedPitching\",\n",
    "        \"winsPitching\",\n",
    "        \"lossesPitching\",\n",
    "        \"completeGamesPitching\",\n",
    "        \"shutoutsPitching\",\n",
    "        \"saves\",\n",
    "        \"saveOpportunities\",\n",
    "        \"blownSaves\",\n",
    "        \"holds\",\n",
    "        \"inningsPitched\",\n",
    "        \"runsPitching\",\n",
    "        \"earnedRuns\",\n",
    "        \"pitchesThrown\",\n",
    "        \"hitsPitching\",\n",
    "        \"homeRunsPitching\",\n",
    "        \"strikeOutsPitching\",\n",
    "        \"baseOnBallsPitching\",\n",
    "        \"hitByPitchPitching\",\n",
    "        \"intentionalWalksPitching\",\n",
    "        \"balks\",\n",
    "        \"wildPitches\",\n",
    "        \"atBatsPitching\",\n",
    "        \"battersFaced\",\n",
    "        \"sacBuntsPitching\",\n",
    "        \"sacFliesPitching\",\n",
    "        \"inheritedRunners\",\n",
    "        \"inheritedRunnersScored\",\n",
    "        \"rbiPitching\",\n",
    "        \"flyOutsPitching\",\n",
    "        \"airOutsPitching\",\n",
    "        \"doublesPitching\",\n",
    "        \"triplesPitching\",\n",
    "        \"caughtStealingPitching\",\n",
    "        \"stolenBasesPitching\",\n",
    "        \"outsPitching\",\n",
    "        \"balls\",\n",
    "        \"strikes\",\n",
    "        \"hitBatsmen\",\n",
    "        \"pickoffsPitching\",\n",
    "        \"catchersInterferencePitching\",\n",
    "        \"assists\",\n",
    "        \"putOuts\",\n",
    "        \"errors\",\n",
    "        \"chances\",\n",
    "        \"gamesFinishedPitching\",\n",
    "        \"groundOutsPitching\",\n",
    "    ]),\n",
    "]\n",
    "non_update_blocks = [\n",
    "    TargetAggregateBlock(periods=[\n",
    "        # 20210201,\n",
    "        # 20210301,\n",
    "        20210401,\n",
    "    ]),\n",
    "    RostersLabelEncodingBlock(columns=[\n",
    "        \"teamId\",\n",
    "        \"status\"\n",
    "    ]),\n",
    "    PlayersLabelEncodingBlock(columns=[\n",
    "        \"birthCountry\",\n",
    "        # \"birthCity\",\n",
    "        # \"birthStateProvince\",\n",
    "        # \"heightInches\",\n",
    "        # \"weight\",\n",
    "        \"primaryPositionCode\",\n",
    "        # \"playerAge\"\n",
    "    ]),\n",
    "    StandingsMetaBlock(columns=[\n",
    "        'date',\n",
    "        # 'season',\n",
    "        # 'gameDate',\n",
    "        'divisionId',\n",
    "        'teamId',\n",
    "        # 'teamName',\n",
    "        # 'streakCode',\n",
    "        'divisionRank',\n",
    "        'leagueRank',\n",
    "        'wildCardRank',\n",
    "        # 'leagueGamesBack',\n",
    "        # 'sportGamesBack',\n",
    "        # 'divisionGamesBack',\n",
    "        'wins',\n",
    "        'losses',\n",
    "        'pct',\n",
    "        'runsAllowed',\n",
    "        'runsScored',\n",
    "        # 'divisionChamp',\n",
    "        # 'divisionLeader',\n",
    "        # 'wildCardLeader',\n",
    "        # 'eliminationNumber',\n",
    "        # 'wildCardEliminationNumber',\n",
    "        'homeWins',\n",
    "        'homeLosses',\n",
    "        'awayWins',\n",
    "        'awayLosses',\n",
    "        'lastTenWins',\n",
    "        'lastTenLosses',\n",
    "        'extraInningWins',\n",
    "        'extraInningLosses',\n",
    "        'oneRunWins',\n",
    "        'oneRunLosses',\n",
    "        'dayWins',\n",
    "        'dayLosses',\n",
    "        'nightWins',\n",
    "        'nightLosses',\n",
    "        'grassWins',\n",
    "        'grassLosses',\n",
    "        'turfWins',\n",
    "        'turfLosses',\n",
    "        'divWins',\n",
    "        'divLosses',\n",
    "        'alWins',\n",
    "        'alLosses',\n",
    "        'nlWins',\n",
    "        'nlLosses',\n",
    "        'xWinLossPct'\n",
    "    ]),\n",
    "    Datetime2trigonometricEncodingBlock(),\n",
    "]\n",
    "\n",
    "# create features\n",
    "input_df = mlb_train_ds.train_next[CFG.OBJECT_ID].copy()\n",
    "input_df = input_df.merge(mlb_train_ds.players[[\"playerId\", \"playerForTestSetAndFuturePreds\"]], on=\"playerId\", how=\"left\")\n",
    "target_df = mlb_train_ds.train_next\n",
    "rosters_df = mlb_train_ds.train_rosters\n",
    "playerBoxScores_df = mlb_train_ds.train_scores\n",
    "standings_df = mlb_train_ds.train_standings\n",
    "\n",
    "if DEBUG:\n",
    "    input_df = input_df[input_df[\"date\"] >= 20210101].reset_index(drop=True)\n",
    "    target_df = target_df[target_df[\"date\"] >= 20210101].reset_index(drop=True)\n",
    "    rosters_df = rosters_df[rosters_df[\"date\"] >= 20210101].reset_index(drop=True)\n",
    "    playerBoxScores_df = playerBoxScores_df[playerBoxScores_df[\"date\"] >= 20210101].reset_index(drop=True)\n",
    "    standings_df = standings_df[standings_df[\"date\"] >= 20210101].reset_index(drop=True)\n",
    "\n",
    "train_feat_df = create_train_feature(\n",
    "    input_df,\n",
    "    target_df,\n",
    "    rosters_df,\n",
    "    playerBoxScores_df,\n",
    "    standings_df,\n",
    "    update_blocks,\n",
    "    non_update_blocks,\n",
    "    only_fit=False,\n",
    ")\n",
    "\n",
    "X_train = train_feat_df.values\n",
    "targets = [target_df[col].values for col in CFG.TARGETS]\n",
    "\n",
    "if DEBUG:\n",
    "    targets = [target_df[col].values for col in CFG.TARGETS]\n",
    "\n",
    "# split train/valid\n",
    "fold = get_timeseries_holdout(input_df, valid_start_date=20210501)\n",
    "\n",
    "# training\n",
    "models = run_lgb(X_train, targets, CFG.SEEDS, fold)"
   ],
   "outputs": [
    {
     "output_type": "stream",
     "name": "stdout",
     "text": [
      "[2021-07-29 14:35:38,015] [INFO] [logger set up]\n",
      "[2021-07-29 14:35:38,351] [INFO] [<<__main__.PlayerStatsBlock object at 0x10fa08fd0>_fit> start]\n"
     ]
    },
    {
     "output_type": "display_data",
     "data": {
      "text/plain": [
       "  0%|          | 0/213765 [00:00<?, ?it/s]"
      ],
      "application/vnd.jupyter.widget-view+json": {
       "version_major": 2,
       "version_minor": 0,
       "model_id": "89d9bb79b5344a298d4bf2798f1efe30"
      }
     },
     "metadata": {}
    },
    {
     "output_type": "display_data",
     "data": {
      "text/plain": [
       "  0%|          | 0/2666934 [00:00<?, ?it/s]"
      ],
      "application/vnd.jupyter.widget-view+json": {
       "version_major": 2,
       "version_minor": 0,
       "model_id": "de5b72be64584609845657078deecf5f"
      }
     },
     "metadata": {}
    },
    {
     "output_type": "stream",
     "name": "stdout",
     "text": [
      "[2021-07-29 14:56:16,972] [INFO] [<<__main__.PlayerStatsBlock object at 0x10fa08fd0>_fit> done in 1238.62 s]\n",
      "[2021-07-29 14:56:18,502] [INFO] [<<__main__.TargetAggregateBlock object at 0x1dc0da130>_fit> start]\n"
     ]
    },
    {
     "output_type": "stream",
     "name": "stderr",
     "text": [
      "/Users/azupero/data-science/kaggle/MLB-Player-Digital-Engagement-Forecasting/.venv/lib/python3.8/site-packages/scipy/stats/_distn_infrastructure.py:1870: RuntimeWarning: invalid value encountered in double_scalars\n",
      "  x = np.asarray((x - loc)/scale, dtype=dtyp)\n"
     ]
    },
    {
     "output_type": "stream",
     "name": "stdout",
     "text": [
      "[2021-07-29 14:57:02,716] [INFO] [<<__main__.TargetAggregateBlock object at 0x1dc0da130>_fit> done in 44.21 s]\n",
      "[2021-07-29 14:57:04,333] [INFO] [<<__main__.RostersLabelEncodingBlock object at 0x10e966dc0>_fit> start]\n",
      "[2021-07-29 14:57:05,729] [INFO] [<<__main__.RostersLabelEncodingBlock object at 0x10e966dc0>_fit> done in 1.40 s]\n",
      "[2021-07-29 14:57:10,772] [INFO] [<<__main__.PlayersLabelEncodingBlock object at 0x1dc48ed90>_fit> start]\n",
      "[2021-07-29 14:57:11,103] [INFO] [<<__main__.PlayersLabelEncodingBlock object at 0x1dc48ed90>_fit> done in 0.33 s]\n",
      "[2021-07-29 14:57:16,183] [INFO] [<<__main__.StandingsMetaBlock object at 0x12d5e0f10>_fit> start]\n",
      "[2021-07-29 14:57:21,549] [INFO] [<<__main__.StandingsMetaBlock object at 0x12d5e0f10>_fit> done in 5.37 s]\n",
      "[2021-07-29 14:57:26,896] [INFO] [<<__main__.Datetime2trigonometricEncodingBlock object at 0x12d5e0520>_fit> start]\n",
      "[2021-07-29 14:57:42,866] [INFO] [<<__main__.Datetime2trigonometricEncodingBlock object at 0x12d5e0520>_fit> done in 15.97 s]\n",
      "Training for Target1\n"
     ]
    },
    {
     "output_type": "stream",
     "name": "stderr",
     "text": [
      "/Users/azupero/data-science/kaggle/MLB-Player-Digital-Engagement-Forecasting/.venv/lib/python3.8/site-packages/lightgbm/engine.py:148: UserWarning: Found `num_iterations` in params. Will use it instead of argument\n",
      "  _log_warning(\"Found `{}` in params. Will use it instead of argument\".format(alias))\n",
      "/Users/azupero/data-science/kaggle/MLB-Player-Digital-Engagement-Forecasting/.venv/lib/python3.8/site-packages/lightgbm/engine.py:153: UserWarning: Found `early_stopping_round` in params. Will use it instead of argument\n",
      "  _log_warning(\"Found `{}` in params. Will use it instead of argument\".format(alias))\n"
     ]
    },
    {
     "output_type": "stream",
     "name": "stdout",
     "text": [
      "Training until validation scores don't improve for 100 rounds\n",
      "[100]\ttrain's l1: 0.518406\tvalid's l1: 1.13135\n",
      "[200]\ttrain's l1: 0.515903\tvalid's l1: 1.12537\n",
      "[300]\ttrain's l1: 0.514678\tvalid's l1: 1.12271\n",
      "[400]\ttrain's l1: 0.513497\tvalid's l1: 1.11982\n",
      "[500]\ttrain's l1: 0.512522\tvalid's l1: 1.11694\n",
      "[600]\ttrain's l1: 0.511797\tvalid's l1: 1.11618\n",
      "[700]\ttrain's l1: 0.511402\tvalid's l1: 1.11559\n",
      "[800]\ttrain's l1: 0.510513\tvalid's l1: 1.11363\n",
      "[900]\ttrain's l1: 0.510026\tvalid's l1: 1.11282\n",
      "[1000]\ttrain's l1: 0.509933\tvalid's l1: 1.11278\n",
      "Early stopping, best iteration is:\n",
      "[989]\ttrain's l1: 0.509949\tvalid's l1: 1.11273\n",
      "Local Target1 OOF-MAE : 1.1126543240491547\n",
      "--------------------------------------------------\n",
      "Training for Target2\n"
     ]
    },
    {
     "output_type": "stream",
     "name": "stderr",
     "text": [
      "/Users/azupero/data-science/kaggle/MLB-Player-Digital-Engagement-Forecasting/.venv/lib/python3.8/site-packages/lightgbm/engine.py:148: UserWarning: Found `num_iterations` in params. Will use it instead of argument\n",
      "  _log_warning(\"Found `{}` in params. Will use it instead of argument\".format(alias))\n",
      "/Users/azupero/data-science/kaggle/MLB-Player-Digital-Engagement-Forecasting/.venv/lib/python3.8/site-packages/lightgbm/engine.py:153: UserWarning: Found `early_stopping_round` in params. Will use it instead of argument\n",
      "  _log_warning(\"Found `{}` in params. Will use it instead of argument\".format(alias))\n"
     ]
    },
    {
     "output_type": "stream",
     "name": "stdout",
     "text": [
      "Training until validation scores don't improve for 100 rounds\n",
      "[100]\ttrain's l1: 1.70875\tvalid's l1: 2.19768\n",
      "[200]\ttrain's l1: 1.68057\tvalid's l1: 2.1731\n",
      "[300]\ttrain's l1: 1.66552\tvalid's l1: 2.16636\n",
      "[400]\ttrain's l1: 1.6539\tvalid's l1: 2.16224\n",
      "[500]\ttrain's l1: 1.647\tvalid's l1: 2.16074\n",
      "[600]\ttrain's l1: 1.64083\tvalid's l1: 2.16274\n",
      "Early stopping, best iteration is:\n",
      "[552]\ttrain's l1: 1.64397\tvalid's l1: 2.15994\n",
      "Local Target2 OOF-MAE : 2.1599325538285896\n",
      "--------------------------------------------------\n",
      "Training for Target3\n"
     ]
    },
    {
     "output_type": "stream",
     "name": "stderr",
     "text": [
      "/Users/azupero/data-science/kaggle/MLB-Player-Digital-Engagement-Forecasting/.venv/lib/python3.8/site-packages/lightgbm/engine.py:148: UserWarning: Found `num_iterations` in params. Will use it instead of argument\n",
      "  _log_warning(\"Found `{}` in params. Will use it instead of argument\".format(alias))\n",
      "/Users/azupero/data-science/kaggle/MLB-Player-Digital-Engagement-Forecasting/.venv/lib/python3.8/site-packages/lightgbm/engine.py:153: UserWarning: Found `early_stopping_round` in params. Will use it instead of argument\n",
      "  _log_warning(\"Found `{}` in params. Will use it instead of argument\".format(alias))\n"
     ]
    },
    {
     "output_type": "stream",
     "name": "stdout",
     "text": [
      "Training until validation scores don't improve for 100 rounds\n",
      "[100]\ttrain's l1: 0.67032\tvalid's l1: 0.868803\n",
      "Early stopping, best iteration is:\n",
      "[78]\ttrain's l1: 0.670963\tvalid's l1: 0.868125\n",
      "Local Target3 OOF-MAE : 0.868123078596277\n",
      "--------------------------------------------------\n",
      "Training for Target4\n"
     ]
    },
    {
     "output_type": "stream",
     "name": "stderr",
     "text": [
      "/Users/azupero/data-science/kaggle/MLB-Player-Digital-Engagement-Forecasting/.venv/lib/python3.8/site-packages/lightgbm/engine.py:148: UserWarning: Found `num_iterations` in params. Will use it instead of argument\n",
      "  _log_warning(\"Found `{}` in params. Will use it instead of argument\".format(alias))\n",
      "/Users/azupero/data-science/kaggle/MLB-Player-Digital-Engagement-Forecasting/.venv/lib/python3.8/site-packages/lightgbm/engine.py:153: UserWarning: Found `early_stopping_round` in params. Will use it instead of argument\n",
      "  _log_warning(\"Found `{}` in params. Will use it instead of argument\".format(alias))\n"
     ]
    },
    {
     "output_type": "stream",
     "name": "stdout",
     "text": [
      "Training until validation scores don't improve for 100 rounds\n",
      "[100]\ttrain's l1: 0.792256\tvalid's l1: 1.21682\n",
      "[200]\ttrain's l1: 0.773151\tvalid's l1: 1.22795\n",
      "Early stopping, best iteration is:\n",
      "[101]\ttrain's l1: 0.792025\tvalid's l1: 1.21654\n",
      "Local Target4 OOF-MAE : 1.2165188607426702\n",
      "--------------------------------------------------\n",
      "Local MCMAE : 1.339307204304173\n"
     ]
    }
   ],
   "metadata": {}
  },
  {
   "cell_type": "code",
   "execution_count": 11,
   "source": [
    "def visualize_feature_importance(models, feat_train_df) -> plotly.graph_objects.Figure:\n",
    "    '''LightGBMのfeature importanceを可視化\n",
    "    '''\n",
    "    for target_i in range(len(models)):\n",
    "        feature_importance_df = pd.DataFrame()\n",
    "        for i, model in enumerate(models[target_i]):\n",
    "            _df = pd.DataFrame()\n",
    "            _df['feature_importance'] = model.feature_importance(importance_type=\"gain\")\n",
    "            _df['feature'] = feat_train_df.columns\n",
    "            _df['model_no'] = i + 1\n",
    "            feature_importance_df = pd.concat([feature_importance_df, _df], \n",
    "                                            axis=0, ignore_index=True)\n",
    "\n",
    "        order = feature_importance_df.groupby('feature')\\\n",
    "            .mean()[['feature_importance']]\\\n",
    "            .sort_values('feature_importance', ascending=False).index[:50]\n",
    "        \n",
    "        fig = px.box(\n",
    "            feature_importance_df.query(\"feature in @order\"),\n",
    "            x=\"feature_importance\",\n",
    "            y=\"feature\",\n",
    "            category_orders={\"feature\": order},\n",
    "            width=1250,\n",
    "            height=900,\n",
    "            title=f\"Target{target_i+1} Top 50 feature importance\",\n",
    "        )\n",
    "        fig.update_yaxes(showgrid=True)\n",
    "        fig.show()"
   ],
   "outputs": [],
   "metadata": {}
  },
  {
   "cell_type": "code",
   "execution_count": 12,
   "source": [
    "visualize_feature_importance(models, train_feat_df)"
   ],
   "outputs": [
    {
     "output_type": "display_data",
     "data": {
      "application/vnd.plotly.v1+json": {
       "config": {
        "plotlyServerURL": "https://plot.ly"
       },
       "data": [
        {
         "alignmentgroup": "True",
         "hovertemplate": "feature_importance=%{x}<br>feature=%{y}<extra></extra>",
         "legendgroup": "",
         "marker": {
          "color": "#636efa"
         },
         "name": "",
         "notched": false,
         "offsetgroup": "",
         "orientation": "h",
         "showlegend": false,
         "type": "box",
         "x": [
          130666.35303354263,
          62156.675926208496,
          135035.88402557373,
          124354.22012138367,
          4053994.5139579773,
          91283.1111907959,
          78754.43368721008,
          53514.63078403473,
          124958.74740219116,
          275952.71450042725,
          52745.01798629761,
          79524.5028591156,
          251775.92416763306,
          124586.65108013153,
          25911591.46070099,
          874426.7089424133,
          217622.15188598633,
          546767.6382904053,
          407111.7614517212,
          168895.3147125244,
          7035870.216468811,
          532110.8089227676,
          4799693.49745369,
          387288.4083042145,
          1200910.5860710144,
          4387281.255113602,
          1075194.7053508759,
          1536041.7692623138,
          1087326.4869117737,
          234996.95334625244,
          363920.6577987671,
          85363.87822914124,
          5036287.702999115,
          156626.66866493225,
          278298.25612831116,
          70100.51047325134,
          1715351.3077259064,
          116668.31484031677,
          56324.69550323486,
          49610271.9867506,
          1392839.0314655304,
          1051750.740289688,
          219678.83794403076,
          506052.3851108551,
          66921011.95597553,
          13088366.4448452,
          54271.53565979004,
          3128313.444332123,
          24076810.00048256,
          47857.045654296875
         ],
         "x0": " ",
         "xaxis": "x",
         "y": [
          "PlayerStats_home_cum",
          "PlayerStats_homeRunsPitching_cum",
          "PlayerStats_assists_cum",
          "PlayerStats_putOuts_cum",
          "PlayerStats_chances_cum",
          "PlayerStats_k%",
          "PlayerStats_wp",
          "PlayerStats_homeRuns_rank",
          "PlayerStats_strikeOuts_rank",
          "PlayerStats_bb_k_rank",
          "PlayerStats_saves_rank",
          "PlayerStats_holds_rank",
          "PlayerStats_inningsPitched_rank",
          "PlayerStats_runsPitching_rank",
          "target1_202104_mean",
          "target1_202104_std",
          "target1_202104_max",
          "target1_202104_min",
          "target1_202104_median",
          "target1_202104_quantile25",
          "target1_202104_quantile75",
          "target1_202104_prob",
          "target2_202104_mean",
          "target2_202104_std",
          "target2_202104_max",
          "target2_202104_min",
          "target2_202104_median",
          "target2_202104_quantile25",
          "target2_202104_quantile75",
          "target2_202104_prob",
          "target3_202104_mean",
          "target3_202104_std",
          "target3_202104_min",
          "target3_202104_quantile25",
          "target3_202104_quantile75",
          "target3_202104_prob",
          "target4_202104_mean",
          "target4_202104_std",
          "target4_202104_max",
          "target4_202104_min",
          "target4_202104_median",
          "target4_202104_quantile25",
          "target4_202104_quantile75",
          "target4_202104_prob",
          "Rosters_LE_teamId",
          "Rosters_LE_status",
          "Players_LE_birthCountry",
          "Players_LE_primaryPositionCode",
          "Players_LE_playerid",
          "StandingsMeta_xWinLossPct"
         ],
         "y0": " ",
         "yaxis": "y"
        }
       ],
       "layout": {
        "boxmode": "group",
        "height": 900,
        "legend": {
         "tracegroupgap": 0
        },
        "template": {
         "data": {
          "bar": [
           {
            "error_x": {
             "color": "#2a3f5f"
            },
            "error_y": {
             "color": "#2a3f5f"
            },
            "marker": {
             "line": {
              "color": "#E5ECF6",
              "width": 0.5
             }
            },
            "type": "bar"
           }
          ],
          "barpolar": [
           {
            "marker": {
             "line": {
              "color": "#E5ECF6",
              "width": 0.5
             }
            },
            "type": "barpolar"
           }
          ],
          "carpet": [
           {
            "aaxis": {
             "endlinecolor": "#2a3f5f",
             "gridcolor": "white",
             "linecolor": "white",
             "minorgridcolor": "white",
             "startlinecolor": "#2a3f5f"
            },
            "baxis": {
             "endlinecolor": "#2a3f5f",
             "gridcolor": "white",
             "linecolor": "white",
             "minorgridcolor": "white",
             "startlinecolor": "#2a3f5f"
            },
            "type": "carpet"
           }
          ],
          "choropleth": [
           {
            "colorbar": {
             "outlinewidth": 0,
             "ticks": ""
            },
            "type": "choropleth"
           }
          ],
          "contour": [
           {
            "colorbar": {
             "outlinewidth": 0,
             "ticks": ""
            },
            "colorscale": [
             [
              0,
              "#0d0887"
             ],
             [
              0.1111111111111111,
              "#46039f"
             ],
             [
              0.2222222222222222,
              "#7201a8"
             ],
             [
              0.3333333333333333,
              "#9c179e"
             ],
             [
              0.4444444444444444,
              "#bd3786"
             ],
             [
              0.5555555555555556,
              "#d8576b"
             ],
             [
              0.6666666666666666,
              "#ed7953"
             ],
             [
              0.7777777777777778,
              "#fb9f3a"
             ],
             [
              0.8888888888888888,
              "#fdca26"
             ],
             [
              1,
              "#f0f921"
             ]
            ],
            "type": "contour"
           }
          ],
          "contourcarpet": [
           {
            "colorbar": {
             "outlinewidth": 0,
             "ticks": ""
            },
            "type": "contourcarpet"
           }
          ],
          "heatmap": [
           {
            "colorbar": {
             "outlinewidth": 0,
             "ticks": ""
            },
            "colorscale": [
             [
              0,
              "#0d0887"
             ],
             [
              0.1111111111111111,
              "#46039f"
             ],
             [
              0.2222222222222222,
              "#7201a8"
             ],
             [
              0.3333333333333333,
              "#9c179e"
             ],
             [
              0.4444444444444444,
              "#bd3786"
             ],
             [
              0.5555555555555556,
              "#d8576b"
             ],
             [
              0.6666666666666666,
              "#ed7953"
             ],
             [
              0.7777777777777778,
              "#fb9f3a"
             ],
             [
              0.8888888888888888,
              "#fdca26"
             ],
             [
              1,
              "#f0f921"
             ]
            ],
            "type": "heatmap"
           }
          ],
          "heatmapgl": [
           {
            "colorbar": {
             "outlinewidth": 0,
             "ticks": ""
            },
            "colorscale": [
             [
              0,
              "#0d0887"
             ],
             [
              0.1111111111111111,
              "#46039f"
             ],
             [
              0.2222222222222222,
              "#7201a8"
             ],
             [
              0.3333333333333333,
              "#9c179e"
             ],
             [
              0.4444444444444444,
              "#bd3786"
             ],
             [
              0.5555555555555556,
              "#d8576b"
             ],
             [
              0.6666666666666666,
              "#ed7953"
             ],
             [
              0.7777777777777778,
              "#fb9f3a"
             ],
             [
              0.8888888888888888,
              "#fdca26"
             ],
             [
              1,
              "#f0f921"
             ]
            ],
            "type": "heatmapgl"
           }
          ],
          "histogram": [
           {
            "marker": {
             "colorbar": {
              "outlinewidth": 0,
              "ticks": ""
             }
            },
            "type": "histogram"
           }
          ],
          "histogram2d": [
           {
            "colorbar": {
             "outlinewidth": 0,
             "ticks": ""
            },
            "colorscale": [
             [
              0,
              "#0d0887"
             ],
             [
              0.1111111111111111,
              "#46039f"
             ],
             [
              0.2222222222222222,
              "#7201a8"
             ],
             [
              0.3333333333333333,
              "#9c179e"
             ],
             [
              0.4444444444444444,
              "#bd3786"
             ],
             [
              0.5555555555555556,
              "#d8576b"
             ],
             [
              0.6666666666666666,
              "#ed7953"
             ],
             [
              0.7777777777777778,
              "#fb9f3a"
             ],
             [
              0.8888888888888888,
              "#fdca26"
             ],
             [
              1,
              "#f0f921"
             ]
            ],
            "type": "histogram2d"
           }
          ],
          "histogram2dcontour": [
           {
            "colorbar": {
             "outlinewidth": 0,
             "ticks": ""
            },
            "colorscale": [
             [
              0,
              "#0d0887"
             ],
             [
              0.1111111111111111,
              "#46039f"
             ],
             [
              0.2222222222222222,
              "#7201a8"
             ],
             [
              0.3333333333333333,
              "#9c179e"
             ],
             [
              0.4444444444444444,
              "#bd3786"
             ],
             [
              0.5555555555555556,
              "#d8576b"
             ],
             [
              0.6666666666666666,
              "#ed7953"
             ],
             [
              0.7777777777777778,
              "#fb9f3a"
             ],
             [
              0.8888888888888888,
              "#fdca26"
             ],
             [
              1,
              "#f0f921"
             ]
            ],
            "type": "histogram2dcontour"
           }
          ],
          "mesh3d": [
           {
            "colorbar": {
             "outlinewidth": 0,
             "ticks": ""
            },
            "type": "mesh3d"
           }
          ],
          "parcoords": [
           {
            "line": {
             "colorbar": {
              "outlinewidth": 0,
              "ticks": ""
             }
            },
            "type": "parcoords"
           }
          ],
          "pie": [
           {
            "automargin": true,
            "type": "pie"
           }
          ],
          "scatter": [
           {
            "marker": {
             "colorbar": {
              "outlinewidth": 0,
              "ticks": ""
             }
            },
            "type": "scatter"
           }
          ],
          "scatter3d": [
           {
            "line": {
             "colorbar": {
              "outlinewidth": 0,
              "ticks": ""
             }
            },
            "marker": {
             "colorbar": {
              "outlinewidth": 0,
              "ticks": ""
             }
            },
            "type": "scatter3d"
           }
          ],
          "scattercarpet": [
           {
            "marker": {
             "colorbar": {
              "outlinewidth": 0,
              "ticks": ""
             }
            },
            "type": "scattercarpet"
           }
          ],
          "scattergeo": [
           {
            "marker": {
             "colorbar": {
              "outlinewidth": 0,
              "ticks": ""
             }
            },
            "type": "scattergeo"
           }
          ],
          "scattergl": [
           {
            "marker": {
             "colorbar": {
              "outlinewidth": 0,
              "ticks": ""
             }
            },
            "type": "scattergl"
           }
          ],
          "scattermapbox": [
           {
            "marker": {
             "colorbar": {
              "outlinewidth": 0,
              "ticks": ""
             }
            },
            "type": "scattermapbox"
           }
          ],
          "scatterpolar": [
           {
            "marker": {
             "colorbar": {
              "outlinewidth": 0,
              "ticks": ""
             }
            },
            "type": "scatterpolar"
           }
          ],
          "scatterpolargl": [
           {
            "marker": {
             "colorbar": {
              "outlinewidth": 0,
              "ticks": ""
             }
            },
            "type": "scatterpolargl"
           }
          ],
          "scatterternary": [
           {
            "marker": {
             "colorbar": {
              "outlinewidth": 0,
              "ticks": ""
             }
            },
            "type": "scatterternary"
           }
          ],
          "surface": [
           {
            "colorbar": {
             "outlinewidth": 0,
             "ticks": ""
            },
            "colorscale": [
             [
              0,
              "#0d0887"
             ],
             [
              0.1111111111111111,
              "#46039f"
             ],
             [
              0.2222222222222222,
              "#7201a8"
             ],
             [
              0.3333333333333333,
              "#9c179e"
             ],
             [
              0.4444444444444444,
              "#bd3786"
             ],
             [
              0.5555555555555556,
              "#d8576b"
             ],
             [
              0.6666666666666666,
              "#ed7953"
             ],
             [
              0.7777777777777778,
              "#fb9f3a"
             ],
             [
              0.8888888888888888,
              "#fdca26"
             ],
             [
              1,
              "#f0f921"
             ]
            ],
            "type": "surface"
           }
          ],
          "table": [
           {
            "cells": {
             "fill": {
              "color": "#EBF0F8"
             },
             "line": {
              "color": "white"
             }
            },
            "header": {
             "fill": {
              "color": "#C8D4E3"
             },
             "line": {
              "color": "white"
             }
            },
            "type": "table"
           }
          ]
         },
         "layout": {
          "annotationdefaults": {
           "arrowcolor": "#2a3f5f",
           "arrowhead": 0,
           "arrowwidth": 1
          },
          "autotypenumbers": "strict",
          "coloraxis": {
           "colorbar": {
            "outlinewidth": 0,
            "ticks": ""
           }
          },
          "colorscale": {
           "diverging": [
            [
             0,
             "#8e0152"
            ],
            [
             0.1,
             "#c51b7d"
            ],
            [
             0.2,
             "#de77ae"
            ],
            [
             0.3,
             "#f1b6da"
            ],
            [
             0.4,
             "#fde0ef"
            ],
            [
             0.5,
             "#f7f7f7"
            ],
            [
             0.6,
             "#e6f5d0"
            ],
            [
             0.7,
             "#b8e186"
            ],
            [
             0.8,
             "#7fbc41"
            ],
            [
             0.9,
             "#4d9221"
            ],
            [
             1,
             "#276419"
            ]
           ],
           "sequential": [
            [
             0,
             "#0d0887"
            ],
            [
             0.1111111111111111,
             "#46039f"
            ],
            [
             0.2222222222222222,
             "#7201a8"
            ],
            [
             0.3333333333333333,
             "#9c179e"
            ],
            [
             0.4444444444444444,
             "#bd3786"
            ],
            [
             0.5555555555555556,
             "#d8576b"
            ],
            [
             0.6666666666666666,
             "#ed7953"
            ],
            [
             0.7777777777777778,
             "#fb9f3a"
            ],
            [
             0.8888888888888888,
             "#fdca26"
            ],
            [
             1,
             "#f0f921"
            ]
           ],
           "sequentialminus": [
            [
             0,
             "#0d0887"
            ],
            [
             0.1111111111111111,
             "#46039f"
            ],
            [
             0.2222222222222222,
             "#7201a8"
            ],
            [
             0.3333333333333333,
             "#9c179e"
            ],
            [
             0.4444444444444444,
             "#bd3786"
            ],
            [
             0.5555555555555556,
             "#d8576b"
            ],
            [
             0.6666666666666666,
             "#ed7953"
            ],
            [
             0.7777777777777778,
             "#fb9f3a"
            ],
            [
             0.8888888888888888,
             "#fdca26"
            ],
            [
             1,
             "#f0f921"
            ]
           ]
          },
          "colorway": [
           "#636efa",
           "#EF553B",
           "#00cc96",
           "#ab63fa",
           "#FFA15A",
           "#19d3f3",
           "#FF6692",
           "#B6E880",
           "#FF97FF",
           "#FECB52"
          ],
          "font": {
           "color": "#2a3f5f"
          },
          "geo": {
           "bgcolor": "white",
           "lakecolor": "white",
           "landcolor": "#E5ECF6",
           "showlakes": true,
           "showland": true,
           "subunitcolor": "white"
          },
          "hoverlabel": {
           "align": "left"
          },
          "hovermode": "closest",
          "mapbox": {
           "style": "light"
          },
          "paper_bgcolor": "white",
          "plot_bgcolor": "#E5ECF6",
          "polar": {
           "angularaxis": {
            "gridcolor": "white",
            "linecolor": "white",
            "ticks": ""
           },
           "bgcolor": "#E5ECF6",
           "radialaxis": {
            "gridcolor": "white",
            "linecolor": "white",
            "ticks": ""
           }
          },
          "scene": {
           "xaxis": {
            "backgroundcolor": "#E5ECF6",
            "gridcolor": "white",
            "gridwidth": 2,
            "linecolor": "white",
            "showbackground": true,
            "ticks": "",
            "zerolinecolor": "white"
           },
           "yaxis": {
            "backgroundcolor": "#E5ECF6",
            "gridcolor": "white",
            "gridwidth": 2,
            "linecolor": "white",
            "showbackground": true,
            "ticks": "",
            "zerolinecolor": "white"
           },
           "zaxis": {
            "backgroundcolor": "#E5ECF6",
            "gridcolor": "white",
            "gridwidth": 2,
            "linecolor": "white",
            "showbackground": true,
            "ticks": "",
            "zerolinecolor": "white"
           }
          },
          "shapedefaults": {
           "line": {
            "color": "#2a3f5f"
           }
          },
          "ternary": {
           "aaxis": {
            "gridcolor": "white",
            "linecolor": "white",
            "ticks": ""
           },
           "baxis": {
            "gridcolor": "white",
            "linecolor": "white",
            "ticks": ""
           },
           "bgcolor": "#E5ECF6",
           "caxis": {
            "gridcolor": "white",
            "linecolor": "white",
            "ticks": ""
           }
          },
          "title": {
           "x": 0.05
          },
          "xaxis": {
           "automargin": true,
           "gridcolor": "white",
           "linecolor": "white",
           "ticks": "",
           "title": {
            "standoff": 15
           },
           "zerolinecolor": "white",
           "zerolinewidth": 2
          },
          "yaxis": {
           "automargin": true,
           "gridcolor": "white",
           "linecolor": "white",
           "ticks": "",
           "title": {
            "standoff": 15
           },
           "zerolinecolor": "white",
           "zerolinewidth": 2
          }
         }
        },
        "title": {
         "text": "Target1 Top 50 feature importance"
        },
        "width": 1250,
        "xaxis": {
         "anchor": "y",
         "domain": [
          0,
          1
         ],
         "title": {
          "text": "feature_importance"
         }
        },
        "yaxis": {
         "anchor": "x",
         "categoryarray": [
          "StandingsMeta_xWinLossPct",
          "PlayerStats_saves_rank",
          "PlayerStats_homeRuns_rank",
          "Players_LE_birthCountry",
          "target4_202104_max",
          "PlayerStats_homeRunsPitching_cum",
          "target3_202104_prob",
          "PlayerStats_wp",
          "PlayerStats_holds_rank",
          "target3_202104_std",
          "PlayerStats_k%",
          "target4_202104_std",
          "PlayerStats_putOuts_cum",
          "PlayerStats_runsPitching_rank",
          "PlayerStats_strikeOuts_rank",
          "PlayerStats_home_cum",
          "PlayerStats_assists_cum",
          "target3_202104_quantile25",
          "target1_202104_quantile25",
          "target1_202104_max",
          "target4_202104_quantile75",
          "target2_202104_prob",
          "PlayerStats_inningsPitched_rank",
          "PlayerStats_bb_k_rank",
          "target3_202104_quantile75",
          "target3_202104_mean",
          "target2_202104_std",
          "target1_202104_median",
          "target4_202104_prob",
          "target1_202104_prob",
          "target1_202104_min",
          "target1_202104_std",
          "target4_202104_quantile25",
          "target2_202104_median",
          "target2_202104_quantile75",
          "target2_202104_max",
          "target4_202104_median",
          "target2_202104_quantile25",
          "target4_202104_mean",
          "Players_LE_primaryPositionCode",
          "PlayerStats_chances_cum",
          "target2_202104_min",
          "target2_202104_mean",
          "target3_202104_min",
          "target1_202104_quantile75",
          "Rosters_LE_status",
          "Players_LE_playerid",
          "target1_202104_mean",
          "target4_202104_min",
          "Rosters_LE_teamId"
         ],
         "categoryorder": "array",
         "domain": [
          0,
          1
         ],
         "showgrid": true,
         "title": {
          "text": "feature"
         }
        }
       }
      }
     },
     "metadata": {}
    },
    {
     "output_type": "display_data",
     "data": {
      "application/vnd.plotly.v1+json": {
       "config": {
        "plotlyServerURL": "https://plot.ly"
       },
       "data": [
        {
         "alignmentgroup": "True",
         "hovertemplate": "feature_importance=%{x}<br>feature=%{y}<extra></extra>",
         "legendgroup": "",
         "marker": {
          "color": "#636efa"
         },
         "name": "",
         "notched": false,
         "offsetgroup": "",
         "orientation": "h",
         "showlegend": false,
         "type": "box",
         "x": [
          243758.25407791138,
          83208.13768386841,
          51555.931640625,
          42023.090744018555,
          74215.05744934082,
          76882.67942047119,
          38823.37554168701,
          171536.6630935669,
          137366.27601623535,
          115177.08204650879,
          112476.35913848877,
          88160.93719863892,
          205135.53903198242,
          46830.47278594971,
          82168.92115020752,
          121064.86799240112,
          66960.82614898682,
          38543.31472015381,
          125959.76169586182,
          79848.9534072876,
          65444.40742111206,
          98370.36860275269,
          102417.62383270264,
          120962.23222351074,
          99405.36065673828,
          202929.48302459717,
          77729.11441421509,
          53765.50337219238,
          45168.86553955078,
          584205.2442779541,
          627759.6253242493,
          412769.2770652771,
          59902.76904296875,
          2209977.456436157,
          3439068.95917511,
          40506.19065093994,
          633617.3675079346,
          64197.001445770264,
          193451.63457107544,
          41651.61219787598,
          73450.44421386719,
          84207.87125778198,
          228604.31532287598,
          46841.8200302124,
          39061.53350067139,
          91266.96006774902,
          70275.47966766357,
          92116.44942474365,
          69030.52797698975,
          74679.08400726318
         ],
         "x0": " ",
         "xaxis": "x",
         "y": [
          "PlayerStats_home",
          "PlayerStats_home_cum",
          "PlayerStats_positionCode",
          "PlayerStats_plateAppearances",
          "PlayerStats_chances_cum",
          "PlayerStats_homeRuns_rank",
          "PlayerStats_rbi_rank",
          "PlayerStats_triples_rank",
          "PlayerStats_hitByPitch_rank",
          "PlayerStats_winsPitching_rank",
          "PlayerStats_saves_rank",
          "PlayerStats_holds_rank",
          "PlayerStats_completeGamesPitching_rank",
          "PlayerStats_shutoutsPitching_rank",
          "PlayerStats_inningsPitched_rank",
          "target1_202104_mean",
          "target1_202104_std",
          "target1_202104_max",
          "target1_202104_min",
          "target1_202104_median",
          "target2_202104_mean",
          "target2_202104_std",
          "target2_202104_max",
          "target2_202104_min",
          "target2_202104_median",
          "target2_202104_quantile25",
          "target2_202104_quantile75",
          "target4_202104_mean",
          "target4_202104_std",
          "target4_202104_min",
          "target4_202104_median",
          "target4_202104_quantile25",
          "target4_202104_prob",
          "Rosters_LE_teamId",
          "Rosters_LE_status",
          "Players_LE_primaryPositionCode",
          "Players_LE_playerid",
          "StandingsMeta_divisionId",
          "StandingsMeta_leagueRank",
          "StandingsMeta_wins",
          "StandingsMeta_losses",
          "StandingsMeta_pct",
          "StandingsMeta_runsAllowed",
          "StandingsMeta_runsScored",
          "StandingsMeta_lastTenWins",
          "StandingsMeta_divLosses",
          "DatetimeEncoding_day2cos",
          "DatetimeEncoding_day2sin",
          "DatetimeEncoding_dow2cos",
          "DatetimeEncoding_dow2sin"
         ],
         "y0": " ",
         "yaxis": "y"
        }
       ],
       "layout": {
        "boxmode": "group",
        "height": 900,
        "legend": {
         "tracegroupgap": 0
        },
        "template": {
         "data": {
          "bar": [
           {
            "error_x": {
             "color": "#2a3f5f"
            },
            "error_y": {
             "color": "#2a3f5f"
            },
            "marker": {
             "line": {
              "color": "#E5ECF6",
              "width": 0.5
             }
            },
            "type": "bar"
           }
          ],
          "barpolar": [
           {
            "marker": {
             "line": {
              "color": "#E5ECF6",
              "width": 0.5
             }
            },
            "type": "barpolar"
           }
          ],
          "carpet": [
           {
            "aaxis": {
             "endlinecolor": "#2a3f5f",
             "gridcolor": "white",
             "linecolor": "white",
             "minorgridcolor": "white",
             "startlinecolor": "#2a3f5f"
            },
            "baxis": {
             "endlinecolor": "#2a3f5f",
             "gridcolor": "white",
             "linecolor": "white",
             "minorgridcolor": "white",
             "startlinecolor": "#2a3f5f"
            },
            "type": "carpet"
           }
          ],
          "choropleth": [
           {
            "colorbar": {
             "outlinewidth": 0,
             "ticks": ""
            },
            "type": "choropleth"
           }
          ],
          "contour": [
           {
            "colorbar": {
             "outlinewidth": 0,
             "ticks": ""
            },
            "colorscale": [
             [
              0,
              "#0d0887"
             ],
             [
              0.1111111111111111,
              "#46039f"
             ],
             [
              0.2222222222222222,
              "#7201a8"
             ],
             [
              0.3333333333333333,
              "#9c179e"
             ],
             [
              0.4444444444444444,
              "#bd3786"
             ],
             [
              0.5555555555555556,
              "#d8576b"
             ],
             [
              0.6666666666666666,
              "#ed7953"
             ],
             [
              0.7777777777777778,
              "#fb9f3a"
             ],
             [
              0.8888888888888888,
              "#fdca26"
             ],
             [
              1,
              "#f0f921"
             ]
            ],
            "type": "contour"
           }
          ],
          "contourcarpet": [
           {
            "colorbar": {
             "outlinewidth": 0,
             "ticks": ""
            },
            "type": "contourcarpet"
           }
          ],
          "heatmap": [
           {
            "colorbar": {
             "outlinewidth": 0,
             "ticks": ""
            },
            "colorscale": [
             [
              0,
              "#0d0887"
             ],
             [
              0.1111111111111111,
              "#46039f"
             ],
             [
              0.2222222222222222,
              "#7201a8"
             ],
             [
              0.3333333333333333,
              "#9c179e"
             ],
             [
              0.4444444444444444,
              "#bd3786"
             ],
             [
              0.5555555555555556,
              "#d8576b"
             ],
             [
              0.6666666666666666,
              "#ed7953"
             ],
             [
              0.7777777777777778,
              "#fb9f3a"
             ],
             [
              0.8888888888888888,
              "#fdca26"
             ],
             [
              1,
              "#f0f921"
             ]
            ],
            "type": "heatmap"
           }
          ],
          "heatmapgl": [
           {
            "colorbar": {
             "outlinewidth": 0,
             "ticks": ""
            },
            "colorscale": [
             [
              0,
              "#0d0887"
             ],
             [
              0.1111111111111111,
              "#46039f"
             ],
             [
              0.2222222222222222,
              "#7201a8"
             ],
             [
              0.3333333333333333,
              "#9c179e"
             ],
             [
              0.4444444444444444,
              "#bd3786"
             ],
             [
              0.5555555555555556,
              "#d8576b"
             ],
             [
              0.6666666666666666,
              "#ed7953"
             ],
             [
              0.7777777777777778,
              "#fb9f3a"
             ],
             [
              0.8888888888888888,
              "#fdca26"
             ],
             [
              1,
              "#f0f921"
             ]
            ],
            "type": "heatmapgl"
           }
          ],
          "histogram": [
           {
            "marker": {
             "colorbar": {
              "outlinewidth": 0,
              "ticks": ""
             }
            },
            "type": "histogram"
           }
          ],
          "histogram2d": [
           {
            "colorbar": {
             "outlinewidth": 0,
             "ticks": ""
            },
            "colorscale": [
             [
              0,
              "#0d0887"
             ],
             [
              0.1111111111111111,
              "#46039f"
             ],
             [
              0.2222222222222222,
              "#7201a8"
             ],
             [
              0.3333333333333333,
              "#9c179e"
             ],
             [
              0.4444444444444444,
              "#bd3786"
             ],
             [
              0.5555555555555556,
              "#d8576b"
             ],
             [
              0.6666666666666666,
              "#ed7953"
             ],
             [
              0.7777777777777778,
              "#fb9f3a"
             ],
             [
              0.8888888888888888,
              "#fdca26"
             ],
             [
              1,
              "#f0f921"
             ]
            ],
            "type": "histogram2d"
           }
          ],
          "histogram2dcontour": [
           {
            "colorbar": {
             "outlinewidth": 0,
             "ticks": ""
            },
            "colorscale": [
             [
              0,
              "#0d0887"
             ],
             [
              0.1111111111111111,
              "#46039f"
             ],
             [
              0.2222222222222222,
              "#7201a8"
             ],
             [
              0.3333333333333333,
              "#9c179e"
             ],
             [
              0.4444444444444444,
              "#bd3786"
             ],
             [
              0.5555555555555556,
              "#d8576b"
             ],
             [
              0.6666666666666666,
              "#ed7953"
             ],
             [
              0.7777777777777778,
              "#fb9f3a"
             ],
             [
              0.8888888888888888,
              "#fdca26"
             ],
             [
              1,
              "#f0f921"
             ]
            ],
            "type": "histogram2dcontour"
           }
          ],
          "mesh3d": [
           {
            "colorbar": {
             "outlinewidth": 0,
             "ticks": ""
            },
            "type": "mesh3d"
           }
          ],
          "parcoords": [
           {
            "line": {
             "colorbar": {
              "outlinewidth": 0,
              "ticks": ""
             }
            },
            "type": "parcoords"
           }
          ],
          "pie": [
           {
            "automargin": true,
            "type": "pie"
           }
          ],
          "scatter": [
           {
            "marker": {
             "colorbar": {
              "outlinewidth": 0,
              "ticks": ""
             }
            },
            "type": "scatter"
           }
          ],
          "scatter3d": [
           {
            "line": {
             "colorbar": {
              "outlinewidth": 0,
              "ticks": ""
             }
            },
            "marker": {
             "colorbar": {
              "outlinewidth": 0,
              "ticks": ""
             }
            },
            "type": "scatter3d"
           }
          ],
          "scattercarpet": [
           {
            "marker": {
             "colorbar": {
              "outlinewidth": 0,
              "ticks": ""
             }
            },
            "type": "scattercarpet"
           }
          ],
          "scattergeo": [
           {
            "marker": {
             "colorbar": {
              "outlinewidth": 0,
              "ticks": ""
             }
            },
            "type": "scattergeo"
           }
          ],
          "scattergl": [
           {
            "marker": {
             "colorbar": {
              "outlinewidth": 0,
              "ticks": ""
             }
            },
            "type": "scattergl"
           }
          ],
          "scattermapbox": [
           {
            "marker": {
             "colorbar": {
              "outlinewidth": 0,
              "ticks": ""
             }
            },
            "type": "scattermapbox"
           }
          ],
          "scatterpolar": [
           {
            "marker": {
             "colorbar": {
              "outlinewidth": 0,
              "ticks": ""
             }
            },
            "type": "scatterpolar"
           }
          ],
          "scatterpolargl": [
           {
            "marker": {
             "colorbar": {
              "outlinewidth": 0,
              "ticks": ""
             }
            },
            "type": "scatterpolargl"
           }
          ],
          "scatterternary": [
           {
            "marker": {
             "colorbar": {
              "outlinewidth": 0,
              "ticks": ""
             }
            },
            "type": "scatterternary"
           }
          ],
          "surface": [
           {
            "colorbar": {
             "outlinewidth": 0,
             "ticks": ""
            },
            "colorscale": [
             [
              0,
              "#0d0887"
             ],
             [
              0.1111111111111111,
              "#46039f"
             ],
             [
              0.2222222222222222,
              "#7201a8"
             ],
             [
              0.3333333333333333,
              "#9c179e"
             ],
             [
              0.4444444444444444,
              "#bd3786"
             ],
             [
              0.5555555555555556,
              "#d8576b"
             ],
             [
              0.6666666666666666,
              "#ed7953"
             ],
             [
              0.7777777777777778,
              "#fb9f3a"
             ],
             [
              0.8888888888888888,
              "#fdca26"
             ],
             [
              1,
              "#f0f921"
             ]
            ],
            "type": "surface"
           }
          ],
          "table": [
           {
            "cells": {
             "fill": {
              "color": "#EBF0F8"
             },
             "line": {
              "color": "white"
             }
            },
            "header": {
             "fill": {
              "color": "#C8D4E3"
             },
             "line": {
              "color": "white"
             }
            },
            "type": "table"
           }
          ]
         },
         "layout": {
          "annotationdefaults": {
           "arrowcolor": "#2a3f5f",
           "arrowhead": 0,
           "arrowwidth": 1
          },
          "autotypenumbers": "strict",
          "coloraxis": {
           "colorbar": {
            "outlinewidth": 0,
            "ticks": ""
           }
          },
          "colorscale": {
           "diverging": [
            [
             0,
             "#8e0152"
            ],
            [
             0.1,
             "#c51b7d"
            ],
            [
             0.2,
             "#de77ae"
            ],
            [
             0.3,
             "#f1b6da"
            ],
            [
             0.4,
             "#fde0ef"
            ],
            [
             0.5,
             "#f7f7f7"
            ],
            [
             0.6,
             "#e6f5d0"
            ],
            [
             0.7,
             "#b8e186"
            ],
            [
             0.8,
             "#7fbc41"
            ],
            [
             0.9,
             "#4d9221"
            ],
            [
             1,
             "#276419"
            ]
           ],
           "sequential": [
            [
             0,
             "#0d0887"
            ],
            [
             0.1111111111111111,
             "#46039f"
            ],
            [
             0.2222222222222222,
             "#7201a8"
            ],
            [
             0.3333333333333333,
             "#9c179e"
            ],
            [
             0.4444444444444444,
             "#bd3786"
            ],
            [
             0.5555555555555556,
             "#d8576b"
            ],
            [
             0.6666666666666666,
             "#ed7953"
            ],
            [
             0.7777777777777778,
             "#fb9f3a"
            ],
            [
             0.8888888888888888,
             "#fdca26"
            ],
            [
             1,
             "#f0f921"
            ]
           ],
           "sequentialminus": [
            [
             0,
             "#0d0887"
            ],
            [
             0.1111111111111111,
             "#46039f"
            ],
            [
             0.2222222222222222,
             "#7201a8"
            ],
            [
             0.3333333333333333,
             "#9c179e"
            ],
            [
             0.4444444444444444,
             "#bd3786"
            ],
            [
             0.5555555555555556,
             "#d8576b"
            ],
            [
             0.6666666666666666,
             "#ed7953"
            ],
            [
             0.7777777777777778,
             "#fb9f3a"
            ],
            [
             0.8888888888888888,
             "#fdca26"
            ],
            [
             1,
             "#f0f921"
            ]
           ]
          },
          "colorway": [
           "#636efa",
           "#EF553B",
           "#00cc96",
           "#ab63fa",
           "#FFA15A",
           "#19d3f3",
           "#FF6692",
           "#B6E880",
           "#FF97FF",
           "#FECB52"
          ],
          "font": {
           "color": "#2a3f5f"
          },
          "geo": {
           "bgcolor": "white",
           "lakecolor": "white",
           "landcolor": "#E5ECF6",
           "showlakes": true,
           "showland": true,
           "subunitcolor": "white"
          },
          "hoverlabel": {
           "align": "left"
          },
          "hovermode": "closest",
          "mapbox": {
           "style": "light"
          },
          "paper_bgcolor": "white",
          "plot_bgcolor": "#E5ECF6",
          "polar": {
           "angularaxis": {
            "gridcolor": "white",
            "linecolor": "white",
            "ticks": ""
           },
           "bgcolor": "#E5ECF6",
           "radialaxis": {
            "gridcolor": "white",
            "linecolor": "white",
            "ticks": ""
           }
          },
          "scene": {
           "xaxis": {
            "backgroundcolor": "#E5ECF6",
            "gridcolor": "white",
            "gridwidth": 2,
            "linecolor": "white",
            "showbackground": true,
            "ticks": "",
            "zerolinecolor": "white"
           },
           "yaxis": {
            "backgroundcolor": "#E5ECF6",
            "gridcolor": "white",
            "gridwidth": 2,
            "linecolor": "white",
            "showbackground": true,
            "ticks": "",
            "zerolinecolor": "white"
           },
           "zaxis": {
            "backgroundcolor": "#E5ECF6",
            "gridcolor": "white",
            "gridwidth": 2,
            "linecolor": "white",
            "showbackground": true,
            "ticks": "",
            "zerolinecolor": "white"
           }
          },
          "shapedefaults": {
           "line": {
            "color": "#2a3f5f"
           }
          },
          "ternary": {
           "aaxis": {
            "gridcolor": "white",
            "linecolor": "white",
            "ticks": ""
           },
           "baxis": {
            "gridcolor": "white",
            "linecolor": "white",
            "ticks": ""
           },
           "bgcolor": "#E5ECF6",
           "caxis": {
            "gridcolor": "white",
            "linecolor": "white",
            "ticks": ""
           }
          },
          "title": {
           "x": 0.05
          },
          "xaxis": {
           "automargin": true,
           "gridcolor": "white",
           "linecolor": "white",
           "ticks": "",
           "title": {
            "standoff": 15
           },
           "zerolinecolor": "white",
           "zerolinewidth": 2
          },
          "yaxis": {
           "automargin": true,
           "gridcolor": "white",
           "linecolor": "white",
           "ticks": "",
           "title": {
            "standoff": 15
           },
           "zerolinecolor": "white",
           "zerolinewidth": 2
          }
         }
        },
        "title": {
         "text": "Target2 Top 50 feature importance"
        },
        "width": 1250,
        "xaxis": {
         "anchor": "y",
         "domain": [
          0,
          1
         ],
         "title": {
          "text": "feature_importance"
         }
        },
        "yaxis": {
         "anchor": "x",
         "categoryarray": [
          "target1_202104_max",
          "PlayerStats_rbi_rank",
          "StandingsMeta_lastTenWins",
          "Players_LE_primaryPositionCode",
          "StandingsMeta_wins",
          "PlayerStats_plateAppearances",
          "target4_202104_std",
          "PlayerStats_shutoutsPitching_rank",
          "StandingsMeta_runsScored",
          "PlayerStats_positionCode",
          "target4_202104_mean",
          "target4_202104_prob",
          "StandingsMeta_divisionId",
          "target2_202104_mean",
          "target1_202104_std",
          "DatetimeEncoding_dow2cos",
          "DatetimeEncoding_day2cos",
          "StandingsMeta_losses",
          "PlayerStats_chances_cum",
          "DatetimeEncoding_dow2sin",
          "PlayerStats_homeRuns_rank",
          "target2_202104_quantile75",
          "target1_202104_median",
          "PlayerStats_inningsPitched_rank",
          "PlayerStats_home_cum",
          "StandingsMeta_pct",
          "PlayerStats_holds_rank",
          "StandingsMeta_divLosses",
          "DatetimeEncoding_day2sin",
          "target2_202104_std",
          "target2_202104_median",
          "target2_202104_max",
          "PlayerStats_saves_rank",
          "PlayerStats_winsPitching_rank",
          "target2_202104_min",
          "target1_202104_mean",
          "target1_202104_min",
          "PlayerStats_hitByPitch_rank",
          "PlayerStats_triples_rank",
          "StandingsMeta_leagueRank",
          "target2_202104_quantile25",
          "PlayerStats_completeGamesPitching_rank",
          "StandingsMeta_runsAllowed",
          "PlayerStats_home",
          "target4_202104_quantile25",
          "target4_202104_min",
          "target4_202104_median",
          "Players_LE_playerid",
          "Rosters_LE_teamId",
          "Rosters_LE_status"
         ],
         "categoryorder": "array",
         "domain": [
          0,
          1
         ],
         "showgrid": true,
         "title": {
          "text": "feature"
         }
        }
       }
      }
     },
     "metadata": {}
    },
    {
     "output_type": "display_data",
     "data": {
      "application/vnd.plotly.v1+json": {
       "config": {
        "plotlyServerURL": "https://plot.ly"
       },
       "data": [
        {
         "alignmentgroup": "True",
         "hovertemplate": "feature_importance=%{x}<br>feature=%{y}<extra></extra>",
         "legendgroup": "",
         "marker": {
          "color": "#636efa"
         },
         "name": "",
         "notched": false,
         "offsetgroup": "",
         "orientation": "h",
         "showlegend": false,
         "type": "box",
         "x": [
          35304.7850189209,
          19234.90008544922,
          135590.36059570312,
          13474.688957214355,
          100137.7712392807,
          34833.02228307724,
          42743.24914550781,
          28554.73543548584,
          16278.62124633789,
          21991.96593284607,
          34736.29858779907,
          35610.47037315369,
          55616.97612762451,
          60814.38447570801,
          57202.65702056885,
          24181.105762958527,
          32842.19554543495,
          14223.68334197998,
          26378.01776123047,
          25394.11114501953,
          24204.29930114746,
          37131.74312412739,
          103124.8330039978,
          70397.80690002441,
          247391.937541008,
          35262.70115661621,
          28568.09588623047,
          296200.65437316895,
          23868.78022003174,
          921583.7820796967,
          43275.63954162598,
          61189.88299560547,
          433141.97404384613,
          280729.8483657837,
          176734.86484336853,
          624697.4215736389,
          179213.2619781494,
          47539.82097244263,
          23791.694984436035,
          3407497.8877334595,
          208778.51986026764,
          177395.67338562012,
          160056.83857250214,
          27558.08987903595,
          8500715.665332794,
          856500.8041763306,
          1950602.7897435427,
          16058.583866000175,
          15347.490126132965,
          14310.849334716797
         ],
         "x0": " ",
         "xaxis": "x",
         "y": [
          "PlayerStats_home_cum",
          "PlayerStats_gamesPlayedBatting_cum",
          "PlayerStats_doubles_cum",
          "PlayerStats_gamesStartedPitching_cum",
          "PlayerStats_intentionalWalksPitching_cum",
          "PlayerStats_homeRuns_rank",
          "PlayerStats_triples_rank",
          "PlayerStats_runsScored_rank",
          "PlayerStats_hitByPitch_rank",
          "PlayerStats_winsPitching_rank",
          "PlayerStats_lossesPitching_rank",
          "PlayerStats_saves_rank",
          "PlayerStats_holds_rank",
          "PlayerStats_completeGamesPitching_rank",
          "PlayerStats_shutoutsPitching_rank",
          "PlayerStats_inningsPitched_rank",
          "target1_202104_mean",
          "target1_202104_max",
          "target1_202104_min",
          "target1_202104_quantile75",
          "target1_202104_prob",
          "target2_202104_mean",
          "target2_202104_std",
          "target2_202104_max",
          "target2_202104_min",
          "target2_202104_median",
          "target2_202104_quantile25",
          "target2_202104_quantile75",
          "target2_202104_prob",
          "target3_202104_mean",
          "target3_202104_std",
          "target3_202104_max",
          "target3_202104_min",
          "target3_202104_median",
          "target3_202104_quantile25",
          "target3_202104_quantile75",
          "target3_202104_prob",
          "target4_202104_mean",
          "target4_202104_std",
          "target4_202104_min",
          "target4_202104_median",
          "target4_202104_quantile25",
          "target4_202104_quantile75",
          "target4_202104_prob",
          "Rosters_LE_teamId",
          "Rosters_LE_status",
          "Players_LE_playerid",
          "StandingsMeta_losses",
          "StandingsMeta_runsAllowed",
          "StandingsMeta_divLosses"
         ],
         "y0": " ",
         "yaxis": "y"
        }
       ],
       "layout": {
        "boxmode": "group",
        "height": 900,
        "legend": {
         "tracegroupgap": 0
        },
        "template": {
         "data": {
          "bar": [
           {
            "error_x": {
             "color": "#2a3f5f"
            },
            "error_y": {
             "color": "#2a3f5f"
            },
            "marker": {
             "line": {
              "color": "#E5ECF6",
              "width": 0.5
             }
            },
            "type": "bar"
           }
          ],
          "barpolar": [
           {
            "marker": {
             "line": {
              "color": "#E5ECF6",
              "width": 0.5
             }
            },
            "type": "barpolar"
           }
          ],
          "carpet": [
           {
            "aaxis": {
             "endlinecolor": "#2a3f5f",
             "gridcolor": "white",
             "linecolor": "white",
             "minorgridcolor": "white",
             "startlinecolor": "#2a3f5f"
            },
            "baxis": {
             "endlinecolor": "#2a3f5f",
             "gridcolor": "white",
             "linecolor": "white",
             "minorgridcolor": "white",
             "startlinecolor": "#2a3f5f"
            },
            "type": "carpet"
           }
          ],
          "choropleth": [
           {
            "colorbar": {
             "outlinewidth": 0,
             "ticks": ""
            },
            "type": "choropleth"
           }
          ],
          "contour": [
           {
            "colorbar": {
             "outlinewidth": 0,
             "ticks": ""
            },
            "colorscale": [
             [
              0,
              "#0d0887"
             ],
             [
              0.1111111111111111,
              "#46039f"
             ],
             [
              0.2222222222222222,
              "#7201a8"
             ],
             [
              0.3333333333333333,
              "#9c179e"
             ],
             [
              0.4444444444444444,
              "#bd3786"
             ],
             [
              0.5555555555555556,
              "#d8576b"
             ],
             [
              0.6666666666666666,
              "#ed7953"
             ],
             [
              0.7777777777777778,
              "#fb9f3a"
             ],
             [
              0.8888888888888888,
              "#fdca26"
             ],
             [
              1,
              "#f0f921"
             ]
            ],
            "type": "contour"
           }
          ],
          "contourcarpet": [
           {
            "colorbar": {
             "outlinewidth": 0,
             "ticks": ""
            },
            "type": "contourcarpet"
           }
          ],
          "heatmap": [
           {
            "colorbar": {
             "outlinewidth": 0,
             "ticks": ""
            },
            "colorscale": [
             [
              0,
              "#0d0887"
             ],
             [
              0.1111111111111111,
              "#46039f"
             ],
             [
              0.2222222222222222,
              "#7201a8"
             ],
             [
              0.3333333333333333,
              "#9c179e"
             ],
             [
              0.4444444444444444,
              "#bd3786"
             ],
             [
              0.5555555555555556,
              "#d8576b"
             ],
             [
              0.6666666666666666,
              "#ed7953"
             ],
             [
              0.7777777777777778,
              "#fb9f3a"
             ],
             [
              0.8888888888888888,
              "#fdca26"
             ],
             [
              1,
              "#f0f921"
             ]
            ],
            "type": "heatmap"
           }
          ],
          "heatmapgl": [
           {
            "colorbar": {
             "outlinewidth": 0,
             "ticks": ""
            },
            "colorscale": [
             [
              0,
              "#0d0887"
             ],
             [
              0.1111111111111111,
              "#46039f"
             ],
             [
              0.2222222222222222,
              "#7201a8"
             ],
             [
              0.3333333333333333,
              "#9c179e"
             ],
             [
              0.4444444444444444,
              "#bd3786"
             ],
             [
              0.5555555555555556,
              "#d8576b"
             ],
             [
              0.6666666666666666,
              "#ed7953"
             ],
             [
              0.7777777777777778,
              "#fb9f3a"
             ],
             [
              0.8888888888888888,
              "#fdca26"
             ],
             [
              1,
              "#f0f921"
             ]
            ],
            "type": "heatmapgl"
           }
          ],
          "histogram": [
           {
            "marker": {
             "colorbar": {
              "outlinewidth": 0,
              "ticks": ""
             }
            },
            "type": "histogram"
           }
          ],
          "histogram2d": [
           {
            "colorbar": {
             "outlinewidth": 0,
             "ticks": ""
            },
            "colorscale": [
             [
              0,
              "#0d0887"
             ],
             [
              0.1111111111111111,
              "#46039f"
             ],
             [
              0.2222222222222222,
              "#7201a8"
             ],
             [
              0.3333333333333333,
              "#9c179e"
             ],
             [
              0.4444444444444444,
              "#bd3786"
             ],
             [
              0.5555555555555556,
              "#d8576b"
             ],
             [
              0.6666666666666666,
              "#ed7953"
             ],
             [
              0.7777777777777778,
              "#fb9f3a"
             ],
             [
              0.8888888888888888,
              "#fdca26"
             ],
             [
              1,
              "#f0f921"
             ]
            ],
            "type": "histogram2d"
           }
          ],
          "histogram2dcontour": [
           {
            "colorbar": {
             "outlinewidth": 0,
             "ticks": ""
            },
            "colorscale": [
             [
              0,
              "#0d0887"
             ],
             [
              0.1111111111111111,
              "#46039f"
             ],
             [
              0.2222222222222222,
              "#7201a8"
             ],
             [
              0.3333333333333333,
              "#9c179e"
             ],
             [
              0.4444444444444444,
              "#bd3786"
             ],
             [
              0.5555555555555556,
              "#d8576b"
             ],
             [
              0.6666666666666666,
              "#ed7953"
             ],
             [
              0.7777777777777778,
              "#fb9f3a"
             ],
             [
              0.8888888888888888,
              "#fdca26"
             ],
             [
              1,
              "#f0f921"
             ]
            ],
            "type": "histogram2dcontour"
           }
          ],
          "mesh3d": [
           {
            "colorbar": {
             "outlinewidth": 0,
             "ticks": ""
            },
            "type": "mesh3d"
           }
          ],
          "parcoords": [
           {
            "line": {
             "colorbar": {
              "outlinewidth": 0,
              "ticks": ""
             }
            },
            "type": "parcoords"
           }
          ],
          "pie": [
           {
            "automargin": true,
            "type": "pie"
           }
          ],
          "scatter": [
           {
            "marker": {
             "colorbar": {
              "outlinewidth": 0,
              "ticks": ""
             }
            },
            "type": "scatter"
           }
          ],
          "scatter3d": [
           {
            "line": {
             "colorbar": {
              "outlinewidth": 0,
              "ticks": ""
             }
            },
            "marker": {
             "colorbar": {
              "outlinewidth": 0,
              "ticks": ""
             }
            },
            "type": "scatter3d"
           }
          ],
          "scattercarpet": [
           {
            "marker": {
             "colorbar": {
              "outlinewidth": 0,
              "ticks": ""
             }
            },
            "type": "scattercarpet"
           }
          ],
          "scattergeo": [
           {
            "marker": {
             "colorbar": {
              "outlinewidth": 0,
              "ticks": ""
             }
            },
            "type": "scattergeo"
           }
          ],
          "scattergl": [
           {
            "marker": {
             "colorbar": {
              "outlinewidth": 0,
              "ticks": ""
             }
            },
            "type": "scattergl"
           }
          ],
          "scattermapbox": [
           {
            "marker": {
             "colorbar": {
              "outlinewidth": 0,
              "ticks": ""
             }
            },
            "type": "scattermapbox"
           }
          ],
          "scatterpolar": [
           {
            "marker": {
             "colorbar": {
              "outlinewidth": 0,
              "ticks": ""
             }
            },
            "type": "scatterpolar"
           }
          ],
          "scatterpolargl": [
           {
            "marker": {
             "colorbar": {
              "outlinewidth": 0,
              "ticks": ""
             }
            },
            "type": "scatterpolargl"
           }
          ],
          "scatterternary": [
           {
            "marker": {
             "colorbar": {
              "outlinewidth": 0,
              "ticks": ""
             }
            },
            "type": "scatterternary"
           }
          ],
          "surface": [
           {
            "colorbar": {
             "outlinewidth": 0,
             "ticks": ""
            },
            "colorscale": [
             [
              0,
              "#0d0887"
             ],
             [
              0.1111111111111111,
              "#46039f"
             ],
             [
              0.2222222222222222,
              "#7201a8"
             ],
             [
              0.3333333333333333,
              "#9c179e"
             ],
             [
              0.4444444444444444,
              "#bd3786"
             ],
             [
              0.5555555555555556,
              "#d8576b"
             ],
             [
              0.6666666666666666,
              "#ed7953"
             ],
             [
              0.7777777777777778,
              "#fb9f3a"
             ],
             [
              0.8888888888888888,
              "#fdca26"
             ],
             [
              1,
              "#f0f921"
             ]
            ],
            "type": "surface"
           }
          ],
          "table": [
           {
            "cells": {
             "fill": {
              "color": "#EBF0F8"
             },
             "line": {
              "color": "white"
             }
            },
            "header": {
             "fill": {
              "color": "#C8D4E3"
             },
             "line": {
              "color": "white"
             }
            },
            "type": "table"
           }
          ]
         },
         "layout": {
          "annotationdefaults": {
           "arrowcolor": "#2a3f5f",
           "arrowhead": 0,
           "arrowwidth": 1
          },
          "autotypenumbers": "strict",
          "coloraxis": {
           "colorbar": {
            "outlinewidth": 0,
            "ticks": ""
           }
          },
          "colorscale": {
           "diverging": [
            [
             0,
             "#8e0152"
            ],
            [
             0.1,
             "#c51b7d"
            ],
            [
             0.2,
             "#de77ae"
            ],
            [
             0.3,
             "#f1b6da"
            ],
            [
             0.4,
             "#fde0ef"
            ],
            [
             0.5,
             "#f7f7f7"
            ],
            [
             0.6,
             "#e6f5d0"
            ],
            [
             0.7,
             "#b8e186"
            ],
            [
             0.8,
             "#7fbc41"
            ],
            [
             0.9,
             "#4d9221"
            ],
            [
             1,
             "#276419"
            ]
           ],
           "sequential": [
            [
             0,
             "#0d0887"
            ],
            [
             0.1111111111111111,
             "#46039f"
            ],
            [
             0.2222222222222222,
             "#7201a8"
            ],
            [
             0.3333333333333333,
             "#9c179e"
            ],
            [
             0.4444444444444444,
             "#bd3786"
            ],
            [
             0.5555555555555556,
             "#d8576b"
            ],
            [
             0.6666666666666666,
             "#ed7953"
            ],
            [
             0.7777777777777778,
             "#fb9f3a"
            ],
            [
             0.8888888888888888,
             "#fdca26"
            ],
            [
             1,
             "#f0f921"
            ]
           ],
           "sequentialminus": [
            [
             0,
             "#0d0887"
            ],
            [
             0.1111111111111111,
             "#46039f"
            ],
            [
             0.2222222222222222,
             "#7201a8"
            ],
            [
             0.3333333333333333,
             "#9c179e"
            ],
            [
             0.4444444444444444,
             "#bd3786"
            ],
            [
             0.5555555555555556,
             "#d8576b"
            ],
            [
             0.6666666666666666,
             "#ed7953"
            ],
            [
             0.7777777777777778,
             "#fb9f3a"
            ],
            [
             0.8888888888888888,
             "#fdca26"
            ],
            [
             1,
             "#f0f921"
            ]
           ]
          },
          "colorway": [
           "#636efa",
           "#EF553B",
           "#00cc96",
           "#ab63fa",
           "#FFA15A",
           "#19d3f3",
           "#FF6692",
           "#B6E880",
           "#FF97FF",
           "#FECB52"
          ],
          "font": {
           "color": "#2a3f5f"
          },
          "geo": {
           "bgcolor": "white",
           "lakecolor": "white",
           "landcolor": "#E5ECF6",
           "showlakes": true,
           "showland": true,
           "subunitcolor": "white"
          },
          "hoverlabel": {
           "align": "left"
          },
          "hovermode": "closest",
          "mapbox": {
           "style": "light"
          },
          "paper_bgcolor": "white",
          "plot_bgcolor": "#E5ECF6",
          "polar": {
           "angularaxis": {
            "gridcolor": "white",
            "linecolor": "white",
            "ticks": ""
           },
           "bgcolor": "#E5ECF6",
           "radialaxis": {
            "gridcolor": "white",
            "linecolor": "white",
            "ticks": ""
           }
          },
          "scene": {
           "xaxis": {
            "backgroundcolor": "#E5ECF6",
            "gridcolor": "white",
            "gridwidth": 2,
            "linecolor": "white",
            "showbackground": true,
            "ticks": "",
            "zerolinecolor": "white"
           },
           "yaxis": {
            "backgroundcolor": "#E5ECF6",
            "gridcolor": "white",
            "gridwidth": 2,
            "linecolor": "white",
            "showbackground": true,
            "ticks": "",
            "zerolinecolor": "white"
           },
           "zaxis": {
            "backgroundcolor": "#E5ECF6",
            "gridcolor": "white",
            "gridwidth": 2,
            "linecolor": "white",
            "showbackground": true,
            "ticks": "",
            "zerolinecolor": "white"
           }
          },
          "shapedefaults": {
           "line": {
            "color": "#2a3f5f"
           }
          },
          "ternary": {
           "aaxis": {
            "gridcolor": "white",
            "linecolor": "white",
            "ticks": ""
           },
           "baxis": {
            "gridcolor": "white",
            "linecolor": "white",
            "ticks": ""
           },
           "bgcolor": "#E5ECF6",
           "caxis": {
            "gridcolor": "white",
            "linecolor": "white",
            "ticks": ""
           }
          },
          "title": {
           "x": 0.05
          },
          "xaxis": {
           "automargin": true,
           "gridcolor": "white",
           "linecolor": "white",
           "ticks": "",
           "title": {
            "standoff": 15
           },
           "zerolinecolor": "white",
           "zerolinewidth": 2
          },
          "yaxis": {
           "automargin": true,
           "gridcolor": "white",
           "linecolor": "white",
           "ticks": "",
           "title": {
            "standoff": 15
           },
           "zerolinecolor": "white",
           "zerolinewidth": 2
          }
         }
        },
        "title": {
         "text": "Target3 Top 50 feature importance"
        },
        "width": 1250,
        "xaxis": {
         "anchor": "y",
         "domain": [
          0,
          1
         ],
         "title": {
          "text": "feature_importance"
         }
        },
        "yaxis": {
         "anchor": "x",
         "categoryarray": [
          "PlayerStats_gamesStartedPitching_cum",
          "target1_202104_max",
          "StandingsMeta_divLosses",
          "StandingsMeta_runsAllowed",
          "StandingsMeta_losses",
          "PlayerStats_hitByPitch_rank",
          "PlayerStats_gamesPlayedBatting_cum",
          "PlayerStats_winsPitching_rank",
          "target4_202104_std",
          "target2_202104_prob",
          "PlayerStats_inningsPitched_rank",
          "target1_202104_prob",
          "target1_202104_quantile75",
          "target1_202104_min",
          "target4_202104_prob",
          "PlayerStats_runsScored_rank",
          "target2_202104_quantile25",
          "target1_202104_mean",
          "PlayerStats_lossesPitching_rank",
          "PlayerStats_homeRuns_rank",
          "target2_202104_median",
          "PlayerStats_home_cum",
          "PlayerStats_saves_rank",
          "target2_202104_mean",
          "PlayerStats_triples_rank",
          "target3_202104_std",
          "target4_202104_mean",
          "PlayerStats_holds_rank",
          "PlayerStats_shutoutsPitching_rank",
          "PlayerStats_completeGamesPitching_rank",
          "target3_202104_max",
          "target2_202104_max",
          "PlayerStats_intentionalWalksPitching_cum",
          "target2_202104_std",
          "PlayerStats_doubles_cum",
          "target4_202104_quantile75",
          "target3_202104_quantile25",
          "target4_202104_quantile25",
          "target3_202104_prob",
          "target4_202104_median",
          "target2_202104_min",
          "target3_202104_median",
          "target2_202104_quantile75",
          "target3_202104_min",
          "target3_202104_quantile75",
          "Rosters_LE_status",
          "target3_202104_mean",
          "Players_LE_playerid",
          "target4_202104_min",
          "Rosters_LE_teamId"
         ],
         "categoryorder": "array",
         "domain": [
          0,
          1
         ],
         "showgrid": true,
         "title": {
          "text": "feature"
         }
        }
       }
      }
     },
     "metadata": {}
    },
    {
     "output_type": "display_data",
     "data": {
      "application/vnd.plotly.v1+json": {
       "config": {
        "plotlyServerURL": "https://plot.ly"
       },
       "data": [
        {
         "alignmentgroup": "True",
         "hovertemplate": "feature_importance=%{x}<br>feature=%{y}<extra></extra>",
         "legendgroup": "",
         "marker": {
          "color": "#636efa"
         },
         "name": "",
         "notched": false,
         "offsetgroup": "",
         "orientation": "h",
         "showlegend": false,
         "type": "box",
         "x": [
          31369.426971435547,
          18900.89431476593,
          16098.37939453125,
          18073.0789411366,
          42794.07305979729,
          48707.80404919386,
          24318.02002096176,
          18166.80367565155,
          148120.3379021883,
          51001.13620185852,
          214408.60874533653,
          22201.470682144165,
          47316.777014255524,
          34823.72029519081,
          18320.201026916504,
          17846.394638061523,
          154435.59863591194,
          94057.29838180542,
          85551.43603515625,
          145437.5767097473,
          233372.25313949585,
          192949.7170715332,
          194450.87958145142,
          48246.53731536865,
          29725.796642303467,
          19960.714128494263,
          16749.895632743835,
          24925.634311676025,
          22257.428777694702,
          23727.161613464355,
          104885.6127114296,
          60592.87475776672,
          31343.05142402649,
          1573204.712809205,
          1159071.9247159958,
          1455311.2958488464,
          149664.62882483006,
          85434.05443286896,
          591994.801856041,
          438482.2930673063,
          15847.18587398529,
          591320.0477638245,
          18413.882563829422,
          15219.844177789986,
          93251.63513588905,
          57960.55839729309,
          46509.460569381714,
          72732.341569826,
          25976.96330857277,
          56342.11361551285
         ],
         "x0": " ",
         "xaxis": "x",
         "y": [
          "PlayerStats_home",
          "PlayerStats_positionCode",
          "PlayerStats_doublesPitching_cum",
          "PlayerStats_homeRuns_rank",
          "PlayerStats_triples_rank",
          "PlayerStats_hitByPitch_rank",
          "PlayerStats_winsPitching_rank",
          "PlayerStats_lossesPitching_rank",
          "PlayerStats_saves_rank",
          "PlayerStats_holds_rank",
          "PlayerStats_completeGamesPitching_rank",
          "PlayerStats_shutoutsPitching_rank",
          "target1_202104_mean",
          "target1_202104_std",
          "target1_202104_min",
          "target1_202104_median",
          "target2_202104_mean",
          "target2_202104_std",
          "target2_202104_max",
          "target2_202104_min",
          "target2_202104_median",
          "target2_202104_quantile25",
          "target2_202104_quantile75",
          "target2_202104_prob",
          "target3_202104_mean",
          "target3_202104_std",
          "target3_202104_min",
          "target3_202104_median",
          "target3_202104_quantile25",
          "target3_202104_quantile75",
          "target4_202104_mean",
          "target4_202104_std",
          "target4_202104_max",
          "target4_202104_min",
          "target4_202104_median",
          "target4_202104_quantile25",
          "target4_202104_quantile75",
          "target4_202104_prob",
          "Rosters_LE_teamId",
          "Rosters_LE_status",
          "Players_LE_primaryPositionCode",
          "Players_LE_playerid",
          "StandingsMeta_leagueRank",
          "StandingsMeta_losses",
          "StandingsMeta_runsAllowed",
          "StandingsMeta_divLosses",
          "DatetimeEncoding_day2cos",
          "DatetimeEncoding_day2sin",
          "DatetimeEncoding_dow2cos",
          "DatetimeEncoding_dow2sin"
         ],
         "y0": " ",
         "yaxis": "y"
        }
       ],
       "layout": {
        "boxmode": "group",
        "height": 900,
        "legend": {
         "tracegroupgap": 0
        },
        "template": {
         "data": {
          "bar": [
           {
            "error_x": {
             "color": "#2a3f5f"
            },
            "error_y": {
             "color": "#2a3f5f"
            },
            "marker": {
             "line": {
              "color": "#E5ECF6",
              "width": 0.5
             }
            },
            "type": "bar"
           }
          ],
          "barpolar": [
           {
            "marker": {
             "line": {
              "color": "#E5ECF6",
              "width": 0.5
             }
            },
            "type": "barpolar"
           }
          ],
          "carpet": [
           {
            "aaxis": {
             "endlinecolor": "#2a3f5f",
             "gridcolor": "white",
             "linecolor": "white",
             "minorgridcolor": "white",
             "startlinecolor": "#2a3f5f"
            },
            "baxis": {
             "endlinecolor": "#2a3f5f",
             "gridcolor": "white",
             "linecolor": "white",
             "minorgridcolor": "white",
             "startlinecolor": "#2a3f5f"
            },
            "type": "carpet"
           }
          ],
          "choropleth": [
           {
            "colorbar": {
             "outlinewidth": 0,
             "ticks": ""
            },
            "type": "choropleth"
           }
          ],
          "contour": [
           {
            "colorbar": {
             "outlinewidth": 0,
             "ticks": ""
            },
            "colorscale": [
             [
              0,
              "#0d0887"
             ],
             [
              0.1111111111111111,
              "#46039f"
             ],
             [
              0.2222222222222222,
              "#7201a8"
             ],
             [
              0.3333333333333333,
              "#9c179e"
             ],
             [
              0.4444444444444444,
              "#bd3786"
             ],
             [
              0.5555555555555556,
              "#d8576b"
             ],
             [
              0.6666666666666666,
              "#ed7953"
             ],
             [
              0.7777777777777778,
              "#fb9f3a"
             ],
             [
              0.8888888888888888,
              "#fdca26"
             ],
             [
              1,
              "#f0f921"
             ]
            ],
            "type": "contour"
           }
          ],
          "contourcarpet": [
           {
            "colorbar": {
             "outlinewidth": 0,
             "ticks": ""
            },
            "type": "contourcarpet"
           }
          ],
          "heatmap": [
           {
            "colorbar": {
             "outlinewidth": 0,
             "ticks": ""
            },
            "colorscale": [
             [
              0,
              "#0d0887"
             ],
             [
              0.1111111111111111,
              "#46039f"
             ],
             [
              0.2222222222222222,
              "#7201a8"
             ],
             [
              0.3333333333333333,
              "#9c179e"
             ],
             [
              0.4444444444444444,
              "#bd3786"
             ],
             [
              0.5555555555555556,
              "#d8576b"
             ],
             [
              0.6666666666666666,
              "#ed7953"
             ],
             [
              0.7777777777777778,
              "#fb9f3a"
             ],
             [
              0.8888888888888888,
              "#fdca26"
             ],
             [
              1,
              "#f0f921"
             ]
            ],
            "type": "heatmap"
           }
          ],
          "heatmapgl": [
           {
            "colorbar": {
             "outlinewidth": 0,
             "ticks": ""
            },
            "colorscale": [
             [
              0,
              "#0d0887"
             ],
             [
              0.1111111111111111,
              "#46039f"
             ],
             [
              0.2222222222222222,
              "#7201a8"
             ],
             [
              0.3333333333333333,
              "#9c179e"
             ],
             [
              0.4444444444444444,
              "#bd3786"
             ],
             [
              0.5555555555555556,
              "#d8576b"
             ],
             [
              0.6666666666666666,
              "#ed7953"
             ],
             [
              0.7777777777777778,
              "#fb9f3a"
             ],
             [
              0.8888888888888888,
              "#fdca26"
             ],
             [
              1,
              "#f0f921"
             ]
            ],
            "type": "heatmapgl"
           }
          ],
          "histogram": [
           {
            "marker": {
             "colorbar": {
              "outlinewidth": 0,
              "ticks": ""
             }
            },
            "type": "histogram"
           }
          ],
          "histogram2d": [
           {
            "colorbar": {
             "outlinewidth": 0,
             "ticks": ""
            },
            "colorscale": [
             [
              0,
              "#0d0887"
             ],
             [
              0.1111111111111111,
              "#46039f"
             ],
             [
              0.2222222222222222,
              "#7201a8"
             ],
             [
              0.3333333333333333,
              "#9c179e"
             ],
             [
              0.4444444444444444,
              "#bd3786"
             ],
             [
              0.5555555555555556,
              "#d8576b"
             ],
             [
              0.6666666666666666,
              "#ed7953"
             ],
             [
              0.7777777777777778,
              "#fb9f3a"
             ],
             [
              0.8888888888888888,
              "#fdca26"
             ],
             [
              1,
              "#f0f921"
             ]
            ],
            "type": "histogram2d"
           }
          ],
          "histogram2dcontour": [
           {
            "colorbar": {
             "outlinewidth": 0,
             "ticks": ""
            },
            "colorscale": [
             [
              0,
              "#0d0887"
             ],
             [
              0.1111111111111111,
              "#46039f"
             ],
             [
              0.2222222222222222,
              "#7201a8"
             ],
             [
              0.3333333333333333,
              "#9c179e"
             ],
             [
              0.4444444444444444,
              "#bd3786"
             ],
             [
              0.5555555555555556,
              "#d8576b"
             ],
             [
              0.6666666666666666,
              "#ed7953"
             ],
             [
              0.7777777777777778,
              "#fb9f3a"
             ],
             [
              0.8888888888888888,
              "#fdca26"
             ],
             [
              1,
              "#f0f921"
             ]
            ],
            "type": "histogram2dcontour"
           }
          ],
          "mesh3d": [
           {
            "colorbar": {
             "outlinewidth": 0,
             "ticks": ""
            },
            "type": "mesh3d"
           }
          ],
          "parcoords": [
           {
            "line": {
             "colorbar": {
              "outlinewidth": 0,
              "ticks": ""
             }
            },
            "type": "parcoords"
           }
          ],
          "pie": [
           {
            "automargin": true,
            "type": "pie"
           }
          ],
          "scatter": [
           {
            "marker": {
             "colorbar": {
              "outlinewidth": 0,
              "ticks": ""
             }
            },
            "type": "scatter"
           }
          ],
          "scatter3d": [
           {
            "line": {
             "colorbar": {
              "outlinewidth": 0,
              "ticks": ""
             }
            },
            "marker": {
             "colorbar": {
              "outlinewidth": 0,
              "ticks": ""
             }
            },
            "type": "scatter3d"
           }
          ],
          "scattercarpet": [
           {
            "marker": {
             "colorbar": {
              "outlinewidth": 0,
              "ticks": ""
             }
            },
            "type": "scattercarpet"
           }
          ],
          "scattergeo": [
           {
            "marker": {
             "colorbar": {
              "outlinewidth": 0,
              "ticks": ""
             }
            },
            "type": "scattergeo"
           }
          ],
          "scattergl": [
           {
            "marker": {
             "colorbar": {
              "outlinewidth": 0,
              "ticks": ""
             }
            },
            "type": "scattergl"
           }
          ],
          "scattermapbox": [
           {
            "marker": {
             "colorbar": {
              "outlinewidth": 0,
              "ticks": ""
             }
            },
            "type": "scattermapbox"
           }
          ],
          "scatterpolar": [
           {
            "marker": {
             "colorbar": {
              "outlinewidth": 0,
              "ticks": ""
             }
            },
            "type": "scatterpolar"
           }
          ],
          "scatterpolargl": [
           {
            "marker": {
             "colorbar": {
              "outlinewidth": 0,
              "ticks": ""
             }
            },
            "type": "scatterpolargl"
           }
          ],
          "scatterternary": [
           {
            "marker": {
             "colorbar": {
              "outlinewidth": 0,
              "ticks": ""
             }
            },
            "type": "scatterternary"
           }
          ],
          "surface": [
           {
            "colorbar": {
             "outlinewidth": 0,
             "ticks": ""
            },
            "colorscale": [
             [
              0,
              "#0d0887"
             ],
             [
              0.1111111111111111,
              "#46039f"
             ],
             [
              0.2222222222222222,
              "#7201a8"
             ],
             [
              0.3333333333333333,
              "#9c179e"
             ],
             [
              0.4444444444444444,
              "#bd3786"
             ],
             [
              0.5555555555555556,
              "#d8576b"
             ],
             [
              0.6666666666666666,
              "#ed7953"
             ],
             [
              0.7777777777777778,
              "#fb9f3a"
             ],
             [
              0.8888888888888888,
              "#fdca26"
             ],
             [
              1,
              "#f0f921"
             ]
            ],
            "type": "surface"
           }
          ],
          "table": [
           {
            "cells": {
             "fill": {
              "color": "#EBF0F8"
             },
             "line": {
              "color": "white"
             }
            },
            "header": {
             "fill": {
              "color": "#C8D4E3"
             },
             "line": {
              "color": "white"
             }
            },
            "type": "table"
           }
          ]
         },
         "layout": {
          "annotationdefaults": {
           "arrowcolor": "#2a3f5f",
           "arrowhead": 0,
           "arrowwidth": 1
          },
          "autotypenumbers": "strict",
          "coloraxis": {
           "colorbar": {
            "outlinewidth": 0,
            "ticks": ""
           }
          },
          "colorscale": {
           "diverging": [
            [
             0,
             "#8e0152"
            ],
            [
             0.1,
             "#c51b7d"
            ],
            [
             0.2,
             "#de77ae"
            ],
            [
             0.3,
             "#f1b6da"
            ],
            [
             0.4,
             "#fde0ef"
            ],
            [
             0.5,
             "#f7f7f7"
            ],
            [
             0.6,
             "#e6f5d0"
            ],
            [
             0.7,
             "#b8e186"
            ],
            [
             0.8,
             "#7fbc41"
            ],
            [
             0.9,
             "#4d9221"
            ],
            [
             1,
             "#276419"
            ]
           ],
           "sequential": [
            [
             0,
             "#0d0887"
            ],
            [
             0.1111111111111111,
             "#46039f"
            ],
            [
             0.2222222222222222,
             "#7201a8"
            ],
            [
             0.3333333333333333,
             "#9c179e"
            ],
            [
             0.4444444444444444,
             "#bd3786"
            ],
            [
             0.5555555555555556,
             "#d8576b"
            ],
            [
             0.6666666666666666,
             "#ed7953"
            ],
            [
             0.7777777777777778,
             "#fb9f3a"
            ],
            [
             0.8888888888888888,
             "#fdca26"
            ],
            [
             1,
             "#f0f921"
            ]
           ],
           "sequentialminus": [
            [
             0,
             "#0d0887"
            ],
            [
             0.1111111111111111,
             "#46039f"
            ],
            [
             0.2222222222222222,
             "#7201a8"
            ],
            [
             0.3333333333333333,
             "#9c179e"
            ],
            [
             0.4444444444444444,
             "#bd3786"
            ],
            [
             0.5555555555555556,
             "#d8576b"
            ],
            [
             0.6666666666666666,
             "#ed7953"
            ],
            [
             0.7777777777777778,
             "#fb9f3a"
            ],
            [
             0.8888888888888888,
             "#fdca26"
            ],
            [
             1,
             "#f0f921"
            ]
           ]
          },
          "colorway": [
           "#636efa",
           "#EF553B",
           "#00cc96",
           "#ab63fa",
           "#FFA15A",
           "#19d3f3",
           "#FF6692",
           "#B6E880",
           "#FF97FF",
           "#FECB52"
          ],
          "font": {
           "color": "#2a3f5f"
          },
          "geo": {
           "bgcolor": "white",
           "lakecolor": "white",
           "landcolor": "#E5ECF6",
           "showlakes": true,
           "showland": true,
           "subunitcolor": "white"
          },
          "hoverlabel": {
           "align": "left"
          },
          "hovermode": "closest",
          "mapbox": {
           "style": "light"
          },
          "paper_bgcolor": "white",
          "plot_bgcolor": "#E5ECF6",
          "polar": {
           "angularaxis": {
            "gridcolor": "white",
            "linecolor": "white",
            "ticks": ""
           },
           "bgcolor": "#E5ECF6",
           "radialaxis": {
            "gridcolor": "white",
            "linecolor": "white",
            "ticks": ""
           }
          },
          "scene": {
           "xaxis": {
            "backgroundcolor": "#E5ECF6",
            "gridcolor": "white",
            "gridwidth": 2,
            "linecolor": "white",
            "showbackground": true,
            "ticks": "",
            "zerolinecolor": "white"
           },
           "yaxis": {
            "backgroundcolor": "#E5ECF6",
            "gridcolor": "white",
            "gridwidth": 2,
            "linecolor": "white",
            "showbackground": true,
            "ticks": "",
            "zerolinecolor": "white"
           },
           "zaxis": {
            "backgroundcolor": "#E5ECF6",
            "gridcolor": "white",
            "gridwidth": 2,
            "linecolor": "white",
            "showbackground": true,
            "ticks": "",
            "zerolinecolor": "white"
           }
          },
          "shapedefaults": {
           "line": {
            "color": "#2a3f5f"
           }
          },
          "ternary": {
           "aaxis": {
            "gridcolor": "white",
            "linecolor": "white",
            "ticks": ""
           },
           "baxis": {
            "gridcolor": "white",
            "linecolor": "white",
            "ticks": ""
           },
           "bgcolor": "#E5ECF6",
           "caxis": {
            "gridcolor": "white",
            "linecolor": "white",
            "ticks": ""
           }
          },
          "title": {
           "x": 0.05
          },
          "xaxis": {
           "automargin": true,
           "gridcolor": "white",
           "linecolor": "white",
           "ticks": "",
           "title": {
            "standoff": 15
           },
           "zerolinecolor": "white",
           "zerolinewidth": 2
          },
          "yaxis": {
           "automargin": true,
           "gridcolor": "white",
           "linecolor": "white",
           "ticks": "",
           "title": {
            "standoff": 15
           },
           "zerolinecolor": "white",
           "zerolinewidth": 2
          }
         }
        },
        "title": {
         "text": "Target4 Top 50 feature importance"
        },
        "width": 1250,
        "xaxis": {
         "anchor": "y",
         "domain": [
          0,
          1
         ],
         "title": {
          "text": "feature_importance"
         }
        },
        "yaxis": {
         "anchor": "x",
         "categoryarray": [
          "StandingsMeta_losses",
          "Players_LE_primaryPositionCode",
          "PlayerStats_doublesPitching_cum",
          "target3_202104_min",
          "target1_202104_median",
          "PlayerStats_homeRuns_rank",
          "PlayerStats_lossesPitching_rank",
          "target1_202104_min",
          "StandingsMeta_leagueRank",
          "PlayerStats_positionCode",
          "target3_202104_std",
          "PlayerStats_shutoutsPitching_rank",
          "target3_202104_quantile25",
          "target3_202104_quantile75",
          "PlayerStats_winsPitching_rank",
          "target3_202104_median",
          "DatetimeEncoding_dow2cos",
          "target3_202104_mean",
          "target4_202104_max",
          "PlayerStats_home",
          "target1_202104_std",
          "PlayerStats_triples_rank",
          "DatetimeEncoding_day2cos",
          "target1_202104_mean",
          "target2_202104_prob",
          "PlayerStats_hitByPitch_rank",
          "PlayerStats_holds_rank",
          "DatetimeEncoding_dow2sin",
          "StandingsMeta_divLosses",
          "target4_202104_std",
          "DatetimeEncoding_day2sin",
          "target4_202104_prob",
          "target2_202104_max",
          "StandingsMeta_runsAllowed",
          "target2_202104_std",
          "target4_202104_mean",
          "target2_202104_min",
          "PlayerStats_saves_rank",
          "target4_202104_quantile75",
          "target2_202104_mean",
          "target2_202104_quantile25",
          "target2_202104_quantile75",
          "PlayerStats_completeGamesPitching_rank",
          "target2_202104_median",
          "Rosters_LE_status",
          "Players_LE_playerid",
          "Rosters_LE_teamId",
          "target4_202104_median",
          "target4_202104_quantile25",
          "target4_202104_min"
         ],
         "categoryorder": "array",
         "domain": [
          0,
          1
         ],
         "showgrid": true,
         "title": {
          "text": "feature"
         }
        }
       }
      }
     },
     "metadata": {}
    }
   ],
   "metadata": {}
  },
  {
   "cell_type": "code",
   "execution_count": 22,
   "source": [
    "# for target, model_tmps in zip(CFG.TARGETS, models):\n",
    "#     for i, model_tmp in enumerate(model_tmps):\n",
    "#         model_tmp.save_model(f\"{CFG.MODEL_PATH}/lgb_{target}_{i}.txt\")"
   ],
   "outputs": [],
   "metadata": {}
  },
  {
   "cell_type": "markdown",
   "source": [
    "## Inference"
   ],
   "metadata": {}
  },
  {
   "cell_type": "code",
   "execution_count": 21,
   "source": [
    "def update_dataset(input_df: pd.DataFrame, sample_prediction_df: pd.DataFrame, eval_start_date: int):\n",
    "    '''datasetの更新\n",
    "    '''\n",
    "    # columnがNaNでなければ分岐処理が実行される(pd.isnaとかでも代用可)\n",
    "    # NaN == NaNはFalseになる\n",
    "    ####################\n",
    "    # rosters #\n",
    "    ####################\n",
    "    if input_df[\"rosters\"].iloc[0] == input_df[\"rosters\"].iloc[0]:\n",
    "        test_rosters_df = pd.read_json(input_df[\"rosters\"].iloc[0])\n",
    "    else:\n",
    "        test_rosters_df = sample_prediction_df[[\"playerId\"]].copy()\n",
    "        for col in mlb_train_ds.train_rosters.columns:\n",
    "            if col == \"playerId\": continue\n",
    "            test_rosters_df[col] = np.nan\n",
    "\n",
    "    test_rosters_df[\"date\"] = input_df.iloc[0][\"date\"]\n",
    "    ####################\n",
    "    # playerBoxScores #\n",
    "    ####################\n",
    "    if (input_df[\"playerBoxScores\"].iloc[0] == input_df[\"playerBoxScores\"].iloc[0]) & (input_df.iloc[0][\"date\"] >= eval_start_date):\n",
    "        test_playerBoxScores_df = pd.read_json(input_df[\"playerBoxScores\"].iloc[0])\n",
    "        test_playerBoxScores_df[\"date\"] = input_df.iloc[0][\"date\"]\n",
    "    else:\n",
    "        test_playerBoxScores_df = None\n",
    "    # ####################\n",
    "    # # teamBoxScores #\n",
    "    # ####################\n",
    "    # if input_df[\"teamBoxScores\"].iloc[0] == input_df[\"teamBoxScores\"].iloc[0]:\n",
    "    #     test_teamBoxScores = pd.read_json(input_df[\"teamBoxScores\"].iloc[0])\n",
    "    # else:\n",
    "    #     cols = mlb_train_ds.train_tbs.drop(columns=\"date\", axis=1).columns.tolist()\n",
    "    #     test_teamBoxScores = pd.DataFrame(columns=cols)\n",
    "    #     test_teamBoxScores[\"teamId\"] = mlb_train_ds.train_tbs.teamId.unique()\n",
    "\n",
    "    # test_teamBoxScores[\"date\"] = input_df.iloc[0][\"date\"]\n",
    "    # if input_df.iloc[0][\"date\"] > 20210430:\n",
    "    #     mlb_train_ds.train_tbs = reduce_mem_usage(pd.concat([mlb_train_ds.train_tbs, test_teamBoxScores], axis=0, ignore_index=True))\n",
    "    # ####################\n",
    "    # # games #\n",
    "    # ####################\n",
    "    # if input_df[\"games\"].iloc[0] == input_df[\"games\"].iloc[0]:\n",
    "    #     test_games = pd.read_json(input_df[\"games\"].iloc[0])\n",
    "    # else:\n",
    "    #     cols = mlb_train_ds.train_games.drop(columns=\"date\", axis=1).columns.tolist()\n",
    "    #     test_games = pd.DataFrame(columns=cols)\n",
    "\n",
    "    # test_games[\"date\"] = input_df.iloc[0][\"date\"]\n",
    "    # if input_df.iloc[0][\"date\"] > 20210430:\n",
    "    #     mlb_train_ds.train_games = reduce_mem_usage(pd.concat([mlb_train_ds.train_games, test_games], axis=0, ignore_index=True))\n",
    "    ####################\n",
    "    # staindings #\n",
    "    ####################\n",
    "    if input_df[\"standings\"].iloc[0] == input_df[\"standings\"].iloc[0]:\n",
    "        test_standings_df = pd.read_json(input_df[\"standings\"].iloc[0])\n",
    "    else:\n",
    "        cols = mlb_train_ds.train_standings.drop(columns=\"date\", axis=1).columns.tolist()\n",
    "        test_standings_df = pd.DataFrame(columns=cols)\n",
    "    \n",
    "    test_standings_df[\"date\"] = input_df.iloc[0][\"date\"]\n",
    "    # ####################\n",
    "    # # awards #\n",
    "    # ####################\n",
    "    # if input_df[\"awards\"].iloc[0] == input_df[\"awards\"].iloc[0]:\n",
    "    #     test_awards = pd.read_json(input_df[\"awards\"].iloc[0])\n",
    "    # else:\n",
    "    #     cols = mlb_train_ds.train_awards.drop(columns=\"date\", axis=1).columns.tolist()\n",
    "    #     test_awards = pd.DataFrame(columns=cols)\n",
    "    \n",
    "    # test_awards[\"date\"] = input_df.iloc[0][\"date\"]\n",
    "    # if input_df.iloc[0][\"date\"] > 20210430:\n",
    "    #     mlb_train_ds.train_awards = reduce_mem_usage(pd.concat([mlb_train_ds.train_awards, test_awards], axis=0, ignore_index=True))\n",
    "\n",
    "    return test_rosters_df, test_playerBoxScores_df, test_standings_df"
   ],
   "outputs": [],
   "metadata": {}
  },
  {
   "cell_type": "code",
   "execution_count": 15,
   "source": [
    "# models = []\n",
    "# for target in CFG.TARGETS:\n",
    "#     tmp = [lgb.Booster(model_file=f\"{CFG.MODEL_PATH}/lgb_{target}_{i}.txt\") for i in range(len(CFG.SEEDS))]\n",
    "#     models.append(tmp)"
   ],
   "outputs": [],
   "metadata": {}
  },
  {
   "cell_type": "code",
   "execution_count": 16,
   "source": [
    "# env = mlb.make_env()\n",
    "# iter_test = env.iter_test()\n",
    "\n",
    "# for (test_df, sample_prediction_df) in iter_test:\n",
    "#     sample_prediction_df = sample_prediction_df.reset_index(drop=True)\n",
    "#     # # create dataset\n",
    "#     test_df = test_df.reset_index()\n",
    "#     test_df = test_df.rename(columns={\"index\": \"date\"})\n",
    "#     sample_prediction_df[\"date\"] = test_df.iloc[0][\"date\"]\n",
    "#     sample_prediction_df[\"playerId\"] = sample_prediction_df[\"date_playerId\"].map(lambda x: int(x.split(\"_\")[1]))\n",
    "#     test_rosters_df, test_playerBoxScores_df, test_standings_df = update_dataset(test_df, sample_prediction_df, 20210718)\n",
    "#     # # create features\n",
    "#     test_feat_df = create_test_feature(\n",
    "#         sample_prediction_df,\n",
    "#         target_df,\n",
    "#         test_rosters_df,\n",
    "#         test_playerBoxScores_df,\n",
    "#         test_standings_df,\n",
    "#         update_blocks, \n",
    "#         non_update_blocks)\n",
    "#     X_test = test_feat_df.values\n",
    "#     # prediction\n",
    "#     for target, model in zip(CFG.TARGETS, models):\n",
    "#         pred = np.mean([model_.predict(X_test, num_iteration=model_.best_iteration) for model_ in model], axis=0)\n",
    "#         sample_prediction_df[target] = np.clip(pred, 0, 100)\n",
    "\n",
    "#     sample_prediction_df = sample_prediction_df.drop(columns=[\"playerId\", \"date\"], axis=1)\n",
    "\n",
    "#     env.predict(sample_prediction_df)\n",
    "#     del test_feat_df, test_df, sample_prediction_df"
   ],
   "outputs": [],
   "metadata": {}
  },
  {
   "cell_type": "code",
   "execution_count": 17,
   "source": [
    "# Local inference check\n",
    "# test_df = mlb_train_ds.example_test.query(\"date <= 20210426\").copy()\n",
    "# sample_prediction_df = mlb_train_ds.sample_submission.query(\"date <= 20210426\").copy()\n",
    "# sample_prediction_df[\"playerId\"] = sample_prediction_df[\"date_playerId\"].map(lambda x: int(x.split(\"_\")[1]))"
   ],
   "outputs": [],
   "metadata": {}
  },
  {
   "cell_type": "code",
   "execution_count": 18,
   "source": [
    "class Environment:\n",
    "    def __init__(self,\n",
    "                 data_dir: str,\n",
    "                 eval_start_day: int,\n",
    "                 eval_end_day: Optional[int],\n",
    "                 use_updated: bool,\n",
    "                 multiple_days_per_iter: bool):\n",
    "        warnings.warn('this is mock module for mlb')\n",
    "\n",
    "        postfix = '_updated' if use_updated else ''\n",
    "        \n",
    "        # recommend to replace this with pickle, feather etc to speedup preparing data\n",
    "        df_train = pd.read_csv(os.path.join(data_dir, f'train{postfix}.csv'))\n",
    "\n",
    "        players = pd.read_csv(os.path.join(data_dir, 'players.csv'))\n",
    "\n",
    "        self.players = players[players['playerForTestSetAndFuturePreds'] == True]['playerId'].astype(str)\n",
    "        if eval_end_day is not None:\n",
    "            self.df_train = df_train.set_index('date').loc[eval_start_day:eval_end_day]\n",
    "        else:\n",
    "            self.df_train = df_train.set_index('date').loc[eval_start_day:]\n",
    "        self.date = self.df_train.index.values\n",
    "        self.n_rows = len(self.df_train)\n",
    "        self.multiple_days_per_iter = multiple_days_per_iter\n",
    "\n",
    "        assert self.n_rows > 0, 'no data to emulate'\n",
    "\n",
    "        self.prediction_df = pd.DataFrame()\n",
    "\n",
    "    def predict(self, df: pd.DataFrame) -> None:\n",
    "        # if you want to emulate public LB, store your prediction here and calculate MAE\n",
    "        self.prediction_df = pd.concat([self.prediction_df, df], axis=0).reset_index(drop=True)\n",
    "\n",
    "    def iter_test(self) -> Tuple[pd.DataFrame, pd.DataFrame]:\n",
    "        if self.multiple_days_per_iter:\n",
    "            for i in range(self.n_rows // 2):\n",
    "                date1 = self.date[2 * i]\n",
    "                date2 = self.date[2 * i + 1]\n",
    "                sample_sub1 = self._make_sample_sub(date1)\n",
    "                sample_sub2 = self._make_sample_sub(date2)\n",
    "                sample_sub = pd.concat([sample_sub1, sample_sub2]).reset_index(drop=True)\n",
    "                df = self.df_train.loc[date1:date2]\n",
    "\n",
    "                yield df, sample_sub.set_index('date')\n",
    "        else:\n",
    "            for i in range(self.n_rows):\n",
    "                date = self.date[i]\n",
    "                sample_sub = self._make_sample_sub(date)\n",
    "                df = self.df_train.loc[date:date]\n",
    "\n",
    "                yield df, sample_sub.set_index('date')\n",
    "\n",
    "    def _make_sample_sub(self, date: int) -> pd.DataFrame:\n",
    "        next_day = (pd.to_datetime(date, format='%Y%m%d') + pd.to_timedelta(1, 'd')).strftime('%Y%m%d')\n",
    "        sample_sub = pd.DataFrame()\n",
    "        sample_sub['date_playerId'] = next_day + '_' + self.players\n",
    "        sample_sub['target1'] = 0\n",
    "        sample_sub['target2'] = 0\n",
    "        sample_sub['target3'] = 0\n",
    "        sample_sub['target4'] = 0\n",
    "        sample_sub['date'] = date\n",
    "        return sample_sub\n",
    "\n",
    "\n",
    "class MLBEmulator:\n",
    "    def __init__(self,\n",
    "                 data_dir: str = '../input/mlb-player-digital-engagement-forecasting',\n",
    "                 eval_start_day: int = 20210401,\n",
    "                 eval_end_day: Optional[int] = 20210430,\n",
    "                 use_updated: bool = True,\n",
    "                 multiple_days_per_iter: bool = False):\n",
    "        self.data_dir = data_dir\n",
    "        self.eval_start_day = eval_start_day\n",
    "        self.eval_end_day = eval_end_day\n",
    "        self.use_updated = use_updated\n",
    "        self.multiple_days_per_iter = multiple_days_per_iter\n",
    "\n",
    "    def make_env(self) -> Environment:\n",
    "        return Environment(self.data_dir,\n",
    "                           self.eval_start_day,\n",
    "                           self.eval_end_day,\n",
    "                           self.use_updated,\n",
    "                           self.multiple_days_per_iter)\n",
    "\n",
    "\n",
    "emulation_mode = True\n",
    "\n",
    "if emulation_mode:\n",
    "    mlb = MLBEmulator(eval_start_day=20210501, eval_end_day=20210531)\n",
    "else:\n",
    "    import mlb\n",
    "\n",
    "env = mlb.make_env()\n",
    "iter_test = env.iter_test()\n",
    "\n",
    "\n",
    "for (test_df, sample_prediction_df) in iter_test:\n",
    "    sample_prediction_df = sample_prediction_df.reset_index(drop=True)\n",
    "    # create dataset\n",
    "    test_df = test_df.reset_index()\n",
    "    test_df = test_df.rename(columns={\"index\": \"date\"})\n",
    "    sample_prediction_df[\"date\"] = test_df.iloc[0][\"date\"]\n",
    "    sample_prediction_df[\"playerId\"] = sample_prediction_df[\"date_playerId\"].map(lambda x: int(x.split(\"_\")[1]))\n",
    "    test_rosters_df, test_playerBoxScores_df, test_standings_df = update_dataset(test_df, sample_prediction_df, 20210718)\n",
    "    # create features\n",
    "    test_feat_df = create_test_feature(\n",
    "        sample_prediction_df,\n",
    "        target_df,\n",
    "        test_rosters_df,\n",
    "        test_playerBoxScores_df,\n",
    "        test_standings_df,\n",
    "        update_blocks, \n",
    "        non_update_blocks)\n",
    "    X_test = test_feat_df.values\n",
    "    # prediction\n",
    "    for target, model in zip(CFG.TARGETS, models):\n",
    "        pred = np.mean([model_.predict(X_test, num_iteration=model_.best_iteration) for model_ in model], axis=0)\n",
    "        sample_prediction_df[target] = np.clip(pred, 0, 100)\n",
    "\n",
    "    sample_prediction_df = sample_prediction_df.drop(columns=[\"playerId\", \"date\"], axis=1)\n",
    "\n",
    "    env.predict(sample_prediction_df)"
   ],
   "outputs": [
    {
     "output_type": "stream",
     "name": "stderr",
     "text": [
      "<ipython-input-18-ef5bb1f6f5f1>:8: UserWarning:\n",
      "\n",
      "this is mock module for mlb\n",
      "\n"
     ]
    },
    {
     "output_type": "stream",
     "name": "stdout",
     "text": [
      "[2021-07-29 15:08:56,143] [INFO] [<<__main__.PlayerStatsBlock object at 0x10fa08fd0>_update> start]\n"
     ]
    },
    {
     "output_type": "display_data",
     "data": {
      "text/plain": [
       "  0%|          | 0/1187 [00:00<?, ?it/s]"
      ],
      "application/vnd.jupyter.widget-view+json": {
       "version_major": 2,
       "version_minor": 0,
       "model_id": "fbc352a5866b403ebe4dcc3219052f36"
      }
     },
     "metadata": {}
    },
    {
     "output_type": "stream",
     "name": "stdout",
     "text": [
      "[2021-07-29 15:08:57,860] [INFO] [<<__main__.PlayerStatsBlock object at 0x10fa08fd0>_update> done in 1.72 s]\n",
      "[2021-07-29 15:08:57,862] [INFO] [<<__main__.TargetAggregateBlock object at 0x1dc0da130>_transform> start]\n",
      "[2021-07-29 15:08:57,870] [INFO] [<<__main__.TargetAggregateBlock object at 0x1dc0da130>_transform> done in 0.01 s]\n",
      "[2021-07-29 15:08:57,872] [INFO] [<<__main__.RostersLabelEncodingBlock object at 0x10e966dc0>_transform> start]\n",
      "[2021-07-29 15:08:57,883] [INFO] [<<__main__.RostersLabelEncodingBlock object at 0x10e966dc0>_transform> done in 0.01 s]\n",
      "[2021-07-29 15:08:57,886] [INFO] [<<__main__.PlayersLabelEncodingBlock object at 0x1dc48ed90>_transform> start]\n",
      "[2021-07-29 15:08:57,891] [INFO] [<<__main__.PlayersLabelEncodingBlock object at 0x1dc48ed90>_transform> done in 0.00 s]\n",
      "[2021-07-29 15:08:57,894] [INFO] [<<__main__.StandingsMetaBlock object at 0x12d5e0f10>_transform> start]\n",
      "[2021-07-29 15:08:57,929] [INFO] [<<__main__.StandingsMetaBlock object at 0x12d5e0f10>_transform> done in 0.03 s]\n",
      "[2021-07-29 15:08:57,932] [INFO] [<<__main__.Datetime2trigonometricEncodingBlock object at 0x12d5e0520>_transform> start]\n",
      "[2021-07-29 15:08:57,947] [INFO] [<<__main__.Datetime2trigonometricEncodingBlock object at 0x12d5e0520>_transform> done in 0.02 s]\n",
      "[2021-07-29 15:08:58,026] [INFO] [<<__main__.PlayerStatsBlock object at 0x10fa08fd0>_update> start]\n"
     ]
    },
    {
     "output_type": "display_data",
     "data": {
      "text/plain": [
       "  0%|          | 0/1187 [00:00<?, ?it/s]"
      ],
      "application/vnd.jupyter.widget-view+json": {
       "version_major": 2,
       "version_minor": 0,
       "model_id": "0a593be24a604af5a067788292022153"
      }
     },
     "metadata": {}
    },
    {
     "output_type": "stream",
     "name": "stdout",
     "text": [
      "[2021-07-29 15:08:58,675] [INFO] [<<__main__.PlayerStatsBlock object at 0x10fa08fd0>_update> done in 0.65 s]\n",
      "[2021-07-29 15:08:58,676] [INFO] [<<__main__.TargetAggregateBlock object at 0x1dc0da130>_transform> start]\n",
      "[2021-07-29 15:08:58,685] [INFO] [<<__main__.TargetAggregateBlock object at 0x1dc0da130>_transform> done in 0.01 s]\n",
      "[2021-07-29 15:08:58,687] [INFO] [<<__main__.RostersLabelEncodingBlock object at 0x10e966dc0>_transform> start]\n",
      "[2021-07-29 15:08:58,696] [INFO] [<<__main__.RostersLabelEncodingBlock object at 0x10e966dc0>_transform> done in 0.01 s]\n",
      "[2021-07-29 15:08:58,698] [INFO] [<<__main__.PlayersLabelEncodingBlock object at 0x1dc48ed90>_transform> start]\n",
      "[2021-07-29 15:08:58,703] [INFO] [<<__main__.PlayersLabelEncodingBlock object at 0x1dc48ed90>_transform> done in 0.00 s]\n",
      "[2021-07-29 15:08:58,706] [INFO] [<<__main__.StandingsMetaBlock object at 0x12d5e0f10>_transform> start]\n",
      "[2021-07-29 15:08:58,716] [INFO] [<<__main__.StandingsMetaBlock object at 0x12d5e0f10>_transform> done in 0.01 s]\n",
      "[2021-07-29 15:08:58,719] [INFO] [<<__main__.Datetime2trigonometricEncodingBlock object at 0x12d5e0520>_transform> start]\n",
      "[2021-07-29 15:08:58,734] [INFO] [<<__main__.Datetime2trigonometricEncodingBlock object at 0x12d5e0520>_transform> done in 0.01 s]\n",
      "[2021-07-29 15:08:58,807] [INFO] [<<__main__.PlayerStatsBlock object at 0x10fa08fd0>_update> start]\n"
     ]
    },
    {
     "output_type": "display_data",
     "data": {
      "text/plain": [
       "  0%|          | 0/1187 [00:00<?, ?it/s]"
      ],
      "application/vnd.jupyter.widget-view+json": {
       "version_major": 2,
       "version_minor": 0,
       "model_id": "ed5ef80e2691472283558fae3768157d"
      }
     },
     "metadata": {}
    },
    {
     "output_type": "stream",
     "name": "stdout",
     "text": [
      "[2021-07-29 15:08:59,453] [INFO] [<<__main__.PlayerStatsBlock object at 0x10fa08fd0>_update> done in 0.65 s]\n",
      "[2021-07-29 15:08:59,454] [INFO] [<<__main__.TargetAggregateBlock object at 0x1dc0da130>_transform> start]\n",
      "[2021-07-29 15:08:59,462] [INFO] [<<__main__.TargetAggregateBlock object at 0x1dc0da130>_transform> done in 0.01 s]\n",
      "[2021-07-29 15:08:59,464] [INFO] [<<__main__.RostersLabelEncodingBlock object at 0x10e966dc0>_transform> start]\n",
      "[2021-07-29 15:08:59,472] [INFO] [<<__main__.RostersLabelEncodingBlock object at 0x10e966dc0>_transform> done in 0.01 s]\n",
      "[2021-07-29 15:08:59,475] [INFO] [<<__main__.PlayersLabelEncodingBlock object at 0x1dc48ed90>_transform> start]\n",
      "[2021-07-29 15:08:59,479] [INFO] [<<__main__.PlayersLabelEncodingBlock object at 0x1dc48ed90>_transform> done in 0.00 s]\n",
      "[2021-07-29 15:08:59,483] [INFO] [<<__main__.StandingsMetaBlock object at 0x12d5e0f10>_transform> start]\n",
      "[2021-07-29 15:08:59,493] [INFO] [<<__main__.StandingsMetaBlock object at 0x12d5e0f10>_transform> done in 0.01 s]\n",
      "[2021-07-29 15:08:59,497] [INFO] [<<__main__.Datetime2trigonometricEncodingBlock object at 0x12d5e0520>_transform> start]\n",
      "[2021-07-29 15:08:59,510] [INFO] [<<__main__.Datetime2trigonometricEncodingBlock object at 0x12d5e0520>_transform> done in 0.01 s]\n",
      "[2021-07-29 15:08:59,603] [INFO] [<<__main__.PlayerStatsBlock object at 0x10fa08fd0>_update> start]\n"
     ]
    },
    {
     "output_type": "display_data",
     "data": {
      "text/plain": [
       "  0%|          | 0/1187 [00:00<?, ?it/s]"
      ],
      "application/vnd.jupyter.widget-view+json": {
       "version_major": 2,
       "version_minor": 0,
       "model_id": "9bc677467dd14a0b8cf5b99a63fbc88e"
      }
     },
     "metadata": {}
    },
    {
     "output_type": "stream",
     "name": "stdout",
     "text": [
      "[2021-07-29 15:09:00,254] [INFO] [<<__main__.PlayerStatsBlock object at 0x10fa08fd0>_update> done in 0.65 s]\n",
      "[2021-07-29 15:09:00,255] [INFO] [<<__main__.TargetAggregateBlock object at 0x1dc0da130>_transform> start]\n",
      "[2021-07-29 15:09:00,263] [INFO] [<<__main__.TargetAggregateBlock object at 0x1dc0da130>_transform> done in 0.01 s]\n",
      "[2021-07-29 15:09:00,265] [INFO] [<<__main__.RostersLabelEncodingBlock object at 0x10e966dc0>_transform> start]\n",
      "[2021-07-29 15:09:00,273] [INFO] [<<__main__.RostersLabelEncodingBlock object at 0x10e966dc0>_transform> done in 0.01 s]\n",
      "[2021-07-29 15:09:00,275] [INFO] [<<__main__.PlayersLabelEncodingBlock object at 0x1dc48ed90>_transform> start]\n",
      "[2021-07-29 15:09:00,280] [INFO] [<<__main__.PlayersLabelEncodingBlock object at 0x1dc48ed90>_transform> done in 0.00 s]\n",
      "[2021-07-29 15:09:00,283] [INFO] [<<__main__.StandingsMetaBlock object at 0x12d5e0f10>_transform> start]\n",
      "[2021-07-29 15:09:00,294] [INFO] [<<__main__.StandingsMetaBlock object at 0x12d5e0f10>_transform> done in 0.01 s]\n",
      "[2021-07-29 15:09:00,297] [INFO] [<<__main__.Datetime2trigonometricEncodingBlock object at 0x12d5e0520>_transform> start]\n",
      "[2021-07-29 15:09:00,311] [INFO] [<<__main__.Datetime2trigonometricEncodingBlock object at 0x12d5e0520>_transform> done in 0.01 s]\n",
      "[2021-07-29 15:09:00,383] [INFO] [<<__main__.PlayerStatsBlock object at 0x10fa08fd0>_update> start]\n"
     ]
    },
    {
     "output_type": "display_data",
     "data": {
      "text/plain": [
       "  0%|          | 0/1187 [00:00<?, ?it/s]"
      ],
      "application/vnd.jupyter.widget-view+json": {
       "version_major": 2,
       "version_minor": 0,
       "model_id": "c23936ac72e3486f892d318ec7c23bcb"
      }
     },
     "metadata": {}
    },
    {
     "output_type": "stream",
     "name": "stdout",
     "text": [
      "[2021-07-29 15:09:01,028] [INFO] [<<__main__.PlayerStatsBlock object at 0x10fa08fd0>_update> done in 0.64 s]\n",
      "[2021-07-29 15:09:01,030] [INFO] [<<__main__.TargetAggregateBlock object at 0x1dc0da130>_transform> start]\n",
      "[2021-07-29 15:09:01,038] [INFO] [<<__main__.TargetAggregateBlock object at 0x1dc0da130>_transform> done in 0.01 s]\n",
      "[2021-07-29 15:09:01,039] [INFO] [<<__main__.RostersLabelEncodingBlock object at 0x10e966dc0>_transform> start]\n",
      "[2021-07-29 15:09:01,047] [INFO] [<<__main__.RostersLabelEncodingBlock object at 0x10e966dc0>_transform> done in 0.01 s]\n",
      "[2021-07-29 15:09:01,050] [INFO] [<<__main__.PlayersLabelEncodingBlock object at 0x1dc48ed90>_transform> start]\n",
      "[2021-07-29 15:09:01,054] [INFO] [<<__main__.PlayersLabelEncodingBlock object at 0x1dc48ed90>_transform> done in 0.00 s]\n",
      "[2021-07-29 15:09:01,058] [INFO] [<<__main__.StandingsMetaBlock object at 0x12d5e0f10>_transform> start]\n",
      "[2021-07-29 15:09:01,069] [INFO] [<<__main__.StandingsMetaBlock object at 0x12d5e0f10>_transform> done in 0.01 s]\n",
      "[2021-07-29 15:09:01,072] [INFO] [<<__main__.Datetime2trigonometricEncodingBlock object at 0x12d5e0520>_transform> start]\n",
      "[2021-07-29 15:09:01,086] [INFO] [<<__main__.Datetime2trigonometricEncodingBlock object at 0x12d5e0520>_transform> done in 0.01 s]\n",
      "[2021-07-29 15:09:01,167] [INFO] [<<__main__.PlayerStatsBlock object at 0x10fa08fd0>_update> start]\n"
     ]
    },
    {
     "output_type": "display_data",
     "data": {
      "text/plain": [
       "  0%|          | 0/1187 [00:00<?, ?it/s]"
      ],
      "application/vnd.jupyter.widget-view+json": {
       "version_major": 2,
       "version_minor": 0,
       "model_id": "f314aec244d0403ebaa33430a31f2473"
      }
     },
     "metadata": {}
    },
    {
     "output_type": "stream",
     "name": "stdout",
     "text": [
      "[2021-07-29 15:09:01,812] [INFO] [<<__main__.PlayerStatsBlock object at 0x10fa08fd0>_update> done in 0.65 s]\n",
      "[2021-07-29 15:09:01,814] [INFO] [<<__main__.TargetAggregateBlock object at 0x1dc0da130>_transform> start]\n",
      "[2021-07-29 15:09:01,822] [INFO] [<<__main__.TargetAggregateBlock object at 0x1dc0da130>_transform> done in 0.01 s]\n",
      "[2021-07-29 15:09:01,824] [INFO] [<<__main__.RostersLabelEncodingBlock object at 0x10e966dc0>_transform> start]\n",
      "[2021-07-29 15:09:01,832] [INFO] [<<__main__.RostersLabelEncodingBlock object at 0x10e966dc0>_transform> done in 0.01 s]\n",
      "[2021-07-29 15:09:01,835] [INFO] [<<__main__.PlayersLabelEncodingBlock object at 0x1dc48ed90>_transform> start]\n",
      "[2021-07-29 15:09:01,839] [INFO] [<<__main__.PlayersLabelEncodingBlock object at 0x1dc48ed90>_transform> done in 0.00 s]\n",
      "[2021-07-29 15:09:01,842] [INFO] [<<__main__.StandingsMetaBlock object at 0x12d5e0f10>_transform> start]\n",
      "[2021-07-29 15:09:01,852] [INFO] [<<__main__.StandingsMetaBlock object at 0x12d5e0f10>_transform> done in 0.01 s]\n",
      "[2021-07-29 15:09:01,855] [INFO] [<<__main__.Datetime2trigonometricEncodingBlock object at 0x12d5e0520>_transform> start]\n",
      "[2021-07-29 15:09:01,869] [INFO] [<<__main__.Datetime2trigonometricEncodingBlock object at 0x12d5e0520>_transform> done in 0.01 s]\n",
      "[2021-07-29 15:09:01,946] [INFO] [<<__main__.PlayerStatsBlock object at 0x10fa08fd0>_update> start]\n"
     ]
    },
    {
     "output_type": "display_data",
     "data": {
      "text/plain": [
       "  0%|          | 0/1187 [00:00<?, ?it/s]"
      ],
      "application/vnd.jupyter.widget-view+json": {
       "version_major": 2,
       "version_minor": 0,
       "model_id": "18dc5828ac5948b4be70b405b6f5f7f9"
      }
     },
     "metadata": {}
    },
    {
     "output_type": "stream",
     "name": "stdout",
     "text": [
      "[2021-07-29 15:09:02,601] [INFO] [<<__main__.PlayerStatsBlock object at 0x10fa08fd0>_update> done in 0.65 s]\n",
      "[2021-07-29 15:09:02,602] [INFO] [<<__main__.TargetAggregateBlock object at 0x1dc0da130>_transform> start]\n",
      "[2021-07-29 15:09:02,610] [INFO] [<<__main__.TargetAggregateBlock object at 0x1dc0da130>_transform> done in 0.01 s]\n",
      "[2021-07-29 15:09:02,612] [INFO] [<<__main__.RostersLabelEncodingBlock object at 0x10e966dc0>_transform> start]\n",
      "[2021-07-29 15:09:02,622] [INFO] [<<__main__.RostersLabelEncodingBlock object at 0x10e966dc0>_transform> done in 0.01 s]\n",
      "[2021-07-29 15:09:02,625] [INFO] [<<__main__.PlayersLabelEncodingBlock object at 0x1dc48ed90>_transform> start]\n",
      "[2021-07-29 15:09:02,629] [INFO] [<<__main__.PlayersLabelEncodingBlock object at 0x1dc48ed90>_transform> done in 0.00 s]\n",
      "[2021-07-29 15:09:02,632] [INFO] [<<__main__.StandingsMetaBlock object at 0x12d5e0f10>_transform> start]\n",
      "[2021-07-29 15:09:02,643] [INFO] [<<__main__.StandingsMetaBlock object at 0x12d5e0f10>_transform> done in 0.01 s]\n",
      "[2021-07-29 15:09:02,646] [INFO] [<<__main__.Datetime2trigonometricEncodingBlock object at 0x12d5e0520>_transform> start]\n",
      "[2021-07-29 15:09:02,660] [INFO] [<<__main__.Datetime2trigonometricEncodingBlock object at 0x12d5e0520>_transform> done in 0.01 s]\n",
      "[2021-07-29 15:09:02,752] [INFO] [<<__main__.PlayerStatsBlock object at 0x10fa08fd0>_update> start]\n"
     ]
    },
    {
     "output_type": "display_data",
     "data": {
      "text/plain": [
       "  0%|          | 0/1187 [00:00<?, ?it/s]"
      ],
      "application/vnd.jupyter.widget-view+json": {
       "version_major": 2,
       "version_minor": 0,
       "model_id": "236edcb9102e4dd8b6395548ee3fff28"
      }
     },
     "metadata": {}
    },
    {
     "output_type": "stream",
     "name": "stdout",
     "text": [
      "[2021-07-29 15:09:03,405] [INFO] [<<__main__.PlayerStatsBlock object at 0x10fa08fd0>_update> done in 0.65 s]\n",
      "[2021-07-29 15:09:03,407] [INFO] [<<__main__.TargetAggregateBlock object at 0x1dc0da130>_transform> start]\n",
      "[2021-07-29 15:09:03,414] [INFO] [<<__main__.TargetAggregateBlock object at 0x1dc0da130>_transform> done in 0.01 s]\n",
      "[2021-07-29 15:09:03,416] [INFO] [<<__main__.RostersLabelEncodingBlock object at 0x10e966dc0>_transform> start]\n",
      "[2021-07-29 15:09:03,424] [INFO] [<<__main__.RostersLabelEncodingBlock object at 0x10e966dc0>_transform> done in 0.01 s]\n",
      "[2021-07-29 15:09:03,427] [INFO] [<<__main__.PlayersLabelEncodingBlock object at 0x1dc48ed90>_transform> start]\n",
      "[2021-07-29 15:09:03,431] [INFO] [<<__main__.PlayersLabelEncodingBlock object at 0x1dc48ed90>_transform> done in 0.00 s]\n",
      "[2021-07-29 15:09:03,435] [INFO] [<<__main__.StandingsMetaBlock object at 0x12d5e0f10>_transform> start]\n",
      "[2021-07-29 15:09:03,446] [INFO] [<<__main__.StandingsMetaBlock object at 0x12d5e0f10>_transform> done in 0.01 s]\n",
      "[2021-07-29 15:09:03,449] [INFO] [<<__main__.Datetime2trigonometricEncodingBlock object at 0x12d5e0520>_transform> start]\n",
      "[2021-07-29 15:09:03,464] [INFO] [<<__main__.Datetime2trigonometricEncodingBlock object at 0x12d5e0520>_transform> done in 0.01 s]\n",
      "[2021-07-29 15:09:03,536] [INFO] [<<__main__.PlayerStatsBlock object at 0x10fa08fd0>_update> start]\n"
     ]
    },
    {
     "output_type": "display_data",
     "data": {
      "text/plain": [
       "  0%|          | 0/1187 [00:00<?, ?it/s]"
      ],
      "application/vnd.jupyter.widget-view+json": {
       "version_major": 2,
       "version_minor": 0,
       "model_id": "4488441d099f46d8aff91646912d113f"
      }
     },
     "metadata": {}
    },
    {
     "output_type": "stream",
     "name": "stdout",
     "text": [
      "[2021-07-29 15:09:04,184] [INFO] [<<__main__.PlayerStatsBlock object at 0x10fa08fd0>_update> done in 0.65 s]\n",
      "[2021-07-29 15:09:04,186] [INFO] [<<__main__.TargetAggregateBlock object at 0x1dc0da130>_transform> start]\n",
      "[2021-07-29 15:09:04,194] [INFO] [<<__main__.TargetAggregateBlock object at 0x1dc0da130>_transform> done in 0.01 s]\n",
      "[2021-07-29 15:09:04,196] [INFO] [<<__main__.RostersLabelEncodingBlock object at 0x10e966dc0>_transform> start]\n",
      "[2021-07-29 15:09:04,204] [INFO] [<<__main__.RostersLabelEncodingBlock object at 0x10e966dc0>_transform> done in 0.01 s]\n",
      "[2021-07-29 15:09:04,207] [INFO] [<<__main__.PlayersLabelEncodingBlock object at 0x1dc48ed90>_transform> start]\n",
      "[2021-07-29 15:09:04,211] [INFO] [<<__main__.PlayersLabelEncodingBlock object at 0x1dc48ed90>_transform> done in 0.00 s]\n",
      "[2021-07-29 15:09:04,214] [INFO] [<<__main__.StandingsMetaBlock object at 0x12d5e0f10>_transform> start]\n",
      "[2021-07-29 15:09:04,225] [INFO] [<<__main__.StandingsMetaBlock object at 0x12d5e0f10>_transform> done in 0.01 s]\n",
      "[2021-07-29 15:09:04,228] [INFO] [<<__main__.Datetime2trigonometricEncodingBlock object at 0x12d5e0520>_transform> start]\n",
      "[2021-07-29 15:09:04,242] [INFO] [<<__main__.Datetime2trigonometricEncodingBlock object at 0x12d5e0520>_transform> done in 0.01 s]\n",
      "[2021-07-29 15:09:04,323] [INFO] [<<__main__.PlayerStatsBlock object at 0x10fa08fd0>_update> start]\n"
     ]
    },
    {
     "output_type": "display_data",
     "data": {
      "text/plain": [
       "  0%|          | 0/1187 [00:00<?, ?it/s]"
      ],
      "application/vnd.jupyter.widget-view+json": {
       "version_major": 2,
       "version_minor": 0,
       "model_id": "459396a1ab8643fa9f268f1ce8900df3"
      }
     },
     "metadata": {}
    },
    {
     "output_type": "stream",
     "name": "stdout",
     "text": [
      "[2021-07-29 15:09:04,980] [INFO] [<<__main__.PlayerStatsBlock object at 0x10fa08fd0>_update> done in 0.66 s]\n",
      "[2021-07-29 15:09:04,982] [INFO] [<<__main__.TargetAggregateBlock object at 0x1dc0da130>_transform> start]\n",
      "[2021-07-29 15:09:04,989] [INFO] [<<__main__.TargetAggregateBlock object at 0x1dc0da130>_transform> done in 0.01 s]\n",
      "[2021-07-29 15:09:04,991] [INFO] [<<__main__.RostersLabelEncodingBlock object at 0x10e966dc0>_transform> start]\n",
      "[2021-07-29 15:09:04,999] [INFO] [<<__main__.RostersLabelEncodingBlock object at 0x10e966dc0>_transform> done in 0.01 s]\n",
      "[2021-07-29 15:09:05,002] [INFO] [<<__main__.PlayersLabelEncodingBlock object at 0x1dc48ed90>_transform> start]\n",
      "[2021-07-29 15:09:05,006] [INFO] [<<__main__.PlayersLabelEncodingBlock object at 0x1dc48ed90>_transform> done in 0.00 s]\n",
      "[2021-07-29 15:09:05,009] [INFO] [<<__main__.StandingsMetaBlock object at 0x12d5e0f10>_transform> start]\n",
      "[2021-07-29 15:09:05,020] [INFO] [<<__main__.StandingsMetaBlock object at 0x12d5e0f10>_transform> done in 0.01 s]\n",
      "[2021-07-29 15:09:05,023] [INFO] [<<__main__.Datetime2trigonometricEncodingBlock object at 0x12d5e0520>_transform> start]\n",
      "[2021-07-29 15:09:05,037] [INFO] [<<__main__.Datetime2trigonometricEncodingBlock object at 0x12d5e0520>_transform> done in 0.01 s]\n",
      "[2021-07-29 15:09:05,125] [INFO] [<<__main__.PlayerStatsBlock object at 0x10fa08fd0>_update> start]\n"
     ]
    },
    {
     "output_type": "display_data",
     "data": {
      "text/plain": [
       "  0%|          | 0/1187 [00:00<?, ?it/s]"
      ],
      "application/vnd.jupyter.widget-view+json": {
       "version_major": 2,
       "version_minor": 0,
       "model_id": "6d3ba3dc45ef4225aff8a41af0a70a4a"
      }
     },
     "metadata": {}
    },
    {
     "output_type": "stream",
     "name": "stdout",
     "text": [
      "[2021-07-29 15:09:05,772] [INFO] [<<__main__.PlayerStatsBlock object at 0x10fa08fd0>_update> done in 0.65 s]\n",
      "[2021-07-29 15:09:05,773] [INFO] [<<__main__.TargetAggregateBlock object at 0x1dc0da130>_transform> start]\n",
      "[2021-07-29 15:09:05,781] [INFO] [<<__main__.TargetAggregateBlock object at 0x1dc0da130>_transform> done in 0.01 s]\n",
      "[2021-07-29 15:09:05,783] [INFO] [<<__main__.RostersLabelEncodingBlock object at 0x10e966dc0>_transform> start]\n",
      "[2021-07-29 15:09:05,792] [INFO] [<<__main__.RostersLabelEncodingBlock object at 0x10e966dc0>_transform> done in 0.01 s]\n",
      "[2021-07-29 15:09:05,794] [INFO] [<<__main__.PlayersLabelEncodingBlock object at 0x1dc48ed90>_transform> start]\n",
      "[2021-07-29 15:09:05,799] [INFO] [<<__main__.PlayersLabelEncodingBlock object at 0x1dc48ed90>_transform> done in 0.00 s]\n",
      "[2021-07-29 15:09:05,802] [INFO] [<<__main__.StandingsMetaBlock object at 0x12d5e0f10>_transform> start]\n",
      "[2021-07-29 15:09:05,812] [INFO] [<<__main__.StandingsMetaBlock object at 0x12d5e0f10>_transform> done in 0.01 s]\n",
      "[2021-07-29 15:09:05,815] [INFO] [<<__main__.Datetime2trigonometricEncodingBlock object at 0x12d5e0520>_transform> start]\n",
      "[2021-07-29 15:09:05,829] [INFO] [<<__main__.Datetime2trigonometricEncodingBlock object at 0x12d5e0520>_transform> done in 0.01 s]\n",
      "[2021-07-29 15:09:05,913] [INFO] [<<__main__.PlayerStatsBlock object at 0x10fa08fd0>_update> start]\n"
     ]
    },
    {
     "output_type": "display_data",
     "data": {
      "text/plain": [
       "  0%|          | 0/1187 [00:00<?, ?it/s]"
      ],
      "application/vnd.jupyter.widget-view+json": {
       "version_major": 2,
       "version_minor": 0,
       "model_id": "56a0d05eb8fb4e378b4124912f1df11c"
      }
     },
     "metadata": {}
    },
    {
     "output_type": "stream",
     "name": "stdout",
     "text": [
      "[2021-07-29 15:09:06,563] [INFO] [<<__main__.PlayerStatsBlock object at 0x10fa08fd0>_update> done in 0.65 s]\n",
      "[2021-07-29 15:09:06,564] [INFO] [<<__main__.TargetAggregateBlock object at 0x1dc0da130>_transform> start]\n",
      "[2021-07-29 15:09:06,571] [INFO] [<<__main__.TargetAggregateBlock object at 0x1dc0da130>_transform> done in 0.01 s]\n",
      "[2021-07-29 15:09:06,572] [INFO] [<<__main__.RostersLabelEncodingBlock object at 0x10e966dc0>_transform> start]\n",
      "[2021-07-29 15:09:06,580] [INFO] [<<__main__.RostersLabelEncodingBlock object at 0x10e966dc0>_transform> done in 0.01 s]\n",
      "[2021-07-29 15:09:06,583] [INFO] [<<__main__.PlayersLabelEncodingBlock object at 0x1dc48ed90>_transform> start]\n",
      "[2021-07-29 15:09:06,587] [INFO] [<<__main__.PlayersLabelEncodingBlock object at 0x1dc48ed90>_transform> done in 0.00 s]\n",
      "[2021-07-29 15:09:06,590] [INFO] [<<__main__.StandingsMetaBlock object at 0x12d5e0f10>_transform> start]\n",
      "[2021-07-29 15:09:06,601] [INFO] [<<__main__.StandingsMetaBlock object at 0x12d5e0f10>_transform> done in 0.01 s]\n",
      "[2021-07-29 15:09:06,604] [INFO] [<<__main__.Datetime2trigonometricEncodingBlock object at 0x12d5e0520>_transform> start]\n",
      "[2021-07-29 15:09:06,618] [INFO] [<<__main__.Datetime2trigonometricEncodingBlock object at 0x12d5e0520>_transform> done in 0.01 s]\n",
      "[2021-07-29 15:09:06,697] [INFO] [<<__main__.PlayerStatsBlock object at 0x10fa08fd0>_update> start]\n"
     ]
    },
    {
     "output_type": "display_data",
     "data": {
      "text/plain": [
       "  0%|          | 0/1187 [00:00<?, ?it/s]"
      ],
      "application/vnd.jupyter.widget-view+json": {
       "version_major": 2,
       "version_minor": 0,
       "model_id": "e132a93ff0f1439e885cf5222b6b9953"
      }
     },
     "metadata": {}
    },
    {
     "output_type": "stream",
     "name": "stdout",
     "text": [
      "[2021-07-29 15:09:07,346] [INFO] [<<__main__.PlayerStatsBlock object at 0x10fa08fd0>_update> done in 0.65 s]\n",
      "[2021-07-29 15:09:07,347] [INFO] [<<__main__.TargetAggregateBlock object at 0x1dc0da130>_transform> start]\n",
      "[2021-07-29 15:09:07,355] [INFO] [<<__main__.TargetAggregateBlock object at 0x1dc0da130>_transform> done in 0.01 s]\n",
      "[2021-07-29 15:09:07,357] [INFO] [<<__main__.RostersLabelEncodingBlock object at 0x10e966dc0>_transform> start]\n",
      "[2021-07-29 15:09:07,365] [INFO] [<<__main__.RostersLabelEncodingBlock object at 0x10e966dc0>_transform> done in 0.01 s]\n",
      "[2021-07-29 15:09:07,368] [INFO] [<<__main__.PlayersLabelEncodingBlock object at 0x1dc48ed90>_transform> start]\n",
      "[2021-07-29 15:09:07,372] [INFO] [<<__main__.PlayersLabelEncodingBlock object at 0x1dc48ed90>_transform> done in 0.00 s]\n",
      "[2021-07-29 15:09:07,376] [INFO] [<<__main__.StandingsMetaBlock object at 0x12d5e0f10>_transform> start]\n",
      "[2021-07-29 15:09:07,386] [INFO] [<<__main__.StandingsMetaBlock object at 0x12d5e0f10>_transform> done in 0.01 s]\n",
      "[2021-07-29 15:09:07,389] [INFO] [<<__main__.Datetime2trigonometricEncodingBlock object at 0x12d5e0520>_transform> start]\n",
      "[2021-07-29 15:09:07,403] [INFO] [<<__main__.Datetime2trigonometricEncodingBlock object at 0x12d5e0520>_transform> done in 0.01 s]\n",
      "[2021-07-29 15:09:07,475] [INFO] [<<__main__.PlayerStatsBlock object at 0x10fa08fd0>_update> start]\n"
     ]
    },
    {
     "output_type": "display_data",
     "data": {
      "text/plain": [
       "  0%|          | 0/1187 [00:00<?, ?it/s]"
      ],
      "application/vnd.jupyter.widget-view+json": {
       "version_major": 2,
       "version_minor": 0,
       "model_id": "92d122f954484319bc8066a7f0602283"
      }
     },
     "metadata": {}
    },
    {
     "output_type": "stream",
     "name": "stdout",
     "text": [
      "[2021-07-29 15:09:08,140] [INFO] [<<__main__.PlayerStatsBlock object at 0x10fa08fd0>_update> done in 0.66 s]\n",
      "[2021-07-29 15:09:08,141] [INFO] [<<__main__.TargetAggregateBlock object at 0x1dc0da130>_transform> start]\n",
      "[2021-07-29 15:09:08,149] [INFO] [<<__main__.TargetAggregateBlock object at 0x1dc0da130>_transform> done in 0.01 s]\n",
      "[2021-07-29 15:09:08,151] [INFO] [<<__main__.RostersLabelEncodingBlock object at 0x10e966dc0>_transform> start]\n",
      "[2021-07-29 15:09:08,160] [INFO] [<<__main__.RostersLabelEncodingBlock object at 0x10e966dc0>_transform> done in 0.01 s]\n",
      "[2021-07-29 15:09:08,163] [INFO] [<<__main__.PlayersLabelEncodingBlock object at 0x1dc48ed90>_transform> start]\n",
      "[2021-07-29 15:09:08,167] [INFO] [<<__main__.PlayersLabelEncodingBlock object at 0x1dc48ed90>_transform> done in 0.00 s]\n",
      "[2021-07-29 15:09:08,170] [INFO] [<<__main__.StandingsMetaBlock object at 0x12d5e0f10>_transform> start]\n",
      "[2021-07-29 15:09:08,181] [INFO] [<<__main__.StandingsMetaBlock object at 0x12d5e0f10>_transform> done in 0.01 s]\n",
      "[2021-07-29 15:09:08,184] [INFO] [<<__main__.Datetime2trigonometricEncodingBlock object at 0x12d5e0520>_transform> start]\n",
      "[2021-07-29 15:09:08,198] [INFO] [<<__main__.Datetime2trigonometricEncodingBlock object at 0x12d5e0520>_transform> done in 0.01 s]\n",
      "[2021-07-29 15:09:08,272] [INFO] [<<__main__.PlayerStatsBlock object at 0x10fa08fd0>_update> start]\n"
     ]
    },
    {
     "output_type": "display_data",
     "data": {
      "text/plain": [
       "  0%|          | 0/1187 [00:00<?, ?it/s]"
      ],
      "application/vnd.jupyter.widget-view+json": {
       "version_major": 2,
       "version_minor": 0,
       "model_id": "e57eac67d64e446cbeeeb3d64b18bbdb"
      }
     },
     "metadata": {}
    },
    {
     "output_type": "stream",
     "name": "stdout",
     "text": [
      "[2021-07-29 15:09:08,932] [INFO] [<<__main__.PlayerStatsBlock object at 0x10fa08fd0>_update> done in 0.66 s]\n",
      "[2021-07-29 15:09:08,934] [INFO] [<<__main__.TargetAggregateBlock object at 0x1dc0da130>_transform> start]\n",
      "[2021-07-29 15:09:08,943] [INFO] [<<__main__.TargetAggregateBlock object at 0x1dc0da130>_transform> done in 0.01 s]\n",
      "[2021-07-29 15:09:08,945] [INFO] [<<__main__.RostersLabelEncodingBlock object at 0x10e966dc0>_transform> start]\n",
      "[2021-07-29 15:09:08,953] [INFO] [<<__main__.RostersLabelEncodingBlock object at 0x10e966dc0>_transform> done in 0.01 s]\n",
      "[2021-07-29 15:09:08,955] [INFO] [<<__main__.PlayersLabelEncodingBlock object at 0x1dc48ed90>_transform> start]\n",
      "[2021-07-29 15:09:08,960] [INFO] [<<__main__.PlayersLabelEncodingBlock object at 0x1dc48ed90>_transform> done in 0.00 s]\n",
      "[2021-07-29 15:09:08,963] [INFO] [<<__main__.StandingsMetaBlock object at 0x12d5e0f10>_transform> start]\n",
      "[2021-07-29 15:09:08,973] [INFO] [<<__main__.StandingsMetaBlock object at 0x12d5e0f10>_transform> done in 0.01 s]\n",
      "[2021-07-29 15:09:08,976] [INFO] [<<__main__.Datetime2trigonometricEncodingBlock object at 0x12d5e0520>_transform> start]\n",
      "[2021-07-29 15:09:08,990] [INFO] [<<__main__.Datetime2trigonometricEncodingBlock object at 0x12d5e0520>_transform> done in 0.01 s]\n",
      "[2021-07-29 15:09:09,057] [INFO] [<<__main__.PlayerStatsBlock object at 0x10fa08fd0>_update> start]\n"
     ]
    },
    {
     "output_type": "display_data",
     "data": {
      "text/plain": [
       "  0%|          | 0/1187 [00:00<?, ?it/s]"
      ],
      "application/vnd.jupyter.widget-view+json": {
       "version_major": 2,
       "version_minor": 0,
       "model_id": "41b01b89b2e54b8b8b7ac83a4be5638f"
      }
     },
     "metadata": {}
    },
    {
     "output_type": "stream",
     "name": "stdout",
     "text": [
      "[2021-07-29 15:09:09,713] [INFO] [<<__main__.PlayerStatsBlock object at 0x10fa08fd0>_update> done in 0.66 s]\n",
      "[2021-07-29 15:09:09,714] [INFO] [<<__main__.TargetAggregateBlock object at 0x1dc0da130>_transform> start]\n",
      "[2021-07-29 15:09:09,722] [INFO] [<<__main__.TargetAggregateBlock object at 0x1dc0da130>_transform> done in 0.01 s]\n",
      "[2021-07-29 15:09:09,724] [INFO] [<<__main__.RostersLabelEncodingBlock object at 0x10e966dc0>_transform> start]\n",
      "[2021-07-29 15:09:09,732] [INFO] [<<__main__.RostersLabelEncodingBlock object at 0x10e966dc0>_transform> done in 0.01 s]\n",
      "[2021-07-29 15:09:09,735] [INFO] [<<__main__.PlayersLabelEncodingBlock object at 0x1dc48ed90>_transform> start]\n",
      "[2021-07-29 15:09:09,739] [INFO] [<<__main__.PlayersLabelEncodingBlock object at 0x1dc48ed90>_transform> done in 0.00 s]\n",
      "[2021-07-29 15:09:09,742] [INFO] [<<__main__.StandingsMetaBlock object at 0x12d5e0f10>_transform> start]\n",
      "[2021-07-29 15:09:09,752] [INFO] [<<__main__.StandingsMetaBlock object at 0x12d5e0f10>_transform> done in 0.01 s]\n",
      "[2021-07-29 15:09:09,756] [INFO] [<<__main__.Datetime2trigonometricEncodingBlock object at 0x12d5e0520>_transform> start]\n",
      "[2021-07-29 15:09:09,770] [INFO] [<<__main__.Datetime2trigonometricEncodingBlock object at 0x12d5e0520>_transform> done in 0.01 s]\n",
      "[2021-07-29 15:09:09,841] [INFO] [<<__main__.PlayerStatsBlock object at 0x10fa08fd0>_update> start]\n"
     ]
    },
    {
     "output_type": "display_data",
     "data": {
      "text/plain": [
       "  0%|          | 0/1187 [00:00<?, ?it/s]"
      ],
      "application/vnd.jupyter.widget-view+json": {
       "version_major": 2,
       "version_minor": 0,
       "model_id": "da976f5148ba44b98a414cff78d0bb2b"
      }
     },
     "metadata": {}
    },
    {
     "output_type": "stream",
     "name": "stdout",
     "text": [
      "[2021-07-29 15:09:10,501] [INFO] [<<__main__.PlayerStatsBlock object at 0x10fa08fd0>_update> done in 0.66 s]\n",
      "[2021-07-29 15:09:10,503] [INFO] [<<__main__.TargetAggregateBlock object at 0x1dc0da130>_transform> start]\n",
      "[2021-07-29 15:09:10,510] [INFO] [<<__main__.TargetAggregateBlock object at 0x1dc0da130>_transform> done in 0.01 s]\n",
      "[2021-07-29 15:09:10,512] [INFO] [<<__main__.RostersLabelEncodingBlock object at 0x10e966dc0>_transform> start]\n",
      "[2021-07-29 15:09:10,520] [INFO] [<<__main__.RostersLabelEncodingBlock object at 0x10e966dc0>_transform> done in 0.01 s]\n",
      "[2021-07-29 15:09:10,523] [INFO] [<<__main__.PlayersLabelEncodingBlock object at 0x1dc48ed90>_transform> start]\n",
      "[2021-07-29 15:09:10,527] [INFO] [<<__main__.PlayersLabelEncodingBlock object at 0x1dc48ed90>_transform> done in 0.00 s]\n",
      "[2021-07-29 15:09:10,531] [INFO] [<<__main__.StandingsMetaBlock object at 0x12d5e0f10>_transform> start]\n",
      "[2021-07-29 15:09:10,541] [INFO] [<<__main__.StandingsMetaBlock object at 0x12d5e0f10>_transform> done in 0.01 s]\n",
      "[2021-07-29 15:09:10,545] [INFO] [<<__main__.Datetime2trigonometricEncodingBlock object at 0x12d5e0520>_transform> start]\n",
      "[2021-07-29 15:09:10,559] [INFO] [<<__main__.Datetime2trigonometricEncodingBlock object at 0x12d5e0520>_transform> done in 0.01 s]\n",
      "[2021-07-29 15:09:10,633] [INFO] [<<__main__.PlayerStatsBlock object at 0x10fa08fd0>_update> start]\n"
     ]
    },
    {
     "output_type": "display_data",
     "data": {
      "text/plain": [
       "  0%|          | 0/1187 [00:00<?, ?it/s]"
      ],
      "application/vnd.jupyter.widget-view+json": {
       "version_major": 2,
       "version_minor": 0,
       "model_id": "0db8e5384f19424ea3d4eb4cd938ef7c"
      }
     },
     "metadata": {}
    },
    {
     "output_type": "stream",
     "name": "stdout",
     "text": [
      "[2021-07-29 15:09:11,293] [INFO] [<<__main__.PlayerStatsBlock object at 0x10fa08fd0>_update> done in 0.66 s]\n",
      "[2021-07-29 15:09:11,295] [INFO] [<<__main__.TargetAggregateBlock object at 0x1dc0da130>_transform> start]\n",
      "[2021-07-29 15:09:11,302] [INFO] [<<__main__.TargetAggregateBlock object at 0x1dc0da130>_transform> done in 0.01 s]\n",
      "[2021-07-29 15:09:11,304] [INFO] [<<__main__.RostersLabelEncodingBlock object at 0x10e966dc0>_transform> start]\n",
      "[2021-07-29 15:09:11,312] [INFO] [<<__main__.RostersLabelEncodingBlock object at 0x10e966dc0>_transform> done in 0.01 s]\n",
      "[2021-07-29 15:09:11,315] [INFO] [<<__main__.PlayersLabelEncodingBlock object at 0x1dc48ed90>_transform> start]\n",
      "[2021-07-29 15:09:11,319] [INFO] [<<__main__.PlayersLabelEncodingBlock object at 0x1dc48ed90>_transform> done in 0.00 s]\n",
      "[2021-07-29 15:09:11,322] [INFO] [<<__main__.StandingsMetaBlock object at 0x12d5e0f10>_transform> start]\n",
      "[2021-07-29 15:09:11,333] [INFO] [<<__main__.StandingsMetaBlock object at 0x12d5e0f10>_transform> done in 0.01 s]\n",
      "[2021-07-29 15:09:11,336] [INFO] [<<__main__.Datetime2trigonometricEncodingBlock object at 0x12d5e0520>_transform> start]\n",
      "[2021-07-29 15:09:11,350] [INFO] [<<__main__.Datetime2trigonometricEncodingBlock object at 0x12d5e0520>_transform> done in 0.01 s]\n",
      "[2021-07-29 15:09:11,430] [INFO] [<<__main__.PlayerStatsBlock object at 0x10fa08fd0>_update> start]\n"
     ]
    },
    {
     "output_type": "display_data",
     "data": {
      "text/plain": [
       "  0%|          | 0/1187 [00:00<?, ?it/s]"
      ],
      "application/vnd.jupyter.widget-view+json": {
       "version_major": 2,
       "version_minor": 0,
       "model_id": "fdef6068e1c54b719b595a4f8c6546c8"
      }
     },
     "metadata": {}
    },
    {
     "output_type": "stream",
     "name": "stdout",
     "text": [
      "[2021-07-29 15:09:12,095] [INFO] [<<__main__.PlayerStatsBlock object at 0x10fa08fd0>_update> done in 0.66 s]\n",
      "[2021-07-29 15:09:12,096] [INFO] [<<__main__.TargetAggregateBlock object at 0x1dc0da130>_transform> start]\n",
      "[2021-07-29 15:09:12,104] [INFO] [<<__main__.TargetAggregateBlock object at 0x1dc0da130>_transform> done in 0.01 s]\n",
      "[2021-07-29 15:09:12,106] [INFO] [<<__main__.RostersLabelEncodingBlock object at 0x10e966dc0>_transform> start]\n",
      "[2021-07-29 15:09:12,114] [INFO] [<<__main__.RostersLabelEncodingBlock object at 0x10e966dc0>_transform> done in 0.01 s]\n",
      "[2021-07-29 15:09:12,117] [INFO] [<<__main__.PlayersLabelEncodingBlock object at 0x1dc48ed90>_transform> start]\n",
      "[2021-07-29 15:09:12,122] [INFO] [<<__main__.PlayersLabelEncodingBlock object at 0x1dc48ed90>_transform> done in 0.00 s]\n",
      "[2021-07-29 15:09:12,125] [INFO] [<<__main__.StandingsMetaBlock object at 0x12d5e0f10>_transform> start]\n",
      "[2021-07-29 15:09:12,136] [INFO] [<<__main__.StandingsMetaBlock object at 0x12d5e0f10>_transform> done in 0.01 s]\n",
      "[2021-07-29 15:09:12,139] [INFO] [<<__main__.Datetime2trigonometricEncodingBlock object at 0x12d5e0520>_transform> start]\n",
      "[2021-07-29 15:09:12,153] [INFO] [<<__main__.Datetime2trigonometricEncodingBlock object at 0x12d5e0520>_transform> done in 0.01 s]\n",
      "[2021-07-29 15:09:12,227] [INFO] [<<__main__.PlayerStatsBlock object at 0x10fa08fd0>_update> start]\n"
     ]
    },
    {
     "output_type": "display_data",
     "data": {
      "text/plain": [
       "  0%|          | 0/1187 [00:00<?, ?it/s]"
      ],
      "application/vnd.jupyter.widget-view+json": {
       "version_major": 2,
       "version_minor": 0,
       "model_id": "52087e5857f84b1a83c22989affc6e19"
      }
     },
     "metadata": {}
    },
    {
     "output_type": "stream",
     "name": "stdout",
     "text": [
      "[2021-07-29 15:09:12,903] [INFO] [<<__main__.PlayerStatsBlock object at 0x10fa08fd0>_update> done in 0.68 s]\n",
      "[2021-07-29 15:09:12,905] [INFO] [<<__main__.TargetAggregateBlock object at 0x1dc0da130>_transform> start]\n",
      "[2021-07-29 15:09:12,912] [INFO] [<<__main__.TargetAggregateBlock object at 0x1dc0da130>_transform> done in 0.01 s]\n",
      "[2021-07-29 15:09:12,914] [INFO] [<<__main__.RostersLabelEncodingBlock object at 0x10e966dc0>_transform> start]\n",
      "[2021-07-29 15:09:12,923] [INFO] [<<__main__.RostersLabelEncodingBlock object at 0x10e966dc0>_transform> done in 0.01 s]\n",
      "[2021-07-29 15:09:12,926] [INFO] [<<__main__.PlayersLabelEncodingBlock object at 0x1dc48ed90>_transform> start]\n",
      "[2021-07-29 15:09:12,930] [INFO] [<<__main__.PlayersLabelEncodingBlock object at 0x1dc48ed90>_transform> done in 0.00 s]\n",
      "[2021-07-29 15:09:12,933] [INFO] [<<__main__.StandingsMetaBlock object at 0x12d5e0f10>_transform> start]\n",
      "[2021-07-29 15:09:12,944] [INFO] [<<__main__.StandingsMetaBlock object at 0x12d5e0f10>_transform> done in 0.01 s]\n",
      "[2021-07-29 15:09:12,947] [INFO] [<<__main__.Datetime2trigonometricEncodingBlock object at 0x12d5e0520>_transform> start]\n",
      "[2021-07-29 15:09:12,961] [INFO] [<<__main__.Datetime2trigonometricEncodingBlock object at 0x12d5e0520>_transform> done in 0.01 s]\n",
      "[2021-07-29 15:09:13,033] [INFO] [<<__main__.PlayerStatsBlock object at 0x10fa08fd0>_update> start]\n"
     ]
    },
    {
     "output_type": "display_data",
     "data": {
      "text/plain": [
       "  0%|          | 0/1187 [00:00<?, ?it/s]"
      ],
      "application/vnd.jupyter.widget-view+json": {
       "version_major": 2,
       "version_minor": 0,
       "model_id": "42e0cbc07e2f46009138e7dc86dd3464"
      }
     },
     "metadata": {}
    },
    {
     "output_type": "stream",
     "name": "stdout",
     "text": [
      "[2021-07-29 15:09:13,693] [INFO] [<<__main__.PlayerStatsBlock object at 0x10fa08fd0>_update> done in 0.66 s]\n",
      "[2021-07-29 15:09:13,694] [INFO] [<<__main__.TargetAggregateBlock object at 0x1dc0da130>_transform> start]\n",
      "[2021-07-29 15:09:13,701] [INFO] [<<__main__.TargetAggregateBlock object at 0x1dc0da130>_transform> done in 0.01 s]\n",
      "[2021-07-29 15:09:13,703] [INFO] [<<__main__.RostersLabelEncodingBlock object at 0x10e966dc0>_transform> start]\n",
      "[2021-07-29 15:09:13,711] [INFO] [<<__main__.RostersLabelEncodingBlock object at 0x10e966dc0>_transform> done in 0.01 s]\n",
      "[2021-07-29 15:09:13,714] [INFO] [<<__main__.PlayersLabelEncodingBlock object at 0x1dc48ed90>_transform> start]\n",
      "[2021-07-29 15:09:13,718] [INFO] [<<__main__.PlayersLabelEncodingBlock object at 0x1dc48ed90>_transform> done in 0.00 s]\n",
      "[2021-07-29 15:09:13,721] [INFO] [<<__main__.StandingsMetaBlock object at 0x12d5e0f10>_transform> start]\n",
      "[2021-07-29 15:09:13,731] [INFO] [<<__main__.StandingsMetaBlock object at 0x12d5e0f10>_transform> done in 0.01 s]\n",
      "[2021-07-29 15:09:13,735] [INFO] [<<__main__.Datetime2trigonometricEncodingBlock object at 0x12d5e0520>_transform> start]\n",
      "[2021-07-29 15:09:13,748] [INFO] [<<__main__.Datetime2trigonometricEncodingBlock object at 0x12d5e0520>_transform> done in 0.01 s]\n",
      "[2021-07-29 15:09:13,832] [INFO] [<<__main__.PlayerStatsBlock object at 0x10fa08fd0>_update> start]\n"
     ]
    },
    {
     "output_type": "display_data",
     "data": {
      "text/plain": [
       "  0%|          | 0/1187 [00:00<?, ?it/s]"
      ],
      "application/vnd.jupyter.widget-view+json": {
       "version_major": 2,
       "version_minor": 0,
       "model_id": "0e5ee2a448bb4edf934b656ec14321d3"
      }
     },
     "metadata": {}
    },
    {
     "output_type": "stream",
     "name": "stdout",
     "text": [
      "[2021-07-29 15:09:14,497] [INFO] [<<__main__.PlayerStatsBlock object at 0x10fa08fd0>_update> done in 0.67 s]\n",
      "[2021-07-29 15:09:14,499] [INFO] [<<__main__.TargetAggregateBlock object at 0x1dc0da130>_transform> start]\n",
      "[2021-07-29 15:09:14,507] [INFO] [<<__main__.TargetAggregateBlock object at 0x1dc0da130>_transform> done in 0.01 s]\n",
      "[2021-07-29 15:09:14,509] [INFO] [<<__main__.RostersLabelEncodingBlock object at 0x10e966dc0>_transform> start]\n",
      "[2021-07-29 15:09:14,518] [INFO] [<<__main__.RostersLabelEncodingBlock object at 0x10e966dc0>_transform> done in 0.01 s]\n",
      "[2021-07-29 15:09:14,522] [INFO] [<<__main__.PlayersLabelEncodingBlock object at 0x1dc48ed90>_transform> start]\n",
      "[2021-07-29 15:09:14,526] [INFO] [<<__main__.PlayersLabelEncodingBlock object at 0x1dc48ed90>_transform> done in 0.00 s]\n",
      "[2021-07-29 15:09:14,529] [INFO] [<<__main__.StandingsMetaBlock object at 0x12d5e0f10>_transform> start]\n",
      "[2021-07-29 15:09:14,540] [INFO] [<<__main__.StandingsMetaBlock object at 0x12d5e0f10>_transform> done in 0.01 s]\n",
      "[2021-07-29 15:09:14,543] [INFO] [<<__main__.Datetime2trigonometricEncodingBlock object at 0x12d5e0520>_transform> start]\n",
      "[2021-07-29 15:09:14,557] [INFO] [<<__main__.Datetime2trigonometricEncodingBlock object at 0x12d5e0520>_transform> done in 0.01 s]\n",
      "[2021-07-29 15:09:14,640] [INFO] [<<__main__.PlayerStatsBlock object at 0x10fa08fd0>_update> start]\n"
     ]
    },
    {
     "output_type": "display_data",
     "data": {
      "text/plain": [
       "  0%|          | 0/1187 [00:00<?, ?it/s]"
      ],
      "application/vnd.jupyter.widget-view+json": {
       "version_major": 2,
       "version_minor": 0,
       "model_id": "689ac87b271a401889b5c7086de82ceb"
      }
     },
     "metadata": {}
    },
    {
     "output_type": "stream",
     "name": "stdout",
     "text": [
      "[2021-07-29 15:09:15,307] [INFO] [<<__main__.PlayerStatsBlock object at 0x10fa08fd0>_update> done in 0.67 s]\n",
      "[2021-07-29 15:09:15,308] [INFO] [<<__main__.TargetAggregateBlock object at 0x1dc0da130>_transform> start]\n",
      "[2021-07-29 15:09:15,316] [INFO] [<<__main__.TargetAggregateBlock object at 0x1dc0da130>_transform> done in 0.01 s]\n",
      "[2021-07-29 15:09:15,318] [INFO] [<<__main__.RostersLabelEncodingBlock object at 0x10e966dc0>_transform> start]\n",
      "[2021-07-29 15:09:15,360] [INFO] [<<__main__.RostersLabelEncodingBlock object at 0x10e966dc0>_transform> done in 0.04 s]\n",
      "[2021-07-29 15:09:15,368] [INFO] [<<__main__.PlayersLabelEncodingBlock object at 0x1dc48ed90>_transform> start]\n",
      "[2021-07-29 15:09:15,377] [INFO] [<<__main__.PlayersLabelEncodingBlock object at 0x1dc48ed90>_transform> done in 0.01 s]\n",
      "[2021-07-29 15:09:15,383] [INFO] [<<__main__.StandingsMetaBlock object at 0x12d5e0f10>_transform> start]\n",
      "[2021-07-29 15:09:15,405] [INFO] [<<__main__.StandingsMetaBlock object at 0x12d5e0f10>_transform> done in 0.02 s]\n",
      "[2021-07-29 15:09:15,410] [INFO] [<<__main__.Datetime2trigonometricEncodingBlock object at 0x12d5e0520>_transform> start]\n",
      "[2021-07-29 15:09:15,435] [INFO] [<<__main__.Datetime2trigonometricEncodingBlock object at 0x12d5e0520>_transform> done in 0.02 s]\n",
      "[2021-07-29 15:09:15,529] [INFO] [<<__main__.PlayerStatsBlock object at 0x10fa08fd0>_update> start]\n"
     ]
    },
    {
     "output_type": "display_data",
     "data": {
      "text/plain": [
       "  0%|          | 0/1187 [00:00<?, ?it/s]"
      ],
      "application/vnd.jupyter.widget-view+json": {
       "version_major": 2,
       "version_minor": 0,
       "model_id": "ef7698d2d0d54b6da1eda12c8892cee3"
      }
     },
     "metadata": {}
    },
    {
     "output_type": "stream",
     "name": "stdout",
     "text": [
      "[2021-07-29 15:09:16,194] [INFO] [<<__main__.PlayerStatsBlock object at 0x10fa08fd0>_update> done in 0.66 s]\n",
      "[2021-07-29 15:09:16,195] [INFO] [<<__main__.TargetAggregateBlock object at 0x1dc0da130>_transform> start]\n",
      "[2021-07-29 15:09:16,203] [INFO] [<<__main__.TargetAggregateBlock object at 0x1dc0da130>_transform> done in 0.01 s]\n",
      "[2021-07-29 15:09:16,205] [INFO] [<<__main__.RostersLabelEncodingBlock object at 0x10e966dc0>_transform> start]\n",
      "[2021-07-29 15:09:16,213] [INFO] [<<__main__.RostersLabelEncodingBlock object at 0x10e966dc0>_transform> done in 0.01 s]\n",
      "[2021-07-29 15:09:16,216] [INFO] [<<__main__.PlayersLabelEncodingBlock object at 0x1dc48ed90>_transform> start]\n",
      "[2021-07-29 15:09:16,220] [INFO] [<<__main__.PlayersLabelEncodingBlock object at 0x1dc48ed90>_transform> done in 0.00 s]\n",
      "[2021-07-29 15:09:16,224] [INFO] [<<__main__.StandingsMetaBlock object at 0x12d5e0f10>_transform> start]\n",
      "[2021-07-29 15:09:16,234] [INFO] [<<__main__.StandingsMetaBlock object at 0x12d5e0f10>_transform> done in 0.01 s]\n",
      "[2021-07-29 15:09:16,238] [INFO] [<<__main__.Datetime2trigonometricEncodingBlock object at 0x12d5e0520>_transform> start]\n",
      "[2021-07-29 15:09:16,252] [INFO] [<<__main__.Datetime2trigonometricEncodingBlock object at 0x12d5e0520>_transform> done in 0.01 s]\n",
      "[2021-07-29 15:09:16,326] [INFO] [<<__main__.PlayerStatsBlock object at 0x10fa08fd0>_update> start]\n"
     ]
    },
    {
     "output_type": "display_data",
     "data": {
      "text/plain": [
       "  0%|          | 0/1187 [00:00<?, ?it/s]"
      ],
      "application/vnd.jupyter.widget-view+json": {
       "version_major": 2,
       "version_minor": 0,
       "model_id": "42966ed544394637a101165b14a4e63c"
      }
     },
     "metadata": {}
    },
    {
     "output_type": "stream",
     "name": "stdout",
     "text": [
      "[2021-07-29 15:09:16,995] [INFO] [<<__main__.PlayerStatsBlock object at 0x10fa08fd0>_update> done in 0.67 s]\n",
      "[2021-07-29 15:09:16,996] [INFO] [<<__main__.TargetAggregateBlock object at 0x1dc0da130>_transform> start]\n",
      "[2021-07-29 15:09:17,004] [INFO] [<<__main__.TargetAggregateBlock object at 0x1dc0da130>_transform> done in 0.01 s]\n",
      "[2021-07-29 15:09:17,006] [INFO] [<<__main__.RostersLabelEncodingBlock object at 0x10e966dc0>_transform> start]\n",
      "[2021-07-29 15:09:17,013] [INFO] [<<__main__.RostersLabelEncodingBlock object at 0x10e966dc0>_transform> done in 0.01 s]\n",
      "[2021-07-29 15:09:17,017] [INFO] [<<__main__.PlayersLabelEncodingBlock object at 0x1dc48ed90>_transform> start]\n",
      "[2021-07-29 15:09:17,021] [INFO] [<<__main__.PlayersLabelEncodingBlock object at 0x1dc48ed90>_transform> done in 0.00 s]\n",
      "[2021-07-29 15:09:17,024] [INFO] [<<__main__.StandingsMetaBlock object at 0x12d5e0f10>_transform> start]\n",
      "[2021-07-29 15:09:17,035] [INFO] [<<__main__.StandingsMetaBlock object at 0x12d5e0f10>_transform> done in 0.01 s]\n",
      "[2021-07-29 15:09:17,038] [INFO] [<<__main__.Datetime2trigonometricEncodingBlock object at 0x12d5e0520>_transform> start]\n",
      "[2021-07-29 15:09:17,052] [INFO] [<<__main__.Datetime2trigonometricEncodingBlock object at 0x12d5e0520>_transform> done in 0.01 s]\n",
      "[2021-07-29 15:09:17,129] [INFO] [<<__main__.PlayerStatsBlock object at 0x10fa08fd0>_update> start]\n"
     ]
    },
    {
     "output_type": "display_data",
     "data": {
      "text/plain": [
       "  0%|          | 0/1187 [00:00<?, ?it/s]"
      ],
      "application/vnd.jupyter.widget-view+json": {
       "version_major": 2,
       "version_minor": 0,
       "model_id": "bee679393f73457f810bd57396c30484"
      }
     },
     "metadata": {}
    },
    {
     "output_type": "stream",
     "name": "stdout",
     "text": [
      "[2021-07-29 15:09:17,797] [INFO] [<<__main__.PlayerStatsBlock object at 0x10fa08fd0>_update> done in 0.67 s]\n",
      "[2021-07-29 15:09:17,799] [INFO] [<<__main__.TargetAggregateBlock object at 0x1dc0da130>_transform> start]\n",
      "[2021-07-29 15:09:17,806] [INFO] [<<__main__.TargetAggregateBlock object at 0x1dc0da130>_transform> done in 0.01 s]\n",
      "[2021-07-29 15:09:17,809] [INFO] [<<__main__.RostersLabelEncodingBlock object at 0x10e966dc0>_transform> start]\n",
      "[2021-07-29 15:09:17,817] [INFO] [<<__main__.RostersLabelEncodingBlock object at 0x10e966dc0>_transform> done in 0.01 s]\n",
      "[2021-07-29 15:09:17,820] [INFO] [<<__main__.PlayersLabelEncodingBlock object at 0x1dc48ed90>_transform> start]\n",
      "[2021-07-29 15:09:17,824] [INFO] [<<__main__.PlayersLabelEncodingBlock object at 0x1dc48ed90>_transform> done in 0.00 s]\n",
      "[2021-07-29 15:09:17,827] [INFO] [<<__main__.StandingsMetaBlock object at 0x12d5e0f10>_transform> start]\n",
      "[2021-07-29 15:09:17,837] [INFO] [<<__main__.StandingsMetaBlock object at 0x12d5e0f10>_transform> done in 0.01 s]\n",
      "[2021-07-29 15:09:17,840] [INFO] [<<__main__.Datetime2trigonometricEncodingBlock object at 0x12d5e0520>_transform> start]\n",
      "[2021-07-29 15:09:17,854] [INFO] [<<__main__.Datetime2trigonometricEncodingBlock object at 0x12d5e0520>_transform> done in 0.01 s]\n",
      "[2021-07-29 15:09:17,936] [INFO] [<<__main__.PlayerStatsBlock object at 0x10fa08fd0>_update> start]\n"
     ]
    },
    {
     "output_type": "display_data",
     "data": {
      "text/plain": [
       "  0%|          | 0/1187 [00:00<?, ?it/s]"
      ],
      "application/vnd.jupyter.widget-view+json": {
       "version_major": 2,
       "version_minor": 0,
       "model_id": "55f99b9625e8467a8ce049e4916d3088"
      }
     },
     "metadata": {}
    },
    {
     "output_type": "stream",
     "name": "stdout",
     "text": [
      "[2021-07-29 15:09:18,602] [INFO] [<<__main__.PlayerStatsBlock object at 0x10fa08fd0>_update> done in 0.67 s]\n",
      "[2021-07-29 15:09:18,604] [INFO] [<<__main__.TargetAggregateBlock object at 0x1dc0da130>_transform> start]\n",
      "[2021-07-29 15:09:18,611] [INFO] [<<__main__.TargetAggregateBlock object at 0x1dc0da130>_transform> done in 0.01 s]\n",
      "[2021-07-29 15:09:18,613] [INFO] [<<__main__.RostersLabelEncodingBlock object at 0x10e966dc0>_transform> start]\n",
      "[2021-07-29 15:09:18,620] [INFO] [<<__main__.RostersLabelEncodingBlock object at 0x10e966dc0>_transform> done in 0.01 s]\n",
      "[2021-07-29 15:09:18,623] [INFO] [<<__main__.PlayersLabelEncodingBlock object at 0x1dc48ed90>_transform> start]\n",
      "[2021-07-29 15:09:18,627] [INFO] [<<__main__.PlayersLabelEncodingBlock object at 0x1dc48ed90>_transform> done in 0.00 s]\n",
      "[2021-07-29 15:09:18,630] [INFO] [<<__main__.StandingsMetaBlock object at 0x12d5e0f10>_transform> start]\n",
      "[2021-07-29 15:09:18,640] [INFO] [<<__main__.StandingsMetaBlock object at 0x12d5e0f10>_transform> done in 0.01 s]\n",
      "[2021-07-29 15:09:18,643] [INFO] [<<__main__.Datetime2trigonometricEncodingBlock object at 0x12d5e0520>_transform> start]\n",
      "[2021-07-29 15:09:18,658] [INFO] [<<__main__.Datetime2trigonometricEncodingBlock object at 0x12d5e0520>_transform> done in 0.02 s]\n",
      "[2021-07-29 15:09:18,734] [INFO] [<<__main__.PlayerStatsBlock object at 0x10fa08fd0>_update> start]\n"
     ]
    },
    {
     "output_type": "display_data",
     "data": {
      "text/plain": [
       "  0%|          | 0/1187 [00:00<?, ?it/s]"
      ],
      "application/vnd.jupyter.widget-view+json": {
       "version_major": 2,
       "version_minor": 0,
       "model_id": "b0944bdcd66c413a9496db00607d6461"
      }
     },
     "metadata": {}
    },
    {
     "output_type": "stream",
     "name": "stdout",
     "text": [
      "[2021-07-29 15:09:19,399] [INFO] [<<__main__.PlayerStatsBlock object at 0x10fa08fd0>_update> done in 0.67 s]\n",
      "[2021-07-29 15:09:19,401] [INFO] [<<__main__.TargetAggregateBlock object at 0x1dc0da130>_transform> start]\n",
      "[2021-07-29 15:09:19,412] [INFO] [<<__main__.TargetAggregateBlock object at 0x1dc0da130>_transform> done in 0.01 s]\n",
      "[2021-07-29 15:09:19,414] [INFO] [<<__main__.RostersLabelEncodingBlock object at 0x10e966dc0>_transform> start]\n",
      "[2021-07-29 15:09:19,424] [INFO] [<<__main__.RostersLabelEncodingBlock object at 0x10e966dc0>_transform> done in 0.01 s]\n",
      "[2021-07-29 15:09:19,427] [INFO] [<<__main__.PlayersLabelEncodingBlock object at 0x1dc48ed90>_transform> start]\n",
      "[2021-07-29 15:09:19,431] [INFO] [<<__main__.PlayersLabelEncodingBlock object at 0x1dc48ed90>_transform> done in 0.00 s]\n",
      "[2021-07-29 15:09:19,434] [INFO] [<<__main__.StandingsMetaBlock object at 0x12d5e0f10>_transform> start]\n",
      "[2021-07-29 15:09:19,444] [INFO] [<<__main__.StandingsMetaBlock object at 0x12d5e0f10>_transform> done in 0.01 s]\n",
      "[2021-07-29 15:09:19,447] [INFO] [<<__main__.Datetime2trigonometricEncodingBlock object at 0x12d5e0520>_transform> start]\n",
      "[2021-07-29 15:09:19,461] [INFO] [<<__main__.Datetime2trigonometricEncodingBlock object at 0x12d5e0520>_transform> done in 0.01 s]\n",
      "[2021-07-29 15:09:19,543] [INFO] [<<__main__.PlayerStatsBlock object at 0x10fa08fd0>_update> start]\n"
     ]
    },
    {
     "output_type": "display_data",
     "data": {
      "text/plain": [
       "  0%|          | 0/1187 [00:00<?, ?it/s]"
      ],
      "application/vnd.jupyter.widget-view+json": {
       "version_major": 2,
       "version_minor": 0,
       "model_id": "23491d2e3fa24b3c891ea049a50b90e3"
      }
     },
     "metadata": {}
    },
    {
     "output_type": "stream",
     "name": "stdout",
     "text": [
      "[2021-07-29 15:09:20,221] [INFO] [<<__main__.PlayerStatsBlock object at 0x10fa08fd0>_update> done in 0.68 s]\n",
      "[2021-07-29 15:09:20,222] [INFO] [<<__main__.TargetAggregateBlock object at 0x1dc0da130>_transform> start]\n",
      "[2021-07-29 15:09:20,230] [INFO] [<<__main__.TargetAggregateBlock object at 0x1dc0da130>_transform> done in 0.01 s]\n",
      "[2021-07-29 15:09:20,231] [INFO] [<<__main__.RostersLabelEncodingBlock object at 0x10e966dc0>_transform> start]\n",
      "[2021-07-29 15:09:20,238] [INFO] [<<__main__.RostersLabelEncodingBlock object at 0x10e966dc0>_transform> done in 0.01 s]\n",
      "[2021-07-29 15:09:20,242] [INFO] [<<__main__.PlayersLabelEncodingBlock object at 0x1dc48ed90>_transform> start]\n",
      "[2021-07-29 15:09:20,246] [INFO] [<<__main__.PlayersLabelEncodingBlock object at 0x1dc48ed90>_transform> done in 0.00 s]\n",
      "[2021-07-29 15:09:20,249] [INFO] [<<__main__.StandingsMetaBlock object at 0x12d5e0f10>_transform> start]\n",
      "[2021-07-29 15:09:20,259] [INFO] [<<__main__.StandingsMetaBlock object at 0x12d5e0f10>_transform> done in 0.01 s]\n",
      "[2021-07-29 15:09:20,262] [INFO] [<<__main__.Datetime2trigonometricEncodingBlock object at 0x12d5e0520>_transform> start]\n",
      "[2021-07-29 15:09:20,276] [INFO] [<<__main__.Datetime2trigonometricEncodingBlock object at 0x12d5e0520>_transform> done in 0.01 s]\n",
      "[2021-07-29 15:09:20,356] [INFO] [<<__main__.PlayerStatsBlock object at 0x10fa08fd0>_update> start]\n"
     ]
    },
    {
     "output_type": "display_data",
     "data": {
      "text/plain": [
       "  0%|          | 0/1187 [00:00<?, ?it/s]"
      ],
      "application/vnd.jupyter.widget-view+json": {
       "version_major": 2,
       "version_minor": 0,
       "model_id": "6b6a3ea4a97546cfaf84e1de1cc961e1"
      }
     },
     "metadata": {}
    },
    {
     "output_type": "stream",
     "name": "stdout",
     "text": [
      "[2021-07-29 15:09:21,019] [INFO] [<<__main__.PlayerStatsBlock object at 0x10fa08fd0>_update> done in 0.66 s]\n",
      "[2021-07-29 15:09:21,021] [INFO] [<<__main__.TargetAggregateBlock object at 0x1dc0da130>_transform> start]\n",
      "[2021-07-29 15:09:21,028] [INFO] [<<__main__.TargetAggregateBlock object at 0x1dc0da130>_transform> done in 0.01 s]\n",
      "[2021-07-29 15:09:21,029] [INFO] [<<__main__.RostersLabelEncodingBlock object at 0x10e966dc0>_transform> start]\n",
      "[2021-07-29 15:09:21,037] [INFO] [<<__main__.RostersLabelEncodingBlock object at 0x10e966dc0>_transform> done in 0.01 s]\n",
      "[2021-07-29 15:09:21,039] [INFO] [<<__main__.PlayersLabelEncodingBlock object at 0x1dc48ed90>_transform> start]\n",
      "[2021-07-29 15:09:21,044] [INFO] [<<__main__.PlayersLabelEncodingBlock object at 0x1dc48ed90>_transform> done in 0.00 s]\n",
      "[2021-07-29 15:09:21,047] [INFO] [<<__main__.StandingsMetaBlock object at 0x12d5e0f10>_transform> start]\n",
      "[2021-07-29 15:09:21,056] [INFO] [<<__main__.StandingsMetaBlock object at 0x12d5e0f10>_transform> done in 0.01 s]\n",
      "[2021-07-29 15:09:21,059] [INFO] [<<__main__.Datetime2trigonometricEncodingBlock object at 0x12d5e0520>_transform> start]\n",
      "[2021-07-29 15:09:21,073] [INFO] [<<__main__.Datetime2trigonometricEncodingBlock object at 0x12d5e0520>_transform> done in 0.01 s]\n",
      "[2021-07-29 15:09:21,138] [INFO] [<<__main__.PlayerStatsBlock object at 0x10fa08fd0>_update> start]\n"
     ]
    },
    {
     "output_type": "display_data",
     "data": {
      "text/plain": [
       "  0%|          | 0/1187 [00:00<?, ?it/s]"
      ],
      "application/vnd.jupyter.widget-view+json": {
       "version_major": 2,
       "version_minor": 0,
       "model_id": "7d72d4af115f43fc95cac8f558b524af"
      }
     },
     "metadata": {}
    },
    {
     "output_type": "stream",
     "name": "stdout",
     "text": [
      "[2021-07-29 15:09:21,809] [INFO] [<<__main__.PlayerStatsBlock object at 0x10fa08fd0>_update> done in 0.67 s]\n",
      "[2021-07-29 15:09:21,810] [INFO] [<<__main__.TargetAggregateBlock object at 0x1dc0da130>_transform> start]\n",
      "[2021-07-29 15:09:21,818] [INFO] [<<__main__.TargetAggregateBlock object at 0x1dc0da130>_transform> done in 0.01 s]\n",
      "[2021-07-29 15:09:21,821] [INFO] [<<__main__.RostersLabelEncodingBlock object at 0x10e966dc0>_transform> start]\n",
      "[2021-07-29 15:09:21,828] [INFO] [<<__main__.RostersLabelEncodingBlock object at 0x10e966dc0>_transform> done in 0.01 s]\n",
      "[2021-07-29 15:09:21,832] [INFO] [<<__main__.PlayersLabelEncodingBlock object at 0x1dc48ed90>_transform> start]\n",
      "[2021-07-29 15:09:21,836] [INFO] [<<__main__.PlayersLabelEncodingBlock object at 0x1dc48ed90>_transform> done in 0.00 s]\n",
      "[2021-07-29 15:09:21,839] [INFO] [<<__main__.StandingsMetaBlock object at 0x12d5e0f10>_transform> start]\n",
      "[2021-07-29 15:09:21,849] [INFO] [<<__main__.StandingsMetaBlock object at 0x12d5e0f10>_transform> done in 0.01 s]\n",
      "[2021-07-29 15:09:21,852] [INFO] [<<__main__.Datetime2trigonometricEncodingBlock object at 0x12d5e0520>_transform> start]\n",
      "[2021-07-29 15:09:21,866] [INFO] [<<__main__.Datetime2trigonometricEncodingBlock object at 0x12d5e0520>_transform> done in 0.01 s]\n"
     ]
    }
   ],
   "metadata": {}
  },
  {
   "cell_type": "code",
   "execution_count": 19,
   "source": [
    "prediction_df = env.prediction_df.copy()\n",
    "prediction_df.columns = [\"date_playerId\", \"target1_pred\", \"target2_pred\", \"target3_pred\", \"target4_pred\"]\n",
    "prediction_df[\"playerId\"] = prediction_df[\"date_playerId\"].map(lambda x: int(x.split(\"_\")[1]))\n",
    "prediction_df[\"engagementMetricsDate\"] = prediction_df[\"date_playerId\"].map(lambda x: x.split(\"_\")[0])\n",
    "prediction_df[\"engagementMetricsDate\"] = prediction_df[\"engagementMetricsDate\"].map(lambda x: x[:4] + \"-\" + x[4:6] + \"-\" + x[6:])\n",
    "prediction_df = prediction_df.merge(mlb_train_ds.train_next.drop(columns=\"date\"), on=[\"playerId\", \"engagementMetricsDate\"], how=\"left\")\n",
    "prediction_df"
   ],
   "outputs": [
    {
     "output_type": "execute_result",
     "data": {
      "text/plain": [
       "         date_playerId  target1_pred  target2_pred  target3_pred  \\\n",
       "0      20210502_593590  9.094635e-35      0.022010  4.564615e-07   \n",
       "1      20210502_661269  1.424111e-04      0.153377  2.215343e-03   \n",
       "2      20210502_669212  9.094635e-35      0.076359  2.431893e-07   \n",
       "3      20210502_666201  8.331406e-04      0.033023  4.679257e-04   \n",
       "4      20210502_680911  6.600721e-05      0.021461  4.564615e-07   \n",
       "...                ...           ...           ...           ...   \n",
       "36792  20210601_667674  6.625796e-05      0.103557  4.564615e-07   \n",
       "36793  20210601_672695  0.000000e+00      0.118828  6.656482e-02   \n",
       "36794  20210601_676103  0.000000e+00      0.108166  3.892366e-03   \n",
       "36795  20210601_676755  9.094635e-35      0.174997  0.000000e+00   \n",
       "36796  20210601_680430  9.094635e-35      0.144217  1.657787e-06   \n",
       "\n",
       "       target4_pred  playerId engagementMetricsDate   target1   target2  \\\n",
       "0          0.000000    593590            2021-05-02  0.000000  0.011553   \n",
       "1          0.122736    661269            2021-05-02  0.000136  0.107825   \n",
       "2          0.019451    669212            2021-05-02  0.000000  0.057763   \n",
       "3          0.224558    666201            2021-05-02  0.107086  0.061614   \n",
       "4          0.001166    680911            2021-05-02  0.000272  0.042360   \n",
       "...             ...       ...                   ...       ...       ...   \n",
       "36792      0.036709    667674            2021-06-01  0.000000  0.074042   \n",
       "36793      0.109303    672695            2021-06-01  0.000284  0.058617   \n",
       "36794      0.589636    676103            2021-06-01  0.000000  0.055532   \n",
       "36795      0.061617    676755            2021-06-01  0.000000  0.058617   \n",
       "36796      0.038104    680430            2021-06-01  0.000000  0.114148   \n",
       "\n",
       "        target3   target4  \n",
       "0      0.000000  0.000000  \n",
       "1      0.001989  0.085262  \n",
       "2      0.000000  0.012180  \n",
       "3      0.025851  0.816078  \n",
       "4      0.000000  0.085262  \n",
       "...         ...       ...  \n",
       "36792  0.000000  0.065641  \n",
       "36793  0.119955  0.103151  \n",
       "36794  0.003272  0.853338  \n",
       "36795  0.000000  0.121905  \n",
       "36796  0.000000  0.112528  \n",
       "\n",
       "[36797 rows x 11 columns]"
      ],
      "text/html": [
       "<div>\n",
       "<style scoped>\n",
       "    .dataframe tbody tr th:only-of-type {\n",
       "        vertical-align: middle;\n",
       "    }\n",
       "\n",
       "    .dataframe tbody tr th {\n",
       "        vertical-align: top;\n",
       "    }\n",
       "\n",
       "    .dataframe thead th {\n",
       "        text-align: right;\n",
       "    }\n",
       "</style>\n",
       "<table border=\"1\" class=\"dataframe\">\n",
       "  <thead>\n",
       "    <tr style=\"text-align: right;\">\n",
       "      <th></th>\n",
       "      <th>date_playerId</th>\n",
       "      <th>target1_pred</th>\n",
       "      <th>target2_pred</th>\n",
       "      <th>target3_pred</th>\n",
       "      <th>target4_pred</th>\n",
       "      <th>playerId</th>\n",
       "      <th>engagementMetricsDate</th>\n",
       "      <th>target1</th>\n",
       "      <th>target2</th>\n",
       "      <th>target3</th>\n",
       "      <th>target4</th>\n",
       "    </tr>\n",
       "  </thead>\n",
       "  <tbody>\n",
       "    <tr>\n",
       "      <th>0</th>\n",
       "      <td>20210502_593590</td>\n",
       "      <td>9.094635e-35</td>\n",
       "      <td>0.022010</td>\n",
       "      <td>4.564615e-07</td>\n",
       "      <td>0.000000</td>\n",
       "      <td>593590</td>\n",
       "      <td>2021-05-02</td>\n",
       "      <td>0.000000</td>\n",
       "      <td>0.011553</td>\n",
       "      <td>0.000000</td>\n",
       "      <td>0.000000</td>\n",
       "    </tr>\n",
       "    <tr>\n",
       "      <th>1</th>\n",
       "      <td>20210502_661269</td>\n",
       "      <td>1.424111e-04</td>\n",
       "      <td>0.153377</td>\n",
       "      <td>2.215343e-03</td>\n",
       "      <td>0.122736</td>\n",
       "      <td>661269</td>\n",
       "      <td>2021-05-02</td>\n",
       "      <td>0.000136</td>\n",
       "      <td>0.107825</td>\n",
       "      <td>0.001989</td>\n",
       "      <td>0.085262</td>\n",
       "    </tr>\n",
       "    <tr>\n",
       "      <th>2</th>\n",
       "      <td>20210502_669212</td>\n",
       "      <td>9.094635e-35</td>\n",
       "      <td>0.076359</td>\n",
       "      <td>2.431893e-07</td>\n",
       "      <td>0.019451</td>\n",
       "      <td>669212</td>\n",
       "      <td>2021-05-02</td>\n",
       "      <td>0.000000</td>\n",
       "      <td>0.057763</td>\n",
       "      <td>0.000000</td>\n",
       "      <td>0.012180</td>\n",
       "    </tr>\n",
       "    <tr>\n",
       "      <th>3</th>\n",
       "      <td>20210502_666201</td>\n",
       "      <td>8.331406e-04</td>\n",
       "      <td>0.033023</td>\n",
       "      <td>4.679257e-04</td>\n",
       "      <td>0.224558</td>\n",
       "      <td>666201</td>\n",
       "      <td>2021-05-02</td>\n",
       "      <td>0.107086</td>\n",
       "      <td>0.061614</td>\n",
       "      <td>0.025851</td>\n",
       "      <td>0.816078</td>\n",
       "    </tr>\n",
       "    <tr>\n",
       "      <th>4</th>\n",
       "      <td>20210502_680911</td>\n",
       "      <td>6.600721e-05</td>\n",
       "      <td>0.021461</td>\n",
       "      <td>4.564615e-07</td>\n",
       "      <td>0.001166</td>\n",
       "      <td>680911</td>\n",
       "      <td>2021-05-02</td>\n",
       "      <td>0.000272</td>\n",
       "      <td>0.042360</td>\n",
       "      <td>0.000000</td>\n",
       "      <td>0.085262</td>\n",
       "    </tr>\n",
       "    <tr>\n",
       "      <th>...</th>\n",
       "      <td>...</td>\n",
       "      <td>...</td>\n",
       "      <td>...</td>\n",
       "      <td>...</td>\n",
       "      <td>...</td>\n",
       "      <td>...</td>\n",
       "      <td>...</td>\n",
       "      <td>...</td>\n",
       "      <td>...</td>\n",
       "      <td>...</td>\n",
       "      <td>...</td>\n",
       "    </tr>\n",
       "    <tr>\n",
       "      <th>36792</th>\n",
       "      <td>20210601_667674</td>\n",
       "      <td>6.625796e-05</td>\n",
       "      <td>0.103557</td>\n",
       "      <td>4.564615e-07</td>\n",
       "      <td>0.036709</td>\n",
       "      <td>667674</td>\n",
       "      <td>2021-06-01</td>\n",
       "      <td>0.000000</td>\n",
       "      <td>0.074042</td>\n",
       "      <td>0.000000</td>\n",
       "      <td>0.065641</td>\n",
       "    </tr>\n",
       "    <tr>\n",
       "      <th>36793</th>\n",
       "      <td>20210601_672695</td>\n",
       "      <td>0.000000e+00</td>\n",
       "      <td>0.118828</td>\n",
       "      <td>6.656482e-02</td>\n",
       "      <td>0.109303</td>\n",
       "      <td>672695</td>\n",
       "      <td>2021-06-01</td>\n",
       "      <td>0.000284</td>\n",
       "      <td>0.058617</td>\n",
       "      <td>0.119955</td>\n",
       "      <td>0.103151</td>\n",
       "    </tr>\n",
       "    <tr>\n",
       "      <th>36794</th>\n",
       "      <td>20210601_676103</td>\n",
       "      <td>0.000000e+00</td>\n",
       "      <td>0.108166</td>\n",
       "      <td>3.892366e-03</td>\n",
       "      <td>0.589636</td>\n",
       "      <td>676103</td>\n",
       "      <td>2021-06-01</td>\n",
       "      <td>0.000000</td>\n",
       "      <td>0.055532</td>\n",
       "      <td>0.003272</td>\n",
       "      <td>0.853338</td>\n",
       "    </tr>\n",
       "    <tr>\n",
       "      <th>36795</th>\n",
       "      <td>20210601_676755</td>\n",
       "      <td>9.094635e-35</td>\n",
       "      <td>0.174997</td>\n",
       "      <td>0.000000e+00</td>\n",
       "      <td>0.061617</td>\n",
       "      <td>676755</td>\n",
       "      <td>2021-06-01</td>\n",
       "      <td>0.000000</td>\n",
       "      <td>0.058617</td>\n",
       "      <td>0.000000</td>\n",
       "      <td>0.121905</td>\n",
       "    </tr>\n",
       "    <tr>\n",
       "      <th>36796</th>\n",
       "      <td>20210601_680430</td>\n",
       "      <td>9.094635e-35</td>\n",
       "      <td>0.144217</td>\n",
       "      <td>1.657787e-06</td>\n",
       "      <td>0.038104</td>\n",
       "      <td>680430</td>\n",
       "      <td>2021-06-01</td>\n",
       "      <td>0.000000</td>\n",
       "      <td>0.114148</td>\n",
       "      <td>0.000000</td>\n",
       "      <td>0.112528</td>\n",
       "    </tr>\n",
       "  </tbody>\n",
       "</table>\n",
       "<p>36797 rows × 11 columns</p>\n",
       "</div>"
      ]
     },
     "metadata": {},
     "execution_count": 19
    }
   ],
   "metadata": {}
  },
  {
   "cell_type": "code",
   "execution_count": 20,
   "source": [
    "score = []\n",
    "for i in CFG.TARGETS:\n",
    "    pred = prediction_df[f\"{i}_pred\"]\n",
    "    true = prediction_df[i]\n",
    "    mae = mean_absolute_error(pred, true)\n",
    "    print(f\"{i} mae : {mae}\")\n",
    "    score.append(mae)\n",
    "\n",
    "print(f\"MCMAE:{np.mean(score)}\")"
   ],
   "outputs": [
    {
     "output_type": "stream",
     "name": "stdout",
     "text": [
      "target1 mae : 1.1099368471972408\n",
      "target2 mae : 2.1605904409972823\n",
      "target3 mae : 0.8679255678679777\n",
      "target4 mae : 1.2152237353556115\n",
      "MCMAE:1.3384191478545282\n"
     ]
    }
   ],
   "metadata": {}
  },
  {
   "cell_type": "code",
   "execution_count": null,
   "source": [],
   "outputs": [],
   "metadata": {}
  }
 ],
 "metadata": {
  "orig_nbformat": 4,
  "language_info": {
   "name": "python",
   "version": "3.8.8",
   "mimetype": "text/x-python",
   "codemirror_mode": {
    "name": "ipython",
    "version": 3
   },
   "pygments_lexer": "ipython3",
   "nbconvert_exporter": "python",
   "file_extension": ".py"
  },
  "kernelspec": {
   "name": "python3",
   "display_name": "Python 3.8.8 64-bit ('.venv': poetry)"
  },
  "interpreter": {
   "hash": "49e542643694108dbc7cdf9f60531ad0f8dd36c5e7a125d96861557f43e4f65e"
  }
 },
 "nbformat": 4,
 "nbformat_minor": 2
}