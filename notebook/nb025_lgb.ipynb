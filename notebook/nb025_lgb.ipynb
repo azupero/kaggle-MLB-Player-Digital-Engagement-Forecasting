{
 "cells": [
  {
   "cell_type": "markdown",
   "source": [
    "# Overview\n",
    "- LightGBM"
   ],
   "metadata": {}
  },
  {
   "cell_type": "code",
   "execution_count": null,
   "source": [
    "import numpy as np\n",
    "import pandas as pd\n",
    "from pathlib import Path\n",
    "from sklearn.metrics import mean_absolute_error\n",
    "from datetime import timedelta\n",
    "from tqdm.notebook import tqdm\n",
    "import lightgbm as lgb\n",
    "from typing import List, Union, Optional\n",
    "import time\n",
    "from contextlib import contextmanager\n",
    "import sys\n",
    "import logging\n",
    "import category_encoders as ce\n",
    "import plotly\n",
    "from plotly import express as px\n",
    "from scipy.stats import norm\n",
    "# from optuna.integration import lightgbm as lgb\n",
    "# import mlb\n",
    "import os\n",
    "import warnings\n",
    "from typing import Optional, Tuple\n",
    "from tqdm.notebook import tqdm\n",
    "from collections import defaultdict\n",
    "\n",
    "pd.options.display.max_columns = 200\n",
    "\n",
    "DEBUG = False"
   ],
   "outputs": [],
   "metadata": {}
  },
  {
   "cell_type": "markdown",
   "source": [
    "## Config"
   ],
   "metadata": {}
  },
  {
   "cell_type": "code",
   "execution_count": null,
   "source": [
    "# class CFG:\n",
    "#     ######################\n",
    "#     # global #\n",
    "#     ######################\n",
    "#     INPUT_DIR = \"../input/mlb-player-digital-engagement-forecasting\"\n",
    "#     # INPUT_DIR = \"../input/mlb-unnested-dataset-v2\" # for kaggle kernel\n",
    "#     OBJECT_ID = [\"playerId\", \"date\"]\n",
    "#     TARGETS = [\"target1\", \"target2\", \"target3\", \"target4\"]\n",
    "#     ######################\n",
    "#     # model #\n",
    "#     ######################\n",
    "#     # target1\n",
    "#     LGB_TARGET1_PARAMS = {\n",
    "#         \"objective\": \"mae\",\n",
    "#         \"metric\": \"l1\",\n",
    "#         \"boosting_type\": \"gbdt\",\n",
    "#         \"learning_rate\": 0.1,\n",
    "#         \"max_depth\": 6,\n",
    "#         \"num_leaves\": 64,\n",
    "#         \"lambda_l1\": 0.17484677266606874,\n",
    "#         \"lambda_l2\": 0.6844652737530655,\n",
    "#         \"bagging_fraction\": 0.42972410695670027,\n",
    "#         \"bagging_freq\": 4,\n",
    "#         \"feature_fraction\": 0.9799999999999999,\n",
    "#         \"min_data_in_leaf\": 20,\n",
    "#         \"num_threads\": 8,\n",
    "#         \"verbosity\": -1,\n",
    "#         \"num_iterations\": 10000,\n",
    "#         \"early_stopping_round\": 100,\n",
    "#     }\n",
    "#     # target2\n",
    "#     LGB_TARGET2_PARAMS = {\n",
    "#         \"objective\": \"mae\",\n",
    "#         \"metric\": \"l1\",\n",
    "#         \"boosting_type\": \"gbdt\",\n",
    "#         \"learning_rate\": 0.1,\n",
    "#         \"max_depth\": 6,\n",
    "#         \"num_leaves\": 64,\n",
    "#         \"lambda_l1\": 6.622946832036268e-08,\n",
    "#         \"lambda_l2\": 3.432487952682862,\n",
    "#         \"bagging_fraction\": 0.623104049167172,\n",
    "#         \"bagging_freq\": 4,\n",
    "#         \"feature_fraction\": 1.0,\n",
    "#         \"min_data_in_leaf\": 20,\n",
    "#         \"num_threads\": 8,\n",
    "#         \"verbosity\": -1,\n",
    "#         \"num_iterations\": 10000,\n",
    "#         \"early_stopping_round\": 100,\n",
    "#     }\n",
    "#     # target3\n",
    "#     LGB_TARGET3_PARAMS = {\n",
    "#         \"objective\": \"mae\",\n",
    "#         \"metric\": \"l1\",\n",
    "#         \"boosting_type\": \"gbdt\",\n",
    "#         \"learning_rate\": 0.1,\n",
    "#         \"max_depth\": 6,\n",
    "#         \"num_leaves\": 57,\n",
    "#         \"lambda_l1\": 0.0011093571794053496,\n",
    "#         \"lambda_l2\": 2.1716397278227532e-07,\n",
    "#         \"bagging_fraction\": 1.0,\n",
    "#         \"bagging_freq\": 0,\n",
    "#         \"feature_fraction\": 1.0,\n",
    "#         \"min_data_in_leaf\": 100,\n",
    "#         \"num_threads\": 8,\n",
    "#         \"verbosity\": -1,\n",
    "#         \"num_iterations\": 10000,\n",
    "#         \"early_stopping_round\": 100,\n",
    "#     }\n",
    "#     # target4\n",
    "#     LGB_TARGET4_PARAMS = {\n",
    "#         \"objective\": \"mae\",\n",
    "#         \"metric\": \"l1\",\n",
    "#         \"boosting_type\": \"gbdt\",\n",
    "#         \"learning_rate\": 0.1,\n",
    "#         \"max_depth\": 6,\n",
    "#         \"num_leaves\": 60,\n",
    "#         \"lambda_l1\": 0.0,\n",
    "#         \"lambda_l2\": 0.0,\n",
    "#         \"bagging_fraction\": 0.40678529508780487,\n",
    "#         \"bagging_freq\": 5,\n",
    "#         \"feature_fraction\": 0.44800000000000006,\n",
    "#         \"min_data_in_leaf\": 20,\n",
    "#         \"num_threads\": 8,\n",
    "#         \"verbosity\": -1,\n",
    "#         \"num_iterations\": 10000,\n",
    "#         \"early_stopping_round\": 100,\n",
    "#     }\n",
    "#     SEEDS = [2434]\n",
    "#     MODEL_PATH = \"../output/nb025\"\n",
    "#     # MODEL_PATH = \"../input/mlb-nb025-lgb-weights\" # for kaggle kernel"
   ],
   "outputs": [],
   "metadata": {}
  },
  {
   "cell_type": "code",
   "execution_count": null,
   "source": [
    "class CFG:\n",
    "    ######################\n",
    "    # global #\n",
    "    ######################\n",
    "    INPUT_DIR = \"../input/mlb-player-digital-engagement-forecasting\"\n",
    "    # INPUT_DIR = \"../input/mlb-unnested-dataset-v2\" # for kaggle kernel\n",
    "    OBJECT_ID = [\"playerId\", \"date\"]\n",
    "    TARGETS = [\"target1\", \"target2\", \"target3\", \"target4\"]\n",
    "    ######################\n",
    "    # model #\n",
    "    ######################\n",
    "    # target1\n",
    "    LGB_TARGET1_PARAMS = {\n",
    "        \"objective\": \"mae\",\n",
    "        \"metric\": \"l1\",\n",
    "        \"boosting_type\": \"gbdt\",\n",
    "        \"learning_rate\": 0.1,\n",
    "        \"max_depth\": 6,\n",
    "        \"num_leaves\": 54,\n",
    "        \"lambda_l1\": 1.8294424356946235e-07,\n",
    "        \"lambda_l2\": 8.269494679852943e-05,\n",
    "        \"bagging_fraction\": 0.9311050425278897,\n",
    "        \"bagging_freq\": 2,\n",
    "        \"feature_fraction\": 0.9840000000000001,\n",
    "        \"min_data_in_leaf\": 20,\n",
    "        \"num_threads\": 8,\n",
    "        \"verbosity\": -1,\n",
    "        \"num_iterations\": 10000,\n",
    "        \"early_stopping_round\": 100,\n",
    "    }\n",
    "    # target2\n",
    "    LGB_TARGET2_PARAMS = {\n",
    "        \"objective\": \"mae\",\n",
    "        \"metric\": \"l1\",\n",
    "        \"boosting_type\": \"gbdt\",\n",
    "        \"learning_rate\": 0.1,\n",
    "        \"max_depth\": 6,\n",
    "        \"num_leaves\": 14,\n",
    "        \"lambda_l1\": 4.379035512071324e-06,\n",
    "        \"lambda_l2\": 5.940520594400555e-05,\n",
    "        \"bagging_fraction\": 1.0,\n",
    "        \"bagging_freq\": 0,\n",
    "        \"feature_fraction\": 0.5,\n",
    "        \"min_data_in_leaf\": 20,\n",
    "        \"num_threads\": 8,\n",
    "        \"verbosity\": -1,\n",
    "        \"num_iterations\": 10000,\n",
    "        \"early_stopping_round\": 100,\n",
    "    }\n",
    "    # target3\n",
    "    LGB_TARGET3_PARAMS = {\n",
    "        \"objective\": \"mae\",\n",
    "        \"metric\": \"l1\",\n",
    "        \"boosting_type\": \"gbdt\",\n",
    "        \"learning_rate\": 0.1,\n",
    "        \"max_depth\": 6,\n",
    "        \"num_leaves\": 64,\n",
    "        \"lambda_l1\": 0.011234793539671765,\n",
    "        \"lambda_l2\": 4.766835836661758e-06,\n",
    "        \"bagging_fraction\": 0.8841726515054378,\n",
    "        \"bagging_freq\": 3,\n",
    "        \"feature_fraction\": 1.0,\n",
    "        \"min_data_in_leaf\": 100,\n",
    "        \"num_threads\": 8,\n",
    "        \"verbosity\": -1,\n",
    "        \"num_iterations\": 10000,\n",
    "        \"early_stopping_round\": 100,\n",
    "    }\n",
    "    # target4\n",
    "    LGB_TARGET4_PARAMS = {\n",
    "        \"objective\": \"mae\",\n",
    "        \"metric\": \"l1\",\n",
    "        \"boosting_type\": \"gbdt\",\n",
    "        \"learning_rate\": 0.1,\n",
    "        \"max_depth\": 6,\n",
    "        \"num_leaves\": 51,\n",
    "        \"lambda_l1\": 5.506356543008336,\n",
    "        \"lambda_l2\": 9.683199146595637,\n",
    "        \"bagging_fraction\": 0.7376768451562011,\n",
    "        \"bagging_freq\": 2,\n",
    "        \"feature_fraction\": 0.5,\n",
    "        \"min_data_in_leaf\": 20,\n",
    "        \"num_threads\": 8,\n",
    "        \"verbosity\": -1,\n",
    "        \"num_iterations\": 10000,\n",
    "        \"early_stopping_round\": 100,\n",
    "    }\n",
    "    SEEDS = [2434, 98]\n",
    "    MODEL_PATH = \"../output/nb025\"\n",
    "    # MODEL_PATH = \"../input/mlb-nb025-lgb-weights\" # for kaggle kernel"
   ],
   "outputs": [],
   "metadata": {}
  },
  {
   "cell_type": "markdown",
   "source": [
    "## Utils"
   ],
   "metadata": {}
  },
  {
   "cell_type": "code",
   "execution_count": null,
   "source": [
    "def get_logger(out_file=None):\n",
    "    logger = logging.getLogger()  # loggerの呼び出し\n",
    "    formatter = logging.Formatter(\"[%(asctime)s] [%(levelname)s] [%(message)s]\")  # ログ出力の際のフォーマットを定義\n",
    "    logger.handlers = []  # ハンドラーを追加するためのリスト\n",
    "    logger.setLevel(logging.INFO)  # ロギングのレベルを設定, 'INFO' : 想定された通りのことが起こったことの確認\n",
    "\n",
    "    handler = logging.StreamHandler(sys.stdout)  # StreamHandler(コンソールに出力するハンドラ)を追加\n",
    "    handler.setFormatter(formatter)\n",
    "    handler.setLevel(logging.INFO)\n",
    "    logger.addHandler(handler)\n",
    "\n",
    "    # ログをファイルとして出力する際のハンドラ(FileHandler)\n",
    "    if out_file is not None:\n",
    "        fh = logging.FileHandler(out_file)\n",
    "        fh.setFormatter(formatter)\n",
    "        fh.setLevel(logging.INFO)\n",
    "        logger.addHandler(fh)\n",
    "\n",
    "    logger.info(\"logger set up\")  # \"logger set up\"を表示\n",
    "    return logger\n",
    "\n",
    "\n",
    "@contextmanager\n",
    "def timer(name: str, logger: Optional[logging.Logger] = None):\n",
    "    t0 = time.time()\n",
    "    msg = f\"<{name}> start\"\n",
    "    if logger is None:\n",
    "        print(msg)\n",
    "    else:\n",
    "        logger.info(msg)\n",
    "    yield\n",
    "\n",
    "    msg = f\"<{name}> done in {time.time() - t0:.2f} s\"\n",
    "    if logger is None:\n",
    "        print(msg)\n",
    "    else:\n",
    "        logger.info(msg)\n",
    "\n",
    "\n",
    "def reduce_mem_usage(df, verbose=True):\n",
    "    numerics = ['int16', 'int32', 'int64', 'float16', 'float32', 'float64']\n",
    "    start_mem = df.memory_usage().sum() / 1024**2\n",
    "    for col in df.columns:\n",
    "        col_type = df[col].dtypes\n",
    "        if col_type in numerics:\n",
    "            c_min = df[col].min()\n",
    "            c_max = df[col].max()\n",
    "            if str(col_type)[:3] == 'int':\n",
    "                if c_min > np.iinfo(np.int8).min and c_max < np.iinfo(np.int8).max:\n",
    "                    df[col] = df[col].astype(np.int16)\n",
    "                elif c_min > np.iinfo(np.int16).min and c_max < np.iinfo(np.int16).max:\n",
    "                    df[col] = df[col].astype(np.int32)\n",
    "                elif c_min > np.iinfo(np.int32).min and c_max < np.iinfo(np.int32).max:\n",
    "                    df[col] = df[col].astype(np.int64)\n",
    "                elif c_min > np.iinfo(np.int64).min and c_max < np.iinfo(np.int64).max:\n",
    "                    df[col] = df[col].astype(np.int64)\n",
    "            else:\n",
    "                if c_min > np.finfo(np.float16).min and c_max < np.finfo(np.float16).max:\n",
    "                    df[col] = df[col].astype(np.float32)\n",
    "                elif c_min > np.finfo(np.float32).min and c_max < np.finfo(np.float32).max:\n",
    "                    df[col] = df[col].astype(np.float64)\n",
    "                else:\n",
    "                    df[col] = df[col].astype(np.float64)\n",
    "    end_mem = df.memory_usage().sum() / 1024**2\n",
    "    if verbose: print('Mem. usage decreased to {:5.2f} Mb ({:.1f}% reduction)'.format(end_mem, 100 * (start_mem - end_mem) / start_mem))\n",
    "    return df"
   ],
   "outputs": [],
   "metadata": {}
  },
  {
   "cell_type": "markdown",
   "source": [
    "## Loading dataset"
   ],
   "metadata": {}
  },
  {
   "cell_type": "code",
   "execution_count": null,
   "source": [
    "class MLBDataset(object):\n",
    "    def __init__(self, input_path):\n",
    "        self.input_path = Path(input_path)\n",
    "        #################\n",
    "        # train #\n",
    "        #################\n",
    "        self.train_next = pd.read_pickle(self.input_path / \"train_updated_nextDayPlayerEngagement.pickle\")\n",
    "        self.train_rosters = pd.read_pickle(self.input_path / \"train_updated_rosters.pickle\")\n",
    "        self.train_ptf = pd.read_pickle(self.input_path / \"train_updated_playerTwitterFollowers.pickle\")\n",
    "        self.train_scores = pd.read_pickle(self.input_path / \"train_updated_playerBoxScores.pickle\")\n",
    "        self.train_games = pd.read_pickle(self.input_path / \"train_updated_games.pickle\")\n",
    "        self.train_standings = pd.read_pickle(self.input_path / \"train_updated_standings.pickle\")\n",
    "        self.train_tbs = pd.read_pickle(self.input_path / \"train_updated_teamBoxScores.pickle\")\n",
    "        self.train_ttf = pd.read_pickle(self.input_path / \"train_updated_teamTwitterFollowers.pickle\")\n",
    "        self.train_trans = pd.read_pickle(self.input_path / \"train_updated_transactions.pickle\")\n",
    "        self.train_awards = pd.read_pickle(self.input_path / \"train_updated_awards.pickle\")\n",
    "        self.train_events = pd.read_pickle(self.input_path / \"train_updated_events.pickle\")\n",
    "        #################\n",
    "        # Additional #\n",
    "        #################\n",
    "        self.players = pd.read_pickle(self.input_path / \"players.pickle\")\n",
    "        self.awards = pd.read_pickle(self.input_path / \"awards.pickle\")\n",
    "        self.seasons = pd.read_pickle(self.input_path / \"seasons.pickle\")\n",
    "        self.teams = pd.read_pickle(self.input_path / \"teams.pickle\")\n",
    "        #################\n",
    "        # test #\n",
    "        #################\n",
    "        self.example_test = pd.read_csv(self.input_path / \"example_test.csv\")\n",
    "        self.sample_submission = pd.read_csv(self.input_path / \"example_sample_submission.csv\")\n",
    "\n",
    "        # # only players in test set\n",
    "        # target_playerids = self.players[self.players[\"playerForTestSetAndFuturePreds\"] == True][\"playerId\"].unique()\n",
    "        # self.train_next = self.train_next[self.train_next[\"playerId\"].isin(target_playerids)].reset_index(drop=True)\n",
    "\n",
    "mlb_train_ds = MLBDataset(CFG.INPUT_DIR)"
   ],
   "outputs": [],
   "metadata": {}
  },
  {
   "cell_type": "markdown",
   "source": [
    "## Feature blocks"
   ],
   "metadata": {}
  },
  {
   "cell_type": "code",
   "execution_count": null,
   "source": [
    "def merge_by_key(left: Union[pd.DataFrame, pd.Series], right: pd.DataFrame, on=CFG.OBJECT_ID) -> pd.DataFrame:\n",
    "    if not isinstance(left, pd.Series):\n",
    "        left = left[on]\n",
    "    return pd.merge(left, right, on=on, how=\"left\").drop(columns=on)\n",
    "\n",
    "\n",
    "class BaseBlock(object):\n",
    "    def fit(self, input_df: pd.DataFrame, y=None) -> pd.DataFrame:\n",
    "        return self.transform(input_df)\n",
    "\n",
    "    def transform(self, input_df: pd.DataFrame) -> pd.DataFrame:\n",
    "        return NotImplementedError()\n",
    "\n",
    "\n",
    "def quantile25(x: pd.Series):\n",
    "    return x.quantile(q=0.25)\n",
    "\n",
    "\n",
    "def quantile75(x: pd.Series):\n",
    "    return x.quantile(q=0.75)\n",
    "\n",
    "\n",
    "def prob(x: pd.Series):\n",
    "    x = x.reset_index(drop=True).values.tolist()\n",
    "    mean = np.mean(x)\n",
    "    std = np.std(x)\n",
    "    distribution = norm(mean, std)\n",
    "    min_weight = min(x)\n",
    "    max_weight = max(x)\n",
    "    values = list(np.linspace(min_weight, max_weight, len(x)))\n",
    "    probabilities = [distribution.pdf(v) for v in values]\n",
    "    max_values = max(probabilities)\n",
    "    max_index = probabilities.index(max_values)\n",
    "\n",
    "    return x[max_index]\n",
    "\n",
    "\n",
    "class TargetAggregateBlock(BaseBlock):\n",
    "    def __init__(self, periods: List[int]):\n",
    "        self.periods = periods\n",
    "        \n",
    "    def fit(\n",
    "        self,\n",
    "        input_df: pd.DataFrame,\n",
    "        target_df: pd.DataFrame,\n",
    "        rosters_df: pd.DataFrame,\n",
    "        playerBoxScores_df: pd.DataFrame,\n",
    "        standings_df: pd.DataFrame,\n",
    "        playerTwitterFollowers_df: pd.DataFrame,\n",
    "        teamTwitterFollowers_df: pd.DataFrame,\n",
    "        only_fit: bool,\n",
    "    ):\n",
    "        output_df = pd.DataFrame()\n",
    "        for i in self.periods:\n",
    "            _target_df = target_df[(target_df[\"date\"] >= i) & (target_df[\"date\"] < (i + 100))].copy()\n",
    "\n",
    "            cols = _target_df.drop(columns=[\"date\", \"engagementMetricsDate\", \"playerId\"], axis=1).columns.tolist()\n",
    "            dfs = [_target_df.groupby([\"playerId\"])[col].agg([\n",
    "                \"mean\", \"std\", \"max\", \"min\", \"median\", quantile25, quantile75, prob\n",
    "                ]).add_prefix(f\"{col}_{str(i)[:-2]}_\") for col in cols]\n",
    "            tmp_df = pd.concat(dfs, axis=1)\n",
    "            output_df = pd.concat([output_df, tmp_df], axis=1)\n",
    "\n",
    "            del _target_df, dfs, tmp_df\n",
    "\n",
    "        self.agg_df = output_df.reset_index()\n",
    "\n",
    "        if only_fit == False:\n",
    "            return self.transform(\n",
    "                input_df,\n",
    "                target_df,\n",
    "                rosters_df,\n",
    "                playerBoxScores_df,\n",
    "                standings_df,\n",
    "                playerTwitterFollowers_df,\n",
    "                teamTwitterFollowers_df\n",
    "            )\n",
    "\n",
    "    def transform(\n",
    "        self,\n",
    "        input_df: pd.DataFrame,\n",
    "        target_df: pd.DataFrame,\n",
    "        rosters_df: pd.DataFrame,\n",
    "        playerBoxScores_df: pd.DataFrame,\n",
    "        standings_df: pd.DataFrame,\n",
    "        playerTwitterFollowers_df: pd.DataFrame,\n",
    "        teamTwitterFollowers_df: pd.DataFrame\n",
    "    ):\n",
    "        return merge_by_key(input_df, self.agg_df, on=\"playerId\")\n",
    "\n",
    "\n",
    "class PlayersLabelEncodingBlock(BaseBlock):\n",
    "    def __init__(self, columns: List[str]):\n",
    "        self.columns = columns + [\"playerId\"]\n",
    "        self.players_df = mlb_train_ds.players.copy()\n",
    "        self.players_df[\"DOB_year\"] = pd.to_datetime(self.players_df[\"DOB\"]).dt.year\n",
    "        self.players_df[\"playerAge\"] = 2021 - self.players_df[\"DOB_year\"]\n",
    "        self.labeled_df = self.players_df[self.columns].copy()\n",
    "        self.labeled_df[\"playerid\"] = self.labeled_df[\"playerId\"]\n",
    "        self.columns = self.columns + [\"playerid\"]\n",
    "        self.encoder = None\n",
    "    \n",
    "    def fit(\n",
    "        self,\n",
    "        input_df: pd.DataFrame,\n",
    "        target_df: pd.DataFrame,\n",
    "        rosters_df: pd.DataFrame,\n",
    "        playerBoxScores_df: pd.DataFrame,\n",
    "        standings_df: pd.DataFrame,\n",
    "        playerTwitterFollowers_df: pd.DataFrame,\n",
    "        teamTwitterFollowers_df: pd.DataFrame,\n",
    "        only_fit: bool\n",
    "    ):\n",
    "        self.encoder = ce.OrdinalEncoder(handle_unknown=\"value\", handle_missing=\"values\")\n",
    "        self.encoder.fit(self.labeled_df[self.columns])\n",
    "        self.labeled_df[self.columns] = self.encoder.transform(self.labeled_df[self.columns])\n",
    "\n",
    "        if only_fit == False:\n",
    "            return self.transform(\n",
    "                input_df,\n",
    "                target_df,\n",
    "                rosters_df,\n",
    "                playerBoxScores_df,\n",
    "                standings_df,\n",
    "                playerTwitterFollowers_df,\n",
    "                teamTwitterFollowers_df\n",
    "            )\n",
    "\n",
    "    def transform(\n",
    "        self,\n",
    "        input_df: pd.DataFrame,\n",
    "        target_df: pd.DataFrame,\n",
    "        rosters_df: pd.DataFrame,\n",
    "        playerBoxScores_df: pd.DataFrame,\n",
    "        standings_df: pd.DataFrame,\n",
    "        playerTwitterFollowers_df: pd.DataFrame,\n",
    "        teamTwitterFollowers_df: pd.DataFrame\n",
    "    ):\n",
    "        return merge_by_key(input_df, self.labeled_df, on=\"playerId\").add_prefix(\"Players_LE_\")\n",
    "\n",
    "\n",
    "class RostersLabelEncodingBlock(BaseBlock):\n",
    "    def __init__(self, columns: List[str]):\n",
    "        self.columns = columns\n",
    "        self.encoder = None\n",
    "\n",
    "    def fit(\n",
    "        self,\n",
    "        input_df: pd.DataFrame,\n",
    "        target_df: pd.DataFrame,\n",
    "        rosters_df: pd.DataFrame,\n",
    "        playerBoxScores_df: pd.DataFrame,\n",
    "        standings_df: pd.DataFrame,\n",
    "        playerTwitterFollowers_df: pd.DataFrame,\n",
    "        teamTwitterFollowers_df: pd.DataFrame,\n",
    "        only_fit: bool\n",
    "    ):\n",
    "        self.encoder = ce.OrdinalEncoder(handle_unknown=\"value\", handle_missing=\"value\")\n",
    "        self.encoder.fit(rosters_df[self.columns])\n",
    "\n",
    "        if only_fit == False:\n",
    "            return self.transform(\n",
    "                input_df,\n",
    "                target_df,\n",
    "                rosters_df,\n",
    "                playerBoxScores_df,\n",
    "                standings_df,\n",
    "                playerTwitterFollowers_df,\n",
    "                teamTwitterFollowers_df\n",
    "            )\n",
    "\n",
    "    def transform(\n",
    "        self,\n",
    "        input_df: pd.DataFrame,\n",
    "        target_df: pd.DataFrame,\n",
    "        rosters_df: pd.DataFrame,\n",
    "        playerBoxScores_df: pd.DataFrame,\n",
    "        standings_df: pd.DataFrame,\n",
    "        playerTwitterFollowers_df: pd.DataFrame,\n",
    "        teamTwitterFollowers_df: pd.DataFrame,\n",
    "    ):\n",
    "        self.labeled_df = rosters_df[CFG.OBJECT_ID + self.columns].copy()\n",
    "        self.labeled_df[self.columns] = self.encoder.transform(self.labeled_df[self.columns])\n",
    "\n",
    "        return merge_by_key(input_df, self.labeled_df).add_prefix(\"Rosters_LE_\")\n",
    "\n",
    "\n",
    "class PlayerStatsBlock(BaseBlock):\n",
    "    def __init__(self, columns):\n",
    "        self.columns = columns\n",
    "        # game info\n",
    "        self.feat_home_dict = defaultdict(lambda: defaultdict(lambda: defaultdict(int)))\n",
    "        self.feat_home_cum_dict = defaultdict(lambda: defaultdict(lambda: defaultdict(int)))\n",
    "        self.feat_positionCode_dict = defaultdict(lambda: defaultdict(lambda: defaultdict(int)))\n",
    "        self.feat_battingOrder_dict = defaultdict(lambda: defaultdict(lambda: defaultdict(int)))\n",
    "        # batting\n",
    "        self.feat_gamesPlayedBatting_dict = defaultdict(lambda: defaultdict(lambda: defaultdict(int)))\n",
    "        self.feat_gamesPlayedBatting_cum_dict = defaultdict(lambda: defaultdict(lambda: defaultdict(int)))\n",
    "        self.feat_plateAppearances_dict = defaultdict(lambda: defaultdict(lambda: defaultdict(int)))\n",
    "        self.feat_plateAppearances_cum_dict = defaultdict(lambda: defaultdict(lambda: defaultdict(int)))\n",
    "        self.feat_atBats_dict = defaultdict(lambda: defaultdict(lambda: defaultdict(int)))\n",
    "        self.feat_atBats_cum_dict = defaultdict(lambda: defaultdict(lambda: defaultdict(int)))\n",
    "        self.feat_hits_dict = defaultdict(lambda: defaultdict(lambda: defaultdict(int)))\n",
    "        self.feat_hits_cum_dict = defaultdict(lambda: defaultdict(lambda: defaultdict(int)))\n",
    "        self.feat_doubles_dict = defaultdict(lambda: defaultdict(lambda: defaultdict(int)))\n",
    "        self.feat_doubles_cum_dict = defaultdict(lambda: defaultdict(lambda: defaultdict(int)))\n",
    "        self.feat_triples_dict = defaultdict(lambda: defaultdict(lambda: defaultdict(int)))\n",
    "        self.feat_triples_cum_dict = defaultdict(lambda: defaultdict(lambda: defaultdict(int)))\n",
    "        self.feat_homeRuns_dict = defaultdict(lambda: defaultdict(lambda: defaultdict(int)))\n",
    "        self.feat_homeRuns_cum_dict = defaultdict(lambda: defaultdict(lambda: defaultdict(int)))\n",
    "        self.feat_rbi_dict = defaultdict(lambda: defaultdict(lambda: defaultdict(int)))\n",
    "        self.feat_rbi_cum_dict = defaultdict(lambda: defaultdict(lambda: defaultdict(int)))\n",
    "        self.feat_runsScored_dict = defaultdict(lambda: defaultdict(lambda: defaultdict(int)))\n",
    "        self.feat_runsScored_cum_dict = defaultdict(lambda: defaultdict(lambda: defaultdict(int)))\n",
    "        self.feat_totalBases_dict = defaultdict(lambda: defaultdict(lambda: defaultdict(int)))\n",
    "        self.feat_totalBases_cum_dict = defaultdict(lambda: defaultdict(lambda: defaultdict(int)))\n",
    "        self.feat_baseOnBalls_dict = defaultdict(lambda: defaultdict(lambda: defaultdict(int)))\n",
    "        self.feat_baseOnBalls_cum_dict = defaultdict(lambda: defaultdict(lambda: defaultdict(int)))\n",
    "        self.feat_hitByPitch_dict = defaultdict(lambda: defaultdict(lambda: defaultdict(int)))\n",
    "        self.feat_hitByPitch_cum_dict = defaultdict(lambda: defaultdict(lambda: defaultdict(int)))\n",
    "        self.feat_intentionalWalks_dict = defaultdict(lambda: defaultdict(lambda: defaultdict(int)))\n",
    "        self.feat_intentionalWalks_cum_dict = defaultdict(lambda: defaultdict(lambda: defaultdict(int)))\n",
    "        self.feat_groundIntoDoublePlay_dict = defaultdict(lambda: defaultdict(lambda: defaultdict(int)))\n",
    "        self.feat_groundIntoDoublePlay_cum_dict = defaultdict(lambda: defaultdict(lambda: defaultdict(int)))\n",
    "        self.feat_groundIntoTriplePlay_dict = defaultdict(lambda: defaultdict(lambda: defaultdict(int)))\n",
    "        self.feat_groundIntoTriplePlay_cum_dict = defaultdict(lambda: defaultdict(lambda: defaultdict(int)))\n",
    "        self.feat_strikeOuts_dict = defaultdict(lambda: defaultdict(lambda: defaultdict(int)))\n",
    "        self.feat_strikeOuts_cum_dict = defaultdict(lambda: defaultdict(lambda: defaultdict(int)))\n",
    "        self.feat_sacBunts_dict = defaultdict(lambda: defaultdict(lambda: defaultdict(int)))\n",
    "        self.feat_sacBunts_cum_dict = defaultdict(lambda: defaultdict(lambda: defaultdict(int)))\n",
    "        self.feat_sacFlies_dict = defaultdict(lambda: defaultdict(lambda: defaultdict(int)))\n",
    "        self.feat_sacFlies_cum_dict = defaultdict(lambda: defaultdict(lambda: defaultdict(int)))\n",
    "        self.feat_caughtStealing_dict = defaultdict(lambda: defaultdict(lambda: defaultdict(int)))\n",
    "        self.feat_caughtStealing_cum_dict = defaultdict(lambda: defaultdict(lambda: defaultdict(int)))\n",
    "        self.feat_stolenBases_dict = defaultdict(lambda: defaultdict(lambda: defaultdict(int)))\n",
    "        self.feat_stolenBases_cum_dict = defaultdict(lambda: defaultdict(lambda: defaultdict(int)))\n",
    "        self.feat_leftOnBase_dict = defaultdict(lambda: defaultdict(lambda: defaultdict(int)))\n",
    "        self.feat_leftOnBase_cum_dict = defaultdict(lambda: defaultdict(lambda: defaultdict(int)))\n",
    "        self.feat_catchersInterference_dict = defaultdict(lambda: defaultdict(lambda: defaultdict(int)))\n",
    "        self.feat_catchersInterference_cum_dict = defaultdict(lambda: defaultdict(lambda: defaultdict(int)))\n",
    "        self.feat_pickoffs_dict = defaultdict(lambda: defaultdict(lambda: defaultdict(int)))\n",
    "        self.feat_pickoffs_cum_dict = defaultdict(lambda: defaultdict(lambda: defaultdict(int)))\n",
    "        self.feat_flyOuts_dict = defaultdict(lambda: defaultdict(lambda: defaultdict(int)))\n",
    "        self.feat_flyOuts_cum_dict = defaultdict(lambda: defaultdict(lambda: defaultdict(int)))\n",
    "        self.feat_groundOuts_dict = defaultdict(lambda: defaultdict(lambda: defaultdict(int)))\n",
    "        self.feat_groundOuts_cum_dict = defaultdict(lambda: defaultdict(lambda: defaultdict(int)))\n",
    "        # pitching\n",
    "        self.feat_gamesPlayedPitching_dict = defaultdict(lambda: defaultdict(lambda: defaultdict(int)))\n",
    "        self.feat_gamesPlayedPitching_cum_dict = defaultdict(lambda: defaultdict(lambda: defaultdict(int)))\n",
    "        self.feat_gamesStartedPitching_dict = defaultdict(lambda: defaultdict(lambda: defaultdict(int)))\n",
    "        self.feat_gamesStartedPitching_cum_dict = defaultdict(lambda: defaultdict(lambda: defaultdict(int)))\n",
    "        self.feat_winsPitching_dict = defaultdict(lambda: defaultdict(lambda: defaultdict(int)))\n",
    "        self.feat_winsPitching_cum_dict = defaultdict(lambda: defaultdict(lambda: defaultdict(int)))\n",
    "        self.feat_lossesPitching_dict = defaultdict(lambda: defaultdict(lambda: defaultdict(int)))\n",
    "        self.feat_lossesPitching_cum_dict = defaultdict(lambda: defaultdict(lambda: defaultdict(int)))\n",
    "        self.feat_completeGamesPitching_dict = defaultdict(lambda: defaultdict(lambda: defaultdict(int)))\n",
    "        self.feat_completeGamesPitching_cum_dict = defaultdict(lambda: defaultdict(lambda: defaultdict(int)))\n",
    "        self.feat_shutoutsPitching_dict = defaultdict(lambda: defaultdict(lambda: defaultdict(int)))\n",
    "        self.feat_shutoutsPitching_cum_dict = defaultdict(lambda: defaultdict(lambda: defaultdict(int)))\n",
    "        self.feat_saves_dict = defaultdict(lambda: defaultdict(lambda: defaultdict(int)))\n",
    "        self.feat_saves_cum_dict = defaultdict(lambda: defaultdict(lambda: defaultdict(int)))\n",
    "        self.feat_saveOpportunities_dict = defaultdict(lambda: defaultdict(lambda: defaultdict(int)))\n",
    "        self.feat_saveOpportunities_cum_dict = defaultdict(lambda: defaultdict(lambda: defaultdict(int)))\n",
    "        self.feat_blownSaves_dict = defaultdict(lambda: defaultdict(lambda: defaultdict(int)))\n",
    "        self.feat_blownSaves_cum_dict = defaultdict(lambda: defaultdict(lambda: defaultdict(int)))\n",
    "        self.feat_holds_dict = defaultdict(lambda: defaultdict(lambda: defaultdict(int)))\n",
    "        self.feat_holds_cum_dict = defaultdict(lambda: defaultdict(lambda: defaultdict(int)))\n",
    "        self.feat_inningsPitched_dict = defaultdict(lambda: defaultdict(lambda: defaultdict(int)))\n",
    "        self.feat_inningsPitched_cum_dict = defaultdict(lambda: defaultdict(lambda: defaultdict(int)))\n",
    "        self.feat_runsPitching_dict = defaultdict(lambda: defaultdict(lambda: defaultdict(int)))\n",
    "        self.feat_runsPitching_cum_dict = defaultdict(lambda: defaultdict(lambda: defaultdict(int)))\n",
    "        self.feat_earnedRuns_dict = defaultdict(lambda: defaultdict(lambda: defaultdict(int)))\n",
    "        self.feat_earnedRuns_cum_dict = defaultdict(lambda: defaultdict(lambda: defaultdict(int)))\n",
    "        self.feat_pitchesThrown_dict = defaultdict(lambda: defaultdict(lambda: defaultdict(int)))\n",
    "        self.feat_pitchesThrown_cum_dict = defaultdict(lambda: defaultdict(lambda: defaultdict(int)))\n",
    "        self.feat_hitsPitching_dict = defaultdict(lambda: defaultdict(lambda: defaultdict(int)))\n",
    "        self.feat_hitsPitching_cum_dict = defaultdict(lambda: defaultdict(lambda: defaultdict(int)))\n",
    "        self.feat_homeRunsPitching_dict = defaultdict(lambda: defaultdict(lambda: defaultdict(int)))\n",
    "        self.feat_homeRunsPitching_cum_dict = defaultdict(lambda: defaultdict(lambda: defaultdict(int)))\n",
    "        self.feat_strikeOutsPitching_dict = defaultdict(lambda: defaultdict(lambda: defaultdict(int)))\n",
    "        self.feat_strikeOutsPitching_cum_dict = defaultdict(lambda: defaultdict(lambda: defaultdict(int)))\n",
    "        self.feat_baseOnBallsPitching_dict = defaultdict(lambda: defaultdict(lambda: defaultdict(int)))\n",
    "        self.feat_baseOnBallsPitching_cum_dict = defaultdict(lambda: defaultdict(lambda: defaultdict(int)))\n",
    "        self.feat_hitByPitchPitching_dict = defaultdict(lambda: defaultdict(lambda: defaultdict(int)))\n",
    "        self.feat_hitByPitchPitching_cum_dict = defaultdict(lambda: defaultdict(lambda: defaultdict(int)))\n",
    "        self.feat_intentionalWalksPitching_dict = defaultdict(lambda: defaultdict(lambda: defaultdict(int)))\n",
    "        self.feat_intentionalWalksPitching_cum_dict = defaultdict(lambda: defaultdict(lambda: defaultdict(int)))\n",
    "        self.feat_balks_dict = defaultdict(lambda: defaultdict(lambda: defaultdict(int)))\n",
    "        self.feat_balks_cum_dict = defaultdict(lambda: defaultdict(lambda: defaultdict(int)))\n",
    "        self.feat_wildPitches_dict = defaultdict(lambda: defaultdict(lambda: defaultdict(int)))\n",
    "        self.feat_wildPitches_cum_dict = defaultdict(lambda: defaultdict(lambda: defaultdict(int)))\n",
    "        self.feat_atBatsPitching_dict = defaultdict(lambda: defaultdict(lambda: defaultdict(int)))\n",
    "        self.feat_atBatsPitching_cum_dict = defaultdict(lambda: defaultdict(lambda: defaultdict(int)))\n",
    "        self.feat_battersFaced_dict = defaultdict(lambda: defaultdict(lambda: defaultdict(int)))\n",
    "        self.feat_battersFaced_cum_dict = defaultdict(lambda: defaultdict(lambda: defaultdict(int)))\n",
    "        self.feat_sacBuntsPitching_dict = defaultdict(lambda: defaultdict(lambda: defaultdict(int)))\n",
    "        self.feat_sacBuntsPitching_cum_dict = defaultdict(lambda: defaultdict(lambda: defaultdict(int)))\n",
    "        self.feat_sacFliesPitching_dict = defaultdict(lambda: defaultdict(lambda: defaultdict(int)))\n",
    "        self.feat_sacFliesPitching_cum_dict = defaultdict(lambda: defaultdict(lambda: defaultdict(int)))\n",
    "        self.feat_inheritedRunners_dict = defaultdict(lambda: defaultdict(lambda: defaultdict(int)))\n",
    "        self.feat_inheritedRunners_cum_dict = defaultdict(lambda: defaultdict(lambda: defaultdict(int)))\n",
    "        self.feat_inheritedRunnersScored_dict = defaultdict(lambda: defaultdict(lambda: defaultdict(int)))\n",
    "        self.feat_inheritedRunnersScored_cum_dict = defaultdict(lambda: defaultdict(lambda: defaultdict(int)))\n",
    "        self.feat_rbiPitching_dict = defaultdict(lambda: defaultdict(lambda: defaultdict(int)))\n",
    "        self.feat_rbiPitching_cum_dict = defaultdict(lambda: defaultdict(lambda: defaultdict(int)))\n",
    "        self.feat_flyOutsPitching_dict = defaultdict(lambda: defaultdict(lambda: defaultdict(int)))\n",
    "        self.feat_flyOutsPitching_cum_dict = defaultdict(lambda: defaultdict(lambda: defaultdict(int)))\n",
    "        self.feat_airOutsPitching_dict = defaultdict(lambda: defaultdict(lambda: defaultdict(int)))\n",
    "        self.feat_airOutsPitching_cum_dict = defaultdict(lambda: defaultdict(lambda: defaultdict(int)))\n",
    "        self.feat_doublesPitching_dict = defaultdict(lambda: defaultdict(lambda: defaultdict(int)))\n",
    "        self.feat_doublesPitching_cum_dict = defaultdict(lambda: defaultdict(lambda: defaultdict(int)))\n",
    "        self.feat_triplesPitching_dict = defaultdict(lambda: defaultdict(lambda: defaultdict(int)))\n",
    "        self.feat_triplesPitching_cum_dict = defaultdict(lambda: defaultdict(lambda: defaultdict(int)))\n",
    "        self.feat_caughtStealingPitching_dict = defaultdict(lambda: defaultdict(lambda: defaultdict(int)))\n",
    "        self.feat_caughtStealingPitching_cum_dict = defaultdict(lambda: defaultdict(lambda: defaultdict(int)))\n",
    "        self.feat_stolenBasesPitching_dict = defaultdict(lambda: defaultdict(lambda: defaultdict(int)))\n",
    "        self.feat_stolenBasesPitching_cum_dict = defaultdict(lambda: defaultdict(lambda: defaultdict(int)))\n",
    "        self.feat_outsPitching_dict = defaultdict(lambda: defaultdict(lambda: defaultdict(int)))\n",
    "        self.feat_outsPitching_cum_dict = defaultdict(lambda: defaultdict(lambda: defaultdict(int)))\n",
    "        self.feat_balls_dict = defaultdict(lambda: defaultdict(lambda: defaultdict(int)))\n",
    "        self.feat_balls_cum_dict = defaultdict(lambda: defaultdict(lambda: defaultdict(int)))\n",
    "        self.feat_strikes_dict = defaultdict(lambda: defaultdict(lambda: defaultdict(int)))\n",
    "        self.feat_strikes_cum_dict = defaultdict(lambda: defaultdict(lambda: defaultdict(int)))\n",
    "        self.feat_hitBatsmen_dict = defaultdict(lambda: defaultdict(lambda: defaultdict(int)))\n",
    "        self.feat_hitBatsmen_cum_dict = defaultdict(lambda: defaultdict(lambda: defaultdict(int)))\n",
    "        self.feat_pickoffsPitching_dict = defaultdict(lambda: defaultdict(lambda: defaultdict(int)))\n",
    "        self.feat_pickoffsPitching_cum_dict = defaultdict(lambda: defaultdict(lambda: defaultdict(int)))\n",
    "        self.feat_catchersInterferencePitching_dict = defaultdict(lambda: defaultdict(lambda: defaultdict(int)))\n",
    "        self.feat_catchersInterferencePitching_cum_dict = defaultdict(lambda: defaultdict(lambda: defaultdict(int)))\n",
    "        self.feat_assists_dict = defaultdict(lambda: defaultdict(lambda: defaultdict(int)))\n",
    "        self.feat_assists_cum_dict = defaultdict(lambda: defaultdict(lambda: defaultdict(int)))\n",
    "        self.feat_putOuts_dict = defaultdict(lambda: defaultdict(lambda: defaultdict(int)))\n",
    "        self.feat_putOuts_cum_dict = defaultdict(lambda: defaultdict(lambda: defaultdict(int)))\n",
    "        self.feat_errors_dict = defaultdict(lambda: defaultdict(lambda: defaultdict(int)))\n",
    "        self.feat_errors_cum_dict = defaultdict(lambda: defaultdict(lambda: defaultdict(int)))\n",
    "        self.feat_chances_dict = defaultdict(lambda: defaultdict(lambda: defaultdict(int)))\n",
    "        self.feat_chances_cum_dict = defaultdict(lambda: defaultdict(lambda: defaultdict(int)))\n",
    "        self.feat_gamesFinishedPitching_dict = defaultdict(lambda: defaultdict(lambda: defaultdict(int)))\n",
    "        self.feat_gamesFinishedPitching_cum_dict = defaultdict(lambda: defaultdict(lambda: defaultdict(int)))\n",
    "        self.feat_groundOutsPitching_dict = defaultdict(lambda: defaultdict(lambda: defaultdict(int)))\n",
    "        self.feat_groundOutsPitching_cum_dict = defaultdict(lambda: defaultdict(lambda: defaultdict(int)))\n",
    "\n",
    "    def fit(\n",
    "        self,\n",
    "        input_df: pd.DataFrame,\n",
    "        target_df: pd.DataFrame,\n",
    "        rosters_df: pd.DataFrame,\n",
    "        playerBoxScores_df: pd.DataFrame,\n",
    "        standings_df: pd.DataFrame,\n",
    "        playerTwitterFollowers_df: pd.DataFrame,\n",
    "        teamTwitterFollowers_df: pd.DataFrame,\n",
    "        only_fit: bool\n",
    "    ):\n",
    "        if playerBoxScores_df is not None:\n",
    "            for i, row in enumerate(tqdm(playerBoxScores_df[self.columns].values)):\n",
    "                season = int(str(row[1])[:4])\n",
    "\n",
    "                self.feat_home_dict[row[0]][season][row[1]] += row[2]\n",
    "                self.feat_positionCode_dict[row[0]][season][row[1]] += row[3]\n",
    "                self.feat_battingOrder_dict[row[0]][season][row[1]] += row[4]\n",
    "                self.feat_gamesPlayedBatting_dict[row[0]][season][row[1]] += row[5]\n",
    "                self.feat_plateAppearances_dict[row[0]][season][row[1]] += row[6]\n",
    "                self.feat_atBats_dict[row[0]][season][row[1]] += row[7]\n",
    "                self.feat_hits_dict[row[0]][season][row[1]] += row[8]\n",
    "                self.feat_doubles_dict[row[0]][season][row[1]] += row[9]\n",
    "                self.feat_triples_dict[row[0]][season][row[1]] += row[10]\n",
    "                self.feat_homeRuns_dict[row[0]][season][row[1]] += row[11]\n",
    "                self.feat_rbi_dict[row[0]][season][row[1]] += row[12]\n",
    "                self.feat_runsScored_dict[row[0]][season][row[1]] += row[13]\n",
    "                self.feat_totalBases_dict[row[0]][season][row[1]] += row[14]\n",
    "                self.feat_baseOnBalls_dict[row[0]][season][row[1]] += row[15]\n",
    "                self.feat_hitByPitch_dict[row[0]][season][row[1]] += row[16]\n",
    "                self.feat_intentionalWalks_dict[row[0]][season][row[1]] += row[17]\n",
    "                self.feat_groundIntoDoublePlay_dict[row[0]][season][row[1]] += row[18]\n",
    "                self.feat_groundIntoTriplePlay_dict[row[0]][season][row[1]] += row[19]\n",
    "                self.feat_strikeOuts_dict[row[0]][season][row[1]] += row[20]\n",
    "                self.feat_sacBunts_dict[row[0]][season][row[1]] += row[21]\n",
    "                self.feat_sacFlies_dict[row[0]][season][row[1]] += row[22]\n",
    "                self.feat_caughtStealing_dict[row[0]][season][row[1]] += row[23]\n",
    "                self.feat_stolenBases_dict[row[0]][season][row[1]] += row[24]\n",
    "                self.feat_leftOnBase_dict[row[0]][season][row[1]] += row[25]\n",
    "                self.feat_catchersInterference_dict[row[0]][season][row[1]] += row[26]\n",
    "                self.feat_pickoffs_dict[row[0]][season][row[1]] += row[27]\n",
    "                self.feat_flyOuts_dict[row[0]][season][row[1]] += row[28]\n",
    "                self.feat_groundOuts_dict[row[0]][season][row[1]] += row[29]\n",
    "\n",
    "                self.feat_gamesPlayedPitching_dict[row[0]][season][row[1]] += row[30]\n",
    "                self.feat_gamesStartedPitching_dict[row[0]][season][row[1]] += row[31]\n",
    "                self.feat_winsPitching_dict[row[0]][season][row[1]] += row[32]\n",
    "                self.feat_lossesPitching_dict[row[0]][season][row[1]] += row[33]\n",
    "                self.feat_completeGamesPitching_dict[row[0]][season][row[1]] += row[34]\n",
    "                self.feat_shutoutsPitching_dict[row[0]][season][row[1]] += row[35]\n",
    "                self.feat_saves_dict[row[0]][season][row[1]] += row[36]\n",
    "                self.feat_saveOpportunities_dict[row[0]][season][row[1]] += row[37]\n",
    "                self.feat_blownSaves_dict[row[0]][season][row[1]] += row[38]\n",
    "                self.feat_holds_dict[row[0]][season][row[1]] += row[39]\n",
    "                self.feat_inningsPitched_dict[row[0]][season][row[1]] += row[40]\n",
    "                self.feat_runsPitching_dict[row[0]][season][row[1]] += row[41]\n",
    "                self.feat_earnedRuns_dict[row[0]][season][row[1]] += row[42]\n",
    "                self.feat_pitchesThrown_dict[row[0]][season][row[1]] += row[43]\n",
    "                self.feat_hitsPitching_dict[row[0]][season][row[1]] += row[44]\n",
    "                self.feat_homeRunsPitching_dict[row[0]][season][row[1]] += row[45]\n",
    "                self.feat_strikeOutsPitching_dict[row[0]][season][row[1]] += row[46]\n",
    "                self.feat_baseOnBallsPitching_dict[row[0]][season][row[1]] += row[47]\n",
    "                self.feat_hitByPitchPitching_dict[row[0]][season][row[1]] += row[48]\n",
    "                self.feat_intentionalWalksPitching_dict[row[0]][season][row[1]] += row[49]\n",
    "                self.feat_balks_dict[row[0]][season][row[1]] += row[50]\n",
    "                self.feat_wildPitches_dict[row[0]][season][row[1]] += row[51]\n",
    "                self.feat_atBatsPitching_dict[row[0]][season][row[1]] += row[52]\n",
    "                self.feat_battersFaced_dict[row[0]][season][row[1]] += row[53]\n",
    "                self.feat_sacBuntsPitching_dict[row[0]][season][row[1]] += row[54]\n",
    "                self.feat_sacFliesPitching_dict[row[0]][season][row[1]] += row[55]\n",
    "                self.feat_inheritedRunners_dict[row[0]][season][row[1]] += row[56]\n",
    "                self.feat_inheritedRunnersScored_dict[row[0]][season][row[1]] += row[57]\n",
    "                self.feat_rbiPitching_dict[row[0]][season][row[1]] += row[58]\n",
    "                self.feat_flyOutsPitching_dict[row[0]][season][row[1]] += row[59]\n",
    "                self.feat_airOutsPitching_dict[row[0]][season][row[1]] += row[60]\n",
    "                self.feat_doublesPitching_dict[row[0]][season][row[1]] += row[61]\n",
    "                self.feat_triplesPitching_dict[row[0]][season][row[1]] += row[62]\n",
    "                self.feat_caughtStealingPitching_dict[row[0]][season][row[1]] += row[63]\n",
    "                self.feat_stolenBasesPitching_dict[row[0]][season][row[1]] += row[64]\n",
    "                self.feat_outsPitching_dict[row[0]][season][row[1]] += row[65]\n",
    "                self.feat_balls_dict[row[0]][season][row[1]] += row[66]\n",
    "                self.feat_strikes_dict[row[0]][season][row[1]] += row[67]\n",
    "                self.feat_hitBatsmen_dict[row[0]][season][row[1]] += row[68]\n",
    "                self.feat_pickoffsPitching_dict[row[0]][season][row[1]] += row[69]\n",
    "                self.feat_catchersInterferencePitching_dict[row[0]][season][row[1]] += row[70]\n",
    "                self.feat_assists_dict[row[0]][season][row[1]] += row[71]\n",
    "                self.feat_putOuts_dict[row[0]][season][row[1]] += row[72]\n",
    "                self.feat_errors_dict[row[0]][season][row[1]] += row[73]\n",
    "                self.feat_chances_dict[row[0]][season][row[1]] += row[74]\n",
    "                self.feat_gamesFinishedPitching_dict[row[0]][season][row[1]] += row[75]\n",
    "                self.feat_groundOutsPitching_dict[row[0]][season][row[1]] += row[76]\n",
    "                \n",
    "                self.feat_home_cum_dict[row[0]][season][row[1]] += self.add_cumsum2dict(row[0], row[1], season, self.feat_home_cum_dict, row[2])\n",
    "                self.feat_gamesPlayedBatting_cum_dict[row[0]][season][row[1]] += self.add_cumsum2dict(row[0], row[1], season, self.feat_gamesPlayedBatting_cum_dict, row[5])\n",
    "                self.feat_plateAppearances_cum_dict[row[0]][season][row[1]] += self.add_cumsum2dict(row[0], row[1], season, self.feat_plateAppearances_cum_dict, row[6])\n",
    "                self.feat_atBats_cum_dict[row[0]][season][row[1]] += self.add_cumsum2dict(row[0], row[1], season, self.feat_atBats_cum_dict, row[7])\n",
    "                self.feat_hits_cum_dict[row[0]][season][row[1]] += self.add_cumsum2dict(row[0], row[1], season, self.feat_hits_cum_dict, row[8])\n",
    "                self.feat_doubles_cum_dict[row[0]][season][row[1]] += self.add_cumsum2dict(row[0], row[1], season, self.feat_doubles_cum_dict, row[9])\n",
    "                self.feat_triples_cum_dict[row[0]][season][row[1]] += self.add_cumsum2dict(row[0], row[1], season, self.feat_triples_cum_dict, row[10])\n",
    "                self.feat_homeRuns_cum_dict[row[0]][season][row[1]] += self.add_cumsum2dict(row[0], row[1], season, self.feat_homeRuns_cum_dict, row[11])\n",
    "                self.feat_rbi_cum_dict[row[0]][season][row[1]] += self.add_cumsum2dict(row[0], row[1], season, self.feat_rbi_cum_dict, row[12])\n",
    "                self.feat_runsScored_cum_dict[row[0]][season][row[1]] += self.add_cumsum2dict(row[0], row[1], season, self.feat_runsScored_cum_dict, row[13])\n",
    "                self.feat_totalBases_cum_dict[row[0]][season][row[1]] += self.add_cumsum2dict(row[0], row[1], season, self.feat_totalBases_cum_dict, row[14])\n",
    "                self.feat_baseOnBalls_cum_dict[row[0]][season][row[1]] += self.add_cumsum2dict(row[0], row[1], season, self.feat_baseOnBalls_cum_dict, row[15])\n",
    "                self.feat_hitByPitch_cum_dict[row[0]][season][row[1]] += self.add_cumsum2dict(row[0], row[1], season, self.feat_hitByPitch_cum_dict, row[16])\n",
    "                self.feat_intentionalWalks_cum_dict[row[0]][season][row[1]] += self.add_cumsum2dict(row[0], row[1], season, self.feat_intentionalWalks_cum_dict, row[17])\n",
    "                self.feat_groundIntoDoublePlay_cum_dict[row[0]][season][row[1]] += self.add_cumsum2dict(row[0], row[1], season, self.feat_groundIntoDoublePlay_cum_dict, row[18])\n",
    "                self.feat_groundIntoTriplePlay_cum_dict[row[0]][season][row[1]] += self.add_cumsum2dict(row[0], row[1], season, self.feat_groundIntoTriplePlay_cum_dict, row[19])\n",
    "                self.feat_strikeOuts_cum_dict[row[0]][season][row[1]] += self.add_cumsum2dict(row[0], row[1], season, self.feat_strikeOuts_cum_dict, row[20])\n",
    "                self.feat_sacBunts_cum_dict[row[0]][season][row[1]] += self.add_cumsum2dict(row[0], row[1], season, self.feat_sacBunts_cum_dict, row[21])\n",
    "                self.feat_sacFlies_cum_dict[row[0]][season][row[1]] += self.add_cumsum2dict(row[0], row[1], season, self.feat_sacFlies_cum_dict, row[22])\n",
    "                self.feat_caughtStealing_cum_dict[row[0]][season][row[1]] += self.add_cumsum2dict(row[0], row[1], season, self.feat_caughtStealing_cum_dict, row[23])\n",
    "                self.feat_stolenBases_cum_dict[row[0]][season][row[1]] += self.add_cumsum2dict(row[0], row[1], season, self.feat_stolenBases_cum_dict, row[24])\n",
    "                self.feat_leftOnBase_cum_dict[row[0]][season][row[1]] += self.add_cumsum2dict(row[0], row[1], season, self.feat_leftOnBase_cum_dict, row[25])\n",
    "                self.feat_catchersInterference_cum_dict[row[0]][season][row[1]] += self.add_cumsum2dict(row[0], row[1], season, self.feat_catchersInterference_cum_dict, row[26])\n",
    "                self.feat_pickoffs_cum_dict[row[0]][season][row[1]] += self.add_cumsum2dict(row[0], row[1], season, self.feat_pickoffs_cum_dict, row[27])\n",
    "                self.feat_flyOuts_cum_dict[row[0]][season][row[1]] += self.add_cumsum2dict(row[0], row[1], season, self.feat_flyOuts_cum_dict, row[28])\n",
    "                self.feat_groundOuts_cum_dict[row[0]][season][row[1]] += self.add_cumsum2dict(row[0], row[1], season, self.feat_groundOuts_cum_dict, row[29])\n",
    "\n",
    "                self.feat_gamesPlayedPitching_cum_dict[row[0]][season][row[1]] += self.add_cumsum2dict(row[0], row[1], season, self.feat_gamesPlayedPitching_cum_dict, row[30])\n",
    "                self.feat_gamesStartedPitching_cum_dict[row[0]][season][row[1]] += self.add_cumsum2dict(row[0], row[1], season, self.feat_gamesStartedPitching_cum_dict, row[31])\n",
    "                self.feat_winsPitching_cum_dict[row[0]][season][row[1]] += self.add_cumsum2dict(row[0], row[1], season, self.feat_winsPitching_cum_dict, row[32])\n",
    "                self.feat_lossesPitching_cum_dict[row[0]][season][row[1]] += self.add_cumsum2dict(row[0], row[1], season, self.feat_lossesPitching_cum_dict, row[33])\n",
    "                self.feat_completeGamesPitching_cum_dict[row[0]][season][row[1]] += self.add_cumsum2dict(row[0], row[1], season, self.feat_completeGamesPitching_cum_dict, row[34])\n",
    "                self.feat_shutoutsPitching_cum_dict[row[0]][season][row[1]] += self.add_cumsum2dict(row[0], row[1], season, self.feat_shutoutsPitching_cum_dict, row[35])\n",
    "                self.feat_saves_cum_dict[row[0]][season][row[1]] += self.add_cumsum2dict(row[0], row[1], season, self.feat_saves_cum_dict, row[36])\n",
    "                self.feat_saveOpportunities_cum_dict[row[0]][season][row[1]] += self.add_cumsum2dict(row[0], row[1], season, self.feat_saveOpportunities_cum_dict, row[37])\n",
    "                self.feat_blownSaves_cum_dict[row[0]][season][row[1]] += self.add_cumsum2dict(row[0], row[1], season, self.feat_blownSaves_cum_dict, row[38])\n",
    "                self.feat_holds_cum_dict[row[0]][season][row[1]] += self.add_cumsum2dict(row[0], row[1], season, self.feat_holds_cum_dict, row[39])\n",
    "                self.feat_inningsPitched_cum_dict[row[0]][season][row[1]] += self.add_cumsum2dict(row[0], row[1], season, self.feat_inningsPitched_cum_dict, row[40])\n",
    "                self.feat_runsPitching_cum_dict[row[0]][season][row[1]] += self.add_cumsum2dict(row[0], row[1], season, self.feat_runsPitching_cum_dict, row[41])\n",
    "                self.feat_earnedRuns_cum_dict[row[0]][season][row[1]] += self.add_cumsum2dict(row[0], row[1], season, self.feat_earnedRuns_cum_dict, row[42])\n",
    "                self.feat_pitchesThrown_cum_dict[row[0]][season][row[1]] += self.add_cumsum2dict(row[0], row[1], season, self.feat_pitchesThrown_cum_dict, row[43])\n",
    "                self.feat_hitsPitching_cum_dict[row[0]][season][row[1]] += self.add_cumsum2dict(row[0], row[1], season, self.feat_hitsPitching_cum_dict, row[44])\n",
    "                self.feat_homeRunsPitching_cum_dict[row[0]][season][row[1]] += self.add_cumsum2dict(row[0], row[1], season, self.feat_homeRunsPitching_cum_dict, row[45])\n",
    "                self.feat_strikeOutsPitching_cum_dict[row[0]][season][row[1]] += self.add_cumsum2dict(row[0], row[1], season, self.feat_strikeOutsPitching_cum_dict, row[46])\n",
    "                self.feat_baseOnBallsPitching_cum_dict[row[0]][season][row[1]] += self.add_cumsum2dict(row[0], row[1], season, self.feat_strikeOutsPitching_cum_dict, row[47])\n",
    "                self.feat_hitByPitchPitching_cum_dict[row[0]][season][row[1]] += self.add_cumsum2dict(row[0], row[1], season, self.feat_hitByPitchPitching_cum_dict, row[48])\n",
    "                self.feat_intentionalWalksPitching_cum_dict[row[0]][season][row[1]] += self.add_cumsum2dict(row[0], row[1], season, self.feat_intentionalWalksPitching_cum_dict, row[49])\n",
    "                self.feat_balks_cum_dict[row[0]][season][row[1]] += self.add_cumsum2dict(row[0], row[1], season, self.feat_balks_cum_dict, row[50])\n",
    "                self.feat_wildPitches_cum_dict[row[0]][season][row[1]] += self.add_cumsum2dict(row[0], row[1], season, self.feat_wildPitches_cum_dict, row[51])\n",
    "                self.feat_atBatsPitching_cum_dict[row[0]][season][row[1]] += self.add_cumsum2dict(row[0], row[1], season, self.feat_atBatsPitching_cum_dict, row[52])\n",
    "                self.feat_battersFaced_cum_dict[row[0]][season][row[1]] += self.add_cumsum2dict(row[0], row[1], season, self.feat_battersFaced_cum_dict, row[53])\n",
    "                self.feat_sacBuntsPitching_cum_dict[row[0]][season][row[1]] += self.add_cumsum2dict(row[0], row[1], season, self.feat_sacBuntsPitching_cum_dict, row[54])\n",
    "                self.feat_sacFliesPitching_cum_dict[row[0]][season][row[1]] += self.add_cumsum2dict(row[0], row[1], season, self.feat_sacFliesPitching_cum_dict, row[55])\n",
    "                self.feat_inheritedRunners_cum_dict[row[0]][season][row[1]] += self.add_cumsum2dict(row[0], row[1], season, self.feat_inheritedRunners_cum_dict, row[56])\n",
    "                self.feat_inheritedRunnersScored_cum_dict[row[0]][season][row[1]] += self.add_cumsum2dict(row[0], row[1], season, self.feat_inheritedRunnersScored_cum_dict, row[57])\n",
    "                self.feat_rbiPitching_cum_dict[row[0]][season][row[1]] += self.add_cumsum2dict(row[0], row[1], season, self.feat_rbiPitching_cum_dict, row[58])\n",
    "                self.feat_flyOutsPitching_cum_dict[row[0]][season][row[1]] += self.add_cumsum2dict(row[0], row[1], season, self.feat_flyOutsPitching_cum_dict, row[59])\n",
    "                self.feat_airOutsPitching_cum_dict[row[0]][season][row[1]] += self.add_cumsum2dict(row[0], row[1], season, self.feat_airOutsPitching_cum_dict, row[60])\n",
    "                self.feat_doublesPitching_cum_dict[row[0]][season][row[1]] += self.add_cumsum2dict(row[0], row[1], season, self.feat_doublesPitching_cum_dict, row[61])\n",
    "                self.feat_triplesPitching_cum_dict[row[0]][season][row[1]] += self.add_cumsum2dict(row[0], row[1], season, self.feat_triplesPitching_cum_dict, row[62])\n",
    "                self.feat_caughtStealingPitching_cum_dict[row[0]][season][row[1]] += self.add_cumsum2dict(row[0], row[1], season, self.feat_caughtStealingPitching_cum_dict, row[63])\n",
    "                self.feat_stolenBasesPitching_cum_dict[row[0]][season][row[1]] += self.add_cumsum2dict(row[0], row[1], season, self.feat_stolenBasesPitching_cum_dict, row[64])\n",
    "                self.feat_outsPitching_cum_dict[row[0]][season][row[1]] += self.add_cumsum2dict(row[0], row[1], season, self.feat_outsPitching_cum_dict, row[65])\n",
    "                self.feat_balls_cum_dict[row[0]][season][row[1]] += self.add_cumsum2dict(row[0], row[1], season, self.feat_balls_cum_dict, row[66])\n",
    "                self.feat_strikes_cum_dict[row[0]][season][row[1]] += self.add_cumsum2dict(row[0], row[1], season, self.feat_strikes_cum_dict, row[67])\n",
    "                self.feat_hitBatsmen_cum_dict[row[0]][season][row[1]] += self.add_cumsum2dict(row[0], row[1], season, self.feat_hitBatsmen_cum_dict, row[68])\n",
    "                self.feat_pickoffsPitching_cum_dict[row[0]][season][row[1]] += self.add_cumsum2dict(row[0], row[1], season, self.feat_pickoffsPitching_cum_dict, row[69])\n",
    "                self.feat_catchersInterferencePitching_cum_dict[row[0]][season][row[1]] += self.add_cumsum2dict(row[0], row[1], season, self.feat_catchersInterferencePitching_cum_dict, row[70])\n",
    "                self.feat_assists_cum_dict[row[0]][season][row[1]] += self.add_cumsum2dict(row[0], row[1], season, self.feat_assists_cum_dict, row[71])\n",
    "                self.feat_putOuts_cum_dict[row[0]][season][row[1]] += self.add_cumsum2dict(row[0], row[1], season, self.feat_putOuts_cum_dict, row[72])\n",
    "                self.feat_errors_cum_dict[row[0]][season][row[1]] += self.add_cumsum2dict(row[0], row[1], season, self.feat_errors_cum_dict, row[73])\n",
    "                self.feat_chances_cum_dict[row[0]][season][row[1]] += self.add_cumsum2dict(row[0], row[1], season, self.feat_chances_cum_dict, row[74])\n",
    "                self.feat_gamesFinishedPitching_cum_dict[row[0]][season][row[1]] += self.add_cumsum2dict(row[0], row[1], season, self.feat_gamesFinishedPitching_cum_dict, row[75])\n",
    "                self.feat_groundOutsPitching_cum_dict[row[0]][season][row[1]] += self.add_cumsum2dict(row[0], row[1], season, self.feat_groundOutsPitching_cum_dict, row[76])\n",
    "\n",
    "        if only_fit == False:\n",
    "            return self.transform(\n",
    "            input_df,\n",
    "            target_df,\n",
    "            rosters_df,\n",
    "            playerBoxScores_df,\n",
    "            standings_df,\n",
    "            playerTwitterFollowers_df,\n",
    "            teamTwitterFollowers_df\n",
    "            )\n",
    "\n",
    "    def transform(\n",
    "        self,\n",
    "        input_df: pd.DataFrame,\n",
    "        target_df: pd.DataFrame,\n",
    "        rosters_df: pd.DataFrame,\n",
    "        playerBoxScores_df: pd.DataFrame,\n",
    "        standings_df: pd.DataFrame,\n",
    "        playerTwitterFollowers_df: pd.DataFrame,\n",
    "        teamTwitterFollowers_df: pd.DataFrame,\n",
    "    ):\n",
    "        date = np.zeros(len(input_df), dtype=np.int32)\n",
    "        playerid = np.zeros(len(input_df), dtype=np.int32)\n",
    "        home = np.zeros(len(input_df), dtype=np.float32)\n",
    "        home_cum = np.zeros(len(input_df), dtype=np.float32)\n",
    "        positionCode = np.zeros(len(input_df), dtype=np.float32)\n",
    "        battingOrder = np.zeros(len(input_df), dtype=np.float32)\n",
    "        # batting\n",
    "        gamesPlayedBatting = np.zeros(len(input_df), dtype=np.float32)\n",
    "        gamesPlayedBatting_cum = np.zeros(len(input_df), dtype=np.float32)\n",
    "        plateAppearances = np.zeros(len(input_df), dtype=np.float32)\n",
    "        plateAppearances_cum = np.zeros(len(input_df), dtype=np.float32)\n",
    "        atBats = np.zeros(len(input_df), dtype=np.float32)\n",
    "        atBats_cum = np.zeros(len(input_df), dtype=np.float32)\n",
    "        hits = np.zeros(len(input_df), dtype=np.float32)\n",
    "        hits_cum = np.zeros(len(input_df), dtype=np.float32)\n",
    "        doubles = np.zeros(len(input_df), dtype=np.float32)\n",
    "        doubles_cum = np.zeros(len(input_df), dtype=np.float32)\n",
    "        triples = np.zeros(len(input_df), dtype=np.float32)\n",
    "        triples_cum = np.zeros(len(input_df), dtype=np.float32)\n",
    "        homeRuns = np.zeros(len(input_df), dtype=np.float32)\n",
    "        homeRuns_cum = np.zeros(len(input_df), dtype=np.float32)\n",
    "        rbi = np.zeros(len(input_df), dtype=np.float32)\n",
    "        rbi_cum = np.zeros(len(input_df), dtype=np.float32)\n",
    "        runsScored = np.zeros(len(input_df), dtype=np.float32)\n",
    "        runsScored_cum = np.zeros(len(input_df), dtype=np.float32)\n",
    "        totalBases = np.zeros(len(input_df), dtype=np.float32)\n",
    "        totalBases_cum = np.zeros(len(input_df), dtype=np.float32)\n",
    "        baseOnBalls = np.zeros(len(input_df), dtype=np.float32)\n",
    "        baseOnBalls_cum = np.zeros(len(input_df), dtype=np.float32)\n",
    "        hitByPitch = np.zeros(len(input_df), dtype=np.float32)\n",
    "        hitByPitch_cum = np.zeros(len(input_df), dtype=np.float32)\n",
    "        intentionalWalks = np.zeros(len(input_df), dtype=np.float32)\n",
    "        intentionalWalks_cum = np.zeros(len(input_df), dtype=np.float32)\n",
    "        groundIntoDoublePlay = np.zeros(len(input_df), dtype=np.float32)\n",
    "        groundIntoDoublePlay_cum = np.zeros(len(input_df), dtype=np.float32)\n",
    "        groundIntoTriplePlay = np.zeros(len(input_df), dtype=np.float32)\n",
    "        groundIntoTriplePlay_cum = np.zeros(len(input_df), dtype=np.float32)\n",
    "        strikeOuts = np.zeros(len(input_df), dtype=np.float32)\n",
    "        strikeOuts_cum = np.zeros(len(input_df), dtype=np.float32)\n",
    "        sacBunts = np.zeros(len(input_df), dtype=np.float32)\n",
    "        sacBunts_cum = np.zeros(len(input_df), dtype=np.float32)\n",
    "        sacFlies = np.zeros(len(input_df), dtype=np.float32)\n",
    "        sacFlies_cum = np.zeros(len(input_df), dtype=np.float32)\n",
    "        caughtStealing = np.zeros(len(input_df), dtype=np.float32)\n",
    "        caughtStealing_cum = np.zeros(len(input_df), dtype=np.float32)\n",
    "        stolenBases = np.zeros(len(input_df), dtype=np.float32)\n",
    "        stolenBases_cum = np.zeros(len(input_df), dtype=np.float32)\n",
    "        leftOnBase = np.zeros(len(input_df), dtype=np.float32)\n",
    "        leftOnBase_cum = np.zeros(len(input_df), dtype=np.float32)\n",
    "        catchersInterference = np.zeros(len(input_df), dtype=np.float32)\n",
    "        catchersInterference_cum = np.zeros(len(input_df), dtype=np.float32)\n",
    "        pickoffs = np.zeros(len(input_df), dtype=np.float32)\n",
    "        pickoffs_cum = np.zeros(len(input_df), dtype=np.float32)\n",
    "        flyOuts = np.zeros(len(input_df), dtype=np.float32)\n",
    "        flyOuts_cum = np.zeros(len(input_df), dtype=np.float32)\n",
    "        groundOuts = np.zeros(len(input_df), dtype=np.float32)\n",
    "        groundOuts_cum = np.zeros(len(input_df), dtype=np.float32)\n",
    "        # pitching\n",
    "        gamesPlayedPitching = np.zeros(len(input_df), dtype=np.float32)\n",
    "        gamesPlayedPitching_cum = np.zeros(len(input_df), dtype=np.float32)\n",
    "        gamesStartedPitching = np.zeros(len(input_df), dtype=np.float32)\n",
    "        gamesStartedPitching_cum = np.zeros(len(input_df), dtype=np.float32)\n",
    "        winsPitching = np.zeros(len(input_df), dtype=np.float32)\n",
    "        winsPitching_cum = np.zeros(len(input_df), dtype=np.float32)\n",
    "        lossesPitching = np.zeros(len(input_df), dtype=np.float32)\n",
    "        lossesPitching_cum = np.zeros(len(input_df), dtype=np.float32)\n",
    "        completeGamesPitching = np.zeros(len(input_df), dtype=np.float32)\n",
    "        completeGamesPitching_cum = np.zeros(len(input_df), dtype=np.float32)\n",
    "        shutoutsPitching = np.zeros(len(input_df), dtype=np.float32)\n",
    "        shutoutsPitching_cum = np.zeros(len(input_df), dtype=np.float32)\n",
    "        saves = np.zeros(len(input_df), dtype=np.float32)\n",
    "        saves_cum = np.zeros(len(input_df), dtype=np.float32)\n",
    "        saveOpportunities = np.zeros(len(input_df), dtype=np.float32)\n",
    "        saveOpportunities_cum = np.zeros(len(input_df), dtype=np.float32)\n",
    "        blownSaves = np.zeros(len(input_df), dtype=np.float32)\n",
    "        blownSaves_cum = np.zeros(len(input_df), dtype=np.float32)\n",
    "        holds = np.zeros(len(input_df), dtype=np.float32)\n",
    "        holds_cum = np.zeros(len(input_df), dtype=np.float32)\n",
    "        inningsPitched = np.zeros(len(input_df), dtype=np.float32)\n",
    "        inningsPitched_cum = np.zeros(len(input_df), dtype=np.float32)\n",
    "        runsPitching = np.zeros(len(input_df), dtype=np.float32)\n",
    "        runsPitching_cum = np.zeros(len(input_df), dtype=np.float32)\n",
    "        earnedRuns = np.zeros(len(input_df), dtype=np.float32)\n",
    "        earnedRuns_cum = np.zeros(len(input_df), dtype=np.float32)\n",
    "        pitchesThrown = np.zeros(len(input_df), dtype=np.float32)\n",
    "        pitchesThrown_cum = np.zeros(len(input_df), dtype=np.float32)\n",
    "        hitsPitching = np.zeros(len(input_df), dtype=np.float32)\n",
    "        hitsPitching_cum = np.zeros(len(input_df), dtype=np.float32)\n",
    "        homeRunsPitching = np.zeros(len(input_df), dtype=np.float32)\n",
    "        homeRunsPitching_cum = np.zeros(len(input_df), dtype=np.float32)\n",
    "        strikeOutsPitching = np.zeros(len(input_df), dtype=np.float32)\n",
    "        strikeOutsPitching_cum = np.zeros(len(input_df), dtype=np.float32)\n",
    "        baseOnBallsPitching = np.zeros(len(input_df), dtype=np.float32)\n",
    "        baseOnBallsPitching_cum = np.zeros(len(input_df), dtype=np.float32)\n",
    "        hitByPitchPitching = np.zeros(len(input_df), dtype=np.float32)\n",
    "        hitByPitchPitching_cum = np.zeros(len(input_df), dtype=np.float32)\n",
    "        intentionalWalksPitching = np.zeros(len(input_df), dtype=np.float32)\n",
    "        intentionalWalksPitching_cum = np.zeros(len(input_df), dtype=np.float32)\n",
    "        balks = np.zeros(len(input_df), dtype=np.float32)\n",
    "        balks_cum = np.zeros(len(input_df), dtype=np.float32)\n",
    "        wildPitches = np.zeros(len(input_df), dtype=np.float32)\n",
    "        wildPitches_cum = np.zeros(len(input_df), dtype=np.float32)\n",
    "        atBatsPitching = np.zeros(len(input_df), dtype=np.float32)\n",
    "        atBatsPitching_cum = np.zeros(len(input_df), dtype=np.float32)\n",
    "        battersFaced = np.zeros(len(input_df), dtype=np.float32)\n",
    "        battersFaced_cum = np.zeros(len(input_df), dtype=np.float32)\n",
    "        sacBuntsPitching = np.zeros(len(input_df), dtype=np.float32)\n",
    "        sacBuntsPitching_cum = np.zeros(len(input_df), dtype=np.float32)\n",
    "        sacFliesPitching = np.zeros(len(input_df), dtype=np.float32)\n",
    "        sacFliesPitching_cum = np.zeros(len(input_df), dtype=np.float32)\n",
    "        inheritedRunners = np.zeros(len(input_df), dtype=np.float32)\n",
    "        inheritedRunners_cum = np.zeros(len(input_df), dtype=np.float32)\n",
    "        inheritedRunnersScored = np.zeros(len(input_df), dtype=np.float32)\n",
    "        inheritedRunnersScored_cum = np.zeros(len(input_df), dtype=np.float32)\n",
    "        rbiPitching = np.zeros(len(input_df), dtype=np.float32)\n",
    "        rbiPitching_cum = np.zeros(len(input_df), dtype=np.float32)\n",
    "        flyOutsPitching = np.zeros(len(input_df), dtype=np.float32)\n",
    "        flyOutsPitching_cum = np.zeros(len(input_df), dtype=np.float32)\n",
    "        airOutsPitching = np.zeros(len(input_df), dtype=np.float32)\n",
    "        airOutsPitching_cum = np.zeros(len(input_df), dtype=np.float32)\n",
    "        doublesPitching = np.zeros(len(input_df), dtype=np.float32)\n",
    "        doublesPitching_cum = np.zeros(len(input_df), dtype=np.float32)\n",
    "        triplesPitching = np.zeros(len(input_df), dtype=np.float32)\n",
    "        triplesPitching_cum = np.zeros(len(input_df), dtype=np.float32)\n",
    "        caughtStealingPitching = np.zeros(len(input_df), dtype=np.float32)\n",
    "        caughtStealingPitching_cum = np.zeros(len(input_df), dtype=np.float32)\n",
    "        stolenBasesPitching = np.zeros(len(input_df), dtype=np.float32)\n",
    "        stolenBasesPitching_cum = np.zeros(len(input_df), dtype=np.float32)\n",
    "        outsPitching = np.zeros(len(input_df), dtype=np.float32)\n",
    "        outsPitching_cum = np.zeros(len(input_df), dtype=np.float32)\n",
    "        balls = np.zeros(len(input_df), dtype=np.float32)\n",
    "        balls_cum = np.zeros(len(input_df), dtype=np.float32)\n",
    "        strikes = np.zeros(len(input_df), dtype=np.float32)\n",
    "        strikes_cum = np.zeros(len(input_df), dtype=np.float32)\n",
    "        hitBatsmen = np.zeros(len(input_df), dtype=np.float32)\n",
    "        hitBatsmen_cum = np.zeros(len(input_df), dtype=np.float32)\n",
    "        pickoffsPitching = np.zeros(len(input_df), dtype=np.float32)\n",
    "        pickoffsPitching_cum = np.zeros(len(input_df), dtype=np.float32)\n",
    "        catchersInterferencePitching = np.zeros(len(input_df), dtype=np.float32)\n",
    "        catchersInterferencePitching_cum = np.zeros(len(input_df), dtype=np.float32)\n",
    "        assists = np.zeros(len(input_df), dtype=np.float32)\n",
    "        assists_cum = np.zeros(len(input_df), dtype=np.float32)\n",
    "        putOuts = np.zeros(len(input_df), dtype=np.float32)\n",
    "        putOuts_cum = np.zeros(len(input_df), dtype=np.float32)\n",
    "        errors = np.zeros(len(input_df), dtype=np.float32)\n",
    "        errors_cum = np.zeros(len(input_df), dtype=np.float32)\n",
    "        chances = np.zeros(len(input_df), dtype=np.float32)\n",
    "        chances_cum = np.zeros(len(input_df), dtype=np.float32)\n",
    "        gamesFinishedPitching = np.zeros(len(input_df), dtype=np.float32)\n",
    "        gamesFinishedPitching_cum = np.zeros(len(input_df), dtype=np.float32)\n",
    "        groundOutsPitching = np.zeros(len(input_df), dtype=np.float32)\n",
    "        groundOutsPitching_cum = np.zeros(len(input_df), dtype=np.float32)\n",
    "\n",
    "        for i, row in enumerate(tqdm(input_df[[\"playerId\", \"date\"]].values)):\n",
    "            season = int(str(row[1])[:4])\n",
    "            playerid[i] = row[0]\n",
    "            date[i] = row[1]\n",
    "            home[i] = self.extract_score(row[0], row[1], season, self.feat_home_dict)\n",
    "            positionCode[i] = self.extract_score(row[0], row[1], season, self.feat_positionCode_dict)\n",
    "            battingOrder[i] = self.extract_score(row[0], row[1], season, self.feat_battingOrder_dict)\n",
    "            gamesPlayedBatting[i] = self.extract_score(row[0], row[1], season, self.feat_gamesPlayedBatting_dict)\n",
    "            plateAppearances[i] = self.extract_score(row[0], row[1], season, self.feat_plateAppearances_dict)\n",
    "            atBats[i] = self.extract_score(row[0], row[1], season, self.feat_atBats_dict)\n",
    "            hits[i] = self.extract_score(row[0], row[1], season, self.feat_hits_dict)\n",
    "            doubles[i] = self.extract_score(row[0], row[1], season, self.feat_doubles_dict)\n",
    "            triples[i] = self.extract_score(row[0], row[1], season, self.feat_triples_dict)\n",
    "            homeRuns[i] = self.extract_score(row[0], row[1], season, self.feat_homeRuns_dict)\n",
    "            rbi[i] = self.extract_score(row[0], row[1], season, self.feat_rbi_dict)\n",
    "            runsScored[i] = self.extract_score(row[0], row[1], season, self.feat_runsScored_dict)\n",
    "            totalBases[i] = self.extract_score(row[0], row[1], season, self.feat_totalBases_dict)\n",
    "            baseOnBalls[i] = self.extract_score(row[0], row[1], season, self.feat_baseOnBalls_dict)\n",
    "            hitByPitch[i] = self.extract_score(row[0], row[1], season, self.feat_hitByPitch_dict)\n",
    "            intentionalWalks[i] = self.extract_score(row[0], row[1], season, self.feat_intentionalWalks_dict)\n",
    "            groundIntoDoublePlay[i] = self.extract_score(row[0], row[1], season, self.feat_groundIntoDoublePlay_dict)\n",
    "            groundIntoTriplePlay[i] = self.extract_score(row[0], row[1], season, self.feat_groundIntoTriplePlay_dict)\n",
    "            strikeOuts[i] = self.extract_score(row[0], row[1], season, self.feat_strikeOuts_dict)\n",
    "            sacBunts[i] = self.extract_score(row[0], row[1], season, self.feat_sacBunts_dict)\n",
    "            sacFlies[i] = self.extract_score(row[0], row[1], season, self.feat_sacFlies_dict)\n",
    "            caughtStealing[i] = self.extract_score(row[0], row[1], season, self.feat_caughtStealing_dict)\n",
    "            stolenBases[i] = self.extract_score(row[0], row[1], season, self.feat_stolenBases_dict)\n",
    "            leftOnBase[i] = self.extract_score(row[0], row[1], season, self.feat_leftOnBase_dict)\n",
    "            catchersInterference[i] = self.extract_score(row[0], row[1], season, self.feat_catchersInterference_dict)\n",
    "            pickoffs[i] = self.extract_score(row[0], row[1], season, self.feat_pickoffs_dict)\n",
    "            flyOuts[i] = self.extract_score(row[0], row[1], season, self.feat_flyOuts_dict)\n",
    "            groundOuts[i] = self.extract_score(row[0], row[1], season, self.feat_groundOuts_dict)\n",
    "\n",
    "            gamesPlayedPitching[i] = self.extract_score(row[0], row[1], season, self.feat_gamesPlayedPitching_dict)\n",
    "            gamesStartedPitching[i] = self.extract_score(row[0], row[1], season, self.feat_gamesStartedPitching_dict)\n",
    "            winsPitching[i] = self.extract_score(row[0], row[1], season, self.feat_winsPitching_dict)\n",
    "            lossesPitching[i] = self.extract_score(row[0], row[1], season, self.feat_lossesPitching_dict)\n",
    "            completeGamesPitching[i] = self.extract_score(row[0], row[1], season, self.feat_completeGamesPitching_dict)\n",
    "            shutoutsPitching[i] = self.extract_score(row[0], row[1], season, self.feat_shutoutsPitching_dict)\n",
    "            saves[i] = self.extract_score(row[0], row[1], season, self.feat_saves_dict)\n",
    "            saveOpportunities[i] = self.extract_score(row[0], row[1], season, self.feat_saveOpportunities_dict)\n",
    "            blownSaves[i] = self.extract_score(row[0], row[1], season, self.feat_blownSaves_dict)\n",
    "            holds[i] = self.extract_score(row[0], row[1], season, self.feat_holds_dict)\n",
    "            inningsPitched[i] = self.extract_score(row[0], row[1], season, self.feat_inningsPitched_dict)\n",
    "            runsPitching[i] = self.extract_score(row[0], row[1], season, self.feat_runsPitching_dict)\n",
    "            earnedRuns[i] = self.extract_score(row[0], row[1], season, self.feat_earnedRuns_dict)\n",
    "            pitchesThrown[i] = self.extract_score(row[0], row[1], season, self.feat_pitchesThrown_dict)\n",
    "            hitsPitching[i] = self.extract_score(row[0], row[1], season, self.feat_hitsPitching_dict)\n",
    "            homeRunsPitching[i] = self.extract_score(row[0], row[1], season, self.feat_homeRunsPitching_dict)\n",
    "            strikeOutsPitching[i] = self.extract_score(row[0], row[1], season, self.feat_strikeOutsPitching_dict)\n",
    "            baseOnBallsPitching[i] = self.extract_score(row[0], row[1], season, self.feat_baseOnBallsPitching_dict)\n",
    "            hitByPitchPitching[i] = self.extract_score(row[0], row[1], season, self.feat_hitByPitchPitching_dict)\n",
    "            intentionalWalksPitching[i] = self.extract_score(row[0], row[1], season, self.feat_intentionalWalksPitching_dict)\n",
    "            balks[i] = self.extract_score(row[0], row[1], season, self.feat_balks_dict)\n",
    "            wildPitches[i] = self.extract_score(row[0], row[1], season, self.feat_wildPitches_dict)\n",
    "            atBatsPitching[i] = self.extract_score(row[0], row[1], season, self.feat_atBatsPitching_dict)\n",
    "            battersFaced[i] = self.extract_score(row[0], row[1], season, self.feat_battersFaced_dict)\n",
    "            sacBuntsPitching[i] = self.extract_score(row[0], row[1], season, self.feat_sacBuntsPitching_dict)\n",
    "            sacFliesPitching[i] = self.extract_score(row[0], row[1], season, self.feat_sacFliesPitching_dict)\n",
    "            inheritedRunners[i] = self.extract_score(row[0], row[1], season, self.feat_inheritedRunners_dict)\n",
    "            inheritedRunnersScored[i] = self.extract_score(row[0], row[1], season, self.feat_inheritedRunnersScored_dict)\n",
    "            rbiPitching[i] = self.extract_score(row[0], row[1], season, self.feat_rbiPitching_dict)\n",
    "            flyOutsPitching[i] = self.extract_score(row[0], row[1], season, self.feat_flyOutsPitching_dict)\n",
    "            airOutsPitching[i] = self.extract_score(row[0], row[1], season, self.feat_airOutsPitching_dict)\n",
    "            doublesPitching[i] = self.extract_score(row[0], row[1], season, self.feat_doublesPitching_dict)\n",
    "            triplesPitching[i] = self.extract_score(row[0], row[1], season, self.feat_triplesPitching_dict)\n",
    "            caughtStealingPitching[i] = self.extract_score(row[0], row[1], season, self.feat_caughtStealingPitching_dict)\n",
    "            stolenBasesPitching[i] = self.extract_score(row[0], row[1], season, self.feat_stolenBasesPitching_dict)\n",
    "            outsPitching[i] = self.extract_score(row[0], row[1], season, self.feat_outsPitching_dict)\n",
    "            balls[i] = self.extract_score(row[0], row[1], season, self.feat_balls_dict)\n",
    "            strikes[i] = self.extract_score(row[0], row[1], season, self.feat_strikes_dict)\n",
    "            hitBatsmen[i] = self.extract_score(row[0], row[1], season, self.feat_hitBatsmen_dict)\n",
    "            pickoffsPitching[i] = self.extract_score(row[0], row[1], season, self.feat_pickoffsPitching_dict)\n",
    "            catchersInterferencePitching[i] = self.extract_score(row[0], row[1], season, self.feat_catchersInterferencePitching_dict)\n",
    "            assists[i] = self.extract_score(row[0], row[1], season, self.feat_assists_dict)\n",
    "            putOuts[i] = self.extract_score(row[0], row[1], season, self.feat_putOuts_dict)\n",
    "            errors[i] = self.extract_score(row[0], row[1], season, self.feat_errors_dict)\n",
    "            chances[i] = self.extract_score(row[0], row[1], season, self.feat_chances_dict)\n",
    "            gamesFinishedPitching[i] = self.extract_score(row[0], row[1], season, self.feat_gamesFinishedPitching_dict)\n",
    "            groundOutsPitching[i] = self.extract_score(row[0], row[1], season, self.feat_groundOutsPitching_dict)\n",
    "\n",
    "            home_cum[i] = self.extract_cumsum_score(row[0], row[1], season, self.feat_home_cum_dict)\n",
    "            gamesPlayedBatting_cum[i] = self.extract_cumsum_score(row[0], row[1], season, self.feat_gamesPlayedBatting_cum_dict)\n",
    "            plateAppearances_cum[i] = self.extract_cumsum_score(row[0], row[1], season, self.feat_plateAppearances_cum_dict)\n",
    "            atBats_cum[i] = self.extract_cumsum_score(row[0], row[1], season, self.feat_atBats_cum_dict)\n",
    "            hits_cum[i] = self.extract_cumsum_score(row[0], row[1], season, self.feat_hits_cum_dict)\n",
    "            doubles_cum[i] = self.extract_cumsum_score(row[0], row[1], season, self.feat_doubles_cum_dict)\n",
    "            triples_cum[i] = self.extract_cumsum_score(row[0], row[1], season, self.feat_triples_cum_dict)\n",
    "            homeRuns_cum[i] = self.extract_cumsum_score(row[0], row[1], season, self.feat_homeRuns_cum_dict)\n",
    "            rbi_cum[i] = self.extract_cumsum_score(row[0], row[1], season, self.feat_rbi_cum_dict)\n",
    "            runsScored_cum[i] = self.extract_cumsum_score(row[0], row[1], season, self.feat_runsScored_cum_dict)\n",
    "            totalBases_cum[i] = self.extract_cumsum_score(row[0], row[1], season, self.feat_totalBases_cum_dict)\n",
    "            baseOnBalls_cum[i] = self.extract_cumsum_score(row[0], row[1], season, self.feat_baseOnBalls_cum_dict)\n",
    "            hitByPitch_cum[i] = self.extract_cumsum_score(row[0], row[1], season, self.feat_hitByPitch_cum_dict)\n",
    "            intentionalWalks_cum[i] = self.extract_cumsum_score(row[0], row[1], season, self.feat_intentionalWalks_cum_dict)\n",
    "            groundIntoDoublePlay_cum[i] = self.extract_cumsum_score(row[0], row[1], season, self.feat_groundIntoDoublePlay_cum_dict)\n",
    "            groundIntoTriplePlay_cum[i] = self.extract_cumsum_score(row[0], row[1], season, self.feat_groundIntoTriplePlay_cum_dict)\n",
    "            strikeOuts_cum[i] = self.extract_cumsum_score(row[0], row[1], season, self.feat_strikeOuts_cum_dict)\n",
    "            sacBunts_cum[i] = self.extract_cumsum_score(row[0], row[1], season, self.feat_sacBunts_cum_dict)\n",
    "            sacFlies_cum[i] = self.extract_cumsum_score(row[0], row[1], season, self.feat_sacFlies_cum_dict)\n",
    "            caughtStealing_cum[i] = self.extract_cumsum_score(row[0], row[1], season, self.feat_caughtStealing_cum_dict)\n",
    "            stolenBases_cum[i] = self.extract_cumsum_score(row[0], row[1], season, self.feat_stolenBases_cum_dict)\n",
    "            leftOnBase_cum[i] = self.extract_cumsum_score(row[0], row[1], season, self.feat_leftOnBase_cum_dict)\n",
    "            catchersInterference_cum[i] = self.extract_cumsum_score(row[0], row[1], season, self.feat_catchersInterference_cum_dict)\n",
    "            pickoffs_cum[i] = self.extract_cumsum_score(row[0], row[1], season, self.feat_pickoffs_cum_dict)\n",
    "            flyOuts_cum[i] = self.extract_cumsum_score(row[0], row[1], season, self.feat_flyOuts_cum_dict)\n",
    "            groundOuts_cum[i] = self.extract_cumsum_score(row[0], row[1], season, self.feat_groundOuts_cum_dict)\n",
    "\n",
    "            gamesPlayedPitching_cum[i] = self.extract_cumsum_score(row[0], row[1], season, self.feat_gamesPlayedPitching_cum_dict)\n",
    "            gamesStartedPitching_cum[i] = self.extract_cumsum_score(row[0], row[1], season, self.feat_gamesStartedPitching_cum_dict)\n",
    "            winsPitching_cum[i] = self.extract_cumsum_score(row[0], row[1], season, self.feat_winsPitching_cum_dict)\n",
    "            lossesPitching_cum[i] = self.extract_cumsum_score(row[0], row[1], season, self.feat_lossesPitching_cum_dict)\n",
    "            completeGamesPitching_cum[i] = self.extract_cumsum_score(row[0], row[1], season, self.feat_completeGamesPitching_cum_dict)\n",
    "            shutoutsPitching_cum[i] = self.extract_cumsum_score(row[0], row[1], season, self.feat_shutoutsPitching_cum_dict)\n",
    "            saves_cum[i] = self.extract_cumsum_score(row[0], row[1], season, self.feat_saves_cum_dict)\n",
    "            saveOpportunities_cum[i] = self.extract_cumsum_score(row[0], row[1], season, self.feat_saveOpportunities_cum_dict)\n",
    "            blownSaves_cum[i] = self.extract_cumsum_score(row[0], row[1], season, self.feat_blownSaves_cum_dict)\n",
    "            holds_cum[i] = self.extract_cumsum_score(row[0], row[1], season, self.feat_holds_cum_dict)\n",
    "            inningsPitched_cum[i] = self.extract_cumsum_score(row[0], row[1], season, self.feat_inningsPitched_cum_dict)\n",
    "            runsPitching_cum[i] = self.extract_cumsum_score(row[0], row[1], season, self.feat_runsPitching_cum_dict)\n",
    "            earnedRuns_cum[i] = self.extract_cumsum_score(row[0], row[1], season, self.feat_earnedRuns_cum_dict)\n",
    "            pitchesThrown_cum[i] = self.extract_cumsum_score(row[0], row[1], season, self.feat_pitchesThrown_cum_dict)\n",
    "            hitsPitching_cum[i] = self.extract_cumsum_score(row[0], row[1], season, self.feat_hitsPitching_cum_dict)\n",
    "            homeRunsPitching_cum[i] = self.extract_cumsum_score(row[0], row[1], season, self.feat_homeRunsPitching_cum_dict)\n",
    "            strikeOutsPitching_cum[i] = self.extract_cumsum_score(row[0], row[1], season, self.feat_strikeOutsPitching_cum_dict)\n",
    "            baseOnBallsPitching_cum[i] = self.extract_cumsum_score(row[0], row[1], season, self.feat_baseOnBallsPitching_cum_dict)\n",
    "            hitByPitchPitching_cum[i] = self.extract_cumsum_score(row[0], row[1], season, self.feat_hitByPitchPitching_cum_dict)\n",
    "            intentionalWalksPitching_cum[i] = self.extract_cumsum_score(row[0], row[1], season, self.feat_intentionalWalksPitching_cum_dict)\n",
    "            balks_cum[i] = self.extract_cumsum_score(row[0], row[1], season, self.feat_balks_cum_dict)\n",
    "            wildPitches_cum[i] = self.extract_cumsum_score(row[0], row[1], season, self.feat_wildPitches_cum_dict)\n",
    "            atBatsPitching_cum[i] = self.extract_cumsum_score(row[0], row[1], season, self.feat_atBatsPitching_cum_dict)\n",
    "            battersFaced_cum[i] = self.extract_cumsum_score(row[0], row[1], season, self.feat_battersFaced_cum_dict)\n",
    "            sacBuntsPitching_cum[i] = self.extract_cumsum_score(row[0], row[1], season, self.feat_sacBuntsPitching_cum_dict)\n",
    "            sacFliesPitching_cum[i] = self.extract_cumsum_score(row[0], row[1], season, self.feat_sacFliesPitching_cum_dict)\n",
    "            inheritedRunners_cum[i] = self.extract_cumsum_score(row[0], row[1], season, self.feat_inheritedRunners_cum_dict)\n",
    "            inheritedRunnersScored_cum[i] = self.extract_cumsum_score(row[0], row[1], season, self.feat_inheritedRunnersScored_cum_dict)\n",
    "            rbiPitching_cum[i] = self.extract_cumsum_score(row[0], row[1], season, self.feat_rbiPitching_cum_dict)\n",
    "            flyOutsPitching_cum[i] = self.extract_cumsum_score(row[0], row[1], season, self.feat_flyOutsPitching_cum_dict)\n",
    "            airOutsPitching_cum[i] = self.extract_cumsum_score(row[0], row[1], season, self.feat_airOutsPitching_cum_dict)\n",
    "            doublesPitching_cum[i] = self.extract_cumsum_score(row[0], row[1], season, self.feat_doublesPitching_cum_dict)\n",
    "            triplesPitching_cum[i] = self.extract_cumsum_score(row[0], row[1], season, self.feat_triplesPitching_cum_dict)\n",
    "            caughtStealingPitching_cum[i] = self.extract_cumsum_score(row[0], row[1], season, self.feat_caughtStealingPitching_cum_dict)\n",
    "            stolenBasesPitching_cum[i] = self.extract_cumsum_score(row[0], row[1], season, self.feat_stolenBasesPitching_cum_dict)\n",
    "            outsPitching_cum[i] = self.extract_cumsum_score(row[0], row[1], season, self.feat_outsPitching_cum_dict)\n",
    "            balls_cum[i] = self.extract_cumsum_score(row[0], row[1], season, self.feat_balls_cum_dict)\n",
    "            strikes_cum[i] = self.extract_cumsum_score(row[0], row[1], season, self.feat_strikes_cum_dict)\n",
    "            hitBatsmen_cum[i] = self.extract_cumsum_score(row[0], row[1], season, self.feat_hitBatsmen_cum_dict)\n",
    "            pickoffsPitching_cum[i] = self.extract_cumsum_score(row[0], row[1], season, self.feat_pickoffsPitching_cum_dict)\n",
    "            catchersInterferencePitching_cum[i] = self.extract_cumsum_score(row[0], row[1], season, self.feat_catchersInterferencePitching_cum_dict)\n",
    "            assists_cum[i] = self.extract_cumsum_score(row[0], row[1], season, self.feat_assists_cum_dict)\n",
    "            putOuts_cum[i] = self.extract_cumsum_score(row[0], row[1], season, self.feat_putOuts_cum_dict)\n",
    "            errors_cum[i] = self.extract_cumsum_score(row[0], row[1], season, self.feat_errors_cum_dict)\n",
    "            chances_cum[i] = self.extract_cumsum_score(row[0], row[1], season, self.feat_chances_cum_dict)\n",
    "            gamesFinishedPitching_cum[i] = self.extract_cumsum_score(row[0], row[1], season, self.feat_gamesFinishedPitching_cum_dict)\n",
    "            groundOutsPitching_cum[i] = self.extract_cumsum_score(row[0], row[1], season, self.feat_groundOutsPitching_cum_dict)\n",
    "\n",
    "        output_df = pd.DataFrame({\n",
    "            \"date\": date,\n",
    "            \"home\": home, \n",
    "            \"home_cum\": home_cum,\n",
    "            \"positionCode\": positionCode,\n",
    "            \"battingOrder\": battingOrder,\n",
    "            \"gamesPlayedBatting\": gamesPlayedBatting,\n",
    "            \"gamesPlayedBatting_cum\": gamesPlayedBatting_cum,\n",
    "            \"plateAppearances\": plateAppearances,\n",
    "            \"plateAppearances_cum\": plateAppearances_cum,\n",
    "            \"atBats\": atBats,\n",
    "            \"atBats_cum\": atBats_cum,\n",
    "            \"hits\": hits,\n",
    "            \"hits_cum\": hits_cum,\n",
    "            \"doubles\": doubles,\n",
    "            \"doubles_cum\": doubles_cum,\n",
    "            \"triples\": triples,\n",
    "            \"triples_cum\": triples_cum,\n",
    "            \"homeRuns\": homeRuns,\n",
    "            \"homeRuns_cum\": homeRuns_cum,\n",
    "            \"rbi\": rbi,\n",
    "            \"rbi_cum\": rbi_cum,\n",
    "            \"runsScored\": runsScored,\n",
    "            \"runsScored_cum\": runsScored_cum,\n",
    "            \"totalBases\": totalBases,\n",
    "            \"totalBases_cum\": totalBases_cum,\n",
    "            \"baseOnBalls\": baseOnBalls,\n",
    "            \"baseOnBalls_cum\": baseOnBalls_cum,\n",
    "            \"hitByPitch\": hitByPitch,\n",
    "            \"hitByPitch_cum\": hitByPitch_cum,\n",
    "            \"intentionalWalks\": intentionalWalks,\n",
    "            \"intentionalWalks_cum\": intentionalWalks_cum,\n",
    "            \"groundIntoDoublePlay\": groundIntoDoublePlay,\n",
    "            \"groundIntoDoublePlay_cum\": groundIntoDoublePlay_cum,\n",
    "            \"groundIntoTriplePlay\": groundIntoTriplePlay,\n",
    "            \"groundIntoTriplePlay_cum\": groundIntoTriplePlay_cum,\n",
    "            \"strikeOuts\": strikeOuts,\n",
    "            \"strikeOuts_cum\": strikeOuts_cum,\n",
    "            \"sacBunts\": sacBunts,\n",
    "            \"sacBunts_cum\": sacBunts_cum,\n",
    "            \"sacFlies\": sacFlies,\n",
    "            \"sacFlies_cum\": sacFlies_cum,\n",
    "            \"caughtStealing\": caughtStealing,\n",
    "            \"caughtStealing_cum\": caughtStealing_cum,\n",
    "            \"stolenBases\": stolenBases,\n",
    "            \"stolenBases_cum\": stolenBases_cum,\n",
    "            \"leftOnBase\": leftOnBase,\n",
    "            \"leftOnBase_cum\": leftOnBase_cum,\n",
    "            \"catchersInterference\": catchersInterference,\n",
    "            \"catchersInterference_cum\": catchersInterference_cum,\n",
    "            \"pickoffs\": pickoffs,\n",
    "            \"pickoffs_cum\": pickoffs_cum,\n",
    "            \"flyOuts\": flyOuts,\n",
    "            \"flyOuts_cum\": flyOuts_cum,\n",
    "            \"groundOuts\": groundOuts,\n",
    "            \"groundOuts_cum\": groundOuts_cum,\n",
    "            \"gamesPlayedPitching\": gamesPlayedPitching,\n",
    "            \"gamesPlayedPitching_cum\": gamesPlayedPitching_cum,\n",
    "            \"gamesStartedPitching\": gamesStartedPitching,\n",
    "            \"gamesStartedPitching_cum\": gamesStartedPitching_cum,\n",
    "            \"winsPitching\": winsPitching,\n",
    "            \"winsPitching_cum\": winsPitching_cum,\n",
    "            \"lossesPitching\": lossesPitching,\n",
    "            \"lossesPitching_cum\": lossesPitching_cum,\n",
    "            \"completeGamesPitching\": completeGamesPitching,\n",
    "            \"completeGamesPitching_cum\": completeGamesPitching_cum,\n",
    "            \"shutoutsPitching\": shutoutsPitching,\n",
    "            \"shutoutsPitching_cum\": shutoutsPitching_cum,\n",
    "            \"saves\": saves,\n",
    "            \"saves_cum\": saves_cum,\n",
    "            \"saveOpportunities\": saveOpportunities,\n",
    "            \"saveOpportunities_cum\": saveOpportunities_cum,\n",
    "            \"blownSaves\": blownSaves,\n",
    "            \"blownSaves_cum\": blownSaves_cum,\n",
    "            \"holds\": holds,\n",
    "            \"holds_cum\": holds_cum,\n",
    "            \"inningsPitched\": inningsPitched,\n",
    "            \"inningsPitched_cum\": inningsPitched_cum,\n",
    "            \"runsPitching\": runsPitching,\n",
    "            \"runsPitching_cum\": runsPitching_cum,\n",
    "            \"earnedRuns\": earnedRuns,\n",
    "            \"earnedRuns_cum\": earnedRuns_cum,\n",
    "            \"pitchesThrown\": pitchesThrown,\n",
    "            \"pitchesThrown_cum\": pitchesThrown_cum,\n",
    "            \"hitsPitching\": hitsPitching,\n",
    "            \"hitsPitching_cum\": hitsPitching_cum,\n",
    "            \"homeRunsPitching\": homeRunsPitching,\n",
    "            \"homeRunsPitching_cum\": homeRunsPitching_cum,\n",
    "            \"strikeOutsPitching\": strikeOutsPitching,\n",
    "            \"strikeOutsPitching_cum\": strikeOutsPitching_cum,\n",
    "            \"baseOnBallsPitching\": baseOnBallsPitching,\n",
    "            \"baseOnBallsPitching_cum\": baseOnBallsPitching_cum,\n",
    "            \"hitByPitchPitching\": hitByPitchPitching,\n",
    "            \"hitByPitchPitching_cum\": hitByPitchPitching_cum,\n",
    "            \"intentionalWalksPitching\": intentionalWalksPitching,\n",
    "            \"intentionalWalksPitching_cum\": intentionalWalksPitching_cum,\n",
    "            \"balks\": balks,\n",
    "            \"balks_cum\": balks_cum,\n",
    "            \"wildPitches\": wildPitches,\n",
    "            \"wildPitches_cum\": wildPitches_cum,\n",
    "            \"atBatsPitching\": atBatsPitching,\n",
    "            \"atBatsPitching_cum\": atBatsPitching_cum,\n",
    "            \"battersFaced\": battersFaced,\n",
    "            \"battersFaced_cum\": battersFaced_cum,\n",
    "            \"sacBuntsPitching\": sacBuntsPitching,\n",
    "            \"sacBuntsPitching_cum\": sacBuntsPitching_cum,\n",
    "            \"sacFliesPitching\": sacFliesPitching,\n",
    "            \"sacFliesPitching_cum\": sacFliesPitching_cum,\n",
    "            \"inheritedRunners\": inheritedRunners,\n",
    "            \"inheritedRunners_cum\": inheritedRunners_cum,\n",
    "            \"inheritedRunnersScored\": inheritedRunnersScored,\n",
    "            \"inheritedRunnersScored_cum\": inheritedRunnersScored_cum,\n",
    "            \"rbiPitching\": rbiPitching,\n",
    "            \"rbiPitching_cum\": rbiPitching_cum,\n",
    "            \"flyOutsPitching\": flyOutsPitching,\n",
    "            \"flyOutsPitching_cum\": flyOutsPitching_cum,\n",
    "            \"airOutsPitching\": airOutsPitching,\n",
    "            \"airOutsPitching_cum\": airOutsPitching_cum,\n",
    "            \"doublesPitching\": doublesPitching,\n",
    "            \"doublesPitching_cum\": doublesPitching_cum,\n",
    "            \"triplesPitching\": triplesPitching,\n",
    "            \"triplesPitching_cum\": triplesPitching_cum,\n",
    "            \"caughtStealingPitching\": caughtStealingPitching,\n",
    "            \"caughtStealingPitching_cum\": caughtStealingPitching_cum,\n",
    "            \"stolenBasesPitching\": stolenBasesPitching,\n",
    "            \"stolenBasesPitching_cum\": stolenBasesPitching_cum,\n",
    "            \"outsPitching\": outsPitching,\n",
    "            \"outsPitching_cum\": outsPitching_cum,\n",
    "            \"balls\": balls,\n",
    "            \"balls_cum\": balls_cum,\n",
    "            \"strikes\": strikes,\n",
    "            \"strikes_cum\": strikes_cum,\n",
    "            \"hitBatsmen\": hitBatsmen,\n",
    "            \"hitBatsmen_cum\": hitBatsmen_cum,\n",
    "            \"pickoffsPitching\": pickoffsPitching,\n",
    "            \"pickoffsPitching_cum\": pickoffsPitching_cum,\n",
    "            \"catchersInterferencePitching\": catchersInterferencePitching,\n",
    "            \"catchersInterferencePitching_cum\": catchersInterferencePitching_cum,\n",
    "            \"assists\": assists,\n",
    "            \"assists_cum\": assists_cum,\n",
    "            \"putOuts\": putOuts,\n",
    "            \"putOuts_cum\": putOuts_cum,\n",
    "            \"errors\": errors,\n",
    "            \"errors_cum\": errors_cum,\n",
    "            \"chances\": chances,\n",
    "            \"chances_cum\": chances_cum,\n",
    "            \"gamesFinishedPitching\": gamesFinishedPitching,\n",
    "            \"gamesFinishedPitching_cum\": gamesFinishedPitching_cum,\n",
    "            \"groundOutsPitching\": groundOutsPitching,\n",
    "            \"groundOutsPitching_cum\": groundOutsPitching_cum,\n",
    "        })\n",
    "\n",
    "        # 打撃指標\n",
    "        output_df[\"battingAverage\"] = output_df[\"hits_cum\"] / output_df[\"atBats_cum\"] # 打率\n",
    "        output_df[\"sluggingPercentage\"] = output_df[\"totalBases_cum\"] / output_df[\"atBats_cum\"] # 長打率\n",
    "        output_df[\"onBasePercentage\"] = (output_df[\"hits_cum\"] + output_df[\"baseOnBalls_cum\"] + output_df[\"hitByPitch_cum\"])/(output_df[\"atBats_cum\"] + output_df[\"baseOnBalls_cum\"] + output_df[\"hitByPitch_cum\"] + output_df[\"sacFlies_cum\"]) # 出塁率\n",
    "        output_df[\"ops\"] = output_df[\"sluggingPercentage\"] + output_df[\"onBasePercentage\"] # OPS\n",
    "        output_df[\"isop\"] = output_df[\"sluggingPercentage\"] - output_df[\"battingAverage\"] # IsoP\n",
    "        output_df[\"isod\"] = output_df[\"onBasePercentage\"] - output_df[\"battingAverage\"] # IsoD\n",
    "        output_df[\"rc\"] = (output_df[\"hits_cum\"] + output_df[\"baseOnBalls_cum\"]) * output_df[\"totalBases_cum\"] / (output_df[\"atBats_cum\"] + output_df[\"baseOnBalls_cum\"]) # RC\n",
    "        output_df[\"rc27\"] = output_df[\"rc\"] / (output_df[\"atBats_cum\"] - output_df[\"hits_cum\"] + output_df[\"caughtStealing_cum\"] + output_df[\"sacBunts_cum\"] + output_df[\"sacFlies_cum\"] + output_df[\"groundIntoDoublePlay_cum\"]) * 27 # RC27\n",
    "        output_df[\"rc27\"] = output_df[\"rc27\"].replace({np.inf: 0})\n",
    "        output_df[\"babip\"] = (output_df[\"hits_cum\"] - output_df[\"homeRuns_cum\"]) / (output_df[\"atBats_cum\"] - output_df[\"strikeOuts_cum\"] - output_df[\"homeRuns_cum\"] + output_df[\"sacFlies_cum\"]) # BABIP\n",
    "        output_df[\"bb_k\"] = output_df[\"baseOnBalls_cum\"] / output_df[\"strikeOuts_cum\"] # BB/K\n",
    "        output_df[\"k%\"] = output_df[\"strikeOuts_cum\"] / output_df[\"plateAppearances_cum\"] # K%\n",
    "\n",
    "        # 投手指標\n",
    "        output_df[\"qs\"] = ((output_df[\"inningsPitched\"] >= 6) & (output_df[\"runsPitching\"] <= 3)) * output_df[\"gamesStartedPitching\"]\n",
    "        output_df[\"hqs\"] = ((output_df[\"inningsPitched\"] >= 7) & (output_df[\"runsPitching\"] <= 2)) * output_df[\"gamesStartedPitching\"]\n",
    "        output_df[\"era\"] = output_df[\"earnedRuns_cum\"] * 9 / output_df[\"inningsPitched_cum\"] # 防御率\n",
    "        output_df[\"wp\"] = output_df[\"winsPitching_cum\"] / (output_df[\"winsPitching_cum\"] + output_df[\"lossesPitching_cum\"]) # 勝率\n",
    "        output_df[\"k9\"] = output_df[\"strikeOutsPitching_cum\"] * 9 / output_df[\"inningsPitched_cum\"] # K/9(奪三振率)\n",
    "        output_df[\"hits_allowed_average\"] = output_df[\"hitsPitching_cum\"] / output_df[\"atBatsPitching_cum\"] # 被打率\n",
    "        output_df[\"hp\"] = output_df[\"holds_cum\"] + output_df[\"winsPitching_cum\"] # HP\n",
    "        # output_df[\"qs%\"] = output_df[\"qs_cum\"] / output_df[\"gamesStartedPitching_cum\"] # QS率\n",
    "        # output_df[\"hqs%\"] = output_df[\"hqs_cum\"] / output_df[\"gamesStartedPitching_cum\"] # HQS率\n",
    "        output_df[\"k%_pitching\"] = output_df[\"strikeOutsPitching_cum\"] / output_df[\"battersFaced_cum\"] # K%\n",
    "        output_df[\"bb9\"] = output_df[\"baseOnBallsPitching_cum\"] * 9 / output_df[\"inningsPitched_cum\"] # BB/9\n",
    "        output_df[\"bb%\"] = output_df[\"baseOnBallsPitching_cum\"] / output_df[\"battersFaced_cum\"] # BB%\n",
    "        output_df[\"k_bb\"] = output_df[\"strikeOutsPitching_cum\"] / (output_df[\"baseOnBallsPitching_cum\"] + output_df[\"hitByPitchPitching_cum\"]) # K/BB\n",
    "        output_df[\"hr9\"] = output_df[\"homeRunsPitching_cum\"] * 9 / output_df[\"inningsPitched_cum\"] # HR/9\n",
    "        output_df[\"babip_pitching\"] = (output_df[\"hitsPitching_cum\"] - output_df[\"homeRunsPitching_cum\"]) / (output_df[\"atBatsPitching_cum\"] - output_df[\"strikeOutsPitching_cum\"] - output_df[\"homeRunsPitching_cum\"] + output_df[\"sacFliesPitching_cum\"]) # BABIP\n",
    "        output_df[\"whip\"] = (output_df[\"baseOnBallsPitching_cum\"] + output_df[\"hitsPitching_cum\"]) / output_df[\"inningsPitched_cum\"] # WHIP\n",
    "\n",
    "        # ランキング\n",
    "        output_df[\"homeRuns_rank\"] = output_df.groupby([\"date\"])[\"homeRuns_cum\"].rank(ascending=False, method=\"min\")\n",
    "        output_df[\"hits_rank\"] = output_df.groupby([\"date\"])[\"hits_cum\"].rank(ascending=False, method=\"min\")\n",
    "        output_df[\"rbi_rank\"] = output_df.groupby([\"date\"])[\"rbi_cum\"].rank(ascending=False, method=\"min\")\n",
    "        output_df[\"doubles_rank\"] = output_df.groupby([\"date\"])[\"doubles_cum\"].rank(ascending=False, method=\"min\")\n",
    "        output_df[\"triples_rank\"] = output_df.groupby([\"date\"])[\"triples_cum\"].rank(ascending=False, method=\"min\")\n",
    "        output_df[\"runsScored_rank\"] = output_df.groupby([\"date\"])[\"runsScored_cum\"].rank(ascending=False, method=\"min\")\n",
    "        output_df[\"totalBases_rank\"] = output_df.groupby([\"date\"])[\"totalBases_cum\"].rank(ascending=False, method=\"min\")\n",
    "        output_df[\"baseOnBalls_rank\"] = output_df.groupby([\"date\"])[\"baseOnBalls_cum\"].rank(ascending=False, method=\"min\")\n",
    "        output_df[\"hitByPitch_rank\"] = output_df.groupby([\"date\"])[\"hitByPitch_cum\"].rank(ascending=False, method=\"min\")\n",
    "        output_df[\"strikeOuts_rank\"] = output_df.groupby([\"date\"])[\"strikeOuts_cum\"].rank(ascending=False, method=\"min\")\n",
    "        output_df[\"stolenBases_rank\"] = output_df.groupby([\"date\"])[\"stolenBases_cum\"].rank(ascending=False, method=\"min\")\n",
    "        output_df[\"plateAppearances_rank\"] = output_df.groupby([\"date\"])[\"plateAppearances_cum\"].rank(ascending=False, method=\"min\")\n",
    "        output_df[\"atBats_rank\"] = output_df.groupby([\"date\"])[\"atBats_cum\"].rank(ascending=False, method=\"min\")\n",
    "\n",
    "        output_df[\"battingAverage_rank\"] = output_df[output_df[\"gamesPlayedBatting\"] == 1.0].groupby([\"date\"])[\"battingAverage\"].rank(ascending=False, method=\"min\")\n",
    "        output_df[\"ops_rank\"] = output_df.groupby([\"date\"])[\"ops\"].rank(ascending=False, method=\"min\")\n",
    "        output_df[\"isop_rank\"] = output_df.groupby([\"date\"])[\"isop\"].rank(ascending=False, method=\"min\")\n",
    "        output_df[\"isod_rank\"] = output_df.groupby([\"date\"])[\"isod\"].rank(ascending=False, method=\"min\")\n",
    "        output_df[\"rc_rank\"] = output_df.groupby([\"date\"])[\"rc\"].rank(ascending=False, method=\"min\")\n",
    "        output_df[\"rc27_rank\"] = output_df.groupby([\"date\"])[\"rc27\"].rank(ascending=False, method=\"min\")\n",
    "        output_df[\"babip_rank\"] = output_df.groupby([\"date\"])[\"babip\"].rank(ascending=False, method=\"min\")\n",
    "        output_df[\"bb_k_rank\"] = output_df.groupby([\"date\"])[\"bb_k\"].rank(ascending=False, method=\"min\")\n",
    "        output_df[\"k%_rank\"] = output_df.groupby([\"date\"])[\"k%\"].rank(ascending=False, method=\"min\")\n",
    "\n",
    "        output_df[\"winsPitching_rank\"] = output_df.groupby([\"date\"])[\"winsPitching_cum\"].rank(ascending=False, method=\"min\")\n",
    "        output_df[\"lossesPitching_rank\"] = output_df.groupby([\"date\"])[\"lossesPitching_cum\"].rank(ascending=False, method=\"min\")\n",
    "        output_df[\"saves_rank\"] = output_df.groupby([\"date\"])[\"saves_cum\"].rank(ascending=False, method=\"min\")\n",
    "        output_df[\"holds_rank\"] = output_df.groupby([\"date\"])[\"holds_cum\"].rank(ascending=False, method=\"min\")\n",
    "        output_df[\"completeGamesPitching_rank\"] = output_df.groupby([\"date\"])[\"completeGamesPitching_cum\"].rank(ascending=False, method=\"min\")\n",
    "        output_df[\"shutoutsPitching_rank\"] = output_df.groupby([\"date\"])[\"shutoutsPitching_cum\"].rank(ascending=False, method=\"min\")\n",
    "        output_df[\"inningsPitched_rank\"] = output_df.groupby([\"date\"])[\"inningsPitched_cum\"].rank(ascending=False, method=\"min\")\n",
    "        output_df[\"runsPitching_rank\"] = output_df.groupby([\"date\"])[\"runsPitching_cum\"].rank(ascending=False, method=\"min\")\n",
    "        output_df[\"earnedRuns_rank\"] = output_df.groupby([\"date\"])[\"earnedRuns_cum\"].rank(ascending=False, method=\"min\")\n",
    "\n",
    "        output_df[\"era_rank\"] = output_df.groupby([\"date\"])[\"era\"].rank(ascending=False, method=\"min\")\n",
    "        output_df[\"whip_rank\"] = output_df.groupby([\"date\"])[\"whip\"].rank(ascending=False, method=\"min\")\n",
    "        \n",
    "        return output_df.drop(columns=[\"date\"], axis=1).add_prefix(\"PlayerStats_\")\n",
    "\n",
    "    def extract_score(self, x, y, z, dict):\n",
    "        if y in dict[x][z].keys():\n",
    "            return dict[x][z][y]\n",
    "        else:\n",
    "            return np.nan\n",
    "\n",
    "    def extract_cumsum_score(self, x, y, z, dict):\n",
    "        previous_gamedates = [i for i in dict[x][z].keys() if i < y]\n",
    "        if y in dict[x][z].keys():\n",
    "            return dict[x][z][y]\n",
    "        elif len(previous_gamedates) != 0:\n",
    "            return dict[x][z][max(previous_gamedates)]\n",
    "        elif len(previous_gamedates) == 0:\n",
    "            return np.nan\n",
    "\n",
    "    def add_cumsum2dict(self, x, y, z, dict, value):\n",
    "        value = value if value == value else 0\n",
    "        previous_gamedates = [i for i in dict[x][z].keys() if i < y]\n",
    "        if len(previous_gamedates) != 0:\n",
    "            return value + dict[x][z][max(previous_gamedates)]\n",
    "        else:\n",
    "            return value\n",
    "\n",
    "\n",
    "class StandingsMetaBlock(BaseBlock):\n",
    "    def __init__(self, columns: List[str]):\n",
    "        self.columns = columns\n",
    "\n",
    "    def fit(\n",
    "        self,\n",
    "        input_df: pd.DataFrame,\n",
    "        target_df: pd.DataFrame,\n",
    "        rosters_df: pd.DataFrame,\n",
    "        playerBoxScores_df: pd.DataFrame,\n",
    "        standings_df: pd.DataFrame,\n",
    "        playerTwitterFollowers_df: pd.DataFrame,\n",
    "        teamTwitterFollowers_df: pd.DataFrame,\n",
    "        only_fit: bool\n",
    "    ):\n",
    "        if only_fit == False:\n",
    "            return self.transform(\n",
    "                input_df,\n",
    "                target_df,\n",
    "                rosters_df,\n",
    "                playerBoxScores_df,\n",
    "                standings_df,\n",
    "                playerTwitterFollowers_df,\n",
    "                teamTwitterFollowers_df\n",
    "            )\n",
    "\n",
    "    def transform(\n",
    "        self,\n",
    "        input_df: pd.DataFrame,\n",
    "        target_df: pd.DataFrame,\n",
    "        rosters_df: pd.DataFrame,\n",
    "        playerBoxScores_df: pd.DataFrame,\n",
    "        standings_df: pd.DataFrame,\n",
    "        playerTwitterFollowers_df: pd.DataFrame,\n",
    "        teamTwitterFollowers_df: pd.DataFrame\n",
    "    ):\n",
    "        self.standings_df = rosters_df[[\"date\", \"playerId\", \"teamId\"]].merge(standings_df[self.columns], on=[\"date\", \"teamId\"], how=\"left\")\n",
    "\n",
    "        return merge_by_key(input_df, self.standings_df.drop(columns=[\"teamId\"], axis=1)).add_prefix(\"StandingsMeta_\")\n",
    "\n",
    "\n",
    "def convert_cos(x, range):\n",
    "    return np.cos(2 * np.pi * (x / range))\n",
    "\n",
    "\n",
    "def convert_sin(x, range):\n",
    "    return np.sin(2 * np.pi * (x / range))\n",
    "\n",
    "\n",
    "class Datetime2trigonometricEncodingBlock(BaseBlock):\n",
    "    def fit(\n",
    "        self,\n",
    "        input_df: pd.DataFrame,\n",
    "        target_df: pd.DataFrame,\n",
    "        rosters_df: pd.DataFrame,\n",
    "        playerBoxScores_df: pd.DataFrame,\n",
    "        standings_df: pd.DataFrame,\n",
    "        playerTwitterFollowers_df: pd.DataFrame,\n",
    "        teamTwitterFollowers_df: pd.DataFrame,\n",
    "        only_fit: bool\n",
    "    ):\n",
    "        if only_fit == False:\n",
    "            return self.transform(\n",
    "                input_df,\n",
    "                target_df,\n",
    "                rosters_df,\n",
    "                playerBoxScores_df,\n",
    "                standings_df,\n",
    "                playerTwitterFollowers_df,\n",
    "                teamTwitterFollowers_df\n",
    "            )\n",
    "    \n",
    "    def transform(\n",
    "        self,\n",
    "        input_df: pd.DataFrame,\n",
    "        target_df: pd.DataFrame,\n",
    "        rosters_df: pd.DataFrame,\n",
    "        playerBoxScores_df: pd.DataFrame,\n",
    "        standings_df: pd.DataFrame,\n",
    "        playerTwitterFollowers_df: pd.DataFrame,\n",
    "        teamTwitterFollowers_df: pd.DataFrame,\n",
    "    ):\n",
    "        _input_df = input_df.copy()\n",
    "        _input_df[\"day\"] = pd.to_datetime(_input_df[\"date\"].astype(str), format=\"%Y%m%d\").dt.day\n",
    "        _input_df[\"dow\"] = pd.to_datetime(_input_df[\"date\"].astype(str), format=\"%Y%m%d\").dt.dayofweek\n",
    "\n",
    "        _input_df[\"day2cos\"] = _input_df[\"day\"].apply(lambda x: convert_cos(x, 31))\n",
    "        _input_df[\"day2sin\"] = _input_df[\"day\"].apply(lambda x: convert_sin(x, 31))\n",
    "        _input_df[\"dow2cos\"] = _input_df[\"dow\"].apply(lambda x: convert_cos(x, 7))\n",
    "        _input_df[\"dow2sin\"] = _input_df[\"dow\"].apply(lambda x: convert_sin(x, 7))\n",
    "\n",
    "        return _input_df[[\"day2cos\", \"day2sin\", \"dow2cos\", \"dow2sin\"]].add_prefix(\"DatetimeEncoding_\")\n",
    "\n",
    "\n",
    "class PlayerTwitterFollowerAggregateBlock(BaseBlock):\n",
    "    def __init__(self):\n",
    "        self.feat_playerTwitterFollowers_dict = defaultdict(lambda: defaultdict(int))\n",
    "\n",
    "    def fit(\n",
    "        self,\n",
    "        input_df: pd.DataFrame,\n",
    "        target_df: pd.DataFrame,\n",
    "        rosters_df: pd.DataFrame,\n",
    "        playerBoxScores_df: pd.DataFrame,\n",
    "        standings_df: pd.DataFrame,\n",
    "        playerTwitterFollowers_df: pd.DataFrame,\n",
    "        teamTwitterFollowers_df: pd.DataFrame,\n",
    "        only_fit: bool\n",
    "    ):\n",
    "        if playerTwitterFollowers_df is not None:\n",
    "            playerTwitterFollowers_df[\"year_month\"] = [int(i[:6]) for i in playerTwitterFollowers_df[\"date\"].astype(str).values]\n",
    "            for i, row in enumerate(playerTwitterFollowers_df[[\"playerId\", \"numberOfFollowers\", \"year_month\"]].values):\n",
    "                self.feat_playerTwitterFollowers_dict[row[0]][row[2]] = row[1]\n",
    "\n",
    "        if only_fit == False:\n",
    "            return self.transform(\n",
    "                input_df,\n",
    "                target_df,\n",
    "                rosters_df,\n",
    "                playerBoxScores_df,\n",
    "                standings_df,\n",
    "                playerTwitterFollowers_df,\n",
    "                teamTwitterFollowers_df,\n",
    "            )\n",
    "\n",
    "    def transform(\n",
    "        self,\n",
    "        input_df: pd.DataFrame,\n",
    "        target_df: pd.DataFrame,\n",
    "        rosters_df: pd.DataFrame,\n",
    "        playerBoxScores_df: pd.DataFrame,\n",
    "        standings_df: pd.DataFrame,\n",
    "        playerTwitterFollowers_df: pd.DataFrame,\n",
    "        teamTwitterFollowers_df: pd.DataFrame,\n",
    "    ):\n",
    "        numberOfFollowers = np.zeros(len(input_df), np.float32)\n",
    "\n",
    "        for i, row in enumerate(tqdm(input_df[[\"playerId\", \"date\"]].values)):\n",
    "            year_month = int(row[1].astype(str)[:6])\n",
    "            if row[0] in self.feat_playerTwitterFollowers_dict.keys():\n",
    "                if year_month in self.feat_playerTwitterFollowers_dict[row[0]].keys():\n",
    "                    numberOfFollowers[i] = self.feat_playerTwitterFollowers_dict[row[0]][year_month]\n",
    "                else:\n",
    "                    numberOfFollowers[i] = np.nan\n",
    "            else:\n",
    "                numberOfFollowers[i] = np.nan\n",
    "\n",
    "        output_df = pd.DataFrame({\"numberOfFollowers\": numberOfFollowers})\n",
    "\n",
    "        return output_df.add_prefix(\"PlayerTwitterFollowerAggregate_\")\n",
    "\n",
    "\n",
    "class TeamTwitterFollowerAggregateBlock(BaseBlock):\n",
    "    def __init__(self):\n",
    "        self.feat_teamTwitterFollowers_dict = defaultdict(lambda: defaultdict(int))\n",
    "\n",
    "    def fit(\n",
    "        self,\n",
    "        input_df: pd.DataFrame,\n",
    "        target_df: pd.DataFrame,\n",
    "        rosters_df: pd.DataFrame,\n",
    "        playerBoxScores_df: pd.DataFrame,\n",
    "        standings_df: pd.DataFrame,\n",
    "        playerTwitterFollowers_df: pd.DataFrame,\n",
    "        teamTwitterFollowers_df: pd.DataFrame,\n",
    "        only_fit: bool\n",
    "    ):\n",
    "        if teamTwitterFollowers_df is not None:\n",
    "            teamTwitterFollowers_df[\"year_month\"] = [int(i[:6]) for i in teamTwitterFollowers_df[\"date\"].astype(str).values]\n",
    "            for i, row in enumerate(teamTwitterFollowers_df[[\"teamId\", \"numberOfFollowers\", \"year_month\"]].values):\n",
    "                self.feat_teamTwitterFollowers_dict[row[0]][row[2]] = row[1]\n",
    "\n",
    "        if only_fit == False:\n",
    "            return self.transform(\n",
    "                input_df,\n",
    "                target_df,\n",
    "                rosters_df,\n",
    "                playerBoxScores_df,\n",
    "                standings_df,\n",
    "                playerTwitterFollowers_df,\n",
    "                teamTwitterFollowers_df,\n",
    "            )\n",
    "\n",
    "    def transform(\n",
    "        self,\n",
    "        input_df: pd.DataFrame,\n",
    "        target_df: pd.DataFrame,\n",
    "        rosters_df: pd.DataFrame,\n",
    "        playerBoxScores_df: pd.DataFrame,\n",
    "        standings_df: pd.DataFrame,\n",
    "        playerTwitterFollowers_df: pd.DataFrame,\n",
    "        teamTwitterFollowers_df: pd.DataFrame\n",
    "    ):\n",
    "        input_df = input_df.merge(rosters_df, on=[\"date\", \"playerId\"], how=\"left\")\n",
    "        numberOfFollowers = np.zeros(len(input_df), np.float32)\n",
    "\n",
    "        for i, row in enumerate(tqdm(input_df[[\"teamId\", \"date\"]].values)):\n",
    "            year_month = int(row[1].astype(str)[:6])\n",
    "            if row[0] in self.feat_teamTwitterFollowers_dict.keys():\n",
    "                if year_month in self.feat_teamTwitterFollowers_dict[row[0]].keys():\n",
    "                    numberOfFollowers[i] = self.feat_teamTwitterFollowers_dict[row[0]][year_month]\n",
    "                else:\n",
    "                    numberOfFollowers[i] = np.nan\n",
    "            else:\n",
    "                numberOfFollowers[i] = np.nan\n",
    "\n",
    "        output_df = pd.DataFrame({\"numberOfFollowers\": numberOfFollowers})\n",
    "\n",
    "        return output_df.add_prefix(\"TeamTwitterFollowerAggregate_\")"
   ],
   "outputs": [],
   "metadata": {}
  },
  {
   "cell_type": "code",
   "execution_count": null,
   "source": [
    "def create_train_feature(\n",
    "    input_df: pd.DataFrame,\n",
    "    target_df: pd.DataFrame,\n",
    "    rosters_df: pd.DataFrame,\n",
    "    playerBoxScores_df: pd.DataFrame,\n",
    "    standings_df: pd.DataFrame,\n",
    "    playerTwitterFollowers_df: pd.DataFrame,\n",
    "    teamTwitterFollowers_df: pd.DataFrame,\n",
    "    update_blocks: list,\n",
    "    non_update_blocks: list,\n",
    "    only_fit: bool\n",
    "    ) -> pd.DataFrame:\n",
    "    feat_df = pd.DataFrame()\n",
    "    blocks = update_blocks + non_update_blocks\n",
    "\n",
    "    for block in blocks:\n",
    "        with timer(name=f\"{str(block) + '_fit'}\", logger=logger):\n",
    "            try:\n",
    "                out_feat_block = block.fit(\n",
    "                    input_df,\n",
    "                    target_df,\n",
    "                    rosters_df,\n",
    "                    playerBoxScores_df,\n",
    "                    standings_df,\n",
    "                    playerTwitterFollowers_df,\n",
    "                    teamTwitterFollowers_df,\n",
    "                    only_fit=False\n",
    "                    )\n",
    "            except Exception as e:\n",
    "                print(f\"Error on {block} fit.\")\n",
    "                raise e from e\n",
    "\n",
    "            assert len(out_feat_block) == len(input_df), block\n",
    "\n",
    "        feat_df = pd.concat([feat_df, out_feat_block], axis=1)\n",
    "\n",
    "        del out_feat_block\n",
    "\n",
    "    return feat_df\n",
    "\n",
    "\n",
    "def fit_train_feature(\n",
    "    input_df: pd.DataFrame,\n",
    "    target_df: pd.DataFrame,\n",
    "    rosters_df: pd.DataFrame,\n",
    "    playerBoxScores_df: pd.DataFrame,\n",
    "    standings_df: pd.DataFrame,\n",
    "    playerTwitterFollowers_df: pd.DataFrame,\n",
    "    teamTwitterFollowers_df: pd.DataFrame,\n",
    "    update_blocks: list,\n",
    "    non_update_blocks: list,\n",
    "    only_fit: bool\n",
    "    ) -> pd.DataFrame:\n",
    "    blocks = update_blocks + non_update_blocks\n",
    "\n",
    "    for block in blocks:\n",
    "        with timer(name=f\"{str(block) + '_fit'}\", logger=logger):\n",
    "            try:\n",
    "                block.fit(\n",
    "                    input_df,\n",
    "                    target_df,\n",
    "                    rosters_df,\n",
    "                    playerBoxScores_df,\n",
    "                    standings_df,\n",
    "                    playerTwitterFollowers_df,\n",
    "                    teamTwitterFollowers_df,\n",
    "                    only_fit\n",
    "                    )\n",
    "            except Exception as e:\n",
    "                print(f\"Error on {block} fit.\")\n",
    "                raise e from e\n",
    "\n",
    "\n",
    "def create_test_feature(\n",
    "    input_df: pd.DataFrame,\n",
    "    target_df: pd.DataFrame,\n",
    "    rosters_df: pd.DataFrame,\n",
    "    playerBoxScores_df: pd.DataFrame,\n",
    "    standings_df: pd.DataFrame,\n",
    "    playerTwitterFollowers_df: pd.DataFrame,\n",
    "    teamTwitterFollowers_df: pd.DataFrame,\n",
    "    update_blocks: list,\n",
    "    non_update_blocks: list\n",
    "    ) -> pd.DataFrame:\n",
    "    is_update = True if len(update_blocks) != 0 else False\n",
    "    update_feat_df = pd.DataFrame()\n",
    "    non_update_feat_df = pd.DataFrame()\n",
    "    \n",
    "    if is_update:\n",
    "        for block in update_blocks:\n",
    "            with timer(name=f\"{str(block) + '_update'}\", logger=logger):\n",
    "                try:\n",
    "                    out_feat_block = block.fit(\n",
    "                        input_df,\n",
    "                        target_df,\n",
    "                        rosters_df,\n",
    "                        playerBoxScores_df,\n",
    "                        standings_df,\n",
    "                        playerTwitterFollowers_df,\n",
    "                        teamTwitterFollowers_df,\n",
    "                        only_fit=False,\n",
    "                        )\n",
    "                except Exception as e:\n",
    "                    print(f\"Error on {block} transform.\")\n",
    "                    raise e from e\n",
    "\n",
    "                assert len(out_feat_block) == len(input_df), block\n",
    "\n",
    "            update_feat_df = pd.concat([update_feat_df, out_feat_block], axis=1)\n",
    "\n",
    "            del out_feat_block\n",
    "        \n",
    "\n",
    "    for block in non_update_blocks:\n",
    "        with timer(name=f\"{str(block) + '_transform'}\", logger=logger):\n",
    "            try:\n",
    "                out_feat_block = block.transform(\n",
    "                    input_df,\n",
    "                    target_df,\n",
    "                    rosters_df,\n",
    "                    playerBoxScores_df,\n",
    "                    standings_df,\n",
    "                    playerTwitterFollowers_df,\n",
    "                    teamTwitterFollowers_df\n",
    "                )\n",
    "            except Exception as e:\n",
    "                print(f\"Error on {block} transform.\")\n",
    "                raise e from e\n",
    "\n",
    "            assert len(out_feat_block) == len(input_df), block\n",
    "\n",
    "        non_update_feat_df = pd.concat([non_update_feat_df, out_feat_block], axis=1)\n",
    "\n",
    "        del out_feat_block\n",
    "\n",
    "    feat_df = pd.concat([update_feat_df, non_update_feat_df], axis=1) if is_update else non_update_feat_df\n",
    "\n",
    "    del update_feat_df, non_update_feat_df\n",
    "\n",
    "    return feat_df"
   ],
   "outputs": [],
   "metadata": {}
  },
  {
   "cell_type": "markdown",
   "source": [
    "## CV"
   ],
   "metadata": {}
  },
  {
   "cell_type": "code",
   "execution_count": null,
   "source": [
    "def get_timeseries_holdout(train_df: pd.DataFrame, valid_start_date: int) -> List[tuple]:\n",
    "    fold = []\n",
    "    train_idx = np.array(train_df[train_df[\"date\"] < valid_start_date].index)\n",
    "    valid_idx = np.array(train_df[(train_df[\"date\"] >= valid_start_date) & (train_df[\"date\"] < (valid_start_date + 100))].index)\n",
    "    valid_preds_idx = np.array(train_df[(train_df[\"date\"] >= valid_start_date) & (train_df[\"date\"] < (valid_start_date + 100)) & (train_df[\"playerForTestSetAndFuturePreds\"] == True)].index)\n",
    "    fold.append((train_idx, valid_idx, valid_preds_idx))\n",
    "\n",
    "    return fold"
   ],
   "outputs": [],
   "metadata": {}
  },
  {
   "cell_type": "markdown",
   "source": [
    "## Model"
   ],
   "metadata": {}
  },
  {
   "cell_type": "code",
   "execution_count": 26,
   "source": [
    "class LightGBMTrainer:\n",
    "    def __init__(self, params: dict, seeds: List[int]):\n",
    "        self.params = params\n",
    "        self.seeds = seeds\n",
    "        self.models = []\n",
    "\n",
    "    def fit(self, X_train: np.ndarray, y_train: np.ndarray, cv: List[tuple]):\n",
    "        oof_all = []\n",
    "        for i, seed in enumerate(self.seeds):\n",
    "            self.params[\"seed\"] = seed\n",
    "\n",
    "            for train_idx, valid_idx, valid_preds_idx in cv:\n",
    "                X_train_fold = X_train[train_idx]\n",
    "                X_valid_fold = X_train[valid_preds_idx]\n",
    "\n",
    "                y_train_fold = y_train[train_idx]\n",
    "                y_valid_fold = y_train[valid_preds_idx]\n",
    "\n",
    "                train_set = lgb.Dataset(X_train_fold, y_train_fold)\n",
    "                valid_set = lgb.Dataset(X_valid_fold, y_valid_fold, reference=train_set)\n",
    "\n",
    "                model = lgb.train(\n",
    "                    params=self.params,\n",
    "                    train_set=train_set,\n",
    "                    valid_sets=[train_set, valid_set],\n",
    "                    valid_names=[\"train\", \"valid\"],\n",
    "                    verbose_eval=100,\n",
    "                )\n",
    "\n",
    "                y_oof = model.predict(X_valid_fold, num_iteration=model.best_iteration)\n",
    "                oof_all.append(y_oof)\n",
    "                self.models.append(model)\n",
    "\n",
    "        oof_all = np.mean(oof_all, axis=0)\n",
    "        oof_all = np.clip(oof_all, 0, 100)\n",
    "        oof_score = mean_absolute_error(oof_all, y_valid_fold)\n",
    "\n",
    "        return oof_score, self.models\n",
    "\n",
    "    def predict(self, X_test: np.ndarray):\n",
    "        y_pred = np.mean([model.predict(X_test, num_iteration=model.best_iteration) for model in self.models], axis=0)\n",
    "\n",
    "        return y_pred\n",
    "\n",
    "\n",
    "def run_lgb(X_train, targets, seeds, fold):\n",
    "    cv_scores = []\n",
    "    models = []\n",
    "\n",
    "    for i, target in enumerate(targets):\n",
    "        print(f\"Training for Target{i+1}\")\n",
    "        if i == 0:\n",
    "            params = CFG.LGB_TARGET1_PARAMS\n",
    "        elif i == 1:\n",
    "            params = CFG.LGB_TARGET2_PARAMS\n",
    "        elif i == 2:\n",
    "            params = CFG.LGB_TARGET3_PARAMS\n",
    "        elif i == 3:\n",
    "            params = CFG.LGB_TARGET4_PARAMS\n",
    "        trainer = LightGBMTrainer(params, seeds)\n",
    "        oof_score_tmp, models_tmp = trainer.fit(X_train, target, fold)\n",
    "        cv_scores.append(oof_score_tmp)\n",
    "        models.append(models_tmp)\n",
    "        print(f\"Local Target{i+1} OOF-MAE : {np.mean(oof_score_tmp)}\")\n",
    "        print(\"-\"*50)\n",
    "\n",
    "    print(f\"Local MCMAE : {np.mean(cv_scores)}\")\n",
    "\n",
    "    return models"
   ],
   "outputs": [],
   "metadata": {}
  },
  {
   "cell_type": "markdown",
   "source": [
    "## Training"
   ],
   "metadata": {}
  },
  {
   "cell_type": "code",
   "execution_count": null,
   "source": [
    "# # set-up logger\n",
    "# logger = get_logger()\n",
    "\n",
    "# # create feature\n",
    "# update_blocks = [\n",
    "#     PlayerStatsBlock(columns=[\n",
    "#         \"playerId\", \n",
    "#         \"date\", \n",
    "#         \"home\", \n",
    "#         \"positionCode\", \n",
    "#         \"battingOrder\", \n",
    "#         \"gamesPlayedBatting\", \n",
    "#         \"plateAppearances\",\n",
    "#         \"atBats\",\n",
    "#         \"hits\",\n",
    "#         \"doubles\",\n",
    "#         \"triples\",\n",
    "#         \"homeRuns\",\n",
    "#         \"rbi\",\n",
    "#         \"runsScored\",\n",
    "#         \"totalBases\",\n",
    "#         \"baseOnBalls\",\n",
    "#         \"hitByPitch\",\n",
    "#         \"intentionalWalks\",\n",
    "#         \"groundIntoDoublePlay\",\n",
    "#         \"groundIntoTriplePlay\",\n",
    "#         \"strikeOuts\",\n",
    "#         \"sacBunts\",\n",
    "#         \"sacFlies\",\n",
    "#         \"caughtStealing\",\n",
    "#         \"stolenBases\",\n",
    "#         \"leftOnBase\",\n",
    "#         \"catchersInterference\",\n",
    "#         \"pickoffs\",\n",
    "#         \"flyOuts\",\n",
    "#         \"groundOuts\",\n",
    "#         \"gamesPlayedPitching\",\n",
    "#         \"gamesStartedPitching\",\n",
    "#         \"winsPitching\",\n",
    "#         \"lossesPitching\",\n",
    "#         \"completeGamesPitching\",\n",
    "#         \"shutoutsPitching\",\n",
    "#         \"saves\",\n",
    "#         \"saveOpportunities\",\n",
    "#         \"blownSaves\",\n",
    "#         \"holds\",\n",
    "#         \"inningsPitched\",\n",
    "#         \"runsPitching\",\n",
    "#         \"earnedRuns\",\n",
    "#         \"pitchesThrown\",\n",
    "#         \"hitsPitching\",\n",
    "#         \"homeRunsPitching\",\n",
    "#         \"strikeOutsPitching\",\n",
    "#         \"baseOnBallsPitching\",\n",
    "#         \"hitByPitchPitching\",\n",
    "#         \"intentionalWalksPitching\",\n",
    "#         \"balks\",\n",
    "#         \"wildPitches\",\n",
    "#         \"atBatsPitching\",\n",
    "#         \"battersFaced\",\n",
    "#         \"sacBuntsPitching\",\n",
    "#         \"sacFliesPitching\",\n",
    "#         \"inheritedRunners\",\n",
    "#         \"inheritedRunnersScored\",\n",
    "#         \"rbiPitching\",\n",
    "#         \"flyOutsPitching\",\n",
    "#         \"airOutsPitching\",\n",
    "#         \"doublesPitching\",\n",
    "#         \"triplesPitching\",\n",
    "#         \"caughtStealingPitching\",\n",
    "#         \"stolenBasesPitching\",\n",
    "#         \"outsPitching\",\n",
    "#         \"balls\",\n",
    "#         \"strikes\",\n",
    "#         \"hitBatsmen\",\n",
    "#         \"pickoffsPitching\",\n",
    "#         \"catchersInterferencePitching\",\n",
    "#         \"assists\",\n",
    "#         \"putOuts\",\n",
    "#         \"errors\",\n",
    "#         \"chances\",\n",
    "#         \"gamesFinishedPitching\",\n",
    "#         \"groundOutsPitching\",\n",
    "#     ]),\n",
    "#     PlayerTwitterFollowerAggregateBlock(),\n",
    "#     TeamTwitterFollowerAggregateBlock(),\n",
    "# ]\n",
    "# non_update_blocks = [\n",
    "#     TargetAggregateBlock(periods=[\n",
    "#         # 20210201,\n",
    "#         # 20210301,\n",
    "#         20210401,\n",
    "#         20210501,\n",
    "#         20210601,\n",
    "#         20210701,\n",
    "#     ]),\n",
    "#     RostersLabelEncodingBlock(columns=[\n",
    "#         \"teamId\",\n",
    "#         \"status\"\n",
    "#     ]),\n",
    "#     PlayersLabelEncodingBlock(columns=[\n",
    "#         \"birthCountry\",\n",
    "#         # \"birthCity\",\n",
    "#         # \"birthStateProvince\",\n",
    "#         # \"heightInches\",\n",
    "#         # \"weight\",\n",
    "#         \"primaryPositionCode\",\n",
    "#         # \"playerAge\"\n",
    "#     ]),\n",
    "#     StandingsMetaBlock(columns=[\n",
    "#         'date',\n",
    "#         # 'season',\n",
    "#         # 'gameDate',\n",
    "#         'divisionId',\n",
    "#         'teamId',\n",
    "#         # 'teamName',\n",
    "#         # 'streakCode',\n",
    "#         'divisionRank',\n",
    "#         'leagueRank',\n",
    "#         'wildCardRank',\n",
    "#         # 'leagueGamesBack',\n",
    "#         # 'sportGamesBack',\n",
    "#         # 'divisionGamesBack',\n",
    "#         'wins',\n",
    "#         'losses',\n",
    "#         'pct',\n",
    "#         'runsAllowed',\n",
    "#         'runsScored',\n",
    "#         # 'divisionChamp',\n",
    "#         # 'divisionLeader',\n",
    "#         # 'wildCardLeader',\n",
    "#         # 'eliminationNumber',\n",
    "#         # 'wildCardEliminationNumber',\n",
    "#         'homeWins',\n",
    "#         'homeLosses',\n",
    "#         'awayWins',\n",
    "#         'awayLosses',\n",
    "#         'lastTenWins',\n",
    "#         'lastTenLosses',\n",
    "#         'extraInningWins',\n",
    "#         'extraInningLosses',\n",
    "#         'oneRunWins',\n",
    "#         'oneRunLosses',\n",
    "#         'dayWins',\n",
    "#         'dayLosses',\n",
    "#         'nightWins',\n",
    "#         'nightLosses',\n",
    "#         'grassWins',\n",
    "#         'grassLosses',\n",
    "#         'turfWins',\n",
    "#         'turfLosses',\n",
    "#         'divWins',\n",
    "#         'divLosses',\n",
    "#         'alWins',\n",
    "#         'alLosses',\n",
    "#         'nlWins',\n",
    "#         'nlLosses',\n",
    "#         'xWinLossPct'\n",
    "#     ]),\n",
    "#     Datetime2trigonometricEncodingBlock(),\n",
    "# ]\n",
    "\n",
    "# # create features\n",
    "# input_df = mlb_train_ds.train_next[CFG.OBJECT_ID].copy()\n",
    "# target_df = mlb_train_ds.train_next\n",
    "# rosters_df = mlb_train_ds.train_rosters\n",
    "# playerBoxScores_df = mlb_train_ds.train_scores\n",
    "# standings_df = mlb_train_ds.train_standings\n",
    "# playerTwitterFollowers_df = mlb_train_ds.train_ptf\n",
    "# teamTwitterFollowers_df = mlb_train_ds.train_ttf\n",
    "\n",
    "# # for inference\n",
    "# fit_train_feature(\n",
    "#     input_df,\n",
    "#     target_df,\n",
    "#     rosters_df,\n",
    "#     playerBoxScores_df,\n",
    "#     standings_df,\n",
    "#     playerTwitterFollowers_df,\n",
    "#     teamTwitterFollowers_df,\n",
    "#     update_blocks,\n",
    "#     non_update_blocks,\n",
    "#     only_fit=True,\n",
    "# )"
   ],
   "outputs": [],
   "metadata": {}
  },
  {
   "cell_type": "code",
   "execution_count": null,
   "source": [
    "# set-up logger\n",
    "logger = get_logger()\n",
    "\n",
    "# create feature\n",
    "update_blocks = [\n",
    "    PlayerStatsBlock(columns=[\n",
    "        \"playerId\", \n",
    "        \"date\", \n",
    "        \"home\", \n",
    "        \"positionCode\", \n",
    "        \"battingOrder\", \n",
    "        \"gamesPlayedBatting\", \n",
    "        \"plateAppearances\",\n",
    "        \"atBats\",\n",
    "        \"hits\",\n",
    "        \"doubles\",\n",
    "        \"triples\",\n",
    "        \"homeRuns\",\n",
    "        \"rbi\",\n",
    "        \"runsScored\",\n",
    "        \"totalBases\",\n",
    "        \"baseOnBalls\",\n",
    "        \"hitByPitch\",\n",
    "        \"intentionalWalks\",\n",
    "        \"groundIntoDoublePlay\",\n",
    "        \"groundIntoTriplePlay\",\n",
    "        \"strikeOuts\",\n",
    "        \"sacBunts\",\n",
    "        \"sacFlies\",\n",
    "        \"caughtStealing\",\n",
    "        \"stolenBases\",\n",
    "        \"leftOnBase\",\n",
    "        \"catchersInterference\",\n",
    "        \"pickoffs\",\n",
    "        \"flyOuts\",\n",
    "        \"groundOuts\",\n",
    "        \"gamesPlayedPitching\",\n",
    "        \"gamesStartedPitching\",\n",
    "        \"winsPitching\",\n",
    "        \"lossesPitching\",\n",
    "        \"completeGamesPitching\",\n",
    "        \"shutoutsPitching\",\n",
    "        \"saves\",\n",
    "        \"saveOpportunities\",\n",
    "        \"blownSaves\",\n",
    "        \"holds\",\n",
    "        \"inningsPitched\",\n",
    "        \"runsPitching\",\n",
    "        \"earnedRuns\",\n",
    "        \"pitchesThrown\",\n",
    "        \"hitsPitching\",\n",
    "        \"homeRunsPitching\",\n",
    "        \"strikeOutsPitching\",\n",
    "        \"baseOnBallsPitching\",\n",
    "        \"hitByPitchPitching\",\n",
    "        \"intentionalWalksPitching\",\n",
    "        \"balks\",\n",
    "        \"wildPitches\",\n",
    "        \"atBatsPitching\",\n",
    "        \"battersFaced\",\n",
    "        \"sacBuntsPitching\",\n",
    "        \"sacFliesPitching\",\n",
    "        \"inheritedRunners\",\n",
    "        \"inheritedRunnersScored\",\n",
    "        \"rbiPitching\",\n",
    "        \"flyOutsPitching\",\n",
    "        \"airOutsPitching\",\n",
    "        \"doublesPitching\",\n",
    "        \"triplesPitching\",\n",
    "        \"caughtStealingPitching\",\n",
    "        \"stolenBasesPitching\",\n",
    "        \"outsPitching\",\n",
    "        \"balls\",\n",
    "        \"strikes\",\n",
    "        \"hitBatsmen\",\n",
    "        \"pickoffsPitching\",\n",
    "        \"catchersInterferencePitching\",\n",
    "        \"assists\",\n",
    "        \"putOuts\",\n",
    "        \"errors\",\n",
    "        \"chances\",\n",
    "        \"gamesFinishedPitching\",\n",
    "        \"groundOutsPitching\",\n",
    "    ]),\n",
    "    PlayerTwitterFollowerAggregateBlock(),\n",
    "    TeamTwitterFollowerAggregateBlock(),\n",
    "]\n",
    "non_update_blocks = [\n",
    "    TargetAggregateBlock(periods=[\n",
    "        # 20210201,\n",
    "        # 20210301,\n",
    "        20210401,\n",
    "        20210501,\n",
    "        20210601,\n",
    "        20210701,\n",
    "    ]),\n",
    "    RostersLabelEncodingBlock(columns=[\n",
    "        \"teamId\",\n",
    "        \"status\"\n",
    "    ]),\n",
    "    PlayersLabelEncodingBlock(columns=[\n",
    "        \"birthCountry\",\n",
    "        # \"birthCity\",\n",
    "        # \"birthStateProvince\",\n",
    "        # \"heightInches\",\n",
    "        # \"weight\",\n",
    "        \"primaryPositionCode\",\n",
    "        # \"playerAge\"\n",
    "    ]),\n",
    "    StandingsMetaBlock(columns=[\n",
    "        'date',\n",
    "        # 'season',\n",
    "        # 'gameDate',\n",
    "        'divisionId',\n",
    "        'teamId',\n",
    "        # 'teamName',\n",
    "        # 'streakCode',\n",
    "        'divisionRank',\n",
    "        'leagueRank',\n",
    "        'wildCardRank',\n",
    "        # 'leagueGamesBack',\n",
    "        # 'sportGamesBack',\n",
    "        # 'divisionGamesBack',\n",
    "        'wins',\n",
    "        'losses',\n",
    "        'pct',\n",
    "        'runsAllowed',\n",
    "        'runsScored',\n",
    "        # 'divisionChamp',\n",
    "        # 'divisionLeader',\n",
    "        # 'wildCardLeader',\n",
    "        # 'eliminationNumber',\n",
    "        # 'wildCardEliminationNumber',\n",
    "        'homeWins',\n",
    "        'homeLosses',\n",
    "        'awayWins',\n",
    "        'awayLosses',\n",
    "        'lastTenWins',\n",
    "        'lastTenLosses',\n",
    "        'extraInningWins',\n",
    "        'extraInningLosses',\n",
    "        'oneRunWins',\n",
    "        'oneRunLosses',\n",
    "        'dayWins',\n",
    "        'dayLosses',\n",
    "        'nightWins',\n",
    "        'nightLosses',\n",
    "        'grassWins',\n",
    "        'grassLosses',\n",
    "        'turfWins',\n",
    "        'turfLosses',\n",
    "        'divWins',\n",
    "        'divLosses',\n",
    "        'alWins',\n",
    "        'alLosses',\n",
    "        'nlWins',\n",
    "        'nlLosses',\n",
    "        'xWinLossPct'\n",
    "    ]),\n",
    "    Datetime2trigonometricEncodingBlock(),\n",
    "]\n",
    "\n",
    "# create features\n",
    "input_df = mlb_train_ds.train_next[CFG.OBJECT_ID].copy()\n",
    "\n",
    "# input_df[\"_date\"] = pd.to_datetime(input_df[\"date\"], format=\"%Y%m%d\")\n",
    "# input_2018 = input_df[(input_df[\"_date\"] >= \"2018-03-29\") & (input_df[\"_date\"] <= \"2018-10-28\")]\n",
    "# input_2019 = input_df[(input_df[\"_date\"] >= \"2019-03-20\") & (input_df[\"_date\"] <= \"2019-10-30\")]\n",
    "# input_2020 = input_df[(input_df[\"_date\"] >= \"2020-07-23\") & (input_df[\"_date\"] <= \"2020-10-28\")]\n",
    "# input_2021 = input_df[(input_df[\"_date\"] >= \"2021-02-28\") & (input_df[\"_date\"] <= \"2021-10-31\")]\n",
    "# input_df = pd.concat([input_2018, input_2019, input_2020, input_2021], axis=0).drop(columns=[\"_date\"], axis=1).reset_index(drop=True)\n",
    "\n",
    "input_df = input_df.merge(mlb_train_ds.players[[\"playerId\", \"playerForTestSetAndFuturePreds\"]], on=\"playerId\", how=\"left\")\n",
    "target_df = mlb_train_ds.train_next\n",
    "rosters_df = mlb_train_ds.train_rosters\n",
    "playerBoxScores_df = mlb_train_ds.train_scores\n",
    "standings_df = mlb_train_ds.train_standings\n",
    "playerTwitterFollowers_df = mlb_train_ds.train_ptf\n",
    "teamTwitterFollowers_df = mlb_train_ds.train_ttf\n",
    "\n",
    "if DEBUG:\n",
    "    input_df = input_df[input_df[\"date\"] >= 20210301].reset_index(drop=True)\n",
    "    target_df = target_df[target_df[\"date\"] >= 20210301].reset_index(drop=True)\n",
    "    rosters_df = rosters_df[rosters_df[\"date\"] >= 20210301].reset_index(drop=True)\n",
    "    playerBoxScores_df = playerBoxScores_df[playerBoxScores_df[\"date\"] >= 20210301].reset_index(drop=True)\n",
    "    standings_df = standings_df[standings_df[\"date\"] >= 20210301].reset_index(drop=True)\n",
    "    playerTwitterFollowers_df = playerTwitterFollowers_df[playerTwitterFollowers_df[\"date\"] >= 20210301].reset_index(drop=True)\n",
    "    teamTwitterFollowers_df = teamTwitterFollowers_df[teamTwitterFollowers_df[\"date\"] >= 20210301].reset_index(drop=True)\n",
    "\n",
    "train_feat_df = create_train_feature(\n",
    "    input_df,\n",
    "    target_df,\n",
    "    rosters_df,\n",
    "    playerBoxScores_df,\n",
    "    standings_df,\n",
    "    playerTwitterFollowers_df,\n",
    "    teamTwitterFollowers_df,\n",
    "    update_blocks,\n",
    "    non_update_blocks,\n",
    "    only_fit=False,\n",
    ")\n",
    "\n",
    "X_train = train_feat_df.values\n",
    "targets = [target_df[col].values for col in CFG.TARGETS]\n",
    "\n",
    "if DEBUG:\n",
    "    targets = [target_df[col].values for col in CFG.TARGETS]\n",
    "\n",
    "# split train/valid\n",
    "fold = get_timeseries_holdout(input_df, valid_start_date=20210701)\n",
    "\n",
    "# training\n",
    "models = run_lgb(X_train, targets, CFG.SEEDS, fold)"
   ],
   "outputs": [],
   "metadata": {}
  },
  {
   "cell_type": "code",
   "execution_count": 27,
   "source": [
    "models = run_lgb(X_train, targets, CFG.SEEDS, fold)"
   ],
   "outputs": [
    {
     "output_type": "stream",
     "name": "stdout",
     "text": [
      "Training for Target1\n"
     ]
    },
    {
     "output_type": "stream",
     "name": "stderr",
     "text": [
      "/Users/azupero/data-science/kaggle/MLB-Player-Digital-Engagement-Forecasting/.venv/lib/python3.8/site-packages/lightgbm/engine.py:148: UserWarning:\n",
      "\n",
      "Found `num_iterations` in params. Will use it instead of argument\n",
      "\n",
      "/Users/azupero/data-science/kaggle/MLB-Player-Digital-Engagement-Forecasting/.venv/lib/python3.8/site-packages/lightgbm/engine.py:153: UserWarning:\n",
      "\n",
      "Found `early_stopping_round` in params. Will use it instead of argument\n",
      "\n"
     ]
    },
    {
     "output_type": "stream",
     "name": "stdout",
     "text": [
      "Training until validation scores don't improve for 100 rounds\n",
      "[100]\ttrain's l1: 0.522215\tvalid's l1: 0.923199\n",
      "[200]\ttrain's l1: 0.520063\tvalid's l1: 0.920843\n",
      "[300]\ttrain's l1: 0.518859\tvalid's l1: 0.920012\n",
      "[400]\ttrain's l1: 0.517693\tvalid's l1: 0.91872\n",
      "[500]\ttrain's l1: 0.516928\tvalid's l1: 0.91764\n",
      "[600]\ttrain's l1: 0.516689\tvalid's l1: 0.917229\n",
      "[700]\ttrain's l1: 0.516551\tvalid's l1: 0.916793\n",
      "[800]\ttrain's l1: 0.516503\tvalid's l1: 0.916743\n",
      "[900]\ttrain's l1: 0.516492\tvalid's l1: 0.916738\n",
      "Early stopping, best iteration is:\n",
      "[809]\ttrain's l1: 0.516497\tvalid's l1: 0.916693\n",
      "Training until validation scores don't improve for 100 rounds\n",
      "[100]\ttrain's l1: 0.522842\tvalid's l1: 0.922289\n",
      "[200]\ttrain's l1: 0.519577\tvalid's l1: 0.918176\n",
      "[300]\ttrain's l1: 0.517999\tvalid's l1: 0.917294\n",
      "[400]\ttrain's l1: 0.517184\tvalid's l1: 0.915333\n",
      "[500]\ttrain's l1: 0.516191\tvalid's l1: 0.914214\n",
      "[600]\ttrain's l1: 0.515997\tvalid's l1: 0.914123\n",
      "Early stopping, best iteration is:\n",
      "[542]\ttrain's l1: 0.51601\tvalid's l1: 0.914107\n",
      "Local Target1 OOF-MAE : 0.9143937872692154\n",
      "--------------------------------------------------\n",
      "Training for Target2\n"
     ]
    },
    {
     "output_type": "stream",
     "name": "stderr",
     "text": [
      "/Users/azupero/data-science/kaggle/MLB-Player-Digital-Engagement-Forecasting/.venv/lib/python3.8/site-packages/lightgbm/engine.py:148: UserWarning:\n",
      "\n",
      "Found `num_iterations` in params. Will use it instead of argument\n",
      "\n",
      "/Users/azupero/data-science/kaggle/MLB-Player-Digital-Engagement-Forecasting/.venv/lib/python3.8/site-packages/lightgbm/engine.py:153: UserWarning:\n",
      "\n",
      "Found `early_stopping_round` in params. Will use it instead of argument\n",
      "\n"
     ]
    },
    {
     "output_type": "stream",
     "name": "stdout",
     "text": [
      "Training until validation scores don't improve for 100 rounds\n",
      "[100]\ttrain's l1: 1.6854\tvalid's l1: 1.49846\n",
      "Early stopping, best iteration is:\n",
      "[7]\ttrain's l1: 1.95494\tvalid's l1: 1.38462\n",
      "Training until validation scores don't improve for 100 rounds\n",
      "[100]\ttrain's l1: 1.68104\tvalid's l1: 1.52822\n",
      "Early stopping, best iteration is:\n",
      "[6]\ttrain's l1: 1.96769\tvalid's l1: 1.38106\n",
      "Local Target2 OOF-MAE : 1.3811515009675956\n",
      "--------------------------------------------------\n",
      "Training for Target3\n"
     ]
    },
    {
     "output_type": "stream",
     "name": "stderr",
     "text": [
      "/Users/azupero/data-science/kaggle/MLB-Player-Digital-Engagement-Forecasting/.venv/lib/python3.8/site-packages/lightgbm/engine.py:148: UserWarning:\n",
      "\n",
      "Found `num_iterations` in params. Will use it instead of argument\n",
      "\n",
      "/Users/azupero/data-science/kaggle/MLB-Player-Digital-Engagement-Forecasting/.venv/lib/python3.8/site-packages/lightgbm/engine.py:153: UserWarning:\n",
      "\n",
      "Found `early_stopping_round` in params. Will use it instead of argument\n",
      "\n"
     ]
    },
    {
     "output_type": "stream",
     "name": "stdout",
     "text": [
      "Training until validation scores don't improve for 100 rounds\n",
      "[100]\ttrain's l1: 0.661432\tvalid's l1: 0.701088\n",
      "[200]\ttrain's l1: 0.659569\tvalid's l1: 0.700435\n",
      "[300]\ttrain's l1: 0.658397\tvalid's l1: 0.698371\n",
      "[400]\ttrain's l1: 0.656064\tvalid's l1: 0.695686\n",
      "[500]\ttrain's l1: 0.654901\tvalid's l1: 0.695225\n",
      "[600]\ttrain's l1: 0.654287\tvalid's l1: 0.694659\n",
      "[700]\ttrain's l1: 0.653143\tvalid's l1: 0.692856\n",
      "Early stopping, best iteration is:\n",
      "[688]\ttrain's l1: 0.653243\tvalid's l1: 0.692589\n",
      "Training until validation scores don't improve for 100 rounds\n",
      "[100]\ttrain's l1: 0.661108\tvalid's l1: 0.697383\n",
      "[200]\ttrain's l1: 0.657643\tvalid's l1: 0.690421\n",
      "[300]\ttrain's l1: 0.655726\tvalid's l1: 0.690803\n",
      "Early stopping, best iteration is:\n",
      "[282]\ttrain's l1: 0.656126\tvalid's l1: 0.690214\n",
      "Local Target3 OOF-MAE : 0.6907047749604397\n",
      "--------------------------------------------------\n",
      "Training for Target4\n"
     ]
    },
    {
     "output_type": "stream",
     "name": "stderr",
     "text": [
      "/Users/azupero/data-science/kaggle/MLB-Player-Digital-Engagement-Forecasting/.venv/lib/python3.8/site-packages/lightgbm/engine.py:148: UserWarning:\n",
      "\n",
      "Found `num_iterations` in params. Will use it instead of argument\n",
      "\n",
      "/Users/azupero/data-science/kaggle/MLB-Player-Digital-Engagement-Forecasting/.venv/lib/python3.8/site-packages/lightgbm/engine.py:153: UserWarning:\n",
      "\n",
      "Found `early_stopping_round` in params. Will use it instead of argument\n",
      "\n"
     ]
    },
    {
     "output_type": "stream",
     "name": "stdout",
     "text": [
      "Training until validation scores don't improve for 100 rounds\n",
      "[100]\ttrain's l1: 0.797066\tvalid's l1: 0.670778\n",
      "Early stopping, best iteration is:\n",
      "[8]\ttrain's l1: 0.904174\tvalid's l1: 0.61634\n",
      "Training until validation scores don't improve for 100 rounds\n",
      "[100]\ttrain's l1: 0.798911\tvalid's l1: 0.689004\n",
      "Early stopping, best iteration is:\n",
      "[10]\ttrain's l1: 0.883822\tvalid's l1: 0.621184\n",
      "Local Target4 OOF-MAE : 0.6167590182910323\n",
      "--------------------------------------------------\n",
      "Local MCMAE : 0.9007522703720707\n"
     ]
    }
   ],
   "metadata": {}
  },
  {
   "cell_type": "code",
   "execution_count": 28,
   "source": [
    "def visualize_feature_importance(models, feat_train_df) -> plotly.graph_objects.Figure:\n",
    "    '''LightGBMのfeature importanceを可視化\n",
    "    '''\n",
    "    for target_i in range(len(models)):\n",
    "        feature_importance_df = pd.DataFrame()\n",
    "        for i, model in enumerate(models[target_i]):\n",
    "            _df = pd.DataFrame()\n",
    "            _df['feature_importance'] = model.feature_importance(importance_type=\"gain\")\n",
    "            _df['feature'] = feat_train_df.columns\n",
    "            _df['model_no'] = i + 1\n",
    "            feature_importance_df = pd.concat([feature_importance_df, _df], \n",
    "                                            axis=0, ignore_index=True)\n",
    "\n",
    "        order = feature_importance_df.groupby('feature')\\\n",
    "            .mean()[['feature_importance']]\\\n",
    "            .sort_values('feature_importance', ascending=False).index[:50]\n",
    "        \n",
    "        fig = px.box(\n",
    "            feature_importance_df.query(\"feature in @order\"),\n",
    "            x=\"feature_importance\",\n",
    "            y=\"feature\",\n",
    "            category_orders={\"feature\": order},\n",
    "            width=1250,\n",
    "            height=900,\n",
    "            title=f\"Target{target_i+1} Top 50 feature importance\",\n",
    "        )\n",
    "        fig.update_yaxes(showgrid=True)\n",
    "        fig.show()"
   ],
   "outputs": [],
   "metadata": {}
  },
  {
   "cell_type": "code",
   "execution_count": 29,
   "source": [
    "visualize_feature_importance(models, train_feat_df)"
   ],
   "outputs": [
    {
     "output_type": "display_data",
     "data": {
      "application/vnd.plotly.v1+json": {
       "config": {
        "plotlyServerURL": "https://plot.ly"
       },
       "data": [
        {
         "alignmentgroup": "True",
         "hovertemplate": "feature_importance=%{x}<br>feature=%{y}<extra></extra>",
         "legendgroup": "",
         "marker": {
          "color": "#636efa"
         },
         "name": "",
         "notched": false,
         "offsetgroup": "",
         "orientation": "h",
         "showlegend": false,
         "type": "box",
         "x": [
          1895991.7378482819,
          39980.78971862793,
          92003.66742706299,
          425986.84238243103,
          9138121.75471592,
          29461392.746958733,
          50547373.47566986,
          3339846.89396286,
          445681.1952095032,
          199595.5051422119,
          16526629.362503052,
          260084.59978485107,
          262012.73069381714,
          505557.1932220459,
          384909.17140579224,
          138524.86843299866,
          137823.66411209106,
          4531304.104597092,
          511094.9719905853,
          237317.3183784485,
          279130.06932640076,
          2365946.5931510925,
          235413.47312164307,
          239834.26234054565,
          303264.1166381836,
          373267.90686416626,
          253813.23287200928,
          1209849.7470245361,
          187473.50115966797,
          448016.2998352051,
          554138.7775974274,
          52073.20886230469,
          639428.2227668762,
          305206.2295227051,
          476090.70597076416,
          219144.40046691895,
          228241.79705047607,
          290141.32456588745,
          192989.81216430664,
          342794.2782974243,
          206255.93022155762,
          205715.8631515503,
          247010.66116714478,
          1872431.9570388794,
          308260.543384552,
          704615.7078361511,
          778853.9721393585,
          13562231.489246368,
          5050482.4807777405,
          25300779.46023941,
          658858.4411811829,
          331375.8204841614,
          234675.1283903122,
          239734.18956756592,
          7262003.978471756,
          34264990.63899231,
          22005186.265565872,
          486428.61658477783,
          447196.38594055176,
          346340.2971878052,
          2292347.1803131104,
          82709.57706069946,
          183148.0145187378,
          404775.74976348877,
          178128.7463607788,
          626464.348941803,
          211877.62772750854,
          16747210.801931381,
          935673.8344345093,
          876718.126045227,
          131762.9359550476,
          4894365.597946167,
          155657.1897506714,
          290722.6132507324,
          120732.57359313965,
          32011.58958053589,
          91227.76341629028,
          493674.27321243286,
          1241347.188205719,
          319999.8141975403,
          517162.6775550842,
          290967.4414100647,
          25610.48161315918,
          277701.9610519409,
          18501.642780303955,
          211040.5823097229,
          189598.8987312317,
          212688.4607963562,
          144441.71418762207,
          230184.1173839569,
          136907.0209274292,
          467730.6265602112,
          203598.80103302002,
          160021.71620178223,
          47321.430393218994,
          675304.6671447754,
          438235.97802352905,
          4951136.37805748,
          4098848.8005752563,
          15081661.575317383
         ],
         "x0": " ",
         "xaxis": "x",
         "y": [
          "PlayerStats_chances_cum",
          "PlayerStats_atBats_rank",
          "PlayerStats_holds_rank",
          "PlayerStats_inningsPitched_rank",
          "PlayerTwitterFollowerAggregate_numberOfFollowers",
          "TeamTwitterFollowerAggregate_numberOfFollowers",
          "target1_202104_mean",
          "target1_202104_std",
          "target1_202104_min",
          "target1_202104_median",
          "target1_202104_quantile75",
          "target2_202104_mean",
          "target2_202104_std",
          "target2_202104_min",
          "target2_202104_median",
          "target2_202104_quantile25",
          "target2_202104_quantile75",
          "target4_202104_min",
          "target4_202104_median",
          "target4_202104_quantile25",
          "target4_202104_prob",
          "target1_202105_mean",
          "target1_202105_std",
          "target1_202105_quantile75",
          "target2_202105_mean",
          "target2_202105_max",
          "target2_202105_median",
          "target2_202105_quantile75",
          "target4_202105_median",
          "target4_202105_prob",
          "target1_202106_mean",
          "target1_202106_quantile75",
          "target2_202106_min",
          "target2_202106_quantile25",
          "target2_202106_quantile75",
          "target2_202106_prob",
          "target3_202106_min",
          "target4_202106_min",
          "target1_202107_mean",
          "target2_202107_mean",
          "target2_202107_std",
          "target3_202107_min",
          "target4_202107_std",
          "target4_202107_min",
          "target4_202107_median",
          "target4_202107_quantile25",
          "Rosters_LE_teamId",
          "Rosters_LE_status",
          "Players_LE_primaryPositionCode",
          "Players_LE_playerid",
          "PlayerStats_chances_cum",
          "PlayerStats_atBats_rank",
          "PlayerStats_holds_rank",
          "PlayerStats_inningsPitched_rank",
          "PlayerTwitterFollowerAggregate_numberOfFollowers",
          "TeamTwitterFollowerAggregate_numberOfFollowers",
          "target1_202104_mean",
          "target1_202104_std",
          "target1_202104_min",
          "target1_202104_median",
          "target1_202104_quantile75",
          "target2_202104_mean",
          "target2_202104_std",
          "target2_202104_min",
          "target2_202104_median",
          "target2_202104_quantile25",
          "target2_202104_quantile75",
          "target4_202104_min",
          "target4_202104_median",
          "target4_202104_quantile25",
          "target4_202104_prob",
          "target1_202105_mean",
          "target1_202105_std",
          "target1_202105_quantile75",
          "target2_202105_mean",
          "target2_202105_max",
          "target2_202105_median",
          "target2_202105_quantile75",
          "target4_202105_median",
          "target4_202105_prob",
          "target1_202106_mean",
          "target1_202106_quantile75",
          "target2_202106_min",
          "target2_202106_quantile25",
          "target2_202106_quantile75",
          "target2_202106_prob",
          "target3_202106_min",
          "target4_202106_min",
          "target1_202107_mean",
          "target2_202107_mean",
          "target2_202107_std",
          "target3_202107_min",
          "target4_202107_std",
          "target4_202107_min",
          "target4_202107_median",
          "target4_202107_quantile25",
          "Rosters_LE_teamId",
          "Rosters_LE_status",
          "Players_LE_primaryPositionCode",
          "Players_LE_playerid"
         ],
         "y0": " ",
         "yaxis": "y"
        }
       ],
       "layout": {
        "boxmode": "group",
        "height": 900,
        "legend": {
         "tracegroupgap": 0
        },
        "template": {
         "data": {
          "bar": [
           {
            "error_x": {
             "color": "#2a3f5f"
            },
            "error_y": {
             "color": "#2a3f5f"
            },
            "marker": {
             "line": {
              "color": "#E5ECF6",
              "width": 0.5
             }
            },
            "type": "bar"
           }
          ],
          "barpolar": [
           {
            "marker": {
             "line": {
              "color": "#E5ECF6",
              "width": 0.5
             }
            },
            "type": "barpolar"
           }
          ],
          "carpet": [
           {
            "aaxis": {
             "endlinecolor": "#2a3f5f",
             "gridcolor": "white",
             "linecolor": "white",
             "minorgridcolor": "white",
             "startlinecolor": "#2a3f5f"
            },
            "baxis": {
             "endlinecolor": "#2a3f5f",
             "gridcolor": "white",
             "linecolor": "white",
             "minorgridcolor": "white",
             "startlinecolor": "#2a3f5f"
            },
            "type": "carpet"
           }
          ],
          "choropleth": [
           {
            "colorbar": {
             "outlinewidth": 0,
             "ticks": ""
            },
            "type": "choropleth"
           }
          ],
          "contour": [
           {
            "colorbar": {
             "outlinewidth": 0,
             "ticks": ""
            },
            "colorscale": [
             [
              0,
              "#0d0887"
             ],
             [
              0.1111111111111111,
              "#46039f"
             ],
             [
              0.2222222222222222,
              "#7201a8"
             ],
             [
              0.3333333333333333,
              "#9c179e"
             ],
             [
              0.4444444444444444,
              "#bd3786"
             ],
             [
              0.5555555555555556,
              "#d8576b"
             ],
             [
              0.6666666666666666,
              "#ed7953"
             ],
             [
              0.7777777777777778,
              "#fb9f3a"
             ],
             [
              0.8888888888888888,
              "#fdca26"
             ],
             [
              1,
              "#f0f921"
             ]
            ],
            "type": "contour"
           }
          ],
          "contourcarpet": [
           {
            "colorbar": {
             "outlinewidth": 0,
             "ticks": ""
            },
            "type": "contourcarpet"
           }
          ],
          "heatmap": [
           {
            "colorbar": {
             "outlinewidth": 0,
             "ticks": ""
            },
            "colorscale": [
             [
              0,
              "#0d0887"
             ],
             [
              0.1111111111111111,
              "#46039f"
             ],
             [
              0.2222222222222222,
              "#7201a8"
             ],
             [
              0.3333333333333333,
              "#9c179e"
             ],
             [
              0.4444444444444444,
              "#bd3786"
             ],
             [
              0.5555555555555556,
              "#d8576b"
             ],
             [
              0.6666666666666666,
              "#ed7953"
             ],
             [
              0.7777777777777778,
              "#fb9f3a"
             ],
             [
              0.8888888888888888,
              "#fdca26"
             ],
             [
              1,
              "#f0f921"
             ]
            ],
            "type": "heatmap"
           }
          ],
          "heatmapgl": [
           {
            "colorbar": {
             "outlinewidth": 0,
             "ticks": ""
            },
            "colorscale": [
             [
              0,
              "#0d0887"
             ],
             [
              0.1111111111111111,
              "#46039f"
             ],
             [
              0.2222222222222222,
              "#7201a8"
             ],
             [
              0.3333333333333333,
              "#9c179e"
             ],
             [
              0.4444444444444444,
              "#bd3786"
             ],
             [
              0.5555555555555556,
              "#d8576b"
             ],
             [
              0.6666666666666666,
              "#ed7953"
             ],
             [
              0.7777777777777778,
              "#fb9f3a"
             ],
             [
              0.8888888888888888,
              "#fdca26"
             ],
             [
              1,
              "#f0f921"
             ]
            ],
            "type": "heatmapgl"
           }
          ],
          "histogram": [
           {
            "marker": {
             "colorbar": {
              "outlinewidth": 0,
              "ticks": ""
             }
            },
            "type": "histogram"
           }
          ],
          "histogram2d": [
           {
            "colorbar": {
             "outlinewidth": 0,
             "ticks": ""
            },
            "colorscale": [
             [
              0,
              "#0d0887"
             ],
             [
              0.1111111111111111,
              "#46039f"
             ],
             [
              0.2222222222222222,
              "#7201a8"
             ],
             [
              0.3333333333333333,
              "#9c179e"
             ],
             [
              0.4444444444444444,
              "#bd3786"
             ],
             [
              0.5555555555555556,
              "#d8576b"
             ],
             [
              0.6666666666666666,
              "#ed7953"
             ],
             [
              0.7777777777777778,
              "#fb9f3a"
             ],
             [
              0.8888888888888888,
              "#fdca26"
             ],
             [
              1,
              "#f0f921"
             ]
            ],
            "type": "histogram2d"
           }
          ],
          "histogram2dcontour": [
           {
            "colorbar": {
             "outlinewidth": 0,
             "ticks": ""
            },
            "colorscale": [
             [
              0,
              "#0d0887"
             ],
             [
              0.1111111111111111,
              "#46039f"
             ],
             [
              0.2222222222222222,
              "#7201a8"
             ],
             [
              0.3333333333333333,
              "#9c179e"
             ],
             [
              0.4444444444444444,
              "#bd3786"
             ],
             [
              0.5555555555555556,
              "#d8576b"
             ],
             [
              0.6666666666666666,
              "#ed7953"
             ],
             [
              0.7777777777777778,
              "#fb9f3a"
             ],
             [
              0.8888888888888888,
              "#fdca26"
             ],
             [
              1,
              "#f0f921"
             ]
            ],
            "type": "histogram2dcontour"
           }
          ],
          "mesh3d": [
           {
            "colorbar": {
             "outlinewidth": 0,
             "ticks": ""
            },
            "type": "mesh3d"
           }
          ],
          "parcoords": [
           {
            "line": {
             "colorbar": {
              "outlinewidth": 0,
              "ticks": ""
             }
            },
            "type": "parcoords"
           }
          ],
          "pie": [
           {
            "automargin": true,
            "type": "pie"
           }
          ],
          "scatter": [
           {
            "marker": {
             "colorbar": {
              "outlinewidth": 0,
              "ticks": ""
             }
            },
            "type": "scatter"
           }
          ],
          "scatter3d": [
           {
            "line": {
             "colorbar": {
              "outlinewidth": 0,
              "ticks": ""
             }
            },
            "marker": {
             "colorbar": {
              "outlinewidth": 0,
              "ticks": ""
             }
            },
            "type": "scatter3d"
           }
          ],
          "scattercarpet": [
           {
            "marker": {
             "colorbar": {
              "outlinewidth": 0,
              "ticks": ""
             }
            },
            "type": "scattercarpet"
           }
          ],
          "scattergeo": [
           {
            "marker": {
             "colorbar": {
              "outlinewidth": 0,
              "ticks": ""
             }
            },
            "type": "scattergeo"
           }
          ],
          "scattergl": [
           {
            "marker": {
             "colorbar": {
              "outlinewidth": 0,
              "ticks": ""
             }
            },
            "type": "scattergl"
           }
          ],
          "scattermapbox": [
           {
            "marker": {
             "colorbar": {
              "outlinewidth": 0,
              "ticks": ""
             }
            },
            "type": "scattermapbox"
           }
          ],
          "scatterpolar": [
           {
            "marker": {
             "colorbar": {
              "outlinewidth": 0,
              "ticks": ""
             }
            },
            "type": "scatterpolar"
           }
          ],
          "scatterpolargl": [
           {
            "marker": {
             "colorbar": {
              "outlinewidth": 0,
              "ticks": ""
             }
            },
            "type": "scatterpolargl"
           }
          ],
          "scatterternary": [
           {
            "marker": {
             "colorbar": {
              "outlinewidth": 0,
              "ticks": ""
             }
            },
            "type": "scatterternary"
           }
          ],
          "surface": [
           {
            "colorbar": {
             "outlinewidth": 0,
             "ticks": ""
            },
            "colorscale": [
             [
              0,
              "#0d0887"
             ],
             [
              0.1111111111111111,
              "#46039f"
             ],
             [
              0.2222222222222222,
              "#7201a8"
             ],
             [
              0.3333333333333333,
              "#9c179e"
             ],
             [
              0.4444444444444444,
              "#bd3786"
             ],
             [
              0.5555555555555556,
              "#d8576b"
             ],
             [
              0.6666666666666666,
              "#ed7953"
             ],
             [
              0.7777777777777778,
              "#fb9f3a"
             ],
             [
              0.8888888888888888,
              "#fdca26"
             ],
             [
              1,
              "#f0f921"
             ]
            ],
            "type": "surface"
           }
          ],
          "table": [
           {
            "cells": {
             "fill": {
              "color": "#EBF0F8"
             },
             "line": {
              "color": "white"
             }
            },
            "header": {
             "fill": {
              "color": "#C8D4E3"
             },
             "line": {
              "color": "white"
             }
            },
            "type": "table"
           }
          ]
         },
         "layout": {
          "annotationdefaults": {
           "arrowcolor": "#2a3f5f",
           "arrowhead": 0,
           "arrowwidth": 1
          },
          "autotypenumbers": "strict",
          "coloraxis": {
           "colorbar": {
            "outlinewidth": 0,
            "ticks": ""
           }
          },
          "colorscale": {
           "diverging": [
            [
             0,
             "#8e0152"
            ],
            [
             0.1,
             "#c51b7d"
            ],
            [
             0.2,
             "#de77ae"
            ],
            [
             0.3,
             "#f1b6da"
            ],
            [
             0.4,
             "#fde0ef"
            ],
            [
             0.5,
             "#f7f7f7"
            ],
            [
             0.6,
             "#e6f5d0"
            ],
            [
             0.7,
             "#b8e186"
            ],
            [
             0.8,
             "#7fbc41"
            ],
            [
             0.9,
             "#4d9221"
            ],
            [
             1,
             "#276419"
            ]
           ],
           "sequential": [
            [
             0,
             "#0d0887"
            ],
            [
             0.1111111111111111,
             "#46039f"
            ],
            [
             0.2222222222222222,
             "#7201a8"
            ],
            [
             0.3333333333333333,
             "#9c179e"
            ],
            [
             0.4444444444444444,
             "#bd3786"
            ],
            [
             0.5555555555555556,
             "#d8576b"
            ],
            [
             0.6666666666666666,
             "#ed7953"
            ],
            [
             0.7777777777777778,
             "#fb9f3a"
            ],
            [
             0.8888888888888888,
             "#fdca26"
            ],
            [
             1,
             "#f0f921"
            ]
           ],
           "sequentialminus": [
            [
             0,
             "#0d0887"
            ],
            [
             0.1111111111111111,
             "#46039f"
            ],
            [
             0.2222222222222222,
             "#7201a8"
            ],
            [
             0.3333333333333333,
             "#9c179e"
            ],
            [
             0.4444444444444444,
             "#bd3786"
            ],
            [
             0.5555555555555556,
             "#d8576b"
            ],
            [
             0.6666666666666666,
             "#ed7953"
            ],
            [
             0.7777777777777778,
             "#fb9f3a"
            ],
            [
             0.8888888888888888,
             "#fdca26"
            ],
            [
             1,
             "#f0f921"
            ]
           ]
          },
          "colorway": [
           "#636efa",
           "#EF553B",
           "#00cc96",
           "#ab63fa",
           "#FFA15A",
           "#19d3f3",
           "#FF6692",
           "#B6E880",
           "#FF97FF",
           "#FECB52"
          ],
          "font": {
           "color": "#2a3f5f"
          },
          "geo": {
           "bgcolor": "white",
           "lakecolor": "white",
           "landcolor": "#E5ECF6",
           "showlakes": true,
           "showland": true,
           "subunitcolor": "white"
          },
          "hoverlabel": {
           "align": "left"
          },
          "hovermode": "closest",
          "mapbox": {
           "style": "light"
          },
          "paper_bgcolor": "white",
          "plot_bgcolor": "#E5ECF6",
          "polar": {
           "angularaxis": {
            "gridcolor": "white",
            "linecolor": "white",
            "ticks": ""
           },
           "bgcolor": "#E5ECF6",
           "radialaxis": {
            "gridcolor": "white",
            "linecolor": "white",
            "ticks": ""
           }
          },
          "scene": {
           "xaxis": {
            "backgroundcolor": "#E5ECF6",
            "gridcolor": "white",
            "gridwidth": 2,
            "linecolor": "white",
            "showbackground": true,
            "ticks": "",
            "zerolinecolor": "white"
           },
           "yaxis": {
            "backgroundcolor": "#E5ECF6",
            "gridcolor": "white",
            "gridwidth": 2,
            "linecolor": "white",
            "showbackground": true,
            "ticks": "",
            "zerolinecolor": "white"
           },
           "zaxis": {
            "backgroundcolor": "#E5ECF6",
            "gridcolor": "white",
            "gridwidth": 2,
            "linecolor": "white",
            "showbackground": true,
            "ticks": "",
            "zerolinecolor": "white"
           }
          },
          "shapedefaults": {
           "line": {
            "color": "#2a3f5f"
           }
          },
          "ternary": {
           "aaxis": {
            "gridcolor": "white",
            "linecolor": "white",
            "ticks": ""
           },
           "baxis": {
            "gridcolor": "white",
            "linecolor": "white",
            "ticks": ""
           },
           "bgcolor": "#E5ECF6",
           "caxis": {
            "gridcolor": "white",
            "linecolor": "white",
            "ticks": ""
           }
          },
          "title": {
           "x": 0.05
          },
          "xaxis": {
           "automargin": true,
           "gridcolor": "white",
           "linecolor": "white",
           "ticks": "",
           "title": {
            "standoff": 15
           },
           "zerolinecolor": "white",
           "zerolinewidth": 2
          },
          "yaxis": {
           "automargin": true,
           "gridcolor": "white",
           "linecolor": "white",
           "ticks": "",
           "title": {
            "standoff": 15
           },
           "zerolinecolor": "white",
           "zerolinewidth": 2
          }
         }
        },
        "title": {
         "text": "Target1 Top 50 feature importance"
        },
        "width": 1250,
        "xaxis": {
         "anchor": "y",
         "domain": [
          0,
          1
         ],
         "title": {
          "text": "feature_importance"
         }
        },
        "yaxis": {
         "anchor": "x",
         "categoryarray": [
          "PlayerStats_holds_rank",
          "target1_202107_mean",
          "target2_202104_mean",
          "target1_202106_quantile75",
          "target2_202107_std",
          "target2_202105_median",
          "target2_202104_quantile75",
          "target4_202107_median",
          "PlayerStats_atBats_rank",
          "target1_202105_std",
          "target2_202105_max",
          "target4_202104_prob",
          "target3_202106_min",
          "target2_202105_mean",
          "target2_202106_prob",
          "target2_202104_std",
          "target4_202107_std",
          "target2_202106_quantile75",
          "target4_202106_min",
          "target1_202105_quantile75",
          "target1_202104_median",
          "target2_202104_median",
          "target2_202107_mean",
          "target2_202106_quantile25",
          "target2_202106_min",
          "PlayerStats_inningsPitched_rank",
          "target3_202107_min",
          "target2_202104_quantile25",
          "target4_202105_prob",
          "target1_202104_min",
          "target2_202104_min",
          "target1_202106_mean",
          "target4_202104_quantile25",
          "Rosters_LE_teamId",
          "target4_202107_quantile25",
          "target4_202105_median",
          "target4_202104_median",
          "target2_202105_quantile75",
          "target4_202107_min",
          "PlayerStats_chances_cum",
          "target1_202104_std",
          "target1_202105_mean",
          "Players_LE_primaryPositionCode",
          "PlayerTwitterFollowerAggregate_numberOfFollowers",
          "Rosters_LE_status",
          "target1_202104_quantile75",
          "target4_202104_min",
          "Players_LE_playerid",
          "TeamTwitterFollowerAggregate_numberOfFollowers",
          "target1_202104_mean"
         ],
         "categoryorder": "array",
         "domain": [
          0,
          1
         ],
         "showgrid": true,
         "title": {
          "text": "feature"
         }
        }
       }
      }
     },
     "metadata": {}
    },
    {
     "output_type": "display_data",
     "data": {
      "application/vnd.plotly.v1+json": {
       "config": {
        "plotlyServerURL": "https://plot.ly"
       },
       "data": [
        {
         "alignmentgroup": "True",
         "hovertemplate": "feature_importance=%{x}<br>feature=%{y}<extra></extra>",
         "legendgroup": "",
         "marker": {
          "color": "#636efa"
         },
         "name": "",
         "notched": false,
         "offsetgroup": "",
         "orientation": "h",
         "showlegend": false,
         "type": "box",
         "x": [
          119254.703125,
          36012.19921875,
          64791.75927734375,
          13376.14990234375,
          0,
          0,
          0,
          11663.5,
          0,
          55997.1015625,
          69434.5888671875,
          54745.2001953125,
          21547.80078125,
          0,
          12959.599609375,
          10746.5,
          10406.5,
          15970.60009765625,
          55932.08984375,
          26206.2802734375,
          0,
          37907.08984375,
          37123.5,
          0,
          0,
          21499.3896484375,
          482688.556640625,
          0,
          365908.3984375,
          48261.359375,
          45049.69921875,
          12068.35009765625,
          23741.5,
          12876.2001953125,
          43587.7099609375,
          0,
          3139399.669921875,
          0,
          90225.1015625,
          48333.80078125,
          0,
          0,
          9380.169921875,
          54412.8984375,
          58597.3408203125,
          11844.7001953125,
          16274.400390625,
          18392.48046875,
          6046.8701171875,
          78695.5,
          61549.80078125,
          0,
          0,
          20566.80078125,
          21296.30078125,
          8227.25,
          10140.900390625,
          21489.9404296875,
          20708.400390625,
          26325.2001953125,
          156692.77099609375,
          0,
          43979,
          8137.669921875,
          0,
          20946.599609375,
          9557.5,
          0,
          58945,
          33209.599609375,
          11121.099609375,
          7317.33984375,
          0,
          79075,
          11649.2001953125,
          4261.08984375,
          422803.58544921875,
          22295.5,
          0,
          0,
          0,
          0,
          0,
          0,
          106802.361328125,
          805652.6000976562,
          2704104.0498046875,
          83388.701171875,
          0,
          53277.1015625,
          61290,
          20141.900390625,
          0,
          129384.603515625,
          63860.701171875,
          0,
          0,
          0,
          6455.58984375,
          0
         ],
         "x0": " ",
         "xaxis": "x",
         "y": [
          "PlayerStats_home",
          "PlayerStats_home_cum",
          "PlayerStats_positionCode",
          "PlayerStats_gamesPlayedBatting",
          "PlayerStats_plateAppearances",
          "PlayerStats_rbi",
          "PlayerStats_gamesStartedPitching",
          "PlayerStats_assists_cum",
          "PlayerStats_chances_cum",
          "PlayerStats_homeRuns_rank",
          "PlayerStats_triples_rank",
          "PlayerStats_runsScored_rank",
          "PlayerStats_totalBases_rank",
          "PlayerStats_hitByPitch_rank",
          "PlayerStats_rc_rank",
          "PlayerStats_winsPitching_rank",
          "PlayerStats_lossesPitching_rank",
          "PlayerStats_saves_rank",
          "PlayerStats_completeGamesPitching_rank",
          "PlayerStats_inningsPitched_rank",
          "PlayerStats_runsPitching_rank",
          "PlayerTwitterFollowerAggregate_numberOfFollowers",
          "target1_202104_mean",
          "target1_202104_min",
          "target2_202104_min",
          "target2_202104_quantile25",
          "target4_202104_min",
          "target4_202104_quantile25",
          "target4_202104_quantile75",
          "target4_202105_min",
          "target4_202105_median",
          "target3_202106_min",
          "target4_202106_min",
          "target1_202107_min",
          "target4_202107_quantile25",
          "Rosters_LE_teamId",
          "Rosters_LE_status",
          "Players_LE_playerid",
          "StandingsMeta_divisionId",
          "StandingsMeta_divisionRank",
          "StandingsMeta_leagueRank",
          "StandingsMeta_wildCardRank",
          "StandingsMeta_wins",
          "StandingsMeta_losses",
          "StandingsMeta_runsAllowed",
          "StandingsMeta_runsScored",
          "StandingsMeta_homeLosses",
          "StandingsMeta_dayLosses",
          "StandingsMeta_nightLosses",
          "StandingsMeta_divLosses",
          "PlayerStats_home",
          "PlayerStats_home_cum",
          "PlayerStats_positionCode",
          "PlayerStats_gamesPlayedBatting",
          "PlayerStats_plateAppearances",
          "PlayerStats_rbi",
          "PlayerStats_gamesStartedPitching",
          "PlayerStats_assists_cum",
          "PlayerStats_chances_cum",
          "PlayerStats_homeRuns_rank",
          "PlayerStats_triples_rank",
          "PlayerStats_runsScored_rank",
          "PlayerStats_totalBases_rank",
          "PlayerStats_hitByPitch_rank",
          "PlayerStats_rc_rank",
          "PlayerStats_winsPitching_rank",
          "PlayerStats_lossesPitching_rank",
          "PlayerStats_saves_rank",
          "PlayerStats_completeGamesPitching_rank",
          "PlayerStats_inningsPitched_rank",
          "PlayerStats_runsPitching_rank",
          "PlayerTwitterFollowerAggregate_numberOfFollowers",
          "target1_202104_mean",
          "target1_202104_min",
          "target2_202104_min",
          "target2_202104_quantile25",
          "target4_202104_min",
          "target4_202104_quantile25",
          "target4_202104_quantile75",
          "target4_202105_min",
          "target4_202105_median",
          "target3_202106_min",
          "target4_202106_min",
          "target1_202107_min",
          "target4_202107_quantile25",
          "Rosters_LE_teamId",
          "Rosters_LE_status",
          "Players_LE_playerid",
          "StandingsMeta_divisionId",
          "StandingsMeta_divisionRank",
          "StandingsMeta_leagueRank",
          "StandingsMeta_wildCardRank",
          "StandingsMeta_wins",
          "StandingsMeta_losses",
          "StandingsMeta_runsAllowed",
          "StandingsMeta_runsScored",
          "StandingsMeta_homeLosses",
          "StandingsMeta_dayLosses",
          "StandingsMeta_nightLosses",
          "StandingsMeta_divLosses"
         ],
         "y0": " ",
         "yaxis": "y"
        }
       ],
       "layout": {
        "boxmode": "group",
        "height": 900,
        "legend": {
         "tracegroupgap": 0
        },
        "template": {
         "data": {
          "bar": [
           {
            "error_x": {
             "color": "#2a3f5f"
            },
            "error_y": {
             "color": "#2a3f5f"
            },
            "marker": {
             "line": {
              "color": "#E5ECF6",
              "width": 0.5
             }
            },
            "type": "bar"
           }
          ],
          "barpolar": [
           {
            "marker": {
             "line": {
              "color": "#E5ECF6",
              "width": 0.5
             }
            },
            "type": "barpolar"
           }
          ],
          "carpet": [
           {
            "aaxis": {
             "endlinecolor": "#2a3f5f",
             "gridcolor": "white",
             "linecolor": "white",
             "minorgridcolor": "white",
             "startlinecolor": "#2a3f5f"
            },
            "baxis": {
             "endlinecolor": "#2a3f5f",
             "gridcolor": "white",
             "linecolor": "white",
             "minorgridcolor": "white",
             "startlinecolor": "#2a3f5f"
            },
            "type": "carpet"
           }
          ],
          "choropleth": [
           {
            "colorbar": {
             "outlinewidth": 0,
             "ticks": ""
            },
            "type": "choropleth"
           }
          ],
          "contour": [
           {
            "colorbar": {
             "outlinewidth": 0,
             "ticks": ""
            },
            "colorscale": [
             [
              0,
              "#0d0887"
             ],
             [
              0.1111111111111111,
              "#46039f"
             ],
             [
              0.2222222222222222,
              "#7201a8"
             ],
             [
              0.3333333333333333,
              "#9c179e"
             ],
             [
              0.4444444444444444,
              "#bd3786"
             ],
             [
              0.5555555555555556,
              "#d8576b"
             ],
             [
              0.6666666666666666,
              "#ed7953"
             ],
             [
              0.7777777777777778,
              "#fb9f3a"
             ],
             [
              0.8888888888888888,
              "#fdca26"
             ],
             [
              1,
              "#f0f921"
             ]
            ],
            "type": "contour"
           }
          ],
          "contourcarpet": [
           {
            "colorbar": {
             "outlinewidth": 0,
             "ticks": ""
            },
            "type": "contourcarpet"
           }
          ],
          "heatmap": [
           {
            "colorbar": {
             "outlinewidth": 0,
             "ticks": ""
            },
            "colorscale": [
             [
              0,
              "#0d0887"
             ],
             [
              0.1111111111111111,
              "#46039f"
             ],
             [
              0.2222222222222222,
              "#7201a8"
             ],
             [
              0.3333333333333333,
              "#9c179e"
             ],
             [
              0.4444444444444444,
              "#bd3786"
             ],
             [
              0.5555555555555556,
              "#d8576b"
             ],
             [
              0.6666666666666666,
              "#ed7953"
             ],
             [
              0.7777777777777778,
              "#fb9f3a"
             ],
             [
              0.8888888888888888,
              "#fdca26"
             ],
             [
              1,
              "#f0f921"
             ]
            ],
            "type": "heatmap"
           }
          ],
          "heatmapgl": [
           {
            "colorbar": {
             "outlinewidth": 0,
             "ticks": ""
            },
            "colorscale": [
             [
              0,
              "#0d0887"
             ],
             [
              0.1111111111111111,
              "#46039f"
             ],
             [
              0.2222222222222222,
              "#7201a8"
             ],
             [
              0.3333333333333333,
              "#9c179e"
             ],
             [
              0.4444444444444444,
              "#bd3786"
             ],
             [
              0.5555555555555556,
              "#d8576b"
             ],
             [
              0.6666666666666666,
              "#ed7953"
             ],
             [
              0.7777777777777778,
              "#fb9f3a"
             ],
             [
              0.8888888888888888,
              "#fdca26"
             ],
             [
              1,
              "#f0f921"
             ]
            ],
            "type": "heatmapgl"
           }
          ],
          "histogram": [
           {
            "marker": {
             "colorbar": {
              "outlinewidth": 0,
              "ticks": ""
             }
            },
            "type": "histogram"
           }
          ],
          "histogram2d": [
           {
            "colorbar": {
             "outlinewidth": 0,
             "ticks": ""
            },
            "colorscale": [
             [
              0,
              "#0d0887"
             ],
             [
              0.1111111111111111,
              "#46039f"
             ],
             [
              0.2222222222222222,
              "#7201a8"
             ],
             [
              0.3333333333333333,
              "#9c179e"
             ],
             [
              0.4444444444444444,
              "#bd3786"
             ],
             [
              0.5555555555555556,
              "#d8576b"
             ],
             [
              0.6666666666666666,
              "#ed7953"
             ],
             [
              0.7777777777777778,
              "#fb9f3a"
             ],
             [
              0.8888888888888888,
              "#fdca26"
             ],
             [
              1,
              "#f0f921"
             ]
            ],
            "type": "histogram2d"
           }
          ],
          "histogram2dcontour": [
           {
            "colorbar": {
             "outlinewidth": 0,
             "ticks": ""
            },
            "colorscale": [
             [
              0,
              "#0d0887"
             ],
             [
              0.1111111111111111,
              "#46039f"
             ],
             [
              0.2222222222222222,
              "#7201a8"
             ],
             [
              0.3333333333333333,
              "#9c179e"
             ],
             [
              0.4444444444444444,
              "#bd3786"
             ],
             [
              0.5555555555555556,
              "#d8576b"
             ],
             [
              0.6666666666666666,
              "#ed7953"
             ],
             [
              0.7777777777777778,
              "#fb9f3a"
             ],
             [
              0.8888888888888888,
              "#fdca26"
             ],
             [
              1,
              "#f0f921"
             ]
            ],
            "type": "histogram2dcontour"
           }
          ],
          "mesh3d": [
           {
            "colorbar": {
             "outlinewidth": 0,
             "ticks": ""
            },
            "type": "mesh3d"
           }
          ],
          "parcoords": [
           {
            "line": {
             "colorbar": {
              "outlinewidth": 0,
              "ticks": ""
             }
            },
            "type": "parcoords"
           }
          ],
          "pie": [
           {
            "automargin": true,
            "type": "pie"
           }
          ],
          "scatter": [
           {
            "marker": {
             "colorbar": {
              "outlinewidth": 0,
              "ticks": ""
             }
            },
            "type": "scatter"
           }
          ],
          "scatter3d": [
           {
            "line": {
             "colorbar": {
              "outlinewidth": 0,
              "ticks": ""
             }
            },
            "marker": {
             "colorbar": {
              "outlinewidth": 0,
              "ticks": ""
             }
            },
            "type": "scatter3d"
           }
          ],
          "scattercarpet": [
           {
            "marker": {
             "colorbar": {
              "outlinewidth": 0,
              "ticks": ""
             }
            },
            "type": "scattercarpet"
           }
          ],
          "scattergeo": [
           {
            "marker": {
             "colorbar": {
              "outlinewidth": 0,
              "ticks": ""
             }
            },
            "type": "scattergeo"
           }
          ],
          "scattergl": [
           {
            "marker": {
             "colorbar": {
              "outlinewidth": 0,
              "ticks": ""
             }
            },
            "type": "scattergl"
           }
          ],
          "scattermapbox": [
           {
            "marker": {
             "colorbar": {
              "outlinewidth": 0,
              "ticks": ""
             }
            },
            "type": "scattermapbox"
           }
          ],
          "scatterpolar": [
           {
            "marker": {
             "colorbar": {
              "outlinewidth": 0,
              "ticks": ""
             }
            },
            "type": "scatterpolar"
           }
          ],
          "scatterpolargl": [
           {
            "marker": {
             "colorbar": {
              "outlinewidth": 0,
              "ticks": ""
             }
            },
            "type": "scatterpolargl"
           }
          ],
          "scatterternary": [
           {
            "marker": {
             "colorbar": {
              "outlinewidth": 0,
              "ticks": ""
             }
            },
            "type": "scatterternary"
           }
          ],
          "surface": [
           {
            "colorbar": {
             "outlinewidth": 0,
             "ticks": ""
            },
            "colorscale": [
             [
              0,
              "#0d0887"
             ],
             [
              0.1111111111111111,
              "#46039f"
             ],
             [
              0.2222222222222222,
              "#7201a8"
             ],
             [
              0.3333333333333333,
              "#9c179e"
             ],
             [
              0.4444444444444444,
              "#bd3786"
             ],
             [
              0.5555555555555556,
              "#d8576b"
             ],
             [
              0.6666666666666666,
              "#ed7953"
             ],
             [
              0.7777777777777778,
              "#fb9f3a"
             ],
             [
              0.8888888888888888,
              "#fdca26"
             ],
             [
              1,
              "#f0f921"
             ]
            ],
            "type": "surface"
           }
          ],
          "table": [
           {
            "cells": {
             "fill": {
              "color": "#EBF0F8"
             },
             "line": {
              "color": "white"
             }
            },
            "header": {
             "fill": {
              "color": "#C8D4E3"
             },
             "line": {
              "color": "white"
             }
            },
            "type": "table"
           }
          ]
         },
         "layout": {
          "annotationdefaults": {
           "arrowcolor": "#2a3f5f",
           "arrowhead": 0,
           "arrowwidth": 1
          },
          "autotypenumbers": "strict",
          "coloraxis": {
           "colorbar": {
            "outlinewidth": 0,
            "ticks": ""
           }
          },
          "colorscale": {
           "diverging": [
            [
             0,
             "#8e0152"
            ],
            [
             0.1,
             "#c51b7d"
            ],
            [
             0.2,
             "#de77ae"
            ],
            [
             0.3,
             "#f1b6da"
            ],
            [
             0.4,
             "#fde0ef"
            ],
            [
             0.5,
             "#f7f7f7"
            ],
            [
             0.6,
             "#e6f5d0"
            ],
            [
             0.7,
             "#b8e186"
            ],
            [
             0.8,
             "#7fbc41"
            ],
            [
             0.9,
             "#4d9221"
            ],
            [
             1,
             "#276419"
            ]
           ],
           "sequential": [
            [
             0,
             "#0d0887"
            ],
            [
             0.1111111111111111,
             "#46039f"
            ],
            [
             0.2222222222222222,
             "#7201a8"
            ],
            [
             0.3333333333333333,
             "#9c179e"
            ],
            [
             0.4444444444444444,
             "#bd3786"
            ],
            [
             0.5555555555555556,
             "#d8576b"
            ],
            [
             0.6666666666666666,
             "#ed7953"
            ],
            [
             0.7777777777777778,
             "#fb9f3a"
            ],
            [
             0.8888888888888888,
             "#fdca26"
            ],
            [
             1,
             "#f0f921"
            ]
           ],
           "sequentialminus": [
            [
             0,
             "#0d0887"
            ],
            [
             0.1111111111111111,
             "#46039f"
            ],
            [
             0.2222222222222222,
             "#7201a8"
            ],
            [
             0.3333333333333333,
             "#9c179e"
            ],
            [
             0.4444444444444444,
             "#bd3786"
            ],
            [
             0.5555555555555556,
             "#d8576b"
            ],
            [
             0.6666666666666666,
             "#ed7953"
            ],
            [
             0.7777777777777778,
             "#fb9f3a"
            ],
            [
             0.8888888888888888,
             "#fdca26"
            ],
            [
             1,
             "#f0f921"
            ]
           ]
          },
          "colorway": [
           "#636efa",
           "#EF553B",
           "#00cc96",
           "#ab63fa",
           "#FFA15A",
           "#19d3f3",
           "#FF6692",
           "#B6E880",
           "#FF97FF",
           "#FECB52"
          ],
          "font": {
           "color": "#2a3f5f"
          },
          "geo": {
           "bgcolor": "white",
           "lakecolor": "white",
           "landcolor": "#E5ECF6",
           "showlakes": true,
           "showland": true,
           "subunitcolor": "white"
          },
          "hoverlabel": {
           "align": "left"
          },
          "hovermode": "closest",
          "mapbox": {
           "style": "light"
          },
          "paper_bgcolor": "white",
          "plot_bgcolor": "#E5ECF6",
          "polar": {
           "angularaxis": {
            "gridcolor": "white",
            "linecolor": "white",
            "ticks": ""
           },
           "bgcolor": "#E5ECF6",
           "radialaxis": {
            "gridcolor": "white",
            "linecolor": "white",
            "ticks": ""
           }
          },
          "scene": {
           "xaxis": {
            "backgroundcolor": "#E5ECF6",
            "gridcolor": "white",
            "gridwidth": 2,
            "linecolor": "white",
            "showbackground": true,
            "ticks": "",
            "zerolinecolor": "white"
           },
           "yaxis": {
            "backgroundcolor": "#E5ECF6",
            "gridcolor": "white",
            "gridwidth": 2,
            "linecolor": "white",
            "showbackground": true,
            "ticks": "",
            "zerolinecolor": "white"
           },
           "zaxis": {
            "backgroundcolor": "#E5ECF6",
            "gridcolor": "white",
            "gridwidth": 2,
            "linecolor": "white",
            "showbackground": true,
            "ticks": "",
            "zerolinecolor": "white"
           }
          },
          "shapedefaults": {
           "line": {
            "color": "#2a3f5f"
           }
          },
          "ternary": {
           "aaxis": {
            "gridcolor": "white",
            "linecolor": "white",
            "ticks": ""
           },
           "baxis": {
            "gridcolor": "white",
            "linecolor": "white",
            "ticks": ""
           },
           "bgcolor": "#E5ECF6",
           "caxis": {
            "gridcolor": "white",
            "linecolor": "white",
            "ticks": ""
           }
          },
          "title": {
           "x": 0.05
          },
          "xaxis": {
           "automargin": true,
           "gridcolor": "white",
           "linecolor": "white",
           "ticks": "",
           "title": {
            "standoff": 15
           },
           "zerolinecolor": "white",
           "zerolinewidth": 2
          },
          "yaxis": {
           "automargin": true,
           "gridcolor": "white",
           "linecolor": "white",
           "ticks": "",
           "title": {
            "standoff": 15
           },
           "zerolinecolor": "white",
           "zerolinewidth": 2
          }
         }
        },
        "title": {
         "text": "Target2 Top 50 feature importance"
        },
        "width": 1250,
        "xaxis": {
         "anchor": "y",
         "domain": [
          0,
          1
         ],
         "title": {
          "text": "feature_importance"
         }
        },
        "yaxis": {
         "anchor": "x",
         "categoryarray": [
          "PlayerStats_hitByPitch_rank",
          "PlayerStats_rbi",
          "StandingsMeta_wins",
          "PlayerStats_gamesStartedPitching",
          "PlayerStats_runsPitching_rank",
          "target2_202104_min",
          "StandingsMeta_runsScored",
          "target3_202106_min",
          "StandingsMeta_nightLosses",
          "target1_202107_min",
          "PlayerStats_rc_rank",
          "PlayerStats_saves_rank",
          "StandingsMeta_homeLosses",
          "StandingsMeta_dayLosses",
          "PlayerStats_lossesPitching_rank",
          "StandingsMeta_wildCardRank",
          "PlayerStats_chances_cum",
          "PlayerStats_plateAppearances",
          "target4_202104_quantile25",
          "target4_202106_min",
          "target2_202104_quantile25",
          "PlayerStats_winsPitching_rank",
          "PlayerStats_assists_cum",
          "PlayerStats_gamesPlayedBatting",
          "PlayerStats_home_cum",
          "target1_202104_mean",
          "target4_202105_median",
          "PlayerTwitterFollowerAggregate_numberOfFollowers",
          "target4_202105_min",
          "PlayerStats_runsScored_rank",
          "PlayerStats_inningsPitched_rank",
          "StandingsMeta_leagueRank",
          "PlayerStats_positionCode",
          "PlayerStats_totalBases_rank",
          "StandingsMeta_divLosses",
          "target1_202104_min",
          "PlayerStats_homeRuns_rank",
          "Players_LE_playerid",
          "StandingsMeta_divisionId",
          "StandingsMeta_divisionRank",
          "PlayerStats_completeGamesPitching_rank",
          "StandingsMeta_runsAllowed",
          "target4_202107_quantile25",
          "PlayerStats_home",
          "StandingsMeta_losses",
          "PlayerStats_triples_rank",
          "target4_202104_quantile75",
          "Rosters_LE_teamId",
          "target4_202104_min",
          "Rosters_LE_status"
         ],
         "categoryorder": "array",
         "domain": [
          0,
          1
         ],
         "showgrid": true,
         "title": {
          "text": "feature"
         }
        }
       }
      }
     },
     "metadata": {}
    },
    {
     "output_type": "display_data",
     "data": {
      "application/vnd.plotly.v1+json": {
       "config": {
        "plotlyServerURL": "https://plot.ly"
       },
       "data": [
        {
         "alignmentgroup": "True",
         "hovertemplate": "feature_importance=%{x}<br>feature=%{y}<extra></extra>",
         "legendgroup": "",
         "marker": {
          "color": "#636efa"
         },
         "name": "",
         "notched": false,
         "offsetgroup": "",
         "orientation": "h",
         "showlegend": false,
         "type": "box",
         "x": [
          135055.58282852173,
          1025522.6407165527,
          381216.9323196411,
          242770.66976165771,
          378641.3317489624,
          2023401.2753181458,
          963153.6499376297,
          393496.9500672817,
          2146438.2185230255,
          69109.03691045521,
          152482.60982394218,
          104490.82563686371,
          72145.82231998444,
          2214476.422554761,
          65476317.77817389,
          1158073.6125769615,
          169833.58095741272,
          611130.112859726,
          6416666.315132141,
          70290.719622612,
          177879.15405273438,
          178520.08336257935,
          21568807.211130142,
          7551738.917549133,
          171825.555727005,
          98026.5280418396,
          389039.3989429474,
          852472.9721450806,
          1114546.2340717316,
          199504.57279014587,
          104752.60906410217,
          66617.14531326294,
          234077.33957195282,
          264069.7964091301,
          4131.164520263672,
          972260.5479507446,
          631982.8752803802,
          1512368.067867279,
          300745.8961906433,
          1481968.5870056152,
          165903.80517959595,
          608173.3566141129,
          47377.15241622925,
          77024.65745353699,
          51043.74928855896,
          110445.38106918335,
          5686329.018882751,
          162976.81326293945,
          359652.51408052444,
          26922794.54339981,
          1188240.2694869041,
          245.90796184539795,
          2547.9869117736816,
          2024.4111938476562,
          1740.4409837722778,
          52121.09691619873,
          2238.75399017334,
          1354.8949356079102,
          8230.731606960297,
          139647.66127419472,
          257250.81960821152,
          92311.87211608887,
          130733.97842648625,
          1881025.0795282125,
          26730396.833154976,
          68001.5120601654,
          252111.12174415588,
          320863.9336128235,
          2076660.4619054794,
          410472.81493377686,
          33450.52949523926,
          184352.4174118042,
          3058604.981113434,
          11536728.020729065,
          17807.967433929443,
          469045.71237564087,
          696854.6833953857,
          15960.549209594727,
          348504.24348187447,
          187070.06356811523,
          119276.75455665588,
          378151.95056676865,
          83819.65976333618,
          40676.64380645752,
          197712.72033691406,
          6008.491973876953,
          434081.447719574,
          1898725.1646471024,
          243002.25025749207,
          225858.48775482178,
          173538.5504360199,
          16013.1752243042,
          500347.54680252075,
          112646.79274368286,
          312173.614238739,
          104838.45082092285,
          1007290.9778213501,
          19168.235565185547,
          1653551.728837967,
          7464159.852144241
         ],
         "x0": " ",
         "xaxis": "x",
         "y": [
          "PlayerStats_doubles_cum",
          "PlayerStats_caughtStealing_cum",
          "PlayerStats_pickoffs_cum",
          "PlayerStats_saves_cum",
          "PlayerStats_hitByPitchPitching_cum",
          "PlayerStats_intentionalWalksPitching_cum",
          "PlayerStats_flyOutsPitching_cum",
          "PlayerStats_hits_rank",
          "PlayerStats_strikeOuts_rank",
          "PlayerStats_lossesPitching_rank",
          "PlayerStats_holds_rank",
          "PlayerStats_completeGamesPitching_rank",
          "PlayerStats_shutoutsPitching_rank",
          "PlayerTwitterFollowerAggregate_numberOfFollowers",
          "TeamTwitterFollowerAggregate_numberOfFollowers",
          "target2_202104_mean",
          "target2_202104_std",
          "target2_202104_min",
          "target3_202104_mean",
          "target3_202104_std",
          "target3_202104_max",
          "target3_202104_min",
          "target3_202104_quantile75",
          "target4_202104_min",
          "target2_202105_std",
          "target2_202105_max",
          "target2_202105_quantile25",
          "target2_202105_quantile75",
          "target3_202105_mean",
          "target3_202105_min",
          "target3_202105_quantile25",
          "target3_202105_quantile75",
          "target4_202105_min",
          "target4_202105_prob",
          "target1_202106_quantile75",
          "target2_202106_quantile25",
          "target2_202106_prob",
          "target3_202106_mean",
          "target3_202106_median",
          "target3_202106_quantile25",
          "target4_202106_min",
          "target2_202107_mean",
          "target2_202107_prob",
          "target3_202107_mean",
          "target3_202107_std",
          "target3_202107_min",
          "target4_202107_min",
          "target4_202107_prob",
          "Rosters_LE_status",
          "Players_LE_playerid",
          "PlayerStats_doubles_cum",
          "PlayerStats_caughtStealing_cum",
          "PlayerStats_pickoffs_cum",
          "PlayerStats_saves_cum",
          "PlayerStats_hitByPitchPitching_cum",
          "PlayerStats_intentionalWalksPitching_cum",
          "PlayerStats_flyOutsPitching_cum",
          "PlayerStats_hits_rank",
          "PlayerStats_strikeOuts_rank",
          "PlayerStats_lossesPitching_rank",
          "PlayerStats_holds_rank",
          "PlayerStats_completeGamesPitching_rank",
          "PlayerStats_shutoutsPitching_rank",
          "PlayerTwitterFollowerAggregate_numberOfFollowers",
          "TeamTwitterFollowerAggregate_numberOfFollowers",
          "target2_202104_mean",
          "target2_202104_std",
          "target2_202104_min",
          "target3_202104_mean",
          "target3_202104_std",
          "target3_202104_max",
          "target3_202104_min",
          "target3_202104_quantile75",
          "target4_202104_min",
          "target2_202105_std",
          "target2_202105_max",
          "target2_202105_quantile25",
          "target2_202105_quantile75",
          "target3_202105_mean",
          "target3_202105_min",
          "target3_202105_quantile25",
          "target3_202105_quantile75",
          "target4_202105_min",
          "target4_202105_prob",
          "target1_202106_quantile75",
          "target2_202106_quantile25",
          "target2_202106_prob",
          "target3_202106_mean",
          "target3_202106_median",
          "target3_202106_quantile25",
          "target4_202106_min",
          "target2_202107_mean",
          "target2_202107_prob",
          "target3_202107_mean",
          "target3_202107_std",
          "target3_202107_min",
          "target4_202107_min",
          "target4_202107_prob",
          "Rosters_LE_status",
          "Players_LE_playerid"
         ],
         "y0": " ",
         "yaxis": "y"
        }
       ],
       "layout": {
        "boxmode": "group",
        "height": 900,
        "legend": {
         "tracegroupgap": 0
        },
        "template": {
         "data": {
          "bar": [
           {
            "error_x": {
             "color": "#2a3f5f"
            },
            "error_y": {
             "color": "#2a3f5f"
            },
            "marker": {
             "line": {
              "color": "#E5ECF6",
              "width": 0.5
             }
            },
            "type": "bar"
           }
          ],
          "barpolar": [
           {
            "marker": {
             "line": {
              "color": "#E5ECF6",
              "width": 0.5
             }
            },
            "type": "barpolar"
           }
          ],
          "carpet": [
           {
            "aaxis": {
             "endlinecolor": "#2a3f5f",
             "gridcolor": "white",
             "linecolor": "white",
             "minorgridcolor": "white",
             "startlinecolor": "#2a3f5f"
            },
            "baxis": {
             "endlinecolor": "#2a3f5f",
             "gridcolor": "white",
             "linecolor": "white",
             "minorgridcolor": "white",
             "startlinecolor": "#2a3f5f"
            },
            "type": "carpet"
           }
          ],
          "choropleth": [
           {
            "colorbar": {
             "outlinewidth": 0,
             "ticks": ""
            },
            "type": "choropleth"
           }
          ],
          "contour": [
           {
            "colorbar": {
             "outlinewidth": 0,
             "ticks": ""
            },
            "colorscale": [
             [
              0,
              "#0d0887"
             ],
             [
              0.1111111111111111,
              "#46039f"
             ],
             [
              0.2222222222222222,
              "#7201a8"
             ],
             [
              0.3333333333333333,
              "#9c179e"
             ],
             [
              0.4444444444444444,
              "#bd3786"
             ],
             [
              0.5555555555555556,
              "#d8576b"
             ],
             [
              0.6666666666666666,
              "#ed7953"
             ],
             [
              0.7777777777777778,
              "#fb9f3a"
             ],
             [
              0.8888888888888888,
              "#fdca26"
             ],
             [
              1,
              "#f0f921"
             ]
            ],
            "type": "contour"
           }
          ],
          "contourcarpet": [
           {
            "colorbar": {
             "outlinewidth": 0,
             "ticks": ""
            },
            "type": "contourcarpet"
           }
          ],
          "heatmap": [
           {
            "colorbar": {
             "outlinewidth": 0,
             "ticks": ""
            },
            "colorscale": [
             [
              0,
              "#0d0887"
             ],
             [
              0.1111111111111111,
              "#46039f"
             ],
             [
              0.2222222222222222,
              "#7201a8"
             ],
             [
              0.3333333333333333,
              "#9c179e"
             ],
             [
              0.4444444444444444,
              "#bd3786"
             ],
             [
              0.5555555555555556,
              "#d8576b"
             ],
             [
              0.6666666666666666,
              "#ed7953"
             ],
             [
              0.7777777777777778,
              "#fb9f3a"
             ],
             [
              0.8888888888888888,
              "#fdca26"
             ],
             [
              1,
              "#f0f921"
             ]
            ],
            "type": "heatmap"
           }
          ],
          "heatmapgl": [
           {
            "colorbar": {
             "outlinewidth": 0,
             "ticks": ""
            },
            "colorscale": [
             [
              0,
              "#0d0887"
             ],
             [
              0.1111111111111111,
              "#46039f"
             ],
             [
              0.2222222222222222,
              "#7201a8"
             ],
             [
              0.3333333333333333,
              "#9c179e"
             ],
             [
              0.4444444444444444,
              "#bd3786"
             ],
             [
              0.5555555555555556,
              "#d8576b"
             ],
             [
              0.6666666666666666,
              "#ed7953"
             ],
             [
              0.7777777777777778,
              "#fb9f3a"
             ],
             [
              0.8888888888888888,
              "#fdca26"
             ],
             [
              1,
              "#f0f921"
             ]
            ],
            "type": "heatmapgl"
           }
          ],
          "histogram": [
           {
            "marker": {
             "colorbar": {
              "outlinewidth": 0,
              "ticks": ""
             }
            },
            "type": "histogram"
           }
          ],
          "histogram2d": [
           {
            "colorbar": {
             "outlinewidth": 0,
             "ticks": ""
            },
            "colorscale": [
             [
              0,
              "#0d0887"
             ],
             [
              0.1111111111111111,
              "#46039f"
             ],
             [
              0.2222222222222222,
              "#7201a8"
             ],
             [
              0.3333333333333333,
              "#9c179e"
             ],
             [
              0.4444444444444444,
              "#bd3786"
             ],
             [
              0.5555555555555556,
              "#d8576b"
             ],
             [
              0.6666666666666666,
              "#ed7953"
             ],
             [
              0.7777777777777778,
              "#fb9f3a"
             ],
             [
              0.8888888888888888,
              "#fdca26"
             ],
             [
              1,
              "#f0f921"
             ]
            ],
            "type": "histogram2d"
           }
          ],
          "histogram2dcontour": [
           {
            "colorbar": {
             "outlinewidth": 0,
             "ticks": ""
            },
            "colorscale": [
             [
              0,
              "#0d0887"
             ],
             [
              0.1111111111111111,
              "#46039f"
             ],
             [
              0.2222222222222222,
              "#7201a8"
             ],
             [
              0.3333333333333333,
              "#9c179e"
             ],
             [
              0.4444444444444444,
              "#bd3786"
             ],
             [
              0.5555555555555556,
              "#d8576b"
             ],
             [
              0.6666666666666666,
              "#ed7953"
             ],
             [
              0.7777777777777778,
              "#fb9f3a"
             ],
             [
              0.8888888888888888,
              "#fdca26"
             ],
             [
              1,
              "#f0f921"
             ]
            ],
            "type": "histogram2dcontour"
           }
          ],
          "mesh3d": [
           {
            "colorbar": {
             "outlinewidth": 0,
             "ticks": ""
            },
            "type": "mesh3d"
           }
          ],
          "parcoords": [
           {
            "line": {
             "colorbar": {
              "outlinewidth": 0,
              "ticks": ""
             }
            },
            "type": "parcoords"
           }
          ],
          "pie": [
           {
            "automargin": true,
            "type": "pie"
           }
          ],
          "scatter": [
           {
            "marker": {
             "colorbar": {
              "outlinewidth": 0,
              "ticks": ""
             }
            },
            "type": "scatter"
           }
          ],
          "scatter3d": [
           {
            "line": {
             "colorbar": {
              "outlinewidth": 0,
              "ticks": ""
             }
            },
            "marker": {
             "colorbar": {
              "outlinewidth": 0,
              "ticks": ""
             }
            },
            "type": "scatter3d"
           }
          ],
          "scattercarpet": [
           {
            "marker": {
             "colorbar": {
              "outlinewidth": 0,
              "ticks": ""
             }
            },
            "type": "scattercarpet"
           }
          ],
          "scattergeo": [
           {
            "marker": {
             "colorbar": {
              "outlinewidth": 0,
              "ticks": ""
             }
            },
            "type": "scattergeo"
           }
          ],
          "scattergl": [
           {
            "marker": {
             "colorbar": {
              "outlinewidth": 0,
              "ticks": ""
             }
            },
            "type": "scattergl"
           }
          ],
          "scattermapbox": [
           {
            "marker": {
             "colorbar": {
              "outlinewidth": 0,
              "ticks": ""
             }
            },
            "type": "scattermapbox"
           }
          ],
          "scatterpolar": [
           {
            "marker": {
             "colorbar": {
              "outlinewidth": 0,
              "ticks": ""
             }
            },
            "type": "scatterpolar"
           }
          ],
          "scatterpolargl": [
           {
            "marker": {
             "colorbar": {
              "outlinewidth": 0,
              "ticks": ""
             }
            },
            "type": "scatterpolargl"
           }
          ],
          "scatterternary": [
           {
            "marker": {
             "colorbar": {
              "outlinewidth": 0,
              "ticks": ""
             }
            },
            "type": "scatterternary"
           }
          ],
          "surface": [
           {
            "colorbar": {
             "outlinewidth": 0,
             "ticks": ""
            },
            "colorscale": [
             [
              0,
              "#0d0887"
             ],
             [
              0.1111111111111111,
              "#46039f"
             ],
             [
              0.2222222222222222,
              "#7201a8"
             ],
             [
              0.3333333333333333,
              "#9c179e"
             ],
             [
              0.4444444444444444,
              "#bd3786"
             ],
             [
              0.5555555555555556,
              "#d8576b"
             ],
             [
              0.6666666666666666,
              "#ed7953"
             ],
             [
              0.7777777777777778,
              "#fb9f3a"
             ],
             [
              0.8888888888888888,
              "#fdca26"
             ],
             [
              1,
              "#f0f921"
             ]
            ],
            "type": "surface"
           }
          ],
          "table": [
           {
            "cells": {
             "fill": {
              "color": "#EBF0F8"
             },
             "line": {
              "color": "white"
             }
            },
            "header": {
             "fill": {
              "color": "#C8D4E3"
             },
             "line": {
              "color": "white"
             }
            },
            "type": "table"
           }
          ]
         },
         "layout": {
          "annotationdefaults": {
           "arrowcolor": "#2a3f5f",
           "arrowhead": 0,
           "arrowwidth": 1
          },
          "autotypenumbers": "strict",
          "coloraxis": {
           "colorbar": {
            "outlinewidth": 0,
            "ticks": ""
           }
          },
          "colorscale": {
           "diverging": [
            [
             0,
             "#8e0152"
            ],
            [
             0.1,
             "#c51b7d"
            ],
            [
             0.2,
             "#de77ae"
            ],
            [
             0.3,
             "#f1b6da"
            ],
            [
             0.4,
             "#fde0ef"
            ],
            [
             0.5,
             "#f7f7f7"
            ],
            [
             0.6,
             "#e6f5d0"
            ],
            [
             0.7,
             "#b8e186"
            ],
            [
             0.8,
             "#7fbc41"
            ],
            [
             0.9,
             "#4d9221"
            ],
            [
             1,
             "#276419"
            ]
           ],
           "sequential": [
            [
             0,
             "#0d0887"
            ],
            [
             0.1111111111111111,
             "#46039f"
            ],
            [
             0.2222222222222222,
             "#7201a8"
            ],
            [
             0.3333333333333333,
             "#9c179e"
            ],
            [
             0.4444444444444444,
             "#bd3786"
            ],
            [
             0.5555555555555556,
             "#d8576b"
            ],
            [
             0.6666666666666666,
             "#ed7953"
            ],
            [
             0.7777777777777778,
             "#fb9f3a"
            ],
            [
             0.8888888888888888,
             "#fdca26"
            ],
            [
             1,
             "#f0f921"
            ]
           ],
           "sequentialminus": [
            [
             0,
             "#0d0887"
            ],
            [
             0.1111111111111111,
             "#46039f"
            ],
            [
             0.2222222222222222,
             "#7201a8"
            ],
            [
             0.3333333333333333,
             "#9c179e"
            ],
            [
             0.4444444444444444,
             "#bd3786"
            ],
            [
             0.5555555555555556,
             "#d8576b"
            ],
            [
             0.6666666666666666,
             "#ed7953"
            ],
            [
             0.7777777777777778,
             "#fb9f3a"
            ],
            [
             0.8888888888888888,
             "#fdca26"
            ],
            [
             1,
             "#f0f921"
            ]
           ]
          },
          "colorway": [
           "#636efa",
           "#EF553B",
           "#00cc96",
           "#ab63fa",
           "#FFA15A",
           "#19d3f3",
           "#FF6692",
           "#B6E880",
           "#FF97FF",
           "#FECB52"
          ],
          "font": {
           "color": "#2a3f5f"
          },
          "geo": {
           "bgcolor": "white",
           "lakecolor": "white",
           "landcolor": "#E5ECF6",
           "showlakes": true,
           "showland": true,
           "subunitcolor": "white"
          },
          "hoverlabel": {
           "align": "left"
          },
          "hovermode": "closest",
          "mapbox": {
           "style": "light"
          },
          "paper_bgcolor": "white",
          "plot_bgcolor": "#E5ECF6",
          "polar": {
           "angularaxis": {
            "gridcolor": "white",
            "linecolor": "white",
            "ticks": ""
           },
           "bgcolor": "#E5ECF6",
           "radialaxis": {
            "gridcolor": "white",
            "linecolor": "white",
            "ticks": ""
           }
          },
          "scene": {
           "xaxis": {
            "backgroundcolor": "#E5ECF6",
            "gridcolor": "white",
            "gridwidth": 2,
            "linecolor": "white",
            "showbackground": true,
            "ticks": "",
            "zerolinecolor": "white"
           },
           "yaxis": {
            "backgroundcolor": "#E5ECF6",
            "gridcolor": "white",
            "gridwidth": 2,
            "linecolor": "white",
            "showbackground": true,
            "ticks": "",
            "zerolinecolor": "white"
           },
           "zaxis": {
            "backgroundcolor": "#E5ECF6",
            "gridcolor": "white",
            "gridwidth": 2,
            "linecolor": "white",
            "showbackground": true,
            "ticks": "",
            "zerolinecolor": "white"
           }
          },
          "shapedefaults": {
           "line": {
            "color": "#2a3f5f"
           }
          },
          "ternary": {
           "aaxis": {
            "gridcolor": "white",
            "linecolor": "white",
            "ticks": ""
           },
           "baxis": {
            "gridcolor": "white",
            "linecolor": "white",
            "ticks": ""
           },
           "bgcolor": "#E5ECF6",
           "caxis": {
            "gridcolor": "white",
            "linecolor": "white",
            "ticks": ""
           }
          },
          "title": {
           "x": 0.05
          },
          "xaxis": {
           "automargin": true,
           "gridcolor": "white",
           "linecolor": "white",
           "ticks": "",
           "title": {
            "standoff": 15
           },
           "zerolinecolor": "white",
           "zerolinewidth": 2
          },
          "yaxis": {
           "automargin": true,
           "gridcolor": "white",
           "linecolor": "white",
           "ticks": "",
           "title": {
            "standoff": 15
           },
           "zerolinecolor": "white",
           "zerolinewidth": 2
          }
         }
        },
        "title": {
         "text": "Target3 Top 50 feature importance"
        },
        "width": 1250,
        "xaxis": {
         "anchor": "y",
         "domain": [
          0,
          1
         ],
         "title": {
          "text": "feature_importance"
         }
        },
        "yaxis": {
         "anchor": "x",
         "categoryarray": [
          "target4_202107_prob",
          "target2_202105_std",
          "target3_202107_mean",
          "PlayerStats_completeGamesPitching_rank",
          "target1_202106_quantile75",
          "PlayerStats_shutoutsPitching_rank",
          "PlayerStats_lossesPitching_rank",
          "target3_202104_max",
          "target3_202107_min",
          "target3_202105_quantile25",
          "PlayerStats_saves_cum",
          "target4_202105_prob",
          "target4_202105_min",
          "target4_202106_min",
          "target3_202104_min",
          "target3_202107_std",
          "PlayerStats_hitByPitchPitching_cum",
          "PlayerStats_pickoffs_cum",
          "target3_202105_min",
          "PlayerStats_hits_rank",
          "PlayerStats_holds_rank",
          "target2_202104_std",
          "target3_202105_quantile75",
          "target3_202104_std",
          "target3_202106_median",
          "target2_202107_prob",
          "target2_202105_max",
          "target2_202107_mean",
          "target2_202105_quantile75",
          "target2_202104_min",
          "PlayerStats_flyOutsPitching_cum",
          "target2_202106_quantile25",
          "PlayerStats_caughtStealing_cum",
          "target2_202106_prob",
          "target2_202105_quantile25",
          "target2_202104_mean",
          "PlayerStats_doubles_cum",
          "target3_202105_mean",
          "target3_202106_quantile25",
          "Rosters_LE_status",
          "PlayerStats_intentionalWalksPitching_cum",
          "PlayerStats_strikeOuts_rank",
          "target3_202106_mean",
          "PlayerTwitterFollowerAggregate_numberOfFollowers",
          "target4_202107_min",
          "target3_202104_mean",
          "target4_202104_min",
          "target3_202104_quantile75",
          "Players_LE_playerid",
          "TeamTwitterFollowerAggregate_numberOfFollowers"
         ],
         "categoryorder": "array",
         "domain": [
          0,
          1
         ],
         "showgrid": true,
         "title": {
          "text": "feature"
         }
        }
       }
      }
     },
     "metadata": {}
    },
    {
     "output_type": "display_data",
     "data": {
      "application/vnd.plotly.v1+json": {
       "config": {
        "plotlyServerURL": "https://plot.ly"
       },
       "data": [
        {
         "alignmentgroup": "True",
         "hovertemplate": "feature_importance=%{x}<br>feature=%{y}<extra></extra>",
         "legendgroup": "",
         "marker": {
          "color": "#636efa"
         },
         "name": "",
         "notched": false,
         "offsetgroup": "",
         "orientation": "h",
         "showlegend": false,
         "type": "box",
         "x": [
          9775.107055664062,
          7872.755065917969,
          7813.080078125,
          27099.86962890625,
          22436.107025146484,
          1664.3199462890625,
          4668.952941894531,
          18899.526977539062,
          51082.30041503906,
          2829.7760620117188,
          32437.75958251953,
          6733.252868652344,
          53002.6533203125,
          39864.9794921875,
          11809.7998046875,
          20830.679931640625,
          7382.130126953125,
          4091.0799560546875,
          31511.581970214844,
          44801.390686035156,
          36765.497619628906,
          19288.56427001953,
          1364081.41015625,
          484375.79779052734,
          264253.0517578125,
          71693.4086303711,
          1733.177001953125,
          12195.60317993164,
          73874.94641113281,
          608.7579956054688,
          99684.11724853516,
          10479.150939941406,
          13052.417175292969,
          7653.39990234375,
          3679.85009765625,
          40795.34002685547,
          8903.418975830078,
          3030.580078125,
          49069.871185302734,
          367180.9591064453,
          24562.30078125,
          203269.12786865234,
          0,
          23601.883010864258,
          27652.274291992188,
          3155.35791015625,
          3525.860107421875,
          11221.10009765625,
          5800.310852050781,
          16610.539794921875,
          16443.634887695312,
          3776.2100830078125,
          8751.10986328125,
          4087.6829833984375,
          12343.546905517578,
          24934.344604492188,
          9455.703002929688,
          2748.2520141601562,
          22469.51580810547,
          27786.73077392578,
          24069.94512939453,
          6416.0081787109375,
          55651.94647216797,
          11463.069580078125,
          0,
          4244.135986328125,
          14645.421936035156,
          41239.349365234375,
          27309.059814453125,
          19848.98907470703,
          24209.531127929688,
          3990.1800537109375,
          2709564.778076172,
          45955.495056152344,
          18711.553344726562,
          10639.14208984375,
          47873.11242675781,
          456.68798828125,
          13295.791015625,
          10026.859985351562,
          114397.13891601562,
          7100.809814453125,
          80759.20938110352,
          9787.968872070312,
          17246.200439453125,
          3015.8380126953125,
          8857.44091796875,
          6340.89794921875,
          69215.25769042969,
          27881.431182861328,
          182473.0785522461,
          186487.2353515625,
          201820.5944519043,
          1370.3900146484375,
          78944.80349731445,
          14534.98974609375,
          10282.870483398438,
          0,
          6955.380126953125,
          15467.837768554688
         ],
         "x0": " ",
         "xaxis": "x",
         "y": [
          "PlayerStats_home",
          "PlayerStats_positionCode",
          "PlayerStats_putOuts",
          "PlayerStats_homeRuns_rank",
          "PlayerStats_triples_rank",
          "PlayerStats_hitByPitch_rank",
          "PlayerStats_stolenBases_rank",
          "PlayerStats_winsPitching_rank",
          "PlayerStats_saves_rank",
          "PlayerStats_holds_rank",
          "PlayerStats_completeGamesPitching_rank",
          "PlayerStats_shutoutsPitching_rank",
          "PlayerTwitterFollowerAggregate_numberOfFollowers",
          "TeamTwitterFollowerAggregate_numberOfFollowers",
          "target1_202104_mean",
          "target2_202104_mean",
          "target2_202104_max",
          "target2_202104_min",
          "target2_202104_median",
          "target2_202104_quantile25",
          "target2_202104_quantile75",
          "target4_202104_mean",
          "target4_202104_min",
          "target4_202104_median",
          "target4_202104_quantile25",
          "target4_202104_quantile75",
          "target2_202105_min",
          "target2_202105_median",
          "target2_202105_quantile25",
          "target2_202105_prob",
          "target4_202105_min",
          "target4_202105_median",
          "target4_202105_quantile25",
          "target2_202106_min",
          "target2_202106_median",
          "target4_202106_min",
          "target4_202106_median",
          "target4_202106_quantile25",
          "target4_202107_min",
          "target4_202107_quantile25",
          "Rosters_LE_teamId",
          "Rosters_LE_status",
          "Players_LE_playerid",
          "StandingsMeta_losses",
          "StandingsMeta_runsAllowed",
          "StandingsMeta_runsScored",
          "StandingsMeta_homeLosses",
          "StandingsMeta_awayLosses",
          "StandingsMeta_nightLosses",
          "StandingsMeta_divLosses",
          "PlayerStats_home",
          "PlayerStats_positionCode",
          "PlayerStats_putOuts",
          "PlayerStats_homeRuns_rank",
          "PlayerStats_triples_rank",
          "PlayerStats_hitByPitch_rank",
          "PlayerStats_stolenBases_rank",
          "PlayerStats_winsPitching_rank",
          "PlayerStats_saves_rank",
          "PlayerStats_holds_rank",
          "PlayerStats_completeGamesPitching_rank",
          "PlayerStats_shutoutsPitching_rank",
          "PlayerTwitterFollowerAggregate_numberOfFollowers",
          "TeamTwitterFollowerAggregate_numberOfFollowers",
          "target1_202104_mean",
          "target2_202104_mean",
          "target2_202104_max",
          "target2_202104_min",
          "target2_202104_median",
          "target2_202104_quantile25",
          "target2_202104_quantile75",
          "target4_202104_mean",
          "target4_202104_min",
          "target4_202104_median",
          "target4_202104_quantile25",
          "target4_202104_quantile75",
          "target2_202105_min",
          "target2_202105_median",
          "target2_202105_quantile25",
          "target2_202105_prob",
          "target4_202105_min",
          "target4_202105_median",
          "target4_202105_quantile25",
          "target2_202106_min",
          "target2_202106_median",
          "target4_202106_min",
          "target4_202106_median",
          "target4_202106_quantile25",
          "target4_202107_min",
          "target4_202107_quantile25",
          "Rosters_LE_teamId",
          "Rosters_LE_status",
          "Players_LE_playerid",
          "StandingsMeta_losses",
          "StandingsMeta_runsAllowed",
          "StandingsMeta_runsScored",
          "StandingsMeta_homeLosses",
          "StandingsMeta_awayLosses",
          "StandingsMeta_nightLosses",
          "StandingsMeta_divLosses"
         ],
         "y0": " ",
         "yaxis": "y"
        }
       ],
       "layout": {
        "boxmode": "group",
        "height": 900,
        "legend": {
         "tracegroupgap": 0
        },
        "template": {
         "data": {
          "bar": [
           {
            "error_x": {
             "color": "#2a3f5f"
            },
            "error_y": {
             "color": "#2a3f5f"
            },
            "marker": {
             "line": {
              "color": "#E5ECF6",
              "width": 0.5
             }
            },
            "type": "bar"
           }
          ],
          "barpolar": [
           {
            "marker": {
             "line": {
              "color": "#E5ECF6",
              "width": 0.5
             }
            },
            "type": "barpolar"
           }
          ],
          "carpet": [
           {
            "aaxis": {
             "endlinecolor": "#2a3f5f",
             "gridcolor": "white",
             "linecolor": "white",
             "minorgridcolor": "white",
             "startlinecolor": "#2a3f5f"
            },
            "baxis": {
             "endlinecolor": "#2a3f5f",
             "gridcolor": "white",
             "linecolor": "white",
             "minorgridcolor": "white",
             "startlinecolor": "#2a3f5f"
            },
            "type": "carpet"
           }
          ],
          "choropleth": [
           {
            "colorbar": {
             "outlinewidth": 0,
             "ticks": ""
            },
            "type": "choropleth"
           }
          ],
          "contour": [
           {
            "colorbar": {
             "outlinewidth": 0,
             "ticks": ""
            },
            "colorscale": [
             [
              0,
              "#0d0887"
             ],
             [
              0.1111111111111111,
              "#46039f"
             ],
             [
              0.2222222222222222,
              "#7201a8"
             ],
             [
              0.3333333333333333,
              "#9c179e"
             ],
             [
              0.4444444444444444,
              "#bd3786"
             ],
             [
              0.5555555555555556,
              "#d8576b"
             ],
             [
              0.6666666666666666,
              "#ed7953"
             ],
             [
              0.7777777777777778,
              "#fb9f3a"
             ],
             [
              0.8888888888888888,
              "#fdca26"
             ],
             [
              1,
              "#f0f921"
             ]
            ],
            "type": "contour"
           }
          ],
          "contourcarpet": [
           {
            "colorbar": {
             "outlinewidth": 0,
             "ticks": ""
            },
            "type": "contourcarpet"
           }
          ],
          "heatmap": [
           {
            "colorbar": {
             "outlinewidth": 0,
             "ticks": ""
            },
            "colorscale": [
             [
              0,
              "#0d0887"
             ],
             [
              0.1111111111111111,
              "#46039f"
             ],
             [
              0.2222222222222222,
              "#7201a8"
             ],
             [
              0.3333333333333333,
              "#9c179e"
             ],
             [
              0.4444444444444444,
              "#bd3786"
             ],
             [
              0.5555555555555556,
              "#d8576b"
             ],
             [
              0.6666666666666666,
              "#ed7953"
             ],
             [
              0.7777777777777778,
              "#fb9f3a"
             ],
             [
              0.8888888888888888,
              "#fdca26"
             ],
             [
              1,
              "#f0f921"
             ]
            ],
            "type": "heatmap"
           }
          ],
          "heatmapgl": [
           {
            "colorbar": {
             "outlinewidth": 0,
             "ticks": ""
            },
            "colorscale": [
             [
              0,
              "#0d0887"
             ],
             [
              0.1111111111111111,
              "#46039f"
             ],
             [
              0.2222222222222222,
              "#7201a8"
             ],
             [
              0.3333333333333333,
              "#9c179e"
             ],
             [
              0.4444444444444444,
              "#bd3786"
             ],
             [
              0.5555555555555556,
              "#d8576b"
             ],
             [
              0.6666666666666666,
              "#ed7953"
             ],
             [
              0.7777777777777778,
              "#fb9f3a"
             ],
             [
              0.8888888888888888,
              "#fdca26"
             ],
             [
              1,
              "#f0f921"
             ]
            ],
            "type": "heatmapgl"
           }
          ],
          "histogram": [
           {
            "marker": {
             "colorbar": {
              "outlinewidth": 0,
              "ticks": ""
             }
            },
            "type": "histogram"
           }
          ],
          "histogram2d": [
           {
            "colorbar": {
             "outlinewidth": 0,
             "ticks": ""
            },
            "colorscale": [
             [
              0,
              "#0d0887"
             ],
             [
              0.1111111111111111,
              "#46039f"
             ],
             [
              0.2222222222222222,
              "#7201a8"
             ],
             [
              0.3333333333333333,
              "#9c179e"
             ],
             [
              0.4444444444444444,
              "#bd3786"
             ],
             [
              0.5555555555555556,
              "#d8576b"
             ],
             [
              0.6666666666666666,
              "#ed7953"
             ],
             [
              0.7777777777777778,
              "#fb9f3a"
             ],
             [
              0.8888888888888888,
              "#fdca26"
             ],
             [
              1,
              "#f0f921"
             ]
            ],
            "type": "histogram2d"
           }
          ],
          "histogram2dcontour": [
           {
            "colorbar": {
             "outlinewidth": 0,
             "ticks": ""
            },
            "colorscale": [
             [
              0,
              "#0d0887"
             ],
             [
              0.1111111111111111,
              "#46039f"
             ],
             [
              0.2222222222222222,
              "#7201a8"
             ],
             [
              0.3333333333333333,
              "#9c179e"
             ],
             [
              0.4444444444444444,
              "#bd3786"
             ],
             [
              0.5555555555555556,
              "#d8576b"
             ],
             [
              0.6666666666666666,
              "#ed7953"
             ],
             [
              0.7777777777777778,
              "#fb9f3a"
             ],
             [
              0.8888888888888888,
              "#fdca26"
             ],
             [
              1,
              "#f0f921"
             ]
            ],
            "type": "histogram2dcontour"
           }
          ],
          "mesh3d": [
           {
            "colorbar": {
             "outlinewidth": 0,
             "ticks": ""
            },
            "type": "mesh3d"
           }
          ],
          "parcoords": [
           {
            "line": {
             "colorbar": {
              "outlinewidth": 0,
              "ticks": ""
             }
            },
            "type": "parcoords"
           }
          ],
          "pie": [
           {
            "automargin": true,
            "type": "pie"
           }
          ],
          "scatter": [
           {
            "marker": {
             "colorbar": {
              "outlinewidth": 0,
              "ticks": ""
             }
            },
            "type": "scatter"
           }
          ],
          "scatter3d": [
           {
            "line": {
             "colorbar": {
              "outlinewidth": 0,
              "ticks": ""
             }
            },
            "marker": {
             "colorbar": {
              "outlinewidth": 0,
              "ticks": ""
             }
            },
            "type": "scatter3d"
           }
          ],
          "scattercarpet": [
           {
            "marker": {
             "colorbar": {
              "outlinewidth": 0,
              "ticks": ""
             }
            },
            "type": "scattercarpet"
           }
          ],
          "scattergeo": [
           {
            "marker": {
             "colorbar": {
              "outlinewidth": 0,
              "ticks": ""
             }
            },
            "type": "scattergeo"
           }
          ],
          "scattergl": [
           {
            "marker": {
             "colorbar": {
              "outlinewidth": 0,
              "ticks": ""
             }
            },
            "type": "scattergl"
           }
          ],
          "scattermapbox": [
           {
            "marker": {
             "colorbar": {
              "outlinewidth": 0,
              "ticks": ""
             }
            },
            "type": "scattermapbox"
           }
          ],
          "scatterpolar": [
           {
            "marker": {
             "colorbar": {
              "outlinewidth": 0,
              "ticks": ""
             }
            },
            "type": "scatterpolar"
           }
          ],
          "scatterpolargl": [
           {
            "marker": {
             "colorbar": {
              "outlinewidth": 0,
              "ticks": ""
             }
            },
            "type": "scatterpolargl"
           }
          ],
          "scatterternary": [
           {
            "marker": {
             "colorbar": {
              "outlinewidth": 0,
              "ticks": ""
             }
            },
            "type": "scatterternary"
           }
          ],
          "surface": [
           {
            "colorbar": {
             "outlinewidth": 0,
             "ticks": ""
            },
            "colorscale": [
             [
              0,
              "#0d0887"
             ],
             [
              0.1111111111111111,
              "#46039f"
             ],
             [
              0.2222222222222222,
              "#7201a8"
             ],
             [
              0.3333333333333333,
              "#9c179e"
             ],
             [
              0.4444444444444444,
              "#bd3786"
             ],
             [
              0.5555555555555556,
              "#d8576b"
             ],
             [
              0.6666666666666666,
              "#ed7953"
             ],
             [
              0.7777777777777778,
              "#fb9f3a"
             ],
             [
              0.8888888888888888,
              "#fdca26"
             ],
             [
              1,
              "#f0f921"
             ]
            ],
            "type": "surface"
           }
          ],
          "table": [
           {
            "cells": {
             "fill": {
              "color": "#EBF0F8"
             },
             "line": {
              "color": "white"
             }
            },
            "header": {
             "fill": {
              "color": "#C8D4E3"
             },
             "line": {
              "color": "white"
             }
            },
            "type": "table"
           }
          ]
         },
         "layout": {
          "annotationdefaults": {
           "arrowcolor": "#2a3f5f",
           "arrowhead": 0,
           "arrowwidth": 1
          },
          "autotypenumbers": "strict",
          "coloraxis": {
           "colorbar": {
            "outlinewidth": 0,
            "ticks": ""
           }
          },
          "colorscale": {
           "diverging": [
            [
             0,
             "#8e0152"
            ],
            [
             0.1,
             "#c51b7d"
            ],
            [
             0.2,
             "#de77ae"
            ],
            [
             0.3,
             "#f1b6da"
            ],
            [
             0.4,
             "#fde0ef"
            ],
            [
             0.5,
             "#f7f7f7"
            ],
            [
             0.6,
             "#e6f5d0"
            ],
            [
             0.7,
             "#b8e186"
            ],
            [
             0.8,
             "#7fbc41"
            ],
            [
             0.9,
             "#4d9221"
            ],
            [
             1,
             "#276419"
            ]
           ],
           "sequential": [
            [
             0,
             "#0d0887"
            ],
            [
             0.1111111111111111,
             "#46039f"
            ],
            [
             0.2222222222222222,
             "#7201a8"
            ],
            [
             0.3333333333333333,
             "#9c179e"
            ],
            [
             0.4444444444444444,
             "#bd3786"
            ],
            [
             0.5555555555555556,
             "#d8576b"
            ],
            [
             0.6666666666666666,
             "#ed7953"
            ],
            [
             0.7777777777777778,
             "#fb9f3a"
            ],
            [
             0.8888888888888888,
             "#fdca26"
            ],
            [
             1,
             "#f0f921"
            ]
           ],
           "sequentialminus": [
            [
             0,
             "#0d0887"
            ],
            [
             0.1111111111111111,
             "#46039f"
            ],
            [
             0.2222222222222222,
             "#7201a8"
            ],
            [
             0.3333333333333333,
             "#9c179e"
            ],
            [
             0.4444444444444444,
             "#bd3786"
            ],
            [
             0.5555555555555556,
             "#d8576b"
            ],
            [
             0.6666666666666666,
             "#ed7953"
            ],
            [
             0.7777777777777778,
             "#fb9f3a"
            ],
            [
             0.8888888888888888,
             "#fdca26"
            ],
            [
             1,
             "#f0f921"
            ]
           ]
          },
          "colorway": [
           "#636efa",
           "#EF553B",
           "#00cc96",
           "#ab63fa",
           "#FFA15A",
           "#19d3f3",
           "#FF6692",
           "#B6E880",
           "#FF97FF",
           "#FECB52"
          ],
          "font": {
           "color": "#2a3f5f"
          },
          "geo": {
           "bgcolor": "white",
           "lakecolor": "white",
           "landcolor": "#E5ECF6",
           "showlakes": true,
           "showland": true,
           "subunitcolor": "white"
          },
          "hoverlabel": {
           "align": "left"
          },
          "hovermode": "closest",
          "mapbox": {
           "style": "light"
          },
          "paper_bgcolor": "white",
          "plot_bgcolor": "#E5ECF6",
          "polar": {
           "angularaxis": {
            "gridcolor": "white",
            "linecolor": "white",
            "ticks": ""
           },
           "bgcolor": "#E5ECF6",
           "radialaxis": {
            "gridcolor": "white",
            "linecolor": "white",
            "ticks": ""
           }
          },
          "scene": {
           "xaxis": {
            "backgroundcolor": "#E5ECF6",
            "gridcolor": "white",
            "gridwidth": 2,
            "linecolor": "white",
            "showbackground": true,
            "ticks": "",
            "zerolinecolor": "white"
           },
           "yaxis": {
            "backgroundcolor": "#E5ECF6",
            "gridcolor": "white",
            "gridwidth": 2,
            "linecolor": "white",
            "showbackground": true,
            "ticks": "",
            "zerolinecolor": "white"
           },
           "zaxis": {
            "backgroundcolor": "#E5ECF6",
            "gridcolor": "white",
            "gridwidth": 2,
            "linecolor": "white",
            "showbackground": true,
            "ticks": "",
            "zerolinecolor": "white"
           }
          },
          "shapedefaults": {
           "line": {
            "color": "#2a3f5f"
           }
          },
          "ternary": {
           "aaxis": {
            "gridcolor": "white",
            "linecolor": "white",
            "ticks": ""
           },
           "baxis": {
            "gridcolor": "white",
            "linecolor": "white",
            "ticks": ""
           },
           "bgcolor": "#E5ECF6",
           "caxis": {
            "gridcolor": "white",
            "linecolor": "white",
            "ticks": ""
           }
          },
          "title": {
           "x": 0.05
          },
          "xaxis": {
           "automargin": true,
           "gridcolor": "white",
           "linecolor": "white",
           "ticks": "",
           "title": {
            "standoff": 15
           },
           "zerolinecolor": "white",
           "zerolinewidth": 2
          },
          "yaxis": {
           "automargin": true,
           "gridcolor": "white",
           "linecolor": "white",
           "ticks": "",
           "title": {
            "standoff": 15
           },
           "zerolinecolor": "white",
           "zerolinewidth": 2
          }
         }
        },
        "title": {
         "text": "Target4 Top 50 feature importance"
        },
        "width": 1250,
        "xaxis": {
         "anchor": "y",
         "domain": [
          0,
          1
         ],
         "title": {
          "text": "feature_importance"
         }
        },
        "yaxis": {
         "anchor": "x",
         "categoryarray": [
          "target4_202106_quantile25",
          "target2_202105_prob",
          "StandingsMeta_awayLosses",
          "PlayerStats_positionCode",
          "target1_202104_mean",
          "target2_202105_median",
          "StandingsMeta_nightLosses",
          "PlayerStats_shutoutsPitching_rank",
          "StandingsMeta_homeLosses",
          "PlayerStats_stolenBases_rank",
          "PlayerStats_putOuts",
          "target2_202106_min",
          "target4_202105_median",
          "StandingsMeta_runsScored",
          "target4_202106_median",
          "target2_202106_median",
          "PlayerStats_winsPitching_rank",
          "target2_202104_max",
          "target4_202104_mean",
          "StandingsMeta_losses",
          "target2_202104_mean",
          "PlayerStats_home",
          "PlayerStats_hitByPitch_rank",
          "PlayerStats_holds_rank",
          "PlayerStats_homeRuns_rank",
          "StandingsMeta_divLosses",
          "PlayerStats_triples_rank",
          "target4_202106_min",
          "target2_202104_min",
          "target2_202105_min",
          "TeamTwitterFollowerAggregate_numberOfFollowers",
          "PlayerStats_completeGamesPitching_rank",
          "target2_202104_median",
          "target2_202104_quantile75",
          "target2_202104_quantile25",
          "PlayerStats_saves_rank",
          "target4_202104_quantile75",
          "target2_202105_quantile25",
          "target4_202105_quantile25",
          "StandingsMeta_runsAllowed",
          "PlayerTwitterFollowerAggregate_numberOfFollowers",
          "target4_202107_min",
          "Players_LE_playerid",
          "Rosters_LE_teamId",
          "target4_202105_min",
          "target4_202104_quantile25",
          "Rosters_LE_status",
          "target4_202107_quantile25",
          "target4_202104_median",
          "target4_202104_min"
         ],
         "categoryorder": "array",
         "domain": [
          0,
          1
         ],
         "showgrid": true,
         "title": {
          "text": "feature"
         }
        }
       }
      }
     },
     "metadata": {}
    }
   ],
   "metadata": {}
  },
  {
   "cell_type": "code",
   "execution_count": 30,
   "source": [
    "# for target, model_tmps in zip(CFG.TARGETS, models):\n",
    "#     for i, model_tmp in enumerate(model_tmps):\n",
    "#         model_tmp.save_model(f\"{CFG.MODEL_PATH}/lgb_{target}_{i}.txt\")"
   ],
   "outputs": [],
   "metadata": {}
  },
  {
   "cell_type": "markdown",
   "source": [
    "## Inference"
   ],
   "metadata": {}
  },
  {
   "cell_type": "code",
   "execution_count": null,
   "source": [
    "def update_dataset(input_df: pd.DataFrame, sample_prediction_df: pd.DataFrame, eval_start_date: int):\n",
    "    '''datasetの更新\n",
    "    '''\n",
    "    # columnがNaNでなければ分岐処理が実行される(pd.isnaとかでも代用可)\n",
    "    # NaN == NaNはFalseになる\n",
    "    ####################\n",
    "    # rosters #\n",
    "    ####################\n",
    "    if input_df[\"rosters\"].iloc[0] == input_df[\"rosters\"].iloc[0]:\n",
    "        test_rosters_df = pd.read_json(input_df[\"rosters\"].iloc[0])\n",
    "    else:\n",
    "        test_rosters_df = sample_prediction_df[[\"playerId\"]].copy()\n",
    "        for col in mlb_train_ds.train_rosters.columns:\n",
    "            if col == \"playerId\": continue\n",
    "            test_rosters_df[col] = np.nan\n",
    "\n",
    "    test_rosters_df[\"date\"] = input_df.iloc[0][\"date\"]\n",
    "    ####################\n",
    "    # playerBoxScores #\n",
    "    ####################\n",
    "    if (input_df[\"playerBoxScores\"].iloc[0] == input_df[\"playerBoxScores\"].iloc[0]) & (input_df.iloc[0][\"date\"] >= eval_start_date):\n",
    "        test_playerBoxScores_df = pd.read_json(input_df[\"playerBoxScores\"].iloc[0])\n",
    "        test_playerBoxScores_df[\"date\"] = input_df.iloc[0][\"date\"]\n",
    "    else:\n",
    "        test_playerBoxScores_df = None\n",
    "    # ####################\n",
    "    # # teamBoxScores #\n",
    "    # ####################\n",
    "    # if input_df[\"teamBoxScores\"].iloc[0] == input_df[\"teamBoxScores\"].iloc[0]:\n",
    "    #     test_teamBoxScores = pd.read_json(input_df[\"teamBoxScores\"].iloc[0])\n",
    "    # else:\n",
    "    #     cols = mlb_train_ds.train_tbs.drop(columns=\"date\", axis=1).columns.tolist()\n",
    "    #     test_teamBoxScores = pd.DataFrame(columns=cols)\n",
    "    #     test_teamBoxScores[\"teamId\"] = mlb_train_ds.train_tbs.teamId.unique()\n",
    "\n",
    "    # test_teamBoxScores[\"date\"] = input_df.iloc[0][\"date\"]\n",
    "    # if input_df.iloc[0][\"date\"] > 20210430:\n",
    "    #     mlb_train_ds.train_tbs = reduce_mem_usage(pd.concat([mlb_train_ds.train_tbs, test_teamBoxScores], axis=0, ignore_index=True))\n",
    "    # ####################\n",
    "    # # games #\n",
    "    # ####################\n",
    "    # if input_df[\"games\"].iloc[0] == input_df[\"games\"].iloc[0]:\n",
    "    #     test_games = pd.read_json(input_df[\"games\"].iloc[0])\n",
    "    # else:\n",
    "    #     cols = mlb_train_ds.train_games.drop(columns=\"date\", axis=1).columns.tolist()\n",
    "    #     test_games = pd.DataFrame(columns=cols)\n",
    "\n",
    "    # test_games[\"date\"] = input_df.iloc[0][\"date\"]\n",
    "    # if input_df.iloc[0][\"date\"] > 20210430:\n",
    "    #     mlb_train_ds.train_games = reduce_mem_usage(pd.concat([mlb_train_ds.train_games, test_games], axis=0, ignore_index=True))\n",
    "    ####################\n",
    "    # staindings #\n",
    "    ####################\n",
    "    if input_df[\"standings\"].iloc[0] == input_df[\"standings\"].iloc[0]:\n",
    "        test_standings_df = pd.read_json(input_df[\"standings\"].iloc[0])\n",
    "    else:\n",
    "        cols = mlb_train_ds.train_standings.drop(columns=\"date\", axis=1).columns.tolist()\n",
    "        test_standings_df = pd.DataFrame(columns=cols)\n",
    "    \n",
    "    test_standings_df[\"date\"] = input_df.iloc[0][\"date\"]\n",
    "    # ####################\n",
    "    # # awards #\n",
    "    # ####################\n",
    "    # if input_df[\"awards\"].iloc[0] == input_df[\"awards\"].iloc[0]:\n",
    "    #     test_awards = pd.read_json(input_df[\"awards\"].iloc[0])\n",
    "    # else:\n",
    "    #     cols = mlb_train_ds.train_awards.drop(columns=\"date\", axis=1).columns.tolist()\n",
    "    #     test_awards = pd.DataFrame(columns=cols)\n",
    "    \n",
    "    # test_awards[\"date\"] = input_df.iloc[0][\"date\"]\n",
    "    # if input_df.iloc[0][\"date\"] > 20210430:\n",
    "    #     mlb_train_ds.train_awards = reduce_mem_usage(pd.concat([mlb_train_ds.train_awards, test_awards], axis=0, ignore_index=True))\n",
    "    ####################\n",
    "    # playerTwitterFollowers #\n",
    "    ####################\n",
    "    if (input_df[\"playerTwitterFollowers\"].iloc[0] == input_df[\"playerTwitterFollowers\"].iloc[0]) & (input_df.iloc[0][\"date\"] >= eval_start_date):\n",
    "        test_playerTwitterFollowers_df = pd.read_json(input_df[\"playerTwitterFollowers\"].iloc[0])\n",
    "        test_playerTwitterFollowers_df[\"date\"] = input_df.iloc[0][\"date\"]\n",
    "    else:\n",
    "        test_playerTwitterFollowers_df = None\n",
    "    ####################\n",
    "    # teamTwitterFollowers #\n",
    "    ####################\n",
    "    if (input_df[\"teamTwitterFollowers\"].iloc[0] == input_df[\"teamTwitterFollowers\"].iloc[0]) & (input_df.iloc[0][\"date\"] >= eval_start_date):\n",
    "        test_teamTwitterFollowers_df = pd.read_json(input_df[\"teamTwitterFollowers\"].iloc[0])\n",
    "        test_teamTwitterFollowers_df[\"date\"] = input_df.iloc[0][\"date\"]\n",
    "    else:\n",
    "        test_teamTwitterFollowers_df = None\n",
    "\n",
    "    return test_rosters_df, test_playerBoxScores_df, test_standings_df, test_playerTwitterFollowers_df, test_teamTwitterFollowers_df"
   ],
   "outputs": [],
   "metadata": {}
  },
  {
   "cell_type": "code",
   "execution_count": null,
   "source": [
    "# models = []\n",
    "# for target in CFG.TARGETS:\n",
    "#     tmp = [lgb.Booster(model_file=f\"{CFG.MODEL_PATH}/lgb_{target}_{i}.txt\") for i in range(len(CFG.SEEDS))]\n",
    "#     models.append(tmp)"
   ],
   "outputs": [],
   "metadata": {}
  },
  {
   "cell_type": "code",
   "execution_count": null,
   "source": [
    "# env = mlb.make_env()\n",
    "# iter_test = env.iter_test()\n",
    "\n",
    "# for (test_df, sample_prediction_df) in iter_test:\n",
    "#     sample_prediction_df = sample_prediction_df.reset_index(drop=True)\n",
    "#     # create dataset\n",
    "#     test_df = test_df.reset_index()\n",
    "#     test_df = test_df.rename(columns={\"index\": \"date\"})\n",
    "#     sample_prediction_df[\"date\"] = test_df.iloc[0][\"date\"]\n",
    "#     sample_prediction_df[\"playerId\"] = sample_prediction_df[\"date_playerId\"].map(lambda x: int(x.split(\"_\")[1]))\n",
    "#     test_rosters_df, test_playerBoxScores_df, test_standings_df, test_playerTwitterFollowers_df, test_teamTwitterFollowers_df = update_dataset(test_df, sample_prediction_df, 20210718)\n",
    "#     # create features\n",
    "#     test_feat_df = create_test_feature(\n",
    "#         sample_prediction_df,\n",
    "#         target_df,\n",
    "#         test_rosters_df,\n",
    "#         test_playerBoxScores_df,\n",
    "#         test_standings_df,\n",
    "#         test_playerTwitterFollowers_df,\n",
    "#         test_teamTwitterFollowers_df,\n",
    "#         update_blocks, \n",
    "#         non_update_blocks)\n",
    "#     X_test = test_feat_df.values\n",
    "#     # prediction\n",
    "#     for target, model in zip(CFG.TARGETS, models):\n",
    "#         pred = np.mean([model_.predict(X_test, num_iteration=model_.best_iteration) for model_ in model], axis=0)\n",
    "#         sample_prediction_df[target] = np.clip(pred, 0, 100)\n",
    "\n",
    "#     sample_prediction_df = sample_prediction_df.drop(columns=[\"playerId\", \"date\"], axis=1)\n",
    "\n",
    "#     env.predict(sample_prediction_df)\n",
    "#     del test_feat_df, test_df, sample_prediction_df"
   ],
   "outputs": [],
   "metadata": {}
  },
  {
   "cell_type": "code",
   "execution_count": null,
   "source": [
    "# Local inference check\n",
    "# test_df = mlb_train_ds.example_test.query(\"date <= 20210426\").copy()\n",
    "# sample_prediction_df = mlb_train_ds.sample_submission.query(\"date <= 20210426\").copy()\n",
    "# sample_prediction_df[\"playerId\"] = sample_prediction_df[\"date_playerId\"].map(lambda x: int(x.split(\"_\")[1]))"
   ],
   "outputs": [],
   "metadata": {}
  },
  {
   "cell_type": "code",
   "execution_count": null,
   "source": [
    "class Environment:\n",
    "    def __init__(self,\n",
    "                 data_dir: str,\n",
    "                 eval_start_day: int,\n",
    "                 eval_end_day: Optional[int],\n",
    "                 use_updated: bool,\n",
    "                 multiple_days_per_iter: bool):\n",
    "        warnings.warn('this is mock module for mlb')\n",
    "\n",
    "        postfix = '_updated' if use_updated else ''\n",
    "        \n",
    "        # recommend to replace this with pickle, feather etc to speedup preparing data\n",
    "        df_train = pd.read_csv(os.path.join(data_dir, f'train{postfix}.csv'))\n",
    "\n",
    "        players = pd.read_csv(os.path.join(data_dir, 'players.csv'))\n",
    "\n",
    "        self.players = players[players['playerForTestSetAndFuturePreds'] == True]['playerId'].astype(str)\n",
    "        if eval_end_day is not None:\n",
    "            self.df_train = df_train.set_index('date').loc[eval_start_day:eval_end_day]\n",
    "        else:\n",
    "            self.df_train = df_train.set_index('date').loc[eval_start_day:]\n",
    "        self.date = self.df_train.index.values\n",
    "        self.n_rows = len(self.df_train)\n",
    "        self.multiple_days_per_iter = multiple_days_per_iter\n",
    "\n",
    "        assert self.n_rows > 0, 'no data to emulate'\n",
    "\n",
    "        self.prediction_df = pd.DataFrame()\n",
    "\n",
    "    def predict(self, df: pd.DataFrame) -> None:\n",
    "        # if you want to emulate public LB, store your prediction here and calculate MAE\n",
    "        self.prediction_df = pd.concat([self.prediction_df, df], axis=0).reset_index(drop=True)\n",
    "\n",
    "    def iter_test(self) -> Tuple[pd.DataFrame, pd.DataFrame]:\n",
    "        if self.multiple_days_per_iter:\n",
    "            for i in range(self.n_rows // 2):\n",
    "                date1 = self.date[2 * i]\n",
    "                date2 = self.date[2 * i + 1]\n",
    "                sample_sub1 = self._make_sample_sub(date1)\n",
    "                sample_sub2 = self._make_sample_sub(date2)\n",
    "                sample_sub = pd.concat([sample_sub1, sample_sub2]).reset_index(drop=True)\n",
    "                df = self.df_train.loc[date1:date2]\n",
    "\n",
    "                yield df, sample_sub.set_index('date')\n",
    "        else:\n",
    "            for i in range(self.n_rows):\n",
    "                date = self.date[i]\n",
    "                sample_sub = self._make_sample_sub(date)\n",
    "                df = self.df_train.loc[date:date]\n",
    "\n",
    "                yield df, sample_sub.set_index('date')\n",
    "\n",
    "    def _make_sample_sub(self, date: int) -> pd.DataFrame:\n",
    "        next_day = (pd.to_datetime(date, format='%Y%m%d') + pd.to_timedelta(1, 'd')).strftime('%Y%m%d')\n",
    "        sample_sub = pd.DataFrame()\n",
    "        sample_sub['date_playerId'] = next_day + '_' + self.players\n",
    "        sample_sub['target1'] = 0\n",
    "        sample_sub['target2'] = 0\n",
    "        sample_sub['target3'] = 0\n",
    "        sample_sub['target4'] = 0\n",
    "        sample_sub['date'] = date\n",
    "        return sample_sub\n",
    "\n",
    "\n",
    "class MLBEmulator:\n",
    "    def __init__(self,\n",
    "                 data_dir: str = '../input/mlb-player-digital-engagement-forecasting',\n",
    "                 eval_start_day: int = 20210401,\n",
    "                 eval_end_day: Optional[int] = 20210430,\n",
    "                 use_updated: bool = True,\n",
    "                 multiple_days_per_iter: bool = False):\n",
    "        self.data_dir = data_dir\n",
    "        self.eval_start_day = eval_start_day\n",
    "        self.eval_end_day = eval_end_day\n",
    "        self.use_updated = use_updated\n",
    "        self.multiple_days_per_iter = multiple_days_per_iter\n",
    "\n",
    "    def make_env(self) -> Environment:\n",
    "        return Environment(self.data_dir,\n",
    "                           self.eval_start_day,\n",
    "                           self.eval_end_day,\n",
    "                           self.use_updated,\n",
    "                           self.multiple_days_per_iter)\n",
    "\n",
    "\n",
    "emulation_mode = True\n",
    "\n",
    "if emulation_mode:\n",
    "    mlb = MLBEmulator(eval_start_day=20210701, eval_end_day=20210731)\n",
    "else:\n",
    "    import mlb\n",
    "\n",
    "env = mlb.make_env()\n",
    "iter_test = env.iter_test()\n",
    "\n",
    "\n",
    "for (test_df, sample_prediction_df) in iter_test:\n",
    "    sample_prediction_df = sample_prediction_df.reset_index(drop=True)\n",
    "    # create dataset\n",
    "    test_df = test_df.reset_index()\n",
    "    test_df = test_df.rename(columns={\"index\": \"date\"})\n",
    "    sample_prediction_df[\"date\"] = test_df.iloc[0][\"date\"]\n",
    "    sample_prediction_df[\"playerId\"] = sample_prediction_df[\"date_playerId\"].map(lambda x: int(x.split(\"_\")[1]))\n",
    "    test_rosters_df, test_playerBoxScores_df, test_standings_df, test_playerTwitterFollowers_df, test_teamTwitterFollowers_df = update_dataset(test_df, sample_prediction_df, 20210718)\n",
    "    # create features\n",
    "    test_feat_df = create_test_feature(\n",
    "        sample_prediction_df,\n",
    "        target_df,\n",
    "        test_rosters_df,\n",
    "        test_playerBoxScores_df,\n",
    "        test_standings_df,\n",
    "        test_playerTwitterFollowers_df,\n",
    "        test_teamTwitterFollowers_df,\n",
    "        update_blocks, \n",
    "        non_update_blocks)\n",
    "    X_test = test_feat_df.values\n",
    "    # prediction\n",
    "    for target, model in zip(CFG.TARGETS, models):\n",
    "        pred = np.mean([model_.predict(X_test, num_iteration=model_.best_iteration) for model_ in model], axis=0)\n",
    "        sample_prediction_df[target] = np.clip(pred, 0, 100)\n",
    "\n",
    "    sample_prediction_df = sample_prediction_df.drop(columns=[\"playerId\", \"date\"], axis=1)\n",
    "\n",
    "    env.predict(sample_prediction_df)"
   ],
   "outputs": [],
   "metadata": {}
  },
  {
   "cell_type": "code",
   "execution_count": null,
   "source": [
    "prediction_df = env.prediction_df.copy()\n",
    "prediction_df.columns = [\"date_playerId\", \"target1_pred\", \"target2_pred\", \"target3_pred\", \"target4_pred\"]\n",
    "prediction_df[\"playerId\"] = prediction_df[\"date_playerId\"].map(lambda x: int(x.split(\"_\")[1]))\n",
    "prediction_df[\"engagementMetricsDate\"] = prediction_df[\"date_playerId\"].map(lambda x: x.split(\"_\")[0])\n",
    "prediction_df[\"engagementMetricsDate\"] = prediction_df[\"engagementMetricsDate\"].map(lambda x: x[:4] + \"-\" + x[4:6] + \"-\" + x[6:])\n",
    "prediction_df = prediction_df.merge(mlb_train_ds.train_next.drop(columns=\"date\"), on=[\"playerId\", \"engagementMetricsDate\"], how=\"left\")\n",
    "prediction_df"
   ],
   "outputs": [],
   "metadata": {}
  },
  {
   "cell_type": "code",
   "execution_count": null,
   "source": [
    "score = []\n",
    "for i in CFG.TARGETS:\n",
    "    pred = prediction_df[f\"{i}_pred\"]\n",
    "    true = prediction_df[i]\n",
    "    mae = mean_absolute_error(pred, true)\n",
    "    print(f\"{i} mae : {mae}\")\n",
    "    score.append(mae)\n",
    "\n",
    "print(f\"MCMAE: {np.mean(score)}\")"
   ],
   "outputs": [],
   "metadata": {}
  },
  {
   "cell_type": "code",
   "execution_count": null,
   "source": [
    "fig = px.histogram(prediction_df[\"target2_pred\"], marginal=\"box\")\n",
    "fig.show()"
   ],
   "outputs": [],
   "metadata": {}
  },
  {
   "cell_type": "code",
   "execution_count": null,
   "source": [
    "fig = px.histogram(prediction_df[\"target2\"], marginal=\"box\")\n",
    "fig.show()"
   ],
   "outputs": [],
   "metadata": {}
  },
  {
   "cell_type": "markdown",
   "source": [
    "### objective, train_start, eval_start, num_seed\n",
    "### mae, 20210401, 20210701, 1\n",
    "- target1 mae : 0.9128717986374614\n",
    "- target2 mae : 1.1283504320327473\n",
    "- target3 mae : 0.6900468012955854\n",
    "- target4 mae : 0.6177521508948599\n",
    "- MCMAE: `0.8372552957151634`\n",
    "### mae, 20210401, 20210601, 1\n",
    "- target1 mae : 1.0212936236876593\n",
    "- target2 mae : 1.8342641262424106\n",
    "- target3 mae : 0.8054767366631018\n",
    "- target4 mae : 1.5092283617882403\n",
    "- MCMAE: `1.292565712095353`\n",
    "### mae, 20210401, 20210501, 1\n",
    "- target1 mae : 1.139073636820008\n",
    "- target2 mae : 2.1477705069460926\n",
    "- target3 mae : 0.8713704105493966\n",
    "- target4 mae : 1.2844785162978885\n",
    "- MCMAE: `1.3606732676533464`\n",
    "### mae, 20180101, 20210701, 1\n",
    "- target1 mae : 0.9165710510887174\n",
    "- target2 mae : 1.3264290864592856\n",
    "- target3 mae : 0.69577650290206\n",
    "- target4 mae : 0.6191253027322183\n",
    "- MCMAE: `0.8894754857955703`\n",
    "### mae, 20180101, 20210601, 1\n",
    "- target1 mae : 1.0250149819496686\n",
    "- target2 mae : 1.9375601324494858\n",
    "- target3 mae : 0.8143215983036728\n",
    "- target4 mae : 1.449480718437135\n",
    "- MCMAE: 1.3065943577849906\n",
    "### mae, 20180101, 20210601, 1, nb020_param\n",
    "- target1 mae : 1.0234830566971027\n",
    "- target2 mae : 1.9701266539794722\n",
    "- target3 mae : 0.8055250040295286\n",
    "- target4 mae : 1.4151376638098436\n",
    "- MCMAE: `1.3035680946289867`\n",
    "### mae, 20180101, 20210501, 1\n",
    "- target1 mae : 1.106424604048002\n",
    "- target2 mae : 2.171465680802542\n",
    "- target3 mae : 0.8700259725675753\n",
    "- target4 mae : 1.2259871158434414\n",
    "- MCMAE: `1.3434758433153902`\n",
    "### mae, 20180101, 20210501, 1, nb020_param\n",
    "- target1 mae : 1.1084402703120875\n",
    "- target2 mae : 2.1638784575658745\n",
    "- target3 mae : 0.869082230167717\n",
    "- target4 mae : 1.2237380608246546\n",
    "- MCMAE: `1.3412847547175835`\n",
    "### mae, 2018010(2020drop), 20210501, 1, nb020_param\n",
    "- target1 mae : 1.3166670039795423\n",
    "- target2 mae : 2.3847494915660588\n",
    "- target3 mae : 0.8845128956142885\n",
    "- target4 mae : 1.5355907042575094\n",
    "- MCMAE: `1.5303800238543497`\n",
    "### mae, 2018010(on season), 20210501, 1, nb020_param\n",
    "- target1 mae : 1.3195009664745603\n",
    "- target2 mae : 2.7765172545669965\n",
    "- target3 mae : 0.8881481867642985\n",
    "- target4 mae : 1.540486776366689\n",
    "- MCMAE: `1.631163296043136`\n",
    "### mae, 20210301, 20210701, 1\n",
    "- target1 mae : 0.914735882257999\n",
    "- target2 mae : 1.1552626168001527\n",
    "- target3 mae : 0.6920478597452296\n",
    "- target4 mae : 0.6410733556711191\n",
    "- MCMAE: `0.8507799286186252`\n",
    "### mae, 20210301, 20210601, 1\n",
    "- target1 mae : 1.0232905958812242\n",
    "- target2 mae : 1.8845605869948752\n",
    "- target3 mae : 0.8079941037181132\n",
    "- target4 mae : 1.470936372521796\n",
    "- MCMAE: `1.296695414779002`\n",
    "### mae, 20210301, 20210501, 1\n",
    "- target1 mae : 1.1302500380483467\n",
    "- target2 mae : 2.164689861939187\n",
    "- target3 mae : 0.8734350917041106\n",
    "- target4 mae : 1.2789805879856968\n",
    "- MCMAE: `1.3618388949193352`"
   ],
   "metadata": {}
  },
  {
   "cell_type": "markdown",
   "source": [],
   "metadata": {}
  }
 ],
 "metadata": {
  "orig_nbformat": 4,
  "language_info": {
   "name": "python",
   "version": "3.8.8",
   "mimetype": "text/x-python",
   "codemirror_mode": {
    "name": "ipython",
    "version": 3
   },
   "pygments_lexer": "ipython3",
   "nbconvert_exporter": "python",
   "file_extension": ".py"
  },
  "kernelspec": {
   "name": "python3",
   "display_name": "Python 3.8.8 64-bit ('.venv': poetry)"
  },
  "interpreter": {
   "hash": "49e542643694108dbc7cdf9f60531ad0f8dd36c5e7a125d96861557f43e4f65e"
  }
 },
 "nbformat": 4,
 "nbformat_minor": 2
}